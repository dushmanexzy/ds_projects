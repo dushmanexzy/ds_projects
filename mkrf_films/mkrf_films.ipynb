{
 "cells": [
  {
   "cell_type": "markdown",
   "metadata": {
    "id": "sIfNaMOxgFyK"
   },
   "source": [
    "# Исследование данных о российском кинопрокате"
   ]
  },
  {
   "cell_type": "markdown",
   "metadata": {},
   "source": [
    "## Изучение данных"
   ]
  },
  {
   "cell_type": "markdown",
   "metadata": {
    "id": "3bSlkCsbgFyL"
   },
   "source": [
    "### Откроем файлы с данными и объединим их в один датафрейм. \n",
    "\n",
    "Объединим данные таким образом, чтобы все объекты из датасета `mkrf_movies` обязательно вошли в получившийся датафрейм. \n",
    "\n",
    "<div id=\"accordion\">\n",
    "    <div class=\"card\">\n",
    "        <div class=\"card-header\" id=\"headingThree\">\n",
    "            <button class=\"btn btn-link collapsed\" data-toggle=\"collapse\" data-target=\"#collapseHint_0\" aria-expanded=\"false\" aria-controls=\"collapseHint_0\">Подсказка</button>\n",
    "        </div>\n",
    "        <div id=\"collapseHint_0\" class=\"collapse\" aria-labelledby=\"headingThree\" data-parent=\"#accordion\">\n",
    "            <div class=\"card-body\">\n",
    "Обратим внимание на тип данных столбца, по которому будем соединять датафреймы. Тип данных этих столбцов должен быть одинаковым в обоих датафреймах.\n",
    "            </div>\n",
    "        </div>\n",
    "    </div>\n",
    "</div>"
   ]
  },
  {
   "cell_type": "markdown",
   "metadata": {},
   "source": [
    "Импортируем необходимые для исследования библиотеки:"
   ]
  },
  {
   "cell_type": "code",
   "execution_count": 1,
   "metadata": {
    "id": "dw87FlzMgFyM"
   },
   "outputs": [],
   "source": [
    "import pandas as pd\n",
    "import numpy as np\n",
    "import seaborn as sns\n",
    "import matplotlib.pyplot as plt\n",
    "from pandas.plotting import scatter_matrix\n",
    "\n",
    "%matplotlib inline\n",
    "pd.set_option('display.float_format', '{:,.2f}'.format)"
   ]
  },
  {
   "cell_type": "markdown",
   "metadata": {},
   "source": [
    "Создадим датафреймы из данных: `df_movies` для данных о прокатных удостоверениях и `df_shows` для данных о прокате в российских кинотеатрах "
   ]
  },
  {
   "cell_type": "code",
   "execution_count": 2,
   "metadata": {},
   "outputs": [],
   "source": [
    "df_movies = pd.read_csv('/datasets/mkrf_movies.csv')\n",
    "df_shows = pd.read_csv('/datasets/mkrf_shows.csv')"
   ]
  },
  {
   "cell_type": "markdown",
   "metadata": {},
   "source": [
    "Посмотрим на подробную информацию, применив метод `info()` к каждому."
   ]
  },
  {
   "cell_type": "code",
   "execution_count": 3,
   "metadata": {},
   "outputs": [
    {
     "name": "stdout",
     "output_type": "stream",
     "text": [
      "<class 'pandas.core.frame.DataFrame'>\n",
      "RangeIndex: 7486 entries, 0 to 7485\n",
      "Data columns (total 15 columns):\n",
      "title                    7486 non-null object\n",
      "puNumber                 7486 non-null object\n",
      "show_start_date          7486 non-null object\n",
      "type                     7486 non-null object\n",
      "film_studio              7468 non-null object\n",
      "production_country       7484 non-null object\n",
      "director                 7477 non-null object\n",
      "producer                 6918 non-null object\n",
      "age_restriction          7486 non-null object\n",
      "refundable_support       332 non-null float64\n",
      "nonrefundable_support    332 non-null float64\n",
      "budget                   332 non-null float64\n",
      "financing_source         332 non-null object\n",
      "ratings                  6519 non-null object\n",
      "genres                   6510 non-null object\n",
      "dtypes: float64(3), object(12)\n",
      "memory usage: 877.4+ KB\n"
     ]
    }
   ],
   "source": [
    "df_movies.info()"
   ]
  },
  {
   "cell_type": "code",
   "execution_count": 4,
   "metadata": {},
   "outputs": [
    {
     "name": "stdout",
     "output_type": "stream",
     "text": [
      "<class 'pandas.core.frame.DataFrame'>\n",
      "RangeIndex: 3158 entries, 0 to 3157\n",
      "Data columns (total 2 columns):\n",
      "puNumber      3158 non-null int64\n",
      "box_office    3158 non-null float64\n",
      "dtypes: float64(1), int64(1)\n",
      "memory usage: 49.5 KB\n"
     ]
    }
   ],
   "source": [
    "df_shows.info()"
   ]
  },
  {
   "cell_type": "markdown",
   "metadata": {},
   "source": [
    "Нужно объединить обе таблицы в одну. Объединять будем по общему столбцу `puNumber`. Для слияния необходимо, чтобы тип данных этого столбца был одинаковым в обеих таблицах. Для начала проверим тип данных в каждой."
   ]
  },
  {
   "cell_type": "code",
   "execution_count": 5,
   "metadata": {},
   "outputs": [
    {
     "data": {
      "text/plain": [
       "(dtype('O'), dtype('int64'))"
      ]
     },
     "execution_count": 5,
     "metadata": {},
     "output_type": "execute_result"
    }
   ],
   "source": [
    "df_movies['puNumber'].dtypes, \\\n",
    "df_shows['puNumber'].dtypes"
   ]
  },
  {
   "cell_type": "markdown",
   "metadata": {},
   "source": [
    "Видим, что типы данных отличаются: в таблице `df_movies` - объект, который является строкой, а в `df_shows` - целое число. Посмотрим на строки:"
   ]
  },
  {
   "cell_type": "code",
   "execution_count": 6,
   "metadata": {},
   "outputs": [
    {
     "data": {
      "text/plain": [
       "array([' 111004112', '111000110', '111000111', ..., '231001012',\n",
       "       '231001111', 'нет'], dtype=object)"
      ]
     },
     "execution_count": 6,
     "metadata": {},
     "output_type": "execute_result"
    }
   ],
   "source": [
    "df_movies['puNumber'].sort_values().unique()"
   ]
  },
  {
   "cell_type": "markdown",
   "metadata": {},
   "source": [
    "Видим, что все номера в виде строк, но есть значения \"нет\". Посмотрим на них подробнее:"
   ]
  },
  {
   "cell_type": "code",
   "execution_count": 7,
   "metadata": {},
   "outputs": [
    {
     "data": {
      "text/plain": [
       "1797    нет\n",
       "Name: puNumber, dtype: object"
      ]
     },
     "execution_count": 7,
     "metadata": {},
     "output_type": "execute_result"
    }
   ],
   "source": [
    "df_movies[df_movies['puNumber'] == 'нет']['puNumber']"
   ]
  },
  {
   "cell_type": "markdown",
   "metadata": {},
   "source": [
    "Видим, что в таблице только 1 строка, в столбце `puNumber` которой есть значение \"нет\". Заменим его на пропуск с помощью `to_numeric` и `errors='coerce'`."
   ]
  },
  {
   "cell_type": "code",
   "execution_count": 8,
   "metadata": {},
   "outputs": [],
   "source": [
    "df_movies.loc[1797, 'puNumber'] = pd.to_numeric(df_movies.loc[1797, 'puNumber'], errors='coerce')"
   ]
  },
  {
   "cell_type": "code",
   "execution_count": 9,
   "metadata": {},
   "outputs": [
    {
     "data": {
      "text/plain": [
       "nan"
      ]
     },
     "execution_count": 9,
     "metadata": {},
     "output_type": "execute_result"
    }
   ],
   "source": [
    "df_movies.loc[1797, 'puNumber']"
   ]
  },
  {
   "cell_type": "code",
   "execution_count": 10,
   "metadata": {},
   "outputs": [
    {
     "data": {
      "text/plain": [
       "array([' 111004112', '111000110', '111000111', ..., '231001012',\n",
       "       '231001111', nan], dtype=object)"
      ]
     },
     "execution_count": 10,
     "metadata": {},
     "output_type": "execute_result"
    }
   ],
   "source": [
    "# проверка\n",
    "df_movies['puNumber'].sort_values().unique()"
   ]
  },
  {
   "cell_type": "markdown",
   "metadata": {},
   "source": [
    "Так как пропуск NaN нельзя перевести в целое число, то приведем столбец в обеих таблицах к типу данных `float64`."
   ]
  },
  {
   "cell_type": "code",
   "execution_count": 11,
   "metadata": {},
   "outputs": [],
   "source": [
    "df_movies['puNumber'] = df_movies['puNumber'].astype('float64')\n",
    "df_shows['puNumber'] = df_shows['puNumber'].astype('float64')"
   ]
  },
  {
   "cell_type": "code",
   "execution_count": 12,
   "metadata": {},
   "outputs": [
    {
     "data": {
      "text/plain": [
       "(dtype('float64'), dtype('float64'))"
      ]
     },
     "execution_count": 12,
     "metadata": {},
     "output_type": "execute_result"
    }
   ],
   "source": [
    "# проверка\n",
    "df_movies['puNumber'].dtypes, \\\n",
    "df_shows['puNumber'].dtypes"
   ]
  },
  {
   "cell_type": "markdown",
   "metadata": {},
   "source": [
    "После проверки видно, что типы данных теперь совпадают. Можем приступить к объединению таблиц."
   ]
  },
  {
   "cell_type": "code",
   "execution_count": 13,
   "metadata": {},
   "outputs": [],
   "source": [
    "df = df_movies.merge(df_shows, on='puNumber', how='left')"
   ]
  },
  {
   "cell_type": "markdown",
   "metadata": {},
   "source": [
    "Теперь рассмотрим получившийся датафрейм более детально:"
   ]
  },
  {
   "cell_type": "code",
   "execution_count": 14,
   "metadata": {},
   "outputs": [
    {
     "name": "stdout",
     "output_type": "stream",
     "text": [
      "<class 'pandas.core.frame.DataFrame'>\n",
      "Int64Index: 7486 entries, 0 to 7485\n",
      "Data columns (total 16 columns):\n",
      "title                    7486 non-null object\n",
      "puNumber                 7485 non-null float64\n",
      "show_start_date          7486 non-null object\n",
      "type                     7486 non-null object\n",
      "film_studio              7468 non-null object\n",
      "production_country       7484 non-null object\n",
      "director                 7477 non-null object\n",
      "producer                 6918 non-null object\n",
      "age_restriction          7486 non-null object\n",
      "refundable_support       332 non-null float64\n",
      "nonrefundable_support    332 non-null float64\n",
      "budget                   332 non-null float64\n",
      "financing_source         332 non-null object\n",
      "ratings                  6519 non-null object\n",
      "genres                   6510 non-null object\n",
      "box_office               3158 non-null float64\n",
      "dtypes: float64(5), object(11)\n",
      "memory usage: 994.2+ KB\n"
     ]
    }
   ],
   "source": [
    "df.info()"
   ]
  },
  {
   "cell_type": "code",
   "execution_count": 15,
   "metadata": {},
   "outputs": [
    {
     "data": {
      "text/html": [
       "<div>\n",
       "<style scoped>\n",
       "    .dataframe tbody tr th:only-of-type {\n",
       "        vertical-align: middle;\n",
       "    }\n",
       "\n",
       "    .dataframe tbody tr th {\n",
       "        vertical-align: top;\n",
       "    }\n",
       "\n",
       "    .dataframe thead th {\n",
       "        text-align: right;\n",
       "    }\n",
       "</style>\n",
       "<table border=\"1\" class=\"dataframe\">\n",
       "  <thead>\n",
       "    <tr style=\"text-align: right;\">\n",
       "      <th></th>\n",
       "      <th>puNumber</th>\n",
       "      <th>refundable_support</th>\n",
       "      <th>nonrefundable_support</th>\n",
       "      <th>budget</th>\n",
       "      <th>box_office</th>\n",
       "    </tr>\n",
       "  </thead>\n",
       "  <tbody>\n",
       "    <tr>\n",
       "      <td>count</td>\n",
       "      <td>7,485.00</td>\n",
       "      <td>332.00</td>\n",
       "      <td>332.00</td>\n",
       "      <td>332.00</td>\n",
       "      <td>3,158.00</td>\n",
       "    </tr>\n",
       "    <tr>\n",
       "      <td>mean</td>\n",
       "      <td>135,196,587.56</td>\n",
       "      <td>11,864,457.83</td>\n",
       "      <td>48,980,988.89</td>\n",
       "      <td>127,229,716.68</td>\n",
       "      <td>76,478,696.16</td>\n",
       "    </tr>\n",
       "    <tr>\n",
       "      <td>std</td>\n",
       "      <td>38,352,919.34</td>\n",
       "      <td>24,916,555.26</td>\n",
       "      <td>59,980,117.92</td>\n",
       "      <td>188,588,333.12</td>\n",
       "      <td>240,353,122.82</td>\n",
       "    </tr>\n",
       "    <tr>\n",
       "      <td>min</td>\n",
       "      <td>1,811,096.00</td>\n",
       "      <td>0.00</td>\n",
       "      <td>0.00</td>\n",
       "      <td>0.00</td>\n",
       "      <td>0.00</td>\n",
       "    </tr>\n",
       "    <tr>\n",
       "      <td>25%</td>\n",
       "      <td>112,025,118.00</td>\n",
       "      <td>0.00</td>\n",
       "      <td>25,000,000.00</td>\n",
       "      <td>42,000,000.00</td>\n",
       "      <td>86,239.00</td>\n",
       "    </tr>\n",
       "    <tr>\n",
       "      <td>50%</td>\n",
       "      <td>121,015,510.00</td>\n",
       "      <td>0.00</td>\n",
       "      <td>30,000,000.00</td>\n",
       "      <td>68,649,916.00</td>\n",
       "      <td>2,327,987.55</td>\n",
       "    </tr>\n",
       "    <tr>\n",
       "      <td>75%</td>\n",
       "      <td>124,003,314.00</td>\n",
       "      <td>15,000,000.00</td>\n",
       "      <td>40,375,000.00</td>\n",
       "      <td>141,985,319.50</td>\n",
       "      <td>23,979,671.02</td>\n",
       "    </tr>\n",
       "    <tr>\n",
       "      <td>max</td>\n",
       "      <td>231,001,111.00</td>\n",
       "      <td>180,000,000.00</td>\n",
       "      <td>400,000,000.00</td>\n",
       "      <td>2,305,074,303.00</td>\n",
       "      <td>3,073,568,690.79</td>\n",
       "    </tr>\n",
       "  </tbody>\n",
       "</table>\n",
       "</div>"
      ],
      "text/plain": [
       "            puNumber  refundable_support  nonrefundable_support  \\\n",
       "count       7,485.00              332.00                 332.00   \n",
       "mean  135,196,587.56       11,864,457.83          48,980,988.89   \n",
       "std    38,352,919.34       24,916,555.26          59,980,117.92   \n",
       "min     1,811,096.00                0.00                   0.00   \n",
       "25%   112,025,118.00                0.00          25,000,000.00   \n",
       "50%   121,015,510.00                0.00          30,000,000.00   \n",
       "75%   124,003,314.00       15,000,000.00          40,375,000.00   \n",
       "max   231,001,111.00      180,000,000.00         400,000,000.00   \n",
       "\n",
       "                budget       box_office  \n",
       "count           332.00         3,158.00  \n",
       "mean    127,229,716.68    76,478,696.16  \n",
       "std     188,588,333.12   240,353,122.82  \n",
       "min               0.00             0.00  \n",
       "25%      42,000,000.00        86,239.00  \n",
       "50%      68,649,916.00     2,327,987.55  \n",
       "75%     141,985,319.50    23,979,671.02  \n",
       "max   2,305,074,303.00 3,073,568,690.79  "
      ]
     },
     "execution_count": 15,
     "metadata": {},
     "output_type": "execute_result"
    }
   ],
   "source": [
    "df.describe()"
   ]
  },
  {
   "cell_type": "code",
   "execution_count": 16,
   "metadata": {},
   "outputs": [
    {
     "data": {
      "text/plain": [
       "Index(['title', 'puNumber', 'show_start_date', 'type', 'film_studio',\n",
       "       'production_country', 'director', 'producer', 'age_restriction',\n",
       "       'refundable_support', 'nonrefundable_support', 'budget',\n",
       "       'financing_source', 'ratings', 'genres', 'box_office'],\n",
       "      dtype='object')"
      ]
     },
     "execution_count": 16,
     "metadata": {},
     "output_type": "execute_result"
    }
   ],
   "source": [
    "df.columns"
   ]
  },
  {
   "cell_type": "markdown",
   "metadata": {},
   "source": [
    "### Вывод\n",
    "\n",
    "По итогу мы открыли оба файла с данными и через общий столбец `puNumber` объединили в один датафрейм.\n",
    "\n",
    "В таблице 16 столбцов. Типы данных:\n",
    "- `float64` - 5 столбцов;\n",
    "- `object` - 11 столбцов.\n",
    "\n",
    "Согласно документации к данным:\n",
    "Таблица `mkrf_movies` содержит информацию из реестра прокатных удостоверений. У одного фильма может быть несколько прокатных удостоверений.\n",
    "\n",
    "- `title` - название фильма;\n",
    "- `puNumber` — номер прокатного удостоверения;\n",
    "- `show_start_date` — дата премьеры фильма;\n",
    "- `type` — тип фильма;\n",
    "- `film_studio` — студия-производитель;\n",
    "- `production_country` — страна-производитель;\n",
    "- `director` — режиссёр;\n",
    "- `producer` — продюсер;\n",
    "- `age_restriction` — возрастная категория;\n",
    "- `refundable_support` — объём возвратных средств государственной поддержки;\n",
    "- `nonrefundable_support` — объём невозвратных средств государственной поддержки;\n",
    "- `financing_source` — источник государственного финансирования;\n",
    "- `budget` — общий бюджет фильма;\n",
    "- `ratings` — рейтинг фильма на КиноПоиске;\n",
    "- `genres` — жанр фильма.\n",
    "\n",
    "Столбец `budget` уже включает в себя полный объём государственной поддержки. Данные в этом столбце указаны только для тех фильмов, которые получили государственную поддержку.\n",
    "\n",
    "Таблица `mkrf_shows` содержит сведения о показах фильмов в российских кинотеатрах.\n",
    "\n",
    "- `puNumber` — номер прокатного удостоверения;\n",
    "- `box_office` — сборы в рублях.\n",
    "\n",
    "В названиях колонок поменяем `puNumber` на `pu_number`.\n",
    "\n",
    "Количество значений в столбцах отличается, значит имеются пропуски.\n",
    "\n",
    "Так же нужно будет проверить столбец `ratings`, потому что его тип данных - строковый, а рейтинг лучше в вещественном типе данных.\n",
    "\n",
    "Предварительно, данных для исследования хватает. Однако сначала нужно устранить пропуски и типы данных."
   ]
  },
  {
   "cell_type": "markdown",
   "metadata": {
    "id": "KLDGpPG0gFyM"
   },
   "source": [
    "### Предобработка данных"
   ]
  },
  {
   "cell_type": "markdown",
   "metadata": {},
   "source": [
    "Для начала заменим название колонки `puNumber` на `pu_number`:"
   ]
  },
  {
   "cell_type": "code",
   "execution_count": 17,
   "metadata": {},
   "outputs": [],
   "source": [
    "df = df.rename(columns={'puNumber' : 'pu_number'})"
   ]
  },
  {
   "cell_type": "code",
   "execution_count": 18,
   "metadata": {},
   "outputs": [
    {
     "data": {
      "text/plain": [
       "Index(['title', 'pu_number', 'show_start_date', 'type', 'film_studio',\n",
       "       'production_country', 'director', 'producer', 'age_restriction',\n",
       "       'refundable_support', 'nonrefundable_support', 'budget',\n",
       "       'financing_source', 'ratings', 'genres', 'box_office'],\n",
       "      dtype='object')"
      ]
     },
     "execution_count": 18,
     "metadata": {},
     "output_type": "execute_result"
    }
   ],
   "source": [
    "# проверка\n",
    "df.columns"
   ]
  },
  {
   "cell_type": "markdown",
   "metadata": {
    "id": "ssWwKXsxgFyO"
   },
   "source": [
    "#### Проверим типы данных\n",
    "\n",
    "- Проверим типы данных в датафрейме и преобразуем."
   ]
  },
  {
   "cell_type": "code",
   "execution_count": 19,
   "metadata": {
    "id": "kVGSplJOgFyO",
    "scrolled": false
   },
   "outputs": [
    {
     "data": {
      "text/plain": [
       "title                     object\n",
       "pu_number                float64\n",
       "show_start_date           object\n",
       "type                      object\n",
       "film_studio               object\n",
       "production_country        object\n",
       "director                  object\n",
       "producer                  object\n",
       "age_restriction           object\n",
       "refundable_support       float64\n",
       "nonrefundable_support    float64\n",
       "budget                   float64\n",
       "financing_source          object\n",
       "ratings                   object\n",
       "genres                    object\n",
       "box_office               float64\n",
       "dtype: object"
      ]
     },
     "execution_count": 19,
     "metadata": {},
     "output_type": "execute_result"
    }
   ],
   "source": [
    "df.dtypes"
   ]
  },
  {
   "cell_type": "markdown",
   "metadata": {},
   "source": [
    "Переведем тип данных столбца `show_start_date` в `datetime`."
   ]
  },
  {
   "cell_type": "code",
   "execution_count": 20,
   "metadata": {},
   "outputs": [],
   "source": [
    "df['show_start_date'] = pd.to_datetime(df['show_start_date']).dt.date"
   ]
  },
  {
   "cell_type": "code",
   "execution_count": 21,
   "metadata": {},
   "outputs": [
    {
     "data": {
      "text/plain": [
       "0    2015-11-27\n",
       "1    2016-09-13\n",
       "2    2016-10-10\n",
       "3    2016-06-10\n",
       "4    2015-07-29\n",
       "Name: show_start_date, dtype: object"
      ]
     },
     "execution_count": 21,
     "metadata": {},
     "output_type": "execute_result"
    }
   ],
   "source": [
    "# проверка\n",
    "df['show_start_date'].head()"
   ]
  },
  {
   "cell_type": "markdown",
   "metadata": {},
   "source": [
    "Так же нужно изменить тип данных `pu_number` и `ratings`, но сначала необходимо проанализировать пропуски."
   ]
  },
  {
   "cell_type": "markdown",
   "metadata": {
    "id": "i0MOLbF-gFyP"
   },
   "source": [
    "#### Изучим пропуски в датафрейме"
   ]
  },
  {
   "cell_type": "code",
   "execution_count": 22,
   "metadata": {
    "id": "8MJD_lkngFyP",
    "scrolled": true
   },
   "outputs": [
    {
     "data": {
      "text/plain": [
       "title                       0\n",
       "pu_number                   1\n",
       "show_start_date             0\n",
       "type                        0\n",
       "film_studio                18\n",
       "production_country          2\n",
       "director                    9\n",
       "producer                  568\n",
       "age_restriction             0\n",
       "refundable_support       7154\n",
       "nonrefundable_support    7154\n",
       "budget                   7154\n",
       "financing_source         7154\n",
       "ratings                   967\n",
       "genres                    976\n",
       "box_office               4328\n",
       "dtype: int64"
      ]
     },
     "execution_count": 22,
     "metadata": {},
     "output_type": "execute_result"
    }
   ],
   "source": [
    "df.isna().sum()"
   ]
  },
  {
   "cell_type": "markdown",
   "metadata": {},
   "source": [
    "#####  `pu_number`"
   ]
  },
  {
   "cell_type": "markdown",
   "metadata": {},
   "source": [
    "В этом столбце только одно пропущенное значение. Посмотрим на строку подробнее."
   ]
  },
  {
   "cell_type": "code",
   "execution_count": 23,
   "metadata": {},
   "outputs": [
    {
     "data": {
      "text/html": [
       "<div>\n",
       "<style scoped>\n",
       "    .dataframe tbody tr th:only-of-type {\n",
       "        vertical-align: middle;\n",
       "    }\n",
       "\n",
       "    .dataframe tbody tr th {\n",
       "        vertical-align: top;\n",
       "    }\n",
       "\n",
       "    .dataframe thead th {\n",
       "        text-align: right;\n",
       "    }\n",
       "</style>\n",
       "<table border=\"1\" class=\"dataframe\">\n",
       "  <thead>\n",
       "    <tr style=\"text-align: right;\">\n",
       "      <th></th>\n",
       "      <th>title</th>\n",
       "      <th>pu_number</th>\n",
       "      <th>show_start_date</th>\n",
       "      <th>type</th>\n",
       "      <th>film_studio</th>\n",
       "      <th>production_country</th>\n",
       "      <th>director</th>\n",
       "      <th>producer</th>\n",
       "      <th>age_restriction</th>\n",
       "      <th>refundable_support</th>\n",
       "      <th>nonrefundable_support</th>\n",
       "      <th>budget</th>\n",
       "      <th>financing_source</th>\n",
       "      <th>ratings</th>\n",
       "      <th>genres</th>\n",
       "      <th>box_office</th>\n",
       "    </tr>\n",
       "  </thead>\n",
       "  <tbody>\n",
       "    <tr>\n",
       "      <td>1797</td>\n",
       "      <td>Курбан-роман. (История с жертвой)</td>\n",
       "      <td>nan</td>\n",
       "      <td>2014-05-15</td>\n",
       "      <td>Художественный</td>\n",
       "      <td>ФОНД \"ИННОВАЦИЯ\"</td>\n",
       "      <td>Россия</td>\n",
       "      <td>С.Юзеев</td>\n",
       "      <td>М.Галицкая</td>\n",
       "      <td>«12+» - для детей старше 12 лет</td>\n",
       "      <td>nan</td>\n",
       "      <td>nan</td>\n",
       "      <td>nan</td>\n",
       "      <td>NaN</td>\n",
       "      <td>NaN</td>\n",
       "      <td>NaN</td>\n",
       "      <td>nan</td>\n",
       "    </tr>\n",
       "  </tbody>\n",
       "</table>\n",
       "</div>"
      ],
      "text/plain": [
       "                                  title  pu_number show_start_date  \\\n",
       "1797  Курбан-роман. (История с жертвой)        nan      2014-05-15   \n",
       "\n",
       "                type       film_studio production_country director  \\\n",
       "1797  Художественный  ФОНД \"ИННОВАЦИЯ\"             Россия  С.Юзеев   \n",
       "\n",
       "        producer                  age_restriction  refundable_support  \\\n",
       "1797  М.Галицкая  «12+» - для детей старше 12 лет                 nan   \n",
       "\n",
       "      nonrefundable_support  budget financing_source ratings genres  \\\n",
       "1797                    nan     nan              NaN     NaN    NaN   \n",
       "\n",
       "      box_office  \n",
       "1797         nan  "
      ]
     },
     "execution_count": 23,
     "metadata": {},
     "output_type": "execute_result"
    }
   ],
   "source": [
    "df[df['pu_number'].isna()]"
   ]
  },
  {
   "cell_type": "markdown",
   "metadata": {},
   "source": [
    "Половина данных этой строки с пропусками, в том числе и в рассматриваемом столбце. Удалим эту неинформативную строку."
   ]
  },
  {
   "cell_type": "code",
   "execution_count": 24,
   "metadata": {},
   "outputs": [],
   "source": [
    "df.dropna(subset=['pu_number'], inplace=True)"
   ]
  },
  {
   "cell_type": "code",
   "execution_count": 25,
   "metadata": {},
   "outputs": [
    {
     "data": {
      "text/plain": [
       "0"
      ]
     },
     "execution_count": 25,
     "metadata": {},
     "output_type": "execute_result"
    }
   ],
   "source": [
    "# проверка\n",
    "df['pu_number'].isna().sum()"
   ]
  },
  {
   "cell_type": "markdown",
   "metadata": {},
   "source": [
    "Теперь можно перевести в тип данных `int64`."
   ]
  },
  {
   "cell_type": "code",
   "execution_count": 26,
   "metadata": {},
   "outputs": [],
   "source": [
    "df['pu_number'] = df['pu_number'].astype('int64')"
   ]
  },
  {
   "cell_type": "code",
   "execution_count": 27,
   "metadata": {},
   "outputs": [
    {
     "data": {
      "text/plain": [
       "dtype('int64')"
      ]
     },
     "execution_count": 27,
     "metadata": {},
     "output_type": "execute_result"
    }
   ],
   "source": [
    "# проверка\n",
    "df['pu_number'].dtypes"
   ]
  },
  {
   "cell_type": "markdown",
   "metadata": {},
   "source": [
    "#####  `film_studio`"
   ]
  },
  {
   "cell_type": "code",
   "execution_count": 28,
   "metadata": {},
   "outputs": [
    {
     "data": {
      "text/plain": [
       "18"
      ]
     },
     "execution_count": 28,
     "metadata": {},
     "output_type": "execute_result"
    }
   ],
   "source": [
    "df['film_studio'].isna().sum()"
   ]
  },
  {
   "cell_type": "code",
   "execution_count": 29,
   "metadata": {},
   "outputs": [
    {
     "data": {
      "text/plain": [
       "Россия                 16\n",
       "США, Великобритания     1\n",
       "Name: production_country, dtype: int64"
      ]
     },
     "execution_count": 29,
     "metadata": {},
     "output_type": "execute_result"
    }
   ],
   "source": [
    "df[df['film_studio'].isna()]['production_country'].value_counts()"
   ]
  },
  {
   "cell_type": "markdown",
   "metadata": {},
   "source": [
    "Большая часть пропусков - студии России. При этом пропуски составляют 0.23%, поэтому строки с пропусками можно убрать."
   ]
  },
  {
   "cell_type": "code",
   "execution_count": 30,
   "metadata": {},
   "outputs": [],
   "source": [
    "df.dropna(subset=['film_studio'], inplace=True)"
   ]
  },
  {
   "cell_type": "code",
   "execution_count": 31,
   "metadata": {},
   "outputs": [
    {
     "data": {
      "text/plain": [
       "0"
      ]
     },
     "execution_count": 31,
     "metadata": {},
     "output_type": "execute_result"
    }
   ],
   "source": [
    "# проверка\n",
    "df['film_studio'].isna().sum()"
   ]
  },
  {
   "cell_type": "markdown",
   "metadata": {},
   "source": [
    "#####  `production_country`"
   ]
  },
  {
   "cell_type": "code",
   "execution_count": 32,
   "metadata": {},
   "outputs": [
    {
     "data": {
      "text/plain": [
       "1"
      ]
     },
     "execution_count": 32,
     "metadata": {},
     "output_type": "execute_result"
    }
   ],
   "source": [
    "df['production_country'].isna().sum()"
   ]
  },
  {
   "cell_type": "markdown",
   "metadata": {},
   "source": [
    "В этом столбце тоже только одно пропущенное значение. Удалим."
   ]
  },
  {
   "cell_type": "code",
   "execution_count": 33,
   "metadata": {},
   "outputs": [],
   "source": [
    "df.dropna(subset=['production_country'], inplace=True)"
   ]
  },
  {
   "cell_type": "code",
   "execution_count": 34,
   "metadata": {},
   "outputs": [
    {
     "data": {
      "text/plain": [
       "0"
      ]
     },
     "execution_count": 34,
     "metadata": {},
     "output_type": "execute_result"
    }
   ],
   "source": [
    "# проверка\n",
    "df['production_country'].isna().sum()"
   ]
  },
  {
   "cell_type": "markdown",
   "metadata": {},
   "source": [
    "#####  `director`"
   ]
  },
  {
   "cell_type": "code",
   "execution_count": 35,
   "metadata": {},
   "outputs": [
    {
     "data": {
      "text/plain": [
       "8"
      ]
     },
     "execution_count": 35,
     "metadata": {},
     "output_type": "execute_result"
    }
   ],
   "source": [
    "df['director'].isna().sum()"
   ]
  },
  {
   "cell_type": "code",
   "execution_count": 36,
   "metadata": {},
   "outputs": [
    {
     "data": {
      "text/html": [
       "<div>\n",
       "<style scoped>\n",
       "    .dataframe tbody tr th:only-of-type {\n",
       "        vertical-align: middle;\n",
       "    }\n",
       "\n",
       "    .dataframe tbody tr th {\n",
       "        vertical-align: top;\n",
       "    }\n",
       "\n",
       "    .dataframe thead th {\n",
       "        text-align: right;\n",
       "    }\n",
       "</style>\n",
       "<table border=\"1\" class=\"dataframe\">\n",
       "  <thead>\n",
       "    <tr style=\"text-align: right;\">\n",
       "      <th></th>\n",
       "      <th>title</th>\n",
       "      <th>pu_number</th>\n",
       "      <th>show_start_date</th>\n",
       "      <th>type</th>\n",
       "      <th>film_studio</th>\n",
       "      <th>production_country</th>\n",
       "      <th>director</th>\n",
       "      <th>producer</th>\n",
       "      <th>age_restriction</th>\n",
       "      <th>refundable_support</th>\n",
       "      <th>nonrefundable_support</th>\n",
       "      <th>budget</th>\n",
       "      <th>financing_source</th>\n",
       "      <th>ratings</th>\n",
       "      <th>genres</th>\n",
       "      <th>box_office</th>\n",
       "    </tr>\n",
       "  </thead>\n",
       "  <tbody>\n",
       "    <tr>\n",
       "      <td>764</td>\n",
       "      <td>Три звезды. Концерт в Waldbuhne Theater, Берли...</td>\n",
       "      <td>126003512</td>\n",
       "      <td>2012-12-04</td>\n",
       "      <td>Прочие</td>\n",
       "      <td>Райзинг Алтернатив</td>\n",
       "      <td>Великобритания</td>\n",
       "      <td>NaN</td>\n",
       "      <td>Вальдбюне Театр</td>\n",
       "      <td>«0+» - для любой зрительской аудитории</td>\n",
       "      <td>nan</td>\n",
       "      <td>nan</td>\n",
       "      <td>nan</td>\n",
       "      <td>NaN</td>\n",
       "      <td>NaN</td>\n",
       "      <td>NaN</td>\n",
       "      <td>44,350.00</td>\n",
       "    </tr>\n",
       "    <tr>\n",
       "      <td>1735</td>\n",
       "      <td>Помпеи. Британский музей</td>\n",
       "      <td>126003413</td>\n",
       "      <td>2013-09-11</td>\n",
       "      <td>Прочие</td>\n",
       "      <td>МортуСкрин, Британский музей</td>\n",
       "      <td>Великобритания</td>\n",
       "      <td>NaN</td>\n",
       "      <td>Британский музей</td>\n",
       "      <td>«0+» - для любой зрительской аудитории</td>\n",
       "      <td>nan</td>\n",
       "      <td>nan</td>\n",
       "      <td>nan</td>\n",
       "      <td>NaN</td>\n",
       "      <td>NaN</td>\n",
       "      <td>NaN</td>\n",
       "      <td>nan</td>\n",
       "    </tr>\n",
       "    <tr>\n",
       "      <td>3840</td>\n",
       "      <td>Зур концерт (Большой концерт).</td>\n",
       "      <td>217027010</td>\n",
       "      <td>2010-06-24</td>\n",
       "      <td>Художественный</td>\n",
       "      <td>ООО \"Барс Рекордс\"</td>\n",
       "      <td>Россия</td>\n",
       "      <td>NaN</td>\n",
       "      <td>NaN</td>\n",
       "      <td>«12+» - для детей старше 12 лет</td>\n",
       "      <td>nan</td>\n",
       "      <td>nan</td>\n",
       "      <td>nan</td>\n",
       "      <td>NaN</td>\n",
       "      <td>NaN</td>\n",
       "      <td>NaN</td>\n",
       "      <td>nan</td>\n",
       "    </tr>\n",
       "    <tr>\n",
       "      <td>4052</td>\n",
       "      <td>Ганс Сэйфуллин \"Авылым чишмэлэре. Ганс Сэйфулл...</td>\n",
       "      <td>217017310</td>\n",
       "      <td>2010-04-22</td>\n",
       "      <td>Художественный</td>\n",
       "      <td>ООО \"Барс-Рекордс\"</td>\n",
       "      <td>Россия</td>\n",
       "      <td>NaN</td>\n",
       "      <td>NaN</td>\n",
       "      <td>«0+» - для любой зрительской аудитории</td>\n",
       "      <td>nan</td>\n",
       "      <td>nan</td>\n",
       "      <td>nan</td>\n",
       "      <td>NaN</td>\n",
       "      <td>NaN</td>\n",
       "      <td>NaN</td>\n",
       "      <td>nan</td>\n",
       "    </tr>\n",
       "    <tr>\n",
       "      <td>4298</td>\n",
       "      <td>Изге Вэли (Святой Валентин)</td>\n",
       "      <td>217020610</td>\n",
       "      <td>2010-05-20</td>\n",
       "      <td>Художественный</td>\n",
       "      <td>ООО \"Барс Рекордс\"</td>\n",
       "      <td>Россия</td>\n",
       "      <td>NaN</td>\n",
       "      <td>NaN</td>\n",
       "      <td>«12+» - для детей старше 12 лет</td>\n",
       "      <td>nan</td>\n",
       "      <td>nan</td>\n",
       "      <td>nan</td>\n",
       "      <td>NaN</td>\n",
       "      <td>NaN</td>\n",
       "      <td>NaN</td>\n",
       "      <td>nan</td>\n",
       "    </tr>\n",
       "  </tbody>\n",
       "</table>\n",
       "</div>"
      ],
      "text/plain": [
       "                                                  title  pu_number  \\\n",
       "764   Три звезды. Концерт в Waldbuhne Theater, Берли...  126003512   \n",
       "1735                           Помпеи. Британский музей  126003413   \n",
       "3840                     Зур концерт (Большой концерт).  217027010   \n",
       "4052  Ганс Сэйфуллин \"Авылым чишмэлэре. Ганс Сэйфулл...  217017310   \n",
       "4298                        Изге Вэли (Святой Валентин)  217020610   \n",
       "\n",
       "     show_start_date            type                   film_studio  \\\n",
       "764       2012-12-04          Прочие            Райзинг Алтернатив   \n",
       "1735      2013-09-11          Прочие  МортуСкрин, Британский музей   \n",
       "3840      2010-06-24  Художественный            ООО \"Барс Рекордс\"   \n",
       "4052      2010-04-22  Художественный            ООО \"Барс-Рекордс\"   \n",
       "4298      2010-05-20  Художественный            ООО \"Барс Рекордс\"   \n",
       "\n",
       "     production_country director          producer  \\\n",
       "764      Великобритания      NaN   Вальдбюне Театр   \n",
       "1735     Великобритания      NaN  Британский музей   \n",
       "3840             Россия      NaN               NaN   \n",
       "4052             Россия      NaN               NaN   \n",
       "4298             Россия      NaN               NaN   \n",
       "\n",
       "                             age_restriction  refundable_support  \\\n",
       "764   «0+» - для любой зрительской аудитории                 nan   \n",
       "1735  «0+» - для любой зрительской аудитории                 nan   \n",
       "3840         «12+» - для детей старше 12 лет                 nan   \n",
       "4052  «0+» - для любой зрительской аудитории                 nan   \n",
       "4298         «12+» - для детей старше 12 лет                 nan   \n",
       "\n",
       "      nonrefundable_support  budget financing_source ratings genres  \\\n",
       "764                     nan     nan              NaN     NaN    NaN   \n",
       "1735                    nan     nan              NaN     NaN    NaN   \n",
       "3840                    nan     nan              NaN     NaN    NaN   \n",
       "4052                    nan     nan              NaN     NaN    NaN   \n",
       "4298                    nan     nan              NaN     NaN    NaN   \n",
       "\n",
       "      box_office  \n",
       "764    44,350.00  \n",
       "1735         nan  \n",
       "3840         nan  \n",
       "4052         nan  \n",
       "4298         nan  "
      ]
     },
     "execution_count": 36,
     "metadata": {},
     "output_type": "execute_result"
    }
   ],
   "source": [
    "df[(df['director'].isna())].head()"
   ]
  },
  {
   "cell_type": "markdown",
   "metadata": {},
   "source": [
    "Примечательно, что все пропуски в этой колонке относятся к теартам, оркестрам, концертам, музеям и тп. К фильмам отношения не имеют, поэтому можем убрать."
   ]
  },
  {
   "cell_type": "code",
   "execution_count": 37,
   "metadata": {},
   "outputs": [],
   "source": [
    "df.dropna(subset=['director'], inplace=True)"
   ]
  },
  {
   "cell_type": "code",
   "execution_count": 38,
   "metadata": {},
   "outputs": [
    {
     "data": {
      "text/plain": [
       "0"
      ]
     },
     "execution_count": 38,
     "metadata": {},
     "output_type": "execute_result"
    }
   ],
   "source": [
    "# проверка\n",
    "df['director'].isna().sum()"
   ]
  },
  {
   "cell_type": "markdown",
   "metadata": {},
   "source": [
    "#####  `producer`"
   ]
  },
  {
   "cell_type": "code",
   "execution_count": 39,
   "metadata": {},
   "outputs": [
    {
     "data": {
      "text/plain": [
       "564"
      ]
     },
     "execution_count": 39,
     "metadata": {},
     "output_type": "execute_result"
    }
   ],
   "source": [
    "df['producer'].isna().sum()"
   ]
  },
  {
   "cell_type": "code",
   "execution_count": 40,
   "metadata": {},
   "outputs": [
    {
     "data": {
      "text/plain": [
       "array([nan, 'ФГУП \"Киноконцерн \"Мосфильм\"'], dtype=object)"
      ]
     },
     "execution_count": 40,
     "metadata": {},
     "output_type": "execute_result"
    }
   ],
   "source": [
    "df[df['film_studio'] == 'Киностудия \"Мосфильм\"']['producer'].unique()"
   ]
  },
  {
   "cell_type": "code",
   "execution_count": 41,
   "metadata": {},
   "outputs": [
    {
     "data": {
      "text/plain": [
       "array(['СССР', 'СССР  ', 'СССР ', ' СССР ', 'СССР   ', ' СССР   ',\n",
       "       'СССР     ', 'СССР    ', ' СССР'], dtype=object)"
      ]
     },
     "execution_count": 41,
     "metadata": {},
     "output_type": "execute_result"
    }
   ],
   "source": [
    "df[df['film_studio'] == 'Киностудия \"Мосфильм\"']['production_country'].unique()"
   ]
  },
  {
   "cell_type": "markdown",
   "metadata": {},
   "source": [
    "Практически все пропуски от киностудии Мосфильм и все от СССР. При этом видим, что уникальные значения одного и того же \"СССР\" отличаются наличием пробелов. Сразу же исправим этот момент - воспользуемся `str.strip`."
   ]
  },
  {
   "cell_type": "code",
   "execution_count": 42,
   "metadata": {},
   "outputs": [],
   "source": [
    "df['production_country'] = df['production_country'].str.strip()"
   ]
  },
  {
   "cell_type": "code",
   "execution_count": 43,
   "metadata": {},
   "outputs": [
    {
     "data": {
      "text/plain": [
       "array(['СССР'], dtype=object)"
      ]
     },
     "execution_count": 43,
     "metadata": {},
     "output_type": "execute_result"
    }
   ],
   "source": [
    "df[df['film_studio'] == 'Киностудия \"Мосфильм\"']['production_country'].unique()"
   ]
  },
  {
   "cell_type": "markdown",
   "metadata": {},
   "source": [
    "Возможно, режиссер и продюсер в случае СССР это один и тот же человек. Пока оставим пропуски, как есть."
   ]
  },
  {
   "cell_type": "markdown",
   "metadata": {},
   "source": [
    "#####  `refundable_support`"
   ]
  },
  {
   "cell_type": "code",
   "execution_count": 44,
   "metadata": {},
   "outputs": [
    {
     "data": {
      "text/plain": [
       "7126"
      ]
     },
     "execution_count": 44,
     "metadata": {},
     "output_type": "execute_result"
    }
   ],
   "source": [
    "df['refundable_support'].isna().sum()"
   ]
  },
  {
   "cell_type": "code",
   "execution_count": 45,
   "metadata": {},
   "outputs": [
    {
     "data": {
      "text/plain": [
       "title                       0\n",
       "pu_number                   0\n",
       "show_start_date             0\n",
       "type                        0\n",
       "film_studio                 0\n",
       "production_country          0\n",
       "director                    0\n",
       "producer                  564\n",
       "age_restriction             0\n",
       "refundable_support       7126\n",
       "nonrefundable_support    7126\n",
       "budget                   7126\n",
       "financing_source         7126\n",
       "ratings                   947\n",
       "genres                    956\n",
       "box_office               4303\n",
       "dtype: int64"
      ]
     },
     "execution_count": 45,
     "metadata": {},
     "output_type": "execute_result"
    }
   ],
   "source": [
    "df.isna().sum()"
   ]
  },
  {
   "cell_type": "markdown",
   "metadata": {},
   "source": [
    "Видим, что пропусков очень много и их количество совпадает по 4м столбцам: `refundable_support`, `nonrefundable_support`, `budget`, `financing_source`. Нужно исследовать дополнительно. Пока оставим."
   ]
  },
  {
   "cell_type": "markdown",
   "metadata": {},
   "source": [
    "#####  `nonrefundable_support`"
   ]
  },
  {
   "cell_type": "markdown",
   "metadata": {},
   "source": [
    "Ситуация аналогична пункту **1.3.2.6**."
   ]
  },
  {
   "cell_type": "markdown",
   "metadata": {},
   "source": [
    "#####  `budget`"
   ]
  },
  {
   "cell_type": "markdown",
   "metadata": {},
   "source": [
    "Ситуация аналогична пункту **1.3.2.6**."
   ]
  },
  {
   "cell_type": "markdown",
   "metadata": {},
   "source": [
    "#####  `financing_source`"
   ]
  },
  {
   "cell_type": "markdown",
   "metadata": {},
   "source": [
    "Ситуация аналогична пункту **1.3.2.6**."
   ]
  },
  {
   "cell_type": "markdown",
   "metadata": {},
   "source": [
    "#####  `ratings`"
   ]
  },
  {
   "cell_type": "markdown",
   "metadata": {},
   "source": [
    "Пропусков в столбце 947. При этом тип данных столбца - `object`. Проверим на уникальные значения."
   ]
  },
  {
   "cell_type": "code",
   "execution_count": 46,
   "metadata": {},
   "outputs": [
    {
     "data": {
      "text/plain": [
       "array(['7.2', '6.6', '6.8', '7.7', '8.3', '8.0', '7.8', '8.1', '7.1',\n",
       "       '6.0', '7.4', '5.8', '8.7', '6.3', '6.9', '5.0', '4.3', '7.3',\n",
       "       '7.0', '6.4', nan, '8.2', '7.5', '6.7', '7.9', '5.9', '6.2', '5.6',\n",
       "       '6.5', '2.4', '7.6', '6.1', '8.6', '8.5', '8.8', '5.5', '5.1',\n",
       "       '5.7', '5.4', '99%', '4.4', '4.5', '5.3', '4.1', '8.4', '2.6',\n",
       "       '3.8', '4.6', '4.8', '4.0', '3.0', '1.6', '4.2', '5.2', '4.7',\n",
       "       '4.9', '3.9', '2.7', '3.3', '2.9', '28%', '3.7', '1.4', '3.1',\n",
       "       '97%', '3.5', '3.2', '2.8', '1.5', '2.1', '2.5', '9.2', '3.4',\n",
       "       '1.1', '3.6', '83%', '64%', '91%', '94%', '62%', '79%', '90%',\n",
       "       '19%', '88%', '1.0', '89%', '1.3', '1.9', '1.8', '1.2', '1.7',\n",
       "       '9.0', '98%', '8.9', '9.1'], dtype=object)"
      ]
     },
     "execution_count": 46,
     "metadata": {},
     "output_type": "execute_result"
    }
   ],
   "source": [
    "df['ratings'].unique()"
   ]
  },
  {
   "cell_type": "code",
   "execution_count": 47,
   "metadata": {},
   "outputs": [],
   "source": [
    "# функция нахождения количества значений с \"%\"\n",
    "def catch_a_proc(rate):\n",
    "    proc_count = 0\n",
    "    if '%' in rate:\n",
    "        proc_count += 1\n",
    "    return proc_count"
   ]
  },
  {
   "cell_type": "markdown",
   "metadata": {},
   "source": [
    "Видим, что среди значений столбца присутствует процентный рейтинг, что приводит к строковому типу весь столбец.\n",
    "Рейтинг из Кинопоиска не содержит проценты, поэтому проценты точно не оттуда. Посмотрим, сколько таких значений."
   ]
  },
  {
   "cell_type": "code",
   "execution_count": 48,
   "metadata": {},
   "outputs": [
    {
     "data": {
      "text/plain": [
       "-1.00    6482\n",
       "2.00       29\n",
       "Name: ratings, dtype: int64"
      ]
     },
     "execution_count": 48,
     "metadata": {},
     "output_type": "execute_result"
    }
   ],
   "source": [
    "df['ratings'].str.find('%').value_counts()"
   ]
  },
  {
   "cell_type": "markdown",
   "metadata": {},
   "source": [
    "Видим, что таких данных всего 29, что составляет 0.4% от всей длины столбца. Можем удалить."
   ]
  },
  {
   "cell_type": "code",
   "execution_count": 49,
   "metadata": {},
   "outputs": [],
   "source": [
    "df = df.drop(df[df['ratings'].str.find('%') == 2].index)"
   ]
  },
  {
   "cell_type": "code",
   "execution_count": 50,
   "metadata": {},
   "outputs": [
    {
     "data": {
      "text/plain": [
       "array(['7.2', '6.6', '6.8', '7.7', '8.3', '8.0', '7.8', '8.1', '7.1',\n",
       "       '6.0', '7.4', '5.8', '8.7', '6.3', '6.9', '5.0', '4.3', '7.3',\n",
       "       '7.0', '6.4', nan, '8.2', '7.5', '6.7', '7.9', '5.9', '6.2', '5.6',\n",
       "       '6.5', '2.4', '7.6', '6.1', '8.6', '8.5', '8.8', '5.5', '5.1',\n",
       "       '5.7', '5.4', '4.4', '4.5', '5.3', '4.1', '8.4', '2.6', '3.8',\n",
       "       '4.6', '4.8', '4.0', '3.0', '1.6', '4.2', '5.2', '4.7', '4.9',\n",
       "       '3.9', '2.7', '3.3', '2.9', '3.7', '1.4', '3.1', '3.5', '3.2',\n",
       "       '2.8', '1.5', '2.1', '2.5', '9.2', '3.4', '1.1', '3.6', '1.0',\n",
       "       '1.3', '1.9', '1.8', '1.2', '1.7', '9.0', '8.9', '9.1'],\n",
       "      dtype=object)"
      ]
     },
     "execution_count": 50,
     "metadata": {},
     "output_type": "execute_result"
    }
   ],
   "source": [
    "# проверка\n",
    "df['ratings'].unique()"
   ]
  },
  {
   "cell_type": "markdown",
   "metadata": {},
   "source": [
    "Удаление прошло успешно. Можно сразу поправить тип данны столбца."
   ]
  },
  {
   "cell_type": "code",
   "execution_count": 51,
   "metadata": {},
   "outputs": [
    {
     "data": {
      "text/plain": [
       "0      7.20\n",
       "1      6.60\n",
       "2      6.80\n",
       "3      6.80\n",
       "4      6.80\n",
       "       ... \n",
       "7481    nan\n",
       "7482   5.40\n",
       "7483    nan\n",
       "7484    nan\n",
       "7485   6.30\n",
       "Name: ratings, Length: 7429, dtype: float64"
      ]
     },
     "execution_count": 51,
     "metadata": {},
     "output_type": "execute_result"
    }
   ],
   "source": [
    "df['ratings'].astype('float64')"
   ]
  },
  {
   "cell_type": "markdown",
   "metadata": {},
   "source": [
    "Теперь тип данных соответствует рейтингу.\n",
    "Пропусков около 12%. Возможно эти фильмы не входят в рейтинг Кинопоиска, либо у них низкий рейтинг, близкий к нулю. Так же возможен вариант незаполнения или потери данных. Пока оставим."
   ]
  },
  {
   "cell_type": "markdown",
   "metadata": {},
   "source": [
    "#####  `genres`"
   ]
  },
  {
   "cell_type": "code",
   "execution_count": 52,
   "metadata": {},
   "outputs": [
    {
     "data": {
      "text/plain": [
       "953"
      ]
     },
     "execution_count": 52,
     "metadata": {},
     "output_type": "execute_result"
    }
   ],
   "source": [
    "df['genres'].isna().sum()"
   ]
  },
  {
   "cell_type": "markdown",
   "metadata": {},
   "source": [
    "Пропусков 953. Тип данных - `object`. Посмотрим на пропуски подробнее."
   ]
  },
  {
   "cell_type": "code",
   "execution_count": 53,
   "metadata": {},
   "outputs": [
    {
     "data": {
      "text/html": [
       "<div>\n",
       "<style scoped>\n",
       "    .dataframe tbody tr th:only-of-type {\n",
       "        vertical-align: middle;\n",
       "    }\n",
       "\n",
       "    .dataframe tbody tr th {\n",
       "        vertical-align: top;\n",
       "    }\n",
       "\n",
       "    .dataframe thead th {\n",
       "        text-align: right;\n",
       "    }\n",
       "</style>\n",
       "<table border=\"1\" class=\"dataframe\">\n",
       "  <thead>\n",
       "    <tr style=\"text-align: right;\">\n",
       "      <th></th>\n",
       "      <th>title</th>\n",
       "      <th>pu_number</th>\n",
       "      <th>show_start_date</th>\n",
       "      <th>type</th>\n",
       "      <th>film_studio</th>\n",
       "      <th>production_country</th>\n",
       "      <th>director</th>\n",
       "      <th>producer</th>\n",
       "      <th>age_restriction</th>\n",
       "      <th>refundable_support</th>\n",
       "      <th>nonrefundable_support</th>\n",
       "      <th>budget</th>\n",
       "      <th>financing_source</th>\n",
       "      <th>ratings</th>\n",
       "      <th>genres</th>\n",
       "      <th>box_office</th>\n",
       "    </tr>\n",
       "  </thead>\n",
       "  <tbody>\n",
       "    <tr>\n",
       "      <td>43</td>\n",
       "      <td>Мемуары гейши (по роману Артура Голдена)</td>\n",
       "      <td>121000606</td>\n",
       "      <td>2012-12-14</td>\n",
       "      <td>Художественный</td>\n",
       "      <td>Коламбия Пикчерз Корпорейшн, ДримУоркс ЭсКейДж...</td>\n",
       "      <td>США</td>\n",
       "      <td>Роб Маршалл</td>\n",
       "      <td>Стивен Спилберг, Люси Фишер, Дуглас Уик, Джон ...</td>\n",
       "      <td>«12+» - для детей старше 12 лет</td>\n",
       "      <td>nan</td>\n",
       "      <td>nan</td>\n",
       "      <td>nan</td>\n",
       "      <td>NaN</td>\n",
       "      <td>NaN</td>\n",
       "      <td>NaN</td>\n",
       "      <td>nan</td>\n",
       "    </tr>\n",
       "    <tr>\n",
       "      <td>150</td>\n",
       "      <td>Жди меня</td>\n",
       "      <td>111013615</td>\n",
       "      <td>2015-08-25</td>\n",
       "      <td>Художественный</td>\n",
       "      <td>Киностудия \"Мосфильм\"</td>\n",
       "      <td>СССР</td>\n",
       "      <td>А.Столпер, Б.Иванов</td>\n",
       "      <td>NaN</td>\n",
       "      <td>«6+» - для детей старше 6 лет</td>\n",
       "      <td>nan</td>\n",
       "      <td>nan</td>\n",
       "      <td>nan</td>\n",
       "      <td>NaN</td>\n",
       "      <td>NaN</td>\n",
       "      <td>NaN</td>\n",
       "      <td>nan</td>\n",
       "    </tr>\n",
       "    <tr>\n",
       "      <td>154</td>\n",
       "      <td>Дом из песка и тумана (по книге Андре Дюбуи III)</td>\n",
       "      <td>221037813</td>\n",
       "      <td>2013-10-25</td>\n",
       "      <td>Художественный</td>\n",
       "      <td>Кобальт Пикчерз</td>\n",
       "      <td>США</td>\n",
       "      <td>Вадим Перельман</td>\n",
       "      <td>Майкл Лондон</td>\n",
       "      <td>«16+» - для детей старше 16 лет</td>\n",
       "      <td>nan</td>\n",
       "      <td>nan</td>\n",
       "      <td>nan</td>\n",
       "      <td>NaN</td>\n",
       "      <td>NaN</td>\n",
       "      <td>NaN</td>\n",
       "      <td>nan</td>\n",
       "    </tr>\n",
       "    <tr>\n",
       "      <td>159</td>\n",
       "      <td>Жемчужная девушка</td>\n",
       "      <td>224011014</td>\n",
       "      <td>2014-08-28</td>\n",
       "      <td>Художественный</td>\n",
       "      <td>Чешское телевидение,Студия \"Три брата\" агентск...</td>\n",
       "      <td>Чехия</td>\n",
       "      <td>Владимир Дрга</td>\n",
       "      <td>NaN</td>\n",
       "      <td>«0+» - для любой зрительской аудитории</td>\n",
       "      <td>nan</td>\n",
       "      <td>nan</td>\n",
       "      <td>nan</td>\n",
       "      <td>NaN</td>\n",
       "      <td>NaN</td>\n",
       "      <td>NaN</td>\n",
       "      <td>nan</td>\n",
       "    </tr>\n",
       "    <tr>\n",
       "      <td>227</td>\n",
       "      <td>Полустанок</td>\n",
       "      <td>111026714</td>\n",
       "      <td>2014-12-24</td>\n",
       "      <td>Художественный</td>\n",
       "      <td>Киностудия \"Мосфильм\"</td>\n",
       "      <td>СССР</td>\n",
       "      <td>Б.Барнет</td>\n",
       "      <td>NaN</td>\n",
       "      <td>«12+» - для детей старше 12 лет</td>\n",
       "      <td>nan</td>\n",
       "      <td>nan</td>\n",
       "      <td>nan</td>\n",
       "      <td>NaN</td>\n",
       "      <td>NaN</td>\n",
       "      <td>NaN</td>\n",
       "      <td>nan</td>\n",
       "    </tr>\n",
       "    <tr>\n",
       "      <td>...</td>\n",
       "      <td>...</td>\n",
       "      <td>...</td>\n",
       "      <td>...</td>\n",
       "      <td>...</td>\n",
       "      <td>...</td>\n",
       "      <td>...</td>\n",
       "      <td>...</td>\n",
       "      <td>...</td>\n",
       "      <td>...</td>\n",
       "      <td>...</td>\n",
       "      <td>...</td>\n",
       "      <td>...</td>\n",
       "      <td>...</td>\n",
       "      <td>...</td>\n",
       "      <td>...</td>\n",
       "      <td>...</td>\n",
       "    </tr>\n",
       "    <tr>\n",
       "      <td>7479</td>\n",
       "      <td>Эколав</td>\n",
       "      <td>111023219</td>\n",
       "      <td>2019-12-26</td>\n",
       "      <td>Художественный</td>\n",
       "      <td>ВГИК</td>\n",
       "      <td>Россия</td>\n",
       "      <td>Д.Григорьев</td>\n",
       "      <td>ВГИК</td>\n",
       "      <td>«18+» - запрещено для детей</td>\n",
       "      <td>nan</td>\n",
       "      <td>nan</td>\n",
       "      <td>nan</td>\n",
       "      <td>NaN</td>\n",
       "      <td>NaN</td>\n",
       "      <td>NaN</td>\n",
       "      <td>nan</td>\n",
       "    </tr>\n",
       "    <tr>\n",
       "      <td>7480</td>\n",
       "      <td>Акрам Хан: Родом из Карри Хауса</td>\n",
       "      <td>126007919</td>\n",
       "      <td>2019-12-23</td>\n",
       "      <td>Прочие</td>\n",
       "      <td>Свон Филмз</td>\n",
       "      <td>Великобритания</td>\n",
       "      <td>Ник Пойнц</td>\n",
       "      <td>Поппи Бегум, Ник Пойнц</td>\n",
       "      <td>«12+» - для детей старше 12 лет</td>\n",
       "      <td>nan</td>\n",
       "      <td>nan</td>\n",
       "      <td>nan</td>\n",
       "      <td>NaN</td>\n",
       "      <td>NaN</td>\n",
       "      <td>NaN</td>\n",
       "      <td>219,569.00</td>\n",
       "    </tr>\n",
       "    <tr>\n",
       "      <td>7481</td>\n",
       "      <td>Сад художника: Американский импрессионизм</td>\n",
       "      <td>126008019</td>\n",
       "      <td>2019-12-23</td>\n",
       "      <td>Прочие</td>\n",
       "      <td>Севен Артс Продакшнз</td>\n",
       "      <td>Великобритания</td>\n",
       "      <td>Фил Грабски</td>\n",
       "      <td>Фил Грабски</td>\n",
       "      <td>«12+» - для детей старше 12 лет</td>\n",
       "      <td>nan</td>\n",
       "      <td>nan</td>\n",
       "      <td>nan</td>\n",
       "      <td>NaN</td>\n",
       "      <td>NaN</td>\n",
       "      <td>NaN</td>\n",
       "      <td>nan</td>\n",
       "    </tr>\n",
       "    <tr>\n",
       "      <td>7483</td>\n",
       "      <td>Щенячий патруль: Скорей спешим на помощь!</td>\n",
       "      <td>124010819</td>\n",
       "      <td>2019-12-28</td>\n",
       "      <td>Художественный</td>\n",
       "      <td>Никелодеон Анимейшн Студиос, Спин Мастер</td>\n",
       "      <td>США - Канада</td>\n",
       "      <td>Чарльз Е.Бастьен</td>\n",
       "      <td>Дженнифер Додж</td>\n",
       "      <td>«0+» - для любой зрительской аудитории</td>\n",
       "      <td>nan</td>\n",
       "      <td>nan</td>\n",
       "      <td>nan</td>\n",
       "      <td>NaN</td>\n",
       "      <td>NaN</td>\n",
       "      <td>NaN</td>\n",
       "      <td>nan</td>\n",
       "    </tr>\n",
       "    <tr>\n",
       "      <td>7484</td>\n",
       "      <td>Машины песенки. Серия \"Испанские мотивы\"</td>\n",
       "      <td>124010619</td>\n",
       "      <td>2019-12-30</td>\n",
       "      <td>Анимационный</td>\n",
       "      <td>Анимаккорд Лтд., ООО Студия \"АНИМАККОРД\"</td>\n",
       "      <td>Республика Кипр, Россия</td>\n",
       "      <td>А.Беляев</td>\n",
       "      <td>Д.Ловейко</td>\n",
       "      <td>«0+» - для любой зрительской аудитории</td>\n",
       "      <td>nan</td>\n",
       "      <td>nan</td>\n",
       "      <td>nan</td>\n",
       "      <td>NaN</td>\n",
       "      <td>NaN</td>\n",
       "      <td>NaN</td>\n",
       "      <td>nan</td>\n",
       "    </tr>\n",
       "  </tbody>\n",
       "</table>\n",
       "<p>953 rows × 16 columns</p>\n",
       "</div>"
      ],
      "text/plain": [
       "                                                 title  pu_number  \\\n",
       "43            Мемуары гейши (по роману Артура Голдена)  121000606   \n",
       "150                                           Жди меня  111013615   \n",
       "154   Дом из песка и тумана (по книге Андре Дюбуи III)  221037813   \n",
       "159                                  Жемчужная девушка  224011014   \n",
       "227                                         Полустанок  111026714   \n",
       "...                                                ...        ...   \n",
       "7479                                            Эколав  111023219   \n",
       "7480                   Акрам Хан: Родом из Карри Хауса  126007919   \n",
       "7481         Сад художника: Американский импрессионизм  126008019   \n",
       "7483         Щенячий патруль: Скорей спешим на помощь!  124010819   \n",
       "7484          Машины песенки. Серия \"Испанские мотивы\"  124010619   \n",
       "\n",
       "     show_start_date             type  \\\n",
       "43        2012-12-14   Художественный   \n",
       "150       2015-08-25   Художественный   \n",
       "154       2013-10-25   Художественный   \n",
       "159       2014-08-28   Художественный   \n",
       "227       2014-12-24   Художественный   \n",
       "...              ...              ...   \n",
       "7479      2019-12-26   Художественный   \n",
       "7480      2019-12-23           Прочие   \n",
       "7481      2019-12-23           Прочие   \n",
       "7483      2019-12-28   Художественный   \n",
       "7484      2019-12-30     Анимационный   \n",
       "\n",
       "                                            film_studio  \\\n",
       "43    Коламбия Пикчерз Корпорейшн, ДримУоркс ЭсКейДж...   \n",
       "150                               Киностудия \"Мосфильм\"   \n",
       "154                                     Кобальт Пикчерз   \n",
       "159   Чешское телевидение,Студия \"Три брата\" агентск...   \n",
       "227                               Киностудия \"Мосфильм\"   \n",
       "...                                                 ...   \n",
       "7479                                               ВГИК   \n",
       "7480                                         Свон Филмз   \n",
       "7481                               Севен Артс Продакшнз   \n",
       "7483           Никелодеон Анимейшн Студиос, Спин Мастер   \n",
       "7484           Анимаккорд Лтд., ООО Студия \"АНИМАККОРД\"   \n",
       "\n",
       "           production_country             director  \\\n",
       "43                        США          Роб Маршалл   \n",
       "150                      СССР  А.Столпер, Б.Иванов   \n",
       "154                       США      Вадим Перельман   \n",
       "159                     Чехия        Владимир Дрга   \n",
       "227                      СССР             Б.Барнет   \n",
       "...                       ...                  ...   \n",
       "7479                   Россия          Д.Григорьев   \n",
       "7480           Великобритания            Ник Пойнц   \n",
       "7481           Великобритания          Фил Грабски   \n",
       "7483             США - Канада     Чарльз Е.Бастьен   \n",
       "7484  Республика Кипр, Россия             А.Беляев   \n",
       "\n",
       "                                               producer  \\\n",
       "43    Стивен Спилберг, Люси Фишер, Дуглас Уик, Джон ...   \n",
       "150                                                 NaN   \n",
       "154                                        Майкл Лондон   \n",
       "159                                                 NaN   \n",
       "227                                                 NaN   \n",
       "...                                                 ...   \n",
       "7479                                               ВГИК   \n",
       "7480                             Поппи Бегум, Ник Пойнц   \n",
       "7481                                        Фил Грабски   \n",
       "7483                                     Дженнифер Додж   \n",
       "7484                                          Д.Ловейко   \n",
       "\n",
       "                             age_restriction  refundable_support  \\\n",
       "43           «12+» - для детей старше 12 лет                 nan   \n",
       "150            «6+» - для детей старше 6 лет                 nan   \n",
       "154          «16+» - для детей старше 16 лет                 nan   \n",
       "159   «0+» - для любой зрительской аудитории                 nan   \n",
       "227          «12+» - для детей старше 12 лет                 nan   \n",
       "...                                      ...                 ...   \n",
       "7479             «18+» - запрещено для детей                 nan   \n",
       "7480         «12+» - для детей старше 12 лет                 nan   \n",
       "7481         «12+» - для детей старше 12 лет                 nan   \n",
       "7483  «0+» - для любой зрительской аудитории                 nan   \n",
       "7484  «0+» - для любой зрительской аудитории                 nan   \n",
       "\n",
       "      nonrefundable_support  budget financing_source ratings genres  \\\n",
       "43                      nan     nan              NaN     NaN    NaN   \n",
       "150                     nan     nan              NaN     NaN    NaN   \n",
       "154                     nan     nan              NaN     NaN    NaN   \n",
       "159                     nan     nan              NaN     NaN    NaN   \n",
       "227                     nan     nan              NaN     NaN    NaN   \n",
       "...                     ...     ...              ...     ...    ...   \n",
       "7479                    nan     nan              NaN     NaN    NaN   \n",
       "7480                    nan     nan              NaN     NaN    NaN   \n",
       "7481                    nan     nan              NaN     NaN    NaN   \n",
       "7483                    nan     nan              NaN     NaN    NaN   \n",
       "7484                    nan     nan              NaN     NaN    NaN   \n",
       "\n",
       "      box_office  \n",
       "43           nan  \n",
       "150          nan  \n",
       "154          nan  \n",
       "159          nan  \n",
       "227          nan  \n",
       "...          ...  \n",
       "7479         nan  \n",
       "7480  219,569.00  \n",
       "7481         nan  \n",
       "7483         nan  \n",
       "7484         nan  \n",
       "\n",
       "[953 rows x 16 columns]"
      ]
     },
     "execution_count": 53,
     "metadata": {},
     "output_type": "execute_result"
    }
   ],
   "source": [
    "df[df['genres'].isna()]"
   ]
  },
  {
   "cell_type": "markdown",
   "metadata": {},
   "source": [
    "Жанр фильма мог быть не указан, либо данные утеряны. Пока оставим."
   ]
  },
  {
   "cell_type": "markdown",
   "metadata": {},
   "source": [
    "#####  `box_office`"
   ]
  },
  {
   "cell_type": "code",
   "execution_count": 54,
   "metadata": {},
   "outputs": [
    {
     "data": {
      "text/plain": [
       "4289"
      ]
     },
     "execution_count": 54,
     "metadata": {},
     "output_type": "execute_result"
    }
   ],
   "source": [
    "df['box_office'].isna().sum()"
   ]
  },
  {
   "cell_type": "markdown",
   "metadata": {},
   "source": [
    "Больше половины пропусков. Образовались, скорее всего, в результате слияния двух датафреймов. Пока оставим."
   ]
  },
  {
   "cell_type": "markdown",
   "metadata": {
    "id": "4c6k1t9ygFyQ"
   },
   "source": [
    "#### Изучим дубликаты в датафрейме\n",
    "- Проверим, есть ли в данных дубликаты."
   ]
  },
  {
   "cell_type": "code",
   "execution_count": 55,
   "metadata": {
    "id": "aKck8RIdgFyQ"
   },
   "outputs": [
    {
     "data": {
      "text/plain": [
       "0"
      ]
     },
     "execution_count": 55,
     "metadata": {},
     "output_type": "execute_result"
    }
   ],
   "source": [
    "df.duplicated().sum()"
   ]
  },
  {
   "cell_type": "markdown",
   "metadata": {},
   "source": [
    "На данный момент полных дубликатов нет. Возможно они появятся после изучения и, если потребуется, правки категориальных значений."
   ]
  },
  {
   "cell_type": "markdown",
   "metadata": {
    "id": "52fOPrEBgFyQ"
   },
   "source": [
    "#### Шаг 2.4. Изучим категориальные значения\n",
    "\n",
    "- Посмотрим, какая общая проблема встречается почти во всех категориальных столбцах;\n",
    "- Исправим проблемные значения в поле `type`."
   ]
  },
  {
   "cell_type": "markdown",
   "metadata": {},
   "source": [
    "К категориальным можно отнести `type`, `production_country`, `age_restriction`. Во всех, кроме `type` присутствую комбинации помимо основных категорий. Например страна-производитель может быть одна, а может быть и гораздо больше. В таком случае трудно определить, к какой категории лучше отнести комбинацию стран."
   ]
  },
  {
   "cell_type": "markdown",
   "metadata": {},
   "source": [
    "Посмотрим на значения `type`."
   ]
  },
  {
   "cell_type": "code",
   "execution_count": 56,
   "metadata": {
    "id": "PnXKIVdFgFyR"
   },
   "outputs": [
    {
     "data": {
      "text/plain": [
       "array(['Художественный', 'Анимационный', 'Прочие', 'Документальный',\n",
       "       'Научно-популярный', ' Художественный', ' Анимационный',\n",
       "       'Музыкально-развлекательный'], dtype=object)"
      ]
     },
     "execution_count": 56,
     "metadata": {},
     "output_type": "execute_result"
    }
   ],
   "source": [
    "df['type'].unique()"
   ]
  },
  {
   "cell_type": "markdown",
   "metadata": {},
   "source": [
    "В данных этого столбца присутствую значения с пробелами. Избавимся от них уже знакомым нам способом `str.strip()`."
   ]
  },
  {
   "cell_type": "code",
   "execution_count": 57,
   "metadata": {},
   "outputs": [],
   "source": [
    "df['type'] = df['type'].str.strip()"
   ]
  },
  {
   "cell_type": "code",
   "execution_count": 58,
   "metadata": {},
   "outputs": [
    {
     "data": {
      "text/plain": [
       "array(['Художественный', 'Анимационный', 'Прочие', 'Документальный',\n",
       "       'Научно-популярный', 'Музыкально-развлекательный'], dtype=object)"
      ]
     },
     "execution_count": 58,
     "metadata": {},
     "output_type": "execute_result"
    }
   ],
   "source": [
    "# проверка\n",
    "df['type'].unique()"
   ]
  },
  {
   "cell_type": "markdown",
   "metadata": {
    "id": "XFSN5lrEgFyR"
   },
   "source": [
    "#### Проверим количественные значения\n",
    "\n",
    "- Проверим, есть ли в таких столбцах подозрительные данные."
   ]
  },
  {
   "cell_type": "markdown",
   "metadata": {},
   "source": [
    "В описании столбца `budget` указано, что он содержит в себе государственную поддержку. Проверим это."
   ]
  },
  {
   "cell_type": "code",
   "execution_count": 59,
   "metadata": {
    "scrolled": true
   },
   "outputs": [
    {
     "data": {
      "text/html": [
       "<div>\n",
       "<style scoped>\n",
       "    .dataframe tbody tr th:only-of-type {\n",
       "        vertical-align: middle;\n",
       "    }\n",
       "\n",
       "    .dataframe tbody tr th {\n",
       "        vertical-align: top;\n",
       "    }\n",
       "\n",
       "    .dataframe thead th {\n",
       "        text-align: right;\n",
       "    }\n",
       "</style>\n",
       "<table border=\"1\" class=\"dataframe\">\n",
       "  <thead>\n",
       "    <tr style=\"text-align: right;\">\n",
       "      <th></th>\n",
       "      <th>title</th>\n",
       "      <th>pu_number</th>\n",
       "      <th>show_start_date</th>\n",
       "      <th>type</th>\n",
       "      <th>film_studio</th>\n",
       "      <th>production_country</th>\n",
       "      <th>director</th>\n",
       "      <th>producer</th>\n",
       "      <th>age_restriction</th>\n",
       "      <th>refundable_support</th>\n",
       "      <th>nonrefundable_support</th>\n",
       "      <th>budget</th>\n",
       "      <th>financing_source</th>\n",
       "      <th>ratings</th>\n",
       "      <th>genres</th>\n",
       "      <th>box_office</th>\n",
       "    </tr>\n",
       "  </thead>\n",
       "  <tbody>\n",
       "    <tr>\n",
       "      <td>2053</td>\n",
       "      <td>14+</td>\n",
       "      <td>111023614</td>\n",
       "      <td>2014-12-19</td>\n",
       "      <td>Художественный</td>\n",
       "      <td>ООО Киностудия  \"Сентябрь\"</td>\n",
       "      <td>Россия</td>\n",
       "      <td>А.Зайцев</td>\n",
       "      <td>О.Гранина, А.Зайцев</td>\n",
       "      <td>«16+» - для детей старше 16 лет</td>\n",
       "      <td>0.00</td>\n",
       "      <td>23,000,000.00</td>\n",
       "      <td>0.00</td>\n",
       "      <td>Министерство культуры, Фонд кино</td>\n",
       "      <td>6.6</td>\n",
       "      <td>мелодрама</td>\n",
       "      <td>10,234,016.10</td>\n",
       "    </tr>\n",
       "    <tr>\n",
       "      <td>2058</td>\n",
       "      <td>Дуxless 2</td>\n",
       "      <td>111000415</td>\n",
       "      <td>2015-01-26</td>\n",
       "      <td>Художественный</td>\n",
       "      <td>ООО \"Киностудия \"Слово\", ООО \"Арт Пикчерс Студия\"</td>\n",
       "      <td>Россия</td>\n",
       "      <td>Р.Прыгунов</td>\n",
       "      <td>П.Ануров, Ф.Бондарчук, Д.Рудовский</td>\n",
       "      <td>«16+» - для детей старше 16 лет</td>\n",
       "      <td>0.00</td>\n",
       "      <td>75,000,000.00</td>\n",
       "      <td>0.00</td>\n",
       "      <td>Фонд кино</td>\n",
       "      <td>6.6</td>\n",
       "      <td>драма</td>\n",
       "      <td>446,163,511.00</td>\n",
       "    </tr>\n",
       "    <tr>\n",
       "      <td>2472</td>\n",
       "      <td>Воин (2015)</td>\n",
       "      <td>111017315</td>\n",
       "      <td>2015-09-28</td>\n",
       "      <td>Художественный</td>\n",
       "      <td>ООО \"Форпост Продакшн\", ООО \"Арт Пикчерс Студия\"</td>\n",
       "      <td>Россия</td>\n",
       "      <td>А.Андрианов</td>\n",
       "      <td>ООО \"Арт Пикчерс Студия\"</td>\n",
       "      <td>«12+» - для детей старше 12 лет</td>\n",
       "      <td>10,000,000.00</td>\n",
       "      <td>70,000,000.00</td>\n",
       "      <td>0.00</td>\n",
       "      <td>Фонд кино</td>\n",
       "      <td>7.8</td>\n",
       "      <td>боевик,драма,криминал</td>\n",
       "      <td>196,572,438.40</td>\n",
       "    </tr>\n",
       "    <tr>\n",
       "      <td>2532</td>\n",
       "      <td>Бармен.</td>\n",
       "      <td>111009615</td>\n",
       "      <td>2015-05-26</td>\n",
       "      <td>Художественный</td>\n",
       "      <td>АО \"ВайТ Медиа\", ООО \"Арт Пикчерс Студия\"</td>\n",
       "      <td>Россия</td>\n",
       "      <td>Д.Штурманова</td>\n",
       "      <td>Т.Вайнштейн</td>\n",
       "      <td>«16+» - для детей старше 16 лет</td>\n",
       "      <td>20,000,000.00</td>\n",
       "      <td>0.00</td>\n",
       "      <td>0.00</td>\n",
       "      <td>Фонд кино</td>\n",
       "      <td>6.2</td>\n",
       "      <td>комедия,фэнтези</td>\n",
       "      <td>67,418,974.80</td>\n",
       "    </tr>\n",
       "    <tr>\n",
       "      <td>2615</td>\n",
       "      <td>Савва. Сердце воина</td>\n",
       "      <td>114001715</td>\n",
       "      <td>2015-07-21</td>\n",
       "      <td>Анимационный</td>\n",
       "      <td>ООО \"Глюкоза Продакшн\", ООО \"Арт Пикчерс Студия\"</td>\n",
       "      <td>Россия</td>\n",
       "      <td>М.Фадеев</td>\n",
       "      <td>А.Чистяков</td>\n",
       "      <td>«6+» - для детей старше 6 лет</td>\n",
       "      <td>60,000,000.00</td>\n",
       "      <td>100,000,000.00</td>\n",
       "      <td>0.00</td>\n",
       "      <td>Фонд кино</td>\n",
       "      <td>4.6</td>\n",
       "      <td>мультфильм,приключения,фэнтези</td>\n",
       "      <td>184,487,551.40</td>\n",
       "    </tr>\n",
       "    <tr>\n",
       "      <td>2684</td>\n",
       "      <td>Тряпичный союз</td>\n",
       "      <td>111010215</td>\n",
       "      <td>2015-06-08</td>\n",
       "      <td>Художественный</td>\n",
       "      <td>ООО \"Кинокомпания \"КОКТЕБЕЛЬ\"</td>\n",
       "      <td>Россия</td>\n",
       "      <td>М.Местецкий</td>\n",
       "      <td>Р.Борисевич, А.Кушаев</td>\n",
       "      <td>«18+» - запрещено для детей</td>\n",
       "      <td>0.00</td>\n",
       "      <td>59,000,000.00</td>\n",
       "      <td>0.00</td>\n",
       "      <td>Фонд кино</td>\n",
       "      <td>6.3</td>\n",
       "      <td>комедия,драма</td>\n",
       "      <td>1,957,738.51</td>\n",
       "    </tr>\n",
       "    <tr>\n",
       "      <td>2788</td>\n",
       "      <td>Срочно выйду замуж</td>\n",
       "      <td>111017115</td>\n",
       "      <td>2015-09-30</td>\n",
       "      <td>Художественный</td>\n",
       "      <td>АО \"ВайТ Медиа\", ООО \"Арт Пикчерс Студия\"</td>\n",
       "      <td>Россия</td>\n",
       "      <td>С Чекалов</td>\n",
       "      <td>Ф.Бондарчук, Т.Вайнштейн, Д.Рудовский</td>\n",
       "      <td>«16+» - для детей старше 16 лет</td>\n",
       "      <td>0.00</td>\n",
       "      <td>35,000,000.00</td>\n",
       "      <td>0.00</td>\n",
       "      <td>Фонд кино</td>\n",
       "      <td>5.1</td>\n",
       "      <td>комедия,мелодрама</td>\n",
       "      <td>72,937,783.20</td>\n",
       "    </tr>\n",
       "    <tr>\n",
       "      <td>2874</td>\n",
       "      <td>Помню - не помню!</td>\n",
       "      <td>111004916</td>\n",
       "      <td>2016-03-01</td>\n",
       "      <td>Художественный</td>\n",
       "      <td>ООО \"КиноФирма\"</td>\n",
       "      <td>Россия</td>\n",
       "      <td>В.Ровенский</td>\n",
       "      <td>ООО \"КиноФирма\"</td>\n",
       "      <td>«12+» - для детей старше 12 лет</td>\n",
       "      <td>0.00</td>\n",
       "      <td>6,000,000.00</td>\n",
       "      <td>0.00</td>\n",
       "      <td>Министерство культуры</td>\n",
       "      <td>4.3</td>\n",
       "      <td>комедия</td>\n",
       "      <td>15,362,931.43</td>\n",
       "    </tr>\n",
       "    <tr>\n",
       "      <td>3047</td>\n",
       "      <td>Любовь с ограничениями</td>\n",
       "      <td>111008216</td>\n",
       "      <td>2016-04-29</td>\n",
       "      <td>Художественный</td>\n",
       "      <td>АО \"ВайТ Медиа\", ООО \"Арт Пикчерс Студия\"</td>\n",
       "      <td>Россия</td>\n",
       "      <td>Д.Тюрин</td>\n",
       "      <td>Ф.Бондарчук, Т.Вайнштейн, Д.Рудовский</td>\n",
       "      <td>«16+» - для детей старше 16 лет</td>\n",
       "      <td>19,000,000.00</td>\n",
       "      <td>51,000,000.00</td>\n",
       "      <td>0.00</td>\n",
       "      <td>Фонд кино</td>\n",
       "      <td>6.3</td>\n",
       "      <td>комедия,мелодрама</td>\n",
       "      <td>70,299,052.00</td>\n",
       "    </tr>\n",
       "    <tr>\n",
       "      <td>3565</td>\n",
       "      <td>Притяжение (2016)</td>\n",
       "      <td>111018116</td>\n",
       "      <td>2016-12-16</td>\n",
       "      <td>Художественный</td>\n",
       "      <td>ООО \"Водород 2011\",  ООО \"Арт Пикчерс Студия\"</td>\n",
       "      <td>Россия</td>\n",
       "      <td>Ф.Бондарчук</td>\n",
       "      <td>ООО \"Арт Пикчерс Студия\"</td>\n",
       "      <td>«12+» - для детей старше 12 лет</td>\n",
       "      <td>0.00</td>\n",
       "      <td>250,000,000.00</td>\n",
       "      <td>0.00</td>\n",
       "      <td>Фонд кино</td>\n",
       "      <td>5.6</td>\n",
       "      <td>фантастика</td>\n",
       "      <td>1,038,321,489.00</td>\n",
       "    </tr>\n",
       "    <tr>\n",
       "      <td>3675</td>\n",
       "      <td>Чудо-юдо</td>\n",
       "      <td>114001817</td>\n",
       "      <td>2017-06-27</td>\n",
       "      <td>Анимационный</td>\n",
       "      <td>ООО \"КиноФирма\"</td>\n",
       "      <td>Россия</td>\n",
       "      <td>А.Лукичев</td>\n",
       "      <td>ООО \"КиноФирма\"</td>\n",
       "      <td>«6+» - для детей старше 6 лет</td>\n",
       "      <td>20,000,000.00</td>\n",
       "      <td>20,000,000.00</td>\n",
       "      <td>0.00</td>\n",
       "      <td>Фонд кино</td>\n",
       "      <td>5.2</td>\n",
       "      <td>мультфильм,фэнтези,семейный</td>\n",
       "      <td>55,108,014.76</td>\n",
       "    </tr>\n",
       "    <tr>\n",
       "      <td>3739</td>\n",
       "      <td>Мифы</td>\n",
       "      <td>111004317</td>\n",
       "      <td>2017-06-07</td>\n",
       "      <td>Художественный</td>\n",
       "      <td>ООО \"ХАЙПФИЛМ\", ООО \"Арт Пикчерс Студия\"</td>\n",
       "      <td>Россия</td>\n",
       "      <td>А.Молочников</td>\n",
       "      <td>Ф.Бондарчук, Д.Рудовский, И.Стюарт, М.Османн, ...</td>\n",
       "      <td>«16+» - для детей старше 16 лет</td>\n",
       "      <td>25,000,000.00</td>\n",
       "      <td>20,000,000.00</td>\n",
       "      <td>0.00</td>\n",
       "      <td>Фонд кино</td>\n",
       "      <td>4.8</td>\n",
       "      <td>комедия</td>\n",
       "      <td>50,451,949.00</td>\n",
       "    </tr>\n",
       "    <tr>\n",
       "      <td>5673</td>\n",
       "      <td>Селфи</td>\n",
       "      <td>111012117</td>\n",
       "      <td>2018-02-01</td>\n",
       "      <td>Художественный</td>\n",
       "      <td>ООО \"Киностудия \"Слово\", ООО \"Арт Пикчерс Студия\"</td>\n",
       "      <td>Россия</td>\n",
       "      <td>Н.Хомерики</td>\n",
       "      <td>П.Ануров, Ф.Бондарчук, Д.Рудовский</td>\n",
       "      <td>«16+» - для детей старше 16 лет</td>\n",
       "      <td>20,000,000.00</td>\n",
       "      <td>40,000,000.00</td>\n",
       "      <td>0.00</td>\n",
       "      <td>Фонд кино</td>\n",
       "      <td>5.8</td>\n",
       "      <td>триллер,драма</td>\n",
       "      <td>225,196,400.03</td>\n",
       "    </tr>\n",
       "    <tr>\n",
       "      <td>5806</td>\n",
       "      <td>Два хвоста</td>\n",
       "      <td>114001018</td>\n",
       "      <td>2018-05-31</td>\n",
       "      <td>Анимационный</td>\n",
       "      <td>ООО \"ЛИЦЕНЗИОННЫЕ БРЕНДЫ\"</td>\n",
       "      <td>Россия</td>\n",
       "      <td>В.Ровенский, Н.Лопато, В.Азеев</td>\n",
       "      <td>ООО \"ЛИЦЕНЗИОННЫЕ БРЕНДЫ\"</td>\n",
       "      <td>«6+» - для детей старше 6 лет</td>\n",
       "      <td>10,000,000.00</td>\n",
       "      <td>60,000,000.00</td>\n",
       "      <td>0.00</td>\n",
       "      <td>Фонд кино</td>\n",
       "      <td>5.0</td>\n",
       "      <td>мультфильм,детский</td>\n",
       "      <td>106,514,301.03</td>\n",
       "    </tr>\n",
       "    <tr>\n",
       "      <td>6008</td>\n",
       "      <td>Принцесса и дракон</td>\n",
       "      <td>114003018</td>\n",
       "      <td>2018-08-23</td>\n",
       "      <td>Анимационный</td>\n",
       "      <td>ООО \"ЛИЦЕНЗИОННЫЕ БРЕНДЫ\"</td>\n",
       "      <td>Россия</td>\n",
       "      <td>М.Нефедова</td>\n",
       "      <td>ООО \"ЛИЦЕНЗИОННЫЕ БРЕНДЫ\"</td>\n",
       "      <td>«6+» - для детей старше 6 лет</td>\n",
       "      <td>40,000,000.00</td>\n",
       "      <td>40,000,000.00</td>\n",
       "      <td>0.00</td>\n",
       "      <td>Фонд кино</td>\n",
       "      <td>5.2</td>\n",
       "      <td>мультфильм,фэнтези,детский</td>\n",
       "      <td>83,366,328.66</td>\n",
       "    </tr>\n",
       "    <tr>\n",
       "      <td>6323</td>\n",
       "      <td>Баба Яга</td>\n",
       "      <td>114006518</td>\n",
       "      <td>2018-11-08</td>\n",
       "      <td>Анимационный</td>\n",
       "      <td>ООО \"Арт Пикчерс Студия\"</td>\n",
       "      <td>Россия</td>\n",
       "      <td>В.Саков</td>\n",
       "      <td>ООО \"Арт Пикчерс Студия\", ООО \"КРИЭЙТИВ АНИМЭЙ...</td>\n",
       "      <td>«6+» - для детей старше 6 лет</td>\n",
       "      <td>0.00</td>\n",
       "      <td>138,969,465.00</td>\n",
       "      <td>0.00</td>\n",
       "      <td>Фонд кино</td>\n",
       "      <td>NaN</td>\n",
       "      <td>NaN</td>\n",
       "      <td>1,334,699.40</td>\n",
       "    </tr>\n",
       "    <tr>\n",
       "      <td>6823</td>\n",
       "      <td>Большое путешествие</td>\n",
       "      <td>114002419</td>\n",
       "      <td>2019-04-20</td>\n",
       "      <td>Анимационный</td>\n",
       "      <td>ООО \"ЛИЦЕНЗИОННЫЕ БРЕНДЫ\"</td>\n",
       "      <td>Россия</td>\n",
       "      <td>Н.Лопато, В.Ровенский</td>\n",
       "      <td>ООО \"ЛИЦЕНЗИОННЫЕ БРЕНДЫ\"</td>\n",
       "      <td>«6+» - для детей старше 6 лет</td>\n",
       "      <td>60,000,000.00</td>\n",
       "      <td>120,000,000.00</td>\n",
       "      <td>0.00</td>\n",
       "      <td>Фонд кино</td>\n",
       "      <td>6.2</td>\n",
       "      <td>мультфильм,комедия,приключения</td>\n",
       "      <td>147,606,826.51</td>\n",
       "    </tr>\n",
       "  </tbody>\n",
       "</table>\n",
       "</div>"
      ],
      "text/plain": [
       "                       title  pu_number show_start_date            type  \\\n",
       "2053                     14+  111023614      2014-12-19  Художественный   \n",
       "2058               Дуxless 2  111000415      2015-01-26  Художественный   \n",
       "2472             Воин (2015)  111017315      2015-09-28  Художественный   \n",
       "2532                 Бармен.  111009615      2015-05-26  Художественный   \n",
       "2615     Савва. Сердце воина  114001715      2015-07-21    Анимационный   \n",
       "2684          Тряпичный союз  111010215      2015-06-08  Художественный   \n",
       "2788      Срочно выйду замуж  111017115      2015-09-30  Художественный   \n",
       "2874       Помню - не помню!  111004916      2016-03-01  Художественный   \n",
       "3047  Любовь с ограничениями  111008216      2016-04-29  Художественный   \n",
       "3565       Притяжение (2016)  111018116      2016-12-16  Художественный   \n",
       "3675                Чудо-юдо  114001817      2017-06-27    Анимационный   \n",
       "3739                    Мифы  111004317      2017-06-07  Художественный   \n",
       "5673                   Селфи  111012117      2018-02-01  Художественный   \n",
       "5806              Два хвоста  114001018      2018-05-31    Анимационный   \n",
       "6008      Принцесса и дракон  114003018      2018-08-23    Анимационный   \n",
       "6323                Баба Яга  114006518      2018-11-08    Анимационный   \n",
       "6823     Большое путешествие  114002419      2019-04-20    Анимационный   \n",
       "\n",
       "                                            film_studio production_country  \\\n",
       "2053                         ООО Киностудия  \"Сентябрь\"             Россия   \n",
       "2058  ООО \"Киностудия \"Слово\", ООО \"Арт Пикчерс Студия\"             Россия   \n",
       "2472   ООО \"Форпост Продакшн\", ООО \"Арт Пикчерс Студия\"             Россия   \n",
       "2532          АО \"ВайТ Медиа\", ООО \"Арт Пикчерс Студия\"             Россия   \n",
       "2615   ООО \"Глюкоза Продакшн\", ООО \"Арт Пикчерс Студия\"             Россия   \n",
       "2684                      ООО \"Кинокомпания \"КОКТЕБЕЛЬ\"             Россия   \n",
       "2788          АО \"ВайТ Медиа\", ООО \"Арт Пикчерс Студия\"             Россия   \n",
       "2874                                    ООО \"КиноФирма\"             Россия   \n",
       "3047          АО \"ВайТ Медиа\", ООО \"Арт Пикчерс Студия\"             Россия   \n",
       "3565      ООО \"Водород 2011\",  ООО \"Арт Пикчерс Студия\"             Россия   \n",
       "3675                                    ООО \"КиноФирма\"             Россия   \n",
       "3739           ООО \"ХАЙПФИЛМ\", ООО \"Арт Пикчерс Студия\"             Россия   \n",
       "5673  ООО \"Киностудия \"Слово\", ООО \"Арт Пикчерс Студия\"             Россия   \n",
       "5806                          ООО \"ЛИЦЕНЗИОННЫЕ БРЕНДЫ\"             Россия   \n",
       "6008                          ООО \"ЛИЦЕНЗИОННЫЕ БРЕНДЫ\"             Россия   \n",
       "6323                           ООО \"Арт Пикчерс Студия\"             Россия   \n",
       "6823                          ООО \"ЛИЦЕНЗИОННЫЕ БРЕНДЫ\"             Россия   \n",
       "\n",
       "                            director  \\\n",
       "2053                        А.Зайцев   \n",
       "2058                      Р.Прыгунов   \n",
       "2472                     А.Андрианов   \n",
       "2532                    Д.Штурманова   \n",
       "2615                        М.Фадеев   \n",
       "2684                     М.Местецкий   \n",
       "2788                       С Чекалов   \n",
       "2874                     В.Ровенский   \n",
       "3047                         Д.Тюрин   \n",
       "3565                     Ф.Бондарчук   \n",
       "3675                       А.Лукичев   \n",
       "3739                    А.Молочников   \n",
       "5673                      Н.Хомерики   \n",
       "5806  В.Ровенский, Н.Лопато, В.Азеев   \n",
       "6008                      М.Нефедова   \n",
       "6323                         В.Саков   \n",
       "6823           Н.Лопато, В.Ровенский   \n",
       "\n",
       "                                               producer  \\\n",
       "2053                                О.Гранина, А.Зайцев   \n",
       "2058                 П.Ануров, Ф.Бондарчук, Д.Рудовский   \n",
       "2472                           ООО \"Арт Пикчерс Студия\"   \n",
       "2532                                        Т.Вайнштейн   \n",
       "2615                                         А.Чистяков   \n",
       "2684                              Р.Борисевич, А.Кушаев   \n",
       "2788              Ф.Бондарчук, Т.Вайнштейн, Д.Рудовский   \n",
       "2874                                    ООО \"КиноФирма\"   \n",
       "3047              Ф.Бондарчук, Т.Вайнштейн, Д.Рудовский   \n",
       "3565                           ООО \"Арт Пикчерс Студия\"   \n",
       "3675                                    ООО \"КиноФирма\"   \n",
       "3739  Ф.Бондарчук, Д.Рудовский, И.Стюарт, М.Османн, ...   \n",
       "5673                 П.Ануров, Ф.Бондарчук, Д.Рудовский   \n",
       "5806                          ООО \"ЛИЦЕНЗИОННЫЕ БРЕНДЫ\"   \n",
       "6008                          ООО \"ЛИЦЕНЗИОННЫЕ БРЕНДЫ\"   \n",
       "6323  ООО \"Арт Пикчерс Студия\", ООО \"КРИЭЙТИВ АНИМЭЙ...   \n",
       "6823                          ООО \"ЛИЦЕНЗИОННЫЕ БРЕНДЫ\"   \n",
       "\n",
       "                      age_restriction  refundable_support  \\\n",
       "2053  «16+» - для детей старше 16 лет                0.00   \n",
       "2058  «16+» - для детей старше 16 лет                0.00   \n",
       "2472  «12+» - для детей старше 12 лет       10,000,000.00   \n",
       "2532  «16+» - для детей старше 16 лет       20,000,000.00   \n",
       "2615    «6+» - для детей старше 6 лет       60,000,000.00   \n",
       "2684      «18+» - запрещено для детей                0.00   \n",
       "2788  «16+» - для детей старше 16 лет                0.00   \n",
       "2874  «12+» - для детей старше 12 лет                0.00   \n",
       "3047  «16+» - для детей старше 16 лет       19,000,000.00   \n",
       "3565  «12+» - для детей старше 12 лет                0.00   \n",
       "3675    «6+» - для детей старше 6 лет       20,000,000.00   \n",
       "3739  «16+» - для детей старше 16 лет       25,000,000.00   \n",
       "5673  «16+» - для детей старше 16 лет       20,000,000.00   \n",
       "5806    «6+» - для детей старше 6 лет       10,000,000.00   \n",
       "6008    «6+» - для детей старше 6 лет       40,000,000.00   \n",
       "6323    «6+» - для детей старше 6 лет                0.00   \n",
       "6823    «6+» - для детей старше 6 лет       60,000,000.00   \n",
       "\n",
       "      nonrefundable_support  budget                  financing_source ratings  \\\n",
       "2053          23,000,000.00    0.00  Министерство культуры, Фонд кино     6.6   \n",
       "2058          75,000,000.00    0.00                         Фонд кино     6.6   \n",
       "2472          70,000,000.00    0.00                         Фонд кино     7.8   \n",
       "2532                   0.00    0.00                         Фонд кино     6.2   \n",
       "2615         100,000,000.00    0.00                         Фонд кино     4.6   \n",
       "2684          59,000,000.00    0.00                         Фонд кино     6.3   \n",
       "2788          35,000,000.00    0.00                         Фонд кино     5.1   \n",
       "2874           6,000,000.00    0.00             Министерство культуры     4.3   \n",
       "3047          51,000,000.00    0.00                         Фонд кино     6.3   \n",
       "3565         250,000,000.00    0.00                         Фонд кино     5.6   \n",
       "3675          20,000,000.00    0.00                         Фонд кино     5.2   \n",
       "3739          20,000,000.00    0.00                         Фонд кино     4.8   \n",
       "5673          40,000,000.00    0.00                         Фонд кино     5.8   \n",
       "5806          60,000,000.00    0.00                         Фонд кино     5.0   \n",
       "6008          40,000,000.00    0.00                         Фонд кино     5.2   \n",
       "6323         138,969,465.00    0.00                         Фонд кино     NaN   \n",
       "6823         120,000,000.00    0.00                         Фонд кино     6.2   \n",
       "\n",
       "                              genres       box_office  \n",
       "2053                       мелодрама    10,234,016.10  \n",
       "2058                           драма   446,163,511.00  \n",
       "2472           боевик,драма,криминал   196,572,438.40  \n",
       "2532                 комедия,фэнтези    67,418,974.80  \n",
       "2615  мультфильм,приключения,фэнтези   184,487,551.40  \n",
       "2684                   комедия,драма     1,957,738.51  \n",
       "2788               комедия,мелодрама    72,937,783.20  \n",
       "2874                         комедия    15,362,931.43  \n",
       "3047               комедия,мелодрама    70,299,052.00  \n",
       "3565                      фантастика 1,038,321,489.00  \n",
       "3675     мультфильм,фэнтези,семейный    55,108,014.76  \n",
       "3739                         комедия    50,451,949.00  \n",
       "5673                   триллер,драма   225,196,400.03  \n",
       "5806              мультфильм,детский   106,514,301.03  \n",
       "6008      мультфильм,фэнтези,детский    83,366,328.66  \n",
       "6323                             NaN     1,334,699.40  \n",
       "6823  мультфильм,комедия,приключения   147,606,826.51  "
      ]
     },
     "execution_count": 59,
     "metadata": {},
     "output_type": "execute_result"
    }
   ],
   "source": [
    "df.query('(refundable_support + nonrefundable_support) > budget')"
   ]
  },
  {
   "cell_type": "markdown",
   "metadata": {},
   "source": [
    "Видим, что есть 17 строк, в которых бюджет равен нулю, причем государственная поддержка и сборы фильмов присутствуют. Бюджет, как минимум, должен содержать в себе сумму государственной поддержки. Поэтому удалим эти строки в силу того, что их мало."
   ]
  },
  {
   "cell_type": "code",
   "execution_count": 60,
   "metadata": {},
   "outputs": [],
   "source": [
    "df = df.drop(df.query('(refundable_support + nonrefundable_support) > budget').index)"
   ]
  },
  {
   "cell_type": "code",
   "execution_count": 61,
   "metadata": {},
   "outputs": [
    {
     "data": {
      "text/plain": [
       "0"
      ]
     },
     "execution_count": 61,
     "metadata": {},
     "output_type": "execute_result"
    }
   ],
   "source": [
    "# проверка\n",
    "len(df.query('(refundable_support + nonrefundable_support) > budget'))"
   ]
  },
  {
   "cell_type": "markdown",
   "metadata": {},
   "source": [
    "Немного скорректировали данные по бюджету. Теперь посмотрим на количественные характеристики."
   ]
  },
  {
   "cell_type": "code",
   "execution_count": 62,
   "metadata": {},
   "outputs": [
    {
     "data": {
      "text/html": [
       "<div>\n",
       "<style scoped>\n",
       "    .dataframe tbody tr th:only-of-type {\n",
       "        vertical-align: middle;\n",
       "    }\n",
       "\n",
       "    .dataframe tbody tr th {\n",
       "        vertical-align: top;\n",
       "    }\n",
       "\n",
       "    .dataframe thead th {\n",
       "        text-align: right;\n",
       "    }\n",
       "</style>\n",
       "<table border=\"1\" class=\"dataframe\">\n",
       "  <thead>\n",
       "    <tr style=\"text-align: right;\">\n",
       "      <th></th>\n",
       "      <th>pu_number</th>\n",
       "      <th>refundable_support</th>\n",
       "      <th>nonrefundable_support</th>\n",
       "      <th>budget</th>\n",
       "      <th>box_office</th>\n",
       "    </tr>\n",
       "  </thead>\n",
       "  <tbody>\n",
       "    <tr>\n",
       "      <td>count</td>\n",
       "      <td>7,412.00</td>\n",
       "      <td>313.00</td>\n",
       "      <td>313.00</td>\n",
       "      <td>313.00</td>\n",
       "      <td>3,123.00</td>\n",
       "    </tr>\n",
       "    <tr>\n",
       "      <td>mean</td>\n",
       "      <td>135,317,830.31</td>\n",
       "      <td>11,677,316.29</td>\n",
       "      <td>48,367,472.35</td>\n",
       "      <td>134,778,924.84</td>\n",
       "      <td>76,274,469.73</td>\n",
       "    </tr>\n",
       "    <tr>\n",
       "      <td>std</td>\n",
       "      <td>38,418,483.63</td>\n",
       "      <td>25,214,706.40</td>\n",
       "      <td>59,988,148.18</td>\n",
       "      <td>191,643,121.41</td>\n",
       "      <td>240,741,348.54</td>\n",
       "    </tr>\n",
       "    <tr>\n",
       "      <td>min</td>\n",
       "      <td>1,811,096.00</td>\n",
       "      <td>0.00</td>\n",
       "      <td>0.00</td>\n",
       "      <td>15,010,000.00</td>\n",
       "      <td>0.00</td>\n",
       "    </tr>\n",
       "    <tr>\n",
       "      <td>25%</td>\n",
       "      <td>113,000,693.25</td>\n",
       "      <td>0.00</td>\n",
       "      <td>25,000,000.00</td>\n",
       "      <td>46,154,000.00</td>\n",
       "      <td>85,671.50</td>\n",
       "    </tr>\n",
       "    <tr>\n",
       "      <td>50%</td>\n",
       "      <td>121,015,710.50</td>\n",
       "      <td>0.00</td>\n",
       "      <td>30,000,000.00</td>\n",
       "      <td>74,071,918.00</td>\n",
       "      <td>2,330,104.00</td>\n",
       "    </tr>\n",
       "    <tr>\n",
       "      <td>75%</td>\n",
       "      <td>124,003,318.25</td>\n",
       "      <td>10,000,000.00</td>\n",
       "      <td>40,000,000.00</td>\n",
       "      <td>150,008,573.00</td>\n",
       "      <td>23,667,864.95</td>\n",
       "    </tr>\n",
       "    <tr>\n",
       "      <td>max</td>\n",
       "      <td>231,001,111.00</td>\n",
       "      <td>180,000,000.00</td>\n",
       "      <td>400,000,000.00</td>\n",
       "      <td>2,305,074,303.00</td>\n",
       "      <td>3,073,568,690.79</td>\n",
       "    </tr>\n",
       "  </tbody>\n",
       "</table>\n",
       "</div>"
      ],
      "text/plain": [
       "           pu_number  refundable_support  nonrefundable_support  \\\n",
       "count       7,412.00              313.00                 313.00   \n",
       "mean  135,317,830.31       11,677,316.29          48,367,472.35   \n",
       "std    38,418,483.63       25,214,706.40          59,988,148.18   \n",
       "min     1,811,096.00                0.00                   0.00   \n",
       "25%   113,000,693.25                0.00          25,000,000.00   \n",
       "50%   121,015,710.50                0.00          30,000,000.00   \n",
       "75%   124,003,318.25       10,000,000.00          40,000,000.00   \n",
       "max   231,001,111.00      180,000,000.00         400,000,000.00   \n",
       "\n",
       "                budget       box_office  \n",
       "count           313.00         3,123.00  \n",
       "mean    134,778,924.84    76,274,469.73  \n",
       "std     191,643,121.41   240,741,348.54  \n",
       "min      15,010,000.00             0.00  \n",
       "25%      46,154,000.00        85,671.50  \n",
       "50%      74,071,918.00     2,330,104.00  \n",
       "75%     150,008,573.00    23,667,864.95  \n",
       "max   2,305,074,303.00 3,073,568,690.79  "
      ]
     },
     "execution_count": 62,
     "metadata": {},
     "output_type": "execute_result"
    }
   ],
   "source": [
    "df.describe(include=['int', 'float'])"
   ]
  },
  {
   "cell_type": "markdown",
   "metadata": {},
   "source": [
    "#####  `pu_number`"
   ]
  },
  {
   "cell_type": "markdown",
   "metadata": {},
   "source": [
    "Этот столбец хоть и состоит из числового значения, но к количественным его нельзя отнести. Однако небольшие изменения здесь нужно внести - приведем к типу данных `int64`."
   ]
  },
  {
   "cell_type": "code",
   "execution_count": 63,
   "metadata": {
    "id": "YbzClBxagFyS"
   },
   "outputs": [],
   "source": [
    "df['pu_number'] = df['pu_number'].astype('int64')"
   ]
  },
  {
   "cell_type": "code",
   "execution_count": 64,
   "metadata": {},
   "outputs": [
    {
     "data": {
      "text/plain": [
       "dtype('int64')"
      ]
     },
     "execution_count": 64,
     "metadata": {},
     "output_type": "execute_result"
    }
   ],
   "source": [
    "# проверка\n",
    "df['pu_number'].dtypes"
   ]
  },
  {
   "cell_type": "markdown",
   "metadata": {},
   "source": [
    "#####  `refundable_support`"
   ]
  },
  {
   "cell_type": "markdown",
   "metadata": {},
   "source": [
    "Очень странно, что `Q1` и медиана равны минимальному значению, то есть нулю. Посмотрим, есть ли выбросы с помощью `boxplot`."
   ]
  },
  {
   "cell_type": "code",
   "execution_count": 65,
   "metadata": {
    "scrolled": false
   },
   "outputs": [
    {
     "data": {
      "image/png": "[encoded data removed]",
      "text/plain": [
       "<Figure size 432x288 with 1 Axes>"
      ]
     },
     "metadata": {
      "needs_background": "light"
     },
     "output_type": "display_data"
    }
   ],
   "source": [
    "df.boxplot(column=('refundable_support'));"
   ]
  },
  {
   "cell_type": "markdown",
   "metadata": {},
   "source": [
    "Напишем функцию для опеределения верхнего и нижнего порогов нормальных значений."
   ]
  },
  {
   "cell_type": "code",
   "execution_count": 66,
   "metadata": {},
   "outputs": [],
   "source": [
    "def remove_outlier(col):\n",
    "    # определим значение IQR через Q1 и Q3\n",
    "    # найдем верхнюю и нижнюю границы\n",
    "    Q1,Q3 = col.quantile([.25, .75])\n",
    "    IQR = Q3 - Q1\n",
    "    lower_range = Q1 - (1.5 * IQR)\n",
    "    upper_range = Q3 + (1.5 * IQR)\n",
    "    return lower_range, upper_range"
   ]
  },
  {
   "cell_type": "code",
   "execution_count": 67,
   "metadata": {},
   "outputs": [],
   "source": [
    "low_refund, up_refund = remove_outlier(df['refundable_support'])"
   ]
  },
  {
   "cell_type": "markdown",
   "metadata": {},
   "source": [
    "Выберем те, которые ниже вернего порога и выше нижнего."
   ]
  },
  {
   "cell_type": "code",
   "execution_count": 68,
   "metadata": {},
   "outputs": [
    {
     "data": {
      "text/plain": [
       "264"
      ]
     },
     "execution_count": 68,
     "metadata": {},
     "output_type": "execute_result"
    }
   ],
   "source": [
    "df[(df['refundable_support'] <= up_refund) & (df['refundable_support'] >= low_refund)]['refundable_support'].count()"
   ]
  },
  {
   "cell_type": "code",
   "execution_count": 69,
   "metadata": {
    "scrolled": true
   },
   "outputs": [
    {
     "data": {
      "image/png": "[encoded data removed]",
      "text/plain": [
       "<Figure size 432x288 with 1 Axes>"
      ]
     },
     "metadata": {
      "needs_background": "light"
     },
     "output_type": "display_data"
    }
   ],
   "source": [
    "df[(df['refundable_support'] <= up_refund) & (df['refundable_support'] >= low_refund)].boxplot(column='refundable_support');"
   ]
  },
  {
   "cell_type": "markdown",
   "metadata": {},
   "source": [
    "Выборка будет состоять из 290 значений. Остальное не входит в границы."
   ]
  },
  {
   "cell_type": "markdown",
   "metadata": {},
   "source": [
    "#####  `nonrefundable_support`"
   ]
  },
  {
   "cell_type": "code",
   "execution_count": 70,
   "metadata": {},
   "outputs": [
    {
     "data": {
      "image/png": "[encoded data removed]",
      "text/plain": [
       "<Figure size 432x288 with 1 Axes>"
      ]
     },
     "metadata": {
      "needs_background": "light"
     },
     "output_type": "display_data"
    }
   ],
   "source": [
    "df.boxplot(column=('nonrefundable_support'));"
   ]
  },
  {
   "cell_type": "markdown",
   "metadata": {},
   "source": [
    "Теперь найдем границы."
   ]
  },
  {
   "cell_type": "code",
   "execution_count": 71,
   "metadata": {},
   "outputs": [],
   "source": [
    "low_nonrefund, up_nonrefund = remove_outlier(df['nonrefundable_support'])"
   ]
  },
  {
   "cell_type": "code",
   "execution_count": 72,
   "metadata": {},
   "outputs": [
    {
     "data": {
      "image/png": "[encoded data removed]",
      "text/plain": [
       "<Figure size 432x288 with 1 Axes>"
      ]
     },
     "metadata": {
      "needs_background": "light"
     },
     "output_type": "display_data"
    }
   ],
   "source": [
    "df[(df['nonrefundable_support'] <= up_nonrefund) & (df['nonrefundable_support'] >= low_nonrefund)].boxplot(column=('nonrefundable_support'));"
   ]
  },
  {
   "cell_type": "markdown",
   "metadata": {},
   "source": [
    "#####  `budget`"
   ]
  },
  {
   "cell_type": "markdown",
   "metadata": {},
   "source": [
    "Аналогично пункту **1.3.5.3**"
   ]
  },
  {
   "cell_type": "code",
   "execution_count": 73,
   "metadata": {},
   "outputs": [
    {
     "data": {
      "image/png": "[encoded data removed]",
      "text/plain": [
       "<Figure size 432x288 with 1 Axes>"
      ]
     },
     "metadata": {
      "needs_background": "light"
     },
     "output_type": "display_data"
    }
   ],
   "source": [
    "df.boxplot(column=('budget'));"
   ]
  },
  {
   "cell_type": "code",
   "execution_count": 74,
   "metadata": {},
   "outputs": [],
   "source": [
    "low_budget, up_budget = remove_outlier(df['budget'])"
   ]
  },
  {
   "cell_type": "code",
   "execution_count": 75,
   "metadata": {},
   "outputs": [
    {
     "data": {
      "image/png": "[encoded data removed]",
      "text/plain": [
       "<Figure size 432x288 with 1 Axes>"
      ]
     },
     "metadata": {
      "needs_background": "light"
     },
     "output_type": "display_data"
    }
   ],
   "source": [
    "df[(df['budget'] <= up_budget) & (df['budget'] >= low_budget)].boxplot(column=('budget'));"
   ]
  },
  {
   "cell_type": "markdown",
   "metadata": {},
   "source": [
    "#####  `box_office`"
   ]
  },
  {
   "cell_type": "code",
   "execution_count": 76,
   "metadata": {},
   "outputs": [
    {
     "data": {
      "image/png": "[encoded data removed]",
      "text/plain": [
       "<Figure size 432x288 with 1 Axes>"
      ]
     },
     "metadata": {
      "needs_background": "light"
     },
     "output_type": "display_data"
    }
   ],
   "source": [
    "df.boxplot(column=('box_office'));"
   ]
  },
  {
   "cell_type": "code",
   "execution_count": 77,
   "metadata": {},
   "outputs": [],
   "source": [
    "low_office, up_office = remove_outlier(df['box_office'])"
   ]
  },
  {
   "cell_type": "code",
   "execution_count": 78,
   "metadata": {},
   "outputs": [
    {
     "data": {
      "image/png": "[encoded data removed]",
      "text/plain": [
       "<Figure size 432x288 with 1 Axes>"
      ]
     },
     "metadata": {
      "needs_background": "light"
     },
     "output_type": "display_data"
    }
   ],
   "source": [
    "df[(df['box_office'] <= up_office) & (df['box_office'] >= low_office)].boxplot(column=('box_office'));"
   ]
  },
  {
   "cell_type": "markdown",
   "metadata": {
    "id": "Eu6oWp2CgFyS"
   },
   "source": [
    "#### Добавим новые столбцы"
   ]
  },
  {
   "cell_type": "markdown",
   "metadata": {},
   "source": [
    "##### Столбец с информацией о годе выпуска фильма в прокат."
   ]
  },
  {
   "cell_type": "markdown",
   "metadata": {},
   "source": [
    "Напишем функцию, возвращающую год выпуска фильма."
   ]
  },
  {
   "cell_type": "code",
   "execution_count": 79,
   "metadata": {},
   "outputs": [],
   "source": [
    "def take_start_year(date):\n",
    "    return date.year"
   ]
  },
  {
   "cell_type": "markdown",
   "metadata": {},
   "source": [
    "Создадим новый столбец, применив фукцию к столбцу `show_date_time` методом `apply`."
   ]
  },
  {
   "cell_type": "code",
   "execution_count": 80,
   "metadata": {},
   "outputs": [],
   "source": [
    "df['start_year'] = df['show_start_date'].apply(take_start_year)"
   ]
  },
  {
   "cell_type": "code",
   "execution_count": 81,
   "metadata": {},
   "outputs": [
    {
     "data": {
      "text/plain": [
       "0    2015\n",
       "1    2016\n",
       "2    2016\n",
       "3    2016\n",
       "4    2015\n",
       "Name: start_year, dtype: int64"
      ]
     },
     "execution_count": 81,
     "metadata": {},
     "output_type": "execute_result"
    }
   ],
   "source": [
    "# проверка\n",
    "df['start_year'].head()"
   ]
  },
  {
   "cell_type": "markdown",
   "metadata": {},
   "source": [
    "##### Столбцы с именем и фамилией главного режиссёра и основным жанром фильма."
   ]
  },
  {
   "cell_type": "markdown",
   "metadata": {},
   "source": [
    "Сначала создадим столбец с именем и фамилией главного режиссёра из столбца `director`. Посмотрим, как выглядит столбец."
   ]
  },
  {
   "cell_type": "code",
   "execution_count": 82,
   "metadata": {},
   "outputs": [
    {
     "data": {
      "text/plain": [
       "array([' Йохан Нийенхейс', ' Н.Орлов, Р.Быков', ' Р.Асхаев', ...,\n",
       "       'хореография Пьера Лакотта по Филиппу Тальони',\n",
       "       'хореография Фредерика Аштона', 'хореография Фредерика Эштона'],\n",
       "      dtype=object)"
      ]
     },
     "execution_count": 82,
     "metadata": {},
     "output_type": "execute_result"
    }
   ],
   "source": [
    "df['director'].sort_values().unique()"
   ]
  },
  {
   "cell_type": "markdown",
   "metadata": {},
   "source": [
    "Присутствуют лишние пробелы. Избавимся от них методом `str.strip()`."
   ]
  },
  {
   "cell_type": "code",
   "execution_count": 83,
   "metadata": {
    "scrolled": true
   },
   "outputs": [],
   "source": [
    "df['director'] = df['director'].str.strip()"
   ]
  },
  {
   "cell_type": "markdown",
   "metadata": {},
   "source": [
    "Так же в столбце встречаются несколько режиссёров. В качестве главного выберем первого в списке, то есть с индексом \"0\". Для этого напишем функцию."
   ]
  },
  {
   "cell_type": "code",
   "execution_count": 84,
   "metadata": {},
   "outputs": [],
   "source": [
    "def choice_main_director(director):\n",
    "    # функция делит строку по запятой и возвращает первого в списке режиссёра\n",
    "    return director.split(',')[0]"
   ]
  },
  {
   "cell_type": "markdown",
   "metadata": {},
   "source": [
    "Применим функцию к столбцу `director` с помощью `apply`."
   ]
  },
  {
   "cell_type": "code",
   "execution_count": 85,
   "metadata": {},
   "outputs": [],
   "source": [
    "df['main_director'] = df['director'].apply(choice_main_director)"
   ]
  },
  {
   "cell_type": "code",
   "execution_count": 86,
   "metadata": {},
   "outputs": [
    {
     "data": {
      "text/plain": [
       "724                     хореография Фредерика Эштона\n",
       "2731                    хореография Фредерика Аштона\n",
       "1554    хореография Пьера Лакотта по Филиппу Тальони\n",
       "1318                        хореография Питера Райта\n",
       "765                         хореография Питера Райта\n",
       "                            ...                     \n",
       "5411                                     А. Калюжный\n",
       "5482                                    А Андрющенко\n",
       "3561                                       Ён Сан-хо\n",
       "2656                                   Ёлкин Туйчиев\n",
       "2657                                   Ёлкин Туйчиев\n",
       "Name: main_director, Length: 7412, dtype: object"
      ]
     },
     "execution_count": 86,
     "metadata": {},
     "output_type": "execute_result"
    }
   ],
   "source": [
    "# проверка\n",
    "df['main_director'].sort_values(ascending=False)"
   ]
  },
  {
   "cell_type": "markdown",
   "metadata": {},
   "source": [
    "Теперь создадим столбец с основным жанром из столбца `genres`. Посмотрим, как выглядит столбец."
   ]
  },
  {
   "cell_type": "code",
   "execution_count": 87,
   "metadata": {},
   "outputs": [
    {
     "data": {
      "text/plain": [
       "array(['аниме,мультфильм', 'аниме,мультфильм,боевик',\n",
       "       'аниме,мультфильм,детектив', 'аниме,мультфильм,драма',\n",
       "       'аниме,мультфильм,комедия', 'аниме,мультфильм,короткометражка',\n",
       "       'аниме,мультфильм,мелодрама', 'аниме,мультфильм,приключения',\n",
       "       'аниме,мультфильм,ужасы', 'аниме,мультфильм,фантастика',\n",
       "       'аниме,мультфильм,фэнтези', 'биография', 'биография,военный,драма',\n",
       "       'биография,документальный', 'биография,драма',\n",
       "       'биография,драма,военный', 'биография,драма,история',\n",
       "       'биография,драма,криминал', 'биография,история',\n",
       "       'биография,история,драма', 'биография,криминал,драма',\n",
       "       'биография,криминал,триллер', 'биография,мелодрама,драма',\n",
       "       'биография,музыка,драма', 'биография,музыка,мюзикл',\n",
       "       'биография,спорт,драма', 'биография,спорт,история',\n",
       "       'биография,спорт,комедия', 'боевик', 'боевик,вестерн,приключения',\n",
       "       'боевик,военный', 'боевик,военный,драма', 'боевик,военный,история',\n",
       "       'боевик,детектив', 'боевик,драма', 'боевик,драма,биография',\n",
       "       'боевик,драма,вестерн', 'боевик,драма,военный',\n",
       "       'боевик,драма,история', 'боевик,драма,комедия',\n",
       "       'боевик,драма,криминал', 'боевик,драма,мелодрама',\n",
       "       'боевик,драма,приключения', 'боевик,драма,триллер',\n",
       "       'боевик,история', 'боевик,история,драма', 'боевик,комедия',\n",
       "       'боевик,комедия,криминал', 'боевик,комедия,приключения',\n",
       "       'боевик,комедия,семейный', 'боевик,криминал',\n",
       "       'боевик,криминал,детектив', 'боевик,криминал,драма',\n",
       "       'боевик,криминал,триллер', 'боевик,мелодрама',\n",
       "       'боевик,мелодрама,комедия', 'боевик,приключения',\n",
       "       'боевик,приключения,детектив', 'боевик,приключения,история',\n",
       "       'боевик,приключения,семейный', 'боевик,приключения,триллер',\n",
       "       'боевик,спорт,драма', 'боевик,триллер', 'боевик,триллер,детектив',\n",
       "       'боевик,триллер,драма', 'боевик,триллер,комедия',\n",
       "       'боевик,триллер,криминал', 'боевик,триллер,мелодрама',\n",
       "       'боевик,триллер,приключения', 'боевик,триллер,фэнтези',\n",
       "       'боевик,фантастика', 'боевик,фантастика,приключения',\n",
       "       'боевик,фантастика,триллер', 'боевик,фэнтези',\n",
       "       'боевик,фэнтези,драма', 'вестерн,биография,драма',\n",
       "       'вестерн,боевик,драма', 'вестерн,драма,триллер',\n",
       "       'вестерн,криминал,триллер', 'вестерн,приключения,боевик',\n",
       "       'военный', 'военный,биография,драма', 'военный,боевик,драма',\n",
       "       'военный,боевик,история', 'военный,детектив', 'военный,драма',\n",
       "       'военный,драма,боевик', 'военный,драма,история',\n",
       "       'военный,драма,комедия', 'военный,история',\n",
       "       'военный,история,драма', 'военный,приключения,драма', 'детектив',\n",
       "       'детектив,боевик,история', 'детектив,драма,криминал',\n",
       "       'детектив,драма,триллер', 'детектив,история,драма',\n",
       "       'детектив,комедия', 'детектив,комедия,драма', 'детектив,криминал',\n",
       "       'детектив,криминал,боевик', 'детектив,криминал,драма',\n",
       "       'детектив,криминал,триллер', 'детектив,мелодрама',\n",
       "       'детектив,мелодрама,фэнтези', 'детектив,приключения,драма',\n",
       "       'детектив,приключения,триллер', 'детектив,триллер',\n",
       "       'детектив,триллер,боевик', 'детектив,триллер,драма',\n",
       "       'детектив,триллер,криминал', 'детектив,триллер,ужасы',\n",
       "       'детектив,ужасы,криминал', 'детектив,фантастика,криминал',\n",
       "       'детектив,фантастика,триллер', 'детектив,фильм-нуар,комедия',\n",
       "       'детектив,фэнтези,триллер', 'детский', 'детский,комедия',\n",
       "       'детский,мелодрама,семейный', 'детский,мультфильм,приключения',\n",
       "       'детский,приключения,семейный', 'детский,приключения,фантастика',\n",
       "       'детский,семейный', 'детский,фэнтези',\n",
       "       'детский,фэнтези,приключения', 'для взрослых,драма,комедия',\n",
       "       'для взрослых,драма,мелодрама', 'документальный',\n",
       "       'документальный,биография', 'документальный,биография,история',\n",
       "       'документальный,биография,музыка',\n",
       "       'документальный,биография,спорт',\n",
       "       'документальный,боевик,приключения',\n",
       "       'документальный,военный,драма', 'документальный,военный,история',\n",
       "       'документальный,драма', 'документальный,драма,биография',\n",
       "       'документальный,драма,история', 'документальный,драма,комедия',\n",
       "       'документальный,драма,музыка', 'документальный,драма,семейный',\n",
       "       'документальный,история', 'документальный,комедия',\n",
       "       'документальный,комедия,история',\n",
       "       'документальный,комедия,криминал',\n",
       "       'документальный,короткометражка',\n",
       "       'документальный,короткометражка,семейный',\n",
       "       'документальный,криминал,военный', 'документальный,музыка',\n",
       "       'документальный,музыка,биография', 'документальный,музыка,концерт',\n",
       "       'документальный,мюзикл', 'документальный,новости,драма',\n",
       "       'документальный,приключения',\n",
       "       'документальный,приключения,семейный', 'документальный,семейный',\n",
       "       'документальный,семейный,музыка', 'документальный,спорт',\n",
       "       'документальный,спорт,биография',\n",
       "       'документальный,триллер,биография', 'документальный,ужасы',\n",
       "       'документальный,ужасы,боевик', 'документальный,фантастика',\n",
       "       'документальный,фэнтези', 'документальный,фэнтези,драма',\n",
       "       'документальный,фэнтези,семейный', 'драма', 'драма,биография',\n",
       "       'драма,биография,история', 'драма,биография,комедия',\n",
       "       'драма,биография,музыка', 'драма,биография,мюзикл',\n",
       "       'драма,биография,спорт', 'драма,боевик', 'драма,боевик,история',\n",
       "       'драма,боевик,криминал', 'драма,боевик,приключения',\n",
       "       'драма,вестерн', 'драма,вестерн,боевик',\n",
       "       'драма,вестерн,приключения', 'драма,военный',\n",
       "       'драма,военный,биография', 'драма,военный,боевик',\n",
       "       'драма,военный,история', 'драма,военный,приключения',\n",
       "       'драма,военный,триллер', 'драма,детектив',\n",
       "       'драма,детектив,история', 'драма,детектив,криминал',\n",
       "       'драма,детектив,приключения', 'драма,история',\n",
       "       'драма,история,биография', 'драма,история,военный',\n",
       "       'драма,история,детектив', 'драма,история,музыка',\n",
       "       'драма,история,триллер', 'драма,комедия',\n",
       "       'драма,комедия,биография', 'драма,комедия,вестерн',\n",
       "       'драма,комедия,военный', 'драма,комедия,детектив',\n",
       "       'драма,комедия,история', 'драма,комедия,криминал',\n",
       "       'драма,комедия,мелодрама', 'драма,комедия,музыка',\n",
       "       'драма,комедия,мультфильм', 'драма,комедия,приключения',\n",
       "       'драма,комедия,семейный', 'драма,комедия,спорт',\n",
       "       'драма,комедия,триллер', 'драма,комедия,ужасы',\n",
       "       'драма,комедия,фантастика', 'драма,криминал',\n",
       "       'драма,криминал,биография', 'драма,криминал,боевик',\n",
       "       'драма,криминал,вестерн', 'драма,криминал,детектив',\n",
       "       'драма,криминал,история', 'драма,криминал,приключения',\n",
       "       'драма,криминал,семейный', 'драма,криминал,спорт',\n",
       "       'драма,криминал,фантастика', 'драма,криминал,фильм-нуар',\n",
       "       'драма,мелодрама', 'драма,мелодрама,биография',\n",
       "       'драма,мелодрама,военный', 'драма,мелодрама,детектив',\n",
       "       'драма,мелодрама,история', 'драма,мелодрама,комедия',\n",
       "       'драма,мелодрама,криминал', 'драма,мелодрама,музыка',\n",
       "       'драма,мелодрама,приключения', 'драма,мелодрама,семейный',\n",
       "       'драма,мелодрама,триллер', 'драма,мелодрама,фэнтези',\n",
       "       'драма,музыка', 'драма,мультфильм', 'драма,приключения',\n",
       "       'драма,приключения,биография', 'драма,приключения,военный',\n",
       "       'драма,приключения,история', 'драма,приключения,мелодрама',\n",
       "       'драма,приключения,семейный', 'драма,приключения,триллер',\n",
       "       'драма,приключения,фэнтези', 'драма,семейный',\n",
       "       'драма,семейный,биография', 'драма,семейный,комедия',\n",
       "       'драма,спорт', 'драма,спорт,биография', 'драма,спорт,боевик',\n",
       "       'драма,спорт,история', 'драма,спорт,комедия',\n",
       "       'драма,спорт,семейный', 'драма,триллер', 'драма,триллер,биография',\n",
       "       'драма,триллер,детектив', 'драма,триллер,криминал',\n",
       "       'драма,триллер,приключения', 'драма,ужасы', 'драма,фантастика',\n",
       "       'драма,фантастика,триллер', 'драма,фантастика,ужасы',\n",
       "       'драма,фэнтези', 'драма,фэнтези,история', 'история',\n",
       "       'история,биография,военный', 'история,биография,драма',\n",
       "       'история,боевик,фэнтези', 'история,детектив', 'история,драма',\n",
       "       'история,драма,боевик', 'история,драма,мелодрама',\n",
       "       'история,криминал', 'история,мелодрама', 'история,приключения',\n",
       "       'история,спорт,драма', 'комедия', 'комедия,биография',\n",
       "       'комедия,биография,история', 'комедия,боевик,криминал',\n",
       "       'комедия,боевик,приключения', 'комедия,боевик,фантастика',\n",
       "       'комедия,вестерн', 'комедия,военный', 'комедия,военный,музыка',\n",
       "       'комедия,детектив', 'комедия,детектив,приключения',\n",
       "       'комедия,драма', 'комедия,драма,биография',\n",
       "       'комедия,драма,военный', 'комедия,драма,короткометражка',\n",
       "       'комедия,драма,криминал', 'комедия,драма,мелодрама',\n",
       "       'комедия,драма,семейный', 'комедия,история',\n",
       "       'комедия,история,драма', 'комедия,криминал',\n",
       "       'комедия,криминал,биография', 'комедия,криминал,боевик',\n",
       "       'комедия,криминал,детектив', 'комедия,криминал,драма',\n",
       "       'комедия,криминал,история', 'комедия,криминал,приключения',\n",
       "       'комедия,криминал,семейный', 'комедия,криминал,спорт',\n",
       "       'комедия,криминал,триллер', 'комедия,мелодрама',\n",
       "       'комедия,мелодрама,драма', 'комедия,мелодрама,криминал',\n",
       "       'комедия,мелодрама,фантастика', 'комедия,мелодрама,фэнтези',\n",
       "       'комедия,музыка', 'комедия,музыка,драма',\n",
       "       'комедия,мультфильм,фантастика', 'комедия,приключения',\n",
       "       'комедия,приключения,вестерн', 'комедия,приключения,детектив',\n",
       "       'комедия,приключения,история', 'комедия,приключения,криминал',\n",
       "       'комедия,приключения,мелодрама', 'комедия,приключения,музыка',\n",
       "       'комедия,приключения,семейный', 'комедия,приключения,спорт',\n",
       "       'комедия,приключения,фэнтези', 'комедия,семейный',\n",
       "       'комедия,семейный,музыка', 'комедия,семейный,приключения',\n",
       "       'комедия,семейный,фантастика', 'комедия,семейный,фэнтези',\n",
       "       'комедия,спорт', 'комедия,триллер', 'комедия,триллер,драма',\n",
       "       'комедия,ужасы', 'комедия,фантастика', 'комедия,фантастика,боевик',\n",
       "       'комедия,фантастика,мелодрама', 'комедия,фэнтези',\n",
       "       'комедия,фэнтези,криминал', 'комедия,фэнтези,мелодрама',\n",
       "       'комедия,фэнтези,приключения', 'комедия,фэнтези,ужасы',\n",
       "       'концерт,музыка', 'концерт,музыка,документальный',\n",
       "       'короткометражка', 'короткометражка,биография',\n",
       "       'короткометражка,боевик,драма', 'короткометражка,драма',\n",
       "       'короткометражка,драма,военный', 'короткометражка,драма,триллер',\n",
       "       'короткометражка,комедия,криминал', 'короткометражка,мелодрама',\n",
       "       'короткометражка,музыка', 'короткометражка,мультфильм', 'криминал',\n",
       "       'криминал,биография,комедия', 'криминал,боевик',\n",
       "       'криминал,боевик,комедия', 'криминал,боевик,триллер',\n",
       "       'криминал,детектив', 'криминал,детектив,приключения',\n",
       "       'криминал,драма', 'криминал,драма,комедия',\n",
       "       'криминал,драма,триллер', 'криминал,комедия',\n",
       "       'криминал,комедия,боевик', 'криминал,комедия,драма',\n",
       "       'криминал,комедия,триллер', 'криминал,мелодрама',\n",
       "       'криминал,триллер,драма', 'мелодрама', 'мелодрама,биография',\n",
       "       'мелодрама,военный,драма', 'мелодрама,детектив',\n",
       "       'мелодрама,детектив,комедия', 'мелодрама,драма',\n",
       "       'мелодрама,драма,боевик', 'мелодрама,драма,комедия',\n",
       "       'мелодрама,драма,музыка', 'мелодрама,драма,фэнтези',\n",
       "       'мелодрама,история', 'мелодрама,история,драма',\n",
       "       'мелодрама,история,триллер', 'мелодрама,комедия',\n",
       "       'мелодрама,комедия,драма', 'мелодрама,комедия,криминал',\n",
       "       'мелодрама,комедия,музыка', 'мелодрама,комедия,приключения',\n",
       "       'мелодрама,комедия,семейный', 'мелодрама,комедия,спорт',\n",
       "       'мелодрама,комедия,триллер', 'мелодрама,комедия,ужасы',\n",
       "       'мелодрама,криминал', 'мелодрама,музыка', 'мелодрама,музыка,драма',\n",
       "       'мелодрама,приключения', 'мелодрама,приключения,боевик',\n",
       "       'мелодрама,семейный', 'мелодрама,семейный,приключения',\n",
       "       'мелодрама,триллер,история', 'мелодрама,фантастика,драма',\n",
       "       'мелодрама,фэнтези,триллер', 'музыка,концерт',\n",
       "       'музыка,концерт,документальный', 'музыка,мелодрама,фэнтези',\n",
       "       'музыка,приключения,концерт', 'мультфильм',\n",
       "       'мультфильм,биография,драма', 'мультфильм,боевик,детектив',\n",
       "       'мультфильм,боевик,комедия', 'мультфильм,боевик,приключения',\n",
       "       'мультфильм,боевик,триллер', 'мультфильм,детский',\n",
       "       'мультфильм,детский,комедия', 'мультфильм,детский,приключения',\n",
       "       'мультфильм,детский,семейный', 'мультфильм,драма',\n",
       "       'мультфильм,драма,комедия', 'мультфильм,драма,приключения',\n",
       "       'мультфильм,история', 'мультфильм,комедия',\n",
       "       'мультфильм,комедия,детский', 'мультфильм,комедия,криминал',\n",
       "       'мультфильм,комедия,приключения', 'мультфильм,комедия,семейный',\n",
       "       'мультфильм,комедия,фантастика', 'мультфильм,короткометражка',\n",
       "       'мультфильм,короткометражка,детский',\n",
       "       'мультфильм,короткометражка,комедия',\n",
       "       'мультфильм,короткометражка,мелодрама',\n",
       "       'мультфильм,короткометражка,мюзикл',\n",
       "       'мультфильм,короткометражка,ужасы',\n",
       "       'мультфильм,короткометражка,фэнтези', 'мультфильм,мелодрама,драма',\n",
       "       'мультфильм,мелодрама,комедия', 'мультфильм,мелодрама,приключения',\n",
       "       'мультфильм,мюзикл,детский', 'мультфильм,мюзикл,драма',\n",
       "       'мультфильм,мюзикл,комедия', 'мультфильм,мюзикл,мелодрама',\n",
       "       'мультфильм,мюзикл,фэнтези', 'мультфильм,приключения',\n",
       "       'мультфильм,приключения,военный',\n",
       "       'мультфильм,приключения,детектив',\n",
       "       'мультфильм,приключения,детский', 'мультфильм,приключения,драма',\n",
       "       'мультфильм,приключения,комедия',\n",
       "       'мультфильм,приключения,семейный',\n",
       "       'мультфильм,приключения,фантастика',\n",
       "       'мультфильм,приключения,фэнтези', 'мультфильм,семейный',\n",
       "       'мультфильм,семейный,детский', 'мультфильм,семейный,драма',\n",
       "       'мультфильм,семейный,комедия', 'мультфильм,семейный,спорт',\n",
       "       'мультфильм,семейный,фэнтези', 'мультфильм,ужасы,комедия',\n",
       "       'мультфильм,ужасы,фантастика', 'мультфильм,ужасы,фэнтези',\n",
       "       'мультфильм,фантастика,боевик', 'мультфильм,фантастика,комедия',\n",
       "       'мультфильм,фантастика,приключения',\n",
       "       'мультфильм,фантастика,фэнтези', 'мультфильм,фэнтези',\n",
       "       'мультфильм,фэнтези,боевик', 'мультфильм,фэнтези,детский',\n",
       "       'мультфильм,фэнтези,драма', 'мультфильм,фэнтези,история',\n",
       "       'мультфильм,фэнтези,комедия', 'мультфильм,фэнтези,мелодрама',\n",
       "       'мультфильм,фэнтези,приключения', 'мультфильм,фэнтези,семейный',\n",
       "       'мультфильм,фэнтези,триллер', 'мюзикл', 'мюзикл,боевик,драма',\n",
       "       'мюзикл,драма', 'мюзикл,драма,мелодрама', 'мюзикл,комедия',\n",
       "       'мюзикл,комедия,детский', 'мюзикл,комедия,мелодрама',\n",
       "       'мюзикл,комедия,музыка', 'мюзикл,комедия,приключения',\n",
       "       'мюзикл,мелодрама', 'мюзикл,мелодрама,комедия',\n",
       "       'мюзикл,мелодрама,фэнтези', 'мюзикл,семейный',\n",
       "       'мюзикл,семейный,драма', 'мюзикл,ужасы,триллер',\n",
       "       'мюзикл,фэнтези,драма', 'мюзикл,фэнтези,комедия',\n",
       "       'мюзикл,фэнтези,мелодрама', 'мюзикл,фэнтези,семейный',\n",
       "       'приключения', 'приключения,биография,драма',\n",
       "       'приключения,биография,история', 'приключения,боевик',\n",
       "       'приключения,боевик,триллер', 'приключения,вестерн,боевик',\n",
       "       'приключения,военный', 'приключения,детектив,мелодрама',\n",
       "       'приключения,детектив,семейный', 'приключения,детский',\n",
       "       'приключения,детский,комедия', 'приключения,драма',\n",
       "       'приключения,драма,фантастика', 'приключения,история',\n",
       "       'приключения,история,военный', 'приключения,история,драма',\n",
       "       'приключения,мелодрама,детектив', 'приключения,семейный',\n",
       "       'приключения,семейный,драма', 'приключения,триллер',\n",
       "       'приключения,триллер,биография', 'приключения,фантастика',\n",
       "       'приключения,фантастика,драма', 'приключения,фантастика,семейный',\n",
       "       'приключения,фэнтези', 'приключения,фэнтези,семейный',\n",
       "       'реальное ТВ', 'семейный', 'семейный,детектив,детский',\n",
       "       'семейный,документальный', 'семейный,комедия',\n",
       "       'семейный,комедия,драма', 'семейный,комедия,музыка',\n",
       "       'семейный,мелодрама', 'семейный,мультфильм,комедия',\n",
       "       'семейный,приключения', 'семейный,приключения,военный',\n",
       "       'семейный,приключения,документальный',\n",
       "       'семейный,приключения,комедия', 'семейный,спорт,боевик',\n",
       "       'семейный,фэнтези', 'семейный,фэнтези,комедия', 'спорт,драма',\n",
       "       'спорт,драма,биография', 'спорт,драма,комедия',\n",
       "       'спорт,мелодрама,криминал', 'триллер', 'триллер,биография,драма',\n",
       "       'триллер,боевик', 'триллер,боевик,криминал',\n",
       "       'триллер,боевик,приключения', 'триллер,военный',\n",
       "       'триллер,детектив', 'триллер,детектив,драма',\n",
       "       'триллер,детектив,криминал', 'триллер,детектив,ужасы',\n",
       "       'триллер,драма', 'триллер,драма,биография', 'триллер,драма,боевик',\n",
       "       'триллер,драма,военный', 'триллер,драма,детектив',\n",
       "       'триллер,драма,история', 'триллер,драма,комедия',\n",
       "       'триллер,драма,криминал', 'триллер,драма,мелодрама',\n",
       "       'триллер,драма,приключения', 'триллер,драма,ужасы',\n",
       "       'триллер,драма,фантастика', 'триллер,комедия',\n",
       "       'триллер,комедия,криминал', 'триллер,комедия,ужасы',\n",
       "       'триллер,криминал', 'триллер,криминал,боевик',\n",
       "       'триллер,криминал,детектив', 'триллер,криминал,драма',\n",
       "       'триллер,криминал,комедия', 'триллер,криминал,приключения',\n",
       "       'триллер,мелодрама', 'триллер,мелодрама,детектив',\n",
       "       'триллер,мелодрама,драма', 'триллер,мелодрама,комедия',\n",
       "       'триллер,мелодрама,криминал', 'триллер,приключения',\n",
       "       'триллер,приключения,драма', 'триллер,ужасы',\n",
       "       'триллер,ужасы,детектив', 'триллер,ужасы,драма',\n",
       "       'триллер,ужасы,криминал', 'триллер,ужасы,мелодрама',\n",
       "       'триллер,фантастика,боевик', 'триллер,фантастика,драма',\n",
       "       'триллер,фэнтези', 'триллер,фэнтези,драма', 'ужасы',\n",
       "       'ужасы,боевик', 'ужасы,боевик,комедия', 'ужасы,боевик,криминал',\n",
       "       'ужасы,боевик,триллер', 'ужасы,боевик,фантастика',\n",
       "       'ужасы,боевик,фэнтези', 'ужасы,детектив', 'ужасы,драма',\n",
       "       'ужасы,драма,вестерн', 'ужасы,драма,военный',\n",
       "       'ужасы,драма,детектив', 'ужасы,драма,комедия',\n",
       "       'ужасы,драма,мелодрама', 'ужасы,драма,триллер', 'ужасы,комедия',\n",
       "       'ужасы,комедия,боевик', 'ужасы,комедия,детектив',\n",
       "       'ужасы,комедия,драма', 'ужасы,комедия,криминал',\n",
       "       'ужасы,комедия,музыка', 'ужасы,комедия,приключения',\n",
       "       'ужасы,комедия,семейный', 'ужасы,комедия,фантастика',\n",
       "       'ужасы,комедия,фэнтези', 'ужасы,мелодрама,детектив',\n",
       "       'ужасы,мелодрама,комедия', 'ужасы,приключения', 'ужасы,триллер',\n",
       "       'ужасы,триллер,детектив', 'ужасы,триллер,драма',\n",
       "       'ужасы,триллер,комедия', 'ужасы,триллер,криминал',\n",
       "       'ужасы,триллер,мелодрама', 'ужасы,триллер,приключения',\n",
       "       'ужасы,триллер,фантастика', 'ужасы,фантастика',\n",
       "       'ужасы,фантастика,боевик', 'ужасы,фантастика,детектив',\n",
       "       'ужасы,фантастика,драма', 'ужасы,фантастика,комедия',\n",
       "       'ужасы,фантастика,мелодрама', 'ужасы,фантастика,триллер',\n",
       "       'ужасы,фантастика,фэнтези', 'ужасы,фэнтези',\n",
       "       'ужасы,фэнтези,боевик', 'ужасы,фэнтези,детектив',\n",
       "       'ужасы,фэнтези,драма', 'ужасы,фэнтези,комедия',\n",
       "       'ужасы,фэнтези,мелодрама', 'ужасы,фэнтези,приключения',\n",
       "       'ужасы,фэнтези,триллер', 'фантастика', 'фантастика,боевик',\n",
       "       'фантастика,боевик,военный', 'фантастика,боевик,детектив',\n",
       "       'фантастика,боевик,драма', 'фантастика,боевик,комедия',\n",
       "       'фантастика,боевик,криминал', 'фантастика,боевик,мелодрама',\n",
       "       'фантастика,боевик,приключения', 'фантастика,боевик,семейный',\n",
       "       'фантастика,боевик,триллер', 'фантастика,боевик,ужасы',\n",
       "       'фантастика,боевик,фэнтези', 'фантастика,детектив,боевик',\n",
       "       'фантастика,детектив,фэнтези', 'фантастика,драма',\n",
       "       'фантастика,драма,боевик', 'фантастика,драма,детектив',\n",
       "       'фантастика,драма,комедия', 'фантастика,драма,криминал',\n",
       "       'фантастика,драма,мелодрама', 'фантастика,драма,приключения',\n",
       "       'фантастика,драма,триллер', 'фантастика,драма,ужасы',\n",
       "       'фантастика,комедия', 'фантастика,комедия,детектив',\n",
       "       'фантастика,комедия,приключения', 'фантастика,комедия,семейный',\n",
       "       'фантастика,мелодрама', 'фантастика,мелодрама,боевик',\n",
       "       'фантастика,мелодрама,комедия', 'фантастика,мелодрама,фэнтези',\n",
       "       'фантастика,мультфильм,драма', 'фантастика,приключения',\n",
       "       'фантастика,приключения,боевик', 'фантастика,приключения,военный',\n",
       "       'фантастика,приключения,детектив', 'фантастика,приключения,драма',\n",
       "       'фантастика,приключения,семейный', 'фантастика,триллер',\n",
       "       'фантастика,триллер,боевик', 'фантастика,триллер,детектив',\n",
       "       'фантастика,триллер,драма', 'фантастика,триллер,комедия',\n",
       "       'фантастика,триллер,криминал', 'фантастика,триллер,мелодрама',\n",
       "       'фантастика,триллер,приключения', 'фантастика,фэнтези,боевик',\n",
       "       'фантастика,фэнтези,детектив', 'фантастика,фэнтези,драма',\n",
       "       'фантастика,фэнтези,комедия', 'фантастика,фэнтези,приключения',\n",
       "       'фантастика,фэнтези,триллер', 'фильм-нуар,триллер,детектив',\n",
       "       'фэнтези', 'фэнтези,боевик', 'фэнтези,боевик,вестерн',\n",
       "       'фэнтези,боевик,военный', 'фэнтези,боевик,детектив',\n",
       "       'фэнтези,боевик,драма', 'фэнтези,боевик,комедия',\n",
       "       'фэнтези,боевик,криминал', 'фэнтези,боевик,мелодрама',\n",
       "       'фэнтези,боевик,приключения', 'фэнтези,боевик,семейный',\n",
       "       'фэнтези,боевик,триллер', 'фэнтези,боевик,ужасы', 'фэнтези,драма',\n",
       "       'фэнтези,драма,биография', 'фэнтези,драма,детектив',\n",
       "       'фэнтези,драма,комедия', 'фэнтези,драма,мелодрама',\n",
       "       'фэнтези,драма,приключения', 'фэнтези,драма,семейный',\n",
       "       'фэнтези,драма,ужасы', 'фэнтези,драма,фильм-нуар',\n",
       "       'фэнтези,комедия', 'фэнтези,комедия,детектив',\n",
       "       'фэнтези,комедия,драма', 'фэнтези,комедия,криминал',\n",
       "       'фэнтези,комедия,приключения', 'фэнтези,комедия,семейный',\n",
       "       'фэнтези,мелодрама', 'фэнтези,мелодрама,драма',\n",
       "       'фэнтези,мелодрама,комедия', 'фэнтези,мелодрама,приключения',\n",
       "       'фэнтези,приключения', 'фэнтези,приключения,боевик',\n",
       "       'фэнтези,приключения,драма', 'фэнтези,приключения,комедия',\n",
       "       'фэнтези,приключения,семейный', 'фэнтези,семейный',\n",
       "       'фэнтези,семейный,мелодрама', 'фэнтези,семейный,приключения',\n",
       "       'фэнтези,триллер,детектив', 'фэнтези,триллер,драма',\n",
       "       'фэнтези,триллер,мелодрама', 'фэнтези,триллер,приключения',\n",
       "       'фэнтези,ужасы', 'фэнтези,ужасы,триллер', nan], dtype=object)"
      ]
     },
     "execution_count": 87,
     "metadata": {},
     "output_type": "execute_result"
    }
   ],
   "source": [
    "df['genres'].sort_values().unique()"
   ]
  },
  {
   "cell_type": "markdown",
   "metadata": {},
   "source": [
    "Видим, что чаще всего встречаются сразу несколько жанров. По аналогии с главным режиссёром, выберем в качестве основного жанра первый из списка в каждой строке. При этом необходимо учесть тот факт, что в столбце есть пропуски `nan`."
   ]
  },
  {
   "cell_type": "markdown",
   "metadata": {},
   "source": [
    "Напишем функцию, которая будет проверять на наличие пропуска и возвращать пропуск в строке, если он был в исходном столбце `genres`, либо возвращать первый жанр из списка, то есть с индексом \"0\"."
   ]
  },
  {
   "cell_type": "code",
   "execution_count": 88,
   "metadata": {},
   "outputs": [],
   "source": [
    "def choice_main_genre(genre):\n",
    "    if genre != genre: # проверка на пропуск\n",
    "        return np.nan # возврат пропуска\n",
    "    else:\n",
    "        return genre.split(',')[0] # иначе возврат первого жанра в списке"
   ]
  },
  {
   "cell_type": "code",
   "execution_count": 89,
   "metadata": {},
   "outputs": [],
   "source": [
    "df['main_genre'] = df['genres'].apply(choice_main_genre)"
   ]
  },
  {
   "cell_type": "code",
   "execution_count": 90,
   "metadata": {},
   "outputs": [
    {
     "data": {
      "text/plain": [
       "array(['аниме', 'биография', 'боевик', 'вестерн', 'военный', 'детектив',\n",
       "       'детский', 'для взрослых', 'документальный', 'драма', 'история',\n",
       "       'комедия', 'концерт', 'короткометражка', 'криминал', 'мелодрама',\n",
       "       'музыка', 'мультфильм', 'мюзикл', 'приключения', 'реальное ТВ',\n",
       "       'семейный', 'спорт', 'триллер', 'ужасы', 'фантастика',\n",
       "       'фильм-нуар', 'фэнтези', nan], dtype=object)"
      ]
     },
     "execution_count": 90,
     "metadata": {},
     "output_type": "execute_result"
    }
   ],
   "source": [
    "# проверка\n",
    "df['main_genre'].sort_values().unique()"
   ]
  },
  {
   "cell_type": "markdown",
   "metadata": {},
   "source": [
    "##### Столбец с долей государственной поддержки от общего бюджета."
   ]
  },
  {
   "cell_type": "markdown",
   "metadata": {},
   "source": [
    "Мы помним, что столбцы `refundable_support`, `nonrefundable_support` и `budget` имеют большой количество пропусков, причем их количество одинаково для каждого из указанных столбцов и равно `7099`. Необходимо учесть это при вычислении доли гос. поддержки.\n",
    "\n",
    "Для начала проверим, какое количество пропусков совпадает по всем трём столбцам."
   ]
  },
  {
   "cell_type": "code",
   "execution_count": 91,
   "metadata": {
    "scrolled": true
   },
   "outputs": [
    {
     "data": {
      "text/html": [
       "<div>\n",
       "<style scoped>\n",
       "    .dataframe tbody tr th:only-of-type {\n",
       "        vertical-align: middle;\n",
       "    }\n",
       "\n",
       "    .dataframe tbody tr th {\n",
       "        vertical-align: top;\n",
       "    }\n",
       "\n",
       "    .dataframe thead th {\n",
       "        text-align: right;\n",
       "    }\n",
       "</style>\n",
       "<table border=\"1\" class=\"dataframe\">\n",
       "  <thead>\n",
       "    <tr style=\"text-align: right;\">\n",
       "      <th></th>\n",
       "      <th>pu_number</th>\n",
       "      <th>refundable_support</th>\n",
       "      <th>nonrefundable_support</th>\n",
       "      <th>budget</th>\n",
       "      <th>box_office</th>\n",
       "      <th>start_year</th>\n",
       "    </tr>\n",
       "  </thead>\n",
       "  <tbody>\n",
       "    <tr>\n",
       "      <td>count</td>\n",
       "      <td>7,099.00</td>\n",
       "      <td>0.00</td>\n",
       "      <td>0.00</td>\n",
       "      <td>0.00</td>\n",
       "      <td>2,824.00</td>\n",
       "      <td>7,099.00</td>\n",
       "    </tr>\n",
       "    <tr>\n",
       "      <td>mean</td>\n",
       "      <td>136,364,808.54</td>\n",
       "      <td>nan</td>\n",
       "      <td>nan</td>\n",
       "      <td>nan</td>\n",
       "      <td>70,420,017.53</td>\n",
       "      <td>2,014.49</td>\n",
       "    </tr>\n",
       "    <tr>\n",
       "      <td>std</td>\n",
       "      <td>38,904,929.40</td>\n",
       "      <td>nan</td>\n",
       "      <td>nan</td>\n",
       "      <td>nan</td>\n",
       "      <td>226,985,653.72</td>\n",
       "      <td>3.02</td>\n",
       "    </tr>\n",
       "    <tr>\n",
       "      <td>min</td>\n",
       "      <td>1,811,096.00</td>\n",
       "      <td>nan</td>\n",
       "      <td>nan</td>\n",
       "      <td>nan</td>\n",
       "      <td>0.00</td>\n",
       "      <td>2,010.00</td>\n",
       "    </tr>\n",
       "    <tr>\n",
       "      <td>25%</td>\n",
       "      <td>114,003,867.00</td>\n",
       "      <td>nan</td>\n",
       "      <td>nan</td>\n",
       "      <td>nan</td>\n",
       "      <td>52,363.25</td>\n",
       "      <td>2,012.00</td>\n",
       "    </tr>\n",
       "    <tr>\n",
       "      <td>50%</td>\n",
       "      <td>121,017,312.00</td>\n",
       "      <td>nan</td>\n",
       "      <td>nan</td>\n",
       "      <td>nan</td>\n",
       "      <td>2,011,357.75</td>\n",
       "      <td>2,014.00</td>\n",
       "    </tr>\n",
       "    <tr>\n",
       "      <td>75%</td>\n",
       "      <td>124,004,516.50</td>\n",
       "      <td>nan</td>\n",
       "      <td>nan</td>\n",
       "      <td>nan</td>\n",
       "      <td>19,189,636.07</td>\n",
       "      <td>2,017.00</td>\n",
       "    </tr>\n",
       "    <tr>\n",
       "      <td>max</td>\n",
       "      <td>231,001,111.00</td>\n",
       "      <td>nan</td>\n",
       "      <td>nan</td>\n",
       "      <td>nan</td>\n",
       "      <td>2,576,613,776.83</td>\n",
       "      <td>2,019.00</td>\n",
       "    </tr>\n",
       "  </tbody>\n",
       "</table>\n",
       "</div>"
      ],
      "text/plain": [
       "           pu_number  refundable_support  nonrefundable_support  budget  \\\n",
       "count       7,099.00                0.00                   0.00    0.00   \n",
       "mean  136,364,808.54                 nan                    nan     nan   \n",
       "std    38,904,929.40                 nan                    nan     nan   \n",
       "min     1,811,096.00                 nan                    nan     nan   \n",
       "25%   114,003,867.00                 nan                    nan     nan   \n",
       "50%   121,017,312.00                 nan                    nan     nan   \n",
       "75%   124,004,516.50                 nan                    nan     nan   \n",
       "max   231,001,111.00                 nan                    nan     nan   \n",
       "\n",
       "            box_office  start_year  \n",
       "count         2,824.00    7,099.00  \n",
       "mean     70,420,017.53    2,014.49  \n",
       "std     226,985,653.72        3.02  \n",
       "min               0.00    2,010.00  \n",
       "25%          52,363.25    2,012.00  \n",
       "50%       2,011,357.75    2,014.00  \n",
       "75%      19,189,636.07    2,017.00  \n",
       "max   2,576,613,776.83    2,019.00  "
      ]
     },
     "execution_count": 91,
     "metadata": {},
     "output_type": "execute_result"
    }
   ],
   "source": [
    "df[(df['refundable_support'].isna()) | (df['nonrefundable_support'].isna()) | (df['budget'].isna())].describe()"
   ]
  },
  {
   "cell_type": "markdown",
   "metadata": {},
   "source": [
    "Видим, что все `7099` пропусков совпадают по нужным столбцам. Тогда напишем функцию, которая, с учетом пропусков, будет считать долю гос. поддержки."
   ]
  },
  {
   "cell_type": "code",
   "execution_count": 92,
   "metadata": {},
   "outputs": [],
   "source": [
    "def share_of_budget(row):\n",
    "    refund = row['refundable_support']\n",
    "    nonrefund = row['nonrefundable_support']\n",
    "    budget = row['budget']\n",
    "    \n",
    "    if refund != refund: # проверка на пропуск\n",
    "        return np.nan # возврат пропуска в случае пропуска\n",
    "    else:\n",
    "        return (refund + nonrefund) / budget # возврат доли"
   ]
  },
  {
   "cell_type": "code",
   "execution_count": 93,
   "metadata": {},
   "outputs": [],
   "source": [
    "df['share_of_budget'] = df.apply(share_of_budget, axis=1)"
   ]
  },
  {
   "cell_type": "code",
   "execution_count": 94,
   "metadata": {},
   "outputs": [
    {
     "data": {
      "text/plain": [
       "1281   0.33\n",
       "1448   0.70\n",
       "1498   0.61\n",
       "1524   0.69\n",
       "1792   0.62\n",
       "Name: share_of_budget, dtype: float64"
      ]
     },
     "execution_count": 94,
     "metadata": {},
     "output_type": "execute_result"
    }
   ],
   "source": [
    "# проверка\n",
    "df[df['share_of_budget'].notna()]['share_of_budget'].head()"
   ]
  },
  {
   "cell_type": "markdown",
   "metadata": {},
   "source": [
    "По итогу этого шага мы получили 4 дополнительных столбца: `start_year`, `main_director`, `main_genre`, `share_of_budget`."
   ]
  },
  {
   "cell_type": "markdown",
   "metadata": {},
   "source": [
    "#### Вывод\n",
    "\n",
    "По итогу блока Предобработки данных мы:\n",
    "- проверили и поправили типы данных;\n",
    "- изучили пропуски, внесли коррективы, удалили ненужные, оставили необходимые без изменений;\n",
    "- после корректировок проверили строки на полные дубликаты;\n",
    "- рассмотрели категориальные и количественные значения, внесли правки;\n",
    "- добавили 4 новых столбца для удобства анализа;"
   ]
  },
  {
   "cell_type": "markdown",
   "metadata": {
    "id": "6t4EukPLgFyV"
   },
   "source": [
    "### Проведём исследовательский анализ данных"
   ]
  },
  {
   "cell_type": "markdown",
   "metadata": {
    "id": "vAH8WCzugFyV"
   },
   "source": [
    "- Посмотрим, сколько фильмов выходило в прокат каждый год. Будем учитывать тот факт, что данные о прокате в кинотеатрах известны не для всех фильмов. Посчитаем, какую долю составляют фильмы с указанной информацией о прокате в кинотеатрах."
   ]
  },
  {
   "cell_type": "markdown",
   "metadata": {},
   "source": [
    "Судя по пункту **1.3.2.1** данные таковы, что среди номеров прокатных удостоверений пропусков нет. Поэтому доля фильмов с указанной информацией будет 100%."
   ]
  },
  {
   "cell_type": "markdown",
   "metadata": {},
   "source": [
    "Объединим `start_year` и прокатные удостоверения `pu_number` в сводную таблицу."
   ]
  },
  {
   "cell_type": "code",
   "execution_count": 95,
   "metadata": {},
   "outputs": [
    {
     "data": {
      "text/plain": [
       "start_year\n",
       "2010    979\n",
       "2011    619\n",
       "2012    590\n",
       "2013    628\n",
       "2014    803\n",
       "2015    691\n",
       "2016    809\n",
       "2017    501\n",
       "2018    872\n",
       "2019    920\n",
       "Name: pu_number, dtype: int64"
      ]
     },
     "execution_count": 95,
     "metadata": {},
     "output_type": "execute_result"
    }
   ],
   "source": [
    "df_film_in_year = df.groupby('start_year')['pu_number'].count()\n",
    "df_film_in_year"
   ]
  },
  {
   "cell_type": "markdown",
   "metadata": {
    "id": "BEOdcIrIgFyW"
   },
   "source": [
    "- Проверим, как менялась динамика проката по годам. В каком году сумма сборов была минимальной? А максимальной?"
   ]
  },
  {
   "cell_type": "code",
   "execution_count": 96,
   "metadata": {
    "scrolled": true
   },
   "outputs": [
    {
     "data": {
      "image/png": "[encoded data removed]",
      "text/plain": [
       "<Figure size 432x288 with 1 Axes>"
      ]
     },
     "metadata": {
      "needs_background": "light"
     },
     "output_type": "display_data"
    }
   ],
   "source": [
    "sns.boxplot(x='start_year', y='box_office', data=df[(df['box_office'] <= up_office) & (df['box_office'] >= low_office)]);"
   ]
  },
  {
   "cell_type": "code",
   "execution_count": 97,
   "metadata": {},
   "outputs": [
    {
     "data": {
      "text/plain": [
       "start_year\n",
       "2010       2,428,654.00\n",
       "2011      14,102,765.00\n",
       "2012       6,909,333.00\n",
       "2013      29,799,706.20\n",
       "2014     469,998,813.90\n",
       "2015   3,130,887,923.92\n",
       "2016   3,269,301,207.02\n",
       "2017   2,676,759,795.59\n",
       "2018   3,371,534,528.71\n",
       "2019   3,781,265,628.42\n",
       "Name: box_office, dtype: float64"
      ]
     },
     "execution_count": 97,
     "metadata": {},
     "output_type": "execute_result"
    }
   ],
   "source": [
    "df_year_sumbox = df[(df['box_office'] <= up_office) & (df['box_office'] >= low_office)].groupby('start_year')['box_office'].sum()\n",
    "df_year_sumbox"
   ]
  },
  {
   "cell_type": "code",
   "execution_count": 98,
   "metadata": {},
   "outputs": [
    {
     "data": {
      "image/png": "[encoded data removed]",
      "text/plain": [
       "<Figure size 432x288 with 1 Axes>"
      ]
     },
     "metadata": {
      "needs_background": "light"
     },
     "output_type": "display_data"
    }
   ],
   "source": [
    "ax = df_year_sumbox.plot(\n",
    "    grid=True\n",
    ");\n",
    "\n",
    "ax.set_title=('График динамики проката по годам');\n",
    "ax.set_xlabel=('Старт проката фильмов, годы');\n",
    "ax.set_ylabel=('Цена проката фильмов, руб');"
   ]
  },
  {
   "cell_type": "markdown",
   "metadata": {
    "id": "G-7qS-N-gFyY"
   },
   "source": [
    "- С помощью сводной таблицы посчитайте среднюю и медианную сумму сборов для каждого года."
   ]
  },
  {
   "cell_type": "code",
   "execution_count": 99,
   "metadata": {
    "id": "jmp-rgg9gFyY"
   },
   "outputs": [],
   "source": [
    "df_mean_median_box = df[(df['box_office'] <= up_office) & (df['box_office'] >= low_office)].pivot_table(index='start_year',\n",
    "                                                                                   values='box_office',\n",
    "                                                                                   aggfunc=['mean', 'median'])"
   ]
  },
  {
   "cell_type": "code",
   "execution_count": 100,
   "metadata": {},
   "outputs": [
    {
     "data": {
      "image/png": "[encoded data removed]",
      "text/plain": [
       "<Figure size 432x288 with 1 Axes>"
      ]
     },
     "metadata": {
      "needs_background": "light"
     },
     "output_type": "display_data"
    }
   ],
   "source": [
    "ax = df_mean_median_box.plot(\n",
    "    grid=True\n",
    ");\n",
    "\n",
    "ax.set_title('График средней и медианной сумм сборов по годам \\n');\n",
    "ax.legend()\n",
    "ax.set_xlabel('Старт начала проката фильма, годы');\n",
    "ax.set_ylabel('Сборы, млн.');"
   ]
  },
  {
   "cell_type": "markdown",
   "metadata": {
    "id": "Ok89WFwJgFyZ"
   },
   "source": [
    "- Определите, влияет ли возрастное ограничение аудитории («6+», «12+», «16+», «18+» и т. д.) на сборы фильма в прокате в период с 2015 по 2019 год? Фильмы с каким возрастным ограничением собрали больше всего денег в прокате? Меняется ли картина в зависимости от года? Если да, предположите, с чем это может быть связано."
   ]
  },
  {
   "cell_type": "markdown",
   "metadata": {},
   "source": [
    "Для начала проверим значения столбца `age_restriction`."
   ]
  },
  {
   "cell_type": "code",
   "execution_count": 101,
   "metadata": {},
   "outputs": [
    {
     "data": {
      "text/plain": [
       "array(['«18+» - запрещено для детей', '«6+» - для детей старше 6 лет',\n",
       "       '«12+» - для детей старше 12 лет',\n",
       "       '«16+» - для детей старше 16 лет',\n",
       "       '«0+» - для любой зрительской аудитории'], dtype=object)"
      ]
     },
     "execution_count": 101,
     "metadata": {},
     "output_type": "execute_result"
    }
   ],
   "source": [
    "df['age_restriction'].unique()"
   ]
  },
  {
   "cell_type": "markdown",
   "metadata": {},
   "source": [
    "Видим, что строки очень длинные. Вполне хватит строки типа `«0+»`. Выделим эти части и заменим в исходном столбце."
   ]
  },
  {
   "cell_type": "code",
   "execution_count": 102,
   "metadata": {},
   "outputs": [
    {
     "data": {
      "text/plain": [
       "0    «18+»\n",
       "1     «6+»\n",
       "2    «18+»\n",
       "3    «18+»\n",
       "4    «18+»\n",
       "Name: age_restriction, dtype: object"
      ]
     },
     "execution_count": 102,
     "metadata": {},
     "output_type": "execute_result"
    }
   ],
   "source": [
    "df['age_restriction'] = df['age_restriction'].apply(lambda age: age.split(' ')[0])\n",
    "df['age_restriction'].head()"
   ]
  },
  {
   "cell_type": "markdown",
   "metadata": {},
   "source": [
    "Теперь посмотрим, как возрастное ограничение влияет на сборы."
   ]
  },
  {
   "cell_type": "code",
   "execution_count": 103,
   "metadata": {},
   "outputs": [],
   "source": [
    "df_age_box = df.query('start_year >= 2015').groupby('age_restriction')['box_office'].sum()"
   ]
  },
  {
   "cell_type": "code",
   "execution_count": 104,
   "metadata": {},
   "outputs": [
    {
     "data": {
      "image/png": "[encoded data removed]",
      "text/plain": [
       "<Figure size 432x288 with 1 Axes>"
      ]
     },
     "metadata": {
      "needs_background": "light"
     },
     "output_type": "display_data"
    }
   ],
   "source": [
    "ax = df_age_box.plot(\n",
    "    grid=True\n",
    ");\n",
    "\n",
    "ax.set_title('График зависимости сборов от возрастного ограничения \\n');\n",
    "ax.set_xlabel('Возрастной рейтинг, годы');\n",
    "ax.set_ylabel('Сборы, млн.');"
   ]
  },
  {
   "cell_type": "code",
   "execution_count": 105,
   "metadata": {
    "scrolled": false
   },
   "outputs": [
    {
     "name": "stderr",
     "output_type": "stream",
     "text": [
      "/opt/conda/lib/python3.7/site-packages/numpy/core/_asarray.py:83: VisibleDeprecationWarning: Creating an ndarray from ragged nested sequences (which is a list-or-tuple of lists-or-tuples-or ndarrays with different lengths or shapes) is deprecated. If you meant to do this, you must specify 'dtype=object' when creating the ndarray\n",
      "  return array(a, dtype, copy=False, order=order)\n"
     ]
    },
    {
     "data": {
      "image/png": "[encoded data removed]",
      "text/plain": [
       "<Figure size 720x720 with 1 Axes>"
      ]
     },
     "metadata": {
      "needs_background": "light"
     },
     "output_type": "display_data"
    }
   ],
   "source": [
    "df[(df['box_office'] <= up_office) & (df['box_office'] >= low_office)] \\\n",
    "    .query('start_year >= 2015') \\\n",
    "    .boxplot(column='box_office',by='age_restriction',figsize=(10, 10));"
   ]
  },
  {
   "cell_type": "code",
   "execution_count": 106,
   "metadata": {},
   "outputs": [
    {
     "name": "stderr",
     "output_type": "stream",
     "text": [
      "/opt/conda/lib/python3.7/site-packages/numpy/core/_asarray.py:83: VisibleDeprecationWarning: Creating an ndarray from ragged nested sequences (which is a list-or-tuple of lists-or-tuples-or ndarrays with different lengths or shapes) is deprecated. If you meant to do this, you must specify 'dtype=object' when creating the ndarray\n",
      "  return array(a, dtype, copy=False, order=order)\n"
     ]
    },
    {
     "data": {
      "image/png": "[encoded data removed]",
      "text/plain": [
       "<Figure size 864x360 with 1 Axes>"
      ]
     },
     "metadata": {
      "needs_background": "light"
     },
     "output_type": "display_data"
    }
   ],
   "source": [
    "ax = (df.sort_values(by='box_office')\n",
    "     .pivot_table(index='start_year', columns='age_restriction', aggfunc={'box_office':sum})\n",
    "     .plot.box( y='box_office', figsize=(12, 5), grid=True)\n",
    ");\n",
    "\n",
    "\n",
    "ax.set_title('Сборы фильмов по возрастным категориям');\n",
    "ax.set_xlabel('Возрастной рейтинг');\n",
    "ax.set_ylabel('Сборы, млн.');"
   ]
  },
  {
   "cell_type": "markdown",
   "metadata": {},
   "source": [
    "Видим, что чем сильнее ограничение по возрасту, тем выше верхний уровень сборов с проката."
   ]
  },
  {
   "cell_type": "markdown",
   "metadata": {},
   "source": [
    "Для оценки влияния года выпуска в прокат на взаимосвязь ограничения по возрасту со сборами с проката добавим в исходную таблицу столбец `age`, в котором:\n",
    "- 0 это «0+»\n",
    "- 1 это «6+»\n",
    "- 2 это «12+»\n",
    "- 3 это «16+»\n",
    "- 4 это «18+»"
   ]
  },
  {
   "cell_type": "code",
   "execution_count": 107,
   "metadata": {},
   "outputs": [
    {
     "data": {
      "text/plain": [
       "0    4\n",
       "1    1\n",
       "2    4\n",
       "3    4\n",
       "4    4\n",
       "Name: age, dtype: int64"
      ]
     },
     "execution_count": 107,
     "metadata": {},
     "output_type": "execute_result"
    }
   ],
   "source": [
    "d = {'«0+»': 0, '«6+»': 1, '«12+»': 2, '«16+»': 3, '«18+»': 4}\n",
    "df['age'] = df['age_restriction'].map(d)\n",
    "df['age'].head()"
   ]
  },
  {
   "cell_type": "code",
   "execution_count": 108,
   "metadata": {},
   "outputs": [
    {
     "data": {
      "text/html": [
       "<div>\n",
       "<style scoped>\n",
       "    .dataframe tbody tr th:only-of-type {\n",
       "        vertical-align: middle;\n",
       "    }\n",
       "\n",
       "    .dataframe tbody tr th {\n",
       "        vertical-align: top;\n",
       "    }\n",
       "\n",
       "    .dataframe thead th {\n",
       "        text-align: right;\n",
       "    }\n",
       "</style>\n",
       "<table border=\"1\" class=\"dataframe\">\n",
       "  <thead>\n",
       "    <tr style=\"text-align: right;\">\n",
       "      <th></th>\n",
       "      <th>start_year</th>\n",
       "      <th>age</th>\n",
       "      <th>box_office</th>\n",
       "    </tr>\n",
       "  </thead>\n",
       "  <tbody>\n",
       "    <tr>\n",
       "      <td>0</td>\n",
       "      <td>2015</td>\n",
       "      <td>3</td>\n",
       "      <td>3,130,887,923.92</td>\n",
       "    </tr>\n",
       "    <tr>\n",
       "      <td>1</td>\n",
       "      <td>2016</td>\n",
       "      <td>3</td>\n",
       "      <td>3,269,301,207.02</td>\n",
       "    </tr>\n",
       "    <tr>\n",
       "      <td>2</td>\n",
       "      <td>2017</td>\n",
       "      <td>3</td>\n",
       "      <td>2,676,759,795.59</td>\n",
       "    </tr>\n",
       "    <tr>\n",
       "      <td>3</td>\n",
       "      <td>2018</td>\n",
       "      <td>3</td>\n",
       "      <td>3,371,534,528.71</td>\n",
       "    </tr>\n",
       "    <tr>\n",
       "      <td>4</td>\n",
       "      <td>2019</td>\n",
       "      <td>3</td>\n",
       "      <td>3,781,265,628.42</td>\n",
       "    </tr>\n",
       "  </tbody>\n",
       "</table>\n",
       "</div>"
      ],
      "text/plain": [
       "   start_year  age       box_office\n",
       "0        2015    3 3,130,887,923.92\n",
       "1        2016    3 3,269,301,207.02\n",
       "2        2017    3 2,676,759,795.59\n",
       "3        2018    3 3,371,534,528.71\n",
       "4        2019    3 3,781,265,628.42"
      ]
     },
     "execution_count": 108,
     "metadata": {},
     "output_type": "execute_result"
    }
   ],
   "source": [
    "df_year_age_office = df[(df['box_office'] <= up_office) & (df['box_office'] >= low_office)] \\\n",
    "    .query('start_year >= 2015') \\\n",
    "    .pivot_table(index='start_year', values=['age', 'box_office'], aggfunc={'age': 'median', 'box_office': 'sum'})\n",
    "df_year_age_office.reset_index().sort_values(by='age')"
   ]
  },
  {
   "cell_type": "code",
   "execution_count": 109,
   "metadata": {
    "scrolled": false
   },
   "outputs": [
    {
     "name": "stderr",
     "output_type": "stream",
     "text": [
      "/opt/conda/lib/python3.7/site-packages/pandas/plotting/_matplotlib/misc.py:71: UserWarning: Attempting to set identical left == right == 3.0 results in singular transformations; automatically expanding.\n",
      "  ax.set_xlim(boundaries_list[i])\n",
      "/opt/conda/lib/python3.7/site-packages/pandas/plotting/_matplotlib/misc.py:81: UserWarning: Attempting to set identical bottom == top == 3.0 results in singular transformations; automatically expanding.\n",
      "  ax.set_ylim(boundaries_list[i])\n",
      "/opt/conda/lib/python3.7/site-packages/pandas/plotting/_matplotlib/misc.py:80: UserWarning: Attempting to set identical left == right == 3.0 results in singular transformations; automatically expanding.\n",
      "  ax.set_xlim(boundaries_list[j])\n"
     ]
    },
    {
     "data": {
      "image/png": "[encoded data removed]",
      "text/plain": [
       "<Figure size 648x648 with 4 Axes>"
      ]
     },
     "metadata": {
      "needs_background": "light"
     },
     "output_type": "display_data"
    }
   ],
   "source": [
    "from pandas.plotting import scatter_matrix\n",
    "pd.plotting.scatter_matrix(df_year_age_office, figsize=(9, 9));"
   ]
  },
  {
   "cell_type": "code",
   "execution_count": 110,
   "metadata": {},
   "outputs": [
    {
     "data": {
      "image/png": "[encoded data removed]",
      "text/plain": [
       "<Figure size 648x648 with 9 Axes>"
      ]
     },
     "metadata": {
      "needs_background": "light"
     },
     "output_type": "display_data"
    }
   ],
   "source": [
    "df_year_age_office = df\\\n",
    "    .query('box_office <= up_office' and 'box_office >= low_office' and 'start_year >= 2015') \\\n",
    "    .pivot_table(index='start_year', values=['age', 'box_office'], aggfunc={'age': 'median', 'box_office': 'sum'})\\\n",
    "    .reset_index().sort_values(by='age')\n",
    "scatter_matrix(df_year_age_office, figsize=(9, 9));"
   ]
  },
  {
   "cell_type": "markdown",
   "metadata": {},
   "source": [
    "Видим, что в 2017 году был максимум сборов, причем ограничение по возрасту в среднем было 12+ на протяжении всех лет с 2015 по 2019 годы. Возможно это связано с тем, что с годами выпускается всё больше семейных фильмов, то есть для просмотра с 12 лет."
   ]
  },
  {
   "cell_type": "markdown",
   "metadata": {
    "id": "l_Kg6Ku4gFya"
   },
   "source": [
    "### Исследуем фильмы, которые получили государственную поддержку"
   ]
  },
  {
   "cell_type": "markdown",
   "metadata": {},
   "source": [
    "Для начала найдем объем суммарной гос. поддержки."
   ]
  },
  {
   "cell_type": "code",
   "execution_count": 111,
   "metadata": {},
   "outputs": [],
   "source": [
    "def find_sum_support(row):\n",
    "    refund = row['refundable_support']\n",
    "    nonrefund = row['nonrefundable_support']\n",
    "    \n",
    "    if refund != refund: # проверка на пропуск\n",
    "        return np.nan # возврат пропуска в случае пропуска\n",
    "    else:\n",
    "        return (refund + nonrefund) # возврат суммарной поддержки"
   ]
  },
  {
   "cell_type": "code",
   "execution_count": 112,
   "metadata": {},
   "outputs": [
    {
     "data": {
      "text/plain": [
       "1281    26,500,000.00\n",
       "1448    26,000,000.00\n",
       "1498   107,847,945.00\n",
       "1524    28,000,000.00\n",
       "1792    25,000,000.00\n",
       "Name: film_support, dtype: float64"
      ]
     },
     "execution_count": 112,
     "metadata": {},
     "output_type": "execute_result"
    }
   ],
   "source": [
    "df['film_support'] = df.apply(find_sum_support, axis=1)\n",
    "df[df['film_support'].notna()]['film_support'].head()"
   ]
  },
  {
   "cell_type": "markdown",
   "metadata": {},
   "source": [
    "Теперь посмотрим на характеристики этого столбца."
   ]
  },
  {
   "cell_type": "code",
   "execution_count": 113,
   "metadata": {},
   "outputs": [
    {
     "data": {
      "text/plain": [
       "18794018847.0"
      ]
     },
     "execution_count": 113,
     "metadata": {},
     "output_type": "execute_result"
    }
   ],
   "source": [
    "df['film_support'].sum()"
   ]
  },
  {
   "cell_type": "markdown",
   "metadata": {},
   "source": [
    "На поддержку кино, с учетом того, что в данных большое количество пропусков, суммарно выделяют более 20 миллиардов. Это должны быть настоящие шедевры с учетом такого финансирования.\n",
    "Посмотрим на те фильмы из финансируемых, которые окупаются, то есть сборы с проката должны быть больше или равны бюджету."
   ]
  },
  {
   "cell_type": "code",
   "execution_count": 114,
   "metadata": {
    "scrolled": true
   },
   "outputs": [
    {
     "data": {
      "text/html": [
       "<div>\n",
       "<style scoped>\n",
       "    .dataframe tbody tr th:only-of-type {\n",
       "        vertical-align: middle;\n",
       "    }\n",
       "\n",
       "    .dataframe tbody tr th {\n",
       "        vertical-align: top;\n",
       "    }\n",
       "\n",
       "    .dataframe thead th {\n",
       "        text-align: right;\n",
       "    }\n",
       "</style>\n",
       "<table border=\"1\" class=\"dataframe\">\n",
       "  <thead>\n",
       "    <tr style=\"text-align: right;\">\n",
       "      <th></th>\n",
       "      <th>pu_number</th>\n",
       "      <th>refundable_support</th>\n",
       "      <th>nonrefundable_support</th>\n",
       "      <th>budget</th>\n",
       "      <th>box_office</th>\n",
       "      <th>start_year</th>\n",
       "      <th>share_of_budget</th>\n",
       "      <th>age</th>\n",
       "      <th>film_support</th>\n",
       "    </tr>\n",
       "  </thead>\n",
       "  <tbody>\n",
       "    <tr>\n",
       "      <td>count</td>\n",
       "      <td>66.00</td>\n",
       "      <td>66.00</td>\n",
       "      <td>66.00</td>\n",
       "      <td>66.00</td>\n",
       "      <td>66.00</td>\n",
       "      <td>66.00</td>\n",
       "      <td>66.00</td>\n",
       "      <td>66.00</td>\n",
       "      <td>66.00</td>\n",
       "    </tr>\n",
       "    <tr>\n",
       "      <td>mean</td>\n",
       "      <td>111,372,139.61</td>\n",
       "      <td>21,348,484.85</td>\n",
       "      <td>64,252,461.39</td>\n",
       "      <td>177,143,477.11</td>\n",
       "      <td>480,381,333.34</td>\n",
       "      <td>2,016.92</td>\n",
       "      <td>0.49</td>\n",
       "      <td>2.06</td>\n",
       "      <td>85,600,946.24</td>\n",
       "    </tr>\n",
       "    <tr>\n",
       "      <td>std</td>\n",
       "      <td>984,946.36</td>\n",
       "      <td>28,824,931.74</td>\n",
       "      <td>80,082,816.09</td>\n",
       "      <td>147,367,534.04</td>\n",
       "      <td>591,553,223.45</td>\n",
       "      <td>1.51</td>\n",
       "      <td>0.16</td>\n",
       "      <td>0.86</td>\n",
       "      <td>87,532,208.28</td>\n",
       "    </tr>\n",
       "    <tr>\n",
       "      <td>min</td>\n",
       "      <td>111,000,116.00</td>\n",
       "      <td>0.00</td>\n",
       "      <td>0.00</td>\n",
       "      <td>31,305,313.00</td>\n",
       "      <td>62,260,863.65</td>\n",
       "      <td>2,014.00</td>\n",
       "      <td>0.13</td>\n",
       "      <td>0.00</td>\n",
       "      <td>20,000,000.00</td>\n",
       "    </tr>\n",
       "    <tr>\n",
       "      <td>25%</td>\n",
       "      <td>111,003,668.00</td>\n",
       "      <td>0.00</td>\n",
       "      <td>28,132,500.00</td>\n",
       "      <td>80,000,000.00</td>\n",
       "      <td>126,223,842.03</td>\n",
       "      <td>2,016.00</td>\n",
       "      <td>0.36</td>\n",
       "      <td>1.00</td>\n",
       "      <td>31,250,000.00</td>\n",
       "    </tr>\n",
       "    <tr>\n",
       "      <td>50%</td>\n",
       "      <td>111,008,368.50</td>\n",
       "      <td>6,500,000.00</td>\n",
       "      <td>35,000,000.00</td>\n",
       "      <td>135,275,751.50</td>\n",
       "      <td>308,026,063.47</td>\n",
       "      <td>2,017.00</td>\n",
       "      <td>0.50</td>\n",
       "      <td>2.00</td>\n",
       "      <td>50,061,957.50</td>\n",
       "    </tr>\n",
       "    <tr>\n",
       "      <td>75%</td>\n",
       "      <td>111,018,365.75</td>\n",
       "      <td>40,000,000.00</td>\n",
       "      <td>54,934,291.25</td>\n",
       "      <td>218,339,440.00</td>\n",
       "      <td>533,516,503.75</td>\n",
       "      <td>2,018.00</td>\n",
       "      <td>0.64</td>\n",
       "      <td>3.00</td>\n",
       "      <td>100,000,000.00</td>\n",
       "    </tr>\n",
       "    <tr>\n",
       "      <td>max</td>\n",
       "      <td>114,008,818.00</td>\n",
       "      <td>115,000,000.00</td>\n",
       "      <td>400,000,000.00</td>\n",
       "      <td>635,283,867.00</td>\n",
       "      <td>3,073,568,690.79</td>\n",
       "      <td>2,019.00</td>\n",
       "      <td>0.70</td>\n",
       "      <td>4.00</td>\n",
       "      <td>442,104,482.00</td>\n",
       "    </tr>\n",
       "  </tbody>\n",
       "</table>\n",
       "</div>"
      ],
      "text/plain": [
       "           pu_number  refundable_support  nonrefundable_support  \\\n",
       "count          66.00               66.00                  66.00   \n",
       "mean  111,372,139.61       21,348,484.85          64,252,461.39   \n",
       "std       984,946.36       28,824,931.74          80,082,816.09   \n",
       "min   111,000,116.00                0.00                   0.00   \n",
       "25%   111,003,668.00                0.00          28,132,500.00   \n",
       "50%   111,008,368.50        6,500,000.00          35,000,000.00   \n",
       "75%   111,018,365.75       40,000,000.00          54,934,291.25   \n",
       "max   114,008,818.00      115,000,000.00         400,000,000.00   \n",
       "\n",
       "              budget       box_office  start_year  share_of_budget   age  \\\n",
       "count          66.00            66.00       66.00            66.00 66.00   \n",
       "mean  177,143,477.11   480,381,333.34    2,016.92             0.49  2.06   \n",
       "std   147,367,534.04   591,553,223.45        1.51             0.16  0.86   \n",
       "min    31,305,313.00    62,260,863.65    2,014.00             0.13  0.00   \n",
       "25%    80,000,000.00   126,223,842.03    2,016.00             0.36  1.00   \n",
       "50%   135,275,751.50   308,026,063.47    2,017.00             0.50  2.00   \n",
       "75%   218,339,440.00   533,516,503.75    2,018.00             0.64  3.00   \n",
       "max   635,283,867.00 3,073,568,690.79    2,019.00             0.70  4.00   \n",
       "\n",
       "        film_support  \n",
       "count          66.00  \n",
       "mean   85,600,946.24  \n",
       "std    87,532,208.28  \n",
       "min    20,000,000.00  \n",
       "25%    31,250,000.00  \n",
       "50%    50,061,957.50  \n",
       "75%   100,000,000.00  \n",
       "max   442,104,482.00  "
      ]
     },
     "execution_count": 114,
     "metadata": {},
     "output_type": "execute_result"
    }
   ],
   "source": [
    "df.query('film_support > 0 and box_office >= budget').describe()"
   ]
  },
  {
   "cell_type": "markdown",
   "metadata": {},
   "source": [
    "Видим, что из 330 фильмов с данными всего 79 окупаются. При этом мы заполняли пропуски в бюджете на сумму гос. поддержки исходя из того, что бюджет не может быть равен нулю, если есть гос. поддержка. В реальности там вероятнее всего должны быть цифры, превышающие сумму гос. поддержки и поэтому количество окупившихся фильмов может быть еще меньше."
   ]
  },
  {
   "cell_type": "markdown",
   "metadata": {},
   "source": [
    "Добавим столбец, который будет говорить нам, что фильм с поддержкой или нет."
   ]
  },
  {
   "cell_type": "code",
   "execution_count": 115,
   "metadata": {},
   "outputs": [],
   "source": [
    "df['is_support'] = df['film_support'].apply(lambda sup: 'С поддержкой' if (sup != sup) else 'Без поддержки')"
   ]
  },
  {
   "cell_type": "code",
   "execution_count": 116,
   "metadata": {
    "scrolled": true
   },
   "outputs": [
    {
     "data": {
      "text/plain": [
       "array(['С поддержкой', 'Без поддержки'], dtype=object)"
      ]
     },
     "execution_count": 116,
     "metadata": {},
     "output_type": "execute_result"
    }
   ],
   "source": [
    "# проверка\n",
    "df['is_support'].unique()"
   ]
  },
  {
   "cell_type": "code",
   "execution_count": 117,
   "metadata": {},
   "outputs": [],
   "source": [
    "df_rate_sup = df.groupby('ratings')['is_support'].count()"
   ]
  },
  {
   "cell_type": "code",
   "execution_count": 118,
   "metadata": {},
   "outputs": [
    {
     "data": {
      "image/png": "[encoded data removed]",
      "text/plain": [
       "<Figure size 432x288 with 1 Axes>"
      ]
     },
     "metadata": {
      "needs_background": "light"
     },
     "output_type": "display_data"
    }
   ],
   "source": [
    "ax = df_rate_sup.plot(\n",
    "    grid=True\n",
    ");\n",
    "\n",
    "ax.set_title('Распределение рейтинга для фильмов с поддержкой и без');\n",
    "ax.set_xlabel('Рейтинг Кинопоиска');\n",
    "ax.set_ylabel('Объем гос. поддержки, руб.');"
   ]
  },
  {
   "cell_type": "markdown",
   "metadata": {},
   "source": [
    "Посмотрим на распределение рейтинга фильмов с и без поддержки"
   ]
  },
  {
   "cell_type": "code",
   "execution_count": 119,
   "metadata": {},
   "outputs": [
    {
     "data": {
      "image/png": "[encoded data removed]",
      "text/plain": [
       "<Figure size 576x432 with 1 Axes>"
      ]
     },
     "metadata": {
      "needs_background": "light"
     },
     "output_type": "display_data"
    }
   ],
   "source": [
    "df['ratings'] = pd.to_numeric(df['ratings'], errors='coerce')\n",
    "ax = (df\\\n",
    "         .pivot_table(index='title', columns='is_support')\\\n",
    "         .plot.hist(y='ratings', figsize=(8, 6), grid=True, bins=20, alpha=0.6)\n",
    ")\n",
    "\n",
    "\n",
    "ax.set_title('Распределение рейтинга фильмов с и без поддержки');\n",
    "ax.set_xlabel('Рейтинг Кинопоиска');\n",
    "ax.set_ylabel('Объем гос. поддержки, руб.');"
   ]
  },
  {
   "cell_type": "markdown",
   "metadata": {},
   "source": [
    "Видим, что фильмы с поддержкой занимают позиции выше среднего рейтинга - от 5.6 до 7.8. Фильмы без поддержки немного ниже рейтингом, ближе к середине."
   ]
  },
  {
   "cell_type": "markdown",
   "metadata": {
    "id": "V2gYwMcPgFyd"
   },
   "source": [
    "### Общий вывод"
   ]
  },
  {
   "cell_type": "markdown",
   "metadata": {},
   "source": [
    "В результате работы над проектом мы увидели, что популярными фильмами с годами становятся семейные, ограничение по возрасту которых - 12+. Эта тенденция наблюдается с 2015 года и пик сборов с проката был в 2017 году. Возможно, это связано с выходом продолжений популярных фильмов из серии Marvel: Тор, Стражи Галактики, Человек-Паук. В этом же году \"стрельнул\" отличный российский фильм \"Движение вверх\". Такой комбинации, скорее всего, больше не встречалось в последующие годы.\n",
    "\n",
    "Однако картина не является полной, так как в данных присутствует огромное количество пропусков. Для более глубоко анализа нужна дополнительная информация или более подробная по пропускам."
   ]
  }
 ],
 "metadata": {
  "ExecuteTimeLog": [
   {
    "duration": 537,
    "start_time": "2021-07-07T10:12:08.634Z"
   },
   {
    "duration": 206,
    "start_time": "2021-07-07T10:12:30.191Z"
   },
   {
    "duration": 227,
    "start_time": "2021-07-07T10:12:33.078Z"
   },
   {
    "duration": 153,
    "start_time": "2021-07-07T10:13:42.146Z"
   },
   {
    "duration": 233,
    "start_time": "2021-07-07T10:30:09.252Z"
   },
   {
    "duration": 19,
    "start_time": "2021-07-07T10:30:15.577Z"
   },
   {
    "duration": 18,
    "start_time": "2021-07-07T10:30:57.348Z"
   },
   {
    "duration": 19,
    "start_time": "2021-07-07T10:31:17.452Z"
   },
   {
    "duration": 21,
    "start_time": "2021-07-07T10:31:32.227Z"
   },
   {
    "duration": 27,
    "start_time": "2021-07-07T10:32:06.588Z"
   },
   {
    "duration": 23,
    "start_time": "2021-07-07T10:32:43.645Z"
   },
   {
    "duration": 24,
    "start_time": "2021-07-07T10:33:06.948Z"
   },
   {
    "duration": 7,
    "start_time": "2021-07-07T10:33:28.558Z"
   },
   {
    "duration": 23,
    "start_time": "2021-07-07T10:33:43.761Z"
   },
   {
    "duration": 28,
    "start_time": "2021-07-07T10:34:13.466Z"
   },
   {
    "duration": 23,
    "start_time": "2021-07-07T10:35:56.187Z"
   },
   {
    "duration": 6,
    "start_time": "2021-07-07T10:36:48.182Z"
   },
   {
    "duration": 14,
    "start_time": "2021-07-07T10:37:49.641Z"
   },
   {
    "duration": 6,
    "start_time": "2021-07-07T10:38:06.694Z"
   },
   {
    "duration": 6,
    "start_time": "2021-07-07T10:38:13.493Z"
   },
   {
    "duration": 19,
    "start_time": "2021-07-07T10:38:44.056Z"
   },
   {
    "duration": 186,
    "start_time": "2021-07-07T10:48:35.618Z"
   },
   {
    "duration": 24,
    "start_time": "2021-07-07T10:48:51.498Z"
   },
   {
    "duration": 20,
    "start_time": "2021-07-07T10:48:59.415Z"
   },
   {
    "duration": 20,
    "start_time": "2021-07-07T10:53:02.195Z"
   },
   {
    "duration": 188,
    "start_time": "2021-07-07T10:54:40.486Z"
   },
   {
    "duration": 115,
    "start_time": "2021-07-07T10:54:52.552Z"
   },
   {
    "duration": 214,
    "start_time": "2021-07-07T10:54:56.354Z"
   },
   {
    "duration": 47,
    "start_time": "2021-07-07T10:54:58.282Z"
   },
   {
    "duration": 217,
    "start_time": "2021-07-07T10:59:16.075Z"
   },
   {
    "duration": 51,
    "start_time": "2021-07-07T10:59:16.243Z"
   },
   {
    "duration": 578,
    "start_time": "2021-07-07T10:59:18.774Z"
   },
   {
    "duration": 161,
    "start_time": "2021-07-07T10:59:21.238Z"
   },
   {
    "duration": 59,
    "start_time": "2021-07-07T10:59:21.453Z"
   },
   {
    "duration": 3,
    "start_time": "2021-07-07T11:02:10.786Z"
   },
   {
    "duration": 13,
    "start_time": "2021-07-07T11:07:07.722Z"
   },
   {
    "duration": 26,
    "start_time": "2021-07-07T11:07:17.958Z"
   },
   {
    "duration": 22,
    "start_time": "2021-07-07T11:08:17.939Z"
   },
   {
    "duration": 212,
    "start_time": "2021-07-07T11:08:19.665Z"
   },
   {
    "duration": 21,
    "start_time": "2021-07-07T11:08:29.945Z"
   },
   {
    "duration": 31,
    "start_time": "2021-07-07T11:08:38.899Z"
   },
   {
    "duration": 23,
    "start_time": "2021-07-07T11:08:54.527Z"
   },
   {
    "duration": 8,
    "start_time": "2021-07-07T11:18:55.974Z"
   },
   {
    "duration": 7,
    "start_time": "2021-07-07T11:19:03.639Z"
   },
   {
    "duration": 7,
    "start_time": "2021-07-07T11:19:06.444Z"
   },
   {
    "duration": 578,
    "start_time": "2021-07-07T12:09:59.576Z"
   },
   {
    "duration": 195,
    "start_time": "2021-07-07T12:10:00.156Z"
   },
   {
    "duration": 115,
    "start_time": "2021-07-07T12:10:00.353Z"
   },
   {
    "duration": 3,
    "start_time": "2021-07-07T12:10:00.470Z"
   },
   {
    "duration": 32,
    "start_time": "2021-07-07T12:10:00.474Z"
   },
   {
    "duration": 23,
    "start_time": "2021-07-07T12:10:00.508Z"
   },
   {
    "duration": 19,
    "start_time": "2021-07-07T12:10:00.533Z"
   },
   {
    "duration": 44,
    "start_time": "2021-07-07T12:10:00.553Z"
   },
   {
    "duration": 7,
    "start_time": "2021-07-07T12:10:00.600Z"
   },
   {
    "duration": 7,
    "start_time": "2021-07-07T12:19:45.761Z"
   },
   {
    "duration": 21,
    "start_time": "2021-07-07T12:21:35.482Z"
   },
   {
    "duration": 21,
    "start_time": "2021-07-07T12:29:23.569Z"
   },
   {
    "duration": 525,
    "start_time": "2021-07-07T12:29:44.542Z"
   },
   {
    "duration": 214,
    "start_time": "2021-07-07T12:29:45.069Z"
   },
   {
    "duration": 92,
    "start_time": "2021-07-07T12:29:45.285Z"
   },
   {
    "duration": 3,
    "start_time": "2021-07-07T12:29:45.379Z"
   },
   {
    "duration": 28,
    "start_time": "2021-07-07T12:29:45.384Z"
   },
   {
    "duration": 23,
    "start_time": "2021-07-07T12:29:45.413Z"
   },
   {
    "duration": 21,
    "start_time": "2021-07-07T12:29:45.437Z"
   },
   {
    "duration": 41,
    "start_time": "2021-07-07T12:29:45.460Z"
   },
   {
    "duration": 7,
    "start_time": "2021-07-07T12:29:45.502Z"
   },
   {
    "duration": 20,
    "start_time": "2021-07-07T12:29:45.511Z"
   },
   {
    "duration": 12,
    "start_time": "2021-07-07T12:34:02.800Z"
   },
   {
    "duration": 7,
    "start_time": "2021-07-07T12:35:10.479Z"
   },
   {
    "duration": 8,
    "start_time": "2021-07-07T12:35:22.440Z"
   },
   {
    "duration": 6,
    "start_time": "2021-07-07T12:35:35.649Z"
   },
   {
    "duration": 6,
    "start_time": "2021-07-07T12:35:43.107Z"
   },
   {
    "duration": 22,
    "start_time": "2021-07-07T12:38:03.029Z"
   },
   {
    "duration": 10,
    "start_time": "2021-07-07T12:38:06.592Z"
   },
   {
    "duration": 563,
    "start_time": "2021-07-07T12:38:46.493Z"
   },
   {
    "duration": 265,
    "start_time": "2021-07-07T12:38:47.058Z"
   },
   {
    "duration": 94,
    "start_time": "2021-07-07T12:38:47.325Z"
   },
   {
    "duration": 3,
    "start_time": "2021-07-07T12:38:47.422Z"
   },
   {
    "duration": 30,
    "start_time": "2021-07-07T12:38:47.427Z"
   },
   {
    "duration": 16,
    "start_time": "2021-07-07T12:38:53.305Z"
   },
   {
    "duration": 10,
    "start_time": "2021-07-07T12:38:53.499Z"
   },
   {
    "duration": 8,
    "start_time": "2021-07-07T12:39:48.161Z"
   },
   {
    "duration": 27,
    "start_time": "2021-07-07T12:41:17.629Z"
   },
   {
    "duration": 17,
    "start_time": "2021-07-07T12:41:17.867Z"
   },
   {
    "duration": 21,
    "start_time": "2021-07-07T12:41:19.310Z"
   },
   {
    "duration": 7,
    "start_time": "2021-07-07T12:41:19.544Z"
   },
   {
    "duration": 20,
    "start_time": "2021-07-07T12:41:20.504Z"
   },
   {
    "duration": 554,
    "start_time": "2021-07-07T12:56:23.696Z"
   },
   {
    "duration": 200,
    "start_time": "2021-07-07T12:56:25.234Z"
   },
   {
    "duration": 119,
    "start_time": "2021-07-07T12:56:25.480Z"
   },
   {
    "duration": 4,
    "start_time": "2021-07-07T12:56:25.762Z"
   },
   {
    "duration": 26,
    "start_time": "2021-07-07T12:56:27.172Z"
   },
   {
    "duration": 12,
    "start_time": "2021-07-07T12:56:29.051Z"
   },
   {
    "duration": 10,
    "start_time": "2021-07-07T12:56:29.291Z"
   },
   {
    "duration": 8,
    "start_time": "2021-07-07T12:56:29.623Z"
   },
   {
    "duration": 28,
    "start_time": "2021-07-07T12:56:32.137Z"
   },
   {
    "duration": 19,
    "start_time": "2021-07-07T12:56:39.785Z"
   },
   {
    "duration": 20,
    "start_time": "2021-07-07T12:56:44.297Z"
   },
   {
    "duration": 7,
    "start_time": "2021-07-07T12:56:45.392Z"
   },
   {
    "duration": 23,
    "start_time": "2021-07-07T12:56:46.615Z"
   },
   {
    "duration": 4,
    "start_time": "2021-07-07T12:57:06.625Z"
   },
   {
    "duration": 32,
    "start_time": "2021-07-07T12:57:36.690Z"
   },
   {
    "duration": 18,
    "start_time": "2021-07-07T12:58:00.149Z"
   },
   {
    "duration": 15,
    "start_time": "2021-07-07T12:59:16.793Z"
   },
   {
    "duration": 7,
    "start_time": "2021-07-07T13:19:22.624Z"
   },
   {
    "duration": 6,
    "start_time": "2021-07-07T14:17:33.527Z"
   },
   {
    "duration": 9,
    "start_time": "2021-07-07T14:17:48.409Z"
   },
   {
    "duration": 8,
    "start_time": "2021-07-07T14:20:13.060Z"
   },
   {
    "duration": 8,
    "start_time": "2021-07-07T14:20:37.957Z"
   },
   {
    "duration": 8,
    "start_time": "2021-07-07T14:20:47.470Z"
   },
   {
    "duration": 9,
    "start_time": "2021-07-07T14:20:54.503Z"
   },
   {
    "duration": 10,
    "start_time": "2021-07-07T14:28:57.763Z"
   },
   {
    "duration": 3,
    "start_time": "2021-07-07T14:30:23.377Z"
   },
   {
    "duration": 3,
    "start_time": "2021-07-07T14:30:36.489Z"
   },
   {
    "duration": 103,
    "start_time": "2021-07-07T14:30:52.351Z"
   },
   {
    "duration": 8,
    "start_time": "2021-07-07T14:30:54.763Z"
   },
   {
    "duration": 8,
    "start_time": "2021-07-07T14:31:29.301Z"
   },
   {
    "duration": 13,
    "start_time": "2021-07-07T14:31:44.516Z"
   },
   {
    "duration": 7,
    "start_time": "2021-07-07T14:33:10.972Z"
   },
   {
    "duration": 11,
    "start_time": "2021-07-07T14:33:27.780Z"
   },
   {
    "duration": 8,
    "start_time": "2021-07-07T14:34:44.588Z"
   },
   {
    "duration": 57,
    "start_time": "2021-07-07T14:35:59.042Z"
   },
   {
    "duration": 3,
    "start_time": "2021-07-07T14:36:28.168Z"
   },
   {
    "duration": 5,
    "start_time": "2021-07-07T14:36:46.254Z"
   },
   {
    "duration": 4,
    "start_time": "2021-07-07T14:36:52.714Z"
   },
   {
    "duration": 3,
    "start_time": "2021-07-07T14:36:56.612Z"
   },
   {
    "duration": 4,
    "start_time": "2021-07-07T14:36:57.049Z"
   },
   {
    "duration": 3,
    "start_time": "2021-07-07T14:39:21.214Z"
   },
   {
    "duration": 7,
    "start_time": "2021-07-07T14:39:52.406Z"
   },
   {
    "duration": 11,
    "start_time": "2021-07-07T14:39:58.576Z"
   },
   {
    "duration": 9,
    "start_time": "2021-07-07T14:40:26.301Z"
   },
   {
    "duration": 10,
    "start_time": "2021-07-07T14:40:31.704Z"
   },
   {
    "duration": 11,
    "start_time": "2021-07-07T14:40:36.249Z"
   },
   {
    "duration": 10,
    "start_time": "2021-07-07T14:40:39.783Z"
   },
   {
    "duration": 9,
    "start_time": "2021-07-07T14:40:48.558Z"
   },
   {
    "duration": 10,
    "start_time": "2021-07-07T14:40:57.143Z"
   },
   {
    "duration": 9,
    "start_time": "2021-07-07T14:41:06.074Z"
   },
   {
    "duration": 4324,
    "start_time": "2021-07-07T14:41:22.004Z"
   },
   {
    "duration": 11,
    "start_time": "2021-07-07T14:41:33.392Z"
   },
   {
    "duration": 9,
    "start_time": "2021-07-07T14:41:39.288Z"
   },
   {
    "duration": 569,
    "start_time": "2021-07-07T14:42:14.387Z"
   },
   {
    "duration": 197,
    "start_time": "2021-07-07T14:42:14.959Z"
   },
   {
    "duration": 84,
    "start_time": "2021-07-07T14:42:16.052Z"
   },
   {
    "duration": 4,
    "start_time": "2021-07-07T14:42:16.900Z"
   },
   {
    "duration": 27,
    "start_time": "2021-07-07T14:42:19.898Z"
   },
   {
    "duration": 12,
    "start_time": "2021-07-07T14:42:21.577Z"
   },
   {
    "duration": 9,
    "start_time": "2021-07-07T14:42:21.813Z"
   },
   {
    "duration": 9,
    "start_time": "2021-07-07T14:42:22.569Z"
   },
   {
    "duration": 29,
    "start_time": "2021-07-07T14:42:25.837Z"
   },
   {
    "duration": 20,
    "start_time": "2021-07-07T14:42:27.003Z"
   },
   {
    "duration": 21,
    "start_time": "2021-07-07T14:42:28.767Z"
   },
   {
    "duration": 7,
    "start_time": "2021-07-07T14:42:29.838Z"
   },
   {
    "duration": 4,
    "start_time": "2021-07-07T14:43:25.493Z"
   },
   {
    "duration": 7,
    "start_time": "2021-07-07T14:43:26.573Z"
   },
   {
    "duration": 10,
    "start_time": "2021-07-07T14:43:31.639Z"
   },
   {
    "duration": 9,
    "start_time": "2021-07-07T14:43:32.046Z"
   },
   {
    "duration": 10,
    "start_time": "2021-07-07T14:43:33.301Z"
   },
   {
    "duration": 12,
    "start_time": "2021-07-07T14:43:33.658Z"
   },
   {
    "duration": 8,
    "start_time": "2021-07-07T14:43:34.552Z"
   },
   {
    "duration": 9,
    "start_time": "2021-07-07T14:43:35.058Z"
   },
   {
    "duration": 12,
    "start_time": "2021-07-07T14:43:35.914Z"
   },
   {
    "duration": 17,
    "start_time": "2021-07-07T14:45:34.368Z"
   },
   {
    "duration": 512,
    "start_time": "2021-07-07T14:51:58.236Z"
   },
   {
    "duration": 223,
    "start_time": "2021-07-07T14:51:58.750Z"
   },
   {
    "duration": 93,
    "start_time": "2021-07-07T14:51:58.977Z"
   },
   {
    "duration": 4,
    "start_time": "2021-07-07T14:51:59.071Z"
   },
   {
    "duration": 37,
    "start_time": "2021-07-07T14:51:59.077Z"
   },
   {
    "duration": 18,
    "start_time": "2021-07-07T14:51:59.116Z"
   },
   {
    "duration": 10,
    "start_time": "2021-07-07T14:51:59.137Z"
   },
   {
    "duration": 8,
    "start_time": "2021-07-07T14:51:59.149Z"
   },
   {
    "duration": 54,
    "start_time": "2021-07-07T14:51:59.158Z"
   },
   {
    "duration": 18,
    "start_time": "2021-07-07T14:51:59.213Z"
   },
   {
    "duration": 22,
    "start_time": "2021-07-07T14:51:59.232Z"
   },
   {
    "duration": 36,
    "start_time": "2021-07-07T14:51:59.255Z"
   },
   {
    "duration": 7,
    "start_time": "2021-07-07T14:51:59.293Z"
   },
   {
    "duration": 10,
    "start_time": "2021-07-07T14:51:59.302Z"
   },
   {
    "duration": 9,
    "start_time": "2021-07-07T14:51:59.313Z"
   },
   {
    "duration": 11,
    "start_time": "2021-07-07T14:51:59.324Z"
   },
   {
    "duration": 8,
    "start_time": "2021-07-07T14:51:59.337Z"
   },
   {
    "duration": 46,
    "start_time": "2021-07-07T14:51:59.347Z"
   },
   {
    "duration": 22,
    "start_time": "2021-07-07T14:51:59.395Z"
   },
   {
    "duration": 24,
    "start_time": "2021-07-07T14:57:32.911Z"
   },
   {
    "duration": 7,
    "start_time": "2021-07-07T14:58:22.070Z"
   },
   {
    "duration": 4,
    "start_time": "2021-07-07T14:59:11.239Z"
   },
   {
    "duration": 25,
    "start_time": "2021-07-07T15:07:22.208Z"
   },
   {
    "duration": 16,
    "start_time": "2021-07-07T15:08:25.560Z"
   },
   {
    "duration": 15,
    "start_time": "2021-07-07T15:08:40.647Z"
   },
   {
    "duration": 14,
    "start_time": "2021-07-07T15:08:46.669Z"
   },
   {
    "duration": 533,
    "start_time": "2021-07-07T15:18:07.440Z"
   },
   {
    "duration": 173,
    "start_time": "2021-07-07T15:18:07.974Z"
   },
   {
    "duration": 84,
    "start_time": "2021-07-07T15:18:08.149Z"
   },
   {
    "duration": 3,
    "start_time": "2021-07-07T15:18:08.235Z"
   },
   {
    "duration": 30,
    "start_time": "2021-07-07T15:18:08.240Z"
   },
   {
    "duration": 22,
    "start_time": "2021-07-07T15:18:08.272Z"
   },
   {
    "duration": 11,
    "start_time": "2021-07-07T15:18:08.295Z"
   },
   {
    "duration": 11,
    "start_time": "2021-07-07T15:18:08.309Z"
   },
   {
    "duration": 40,
    "start_time": "2021-07-07T15:18:08.322Z"
   },
   {
    "duration": 42,
    "start_time": "2021-07-07T15:18:08.364Z"
   },
   {
    "duration": 22,
    "start_time": "2021-07-07T15:18:08.408Z"
   },
   {
    "duration": 5,
    "start_time": "2021-07-07T15:18:08.432Z"
   },
   {
    "duration": 13,
    "start_time": "2021-07-07T15:18:08.439Z"
   },
   {
    "duration": 9,
    "start_time": "2021-07-07T15:18:08.454Z"
   },
   {
    "duration": 32,
    "start_time": "2021-07-07T15:18:08.465Z"
   },
   {
    "duration": 10,
    "start_time": "2021-07-07T15:18:08.501Z"
   },
   {
    "duration": 7,
    "start_time": "2021-07-07T15:18:08.513Z"
   },
   {
    "duration": 11,
    "start_time": "2021-07-07T15:18:08.521Z"
   },
   {
    "duration": 17,
    "start_time": "2021-07-07T15:18:08.534Z"
   },
   {
    "duration": 44,
    "start_time": "2021-07-07T15:18:08.553Z"
   },
   {
    "duration": 22,
    "start_time": "2021-07-07T15:18:08.599Z"
   },
   {
    "duration": 61,
    "start_time": "2021-07-07T15:18:08.622Z"
   },
   {
    "duration": 7,
    "start_time": "2021-07-07T15:18:39.457Z"
   },
   {
    "duration": 5,
    "start_time": "2021-07-07T16:05:17.020Z"
   },
   {
    "duration": 5,
    "start_time": "2021-07-07T16:51:28.794Z"
   },
   {
    "duration": 546,
    "start_time": "2021-07-07T16:52:26.306Z"
   },
   {
    "duration": 203,
    "start_time": "2021-07-07T16:52:27.523Z"
   },
   {
    "duration": 85,
    "start_time": "2021-07-07T16:52:27.736Z"
   },
   {
    "duration": 4,
    "start_time": "2021-07-07T16:52:27.899Z"
   },
   {
    "duration": 25,
    "start_time": "2021-07-07T16:52:28.674Z"
   },
   {
    "duration": 8,
    "start_time": "2021-07-07T16:52:32.956Z"
   },
   {
    "duration": 18,
    "start_time": "2021-07-07T16:52:35.616Z"
   },
   {
    "duration": 6,
    "start_time": "2021-07-07T16:52:36.913Z"
   },
   {
    "duration": 11,
    "start_time": "2021-07-07T16:52:40.258Z"
   },
   {
    "duration": 10,
    "start_time": "2021-07-07T16:52:46.251Z"
   },
   {
    "duration": 8,
    "start_time": "2021-07-07T16:52:47.182Z"
   },
   {
    "duration": 27,
    "start_time": "2021-07-07T16:53:20.391Z"
   },
   {
    "duration": 20,
    "start_time": "2021-07-07T16:53:22.022Z"
   },
   {
    "duration": 23,
    "start_time": "2021-07-07T16:53:23.690Z"
   },
   {
    "duration": 8,
    "start_time": "2021-07-07T16:53:24.261Z"
   },
   {
    "duration": 4,
    "start_time": "2021-07-07T16:53:38.733Z"
   },
   {
    "duration": 7,
    "start_time": "2021-07-07T16:53:40.445Z"
   },
   {
    "duration": 11,
    "start_time": "2021-07-07T16:53:41.348Z"
   },
   {
    "duration": 13,
    "start_time": "2021-07-07T16:53:45.250Z"
   },
   {
    "duration": 12,
    "start_time": "2021-07-07T16:53:45.467Z"
   },
   {
    "duration": 4,
    "start_time": "2021-07-07T16:55:32.704Z"
   },
   {
    "duration": 12,
    "start_time": "2021-07-07T16:55:49.012Z"
   },
   {
    "duration": 18,
    "start_time": "2021-07-07T16:55:49.547Z"
   },
   {
    "duration": 611,
    "start_time": "2021-07-07T16:58:35.156Z"
   },
   {
    "duration": 200,
    "start_time": "2021-07-07T16:58:35.770Z"
   },
   {
    "duration": 86,
    "start_time": "2021-07-07T16:58:35.972Z"
   },
   {
    "duration": 3,
    "start_time": "2021-07-07T16:58:36.060Z"
   },
   {
    "duration": 27,
    "start_time": "2021-07-07T16:58:36.065Z"
   },
   {
    "duration": 8,
    "start_time": "2021-07-07T16:58:36.094Z"
   },
   {
    "duration": 17,
    "start_time": "2021-07-07T16:58:36.103Z"
   },
   {
    "duration": 5,
    "start_time": "2021-07-07T16:58:36.123Z"
   },
   {
    "duration": 11,
    "start_time": "2021-07-07T16:58:36.130Z"
   },
   {
    "duration": 7,
    "start_time": "2021-07-07T16:58:36.143Z"
   },
   {
    "duration": 37,
    "start_time": "2021-07-07T16:58:36.152Z"
   },
   {
    "duration": 27,
    "start_time": "2021-07-07T16:58:36.191Z"
   },
   {
    "duration": 19,
    "start_time": "2021-07-07T16:58:36.219Z"
   },
   {
    "duration": 49,
    "start_time": "2021-07-07T16:58:36.240Z"
   },
   {
    "duration": 6,
    "start_time": "2021-07-07T16:58:36.291Z"
   },
   {
    "duration": 3,
    "start_time": "2021-07-07T16:58:36.299Z"
   },
   {
    "duration": 13,
    "start_time": "2021-07-07T16:58:36.304Z"
   },
   {
    "duration": 10,
    "start_time": "2021-07-07T16:58:36.319Z"
   },
   {
    "duration": 10,
    "start_time": "2021-07-07T16:58:36.331Z"
   },
   {
    "duration": 44,
    "start_time": "2021-07-07T16:58:36.343Z"
   },
   {
    "duration": 4,
    "start_time": "2021-07-07T16:58:36.388Z"
   },
   {
    "duration": 13,
    "start_time": "2021-07-07T16:58:36.394Z"
   },
   {
    "duration": 16,
    "start_time": "2021-07-07T16:58:36.410Z"
   },
   {
    "duration": 8,
    "start_time": "2021-07-07T17:02:31.629Z"
   },
   {
    "duration": 8,
    "start_time": "2021-07-07T17:02:34.308Z"
   },
   {
    "duration": 6,
    "start_time": "2021-07-07T17:05:13.483Z"
   },
   {
    "duration": 17,
    "start_time": "2021-07-07T17:05:20.606Z"
   },
   {
    "duration": 7,
    "start_time": "2021-07-07T17:05:34.638Z"
   },
   {
    "duration": 3,
    "start_time": "2021-07-07T17:06:31.883Z"
   },
   {
    "duration": 570,
    "start_time": "2021-07-07T17:06:37.165Z"
   },
   {
    "duration": 174,
    "start_time": "2021-07-07T17:06:37.737Z"
   },
   {
    "duration": 47,
    "start_time": "2021-07-07T17:06:37.913Z"
   },
   {
    "duration": 3,
    "start_time": "2021-07-07T17:06:37.962Z"
   },
   {
    "duration": 27,
    "start_time": "2021-07-07T17:06:37.967Z"
   },
   {
    "duration": 7,
    "start_time": "2021-07-07T17:06:37.996Z"
   },
   {
    "duration": 16,
    "start_time": "2021-07-07T17:06:38.005Z"
   },
   {
    "duration": 6,
    "start_time": "2021-07-07T17:06:38.024Z"
   },
   {
    "duration": 12,
    "start_time": "2021-07-07T17:06:38.031Z"
   },
   {
    "duration": 41,
    "start_time": "2021-07-07T17:06:38.045Z"
   },
   {
    "duration": 8,
    "start_time": "2021-07-07T17:06:38.088Z"
   },
   {
    "duration": 26,
    "start_time": "2021-07-07T17:06:38.098Z"
   },
   {
    "duration": 17,
    "start_time": "2021-07-07T17:06:38.126Z"
   },
   {
    "duration": 43,
    "start_time": "2021-07-07T17:06:38.144Z"
   },
   {
    "duration": 6,
    "start_time": "2021-07-07T17:06:38.188Z"
   },
   {
    "duration": 5,
    "start_time": "2021-07-07T17:06:38.195Z"
   },
   {
    "duration": 9,
    "start_time": "2021-07-07T17:06:38.201Z"
   },
   {
    "duration": 12,
    "start_time": "2021-07-07T17:06:38.212Z"
   },
   {
    "duration": 11,
    "start_time": "2021-07-07T17:06:38.226Z"
   },
   {
    "duration": 47,
    "start_time": "2021-07-07T17:06:38.239Z"
   },
   {
    "duration": 4,
    "start_time": "2021-07-07T17:06:38.288Z"
   },
   {
    "duration": 13,
    "start_time": "2021-07-07T17:06:38.293Z"
   },
   {
    "duration": 5,
    "start_time": "2021-07-07T17:06:38.309Z"
   },
   {
    "duration": 18,
    "start_time": "2021-07-07T17:06:38.325Z"
   },
   {
    "duration": 20,
    "start_time": "2021-07-07T17:07:02.805Z"
   },
   {
    "duration": 19,
    "start_time": "2021-07-07T17:07:08.527Z"
   },
   {
    "duration": 19,
    "start_time": "2021-07-07T17:07:12.758Z"
   },
   {
    "duration": 22,
    "start_time": "2021-07-07T17:07:17.497Z"
   },
   {
    "duration": 19,
    "start_time": "2021-07-07T17:07:19.645Z"
   },
   {
    "duration": 10,
    "start_time": "2021-07-07T17:07:34.239Z"
   },
   {
    "duration": 17,
    "start_time": "2021-07-07T17:07:54.144Z"
   },
   {
    "duration": 14,
    "start_time": "2021-07-07T17:08:14.357Z"
   },
   {
    "duration": 616,
    "start_time": "2021-07-07T17:08:45.254Z"
   },
   {
    "duration": 178,
    "start_time": "2021-07-07T17:08:45.872Z"
   },
   {
    "duration": 60,
    "start_time": "2021-07-07T17:08:46.054Z"
   },
   {
    "duration": 3,
    "start_time": "2021-07-07T17:08:46.116Z"
   },
   {
    "duration": 26,
    "start_time": "2021-07-07T17:08:46.121Z"
   },
   {
    "duration": 7,
    "start_time": "2021-07-07T17:08:46.149Z"
   },
   {
    "duration": 17,
    "start_time": "2021-07-07T17:08:46.158Z"
   },
   {
    "duration": 14,
    "start_time": "2021-07-07T17:08:46.176Z"
   },
   {
    "duration": 17,
    "start_time": "2021-07-07T17:08:46.193Z"
   },
   {
    "duration": 9,
    "start_time": "2021-07-07T17:08:46.211Z"
   },
   {
    "duration": 21,
    "start_time": "2021-07-07T17:08:46.221Z"
   },
   {
    "duration": 49,
    "start_time": "2021-07-07T17:08:46.244Z"
   },
   {
    "duration": 24,
    "start_time": "2021-07-07T17:08:46.295Z"
   },
   {
    "duration": 22,
    "start_time": "2021-07-07T17:08:46.321Z"
   },
   {
    "duration": 6,
    "start_time": "2021-07-07T17:08:46.345Z"
   },
   {
    "duration": 5,
    "start_time": "2021-07-07T17:08:46.353Z"
   },
   {
    "duration": 13,
    "start_time": "2021-07-07T17:08:46.386Z"
   },
   {
    "duration": 12,
    "start_time": "2021-07-07T17:08:46.402Z"
   },
   {
    "duration": 10,
    "start_time": "2021-07-07T17:08:46.415Z"
   },
   {
    "duration": 7,
    "start_time": "2021-07-07T17:08:46.427Z"
   },
   {
    "duration": 8,
    "start_time": "2021-07-07T17:08:46.435Z"
   },
   {
    "duration": 68,
    "start_time": "2021-07-07T17:08:46.446Z"
   },
   {
    "duration": 13,
    "start_time": "2021-07-07T17:08:46.516Z"
   },
   {
    "duration": 78,
    "start_time": "2021-07-07T17:08:46.530Z"
   },
   {
    "duration": 40,
    "start_time": "2021-07-07T17:09:08.185Z"
   },
   {
    "duration": 16,
    "start_time": "2021-07-07T17:09:19.324Z"
   },
   {
    "duration": 21,
    "start_time": "2021-07-07T17:09:23.290Z"
   },
   {
    "duration": 13,
    "start_time": "2021-07-07T17:09:54.812Z"
   },
   {
    "duration": 13,
    "start_time": "2021-07-07T17:10:02.039Z"
   },
   {
    "duration": 10,
    "start_time": "2021-07-07T17:10:29.632Z"
   },
   {
    "duration": 13,
    "start_time": "2021-07-07T17:10:52.372Z"
   },
   {
    "duration": 13,
    "start_time": "2021-07-07T17:11:17.270Z"
   },
   {
    "duration": 13,
    "start_time": "2021-07-07T17:14:59.284Z"
   },
   {
    "duration": 547,
    "start_time": "2021-07-07T17:18:52.403Z"
   },
   {
    "duration": 163,
    "start_time": "2021-07-07T17:18:52.952Z"
   },
   {
    "duration": 44,
    "start_time": "2021-07-07T17:18:53.117Z"
   },
   {
    "duration": 3,
    "start_time": "2021-07-07T17:18:53.162Z"
   },
   {
    "duration": 26,
    "start_time": "2021-07-07T17:18:53.167Z"
   },
   {
    "duration": 6,
    "start_time": "2021-07-07T17:18:53.195Z"
   },
   {
    "duration": 15,
    "start_time": "2021-07-07T17:18:53.203Z"
   },
   {
    "duration": 5,
    "start_time": "2021-07-07T17:18:53.220Z"
   },
   {
    "duration": 11,
    "start_time": "2021-07-07T17:18:53.228Z"
   },
   {
    "duration": 9,
    "start_time": "2021-07-07T17:18:53.241Z"
   },
   {
    "duration": 41,
    "start_time": "2021-07-07T17:18:53.252Z"
   },
   {
    "duration": 33,
    "start_time": "2021-07-07T17:18:53.295Z"
   },
   {
    "duration": 19,
    "start_time": "2021-07-07T17:18:53.330Z"
   },
   {
    "duration": 49,
    "start_time": "2021-07-07T17:18:53.350Z"
   },
   {
    "duration": 5,
    "start_time": "2021-07-07T17:18:53.401Z"
   },
   {
    "duration": 5,
    "start_time": "2021-07-07T17:18:53.408Z"
   },
   {
    "duration": 11,
    "start_time": "2021-07-07T17:18:53.414Z"
   },
   {
    "duration": 9,
    "start_time": "2021-07-07T17:18:53.427Z"
   },
   {
    "duration": 10,
    "start_time": "2021-07-07T17:18:53.437Z"
   },
   {
    "duration": 39,
    "start_time": "2021-07-07T17:18:53.448Z"
   },
   {
    "duration": 26,
    "start_time": "2021-07-07T17:18:55.799Z"
   },
   {
    "duration": 598,
    "start_time": "2021-07-07T17:20:17.862Z"
   },
   {
    "duration": 161,
    "start_time": "2021-07-07T17:20:18.462Z"
   },
   {
    "duration": 45,
    "start_time": "2021-07-07T17:20:18.626Z"
   },
   {
    "duration": 4,
    "start_time": "2021-07-07T17:20:18.673Z"
   },
   {
    "duration": 38,
    "start_time": "2021-07-07T17:20:26.877Z"
   },
   {
    "duration": 7,
    "start_time": "2021-07-07T17:20:37.405Z"
   },
   {
    "duration": 19,
    "start_time": "2021-07-07T17:20:51.534Z"
   },
   {
    "duration": 5,
    "start_time": "2021-07-07T17:20:57.228Z"
   },
   {
    "duration": 7,
    "start_time": "2021-07-07T17:21:08.235Z"
   },
   {
    "duration": 19,
    "start_time": "2021-07-07T17:21:42.158Z"
   },
   {
    "duration": 14,
    "start_time": "2021-07-07T17:21:50.225Z"
   },
   {
    "duration": 22,
    "start_time": "2021-07-07T17:22:54.104Z"
   },
   {
    "duration": 5,
    "start_time": "2021-07-07T17:22:56.371Z"
   },
   {
    "duration": 14,
    "start_time": "2021-07-07T17:22:58.316Z"
   },
   {
    "duration": 5,
    "start_time": "2021-07-07T17:22:58.493Z"
   },
   {
    "duration": 35,
    "start_time": "2021-07-07T17:22:59.666Z"
   },
   {
    "duration": 6,
    "start_time": "2021-07-07T17:23:02.410Z"
   },
   {
    "duration": 611,
    "start_time": "2021-07-07T17:24:59.664Z"
   },
   {
    "duration": 178,
    "start_time": "2021-07-07T17:25:01.945Z"
   },
   {
    "duration": 47,
    "start_time": "2021-07-07T17:25:02.125Z"
   },
   {
    "duration": 2,
    "start_time": "2021-07-07T17:25:07.903Z"
   },
   {
    "duration": 254,
    "start_time": "2021-07-07T17:25:08.232Z"
   },
   {
    "duration": 182,
    "start_time": "2021-07-07T17:25:08.671Z"
   },
   {
    "duration": 6,
    "start_time": "2021-07-07T17:25:13.104Z"
   },
   {
    "duration": 36,
    "start_time": "2021-07-07T17:25:13.662Z"
   },
   {
    "duration": 7,
    "start_time": "2021-07-07T17:25:14.528Z"
   },
   {
    "duration": 24,
    "start_time": "2021-07-07T17:25:27.982Z"
   },
   {
    "duration": 3,
    "start_time": "2021-07-07T17:25:48.982Z"
   },
   {
    "duration": 165,
    "start_time": "2021-07-07T17:25:48.987Z"
   },
   {
    "duration": 50,
    "start_time": "2021-07-07T17:25:49.154Z"
   },
   {
    "duration": 4,
    "start_time": "2021-07-07T17:25:49.206Z"
   },
   {
    "duration": 26,
    "start_time": "2021-07-07T17:25:49.212Z"
   },
   {
    "duration": 7,
    "start_time": "2021-07-07T17:25:49.240Z"
   },
   {
    "duration": 16,
    "start_time": "2021-07-07T17:25:49.249Z"
   },
   {
    "duration": 22,
    "start_time": "2021-07-07T17:25:49.266Z"
   },
   {
    "duration": 16,
    "start_time": "2021-07-07T17:25:49.291Z"
   },
   {
    "duration": 9,
    "start_time": "2021-07-07T17:25:49.309Z"
   },
   {
    "duration": 7,
    "start_time": "2021-07-07T17:25:49.319Z"
   },
   {
    "duration": 28,
    "start_time": "2021-07-07T17:25:49.328Z"
   },
   {
    "duration": 44,
    "start_time": "2021-07-07T17:25:49.357Z"
   },
   {
    "duration": 22,
    "start_time": "2021-07-07T17:25:49.403Z"
   },
   {
    "duration": 7,
    "start_time": "2021-07-07T17:25:49.427Z"
   },
   {
    "duration": 3,
    "start_time": "2021-07-07T17:25:49.436Z"
   },
   {
    "duration": 44,
    "start_time": "2021-07-07T17:25:49.441Z"
   },
   {
    "duration": 12,
    "start_time": "2021-07-07T17:25:49.488Z"
   },
   {
    "duration": 13,
    "start_time": "2021-07-07T17:25:49.502Z"
   },
   {
    "duration": 10,
    "start_time": "2021-07-07T17:25:49.516Z"
   },
   {
    "duration": 62,
    "start_time": "2021-07-07T17:25:49.527Z"
   },
   {
    "duration": 26,
    "start_time": "2021-07-07T17:26:51.809Z"
   },
   {
    "duration": 26,
    "start_time": "2021-07-07T17:26:55.759Z"
   },
   {
    "duration": 26,
    "start_time": "2021-07-07T17:27:04.501Z"
   },
   {
    "duration": 25,
    "start_time": "2021-07-07T17:28:24.859Z"
   },
   {
    "duration": 21,
    "start_time": "2021-07-07T17:28:55.250Z"
   },
   {
    "duration": 21,
    "start_time": "2021-07-07T17:28:58.885Z"
   },
   {
    "duration": 7,
    "start_time": "2021-07-07T17:45:40.972Z"
   },
   {
    "duration": 13,
    "start_time": "2021-07-07T17:45:42.529Z"
   },
   {
    "duration": 27,
    "start_time": "2021-07-07T17:45:51.026Z"
   },
   {
    "duration": 518,
    "start_time": "2021-07-07T17:46:15.532Z"
   },
   {
    "duration": 235,
    "start_time": "2021-07-07T17:46:16.053Z"
   },
   {
    "duration": 80,
    "start_time": "2021-07-07T17:46:16.292Z"
   },
   {
    "duration": 5,
    "start_time": "2021-07-07T17:46:16.373Z"
   },
   {
    "duration": 26,
    "start_time": "2021-07-07T17:46:16.380Z"
   },
   {
    "duration": 7,
    "start_time": "2021-07-07T17:46:16.408Z"
   },
   {
    "duration": 16,
    "start_time": "2021-07-07T17:46:16.418Z"
   },
   {
    "duration": 5,
    "start_time": "2021-07-07T17:46:16.436Z"
   },
   {
    "duration": 13,
    "start_time": "2021-07-07T17:46:16.442Z"
   },
   {
    "duration": 35,
    "start_time": "2021-07-07T17:46:16.456Z"
   },
   {
    "duration": 8,
    "start_time": "2021-07-07T17:46:16.493Z"
   },
   {
    "duration": 28,
    "start_time": "2021-07-07T17:46:16.502Z"
   },
   {
    "duration": 17,
    "start_time": "2021-07-07T17:46:16.532Z"
   },
   {
    "duration": 44,
    "start_time": "2021-07-07T17:46:16.551Z"
   },
   {
    "duration": 6,
    "start_time": "2021-07-07T17:46:16.597Z"
   },
   {
    "duration": 4,
    "start_time": "2021-07-07T17:46:16.605Z"
   },
   {
    "duration": 9,
    "start_time": "2021-07-07T17:46:16.610Z"
   },
   {
    "duration": 9,
    "start_time": "2021-07-07T17:46:16.621Z"
   },
   {
    "duration": 10,
    "start_time": "2021-07-07T17:46:16.632Z"
   },
   {
    "duration": 43,
    "start_time": "2021-07-07T17:46:16.644Z"
   },
   {
    "duration": 26,
    "start_time": "2021-07-07T17:46:16.689Z"
   },
   {
    "duration": 19,
    "start_time": "2021-07-07T17:46:16.718Z"
   },
   {
    "duration": 8,
    "start_time": "2021-07-07T17:46:16.738Z"
   },
   {
    "duration": 43,
    "start_time": "2021-07-07T17:46:16.747Z"
   },
   {
    "duration": 19,
    "start_time": "2021-07-07T17:46:16.791Z"
   },
   {
    "duration": 9,
    "start_time": "2021-07-07T17:46:16.812Z"
   },
   {
    "duration": 60,
    "start_time": "2021-07-07T17:46:16.822Z"
   },
   {
    "duration": -8,
    "start_time": "2021-07-07T17:46:16.892Z"
   },
   {
    "duration": 12,
    "start_time": "2021-07-07T17:48:47.707Z"
   },
   {
    "duration": 553,
    "start_time": "2021-07-07T18:10:09.350Z"
   },
   {
    "duration": 230,
    "start_time": "2021-07-07T18:10:09.905Z"
   },
   {
    "duration": 97,
    "start_time": "2021-07-07T18:10:10.137Z"
   },
   {
    "duration": 5,
    "start_time": "2021-07-07T18:10:10.236Z"
   },
   {
    "duration": 29,
    "start_time": "2021-07-07T18:10:10.242Z"
   },
   {
    "duration": 7,
    "start_time": "2021-07-07T18:10:10.272Z"
   },
   {
    "duration": 15,
    "start_time": "2021-07-07T18:10:10.281Z"
   },
   {
    "duration": 4,
    "start_time": "2021-07-07T18:10:10.299Z"
   },
   {
    "duration": 14,
    "start_time": "2021-07-07T18:10:10.305Z"
   },
   {
    "duration": 8,
    "start_time": "2021-07-07T18:10:10.321Z"
   },
   {
    "duration": 8,
    "start_time": "2021-07-07T18:10:10.331Z"
   },
   {
    "duration": 56,
    "start_time": "2021-07-07T18:10:10.341Z"
   },
   {
    "duration": 19,
    "start_time": "2021-07-07T18:10:10.399Z"
   },
   {
    "duration": 23,
    "start_time": "2021-07-07T18:10:10.419Z"
   },
   {
    "duration": 6,
    "start_time": "2021-07-07T18:10:10.444Z"
   },
   {
    "duration": 9,
    "start_time": "2021-07-07T18:10:10.451Z"
   },
   {
    "duration": 30,
    "start_time": "2021-07-07T18:10:10.462Z"
   },
   {
    "duration": 9,
    "start_time": "2021-07-07T18:10:10.494Z"
   },
   {
    "duration": 14,
    "start_time": "2021-07-07T18:10:10.505Z"
   },
   {
    "duration": 7,
    "start_time": "2021-07-07T18:10:10.521Z"
   },
   {
    "duration": 26,
    "start_time": "2021-07-07T18:10:10.530Z"
   },
   {
    "duration": 44,
    "start_time": "2021-07-07T18:10:10.558Z"
   },
   {
    "duration": 7,
    "start_time": "2021-07-07T18:10:10.605Z"
   },
   {
    "duration": 11,
    "start_time": "2021-07-07T18:10:10.614Z"
   },
   {
    "duration": 19,
    "start_time": "2021-07-07T18:10:10.626Z"
   },
   {
    "duration": 44,
    "start_time": "2021-07-07T18:10:10.646Z"
   },
   {
    "duration": 516,
    "start_time": "2021-07-07T18:14:00.826Z"
   },
   {
    "duration": 230,
    "start_time": "2021-07-07T18:14:01.344Z"
   },
   {
    "duration": 105,
    "start_time": "2021-07-07T18:14:01.576Z"
   },
   {
    "duration": 5,
    "start_time": "2021-07-07T18:14:01.683Z"
   },
   {
    "duration": 46,
    "start_time": "2021-07-07T18:14:01.690Z"
   },
   {
    "duration": 7,
    "start_time": "2021-07-07T18:14:01.738Z"
   },
   {
    "duration": 20,
    "start_time": "2021-07-07T18:14:01.747Z"
   },
   {
    "duration": 16,
    "start_time": "2021-07-07T18:14:01.769Z"
   },
   {
    "duration": 14,
    "start_time": "2021-07-07T18:14:01.787Z"
   },
   {
    "duration": 15,
    "start_time": "2021-07-07T18:14:01.803Z"
   },
   {
    "duration": 12,
    "start_time": "2021-07-07T18:14:01.820Z"
   },
   {
    "duration": 35,
    "start_time": "2021-07-07T18:14:01.833Z"
   },
   {
    "duration": 31,
    "start_time": "2021-07-07T18:14:01.869Z"
   },
   {
    "duration": 37,
    "start_time": "2021-07-07T18:14:01.902Z"
   },
   {
    "duration": 8,
    "start_time": "2021-07-07T18:14:01.942Z"
   },
   {
    "duration": 16,
    "start_time": "2021-07-07T18:14:01.952Z"
   },
   {
    "duration": 13,
    "start_time": "2021-07-07T18:14:01.970Z"
   },
   {
    "duration": 32,
    "start_time": "2021-07-07T18:14:01.985Z"
   },
   {
    "duration": 11,
    "start_time": "2021-07-07T18:14:02.019Z"
   },
   {
    "duration": 22,
    "start_time": "2021-07-07T18:14:02.031Z"
   },
   {
    "duration": 27,
    "start_time": "2021-07-07T18:14:02.055Z"
   },
   {
    "duration": 18,
    "start_time": "2021-07-07T18:14:02.084Z"
   },
   {
    "duration": 18,
    "start_time": "2021-07-07T18:14:02.106Z"
   },
   {
    "duration": 11,
    "start_time": "2021-07-07T18:14:02.126Z"
   },
   {
    "duration": 21,
    "start_time": "2021-07-07T18:14:02.138Z"
   },
   {
    "duration": 32,
    "start_time": "2021-07-07T18:14:02.161Z"
   },
   {
    "duration": 28,
    "start_time": "2021-07-07T18:14:44.295Z"
   },
   {
    "duration": 6,
    "start_time": "2021-07-07T18:15:05.834Z"
   },
   {
    "duration": 511,
    "start_time": "2021-07-07T18:15:41.541Z"
   },
   {
    "duration": 183,
    "start_time": "2021-07-07T18:15:42.054Z"
   },
   {
    "duration": 50,
    "start_time": "2021-07-07T18:15:42.239Z"
   },
   {
    "duration": 5,
    "start_time": "2021-07-07T18:15:42.291Z"
   },
   {
    "duration": 48,
    "start_time": "2021-07-07T18:15:42.297Z"
   },
   {
    "duration": 8,
    "start_time": "2021-07-07T18:15:42.346Z"
   },
   {
    "duration": 17,
    "start_time": "2021-07-07T18:15:42.356Z"
   },
   {
    "duration": 15,
    "start_time": "2021-07-07T18:15:42.375Z"
   },
   {
    "duration": 12,
    "start_time": "2021-07-07T18:15:42.392Z"
   },
   {
    "duration": 7,
    "start_time": "2021-07-07T18:15:42.406Z"
   },
   {
    "duration": 7,
    "start_time": "2021-07-07T18:15:42.415Z"
   },
   {
    "duration": 29,
    "start_time": "2021-07-07T18:15:42.423Z"
   },
   {
    "duration": 43,
    "start_time": "2021-07-07T18:15:42.453Z"
   },
   {
    "duration": 18,
    "start_time": "2021-07-07T18:15:42.497Z"
   },
   {
    "duration": 6,
    "start_time": "2021-07-07T18:15:42.516Z"
   },
   {
    "duration": 3,
    "start_time": "2021-07-07T18:15:42.523Z"
   },
   {
    "duration": 18,
    "start_time": "2021-07-07T18:15:42.528Z"
   },
   {
    "duration": 10,
    "start_time": "2021-07-07T18:15:42.547Z"
   },
   {
    "duration": 36,
    "start_time": "2021-07-07T18:15:42.559Z"
   },
   {
    "duration": 8,
    "start_time": "2021-07-07T18:15:42.597Z"
   },
   {
    "duration": 28,
    "start_time": "2021-07-07T18:15:42.606Z"
   },
   {
    "duration": 52,
    "start_time": "2021-07-07T18:15:42.635Z"
   },
   {
    "duration": 7,
    "start_time": "2021-07-07T18:15:42.690Z"
   },
   {
    "duration": 10,
    "start_time": "2021-07-07T18:15:42.699Z"
   },
   {
    "duration": 19,
    "start_time": "2021-07-07T18:15:42.711Z"
   },
   {
    "duration": 9,
    "start_time": "2021-07-07T18:15:42.732Z"
   },
   {
    "duration": 5,
    "start_time": "2021-07-07T18:15:42.743Z"
   },
   {
    "duration": 1450,
    "start_time": "2021-07-07T18:15:51.984Z"
   },
   {
    "duration": 161,
    "start_time": "2021-07-07T18:15:53.435Z"
   },
   {
    "duration": 124,
    "start_time": "2021-07-07T18:15:53.598Z"
   },
   {
    "duration": 5,
    "start_time": "2021-07-07T18:15:53.724Z"
   },
   {
    "duration": 34,
    "start_time": "2021-07-07T18:15:53.730Z"
   },
   {
    "duration": 7,
    "start_time": "2021-07-07T18:15:53.765Z"
   },
   {
    "duration": 15,
    "start_time": "2021-07-07T18:15:53.773Z"
   },
   {
    "duration": 5,
    "start_time": "2021-07-07T18:15:53.791Z"
   },
   {
    "duration": 19,
    "start_time": "2021-07-07T18:15:53.798Z"
   },
   {
    "duration": 9,
    "start_time": "2021-07-07T18:15:53.818Z"
   },
   {
    "duration": 19,
    "start_time": "2021-07-07T18:15:53.828Z"
   },
   {
    "duration": 27,
    "start_time": "2021-07-07T18:15:53.848Z"
   },
   {
    "duration": 16,
    "start_time": "2021-07-07T18:15:53.884Z"
   },
   {
    "duration": 29,
    "start_time": "2021-07-07T18:15:53.901Z"
   },
   {
    "duration": 5,
    "start_time": "2021-07-07T18:15:53.932Z"
   },
   {
    "duration": 15,
    "start_time": "2021-07-07T18:15:53.939Z"
   },
   {
    "duration": 13,
    "start_time": "2021-07-07T18:15:53.956Z"
   },
   {
    "duration": 20,
    "start_time": "2021-07-07T18:15:53.971Z"
   },
   {
    "duration": 14,
    "start_time": "2021-07-07T18:15:53.992Z"
   },
   {
    "duration": 9,
    "start_time": "2021-07-07T18:15:54.009Z"
   },
   {
    "duration": 28,
    "start_time": "2021-07-07T18:15:54.020Z"
   },
   {
    "duration": 50,
    "start_time": "2021-07-07T18:15:54.051Z"
   },
   {
    "duration": 8,
    "start_time": "2021-07-07T18:15:54.105Z"
   },
   {
    "duration": 11,
    "start_time": "2021-07-07T18:15:54.115Z"
   },
   {
    "duration": 20,
    "start_time": "2021-07-07T18:15:54.128Z"
   },
   {
    "duration": 13,
    "start_time": "2021-07-07T18:15:54.184Z"
   },
   {
    "duration": 7,
    "start_time": "2021-07-07T18:15:54.199Z"
   },
   {
    "duration": 7,
    "start_time": "2021-07-07T18:17:08.042Z"
   },
   {
    "duration": 8,
    "start_time": "2021-07-07T18:17:21.008Z"
   },
   {
    "duration": 7,
    "start_time": "2021-07-07T18:17:29.003Z"
   },
   {
    "duration": 8,
    "start_time": "2021-07-07T18:17:32.492Z"
   },
   {
    "duration": 9,
    "start_time": "2021-07-07T18:17:41.758Z"
   },
   {
    "duration": 255,
    "start_time": "2021-07-07T18:20:20.897Z"
   },
   {
    "duration": 173,
    "start_time": "2021-07-07T18:20:26.636Z"
   },
   {
    "duration": 7,
    "start_time": "2021-07-07T18:21:47.164Z"
   },
   {
    "duration": 254,
    "start_time": "2021-07-07T18:23:08.703Z"
   },
   {
    "duration": 21,
    "start_time": "2021-07-07T18:23:22.506Z"
   },
   {
    "duration": 315,
    "start_time": "2021-07-07T18:25:54.801Z"
   },
   {
    "duration": 34,
    "start_time": "2021-07-07T18:26:51.817Z"
   },
   {
    "duration": 327,
    "start_time": "2021-07-07T18:26:56.147Z"
   },
   {
    "duration": 342,
    "start_time": "2021-07-07T18:27:15.887Z"
   },
   {
    "duration": 302,
    "start_time": "2021-07-07T18:28:18.569Z"
   },
   {
    "duration": 226,
    "start_time": "2021-07-07T18:29:20.879Z"
   },
   {
    "duration": 207,
    "start_time": "2021-07-07T18:29:58.114Z"
   },
   {
    "duration": 140,
    "start_time": "2021-07-07T18:32:04.372Z"
   },
   {
    "duration": 158,
    "start_time": "2021-07-07T18:32:32.508Z"
   },
   {
    "duration": 145,
    "start_time": "2021-07-07T18:32:41.365Z"
   },
   {
    "duration": 132,
    "start_time": "2021-07-07T18:32:45.199Z"
   },
   {
    "duration": 11,
    "start_time": "2021-07-07T18:35:24.679Z"
   },
   {
    "duration": 268,
    "start_time": "2021-07-07T18:36:16.145Z"
   },
   {
    "duration": 227,
    "start_time": "2021-07-07T18:37:04.918Z"
   },
   {
    "duration": 3,
    "start_time": "2021-07-07T18:37:33.012Z"
   },
   {
    "duration": 671,
    "start_time": "2021-07-07T18:37:38.295Z"
   },
   {
    "duration": 54,
    "start_time": "2021-07-07T18:37:53.406Z"
   },
   {
    "duration": 631,
    "start_time": "2021-07-07T18:37:56.463Z"
   },
   {
    "duration": 19,
    "start_time": "2021-07-07T18:39:40.535Z"
   },
   {
    "duration": 20,
    "start_time": "2021-07-07T18:40:12.236Z"
   },
   {
    "duration": 633,
    "start_time": "2021-07-07T18:42:00.398Z"
   },
   {
    "duration": 218,
    "start_time": "2021-07-07T18:42:01.033Z"
   },
   {
    "duration": 49,
    "start_time": "2021-07-07T18:42:01.253Z"
   },
   {
    "duration": 5,
    "start_time": "2021-07-07T18:42:01.303Z"
   },
   {
    "duration": 27,
    "start_time": "2021-07-07T18:42:01.310Z"
   },
   {
    "duration": 8,
    "start_time": "2021-07-07T18:42:01.339Z"
   },
   {
    "duration": 20,
    "start_time": "2021-07-07T18:42:01.348Z"
   },
   {
    "duration": 6,
    "start_time": "2021-07-07T18:42:01.386Z"
   },
   {
    "duration": 16,
    "start_time": "2021-07-07T18:42:01.394Z"
   },
   {
    "duration": 9,
    "start_time": "2021-07-07T18:42:01.411Z"
   },
   {
    "duration": 11,
    "start_time": "2021-07-07T18:42:01.421Z"
   },
   {
    "duration": 31,
    "start_time": "2021-07-07T18:42:01.434Z"
   },
   {
    "duration": 18,
    "start_time": "2021-07-07T18:42:01.485Z"
   },
   {
    "duration": 23,
    "start_time": "2021-07-07T18:42:01.505Z"
   },
   {
    "duration": 6,
    "start_time": "2021-07-07T18:42:01.530Z"
   },
   {
    "duration": 10,
    "start_time": "2021-07-07T18:42:01.538Z"
   },
   {
    "duration": 13,
    "start_time": "2021-07-07T18:42:01.550Z"
   },
   {
    "duration": 24,
    "start_time": "2021-07-07T18:42:01.564Z"
   },
   {
    "duration": 20,
    "start_time": "2021-07-07T18:42:01.590Z"
   },
   {
    "duration": 8,
    "start_time": "2021-07-07T18:42:01.611Z"
   },
   {
    "duration": 31,
    "start_time": "2021-07-07T18:42:01.620Z"
   },
   {
    "duration": 39,
    "start_time": "2021-07-07T18:42:01.653Z"
   },
   {
    "duration": 8,
    "start_time": "2021-07-07T18:42:01.696Z"
   },
   {
    "duration": 13,
    "start_time": "2021-07-07T18:42:01.705Z"
   },
   {
    "duration": 20,
    "start_time": "2021-07-07T18:42:01.720Z"
   },
   {
    "duration": 12,
    "start_time": "2021-07-07T18:42:01.741Z"
   },
   {
    "duration": 35,
    "start_time": "2021-07-07T18:42:01.755Z"
   },
   {
    "duration": 14,
    "start_time": "2021-07-07T18:42:01.792Z"
   },
   {
    "duration": 188,
    "start_time": "2021-07-07T18:42:01.808Z"
   },
   {
    "duration": 19,
    "start_time": "2021-07-07T18:42:01.998Z"
   },
   {
    "duration": 175,
    "start_time": "2021-07-07T18:42:02.019Z"
   },
   {
    "duration": 134,
    "start_time": "2021-07-07T18:42:02.196Z"
   },
   {
    "duration": 10,
    "start_time": "2021-07-07T18:42:02.331Z"
   },
   {
    "duration": 19,
    "start_time": "2021-07-07T18:42:02.343Z"
   },
   {
    "duration": 628,
    "start_time": "2021-07-07T18:46:30.701Z"
   },
   {
    "duration": 183,
    "start_time": "2021-07-07T18:46:31.331Z"
   },
   {
    "duration": 48,
    "start_time": "2021-07-07T18:46:31.516Z"
   },
   {
    "duration": 5,
    "start_time": "2021-07-07T18:46:31.566Z"
   },
   {
    "duration": 28,
    "start_time": "2021-07-07T18:46:31.572Z"
   },
   {
    "duration": 8,
    "start_time": "2021-07-07T18:46:31.602Z"
   },
   {
    "duration": 19,
    "start_time": "2021-07-07T18:46:31.611Z"
   },
   {
    "duration": 6,
    "start_time": "2021-07-07T18:46:31.633Z"
   },
   {
    "duration": 17,
    "start_time": "2021-07-07T18:46:31.642Z"
   },
   {
    "duration": 10,
    "start_time": "2021-07-07T18:46:31.684Z"
   },
   {
    "duration": 9,
    "start_time": "2021-07-07T18:46:31.695Z"
   },
   {
    "duration": 28,
    "start_time": "2021-07-07T18:46:31.705Z"
   },
   {
    "duration": 18,
    "start_time": "2021-07-07T18:46:31.735Z"
   },
   {
    "duration": 48,
    "start_time": "2021-07-07T18:46:31.755Z"
   },
   {
    "duration": 6,
    "start_time": "2021-07-07T18:46:31.804Z"
   },
   {
    "duration": 4,
    "start_time": "2021-07-07T18:46:31.812Z"
   },
   {
    "duration": 9,
    "start_time": "2021-07-07T18:46:31.817Z"
   },
   {
    "duration": 10,
    "start_time": "2021-07-07T18:46:31.827Z"
   },
   {
    "duration": 12,
    "start_time": "2021-07-07T18:46:31.838Z"
   },
   {
    "duration": 39,
    "start_time": "2021-07-07T18:46:31.851Z"
   },
   {
    "duration": 24,
    "start_time": "2021-07-07T18:46:31.892Z"
   },
   {
    "duration": 15,
    "start_time": "2021-07-07T18:46:31.918Z"
   },
   {
    "duration": 7,
    "start_time": "2021-07-07T18:46:31.936Z"
   },
   {
    "duration": 8,
    "start_time": "2021-07-07T18:46:31.944Z"
   },
   {
    "duration": 19,
    "start_time": "2021-07-07T18:46:31.984Z"
   },
   {
    "duration": 10,
    "start_time": "2021-07-07T18:46:32.004Z"
   },
   {
    "duration": 5,
    "start_time": "2021-07-07T18:46:32.016Z"
   },
   {
    "duration": 9,
    "start_time": "2021-07-07T18:46:32.023Z"
   },
   {
    "duration": 199,
    "start_time": "2021-07-07T18:46:32.033Z"
   },
   {
    "duration": 19,
    "start_time": "2021-07-07T18:46:32.234Z"
   },
   {
    "duration": 159,
    "start_time": "2021-07-07T18:46:32.255Z"
   },
   {
    "duration": 134,
    "start_time": "2021-07-07T18:46:32.416Z"
   },
   {
    "duration": 10,
    "start_time": "2021-07-07T18:46:32.552Z"
   },
   {
    "duration": 34,
    "start_time": "2021-07-07T18:46:32.563Z"
   },
   {
    "duration": 1039,
    "start_time": "2021-07-08T08:41:09.419Z"
   },
   {
    "duration": 333,
    "start_time": "2021-07-08T08:41:10.459Z"
   },
   {
    "duration": 173,
    "start_time": "2021-07-08T08:41:10.794Z"
   },
   {
    "duration": 5,
    "start_time": "2021-07-08T08:41:10.968Z"
   },
   {
    "duration": 25,
    "start_time": "2021-07-08T08:41:10.975Z"
   },
   {
    "duration": 9,
    "start_time": "2021-07-08T08:41:11.002Z"
   },
   {
    "duration": 18,
    "start_time": "2021-07-08T08:41:11.013Z"
   },
   {
    "duration": 6,
    "start_time": "2021-07-08T08:41:11.033Z"
   },
   {
    "duration": 44,
    "start_time": "2021-07-08T08:41:11.042Z"
   },
   {
    "duration": 10,
    "start_time": "2021-07-08T08:41:11.088Z"
   },
   {
    "duration": 9,
    "start_time": "2021-07-08T08:41:11.100Z"
   },
   {
    "duration": 27,
    "start_time": "2021-07-08T08:41:11.111Z"
   },
   {
    "duration": 46,
    "start_time": "2021-07-08T08:41:11.140Z"
   },
   {
    "duration": 17,
    "start_time": "2021-07-08T08:41:11.187Z"
   },
   {
    "duration": 6,
    "start_time": "2021-07-08T08:41:11.206Z"
   },
   {
    "duration": 5,
    "start_time": "2021-07-08T08:41:11.213Z"
   },
   {
    "duration": 10,
    "start_time": "2021-07-08T08:41:11.219Z"
   },
   {
    "duration": 9,
    "start_time": "2021-07-08T08:41:11.230Z"
   },
   {
    "duration": 45,
    "start_time": "2021-07-08T08:41:11.241Z"
   },
   {
    "duration": 7,
    "start_time": "2021-07-08T08:41:11.287Z"
   },
   {
    "duration": 24,
    "start_time": "2021-07-08T08:41:11.296Z"
   },
   {
    "duration": 16,
    "start_time": "2021-07-08T08:41:11.322Z"
   },
   {
    "duration": 7,
    "start_time": "2021-07-08T08:41:11.341Z"
   },
   {
    "duration": 41,
    "start_time": "2021-07-08T08:41:11.349Z"
   },
   {
    "duration": 17,
    "start_time": "2021-07-08T08:41:11.391Z"
   },
   {
    "duration": 9,
    "start_time": "2021-07-08T08:41:11.410Z"
   },
   {
    "duration": 5,
    "start_time": "2021-07-08T08:41:11.421Z"
   },
   {
    "duration": 6,
    "start_time": "2021-07-08T08:41:11.428Z"
   },
   {
    "duration": 198,
    "start_time": "2021-07-08T08:41:11.435Z"
   },
   {
    "duration": 18,
    "start_time": "2021-07-08T08:41:11.635Z"
   },
   {
    "duration": 155,
    "start_time": "2021-07-08T08:41:11.655Z"
   },
   {
    "duration": 138,
    "start_time": "2021-07-08T08:41:11.811Z"
   },
   {
    "duration": 10,
    "start_time": "2021-07-08T08:41:11.950Z"
   },
   {
    "duration": 29,
    "start_time": "2021-07-08T08:41:11.961Z"
   },
   {
    "duration": 171,
    "start_time": "2021-07-08T08:47:44.522Z"
   },
   {
    "duration": 124,
    "start_time": "2021-07-08T08:47:46.872Z"
   },
   {
    "duration": 191,
    "start_time": "2021-07-08T08:47:58.148Z"
   },
   {
    "duration": 191,
    "start_time": "2021-07-08T08:48:07.412Z"
   },
   {
    "duration": 261,
    "start_time": "2021-07-08T08:48:10.385Z"
   },
   {
    "duration": 255,
    "start_time": "2021-07-08T08:48:14.494Z"
   },
   {
    "duration": 219,
    "start_time": "2021-07-08T08:48:22.752Z"
   },
   {
    "duration": 173,
    "start_time": "2021-07-08T08:49:06.395Z"
   },
   {
    "duration": 180,
    "start_time": "2021-07-08T08:49:21.011Z"
   },
   {
    "duration": 6,
    "start_time": "2021-07-08T08:50:31.697Z"
   },
   {
    "duration": 10,
    "start_time": "2021-07-08T08:50:47.394Z"
   },
   {
    "duration": 11,
    "start_time": "2021-07-08T08:53:49.332Z"
   },
   {
    "duration": 171,
    "start_time": "2021-07-08T08:54:28.408Z"
   },
   {
    "duration": 636,
    "start_time": "2021-07-08T09:02:48.385Z"
   },
   {
    "duration": 227,
    "start_time": "2021-07-08T09:02:49.023Z"
   },
   {
    "duration": 104,
    "start_time": "2021-07-08T09:02:49.252Z"
   },
   {
    "duration": 5,
    "start_time": "2021-07-08T09:02:49.358Z"
   },
   {
    "duration": 27,
    "start_time": "2021-07-08T09:02:49.365Z"
   },
   {
    "duration": 8,
    "start_time": "2021-07-08T09:02:49.394Z"
   },
   {
    "duration": 18,
    "start_time": "2021-07-08T09:02:49.404Z"
   },
   {
    "duration": 6,
    "start_time": "2021-07-08T09:02:49.424Z"
   },
   {
    "duration": 11,
    "start_time": "2021-07-08T09:02:49.433Z"
   },
   {
    "duration": 13,
    "start_time": "2021-07-08T09:02:49.485Z"
   },
   {
    "duration": 9,
    "start_time": "2021-07-08T09:02:49.500Z"
   },
   {
    "duration": 38,
    "start_time": "2021-07-08T09:02:49.511Z"
   },
   {
    "duration": 42,
    "start_time": "2021-07-08T09:02:49.551Z"
   },
   {
    "duration": 21,
    "start_time": "2021-07-08T09:02:49.594Z"
   },
   {
    "duration": 6,
    "start_time": "2021-07-08T09:02:49.616Z"
   },
   {
    "duration": 3,
    "start_time": "2021-07-08T09:02:49.623Z"
   },
   {
    "duration": 9,
    "start_time": "2021-07-08T09:02:49.628Z"
   },
   {
    "duration": 52,
    "start_time": "2021-07-08T09:02:49.638Z"
   },
   {
    "duration": 11,
    "start_time": "2021-07-08T09:02:49.692Z"
   },
   {
    "duration": 8,
    "start_time": "2021-07-08T09:02:49.704Z"
   },
   {
    "duration": 27,
    "start_time": "2021-07-08T09:02:49.713Z"
   },
   {
    "duration": 59,
    "start_time": "2021-07-08T09:02:49.741Z"
   },
   {
    "duration": 8,
    "start_time": "2021-07-08T09:02:49.803Z"
   },
   {
    "duration": 14,
    "start_time": "2021-07-08T09:02:49.813Z"
   },
   {
    "duration": 20,
    "start_time": "2021-07-08T09:02:49.829Z"
   },
   {
    "duration": 44,
    "start_time": "2021-07-08T09:02:49.851Z"
   },
   {
    "duration": 14,
    "start_time": "2021-07-08T09:02:49.896Z"
   },
   {
    "duration": 221,
    "start_time": "2021-07-08T09:02:49.912Z"
   },
   {
    "duration": 6,
    "start_time": "2021-07-08T09:02:50.134Z"
   },
   {
    "duration": 206,
    "start_time": "2021-07-08T09:02:50.142Z"
   },
   {
    "duration": 19,
    "start_time": "2021-07-08T09:02:50.350Z"
   },
   {
    "duration": 21,
    "start_time": "2021-07-08T09:02:50.370Z"
   },
   {
    "duration": 20,
    "start_time": "2021-07-08T09:02:50.393Z"
   },
   {
    "duration": 5,
    "start_time": "2021-07-08T09:02:50.414Z"
   },
   {
    "duration": 5,
    "start_time": "2021-07-08T09:03:34.173Z"
   },
   {
    "duration": 6,
    "start_time": "2021-07-08T09:04:49.062Z"
   },
   {
    "duration": 9,
    "start_time": "2021-07-08T09:04:50.118Z"
   },
   {
    "duration": 14,
    "start_time": "2021-07-08T09:04:58.512Z"
   },
   {
    "duration": 9,
    "start_time": "2021-07-08T09:05:10.988Z"
   },
   {
    "duration": 11,
    "start_time": "2021-07-08T09:05:11.743Z"
   },
   {
    "duration": 7,
    "start_time": "2021-07-08T09:05:25.677Z"
   },
   {
    "duration": 13,
    "start_time": "2021-07-08T09:05:47.189Z"
   },
   {
    "duration": 13,
    "start_time": "2021-07-08T09:05:54.755Z"
   },
   {
    "duration": 4,
    "start_time": "2021-07-08T09:06:29.189Z"
   },
   {
    "duration": 244,
    "start_time": "2021-07-08T09:06:29.195Z"
   },
   {
    "duration": 91,
    "start_time": "2021-07-08T09:06:29.441Z"
   },
   {
    "duration": 4,
    "start_time": "2021-07-08T09:06:29.534Z"
   },
   {
    "duration": 28,
    "start_time": "2021-07-08T09:06:29.540Z"
   },
   {
    "duration": 6,
    "start_time": "2021-07-08T09:06:29.570Z"
   },
   {
    "duration": 18,
    "start_time": "2021-07-08T09:06:29.578Z"
   },
   {
    "duration": 5,
    "start_time": "2021-07-08T09:06:29.597Z"
   },
   {
    "duration": 13,
    "start_time": "2021-07-08T09:06:29.605Z"
   },
   {
    "duration": 8,
    "start_time": "2021-07-08T09:06:29.620Z"
   },
   {
    "duration": 7,
    "start_time": "2021-07-08T09:06:29.630Z"
   },
   {
    "duration": 63,
    "start_time": "2021-07-08T09:06:29.639Z"
   },
   {
    "duration": 17,
    "start_time": "2021-07-08T09:06:29.704Z"
   },
   {
    "duration": 20,
    "start_time": "2021-07-08T09:06:29.723Z"
   },
   {
    "duration": 6,
    "start_time": "2021-07-08T09:06:29.745Z"
   },
   {
    "duration": 3,
    "start_time": "2021-07-08T09:06:29.752Z"
   },
   {
    "duration": 7,
    "start_time": "2021-07-08T09:06:29.785Z"
   },
   {
    "duration": 11,
    "start_time": "2021-07-08T09:06:29.794Z"
   },
   {
    "duration": 15,
    "start_time": "2021-07-08T09:06:29.807Z"
   },
   {
    "duration": 8,
    "start_time": "2021-07-08T09:06:29.823Z"
   },
   {
    "duration": 70,
    "start_time": "2021-07-08T09:06:29.832Z"
   },
   {
    "duration": 17,
    "start_time": "2021-07-08T09:06:29.903Z"
   },
   {
    "duration": 9,
    "start_time": "2021-07-08T09:06:29.921Z"
   },
   {
    "duration": 9,
    "start_time": "2021-07-08T09:06:29.932Z"
   },
   {
    "duration": 57,
    "start_time": "2021-07-08T09:06:29.942Z"
   },
   {
    "duration": 11,
    "start_time": "2021-07-08T09:06:30.001Z"
   },
   {
    "duration": 19,
    "start_time": "2021-07-08T09:06:30.016Z"
   },
   {
    "duration": 217,
    "start_time": "2021-07-08T09:06:30.037Z"
   },
   {
    "duration": 6,
    "start_time": "2021-07-08T09:06:30.255Z"
   },
   {
    "duration": 205,
    "start_time": "2021-07-08T09:06:30.263Z"
   },
   {
    "duration": 27,
    "start_time": "2021-07-08T09:06:30.470Z"
   },
   {
    "duration": 11,
    "start_time": "2021-07-08T09:06:30.500Z"
   },
   {
    "duration": 31,
    "start_time": "2021-07-08T09:06:30.513Z"
   },
   {
    "duration": 18,
    "start_time": "2021-07-08T09:06:30.546Z"
   },
   {
    "duration": 11,
    "start_time": "2021-07-08T09:06:30.566Z"
   },
   {
    "duration": 19,
    "start_time": "2021-07-08T09:06:30.579Z"
   },
   {
    "duration": 20,
    "start_time": "2021-07-08T09:06:49.466Z"
   },
   {
    "duration": 9,
    "start_time": "2021-07-08T09:06:51.994Z"
   },
   {
    "duration": 20,
    "start_time": "2021-07-08T09:06:52.273Z"
   },
   {
    "duration": 246,
    "start_time": "2021-07-08T09:10:21.272Z"
   },
   {
    "duration": 84,
    "start_time": "2021-07-08T09:10:21.436Z"
   },
   {
    "duration": 7,
    "start_time": "2021-07-08T09:10:37.608Z"
   },
   {
    "duration": 189,
    "start_time": "2021-07-08T09:10:38.573Z"
   },
   {
    "duration": 185,
    "start_time": "2021-07-08T09:10:53.181Z"
   },
   {
    "duration": 11,
    "start_time": "2021-07-08T09:10:59.549Z"
   },
   {
    "duration": 42,
    "start_time": "2021-07-08T09:10:59.709Z"
   },
   {
    "duration": 12,
    "start_time": "2021-07-08T09:11:02.857Z"
   },
   {
    "duration": 28,
    "start_time": "2021-07-08T09:11:10.062Z"
   },
   {
    "duration": 249,
    "start_time": "2021-07-08T09:11:37.388Z"
   },
   {
    "duration": 232,
    "start_time": "2021-07-08T09:11:49.485Z"
   },
   {
    "duration": 453,
    "start_time": "2021-07-08T09:12:01.546Z"
   },
   {
    "duration": 440,
    "start_time": "2021-07-08T09:12:12.347Z"
   },
   {
    "duration": 213,
    "start_time": "2021-07-08T09:13:32.196Z"
   },
   {
    "duration": 172,
    "start_time": "2021-07-08T09:14:07.400Z"
   },
   {
    "duration": 185,
    "start_time": "2021-07-08T09:14:14.905Z"
   },
   {
    "duration": 209,
    "start_time": "2021-07-08T09:14:40.109Z"
   },
   {
    "duration": 201,
    "start_time": "2021-07-08T09:14:54.506Z"
   },
   {
    "duration": 622,
    "start_time": "2021-07-08T09:18:14.497Z"
   },
   {
    "duration": 220,
    "start_time": "2021-07-08T09:18:15.121Z"
   },
   {
    "duration": 79,
    "start_time": "2021-07-08T09:18:15.343Z"
   },
   {
    "duration": 4,
    "start_time": "2021-07-08T09:18:15.425Z"
   },
   {
    "duration": 24,
    "start_time": "2021-07-08T09:18:15.431Z"
   },
   {
    "duration": 8,
    "start_time": "2021-07-08T09:18:15.457Z"
   },
   {
    "duration": 16,
    "start_time": "2021-07-08T09:18:15.466Z"
   },
   {
    "duration": 5,
    "start_time": "2021-07-08T09:18:15.484Z"
   },
   {
    "duration": 10,
    "start_time": "2021-07-08T09:18:15.493Z"
   },
   {
    "duration": 8,
    "start_time": "2021-07-08T09:18:15.504Z"
   },
   {
    "duration": 7,
    "start_time": "2021-07-08T09:18:15.513Z"
   },
   {
    "duration": 26,
    "start_time": "2021-07-08T09:18:15.522Z"
   },
   {
    "duration": 49,
    "start_time": "2021-07-08T09:18:15.550Z"
   },
   {
    "duration": 21,
    "start_time": "2021-07-08T09:18:15.601Z"
   },
   {
    "duration": 8,
    "start_time": "2021-07-08T09:18:15.624Z"
   },
   {
    "duration": 3,
    "start_time": "2021-07-08T09:18:15.634Z"
   },
   {
    "duration": 8,
    "start_time": "2021-07-08T09:18:15.639Z"
   },
   {
    "duration": 45,
    "start_time": "2021-07-08T09:18:15.649Z"
   },
   {
    "duration": 13,
    "start_time": "2021-07-08T09:18:15.696Z"
   },
   {
    "duration": 10,
    "start_time": "2021-07-08T09:18:15.711Z"
   },
   {
    "duration": 64,
    "start_time": "2021-07-08T09:18:15.722Z"
   },
   {
    "duration": 19,
    "start_time": "2021-07-08T09:18:15.788Z"
   },
   {
    "duration": 9,
    "start_time": "2021-07-08T09:18:15.809Z"
   },
   {
    "duration": 9,
    "start_time": "2021-07-08T09:18:15.820Z"
   },
   {
    "duration": 18,
    "start_time": "2021-07-08T09:18:15.831Z"
   },
   {
    "duration": 43,
    "start_time": "2021-07-08T09:18:15.851Z"
   },
   {
    "duration": 12,
    "start_time": "2021-07-08T09:18:15.897Z"
   },
   {
    "duration": 219,
    "start_time": "2021-07-08T09:18:15.911Z"
   },
   {
    "duration": 8,
    "start_time": "2021-07-08T09:18:16.132Z"
   },
   {
    "duration": 199,
    "start_time": "2021-07-08T09:18:16.141Z"
   },
   {
    "duration": 18,
    "start_time": "2021-07-08T09:18:16.341Z"
   },
   {
    "duration": 24,
    "start_time": "2021-07-08T09:18:16.361Z"
   },
   {
    "duration": 24,
    "start_time": "2021-07-08T09:18:16.387Z"
   },
   {
    "duration": 211,
    "start_time": "2021-07-08T09:18:16.413Z"
   },
   {
    "duration": 18,
    "start_time": "2021-07-08T09:18:16.626Z"
   },
   {
    "duration": 596,
    "start_time": "2021-07-08T10:06:33.623Z"
   },
   {
    "duration": 181,
    "start_time": "2021-07-08T10:06:34.221Z"
   },
   {
    "duration": 176,
    "start_time": "2021-07-08T10:06:34.635Z"
   },
   {
    "duration": 239,
    "start_time": "2021-07-08T10:06:55.572Z"
   },
   {
    "duration": 6,
    "start_time": "2021-07-08T10:06:57.687Z"
   },
   {
    "duration": 4,
    "start_time": "2021-07-08T10:07:03.956Z"
   },
   {
    "duration": 4,
    "start_time": "2021-07-08T10:07:10.376Z"
   },
   {
    "duration": 4,
    "start_time": "2021-07-08T10:17:19.889Z"
   },
   {
    "duration": 3,
    "start_time": "2021-07-08T10:19:19.407Z"
   },
   {
    "duration": 197,
    "start_time": "2021-07-08T10:19:19.412Z"
   },
   {
    "duration": 127,
    "start_time": "2021-07-08T10:19:19.611Z"
   },
   {
    "duration": 4,
    "start_time": "2021-07-08T10:19:19.740Z"
   },
   {
    "duration": 27,
    "start_time": "2021-07-08T10:19:19.746Z"
   },
   {
    "duration": 7,
    "start_time": "2021-07-08T10:19:19.775Z"
   },
   {
    "duration": 30,
    "start_time": "2021-07-08T10:19:19.784Z"
   },
   {
    "duration": 7,
    "start_time": "2021-07-08T10:19:19.817Z"
   },
   {
    "duration": 26,
    "start_time": "2021-07-08T10:19:19.826Z"
   },
   {
    "duration": 18,
    "start_time": "2021-07-08T10:19:19.854Z"
   },
   {
    "duration": 14,
    "start_time": "2021-07-08T10:19:19.874Z"
   },
   {
    "duration": 48,
    "start_time": "2021-07-08T10:19:19.890Z"
   },
   {
    "duration": 17,
    "start_time": "2021-07-08T10:19:19.940Z"
   },
   {
    "duration": 38,
    "start_time": "2021-07-08T10:19:19.959Z"
   },
   {
    "duration": 8,
    "start_time": "2021-07-08T10:19:19.999Z"
   },
   {
    "duration": 15,
    "start_time": "2021-07-08T10:19:20.009Z"
   },
   {
    "duration": 22,
    "start_time": "2021-07-08T10:19:20.026Z"
   },
   {
    "duration": 10,
    "start_time": "2021-07-08T10:19:20.050Z"
   },
   {
    "duration": 10,
    "start_time": "2021-07-08T10:19:20.062Z"
   },
   {
    "duration": 20,
    "start_time": "2021-07-08T10:19:20.073Z"
   },
   {
    "duration": 29,
    "start_time": "2021-07-08T10:19:20.095Z"
   },
   {
    "duration": 17,
    "start_time": "2021-07-08T10:19:20.126Z"
   },
   {
    "duration": 40,
    "start_time": "2021-07-08T10:19:20.146Z"
   },
   {
    "duration": 15,
    "start_time": "2021-07-08T10:19:20.189Z"
   },
   {
    "duration": 19,
    "start_time": "2021-07-08T10:19:20.206Z"
   },
   {
    "duration": 10,
    "start_time": "2021-07-08T10:19:20.226Z"
   },
   {
    "duration": 11,
    "start_time": "2021-07-08T10:19:20.238Z"
   },
   {
    "duration": 297,
    "start_time": "2021-07-08T10:19:20.250Z"
   },
   {
    "duration": 6,
    "start_time": "2021-07-08T10:19:20.549Z"
   },
   {
    "duration": 191,
    "start_time": "2021-07-08T10:19:20.557Z"
   },
   {
    "duration": 19,
    "start_time": "2021-07-08T10:19:20.750Z"
   },
   {
    "duration": 20,
    "start_time": "2021-07-08T10:19:20.771Z"
   },
   {
    "duration": 15,
    "start_time": "2021-07-08T10:19:20.793Z"
   },
   {
    "duration": 222,
    "start_time": "2021-07-08T10:19:20.809Z"
   },
   {
    "duration": 20,
    "start_time": "2021-07-08T10:19:21.033Z"
   },
   {
    "duration": 27,
    "start_time": "2021-07-08T10:45:04.055Z"
   },
   {
    "duration": 8,
    "start_time": "2021-07-08T10:45:08.478Z"
   },
   {
    "duration": 8,
    "start_time": "2021-07-08T10:45:31.982Z"
   },
   {
    "duration": 10,
    "start_time": "2021-07-08T10:46:01.221Z"
   },
   {
    "duration": 17,
    "start_time": "2021-07-08T10:46:40.011Z"
   },
   {
    "duration": 193,
    "start_time": "2021-07-08T10:48:19.471Z"
   },
   {
    "duration": 225,
    "start_time": "2021-07-08T10:49:26.480Z"
   },
   {
    "duration": 204,
    "start_time": "2021-07-08T10:49:59.992Z"
   },
   {
    "duration": 435,
    "start_time": "2021-07-08T10:50:06.779Z"
   },
   {
    "duration": 199,
    "start_time": "2021-07-08T10:50:14.891Z"
   },
   {
    "duration": 204,
    "start_time": "2021-07-08T10:50:18.501Z"
   },
   {
    "duration": 244,
    "start_time": "2021-07-08T10:50:23.359Z"
   },
   {
    "duration": 192,
    "start_time": "2021-07-08T10:50:29.135Z"
   },
   {
    "duration": 218,
    "start_time": "2021-07-08T10:50:33.092Z"
   },
   {
    "duration": 207,
    "start_time": "2021-07-08T10:52:45.381Z"
   },
   {
    "duration": 5,
    "start_time": "2021-07-08T10:53:34.641Z"
   },
   {
    "duration": 196,
    "start_time": "2021-07-08T10:53:41.478Z"
   },
   {
    "duration": 43,
    "start_time": "2021-07-08T10:53:50.335Z"
   },
   {
    "duration": 32,
    "start_time": "2021-07-08T10:53:55.294Z"
   },
   {
    "duration": 55,
    "start_time": "2021-07-08T10:54:09.675Z"
   },
   {
    "duration": 16,
    "start_time": "2021-07-08T10:54:12.260Z"
   },
   {
    "duration": 15,
    "start_time": "2021-07-08T10:54:49.150Z"
   },
   {
    "duration": 20,
    "start_time": "2021-07-08T10:56:07.596Z"
   },
   {
    "duration": 16,
    "start_time": "2021-07-08T10:58:26.276Z"
   },
   {
    "duration": 22,
    "start_time": "2021-07-08T10:59:00.486Z"
   },
   {
    "duration": 18,
    "start_time": "2021-07-08T11:02:09.653Z"
   },
   {
    "duration": 10,
    "start_time": "2021-07-08T11:03:44.331Z"
   },
   {
    "duration": 10,
    "start_time": "2021-07-08T11:03:54.055Z"
   },
   {
    "duration": 12,
    "start_time": "2021-07-08T11:04:41.967Z"
   },
   {
    "duration": 24,
    "start_time": "2021-07-08T11:07:30.732Z"
   },
   {
    "duration": 6,
    "start_time": "2021-07-08T11:07:37.364Z"
   },
   {
    "duration": 16,
    "start_time": "2021-07-08T11:08:01.819Z"
   },
   {
    "duration": 17,
    "start_time": "2021-07-08T11:09:47.488Z"
   },
   {
    "duration": 246,
    "start_time": "2021-07-08T11:10:00.830Z"
   },
   {
    "duration": 18,
    "start_time": "2021-07-08T11:13:55.195Z"
   },
   {
    "duration": 204,
    "start_time": "2021-07-08T11:14:04.951Z"
   },
   {
    "duration": 19,
    "start_time": "2021-07-08T11:15:10.613Z"
   },
   {
    "duration": 680,
    "start_time": "2021-07-08T11:16:25.793Z"
   },
   {
    "duration": 451,
    "start_time": "2021-07-08T11:16:40.313Z"
   },
   {
    "duration": 469,
    "start_time": "2021-07-08T11:17:21.286Z"
   },
   {
    "duration": 20,
    "start_time": "2021-07-08T11:19:12.554Z"
   },
   {
    "duration": 35,
    "start_time": "2021-07-08T11:20:05.484Z"
   },
   {
    "duration": 53,
    "start_time": "2021-07-08T11:21:40.050Z"
   },
   {
    "duration": 13,
    "start_time": "2021-07-08T11:22:26.059Z"
   },
   {
    "duration": 19,
    "start_time": "2021-07-08T11:22:47.419Z"
   },
   {
    "duration": 25,
    "start_time": "2021-07-08T11:23:19.958Z"
   },
   {
    "duration": 29,
    "start_time": "2021-07-08T11:23:25.415Z"
   },
   {
    "duration": 10,
    "start_time": "2021-07-08T11:24:45.138Z"
   },
   {
    "duration": 19,
    "start_time": "2021-07-08T11:24:54.498Z"
   },
   {
    "duration": 12,
    "start_time": "2021-07-08T11:25:32.225Z"
   },
   {
    "duration": 19,
    "start_time": "2021-07-08T11:25:37.092Z"
   },
   {
    "duration": 17,
    "start_time": "2021-07-08T11:25:58.116Z"
   },
   {
    "duration": 15,
    "start_time": "2021-07-08T11:26:02.258Z"
   },
   {
    "duration": 8,
    "start_time": "2021-07-08T11:26:59.682Z"
   },
   {
    "duration": 184,
    "start_time": "2021-07-08T11:27:21.894Z"
   },
   {
    "duration": 8,
    "start_time": "2021-07-08T11:27:23.824Z"
   },
   {
    "duration": 202,
    "start_time": "2021-07-08T11:27:23.962Z"
   },
   {
    "duration": 360,
    "start_time": "2021-07-08T11:28:33.215Z"
   },
   {
    "duration": 231,
    "start_time": "2021-07-08T11:32:05.542Z"
   },
   {
    "duration": 607,
    "start_time": "2021-07-08T11:36:27.854Z"
   },
   {
    "duration": 241,
    "start_time": "2021-07-08T11:36:28.463Z"
   },
   {
    "duration": 67,
    "start_time": "2021-07-08T11:36:28.709Z"
   },
   {
    "duration": 5,
    "start_time": "2021-07-08T11:36:28.778Z"
   },
   {
    "duration": 32,
    "start_time": "2021-07-08T11:36:28.784Z"
   },
   {
    "duration": 11,
    "start_time": "2021-07-08T11:36:28.819Z"
   },
   {
    "duration": 20,
    "start_time": "2021-07-08T11:36:28.834Z"
   },
   {
    "duration": 36,
    "start_time": "2021-07-08T11:36:28.857Z"
   },
   {
    "duration": 16,
    "start_time": "2021-07-08T11:36:28.895Z"
   },
   {
    "duration": 14,
    "start_time": "2021-07-08T11:36:28.913Z"
   },
   {
    "duration": 9,
    "start_time": "2021-07-08T11:36:28.930Z"
   },
   {
    "duration": 55,
    "start_time": "2021-07-08T11:36:28.941Z"
   },
   {
    "duration": 27,
    "start_time": "2021-07-08T11:36:28.999Z"
   },
   {
    "duration": 30,
    "start_time": "2021-07-08T11:36:29.028Z"
   },
   {
    "duration": 31,
    "start_time": "2021-07-08T11:36:29.060Z"
   },
   {
    "duration": 3,
    "start_time": "2021-07-08T11:36:29.093Z"
   },
   {
    "duration": 12,
    "start_time": "2021-07-08T11:36:29.099Z"
   },
   {
    "duration": 11,
    "start_time": "2021-07-08T11:36:29.112Z"
   },
   {
    "duration": 12,
    "start_time": "2021-07-08T11:36:29.125Z"
   },
   {
    "duration": 9,
    "start_time": "2021-07-08T11:36:29.139Z"
   },
   {
    "duration": 31,
    "start_time": "2021-07-08T11:36:29.191Z"
   },
   {
    "duration": 17,
    "start_time": "2021-07-08T11:36:29.226Z"
   },
   {
    "duration": 7,
    "start_time": "2021-07-08T11:36:29.245Z"
   },
   {
    "duration": 10,
    "start_time": "2021-07-08T11:36:29.254Z"
   },
   {
    "duration": 30,
    "start_time": "2021-07-08T11:36:29.292Z"
   },
   {
    "duration": 11,
    "start_time": "2021-07-08T11:36:29.324Z"
   },
   {
    "duration": 11,
    "start_time": "2021-07-08T11:36:29.337Z"
   },
   {
    "duration": 230,
    "start_time": "2021-07-08T11:36:29.349Z"
   },
   {
    "duration": 13,
    "start_time": "2021-07-08T11:36:29.588Z"
   },
   {
    "duration": 205,
    "start_time": "2021-07-08T11:36:29.603Z"
   },
   {
    "duration": 20,
    "start_time": "2021-07-08T11:36:29.810Z"
   },
   {
    "duration": 9,
    "start_time": "2021-07-08T11:36:29.832Z"
   },
   {
    "duration": 16,
    "start_time": "2021-07-08T11:36:29.843Z"
   },
   {
    "duration": 283,
    "start_time": "2021-07-08T11:36:29.861Z"
   },
   {
    "duration": 50,
    "start_time": "2021-07-08T11:36:30.146Z"
   },
   {
    "duration": 14,
    "start_time": "2021-07-08T11:36:30.198Z"
   },
   {
    "duration": 11,
    "start_time": "2021-07-08T11:36:30.214Z"
   },
   {
    "duration": 245,
    "start_time": "2021-07-08T11:36:30.227Z"
   },
   {
    "duration": 439,
    "start_time": "2021-07-08T11:36:30.474Z"
   },
   {
    "duration": 210,
    "start_time": "2021-07-08T11:36:30.915Z"
   },
   {
    "duration": 15,
    "start_time": "2021-07-08T11:36:31.127Z"
   },
   {
    "duration": 17,
    "start_time": "2021-07-08T11:38:20.451Z"
   },
   {
    "duration": 642,
    "start_time": "2021-07-08T11:46:17.881Z"
   },
   {
    "duration": 210,
    "start_time": "2021-07-08T11:46:18.525Z"
   },
   {
    "duration": 104,
    "start_time": "2021-07-08T11:46:18.741Z"
   },
   {
    "duration": 8,
    "start_time": "2021-07-08T11:46:18.847Z"
   },
   {
    "duration": 25,
    "start_time": "2021-07-08T11:46:18.857Z"
   },
   {
    "duration": 14,
    "start_time": "2021-07-08T11:46:18.884Z"
   },
   {
    "duration": 22,
    "start_time": "2021-07-08T11:46:18.900Z"
   },
   {
    "duration": 5,
    "start_time": "2021-07-08T11:46:18.924Z"
   },
   {
    "duration": 13,
    "start_time": "2021-07-08T11:46:18.931Z"
   },
   {
    "duration": 45,
    "start_time": "2021-07-08T11:46:18.946Z"
   },
   {
    "duration": 12,
    "start_time": "2021-07-08T11:46:18.993Z"
   },
   {
    "duration": 38,
    "start_time": "2021-07-08T11:46:19.006Z"
   },
   {
    "duration": 50,
    "start_time": "2021-07-08T11:46:19.046Z"
   },
   {
    "duration": 29,
    "start_time": "2021-07-08T11:46:19.099Z"
   },
   {
    "duration": 7,
    "start_time": "2021-07-08T11:46:19.130Z"
   },
   {
    "duration": 3,
    "start_time": "2021-07-08T11:46:19.139Z"
   },
   {
    "duration": 11,
    "start_time": "2021-07-08T11:46:19.144Z"
   },
   {
    "duration": 40,
    "start_time": "2021-07-08T11:46:19.157Z"
   },
   {
    "duration": 15,
    "start_time": "2021-07-08T11:46:19.199Z"
   },
   {
    "duration": 10,
    "start_time": "2021-07-08T11:46:19.217Z"
   },
   {
    "duration": 68,
    "start_time": "2021-07-08T11:46:19.230Z"
   },
   {
    "duration": 17,
    "start_time": "2021-07-08T11:46:19.301Z"
   },
   {
    "duration": 7,
    "start_time": "2021-07-08T11:46:19.321Z"
   },
   {
    "duration": 11,
    "start_time": "2021-07-08T11:46:19.330Z"
   },
   {
    "duration": 59,
    "start_time": "2021-07-08T11:46:19.343Z"
   },
   {
    "duration": 17,
    "start_time": "2021-07-08T11:46:19.405Z"
   },
   {
    "duration": 16,
    "start_time": "2021-07-08T11:46:19.424Z"
   },
   {
    "duration": 252,
    "start_time": "2021-07-08T11:46:19.443Z"
   },
   {
    "duration": 9,
    "start_time": "2021-07-08T11:46:19.697Z"
   },
   {
    "duration": 224,
    "start_time": "2021-07-08T11:46:19.708Z"
   },
   {
    "duration": 21,
    "start_time": "2021-07-08T11:46:19.934Z"
   },
   {
    "duration": 9,
    "start_time": "2021-07-08T11:46:19.956Z"
   },
   {
    "duration": 32,
    "start_time": "2021-07-08T11:46:19.967Z"
   },
   {
    "duration": 288,
    "start_time": "2021-07-08T11:46:20.004Z"
   },
   {
    "duration": 23,
    "start_time": "2021-07-08T11:46:20.300Z"
   },
   {
    "duration": 11,
    "start_time": "2021-07-08T11:46:20.325Z"
   },
   {
    "duration": 11,
    "start_time": "2021-07-08T11:46:20.339Z"
   },
   {
    "duration": 259,
    "start_time": "2021-07-08T11:46:20.352Z"
   },
   {
    "duration": 438,
    "start_time": "2021-07-08T11:46:20.613Z"
   },
   {
    "duration": 207,
    "start_time": "2021-07-08T11:46:21.054Z"
   },
   {
    "duration": 27,
    "start_time": "2021-07-08T11:46:21.262Z"
   },
   {
    "duration": 19,
    "start_time": "2021-07-08T11:46:21.291Z"
   },
   {
    "duration": 820,
    "start_time": "2021-07-08T11:49:01.655Z"
   },
   {
    "duration": 372,
    "start_time": "2021-07-08T11:49:02.478Z"
   },
   {
    "duration": 98,
    "start_time": "2021-07-08T11:49:02.853Z"
   },
   {
    "duration": 6,
    "start_time": "2021-07-08T11:49:02.953Z"
   },
   {
    "duration": 39,
    "start_time": "2021-07-08T11:49:02.960Z"
   },
   {
    "duration": 9,
    "start_time": "2021-07-08T11:49:03.003Z"
   },
   {
    "duration": 23,
    "start_time": "2021-07-08T11:49:03.014Z"
   },
   {
    "duration": 6,
    "start_time": "2021-07-08T11:49:03.041Z"
   },
   {
    "duration": 20,
    "start_time": "2021-07-08T11:49:03.049Z"
   },
   {
    "duration": 18,
    "start_time": "2021-07-08T11:49:03.084Z"
   },
   {
    "duration": 14,
    "start_time": "2021-07-08T11:49:03.104Z"
   },
   {
    "duration": 39,
    "start_time": "2021-07-08T11:49:03.119Z"
   },
   {
    "duration": 38,
    "start_time": "2021-07-08T11:49:03.160Z"
   },
   {
    "duration": 26,
    "start_time": "2021-07-08T11:49:03.200Z"
   },
   {
    "duration": 7,
    "start_time": "2021-07-08T11:49:03.227Z"
   },
   {
    "duration": 4,
    "start_time": "2021-07-08T11:49:03.236Z"
   },
   {
    "duration": 15,
    "start_time": "2021-07-08T11:49:03.243Z"
   },
   {
    "duration": 21,
    "start_time": "2021-07-08T11:49:03.285Z"
   },
   {
    "duration": 17,
    "start_time": "2021-07-08T11:49:03.309Z"
   },
   {
    "duration": 10,
    "start_time": "2021-07-08T11:49:03.328Z"
   },
   {
    "duration": 65,
    "start_time": "2021-07-08T11:49:03.340Z"
   },
   {
    "duration": 18,
    "start_time": "2021-07-08T11:49:03.407Z"
   },
   {
    "duration": 8,
    "start_time": "2021-07-08T11:49:03.428Z"
   },
   {
    "duration": 15,
    "start_time": "2021-07-08T11:49:03.438Z"
   },
   {
    "duration": 40,
    "start_time": "2021-07-08T11:49:03.455Z"
   },
   {
    "duration": 12,
    "start_time": "2021-07-08T11:49:03.497Z"
   },
   {
    "duration": 29,
    "start_time": "2021-07-08T11:49:03.511Z"
   },
   {
    "duration": 285,
    "start_time": "2021-07-08T11:49:03.542Z"
   },
   {
    "duration": 8,
    "start_time": "2021-07-08T11:49:03.829Z"
   },
   {
    "duration": 227,
    "start_time": "2021-07-08T11:49:03.838Z"
   },
   {
    "duration": 40,
    "start_time": "2021-07-08T11:49:04.066Z"
   },
   {
    "duration": 10,
    "start_time": "2021-07-08T11:49:04.108Z"
   },
   {
    "duration": 26,
    "start_time": "2021-07-08T11:49:04.121Z"
   },
   {
    "duration": 290,
    "start_time": "2021-07-08T11:49:04.149Z"
   },
   {
    "duration": 26,
    "start_time": "2021-07-08T11:49:04.441Z"
   },
   {
    "duration": 31,
    "start_time": "2021-07-08T11:49:04.470Z"
   },
   {
    "duration": 14,
    "start_time": "2021-07-08T11:49:04.503Z"
   },
   {
    "duration": 259,
    "start_time": "2021-07-08T11:49:04.521Z"
   },
   {
    "duration": 480,
    "start_time": "2021-07-08T11:49:04.782Z"
   },
   {
    "duration": 225,
    "start_time": "2021-07-08T11:49:05.264Z"
   },
   {
    "duration": 22,
    "start_time": "2021-07-08T11:49:05.491Z"
   },
   {
    "duration": 24,
    "start_time": "2021-07-08T11:49:05.515Z"
   },
   {
    "duration": 634,
    "start_time": "2021-07-08T11:52:24.960Z"
   },
   {
    "duration": 199,
    "start_time": "2021-07-08T11:52:25.599Z"
   },
   {
    "duration": 106,
    "start_time": "2021-07-08T11:52:25.803Z"
   },
   {
    "duration": 7,
    "start_time": "2021-07-08T11:52:25.911Z"
   },
   {
    "duration": 29,
    "start_time": "2021-07-08T11:52:25.920Z"
   },
   {
    "duration": 7,
    "start_time": "2021-07-08T11:52:25.951Z"
   },
   {
    "duration": 26,
    "start_time": "2021-07-08T11:52:25.961Z"
   },
   {
    "duration": 11,
    "start_time": "2021-07-08T11:52:25.990Z"
   },
   {
    "duration": 29,
    "start_time": "2021-07-08T11:52:26.005Z"
   },
   {
    "duration": 9,
    "start_time": "2021-07-08T11:52:26.036Z"
   },
   {
    "duration": 8,
    "start_time": "2021-07-08T11:52:26.047Z"
   },
   {
    "duration": 63,
    "start_time": "2021-07-08T11:52:26.057Z"
   },
   {
    "duration": 17,
    "start_time": "2021-07-08T11:52:26.122Z"
   },
   {
    "duration": 43,
    "start_time": "2021-07-08T11:52:26.142Z"
   },
   {
    "duration": 17,
    "start_time": "2021-07-08T11:52:26.187Z"
   },
   {
    "duration": 5,
    "start_time": "2021-07-08T11:52:26.206Z"
   },
   {
    "duration": 12,
    "start_time": "2021-07-08T11:52:26.212Z"
   },
   {
    "duration": 11,
    "start_time": "2021-07-08T11:52:26.226Z"
   },
   {
    "duration": 12,
    "start_time": "2021-07-08T11:52:26.238Z"
   },
   {
    "duration": 38,
    "start_time": "2021-07-08T11:52:26.252Z"
   },
   {
    "duration": 40,
    "start_time": "2021-07-08T11:52:26.292Z"
   },
   {
    "duration": 17,
    "start_time": "2021-07-08T11:52:26.336Z"
   },
   {
    "duration": 39,
    "start_time": "2021-07-08T11:52:26.355Z"
   },
   {
    "duration": 11,
    "start_time": "2021-07-08T11:52:26.395Z"
   },
   {
    "duration": 23,
    "start_time": "2021-07-08T11:52:26.408Z"
   },
   {
    "duration": 12,
    "start_time": "2021-07-08T11:52:26.432Z"
   },
   {
    "duration": 41,
    "start_time": "2021-07-08T11:52:26.446Z"
   },
   {
    "duration": 215,
    "start_time": "2021-07-08T11:52:26.493Z"
   },
   {
    "duration": 8,
    "start_time": "2021-07-08T11:52:26.710Z"
   },
   {
    "duration": 228,
    "start_time": "2021-07-08T11:52:26.720Z"
   },
   {
    "duration": 18,
    "start_time": "2021-07-08T11:52:26.950Z"
   },
   {
    "duration": 35,
    "start_time": "2021-07-08T11:52:26.969Z"
   },
   {
    "duration": 23,
    "start_time": "2021-07-08T11:52:27.006Z"
   },
   {
    "duration": 258,
    "start_time": "2021-07-08T11:52:27.030Z"
   },
   {
    "duration": 24,
    "start_time": "2021-07-08T11:52:27.290Z"
   },
   {
    "duration": 12,
    "start_time": "2021-07-08T11:52:27.316Z"
   },
   {
    "duration": 10,
    "start_time": "2021-07-08T11:52:27.329Z"
   },
   {
    "duration": 298,
    "start_time": "2021-07-08T11:52:27.341Z"
   },
   {
    "duration": 436,
    "start_time": "2021-07-08T11:52:27.641Z"
   },
   {
    "duration": 216,
    "start_time": "2021-07-08T11:52:28.079Z"
   },
   {
    "duration": 20,
    "start_time": "2021-07-08T11:52:28.297Z"
   },
   {
    "duration": 17,
    "start_time": "2021-07-08T11:52:28.319Z"
   },
   {
    "duration": 674,
    "start_time": "2021-11-18T09:13:27.887Z"
   },
   {
    "duration": 241,
    "start_time": "2021-11-18T09:13:37.859Z"
   },
   {
    "duration": 104,
    "start_time": "2021-11-18T09:14:21.924Z"
   },
   {
    "duration": 419,
    "start_time": "2021-11-18T09:14:39.596Z"
   },
   {
    "duration": 3,
    "start_time": "2021-11-18T09:14:54.204Z"
   },
   {
    "duration": 2,
    "start_time": "2021-11-18T09:15:35.149Z"
   },
   {
    "duration": 1823,
    "start_time": "2021-11-18T09:16:26.462Z"
   },
   {
    "duration": 2,
    "start_time": "2021-11-18T14:27:54.040Z"
   },
   {
    "duration": 59,
    "start_time": "2021-11-18T14:49:51.394Z"
   },
   {
    "duration": 2,
    "start_time": "2021-11-18T14:49:53.636Z"
   },
   {
    "duration": 59,
    "start_time": "2021-11-18T14:49:54.212Z"
   },
   {
    "duration": 16,
    "start_time": "2021-11-18T14:50:05.532Z"
   },
   {
    "duration": 236,
    "start_time": "2021-11-18T14:51:35.597Z"
   },
   {
    "duration": 7,
    "start_time": "2021-11-18T14:51:47.637Z"
   },
   {
    "duration": 3,
    "start_time": "2021-11-18T14:55:20.731Z"
   },
   {
    "duration": 92,
    "start_time": "2021-11-18T14:55:21.178Z"
   },
   {
    "duration": 13,
    "start_time": "2021-11-18T14:55:21.706Z"
   },
   {
    "duration": 6,
    "start_time": "2021-11-18T14:55:25.242Z"
   },
   {
    "duration": 15,
    "start_time": "2021-11-18T14:55:55.435Z"
   },
   {
    "duration": 5,
    "start_time": "2021-11-18T14:56:00.955Z"
   },
   {
    "duration": 890,
    "start_time": "2021-11-19T10:44:34.794Z"
   },
   {
    "duration": 112,
    "start_time": "2021-11-19T10:44:35.687Z"
   },
   {
    "duration": 15,
    "start_time": "2021-11-19T10:44:35.802Z"
   },
   {
    "duration": 11,
    "start_time": "2021-11-19T10:44:35.819Z"
   },
   {
    "duration": 394,
    "start_time": "2021-11-19T10:49:05.108Z"
   },
   {
    "duration": 4,
    "start_time": "2021-11-19T10:49:12.182Z"
   },
   {
    "duration": 97,
    "start_time": "2021-11-19T10:49:13.518Z"
   },
   {
    "duration": 15,
    "start_time": "2021-11-19T10:49:14.150Z"
   },
   {
    "duration": 8,
    "start_time": "2021-11-19T10:49:17.551Z"
   },
   {
    "duration": 299,
    "start_time": "2021-11-19T10:49:21.350Z"
   },
   {
    "duration": 1267,
    "start_time": "2021-11-19T10:50:03.527Z"
   },
   {
    "duration": 9,
    "start_time": "2021-11-19T10:50:41.748Z"
   },
   {
    "duration": 8,
    "start_time": "2021-11-19T10:50:44.304Z"
   },
   {
    "duration": 299,
    "start_time": "2021-11-19T10:51:05.024Z"
   },
   {
    "duration": 18,
    "start_time": "2021-11-19T10:51:13.960Z"
   },
   {
    "duration": 21,
    "start_time": "2021-11-19T10:51:45.826Z"
   },
   {
    "duration": 15,
    "start_time": "2021-11-19T10:52:09.392Z"
   },
   {
    "duration": 21,
    "start_time": "2021-11-19T10:52:10.410Z"
   },
   {
    "duration": 8,
    "start_time": "2021-11-19T10:58:02.202Z"
   },
   {
    "duration": 281,
    "start_time": "2021-11-19T10:58:12.994Z"
   },
   {
    "duration": 9,
    "start_time": "2021-11-19T10:58:25.898Z"
   },
   {
    "duration": 9,
    "start_time": "2021-11-19T10:58:33.658Z"
   },
   {
    "duration": 287,
    "start_time": "2021-11-19T10:58:45.122Z"
   },
   {
    "duration": 1148,
    "start_time": "2021-11-19T10:59:11.235Z"
   },
   {
    "duration": -625,
    "start_time": "2021-11-19T10:59:13.010Z"
   },
   {
    "duration": 17,
    "start_time": "2021-11-19T10:59:44.324Z"
   },
   {
    "duration": 9,
    "start_time": "2021-11-19T11:00:05.436Z"
   },
   {
    "duration": 15,
    "start_time": "2021-11-19T11:00:06.020Z"
   },
   {
    "duration": 7,
    "start_time": "2021-11-19T11:00:18.580Z"
   },
   {
    "duration": 6,
    "start_time": "2021-11-19T11:00:28.878Z"
   },
   {
    "duration": 429,
    "start_time": "2021-11-19T11:00:46.309Z"
   },
   {
    "duration": 5418,
    "start_time": "2021-11-19T11:00:58.342Z"
   },
   {
    "duration": 7,
    "start_time": "2021-11-19T11:01:14.478Z"
   },
   {
    "duration": 8,
    "start_time": "2021-11-19T11:04:12.169Z"
   },
   {
    "duration": 5,
    "start_time": "2021-11-19T11:04:43.570Z"
   },
   {
    "duration": 297,
    "start_time": "2021-11-19T11:04:46.706Z"
   },
   {
    "duration": 5,
    "start_time": "2021-11-19T11:05:09.138Z"
   },
   {
    "duration": 15,
    "start_time": "2021-11-19T11:05:09.650Z"
   },
   {
    "duration": 1100,
    "start_time": "2021-11-19T11:05:16.075Z"
   },
   {
    "duration": 5,
    "start_time": "2021-11-19T11:05:33.907Z"
   },
   {
    "duration": 14,
    "start_time": "2021-11-19T11:05:34.475Z"
   },
   {
    "duration": 9,
    "start_time": "2021-11-19T11:05:38.979Z"
   },
   {
    "duration": 7,
    "start_time": "2021-11-19T11:05:58.964Z"
   },
   {
    "duration": 8,
    "start_time": "2021-11-19T11:06:03.100Z"
   },
   {
    "duration": 326,
    "start_time": "2021-11-19T11:08:08.727Z"
   },
   {
    "duration": 302,
    "start_time": "2021-11-19T11:08:12.574Z"
   },
   {
    "duration": 5,
    "start_time": "2021-11-19T11:08:22.447Z"
   },
   {
    "duration": 307,
    "start_time": "2021-11-19T11:08:23.190Z"
   },
   {
    "duration": 5,
    "start_time": "2021-11-19T11:08:32.472Z"
   },
   {
    "duration": 15,
    "start_time": "2021-11-19T11:08:33.279Z"
   },
   {
    "duration": 1156,
    "start_time": "2021-11-19T11:08:35.599Z"
   },
   {
    "duration": 3,
    "start_time": "2021-11-19T11:09:16.065Z"
   },
   {
    "duration": 6,
    "start_time": "2021-11-19T11:09:21.160Z"
   },
   {
    "duration": 15,
    "start_time": "2021-11-19T11:09:22.232Z"
   },
   {
    "duration": 1071,
    "start_time": "2021-11-19T11:09:26.696Z"
   },
   {
    "duration": 8,
    "start_time": "2021-11-19T11:10:20.434Z"
   },
   {
    "duration": 6,
    "start_time": "2021-11-19T11:10:25.666Z"
   },
   {
    "duration": 295,
    "start_time": "2021-11-19T11:10:27.305Z"
   },
   {
    "duration": 9,
    "start_time": "2021-11-19T11:10:46.714Z"
   },
   {
    "duration": 6,
    "start_time": "2021-11-19T11:10:49.138Z"
   },
   {
    "duration": 320,
    "start_time": "2021-11-19T11:10:49.994Z"
   },
   {
    "duration": 14,
    "start_time": "2021-11-19T11:11:42.196Z"
   },
   {
    "duration": 8,
    "start_time": "2021-11-19T11:11:53.316Z"
   },
   {
    "duration": 399,
    "start_time": "2021-11-19T11:11:53.971Z"
   },
   {
    "duration": 4032,
    "start_time": "2021-11-19T11:12:15.372Z"
   },
   {
    "duration": -620,
    "start_time": "2021-11-19T11:12:20.026Z"
   },
   {
    "duration": 866,
    "start_time": "2021-11-19T11:12:26.829Z"
   },
   {
    "duration": 102,
    "start_time": "2021-11-19T11:12:27.698Z"
   },
   {
    "duration": 14,
    "start_time": "2021-11-19T11:12:27.803Z"
   },
   {
    "duration": 10,
    "start_time": "2021-11-19T11:12:27.820Z"
   },
   {
    "duration": 18,
    "start_time": "2021-11-19T11:12:27.832Z"
   },
   {
    "duration": 8,
    "start_time": "2021-11-19T11:12:27.853Z"
   },
   {
    "duration": 6,
    "start_time": "2021-11-19T11:12:27.863Z"
   },
   {
    "duration": 6,
    "start_time": "2021-11-19T11:12:27.873Z"
   },
   {
    "duration": 20,
    "start_time": "2021-11-19T11:12:27.881Z"
   },
   {
    "duration": 7,
    "start_time": "2021-11-19T11:12:27.903Z"
   },
   {
    "duration": 24,
    "start_time": "2021-11-19T11:12:27.912Z"
   },
   {
    "duration": 6,
    "start_time": "2021-11-19T11:12:27.938Z"
   },
   {
    "duration": 418,
    "start_time": "2021-11-19T11:12:27.946Z"
   },
   {
    "duration": 6,
    "start_time": "2021-11-19T11:12:42.294Z"
   },
   {
    "duration": 291,
    "start_time": "2021-11-19T11:12:44.029Z"
   },
   {
    "duration": 10,
    "start_time": "2021-11-19T11:14:13.800Z"
   },
   {
    "duration": 20,
    "start_time": "2021-11-19T11:15:01.449Z"
   },
   {
    "duration": 23,
    "start_time": "2021-11-19T11:15:07.121Z"
   },
   {
    "duration": 7,
    "start_time": "2021-11-19T11:15:28.542Z"
   },
   {
    "duration": 12,
    "start_time": "2021-11-19T11:15:46.274Z"
   },
   {
    "duration": 8,
    "start_time": "2021-11-19T11:18:04.060Z"
   },
   {
    "duration": 287,
    "start_time": "2021-11-19T11:18:05.284Z"
   },
   {
    "duration": 837,
    "start_time": "2021-11-19T11:18:19.564Z"
   },
   {
    "duration": 104,
    "start_time": "2021-11-19T11:18:20.404Z"
   },
   {
    "duration": 16,
    "start_time": "2021-11-19T11:18:20.512Z"
   },
   {
    "duration": 26,
    "start_time": "2021-11-19T11:18:20.530Z"
   },
   {
    "duration": 26,
    "start_time": "2021-11-19T11:18:20.558Z"
   },
   {
    "duration": 17,
    "start_time": "2021-11-19T11:18:20.586Z"
   },
   {
    "duration": 19,
    "start_time": "2021-11-19T11:18:20.606Z"
   },
   {
    "duration": 28,
    "start_time": "2021-11-19T11:18:20.628Z"
   },
   {
    "duration": 401,
    "start_time": "2021-11-19T11:18:20.659Z"
   },
   {
    "duration": -616,
    "start_time": "2021-11-19T11:18:21.679Z"
   },
   {
    "duration": -616,
    "start_time": "2021-11-19T11:18:21.680Z"
   },
   {
    "duration": -620,
    "start_time": "2021-11-19T11:18:21.685Z"
   },
   {
    "duration": -620,
    "start_time": "2021-11-19T11:18:21.687Z"
   },
   {
    "duration": 5,
    "start_time": "2021-11-19T11:21:27.670Z"
   },
   {
    "duration": 16,
    "start_time": "2021-11-19T11:21:28.214Z"
   },
   {
    "duration": 8,
    "start_time": "2021-11-19T11:21:33.223Z"
   },
   {
    "duration": 10,
    "start_time": "2021-11-19T11:21:34.974Z"
   },
   {
    "duration": 15,
    "start_time": "2021-11-19T11:21:39.015Z"
   },
   {
    "duration": 22,
    "start_time": "2021-11-19T11:21:42.366Z"
   },
   {
    "duration": 8,
    "start_time": "2021-11-19T11:21:44.071Z"
   },
   {
    "duration": 18,
    "start_time": "2021-11-19T11:22:40.169Z"
   },
   {
    "duration": 35,
    "start_time": "2021-11-19T11:23:46.634Z"
   },
   {
    "duration": 13,
    "start_time": "2021-11-19T11:23:52.759Z"
   },
   {
    "duration": 5,
    "start_time": "2021-11-19T11:27:04.869Z"
   },
   {
    "duration": 6,
    "start_time": "2021-11-19T11:27:24.382Z"
   },
   {
    "duration": 6,
    "start_time": "2021-11-19T11:27:35.423Z"
   },
   {
    "duration": 6,
    "start_time": "2021-11-19T11:27:42.919Z"
   },
   {
    "duration": 4,
    "start_time": "2021-11-19T11:27:56.607Z"
   },
   {
    "duration": 110,
    "start_time": "2021-11-19T11:27:56.613Z"
   },
   {
    "duration": 5,
    "start_time": "2021-11-19T11:27:56.726Z"
   },
   {
    "duration": 16,
    "start_time": "2021-11-19T11:30:30.074Z"
   },
   {
    "duration": 9,
    "start_time": "2021-11-19T11:31:59.940Z"
   },
   {
    "duration": 6,
    "start_time": "2021-11-19T11:33:14.621Z"
   },
   {
    "duration": 18,
    "start_time": "2021-11-19T11:33:40.910Z"
   },
   {
    "duration": 8,
    "start_time": "2021-11-19T11:34:41.175Z"
   },
   {
    "duration": 10,
    "start_time": "2021-11-19T11:34:54.200Z"
   },
   {
    "duration": 5,
    "start_time": "2021-11-19T11:35:15.288Z"
   },
   {
    "duration": 20,
    "start_time": "2021-11-19T11:36:09.865Z"
   },
   {
    "duration": 18,
    "start_time": "2021-11-19T11:36:38.434Z"
   },
   {
    "duration": 35,
    "start_time": "2021-11-19T11:41:12.584Z"
   },
   {
    "duration": 5,
    "start_time": "2021-11-19T11:42:39.234Z"
   },
   {
    "duration": 365,
    "start_time": "2021-11-23T07:14:19.467Z"
   },
   {
    "duration": 688,
    "start_time": "2021-11-23T07:14:26.664Z"
   },
   {
    "duration": 156,
    "start_time": "2021-11-23T07:14:27.353Z"
   },
   {
    "duration": 6,
    "start_time": "2021-11-23T07:14:27.511Z"
   },
   {
    "duration": 26,
    "start_time": "2021-11-23T07:14:27.519Z"
   },
   {
    "duration": 16,
    "start_time": "2021-11-23T07:14:27.547Z"
   },
   {
    "duration": 12,
    "start_time": "2021-11-23T07:14:27.565Z"
   },
   {
    "duration": 28,
    "start_time": "2021-11-23T07:14:27.579Z"
   },
   {
    "duration": 6,
    "start_time": "2021-11-23T07:14:27.610Z"
   },
   {
    "duration": 6,
    "start_time": "2021-11-23T07:14:27.618Z"
   },
   {
    "duration": 16,
    "start_time": "2021-11-23T07:14:27.626Z"
   },
   {
    "duration": 12,
    "start_time": "2021-11-23T07:14:27.644Z"
   },
   {
    "duration": 53,
    "start_time": "2021-11-23T07:14:27.658Z"
   },
   {
    "duration": 5,
    "start_time": "2021-11-23T07:14:27.712Z"
   },
   {
    "duration": 391,
    "start_time": "2021-11-23T07:14:27.719Z"
   },
   {
    "duration": 6,
    "start_time": "2021-11-23T07:14:48.247Z"
   },
   {
    "duration": 14,
    "start_time": "2021-11-23T07:15:14.800Z"
   },
   {
    "duration": 346,
    "start_time": "2021-11-23T07:17:43.843Z"
   },
   {
    "duration": 2436,
    "start_time": "2021-11-23T07:23:22.328Z"
   },
   {
    "duration": 2385,
    "start_time": "2021-11-23T07:23:39.058Z"
   },
   {
    "duration": 2440,
    "start_time": "2021-11-23T07:34:25.096Z"
   },
   {
    "duration": 12,
    "start_time": "2021-11-23T07:34:30.720Z"
   },
   {
    "duration": 2899,
    "start_time": "2021-11-23T07:35:50.194Z"
   },
   {
    "duration": 2327,
    "start_time": "2021-11-23T07:36:09.298Z"
   },
   {
    "duration": 412,
    "start_time": "2021-11-23T07:36:56.947Z"
   },
   {
    "duration": 389,
    "start_time": "2021-11-23T07:37:12.459Z"
   },
   {
    "duration": 376,
    "start_time": "2021-11-23T07:37:27.139Z"
   },
   {
    "duration": 3,
    "start_time": "2021-11-23T07:39:17.318Z"
   },
   {
    "duration": 349,
    "start_time": "2021-11-23T07:39:17.861Z"
   },
   {
    "duration": 13,
    "start_time": "2021-11-23T07:39:25.694Z"
   },
   {
    "duration": 368,
    "start_time": "2021-11-23T07:40:19.375Z"
   },
   {
    "duration": 3,
    "start_time": "2021-11-23T07:40:56.424Z"
   },
   {
    "duration": 439,
    "start_time": "2021-11-23T07:40:57.232Z"
   },
   {
    "duration": 3,
    "start_time": "2021-11-23T07:41:23.392Z"
   },
   {
    "duration": 605,
    "start_time": "2021-11-23T07:41:23.992Z"
   },
   {
    "duration": 11,
    "start_time": "2021-11-23T07:41:52.993Z"
   },
   {
    "duration": 8,
    "start_time": "2021-11-23T07:42:02.561Z"
   },
   {
    "duration": 374,
    "start_time": "2021-11-23T07:42:19.403Z"
   },
   {
    "duration": 8,
    "start_time": "2021-11-23T07:42:28.226Z"
   },
   {
    "duration": 10,
    "start_time": "2021-11-23T07:42:28.682Z"
   },
   {
    "duration": 480,
    "start_time": "2021-11-23T07:42:29.426Z"
   },
   {
    "duration": 10,
    "start_time": "2021-11-23T07:44:24.949Z"
   },
   {
    "duration": 9,
    "start_time": "2021-11-23T07:44:41.440Z"
   },
   {
    "duration": 10,
    "start_time": "2021-11-23T07:44:56.085Z"
   },
   {
    "duration": 9,
    "start_time": "2021-11-23T07:45:38.918Z"
   },
   {
    "duration": 5,
    "start_time": "2021-11-23T07:45:44.662Z"
   },
   {
    "duration": 5,
    "start_time": "2021-11-23T07:48:19.922Z"
   },
   {
    "duration": 388,
    "start_time": "2021-11-23T07:48:38.273Z"
   },
   {
    "duration": 406,
    "start_time": "2021-11-23T07:48:49.561Z"
   },
   {
    "duration": 7,
    "start_time": "2021-11-23T07:49:06.451Z"
   },
   {
    "duration": 153,
    "start_time": "2021-11-23T07:58:30.166Z"
   },
   {
    "duration": 120,
    "start_time": "2021-11-23T07:58:47.654Z"
   },
   {
    "duration": 2698,
    "start_time": "2021-11-23T08:01:16.977Z"
   },
   {
    "duration": 113,
    "start_time": "2021-11-23T08:01:45.602Z"
   },
   {
    "duration": 118,
    "start_time": "2021-11-23T08:02:06.754Z"
   },
   {
    "duration": 1032,
    "start_time": "2021-11-23T08:02:10.298Z"
   },
   {
    "duration": 7,
    "start_time": "2021-11-23T08:02:21.083Z"
   },
   {
    "duration": 124,
    "start_time": "2021-11-23T08:02:56.675Z"
   },
   {
    "duration": 2061,
    "start_time": "2021-11-23T08:03:04.075Z"
   },
   {
    "duration": 3,
    "start_time": "2021-11-23T08:04:12.597Z"
   },
   {
    "duration": 1703,
    "start_time": "2021-11-23T08:04:25.333Z"
   },
   {
    "duration": 5,
    "start_time": "2021-11-23T08:05:27.135Z"
   },
   {
    "duration": 4,
    "start_time": "2021-11-23T08:05:33.750Z"
   },
   {
    "duration": 4,
    "start_time": "2021-11-23T08:05:37.270Z"
   },
   {
    "duration": 683,
    "start_time": "2021-11-23T08:05:57.575Z"
   },
   {
    "duration": 8,
    "start_time": "2021-11-23T08:06:44.600Z"
   },
   {
    "duration": 10,
    "start_time": "2021-11-23T08:07:22.304Z"
   },
   {
    "duration": 6,
    "start_time": "2021-11-23T08:08:21.306Z"
   },
   {
    "duration": 10,
    "start_time": "2021-11-23T08:10:10.484Z"
   },
   {
    "duration": 13,
    "start_time": "2021-11-23T08:11:27.374Z"
   },
   {
    "duration": 464,
    "start_time": "2021-11-23T08:21:04.146Z"
   },
   {
    "duration": 50,
    "start_time": "2021-11-23T08:21:17.626Z"
   },
   {
    "duration": 680,
    "start_time": "2021-11-23T08:22:30.420Z"
   },
   {
    "duration": 510,
    "start_time": "2021-11-23T08:22:50.500Z"
   },
   {
    "duration": 353,
    "start_time": "2021-11-23T08:23:00.940Z"
   },
   {
    "duration": 328,
    "start_time": "2021-11-23T08:24:48.519Z"
   },
   {
    "duration": 335,
    "start_time": "2021-11-23T08:26:10.281Z"
   },
   {
    "duration": 14,
    "start_time": "2021-11-23T08:28:20.739Z"
   },
   {
    "duration": 15,
    "start_time": "2021-11-23T08:28:39.571Z"
   },
   {
    "duration": 7,
    "start_time": "2021-11-23T08:28:48.705Z"
   },
   {
    "duration": 14,
    "start_time": "2021-11-23T08:28:50.492Z"
   },
   {
    "duration": 7,
    "start_time": "2021-11-23T08:29:17.340Z"
   },
   {
    "duration": 8,
    "start_time": "2021-11-23T08:29:30.652Z"
   },
   {
    "duration": 6511,
    "start_time": "2021-11-23T08:29:37.772Z"
   },
   {
    "duration": 7,
    "start_time": "2021-11-23T08:29:58.245Z"
   },
   {
    "duration": 346,
    "start_time": "2021-11-23T08:30:08.997Z"
   },
   {
    "duration": 355,
    "start_time": "2021-11-23T08:30:14.621Z"
   },
   {
    "duration": 16,
    "start_time": "2021-11-23T08:30:27.166Z"
   },
   {
    "duration": 9173,
    "start_time": "2021-11-23T08:30:56.383Z"
   },
   {
    "duration": 4,
    "start_time": "2021-11-23T08:31:14.951Z"
   },
   {
    "duration": 335,
    "start_time": "2021-11-23T08:31:24.367Z"
   },
   {
    "duration": 373,
    "start_time": "2021-11-23T08:32:09.488Z"
   },
   {
    "duration": 143,
    "start_time": "2021-11-23T08:32:19.616Z"
   },
   {
    "duration": 336,
    "start_time": "2021-11-23T08:32:22.055Z"
   },
   {
    "duration": 332,
    "start_time": "2021-11-23T08:32:42.264Z"
   },
   {
    "duration": 7,
    "start_time": "2021-11-23T08:32:47.688Z"
   },
   {
    "duration": 10,
    "start_time": "2021-11-23T08:32:54.584Z"
   },
   {
    "duration": 5,
    "start_time": "2021-11-23T08:33:06.320Z"
   },
   {
    "duration": 8,
    "start_time": "2021-11-23T08:33:13.441Z"
   },
   {
    "duration": 5,
    "start_time": "2021-11-23T08:33:14.481Z"
   },
   {
    "duration": 10,
    "start_time": "2021-11-23T08:33:18.488Z"
   },
   {
    "duration": 678,
    "start_time": "2021-11-23T08:33:26.741Z"
   },
   {
    "duration": 117,
    "start_time": "2021-11-23T08:33:27.421Z"
   },
   {
    "duration": 8,
    "start_time": "2021-11-23T08:33:27.540Z"
   },
   {
    "duration": 15,
    "start_time": "2021-11-23T08:33:27.550Z"
   },
   {
    "duration": 9,
    "start_time": "2021-11-23T08:33:27.567Z"
   },
   {
    "duration": 14,
    "start_time": "2021-11-23T08:33:27.577Z"
   },
   {
    "duration": 44,
    "start_time": "2021-11-23T08:33:27.593Z"
   },
   {
    "duration": 10,
    "start_time": "2021-11-23T08:33:27.641Z"
   },
   {
    "duration": 7,
    "start_time": "2021-11-23T08:33:27.654Z"
   },
   {
    "duration": 36,
    "start_time": "2021-11-23T08:33:27.663Z"
   },
   {
    "duration": 13,
    "start_time": "2021-11-23T08:33:27.701Z"
   },
   {
    "duration": 27,
    "start_time": "2021-11-23T08:33:27.716Z"
   },
   {
    "duration": 5,
    "start_time": "2021-11-23T08:33:27.744Z"
   },
   {
    "duration": 21,
    "start_time": "2021-11-23T08:33:27.751Z"
   },
   {
    "duration": 6,
    "start_time": "2021-11-23T08:33:27.774Z"
   },
   {
    "duration": 9,
    "start_time": "2021-11-23T08:33:27.807Z"
   },
   {
    "duration": 18,
    "start_time": "2021-11-23T08:33:27.818Z"
   },
   {
    "duration": 20,
    "start_time": "2021-11-23T08:33:27.838Z"
   },
   {
    "duration": 18,
    "start_time": "2021-11-23T08:33:27.859Z"
   },
   {
    "duration": 10,
    "start_time": "2021-11-23T08:33:27.879Z"
   },
   {
    "duration": 17,
    "start_time": "2021-11-23T08:33:27.891Z"
   },
   {
    "duration": 5,
    "start_time": "2021-11-23T08:33:40.370Z"
   },
   {
    "duration": 4,
    "start_time": "2021-11-23T08:36:02.917Z"
   },
   {
    "duration": 4,
    "start_time": "2021-11-23T08:36:39.022Z"
   },
   {
    "duration": 4,
    "start_time": "2021-11-23T08:37:09.382Z"
   },
   {
    "duration": 22,
    "start_time": "2021-11-23T08:38:03.391Z"
   },
   {
    "duration": 7,
    "start_time": "2021-11-23T08:39:12.279Z"
   },
   {
    "duration": 4689,
    "start_time": "2021-11-23T08:39:50.514Z"
   },
   {
    "duration": 8,
    "start_time": "2021-11-23T08:40:19.810Z"
   },
   {
    "duration": 21,
    "start_time": "2021-11-23T08:40:57.363Z"
   },
   {
    "duration": 7,
    "start_time": "2021-11-23T08:46:17.794Z"
   },
   {
    "duration": 9,
    "start_time": "2021-11-23T08:46:32.130Z"
   },
   {
    "duration": 18,
    "start_time": "2021-11-23T08:50:31.144Z"
   },
   {
    "duration": 21,
    "start_time": "2021-11-23T08:50:38.336Z"
   },
   {
    "duration": 2434,
    "start_time": "2021-11-23T08:50:45.989Z"
   },
   {
    "duration": 15,
    "start_time": "2021-11-23T08:51:02.640Z"
   },
   {
    "duration": 15,
    "start_time": "2021-11-23T08:51:14.944Z"
   },
   {
    "duration": 16,
    "start_time": "2021-11-23T08:51:25.088Z"
   },
   {
    "duration": 14,
    "start_time": "2021-11-23T08:51:37.089Z"
   },
   {
    "duration": 15,
    "start_time": "2021-11-23T08:51:46.913Z"
   },
   {
    "duration": 15,
    "start_time": "2021-11-23T08:52:09.578Z"
   },
   {
    "duration": 7,
    "start_time": "2021-11-23T08:54:52.875Z"
   },
   {
    "duration": 7,
    "start_time": "2021-11-23T08:55:04.237Z"
   },
   {
    "duration": 5,
    "start_time": "2021-11-23T08:55:14.358Z"
   },
   {
    "duration": 7,
    "start_time": "2021-11-23T08:55:34.630Z"
   },
   {
    "duration": 8,
    "start_time": "2021-11-23T08:55:35.765Z"
   },
   {
    "duration": 5,
    "start_time": "2021-11-23T08:55:36.365Z"
   },
   {
    "duration": 709,
    "start_time": "2021-11-23T08:55:51.605Z"
   },
   {
    "duration": 107,
    "start_time": "2021-11-23T08:55:52.315Z"
   },
   {
    "duration": 7,
    "start_time": "2021-11-23T08:55:52.425Z"
   },
   {
    "duration": 13,
    "start_time": "2021-11-23T08:55:52.434Z"
   },
   {
    "duration": 9,
    "start_time": "2021-11-23T08:55:52.449Z"
   },
   {
    "duration": 8,
    "start_time": "2021-11-23T08:55:52.459Z"
   },
   {
    "duration": 13,
    "start_time": "2021-11-23T08:55:52.469Z"
   },
   {
    "duration": 24,
    "start_time": "2021-11-23T08:55:52.484Z"
   },
   {
    "duration": 4,
    "start_time": "2021-11-23T08:55:52.510Z"
   },
   {
    "duration": 20,
    "start_time": "2021-11-23T08:55:52.516Z"
   },
   {
    "duration": 13,
    "start_time": "2021-11-23T08:55:52.537Z"
   },
   {
    "duration": 25,
    "start_time": "2021-11-23T08:55:52.552Z"
   },
   {
    "duration": 29,
    "start_time": "2021-11-23T08:55:52.579Z"
   },
   {
    "duration": 20,
    "start_time": "2021-11-23T08:55:52.610Z"
   },
   {
    "duration": 21,
    "start_time": "2021-11-23T08:55:52.633Z"
   },
   {
    "duration": 12,
    "start_time": "2021-11-23T08:55:52.657Z"
   },
   {
    "duration": 15,
    "start_time": "2021-11-23T08:55:52.672Z"
   },
   {
    "duration": 36,
    "start_time": "2021-11-23T08:55:52.689Z"
   },
   {
    "duration": 21,
    "start_time": "2021-11-23T08:55:52.727Z"
   },
   {
    "duration": 16,
    "start_time": "2021-11-23T08:55:52.750Z"
   },
   {
    "duration": 7,
    "start_time": "2021-11-23T08:55:52.768Z"
   },
   {
    "duration": 14,
    "start_time": "2021-11-23T08:55:52.777Z"
   },
   {
    "duration": 31,
    "start_time": "2021-11-23T08:55:52.792Z"
   },
   {
    "duration": 8,
    "start_time": "2021-11-23T08:55:52.825Z"
   },
   {
    "duration": 16,
    "start_time": "2021-11-23T08:55:52.834Z"
   },
   {
    "duration": 6,
    "start_time": "2021-11-23T08:55:52.852Z"
   },
   {
    "duration": 8,
    "start_time": "2021-11-23T08:56:48.729Z"
   },
   {
    "duration": 6,
    "start_time": "2021-11-23T08:56:49.176Z"
   },
   {
    "duration": 717,
    "start_time": "2021-11-23T08:56:55.297Z"
   },
   {
    "duration": 109,
    "start_time": "2021-11-23T08:56:56.016Z"
   },
   {
    "duration": 6,
    "start_time": "2021-11-23T08:56:56.130Z"
   },
   {
    "duration": 14,
    "start_time": "2021-11-23T08:56:56.139Z"
   },
   {
    "duration": 8,
    "start_time": "2021-11-23T08:56:56.155Z"
   },
   {
    "duration": 7,
    "start_time": "2021-11-23T08:56:56.165Z"
   },
   {
    "duration": 21,
    "start_time": "2021-11-23T08:56:56.174Z"
   },
   {
    "duration": 16,
    "start_time": "2021-11-23T08:56:56.198Z"
   },
   {
    "duration": 6,
    "start_time": "2021-11-23T08:56:56.219Z"
   },
   {
    "duration": 21,
    "start_time": "2021-11-23T08:56:56.228Z"
   },
   {
    "duration": 15,
    "start_time": "2021-11-23T08:56:56.252Z"
   },
   {
    "duration": 55,
    "start_time": "2021-11-23T08:56:56.269Z"
   },
   {
    "duration": 4,
    "start_time": "2021-11-23T08:56:56.326Z"
   },
   {
    "duration": 25,
    "start_time": "2021-11-23T08:56:56.332Z"
   },
   {
    "duration": 9,
    "start_time": "2021-11-23T08:56:56.359Z"
   },
   {
    "duration": 20,
    "start_time": "2021-11-23T08:56:56.370Z"
   },
   {
    "duration": 36,
    "start_time": "2021-11-23T08:56:56.391Z"
   },
   {
    "duration": 31,
    "start_time": "2021-11-23T08:56:56.430Z"
   },
   {
    "duration": 18,
    "start_time": "2021-11-23T08:56:56.463Z"
   },
   {
    "duration": 13,
    "start_time": "2021-11-23T08:56:56.483Z"
   },
   {
    "duration": 12,
    "start_time": "2021-11-23T08:56:56.498Z"
   },
   {
    "duration": 19,
    "start_time": "2021-11-23T08:56:56.512Z"
   },
   {
    "duration": 32,
    "start_time": "2021-11-23T08:56:56.533Z"
   },
   {
    "duration": 10,
    "start_time": "2021-11-23T08:56:56.567Z"
   },
   {
    "duration": 14,
    "start_time": "2021-11-23T08:56:56.580Z"
   },
   {
    "duration": 10,
    "start_time": "2021-11-23T08:56:56.596Z"
   },
   {
    "duration": 14,
    "start_time": "2021-11-23T08:57:13.224Z"
   },
   {
    "duration": 15,
    "start_time": "2021-11-23T08:58:24.161Z"
   },
   {
    "duration": 8,
    "start_time": "2021-11-23T08:59:42.675Z"
   },
   {
    "duration": 8,
    "start_time": "2021-11-23T08:59:52.724Z"
   },
   {
    "duration": 5,
    "start_time": "2021-11-23T09:00:08.268Z"
   },
   {
    "duration": 26,
    "start_time": "2021-11-23T09:01:03.389Z"
   },
   {
    "duration": 26,
    "start_time": "2021-11-23T09:01:25.748Z"
   },
   {
    "duration": 10,
    "start_time": "2021-11-23T09:02:08.871Z"
   },
   {
    "duration": 9,
    "start_time": "2021-11-23T09:03:10.624Z"
   },
   {
    "duration": 12,
    "start_time": "2021-11-23T09:03:15.423Z"
   },
   {
    "duration": 13,
    "start_time": "2021-11-23T09:03:42.753Z"
   },
   {
    "duration": 17,
    "start_time": "2021-11-23T09:03:47.681Z"
   },
   {
    "duration": 17,
    "start_time": "2021-11-23T09:04:28.698Z"
   },
   {
    "duration": 16,
    "start_time": "2021-11-23T09:04:57.202Z"
   },
   {
    "duration": 8,
    "start_time": "2021-11-23T09:06:34.859Z"
   },
   {
    "duration": 8,
    "start_time": "2021-11-23T09:06:41.507Z"
   },
   {
    "duration": 5,
    "start_time": "2021-11-23T09:12:48.859Z"
   },
   {
    "duration": 26,
    "start_time": "2021-11-23T09:13:22.069Z"
   },
   {
    "duration": 5,
    "start_time": "2021-11-23T09:14:38.006Z"
   },
   {
    "duration": 8,
    "start_time": "2021-11-23T09:15:01.007Z"
   },
   {
    "duration": 8,
    "start_time": "2021-11-23T09:15:09.190Z"
   },
   {
    "duration": 10,
    "start_time": "2021-11-23T09:15:21.758Z"
   },
   {
    "duration": 23,
    "start_time": "2021-11-23T09:15:52.897Z"
   },
   {
    "duration": 8,
    "start_time": "2021-11-23T09:16:07.669Z"
   },
   {
    "duration": 9,
    "start_time": "2021-11-23T09:16:17.735Z"
   },
   {
    "duration": 7,
    "start_time": "2021-11-23T09:16:49.648Z"
   },
   {
    "duration": 8,
    "start_time": "2021-11-23T09:17:41.370Z"
   },
   {
    "duration": 8,
    "start_time": "2021-11-23T09:19:34.723Z"
   },
   {
    "duration": 7,
    "start_time": "2021-11-23T09:19:45.763Z"
   },
   {
    "duration": 8,
    "start_time": "2021-11-23T09:20:59.814Z"
   },
   {
    "duration": 25,
    "start_time": "2021-11-23T09:21:40.383Z"
   },
   {
    "duration": 25,
    "start_time": "2021-11-23T09:22:00.364Z"
   },
   {
    "duration": 11,
    "start_time": "2021-11-23T09:29:08.967Z"
   },
   {
    "duration": 9,
    "start_time": "2021-11-23T09:29:23.929Z"
   },
   {
    "duration": 6,
    "start_time": "2021-11-23T09:29:36.778Z"
   },
   {
    "duration": 5,
    "start_time": "2021-11-23T09:29:44.874Z"
   },
   {
    "duration": 6,
    "start_time": "2021-11-23T09:29:45.585Z"
   },
   {
    "duration": 6,
    "start_time": "2021-11-23T09:30:33.658Z"
   },
   {
    "duration": 7,
    "start_time": "2021-11-23T09:30:34.641Z"
   },
   {
    "duration": 635,
    "start_time": "2021-11-24T08:51:39.748Z"
   },
   {
    "duration": 105,
    "start_time": "2021-11-24T08:51:40.384Z"
   },
   {
    "duration": 5,
    "start_time": "2021-11-24T08:51:40.491Z"
   },
   {
    "duration": 14,
    "start_time": "2021-11-24T08:51:40.498Z"
   },
   {
    "duration": 7,
    "start_time": "2021-11-24T08:51:40.514Z"
   },
   {
    "duration": 9,
    "start_time": "2021-11-24T08:51:40.522Z"
   },
   {
    "duration": 11,
    "start_time": "2021-11-24T08:51:40.533Z"
   },
   {
    "duration": 7,
    "start_time": "2021-11-24T08:51:40.547Z"
   },
   {
    "duration": 8,
    "start_time": "2021-11-24T08:51:40.556Z"
   },
   {
    "duration": 12,
    "start_time": "2021-11-24T08:51:40.587Z"
   },
   {
    "duration": 10,
    "start_time": "2021-11-24T08:51:40.601Z"
   },
   {
    "duration": 21,
    "start_time": "2021-11-24T08:51:40.612Z"
   },
   {
    "duration": 3,
    "start_time": "2021-11-24T08:51:40.635Z"
   },
   {
    "duration": 14,
    "start_time": "2021-11-24T08:51:40.640Z"
   },
   {
    "duration": 32,
    "start_time": "2021-11-24T08:51:40.656Z"
   },
   {
    "duration": 12,
    "start_time": "2021-11-24T08:51:40.690Z"
   },
   {
    "duration": 13,
    "start_time": "2021-11-24T08:51:40.704Z"
   },
   {
    "duration": 11,
    "start_time": "2021-11-24T08:51:40.719Z"
   },
   {
    "duration": 6,
    "start_time": "2021-11-24T08:51:40.732Z"
   },
   {
    "duration": 10,
    "start_time": "2021-11-24T08:51:40.739Z"
   },
   {
    "duration": 4,
    "start_time": "2021-11-24T08:51:40.751Z"
   },
   {
    "duration": 4,
    "start_time": "2021-11-24T08:51:40.757Z"
   },
   {
    "duration": 34,
    "start_time": "2021-11-24T08:51:40.764Z"
   },
   {
    "duration": 7,
    "start_time": "2021-11-24T08:51:40.801Z"
   },
   {
    "duration": 8,
    "start_time": "2021-11-24T08:51:40.810Z"
   },
   {
    "duration": 5,
    "start_time": "2021-11-24T08:51:40.819Z"
   },
   {
    "duration": 14,
    "start_time": "2021-11-24T08:51:40.826Z"
   },
   {
    "duration": 6,
    "start_time": "2021-11-24T08:51:40.841Z"
   },
   {
    "duration": 40,
    "start_time": "2021-11-24T08:51:40.849Z"
   },
   {
    "duration": 15,
    "start_time": "2021-11-24T08:51:40.890Z"
   },
   {
    "duration": 21,
    "start_time": "2021-11-24T08:51:40.907Z"
   },
   {
    "duration": 6,
    "start_time": "2021-11-24T08:51:40.929Z"
   },
   {
    "duration": 6,
    "start_time": "2021-11-24T08:51:40.936Z"
   },
   {
    "duration": 21,
    "start_time": "2021-11-24T08:51:40.943Z"
   },
   {
    "duration": 27,
    "start_time": "2021-11-24T08:51:40.965Z"
   },
   {
    "duration": 6,
    "start_time": "2021-11-24T08:51:40.994Z"
   },
   {
    "duration": 6,
    "start_time": "2021-11-24T08:51:41.002Z"
   },
   {
    "duration": 8,
    "start_time": "2021-11-24T08:51:41.009Z"
   },
   {
    "duration": 7,
    "start_time": "2021-11-24T08:51:41.018Z"
   },
   {
    "duration": 6214,
    "start_time": "2021-11-24T08:55:46.948Z"
   },
   {
    "duration": 21,
    "start_time": "2021-11-24T08:56:07.697Z"
   },
   {
    "duration": 4,
    "start_time": "2021-11-24T08:56:21.261Z"
   },
   {
    "duration": 239,
    "start_time": "2021-11-24T08:56:24.973Z"
   },
   {
    "duration": 5,
    "start_time": "2021-11-24T08:56:27.397Z"
   },
   {
    "duration": 10,
    "start_time": "2021-11-24T09:01:25.324Z"
   },
   {
    "duration": 3,
    "start_time": "2021-11-24T09:23:49.144Z"
   },
   {
    "duration": 94,
    "start_time": "2021-11-24T09:23:49.148Z"
   },
   {
    "duration": 4,
    "start_time": "2021-11-24T09:23:49.244Z"
   },
   {
    "duration": 11,
    "start_time": "2021-11-24T09:23:49.250Z"
   },
   {
    "duration": 6,
    "start_time": "2021-11-24T09:23:49.262Z"
   },
   {
    "duration": 9,
    "start_time": "2021-11-24T09:23:49.270Z"
   },
   {
    "duration": 13,
    "start_time": "2021-11-24T09:23:49.280Z"
   },
   {
    "duration": 4,
    "start_time": "2021-11-24T09:23:49.295Z"
   },
   {
    "duration": 13,
    "start_time": "2021-11-24T09:23:49.301Z"
   },
   {
    "duration": 14,
    "start_time": "2021-11-24T09:23:49.315Z"
   },
   {
    "duration": 10,
    "start_time": "2021-11-24T09:23:49.330Z"
   },
   {
    "duration": 18,
    "start_time": "2021-11-24T09:23:49.342Z"
   },
   {
    "duration": 3,
    "start_time": "2021-11-24T09:23:49.362Z"
   },
   {
    "duration": 11,
    "start_time": "2021-11-24T09:23:49.387Z"
   },
   {
    "duration": 5,
    "start_time": "2021-11-24T09:23:49.400Z"
   },
   {
    "duration": 9,
    "start_time": "2021-11-24T09:23:56.640Z"
   },
   {
    "duration": 4,
    "start_time": "2021-11-24T09:24:18.417Z"
   },
   {
    "duration": 11,
    "start_time": "2021-11-24T09:24:51.306Z"
   },
   {
    "duration": 5,
    "start_time": "2021-11-24T09:25:25.786Z"
   },
   {
    "duration": 3,
    "start_time": "2021-11-24T09:26:04.076Z"
   },
   {
    "duration": 4,
    "start_time": "2021-11-24T09:26:34.971Z"
   },
   {
    "duration": 1580,
    "start_time": "2021-11-24T09:27:24.437Z"
   },
   {
    "duration": 7,
    "start_time": "2021-11-24T09:27:37.917Z"
   },
   {
    "duration": 8,
    "start_time": "2021-11-24T09:28:02.597Z"
   },
   {
    "duration": 4,
    "start_time": "2021-11-24T09:28:23.086Z"
   },
   {
    "duration": 4,
    "start_time": "2021-11-24T09:28:36.662Z"
   },
   {
    "duration": 616,
    "start_time": "2021-11-24T09:32:32.608Z"
   },
   {
    "duration": 95,
    "start_time": "2021-11-24T09:32:33.226Z"
   },
   {
    "duration": 5,
    "start_time": "2021-11-24T09:32:33.323Z"
   },
   {
    "duration": 12,
    "start_time": "2021-11-24T09:32:33.330Z"
   },
   {
    "duration": 7,
    "start_time": "2021-11-24T09:32:33.343Z"
   },
   {
    "duration": 5,
    "start_time": "2021-11-24T09:32:33.352Z"
   },
   {
    "duration": 13,
    "start_time": "2021-11-24T09:32:33.358Z"
   },
   {
    "duration": 7,
    "start_time": "2021-11-24T09:32:33.374Z"
   },
   {
    "duration": 6,
    "start_time": "2021-11-24T09:32:33.383Z"
   },
   {
    "duration": 17,
    "start_time": "2021-11-24T09:32:33.390Z"
   },
   {
    "duration": 12,
    "start_time": "2021-11-24T09:32:33.409Z"
   },
   {
    "duration": 22,
    "start_time": "2021-11-24T09:32:33.423Z"
   },
   {
    "duration": 3,
    "start_time": "2021-11-24T09:32:33.447Z"
   },
   {
    "duration": 43,
    "start_time": "2021-11-24T09:32:33.452Z"
   },
   {
    "duration": 8,
    "start_time": "2021-11-24T09:32:33.497Z"
   },
   {
    "duration": 15,
    "start_time": "2021-11-24T09:32:33.506Z"
   },
   {
    "duration": 6,
    "start_time": "2021-11-24T09:32:33.523Z"
   },
   {
    "duration": 20,
    "start_time": "2021-11-24T09:32:33.531Z"
   },
   {
    "duration": 13,
    "start_time": "2021-11-24T09:32:33.552Z"
   },
   {
    "duration": 8,
    "start_time": "2021-11-24T09:32:33.566Z"
   },
   {
    "duration": 15,
    "start_time": "2021-11-24T09:32:33.576Z"
   },
   {
    "duration": 7,
    "start_time": "2021-11-24T09:32:33.593Z"
   },
   {
    "duration": 5,
    "start_time": "2021-11-24T09:32:33.603Z"
   },
   {
    "duration": 19,
    "start_time": "2021-11-24T09:32:33.610Z"
   },
   {
    "duration": 9,
    "start_time": "2021-11-24T09:32:33.630Z"
   },
   {
    "duration": 15,
    "start_time": "2021-11-24T09:32:33.640Z"
   },
   {
    "duration": 4,
    "start_time": "2021-11-24T09:32:33.656Z"
   },
   {
    "duration": 27,
    "start_time": "2021-11-24T09:32:33.661Z"
   },
   {
    "duration": 7,
    "start_time": "2021-11-24T09:32:33.689Z"
   },
   {
    "duration": 6,
    "start_time": "2021-11-24T09:32:33.697Z"
   },
   {
    "duration": 16,
    "start_time": "2021-11-24T09:32:33.705Z"
   },
   {
    "duration": 20,
    "start_time": "2021-11-24T09:32:33.722Z"
   },
   {
    "duration": 10,
    "start_time": "2021-11-24T09:32:33.743Z"
   },
   {
    "duration": 6,
    "start_time": "2021-11-24T09:32:33.754Z"
   },
   {
    "duration": 37,
    "start_time": "2021-11-24T09:32:33.762Z"
   },
   {
    "duration": 7,
    "start_time": "2021-11-24T09:32:33.801Z"
   },
   {
    "duration": 8,
    "start_time": "2021-11-24T09:32:33.809Z"
   },
   {
    "duration": 11,
    "start_time": "2021-11-24T09:32:33.818Z"
   },
   {
    "duration": 11,
    "start_time": "2021-11-24T09:32:33.831Z"
   },
   {
    "duration": 10,
    "start_time": "2021-11-24T09:32:33.843Z"
   },
   {
    "duration": 5,
    "start_time": "2021-11-24T09:32:33.854Z"
   },
   {
    "duration": 15,
    "start_time": "2021-11-24T09:33:32.404Z"
   },
   {
    "duration": 7,
    "start_time": "2021-11-24T09:33:37.220Z"
   },
   {
    "duration": 7,
    "start_time": "2021-11-24T09:33:39.420Z"
   },
   {
    "duration": 18,
    "start_time": "2021-11-24T09:33:56.261Z"
   },
   {
    "duration": 9,
    "start_time": "2021-11-24T09:34:05.884Z"
   },
   {
    "duration": 7,
    "start_time": "2021-11-24T09:34:10.244Z"
   },
   {
    "duration": 6,
    "start_time": "2021-11-24T09:34:13.164Z"
   },
   {
    "duration": 690,
    "start_time": "2021-11-24T09:34:26.577Z"
   },
   {
    "duration": 96,
    "start_time": "2021-11-24T09:34:27.269Z"
   },
   {
    "duration": 6,
    "start_time": "2021-11-24T09:34:27.367Z"
   },
   {
    "duration": 24,
    "start_time": "2021-11-24T09:34:27.375Z"
   },
   {
    "duration": 22,
    "start_time": "2021-11-24T09:34:27.401Z"
   },
   {
    "duration": 13,
    "start_time": "2021-11-24T09:34:27.424Z"
   },
   {
    "duration": 19,
    "start_time": "2021-11-24T09:34:27.439Z"
   },
   {
    "duration": 29,
    "start_time": "2021-11-24T09:34:27.461Z"
   },
   {
    "duration": 26,
    "start_time": "2021-11-24T09:34:27.492Z"
   },
   {
    "duration": 21,
    "start_time": "2021-11-24T09:34:27.519Z"
   },
   {
    "duration": 24,
    "start_time": "2021-11-24T09:34:27.542Z"
   },
   {
    "duration": 36,
    "start_time": "2021-11-24T09:34:27.568Z"
   },
   {
    "duration": 3,
    "start_time": "2021-11-24T09:34:27.606Z"
   },
   {
    "duration": 32,
    "start_time": "2021-11-24T09:34:27.611Z"
   },
   {
    "duration": 14,
    "start_time": "2021-11-24T09:34:27.645Z"
   },
   {
    "duration": 19,
    "start_time": "2021-11-24T09:34:27.660Z"
   },
   {
    "duration": 17,
    "start_time": "2021-11-24T09:34:27.680Z"
   },
   {
    "duration": 30,
    "start_time": "2021-11-24T09:34:27.699Z"
   },
   {
    "duration": 23,
    "start_time": "2021-11-24T09:34:27.731Z"
   },
   {
    "duration": 14,
    "start_time": "2021-11-24T09:34:27.756Z"
   },
   {
    "duration": 12,
    "start_time": "2021-11-24T09:34:27.772Z"
   },
   {
    "duration": 14,
    "start_time": "2021-11-24T09:34:27.786Z"
   },
   {
    "duration": 23,
    "start_time": "2021-11-24T09:34:27.803Z"
   },
   {
    "duration": 19,
    "start_time": "2021-11-24T09:34:27.828Z"
   },
   {
    "duration": 10,
    "start_time": "2021-11-24T09:34:27.849Z"
   },
   {
    "duration": 11,
    "start_time": "2021-11-24T09:34:27.860Z"
   },
   {
    "duration": 7,
    "start_time": "2021-11-24T09:34:27.872Z"
   },
   {
    "duration": 13,
    "start_time": "2021-11-24T09:34:27.880Z"
   },
   {
    "duration": 17,
    "start_time": "2021-11-24T09:34:27.895Z"
   },
   {
    "duration": 9,
    "start_time": "2021-11-24T09:34:27.913Z"
   },
   {
    "duration": 28,
    "start_time": "2021-11-24T09:34:27.923Z"
   },
   {
    "duration": 26,
    "start_time": "2021-11-24T09:34:27.952Z"
   },
   {
    "duration": 12,
    "start_time": "2021-11-24T09:34:27.980Z"
   },
   {
    "duration": 8,
    "start_time": "2021-11-24T09:34:27.994Z"
   },
   {
    "duration": 28,
    "start_time": "2021-11-24T09:34:28.004Z"
   },
   {
    "duration": 7,
    "start_time": "2021-11-24T09:34:28.034Z"
   },
   {
    "duration": 6,
    "start_time": "2021-11-24T09:34:28.043Z"
   },
   {
    "duration": 9,
    "start_time": "2021-11-24T09:34:28.050Z"
   },
   {
    "duration": 14,
    "start_time": "2021-11-24T09:34:28.061Z"
   },
   {
    "duration": 14,
    "start_time": "2021-11-24T09:34:28.076Z"
   },
   {
    "duration": 10,
    "start_time": "2021-11-24T09:34:28.091Z"
   },
   {
    "duration": 4,
    "start_time": "2021-11-24T09:36:55.528Z"
   },
   {
    "duration": 6,
    "start_time": "2021-11-24T09:36:57.607Z"
   },
   {
    "duration": 570,
    "start_time": "2021-11-24T09:37:06.941Z"
   },
   {
    "duration": 95,
    "start_time": "2021-11-24T09:37:07.513Z"
   },
   {
    "duration": 5,
    "start_time": "2021-11-24T09:37:07.610Z"
   },
   {
    "duration": 11,
    "start_time": "2021-11-24T09:37:07.617Z"
   },
   {
    "duration": 6,
    "start_time": "2021-11-24T09:37:07.629Z"
   },
   {
    "duration": 5,
    "start_time": "2021-11-24T09:37:07.636Z"
   },
   {
    "duration": 18,
    "start_time": "2021-11-24T09:37:07.643Z"
   },
   {
    "duration": 7,
    "start_time": "2021-11-24T09:37:07.663Z"
   },
   {
    "duration": 5,
    "start_time": "2021-11-24T09:37:07.672Z"
   },
   {
    "duration": 19,
    "start_time": "2021-11-24T09:37:07.679Z"
   },
   {
    "duration": 12,
    "start_time": "2021-11-24T09:37:07.699Z"
   },
   {
    "duration": 25,
    "start_time": "2021-11-24T09:37:07.713Z"
   },
   {
    "duration": 3,
    "start_time": "2021-11-24T09:37:07.740Z"
   },
   {
    "duration": 15,
    "start_time": "2021-11-24T09:37:07.745Z"
   },
   {
    "duration": 27,
    "start_time": "2021-11-24T09:37:07.762Z"
   },
   {
    "duration": 9,
    "start_time": "2021-11-24T09:37:07.790Z"
   },
   {
    "duration": 4,
    "start_time": "2021-11-24T09:37:07.801Z"
   },
   {
    "duration": 12,
    "start_time": "2021-11-24T09:37:07.806Z"
   },
   {
    "duration": 23,
    "start_time": "2021-11-24T09:37:07.820Z"
   },
   {
    "duration": 7,
    "start_time": "2021-11-24T09:37:07.844Z"
   },
   {
    "duration": 5,
    "start_time": "2021-11-24T09:37:07.853Z"
   },
   {
    "duration": 8,
    "start_time": "2021-11-24T09:37:07.860Z"
   },
   {
    "duration": 4,
    "start_time": "2021-11-24T09:37:07.887Z"
   },
   {
    "duration": 22,
    "start_time": "2021-11-24T09:37:07.892Z"
   },
   {
    "duration": 9,
    "start_time": "2021-11-24T09:37:07.915Z"
   },
   {
    "duration": 9,
    "start_time": "2021-11-24T09:37:07.925Z"
   },
   {
    "duration": 5,
    "start_time": "2021-11-24T09:37:07.936Z"
   },
   {
    "duration": 12,
    "start_time": "2021-11-24T09:37:07.942Z"
   },
   {
    "duration": 7,
    "start_time": "2021-11-24T09:37:07.956Z"
   },
   {
    "duration": 26,
    "start_time": "2021-11-24T09:37:07.964Z"
   },
   {
    "duration": 17,
    "start_time": "2021-11-24T09:37:07.992Z"
   },
   {
    "duration": 17,
    "start_time": "2021-11-24T09:37:08.010Z"
   },
   {
    "duration": 17,
    "start_time": "2021-11-24T09:37:08.028Z"
   },
   {
    "duration": 14,
    "start_time": "2021-11-24T09:37:08.047Z"
   },
   {
    "duration": 43,
    "start_time": "2021-11-24T09:37:08.062Z"
   },
   {
    "duration": 19,
    "start_time": "2021-11-24T09:37:08.107Z"
   },
   {
    "duration": 14,
    "start_time": "2021-11-24T09:37:08.128Z"
   },
   {
    "duration": 16,
    "start_time": "2021-11-24T09:37:08.143Z"
   },
   {
    "duration": 22,
    "start_time": "2021-11-24T09:37:08.161Z"
   },
   {
    "duration": 29,
    "start_time": "2021-11-24T09:37:08.184Z"
   },
   {
    "duration": 18,
    "start_time": "2021-11-24T09:37:08.215Z"
   },
   {
    "duration": 3,
    "start_time": "2021-11-24T09:37:55.796Z"
   },
   {
    "duration": 115,
    "start_time": "2021-11-24T09:37:55.801Z"
   },
   {
    "duration": 4,
    "start_time": "2021-11-24T09:37:55.918Z"
   },
   {
    "duration": 12,
    "start_time": "2021-11-24T09:37:55.924Z"
   },
   {
    "duration": 8,
    "start_time": "2021-11-24T09:37:55.937Z"
   },
   {
    "duration": 6,
    "start_time": "2021-11-24T09:38:05.497Z"
   },
   {
    "duration": 5,
    "start_time": "2021-11-24T09:38:07.441Z"
   },
   {
    "duration": 11,
    "start_time": "2021-11-24T09:38:11.601Z"
   },
   {
    "duration": 4,
    "start_time": "2021-11-24T09:38:25.674Z"
   },
   {
    "duration": 4,
    "start_time": "2021-11-24T09:39:03.875Z"
   },
   {
    "duration": 3,
    "start_time": "2021-11-24T09:39:04.987Z"
   },
   {
    "duration": 10,
    "start_time": "2021-11-24T09:39:06.227Z"
   },
   {
    "duration": 5,
    "start_time": "2021-11-24T09:39:09.059Z"
   },
   {
    "duration": 4,
    "start_time": "2021-11-24T09:39:09.826Z"
   },
   {
    "duration": 6,
    "start_time": "2021-11-24T09:40:35.125Z"
   },
   {
    "duration": 6,
    "start_time": "2021-11-24T09:41:21.486Z"
   },
   {
    "duration": 6,
    "start_time": "2021-11-24T09:41:26.518Z"
   },
   {
    "duration": 7,
    "start_time": "2021-11-24T09:41:33.062Z"
   },
   {
    "duration": 9,
    "start_time": "2021-11-24T09:41:45.422Z"
   },
   {
    "duration": 6,
    "start_time": "2021-11-24T09:42:42.464Z"
   },
   {
    "duration": 6,
    "start_time": "2021-11-24T09:43:23.664Z"
   },
   {
    "duration": 9,
    "start_time": "2021-11-24T09:44:27.265Z"
   },
   {
    "duration": 311,
    "start_time": "2021-11-24T09:47:07.461Z"
   },
   {
    "duration": 5,
    "start_time": "2021-11-24T09:47:47.790Z"
   },
   {
    "duration": 6,
    "start_time": "2021-11-24T09:48:03.222Z"
   },
   {
    "duration": 8,
    "start_time": "2021-11-24T09:48:28.823Z"
   },
   {
    "duration": 168,
    "start_time": "2021-11-24T09:49:00.400Z"
   },
   {
    "duration": 175,
    "start_time": "2021-11-24T09:49:05.568Z"
   },
   {
    "duration": 242,
    "start_time": "2021-11-24T09:49:56.280Z"
   },
   {
    "duration": 331,
    "start_time": "2021-11-24T09:50:24.673Z"
   },
   {
    "duration": 419,
    "start_time": "2021-11-24T09:50:36.513Z"
   },
   {
    "duration": 219,
    "start_time": "2021-11-24T09:50:41.314Z"
   },
   {
    "duration": 164,
    "start_time": "2021-11-24T09:50:47.714Z"
   },
   {
    "duration": 177,
    "start_time": "2021-11-24T09:50:51.194Z"
   },
   {
    "duration": 199,
    "start_time": "2021-11-24T09:50:55.274Z"
   },
   {
    "duration": 212,
    "start_time": "2021-11-24T09:50:59.010Z"
   },
   {
    "duration": 283,
    "start_time": "2021-11-24T09:51:02.106Z"
   },
   {
    "duration": 355,
    "start_time": "2021-11-24T09:51:26.450Z"
   },
   {
    "duration": 296,
    "start_time": "2021-11-24T09:51:34.082Z"
   },
   {
    "duration": 344,
    "start_time": "2021-11-24T09:52:37.093Z"
   },
   {
    "duration": 203,
    "start_time": "2021-11-24T09:52:46.772Z"
   },
   {
    "duration": 151,
    "start_time": "2021-11-24T09:53:42.846Z"
   },
   {
    "duration": 217,
    "start_time": "2021-11-24T09:53:48.061Z"
   },
   {
    "duration": 154,
    "start_time": "2021-11-24T09:53:51.774Z"
   },
   {
    "duration": 151,
    "start_time": "2021-11-24T09:54:07.741Z"
   },
   {
    "duration": 11,
    "start_time": "2021-11-24T10:10:52.075Z"
   },
   {
    "duration": 6,
    "start_time": "2021-11-24T10:11:03.907Z"
   },
   {
    "duration": 874,
    "start_time": "2021-11-27T08:20:48.095Z"
   },
   {
    "duration": 117,
    "start_time": "2021-11-27T08:20:49.120Z"
   },
   {
    "duration": 18,
    "start_time": "2021-11-27T08:20:49.639Z"
   },
   {
    "duration": 9,
    "start_time": "2021-11-27T08:20:52.327Z"
   },
   {
    "duration": 9,
    "start_time": "2021-11-27T08:20:53.423Z"
   },
   {
    "duration": 16,
    "start_time": "2021-11-27T08:20:54.863Z"
   },
   {
    "duration": 8,
    "start_time": "2021-11-27T08:20:59.936Z"
   },
   {
    "duration": 6,
    "start_time": "2021-11-27T08:21:00.808Z"
   },
   {
    "duration": 6,
    "start_time": "2021-11-27T08:21:01.257Z"
   },
   {
    "duration": 17,
    "start_time": "2021-11-27T08:21:07.104Z"
   },
   {
    "duration": 8,
    "start_time": "2021-11-27T08:21:07.985Z"
   },
   {
    "duration": 6,
    "start_time": "2021-11-27T08:21:08.489Z"
   },
   {
    "duration": 28,
    "start_time": "2021-11-27T08:21:11.552Z"
   },
   {
    "duration": 25,
    "start_time": "2021-11-27T08:21:12.800Z"
   },
   {
    "duration": 51,
    "start_time": "2021-11-27T08:21:17.262Z"
   },
   {
    "duration": 7,
    "start_time": "2021-11-27T08:21:18.936Z"
   },
   {
    "duration": 7,
    "start_time": "2021-11-27T08:25:32.806Z"
   },
   {
    "duration": 6,
    "start_time": "2021-11-27T08:25:43.614Z"
   },
   {
    "duration": 5,
    "start_time": "2021-11-27T08:25:50.908Z"
   },
   {
    "duration": 13,
    "start_time": "2021-11-27T08:27:33.193Z"
   },
   {
    "duration": 19,
    "start_time": "2021-11-27T08:27:45.993Z"
   },
   {
    "duration": 10,
    "start_time": "2021-11-27T08:27:56.609Z"
   },
   {
    "duration": 6,
    "start_time": "2021-11-27T08:28:02.866Z"
   },
   {
    "duration": 5,
    "start_time": "2021-11-27T08:28:11.865Z"
   },
   {
    "duration": 5,
    "start_time": "2021-11-27T08:28:12.274Z"
   },
   {
    "duration": 10,
    "start_time": "2021-11-27T08:32:18.736Z"
   },
   {
    "duration": 14,
    "start_time": "2021-11-27T08:33:28.440Z"
   },
   {
    "duration": 10,
    "start_time": "2021-11-27T08:33:29.520Z"
   },
   {
    "duration": 6,
    "start_time": "2021-11-27T08:33:30.337Z"
   },
   {
    "duration": 7,
    "start_time": "2021-11-27T08:35:31.715Z"
   },
   {
    "duration": 10,
    "start_time": "2021-11-27T08:35:48.915Z"
   },
   {
    "duration": 6,
    "start_time": "2021-11-27T08:35:50.123Z"
   },
   {
    "duration": 7,
    "start_time": "2021-11-27T08:36:03.124Z"
   },
   {
    "duration": 25,
    "start_time": "2021-11-27T08:36:12.019Z"
   },
   {
    "duration": 26,
    "start_time": "2021-11-27T08:36:25.769Z"
   },
   {
    "duration": 24,
    "start_time": "2021-11-27T08:36:33.549Z"
   },
   {
    "duration": 10,
    "start_time": "2021-11-27T08:37:32.765Z"
   },
   {
    "duration": 6,
    "start_time": "2021-11-27T08:37:33.869Z"
   },
   {
    "duration": 8,
    "start_time": "2021-11-27T08:37:45.214Z"
   },
   {
    "duration": 8,
    "start_time": "2021-11-27T08:37:53.542Z"
   },
   {
    "duration": 9,
    "start_time": "2021-11-27T08:38:00.925Z"
   },
   {
    "duration": 8,
    "start_time": "2021-11-27T08:38:05.270Z"
   },
   {
    "duration": 10,
    "start_time": "2021-11-27T08:38:11.566Z"
   },
   {
    "duration": 9,
    "start_time": "2021-11-27T08:38:14.061Z"
   },
   {
    "duration": 7,
    "start_time": "2021-11-27T08:38:32.959Z"
   },
   {
    "duration": 7,
    "start_time": "2021-11-27T08:38:42.494Z"
   },
   {
    "duration": 21,
    "start_time": "2021-11-27T08:38:47.927Z"
   },
   {
    "duration": 541,
    "start_time": "2021-11-27T08:39:46.609Z"
   },
   {
    "duration": 57,
    "start_time": "2021-11-27T08:39:47.096Z"
   },
   {
    "duration": 6,
    "start_time": "2021-11-27T08:39:53.057Z"
   },
   {
    "duration": 12,
    "start_time": "2021-11-27T08:39:53.656Z"
   },
   {
    "duration": 12,
    "start_time": "2021-11-27T08:39:55.127Z"
   },
   {
    "duration": 515,
    "start_time": "2021-11-27T08:39:57.704Z"
   },
   {
    "duration": 289,
    "start_time": "2021-11-27T08:40:03.256Z"
   },
   {
    "duration": 356,
    "start_time": "2021-11-27T08:40:28.457Z"
   },
   {
    "duration": 220,
    "start_time": "2021-11-27T08:40:36.097Z"
   },
   {
    "duration": 482,
    "start_time": "2021-11-27T08:40:41.425Z"
   },
   {
    "duration": 4,
    "start_time": "2021-11-27T08:43:32.285Z"
   },
   {
    "duration": 3,
    "start_time": "2021-11-27T08:43:35.668Z"
   },
   {
    "duration": 13,
    "start_time": "2021-11-27T08:52:35.785Z"
   },
   {
    "duration": 7,
    "start_time": "2021-11-27T08:54:40.220Z"
   },
   {
    "duration": 7,
    "start_time": "2021-11-27T08:54:51.907Z"
   },
   {
    "duration": 7652,
    "start_time": "2021-11-27T08:58:48.985Z"
   },
   {
    "duration": 7212,
    "start_time": "2021-11-27T08:59:04.098Z"
   },
   {
    "duration": 301,
    "start_time": "2021-11-27T09:03:08.823Z"
   },
   {
    "duration": 22,
    "start_time": "2021-11-27T09:03:14.815Z"
   },
   {
    "duration": 106,
    "start_time": "2021-11-27T09:03:22.253Z"
   },
   {
    "duration": 15,
    "start_time": "2021-11-27T09:03:32.159Z"
   },
   {
    "duration": 19,
    "start_time": "2021-11-27T09:03:36.759Z"
   },
   {
    "duration": 4,
    "start_time": "2021-11-27T09:05:13.058Z"
   },
   {
    "duration": 6,
    "start_time": "2021-11-27T09:07:03.052Z"
   },
   {
    "duration": 1411,
    "start_time": "2021-11-27T09:07:17.636Z"
   },
   {
    "duration": 4,
    "start_time": "2021-11-27T09:10:08.531Z"
   },
   {
    "duration": 1191,
    "start_time": "2021-11-27T09:10:09.288Z"
   },
   {
    "duration": 300,
    "start_time": "2021-11-27T09:10:25.872Z"
   },
   {
    "duration": 1115,
    "start_time": "2021-11-27T09:12:09.266Z"
   },
   {
    "duration": 5,
    "start_time": "2021-11-27T09:12:15.090Z"
   },
   {
    "duration": 1406,
    "start_time": "2021-11-27T09:12:16.650Z"
   },
   {
    "duration": 10,
    "start_time": "2021-11-27T09:12:33.898Z"
   },
   {
    "duration": 11,
    "start_time": "2021-11-27T09:12:43.363Z"
   },
   {
    "duration": 7,
    "start_time": "2021-11-27T09:13:14.419Z"
   },
   {
    "duration": 3,
    "start_time": "2021-11-27T09:13:42.053Z"
   },
   {
    "duration": 1420,
    "start_time": "2021-11-27T09:13:44.980Z"
   },
   {
    "duration": 1484,
    "start_time": "2021-11-27T09:14:02.733Z"
   },
   {
    "duration": 5,
    "start_time": "2021-11-27T09:15:32.543Z"
   },
   {
    "duration": 1424,
    "start_time": "2021-11-27T09:15:33.871Z"
   },
   {
    "duration": 297,
    "start_time": "2021-11-27T09:18:53.979Z"
   },
   {
    "duration": 311,
    "start_time": "2021-11-27T09:19:11.467Z"
   },
   {
    "duration": 99,
    "start_time": "2021-11-27T09:19:29.563Z"
   },
   {
    "duration": 20,
    "start_time": "2021-11-27T09:19:51.084Z"
   },
   {
    "duration": 11,
    "start_time": "2021-11-27T09:20:00.788Z"
   },
   {
    "duration": 13,
    "start_time": "2021-11-27T09:20:08.515Z"
   },
   {
    "duration": 6,
    "start_time": "2021-11-27T09:22:40.255Z"
   },
   {
    "duration": 12,
    "start_time": "2021-11-27T09:25:15.482Z"
   },
   {
    "duration": 10,
    "start_time": "2021-11-27T09:25:49.339Z"
   },
   {
    "duration": 15,
    "start_time": "2021-11-27T09:25:54.450Z"
   },
   {
    "duration": 7155,
    "start_time": "2021-11-27T09:26:08.425Z"
   },
   {
    "duration": 8844,
    "start_time": "2021-11-27T09:26:15.851Z"
   },
   {
    "duration": 5604,
    "start_time": "2021-11-27T09:26:25.947Z"
   },
   {
    "duration": 116,
    "start_time": "2021-11-27T09:26:37.236Z"
   },
   {
    "duration": 6,
    "start_time": "2021-11-27T09:26:39.643Z"
   },
   {
    "duration": 13,
    "start_time": "2021-11-27T09:27:05.445Z"
   },
   {
    "duration": 43,
    "start_time": "2021-11-27T09:27:50.253Z"
   },
   {
    "duration": 2102,
    "start_time": "2021-11-27T09:29:10.365Z"
   },
   {
    "duration": 2000,
    "start_time": "2021-11-27T09:31:53.947Z"
   },
   {
    "duration": 14,
    "start_time": "2021-11-27T09:32:08.875Z"
   },
   {
    "duration": 7,
    "start_time": "2021-11-27T09:32:19.338Z"
   },
   {
    "duration": 6,
    "start_time": "2021-11-27T09:32:27.587Z"
   },
   {
    "duration": 9,
    "start_time": "2021-11-27T09:33:33.012Z"
   },
   {
    "duration": 7,
    "start_time": "2021-11-27T09:33:57.229Z"
   },
   {
    "duration": 37,
    "start_time": "2021-11-27T09:40:44.397Z"
   },
   {
    "duration": 25,
    "start_time": "2021-11-27T09:41:30.972Z"
   },
   {
    "duration": 27,
    "start_time": "2021-11-27T09:42:15.287Z"
   },
   {
    "duration": 23,
    "start_time": "2021-11-27T09:42:25.631Z"
   },
   {
    "duration": 23,
    "start_time": "2021-11-27T09:42:32.071Z"
   },
   {
    "duration": 35,
    "start_time": "2021-11-27T09:44:37.698Z"
   },
   {
    "duration": 13,
    "start_time": "2021-11-27T09:45:01.091Z"
   },
   {
    "duration": 11,
    "start_time": "2021-11-27T09:45:05.698Z"
   },
   {
    "duration": 54,
    "start_time": "2021-11-27T09:45:14.083Z"
   },
   {
    "duration": 7,
    "start_time": "2021-11-27T09:45:40.579Z"
   },
   {
    "duration": 34,
    "start_time": "2021-11-27T09:45:48.220Z"
   },
   {
    "duration": 8,
    "start_time": "2021-11-27T09:48:09.397Z"
   },
   {
    "duration": 36,
    "start_time": "2021-11-27T09:52:31.861Z"
   },
   {
    "duration": 6,
    "start_time": "2021-11-27T09:52:57.973Z"
   },
   {
    "duration": 8,
    "start_time": "2021-11-27T09:53:14.124Z"
   },
   {
    "duration": 28,
    "start_time": "2021-11-27T09:53:25.437Z"
   },
   {
    "duration": 688,
    "start_time": "2021-11-27T09:53:29.030Z"
   },
   {
    "duration": 28,
    "start_time": "2021-11-27T09:53:34.733Z"
   },
   {
    "duration": 9,
    "start_time": "2021-11-27T10:00:44.655Z"
   },
   {
    "duration": 15,
    "start_time": "2021-11-27T10:00:59.631Z"
   },
   {
    "duration": 14,
    "start_time": "2021-11-27T10:01:37.105Z"
   },
   {
    "duration": 13,
    "start_time": "2021-11-27T10:02:05.305Z"
   },
   {
    "duration": 305,
    "start_time": "2021-11-27T10:02:25.073Z"
   },
   {
    "duration": 311,
    "start_time": "2021-11-27T10:02:52.073Z"
   },
   {
    "duration": 276,
    "start_time": "2021-11-27T10:03:16.667Z"
   },
   {
    "duration": 293,
    "start_time": "2021-11-27T10:03:25.754Z"
   },
   {
    "duration": 24,
    "start_time": "2021-11-27T10:03:38.986Z"
   },
   {
    "duration": 4,
    "start_time": "2021-11-27T10:05:20.021Z"
   },
   {
    "duration": 214,
    "start_time": "2021-11-27T10:05:48.589Z"
   },
   {
    "duration": 28,
    "start_time": "2021-11-27T10:05:59.725Z"
   },
   {
    "duration": 875,
    "start_time": "2021-11-27T10:08:06.075Z"
   },
   {
    "duration": 118,
    "start_time": "2021-11-27T10:08:06.953Z"
   },
   {
    "duration": 17,
    "start_time": "2021-11-27T10:08:07.074Z"
   },
   {
    "duration": 7,
    "start_time": "2021-11-27T10:08:07.094Z"
   },
   {
    "duration": 20,
    "start_time": "2021-11-27T10:08:07.103Z"
   },
   {
    "duration": 21,
    "start_time": "2021-11-27T10:08:07.126Z"
   },
   {
    "duration": 14,
    "start_time": "2021-11-27T10:08:07.150Z"
   },
   {
    "duration": 13,
    "start_time": "2021-11-27T10:08:07.169Z"
   },
   {
    "duration": 13,
    "start_time": "2021-11-27T10:08:07.186Z"
   },
   {
    "duration": 23,
    "start_time": "2021-11-27T10:08:07.202Z"
   },
   {
    "duration": 10,
    "start_time": "2021-11-27T10:08:07.227Z"
   },
   {
    "duration": 10,
    "start_time": "2021-11-27T10:08:07.240Z"
   },
   {
    "duration": 28,
    "start_time": "2021-11-27T10:08:07.253Z"
   },
   {
    "duration": 20,
    "start_time": "2021-11-27T10:08:07.283Z"
   },
   {
    "duration": 46,
    "start_time": "2021-11-27T10:08:07.306Z"
   },
   {
    "duration": 5,
    "start_time": "2021-11-27T10:08:07.354Z"
   },
   {
    "duration": 20,
    "start_time": "2021-11-27T10:08:07.362Z"
   },
   {
    "duration": 8,
    "start_time": "2021-11-27T10:08:07.384Z"
   },
   {
    "duration": 17,
    "start_time": "2021-11-27T10:08:07.394Z"
   },
   {
    "duration": 16,
    "start_time": "2021-11-27T10:08:07.414Z"
   },
   {
    "duration": 7,
    "start_time": "2021-11-27T10:08:07.433Z"
   },
   {
    "duration": 17,
    "start_time": "2021-11-27T10:08:07.442Z"
   },
   {
    "duration": 23,
    "start_time": "2021-11-27T10:08:07.465Z"
   },
   {
    "duration": 10,
    "start_time": "2021-11-27T10:08:07.492Z"
   },
   {
    "duration": 6,
    "start_time": "2021-11-27T10:08:07.504Z"
   },
   {
    "duration": 6,
    "start_time": "2021-11-27T10:08:07.513Z"
   },
   {
    "duration": 7,
    "start_time": "2021-11-27T10:08:07.522Z"
   },
   {
    "duration": 7,
    "start_time": "2021-11-27T10:08:07.532Z"
   },
   {
    "duration": 17,
    "start_time": "2021-11-27T10:08:07.542Z"
   },
   {
    "duration": 20,
    "start_time": "2021-11-27T10:08:07.562Z"
   },
   {
    "duration": 9,
    "start_time": "2021-11-27T10:08:07.585Z"
   },
   {
    "duration": 8,
    "start_time": "2021-11-27T10:08:07.596Z"
   },
   {
    "duration": 13,
    "start_time": "2021-11-27T10:08:07.607Z"
   },
   {
    "duration": 8,
    "start_time": "2021-11-27T10:08:07.623Z"
   },
   {
    "duration": 8,
    "start_time": "2021-11-27T10:08:07.633Z"
   },
   {
    "duration": 12,
    "start_time": "2021-11-27T10:08:07.643Z"
   },
   {
    "duration": 32,
    "start_time": "2021-11-27T10:08:07.658Z"
   },
   {
    "duration": 10,
    "start_time": "2021-11-27T10:08:07.693Z"
   },
   {
    "duration": 7,
    "start_time": "2021-11-27T10:08:07.705Z"
   },
   {
    "duration": 8,
    "start_time": "2021-11-27T10:08:07.714Z"
   },
   {
    "duration": 10,
    "start_time": "2021-11-27T10:08:07.724Z"
   },
   {
    "duration": 11,
    "start_time": "2021-11-27T10:08:07.737Z"
   },
   {
    "duration": 8,
    "start_time": "2021-11-27T10:08:07.754Z"
   },
   {
    "duration": 20,
    "start_time": "2021-11-27T10:08:07.764Z"
   },
   {
    "duration": 9,
    "start_time": "2021-11-27T10:08:07.786Z"
   },
   {
    "duration": 14,
    "start_time": "2021-11-27T10:08:07.797Z"
   },
   {
    "duration": 8,
    "start_time": "2021-11-27T10:08:07.813Z"
   },
   {
    "duration": 7,
    "start_time": "2021-11-27T10:08:07.823Z"
   },
   {
    "duration": 18,
    "start_time": "2021-11-27T10:08:07.833Z"
   },
   {
    "duration": 15,
    "start_time": "2021-11-27T10:08:07.853Z"
   },
   {
    "duration": 14,
    "start_time": "2021-11-27T10:08:07.871Z"
   },
   {
    "duration": 14,
    "start_time": "2021-11-27T10:08:07.887Z"
   },
   {
    "duration": 8,
    "start_time": "2021-11-27T10:08:07.904Z"
   },
   {
    "duration": 38,
    "start_time": "2021-11-27T10:08:07.915Z"
   },
   {
    "duration": 7,
    "start_time": "2021-11-27T10:08:07.955Z"
   },
   {
    "duration": 57,
    "start_time": "2021-11-27T10:08:07.964Z"
   },
   {
    "duration": 20,
    "start_time": "2021-11-27T10:50:15.142Z"
   },
   {
    "duration": 31,
    "start_time": "2021-11-27T10:50:48.048Z"
   },
   {
    "duration": 6,
    "start_time": "2021-11-27T10:57:00.864Z"
   },
   {
    "duration": 11,
    "start_time": "2021-11-27T10:59:21.394Z"
   },
   {
    "duration": 8,
    "start_time": "2021-11-27T10:59:29.258Z"
   },
   {
    "duration": 7,
    "start_time": "2021-11-27T10:59:51.466Z"
   },
   {
    "duration": 39,
    "start_time": "2021-11-27T11:00:02.795Z"
   },
   {
    "duration": 11,
    "start_time": "2021-11-27T11:02:50.110Z"
   },
   {
    "duration": 10,
    "start_time": "2021-11-27T11:03:29.551Z"
   },
   {
    "duration": 4,
    "start_time": "2021-11-27T11:05:07.745Z"
   },
   {
    "duration": 5,
    "start_time": "2021-11-27T11:05:25.665Z"
   },
   {
    "duration": 5,
    "start_time": "2021-11-27T11:05:32.514Z"
   },
   {
    "duration": 7,
    "start_time": "2021-11-27T11:05:36.175Z"
   },
   {
    "duration": 34,
    "start_time": "2021-11-27T12:17:57.364Z"
   },
   {
    "duration": 423,
    "start_time": "2021-11-27T12:18:24.931Z"
   },
   {
    "duration": 302,
    "start_time": "2021-11-27T12:18:45.030Z"
   },
   {
    "duration": 109,
    "start_time": "2021-11-27T12:18:53.686Z"
   },
   {
    "duration": 36,
    "start_time": "2021-11-27T12:19:54.327Z"
   },
   {
    "duration": 237,
    "start_time": "2021-11-27T12:26:37.456Z"
   },
   {
    "duration": 219,
    "start_time": "2021-11-27T12:26:39.552Z"
   },
   {
    "duration": 5,
    "start_time": "2021-11-27T12:30:35.557Z"
   },
   {
    "duration": 5,
    "start_time": "2021-11-27T12:32:40.944Z"
   },
   {
    "duration": 1417,
    "start_time": "2021-11-27T12:33:57.362Z"
   },
   {
    "duration": 6,
    "start_time": "2021-11-27T12:34:08.725Z"
   },
   {
    "duration": 2133,
    "start_time": "2021-11-27T12:34:09.017Z"
   },
   {
    "duration": 6,
    "start_time": "2021-11-27T12:35:08.220Z"
   },
   {
    "duration": 12,
    "start_time": "2021-11-27T12:36:43.157Z"
   },
   {
    "duration": 344,
    "start_time": "2021-11-27T12:36:57.710Z"
   },
   {
    "duration": 11,
    "start_time": "2021-11-27T12:39:20.969Z"
   },
   {
    "duration": 33,
    "start_time": "2021-11-27T12:41:39.387Z"
   },
   {
    "duration": 6,
    "start_time": "2021-11-27T12:42:00.764Z"
   },
   {
    "duration": 7,
    "start_time": "2021-11-27T12:43:34.509Z"
   },
   {
    "duration": 13,
    "start_time": "2021-11-27T12:44:00.542Z"
   },
   {
    "duration": 13,
    "start_time": "2021-11-27T12:44:17.390Z"
   },
   {
    "duration": 897,
    "start_time": "2021-11-27T12:44:44.672Z"
   },
   {
    "duration": 110,
    "start_time": "2021-11-27T12:44:45.572Z"
   },
   {
    "duration": 16,
    "start_time": "2021-11-27T12:44:45.688Z"
   },
   {
    "duration": 8,
    "start_time": "2021-11-27T12:44:45.706Z"
   },
   {
    "duration": 13,
    "start_time": "2021-11-27T12:44:45.717Z"
   },
   {
    "duration": 58,
    "start_time": "2021-11-27T12:44:45.733Z"
   },
   {
    "duration": 9,
    "start_time": "2021-11-27T12:44:45.794Z"
   },
   {
    "duration": 11,
    "start_time": "2021-11-27T12:44:45.806Z"
   },
   {
    "duration": 13,
    "start_time": "2021-11-27T12:44:45.819Z"
   },
   {
    "duration": 48,
    "start_time": "2021-11-27T12:44:45.835Z"
   },
   {
    "duration": 7,
    "start_time": "2021-11-27T12:44:45.886Z"
   },
   {
    "duration": 12,
    "start_time": "2021-11-27T12:44:45.896Z"
   },
   {
    "duration": 28,
    "start_time": "2021-11-27T12:44:45.911Z"
   },
   {
    "duration": 41,
    "start_time": "2021-11-27T12:44:45.941Z"
   },
   {
    "duration": 38,
    "start_time": "2021-11-27T12:44:45.985Z"
   },
   {
    "duration": 5,
    "start_time": "2021-11-27T12:44:46.026Z"
   },
   {
    "duration": 8,
    "start_time": "2021-11-27T12:44:46.033Z"
   },
   {
    "duration": 41,
    "start_time": "2021-11-27T12:44:46.043Z"
   },
   {
    "duration": 9,
    "start_time": "2021-11-27T12:44:46.087Z"
   },
   {
    "duration": 20,
    "start_time": "2021-11-27T12:44:46.099Z"
   },
   {
    "duration": 7,
    "start_time": "2021-11-27T12:44:46.121Z"
   },
   {
    "duration": 53,
    "start_time": "2021-11-27T12:44:46.135Z"
   },
   {
    "duration": 20,
    "start_time": "2021-11-27T12:44:46.192Z"
   },
   {
    "duration": 11,
    "start_time": "2021-11-27T12:44:46.214Z"
   },
   {
    "duration": 7,
    "start_time": "2021-11-27T12:44:46.227Z"
   },
   {
    "duration": 48,
    "start_time": "2021-11-27T12:44:46.236Z"
   },
   {
    "duration": 23,
    "start_time": "2021-11-27T12:44:46.287Z"
   },
   {
    "duration": 13,
    "start_time": "2021-11-27T12:44:46.312Z"
   },
   {
    "duration": 19,
    "start_time": "2021-11-27T12:44:46.327Z"
   },
   {
    "duration": 33,
    "start_time": "2021-11-27T12:44:46.349Z"
   },
   {
    "duration": 6,
    "start_time": "2021-11-27T12:44:46.384Z"
   },
   {
    "duration": 7,
    "start_time": "2021-11-27T12:44:46.392Z"
   },
   {
    "duration": 11,
    "start_time": "2021-11-27T12:44:46.402Z"
   },
   {
    "duration": 7,
    "start_time": "2021-11-27T12:44:46.415Z"
   },
   {
    "duration": 9,
    "start_time": "2021-11-27T12:44:46.424Z"
   },
   {
    "duration": 55,
    "start_time": "2021-11-27T12:44:46.435Z"
   },
   {
    "duration": 26,
    "start_time": "2021-11-27T12:44:46.493Z"
   },
   {
    "duration": 14,
    "start_time": "2021-11-27T12:44:46.521Z"
   },
   {
    "duration": 9,
    "start_time": "2021-11-27T12:44:46.538Z"
   },
   {
    "duration": 37,
    "start_time": "2021-11-27T12:44:46.550Z"
   },
   {
    "duration": 11,
    "start_time": "2021-11-27T12:44:46.589Z"
   },
   {
    "duration": 13,
    "start_time": "2021-11-27T12:44:46.603Z"
   },
   {
    "duration": 18,
    "start_time": "2021-11-27T12:44:46.618Z"
   },
   {
    "duration": 47,
    "start_time": "2021-11-27T12:44:46.639Z"
   },
   {
    "duration": 9,
    "start_time": "2021-11-27T12:44:46.689Z"
   },
   {
    "duration": 17,
    "start_time": "2021-11-27T12:44:46.701Z"
   },
   {
    "duration": 8,
    "start_time": "2021-11-27T12:44:46.721Z"
   },
   {
    "duration": 5,
    "start_time": "2021-11-27T12:44:46.731Z"
   },
   {
    "duration": 55,
    "start_time": "2021-11-27T12:44:46.739Z"
   },
   {
    "duration": 20,
    "start_time": "2021-11-27T12:44:46.797Z"
   },
   {
    "duration": 9,
    "start_time": "2021-11-27T12:44:46.820Z"
   },
   {
    "duration": 11,
    "start_time": "2021-11-27T12:44:46.831Z"
   },
   {
    "duration": 7,
    "start_time": "2021-11-27T12:44:46.883Z"
   },
   {
    "duration": 52,
    "start_time": "2021-11-27T12:44:46.891Z"
   },
   {
    "duration": 7,
    "start_time": "2021-11-27T12:44:46.945Z"
   },
   {
    "duration": 52,
    "start_time": "2021-11-27T12:44:46.954Z"
   },
   {
    "duration": 6,
    "start_time": "2021-11-27T12:44:47.009Z"
   },
   {
    "duration": 30,
    "start_time": "2021-11-27T12:44:47.017Z"
   },
   {
    "duration": 10,
    "start_time": "2021-11-27T12:44:47.050Z"
   },
   {
    "duration": 46,
    "start_time": "2021-11-27T12:44:47.062Z"
   },
   {
    "duration": 4,
    "start_time": "2021-11-27T12:44:47.111Z"
   },
   {
    "duration": 10,
    "start_time": "2021-11-27T12:44:47.117Z"
   },
   {
    "duration": 268,
    "start_time": "2021-11-27T12:44:47.129Z"
   },
   {
    "duration": 5,
    "start_time": "2021-11-27T12:44:47.399Z"
   },
   {
    "duration": 13,
    "start_time": "2021-11-27T12:44:47.406Z"
   },
   {
    "duration": 73,
    "start_time": "2021-11-27T12:44:47.421Z"
   },
   {
    "duration": 253,
    "start_time": "2021-11-27T12:44:47.504Z"
   },
   {
    "duration": 24,
    "start_time": "2021-11-27T12:45:04.289Z"
   },
   {
    "duration": 71,
    "start_time": "2021-11-27T12:45:16.689Z"
   },
   {
    "duration": 451,
    "start_time": "2021-11-27T12:45:31.145Z"
   },
   {
    "duration": 13,
    "start_time": "2021-11-27T12:45:45.329Z"
   },
   {
    "duration": 8,
    "start_time": "2021-11-27T12:45:54.569Z"
   },
   {
    "duration": 10,
    "start_time": "2021-11-27T12:48:49.510Z"
   },
   {
    "duration": 12,
    "start_time": "2021-11-27T12:48:53.908Z"
   },
   {
    "duration": 11,
    "start_time": "2021-11-27T12:49:00.725Z"
   },
   {
    "duration": 5,
    "start_time": "2021-11-27T12:55:13.982Z"
   },
   {
    "duration": 6,
    "start_time": "2021-11-27T12:55:24.877Z"
   },
   {
    "duration": 6,
    "start_time": "2021-11-27T12:55:33.741Z"
   },
   {
    "duration": 13,
    "start_time": "2021-11-27T12:55:56.085Z"
   },
   {
    "duration": 12,
    "start_time": "2021-11-27T12:56:38.767Z"
   },
   {
    "duration": 217,
    "start_time": "2021-11-27T12:56:48.966Z"
   },
   {
    "duration": 95,
    "start_time": "2021-11-27T12:57:45.751Z"
   },
   {
    "duration": 282,
    "start_time": "2021-11-27T12:57:51.631Z"
   },
   {
    "duration": 11,
    "start_time": "2021-11-27T12:58:32.041Z"
   },
   {
    "duration": 351,
    "start_time": "2021-11-27T12:59:03.434Z"
   },
   {
    "duration": 228,
    "start_time": "2021-11-27T12:59:08.809Z"
   },
   {
    "duration": 216,
    "start_time": "2021-11-27T12:59:12.017Z"
   },
   {
    "duration": 7,
    "start_time": "2021-11-27T12:59:48.226Z"
   },
   {
    "duration": 8,
    "start_time": "2021-11-27T12:59:54.227Z"
   },
   {
    "duration": 228,
    "start_time": "2021-11-27T13:00:06.770Z"
   },
   {
    "duration": 6,
    "start_time": "2021-11-27T14:58:37.601Z"
   },
   {
    "duration": 7,
    "start_time": "2021-11-27T14:59:01.561Z"
   },
   {
    "duration": 7,
    "start_time": "2021-11-27T14:59:09.729Z"
   },
   {
    "duration": 272,
    "start_time": "2021-11-27T14:59:35.266Z"
   },
   {
    "duration": 8,
    "start_time": "2021-11-27T15:00:28.147Z"
   },
   {
    "duration": 219,
    "start_time": "2021-11-27T15:14:27.901Z"
   },
   {
    "duration": 350,
    "start_time": "2021-11-27T15:14:55.158Z"
   },
   {
    "duration": 208,
    "start_time": "2021-11-27T15:15:24.462Z"
   },
   {
    "duration": 40,
    "start_time": "2021-11-27T15:16:10.535Z"
   },
   {
    "duration": 203,
    "start_time": "2021-11-27T15:17:33.041Z"
   },
   {
    "duration": 5,
    "start_time": "2021-11-27T15:17:58.729Z"
   },
   {
    "duration": 7,
    "start_time": "2021-11-27T15:18:23.633Z"
   },
   {
    "duration": 222,
    "start_time": "2021-11-27T15:18:54.275Z"
   },
   {
    "duration": 39,
    "start_time": "2021-11-27T15:19:13.475Z"
   },
   {
    "duration": 7,
    "start_time": "2021-11-27T15:19:57.484Z"
   },
   {
    "duration": 920,
    "start_time": "2021-11-27T15:20:22.467Z"
   },
   {
    "duration": 113,
    "start_time": "2021-11-27T15:20:23.389Z"
   },
   {
    "duration": 16,
    "start_time": "2021-11-27T15:20:23.505Z"
   },
   {
    "duration": 10,
    "start_time": "2021-11-27T15:20:23.524Z"
   },
   {
    "duration": 12,
    "start_time": "2021-11-27T15:20:23.537Z"
   },
   {
    "duration": 21,
    "start_time": "2021-11-27T15:20:23.552Z"
   },
   {
    "duration": 9,
    "start_time": "2021-11-27T15:20:23.582Z"
   },
   {
    "duration": 8,
    "start_time": "2021-11-27T15:20:23.594Z"
   },
   {
    "duration": 7,
    "start_time": "2021-11-27T15:20:23.605Z"
   },
   {
    "duration": 15,
    "start_time": "2021-11-27T15:20:23.615Z"
   },
   {
    "duration": 7,
    "start_time": "2021-11-27T15:20:23.633Z"
   },
   {
    "duration": 14,
    "start_time": "2021-11-27T15:20:23.682Z"
   },
   {
    "duration": 21,
    "start_time": "2021-11-27T15:20:23.699Z"
   },
   {
    "duration": 15,
    "start_time": "2021-11-27T15:20:23.722Z"
   },
   {
    "duration": 62,
    "start_time": "2021-11-27T15:20:23.740Z"
   },
   {
    "duration": 6,
    "start_time": "2021-11-27T15:20:23.804Z"
   },
   {
    "duration": 9,
    "start_time": "2021-11-27T15:20:23.813Z"
   },
   {
    "duration": 6,
    "start_time": "2021-11-27T15:20:23.825Z"
   },
   {
    "duration": 52,
    "start_time": "2021-11-27T15:20:23.834Z"
   },
   {
    "duration": 16,
    "start_time": "2021-11-27T15:20:23.889Z"
   },
   {
    "duration": 6,
    "start_time": "2021-11-27T15:20:23.907Z"
   },
   {
    "duration": 15,
    "start_time": "2021-11-27T15:20:23.915Z"
   },
   {
    "duration": 54,
    "start_time": "2021-11-27T15:20:23.937Z"
   },
   {
    "duration": 12,
    "start_time": "2021-11-27T15:20:23.995Z"
   },
   {
    "duration": 7,
    "start_time": "2021-11-27T15:20:24.010Z"
   },
   {
    "duration": 8,
    "start_time": "2021-11-27T15:20:24.019Z"
   },
   {
    "duration": 7,
    "start_time": "2021-11-27T15:20:24.029Z"
   },
   {
    "duration": 48,
    "start_time": "2021-11-27T15:20:24.039Z"
   },
   {
    "duration": 12,
    "start_time": "2021-11-27T15:20:24.089Z"
   },
   {
    "duration": 11,
    "start_time": "2021-11-27T15:20:24.103Z"
   },
   {
    "duration": 7,
    "start_time": "2021-11-27T15:20:24.116Z"
   },
   {
    "duration": 7,
    "start_time": "2021-11-27T15:20:24.126Z"
   },
   {
    "duration": 51,
    "start_time": "2021-11-27T15:20:24.135Z"
   },
   {
    "duration": 7,
    "start_time": "2021-11-27T15:20:24.189Z"
   },
   {
    "duration": 8,
    "start_time": "2021-11-27T15:20:24.198Z"
   },
   {
    "duration": 8,
    "start_time": "2021-11-27T15:20:24.209Z"
   },
   {
    "duration": 24,
    "start_time": "2021-11-27T15:20:24.219Z"
   },
   {
    "duration": 10,
    "start_time": "2021-11-27T15:20:24.282Z"
   },
   {
    "duration": 11,
    "start_time": "2021-11-27T15:20:24.294Z"
   },
   {
    "duration": 11,
    "start_time": "2021-11-27T15:20:24.308Z"
   },
   {
    "duration": 12,
    "start_time": "2021-11-27T15:20:24.321Z"
   },
   {
    "duration": 9,
    "start_time": "2021-11-27T15:20:24.335Z"
   },
   {
    "duration": 37,
    "start_time": "2021-11-27T15:20:24.346Z"
   },
   {
    "duration": 11,
    "start_time": "2021-11-27T15:20:24.386Z"
   },
   {
    "duration": 8,
    "start_time": "2021-11-27T15:20:24.399Z"
   },
   {
    "duration": 14,
    "start_time": "2021-11-27T15:20:24.409Z"
   },
   {
    "duration": 8,
    "start_time": "2021-11-27T15:20:24.426Z"
   },
   {
    "duration": 5,
    "start_time": "2021-11-27T15:20:24.483Z"
   },
   {
    "duration": 17,
    "start_time": "2021-11-27T15:20:24.490Z"
   },
   {
    "duration": 13,
    "start_time": "2021-11-27T15:20:24.509Z"
   },
   {
    "duration": 17,
    "start_time": "2021-11-27T15:20:24.525Z"
   },
   {
    "duration": 38,
    "start_time": "2021-11-27T15:20:24.545Z"
   },
   {
    "duration": 8,
    "start_time": "2021-11-27T15:20:24.586Z"
   },
   {
    "duration": 36,
    "start_time": "2021-11-27T15:20:24.597Z"
   },
   {
    "duration": 7,
    "start_time": "2021-11-27T15:20:24.636Z"
   },
   {
    "duration": 68,
    "start_time": "2021-11-27T15:20:24.646Z"
   },
   {
    "duration": 7,
    "start_time": "2021-11-27T15:20:24.717Z"
   },
   {
    "duration": 8,
    "start_time": "2021-11-27T15:20:24.727Z"
   },
   {
    "duration": 46,
    "start_time": "2021-11-27T15:20:24.737Z"
   },
   {
    "duration": 35,
    "start_time": "2021-11-27T15:20:24.786Z"
   },
   {
    "duration": 5,
    "start_time": "2021-11-27T15:20:24.823Z"
   },
   {
    "duration": 7,
    "start_time": "2021-11-27T15:20:24.831Z"
   },
   {
    "duration": 315,
    "start_time": "2021-11-27T15:20:24.841Z"
   },
   {
    "duration": 4,
    "start_time": "2021-11-27T15:20:25.158Z"
   },
   {
    "duration": 22,
    "start_time": "2021-11-27T15:20:25.165Z"
   },
   {
    "duration": 17,
    "start_time": "2021-11-27T15:20:25.191Z"
   },
   {
    "duration": 7,
    "start_time": "2021-11-27T15:20:25.210Z"
   },
   {
    "duration": 7,
    "start_time": "2021-11-27T15:20:25.230Z"
   },
   {
    "duration": 47,
    "start_time": "2021-11-27T15:20:25.241Z"
   },
   {
    "duration": 11,
    "start_time": "2021-11-27T15:20:25.290Z"
   },
   {
    "duration": 323,
    "start_time": "2021-11-27T15:20:25.303Z"
   },
   {
    "duration": 7,
    "start_time": "2021-11-27T15:20:25.629Z"
   },
   {
    "duration": 326,
    "start_time": "2021-11-27T15:20:25.638Z"
   },
   {
    "duration": 405,
    "start_time": "2021-11-27T15:20:25.967Z"
   },
   {
    "duration": 6,
    "start_time": "2021-11-27T15:20:26.383Z"
   },
   {
    "duration": 7,
    "start_time": "2021-11-27T15:20:26.392Z"
   },
   {
    "duration": 12,
    "start_time": "2021-11-27T15:20:26.402Z"
   },
   {
    "duration": 319,
    "start_time": "2021-11-27T15:20:26.417Z"
   },
   {
    "duration": 51,
    "start_time": "2021-11-27T15:20:26.739Z"
   },
   {
    "duration": 6,
    "start_time": "2021-11-27T15:20:26.792Z"
   },
   {
    "duration": 287,
    "start_time": "2021-11-27T15:20:26.800Z"
   },
   {
    "duration": 2,
    "start_time": "2021-11-27T15:20:27.090Z"
   },
   {
    "duration": 8,
    "start_time": "2021-11-27T15:20:27.094Z"
   },
   {
    "duration": 6,
    "start_time": "2021-11-27T15:20:27.104Z"
   },
   {
    "duration": 8,
    "start_time": "2021-11-27T15:20:27.112Z"
   },
   {
    "duration": 5,
    "start_time": "2021-11-27T15:20:39.705Z"
   },
   {
    "duration": 7,
    "start_time": "2021-11-27T15:20:58.281Z"
   },
   {
    "duration": 8,
    "start_time": "2021-11-27T15:21:46.562Z"
   },
   {
    "duration": 6,
    "start_time": "2021-11-27T15:21:54.891Z"
   },
   {
    "duration": 873,
    "start_time": "2021-11-27T15:27:42.605Z"
   },
   {
    "duration": 117,
    "start_time": "2021-11-27T15:27:43.482Z"
   },
   {
    "duration": 16,
    "start_time": "2021-11-27T15:27:43.605Z"
   },
   {
    "duration": 10,
    "start_time": "2021-11-27T15:27:43.624Z"
   },
   {
    "duration": 17,
    "start_time": "2021-11-27T15:27:43.637Z"
   },
   {
    "duration": 33,
    "start_time": "2021-11-27T15:27:43.657Z"
   },
   {
    "duration": 9,
    "start_time": "2021-11-27T15:27:43.694Z"
   },
   {
    "duration": 12,
    "start_time": "2021-11-27T15:27:43.705Z"
   },
   {
    "duration": 11,
    "start_time": "2021-11-27T15:27:43.720Z"
   },
   {
    "duration": 58,
    "start_time": "2021-11-27T15:27:43.734Z"
   },
   {
    "duration": 9,
    "start_time": "2021-11-27T15:27:43.795Z"
   },
   {
    "duration": 7,
    "start_time": "2021-11-27T15:27:43.807Z"
   },
   {
    "duration": 23,
    "start_time": "2021-11-27T15:27:43.817Z"
   },
   {
    "duration": 46,
    "start_time": "2021-11-27T15:27:43.842Z"
   },
   {
    "duration": 36,
    "start_time": "2021-11-27T15:27:43.891Z"
   },
   {
    "duration": 7,
    "start_time": "2021-11-27T15:27:43.930Z"
   },
   {
    "duration": 46,
    "start_time": "2021-11-27T15:27:43.939Z"
   },
   {
    "duration": 6,
    "start_time": "2021-11-27T15:27:43.988Z"
   },
   {
    "duration": 9,
    "start_time": "2021-11-27T15:27:43.996Z"
   },
   {
    "duration": 16,
    "start_time": "2021-11-27T15:27:44.007Z"
   },
   {
    "duration": 6,
    "start_time": "2021-11-27T15:27:44.025Z"
   },
   {
    "duration": 46,
    "start_time": "2021-11-27T15:27:44.037Z"
   },
   {
    "duration": 20,
    "start_time": "2021-11-27T15:27:44.087Z"
   },
   {
    "duration": 13,
    "start_time": "2021-11-27T15:27:44.109Z"
   },
   {
    "duration": 7,
    "start_time": "2021-11-27T15:27:44.124Z"
   },
   {
    "duration": 9,
    "start_time": "2021-11-27T15:27:44.133Z"
   },
   {
    "duration": 39,
    "start_time": "2021-11-27T15:27:44.144Z"
   },
   {
    "duration": 8,
    "start_time": "2021-11-27T15:27:44.186Z"
   },
   {
    "duration": 13,
    "start_time": "2021-11-27T15:27:44.196Z"
   },
   {
    "duration": 13,
    "start_time": "2021-11-27T15:27:44.212Z"
   },
   {
    "duration": 7,
    "start_time": "2021-11-27T15:27:44.227Z"
   },
   {
    "duration": 49,
    "start_time": "2021-11-27T15:27:44.237Z"
   },
   {
    "duration": 13,
    "start_time": "2021-11-27T15:27:44.288Z"
   },
   {
    "duration": 11,
    "start_time": "2021-11-27T15:27:44.303Z"
   },
   {
    "duration": 7,
    "start_time": "2021-11-27T15:27:44.316Z"
   },
   {
    "duration": 11,
    "start_time": "2021-11-27T15:27:44.325Z"
   },
   {
    "duration": 51,
    "start_time": "2021-11-27T15:27:44.339Z"
   },
   {
    "duration": 18,
    "start_time": "2021-11-27T15:27:44.393Z"
   },
   {
    "duration": 10,
    "start_time": "2021-11-27T15:27:44.414Z"
   },
   {
    "duration": 9,
    "start_time": "2021-11-27T15:27:44.426Z"
   },
   {
    "duration": 18,
    "start_time": "2021-11-27T15:27:44.437Z"
   },
   {
    "duration": 28,
    "start_time": "2021-11-27T15:27:44.457Z"
   },
   {
    "duration": 16,
    "start_time": "2021-11-27T15:27:44.487Z"
   },
   {
    "duration": 15,
    "start_time": "2021-11-27T15:27:44.506Z"
   },
   {
    "duration": 23,
    "start_time": "2021-11-27T15:27:44.523Z"
   },
   {
    "duration": 16,
    "start_time": "2021-11-27T15:27:44.548Z"
   },
   {
    "duration": 20,
    "start_time": "2021-11-27T15:27:44.567Z"
   },
   {
    "duration": 5,
    "start_time": "2021-11-27T15:27:44.590Z"
   },
   {
    "duration": 22,
    "start_time": "2021-11-27T15:27:44.598Z"
   },
   {
    "duration": 22,
    "start_time": "2021-11-27T15:27:44.623Z"
   },
   {
    "duration": 9,
    "start_time": "2021-11-27T15:27:44.681Z"
   },
   {
    "duration": 13,
    "start_time": "2021-11-27T15:27:44.693Z"
   },
   {
    "duration": 9,
    "start_time": "2021-11-27T15:27:44.709Z"
   },
   {
    "duration": 83,
    "start_time": "2021-11-27T15:27:44.721Z"
   },
   {
    "duration": 7,
    "start_time": "2021-11-27T15:27:44.807Z"
   },
   {
    "duration": 75,
    "start_time": "2021-11-27T15:27:44.817Z"
   },
   {
    "duration": 7,
    "start_time": "2021-11-27T15:27:44.895Z"
   },
   {
    "duration": 12,
    "start_time": "2021-11-27T15:27:44.905Z"
   },
   {
    "duration": 10,
    "start_time": "2021-11-27T15:27:44.920Z"
   },
   {
    "duration": 83,
    "start_time": "2021-11-27T15:27:44.933Z"
   },
   {
    "duration": 5,
    "start_time": "2021-11-27T15:27:45.019Z"
   },
   {
    "duration": 9,
    "start_time": "2021-11-27T15:27:45.027Z"
   },
   {
    "duration": 255,
    "start_time": "2021-11-27T15:27:45.039Z"
   },
   {
    "duration": 6,
    "start_time": "2021-11-27T15:27:45.297Z"
   },
   {
    "duration": 9,
    "start_time": "2021-11-27T15:27:45.306Z"
   },
   {
    "duration": 12,
    "start_time": "2021-11-27T15:27:45.318Z"
   },
   {
    "duration": 268,
    "start_time": "2021-11-27T15:27:45.338Z"
   },
   {
    "duration": 238,
    "start_time": "2021-11-27T15:27:45.609Z"
   },
   {
    "duration": 7,
    "start_time": "2021-11-27T15:27:45.850Z"
   },
   {
    "duration": 28,
    "start_time": "2021-11-27T15:27:45.859Z"
   },
   {
    "duration": 8,
    "start_time": "2021-11-27T15:27:45.890Z"
   },
   {
    "duration": 267,
    "start_time": "2021-11-27T15:27:45.900Z"
   },
   {
    "duration": 47,
    "start_time": "2021-11-27T15:27:46.169Z"
   },
   {
    "duration": 6,
    "start_time": "2021-11-27T15:27:46.219Z"
   },
   {
    "duration": 229,
    "start_time": "2021-11-27T15:27:46.227Z"
   },
   {
    "duration": 3,
    "start_time": "2021-11-27T15:27:46.458Z"
   },
   {
    "duration": 6,
    "start_time": "2021-11-27T15:27:46.464Z"
   },
   {
    "duration": 9,
    "start_time": "2021-11-27T15:27:46.473Z"
   },
   {
    "duration": 5,
    "start_time": "2021-11-27T15:27:46.485Z"
   },
   {
    "duration": 390,
    "start_time": "2021-11-27T15:28:17.102Z"
   },
   {
    "duration": 225,
    "start_time": "2021-11-27T15:28:23.725Z"
   },
   {
    "duration": 1028,
    "start_time": "2021-11-27T15:30:22.015Z"
   },
   {
    "duration": 107,
    "start_time": "2021-11-27T15:30:23.045Z"
   },
   {
    "duration": 14,
    "start_time": "2021-11-27T15:30:23.155Z"
   },
   {
    "duration": 10,
    "start_time": "2021-11-27T15:30:23.172Z"
   },
   {
    "duration": 11,
    "start_time": "2021-11-27T15:30:23.185Z"
   },
   {
    "duration": 19,
    "start_time": "2021-11-27T15:30:23.198Z"
   },
   {
    "duration": 7,
    "start_time": "2021-11-27T15:30:23.219Z"
   },
   {
    "duration": 6,
    "start_time": "2021-11-27T15:30:23.230Z"
   },
   {
    "duration": 44,
    "start_time": "2021-11-27T15:30:23.239Z"
   },
   {
    "duration": 16,
    "start_time": "2021-11-27T15:30:23.286Z"
   },
   {
    "duration": 12,
    "start_time": "2021-11-27T15:30:23.304Z"
   },
   {
    "duration": 10,
    "start_time": "2021-11-27T15:30:23.319Z"
   },
   {
    "duration": 53,
    "start_time": "2021-11-27T15:30:23.332Z"
   },
   {
    "duration": 18,
    "start_time": "2021-11-27T15:30:23.387Z"
   },
   {
    "duration": 36,
    "start_time": "2021-11-27T15:30:23.407Z"
   },
   {
    "duration": 5,
    "start_time": "2021-11-27T15:30:23.445Z"
   },
   {
    "duration": 8,
    "start_time": "2021-11-27T15:30:23.482Z"
   },
   {
    "duration": 9,
    "start_time": "2021-11-27T15:30:23.492Z"
   },
   {
    "duration": 12,
    "start_time": "2021-11-27T15:30:23.504Z"
   },
   {
    "duration": 18,
    "start_time": "2021-11-27T15:30:23.518Z"
   },
   {
    "duration": 7,
    "start_time": "2021-11-27T15:30:23.539Z"
   },
   {
    "duration": 16,
    "start_time": "2021-11-27T15:30:23.584Z"
   },
   {
    "duration": 18,
    "start_time": "2021-11-27T15:30:23.607Z"
   },
   {
    "duration": 11,
    "start_time": "2021-11-27T15:30:23.629Z"
   },
   {
    "duration": 42,
    "start_time": "2021-11-27T15:30:23.642Z"
   },
   {
    "duration": 7,
    "start_time": "2021-11-27T15:30:23.687Z"
   },
   {
    "duration": 11,
    "start_time": "2021-11-27T15:30:23.696Z"
   },
   {
    "duration": 12,
    "start_time": "2021-11-27T15:30:23.710Z"
   },
   {
    "duration": 10,
    "start_time": "2021-11-27T15:30:23.725Z"
   },
   {
    "duration": 45,
    "start_time": "2021-11-27T15:30:23.738Z"
   },
   {
    "duration": 6,
    "start_time": "2021-11-27T15:30:23.786Z"
   },
   {
    "duration": 10,
    "start_time": "2021-11-27T15:30:23.795Z"
   },
   {
    "duration": 10,
    "start_time": "2021-11-27T15:30:23.807Z"
   },
   {
    "duration": 6,
    "start_time": "2021-11-27T15:30:23.820Z"
   },
   {
    "duration": 6,
    "start_time": "2021-11-27T15:30:23.829Z"
   },
   {
    "duration": 7,
    "start_time": "2021-11-27T15:30:23.883Z"
   },
   {
    "duration": 28,
    "start_time": "2021-11-27T15:30:23.892Z"
   },
   {
    "duration": 18,
    "start_time": "2021-11-27T15:30:23.923Z"
   },
   {
    "duration": 40,
    "start_time": "2021-11-27T15:30:23.944Z"
   },
   {
    "duration": 10,
    "start_time": "2021-11-27T15:30:23.987Z"
   },
   {
    "duration": 13,
    "start_time": "2021-11-27T15:30:24.000Z"
   },
   {
    "duration": 10,
    "start_time": "2021-11-27T15:30:24.016Z"
   },
   {
    "duration": 8,
    "start_time": "2021-11-27T15:30:24.028Z"
   },
   {
    "duration": 45,
    "start_time": "2021-11-27T15:30:24.038Z"
   },
   {
    "duration": 11,
    "start_time": "2021-11-27T15:30:24.086Z"
   },
   {
    "duration": 20,
    "start_time": "2021-11-27T15:30:24.099Z"
   },
   {
    "duration": 9,
    "start_time": "2021-11-27T15:30:24.122Z"
   },
   {
    "duration": 4,
    "start_time": "2021-11-27T15:30:24.133Z"
   },
   {
    "duration": 50,
    "start_time": "2021-11-27T15:30:24.140Z"
   },
   {
    "duration": 13,
    "start_time": "2021-11-27T15:30:24.193Z"
   },
   {
    "duration": 8,
    "start_time": "2021-11-27T15:30:24.209Z"
   },
   {
    "duration": 14,
    "start_time": "2021-11-27T15:30:24.219Z"
   },
   {
    "duration": 8,
    "start_time": "2021-11-27T15:30:24.236Z"
   },
   {
    "duration": 67,
    "start_time": "2021-11-27T15:30:24.246Z"
   },
   {
    "duration": 6,
    "start_time": "2021-11-27T15:30:24.316Z"
   },
   {
    "duration": 64,
    "start_time": "2021-11-27T15:30:24.324Z"
   },
   {
    "duration": 6,
    "start_time": "2021-11-27T15:30:24.390Z"
   },
   {
    "duration": 7,
    "start_time": "2021-11-27T15:30:24.400Z"
   },
   {
    "duration": 14,
    "start_time": "2021-11-27T15:30:24.410Z"
   },
   {
    "duration": 63,
    "start_time": "2021-11-27T15:30:24.427Z"
   },
   {
    "duration": 4,
    "start_time": "2021-11-27T15:30:24.493Z"
   },
   {
    "duration": 16,
    "start_time": "2021-11-27T15:30:24.499Z"
   },
   {
    "duration": 243,
    "start_time": "2021-11-27T15:30:24.517Z"
   },
   {
    "duration": 5,
    "start_time": "2021-11-27T15:30:24.762Z"
   },
   {
    "duration": 16,
    "start_time": "2021-11-27T15:30:24.769Z"
   },
   {
    "duration": 10,
    "start_time": "2021-11-27T15:30:24.787Z"
   },
   {
    "duration": 240,
    "start_time": "2021-11-27T15:30:24.800Z"
   },
   {
    "duration": 259,
    "start_time": "2021-11-27T15:30:25.048Z"
   },
   {
    "duration": 7,
    "start_time": "2021-11-27T15:30:25.310Z"
   },
   {
    "duration": 280,
    "start_time": "2021-11-27T15:30:25.319Z"
   },
   {
    "duration": 39,
    "start_time": "2021-11-27T15:30:25.602Z"
   },
   {
    "duration": 6,
    "start_time": "2021-11-27T15:30:25.643Z"
   },
   {
    "duration": 233,
    "start_time": "2021-11-27T15:30:25.651Z"
   },
   {
    "duration": 3,
    "start_time": "2021-11-27T15:30:25.886Z"
   },
   {
    "duration": 8,
    "start_time": "2021-11-27T15:30:25.891Z"
   },
   {
    "duration": 13,
    "start_time": "2021-11-27T15:30:25.902Z"
   },
   {
    "duration": 6,
    "start_time": "2021-11-27T15:30:25.917Z"
   },
   {
    "duration": 6,
    "start_time": "2021-11-27T15:31:05.121Z"
   },
   {
    "duration": 214,
    "start_time": "2021-11-27T15:31:11.001Z"
   },
   {
    "duration": 38,
    "start_time": "2021-11-27T15:31:17.857Z"
   },
   {
    "duration": 9,
    "start_time": "2021-11-27T15:35:27.967Z"
   },
   {
    "duration": 393,
    "start_time": "2021-11-27T15:35:43.815Z"
   },
   {
    "duration": 269,
    "start_time": "2021-11-27T15:35:46.422Z"
   },
   {
    "duration": 297,
    "start_time": "2021-11-27T15:36:41.056Z"
   },
   {
    "duration": 8949,
    "start_time": "2021-11-27T15:36:51.671Z"
   },
   {
    "duration": 607,
    "start_time": "2021-11-27T15:37:24.640Z"
   },
   {
    "duration": 298,
    "start_time": "2021-11-27T15:37:29.272Z"
   },
   {
    "duration": 315,
    "start_time": "2021-11-27T15:37:51.729Z"
   },
   {
    "duration": 293,
    "start_time": "2021-11-27T15:40:11.948Z"
   },
   {
    "duration": 108,
    "start_time": "2021-11-27T15:40:21.700Z"
   },
   {
    "duration": 7,
    "start_time": "2021-11-27T15:40:24.908Z"
   },
   {
    "duration": 6,
    "start_time": "2021-11-27T15:42:10.214Z"
   },
   {
    "duration": 361,
    "start_time": "2021-11-27T15:43:05.352Z"
   },
   {
    "duration": 622,
    "start_time": "2021-11-27T15:43:16.247Z"
   },
   {
    "duration": 8,
    "start_time": "2021-11-27T15:45:37.779Z"
   },
   {
    "duration": 7404,
    "start_time": "2021-11-27T15:45:57.451Z"
   },
   {
    "duration": 8,
    "start_time": "2021-11-27T15:46:31.796Z"
   },
   {
    "duration": 627,
    "start_time": "2021-11-27T15:47:22.365Z"
   },
   {
    "duration": 598,
    "start_time": "2021-11-27T15:47:51.894Z"
   },
   {
    "duration": 595,
    "start_time": "2021-11-27T15:48:10.318Z"
   },
   {
    "duration": 5,
    "start_time": "2021-11-27T15:50:52.857Z"
   },
   {
    "duration": 10,
    "start_time": "2021-11-27T15:51:39.531Z"
   },
   {
    "duration": 7,
    "start_time": "2021-11-27T15:51:46.962Z"
   },
   {
    "duration": 4,
    "start_time": "2021-11-27T15:52:58.203Z"
   },
   {
    "duration": 14,
    "start_time": "2021-11-27T15:53:46.453Z"
   },
   {
    "duration": 15,
    "start_time": "2021-11-27T15:54:05.285Z"
   },
   {
    "duration": 14,
    "start_time": "2021-11-27T15:54:20.310Z"
   },
   {
    "duration": 9,
    "start_time": "2021-11-27T15:54:27.991Z"
   },
   {
    "duration": 10,
    "start_time": "2021-11-27T16:20:02.503Z"
   },
   {
    "duration": 23,
    "start_time": "2021-11-27T16:21:01.928Z"
   },
   {
    "duration": 44,
    "start_time": "2021-11-27T16:23:44.124Z"
   },
   {
    "duration": 34,
    "start_time": "2021-11-27T16:23:52.905Z"
   },
   {
    "duration": 15,
    "start_time": "2021-11-27T16:24:05.188Z"
   },
   {
    "duration": 52,
    "start_time": "2021-11-27T16:26:50.503Z"
   },
   {
    "duration": 15,
    "start_time": "2021-11-27T16:26:55.109Z"
   },
   {
    "duration": 13,
    "start_time": "2021-11-27T16:27:16.063Z"
   },
   {
    "duration": 27,
    "start_time": "2021-11-27T16:27:24.615Z"
   },
   {
    "duration": 10,
    "start_time": "2021-11-27T16:28:13.073Z"
   },
   {
    "duration": 32,
    "start_time": "2021-11-27T16:28:30.697Z"
   },
   {
    "duration": 32,
    "start_time": "2021-11-27T17:00:57.146Z"
   },
   {
    "duration": 10,
    "start_time": "2021-11-27T17:01:20.856Z"
   },
   {
    "duration": 14,
    "start_time": "2021-11-27T17:02:22.939Z"
   },
   {
    "duration": 5,
    "start_time": "2021-11-27T17:06:20.809Z"
   },
   {
    "duration": 390,
    "start_time": "2021-11-27T17:06:37.617Z"
   },
   {
    "duration": 36,
    "start_time": "2021-11-27T17:06:57.033Z"
   },
   {
    "duration": 4,
    "start_time": "2021-11-27T17:08:03.234Z"
   },
   {
    "duration": 5,
    "start_time": "2021-11-27T17:08:16.211Z"
   },
   {
    "duration": 9655,
    "start_time": "2021-11-27T17:08:52.468Z"
   },
   {
    "duration": 555,
    "start_time": "2021-11-27T17:09:09.299Z"
   },
   {
    "duration": 4,
    "start_time": "2021-11-27T17:09:20.796Z"
   },
   {
    "duration": 5,
    "start_time": "2021-11-27T17:09:21.612Z"
   },
   {
    "duration": 7,
    "start_time": "2021-11-27T17:13:01.721Z"
   },
   {
    "duration": 4,
    "start_time": "2021-11-27T17:13:36.801Z"
   },
   {
    "duration": 7,
    "start_time": "2021-11-27T17:13:37.296Z"
   },
   {
    "duration": 6,
    "start_time": "2021-11-27T17:13:38.977Z"
   },
   {
    "duration": 5,
    "start_time": "2021-11-27T17:14:11.898Z"
   },
   {
    "duration": 7,
    "start_time": "2021-11-27T17:14:49.923Z"
   },
   {
    "duration": 7,
    "start_time": "2021-11-27T17:14:56.362Z"
   },
   {
    "duration": 283,
    "start_time": "2021-11-27T17:15:36.939Z"
   },
   {
    "duration": 314,
    "start_time": "2021-11-27T17:15:47.707Z"
   },
   {
    "duration": 460,
    "start_time": "2021-11-27T17:16:02.180Z"
   },
   {
    "duration": 9,
    "start_time": "2021-11-27T17:16:04.949Z"
   },
   {
    "duration": 1159,
    "start_time": "2021-11-27T17:16:15.140Z"
   },
   {
    "duration": 933,
    "start_time": "2021-11-27T17:16:25.164Z"
   },
   {
    "duration": 102,
    "start_time": "2021-11-27T17:16:26.100Z"
   },
   {
    "duration": 16,
    "start_time": "2021-11-27T17:16:26.205Z"
   },
   {
    "duration": 7,
    "start_time": "2021-11-27T17:16:26.225Z"
   },
   {
    "duration": 11,
    "start_time": "2021-11-27T17:16:26.235Z"
   },
   {
    "duration": 38,
    "start_time": "2021-11-27T17:16:26.248Z"
   },
   {
    "duration": 14,
    "start_time": "2021-11-27T17:16:26.289Z"
   },
   {
    "duration": 14,
    "start_time": "2021-11-27T17:16:26.308Z"
   },
   {
    "duration": 6,
    "start_time": "2021-11-27T17:16:26.325Z"
   },
   {
    "duration": 17,
    "start_time": "2021-11-27T17:16:26.333Z"
   },
   {
    "duration": 39,
    "start_time": "2021-11-27T17:16:26.352Z"
   },
   {
    "duration": 11,
    "start_time": "2021-11-27T17:16:26.394Z"
   },
   {
    "duration": 25,
    "start_time": "2021-11-27T17:16:26.407Z"
   },
   {
    "duration": 16,
    "start_time": "2021-11-27T17:16:26.434Z"
   },
   {
    "duration": 55,
    "start_time": "2021-11-27T17:16:26.481Z"
   },
   {
    "duration": 7,
    "start_time": "2021-11-27T17:16:26.540Z"
   },
   {
    "duration": 33,
    "start_time": "2021-11-27T17:16:26.549Z"
   },
   {
    "duration": 7,
    "start_time": "2021-11-27T17:16:26.585Z"
   },
   {
    "duration": 10,
    "start_time": "2021-11-27T17:16:26.595Z"
   },
   {
    "duration": 17,
    "start_time": "2021-11-27T17:16:26.608Z"
   },
   {
    "duration": 7,
    "start_time": "2021-11-27T17:16:26.627Z"
   },
   {
    "duration": 50,
    "start_time": "2021-11-27T17:16:26.637Z"
   },
   {
    "duration": 28,
    "start_time": "2021-11-27T17:16:26.693Z"
   },
   {
    "duration": 9,
    "start_time": "2021-11-27T17:16:26.725Z"
   },
   {
    "duration": 7,
    "start_time": "2021-11-27T17:16:26.736Z"
   },
   {
    "duration": 9,
    "start_time": "2021-11-27T17:16:26.782Z"
   },
   {
    "duration": 10,
    "start_time": "2021-11-27T17:16:26.794Z"
   },
   {
    "duration": 10,
    "start_time": "2021-11-27T17:16:26.807Z"
   },
   {
    "duration": 15,
    "start_time": "2021-11-27T17:16:26.820Z"
   },
   {
    "duration": 56,
    "start_time": "2021-11-27T17:16:26.837Z"
   },
   {
    "duration": 18,
    "start_time": "2021-11-27T17:16:26.896Z"
   },
   {
    "duration": 27,
    "start_time": "2021-11-27T17:16:26.917Z"
   },
   {
    "duration": 12,
    "start_time": "2021-11-27T17:16:26.947Z"
   },
   {
    "duration": 6,
    "start_time": "2021-11-27T17:16:26.963Z"
   },
   {
    "duration": 3,
    "start_time": "2021-11-27T17:16:26.983Z"
   },
   {
    "duration": 8,
    "start_time": "2021-11-27T17:16:26.989Z"
   },
   {
    "duration": 25,
    "start_time": "2021-11-27T17:16:27.000Z"
   },
   {
    "duration": 58,
    "start_time": "2021-11-27T17:16:27.027Z"
   },
   {
    "duration": 6,
    "start_time": "2021-11-27T17:16:27.088Z"
   },
   {
    "duration": 8,
    "start_time": "2021-11-27T17:16:27.096Z"
   },
   {
    "duration": 19,
    "start_time": "2021-11-27T17:16:27.107Z"
   },
   {
    "duration": 8,
    "start_time": "2021-11-27T17:16:27.129Z"
   },
   {
    "duration": 54,
    "start_time": "2021-11-27T17:16:27.140Z"
   },
   {
    "duration": 19,
    "start_time": "2021-11-27T17:16:27.197Z"
   },
   {
    "duration": 21,
    "start_time": "2021-11-27T17:16:27.219Z"
   },
   {
    "duration": 18,
    "start_time": "2021-11-27T17:16:27.243Z"
   },
   {
    "duration": 26,
    "start_time": "2021-11-27T17:16:27.264Z"
   },
   {
    "duration": 13,
    "start_time": "2021-11-27T17:16:27.294Z"
   },
   {
    "duration": 18,
    "start_time": "2021-11-27T17:16:27.310Z"
   },
   {
    "duration": 14,
    "start_time": "2021-11-27T17:16:27.331Z"
   },
   {
    "duration": 35,
    "start_time": "2021-11-27T17:16:27.348Z"
   },
   {
    "duration": 12,
    "start_time": "2021-11-27T17:16:27.386Z"
   },
   {
    "duration": 9,
    "start_time": "2021-11-27T17:16:27.401Z"
   },
   {
    "duration": 36,
    "start_time": "2021-11-27T17:16:27.412Z"
   },
   {
    "duration": 44,
    "start_time": "2021-11-27T17:16:27.451Z"
   },
   {
    "duration": 46,
    "start_time": "2021-11-27T17:16:27.498Z"
   },
   {
    "duration": 7,
    "start_time": "2021-11-27T17:16:27.547Z"
   },
   {
    "duration": 34,
    "start_time": "2021-11-27T17:16:27.556Z"
   },
   {
    "duration": 11,
    "start_time": "2021-11-27T17:16:27.593Z"
   },
   {
    "duration": 39,
    "start_time": "2021-11-27T17:16:27.606Z"
   },
   {
    "duration": 40,
    "start_time": "2021-11-27T17:16:27.648Z"
   },
   {
    "duration": 8,
    "start_time": "2021-11-27T17:16:27.692Z"
   },
   {
    "duration": 7,
    "start_time": "2021-11-27T17:16:27.703Z"
   },
   {
    "duration": 8,
    "start_time": "2021-11-27T17:16:27.713Z"
   },
   {
    "duration": 336,
    "start_time": "2021-11-27T17:16:27.724Z"
   },
   {
    "duration": 40,
    "start_time": "2021-11-27T17:16:28.063Z"
   },
   {
    "duration": 36,
    "start_time": "2021-11-27T17:16:28.106Z"
   },
   {
    "duration": 33,
    "start_time": "2021-11-27T17:16:28.150Z"
   },
   {
    "duration": 10,
    "start_time": "2021-11-27T17:16:28.187Z"
   },
   {
    "duration": 351,
    "start_time": "2021-11-27T17:16:28.200Z"
   },
   {
    "duration": 5,
    "start_time": "2021-11-27T17:16:28.553Z"
   },
   {
    "duration": 25,
    "start_time": "2021-11-27T17:16:28.560Z"
   },
   {
    "duration": 12,
    "start_time": "2021-11-27T17:16:28.589Z"
   },
   {
    "duration": 240,
    "start_time": "2021-11-27T17:16:28.604Z"
   },
   {
    "duration": 257,
    "start_time": "2021-11-27T17:16:28.847Z"
   },
   {
    "duration": 6,
    "start_time": "2021-11-27T17:16:29.107Z"
   },
   {
    "duration": 389,
    "start_time": "2021-11-27T17:16:29.115Z"
   },
   {
    "duration": 236,
    "start_time": "2021-11-27T17:16:29.507Z"
   },
   {
    "duration": 7,
    "start_time": "2021-11-27T17:16:29.747Z"
   },
   {
    "duration": 314,
    "start_time": "2021-11-27T17:16:29.757Z"
   },
   {
    "duration": 8,
    "start_time": "2021-11-27T17:16:30.074Z"
   },
   {
    "duration": 19,
    "start_time": "2021-11-27T17:16:30.086Z"
   },
   {
    "duration": 16,
    "start_time": "2021-11-27T17:16:30.108Z"
   },
   {
    "duration": 20,
    "start_time": "2021-11-27T17:16:30.127Z"
   },
   {
    "duration": 19,
    "start_time": "2021-11-27T17:16:51.968Z"
   },
   {
    "duration": 11,
    "start_time": "2021-11-27T17:16:56.360Z"
   },
   {
    "duration": 10,
    "start_time": "2021-11-27T17:17:06.360Z"
   },
   {
    "duration": 15,
    "start_time": "2021-11-27T17:17:12.360Z"
   },
   {
    "duration": 40,
    "start_time": "2021-11-27T17:18:07.242Z"
   },
   {
    "duration": 4,
    "start_time": "2021-11-27T17:18:21.762Z"
   },
   {
    "duration": 6,
    "start_time": "2021-11-27T17:18:22.442Z"
   },
   {
    "duration": 221,
    "start_time": "2021-11-27T17:18:25.617Z"
   },
   {
    "duration": 5,
    "start_time": "2021-11-27T17:18:27.145Z"
   },
   {
    "duration": 8,
    "start_time": "2021-11-27T17:18:30.009Z"
   },
   {
    "duration": 10,
    "start_time": "2021-11-27T17:18:31.129Z"
   },
   {
    "duration": 341,
    "start_time": "2021-11-27T17:18:31.674Z"
   },
   {
    "duration": 229,
    "start_time": "2021-11-27T17:18:36.561Z"
   },
   {
    "duration": 6,
    "start_time": "2021-11-27T17:18:41.594Z"
   },
   {
    "duration": 212,
    "start_time": "2021-11-27T17:18:42.491Z"
   },
   {
    "duration": 194,
    "start_time": "2021-11-27T17:18:45.274Z"
   },
   {
    "duration": 6,
    "start_time": "2021-11-27T17:18:48.762Z"
   },
   {
    "duration": 219,
    "start_time": "2021-11-27T17:18:49.394Z"
   },
   {
    "duration": 4,
    "start_time": "2021-11-27T17:18:54.658Z"
   },
   {
    "duration": 13,
    "start_time": "2021-11-27T17:18:55.786Z"
   },
   {
    "duration": 8,
    "start_time": "2021-11-27T17:18:57.603Z"
   },
   {
    "duration": 20,
    "start_time": "2021-11-27T17:26:59.950Z"
   },
   {
    "duration": 7,
    "start_time": "2021-11-27T17:27:10.534Z"
   },
   {
    "duration": 6,
    "start_time": "2021-11-27T17:27:35.375Z"
   },
   {
    "duration": 5,
    "start_time": "2021-11-27T17:28:00.831Z"
   },
   {
    "duration": 5,
    "start_time": "2021-11-27T17:28:24.560Z"
   },
   {
    "duration": 5,
    "start_time": "2021-11-27T17:28:25.121Z"
   },
   {
    "duration": 725,
    "start_time": "2021-11-27T17:30:18.442Z"
   },
   {
    "duration": 5,
    "start_time": "2021-11-27T17:31:18.803Z"
   },
   {
    "duration": 653,
    "start_time": "2021-11-27T17:31:25.044Z"
   },
   {
    "duration": 6,
    "start_time": "2021-11-27T17:31:53.429Z"
   },
   {
    "duration": 917,
    "start_time": "2021-11-27T17:31:53.988Z"
   },
   {
    "duration": 5,
    "start_time": "2021-11-27T17:32:31.133Z"
   },
   {
    "duration": 629,
    "start_time": "2021-11-27T17:32:31.757Z"
   },
   {
    "duration": 3,
    "start_time": "2021-11-27T17:33:26.566Z"
   },
   {
    "duration": 6,
    "start_time": "2021-11-27T17:33:46.326Z"
   },
   {
    "duration": 5,
    "start_time": "2021-11-27T17:34:38.935Z"
   },
   {
    "duration": 4,
    "start_time": "2021-11-27T17:34:40.064Z"
   },
   {
    "duration": 580,
    "start_time": "2021-11-27T17:34:40.343Z"
   },
   {
    "duration": 6,
    "start_time": "2021-11-27T17:34:56.399Z"
   },
   {
    "duration": 4,
    "start_time": "2021-11-27T17:34:57.375Z"
   },
   {
    "duration": 722,
    "start_time": "2021-11-27T17:34:57.712Z"
   },
   {
    "duration": 330,
    "start_time": "2021-11-27T17:35:16.648Z"
   },
   {
    "duration": 6,
    "start_time": "2021-11-27T17:35:25.825Z"
   },
   {
    "duration": 304,
    "start_time": "2021-11-27T17:35:31.105Z"
   },
   {
    "duration": 5,
    "start_time": "2021-11-27T17:35:36.952Z"
   },
   {
    "duration": 831,
    "start_time": "2021-11-27T17:35:42.840Z"
   },
   {
    "duration": 8,
    "start_time": "2021-11-27T17:35:55.281Z"
   },
   {
    "duration": 7,
    "start_time": "2021-11-27T17:36:02.849Z"
   },
   {
    "duration": 5,
    "start_time": "2021-11-27T17:39:29.974Z"
   },
   {
    "duration": 7,
    "start_time": "2021-11-27T17:39:32.989Z"
   },
   {
    "duration": 6,
    "start_time": "2021-11-27T17:39:38.661Z"
   },
   {
    "duration": 615,
    "start_time": "2021-11-27T17:39:56.062Z"
   },
   {
    "duration": 6,
    "start_time": "2021-11-27T17:45:36.853Z"
   },
   {
    "duration": 3,
    "start_time": "2021-11-27T17:45:37.565Z"
   },
   {
    "duration": 5,
    "start_time": "2021-11-27T17:45:38.037Z"
   },
   {
    "duration": 10,
    "start_time": "2021-11-27T17:47:59.512Z"
   },
   {
    "duration": 7,
    "start_time": "2021-11-27T17:49:01.850Z"
   },
   {
    "duration": 6,
    "start_time": "2021-11-27T17:49:09.593Z"
   },
   {
    "duration": 3,
    "start_time": "2021-11-27T17:49:10.306Z"
   },
   {
    "duration": 7,
    "start_time": "2021-11-27T17:49:10.802Z"
   },
   {
    "duration": 596,
    "start_time": "2021-11-27T17:49:11.569Z"
   },
   {
    "duration": 6,
    "start_time": "2021-11-27T17:50:06.091Z"
   },
   {
    "duration": 3,
    "start_time": "2021-11-27T17:50:06.410Z"
   },
   {
    "duration": 7,
    "start_time": "2021-11-27T17:50:06.844Z"
   },
   {
    "duration": 1115,
    "start_time": "2021-11-27T17:50:07.426Z"
   },
   {
    "duration": 5,
    "start_time": "2021-11-27T17:50:09.430Z"
   },
   {
    "duration": 19,
    "start_time": "2021-11-27T17:50:23.763Z"
   },
   {
    "duration": 3,
    "start_time": "2021-11-27T17:50:24.594Z"
   },
   {
    "duration": 7,
    "start_time": "2021-11-27T17:50:24.954Z"
   },
   {
    "duration": 564,
    "start_time": "2021-11-27T17:50:25.491Z"
   },
   {
    "duration": 16,
    "start_time": "2021-11-27T17:50:50.452Z"
   },
   {
    "duration": 7,
    "start_time": "2021-11-27T17:51:02.939Z"
   },
   {
    "duration": 9,
    "start_time": "2021-11-27T17:51:11.915Z"
   },
   {
    "duration": 7,
    "start_time": "2021-11-27T17:51:16.132Z"
   },
   {
    "duration": 5,
    "start_time": "2021-11-27T17:51:53.525Z"
   },
   {
    "duration": 3,
    "start_time": "2021-11-27T17:51:54.277Z"
   },
   {
    "duration": 7,
    "start_time": "2021-11-27T17:51:54.773Z"
   },
   {
    "duration": 596,
    "start_time": "2021-11-27T17:51:57.413Z"
   },
   {
    "duration": 5,
    "start_time": "2021-11-27T17:53:35.583Z"
   },
   {
    "duration": 4,
    "start_time": "2021-11-27T17:53:35.975Z"
   },
   {
    "duration": 9,
    "start_time": "2021-11-27T17:53:36.454Z"
   },
   {
    "duration": 563,
    "start_time": "2021-11-27T17:53:39.151Z"
   },
   {
    "duration": 6,
    "start_time": "2021-11-27T17:53:44.935Z"
   },
   {
    "duration": 3,
    "start_time": "2021-11-27T17:53:45.327Z"
   },
   {
    "duration": 8,
    "start_time": "2021-11-27T17:53:45.734Z"
   },
   {
    "duration": 652,
    "start_time": "2021-11-27T17:53:47.903Z"
   },
   {
    "duration": 357,
    "start_time": "2021-11-27T17:54:25.073Z"
   },
   {
    "duration": 7,
    "start_time": "2021-11-27T17:54:29.336Z"
   },
   {
    "duration": 7,
    "start_time": "2021-11-27T17:54:34.991Z"
   },
   {
    "duration": 6,
    "start_time": "2021-11-27T17:54:38.432Z"
   },
   {
    "duration": 7,
    "start_time": "2021-11-27T17:54:55.569Z"
   },
   {
    "duration": 7,
    "start_time": "2021-11-27T17:55:11.233Z"
   },
   {
    "duration": 7,
    "start_time": "2021-11-27T17:55:44.857Z"
   },
   {
    "duration": 7,
    "start_time": "2021-11-27T17:55:55.898Z"
   },
   {
    "duration": 312,
    "start_time": "2021-11-27T17:56:00.051Z"
   },
   {
    "duration": 315,
    "start_time": "2021-11-27T17:56:11.083Z"
   },
   {
    "duration": 8,
    "start_time": "2021-11-27T17:57:32.564Z"
   },
   {
    "duration": 5,
    "start_time": "2021-11-27T17:58:00.045Z"
   },
   {
    "duration": 5,
    "start_time": "2021-11-27T17:58:03.861Z"
   },
   {
    "duration": 3,
    "start_time": "2021-11-27T17:58:05.341Z"
   },
   {
    "duration": 7,
    "start_time": "2021-11-27T17:58:06.101Z"
   },
   {
    "duration": 7,
    "start_time": "2021-11-27T17:58:07.348Z"
   },
   {
    "duration": 4,
    "start_time": "2021-11-27T17:58:40.198Z"
   },
   {
    "duration": 559,
    "start_time": "2021-11-27T17:58:40.781Z"
   },
   {
    "duration": 633,
    "start_time": "2021-11-27T17:59:21.999Z"
   },
   {
    "duration": 2107,
    "start_time": "2021-11-27T17:59:29.830Z"
   },
   {
    "duration": 3,
    "start_time": "2021-11-27T18:00:15.112Z"
   },
   {
    "duration": 7,
    "start_time": "2021-11-27T18:00:19.991Z"
   },
   {
    "duration": 6,
    "start_time": "2021-11-27T18:00:24.662Z"
   },
   {
    "duration": 632,
    "start_time": "2021-11-27T18:00:32.960Z"
   },
   {
    "duration": 582,
    "start_time": "2021-11-27T18:00:53.008Z"
   },
   {
    "duration": 565,
    "start_time": "2021-11-27T18:00:57.328Z"
   },
   {
    "duration": 1150,
    "start_time": "2021-11-28T17:25:09.392Z"
   },
   {
    "duration": 111,
    "start_time": "2021-11-28T17:25:10.545Z"
   },
   {
    "duration": 18,
    "start_time": "2021-11-28T17:25:10.660Z"
   },
   {
    "duration": 11,
    "start_time": "2021-11-28T17:25:10.682Z"
   },
   {
    "duration": 19,
    "start_time": "2021-11-28T17:25:10.695Z"
   },
   {
    "duration": 18,
    "start_time": "2021-11-28T17:25:10.717Z"
   },
   {
    "duration": 32,
    "start_time": "2021-11-28T17:25:10.738Z"
   },
   {
    "duration": 14,
    "start_time": "2021-11-28T17:25:10.774Z"
   },
   {
    "duration": 6,
    "start_time": "2021-11-28T17:25:10.792Z"
   },
   {
    "duration": 20,
    "start_time": "2021-11-28T17:25:10.800Z"
   },
   {
    "duration": 47,
    "start_time": "2021-11-28T17:25:10.822Z"
   },
   {
    "duration": 9,
    "start_time": "2021-11-28T17:25:10.871Z"
   },
   {
    "duration": 24,
    "start_time": "2021-11-28T17:25:10.883Z"
   },
   {
    "duration": 18,
    "start_time": "2021-11-28T17:25:10.910Z"
   },
   {
    "duration": 70,
    "start_time": "2021-11-28T17:25:10.931Z"
   },
   {
    "duration": 5,
    "start_time": "2021-11-28T17:25:11.004Z"
   },
   {
    "duration": 9,
    "start_time": "2021-11-28T17:25:11.012Z"
   },
   {
    "duration": 9,
    "start_time": "2021-11-28T17:25:11.024Z"
   },
   {
    "duration": 37,
    "start_time": "2021-11-28T17:25:11.035Z"
   },
   {
    "duration": 19,
    "start_time": "2021-11-28T17:25:11.074Z"
   },
   {
    "duration": 8,
    "start_time": "2021-11-28T17:25:11.095Z"
   },
   {
    "duration": 22,
    "start_time": "2021-11-28T17:25:11.106Z"
   },
   {
    "duration": 46,
    "start_time": "2021-11-28T17:25:11.134Z"
   },
   {
    "duration": 11,
    "start_time": "2021-11-28T17:25:11.184Z"
   },
   {
    "duration": 9,
    "start_time": "2021-11-28T17:25:11.198Z"
   },
   {
    "duration": 7,
    "start_time": "2021-11-28T17:25:11.209Z"
   },
   {
    "duration": 6,
    "start_time": "2021-11-28T17:25:11.219Z"
   },
   {
    "duration": 10,
    "start_time": "2021-11-28T17:25:11.268Z"
   },
   {
    "duration": 16,
    "start_time": "2021-11-28T17:25:11.282Z"
   },
   {
    "duration": 13,
    "start_time": "2021-11-28T17:25:11.301Z"
   },
   {
    "duration": 52,
    "start_time": "2021-11-28T17:25:11.317Z"
   },
   {
    "duration": 8,
    "start_time": "2021-11-28T17:25:11.372Z"
   },
   {
    "duration": 19,
    "start_time": "2021-11-28T17:25:11.383Z"
   },
   {
    "duration": 11,
    "start_time": "2021-11-28T17:25:11.404Z"
   },
   {
    "duration": 14,
    "start_time": "2021-11-28T17:25:11.418Z"
   },
   {
    "duration": 33,
    "start_time": "2021-11-28T17:25:11.435Z"
   },
   {
    "duration": 26,
    "start_time": "2021-11-28T17:25:11.471Z"
   },
   {
    "duration": 13,
    "start_time": "2021-11-28T17:25:11.500Z"
   },
   {
    "duration": 10,
    "start_time": "2021-11-28T17:25:11.516Z"
   },
   {
    "duration": 44,
    "start_time": "2021-11-28T17:25:11.529Z"
   },
   {
    "duration": 12,
    "start_time": "2021-11-28T17:25:11.576Z"
   },
   {
    "duration": 11,
    "start_time": "2021-11-28T17:25:11.591Z"
   },
   {
    "duration": 11,
    "start_time": "2021-11-28T17:25:11.605Z"
   },
   {
    "duration": 11,
    "start_time": "2021-11-28T17:25:11.666Z"
   },
   {
    "duration": 8,
    "start_time": "2021-11-28T17:25:11.680Z"
   },
   {
    "duration": 15,
    "start_time": "2021-11-28T17:25:11.691Z"
   },
   {
    "duration": 8,
    "start_time": "2021-11-28T17:25:11.709Z"
   },
   {
    "duration": 5,
    "start_time": "2021-11-28T17:25:11.768Z"
   },
   {
    "duration": 19,
    "start_time": "2021-11-28T17:25:11.776Z"
   },
   {
    "duration": 15,
    "start_time": "2021-11-28T17:25:11.800Z"
   },
   {
    "duration": 8,
    "start_time": "2021-11-28T17:25:11.818Z"
   },
   {
    "duration": 43,
    "start_time": "2021-11-28T17:25:11.829Z"
   },
   {
    "duration": 7,
    "start_time": "2021-11-28T17:25:11.875Z"
   },
   {
    "duration": 42,
    "start_time": "2021-11-28T17:25:11.884Z"
   },
   {
    "duration": 6,
    "start_time": "2021-11-28T17:25:11.930Z"
   },
   {
    "duration": 36,
    "start_time": "2021-11-28T17:25:11.968Z"
   },
   {
    "duration": 6,
    "start_time": "2021-11-28T17:25:12.006Z"
   },
   {
    "duration": 10,
    "start_time": "2021-11-28T17:25:12.015Z"
   },
   {
    "duration": 45,
    "start_time": "2021-11-28T17:25:12.027Z"
   },
   {
    "duration": 41,
    "start_time": "2021-11-28T17:25:12.074Z"
   },
   {
    "duration": 4,
    "start_time": "2021-11-28T17:25:12.118Z"
   },
   {
    "duration": 10,
    "start_time": "2021-11-28T17:25:12.125Z"
   },
   {
    "duration": 36,
    "start_time": "2021-11-28T17:25:12.137Z"
   },
   {
    "duration": 7,
    "start_time": "2021-11-28T17:25:12.176Z"
   },
   {
    "duration": 321,
    "start_time": "2021-11-28T17:25:12.186Z"
   },
   {
    "duration": 11,
    "start_time": "2021-11-28T17:25:12.509Z"
   },
   {
    "duration": 58,
    "start_time": "2021-11-28T17:25:12.523Z"
   },
   {
    "duration": 5,
    "start_time": "2021-11-28T17:25:12.589Z"
   },
   {
    "duration": 12,
    "start_time": "2021-11-28T17:25:12.597Z"
   },
   {
    "duration": 266,
    "start_time": "2021-11-28T17:25:12.611Z"
   },
   {
    "duration": 6,
    "start_time": "2021-11-28T17:25:12.880Z"
   },
   {
    "duration": 11,
    "start_time": "2021-11-28T17:25:12.889Z"
   },
   {
    "duration": 15,
    "start_time": "2021-11-28T17:25:12.903Z"
   },
   {
    "duration": 289,
    "start_time": "2021-11-28T17:25:12.920Z"
   },
   {
    "duration": 257,
    "start_time": "2021-11-28T17:25:13.212Z"
   },
   {
    "duration": 6,
    "start_time": "2021-11-28T17:25:13.471Z"
   },
   {
    "duration": 305,
    "start_time": "2021-11-28T17:25:13.480Z"
   },
   {
    "duration": 234,
    "start_time": "2021-11-28T17:25:13.788Z"
   },
   {
    "duration": 7,
    "start_time": "2021-11-28T17:25:14.025Z"
   },
   {
    "duration": 253,
    "start_time": "2021-11-28T17:25:14.035Z"
   },
   {
    "duration": 4,
    "start_time": "2021-11-28T17:25:14.290Z"
   },
   {
    "duration": 12,
    "start_time": "2021-11-28T17:25:14.297Z"
   },
   {
    "duration": 10,
    "start_time": "2021-11-28T17:25:14.311Z"
   },
   {
    "duration": 45,
    "start_time": "2021-11-28T17:25:14.324Z"
   },
   {
    "duration": 9,
    "start_time": "2021-11-28T17:25:14.371Z"
   },
   {
    "duration": 9,
    "start_time": "2021-11-28T17:25:14.384Z"
   },
   {
    "duration": 5,
    "start_time": "2021-11-28T17:25:14.396Z"
   },
   {
    "duration": 10,
    "start_time": "2021-11-28T17:25:14.404Z"
   },
   {
    "duration": 685,
    "start_time": "2021-11-28T17:25:14.417Z"
   },
   {
    "duration": -1660,
    "start_time": "2021-11-28T17:25:16.764Z"
   },
   {
    "duration": 8,
    "start_time": "2021-11-28T17:29:39.860Z"
   },
   {
    "duration": 257,
    "start_time": "2021-11-28T17:30:06.837Z"
   },
   {
    "duration": 501,
    "start_time": "2021-11-28T17:30:14.524Z"
   },
   {
    "duration": 7,
    "start_time": "2021-11-28T17:30:58.958Z"
   },
   {
    "duration": 4,
    "start_time": "2021-11-28T17:30:59.933Z"
   },
   {
    "duration": 9,
    "start_time": "2021-11-28T17:31:00.878Z"
   },
   {
    "duration": 518,
    "start_time": "2021-11-28T17:31:04.044Z"
   },
   {
    "duration": 281,
    "start_time": "2021-11-28T17:33:26.793Z"
   },
   {
    "duration": 18,
    "start_time": "2021-11-28T17:37:38.142Z"
   },
   {
    "duration": 16,
    "start_time": "2021-11-28T17:38:03.287Z"
   },
   {
    "duration": 11,
    "start_time": "2021-11-28T17:38:57.199Z"
   },
   {
    "duration": 14,
    "start_time": "2021-11-28T17:39:52.802Z"
   },
   {
    "duration": 11,
    "start_time": "2021-11-28T17:39:59.425Z"
   },
   {
    "duration": 307,
    "start_time": "2021-11-28T17:40:22.577Z"
   },
   {
    "duration": 266,
    "start_time": "2021-11-28T17:40:56.235Z"
   },
   {
    "duration": 5,
    "start_time": "2021-11-28T17:42:04.189Z"
   },
   {
    "duration": 8,
    "start_time": "2021-11-28T17:42:20.821Z"
   },
   {
    "duration": 13,
    "start_time": "2021-11-28T17:42:49.626Z"
   },
   {
    "duration": 8,
    "start_time": "2021-11-28T17:43:00.621Z"
   },
   {
    "duration": 9,
    "start_time": "2021-11-28T17:43:03.841Z"
   },
   {
    "duration": 9,
    "start_time": "2021-11-28T17:43:11.189Z"
   },
   {
    "duration": 22,
    "start_time": "2021-11-28T17:43:23.637Z"
   },
   {
    "duration": 21,
    "start_time": "2021-11-28T17:43:49.060Z"
   },
   {
    "duration": 329,
    "start_time": "2021-11-28T17:43:59.320Z"
   },
   {
    "duration": 23,
    "start_time": "2021-11-28T17:44:02.822Z"
   },
   {
    "duration": 676,
    "start_time": "2021-11-28T17:48:43.284Z"
   },
   {
    "duration": 285,
    "start_time": "2021-11-28T17:48:55.149Z"
   },
   {
    "duration": 289,
    "start_time": "2021-11-28T17:49:11.189Z"
   },
   {
    "duration": 18,
    "start_time": "2021-11-28T17:50:57.319Z"
   },
   {
    "duration": 19,
    "start_time": "2021-11-28T17:52:19.322Z"
   },
   {
    "duration": 274,
    "start_time": "2021-11-28T17:52:36.951Z"
   },
   {
    "duration": 18,
    "start_time": "2021-11-28T17:52:42.554Z"
   },
   {
    "duration": 99,
    "start_time": "2021-11-28T17:55:01.564Z"
   },
   {
    "duration": 80,
    "start_time": "2021-11-28T17:55:10.469Z"
   },
   {
    "duration": 17,
    "start_time": "2021-11-28T17:57:40.856Z"
   },
   {
    "duration": 4,
    "start_time": "2021-11-28T18:01:44.398Z"
   },
   {
    "duration": 4,
    "start_time": "2021-11-28T18:01:49.508Z"
   },
   {
    "duration": 9,
    "start_time": "2021-11-28T18:02:32.853Z"
   },
   {
    "duration": 21,
    "start_time": "2021-11-28T18:02:34.725Z"
   },
   {
    "duration": 28,
    "start_time": "2021-11-28T18:05:30.195Z"
   },
   {
    "duration": 29,
    "start_time": "2021-11-28T18:07:49.781Z"
   },
   {
    "duration": 17,
    "start_time": "2021-11-28T18:08:01.149Z"
   },
   {
    "duration": 4,
    "start_time": "2021-11-28T18:11:09.161Z"
   },
   {
    "duration": 579,
    "start_time": "2021-11-28T18:11:21.833Z"
   },
   {
    "duration": 5,
    "start_time": "2021-11-28T18:12:01.674Z"
   },
   {
    "duration": 5,
    "start_time": "2021-11-28T18:12:02.650Z"
   },
   {
    "duration": 258,
    "start_time": "2021-11-28T18:12:12.898Z"
   },
   {
    "duration": 6,
    "start_time": "2021-11-28T18:12:16.667Z"
   },
   {
    "duration": 4,
    "start_time": "2021-11-28T18:12:48.460Z"
   },
   {
    "duration": 6,
    "start_time": "2021-11-28T18:15:13.911Z"
   },
   {
    "duration": 10,
    "start_time": "2021-11-28T18:15:55.407Z"
   },
   {
    "duration": 15,
    "start_time": "2021-11-28T18:16:08.903Z"
   },
   {
    "duration": 14,
    "start_time": "2021-11-28T18:16:17.776Z"
   },
   {
    "duration": 6,
    "start_time": "2021-11-28T18:20:39.901Z"
   },
   {
    "duration": 5,
    "start_time": "2021-11-28T18:20:45.357Z"
   },
   {
    "duration": 6,
    "start_time": "2021-11-28T18:20:54.413Z"
   },
   {
    "duration": 7,
    "start_time": "2021-11-28T18:24:37.506Z"
   },
   {
    "duration": 8,
    "start_time": "2021-11-28T18:24:43.754Z"
   },
   {
    "duration": 7,
    "start_time": "2021-11-28T18:24:58.090Z"
   },
   {
    "duration": 46,
    "start_time": "2021-11-28T18:25:18.530Z"
   },
   {
    "duration": 47,
    "start_time": "2021-11-28T18:26:13.467Z"
   },
   {
    "duration": 21,
    "start_time": "2021-11-28T18:28:52.384Z"
   },
   {
    "duration": 46,
    "start_time": "2021-11-28T18:29:00.311Z"
   },
   {
    "duration": 49,
    "start_time": "2021-11-28T18:29:09.224Z"
   },
   {
    "duration": 4,
    "start_time": "2021-11-28T18:31:54.740Z"
   },
   {
    "duration": 292,
    "start_time": "2021-11-28T18:32:27.557Z"
   },
   {
    "duration": 7,
    "start_time": "2021-11-28T18:32:34.317Z"
   },
   {
    "duration": 8,
    "start_time": "2021-11-28T18:32:41.357Z"
   },
   {
    "duration": 269,
    "start_time": "2021-11-28T18:33:07.365Z"
   },
   {
    "duration": 45,
    "start_time": "2021-11-28T18:33:17.478Z"
   },
   {
    "duration": 11,
    "start_time": "2021-11-28T18:33:40.956Z"
   },
   {
    "duration": 68,
    "start_time": "2021-11-28T18:34:43.368Z"
   },
   {
    "duration": 13,
    "start_time": "2021-11-28T18:34:55.554Z"
   },
   {
    "duration": 10,
    "start_time": "2021-11-28T18:35:06.984Z"
   },
   {
    "duration": 110,
    "start_time": "2021-11-28T18:35:14.136Z"
   },
   {
    "duration": 8,
    "start_time": "2021-11-28T18:35:19.624Z"
   },
   {
    "duration": 6,
    "start_time": "2021-11-28T18:36:12.418Z"
   },
   {
    "duration": 26,
    "start_time": "2021-11-28T20:19:09.395Z"
   },
   {
    "duration": 10,
    "start_time": "2021-11-28T20:19:23.562Z"
   },
   {
    "duration": 252,
    "start_time": "2021-11-28T20:20:37.549Z"
   },
   {
    "duration": 7,
    "start_time": "2021-11-28T20:20:43.092Z"
   },
   {
    "duration": 6,
    "start_time": "2021-11-28T20:21:24.493Z"
   },
   {
    "duration": 927,
    "start_time": "2021-11-28T20:21:35.324Z"
   },
   {
    "duration": 114,
    "start_time": "2021-11-28T20:21:36.253Z"
   },
   {
    "duration": 353,
    "start_time": "2021-11-28T20:21:36.370Z"
   },
   {
    "duration": 121,
    "start_time": "2021-11-28T20:21:36.610Z"
   },
   {
    "duration": 113,
    "start_time": "2021-11-28T20:21:36.619Z"
   },
   {
    "duration": 112,
    "start_time": "2021-11-28T20:21:36.622Z"
   },
   {
    "duration": 110,
    "start_time": "2021-11-28T20:21:36.625Z"
   },
   {
    "duration": 108,
    "start_time": "2021-11-28T20:21:36.629Z"
   },
   {
    "duration": 105,
    "start_time": "2021-11-28T20:21:36.633Z"
   },
   {
    "duration": 103,
    "start_time": "2021-11-28T20:21:36.636Z"
   },
   {
    "duration": 102,
    "start_time": "2021-11-28T20:21:36.639Z"
   },
   {
    "duration": 99,
    "start_time": "2021-11-28T20:21:36.643Z"
   },
   {
    "duration": 97,
    "start_time": "2021-11-28T20:21:36.646Z"
   },
   {
    "duration": 95,
    "start_time": "2021-11-28T20:21:36.649Z"
   },
   {
    "duration": 86,
    "start_time": "2021-11-28T20:21:36.659Z"
   },
   {
    "duration": 85,
    "start_time": "2021-11-28T20:21:36.662Z"
   },
   {
    "duration": 83,
    "start_time": "2021-11-28T20:21:36.665Z"
   },
   {
    "duration": 80,
    "start_time": "2021-11-28T20:21:36.669Z"
   },
   {
    "duration": 79,
    "start_time": "2021-11-28T20:21:36.672Z"
   },
   {
    "duration": 76,
    "start_time": "2021-11-28T20:21:36.676Z"
   },
   {
    "duration": 75,
    "start_time": "2021-11-28T20:21:36.678Z"
   },
   {
    "duration": 74,
    "start_time": "2021-11-28T20:21:36.681Z"
   },
   {
    "duration": 72,
    "start_time": "2021-11-28T20:21:36.684Z"
   },
   {
    "duration": 71,
    "start_time": "2021-11-28T20:21:36.687Z"
   },
   {
    "duration": 69,
    "start_time": "2021-11-28T20:21:36.690Z"
   },
   {
    "duration": 68,
    "start_time": "2021-11-28T20:21:36.693Z"
   },
   {
    "duration": 66,
    "start_time": "2021-11-28T20:21:36.696Z"
   },
   {
    "duration": 64,
    "start_time": "2021-11-28T20:21:36.699Z"
   },
   {
    "duration": 56,
    "start_time": "2021-11-28T20:21:36.709Z"
   },
   {
    "duration": 54,
    "start_time": "2021-11-28T20:21:36.712Z"
   },
   {
    "duration": 53,
    "start_time": "2021-11-28T20:21:36.715Z"
   },
   {
    "duration": 51,
    "start_time": "2021-11-28T20:21:36.718Z"
   },
   {
    "duration": 50,
    "start_time": "2021-11-28T20:21:36.721Z"
   },
   {
    "duration": 48,
    "start_time": "2021-11-28T20:21:36.724Z"
   },
   {
    "duration": 46,
    "start_time": "2021-11-28T20:21:36.727Z"
   },
   {
    "duration": 44,
    "start_time": "2021-11-28T20:21:36.731Z"
   },
   {
    "duration": 42,
    "start_time": "2021-11-28T20:21:36.734Z"
   },
   {
    "duration": -133,
    "start_time": "2021-11-28T20:21:36.910Z"
   },
   {
    "duration": -743,
    "start_time": "2021-11-28T20:21:37.522Z"
   },
   {
    "duration": -862,
    "start_time": "2021-11-28T20:21:37.642Z"
   },
   {
    "duration": -866,
    "start_time": "2021-11-28T20:21:37.647Z"
   },
   {
    "duration": -867,
    "start_time": "2021-11-28T20:21:37.650Z"
   },
   {
    "duration": -869,
    "start_time": "2021-11-28T20:21:37.653Z"
   },
   {
    "duration": -870,
    "start_time": "2021-11-28T20:21:37.656Z"
   },
   {
    "duration": -872,
    "start_time": "2021-11-28T20:21:37.659Z"
   },
   {
    "duration": -874,
    "start_time": "2021-11-28T20:21:37.662Z"
   },
   {
    "duration": -875,
    "start_time": "2021-11-28T20:21:37.665Z"
   },
   {
    "duration": -877,
    "start_time": "2021-11-28T20:21:37.668Z"
   },
   {
    "duration": -878,
    "start_time": "2021-11-28T20:21:37.671Z"
   },
   {
    "duration": -880,
    "start_time": "2021-11-28T20:21:37.674Z"
   },
   {
    "duration": -882,
    "start_time": "2021-11-28T20:21:37.677Z"
   },
   {
    "duration": -883,
    "start_time": "2021-11-28T20:21:37.680Z"
   },
   {
    "duration": -885,
    "start_time": "2021-11-28T20:21:37.683Z"
   },
   {
    "duration": -886,
    "start_time": "2021-11-28T20:21:37.686Z"
   },
   {
    "duration": -888,
    "start_time": "2021-11-28T20:21:37.689Z"
   },
   {
    "duration": -890,
    "start_time": "2021-11-28T20:21:37.692Z"
   },
   {
    "duration": -891,
    "start_time": "2021-11-28T20:21:37.695Z"
   },
   {
    "duration": -893,
    "start_time": "2021-11-28T20:21:37.698Z"
   },
   {
    "duration": -833,
    "start_time": "2021-11-28T20:21:37.701Z"
   },
   {
    "duration": -835,
    "start_time": "2021-11-28T20:21:37.704Z"
   },
   {
    "duration": -837,
    "start_time": "2021-11-28T20:21:37.707Z"
   },
   {
    "duration": -839,
    "start_time": "2021-11-28T20:21:37.710Z"
   },
   {
    "duration": -840,
    "start_time": "2021-11-28T20:21:37.713Z"
   },
   {
    "duration": -842,
    "start_time": "2021-11-28T20:21:37.716Z"
   },
   {
    "duration": -844,
    "start_time": "2021-11-28T20:21:37.719Z"
   },
   {
    "duration": -846,
    "start_time": "2021-11-28T20:21:37.723Z"
   },
   {
    "duration": -848,
    "start_time": "2021-11-28T20:21:37.726Z"
   },
   {
    "duration": -850,
    "start_time": "2021-11-28T20:21:37.729Z"
   },
   {
    "duration": -851,
    "start_time": "2021-11-28T20:21:37.732Z"
   },
   {
    "duration": -853,
    "start_time": "2021-11-28T20:21:37.735Z"
   },
   {
    "duration": -854,
    "start_time": "2021-11-28T20:21:37.738Z"
   },
   {
    "duration": -865,
    "start_time": "2021-11-28T20:21:37.750Z"
   },
   {
    "duration": -867,
    "start_time": "2021-11-28T20:21:37.753Z"
   },
   {
    "duration": -868,
    "start_time": "2021-11-28T20:21:37.756Z"
   },
   {
    "duration": -870,
    "start_time": "2021-11-28T20:21:37.759Z"
   },
   {
    "duration": -872,
    "start_time": "2021-11-28T20:21:37.763Z"
   },
   {
    "duration": -874,
    "start_time": "2021-11-28T20:21:37.766Z"
   },
   {
    "duration": -876,
    "start_time": "2021-11-28T20:21:37.769Z"
   },
   {
    "duration": -877,
    "start_time": "2021-11-28T20:21:37.772Z"
   },
   {
    "duration": -892,
    "start_time": "2021-11-28T20:21:37.788Z"
   },
   {
    "duration": -893,
    "start_time": "2021-11-28T20:21:37.791Z"
   },
   {
    "duration": -896,
    "start_time": "2021-11-28T20:21:37.795Z"
   },
   {
    "duration": -897,
    "start_time": "2021-11-28T20:21:37.798Z"
   },
   {
    "duration": -899,
    "start_time": "2021-11-28T20:21:37.801Z"
   },
   {
    "duration": -900,
    "start_time": "2021-11-28T20:21:37.804Z"
   },
   {
    "duration": -902,
    "start_time": "2021-11-28T20:21:37.807Z"
   },
   {
    "duration": -844,
    "start_time": "2021-11-28T20:21:37.811Z"
   },
   {
    "duration": -845,
    "start_time": "2021-11-28T20:21:37.814Z"
   },
   {
    "duration": -847,
    "start_time": "2021-11-28T20:21:37.817Z"
   },
   {
    "duration": -848,
    "start_time": "2021-11-28T20:21:37.820Z"
   },
   {
    "duration": -850,
    "start_time": "2021-11-28T20:21:37.823Z"
   },
   {
    "duration": -852,
    "start_time": "2021-11-28T20:21:37.827Z"
   },
   {
    "duration": -854,
    "start_time": "2021-11-28T20:21:37.830Z"
   },
   {
    "duration": -855,
    "start_time": "2021-11-28T20:21:37.833Z"
   },
   {
    "duration": -857,
    "start_time": "2021-11-28T20:21:37.836Z"
   },
   {
    "duration": -859,
    "start_time": "2021-11-28T20:21:37.840Z"
   },
   {
    "duration": -861,
    "start_time": "2021-11-28T20:21:37.843Z"
   },
   {
    "duration": -863,
    "start_time": "2021-11-28T20:21:37.847Z"
   },
   {
    "duration": -872,
    "start_time": "2021-11-28T20:21:37.858Z"
   },
   {
    "duration": -875,
    "start_time": "2021-11-28T20:21:37.862Z"
   },
   {
    "duration": 5,
    "start_time": "2021-11-28T20:21:50.553Z"
   },
   {
    "duration": 1819,
    "start_time": "2021-11-28T20:21:50.560Z"
   },
   {
    "duration": 8,
    "start_time": "2021-11-28T20:21:55.985Z"
   },
   {
    "duration": 16,
    "start_time": "2021-11-28T20:22:17.912Z"
   },
   {
    "duration": 11,
    "start_time": "2021-11-28T20:22:18.601Z"
   },
   {
    "duration": 6,
    "start_time": "2021-11-28T20:22:20.888Z"
   },
   {
    "duration": 17,
    "start_time": "2021-11-28T20:22:21.704Z"
   },
   {
    "duration": 11,
    "start_time": "2021-11-28T20:22:24.184Z"
   },
   {
    "duration": 6,
    "start_time": "2021-11-28T20:22:25.137Z"
   },
   {
    "duration": 7,
    "start_time": "2021-11-28T20:22:25.976Z"
   },
   {
    "duration": 19,
    "start_time": "2021-11-28T20:22:44.305Z"
   },
   {
    "duration": 8,
    "start_time": "2021-11-28T20:22:47.633Z"
   },
   {
    "duration": 6,
    "start_time": "2021-11-28T20:22:48.226Z"
   },
   {
    "duration": 21,
    "start_time": "2021-11-28T20:22:52.689Z"
   },
   {
    "duration": 19,
    "start_time": "2021-11-28T20:22:53.977Z"
   },
   {
    "duration": 39,
    "start_time": "2021-11-28T20:22:55.978Z"
   },
   {
    "duration": 6,
    "start_time": "2021-11-28T20:22:59.049Z"
   },
   {
    "duration": 6,
    "start_time": "2021-11-28T20:23:16.346Z"
   },
   {
    "duration": 7,
    "start_time": "2021-11-28T20:23:22.994Z"
   },
   {
    "duration": 6,
    "start_time": "2021-11-28T20:23:23.650Z"
   },
   {
    "duration": 9,
    "start_time": "2021-11-28T20:23:27.858Z"
   },
   {
    "duration": 16,
    "start_time": "2021-11-28T20:25:16.525Z"
   },
   {
    "duration": 18,
    "start_time": "2021-11-28T20:25:21.685Z"
   },
   {
    "duration": 16,
    "start_time": "2021-11-28T20:25:32.157Z"
   },
   {
    "duration": 7,
    "start_time": "2021-11-28T20:25:34.493Z"
   },
   {
    "duration": 973,
    "start_time": "2021-11-28T20:25:58.527Z"
   },
   {
    "duration": 124,
    "start_time": "2021-11-28T20:25:59.503Z"
   },
   {
    "duration": 18,
    "start_time": "2021-11-28T20:25:59.630Z"
   },
   {
    "duration": 8,
    "start_time": "2021-11-28T20:25:59.651Z"
   },
   {
    "duration": 13,
    "start_time": "2021-11-28T20:25:59.662Z"
   },
   {
    "duration": 21,
    "start_time": "2021-11-28T20:25:59.680Z"
   },
   {
    "duration": 9,
    "start_time": "2021-11-28T20:25:59.704Z"
   },
   {
    "duration": 7,
    "start_time": "2021-11-28T20:25:59.716Z"
   },
   {
    "duration": 41,
    "start_time": "2021-11-28T20:25:59.726Z"
   },
   {
    "duration": 23,
    "start_time": "2021-11-28T20:25:59.770Z"
   },
   {
    "duration": 9,
    "start_time": "2021-11-28T20:25:59.795Z"
   },
   {
    "duration": 9,
    "start_time": "2021-11-28T20:25:59.807Z"
   },
   {
    "duration": 60,
    "start_time": "2021-11-28T20:25:59.818Z"
   },
   {
    "duration": 21,
    "start_time": "2021-11-28T20:25:59.882Z"
   },
   {
    "duration": 36,
    "start_time": "2021-11-28T20:25:59.906Z"
   },
   {
    "duration": 7,
    "start_time": "2021-11-28T20:25:59.969Z"
   },
   {
    "duration": 9,
    "start_time": "2021-11-28T20:25:59.980Z"
   },
   {
    "duration": 5,
    "start_time": "2021-11-28T20:25:59.992Z"
   },
   {
    "duration": 17,
    "start_time": "2021-11-28T20:25:59.999Z"
   },
   {
    "duration": 65,
    "start_time": "2021-11-28T20:26:00.019Z"
   },
   {
    "duration": 11,
    "start_time": "2021-11-28T20:26:00.087Z"
   },
   {
    "duration": 15,
    "start_time": "2021-11-28T20:26:00.101Z"
   },
   {
    "duration": 46,
    "start_time": "2021-11-28T20:26:00.122Z"
   },
   {
    "duration": 11,
    "start_time": "2021-11-28T20:26:00.173Z"
   },
   {
    "duration": 15,
    "start_time": "2021-11-28T20:26:00.187Z"
   },
   {
    "duration": 12,
    "start_time": "2021-11-28T20:26:00.204Z"
   },
   {
    "duration": 8,
    "start_time": "2021-11-28T20:26:00.218Z"
   },
   {
    "duration": 43,
    "start_time": "2021-11-28T20:26:00.228Z"
   },
   {
    "duration": 16,
    "start_time": "2021-11-28T20:26:00.275Z"
   },
   {
    "duration": 16,
    "start_time": "2021-11-28T20:26:00.294Z"
   },
   {
    "duration": 16,
    "start_time": "2021-11-28T20:26:00.312Z"
   },
   {
    "duration": 36,
    "start_time": "2021-11-28T20:26:00.331Z"
   },
   {
    "duration": 14,
    "start_time": "2021-11-28T20:26:00.370Z"
   },
   {
    "duration": 18,
    "start_time": "2021-11-28T20:26:00.387Z"
   },
   {
    "duration": 11,
    "start_time": "2021-11-28T20:26:00.407Z"
   },
   {
    "duration": 25,
    "start_time": "2021-11-28T20:26:00.421Z"
   },
   {
    "duration": 39,
    "start_time": "2021-11-28T20:26:00.449Z"
   },
   {
    "duration": 35,
    "start_time": "2021-11-28T20:26:00.491Z"
   },
   {
    "duration": 21,
    "start_time": "2021-11-28T20:26:00.529Z"
   },
   {
    "duration": 23,
    "start_time": "2021-11-28T20:26:00.552Z"
   },
   {
    "duration": 22,
    "start_time": "2021-11-28T20:26:00.577Z"
   },
   {
    "duration": 17,
    "start_time": "2021-11-28T20:26:00.602Z"
   },
   {
    "duration": 23,
    "start_time": "2021-11-28T20:26:00.621Z"
   },
   {
    "duration": 34,
    "start_time": "2021-11-28T20:26:00.647Z"
   },
   {
    "duration": 28,
    "start_time": "2021-11-28T20:26:00.684Z"
   },
   {
    "duration": 24,
    "start_time": "2021-11-28T20:26:00.714Z"
   },
   {
    "duration": 17,
    "start_time": "2021-11-28T20:26:00.740Z"
   },
   {
    "duration": 22,
    "start_time": "2021-11-28T20:26:00.760Z"
   },
   {
    "duration": 38,
    "start_time": "2021-11-28T20:26:00.784Z"
   },
   {
    "duration": 22,
    "start_time": "2021-11-28T20:26:00.824Z"
   },
   {
    "duration": 28,
    "start_time": "2021-11-28T20:26:00.848Z"
   },
   {
    "duration": 29,
    "start_time": "2021-11-28T20:26:00.879Z"
   },
   {
    "duration": 29,
    "start_time": "2021-11-28T20:26:00.910Z"
   },
   {
    "duration": 54,
    "start_time": "2021-11-28T20:26:00.942Z"
   },
   {
    "duration": 6,
    "start_time": "2021-11-28T20:26:00.998Z"
   },
   {
    "duration": 40,
    "start_time": "2021-11-28T20:26:01.006Z"
   },
   {
    "duration": 23,
    "start_time": "2021-11-28T20:26:01.049Z"
   },
   {
    "duration": 13,
    "start_time": "2021-11-28T20:26:01.075Z"
   },
   {
    "duration": 18,
    "start_time": "2021-11-28T20:26:01.091Z"
   },
   {
    "duration": 58,
    "start_time": "2021-11-28T20:26:01.111Z"
   },
   {
    "duration": 5,
    "start_time": "2021-11-28T20:26:01.173Z"
   },
   {
    "duration": 11,
    "start_time": "2021-11-28T20:26:01.182Z"
   },
   {
    "duration": 18,
    "start_time": "2021-11-28T20:26:01.196Z"
   },
   {
    "duration": 16,
    "start_time": "2021-11-28T20:26:01.216Z"
   },
   {
    "duration": 340,
    "start_time": "2021-11-28T20:26:01.234Z"
   },
   {
    "duration": 13,
    "start_time": "2021-11-28T20:26:01.577Z"
   },
   {
    "duration": 35,
    "start_time": "2021-11-28T20:26:01.593Z"
   },
   {
    "duration": 33,
    "start_time": "2021-11-28T20:26:01.636Z"
   },
   {
    "duration": 13,
    "start_time": "2021-11-28T20:26:01.673Z"
   },
   {
    "duration": 270,
    "start_time": "2021-11-28T20:26:01.688Z"
   },
   {
    "duration": 10,
    "start_time": "2021-11-28T20:26:01.960Z"
   },
   {
    "duration": 15,
    "start_time": "2021-11-28T20:26:01.973Z"
   },
   {
    "duration": 12,
    "start_time": "2021-11-28T20:26:01.991Z"
   },
   {
    "duration": 266,
    "start_time": "2021-11-28T20:26:02.005Z"
   },
   {
    "duration": 260,
    "start_time": "2021-11-28T20:26:02.274Z"
   },
   {
    "duration": 7,
    "start_time": "2021-11-28T20:26:02.536Z"
   },
   {
    "duration": 308,
    "start_time": "2021-11-28T20:26:02.545Z"
   },
   {
    "duration": 234,
    "start_time": "2021-11-28T20:26:02.856Z"
   },
   {
    "duration": 7,
    "start_time": "2021-11-28T20:26:03.092Z"
   },
   {
    "duration": 249,
    "start_time": "2021-11-28T20:26:03.101Z"
   },
   {
    "duration": 3,
    "start_time": "2021-11-28T20:26:03.352Z"
   },
   {
    "duration": 11,
    "start_time": "2021-11-28T20:26:03.366Z"
   },
   {
    "duration": 12,
    "start_time": "2021-11-28T20:26:03.380Z"
   },
   {
    "duration": 19,
    "start_time": "2021-11-28T20:26:03.395Z"
   },
   {
    "duration": 49,
    "start_time": "2021-11-28T20:26:03.417Z"
   },
   {
    "duration": 5,
    "start_time": "2021-11-28T20:26:03.470Z"
   },
   {
    "duration": 17,
    "start_time": "2021-11-28T20:26:03.480Z"
   },
   {
    "duration": 20,
    "start_time": "2021-11-28T20:26:03.499Z"
   },
   {
    "duration": 54,
    "start_time": "2021-11-28T20:26:03.523Z"
   },
   {
    "duration": 5,
    "start_time": "2021-11-28T20:26:03.581Z"
   },
   {
    "duration": 18,
    "start_time": "2021-11-28T20:26:03.589Z"
   },
   {
    "duration": 24,
    "start_time": "2021-11-28T20:26:03.610Z"
   },
   {
    "duration": 83,
    "start_time": "2021-11-28T20:26:03.637Z"
   },
   {
    "duration": 4,
    "start_time": "2021-11-28T20:26:03.723Z"
   },
   {
    "duration": 339,
    "start_time": "2021-11-28T20:26:03.730Z"
   },
   {
    "duration": 17,
    "start_time": "2021-11-28T20:26:04.072Z"
   },
   {
    "duration": 25,
    "start_time": "2021-11-28T20:26:04.091Z"
   },
   {
    "duration": 9,
    "start_time": "2021-11-28T20:26:04.119Z"
   },
   {
    "duration": 44,
    "start_time": "2021-11-28T20:26:04.131Z"
   },
   {
    "duration": 8,
    "start_time": "2021-11-28T20:26:52.056Z"
   },
   {
    "duration": 426,
    "start_time": "2021-11-28T20:27:33.368Z"
   },
   {
    "duration": 689,
    "start_time": "2021-11-28T20:27:47.377Z"
   },
   {
    "duration": 270,
    "start_time": "2021-11-28T20:27:56.721Z"
   },
   {
    "duration": 1621,
    "start_time": "2021-11-28T20:28:38.177Z"
   },
   {
    "duration": 225,
    "start_time": "2021-11-28T20:28:39.801Z"
   },
   {
    "duration": 17,
    "start_time": "2021-11-28T20:28:40.032Z"
   },
   {
    "duration": 11,
    "start_time": "2021-11-28T20:28:40.051Z"
   },
   {
    "duration": 20,
    "start_time": "2021-11-28T20:28:40.065Z"
   },
   {
    "duration": 22,
    "start_time": "2021-11-28T20:28:40.088Z"
   },
   {
    "duration": 9,
    "start_time": "2021-11-28T20:28:40.115Z"
   },
   {
    "duration": 9,
    "start_time": "2021-11-28T20:28:40.127Z"
   },
   {
    "duration": 31,
    "start_time": "2021-11-28T20:28:40.138Z"
   },
   {
    "duration": 22,
    "start_time": "2021-11-28T20:28:40.172Z"
   },
   {
    "duration": 8,
    "start_time": "2021-11-28T20:28:40.197Z"
   },
   {
    "duration": 7,
    "start_time": "2021-11-28T20:28:40.207Z"
   },
   {
    "duration": 58,
    "start_time": "2021-11-28T20:28:40.216Z"
   },
   {
    "duration": 24,
    "start_time": "2021-11-28T20:28:40.278Z"
   },
   {
    "duration": 39,
    "start_time": "2021-11-28T20:28:40.304Z"
   },
   {
    "duration": 7,
    "start_time": "2021-11-28T20:28:40.369Z"
   },
   {
    "duration": 12,
    "start_time": "2021-11-28T20:28:40.379Z"
   },
   {
    "duration": 11,
    "start_time": "2021-11-28T20:28:40.393Z"
   },
   {
    "duration": 13,
    "start_time": "2021-11-28T20:28:40.407Z"
   },
   {
    "duration": 51,
    "start_time": "2021-11-28T20:28:40.422Z"
   },
   {
    "duration": 8,
    "start_time": "2021-11-28T20:28:40.476Z"
   },
   {
    "duration": 14,
    "start_time": "2021-11-28T20:28:40.492Z"
   },
   {
    "duration": 20,
    "start_time": "2021-11-28T20:28:40.510Z"
   },
   {
    "duration": 12,
    "start_time": "2021-11-28T20:28:40.567Z"
   },
   {
    "duration": 7,
    "start_time": "2021-11-28T20:28:40.583Z"
   },
   {
    "duration": 6,
    "start_time": "2021-11-28T20:28:40.593Z"
   },
   {
    "duration": 7,
    "start_time": "2021-11-28T20:28:40.602Z"
   },
   {
    "duration": 16,
    "start_time": "2021-11-28T20:28:40.612Z"
   },
   {
    "duration": 53,
    "start_time": "2021-11-28T20:28:40.630Z"
   },
   {
    "duration": 13,
    "start_time": "2021-11-28T20:28:40.685Z"
   },
   {
    "duration": 7,
    "start_time": "2021-11-28T20:28:40.700Z"
   },
   {
    "duration": 8,
    "start_time": "2021-11-28T20:28:40.709Z"
   },
   {
    "duration": 52,
    "start_time": "2021-11-28T20:28:40.719Z"
   },
   {
    "duration": 10,
    "start_time": "2021-11-28T20:28:40.774Z"
   },
   {
    "duration": 4,
    "start_time": "2021-11-28T20:28:40.789Z"
   },
   {
    "duration": 11,
    "start_time": "2021-11-28T20:28:40.796Z"
   },
   {
    "duration": 28,
    "start_time": "2021-11-28T20:28:40.809Z"
   },
   {
    "duration": 16,
    "start_time": "2021-11-28T20:28:40.867Z"
   },
   {
    "duration": 11,
    "start_time": "2021-11-28T20:28:40.886Z"
   },
   {
    "duration": 9,
    "start_time": "2021-11-28T20:28:40.900Z"
   },
   {
    "duration": 12,
    "start_time": "2021-11-28T20:28:40.912Z"
   },
   {
    "duration": 50,
    "start_time": "2021-11-28T20:28:40.926Z"
   },
   {
    "duration": 11,
    "start_time": "2021-11-28T20:28:40.980Z"
   },
   {
    "duration": 11,
    "start_time": "2021-11-28T20:28:40.994Z"
   },
   {
    "duration": 9,
    "start_time": "2021-11-28T20:28:41.007Z"
   },
   {
    "duration": 59,
    "start_time": "2021-11-28T20:28:41.018Z"
   },
   {
    "duration": 9,
    "start_time": "2021-11-28T20:28:41.081Z"
   },
   {
    "duration": 6,
    "start_time": "2021-11-28T20:28:41.093Z"
   },
   {
    "duration": 18,
    "start_time": "2021-11-28T20:28:41.101Z"
   },
   {
    "duration": 52,
    "start_time": "2021-11-28T20:28:41.122Z"
   },
   {
    "duration": 9,
    "start_time": "2021-11-28T20:28:41.179Z"
   },
   {
    "duration": 11,
    "start_time": "2021-11-28T20:28:41.190Z"
   },
   {
    "duration": 9,
    "start_time": "2021-11-28T20:28:41.204Z"
   },
   {
    "duration": 83,
    "start_time": "2021-11-28T20:28:41.215Z"
   },
   {
    "duration": 7,
    "start_time": "2021-11-28T20:28:41.301Z"
   },
   {
    "duration": 61,
    "start_time": "2021-11-28T20:28:41.310Z"
   },
   {
    "duration": 8,
    "start_time": "2021-11-28T20:28:41.374Z"
   },
   {
    "duration": 12,
    "start_time": "2021-11-28T20:28:41.384Z"
   },
   {
    "duration": 9,
    "start_time": "2021-11-28T20:28:41.399Z"
   },
   {
    "duration": 72,
    "start_time": "2021-11-28T20:28:41.411Z"
   },
   {
    "duration": 5,
    "start_time": "2021-11-28T20:28:41.487Z"
   },
   {
    "duration": 18,
    "start_time": "2021-11-28T20:28:41.495Z"
   },
   {
    "duration": 10,
    "start_time": "2021-11-28T20:28:41.515Z"
   },
   {
    "duration": 7,
    "start_time": "2021-11-28T20:28:41.527Z"
   },
   {
    "duration": 345,
    "start_time": "2021-11-28T20:28:41.536Z"
   },
   {
    "duration": 12,
    "start_time": "2021-11-28T20:28:41.884Z"
   },
   {
    "duration": 36,
    "start_time": "2021-11-28T20:28:41.905Z"
   },
   {
    "duration": 5,
    "start_time": "2021-11-28T20:28:41.968Z"
   },
   {
    "duration": 10,
    "start_time": "2021-11-28T20:28:41.976Z"
   },
   {
    "duration": 293,
    "start_time": "2021-11-28T20:28:41.989Z"
   },
   {
    "duration": 6,
    "start_time": "2021-11-28T20:28:42.285Z"
   },
   {
    "duration": 9,
    "start_time": "2021-11-28T20:28:42.293Z"
   },
   {
    "duration": 10,
    "start_time": "2021-11-28T20:28:42.304Z"
   },
   {
    "duration": 277,
    "start_time": "2021-11-28T20:28:42.316Z"
   },
   {
    "duration": 303,
    "start_time": "2021-11-28T20:28:42.596Z"
   },
   {
    "duration": 8,
    "start_time": "2021-11-28T20:28:42.903Z"
   },
   {
    "duration": 370,
    "start_time": "2021-11-28T20:28:42.914Z"
   },
   {
    "duration": 239,
    "start_time": "2021-11-28T20:28:43.287Z"
   },
   {
    "duration": 7,
    "start_time": "2021-11-28T20:28:43.529Z"
   },
   {
    "duration": 258,
    "start_time": "2021-11-28T20:28:43.538Z"
   },
   {
    "duration": 4,
    "start_time": "2021-11-28T20:28:43.799Z"
   },
   {
    "duration": 19,
    "start_time": "2021-11-28T20:28:43.806Z"
   },
   {
    "duration": 11,
    "start_time": "2021-11-28T20:28:43.827Z"
   },
   {
    "duration": 40,
    "start_time": "2021-11-28T20:28:43.841Z"
   },
   {
    "duration": 11,
    "start_time": "2021-11-28T20:28:43.883Z"
   },
   {
    "duration": 8,
    "start_time": "2021-11-28T20:28:43.896Z"
   },
   {
    "duration": 17,
    "start_time": "2021-11-28T20:28:43.906Z"
   },
   {
    "duration": 49,
    "start_time": "2021-11-28T20:28:43.925Z"
   },
   {
    "duration": 22,
    "start_time": "2021-11-28T20:28:43.977Z"
   },
   {
    "duration": 4,
    "start_time": "2021-11-28T20:28:44.002Z"
   },
   {
    "duration": 13,
    "start_time": "2021-11-28T20:28:44.008Z"
   },
   {
    "duration": 57,
    "start_time": "2021-11-28T20:28:44.024Z"
   },
   {
    "duration": 144,
    "start_time": "2021-11-28T20:28:44.083Z"
   },
   {
    "duration": 4,
    "start_time": "2021-11-28T20:28:44.230Z"
   },
   {
    "duration": 350,
    "start_time": "2021-11-28T20:28:44.236Z"
   },
   {
    "duration": 13,
    "start_time": "2021-11-28T20:28:44.589Z"
   },
   {
    "duration": 452,
    "start_time": "2021-11-28T20:28:44.604Z"
   },
   {
    "duration": 32,
    "start_time": "2021-11-28T20:29:26.630Z"
   },
   {
    "duration": 258,
    "start_time": "2021-11-28T20:30:30.569Z"
   },
   {
    "duration": 16,
    "start_time": "2021-11-28T20:30:33.430Z"
   },
   {
    "duration": 3199,
    "start_time": "2021-11-28T20:33:24.691Z"
   },
   {
    "duration": 29,
    "start_time": "2021-11-28T20:33:36.636Z"
   },
   {
    "duration": 14,
    "start_time": "2021-11-28T20:34:27.012Z"
   },
   {
    "duration": 7,
    "start_time": "2021-11-28T20:39:58.251Z"
   },
   {
    "duration": 263,
    "start_time": "2021-11-28T20:47:54.003Z"
   },
   {
    "duration": 22,
    "start_time": "2021-11-28T20:48:00.038Z"
   },
   {
    "duration": 700,
    "start_time": "2021-11-28T20:48:31.511Z"
   },
   {
    "duration": 265,
    "start_time": "2021-11-28T20:48:42.935Z"
   },
   {
    "duration": 11,
    "start_time": "2021-11-28T20:50:32.009Z"
   },
   {
    "duration": 19,
    "start_time": "2021-11-28T20:56:28.930Z"
   },
   {
    "duration": 13,
    "start_time": "2021-11-28T20:57:01.106Z"
   },
   {
    "duration": 20,
    "start_time": "2021-11-28T20:57:09.481Z"
   },
   {
    "duration": 324,
    "start_time": "2021-11-28T20:58:41.956Z"
   },
   {
    "duration": 7,
    "start_time": "2021-11-28T20:58:59.469Z"
   },
   {
    "duration": 230,
    "start_time": "2021-11-28T20:59:31.422Z"
   },
   {
    "duration": 307,
    "start_time": "2021-11-28T20:59:44.493Z"
   },
   {
    "duration": 6,
    "start_time": "2021-11-28T21:02:06.026Z"
   },
   {
    "duration": 8,
    "start_time": "2021-11-28T21:02:10.442Z"
   },
   {
    "duration": 380,
    "start_time": "2021-11-28T21:02:20.809Z"
   },
   {
    "duration": 9,
    "start_time": "2021-11-28T21:02:37.939Z"
   },
   {
    "duration": 314,
    "start_time": "2021-11-28T21:03:00.892Z"
   },
   {
    "duration": 307,
    "start_time": "2021-11-28T21:03:09.707Z"
   },
   {
    "duration": 4291,
    "start_time": "2021-11-28T21:03:17.380Z"
   },
   {
    "duration": 339,
    "start_time": "2021-11-28T21:03:51.669Z"
   },
   {
    "duration": 533,
    "start_time": "2021-11-28T21:04:29.125Z"
   },
   {
    "duration": 310,
    "start_time": "2021-11-28T21:04:35.262Z"
   },
   {
    "duration": 530,
    "start_time": "2021-11-28T21:08:21.228Z"
   },
   {
    "duration": 519,
    "start_time": "2021-11-28T21:08:28.339Z"
   },
   {
    "duration": 1148,
    "start_time": "2021-11-29T07:26:02.326Z"
   },
   {
    "duration": 93,
    "start_time": "2021-11-29T07:26:03.476Z"
   },
   {
    "duration": 11,
    "start_time": "2021-11-29T07:26:03.571Z"
   },
   {
    "duration": 6,
    "start_time": "2021-11-29T07:26:03.583Z"
   },
   {
    "duration": 11,
    "start_time": "2021-11-29T07:26:03.590Z"
   },
   {
    "duration": 11,
    "start_time": "2021-11-29T07:26:03.603Z"
   },
   {
    "duration": 22,
    "start_time": "2021-11-29T07:26:03.616Z"
   },
   {
    "duration": 17,
    "start_time": "2021-11-29T07:26:03.640Z"
   },
   {
    "duration": 24,
    "start_time": "2021-11-29T07:26:03.659Z"
   },
   {
    "duration": 23,
    "start_time": "2021-11-29T07:26:03.684Z"
   },
   {
    "duration": 12,
    "start_time": "2021-11-29T07:26:03.708Z"
   },
   {
    "duration": 23,
    "start_time": "2021-11-29T07:26:03.722Z"
   },
   {
    "duration": 30,
    "start_time": "2021-11-29T07:26:03.747Z"
   },
   {
    "duration": 19,
    "start_time": "2021-11-29T07:26:03.779Z"
   },
   {
    "duration": 43,
    "start_time": "2021-11-29T07:26:03.800Z"
   },
   {
    "duration": 6,
    "start_time": "2021-11-29T07:26:03.845Z"
   },
   {
    "duration": 32,
    "start_time": "2021-11-29T07:26:03.852Z"
   },
   {
    "duration": 20,
    "start_time": "2021-11-29T07:26:03.885Z"
   },
   {
    "duration": 26,
    "start_time": "2021-11-29T07:26:03.906Z"
   },
   {
    "duration": 25,
    "start_time": "2021-11-29T07:26:03.933Z"
   },
   {
    "duration": 21,
    "start_time": "2021-11-29T07:26:03.960Z"
   },
   {
    "duration": 31,
    "start_time": "2021-11-29T07:26:03.983Z"
   },
   {
    "duration": 31,
    "start_time": "2021-11-29T07:26:04.018Z"
   },
   {
    "duration": 17,
    "start_time": "2021-11-29T07:26:04.052Z"
   },
   {
    "duration": 31,
    "start_time": "2021-11-29T07:26:04.071Z"
   },
   {
    "duration": 12,
    "start_time": "2021-11-29T07:26:04.103Z"
   },
   {
    "duration": 33,
    "start_time": "2021-11-29T07:26:04.117Z"
   },
   {
    "duration": 11,
    "start_time": "2021-11-29T07:26:04.152Z"
   },
   {
    "duration": 7,
    "start_time": "2021-11-29T07:26:04.165Z"
   },
   {
    "duration": 8,
    "start_time": "2021-11-29T07:26:04.173Z"
   },
   {
    "duration": 9,
    "start_time": "2021-11-29T07:26:04.183Z"
   },
   {
    "duration": 6,
    "start_time": "2021-11-29T07:26:04.193Z"
   },
   {
    "duration": 9,
    "start_time": "2021-11-29T07:26:04.201Z"
   },
   {
    "duration": 4,
    "start_time": "2021-11-29T07:26:04.212Z"
   },
   {
    "duration": 3,
    "start_time": "2021-11-29T07:26:04.218Z"
   },
   {
    "duration": 24,
    "start_time": "2021-11-29T07:26:04.223Z"
   },
   {
    "duration": 16,
    "start_time": "2021-11-29T07:26:04.249Z"
   },
   {
    "duration": 10,
    "start_time": "2021-11-29T07:26:04.267Z"
   },
   {
    "duration": 9,
    "start_time": "2021-11-29T07:26:04.278Z"
   },
   {
    "duration": 10,
    "start_time": "2021-11-29T07:26:04.288Z"
   },
   {
    "duration": 6,
    "start_time": "2021-11-29T07:26:04.300Z"
   },
   {
    "duration": 6,
    "start_time": "2021-11-29T07:26:04.308Z"
   },
   {
    "duration": 31,
    "start_time": "2021-11-29T07:26:04.315Z"
   },
   {
    "duration": 8,
    "start_time": "2021-11-29T07:26:04.347Z"
   },
   {
    "duration": 8,
    "start_time": "2021-11-29T07:26:04.357Z"
   },
   {
    "duration": 12,
    "start_time": "2021-11-29T07:26:04.367Z"
   },
   {
    "duration": 6,
    "start_time": "2021-11-29T07:26:04.381Z"
   },
   {
    "duration": 7,
    "start_time": "2021-11-29T07:26:04.389Z"
   },
   {
    "duration": 14,
    "start_time": "2021-11-29T07:26:04.398Z"
   },
   {
    "duration": 37,
    "start_time": "2021-11-29T07:26:04.414Z"
   },
   {
    "duration": 12,
    "start_time": "2021-11-29T07:26:04.453Z"
   },
   {
    "duration": 8,
    "start_time": "2021-11-29T07:26:04.466Z"
   },
   {
    "duration": 6,
    "start_time": "2021-11-29T07:26:04.476Z"
   },
   {
    "duration": 23,
    "start_time": "2021-11-29T07:26:04.484Z"
   },
   {
    "duration": 4,
    "start_time": "2021-11-29T07:26:04.509Z"
   },
   {
    "duration": 51,
    "start_time": "2021-11-29T07:26:04.515Z"
   },
   {
    "duration": 4,
    "start_time": "2021-11-29T07:26:04.567Z"
   },
   {
    "duration": 5,
    "start_time": "2021-11-29T07:26:04.573Z"
   },
   {
    "duration": 6,
    "start_time": "2021-11-29T07:26:04.580Z"
   },
   {
    "duration": 25,
    "start_time": "2021-11-29T07:26:04.588Z"
   },
   {
    "duration": 3,
    "start_time": "2021-11-29T07:26:04.614Z"
   },
   {
    "duration": 25,
    "start_time": "2021-11-29T07:26:04.619Z"
   },
   {
    "duration": 5,
    "start_time": "2021-11-29T07:26:04.646Z"
   },
   {
    "duration": 9,
    "start_time": "2021-11-29T07:26:04.652Z"
   },
   {
    "duration": 173,
    "start_time": "2021-11-29T07:26:04.662Z"
   },
   {
    "duration": 9,
    "start_time": "2021-11-29T07:26:04.837Z"
   },
   {
    "duration": 24,
    "start_time": "2021-11-29T07:26:04.847Z"
   },
   {
    "duration": 3,
    "start_time": "2021-11-29T07:26:04.875Z"
   },
   {
    "duration": 6,
    "start_time": "2021-11-29T07:26:04.880Z"
   },
   {
    "duration": 148,
    "start_time": "2021-11-29T07:26:04.888Z"
   },
   {
    "duration": 8,
    "start_time": "2021-11-29T07:26:05.037Z"
   },
   {
    "duration": 9,
    "start_time": "2021-11-29T07:26:05.046Z"
   },
   {
    "duration": 9,
    "start_time": "2021-11-29T07:26:05.056Z"
   },
   {
    "duration": 143,
    "start_time": "2021-11-29T07:26:05.066Z"
   },
   {
    "duration": 137,
    "start_time": "2021-11-29T07:26:05.210Z"
   },
   {
    "duration": 4,
    "start_time": "2021-11-29T07:26:05.349Z"
   },
   {
    "duration": 139,
    "start_time": "2021-11-29T07:26:05.355Z"
   },
   {
    "duration": 131,
    "start_time": "2021-11-29T07:26:05.496Z"
   },
   {
    "duration": 4,
    "start_time": "2021-11-29T07:26:05.629Z"
   },
   {
    "duration": 136,
    "start_time": "2021-11-29T07:26:05.635Z"
   },
   {
    "duration": 2,
    "start_time": "2021-11-29T07:26:05.773Z"
   },
   {
    "duration": 12,
    "start_time": "2021-11-29T07:26:05.777Z"
   },
   {
    "duration": 6,
    "start_time": "2021-11-29T07:26:05.791Z"
   },
   {
    "duration": 19,
    "start_time": "2021-11-29T07:26:05.798Z"
   },
   {
    "duration": 7,
    "start_time": "2021-11-29T07:26:05.818Z"
   },
   {
    "duration": 8,
    "start_time": "2021-11-29T07:26:05.827Z"
   },
   {
    "duration": 11,
    "start_time": "2021-11-29T07:26:05.844Z"
   },
   {
    "duration": 18,
    "start_time": "2021-11-29T07:26:05.857Z"
   },
   {
    "duration": 13,
    "start_time": "2021-11-29T07:26:05.877Z"
   },
   {
    "duration": 3,
    "start_time": "2021-11-29T07:26:05.891Z"
   },
   {
    "duration": 26,
    "start_time": "2021-11-29T07:26:05.895Z"
   },
   {
    "duration": 26,
    "start_time": "2021-11-29T07:26:05.923Z"
   },
   {
    "duration": 94,
    "start_time": "2021-11-29T07:26:05.951Z"
   },
   {
    "duration": 3,
    "start_time": "2021-11-29T07:26:06.047Z"
   },
   {
    "duration": 172,
    "start_time": "2021-11-29T07:26:06.052Z"
   },
   {
    "duration": 7,
    "start_time": "2021-11-29T07:26:06.225Z"
   },
   {
    "duration": 12,
    "start_time": "2021-11-29T07:26:06.233Z"
   },
   {
    "duration": 274,
    "start_time": "2021-11-29T07:26:06.246Z"
   },
   {
    "duration": 129,
    "start_time": "2021-11-29T07:26:25.956Z"
   },
   {
    "duration": 4,
    "start_time": "2021-11-29T07:26:52.821Z"
   },
   {
    "duration": 124,
    "start_time": "2021-11-29T07:27:27.893Z"
   },
   {
    "duration": 85,
    "start_time": "2021-11-29T07:29:20.918Z"
   },
   {
    "duration": 273,
    "start_time": "2021-11-29T07:29:42.216Z"
   },
   {
    "duration": 27,
    "start_time": "2021-11-29T07:30:34.713Z"
   },
   {
    "duration": 9,
    "start_time": "2021-11-29T07:31:42.288Z"
   },
   {
    "duration": 353,
    "start_time": "2021-11-29T07:34:58.543Z"
   },
   {
    "duration": 85,
    "start_time": "2021-11-29T07:35:04.415Z"
   },
   {
    "duration": 90,
    "start_time": "2021-11-29T07:35:13.648Z"
   },
   {
    "duration": 83,
    "start_time": "2021-11-29T07:35:20.231Z"
   },
   {
    "duration": 34,
    "start_time": "2021-11-29T07:35:28.240Z"
   },
   {
    "duration": 27,
    "start_time": "2021-11-29T07:37:10.698Z"
   },
   {
    "duration": 290,
    "start_time": "2021-11-29T07:39:40.548Z"
   },
   {
    "duration": 268,
    "start_time": "2021-11-29T07:39:47.429Z"
   },
   {
    "duration": 15,
    "start_time": "2021-11-29T07:40:18.678Z"
   },
   {
    "duration": 17,
    "start_time": "2021-11-29T07:41:21.384Z"
   },
   {
    "duration": 9,
    "start_time": "2021-11-29T07:42:27.410Z"
   },
   {
    "duration": 10,
    "start_time": "2021-11-29T07:42:37.377Z"
   },
   {
    "duration": 4,
    "start_time": "2021-11-29T07:43:28.810Z"
   },
   {
    "duration": 15,
    "start_time": "2021-11-29T08:16:19.322Z"
   },
   {
    "duration": 362,
    "start_time": "2021-11-29T08:16:30.460Z"
   },
   {
    "duration": 10,
    "start_time": "2021-11-29T08:20:11.527Z"
   },
   {
    "duration": 12,
    "start_time": "2021-11-29T08:20:24.218Z"
   },
   {
    "duration": 16,
    "start_time": "2021-11-29T08:23:10.575Z"
   },
   {
    "duration": 110,
    "start_time": "2021-11-29T08:31:35.521Z"
   },
   {
    "duration": 16,
    "start_time": "2021-11-29T08:31:56.842Z"
   },
   {
    "duration": 23,
    "start_time": "2021-11-29T08:34:46.613Z"
   },
   {
    "duration": 14,
    "start_time": "2021-11-29T08:56:26.976Z"
   },
   {
    "duration": 22,
    "start_time": "2021-11-29T08:56:56.030Z"
   },
   {
    "duration": 12,
    "start_time": "2021-11-29T08:57:00.760Z"
   },
   {
    "duration": 8,
    "start_time": "2021-11-29T08:57:48.009Z"
   },
   {
    "duration": 15,
    "start_time": "2021-11-29T08:57:53.680Z"
   },
   {
    "duration": 9,
    "start_time": "2021-11-29T08:58:14.266Z"
   },
   {
    "duration": 1180,
    "start_time": "2021-11-29T08:58:31.684Z"
   },
   {
    "duration": 96,
    "start_time": "2021-11-29T08:58:32.865Z"
   },
   {
    "duration": 11,
    "start_time": "2021-11-29T08:58:32.963Z"
   },
   {
    "duration": 16,
    "start_time": "2021-11-29T08:58:32.976Z"
   },
   {
    "duration": 14,
    "start_time": "2021-11-29T08:58:32.993Z"
   },
   {
    "duration": 17,
    "start_time": "2021-11-29T08:58:33.009Z"
   },
   {
    "duration": 22,
    "start_time": "2021-11-29T08:58:33.027Z"
   },
   {
    "duration": 16,
    "start_time": "2021-11-29T08:58:33.052Z"
   },
   {
    "duration": 6,
    "start_time": "2021-11-29T08:58:33.071Z"
   },
   {
    "duration": 31,
    "start_time": "2021-11-29T08:58:33.078Z"
   },
   {
    "duration": 12,
    "start_time": "2021-11-29T08:58:33.110Z"
   },
   {
    "duration": 16,
    "start_time": "2021-11-29T08:58:33.124Z"
   },
   {
    "duration": 25,
    "start_time": "2021-11-29T08:58:33.142Z"
   },
   {
    "duration": 23,
    "start_time": "2021-11-29T08:58:33.169Z"
   },
   {
    "duration": 21,
    "start_time": "2021-11-29T08:58:33.194Z"
   },
   {
    "duration": 5,
    "start_time": "2021-11-29T08:58:33.217Z"
   },
   {
    "duration": 12,
    "start_time": "2021-11-29T08:58:33.224Z"
   },
   {
    "duration": 16,
    "start_time": "2021-11-29T08:58:33.238Z"
   },
   {
    "duration": 25,
    "start_time": "2021-11-29T08:58:33.256Z"
   },
   {
    "duration": 15,
    "start_time": "2021-11-29T08:58:33.282Z"
   },
   {
    "duration": 5,
    "start_time": "2021-11-29T08:58:33.299Z"
   },
   {
    "duration": 17,
    "start_time": "2021-11-29T08:58:33.305Z"
   },
   {
    "duration": 13,
    "start_time": "2021-11-29T08:58:33.328Z"
   },
   {
    "duration": 14,
    "start_time": "2021-11-29T08:58:33.344Z"
   },
   {
    "duration": 5,
    "start_time": "2021-11-29T08:58:33.359Z"
   },
   {
    "duration": 13,
    "start_time": "2021-11-29T08:58:33.365Z"
   },
   {
    "duration": 14,
    "start_time": "2021-11-29T08:58:33.380Z"
   },
   {
    "duration": 21,
    "start_time": "2021-11-29T08:58:33.395Z"
   },
   {
    "duration": 17,
    "start_time": "2021-11-29T08:58:33.417Z"
   },
   {
    "duration": 19,
    "start_time": "2021-11-29T08:58:33.435Z"
   },
   {
    "duration": 8,
    "start_time": "2021-11-29T08:58:33.456Z"
   },
   {
    "duration": 30,
    "start_time": "2021-11-29T08:58:33.466Z"
   },
   {
    "duration": 24,
    "start_time": "2021-11-29T08:58:33.497Z"
   },
   {
    "duration": 7,
    "start_time": "2021-11-29T08:58:33.523Z"
   },
   {
    "duration": 8,
    "start_time": "2021-11-29T08:58:33.532Z"
   },
   {
    "duration": 13,
    "start_time": "2021-11-29T08:58:33.542Z"
   },
   {
    "duration": 21,
    "start_time": "2021-11-29T08:58:33.557Z"
   },
   {
    "duration": 17,
    "start_time": "2021-11-29T08:58:33.579Z"
   },
   {
    "duration": 5,
    "start_time": "2021-11-29T08:58:33.598Z"
   },
   {
    "duration": 10,
    "start_time": "2021-11-29T08:58:33.605Z"
   },
   {
    "duration": 10,
    "start_time": "2021-11-29T08:58:33.616Z"
   },
   {
    "duration": 24,
    "start_time": "2021-11-29T08:58:33.628Z"
   },
   {
    "duration": 9,
    "start_time": "2021-11-29T08:58:33.653Z"
   },
   {
    "duration": 17,
    "start_time": "2021-11-29T08:58:33.663Z"
   },
   {
    "duration": 9,
    "start_time": "2021-11-29T08:58:33.682Z"
   },
   {
    "duration": 18,
    "start_time": "2021-11-29T08:58:33.693Z"
   },
   {
    "duration": 15,
    "start_time": "2021-11-29T08:58:33.713Z"
   },
   {
    "duration": 4,
    "start_time": "2021-11-29T08:58:33.730Z"
   },
   {
    "duration": 15,
    "start_time": "2021-11-29T08:58:33.736Z"
   },
   {
    "duration": 20,
    "start_time": "2021-11-29T08:58:33.753Z"
   },
   {
    "duration": 9,
    "start_time": "2021-11-29T08:58:33.775Z"
   },
   {
    "duration": 13,
    "start_time": "2021-11-29T08:58:33.786Z"
   },
   {
    "duration": 13,
    "start_time": "2021-11-29T08:58:33.801Z"
   },
   {
    "duration": 34,
    "start_time": "2021-11-29T08:58:33.816Z"
   },
   {
    "duration": 4,
    "start_time": "2021-11-29T08:58:33.852Z"
   },
   {
    "duration": 44,
    "start_time": "2021-11-29T08:58:33.858Z"
   },
   {
    "duration": 4,
    "start_time": "2021-11-29T08:58:33.904Z"
   },
   {
    "duration": 16,
    "start_time": "2021-11-29T08:58:33.910Z"
   },
   {
    "duration": 23,
    "start_time": "2021-11-29T08:58:33.928Z"
   },
   {
    "duration": 39,
    "start_time": "2021-11-29T08:58:33.953Z"
   },
   {
    "duration": 2,
    "start_time": "2021-11-29T08:58:33.994Z"
   },
   {
    "duration": 21,
    "start_time": "2021-11-29T08:58:33.998Z"
   },
   {
    "duration": 13,
    "start_time": "2021-11-29T08:58:34.021Z"
   },
   {
    "duration": 35,
    "start_time": "2021-11-29T08:58:34.036Z"
   },
   {
    "duration": 177,
    "start_time": "2021-11-29T08:58:34.072Z"
   },
   {
    "duration": 7,
    "start_time": "2021-11-29T08:58:34.250Z"
   },
   {
    "duration": 35,
    "start_time": "2021-11-29T08:58:34.259Z"
   },
   {
    "duration": 5,
    "start_time": "2021-11-29T08:58:34.299Z"
   },
   {
    "duration": 27,
    "start_time": "2021-11-29T08:58:34.306Z"
   },
   {
    "duration": 149,
    "start_time": "2021-11-29T08:58:34.335Z"
   },
   {
    "duration": 4,
    "start_time": "2021-11-29T08:58:34.485Z"
   },
   {
    "duration": 20,
    "start_time": "2021-11-29T08:58:34.490Z"
   },
   {
    "duration": 21,
    "start_time": "2021-11-29T08:58:34.512Z"
   },
   {
    "duration": 129,
    "start_time": "2021-11-29T08:58:34.534Z"
   },
   {
    "duration": 132,
    "start_time": "2021-11-29T08:58:34.665Z"
   },
   {
    "duration": 5,
    "start_time": "2021-11-29T08:58:34.798Z"
   },
   {
    "duration": 130,
    "start_time": "2021-11-29T08:58:34.805Z"
   },
   {
    "duration": 126,
    "start_time": "2021-11-29T08:58:34.936Z"
   },
   {
    "duration": 5,
    "start_time": "2021-11-29T08:58:35.065Z"
   },
   {
    "duration": 138,
    "start_time": "2021-11-29T08:58:35.072Z"
   },
   {
    "duration": 195,
    "start_time": "2021-11-29T08:58:35.213Z"
   },
   {
    "duration": 5,
    "start_time": "2021-11-29T08:58:35.410Z"
   },
   {
    "duration": 138,
    "start_time": "2021-11-29T08:58:35.416Z"
   },
   {
    "duration": 2,
    "start_time": "2021-11-29T08:58:35.556Z"
   },
   {
    "duration": 9,
    "start_time": "2021-11-29T08:58:35.560Z"
   },
   {
    "duration": 17,
    "start_time": "2021-11-29T08:58:35.570Z"
   },
   {
    "duration": 29,
    "start_time": "2021-11-29T08:58:35.588Z"
   },
   {
    "duration": 35,
    "start_time": "2021-11-29T08:58:35.619Z"
   },
   {
    "duration": 12,
    "start_time": "2021-11-29T08:58:35.656Z"
   },
   {
    "duration": 23,
    "start_time": "2021-11-29T08:58:35.669Z"
   },
   {
    "duration": 16,
    "start_time": "2021-11-29T08:58:35.693Z"
   },
   {
    "duration": 20,
    "start_time": "2021-11-29T08:58:35.711Z"
   },
   {
    "duration": 5,
    "start_time": "2021-11-29T08:58:35.732Z"
   },
   {
    "duration": 12,
    "start_time": "2021-11-29T08:58:35.739Z"
   },
   {
    "duration": 15,
    "start_time": "2021-11-29T08:58:35.753Z"
   },
   {
    "duration": 31,
    "start_time": "2021-11-29T08:58:35.769Z"
   },
   {
    "duration": 3,
    "start_time": "2021-11-29T08:58:35.802Z"
   },
   {
    "duration": 169,
    "start_time": "2021-11-29T08:58:35.806Z"
   },
   {
    "duration": 6,
    "start_time": "2021-11-29T08:58:35.977Z"
   },
   {
    "duration": 7,
    "start_time": "2021-11-29T08:58:35.985Z"
   },
   {
    "duration": 296,
    "start_time": "2021-11-29T08:58:35.993Z"
   },
   {
    "duration": 274,
    "start_time": "2021-11-29T08:58:36.291Z"
   },
   {
    "duration": 10,
    "start_time": "2021-11-29T08:58:36.567Z"
   },
   {
    "duration": 21,
    "start_time": "2021-11-29T08:58:36.579Z"
   },
   {
    "duration": 5,
    "start_time": "2021-11-29T08:58:36.602Z"
   },
   {
    "duration": 51,
    "start_time": "2021-11-29T08:58:36.609Z"
   },
   {
    "duration": 12,
    "start_time": "2021-11-29T08:58:36.662Z"
   },
   {
    "duration": 9,
    "start_time": "2021-11-29T08:58:36.676Z"
   },
   {
    "duration": 480,
    "start_time": "2021-11-29T09:01:53.994Z"
   },
   {
    "duration": 9,
    "start_time": "2021-11-29T09:02:01.466Z"
   },
   {
    "duration": 320,
    "start_time": "2021-11-29T09:07:23.392Z"
   },
   {
    "duration": 304,
    "start_time": "2021-11-29T09:07:48.600Z"
   },
   {
    "duration": 6,
    "start_time": "2021-11-29T09:08:30.170Z"
   },
   {
    "duration": 1523,
    "start_time": "2021-11-29T09:09:55.055Z"
   },
   {
    "duration": 8,
    "start_time": "2021-11-29T09:10:01.323Z"
   },
   {
    "duration": 9,
    "start_time": "2021-11-29T09:10:25.060Z"
   },
   {
    "duration": 7,
    "start_time": "2021-11-29T09:11:04.917Z"
   },
   {
    "duration": 8,
    "start_time": "2021-11-29T09:11:19.517Z"
   },
   {
    "duration": 8,
    "start_time": "2021-11-29T09:11:24.701Z"
   },
   {
    "duration": 10,
    "start_time": "2021-11-29T09:11:31.765Z"
   },
   {
    "duration": 8,
    "start_time": "2021-11-29T09:11:35.477Z"
   },
   {
    "duration": 8,
    "start_time": "2021-11-29T09:11:56.765Z"
   },
   {
    "duration": 8,
    "start_time": "2021-11-29T09:12:04.061Z"
   },
   {
    "duration": 91,
    "start_time": "2021-11-29T09:12:43.806Z"
   },
   {
    "duration": 10,
    "start_time": "2021-11-29T09:12:49.990Z"
   },
   {
    "duration": 13,
    "start_time": "2021-11-29T09:12:55.735Z"
   },
   {
    "duration": 16,
    "start_time": "2021-11-29T09:13:01.975Z"
   },
   {
    "duration": 11,
    "start_time": "2021-11-29T09:13:06.134Z"
   },
   {
    "duration": 8,
    "start_time": "2021-11-29T09:13:16.263Z"
   },
   {
    "duration": 9,
    "start_time": "2021-11-29T09:13:23.608Z"
   },
   {
    "duration": 11,
    "start_time": "2021-11-29T09:13:30.840Z"
   },
   {
    "duration": 302,
    "start_time": "2021-11-29T09:13:32.015Z"
   },
   {
    "duration": 377,
    "start_time": "2021-11-29T09:14:36.817Z"
   },
   {
    "duration": 309,
    "start_time": "2021-11-29T09:14:57.034Z"
   },
   {
    "duration": 313,
    "start_time": "2021-11-29T09:16:58.117Z"
   },
   {
    "duration": 323,
    "start_time": "2021-11-29T09:19:01.512Z"
   },
   {
    "duration": 334,
    "start_time": "2021-11-29T09:19:05.503Z"
   },
   {
    "duration": 341,
    "start_time": "2021-11-29T09:20:25.080Z"
   },
   {
    "duration": 399,
    "start_time": "2021-11-29T09:20:30.057Z"
   },
   {
    "duration": 360,
    "start_time": "2021-11-29T09:20:33.888Z"
   },
   {
    "duration": 294,
    "start_time": "2021-11-29T09:20:57.121Z"
   },
   {
    "duration": 8,
    "start_time": "2021-11-29T09:22:52.884Z"
   },
   {
    "duration": 10,
    "start_time": "2021-11-29T09:23:26.980Z"
   },
   {
    "duration": 290,
    "start_time": "2021-11-29T09:23:28.468Z"
   },
   {
    "duration": 697,
    "start_time": "2021-11-29T09:24:38.366Z"
   },
   {
    "duration": 270,
    "start_time": "2021-11-29T09:24:50.287Z"
   },
   {
    "duration": 111,
    "start_time": "2021-11-29T09:25:05.751Z"
   },
   {
    "duration": 694,
    "start_time": "2021-11-29T09:25:10.950Z"
   },
   {
    "duration": 829,
    "start_time": "2021-11-29T09:25:26.904Z"
   },
   {
    "duration": 282,
    "start_time": "2021-11-29T09:27:42.619Z"
   },
   {
    "duration": 28,
    "start_time": "2021-11-29T09:28:26.003Z"
   },
   {
    "duration": 7866,
    "start_time": "2021-11-29T09:28:58.348Z"
   },
   {
    "duration": 288,
    "start_time": "2021-11-29T09:34:38.050Z"
   },
   {
    "duration": 29,
    "start_time": "2021-11-29T09:37:17.014Z"
   },
   {
    "duration": 474,
    "start_time": "2021-11-29T09:40:19.034Z"
   },
   {
    "duration": 86,
    "start_time": "2021-11-29T09:42:07.676Z"
   },
   {
    "duration": 6,
    "start_time": "2021-11-29T09:45:46.257Z"
   },
   {
    "duration": 6,
    "start_time": "2021-11-29T09:45:51.457Z"
   },
   {
    "duration": 17,
    "start_time": "2021-11-29T09:45:58.209Z"
   },
   {
    "duration": 87,
    "start_time": "2021-11-29T09:46:47.034Z"
   },
   {
    "duration": 8,
    "start_time": "2021-11-29T09:46:58.305Z"
   },
   {
    "duration": 20,
    "start_time": "2021-11-29T09:48:17.484Z"
   },
   {
    "duration": 96,
    "start_time": "2021-11-29T09:49:35.397Z"
   },
   {
    "duration": 17,
    "start_time": "2021-11-29T09:49:45.661Z"
   },
   {
    "duration": 21,
    "start_time": "2021-11-29T09:53:55.475Z"
   },
   {
    "duration": 26,
    "start_time": "2021-11-29T09:54:00.107Z"
   },
   {
    "duration": 9,
    "start_time": "2021-11-29T09:54:08.291Z"
   },
   {
    "duration": 725,
    "start_time": "2021-11-29T09:54:35.164Z"
   },
   {
    "duration": 834,
    "start_time": "2021-11-29T09:54:46.203Z"
   },
   {
    "duration": 368,
    "start_time": "2021-11-29T09:55:43.269Z"
   },
   {
    "duration": 19,
    "start_time": "2021-11-29T09:55:53.815Z"
   },
   {
    "duration": 334,
    "start_time": "2021-11-29T09:57:38.040Z"
   },
   {
    "duration": 22,
    "start_time": "2021-11-29T09:59:23.282Z"
   },
   {
    "duration": 21,
    "start_time": "2021-11-29T09:59:36.154Z"
   },
   {
    "duration": 11,
    "start_time": "2021-11-29T10:09:11.839Z"
   },
   {
    "duration": 3,
    "start_time": "2021-11-29T10:20:17.430Z"
   },
   {
    "duration": 127,
    "start_time": "2021-11-29T10:21:07.638Z"
   },
   {
    "duration": 148,
    "start_time": "2021-11-29T10:21:30.813Z"
   },
   {
    "duration": 122,
    "start_time": "2021-11-29T10:21:48.751Z"
   },
   {
    "duration": 10,
    "start_time": "2021-11-29T10:22:32.208Z"
   },
   {
    "duration": 5,
    "start_time": "2021-11-29T10:23:03.216Z"
   },
   {
    "duration": 37,
    "start_time": "2021-11-29T10:26:44.909Z"
   },
   {
    "duration": 125,
    "start_time": "2021-11-29T10:27:00.101Z"
   },
   {
    "duration": 123,
    "start_time": "2021-11-29T10:27:08.025Z"
   },
   {
    "duration": 39,
    "start_time": "2021-11-29T10:29:54.330Z"
   },
   {
    "duration": 35,
    "start_time": "2021-11-29T10:30:09.938Z"
   },
   {
    "duration": 9,
    "start_time": "2021-11-29T10:36:57.745Z"
   },
   {
    "duration": 10,
    "start_time": "2021-11-29T10:37:02.785Z"
   },
   {
    "duration": 16,
    "start_time": "2021-11-29T10:37:38.586Z"
   },
   {
    "duration": 9,
    "start_time": "2021-11-29T10:37:58.822Z"
   },
   {
    "duration": 10,
    "start_time": "2021-11-29T10:38:07.146Z"
   },
   {
    "duration": 16,
    "start_time": "2021-11-29T10:39:05.300Z"
   },
   {
    "duration": 18,
    "start_time": "2021-11-29T10:39:38.613Z"
   },
   {
    "duration": 20,
    "start_time": "2021-11-29T10:40:01.733Z"
   },
   {
    "duration": 21,
    "start_time": "2021-11-29T10:40:58.783Z"
   },
   {
    "duration": 18,
    "start_time": "2021-11-29T10:41:10.359Z"
   },
   {
    "duration": 19,
    "start_time": "2021-11-29T10:42:26.896Z"
   },
   {
    "duration": 18,
    "start_time": "2021-11-29T10:42:48.721Z"
   },
   {
    "duration": 17,
    "start_time": "2021-11-29T10:44:54.076Z"
   },
   {
    "duration": 18,
    "start_time": "2021-11-29T10:45:17.733Z"
   },
   {
    "duration": 20,
    "start_time": "2021-11-29T10:46:16.669Z"
   },
   {
    "duration": 182,
    "start_time": "2021-11-29T10:48:52.360Z"
   },
   {
    "duration": 178,
    "start_time": "2021-11-29T10:49:05.408Z"
   },
   {
    "duration": 21,
    "start_time": "2021-11-29T10:49:19.153Z"
   },
   {
    "duration": 8,
    "start_time": "2021-11-29T10:50:46.955Z"
   },
   {
    "duration": 125,
    "start_time": "2021-11-29T15:10:00.104Z"
   },
   {
    "duration": -751,
    "start_time": "2021-11-29T15:10:00.983Z"
   },
   {
    "duration": -757,
    "start_time": "2021-11-29T15:10:00.991Z"
   },
   {
    "duration": -763,
    "start_time": "2021-11-29T15:10:00.998Z"
   },
   {
    "duration": -773,
    "start_time": "2021-11-29T15:10:01.009Z"
   },
   {
    "duration": -780,
    "start_time": "2021-11-29T15:10:01.017Z"
   },
   {
    "duration": -784,
    "start_time": "2021-11-29T15:10:01.023Z"
   },
   {
    "duration": -791,
    "start_time": "2021-11-29T15:10:01.031Z"
   },
   {
    "duration": -797,
    "start_time": "2021-11-29T15:10:01.038Z"
   },
   {
    "duration": -843,
    "start_time": "2021-11-29T15:10:01.086Z"
   },
   {
    "duration": -852,
    "start_time": "2021-11-29T15:10:01.096Z"
   },
   {
    "duration": -861,
    "start_time": "2021-11-29T15:10:01.106Z"
   },
   {
    "duration": -866,
    "start_time": "2021-11-29T15:10:01.112Z"
   },
   {
    "duration": -872,
    "start_time": "2021-11-29T15:10:01.120Z"
   },
   {
    "duration": -878,
    "start_time": "2021-11-29T15:10:01.127Z"
   },
   {
    "duration": -886,
    "start_time": "2021-11-29T15:10:01.137Z"
   },
   {
    "duration": -892,
    "start_time": "2021-11-29T15:10:01.144Z"
   },
   {
    "duration": -898,
    "start_time": "2021-11-29T15:10:01.151Z"
   },
   {
    "duration": -902,
    "start_time": "2021-11-29T15:10:01.157Z"
   },
   {
    "duration": -909,
    "start_time": "2021-11-29T15:10:01.165Z"
   },
   {
    "duration": -915,
    "start_time": "2021-11-29T15:10:01.172Z"
   },
   {
    "duration": -931,
    "start_time": "2021-11-29T15:10:01.190Z"
   },
   {
    "duration": 443,
    "start_time": "2021-11-29T15:10:00.261Z"
   },
   {
    "duration": -1731,
    "start_time": "2021-11-29T15:10:02.444Z"
   },
   {
    "duration": -3757,
    "start_time": "2021-11-29T15:10:04.472Z"
   },
   {
    "duration": -3763,
    "start_time": "2021-11-29T15:10:04.480Z"
   },
   {
    "duration": -3769,
    "start_time": "2021-11-29T15:10:04.488Z"
   },
   {
    "duration": -3775,
    "start_time": "2021-11-29T15:10:04.496Z"
   },
   {
    "duration": -3779,
    "start_time": "2021-11-29T15:10:04.503Z"
   },
   {
    "duration": -3786,
    "start_time": "2021-11-29T15:10:04.511Z"
   },
   {
    "duration": -3791,
    "start_time": "2021-11-29T15:10:04.518Z"
   },
   {
    "duration": -3796,
    "start_time": "2021-11-29T15:10:04.525Z"
   },
   {
    "duration": -3801,
    "start_time": "2021-11-29T15:10:04.532Z"
   },
   {
    "duration": -3807,
    "start_time": "2021-11-29T15:10:04.540Z"
   },
   {
    "duration": -3812,
    "start_time": "2021-11-29T15:10:04.547Z"
   },
   {
    "duration": -3817,
    "start_time": "2021-11-29T15:10:04.554Z"
   },
   {
    "duration": -3822,
    "start_time": "2021-11-29T15:10:04.561Z"
   },
   {
    "duration": -3827,
    "start_time": "2021-11-29T15:10:04.568Z"
   },
   {
    "duration": -3844,
    "start_time": "2021-11-29T15:10:04.587Z"
   },
   {
    "duration": -3849,
    "start_time": "2021-11-29T15:10:04.594Z"
   },
   {
    "duration": -3853,
    "start_time": "2021-11-29T15:10:04.602Z"
   },
   {
    "duration": -3859,
    "start_time": "2021-11-29T15:10:04.610Z"
   },
   {
    "duration": -3864,
    "start_time": "2021-11-29T15:10:04.617Z"
   },
   {
    "duration": -3869,
    "start_time": "2021-11-29T15:10:04.624Z"
   },
   {
    "duration": -3874,
    "start_time": "2021-11-29T15:10:04.631Z"
   },
   {
    "duration": -3879,
    "start_time": "2021-11-29T15:10:04.638Z"
   },
   {
    "duration": -3884,
    "start_time": "2021-11-29T15:10:04.645Z"
   },
   {
    "duration": -3890,
    "start_time": "2021-11-29T15:10:04.653Z"
   },
   {
    "duration": -3893,
    "start_time": "2021-11-29T15:10:04.659Z"
   },
   {
    "duration": -3899,
    "start_time": "2021-11-29T15:10:04.667Z"
   },
   {
    "duration": -3904,
    "start_time": "2021-11-29T15:10:04.674Z"
   },
   {
    "duration": -3853,
    "start_time": "2021-11-29T15:10:04.681Z"
   },
   {
    "duration": -3869,
    "start_time": "2021-11-29T15:10:04.699Z"
   },
   {
    "duration": -3876,
    "start_time": "2021-11-29T15:10:04.707Z"
   },
   {
    "duration": -3880,
    "start_time": "2021-11-29T15:10:04.713Z"
   },
   {
    "duration": -3887,
    "start_time": "2021-11-29T15:10:04.721Z"
   },
   {
    "duration": -3892,
    "start_time": "2021-11-29T15:10:04.727Z"
   },
   {
    "duration": -3898,
    "start_time": "2021-11-29T15:10:04.735Z"
   },
   {
    "duration": -3904,
    "start_time": "2021-11-29T15:10:04.742Z"
   },
   {
    "duration": -3910,
    "start_time": "2021-11-29T15:10:04.749Z"
   },
   {
    "duration": -3914,
    "start_time": "2021-11-29T15:10:04.755Z"
   },
   {
    "duration": -3919,
    "start_time": "2021-11-29T15:10:04.761Z"
   },
   {
    "duration": -3924,
    "start_time": "2021-11-29T15:10:04.768Z"
   },
   {
    "duration": -3929,
    "start_time": "2021-11-29T15:10:04.774Z"
   },
   {
    "duration": -3935,
    "start_time": "2021-11-29T15:10:04.781Z"
   },
   {
    "duration": -3940,
    "start_time": "2021-11-29T15:10:04.787Z"
   },
   {
    "duration": -3945,
    "start_time": "2021-11-29T15:10:04.794Z"
   },
   {
    "duration": -3962,
    "start_time": "2021-11-29T15:10:04.812Z"
   },
   {
    "duration": -3968,
    "start_time": "2021-11-29T15:10:04.819Z"
   },
   {
    "duration": -3972,
    "start_time": "2021-11-29T15:10:04.825Z"
   },
   {
    "duration": -3978,
    "start_time": "2021-11-29T15:10:04.832Z"
   },
   {
    "duration": -3983,
    "start_time": "2021-11-29T15:10:04.839Z"
   },
   {
    "duration": -3989,
    "start_time": "2021-11-29T15:10:04.846Z"
   },
   {
    "duration": -3994,
    "start_time": "2021-11-29T15:10:04.853Z"
   },
   {
    "duration": -3998,
    "start_time": "2021-11-29T15:10:04.859Z"
   },
   {
    "duration": -4004,
    "start_time": "2021-11-29T15:10:04.866Z"
   },
   {
    "duration": -4009,
    "start_time": "2021-11-29T15:10:04.872Z"
   },
   {
    "duration": -4013,
    "start_time": "2021-11-29T15:10:04.878Z"
   },
   {
    "duration": -4019,
    "start_time": "2021-11-29T15:10:04.885Z"
   },
   {
    "duration": -3961,
    "start_time": "2021-11-29T15:10:04.893Z"
   },
   {
    "duration": -3966,
    "start_time": "2021-11-29T15:10:04.900Z"
   },
   {
    "duration": -3971,
    "start_time": "2021-11-29T15:10:04.906Z"
   },
   {
    "duration": -3987,
    "start_time": "2021-11-29T15:10:04.924Z"
   },
   {
    "duration": -3992,
    "start_time": "2021-11-29T15:10:04.930Z"
   },
   {
    "duration": -3999,
    "start_time": "2021-11-29T15:10:04.939Z"
   },
   {
    "duration": -4004,
    "start_time": "2021-11-29T15:10:04.945Z"
   },
   {
    "duration": -4011,
    "start_time": "2021-11-29T15:10:04.953Z"
   },
   {
    "duration": -4016,
    "start_time": "2021-11-29T15:10:04.960Z"
   },
   {
    "duration": -4022,
    "start_time": "2021-11-29T15:10:04.967Z"
   },
   {
    "duration": -4028,
    "start_time": "2021-11-29T15:10:04.974Z"
   },
   {
    "duration": -4033,
    "start_time": "2021-11-29T15:10:04.981Z"
   },
   {
    "duration": 404,
    "start_time": "2021-11-29T15:10:00.955Z"
   },
   {
    "duration": -3656,
    "start_time": "2021-11-29T15:10:05.018Z"
   },
   {
    "duration": -3693,
    "start_time": "2021-11-29T15:10:05.057Z"
   },
   {
    "duration": -3701,
    "start_time": "2021-11-29T15:10:05.067Z"
   },
   {
    "duration": -3710,
    "start_time": "2021-11-29T15:10:05.077Z"
   },
   {
    "duration": -3717,
    "start_time": "2021-11-29T15:10:05.086Z"
   },
   {
    "duration": -3723,
    "start_time": "2021-11-29T15:10:05.093Z"
   },
   {
    "duration": -3730,
    "start_time": "2021-11-29T15:10:05.101Z"
   },
   {
    "duration": -3734,
    "start_time": "2021-11-29T15:10:05.107Z"
   },
   {
    "duration": -3740,
    "start_time": "2021-11-29T15:10:05.114Z"
   },
   {
    "duration": -3745,
    "start_time": "2021-11-29T15:10:05.121Z"
   },
   {
    "duration": -3752,
    "start_time": "2021-11-29T15:10:05.129Z"
   },
   {
    "duration": -3757,
    "start_time": "2021-11-29T15:10:05.136Z"
   },
   {
    "duration": -3763,
    "start_time": "2021-11-29T15:10:05.143Z"
   },
   {
    "duration": -3780,
    "start_time": "2021-11-29T15:10:05.162Z"
   },
   {
    "duration": -3788,
    "start_time": "2021-11-29T15:10:05.171Z"
   },
   {
    "duration": -3792,
    "start_time": "2021-11-29T15:10:05.177Z"
   },
   {
    "duration": -3799,
    "start_time": "2021-11-29T15:10:05.185Z"
   },
   {
    "duration": -3805,
    "start_time": "2021-11-29T15:10:05.192Z"
   },
   {
    "duration": -3812,
    "start_time": "2021-11-29T15:10:05.200Z"
   },
   {
    "duration": -3817,
    "start_time": "2021-11-29T15:10:05.206Z"
   },
   {
    "duration": -3823,
    "start_time": "2021-11-29T15:10:05.214Z"
   },
   {
    "duration": -3828,
    "start_time": "2021-11-29T15:10:05.220Z"
   },
   {
    "duration": -3835,
    "start_time": "2021-11-29T15:10:05.228Z"
   },
   {
    "duration": -3840,
    "start_time": "2021-11-29T15:10:05.234Z"
   },
   {
    "duration": -3847,
    "start_time": "2021-11-29T15:10:05.242Z"
   },
   {
    "duration": -3851,
    "start_time": "2021-11-29T15:10:05.248Z"
   },
   {
    "duration": -3858,
    "start_time": "2021-11-29T15:10:05.256Z"
   },
   {
    "duration": 1531,
    "start_time": "2021-11-29T15:12:46.379Z"
   },
   {
    "duration": 107,
    "start_time": "2021-11-29T15:12:47.913Z"
   },
   {
    "duration": 16,
    "start_time": "2021-11-29T15:12:48.022Z"
   },
   {
    "duration": 11,
    "start_time": "2021-11-29T15:12:48.041Z"
   },
   {
    "duration": 25,
    "start_time": "2021-11-29T15:12:48.055Z"
   },
   {
    "duration": 24,
    "start_time": "2021-11-29T15:12:48.083Z"
   },
   {
    "duration": 8,
    "start_time": "2021-11-29T15:12:48.109Z"
   },
   {
    "duration": 12,
    "start_time": "2021-11-29T15:12:48.131Z"
   },
   {
    "duration": 13,
    "start_time": "2021-11-29T15:12:48.146Z"
   },
   {
    "duration": 19,
    "start_time": "2021-11-29T15:12:48.161Z"
   },
   {
    "duration": 10,
    "start_time": "2021-11-29T15:12:48.182Z"
   },
   {
    "duration": 13,
    "start_time": "2021-11-29T15:12:48.194Z"
   },
   {
    "duration": 20,
    "start_time": "2021-11-29T15:12:48.229Z"
   },
   {
    "duration": 16,
    "start_time": "2021-11-29T15:12:48.252Z"
   },
   {
    "duration": 65,
    "start_time": "2021-11-29T15:12:48.270Z"
   },
   {
    "duration": 4,
    "start_time": "2021-11-29T15:12:48.338Z"
   },
   {
    "duration": 11,
    "start_time": "2021-11-29T15:12:48.345Z"
   },
   {
    "duration": 7,
    "start_time": "2021-11-29T15:12:48.358Z"
   },
   {
    "duration": 9,
    "start_time": "2021-11-29T15:12:48.367Z"
   },
   {
    "duration": 51,
    "start_time": "2021-11-29T15:12:48.378Z"
   },
   {
    "duration": 8,
    "start_time": "2021-11-29T15:12:48.432Z"
   },
   {
    "duration": 18,
    "start_time": "2021-11-29T15:12:48.443Z"
   },
   {
    "duration": 20,
    "start_time": "2021-11-29T15:12:48.467Z"
   },
   {
    "duration": 42,
    "start_time": "2021-11-29T15:12:48.491Z"
   },
   {
    "duration": 9,
    "start_time": "2021-11-29T15:12:48.535Z"
   },
   {
    "duration": 7,
    "start_time": "2021-11-29T15:12:48.546Z"
   },
   {
    "duration": 7,
    "start_time": "2021-11-29T15:12:48.555Z"
   },
   {
    "duration": 8,
    "start_time": "2021-11-29T15:12:48.564Z"
   },
   {
    "duration": 13,
    "start_time": "2021-11-29T15:12:48.574Z"
   },
   {
    "duration": 51,
    "start_time": "2021-11-29T15:12:48.589Z"
   },
   {
    "duration": 7,
    "start_time": "2021-11-29T15:12:48.642Z"
   },
   {
    "duration": 9,
    "start_time": "2021-11-29T15:12:48.651Z"
   },
   {
    "duration": 12,
    "start_time": "2021-11-29T15:12:48.663Z"
   },
   {
    "duration": 51,
    "start_time": "2021-11-29T15:12:48.678Z"
   },
   {
    "duration": 3,
    "start_time": "2021-11-29T15:12:48.732Z"
   },
   {
    "duration": 10,
    "start_time": "2021-11-29T15:12:48.738Z"
   },
   {
    "duration": 26,
    "start_time": "2021-11-29T15:12:48.751Z"
   },
   {
    "duration": 56,
    "start_time": "2021-11-29T15:12:48.779Z"
   },
   {
    "duration": 7,
    "start_time": "2021-11-29T15:12:48.838Z"
   },
   {
    "duration": 10,
    "start_time": "2021-11-29T15:12:48.847Z"
   },
   {
    "duration": 10,
    "start_time": "2021-11-29T15:12:48.859Z"
   },
   {
    "duration": 10,
    "start_time": "2021-11-29T15:12:48.871Z"
   },
   {
    "duration": 8,
    "start_time": "2021-11-29T15:12:48.883Z"
   },
   {
    "duration": 9,
    "start_time": "2021-11-29T15:12:48.930Z"
   },
   {
    "duration": 11,
    "start_time": "2021-11-29T15:12:48.942Z"
   },
   {
    "duration": 18,
    "start_time": "2021-11-29T15:12:48.955Z"
   },
   {
    "duration": 10,
    "start_time": "2021-11-29T15:12:48.976Z"
   },
   {
    "duration": 42,
    "start_time": "2021-11-29T15:12:48.988Z"
   },
   {
    "duration": 17,
    "start_time": "2021-11-29T15:12:49.033Z"
   },
   {
    "duration": 17,
    "start_time": "2021-11-29T15:12:49.052Z"
   },
   {
    "duration": 8,
    "start_time": "2021-11-29T15:12:49.071Z"
   },
   {
    "duration": 9,
    "start_time": "2021-11-29T15:12:49.082Z"
   },
   {
    "duration": 40,
    "start_time": "2021-11-29T15:12:49.093Z"
   },
   {
    "duration": 35,
    "start_time": "2021-11-29T15:12:49.136Z"
   },
   {
    "duration": 6,
    "start_time": "2021-11-29T15:12:49.173Z"
   },
   {
    "duration": 68,
    "start_time": "2021-11-29T15:12:49.181Z"
   },
   {
    "duration": 6,
    "start_time": "2021-11-29T15:12:49.251Z"
   },
   {
    "duration": 25,
    "start_time": "2021-11-29T15:12:49.259Z"
   },
   {
    "duration": 10,
    "start_time": "2021-11-29T15:12:49.287Z"
   },
   {
    "duration": 50,
    "start_time": "2021-11-29T15:12:49.299Z"
   },
   {
    "duration": 5,
    "start_time": "2021-11-29T15:12:49.351Z"
   },
   {
    "duration": 18,
    "start_time": "2021-11-29T15:12:49.358Z"
   },
   {
    "duration": 13,
    "start_time": "2021-11-29T15:12:49.378Z"
   },
   {
    "duration": 5,
    "start_time": "2021-11-29T15:12:49.394Z"
   },
   {
    "duration": 308,
    "start_time": "2021-11-29T15:12:49.401Z"
   },
   {
    "duration": 20,
    "start_time": "2021-11-29T15:12:49.711Z"
   },
   {
    "duration": 35,
    "start_time": "2021-11-29T15:12:49.733Z"
   },
   {
    "duration": 5,
    "start_time": "2021-11-29T15:12:49.777Z"
   },
   {
    "duration": 10,
    "start_time": "2021-11-29T15:12:49.785Z"
   },
   {
    "duration": 255,
    "start_time": "2021-11-29T15:12:49.797Z"
   },
   {
    "duration": 4,
    "start_time": "2021-11-29T15:12:50.055Z"
   },
   {
    "duration": 17,
    "start_time": "2021-11-29T15:12:50.062Z"
   },
   {
    "duration": 15,
    "start_time": "2021-11-29T15:12:50.081Z"
   },
   {
    "duration": 242,
    "start_time": "2021-11-29T15:12:50.098Z"
   },
   {
    "duration": 242,
    "start_time": "2021-11-29T15:12:50.343Z"
   },
   {
    "duration": 6,
    "start_time": "2021-11-29T15:12:50.588Z"
   },
   {
    "duration": 243,
    "start_time": "2021-11-29T15:12:50.597Z"
   },
   {
    "duration": 215,
    "start_time": "2021-11-29T15:12:50.843Z"
   },
   {
    "duration": 6,
    "start_time": "2021-11-29T15:12:51.061Z"
   },
   {
    "duration": 238,
    "start_time": "2021-11-29T15:12:51.069Z"
   },
   {
    "duration": 309,
    "start_time": "2021-11-29T15:12:51.309Z"
   },
   {
    "duration": 12,
    "start_time": "2021-11-29T15:12:51.620Z"
   },
   {
    "duration": 223,
    "start_time": "2021-11-29T15:12:51.634Z"
   },
   {
    "duration": 4,
    "start_time": "2021-11-29T15:12:51.859Z"
   },
   {
    "duration": 20,
    "start_time": "2021-11-29T15:12:51.865Z"
   },
   {
    "duration": 11,
    "start_time": "2021-11-29T15:12:51.887Z"
   },
   {
    "duration": 41,
    "start_time": "2021-11-29T15:12:51.901Z"
   },
   {
    "duration": 9,
    "start_time": "2021-11-29T15:12:51.944Z"
   },
   {
    "duration": 10,
    "start_time": "2021-11-29T15:12:51.955Z"
   },
   {
    "duration": 14,
    "start_time": "2021-11-29T15:12:51.967Z"
   },
   {
    "duration": 20,
    "start_time": "2021-11-29T15:12:51.983Z"
   },
   {
    "duration": 39,
    "start_time": "2021-11-29T15:12:52.006Z"
   },
   {
    "duration": 4,
    "start_time": "2021-11-29T15:12:52.047Z"
   },
   {
    "duration": 18,
    "start_time": "2021-11-29T15:12:52.053Z"
   },
   {
    "duration": 23,
    "start_time": "2021-11-29T15:12:52.074Z"
   },
   {
    "duration": 72,
    "start_time": "2021-11-29T15:12:52.099Z"
   },
   {
    "duration": 5,
    "start_time": "2021-11-29T15:12:52.173Z"
   },
   {
    "duration": 296,
    "start_time": "2021-11-29T15:12:52.180Z"
   },
   {
    "duration": 10,
    "start_time": "2021-11-29T15:12:52.478Z"
   },
   {
    "duration": 8,
    "start_time": "2021-11-29T15:12:52.490Z"
   },
   {
    "duration": 504,
    "start_time": "2021-11-29T15:12:52.501Z"
   },
   {
    "duration": 26,
    "start_time": "2021-11-29T15:12:53.008Z"
   },
   {
    "duration": 41,
    "start_time": "2021-11-29T15:12:53.037Z"
   },
   {
    "duration": 6,
    "start_time": "2021-11-29T15:12:53.081Z"
   },
   {
    "duration": 39,
    "start_time": "2021-11-29T15:12:53.089Z"
   },
   {
    "duration": 15,
    "start_time": "2021-11-29T15:12:53.131Z"
   },
   {
    "duration": 602,
    "start_time": "2021-11-29T15:12:53.148Z"
   },
   {
    "duration": 11,
    "start_time": "2021-11-29T15:12:53.752Z"
   },
   {
    "duration": 55,
    "start_time": "2021-11-29T15:12:53.765Z"
   },
   {
    "duration": 9,
    "start_time": "2021-11-29T15:12:53.823Z"
   },
   {
    "duration": 829,
    "start_time": "2021-11-29T15:12:53.834Z"
   },
   {
    "duration": 4,
    "start_time": "2021-11-29T15:12:54.665Z"
   },
   {
    "duration": 238,
    "start_time": "2021-11-29T15:12:54.672Z"
   },
   {
    "duration": 5,
    "start_time": "2021-11-29T15:12:54.913Z"
   },
   {
    "duration": 60,
    "start_time": "2021-11-29T15:12:54.921Z"
   },
   {
    "duration": 55,
    "start_time": "2021-11-29T15:12:54.984Z"
   },
   {
    "duration": 38,
    "start_time": "2021-11-29T15:12:55.041Z"
   },
   {
    "duration": 11,
    "start_time": "2021-11-29T15:12:55.083Z"
   },
   {
    "duration": 128,
    "start_time": "2021-11-29T15:24:18.919Z"
   },
   {
    "duration": 63,
    "start_time": "2021-11-29T15:29:41.286Z"
   },
   {
    "duration": 7,
    "start_time": "2021-11-29T15:29:52.280Z"
   },
   {
    "duration": 1645,
    "start_time": "2021-11-29T15:30:02.348Z"
   },
   {
    "duration": 113,
    "start_time": "2021-11-29T15:30:03.995Z"
   },
   {
    "duration": 25,
    "start_time": "2021-11-29T15:30:04.112Z"
   },
   {
    "duration": 11,
    "start_time": "2021-11-29T15:30:04.141Z"
   },
   {
    "duration": 12,
    "start_time": "2021-11-29T15:30:04.155Z"
   },
   {
    "duration": 16,
    "start_time": "2021-11-29T15:30:04.170Z"
   },
   {
    "duration": 13,
    "start_time": "2021-11-29T15:30:04.188Z"
   },
   {
    "duration": 6,
    "start_time": "2021-11-29T15:30:04.235Z"
   },
   {
    "duration": 8,
    "start_time": "2021-11-29T15:30:04.245Z"
   },
   {
    "duration": 19,
    "start_time": "2021-11-29T15:30:04.256Z"
   },
   {
    "duration": 8,
    "start_time": "2021-11-29T15:30:04.279Z"
   },
   {
    "duration": 43,
    "start_time": "2021-11-29T15:30:04.289Z"
   },
   {
    "duration": 30,
    "start_time": "2021-11-29T15:30:04.335Z"
   },
   {
    "duration": 26,
    "start_time": "2021-11-29T15:30:04.368Z"
   },
   {
    "duration": 64,
    "start_time": "2021-11-29T15:30:04.398Z"
   },
   {
    "duration": 5,
    "start_time": "2021-11-29T15:30:04.464Z"
   },
   {
    "duration": 11,
    "start_time": "2021-11-29T15:30:04.472Z"
   },
   {
    "duration": 13,
    "start_time": "2021-11-29T15:30:04.485Z"
   },
   {
    "duration": 7,
    "start_time": "2021-11-29T15:30:04.530Z"
   },
   {
    "duration": 17,
    "start_time": "2021-11-29T15:30:04.540Z"
   },
   {
    "duration": 6,
    "start_time": "2021-11-29T15:30:04.560Z"
   },
   {
    "duration": 19,
    "start_time": "2021-11-29T15:30:04.568Z"
   },
   {
    "duration": 21,
    "start_time": "2021-11-29T15:30:04.633Z"
   },
   {
    "duration": 9,
    "start_time": "2021-11-29T15:30:04.657Z"
   },
   {
    "duration": 11,
    "start_time": "2021-11-29T15:30:04.668Z"
   },
   {
    "duration": 8,
    "start_time": "2021-11-29T15:30:04.681Z"
   },
   {
    "duration": 6,
    "start_time": "2021-11-29T15:30:04.728Z"
   },
   {
    "duration": 9,
    "start_time": "2021-11-29T15:30:04.737Z"
   },
   {
    "duration": 12,
    "start_time": "2021-11-29T15:30:04.749Z"
   },
   {
    "duration": 12,
    "start_time": "2021-11-29T15:30:04.764Z"
   },
   {
    "duration": 52,
    "start_time": "2021-11-29T15:30:04.778Z"
   },
   {
    "duration": 17,
    "start_time": "2021-11-29T15:30:04.833Z"
   },
   {
    "duration": 15,
    "start_time": "2021-11-29T15:30:04.852Z"
   },
   {
    "duration": 7,
    "start_time": "2021-11-29T15:30:04.869Z"
   },
   {
    "duration": 9,
    "start_time": "2021-11-29T15:30:04.878Z"
   },
   {
    "duration": 11,
    "start_time": "2021-11-29T15:30:04.889Z"
   },
   {
    "duration": 24,
    "start_time": "2021-11-29T15:30:04.929Z"
   },
   {
    "duration": 19,
    "start_time": "2021-11-29T15:30:04.956Z"
   },
   {
    "duration": 7,
    "start_time": "2021-11-29T15:30:04.978Z"
   },
   {
    "duration": 14,
    "start_time": "2021-11-29T15:30:04.987Z"
   },
   {
    "duration": 10,
    "start_time": "2021-11-29T15:30:05.030Z"
   },
   {
    "duration": 11,
    "start_time": "2021-11-29T15:30:05.043Z"
   },
   {
    "duration": 11,
    "start_time": "2021-11-29T15:30:05.057Z"
   },
   {
    "duration": 11,
    "start_time": "2021-11-29T15:30:05.070Z"
   },
   {
    "duration": 50,
    "start_time": "2021-11-29T15:30:05.084Z"
   },
   {
    "duration": 21,
    "start_time": "2021-11-29T15:30:05.137Z"
   },
   {
    "duration": 9,
    "start_time": "2021-11-29T15:30:05.161Z"
   },
   {
    "duration": 6,
    "start_time": "2021-11-29T15:30:05.173Z"
   },
   {
    "duration": 48,
    "start_time": "2021-11-29T15:30:05.182Z"
   },
   {
    "duration": 13,
    "start_time": "2021-11-29T15:30:05.233Z"
   },
   {
    "duration": 6,
    "start_time": "2021-11-29T15:30:05.249Z"
   },
   {
    "duration": 17,
    "start_time": "2021-11-29T15:30:05.257Z"
   },
   {
    "duration": 20,
    "start_time": "2021-11-29T15:30:05.277Z"
   },
   {
    "duration": 56,
    "start_time": "2021-11-29T15:30:05.300Z"
   },
   {
    "duration": 6,
    "start_time": "2021-11-29T15:30:05.358Z"
   },
   {
    "duration": 35,
    "start_time": "2021-11-29T15:30:05.367Z"
   },
   {
    "duration": 27,
    "start_time": "2021-11-29T15:30:05.405Z"
   },
   {
    "duration": 12,
    "start_time": "2021-11-29T15:30:05.434Z"
   },
   {
    "duration": 12,
    "start_time": "2021-11-29T15:30:05.448Z"
   },
   {
    "duration": 45,
    "start_time": "2021-11-29T15:30:05.463Z"
   },
   {
    "duration": 4,
    "start_time": "2021-11-29T15:30:05.530Z"
   },
   {
    "duration": 38,
    "start_time": "2021-11-29T15:30:05.536Z"
   },
   {
    "duration": 32,
    "start_time": "2021-11-29T15:30:05.577Z"
   },
   {
    "duration": 20,
    "start_time": "2021-11-29T15:30:05.612Z"
   },
   {
    "duration": 296,
    "start_time": "2021-11-29T15:30:05.635Z"
   },
   {
    "duration": 10,
    "start_time": "2021-11-29T15:30:05.933Z"
   },
   {
    "duration": 66,
    "start_time": "2021-11-29T15:30:05.945Z"
   },
   {
    "duration": 4,
    "start_time": "2021-11-29T15:30:06.020Z"
   },
   {
    "duration": 9,
    "start_time": "2021-11-29T15:30:06.028Z"
   },
   {
    "duration": 233,
    "start_time": "2021-11-29T15:30:06.039Z"
   },
   {
    "duration": 4,
    "start_time": "2021-11-29T15:30:06.274Z"
   },
   {
    "duration": 13,
    "start_time": "2021-11-29T15:30:06.280Z"
   },
   {
    "duration": 11,
    "start_time": "2021-11-29T15:30:06.296Z"
   },
   {
    "duration": 245,
    "start_time": "2021-11-29T15:30:06.309Z"
   },
   {
    "duration": 243,
    "start_time": "2021-11-29T15:30:06.556Z"
   },
   {
    "duration": 8,
    "start_time": "2021-11-29T15:30:06.802Z"
   },
   {
    "duration": 244,
    "start_time": "2021-11-29T15:30:06.813Z"
   },
   {
    "duration": 218,
    "start_time": "2021-11-29T15:30:07.059Z"
   },
   {
    "duration": 8,
    "start_time": "2021-11-29T15:30:07.280Z"
   },
   {
    "duration": 231,
    "start_time": "2021-11-29T15:30:07.290Z"
   },
   {
    "duration": 298,
    "start_time": "2021-11-29T15:30:07.523Z"
   },
   {
    "duration": 6,
    "start_time": "2021-11-29T15:30:07.828Z"
   },
   {
    "duration": 328,
    "start_time": "2021-11-29T15:30:07.837Z"
   },
   {
    "duration": 4,
    "start_time": "2021-11-29T15:30:08.167Z"
   },
   {
    "duration": 13,
    "start_time": "2021-11-29T15:30:08.174Z"
   },
   {
    "duration": 14,
    "start_time": "2021-11-29T15:30:08.189Z"
   },
   {
    "duration": 16,
    "start_time": "2021-11-29T15:30:08.230Z"
   },
   {
    "duration": 8,
    "start_time": "2021-11-29T15:30:08.249Z"
   },
   {
    "duration": 10,
    "start_time": "2021-11-29T15:30:08.259Z"
   },
   {
    "duration": 18,
    "start_time": "2021-11-29T15:30:08.271Z"
   },
   {
    "duration": 43,
    "start_time": "2021-11-29T15:30:08.292Z"
   },
   {
    "duration": 18,
    "start_time": "2021-11-29T15:30:08.337Z"
   },
   {
    "duration": 5,
    "start_time": "2021-11-29T15:30:08.357Z"
   },
   {
    "duration": 19,
    "start_time": "2021-11-29T15:30:08.364Z"
   },
   {
    "duration": 53,
    "start_time": "2021-11-29T15:30:08.386Z"
   },
   {
    "duration": 66,
    "start_time": "2021-11-29T15:30:08.442Z"
   },
   {
    "duration": 4,
    "start_time": "2021-11-29T15:30:08.531Z"
   },
   {
    "duration": 472,
    "start_time": "2021-11-29T15:30:08.538Z"
   },
   {
    "duration": 20,
    "start_time": "2021-11-29T15:30:09.013Z"
   },
   {
    "duration": 10,
    "start_time": "2021-11-29T15:30:09.036Z"
   },
   {
    "duration": 513,
    "start_time": "2021-11-29T15:30:09.049Z"
   },
   {
    "duration": 15,
    "start_time": "2021-11-29T15:30:09.565Z"
   },
   {
    "duration": 58,
    "start_time": "2021-11-29T15:30:09.582Z"
   },
   {
    "duration": 8,
    "start_time": "2021-11-29T15:30:09.644Z"
   },
   {
    "duration": 16,
    "start_time": "2021-11-29T15:30:09.655Z"
   },
   {
    "duration": 22,
    "start_time": "2021-11-29T15:30:09.674Z"
   },
   {
    "duration": 536,
    "start_time": "2021-11-29T15:30:09.699Z"
   },
   {
    "duration": 11,
    "start_time": "2021-11-29T15:30:10.238Z"
   },
   {
    "duration": 30,
    "start_time": "2021-11-29T15:30:10.251Z"
   },
   {
    "duration": 10,
    "start_time": "2021-11-29T15:30:10.284Z"
   },
   {
    "duration": 812,
    "start_time": "2021-11-29T15:30:10.328Z"
   },
   {
    "duration": 5,
    "start_time": "2021-11-29T15:30:11.142Z"
   },
   {
    "duration": 236,
    "start_time": "2021-11-29T15:30:11.149Z"
   },
   {
    "duration": 6,
    "start_time": "2021-11-29T15:30:11.387Z"
   },
   {
    "duration": 73,
    "start_time": "2021-11-29T15:30:11.395Z"
   },
   {
    "duration": 29,
    "start_time": "2021-11-29T15:30:11.470Z"
   },
   {
    "duration": 47,
    "start_time": "2021-11-29T15:30:11.502Z"
   },
   {
    "duration": 10,
    "start_time": "2021-11-29T15:30:11.552Z"
   },
   {
    "duration": 883,
    "start_time": "2021-11-29T15:54:10.661Z"
   },
   {
    "duration": 196,
    "start_time": "2021-11-29T16:03:51.934Z"
   },
   {
    "duration": 127,
    "start_time": "2021-11-29T16:18:39.688Z"
   },
   {
    "duration": 1077,
    "start_time": "2021-12-02T03:09:40.732Z"
   },
   {
    "duration": 96,
    "start_time": "2021-12-02T03:09:41.811Z"
   },
   {
    "duration": 11,
    "start_time": "2021-12-02T03:09:41.911Z"
   },
   {
    "duration": 5,
    "start_time": "2021-12-02T03:09:41.923Z"
   },
   {
    "duration": 6,
    "start_time": "2021-12-02T03:09:41.930Z"
   },
   {
    "duration": 12,
    "start_time": "2021-12-02T03:09:41.938Z"
   },
   {
    "duration": 6,
    "start_time": "2021-12-02T03:09:41.953Z"
   },
   {
    "duration": 4,
    "start_time": "2021-12-02T03:09:41.961Z"
   },
   {
    "duration": 5,
    "start_time": "2021-12-02T03:09:41.967Z"
   },
   {
    "duration": 10,
    "start_time": "2021-12-02T03:09:41.991Z"
   },
   {
    "duration": 5,
    "start_time": "2021-12-02T03:09:42.002Z"
   },
   {
    "duration": 3,
    "start_time": "2021-12-02T03:09:42.009Z"
   },
   {
    "duration": 15,
    "start_time": "2021-12-02T03:09:42.014Z"
   },
   {
    "duration": 11,
    "start_time": "2021-12-02T03:09:42.030Z"
   },
   {
    "duration": 50,
    "start_time": "2021-12-02T03:09:42.042Z"
   },
   {
    "duration": 3,
    "start_time": "2021-12-02T03:09:42.094Z"
   },
   {
    "duration": 9,
    "start_time": "2021-12-02T03:09:42.098Z"
   },
   {
    "duration": 5,
    "start_time": "2021-12-02T03:09:42.108Z"
   },
   {
    "duration": 6,
    "start_time": "2021-12-02T03:09:42.114Z"
   },
   {
    "duration": 12,
    "start_time": "2021-12-02T03:09:42.122Z"
   },
   {
    "duration": 5,
    "start_time": "2021-12-02T03:09:42.135Z"
   },
   {
    "duration": 8,
    "start_time": "2021-12-02T03:09:42.145Z"
   },
   {
    "duration": 41,
    "start_time": "2021-12-02T03:09:42.156Z"
   },
   {
    "duration": 22,
    "start_time": "2021-12-02T03:09:42.199Z"
   },
   {
    "duration": 7,
    "start_time": "2021-12-02T03:09:42.222Z"
   },
   {
    "duration": 12,
    "start_time": "2021-12-02T03:09:42.231Z"
   },
   {
    "duration": 11,
    "start_time": "2021-12-02T03:09:42.245Z"
   },
   {
    "duration": 12,
    "start_time": "2021-12-02T03:09:42.258Z"
   },
   {
    "duration": 14,
    "start_time": "2021-12-02T03:09:42.271Z"
   },
   {
    "duration": 18,
    "start_time": "2021-12-02T03:09:42.287Z"
   },
   {
    "duration": 12,
    "start_time": "2021-12-02T03:09:42.306Z"
   },
   {
    "duration": 12,
    "start_time": "2021-12-02T03:09:42.319Z"
   },
   {
    "duration": 30,
    "start_time": "2021-12-02T03:09:42.332Z"
   },
   {
    "duration": 4,
    "start_time": "2021-12-02T03:09:42.364Z"
   },
   {
    "duration": 16,
    "start_time": "2021-12-02T03:09:42.369Z"
   },
   {
    "duration": 17,
    "start_time": "2021-12-02T03:09:42.386Z"
   },
   {
    "duration": 28,
    "start_time": "2021-12-02T03:09:42.404Z"
   },
   {
    "duration": 7,
    "start_time": "2021-12-02T03:09:42.434Z"
   },
   {
    "duration": 27,
    "start_time": "2021-12-02T03:09:42.442Z"
   },
   {
    "duration": 16,
    "start_time": "2021-12-02T03:09:42.471Z"
   },
   {
    "duration": 21,
    "start_time": "2021-12-02T03:09:42.489Z"
   },
   {
    "duration": 20,
    "start_time": "2021-12-02T03:09:42.512Z"
   },
   {
    "duration": 11,
    "start_time": "2021-12-02T03:09:42.534Z"
   },
   {
    "duration": 24,
    "start_time": "2021-12-02T03:09:42.546Z"
   },
   {
    "duration": 10,
    "start_time": "2021-12-02T03:09:42.572Z"
   },
   {
    "duration": 12,
    "start_time": "2021-12-02T03:09:42.584Z"
   },
   {
    "duration": 5,
    "start_time": "2021-12-02T03:09:42.597Z"
   },
   {
    "duration": 5,
    "start_time": "2021-12-02T03:09:42.604Z"
   },
   {
    "duration": 11,
    "start_time": "2021-12-02T03:09:42.610Z"
   },
   {
    "duration": 9,
    "start_time": "2021-12-02T03:09:42.622Z"
   },
   {
    "duration": 5,
    "start_time": "2021-12-02T03:09:42.632Z"
   },
   {
    "duration": 7,
    "start_time": "2021-12-02T03:09:42.638Z"
   },
   {
    "duration": 7,
    "start_time": "2021-12-02T03:09:42.646Z"
   },
   {
    "duration": 56,
    "start_time": "2021-12-02T03:09:42.654Z"
   },
   {
    "duration": 4,
    "start_time": "2021-12-02T03:09:42.712Z"
   },
   {
    "duration": 26,
    "start_time": "2021-12-02T03:09:42.718Z"
   },
   {
    "duration": 5,
    "start_time": "2021-12-02T03:09:42.746Z"
   },
   {
    "duration": 6,
    "start_time": "2021-12-02T03:09:42.752Z"
   },
   {
    "duration": 6,
    "start_time": "2021-12-02T03:09:42.759Z"
   },
   {
    "duration": 45,
    "start_time": "2021-12-02T03:09:42.766Z"
   },
   {
    "duration": 2,
    "start_time": "2021-12-02T03:09:42.813Z"
   },
   {
    "duration": 6,
    "start_time": "2021-12-02T03:09:42.817Z"
   },
   {
    "duration": 7,
    "start_time": "2021-12-02T03:09:42.825Z"
   },
   {
    "duration": 7,
    "start_time": "2021-12-02T03:09:42.833Z"
   },
   {
    "duration": 179,
    "start_time": "2021-12-02T03:09:42.841Z"
   },
   {
    "duration": 7,
    "start_time": "2021-12-02T03:09:43.021Z"
   },
   {
    "duration": 21,
    "start_time": "2021-12-02T03:09:43.034Z"
   },
   {
    "duration": 3,
    "start_time": "2021-12-02T03:09:43.057Z"
   },
   {
    "duration": 7,
    "start_time": "2021-12-02T03:09:43.061Z"
   },
   {
    "duration": 151,
    "start_time": "2021-12-02T03:09:43.092Z"
   },
   {
    "duration": 2,
    "start_time": "2021-12-02T03:09:43.245Z"
   },
   {
    "duration": 40,
    "start_time": "2021-12-02T03:09:43.249Z"
   },
   {
    "duration": 20,
    "start_time": "2021-12-02T03:09:43.290Z"
   },
   {
    "duration": 147,
    "start_time": "2021-12-02T03:09:43.312Z"
   },
   {
    "duration": 143,
    "start_time": "2021-12-02T03:09:43.460Z"
   },
   {
    "duration": 4,
    "start_time": "2021-12-02T03:09:43.604Z"
   },
   {
    "duration": 141,
    "start_time": "2021-12-02T03:09:43.610Z"
   },
   {
    "duration": 131,
    "start_time": "2021-12-02T03:09:43.752Z"
   },
   {
    "duration": 8,
    "start_time": "2021-12-02T03:09:43.885Z"
   },
   {
    "duration": 133,
    "start_time": "2021-12-02T03:09:43.895Z"
   },
   {
    "duration": 204,
    "start_time": "2021-12-02T03:09:44.030Z"
   },
   {
    "duration": 5,
    "start_time": "2021-12-02T03:09:44.235Z"
   },
   {
    "duration": 135,
    "start_time": "2021-12-02T03:09:44.241Z"
   },
   {
    "duration": 2,
    "start_time": "2021-12-02T03:09:44.378Z"
   },
   {
    "duration": 14,
    "start_time": "2021-12-02T03:09:44.381Z"
   },
   {
    "duration": 13,
    "start_time": "2021-12-02T03:09:44.396Z"
   },
   {
    "duration": 21,
    "start_time": "2021-12-02T03:09:44.410Z"
   },
   {
    "duration": 5,
    "start_time": "2021-12-02T03:09:44.433Z"
   },
   {
    "duration": 9,
    "start_time": "2021-12-02T03:09:44.439Z"
   },
   {
    "duration": 15,
    "start_time": "2021-12-02T03:09:44.449Z"
   },
   {
    "duration": 16,
    "start_time": "2021-12-02T03:09:44.465Z"
   },
   {
    "duration": 12,
    "start_time": "2021-12-02T03:09:44.483Z"
   },
   {
    "duration": 3,
    "start_time": "2021-12-02T03:09:44.497Z"
   },
   {
    "duration": 12,
    "start_time": "2021-12-02T03:09:44.502Z"
   },
   {
    "duration": 19,
    "start_time": "2021-12-02T03:09:44.515Z"
   },
   {
    "duration": 30,
    "start_time": "2021-12-02T03:09:44.535Z"
   },
   {
    "duration": 3,
    "start_time": "2021-12-02T03:09:44.566Z"
   },
   {
    "duration": 175,
    "start_time": "2021-12-02T03:09:44.571Z"
   },
   {
    "duration": 7,
    "start_time": "2021-12-02T03:09:44.747Z"
   },
   {
    "duration": 6,
    "start_time": "2021-12-02T03:09:44.755Z"
   },
   {
    "duration": 310,
    "start_time": "2021-12-02T03:09:44.762Z"
   },
   {
    "duration": 18,
    "start_time": "2021-12-02T03:09:45.074Z"
   },
   {
    "duration": 20,
    "start_time": "2021-12-02T03:09:45.094Z"
   },
   {
    "duration": 4,
    "start_time": "2021-12-02T03:09:45.116Z"
   },
   {
    "duration": 10,
    "start_time": "2021-12-02T03:09:45.121Z"
   },
   {
    "duration": 10,
    "start_time": "2021-12-02T03:09:45.132Z"
   },
   {
    "duration": 318,
    "start_time": "2021-12-02T03:09:45.144Z"
   },
   {
    "duration": 6,
    "start_time": "2021-12-02T03:09:45.464Z"
   },
   {
    "duration": 33,
    "start_time": "2021-12-02T03:09:45.472Z"
   },
   {
    "duration": 6,
    "start_time": "2021-12-02T03:09:45.506Z"
   },
   {
    "duration": 510,
    "start_time": "2021-12-02T03:09:45.513Z"
   },
   {
    "duration": 3,
    "start_time": "2021-12-02T03:09:46.024Z"
   },
   {
    "duration": 133,
    "start_time": "2021-12-02T03:09:46.029Z"
   },
   {
    "duration": 4,
    "start_time": "2021-12-02T03:09:46.164Z"
   },
   {
    "duration": 44,
    "start_time": "2021-12-02T03:09:46.169Z"
   },
   {
    "duration": 18,
    "start_time": "2021-12-02T03:09:46.215Z"
   },
   {
    "duration": 17,
    "start_time": "2021-12-02T03:09:46.234Z"
   },
   {
    "duration": 8,
    "start_time": "2021-12-02T03:09:46.252Z"
   },
   {
    "duration": 1137,
    "start_time": "2021-12-02T03:10:20.672Z"
   },
   {
    "duration": 98,
    "start_time": "2021-12-02T03:10:21.811Z"
   },
   {
    "duration": 11,
    "start_time": "2021-12-02T03:10:21.911Z"
   },
   {
    "duration": 6,
    "start_time": "2021-12-02T03:10:21.924Z"
   },
   {
    "duration": 7,
    "start_time": "2021-12-02T03:10:21.931Z"
   },
   {
    "duration": 12,
    "start_time": "2021-12-02T03:10:21.939Z"
   },
   {
    "duration": 6,
    "start_time": "2021-12-02T03:10:21.952Z"
   },
   {
    "duration": 4,
    "start_time": "2021-12-02T03:10:21.960Z"
   },
   {
    "duration": 6,
    "start_time": "2021-12-02T03:10:21.966Z"
   },
   {
    "duration": 25,
    "start_time": "2021-12-02T03:10:21.974Z"
   },
   {
    "duration": 5,
    "start_time": "2021-12-02T03:10:22.001Z"
   },
   {
    "duration": 5,
    "start_time": "2021-12-02T03:10:22.007Z"
   },
   {
    "duration": 16,
    "start_time": "2021-12-02T03:10:22.013Z"
   },
   {
    "duration": 11,
    "start_time": "2021-12-02T03:10:22.030Z"
   },
   {
    "duration": 50,
    "start_time": "2021-12-02T03:10:22.043Z"
   },
   {
    "duration": 4,
    "start_time": "2021-12-02T03:10:22.094Z"
   },
   {
    "duration": 9,
    "start_time": "2021-12-02T03:10:22.099Z"
   },
   {
    "duration": 5,
    "start_time": "2021-12-02T03:10:22.110Z"
   },
   {
    "duration": 6,
    "start_time": "2021-12-02T03:10:22.116Z"
   },
   {
    "duration": 13,
    "start_time": "2021-12-02T03:10:22.124Z"
   },
   {
    "duration": 4,
    "start_time": "2021-12-02T03:10:22.138Z"
   },
   {
    "duration": 12,
    "start_time": "2021-12-02T03:10:22.144Z"
   },
   {
    "duration": 36,
    "start_time": "2021-12-02T03:10:22.160Z"
   },
   {
    "duration": 8,
    "start_time": "2021-12-02T03:10:22.199Z"
   },
   {
    "duration": 5,
    "start_time": "2021-12-02T03:10:22.208Z"
   },
   {
    "duration": 5,
    "start_time": "2021-12-02T03:10:22.215Z"
   },
   {
    "duration": 6,
    "start_time": "2021-12-02T03:10:22.221Z"
   },
   {
    "duration": 6,
    "start_time": "2021-12-02T03:10:22.228Z"
   },
   {
    "duration": 11,
    "start_time": "2021-12-02T03:10:22.236Z"
   },
   {
    "duration": 10,
    "start_time": "2021-12-02T03:10:22.248Z"
   },
   {
    "duration": 34,
    "start_time": "2021-12-02T03:10:22.259Z"
   },
   {
    "duration": 5,
    "start_time": "2021-12-02T03:10:22.294Z"
   },
   {
    "duration": 10,
    "start_time": "2021-12-02T03:10:22.300Z"
   },
   {
    "duration": 5,
    "start_time": "2021-12-02T03:10:22.311Z"
   },
   {
    "duration": 5,
    "start_time": "2021-12-02T03:10:22.317Z"
   },
   {
    "duration": 7,
    "start_time": "2021-12-02T03:10:22.323Z"
   },
   {
    "duration": 16,
    "start_time": "2021-12-02T03:10:22.332Z"
   },
   {
    "duration": 11,
    "start_time": "2021-12-02T03:10:22.350Z"
   },
   {
    "duration": 4,
    "start_time": "2021-12-02T03:10:22.363Z"
   },
   {
    "duration": 5,
    "start_time": "2021-12-02T03:10:22.391Z"
   },
   {
    "duration": 10,
    "start_time": "2021-12-02T03:10:22.397Z"
   },
   {
    "duration": 14,
    "start_time": "2021-12-02T03:10:22.408Z"
   },
   {
    "duration": 6,
    "start_time": "2021-12-02T03:10:22.424Z"
   },
   {
    "duration": 7,
    "start_time": "2021-12-02T03:10:22.432Z"
   },
   {
    "duration": 9,
    "start_time": "2021-12-02T03:10:22.440Z"
   },
   {
    "duration": 10,
    "start_time": "2021-12-02T03:10:22.450Z"
   },
   {
    "duration": 6,
    "start_time": "2021-12-02T03:10:22.461Z"
   },
   {
    "duration": 25,
    "start_time": "2021-12-02T03:10:22.468Z"
   },
   {
    "duration": 14,
    "start_time": "2021-12-02T03:10:22.494Z"
   },
   {
    "duration": 10,
    "start_time": "2021-12-02T03:10:22.509Z"
   },
   {
    "duration": 4,
    "start_time": "2021-12-02T03:10:22.521Z"
   },
   {
    "duration": 7,
    "start_time": "2021-12-02T03:10:22.527Z"
   },
   {
    "duration": 6,
    "start_time": "2021-12-02T03:10:22.535Z"
   },
   {
    "duration": 52,
    "start_time": "2021-12-02T03:10:22.542Z"
   },
   {
    "duration": 4,
    "start_time": "2021-12-02T03:10:22.596Z"
   },
   {
    "duration": 26,
    "start_time": "2021-12-02T03:10:22.602Z"
   },
   {
    "duration": 4,
    "start_time": "2021-12-02T03:10:22.630Z"
   },
   {
    "duration": 23,
    "start_time": "2021-12-02T03:10:22.635Z"
   },
   {
    "duration": 8,
    "start_time": "2021-12-02T03:10:22.660Z"
   },
   {
    "duration": 32,
    "start_time": "2021-12-02T03:10:22.669Z"
   },
   {
    "duration": 3,
    "start_time": "2021-12-02T03:10:22.703Z"
   },
   {
    "duration": 8,
    "start_time": "2021-12-02T03:10:22.707Z"
   },
   {
    "duration": 9,
    "start_time": "2021-12-02T03:10:22.717Z"
   },
   {
    "duration": 5,
    "start_time": "2021-12-02T03:10:22.728Z"
   },
   {
    "duration": 190,
    "start_time": "2021-12-02T03:10:22.735Z"
   },
   {
    "duration": 8,
    "start_time": "2021-12-02T03:10:22.927Z"
   },
   {
    "duration": 60,
    "start_time": "2021-12-02T03:10:22.937Z"
   },
   {
    "duration": 3,
    "start_time": "2021-12-02T03:10:23.002Z"
   },
   {
    "duration": 6,
    "start_time": "2021-12-02T03:10:23.007Z"
   },
   {
    "duration": 146,
    "start_time": "2021-12-02T03:10:23.015Z"
   },
   {
    "duration": 3,
    "start_time": "2021-12-02T03:10:23.163Z"
   },
   {
    "duration": 12,
    "start_time": "2021-12-02T03:10:23.167Z"
   },
   {
    "duration": 8,
    "start_time": "2021-12-02T03:10:23.180Z"
   },
   {
    "duration": 145,
    "start_time": "2021-12-02T03:10:23.190Z"
   },
   {
    "duration": 156,
    "start_time": "2021-12-02T03:10:23.337Z"
   },
   {
    "duration": 5,
    "start_time": "2021-12-02T03:10:23.494Z"
   },
   {
    "duration": 137,
    "start_time": "2021-12-02T03:10:23.501Z"
   },
   {
    "duration": 161,
    "start_time": "2021-12-02T03:10:23.640Z"
   },
   {
    "duration": 5,
    "start_time": "2021-12-02T03:10:23.802Z"
   },
   {
    "duration": 294,
    "start_time": "2021-12-02T03:10:23.808Z"
   },
   {
    "duration": 325,
    "start_time": "2021-12-02T03:10:24.104Z"
   },
   {
    "duration": 5,
    "start_time": "2021-12-02T03:10:24.430Z"
   },
   {
    "duration": 160,
    "start_time": "2021-12-02T03:10:24.436Z"
   },
   {
    "duration": 2,
    "start_time": "2021-12-02T03:10:24.598Z"
   },
   {
    "duration": 9,
    "start_time": "2021-12-02T03:10:24.602Z"
   },
   {
    "duration": 7,
    "start_time": "2021-12-02T03:10:24.613Z"
   },
   {
    "duration": 14,
    "start_time": "2021-12-02T03:10:24.622Z"
   },
   {
    "duration": 5,
    "start_time": "2021-12-02T03:10:24.637Z"
   },
   {
    "duration": 5,
    "start_time": "2021-12-02T03:10:24.644Z"
   },
   {
    "duration": 9,
    "start_time": "2021-12-02T03:10:24.650Z"
   },
   {
    "duration": 37,
    "start_time": "2021-12-02T03:10:24.660Z"
   },
   {
    "duration": 12,
    "start_time": "2021-12-02T03:10:24.699Z"
   },
   {
    "duration": 3,
    "start_time": "2021-12-02T03:10:24.713Z"
   },
   {
    "duration": 10,
    "start_time": "2021-12-02T03:10:24.717Z"
   },
   {
    "duration": 10,
    "start_time": "2021-12-02T03:10:24.729Z"
   },
   {
    "duration": 54,
    "start_time": "2021-12-02T03:10:24.740Z"
   },
   {
    "duration": 3,
    "start_time": "2021-12-02T03:10:24.795Z"
   },
   {
    "duration": 175,
    "start_time": "2021-12-02T03:10:24.800Z"
   },
   {
    "duration": 15,
    "start_time": "2021-12-02T03:10:24.977Z"
   },
   {
    "duration": 5,
    "start_time": "2021-12-02T03:10:24.994Z"
   },
   {
    "duration": 310,
    "start_time": "2021-12-02T03:10:25.001Z"
   },
   {
    "duration": 9,
    "start_time": "2021-12-02T03:10:25.313Z"
   },
   {
    "duration": 21,
    "start_time": "2021-12-02T03:10:25.324Z"
   },
   {
    "duration": 4,
    "start_time": "2021-12-02T03:10:25.347Z"
   },
   {
    "duration": 39,
    "start_time": "2021-12-02T03:10:25.353Z"
   },
   {
    "duration": 11,
    "start_time": "2021-12-02T03:10:25.394Z"
   },
   {
    "duration": 340,
    "start_time": "2021-12-02T03:10:25.407Z"
   },
   {
    "duration": 8,
    "start_time": "2021-12-02T03:10:25.749Z"
   },
   {
    "duration": 38,
    "start_time": "2021-12-02T03:10:25.758Z"
   },
   {
    "duration": 7,
    "start_time": "2021-12-02T03:10:25.798Z"
   },
   {
    "duration": 589,
    "start_time": "2021-12-02T03:10:25.807Z"
   },
   {
    "duration": 3,
    "start_time": "2021-12-02T03:10:26.398Z"
   },
   {
    "duration": 146,
    "start_time": "2021-12-02T03:10:26.403Z"
   },
   {
    "duration": 5,
    "start_time": "2021-12-02T03:10:26.551Z"
   },
   {
    "duration": 52,
    "start_time": "2021-12-02T03:10:26.557Z"
   },
   {
    "duration": 19,
    "start_time": "2021-12-02T03:10:26.610Z"
   },
   {
    "duration": 18,
    "start_time": "2021-12-02T03:10:26.630Z"
   },
   {
    "duration": 8,
    "start_time": "2021-12-02T03:10:26.649Z"
   },
   {
    "duration": 509,
    "start_time": "2021-12-02T03:10:52.974Z"
   },
   {
    "duration": 8,
    "start_time": "2021-12-02T03:28:39.235Z"
   },
   {
    "duration": 193,
    "start_time": "2021-12-02T03:29:29.383Z"
   },
   {
    "duration": 196,
    "start_time": "2021-12-02T03:29:34.246Z"
   },
   {
    "duration": 17,
    "start_time": "2021-12-02T03:30:44.088Z"
   },
   {
    "duration": 304,
    "start_time": "2021-12-02T03:32:10.922Z"
   },
   {
    "duration": 8,
    "start_time": "2021-12-02T03:32:57.524Z"
   },
   {
    "duration": 168,
    "start_time": "2021-12-02T03:35:55.967Z"
   },
   {
    "duration": 411,
    "start_time": "2021-12-02T03:37:27.674Z"
   },
   {
    "duration": 315,
    "start_time": "2021-12-02T03:37:51.859Z"
   },
   {
    "duration": 159,
    "start_time": "2021-12-02T03:38:32.620Z"
   },
   {
    "duration": 159,
    "start_time": "2021-12-02T03:38:47.779Z"
   },
   {
    "duration": 163,
    "start_time": "2021-12-02T03:38:56.419Z"
   },
   {
    "duration": 160,
    "start_time": "2021-12-02T03:39:07.771Z"
   },
   {
    "duration": 62,
    "start_time": "2021-12-02T03:41:49.568Z"
   },
   {
    "duration": 326,
    "start_time": "2021-12-02T03:41:56.071Z"
   },
   {
    "duration": 39,
    "start_time": "2021-12-02T03:42:33.872Z"
   },
   {
    "duration": 163,
    "start_time": "2021-12-02T03:43:22.986Z"
   },
   {
    "duration": 436,
    "start_time": "2021-12-02T03:47:05.335Z"
   },
   {
    "duration": 324,
    "start_time": "2021-12-02T03:47:13.902Z"
   },
   {
    "duration": 331,
    "start_time": "2021-12-02T03:47:20.007Z"
   },
   {
    "duration": 411,
    "start_time": "2021-12-02T03:48:34.049Z"
   },
   {
    "duration": 163,
    "start_time": "2021-12-02T03:56:53.324Z"
   },
   {
    "duration": 60,
    "start_time": "2021-12-02T04:05:41.922Z"
   },
   {
    "duration": 5,
    "start_time": "2021-12-02T04:05:53.035Z"
   },
   {
    "duration": 5,
    "start_time": "2021-12-02T04:06:11.779Z"
   },
   {
    "duration": 5,
    "start_time": "2021-12-02T04:06:23.501Z"
   },
   {
    "duration": 11,
    "start_time": "2021-12-02T04:09:29.766Z"
   },
   {
    "duration": 7,
    "start_time": "2021-12-02T04:09:44.318Z"
   },
   {
    "duration": 8,
    "start_time": "2021-12-02T04:09:57.295Z"
   },
   {
    "duration": 8,
    "start_time": "2021-12-02T04:10:01.999Z"
   },
   {
    "duration": 5,
    "start_time": "2021-12-02T04:10:26.935Z"
   },
   {
    "duration": 161,
    "start_time": "2021-12-02T04:11:11.832Z"
   },
   {
    "duration": 19,
    "start_time": "2021-12-02T04:12:26.225Z"
   },
   {
    "duration": 194,
    "start_time": "2021-12-02T04:12:56.474Z"
   },
   {
    "duration": 174,
    "start_time": "2021-12-02T04:13:41.123Z"
   },
   {
    "duration": 176,
    "start_time": "2021-12-02T04:13:47.826Z"
   },
   {
    "duration": 21,
    "start_time": "2021-12-02T04:14:07.739Z"
   },
   {
    "duration": 19,
    "start_time": "2021-12-02T04:14:15.474Z"
   },
   {
    "duration": 190,
    "start_time": "2021-12-02T04:15:25.956Z"
   },
   {
    "duration": 350,
    "start_time": "2021-12-02T04:15:41.061Z"
   },
   {
    "duration": 359,
    "start_time": "2021-12-02T04:16:19.669Z"
   },
   {
    "duration": 353,
    "start_time": "2021-12-02T04:16:31.541Z"
   },
   {
    "duration": 321,
    "start_time": "2021-12-02T04:16:43.837Z"
   },
   {
    "duration": 361,
    "start_time": "2021-12-02T04:17:57.568Z"
   },
   {
    "duration": 1057,
    "start_time": "2021-12-02T04:19:09.977Z"
   },
   {
    "duration": 4604,
    "start_time": "2021-12-02T04:20:15.482Z"
   },
   {
    "duration": 4340,
    "start_time": "2021-12-02T04:20:31.290Z"
   },
   {
    "duration": 1195,
    "start_time": "2021-12-02T04:20:54.611Z"
   },
   {
    "duration": 1028,
    "start_time": "2021-12-02T04:20:57.386Z"
   },
   {
    "duration": 22,
    "start_time": "2021-12-02T04:21:01.554Z"
   },
   {
    "duration": 1035,
    "start_time": "2021-12-02T04:21:17.746Z"
   },
   {
    "duration": 1099,
    "start_time": "2021-12-02T04:21:27.835Z"
   },
   {
    "duration": 3274,
    "start_time": "2021-12-02T04:21:43.084Z"
   },
   {
    "duration": 1503,
    "start_time": "2021-12-02T04:21:56.451Z"
   },
   {
    "duration": 1246,
    "start_time": "2021-12-02T04:22:07.228Z"
   },
   {
    "duration": 1336,
    "start_time": "2021-12-02T04:22:12.860Z"
   },
   {
    "duration": 1251,
    "start_time": "2021-12-02T04:22:20.284Z"
   },
   {
    "duration": 136,
    "start_time": "2021-12-02T16:47:56.372Z"
   },
   {
    "duration": 120,
    "start_time": "2021-12-02T16:48:02.177Z"
   },
   {
    "duration": 430,
    "start_time": "2021-12-02T16:48:12.614Z"
   },
   {
    "duration": 1744,
    "start_time": "2021-12-02T16:48:29.439Z"
   },
   {
    "duration": 114,
    "start_time": "2021-12-02T16:48:31.186Z"
   },
   {
    "duration": 16,
    "start_time": "2021-12-02T16:48:31.303Z"
   },
   {
    "duration": 14,
    "start_time": "2021-12-02T16:48:31.322Z"
   },
   {
    "duration": 20,
    "start_time": "2021-12-02T16:48:31.338Z"
   },
   {
    "duration": 19,
    "start_time": "2021-12-02T16:48:31.361Z"
   },
   {
    "duration": 9,
    "start_time": "2021-12-02T16:48:31.382Z"
   },
   {
    "duration": 11,
    "start_time": "2021-12-02T16:48:31.397Z"
   },
   {
    "duration": 10,
    "start_time": "2021-12-02T16:48:31.411Z"
   },
   {
    "duration": 44,
    "start_time": "2021-12-02T16:48:31.424Z"
   },
   {
    "duration": 6,
    "start_time": "2021-12-02T16:48:31.471Z"
   },
   {
    "duration": 35,
    "start_time": "2021-12-02T16:48:31.480Z"
   },
   {
    "duration": 31,
    "start_time": "2021-12-02T16:48:31.517Z"
   },
   {
    "duration": 18,
    "start_time": "2021-12-02T16:48:31.551Z"
   },
   {
    "duration": 39,
    "start_time": "2021-12-02T16:48:31.572Z"
   },
   {
    "duration": 6,
    "start_time": "2021-12-02T16:48:31.615Z"
   },
   {
    "duration": 13,
    "start_time": "2021-12-02T16:48:31.624Z"
   },
   {
    "duration": 32,
    "start_time": "2021-12-02T16:48:31.640Z"
   },
   {
    "duration": 12,
    "start_time": "2021-12-02T16:48:31.674Z"
   },
   {
    "duration": 58,
    "start_time": "2021-12-02T16:48:31.688Z"
   },
   {
    "duration": 9,
    "start_time": "2021-12-02T16:48:31.749Z"
   },
   {
    "duration": 26,
    "start_time": "2021-12-02T16:48:31.761Z"
   },
   {
    "duration": 21,
    "start_time": "2021-12-02T16:48:31.796Z"
   },
   {
    "duration": 11,
    "start_time": "2021-12-02T16:48:31.823Z"
   },
   {
    "duration": 32,
    "start_time": "2021-12-02T16:48:31.837Z"
   },
   {
    "duration": 15,
    "start_time": "2021-12-02T16:48:31.873Z"
   },
   {
    "duration": 9,
    "start_time": "2021-12-02T16:48:31.890Z"
   },
   {
    "duration": 12,
    "start_time": "2021-12-02T16:48:31.902Z"
   },
   {
    "duration": 13,
    "start_time": "2021-12-02T16:48:31.917Z"
   },
   {
    "duration": 44,
    "start_time": "2021-12-02T16:48:31.933Z"
   },
   {
    "duration": 16,
    "start_time": "2021-12-02T16:48:31.980Z"
   },
   {
    "duration": 13,
    "start_time": "2021-12-02T16:48:31.998Z"
   },
   {
    "duration": 14,
    "start_time": "2021-12-02T16:48:32.014Z"
   },
   {
    "duration": 35,
    "start_time": "2021-12-02T16:48:32.031Z"
   },
   {
    "duration": 7,
    "start_time": "2021-12-02T16:48:32.069Z"
   },
   {
    "duration": 15,
    "start_time": "2021-12-02T16:48:32.079Z"
   },
   {
    "duration": 38,
    "start_time": "2021-12-02T16:48:32.096Z"
   },
   {
    "duration": 32,
    "start_time": "2021-12-02T16:48:32.137Z"
   },
   {
    "duration": 27,
    "start_time": "2021-12-02T16:48:32.173Z"
   },
   {
    "duration": 12,
    "start_time": "2021-12-02T16:48:32.203Z"
   },
   {
    "duration": 10,
    "start_time": "2021-12-02T16:48:32.217Z"
   },
   {
    "duration": 16,
    "start_time": "2021-12-02T16:48:32.230Z"
   },
   {
    "duration": 21,
    "start_time": "2021-12-02T16:48:32.249Z"
   },
   {
    "duration": 20,
    "start_time": "2021-12-02T16:48:32.272Z"
   },
   {
    "duration": 9,
    "start_time": "2021-12-02T16:48:32.295Z"
   },
   {
    "duration": 21,
    "start_time": "2021-12-02T16:48:32.307Z"
   },
   {
    "duration": 9,
    "start_time": "2021-12-02T16:48:32.331Z"
   },
   {
    "duration": 4,
    "start_time": "2021-12-02T16:48:32.368Z"
   },
   {
    "duration": 48,
    "start_time": "2021-12-02T16:48:32.375Z"
   },
   {
    "duration": 29,
    "start_time": "2021-12-02T16:48:32.425Z"
   },
   {
    "duration": 27,
    "start_time": "2021-12-02T16:48:32.456Z"
   },
   {
    "duration": 20,
    "start_time": "2021-12-02T16:48:32.485Z"
   },
   {
    "duration": 34,
    "start_time": "2021-12-02T16:48:32.508Z"
   },
   {
    "duration": 48,
    "start_time": "2021-12-02T16:48:32.545Z"
   },
   {
    "duration": 8,
    "start_time": "2021-12-02T16:48:32.596Z"
   },
   {
    "duration": 66,
    "start_time": "2021-12-02T16:48:32.607Z"
   },
   {
    "duration": 8,
    "start_time": "2021-12-02T16:48:32.675Z"
   },
   {
    "duration": 13,
    "start_time": "2021-12-02T16:48:32.686Z"
   },
   {
    "duration": 13,
    "start_time": "2021-12-02T16:48:32.702Z"
   },
   {
    "duration": 72,
    "start_time": "2021-12-02T16:48:32.718Z"
   },
   {
    "duration": 6,
    "start_time": "2021-12-02T16:48:32.793Z"
   },
   {
    "duration": 10,
    "start_time": "2021-12-02T16:48:32.802Z"
   },
   {
    "duration": 10,
    "start_time": "2021-12-02T16:48:32.815Z"
   },
   {
    "duration": 43,
    "start_time": "2021-12-02T16:48:32.828Z"
   },
   {
    "duration": 315,
    "start_time": "2021-12-02T16:48:32.874Z"
   },
   {
    "duration": 12,
    "start_time": "2021-12-02T16:48:33.192Z"
   },
   {
    "duration": 60,
    "start_time": "2021-12-02T16:48:33.207Z"
   },
   {
    "duration": 4,
    "start_time": "2021-12-02T16:48:33.277Z"
   },
   {
    "duration": 22,
    "start_time": "2021-12-02T16:48:33.285Z"
   },
   {
    "duration": 286,
    "start_time": "2021-12-02T16:48:33.310Z"
   },
   {
    "duration": 5,
    "start_time": "2021-12-02T16:48:33.599Z"
   },
   {
    "duration": 13,
    "start_time": "2021-12-02T16:48:33.607Z"
   },
   {
    "duration": 13,
    "start_time": "2021-12-02T16:48:33.623Z"
   },
   {
    "duration": 296,
    "start_time": "2021-12-02T16:48:33.638Z"
   },
   {
    "duration": 323,
    "start_time": "2021-12-02T16:48:33.936Z"
   },
   {
    "duration": 7,
    "start_time": "2021-12-02T16:48:34.266Z"
   },
   {
    "duration": 244,
    "start_time": "2021-12-02T16:48:34.276Z"
   },
   {
    "duration": 253,
    "start_time": "2021-12-02T16:48:34.523Z"
   },
   {
    "duration": 7,
    "start_time": "2021-12-02T16:48:34.779Z"
   },
   {
    "duration": 252,
    "start_time": "2021-12-02T16:48:34.789Z"
   },
   {
    "duration": 338,
    "start_time": "2021-12-02T16:48:35.043Z"
   },
   {
    "duration": 7,
    "start_time": "2021-12-02T16:48:35.384Z"
   },
   {
    "duration": 243,
    "start_time": "2021-12-02T16:48:35.394Z"
   },
   {
    "duration": 4,
    "start_time": "2021-12-02T16:48:35.639Z"
   },
   {
    "duration": 26,
    "start_time": "2021-12-02T16:48:35.646Z"
   },
   {
    "duration": 6,
    "start_time": "2021-12-02T16:48:35.675Z"
   },
   {
    "duration": 21,
    "start_time": "2021-12-02T16:48:35.684Z"
   },
   {
    "duration": 10,
    "start_time": "2021-12-02T16:48:35.708Z"
   },
   {
    "duration": 8,
    "start_time": "2021-12-02T16:48:35.721Z"
   },
   {
    "duration": 42,
    "start_time": "2021-12-02T16:48:35.732Z"
   },
   {
    "duration": 20,
    "start_time": "2021-12-02T16:48:35.776Z"
   },
   {
    "duration": 23,
    "start_time": "2021-12-02T16:48:35.799Z"
   },
   {
    "duration": 5,
    "start_time": "2021-12-02T16:48:35.825Z"
   },
   {
    "duration": 10,
    "start_time": "2021-12-02T16:48:35.868Z"
   },
   {
    "duration": 25,
    "start_time": "2021-12-02T16:48:35.881Z"
   },
   {
    "duration": 78,
    "start_time": "2021-12-02T16:48:35.910Z"
   },
   {
    "duration": 6,
    "start_time": "2021-12-02T16:48:35.992Z"
   },
   {
    "duration": 338,
    "start_time": "2021-12-02T16:48:36.000Z"
   },
   {
    "duration": 10,
    "start_time": "2021-12-02T16:48:36.341Z"
   },
   {
    "duration": 9,
    "start_time": "2021-12-02T16:48:36.368Z"
   },
   {
    "duration": 573,
    "start_time": "2021-12-02T16:48:36.380Z"
   },
   {
    "duration": 18,
    "start_time": "2021-12-02T16:48:36.956Z"
   },
   {
    "duration": 403,
    "start_time": "2021-12-02T16:48:36.977Z"
   },
   {
    "duration": 33,
    "start_time": "2021-12-02T16:48:37.383Z"
   },
   {
    "duration": 442,
    "start_time": "2021-12-02T16:48:37.419Z"
   },
   {
    "duration": 8,
    "start_time": "2021-12-02T16:48:37.867Z"
   },
   {
    "duration": 16,
    "start_time": "2021-12-02T16:48:37.878Z"
   },
   {
    "duration": 16,
    "start_time": "2021-12-02T16:48:37.897Z"
   },
   {
    "duration": 317,
    "start_time": "2021-12-02T16:48:37.916Z"
   },
   {
    "duration": 606,
    "start_time": "2021-12-02T16:48:38.235Z"
   },
   {
    "duration": 633,
    "start_time": "2021-12-02T16:48:38.844Z"
   },
   {
    "duration": 15,
    "start_time": "2021-12-02T16:48:39.479Z"
   },
   {
    "duration": 37,
    "start_time": "2021-12-02T16:48:39.497Z"
   },
   {
    "duration": 42,
    "start_time": "2021-12-02T16:48:39.537Z"
   },
   {
    "duration": 866,
    "start_time": "2021-12-02T16:48:39.583Z"
   },
   {
    "duration": 15,
    "start_time": "2021-12-02T16:48:40.452Z"
   },
   {
    "duration": 240,
    "start_time": "2021-12-02T16:48:40.470Z"
   },
   {
    "duration": 7,
    "start_time": "2021-12-02T16:48:40.713Z"
   },
   {
    "duration": 173,
    "start_time": "2021-12-02T16:48:40.723Z"
   },
   {
    "duration": 10,
    "start_time": "2021-12-02T16:48:40.899Z"
   },
   {
    "duration": 12,
    "start_time": "2021-12-02T16:48:40.912Z"
   },
   {
    "duration": 13,
    "start_time": "2021-12-02T16:48:40.926Z"
   },
   {
    "duration": 526,
    "start_time": "2021-12-02T16:48:40.967Z"
   },
   {
    "duration": -7072,
    "start_time": "2021-12-02T16:48:48.568Z"
   },
   {
    "duration": 787,
    "start_time": "2021-12-02T16:49:53.171Z"
   },
   {
    "duration": 464,
    "start_time": "2021-12-02T16:51:21.977Z"
   },
   {
    "duration": 1594,
    "start_time": "2021-12-02T16:56:05.691Z"
   },
   {
    "duration": 111,
    "start_time": "2021-12-02T16:56:07.289Z"
   },
   {
    "duration": 18,
    "start_time": "2021-12-02T16:56:07.403Z"
   },
   {
    "duration": 8,
    "start_time": "2021-12-02T16:56:07.424Z"
   },
   {
    "duration": 11,
    "start_time": "2021-12-02T16:56:07.435Z"
   },
   {
    "duration": 31,
    "start_time": "2021-12-02T16:56:07.449Z"
   },
   {
    "duration": 10,
    "start_time": "2021-12-02T16:56:07.483Z"
   },
   {
    "duration": 8,
    "start_time": "2021-12-02T16:56:07.497Z"
   },
   {
    "duration": 6,
    "start_time": "2021-12-02T16:56:07.508Z"
   },
   {
    "duration": 53,
    "start_time": "2021-12-02T16:56:07.516Z"
   },
   {
    "duration": 7,
    "start_time": "2021-12-02T16:56:07.572Z"
   },
   {
    "duration": 14,
    "start_time": "2021-12-02T16:56:07.581Z"
   },
   {
    "duration": 24,
    "start_time": "2021-12-02T16:56:07.598Z"
   },
   {
    "duration": 17,
    "start_time": "2021-12-02T16:56:07.624Z"
   },
   {
    "duration": 38,
    "start_time": "2021-12-02T16:56:07.668Z"
   },
   {
    "duration": 6,
    "start_time": "2021-12-02T16:56:07.708Z"
   },
   {
    "duration": 11,
    "start_time": "2021-12-02T16:56:07.716Z"
   },
   {
    "duration": 39,
    "start_time": "2021-12-02T16:56:07.730Z"
   },
   {
    "duration": 12,
    "start_time": "2021-12-02T16:56:07.772Z"
   },
   {
    "duration": 30,
    "start_time": "2021-12-02T16:56:07.786Z"
   },
   {
    "duration": 11,
    "start_time": "2021-12-02T16:56:07.818Z"
   },
   {
    "duration": 24,
    "start_time": "2021-12-02T16:56:07.831Z"
   },
   {
    "duration": 21,
    "start_time": "2021-12-02T16:56:07.871Z"
   },
   {
    "duration": 9,
    "start_time": "2021-12-02T16:56:07.896Z"
   },
   {
    "duration": 9,
    "start_time": "2021-12-02T16:56:07.908Z"
   },
   {
    "duration": 10,
    "start_time": "2021-12-02T16:56:07.919Z"
   },
   {
    "duration": 38,
    "start_time": "2021-12-02T16:56:07.931Z"
   },
   {
    "duration": 19,
    "start_time": "2021-12-02T16:56:07.972Z"
   },
   {
    "duration": 13,
    "start_time": "2021-12-02T16:56:07.994Z"
   },
   {
    "duration": 15,
    "start_time": "2021-12-02T16:56:08.010Z"
   },
   {
    "duration": 9,
    "start_time": "2021-12-02T16:56:08.027Z"
   },
   {
    "duration": 36,
    "start_time": "2021-12-02T16:56:08.039Z"
   },
   {
    "duration": 18,
    "start_time": "2021-12-02T16:56:08.077Z"
   },
   {
    "duration": 8,
    "start_time": "2021-12-02T16:56:08.098Z"
   },
   {
    "duration": 5,
    "start_time": "2021-12-02T16:56:08.108Z"
   },
   {
    "duration": 12,
    "start_time": "2021-12-02T16:56:08.116Z"
   },
   {
    "duration": 59,
    "start_time": "2021-12-02T16:56:08.131Z"
   },
   {
    "duration": 15,
    "start_time": "2021-12-02T16:56:08.193Z"
   },
   {
    "duration": 6,
    "start_time": "2021-12-02T16:56:08.210Z"
   },
   {
    "duration": 15,
    "start_time": "2021-12-02T16:56:08.218Z"
   },
   {
    "duration": 36,
    "start_time": "2021-12-02T16:56:08.235Z"
   },
   {
    "duration": 15,
    "start_time": "2021-12-02T16:56:08.273Z"
   },
   {
    "duration": 11,
    "start_time": "2021-12-02T16:56:08.291Z"
   },
   {
    "duration": 10,
    "start_time": "2021-12-02T16:56:08.304Z"
   },
   {
    "duration": 10,
    "start_time": "2021-12-02T16:56:08.316Z"
   },
   {
    "duration": 41,
    "start_time": "2021-12-02T16:56:08.328Z"
   },
   {
    "duration": 8,
    "start_time": "2021-12-02T16:56:08.373Z"
   },
   {
    "duration": 7,
    "start_time": "2021-12-02T16:56:08.384Z"
   },
   {
    "duration": 22,
    "start_time": "2021-12-02T16:56:08.394Z"
   },
   {
    "duration": 48,
    "start_time": "2021-12-02T16:56:08.419Z"
   },
   {
    "duration": 8,
    "start_time": "2021-12-02T16:56:08.470Z"
   },
   {
    "duration": 15,
    "start_time": "2021-12-02T16:56:08.480Z"
   },
   {
    "duration": 9,
    "start_time": "2021-12-02T16:56:08.497Z"
   },
   {
    "duration": 65,
    "start_time": "2021-12-02T16:56:08.508Z"
   },
   {
    "duration": 5,
    "start_time": "2021-12-02T16:56:08.575Z"
   },
   {
    "duration": 38,
    "start_time": "2021-12-02T16:56:08.583Z"
   },
   {
    "duration": 5,
    "start_time": "2021-12-02T16:56:08.624Z"
   },
   {
    "duration": 39,
    "start_time": "2021-12-02T16:56:08.632Z"
   },
   {
    "duration": 6,
    "start_time": "2021-12-02T16:56:08.674Z"
   },
   {
    "duration": 39,
    "start_time": "2021-12-02T16:56:08.683Z"
   },
   {
    "duration": 4,
    "start_time": "2021-12-02T16:56:08.725Z"
   },
   {
    "duration": 40,
    "start_time": "2021-12-02T16:56:08.731Z"
   },
   {
    "duration": 15,
    "start_time": "2021-12-02T16:56:08.774Z"
   },
   {
    "duration": 8,
    "start_time": "2021-12-02T16:56:08.791Z"
   },
   {
    "duration": 307,
    "start_time": "2021-12-02T16:56:08.802Z"
   },
   {
    "duration": 9,
    "start_time": "2021-12-02T16:56:09.111Z"
   },
   {
    "duration": 53,
    "start_time": "2021-12-02T16:56:09.122Z"
   },
   {
    "duration": 4,
    "start_time": "2021-12-02T16:56:09.184Z"
   },
   {
    "duration": 9,
    "start_time": "2021-12-02T16:56:09.192Z"
   },
   {
    "duration": 252,
    "start_time": "2021-12-02T16:56:09.203Z"
   },
   {
    "duration": 10,
    "start_time": "2021-12-02T16:56:09.457Z"
   },
   {
    "duration": 14,
    "start_time": "2021-12-02T16:56:09.469Z"
   },
   {
    "duration": 13,
    "start_time": "2021-12-02T16:56:09.485Z"
   },
   {
    "duration": 238,
    "start_time": "2021-12-02T16:56:09.500Z"
   },
   {
    "duration": 246,
    "start_time": "2021-12-02T16:56:09.740Z"
   },
   {
    "duration": 6,
    "start_time": "2021-12-02T16:56:09.989Z"
   },
   {
    "duration": 238,
    "start_time": "2021-12-02T16:56:09.998Z"
   },
   {
    "duration": 229,
    "start_time": "2021-12-02T16:56:10.238Z"
   },
   {
    "duration": 6,
    "start_time": "2021-12-02T16:56:10.469Z"
   },
   {
    "duration": 244,
    "start_time": "2021-12-02T16:56:10.478Z"
   },
   {
    "duration": 306,
    "start_time": "2021-12-02T16:56:10.724Z"
   },
   {
    "duration": 6,
    "start_time": "2021-12-02T16:56:11.032Z"
   },
   {
    "duration": 234,
    "start_time": "2021-12-02T16:56:11.040Z"
   },
   {
    "duration": 4,
    "start_time": "2021-12-02T16:56:11.276Z"
   },
   {
    "duration": 15,
    "start_time": "2021-12-02T16:56:11.282Z"
   },
   {
    "duration": 9,
    "start_time": "2021-12-02T16:56:11.300Z"
   },
   {
    "duration": 21,
    "start_time": "2021-12-02T16:56:11.311Z"
   },
   {
    "duration": 33,
    "start_time": "2021-12-02T16:56:11.334Z"
   },
   {
    "duration": 11,
    "start_time": "2021-12-02T16:56:11.370Z"
   },
   {
    "duration": 14,
    "start_time": "2021-12-02T16:56:11.383Z"
   },
   {
    "duration": 19,
    "start_time": "2021-12-02T16:56:11.400Z"
   },
   {
    "duration": 19,
    "start_time": "2021-12-02T16:56:11.422Z"
   },
   {
    "duration": 25,
    "start_time": "2021-12-02T16:56:11.443Z"
   },
   {
    "duration": 15,
    "start_time": "2021-12-02T16:56:11.471Z"
   },
   {
    "duration": 20,
    "start_time": "2021-12-02T16:56:11.489Z"
   },
   {
    "duration": 76,
    "start_time": "2021-12-02T16:56:11.512Z"
   },
   {
    "duration": 6,
    "start_time": "2021-12-02T16:56:11.591Z"
   },
   {
    "duration": 309,
    "start_time": "2021-12-02T16:56:11.600Z"
   },
   {
    "duration": 11,
    "start_time": "2021-12-02T16:56:11.912Z"
   },
   {
    "duration": 11,
    "start_time": "2021-12-02T16:56:11.926Z"
   },
   {
    "duration": 501,
    "start_time": "2021-12-02T16:56:11.968Z"
   },
   {
    "duration": 12,
    "start_time": "2021-12-02T16:56:12.472Z"
   },
   {
    "duration": 346,
    "start_time": "2021-12-02T16:56:12.487Z"
   },
   {
    "duration": 44,
    "start_time": "2021-12-02T16:56:12.836Z"
   },
   {
    "duration": 372,
    "start_time": "2021-12-02T16:56:12.883Z"
   },
   {
    "duration": 10,
    "start_time": "2021-12-02T16:56:13.257Z"
   },
   {
    "duration": 25,
    "start_time": "2021-12-02T16:56:13.270Z"
   },
   {
    "duration": 14,
    "start_time": "2021-12-02T16:56:13.298Z"
   },
   {
    "duration": 285,
    "start_time": "2021-12-02T16:56:13.314Z"
   },
   {
    "duration": 524,
    "start_time": "2021-12-02T16:56:13.602Z"
   },
   {
    "duration": 460,
    "start_time": "2021-12-02T16:56:14.128Z"
   },
   {
    "duration": 11,
    "start_time": "2021-12-02T16:56:14.591Z"
   },
   {
    "duration": 32,
    "start_time": "2021-12-02T16:56:14.605Z"
   },
   {
    "duration": 34,
    "start_time": "2021-12-02T16:56:14.640Z"
   },
   {
    "duration": 851,
    "start_time": "2021-12-02T16:56:14.676Z"
   },
   {
    "duration": 4,
    "start_time": "2021-12-02T16:56:15.529Z"
   },
   {
    "duration": 251,
    "start_time": "2021-12-02T16:56:15.536Z"
   },
   {
    "duration": 6,
    "start_time": "2021-12-02T16:56:15.789Z"
   },
   {
    "duration": 170,
    "start_time": "2021-12-02T16:56:15.797Z"
   },
   {
    "duration": 7,
    "start_time": "2021-12-02T16:56:15.969Z"
   },
   {
    "duration": 12,
    "start_time": "2021-12-02T16:56:15.978Z"
   },
   {
    "duration": 14,
    "start_time": "2021-12-02T16:56:15.992Z"
   },
   {
    "duration": 525,
    "start_time": "2021-12-02T16:56:16.008Z"
   },
   {
    "duration": -6913,
    "start_time": "2021-12-02T16:56:23.449Z"
   },
   {
    "duration": 1602,
    "start_time": "2021-12-02T16:57:20.087Z"
   },
   {
    "duration": 119,
    "start_time": "2021-12-02T16:57:21.692Z"
   },
   {
    "duration": 17,
    "start_time": "2021-12-02T16:57:21.814Z"
   },
   {
    "duration": 19,
    "start_time": "2021-12-02T16:57:21.833Z"
   },
   {
    "duration": 22,
    "start_time": "2021-12-02T16:57:21.855Z"
   },
   {
    "duration": 18,
    "start_time": "2021-12-02T16:57:21.880Z"
   },
   {
    "duration": 9,
    "start_time": "2021-12-02T16:57:21.900Z"
   },
   {
    "duration": 11,
    "start_time": "2021-12-02T16:57:21.913Z"
   },
   {
    "duration": 41,
    "start_time": "2021-12-02T16:57:21.928Z"
   },
   {
    "duration": 23,
    "start_time": "2021-12-02T16:57:21.972Z"
   },
   {
    "duration": 9,
    "start_time": "2021-12-02T16:57:21.998Z"
   },
   {
    "duration": 11,
    "start_time": "2021-12-02T16:57:22.009Z"
   },
   {
    "duration": 55,
    "start_time": "2021-12-02T16:57:22.023Z"
   },
   {
    "duration": 20,
    "start_time": "2021-12-02T16:57:22.080Z"
   },
   {
    "duration": 69,
    "start_time": "2021-12-02T16:57:22.102Z"
   },
   {
    "duration": 7,
    "start_time": "2021-12-02T16:57:22.174Z"
   },
   {
    "duration": 9,
    "start_time": "2021-12-02T16:57:22.184Z"
   },
   {
    "duration": 5,
    "start_time": "2021-12-02T16:57:22.196Z"
   },
   {
    "duration": 13,
    "start_time": "2021-12-02T16:57:22.204Z"
   },
   {
    "duration": 57,
    "start_time": "2021-12-02T16:57:22.219Z"
   },
   {
    "duration": 28,
    "start_time": "2021-12-02T16:57:22.279Z"
   },
   {
    "duration": 21,
    "start_time": "2021-12-02T16:57:22.309Z"
   },
   {
    "duration": 20,
    "start_time": "2021-12-02T16:57:22.336Z"
   },
   {
    "duration": 10,
    "start_time": "2021-12-02T16:57:22.367Z"
   },
   {
    "duration": 11,
    "start_time": "2021-12-02T16:57:22.380Z"
   },
   {
    "duration": 9,
    "start_time": "2021-12-02T16:57:22.394Z"
   },
   {
    "duration": 18,
    "start_time": "2021-12-02T16:57:22.406Z"
   },
   {
    "duration": 11,
    "start_time": "2021-12-02T16:57:22.427Z"
   },
   {
    "duration": 33,
    "start_time": "2021-12-02T16:57:22.440Z"
   },
   {
    "duration": 13,
    "start_time": "2021-12-02T16:57:22.476Z"
   },
   {
    "duration": 8,
    "start_time": "2021-12-02T16:57:22.492Z"
   },
   {
    "duration": 11,
    "start_time": "2021-12-02T16:57:22.503Z"
   },
   {
    "duration": 51,
    "start_time": "2021-12-02T16:57:22.516Z"
   },
   {
    "duration": 7,
    "start_time": "2021-12-02T16:57:22.570Z"
   },
   {
    "duration": 19,
    "start_time": "2021-12-02T16:57:22.579Z"
   },
   {
    "duration": 17,
    "start_time": "2021-12-02T16:57:22.600Z"
   },
   {
    "duration": 28,
    "start_time": "2021-12-02T16:57:22.619Z"
   },
   {
    "duration": 11,
    "start_time": "2021-12-02T16:57:22.667Z"
   },
   {
    "duration": 9,
    "start_time": "2021-12-02T16:57:22.681Z"
   },
   {
    "duration": 15,
    "start_time": "2021-12-02T16:57:22.693Z"
   },
   {
    "duration": 11,
    "start_time": "2021-12-02T16:57:22.710Z"
   },
   {
    "duration": 49,
    "start_time": "2021-12-02T16:57:22.723Z"
   },
   {
    "duration": 13,
    "start_time": "2021-12-02T16:57:22.775Z"
   },
   {
    "duration": 14,
    "start_time": "2021-12-02T16:57:22.791Z"
   },
   {
    "duration": 8,
    "start_time": "2021-12-02T16:57:22.808Z"
   },
   {
    "duration": 50,
    "start_time": "2021-12-02T16:57:22.819Z"
   },
   {
    "duration": 11,
    "start_time": "2021-12-02T16:57:22.873Z"
   },
   {
    "duration": 7,
    "start_time": "2021-12-02T16:57:22.887Z"
   },
   {
    "duration": 25,
    "start_time": "2021-12-02T16:57:22.897Z"
   },
   {
    "duration": 45,
    "start_time": "2021-12-02T16:57:22.924Z"
   },
   {
    "duration": 7,
    "start_time": "2021-12-02T16:57:22.971Z"
   },
   {
    "duration": 16,
    "start_time": "2021-12-02T16:57:22.980Z"
   },
   {
    "duration": 16,
    "start_time": "2021-12-02T16:57:22.999Z"
   },
   {
    "duration": 64,
    "start_time": "2021-12-02T16:57:23.018Z"
   },
   {
    "duration": 6,
    "start_time": "2021-12-02T16:57:23.084Z"
   },
   {
    "duration": 35,
    "start_time": "2021-12-02T16:57:23.093Z"
   },
   {
    "duration": 40,
    "start_time": "2021-12-02T16:57:23.131Z"
   },
   {
    "duration": 8,
    "start_time": "2021-12-02T16:57:23.174Z"
   },
   {
    "duration": 15,
    "start_time": "2021-12-02T16:57:23.185Z"
   },
   {
    "duration": 70,
    "start_time": "2021-12-02T16:57:23.203Z"
   },
   {
    "duration": 5,
    "start_time": "2021-12-02T16:57:23.275Z"
   },
   {
    "duration": 11,
    "start_time": "2021-12-02T16:57:23.282Z"
   },
   {
    "duration": 12,
    "start_time": "2021-12-02T16:57:23.295Z"
   },
   {
    "duration": 6,
    "start_time": "2021-12-02T16:57:23.309Z"
   },
   {
    "duration": 362,
    "start_time": "2021-12-02T16:57:23.318Z"
   },
   {
    "duration": 11,
    "start_time": "2021-12-02T16:57:23.683Z"
   },
   {
    "duration": 42,
    "start_time": "2021-12-02T16:57:23.697Z"
   },
   {
    "duration": 7,
    "start_time": "2021-12-02T16:57:23.779Z"
   },
   {
    "duration": 29,
    "start_time": "2021-12-02T16:57:23.792Z"
   },
   {
    "duration": 249,
    "start_time": "2021-12-02T16:57:23.824Z"
   },
   {
    "duration": 5,
    "start_time": "2021-12-02T16:57:24.076Z"
   },
   {
    "duration": 17,
    "start_time": "2021-12-02T16:57:24.084Z"
   },
   {
    "duration": 14,
    "start_time": "2021-12-02T16:57:24.104Z"
   },
   {
    "duration": 295,
    "start_time": "2021-12-02T16:57:24.121Z"
   },
   {
    "duration": 390,
    "start_time": "2021-12-02T16:57:24.419Z"
   },
   {
    "duration": 9,
    "start_time": "2021-12-02T16:57:24.812Z"
   },
   {
    "duration": 348,
    "start_time": "2021-12-02T16:57:24.824Z"
   },
   {
    "duration": 288,
    "start_time": "2021-12-02T16:57:25.175Z"
   },
   {
    "duration": 6,
    "start_time": "2021-12-02T16:57:25.468Z"
   },
   {
    "duration": 258,
    "start_time": "2021-12-02T16:57:25.477Z"
   },
   {
    "duration": 317,
    "start_time": "2021-12-02T16:57:25.737Z"
   },
   {
    "duration": 12,
    "start_time": "2021-12-02T16:57:26.057Z"
   },
   {
    "duration": 236,
    "start_time": "2021-12-02T16:57:26.072Z"
   },
   {
    "duration": 3,
    "start_time": "2021-12-02T16:57:26.310Z"
   },
   {
    "duration": 11,
    "start_time": "2021-12-02T16:57:26.316Z"
   },
   {
    "duration": 15,
    "start_time": "2021-12-02T16:57:26.330Z"
   },
   {
    "duration": 30,
    "start_time": "2021-12-02T16:57:26.348Z"
   },
   {
    "duration": 8,
    "start_time": "2021-12-02T16:57:26.381Z"
   },
   {
    "duration": 6,
    "start_time": "2021-12-02T16:57:26.391Z"
   },
   {
    "duration": 11,
    "start_time": "2021-12-02T16:57:26.400Z"
   },
   {
    "duration": 18,
    "start_time": "2021-12-02T16:57:26.413Z"
   },
   {
    "duration": 18,
    "start_time": "2021-12-02T16:57:26.467Z"
   },
   {
    "duration": 5,
    "start_time": "2021-12-02T16:57:26.488Z"
   },
   {
    "duration": 18,
    "start_time": "2021-12-02T16:57:26.495Z"
   },
   {
    "duration": 20,
    "start_time": "2021-12-02T16:57:26.516Z"
   },
   {
    "duration": 74,
    "start_time": "2021-12-02T16:57:26.538Z"
   },
   {
    "duration": 6,
    "start_time": "2021-12-02T16:57:26.615Z"
   },
   {
    "duration": 519,
    "start_time": "2021-12-02T16:57:26.624Z"
   },
   {
    "duration": 10,
    "start_time": "2021-12-02T16:57:27.145Z"
   },
   {
    "duration": 8,
    "start_time": "2021-12-02T16:57:27.168Z"
   },
   {
    "duration": 525,
    "start_time": "2021-12-02T16:57:27.179Z"
   },
   {
    "duration": 10,
    "start_time": "2021-12-02T16:57:27.706Z"
   },
   {
    "duration": 352,
    "start_time": "2021-12-02T16:57:27.718Z"
   },
   {
    "duration": 28,
    "start_time": "2021-12-02T16:57:28.072Z"
   },
   {
    "duration": 792,
    "start_time": "2021-12-02T16:57:28.103Z"
   },
   {
    "duration": 9,
    "start_time": "2021-12-02T16:57:28.898Z"
   },
   {
    "duration": 81,
    "start_time": "2021-12-02T16:57:28.910Z"
   },
   {
    "duration": 17,
    "start_time": "2021-12-02T16:57:28.994Z"
   },
   {
    "duration": 345,
    "start_time": "2021-12-02T16:57:29.014Z"
   },
   {
    "duration": 546,
    "start_time": "2021-12-02T16:57:29.367Z"
   },
   {
    "duration": 521,
    "start_time": "2021-12-02T16:57:29.916Z"
   },
   {
    "duration": 27,
    "start_time": "2021-12-02T16:57:30.440Z"
   },
   {
    "duration": 34,
    "start_time": "2021-12-02T16:57:30.470Z"
   },
   {
    "duration": 12,
    "start_time": "2021-12-02T16:57:30.507Z"
   },
   {
    "duration": 884,
    "start_time": "2021-12-02T16:57:30.522Z"
   },
   {
    "duration": 5,
    "start_time": "2021-12-02T16:57:31.408Z"
   },
   {
    "duration": 416,
    "start_time": "2021-12-02T16:57:31.416Z"
   },
   {
    "duration": 8,
    "start_time": "2021-12-02T16:57:31.835Z"
   },
   {
    "duration": 223,
    "start_time": "2021-12-02T16:57:31.846Z"
   },
   {
    "duration": 11,
    "start_time": "2021-12-02T16:57:32.072Z"
   },
   {
    "duration": 12,
    "start_time": "2021-12-02T16:57:32.086Z"
   },
   {
    "duration": 18,
    "start_time": "2021-12-02T16:57:32.101Z"
   },
   {
    "duration": 523,
    "start_time": "2021-12-02T16:57:32.123Z"
   },
   {
    "duration": -5721,
    "start_time": "2021-12-02T16:57:38.370Z"
   },
   {
    "duration": 918,
    "start_time": "2021-12-02T16:58:14.374Z"
   },
   {
    "duration": 1515,
    "start_time": "2021-12-02T16:58:27.196Z"
   },
   {
    "duration": 113,
    "start_time": "2021-12-02T16:58:28.714Z"
   },
   {
    "duration": 162,
    "start_time": "2021-12-02T16:58:28.830Z"
   },
   {
    "duration": 8,
    "start_time": "2021-12-02T16:58:28.994Z"
   },
   {
    "duration": 16,
    "start_time": "2021-12-02T16:58:29.005Z"
   },
   {
    "duration": 18,
    "start_time": "2021-12-02T16:58:29.023Z"
   },
   {
    "duration": 26,
    "start_time": "2021-12-02T16:58:29.044Z"
   },
   {
    "duration": 10,
    "start_time": "2021-12-02T16:58:29.073Z"
   },
   {
    "duration": 15,
    "start_time": "2021-12-02T16:58:29.086Z"
   },
   {
    "duration": 21,
    "start_time": "2021-12-02T16:58:29.103Z"
   },
   {
    "duration": 41,
    "start_time": "2021-12-02T16:58:29.126Z"
   },
   {
    "duration": 7,
    "start_time": "2021-12-02T16:58:29.170Z"
   },
   {
    "duration": 23,
    "start_time": "2021-12-02T16:58:29.180Z"
   },
   {
    "duration": 19,
    "start_time": "2021-12-02T16:58:29.206Z"
   },
   {
    "duration": 69,
    "start_time": "2021-12-02T16:58:29.228Z"
   },
   {
    "duration": 5,
    "start_time": "2021-12-02T16:58:29.299Z"
   },
   {
    "duration": 11,
    "start_time": "2021-12-02T16:58:29.307Z"
   },
   {
    "duration": 9,
    "start_time": "2021-12-02T16:58:29.321Z"
   },
   {
    "duration": 37,
    "start_time": "2021-12-02T16:58:29.332Z"
   },
   {
    "duration": 21,
    "start_time": "2021-12-02T16:58:29.371Z"
   },
   {
    "duration": 6,
    "start_time": "2021-12-02T16:58:29.395Z"
   },
   {
    "duration": 21,
    "start_time": "2021-12-02T16:58:29.403Z"
   },
   {
    "duration": 47,
    "start_time": "2021-12-02T16:58:29.430Z"
   },
   {
    "duration": 11,
    "start_time": "2021-12-02T16:58:29.481Z"
   },
   {
    "duration": 13,
    "start_time": "2021-12-02T16:58:29.494Z"
   },
   {
    "duration": 8,
    "start_time": "2021-12-02T16:58:29.509Z"
   },
   {
    "duration": 32,
    "start_time": "2021-12-02T16:58:29.519Z"
   },
   {
    "duration": 15,
    "start_time": "2021-12-02T16:58:29.554Z"
   },
   {
    "duration": 13,
    "start_time": "2021-12-02T16:58:29.571Z"
   },
   {
    "duration": 14,
    "start_time": "2021-12-02T16:58:29.587Z"
   },
   {
    "duration": 9,
    "start_time": "2021-12-02T16:58:29.603Z"
   },
   {
    "duration": 11,
    "start_time": "2021-12-02T16:58:29.614Z"
   },
   {
    "duration": 47,
    "start_time": "2021-12-02T16:58:29.627Z"
   },
   {
    "duration": 8,
    "start_time": "2021-12-02T16:58:29.676Z"
   },
   {
    "duration": 5,
    "start_time": "2021-12-02T16:58:29.687Z"
   },
   {
    "duration": 9,
    "start_time": "2021-12-02T16:58:29.695Z"
   },
   {
    "duration": 32,
    "start_time": "2021-12-02T16:58:29.706Z"
   },
   {
    "duration": 12,
    "start_time": "2021-12-02T16:58:29.768Z"
   },
   {
    "duration": 16,
    "start_time": "2021-12-02T16:58:29.782Z"
   },
   {
    "duration": 12,
    "start_time": "2021-12-02T16:58:29.801Z"
   },
   {
    "duration": 18,
    "start_time": "2021-12-02T16:58:29.816Z"
   },
   {
    "duration": 35,
    "start_time": "2021-12-02T16:58:29.836Z"
   },
   {
    "duration": 10,
    "start_time": "2021-12-02T16:58:29.874Z"
   },
   {
    "duration": 14,
    "start_time": "2021-12-02T16:58:29.886Z"
   },
   {
    "duration": 9,
    "start_time": "2021-12-02T16:58:29.903Z"
   },
   {
    "duration": 19,
    "start_time": "2021-12-02T16:58:29.915Z"
   },
   {
    "duration": 33,
    "start_time": "2021-12-02T16:58:29.936Z"
   },
   {
    "duration": 8,
    "start_time": "2021-12-02T16:58:29.971Z"
   },
   {
    "duration": 24,
    "start_time": "2021-12-02T16:58:29.981Z"
   },
   {
    "duration": 23,
    "start_time": "2021-12-02T16:58:30.008Z"
   },
   {
    "duration": 18,
    "start_time": "2021-12-02T16:58:30.033Z"
   },
   {
    "duration": 40,
    "start_time": "2021-12-02T16:58:30.053Z"
   },
   {
    "duration": 14,
    "start_time": "2021-12-02T16:58:30.095Z"
   },
   {
    "duration": 43,
    "start_time": "2021-12-02T16:58:30.112Z"
   },
   {
    "duration": 12,
    "start_time": "2021-12-02T16:58:30.157Z"
   },
   {
    "duration": 50,
    "start_time": "2021-12-02T16:58:30.172Z"
   },
   {
    "duration": 8,
    "start_time": "2021-12-02T16:58:30.225Z"
   },
   {
    "duration": 10,
    "start_time": "2021-12-02T16:58:30.268Z"
   },
   {
    "duration": 34,
    "start_time": "2021-12-02T16:58:30.281Z"
   },
   {
    "duration": 48,
    "start_time": "2021-12-02T16:58:30.318Z"
   },
   {
    "duration": 6,
    "start_time": "2021-12-02T16:58:30.369Z"
   },
   {
    "duration": 26,
    "start_time": "2021-12-02T16:58:30.377Z"
   },
   {
    "duration": 22,
    "start_time": "2021-12-02T16:58:30.406Z"
   },
   {
    "duration": 20,
    "start_time": "2021-12-02T16:58:30.431Z"
   },
   {
    "duration": 320,
    "start_time": "2021-12-02T16:58:30.454Z"
   },
   {
    "duration": 10,
    "start_time": "2021-12-02T16:58:30.777Z"
   },
   {
    "duration": 53,
    "start_time": "2021-12-02T16:58:30.789Z"
   },
   {
    "duration": 15,
    "start_time": "2021-12-02T16:58:30.852Z"
   },
   {
    "duration": 29,
    "start_time": "2021-12-02T16:58:30.872Z"
   },
   {
    "duration": 255,
    "start_time": "2021-12-02T16:58:30.903Z"
   },
   {
    "duration": 6,
    "start_time": "2021-12-02T16:58:31.161Z"
   },
   {
    "duration": 14,
    "start_time": "2021-12-02T16:58:31.170Z"
   },
   {
    "duration": 20,
    "start_time": "2021-12-02T16:58:31.187Z"
   },
   {
    "duration": 246,
    "start_time": "2021-12-02T16:58:31.210Z"
   },
   {
    "duration": 259,
    "start_time": "2021-12-02T16:58:31.467Z"
   },
   {
    "duration": 7,
    "start_time": "2021-12-02T16:58:31.729Z"
   },
   {
    "duration": 262,
    "start_time": "2021-12-02T16:58:31.739Z"
   },
   {
    "duration": 230,
    "start_time": "2021-12-02T16:58:32.004Z"
   },
   {
    "duration": 7,
    "start_time": "2021-12-02T16:58:32.236Z"
   },
   {
    "duration": 245,
    "start_time": "2021-12-02T16:58:32.245Z"
   },
   {
    "duration": 313,
    "start_time": "2021-12-02T16:58:32.493Z"
   },
   {
    "duration": 12,
    "start_time": "2021-12-02T16:58:32.809Z"
   },
   {
    "duration": 226,
    "start_time": "2021-12-02T16:58:32.824Z"
   },
   {
    "duration": 3,
    "start_time": "2021-12-02T16:58:33.053Z"
   },
   {
    "duration": 16,
    "start_time": "2021-12-02T16:58:33.059Z"
   },
   {
    "duration": 12,
    "start_time": "2021-12-02T16:58:33.078Z"
   },
   {
    "duration": 24,
    "start_time": "2021-12-02T16:58:33.092Z"
   },
   {
    "duration": 8,
    "start_time": "2021-12-02T16:58:33.119Z"
   },
   {
    "duration": 37,
    "start_time": "2021-12-02T16:58:33.130Z"
   },
   {
    "duration": 9,
    "start_time": "2021-12-02T16:58:33.170Z"
   },
   {
    "duration": 21,
    "start_time": "2021-12-02T16:58:33.182Z"
   },
   {
    "duration": 21,
    "start_time": "2021-12-02T16:58:33.206Z"
   },
   {
    "duration": 6,
    "start_time": "2021-12-02T16:58:33.230Z"
   },
   {
    "duration": 13,
    "start_time": "2021-12-02T16:58:33.268Z"
   },
   {
    "duration": 31,
    "start_time": "2021-12-02T16:58:33.284Z"
   },
   {
    "duration": 61,
    "start_time": "2021-12-02T16:58:33.318Z"
   },
   {
    "duration": 5,
    "start_time": "2021-12-02T16:58:33.382Z"
   },
   {
    "duration": 434,
    "start_time": "2021-12-02T16:58:33.390Z"
   },
   {
    "duration": 10,
    "start_time": "2021-12-02T16:58:33.826Z"
   },
   {
    "duration": 885,
    "start_time": "2021-12-02T16:58:33.839Z"
   },
   {
    "duration": 1743,
    "start_time": "2021-12-02T16:58:34.726Z"
   },
   {
    "duration": 11,
    "start_time": "2021-12-02T16:58:36.471Z"
   },
   {
    "duration": 340,
    "start_time": "2021-12-02T16:58:36.485Z"
   },
   {
    "duration": 40,
    "start_time": "2021-12-02T16:58:36.827Z"
   },
   {
    "duration": 402,
    "start_time": "2021-12-02T16:58:36.869Z"
   },
   {
    "duration": 6,
    "start_time": "2021-12-02T16:58:37.274Z"
   },
   {
    "duration": 14,
    "start_time": "2021-12-02T16:58:37.283Z"
   },
   {
    "duration": 16,
    "start_time": "2021-12-02T16:58:37.299Z"
   },
   {
    "duration": 319,
    "start_time": "2021-12-02T16:58:37.318Z"
   },
   {
    "duration": 518,
    "start_time": "2021-12-02T16:58:37.639Z"
   },
   {
    "duration": 475,
    "start_time": "2021-12-02T16:58:38.168Z"
   },
   {
    "duration": 21,
    "start_time": "2021-12-02T16:58:38.646Z"
   },
   {
    "duration": 31,
    "start_time": "2021-12-02T16:58:38.669Z"
   },
   {
    "duration": 10,
    "start_time": "2021-12-02T16:58:38.703Z"
   },
   {
    "duration": 845,
    "start_time": "2021-12-02T16:58:38.715Z"
   },
   {
    "duration": 4,
    "start_time": "2021-12-02T16:58:39.567Z"
   },
   {
    "duration": 247,
    "start_time": "2021-12-02T16:58:39.573Z"
   },
   {
    "duration": 7,
    "start_time": "2021-12-02T16:58:39.823Z"
   },
   {
    "duration": 167,
    "start_time": "2021-12-02T16:58:39.833Z"
   },
   {
    "duration": 8,
    "start_time": "2021-12-02T16:58:40.003Z"
   },
   {
    "duration": 12,
    "start_time": "2021-12-02T16:58:40.013Z"
   },
   {
    "duration": 20,
    "start_time": "2021-12-02T16:58:40.028Z"
   },
   {
    "duration": 501,
    "start_time": "2021-12-02T16:58:40.067Z"
   },
   {
    "duration": -8458,
    "start_time": "2021-12-02T16:58:49.028Z"
   },
   {
    "duration": 426,
    "start_time": "2021-12-02T17:04:17.528Z"
   },
   {
    "duration": 123,
    "start_time": "2021-12-02T17:04:28.399Z"
   },
   {
    "duration": 559,
    "start_time": "2021-12-02T17:04:38.049Z"
   },
   {
    "duration": 174,
    "start_time": "2021-12-02T17:05:22.375Z"
   },
   {
    "duration": 461,
    "start_time": "2021-12-02T17:05:34.315Z"
   },
   {
    "duration": 153,
    "start_time": "2021-12-02T17:05:40.718Z"
   },
   {
    "duration": 449,
    "start_time": "2021-12-02T17:05:47.177Z"
   },
   {
    "duration": 422,
    "start_time": "2021-12-02T17:08:24.981Z"
   },
   {
    "duration": 390,
    "start_time": "2021-12-02T17:09:02.018Z"
   },
   {
    "duration": 393,
    "start_time": "2021-12-02T17:09:18.028Z"
   },
   {
    "duration": 457,
    "start_time": "2021-12-02T17:09:40.193Z"
   },
   {
    "duration": 1366,
    "start_time": "2021-12-02T17:10:43.940Z"
   },
   {
    "duration": 795,
    "start_time": "2021-12-02T17:12:24.091Z"
   },
   {
    "duration": 1178,
    "start_time": "2021-12-02T17:14:26.364Z"
   },
   {
    "duration": 1316,
    "start_time": "2021-12-02T17:14:32.517Z"
   },
   {
    "duration": 1184,
    "start_time": "2021-12-02T17:14:54.102Z"
   },
   {
    "duration": 805,
    "start_time": "2021-12-02T17:15:11.373Z"
   },
   {
    "duration": 2201,
    "start_time": "2021-12-02T17:15:25.132Z"
   },
   {
    "duration": 152,
    "start_time": "2021-12-02T17:15:27.336Z"
   },
   {
    "duration": 22,
    "start_time": "2021-12-02T17:15:27.492Z"
   },
   {
    "duration": 11,
    "start_time": "2021-12-02T17:15:27.517Z"
   },
   {
    "duration": 12,
    "start_time": "2021-12-02T17:15:27.531Z"
   },
   {
    "duration": 30,
    "start_time": "2021-12-02T17:15:27.545Z"
   },
   {
    "duration": 9,
    "start_time": "2021-12-02T17:15:27.578Z"
   },
   {
    "duration": 5,
    "start_time": "2021-12-02T17:15:27.591Z"
   },
   {
    "duration": 6,
    "start_time": "2021-12-02T17:15:27.599Z"
   },
   {
    "duration": 20,
    "start_time": "2021-12-02T17:15:27.607Z"
   },
   {
    "duration": 7,
    "start_time": "2021-12-02T17:15:27.668Z"
   },
   {
    "duration": 12,
    "start_time": "2021-12-02T17:15:27.677Z"
   },
   {
    "duration": 25,
    "start_time": "2021-12-02T17:15:27.691Z"
   },
   {
    "duration": 19,
    "start_time": "2021-12-02T17:15:27.718Z"
   },
   {
    "duration": 36,
    "start_time": "2021-12-02T17:15:27.768Z"
   },
   {
    "duration": 6,
    "start_time": "2021-12-02T17:15:27.806Z"
   },
   {
    "duration": 12,
    "start_time": "2021-12-02T17:15:27.814Z"
   },
   {
    "duration": 7,
    "start_time": "2021-12-02T17:15:27.828Z"
   },
   {
    "duration": 7,
    "start_time": "2021-12-02T17:15:27.868Z"
   },
   {
    "duration": 15,
    "start_time": "2021-12-02T17:15:27.878Z"
   },
   {
    "duration": 7,
    "start_time": "2021-12-02T17:15:27.895Z"
   },
   {
    "duration": 14,
    "start_time": "2021-12-02T17:15:27.905Z"
   },
   {
    "duration": 57,
    "start_time": "2021-12-02T17:15:27.927Z"
   },
   {
    "duration": 13,
    "start_time": "2021-12-02T17:15:27.988Z"
   },
   {
    "duration": 8,
    "start_time": "2021-12-02T17:15:28.003Z"
   },
   {
    "duration": 6,
    "start_time": "2021-12-02T17:15:28.014Z"
   },
   {
    "duration": 7,
    "start_time": "2021-12-02T17:15:28.022Z"
   },
   {
    "duration": 40,
    "start_time": "2021-12-02T17:15:28.032Z"
   },
   {
    "duration": 11,
    "start_time": "2021-12-02T17:15:28.075Z"
   },
   {
    "duration": 12,
    "start_time": "2021-12-02T17:15:28.088Z"
   },
   {
    "duration": 8,
    "start_time": "2021-12-02T17:15:28.103Z"
   },
   {
    "duration": 9,
    "start_time": "2021-12-02T17:15:28.113Z"
   },
   {
    "duration": 51,
    "start_time": "2021-12-02T17:15:28.124Z"
   },
   {
    "duration": 6,
    "start_time": "2021-12-02T17:15:28.178Z"
   },
   {
    "duration": 5,
    "start_time": "2021-12-02T17:15:28.187Z"
   },
   {
    "duration": 10,
    "start_time": "2021-12-02T17:15:28.194Z"
   },
   {
    "duration": 61,
    "start_time": "2021-12-02T17:15:28.206Z"
   },
   {
    "duration": 10,
    "start_time": "2021-12-02T17:15:28.270Z"
   },
   {
    "duration": 8,
    "start_time": "2021-12-02T17:15:28.283Z"
   },
   {
    "duration": 10,
    "start_time": "2021-12-02T17:15:28.293Z"
   },
   {
    "duration": 12,
    "start_time": "2021-12-02T17:15:28.306Z"
   },
   {
    "duration": 52,
    "start_time": "2021-12-02T17:15:28.320Z"
   },
   {
    "duration": 10,
    "start_time": "2021-12-02T17:15:28.375Z"
   },
   {
    "duration": 11,
    "start_time": "2021-12-02T17:15:28.388Z"
   },
   {
    "duration": 11,
    "start_time": "2021-12-02T17:15:28.402Z"
   },
   {
    "duration": 57,
    "start_time": "2021-12-02T17:15:28.416Z"
   },
   {
    "duration": 6,
    "start_time": "2021-12-02T17:15:28.475Z"
   },
   {
    "duration": 5,
    "start_time": "2021-12-02T17:15:28.484Z"
   },
   {
    "duration": 17,
    "start_time": "2021-12-02T17:15:28.491Z"
   },
   {
    "duration": 14,
    "start_time": "2021-12-02T17:15:28.510Z"
   },
   {
    "duration": 42,
    "start_time": "2021-12-02T17:15:28.527Z"
   },
   {
    "duration": 16,
    "start_time": "2021-12-02T17:15:28.571Z"
   },
   {
    "duration": 13,
    "start_time": "2021-12-02T17:15:28.589Z"
   },
   {
    "duration": 65,
    "start_time": "2021-12-02T17:15:28.604Z"
   },
   {
    "duration": 7,
    "start_time": "2021-12-02T17:15:28.671Z"
   },
   {
    "duration": 42,
    "start_time": "2021-12-02T17:15:28.680Z"
   },
   {
    "duration": 5,
    "start_time": "2021-12-02T17:15:28.724Z"
   },
   {
    "duration": 38,
    "start_time": "2021-12-02T17:15:28.731Z"
   },
   {
    "duration": 9,
    "start_time": "2021-12-02T17:15:28.772Z"
   },
   {
    "duration": 37,
    "start_time": "2021-12-02T17:15:28.783Z"
   },
   {
    "duration": 5,
    "start_time": "2021-12-02T17:15:28.822Z"
   },
   {
    "duration": 40,
    "start_time": "2021-12-02T17:15:28.829Z"
   },
   {
    "duration": 9,
    "start_time": "2021-12-02T17:15:28.871Z"
   },
   {
    "duration": 6,
    "start_time": "2021-12-02T17:15:28.883Z"
   },
   {
    "duration": 312,
    "start_time": "2021-12-02T17:15:28.891Z"
   },
   {
    "duration": 9,
    "start_time": "2021-12-02T17:15:29.206Z"
   },
   {
    "duration": 57,
    "start_time": "2021-12-02T17:15:29.217Z"
   },
   {
    "duration": 4,
    "start_time": "2021-12-02T17:15:29.283Z"
   },
   {
    "duration": 7,
    "start_time": "2021-12-02T17:15:29.291Z"
   },
   {
    "duration": 248,
    "start_time": "2021-12-02T17:15:29.300Z"
   },
   {
    "duration": 16,
    "start_time": "2021-12-02T17:15:29.551Z"
   },
   {
    "duration": 9,
    "start_time": "2021-12-02T17:15:29.569Z"
   },
   {
    "duration": 15,
    "start_time": "2021-12-02T17:15:29.581Z"
   },
   {
    "duration": 258,
    "start_time": "2021-12-02T17:15:29.599Z"
   },
   {
    "duration": 264,
    "start_time": "2021-12-02T17:15:29.859Z"
   },
   {
    "duration": 6,
    "start_time": "2021-12-02T17:15:30.126Z"
   },
   {
    "duration": 251,
    "start_time": "2021-12-02T17:15:30.135Z"
   },
   {
    "duration": 237,
    "start_time": "2021-12-02T17:15:30.389Z"
   },
   {
    "duration": 6,
    "start_time": "2021-12-02T17:15:30.628Z"
   },
   {
    "duration": 238,
    "start_time": "2021-12-02T17:15:30.637Z"
   },
   {
    "duration": 319,
    "start_time": "2021-12-02T17:15:30.878Z"
   },
   {
    "duration": 6,
    "start_time": "2021-12-02T17:15:31.199Z"
   },
   {
    "duration": 232,
    "start_time": "2021-12-02T17:15:31.207Z"
   },
   {
    "duration": 4,
    "start_time": "2021-12-02T17:15:31.442Z"
   },
   {
    "duration": 24,
    "start_time": "2021-12-02T17:15:31.448Z"
   },
   {
    "duration": 12,
    "start_time": "2021-12-02T17:15:31.475Z"
   },
   {
    "duration": 20,
    "start_time": "2021-12-02T17:15:31.489Z"
   },
   {
    "duration": 8,
    "start_time": "2021-12-02T17:15:31.512Z"
   },
   {
    "duration": 9,
    "start_time": "2021-12-02T17:15:31.523Z"
   },
   {
    "duration": 38,
    "start_time": "2021-12-02T17:15:31.534Z"
   },
   {
    "duration": 24,
    "start_time": "2021-12-02T17:15:31.574Z"
   },
   {
    "duration": 18,
    "start_time": "2021-12-02T17:15:31.601Z"
   },
   {
    "duration": 5,
    "start_time": "2021-12-02T17:15:31.621Z"
   },
   {
    "duration": 40,
    "start_time": "2021-12-02T17:15:31.628Z"
   },
   {
    "duration": 23,
    "start_time": "2021-12-02T17:15:31.670Z"
   },
   {
    "duration": 48,
    "start_time": "2021-12-02T17:15:31.695Z"
   },
   {
    "duration": 5,
    "start_time": "2021-12-02T17:15:31.767Z"
   },
   {
    "duration": 309,
    "start_time": "2021-12-02T17:15:31.774Z"
   },
   {
    "duration": 9,
    "start_time": "2021-12-02T17:15:32.086Z"
   },
   {
    "duration": 12,
    "start_time": "2021-12-02T17:15:32.097Z"
   },
   {
    "duration": 497,
    "start_time": "2021-12-02T17:15:32.111Z"
   },
   {
    "duration": 10,
    "start_time": "2021-12-02T17:15:32.611Z"
   },
   {
    "duration": 347,
    "start_time": "2021-12-02T17:15:32.624Z"
   },
   {
    "duration": 28,
    "start_time": "2021-12-02T17:15:32.973Z"
   },
   {
    "duration": 379,
    "start_time": "2021-12-02T17:15:33.004Z"
   },
   {
    "duration": 7,
    "start_time": "2021-12-02T17:15:33.387Z"
   },
   {
    "duration": 26,
    "start_time": "2021-12-02T17:15:33.397Z"
   },
   {
    "duration": 48,
    "start_time": "2021-12-02T17:15:33.425Z"
   },
   {
    "duration": 309,
    "start_time": "2021-12-02T17:15:33.476Z"
   },
   {
    "duration": 534,
    "start_time": "2021-12-02T17:15:33.787Z"
   },
   {
    "duration": 476,
    "start_time": "2021-12-02T17:15:34.324Z"
   },
   {
    "duration": 10,
    "start_time": "2021-12-02T17:15:34.803Z"
   },
   {
    "duration": 51,
    "start_time": "2021-12-02T17:15:34.816Z"
   },
   {
    "duration": 10,
    "start_time": "2021-12-02T17:15:34.870Z"
   },
   {
    "duration": 851,
    "start_time": "2021-12-02T17:15:34.882Z"
   },
   {
    "duration": 4,
    "start_time": "2021-12-02T17:15:35.736Z"
   },
   {
    "duration": 256,
    "start_time": "2021-12-02T17:15:35.742Z"
   },
   {
    "duration": 8,
    "start_time": "2021-12-02T17:15:36.001Z"
   },
   {
    "duration": 172,
    "start_time": "2021-12-02T17:15:36.012Z"
   },
   {
    "duration": 8,
    "start_time": "2021-12-02T17:15:36.187Z"
   },
   {
    "duration": 10,
    "start_time": "2021-12-02T17:15:36.197Z"
   },
   {
    "duration": 15,
    "start_time": "2021-12-02T17:15:36.209Z"
   },
   {
    "duration": 568,
    "start_time": "2021-12-02T17:15:36.228Z"
   },
   {
    "duration": -11913,
    "start_time": "2021-12-02T17:15:48.712Z"
   },
   {
    "duration": 1202,
    "start_time": "2021-12-02T17:18:48.237Z"
   },
   {
    "duration": 816,
    "start_time": "2021-12-02T17:19:05.771Z"
   },
   {
    "duration": 1631,
    "start_time": "2021-12-02T17:19:24.689Z"
   },
   {
    "duration": 118,
    "start_time": "2021-12-02T17:19:26.323Z"
   },
   {
    "duration": 18,
    "start_time": "2021-12-02T17:19:26.445Z"
   },
   {
    "duration": 9,
    "start_time": "2021-12-02T17:19:26.466Z"
   },
   {
    "duration": 11,
    "start_time": "2021-12-02T17:19:26.478Z"
   },
   {
    "duration": 19,
    "start_time": "2021-12-02T17:19:26.492Z"
   },
   {
    "duration": 54,
    "start_time": "2021-12-02T17:19:26.514Z"
   },
   {
    "duration": 7,
    "start_time": "2021-12-02T17:19:26.571Z"
   },
   {
    "duration": 6,
    "start_time": "2021-12-02T17:19:26.581Z"
   },
   {
    "duration": 18,
    "start_time": "2021-12-02T17:19:26.590Z"
   },
   {
    "duration": 8,
    "start_time": "2021-12-02T17:19:26.610Z"
   },
   {
    "duration": 49,
    "start_time": "2021-12-02T17:19:26.620Z"
   },
   {
    "duration": 24,
    "start_time": "2021-12-02T17:19:26.671Z"
   },
   {
    "duration": 17,
    "start_time": "2021-12-02T17:19:26.697Z"
   },
   {
    "duration": 66,
    "start_time": "2021-12-02T17:19:26.717Z"
   },
   {
    "duration": 6,
    "start_time": "2021-12-02T17:19:26.785Z"
   },
   {
    "duration": 11,
    "start_time": "2021-12-02T17:19:26.793Z"
   },
   {
    "duration": 7,
    "start_time": "2021-12-02T17:19:26.806Z"
   },
   {
    "duration": 13,
    "start_time": "2021-12-02T17:19:26.815Z"
   },
   {
    "duration": 47,
    "start_time": "2021-12-02T17:19:26.830Z"
   },
   {
    "duration": 7,
    "start_time": "2021-12-02T17:19:26.879Z"
   },
   {
    "duration": 15,
    "start_time": "2021-12-02T17:19:26.888Z"
   },
   {
    "duration": 56,
    "start_time": "2021-12-02T17:19:26.911Z"
   },
   {
    "duration": 10,
    "start_time": "2021-12-02T17:19:26.971Z"
   },
   {
    "duration": 9,
    "start_time": "2021-12-02T17:19:26.983Z"
   },
   {
    "duration": 5,
    "start_time": "2021-12-02T17:19:26.995Z"
   },
   {
    "duration": 11,
    "start_time": "2021-12-02T17:19:27.002Z"
   },
   {
    "duration": 11,
    "start_time": "2021-12-02T17:19:27.015Z"
   },
   {
    "duration": 46,
    "start_time": "2021-12-02T17:19:27.028Z"
   },
   {
    "duration": 30,
    "start_time": "2021-12-02T17:19:27.077Z"
   },
   {
    "duration": 17,
    "start_time": "2021-12-02T17:19:27.109Z"
   },
   {
    "duration": 15,
    "start_time": "2021-12-02T17:19:27.128Z"
   },
   {
    "duration": 12,
    "start_time": "2021-12-02T17:19:27.146Z"
   },
   {
    "duration": 12,
    "start_time": "2021-12-02T17:19:27.160Z"
   },
   {
    "duration": 7,
    "start_time": "2021-12-02T17:19:27.174Z"
   },
   {
    "duration": 12,
    "start_time": "2021-12-02T17:19:27.183Z"
   },
   {
    "duration": 27,
    "start_time": "2021-12-02T17:19:27.197Z"
   },
   {
    "duration": 12,
    "start_time": "2021-12-02T17:19:27.226Z"
   },
   {
    "duration": 6,
    "start_time": "2021-12-02T17:19:27.266Z"
   },
   {
    "duration": 7,
    "start_time": "2021-12-02T17:19:27.275Z"
   },
   {
    "duration": 10,
    "start_time": "2021-12-02T17:19:27.284Z"
   },
   {
    "duration": 10,
    "start_time": "2021-12-02T17:19:27.296Z"
   },
   {
    "duration": 10,
    "start_time": "2021-12-02T17:19:27.308Z"
   },
   {
    "duration": 51,
    "start_time": "2021-12-02T17:19:27.320Z"
   },
   {
    "duration": 10,
    "start_time": "2021-12-02T17:19:27.373Z"
   },
   {
    "duration": 17,
    "start_time": "2021-12-02T17:19:27.385Z"
   },
   {
    "duration": 6,
    "start_time": "2021-12-02T17:19:27.405Z"
   },
   {
    "duration": 9,
    "start_time": "2021-12-02T17:19:27.413Z"
   },
   {
    "duration": 44,
    "start_time": "2021-12-02T17:19:27.424Z"
   },
   {
    "duration": 13,
    "start_time": "2021-12-02T17:19:27.470Z"
   },
   {
    "duration": 6,
    "start_time": "2021-12-02T17:19:27.486Z"
   },
   {
    "duration": 9,
    "start_time": "2021-12-02T17:19:27.495Z"
   },
   {
    "duration": 9,
    "start_time": "2021-12-02T17:19:27.506Z"
   },
   {
    "duration": 76,
    "start_time": "2021-12-02T17:19:27.517Z"
   },
   {
    "duration": 8,
    "start_time": "2021-12-02T17:19:27.595Z"
   },
   {
    "duration": 37,
    "start_time": "2021-12-02T17:19:27.605Z"
   },
   {
    "duration": 6,
    "start_time": "2021-12-02T17:19:27.667Z"
   },
   {
    "duration": 11,
    "start_time": "2021-12-02T17:19:27.675Z"
   },
   {
    "duration": 12,
    "start_time": "2021-12-02T17:19:27.689Z"
   },
   {
    "duration": 63,
    "start_time": "2021-12-02T17:19:27.704Z"
   },
   {
    "duration": 4,
    "start_time": "2021-12-02T17:19:27.770Z"
   },
   {
    "duration": 8,
    "start_time": "2021-12-02T17:19:27.777Z"
   },
   {
    "duration": 12,
    "start_time": "2021-12-02T17:19:27.787Z"
   },
   {
    "duration": 19,
    "start_time": "2021-12-02T17:19:27.801Z"
   },
   {
    "duration": 324,
    "start_time": "2021-12-02T17:19:27.822Z"
   },
   {
    "duration": 20,
    "start_time": "2021-12-02T17:19:28.149Z"
   },
   {
    "duration": 36,
    "start_time": "2021-12-02T17:19:28.171Z"
   },
   {
    "duration": 4,
    "start_time": "2021-12-02T17:19:28.217Z"
   },
   {
    "duration": 7,
    "start_time": "2021-12-02T17:19:28.226Z"
   },
   {
    "duration": 283,
    "start_time": "2021-12-02T17:19:28.236Z"
   },
   {
    "duration": 5,
    "start_time": "2021-12-02T17:19:28.522Z"
   },
   {
    "duration": 10,
    "start_time": "2021-12-02T17:19:28.530Z"
   },
   {
    "duration": 32,
    "start_time": "2021-12-02T17:19:28.543Z"
   },
   {
    "duration": 247,
    "start_time": "2021-12-02T17:19:28.578Z"
   },
   {
    "duration": 253,
    "start_time": "2021-12-02T17:19:28.828Z"
   },
   {
    "duration": 8,
    "start_time": "2021-12-02T17:19:29.084Z"
   },
   {
    "duration": 248,
    "start_time": "2021-12-02T17:19:29.095Z"
   },
   {
    "duration": 224,
    "start_time": "2021-12-02T17:19:29.346Z"
   },
   {
    "duration": 7,
    "start_time": "2021-12-02T17:19:29.573Z"
   },
   {
    "duration": 235,
    "start_time": "2021-12-02T17:19:29.583Z"
   },
   {
    "duration": 313,
    "start_time": "2021-12-02T17:19:29.820Z"
   },
   {
    "duration": 6,
    "start_time": "2021-12-02T17:19:30.136Z"
   },
   {
    "duration": 246,
    "start_time": "2021-12-02T17:19:30.144Z"
   },
   {
    "duration": 4,
    "start_time": "2021-12-02T17:19:30.394Z"
   },
   {
    "duration": 34,
    "start_time": "2021-12-02T17:19:30.402Z"
   },
   {
    "duration": 21,
    "start_time": "2021-12-02T17:19:30.438Z"
   },
   {
    "duration": 34,
    "start_time": "2021-12-02T17:19:30.462Z"
   },
   {
    "duration": 12,
    "start_time": "2021-12-02T17:19:30.499Z"
   },
   {
    "duration": 30,
    "start_time": "2021-12-02T17:19:30.514Z"
   },
   {
    "duration": 67,
    "start_time": "2021-12-02T17:19:30.546Z"
   },
   {
    "duration": 35,
    "start_time": "2021-12-02T17:19:30.615Z"
   },
   {
    "duration": 34,
    "start_time": "2021-12-02T17:19:30.652Z"
   },
   {
    "duration": 13,
    "start_time": "2021-12-02T17:19:30.688Z"
   },
   {
    "duration": 29,
    "start_time": "2021-12-02T17:19:30.703Z"
   },
   {
    "duration": 47,
    "start_time": "2021-12-02T17:19:30.735Z"
   },
   {
    "duration": 57,
    "start_time": "2021-12-02T17:19:30.784Z"
   },
   {
    "duration": 5,
    "start_time": "2021-12-02T17:19:30.843Z"
   },
   {
    "duration": 296,
    "start_time": "2021-12-02T17:19:30.850Z"
   },
   {
    "duration": 19,
    "start_time": "2021-12-02T17:19:31.149Z"
   },
   {
    "duration": 8,
    "start_time": "2021-12-02T17:19:31.171Z"
   },
   {
    "duration": 506,
    "start_time": "2021-12-02T17:19:31.181Z"
   },
   {
    "duration": 10,
    "start_time": "2021-12-02T17:19:31.690Z"
   },
   {
    "duration": 347,
    "start_time": "2021-12-02T17:19:31.703Z"
   },
   {
    "duration": 35,
    "start_time": "2021-12-02T17:19:32.052Z"
   },
   {
    "duration": 383,
    "start_time": "2021-12-02T17:19:32.090Z"
   },
   {
    "duration": 5,
    "start_time": "2021-12-02T17:19:32.476Z"
   },
   {
    "duration": 14,
    "start_time": "2021-12-02T17:19:32.484Z"
   },
   {
    "duration": 14,
    "start_time": "2021-12-02T17:19:32.500Z"
   },
   {
    "duration": 307,
    "start_time": "2021-12-02T17:19:32.517Z"
   },
   {
    "duration": 537,
    "start_time": "2021-12-02T17:19:32.827Z"
   },
   {
    "duration": 478,
    "start_time": "2021-12-02T17:19:33.367Z"
   },
   {
    "duration": 19,
    "start_time": "2021-12-02T17:19:33.848Z"
   },
   {
    "duration": 32,
    "start_time": "2021-12-02T17:19:33.870Z"
   },
   {
    "duration": 10,
    "start_time": "2021-12-02T17:19:33.904Z"
   },
   {
    "duration": 819,
    "start_time": "2021-12-02T17:19:33.917Z"
   },
   {
    "duration": 5,
    "start_time": "2021-12-02T17:19:34.739Z"
   },
   {
    "duration": 246,
    "start_time": "2021-12-02T17:19:34.747Z"
   },
   {
    "duration": 6,
    "start_time": "2021-12-02T17:19:34.995Z"
   },
   {
    "duration": 177,
    "start_time": "2021-12-02T17:19:35.004Z"
   },
   {
    "duration": 9,
    "start_time": "2021-12-02T17:19:35.184Z"
   },
   {
    "duration": 10,
    "start_time": "2021-12-02T17:19:35.196Z"
   },
   {
    "duration": 14,
    "start_time": "2021-12-02T17:19:35.209Z"
   },
   {
    "duration": 517,
    "start_time": "2021-12-02T17:19:35.226Z"
   },
   {
    "duration": -10186,
    "start_time": "2021-12-02T17:19:45.931Z"
   },
   {
    "duration": 9216,
    "start_time": "2021-12-02T17:22:01.169Z"
   },
   {
    "duration": -165,
    "start_time": "2021-12-02T17:22:27.085Z"
   },
   {
    "duration": 771,
    "start_time": "2021-12-02T17:22:31.227Z"
   },
   {
    "duration": 27,
    "start_time": "2021-12-02T17:25:51.046Z"
   },
   {
    "duration": 1525,
    "start_time": "2021-12-02T17:29:23.596Z"
   },
   {
    "duration": 119,
    "start_time": "2021-12-02T17:29:25.124Z"
   },
   {
    "duration": 16,
    "start_time": "2021-12-02T17:29:25.246Z"
   },
   {
    "duration": 9,
    "start_time": "2021-12-02T17:29:25.265Z"
   },
   {
    "duration": 13,
    "start_time": "2021-12-02T17:29:25.277Z"
   },
   {
    "duration": 21,
    "start_time": "2021-12-02T17:29:25.293Z"
   },
   {
    "duration": 16,
    "start_time": "2021-12-02T17:29:25.317Z"
   },
   {
    "duration": 7,
    "start_time": "2021-12-02T17:29:25.371Z"
   },
   {
    "duration": 12,
    "start_time": "2021-12-02T17:29:25.382Z"
   },
   {
    "duration": 21,
    "start_time": "2021-12-02T17:29:25.397Z"
   },
   {
    "duration": 11,
    "start_time": "2021-12-02T17:29:25.421Z"
   },
   {
    "duration": 38,
    "start_time": "2021-12-02T17:29:25.434Z"
   },
   {
    "duration": 26,
    "start_time": "2021-12-02T17:29:25.475Z"
   },
   {
    "duration": 19,
    "start_time": "2021-12-02T17:29:25.503Z"
   },
   {
    "duration": 76,
    "start_time": "2021-12-02T17:29:25.525Z"
   },
   {
    "duration": 6,
    "start_time": "2021-12-02T17:29:25.604Z"
   },
   {
    "duration": 8,
    "start_time": "2021-12-02T17:29:25.614Z"
   },
   {
    "duration": 23,
    "start_time": "2021-12-02T17:29:25.624Z"
   },
   {
    "duration": 7,
    "start_time": "2021-12-02T17:29:25.667Z"
   },
   {
    "duration": 16,
    "start_time": "2021-12-02T17:29:25.676Z"
   },
   {
    "duration": 6,
    "start_time": "2021-12-02T17:29:25.695Z"
   },
   {
    "duration": 17,
    "start_time": "2021-12-02T17:29:25.704Z"
   },
   {
    "duration": 52,
    "start_time": "2021-12-02T17:29:25.728Z"
   },
   {
    "duration": 10,
    "start_time": "2021-12-02T17:29:25.784Z"
   },
   {
    "duration": 12,
    "start_time": "2021-12-02T17:29:25.796Z"
   },
   {
    "duration": 14,
    "start_time": "2021-12-02T17:29:25.810Z"
   },
   {
    "duration": 6,
    "start_time": "2021-12-02T17:29:25.827Z"
   },
   {
    "duration": 35,
    "start_time": "2021-12-02T17:29:25.835Z"
   },
   {
    "duration": 10,
    "start_time": "2021-12-02T17:29:25.873Z"
   },
   {
    "duration": 15,
    "start_time": "2021-12-02T17:29:25.886Z"
   },
   {
    "duration": 12,
    "start_time": "2021-12-02T17:29:25.904Z"
   },
   {
    "duration": 9,
    "start_time": "2021-12-02T17:29:25.918Z"
   },
   {
    "duration": 45,
    "start_time": "2021-12-02T17:29:25.929Z"
   },
   {
    "duration": 6,
    "start_time": "2021-12-02T17:29:25.976Z"
   },
   {
    "duration": 10,
    "start_time": "2021-12-02T17:29:25.985Z"
   },
   {
    "duration": 11,
    "start_time": "2021-12-02T17:29:25.998Z"
   },
   {
    "duration": 27,
    "start_time": "2021-12-02T17:29:26.011Z"
   },
   {
    "duration": 14,
    "start_time": "2021-12-02T17:29:26.067Z"
   },
   {
    "duration": 6,
    "start_time": "2021-12-02T17:29:26.084Z"
   },
   {
    "duration": 16,
    "start_time": "2021-12-02T17:29:26.092Z"
   },
   {
    "duration": 13,
    "start_time": "2021-12-02T17:29:26.110Z"
   },
   {
    "duration": 19,
    "start_time": "2021-12-02T17:29:26.125Z"
   },
   {
    "duration": 33,
    "start_time": "2021-12-02T17:29:26.147Z"
   },
   {
    "duration": 19,
    "start_time": "2021-12-02T17:29:26.182Z"
   },
   {
    "duration": 14,
    "start_time": "2021-12-02T17:29:26.204Z"
   },
   {
    "duration": 19,
    "start_time": "2021-12-02T17:29:26.221Z"
   },
   {
    "duration": 8,
    "start_time": "2021-12-02T17:29:26.243Z"
   },
   {
    "duration": 4,
    "start_time": "2021-12-02T17:29:26.267Z"
   },
   {
    "duration": 26,
    "start_time": "2021-12-02T17:29:26.273Z"
   },
   {
    "duration": 17,
    "start_time": "2021-12-02T17:29:26.301Z"
   },
   {
    "duration": 15,
    "start_time": "2021-12-02T17:29:26.320Z"
   },
   {
    "duration": 23,
    "start_time": "2021-12-02T17:29:26.337Z"
   },
   {
    "duration": 6,
    "start_time": "2021-12-02T17:29:26.368Z"
   },
   {
    "duration": 43,
    "start_time": "2021-12-02T17:29:26.376Z"
   },
   {
    "duration": 6,
    "start_time": "2021-12-02T17:29:26.422Z"
   },
   {
    "duration": 62,
    "start_time": "2021-12-02T17:29:26.430Z"
   },
   {
    "duration": 6,
    "start_time": "2021-12-02T17:29:26.494Z"
   },
   {
    "duration": 21,
    "start_time": "2021-12-02T17:29:26.502Z"
   },
   {
    "duration": 10,
    "start_time": "2021-12-02T17:29:26.526Z"
   },
   {
    "duration": 49,
    "start_time": "2021-12-02T17:29:26.539Z"
   },
   {
    "duration": 4,
    "start_time": "2021-12-02T17:29:26.590Z"
   },
   {
    "duration": 8,
    "start_time": "2021-12-02T17:29:26.597Z"
   },
   {
    "duration": 10,
    "start_time": "2021-12-02T17:29:26.608Z"
   },
   {
    "duration": 47,
    "start_time": "2021-12-02T17:29:26.620Z"
   },
   {
    "duration": 305,
    "start_time": "2021-12-02T17:29:26.670Z"
   },
   {
    "duration": 12,
    "start_time": "2021-12-02T17:29:26.977Z"
   },
   {
    "duration": 38,
    "start_time": "2021-12-02T17:29:26.992Z"
   },
   {
    "duration": 5,
    "start_time": "2021-12-02T17:29:27.069Z"
   },
   {
    "duration": 7,
    "start_time": "2021-12-02T17:29:27.079Z"
   },
   {
    "duration": 253,
    "start_time": "2021-12-02T17:29:27.089Z"
   },
   {
    "duration": 5,
    "start_time": "2021-12-02T17:29:27.345Z"
   },
   {
    "duration": 11,
    "start_time": "2021-12-02T17:29:27.368Z"
   },
   {
    "duration": 20,
    "start_time": "2021-12-02T17:29:27.381Z"
   },
   {
    "duration": 232,
    "start_time": "2021-12-02T17:29:27.403Z"
   },
   {
    "duration": 247,
    "start_time": "2021-12-02T17:29:27.637Z"
   },
   {
    "duration": 7,
    "start_time": "2021-12-02T17:29:27.886Z"
   },
   {
    "duration": 237,
    "start_time": "2021-12-02T17:29:27.895Z"
   },
   {
    "duration": 232,
    "start_time": "2021-12-02T17:29:28.134Z"
   },
   {
    "duration": 7,
    "start_time": "2021-12-02T17:29:28.369Z"
   },
   {
    "duration": 237,
    "start_time": "2021-12-02T17:29:28.379Z"
   },
   {
    "duration": 307,
    "start_time": "2021-12-02T17:29:28.619Z"
   },
   {
    "duration": 6,
    "start_time": "2021-12-02T17:29:28.929Z"
   },
   {
    "duration": 239,
    "start_time": "2021-12-02T17:29:28.937Z"
   },
   {
    "duration": 4,
    "start_time": "2021-12-02T17:29:29.178Z"
   },
   {
    "duration": 15,
    "start_time": "2021-12-02T17:29:29.184Z"
   },
   {
    "duration": 9,
    "start_time": "2021-12-02T17:29:29.202Z"
   },
   {
    "duration": 22,
    "start_time": "2021-12-02T17:29:29.213Z"
   },
   {
    "duration": 30,
    "start_time": "2021-12-02T17:29:29.238Z"
   },
   {
    "duration": 10,
    "start_time": "2021-12-02T17:29:29.271Z"
   },
   {
    "duration": 12,
    "start_time": "2021-12-02T17:29:29.283Z"
   },
   {
    "duration": 18,
    "start_time": "2021-12-02T17:29:29.297Z"
   },
   {
    "duration": 49,
    "start_time": "2021-12-02T17:29:29.317Z"
   },
   {
    "duration": 5,
    "start_time": "2021-12-02T17:29:29.368Z"
   },
   {
    "duration": 22,
    "start_time": "2021-12-02T17:29:29.375Z"
   },
   {
    "duration": 28,
    "start_time": "2021-12-02T17:29:29.400Z"
   },
   {
    "duration": 55,
    "start_time": "2021-12-02T17:29:29.431Z"
   },
   {
    "duration": 4,
    "start_time": "2021-12-02T17:29:29.488Z"
   },
   {
    "duration": 311,
    "start_time": "2021-12-02T17:29:29.495Z"
   },
   {
    "duration": 9,
    "start_time": "2021-12-02T17:29:29.808Z"
   },
   {
    "duration": 8,
    "start_time": "2021-12-02T17:29:29.819Z"
   },
   {
    "duration": 518,
    "start_time": "2021-12-02T17:29:29.830Z"
   },
   {
    "duration": 19,
    "start_time": "2021-12-02T17:29:30.350Z"
   },
   {
    "duration": 348,
    "start_time": "2021-12-02T17:29:30.371Z"
   },
   {
    "duration": 26,
    "start_time": "2021-12-02T17:29:30.721Z"
   },
   {
    "duration": 374,
    "start_time": "2021-12-02T17:29:30.750Z"
   },
   {
    "duration": 6,
    "start_time": "2021-12-02T17:29:31.126Z"
   },
   {
    "duration": 36,
    "start_time": "2021-12-02T17:29:31.134Z"
   },
   {
    "duration": 16,
    "start_time": "2021-12-02T17:29:31.172Z"
   },
   {
    "duration": 285,
    "start_time": "2021-12-02T17:29:31.191Z"
   },
   {
    "duration": 531,
    "start_time": "2021-12-02T17:29:31.478Z"
   },
   {
    "duration": 493,
    "start_time": "2021-12-02T17:29:32.012Z"
   },
   {
    "duration": 11,
    "start_time": "2021-12-02T17:29:32.508Z"
   },
   {
    "duration": 54,
    "start_time": "2021-12-02T17:29:32.522Z"
   },
   {
    "duration": 11,
    "start_time": "2021-12-02T17:29:32.578Z"
   },
   {
    "duration": 831,
    "start_time": "2021-12-02T17:29:32.591Z"
   },
   {
    "duration": 13,
    "start_time": "2021-12-02T17:29:33.425Z"
   },
   {
    "duration": 261,
    "start_time": "2021-12-02T17:29:33.440Z"
   },
   {
    "duration": 7,
    "start_time": "2021-12-02T17:29:33.703Z"
   },
   {
    "duration": 162,
    "start_time": "2021-12-02T17:29:33.712Z"
   },
   {
    "duration": 7,
    "start_time": "2021-12-02T17:29:33.876Z"
   },
   {
    "duration": 12,
    "start_time": "2021-12-02T17:29:33.887Z"
   },
   {
    "duration": 14,
    "start_time": "2021-12-02T17:29:33.902Z"
   },
   {
    "duration": 496,
    "start_time": "2021-12-02T17:29:33.919Z"
   },
   {
    "duration": -9328,
    "start_time": "2021-12-02T17:29:43.745Z"
   },
   {
    "duration": 1688,
    "start_time": "2021-12-02T17:32:39.536Z"
   },
   {
    "duration": 117,
    "start_time": "2021-12-02T17:32:41.227Z"
   },
   {
    "duration": 18,
    "start_time": "2021-12-02T17:32:41.348Z"
   },
   {
    "duration": 14,
    "start_time": "2021-12-02T17:32:41.370Z"
   },
   {
    "duration": 17,
    "start_time": "2021-12-02T17:32:41.387Z"
   },
   {
    "duration": 25,
    "start_time": "2021-12-02T17:32:41.407Z"
   },
   {
    "duration": 8,
    "start_time": "2021-12-02T17:32:41.436Z"
   },
   {
    "duration": 22,
    "start_time": "2021-12-02T17:32:41.448Z"
   },
   {
    "duration": 16,
    "start_time": "2021-12-02T17:32:41.473Z"
   },
   {
    "duration": 22,
    "start_time": "2021-12-02T17:32:41.491Z"
   },
   {
    "duration": 7,
    "start_time": "2021-12-02T17:32:41.515Z"
   },
   {
    "duration": 9,
    "start_time": "2021-12-02T17:32:41.524Z"
   },
   {
    "duration": 51,
    "start_time": "2021-12-02T17:32:41.535Z"
   },
   {
    "duration": 19,
    "start_time": "2021-12-02T17:32:41.588Z"
   },
   {
    "duration": 71,
    "start_time": "2021-12-02T17:32:41.610Z"
   },
   {
    "duration": 7,
    "start_time": "2021-12-02T17:32:41.684Z"
   },
   {
    "duration": 9,
    "start_time": "2021-12-02T17:32:41.694Z"
   },
   {
    "duration": 7,
    "start_time": "2021-12-02T17:32:41.706Z"
   },
   {
    "duration": 55,
    "start_time": "2021-12-02T17:32:41.716Z"
   },
   {
    "duration": 16,
    "start_time": "2021-12-02T17:32:41.774Z"
   },
   {
    "duration": 8,
    "start_time": "2021-12-02T17:32:41.793Z"
   },
   {
    "duration": 24,
    "start_time": "2021-12-02T17:32:41.803Z"
   },
   {
    "duration": 37,
    "start_time": "2021-12-02T17:32:41.834Z"
   },
   {
    "duration": 10,
    "start_time": "2021-12-02T17:32:41.875Z"
   },
   {
    "duration": 6,
    "start_time": "2021-12-02T17:32:41.888Z"
   },
   {
    "duration": 6,
    "start_time": "2021-12-02T17:32:41.896Z"
   },
   {
    "duration": 9,
    "start_time": "2021-12-02T17:32:41.904Z"
   },
   {
    "duration": 54,
    "start_time": "2021-12-02T17:32:41.915Z"
   },
   {
    "duration": 11,
    "start_time": "2021-12-02T17:32:41.971Z"
   },
   {
    "duration": 12,
    "start_time": "2021-12-02T17:32:41.984Z"
   },
   {
    "duration": 10,
    "start_time": "2021-12-02T17:32:41.998Z"
   },
   {
    "duration": 8,
    "start_time": "2021-12-02T17:32:42.011Z"
   },
   {
    "duration": 49,
    "start_time": "2021-12-02T17:32:42.022Z"
   },
   {
    "duration": 7,
    "start_time": "2021-12-02T17:32:42.073Z"
   },
   {
    "duration": 5,
    "start_time": "2021-12-02T17:32:42.082Z"
   },
   {
    "duration": 8,
    "start_time": "2021-12-02T17:32:42.089Z"
   },
   {
    "duration": 70,
    "start_time": "2021-12-02T17:32:42.100Z"
   },
   {
    "duration": 12,
    "start_time": "2021-12-02T17:32:42.172Z"
   },
   {
    "duration": 6,
    "start_time": "2021-12-02T17:32:42.186Z"
   },
   {
    "duration": 8,
    "start_time": "2021-12-02T17:32:42.195Z"
   },
   {
    "duration": 11,
    "start_time": "2021-12-02T17:32:42.205Z"
   },
   {
    "duration": 9,
    "start_time": "2021-12-02T17:32:42.218Z"
   },
   {
    "duration": 7,
    "start_time": "2021-12-02T17:32:42.268Z"
   },
   {
    "duration": 12,
    "start_time": "2021-12-02T17:32:42.278Z"
   },
   {
    "duration": 8,
    "start_time": "2021-12-02T17:32:42.293Z"
   },
   {
    "duration": 15,
    "start_time": "2021-12-02T17:32:42.304Z"
   },
   {
    "duration": 8,
    "start_time": "2021-12-02T17:32:42.366Z"
   },
   {
    "duration": 7,
    "start_time": "2021-12-02T17:32:42.377Z"
   },
   {
    "duration": 16,
    "start_time": "2021-12-02T17:32:42.387Z"
   },
   {
    "duration": 15,
    "start_time": "2021-12-02T17:32:42.406Z"
   },
   {
    "duration": 50,
    "start_time": "2021-12-02T17:32:42.423Z"
   },
   {
    "duration": 10,
    "start_time": "2021-12-02T17:32:42.476Z"
   },
   {
    "duration": 10,
    "start_time": "2021-12-02T17:32:42.489Z"
   },
   {
    "duration": 77,
    "start_time": "2021-12-02T17:32:42.501Z"
   },
   {
    "duration": 6,
    "start_time": "2021-12-02T17:32:42.581Z"
   },
   {
    "duration": 38,
    "start_time": "2021-12-02T17:32:42.590Z"
   },
   {
    "duration": 6,
    "start_time": "2021-12-02T17:32:42.631Z"
   },
   {
    "duration": 8,
    "start_time": "2021-12-02T17:32:42.668Z"
   },
   {
    "duration": 11,
    "start_time": "2021-12-02T17:32:42.679Z"
   },
   {
    "duration": 40,
    "start_time": "2021-12-02T17:32:42.693Z"
   },
   {
    "duration": 5,
    "start_time": "2021-12-02T17:32:42.768Z"
   },
   {
    "duration": 10,
    "start_time": "2021-12-02T17:32:42.777Z"
   },
   {
    "duration": 11,
    "start_time": "2021-12-02T17:32:42.790Z"
   },
   {
    "duration": 8,
    "start_time": "2021-12-02T17:32:42.804Z"
   },
   {
    "duration": 352,
    "start_time": "2021-12-02T17:32:42.815Z"
   },
   {
    "duration": 12,
    "start_time": "2021-12-02T17:32:43.169Z"
   },
   {
    "duration": 40,
    "start_time": "2021-12-02T17:32:43.184Z"
   },
   {
    "duration": 34,
    "start_time": "2021-12-02T17:32:43.236Z"
   },
   {
    "duration": 9,
    "start_time": "2021-12-02T17:32:43.274Z"
   },
   {
    "duration": 256,
    "start_time": "2021-12-02T17:32:43.285Z"
   },
   {
    "duration": 5,
    "start_time": "2021-12-02T17:32:43.544Z"
   },
   {
    "duration": 23,
    "start_time": "2021-12-02T17:32:43.552Z"
   },
   {
    "duration": 10,
    "start_time": "2021-12-02T17:32:43.578Z"
   },
   {
    "duration": 258,
    "start_time": "2021-12-02T17:32:43.590Z"
   },
   {
    "duration": 251,
    "start_time": "2021-12-02T17:32:43.850Z"
   },
   {
    "duration": 8,
    "start_time": "2021-12-02T17:32:44.104Z"
   },
   {
    "duration": 244,
    "start_time": "2021-12-02T17:32:44.114Z"
   },
   {
    "duration": 228,
    "start_time": "2021-12-02T17:32:44.360Z"
   },
   {
    "duration": 6,
    "start_time": "2021-12-02T17:32:44.591Z"
   },
   {
    "duration": 243,
    "start_time": "2021-12-02T17:32:44.599Z"
   },
   {
    "duration": 320,
    "start_time": "2021-12-02T17:32:44.844Z"
   },
   {
    "duration": 7,
    "start_time": "2021-12-02T17:32:45.168Z"
   },
   {
    "duration": 235,
    "start_time": "2021-12-02T17:32:45.178Z"
   },
   {
    "duration": 4,
    "start_time": "2021-12-02T17:32:45.415Z"
   },
   {
    "duration": 18,
    "start_time": "2021-12-02T17:32:45.422Z"
   },
   {
    "duration": 26,
    "start_time": "2021-12-02T17:32:45.443Z"
   },
   {
    "duration": 21,
    "start_time": "2021-12-02T17:32:45.471Z"
   },
   {
    "duration": 8,
    "start_time": "2021-12-02T17:32:45.495Z"
   },
   {
    "duration": 17,
    "start_time": "2021-12-02T17:32:45.506Z"
   },
   {
    "duration": 18,
    "start_time": "2021-12-02T17:32:45.526Z"
   },
   {
    "duration": 33,
    "start_time": "2021-12-02T17:32:45.546Z"
   },
   {
    "duration": 27,
    "start_time": "2021-12-02T17:32:45.582Z"
   },
   {
    "duration": 5,
    "start_time": "2021-12-02T17:32:45.613Z"
   },
   {
    "duration": 54,
    "start_time": "2021-12-02T17:32:45.621Z"
   },
   {
    "duration": 24,
    "start_time": "2021-12-02T17:32:45.678Z"
   },
   {
    "duration": 67,
    "start_time": "2021-12-02T17:32:45.705Z"
   },
   {
    "duration": 4,
    "start_time": "2021-12-02T17:32:45.774Z"
   },
   {
    "duration": 318,
    "start_time": "2021-12-02T17:32:45.781Z"
   },
   {
    "duration": 9,
    "start_time": "2021-12-02T17:32:46.101Z"
   },
   {
    "duration": 15,
    "start_time": "2021-12-02T17:32:46.112Z"
   },
   {
    "duration": 504,
    "start_time": "2021-12-02T17:32:46.129Z"
   },
   {
    "duration": 9,
    "start_time": "2021-12-02T17:32:46.636Z"
   },
   {
    "duration": 336,
    "start_time": "2021-12-02T17:32:46.648Z"
   },
   {
    "duration": 27,
    "start_time": "2021-12-02T17:32:46.986Z"
   },
   {
    "duration": 391,
    "start_time": "2021-12-02T17:32:47.016Z"
   },
   {
    "duration": 7,
    "start_time": "2021-12-02T17:32:47.409Z"
   },
   {
    "duration": 15,
    "start_time": "2021-12-02T17:32:47.419Z"
   },
   {
    "duration": 39,
    "start_time": "2021-12-02T17:32:47.436Z"
   },
   {
    "duration": 302,
    "start_time": "2021-12-02T17:32:47.479Z"
   },
   {
    "duration": 533,
    "start_time": "2021-12-02T17:32:47.784Z"
   },
   {
    "duration": 482,
    "start_time": "2021-12-02T17:32:48.320Z"
   },
   {
    "duration": 11,
    "start_time": "2021-12-02T17:32:48.804Z"
   },
   {
    "duration": 52,
    "start_time": "2021-12-02T17:32:48.818Z"
   },
   {
    "duration": 10,
    "start_time": "2021-12-02T17:32:48.872Z"
   },
   {
    "duration": 836,
    "start_time": "2021-12-02T17:32:48.884Z"
   },
   {
    "duration": 5,
    "start_time": "2021-12-02T17:32:49.722Z"
   },
   {
    "duration": 257,
    "start_time": "2021-12-02T17:32:49.729Z"
   },
   {
    "duration": 7,
    "start_time": "2021-12-02T17:32:49.989Z"
   },
   {
    "duration": 168,
    "start_time": "2021-12-02T17:32:50.000Z"
   },
   {
    "duration": 9,
    "start_time": "2021-12-02T17:32:50.172Z"
   },
   {
    "duration": 11,
    "start_time": "2021-12-02T17:32:50.185Z"
   },
   {
    "duration": 16,
    "start_time": "2021-12-02T17:32:50.199Z"
   },
   {
    "duration": 516,
    "start_time": "2021-12-02T17:32:50.218Z"
   },
   {
    "duration": -9538,
    "start_time": "2021-12-02T17:33:00.275Z"
   },
   {
    "duration": 148,
    "start_time": "2021-12-02T17:37:22.061Z"
   },
   {
    "duration": 1082,
    "start_time": "2021-12-02T20:10:00.413Z"
   },
   {
    "duration": 263,
    "start_time": "2021-12-02T20:10:01.497Z"
   },
   {
    "duration": 11,
    "start_time": "2021-12-02T20:10:01.762Z"
   },
   {
    "duration": 6,
    "start_time": "2021-12-02T20:10:01.775Z"
   },
   {
    "duration": 8,
    "start_time": "2021-12-02T20:10:01.782Z"
   },
   {
    "duration": 14,
    "start_time": "2021-12-02T20:10:01.792Z"
   },
   {
    "duration": 13,
    "start_time": "2021-12-02T20:10:01.807Z"
   },
   {
    "duration": 7,
    "start_time": "2021-12-02T20:10:01.822Z"
   },
   {
    "duration": 14,
    "start_time": "2021-12-02T20:10:01.831Z"
   },
   {
    "duration": 23,
    "start_time": "2021-12-02T20:10:01.847Z"
   },
   {
    "duration": 6,
    "start_time": "2021-12-02T20:10:01.871Z"
   },
   {
    "duration": 5,
    "start_time": "2021-12-02T20:10:01.879Z"
   },
   {
    "duration": 18,
    "start_time": "2021-12-02T20:10:01.885Z"
   },
   {
    "duration": 12,
    "start_time": "2021-12-02T20:10:01.905Z"
   },
   {
    "duration": 54,
    "start_time": "2021-12-02T20:10:01.918Z"
   },
   {
    "duration": 4,
    "start_time": "2021-12-02T20:10:01.974Z"
   },
   {
    "duration": 8,
    "start_time": "2021-12-02T20:10:01.979Z"
   },
   {
    "duration": 5,
    "start_time": "2021-12-02T20:10:01.988Z"
   },
   {
    "duration": 23,
    "start_time": "2021-12-02T20:10:01.995Z"
   },
   {
    "duration": 31,
    "start_time": "2021-12-02T20:10:02.020Z"
   },
   {
    "duration": 6,
    "start_time": "2021-12-02T20:10:02.053Z"
   },
   {
    "duration": 10,
    "start_time": "2021-12-02T20:10:02.061Z"
   },
   {
    "duration": 13,
    "start_time": "2021-12-02T20:10:02.075Z"
   },
   {
    "duration": 7,
    "start_time": "2021-12-02T20:10:02.090Z"
   },
   {
    "duration": 8,
    "start_time": "2021-12-02T20:10:02.099Z"
   },
   {
    "duration": 20,
    "start_time": "2021-12-02T20:10:02.108Z"
   },
   {
    "duration": 19,
    "start_time": "2021-12-02T20:10:02.130Z"
   },
   {
    "duration": 6,
    "start_time": "2021-12-02T20:10:02.151Z"
   },
   {
    "duration": 12,
    "start_time": "2021-12-02T20:10:02.158Z"
   },
   {
    "duration": 9,
    "start_time": "2021-12-02T20:10:02.172Z"
   },
   {
    "duration": 5,
    "start_time": "2021-12-02T20:10:02.183Z"
   },
   {
    "duration": 20,
    "start_time": "2021-12-02T20:10:02.190Z"
   },
   {
    "duration": 10,
    "start_time": "2021-12-02T20:10:02.213Z"
   },
   {
    "duration": 24,
    "start_time": "2021-12-02T20:10:02.225Z"
   },
   {
    "duration": 4,
    "start_time": "2021-12-02T20:10:02.250Z"
   },
   {
    "duration": 25,
    "start_time": "2021-12-02T20:10:02.256Z"
   },
   {
    "duration": 25,
    "start_time": "2021-12-02T20:10:02.284Z"
   },
   {
    "duration": 8,
    "start_time": "2021-12-02T20:10:02.311Z"
   },
   {
    "duration": 8,
    "start_time": "2021-12-02T20:10:02.321Z"
   },
   {
    "duration": 7,
    "start_time": "2021-12-02T20:10:02.331Z"
   },
   {
    "duration": 19,
    "start_time": "2021-12-02T20:10:02.346Z"
   },
   {
    "duration": 8,
    "start_time": "2021-12-02T20:10:02.367Z"
   },
   {
    "duration": 6,
    "start_time": "2021-12-02T20:10:02.376Z"
   },
   {
    "duration": 10,
    "start_time": "2021-12-02T20:10:02.383Z"
   },
   {
    "duration": 10,
    "start_time": "2021-12-02T20:10:02.395Z"
   },
   {
    "duration": 12,
    "start_time": "2021-12-02T20:10:02.406Z"
   },
   {
    "duration": 4,
    "start_time": "2021-12-02T20:10:02.420Z"
   },
   {
    "duration": 19,
    "start_time": "2021-12-02T20:10:02.425Z"
   },
   {
    "duration": 17,
    "start_time": "2021-12-02T20:10:02.447Z"
   },
   {
    "duration": 9,
    "start_time": "2021-12-02T20:10:02.466Z"
   },
   {
    "duration": 6,
    "start_time": "2021-12-02T20:10:02.477Z"
   },
   {
    "duration": 7,
    "start_time": "2021-12-02T20:10:02.484Z"
   },
   {
    "duration": 6,
    "start_time": "2021-12-02T20:10:02.492Z"
   },
   {
    "duration": 21,
    "start_time": "2021-12-02T20:10:02.500Z"
   },
   {
    "duration": 25,
    "start_time": "2021-12-02T20:10:02.522Z"
   },
   {
    "duration": 24,
    "start_time": "2021-12-02T20:10:02.556Z"
   },
   {
    "duration": 5,
    "start_time": "2021-12-02T20:10:02.581Z"
   },
   {
    "duration": 7,
    "start_time": "2021-12-02T20:10:02.587Z"
   },
   {
    "duration": 8,
    "start_time": "2021-12-02T20:10:02.596Z"
   },
   {
    "duration": 53,
    "start_time": "2021-12-02T20:10:02.605Z"
   },
   {
    "duration": 20,
    "start_time": "2021-12-02T20:10:05.007Z"
   },
   {
    "duration": 366,
    "start_time": "2021-12-02T20:11:00.849Z"
   },
   {
    "duration": 7,
    "start_time": "2021-12-02T20:11:08.219Z"
   },
   {
    "duration": 11,
    "start_time": "2021-12-02T20:11:18.500Z"
   },
   {
    "duration": 6,
    "start_time": "2021-12-02T20:12:09.084Z"
   },
   {
    "duration": 7,
    "start_time": "2021-12-02T20:12:15.021Z"
   },
   {
    "duration": 11,
    "start_time": "2021-12-02T20:13:10.892Z"
   },
   {
    "duration": 7,
    "start_time": "2021-12-02T20:13:12.101Z"
   },
   {
    "duration": 27,
    "start_time": "2021-12-02T20:14:28.140Z"
   },
   {
    "duration": 4,
    "start_time": "2021-12-02T20:14:32.966Z"
   },
   {
    "duration": 4,
    "start_time": "2021-12-02T20:14:33.343Z"
   },
   {
    "duration": 335,
    "start_time": "2021-12-02T20:19:54.662Z"
   },
   {
    "duration": 3,
    "start_time": "2021-12-02T20:20:02.812Z"
   },
   {
    "duration": 109,
    "start_time": "2021-12-02T20:20:02.817Z"
   },
   {
    "duration": 11,
    "start_time": "2021-12-02T20:20:02.928Z"
   },
   {
    "duration": 10,
    "start_time": "2021-12-02T20:20:02.941Z"
   },
   {
    "duration": 13,
    "start_time": "2021-12-02T20:20:02.952Z"
   },
   {
    "duration": 12,
    "start_time": "2021-12-02T20:20:02.967Z"
   },
   {
    "duration": 6,
    "start_time": "2021-12-02T20:20:02.981Z"
   },
   {
    "duration": 4,
    "start_time": "2021-12-02T20:20:02.990Z"
   },
   {
    "duration": 6,
    "start_time": "2021-12-02T20:20:02.996Z"
   },
   {
    "duration": 13,
    "start_time": "2021-12-02T20:20:03.004Z"
   },
   {
    "duration": 9,
    "start_time": "2021-12-02T20:20:03.045Z"
   },
   {
    "duration": 8,
    "start_time": "2021-12-02T20:20:03.055Z"
   },
   {
    "duration": 19,
    "start_time": "2021-12-02T20:20:03.065Z"
   },
   {
    "duration": 10,
    "start_time": "2021-12-02T20:20:03.086Z"
   },
   {
    "duration": 57,
    "start_time": "2021-12-02T20:20:03.098Z"
   },
   {
    "duration": 4,
    "start_time": "2021-12-02T20:20:03.157Z"
   },
   {
    "duration": 6,
    "start_time": "2021-12-02T20:20:03.163Z"
   },
   {
    "duration": 5,
    "start_time": "2021-12-02T20:20:03.171Z"
   },
   {
    "duration": 4,
    "start_time": "2021-12-02T20:20:03.179Z"
   },
   {
    "duration": 10,
    "start_time": "2021-12-02T20:20:03.186Z"
   },
   {
    "duration": 4,
    "start_time": "2021-12-02T20:20:03.198Z"
   },
   {
    "duration": 47,
    "start_time": "2021-12-02T20:20:03.204Z"
   },
   {
    "duration": 14,
    "start_time": "2021-12-02T20:20:03.253Z"
   },
   {
    "duration": 9,
    "start_time": "2021-12-02T20:20:03.269Z"
   },
   {
    "duration": 6,
    "start_time": "2021-12-02T20:20:03.280Z"
   },
   {
    "duration": 5,
    "start_time": "2021-12-02T20:20:03.288Z"
   },
   {
    "duration": 11,
    "start_time": "2021-12-02T20:20:03.295Z"
   },
   {
    "duration": 7,
    "start_time": "2021-12-02T20:20:03.308Z"
   },
   {
    "duration": 36,
    "start_time": "2021-12-02T20:20:03.317Z"
   },
   {
    "duration": 12,
    "start_time": "2021-12-02T20:20:03.355Z"
   },
   {
    "duration": 10,
    "start_time": "2021-12-02T20:20:03.369Z"
   },
   {
    "duration": 10,
    "start_time": "2021-12-02T20:20:03.381Z"
   },
   {
    "duration": 9,
    "start_time": "2021-12-02T20:20:03.393Z"
   },
   {
    "duration": 6,
    "start_time": "2021-12-02T20:20:03.404Z"
   },
   {
    "duration": 33,
    "start_time": "2021-12-02T20:20:03.412Z"
   },
   {
    "duration": 8,
    "start_time": "2021-12-02T20:20:03.447Z"
   },
   {
    "duration": 17,
    "start_time": "2021-12-02T20:20:03.457Z"
   },
   {
    "duration": 8,
    "start_time": "2021-12-02T20:20:03.476Z"
   },
   {
    "duration": 5,
    "start_time": "2021-12-02T20:20:03.486Z"
   },
   {
    "duration": 6,
    "start_time": "2021-12-02T20:20:03.492Z"
   },
   {
    "duration": 13,
    "start_time": "2021-12-02T20:20:03.500Z"
   },
   {
    "duration": 7,
    "start_time": "2021-12-02T20:20:03.544Z"
   },
   {
    "duration": 9,
    "start_time": "2021-12-02T20:20:03.553Z"
   },
   {
    "duration": 9,
    "start_time": "2021-12-02T20:20:03.563Z"
   },
   {
    "duration": 6,
    "start_time": "2021-12-02T20:20:03.574Z"
   },
   {
    "duration": 11,
    "start_time": "2021-12-02T20:20:03.581Z"
   },
   {
    "duration": 5,
    "start_time": "2021-12-02T20:20:03.594Z"
   },
   {
    "duration": 4,
    "start_time": "2021-12-02T20:20:03.600Z"
   },
   {
    "duration": 44,
    "start_time": "2021-12-02T20:20:03.606Z"
   },
   {
    "duration": 9,
    "start_time": "2021-12-02T20:20:03.652Z"
   },
   {
    "duration": 6,
    "start_time": "2021-12-02T20:20:03.663Z"
   },
   {
    "duration": 7,
    "start_time": "2021-12-02T20:20:03.671Z"
   },
   {
    "duration": 7,
    "start_time": "2021-12-02T20:20:03.680Z"
   },
   {
    "duration": 26,
    "start_time": "2021-12-02T20:20:03.688Z"
   },
   {
    "duration": 5,
    "start_time": "2021-12-02T20:20:03.749Z"
   },
   {
    "duration": 25,
    "start_time": "2021-12-02T20:20:03.756Z"
   },
   {
    "duration": 4,
    "start_time": "2021-12-02T20:20:03.783Z"
   },
   {
    "duration": 7,
    "start_time": "2021-12-02T20:20:03.789Z"
   },
   {
    "duration": 5,
    "start_time": "2021-12-02T20:20:03.798Z"
   },
   {
    "duration": 59,
    "start_time": "2021-12-02T20:20:03.805Z"
   },
   {
    "duration": 75,
    "start_time": "2021-12-02T20:20:03.866Z"
   },
   {
    "duration": 10,
    "start_time": "2021-12-02T20:20:03.943Z"
   },
   {
    "duration": 34,
    "start_time": "2021-12-02T20:20:03.955Z"
   },
   {
    "duration": 4,
    "start_time": "2021-12-02T20:20:03.991Z"
   },
   {
    "duration": 8,
    "start_time": "2021-12-02T20:20:03.997Z"
   },
   {
    "duration": 163,
    "start_time": "2021-12-02T20:20:04.007Z"
   },
   {
    "duration": 3,
    "start_time": "2021-12-02T20:20:04.172Z"
   },
   {
    "duration": 8,
    "start_time": "2021-12-02T20:20:04.177Z"
   },
   {
    "duration": 13,
    "start_time": "2021-12-02T20:20:04.187Z"
   },
   {
    "duration": 160,
    "start_time": "2021-12-02T20:20:04.201Z"
   },
   {
    "duration": 154,
    "start_time": "2021-12-02T20:20:04.363Z"
   },
   {
    "duration": 5,
    "start_time": "2021-12-02T20:20:04.519Z"
   },
   {
    "duration": 139,
    "start_time": "2021-12-02T20:20:04.525Z"
   },
   {
    "duration": 133,
    "start_time": "2021-12-02T20:20:04.666Z"
   },
   {
    "duration": 6,
    "start_time": "2021-12-02T20:20:04.801Z"
   },
   {
    "duration": 235,
    "start_time": "2021-12-02T20:20:04.809Z"
   },
   {
    "duration": 200,
    "start_time": "2021-12-02T20:20:05.046Z"
   },
   {
    "duration": 4,
    "start_time": "2021-12-02T20:20:05.248Z"
   },
   {
    "duration": 139,
    "start_time": "2021-12-02T20:20:05.254Z"
   },
   {
    "duration": 3,
    "start_time": "2021-12-02T20:20:05.395Z"
   },
   {
    "duration": 12,
    "start_time": "2021-12-02T20:20:05.400Z"
   },
   {
    "duration": 13,
    "start_time": "2021-12-02T20:20:05.414Z"
   },
   {
    "duration": 21,
    "start_time": "2021-12-02T20:20:05.429Z"
   },
   {
    "duration": 9,
    "start_time": "2021-12-02T20:20:05.453Z"
   },
   {
    "duration": 15,
    "start_time": "2021-12-02T20:20:05.464Z"
   },
   {
    "duration": 11,
    "start_time": "2021-12-02T20:20:05.481Z"
   },
   {
    "duration": 16,
    "start_time": "2021-12-02T20:20:05.494Z"
   },
   {
    "duration": 43,
    "start_time": "2021-12-02T20:20:05.512Z"
   },
   {
    "duration": 4,
    "start_time": "2021-12-02T20:20:05.557Z"
   },
   {
    "duration": 13,
    "start_time": "2021-12-02T20:20:05.563Z"
   },
   {
    "duration": 20,
    "start_time": "2021-12-02T20:20:05.578Z"
   },
   {
    "duration": 50,
    "start_time": "2021-12-02T20:20:05.600Z"
   },
   {
    "duration": 4,
    "start_time": "2021-12-02T20:20:05.652Z"
   },
   {
    "duration": 189,
    "start_time": "2021-12-02T20:20:05.657Z"
   },
   {
    "duration": 8,
    "start_time": "2021-12-02T20:20:05.848Z"
   },
   {
    "duration": 11,
    "start_time": "2021-12-02T20:20:05.858Z"
   },
   {
    "duration": 311,
    "start_time": "2021-12-02T20:20:05.871Z"
   },
   {
    "duration": 7,
    "start_time": "2021-12-02T20:20:06.184Z"
   },
   {
    "duration": 207,
    "start_time": "2021-12-02T20:20:06.193Z"
   },
   {
    "duration": 17,
    "start_time": "2021-12-02T20:20:06.402Z"
   },
   {
    "duration": 244,
    "start_time": "2021-12-02T20:20:06.421Z"
   },
   {
    "duration": 5,
    "start_time": "2021-12-02T20:20:06.668Z"
   },
   {
    "duration": 33,
    "start_time": "2021-12-02T20:20:06.676Z"
   },
   {
    "duration": 21,
    "start_time": "2021-12-02T20:20:06.712Z"
   },
   {
    "duration": 285,
    "start_time": "2021-12-02T20:20:06.736Z"
   },
   {
    "duration": 500,
    "start_time": "2021-12-02T20:20:07.023Z"
   },
   {
    "duration": 446,
    "start_time": "2021-12-02T20:20:16.798Z"
   },
   {
    "duration": 330,
    "start_time": "2021-12-02T20:24:38.165Z"
   },
   {
    "duration": 296,
    "start_time": "2021-12-02T20:24:48.540Z"
   },
   {
    "duration": 396,
    "start_time": "2021-12-02T20:25:27.134Z"
   },
   {
    "duration": 1075,
    "start_time": "2021-12-02T20:30:11.385Z"
   },
   {
    "duration": 97,
    "start_time": "2021-12-02T20:30:12.462Z"
   },
   {
    "duration": 12,
    "start_time": "2021-12-02T20:30:12.561Z"
   },
   {
    "duration": 7,
    "start_time": "2021-12-02T20:30:12.574Z"
   },
   {
    "duration": 8,
    "start_time": "2021-12-02T20:30:12.582Z"
   },
   {
    "duration": 14,
    "start_time": "2021-12-02T20:30:12.591Z"
   },
   {
    "duration": 6,
    "start_time": "2021-12-02T20:30:12.607Z"
   },
   {
    "duration": 5,
    "start_time": "2021-12-02T20:30:12.615Z"
   },
   {
    "duration": 23,
    "start_time": "2021-12-02T20:30:12.622Z"
   },
   {
    "duration": 11,
    "start_time": "2021-12-02T20:30:12.647Z"
   },
   {
    "duration": 10,
    "start_time": "2021-12-02T20:30:12.660Z"
   },
   {
    "duration": 3,
    "start_time": "2021-12-02T20:30:12.672Z"
   },
   {
    "duration": 19,
    "start_time": "2021-12-02T20:30:12.677Z"
   },
   {
    "duration": 11,
    "start_time": "2021-12-02T20:30:12.697Z"
   },
   {
    "duration": 46,
    "start_time": "2021-12-02T20:30:12.710Z"
   },
   {
    "duration": 4,
    "start_time": "2021-12-02T20:30:12.757Z"
   },
   {
    "duration": 7,
    "start_time": "2021-12-02T20:30:12.762Z"
   },
   {
    "duration": 6,
    "start_time": "2021-12-02T20:30:12.770Z"
   },
   {
    "duration": 13,
    "start_time": "2021-12-02T20:30:12.777Z"
   },
   {
    "duration": 9,
    "start_time": "2021-12-02T20:30:12.792Z"
   },
   {
    "duration": 4,
    "start_time": "2021-12-02T20:30:12.803Z"
   },
   {
    "duration": 10,
    "start_time": "2021-12-02T20:30:12.809Z"
   },
   {
    "duration": 15,
    "start_time": "2021-12-02T20:30:12.847Z"
   },
   {
    "duration": 12,
    "start_time": "2021-12-02T20:30:12.865Z"
   },
   {
    "duration": 7,
    "start_time": "2021-12-02T20:30:12.879Z"
   },
   {
    "duration": 11,
    "start_time": "2021-12-02T20:30:12.888Z"
   },
   {
    "duration": 6,
    "start_time": "2021-12-02T20:30:12.900Z"
   },
   {
    "duration": 11,
    "start_time": "2021-12-02T20:30:12.907Z"
   },
   {
    "duration": 8,
    "start_time": "2021-12-02T20:30:12.920Z"
   },
   {
    "duration": 7,
    "start_time": "2021-12-02T20:30:12.945Z"
   },
   {
    "duration": 7,
    "start_time": "2021-12-02T20:30:12.954Z"
   },
   {
    "duration": 6,
    "start_time": "2021-12-02T20:30:12.963Z"
   },
   {
    "duration": 8,
    "start_time": "2021-12-02T20:30:12.970Z"
   },
   {
    "duration": 6,
    "start_time": "2021-12-02T20:30:12.980Z"
   },
   {
    "duration": 4,
    "start_time": "2021-12-02T20:30:12.988Z"
   },
   {
    "duration": 17,
    "start_time": "2021-12-02T20:30:12.994Z"
   },
   {
    "duration": 32,
    "start_time": "2021-12-02T20:30:13.012Z"
   },
   {
    "duration": 19,
    "start_time": "2021-12-02T20:30:13.046Z"
   },
   {
    "duration": 17,
    "start_time": "2021-12-02T20:30:13.067Z"
   },
   {
    "duration": 14,
    "start_time": "2021-12-02T20:30:13.085Z"
   },
   {
    "duration": 12,
    "start_time": "2021-12-02T20:30:13.100Z"
   },
   {
    "duration": 9,
    "start_time": "2021-12-02T20:30:13.114Z"
   },
   {
    "duration": 5,
    "start_time": "2021-12-02T20:30:13.124Z"
   },
   {
    "duration": 9,
    "start_time": "2021-12-02T20:30:13.131Z"
   },
   {
    "duration": 5,
    "start_time": "2021-12-02T20:30:13.141Z"
   },
   {
    "duration": 9,
    "start_time": "2021-12-02T20:30:13.147Z"
   },
   {
    "duration": 5,
    "start_time": "2021-12-02T20:30:13.158Z"
   },
   {
    "duration": 4,
    "start_time": "2021-12-02T20:30:13.164Z"
   },
   {
    "duration": 10,
    "start_time": "2021-12-02T20:30:13.170Z"
   },
   {
    "duration": 9,
    "start_time": "2021-12-02T20:30:13.181Z"
   },
   {
    "duration": 23,
    "start_time": "2021-12-02T20:30:13.191Z"
   },
   {
    "duration": 13,
    "start_time": "2021-12-02T20:30:13.215Z"
   },
   {
    "duration": 17,
    "start_time": "2021-12-02T20:30:13.230Z"
   },
   {
    "duration": 36,
    "start_time": "2021-12-02T20:30:13.249Z"
   },
   {
    "duration": 5,
    "start_time": "2021-12-02T20:30:13.287Z"
   },
   {
    "duration": 40,
    "start_time": "2021-12-02T20:30:13.293Z"
   },
   {
    "duration": 6,
    "start_time": "2021-12-02T20:30:13.334Z"
   },
   {
    "duration": 19,
    "start_time": "2021-12-02T20:30:13.342Z"
   },
   {
    "duration": 21,
    "start_time": "2021-12-02T20:30:13.362Z"
   },
   {
    "duration": 34,
    "start_time": "2021-12-02T20:30:13.385Z"
   },
   {
    "duration": 7,
    "start_time": "2021-12-02T20:30:13.421Z"
   },
   {
    "duration": 24,
    "start_time": "2021-12-02T20:30:13.430Z"
   },
   {
    "duration": 22,
    "start_time": "2021-12-02T20:30:13.456Z"
   },
   {
    "duration": 4,
    "start_time": "2021-12-02T20:30:13.480Z"
   },
   {
    "duration": 7,
    "start_time": "2021-12-02T20:30:13.485Z"
   },
   {
    "duration": 163,
    "start_time": "2021-12-02T20:30:13.494Z"
   },
   {
    "duration": 4,
    "start_time": "2021-12-02T20:30:13.658Z"
   },
   {
    "duration": 5,
    "start_time": "2021-12-02T20:30:13.670Z"
   },
   {
    "duration": 8,
    "start_time": "2021-12-02T20:30:13.678Z"
   },
   {
    "duration": 159,
    "start_time": "2021-12-02T20:30:13.688Z"
   },
   {
    "duration": 158,
    "start_time": "2021-12-02T20:30:13.848Z"
   },
   {
    "duration": 4,
    "start_time": "2021-12-02T20:30:14.008Z"
   },
   {
    "duration": 146,
    "start_time": "2021-12-02T20:30:14.013Z"
   },
   {
    "duration": 140,
    "start_time": "2021-12-02T20:30:14.161Z"
   },
   {
    "duration": 5,
    "start_time": "2021-12-02T20:30:14.302Z"
   },
   {
    "duration": 222,
    "start_time": "2021-12-02T20:30:14.309Z"
   },
   {
    "duration": 155,
    "start_time": "2021-12-02T20:30:14.533Z"
   },
   {
    "duration": 5,
    "start_time": "2021-12-02T20:30:14.689Z"
   },
   {
    "duration": 151,
    "start_time": "2021-12-02T20:30:14.696Z"
   },
   {
    "duration": 3,
    "start_time": "2021-12-02T20:30:14.849Z"
   },
   {
    "duration": 19,
    "start_time": "2021-12-02T20:30:14.853Z"
   },
   {
    "duration": 11,
    "start_time": "2021-12-02T20:30:14.874Z"
   },
   {
    "duration": 14,
    "start_time": "2021-12-02T20:30:14.887Z"
   },
   {
    "duration": 5,
    "start_time": "2021-12-02T20:30:14.903Z"
   },
   {
    "duration": 13,
    "start_time": "2021-12-02T20:30:14.910Z"
   },
   {
    "duration": 8,
    "start_time": "2021-12-02T20:30:14.925Z"
   },
   {
    "duration": 14,
    "start_time": "2021-12-02T20:30:14.935Z"
   },
   {
    "duration": 13,
    "start_time": "2021-12-02T20:30:14.950Z"
   },
   {
    "duration": 2,
    "start_time": "2021-12-02T20:30:14.964Z"
   },
   {
    "duration": 17,
    "start_time": "2021-12-02T20:30:14.968Z"
   },
   {
    "duration": 35,
    "start_time": "2021-12-02T20:30:14.986Z"
   },
   {
    "duration": 61,
    "start_time": "2021-12-02T20:30:15.023Z"
   },
   {
    "duration": 10,
    "start_time": "2021-12-02T20:30:15.086Z"
   },
   {
    "duration": 182,
    "start_time": "2021-12-02T20:30:15.097Z"
   },
   {
    "duration": 7,
    "start_time": "2021-12-02T20:30:15.280Z"
   },
   {
    "duration": 20,
    "start_time": "2021-12-02T20:30:15.288Z"
   },
   {
    "duration": 327,
    "start_time": "2021-12-02T20:30:15.310Z"
   },
   {
    "duration": 9,
    "start_time": "2021-12-02T20:30:15.639Z"
   },
   {
    "duration": 207,
    "start_time": "2021-12-02T20:30:15.650Z"
   },
   {
    "duration": 16,
    "start_time": "2021-12-02T20:30:15.859Z"
   },
   {
    "duration": 241,
    "start_time": "2021-12-02T20:30:15.877Z"
   },
   {
    "duration": 6,
    "start_time": "2021-12-02T20:30:16.120Z"
   },
   {
    "duration": 24,
    "start_time": "2021-12-02T20:30:16.128Z"
   },
   {
    "duration": 9,
    "start_time": "2021-12-02T20:30:16.153Z"
   },
   {
    "duration": 181,
    "start_time": "2021-12-02T20:30:16.163Z"
   },
   {
    "duration": 313,
    "start_time": "2021-12-02T20:30:16.346Z"
   },
   {
    "duration": 286,
    "start_time": "2021-12-02T20:30:16.661Z"
   },
   {
    "duration": 8,
    "start_time": "2021-12-02T20:30:16.948Z"
   },
   {
    "duration": 21,
    "start_time": "2021-12-02T20:30:16.957Z"
   },
   {
    "duration": 6,
    "start_time": "2021-12-02T20:30:16.980Z"
   },
   {
    "duration": 678,
    "start_time": "2021-12-02T20:30:16.987Z"
   },
   {
    "duration": 3,
    "start_time": "2021-12-02T20:30:17.667Z"
   },
   {
    "duration": 134,
    "start_time": "2021-12-02T20:30:17.672Z"
   },
   {
    "duration": 4,
    "start_time": "2021-12-02T20:30:17.808Z"
   },
   {
    "duration": 49,
    "start_time": "2021-12-02T20:30:17.814Z"
   },
   {
    "duration": 5,
    "start_time": "2021-12-02T20:30:17.864Z"
   },
   {
    "duration": 9,
    "start_time": "2021-12-02T20:30:17.871Z"
   },
   {
    "duration": 9,
    "start_time": "2021-12-02T20:30:17.881Z"
   },
   {
    "duration": 335,
    "start_time": "2021-12-02T20:30:17.892Z"
   },
   {
    "duration": -1675,
    "start_time": "2021-12-02T20:30:19.904Z"
   },
   {
    "duration": 254,
    "start_time": "2021-12-02T20:36:46.261Z"
   },
   {
    "duration": 203,
    "start_time": "2021-12-02T20:37:00.598Z"
   },
   {
    "duration": 196,
    "start_time": "2021-12-02T20:37:12.807Z"
   },
   {
    "duration": 4,
    "start_time": "2021-12-02T20:37:17.886Z"
   },
   {
    "duration": 4,
    "start_time": "2021-12-02T20:37:21.357Z"
   },
   {
    "duration": 260,
    "start_time": "2021-12-02T20:37:25.254Z"
   },
   {
    "duration": 5,
    "start_time": "2021-12-02T20:37:34.054Z"
   },
   {
    "duration": 189,
    "start_time": "2021-12-02T20:37:46.718Z"
   },
   {
    "duration": 202,
    "start_time": "2021-12-02T20:38:15.856Z"
   },
   {
    "duration": 202,
    "start_time": "2021-12-02T20:38:30.482Z"
   },
   {
    "duration": 197,
    "start_time": "2021-12-02T20:38:41.800Z"
   },
   {
    "duration": 197,
    "start_time": "2021-12-02T20:39:16.506Z"
   },
   {
    "duration": 1144,
    "start_time": "2021-12-02T20:39:57.464Z"
   },
   {
    "duration": 99,
    "start_time": "2021-12-02T20:39:58.610Z"
   },
   {
    "duration": 13,
    "start_time": "2021-12-02T20:39:58.711Z"
   },
   {
    "duration": 5,
    "start_time": "2021-12-02T20:39:58.726Z"
   },
   {
    "duration": 6,
    "start_time": "2021-12-02T20:39:58.733Z"
   },
   {
    "duration": 12,
    "start_time": "2021-12-02T20:39:58.741Z"
   },
   {
    "duration": 6,
    "start_time": "2021-12-02T20:39:58.755Z"
   },
   {
    "duration": 5,
    "start_time": "2021-12-02T20:39:58.763Z"
   },
   {
    "duration": 4,
    "start_time": "2021-12-02T20:39:58.770Z"
   },
   {
    "duration": 19,
    "start_time": "2021-12-02T20:39:58.776Z"
   },
   {
    "duration": 20,
    "start_time": "2021-12-02T20:39:58.797Z"
   },
   {
    "duration": 4,
    "start_time": "2021-12-02T20:39:58.819Z"
   },
   {
    "duration": 23,
    "start_time": "2021-12-02T20:39:58.825Z"
   },
   {
    "duration": 11,
    "start_time": "2021-12-02T20:39:58.850Z"
   },
   {
    "duration": 23,
    "start_time": "2021-12-02T20:39:58.863Z"
   },
   {
    "duration": 5,
    "start_time": "2021-12-02T20:39:58.887Z"
   },
   {
    "duration": 6,
    "start_time": "2021-12-02T20:39:58.894Z"
   },
   {
    "duration": 3,
    "start_time": "2021-12-02T20:39:58.902Z"
   },
   {
    "duration": 40,
    "start_time": "2021-12-02T20:39:58.907Z"
   },
   {
    "duration": 9,
    "start_time": "2021-12-02T20:39:58.949Z"
   },
   {
    "duration": 5,
    "start_time": "2021-12-02T20:39:58.959Z"
   },
   {
    "duration": 9,
    "start_time": "2021-12-02T20:39:58.966Z"
   },
   {
    "duration": 12,
    "start_time": "2021-12-02T20:39:58.979Z"
   },
   {
    "duration": 8,
    "start_time": "2021-12-02T20:39:58.993Z"
   },
   {
    "duration": 5,
    "start_time": "2021-12-02T20:39:59.002Z"
   },
   {
    "duration": 38,
    "start_time": "2021-12-02T20:39:59.008Z"
   },
   {
    "duration": 5,
    "start_time": "2021-12-02T20:39:59.047Z"
   },
   {
    "duration": 6,
    "start_time": "2021-12-02T20:39:59.053Z"
   },
   {
    "duration": 11,
    "start_time": "2021-12-02T20:39:59.061Z"
   },
   {
    "duration": 9,
    "start_time": "2021-12-02T20:39:59.073Z"
   },
   {
    "duration": 4,
    "start_time": "2021-12-02T20:39:59.084Z"
   },
   {
    "duration": 11,
    "start_time": "2021-12-02T20:39:59.089Z"
   },
   {
    "duration": 9,
    "start_time": "2021-12-02T20:39:59.101Z"
   },
   {
    "duration": 32,
    "start_time": "2021-12-02T20:39:59.112Z"
   },
   {
    "duration": 2,
    "start_time": "2021-12-02T20:39:59.146Z"
   },
   {
    "duration": 8,
    "start_time": "2021-12-02T20:39:59.149Z"
   },
   {
    "duration": 14,
    "start_time": "2021-12-02T20:39:59.158Z"
   },
   {
    "duration": 8,
    "start_time": "2021-12-02T20:39:59.174Z"
   },
   {
    "duration": 4,
    "start_time": "2021-12-02T20:39:59.183Z"
   },
   {
    "duration": 5,
    "start_time": "2021-12-02T20:39:59.189Z"
   },
   {
    "duration": 7,
    "start_time": "2021-12-02T20:39:59.195Z"
   },
   {
    "duration": 6,
    "start_time": "2021-12-02T20:39:59.204Z"
   },
   {
    "duration": 5,
    "start_time": "2021-12-02T20:39:59.245Z"
   },
   {
    "duration": 8,
    "start_time": "2021-12-02T20:39:59.252Z"
   },
   {
    "duration": 5,
    "start_time": "2021-12-02T20:39:59.262Z"
   },
   {
    "duration": 11,
    "start_time": "2021-12-02T20:39:59.269Z"
   },
   {
    "duration": 5,
    "start_time": "2021-12-02T20:39:59.281Z"
   },
   {
    "duration": 4,
    "start_time": "2021-12-02T20:39:59.287Z"
   },
   {
    "duration": 10,
    "start_time": "2021-12-02T20:39:59.292Z"
   },
   {
    "duration": 42,
    "start_time": "2021-12-02T20:39:59.304Z"
   },
   {
    "duration": 5,
    "start_time": "2021-12-02T20:39:59.348Z"
   },
   {
    "duration": 7,
    "start_time": "2021-12-02T20:39:59.355Z"
   },
   {
    "duration": 6,
    "start_time": "2021-12-02T20:39:59.364Z"
   },
   {
    "duration": 23,
    "start_time": "2021-12-02T20:39:59.371Z"
   },
   {
    "duration": 4,
    "start_time": "2021-12-02T20:39:59.395Z"
   },
   {
    "duration": 53,
    "start_time": "2021-12-02T20:39:59.401Z"
   },
   {
    "duration": 4,
    "start_time": "2021-12-02T20:39:59.456Z"
   },
   {
    "duration": 6,
    "start_time": "2021-12-02T20:39:59.462Z"
   },
   {
    "duration": 6,
    "start_time": "2021-12-02T20:39:59.470Z"
   },
   {
    "duration": 28,
    "start_time": "2021-12-02T20:39:59.477Z"
   },
   {
    "duration": 8,
    "start_time": "2021-12-02T20:39:59.506Z"
   },
   {
    "duration": 30,
    "start_time": "2021-12-02T20:39:59.515Z"
   },
   {
    "duration": 24,
    "start_time": "2021-12-02T20:39:59.547Z"
   },
   {
    "duration": 3,
    "start_time": "2021-12-02T20:39:59.572Z"
   },
   {
    "duration": 8,
    "start_time": "2021-12-02T20:39:59.576Z"
   },
   {
    "duration": 168,
    "start_time": "2021-12-02T20:39:59.586Z"
   },
   {
    "duration": 3,
    "start_time": "2021-12-02T20:39:59.756Z"
   },
   {
    "duration": 10,
    "start_time": "2021-12-02T20:39:59.765Z"
   },
   {
    "duration": 6,
    "start_time": "2021-12-02T20:39:59.778Z"
   },
   {
    "duration": 144,
    "start_time": "2021-12-02T20:39:59.786Z"
   },
   {
    "duration": 159,
    "start_time": "2021-12-02T20:39:59.932Z"
   },
   {
    "duration": 5,
    "start_time": "2021-12-02T20:40:00.093Z"
   },
   {
    "duration": 152,
    "start_time": "2021-12-02T20:40:00.099Z"
   },
   {
    "duration": 139,
    "start_time": "2021-12-02T20:40:00.253Z"
   },
   {
    "duration": 4,
    "start_time": "2021-12-02T20:40:00.393Z"
   },
   {
    "duration": 201,
    "start_time": "2021-12-02T20:40:00.399Z"
   },
   {
    "duration": 144,
    "start_time": "2021-12-02T20:40:00.602Z"
   },
   {
    "duration": 4,
    "start_time": "2021-12-02T20:40:00.747Z"
   },
   {
    "duration": 144,
    "start_time": "2021-12-02T20:40:00.752Z"
   },
   {
    "duration": 2,
    "start_time": "2021-12-02T20:40:00.898Z"
   },
   {
    "duration": 10,
    "start_time": "2021-12-02T20:40:00.902Z"
   },
   {
    "duration": 11,
    "start_time": "2021-12-02T20:40:00.914Z"
   },
   {
    "duration": 21,
    "start_time": "2021-12-02T20:40:00.927Z"
   },
   {
    "duration": 4,
    "start_time": "2021-12-02T20:40:00.950Z"
   },
   {
    "duration": 16,
    "start_time": "2021-12-02T20:40:00.956Z"
   },
   {
    "duration": 20,
    "start_time": "2021-12-02T20:40:00.973Z"
   },
   {
    "duration": 16,
    "start_time": "2021-12-02T20:40:00.994Z"
   },
   {
    "duration": 11,
    "start_time": "2021-12-02T20:40:01.012Z"
   },
   {
    "duration": 3,
    "start_time": "2021-12-02T20:40:01.025Z"
   },
   {
    "duration": 27,
    "start_time": "2021-12-02T20:40:01.029Z"
   },
   {
    "duration": 28,
    "start_time": "2021-12-02T20:40:01.058Z"
   },
   {
    "duration": 32,
    "start_time": "2021-12-02T20:40:01.088Z"
   },
   {
    "duration": 3,
    "start_time": "2021-12-02T20:40:01.122Z"
   },
   {
    "duration": 174,
    "start_time": "2021-12-02T20:40:01.127Z"
   },
   {
    "duration": 7,
    "start_time": "2021-12-02T20:40:01.303Z"
   },
   {
    "duration": 14,
    "start_time": "2021-12-02T20:40:01.311Z"
   },
   {
    "duration": 320,
    "start_time": "2021-12-02T20:40:01.327Z"
   },
   {
    "duration": 7,
    "start_time": "2021-12-02T20:40:01.649Z"
   },
   {
    "duration": 217,
    "start_time": "2021-12-02T20:40:01.658Z"
   },
   {
    "duration": 17,
    "start_time": "2021-12-02T20:40:01.877Z"
   },
   {
    "duration": 250,
    "start_time": "2021-12-02T20:40:01.896Z"
   },
   {
    "duration": 6,
    "start_time": "2021-12-02T20:40:02.148Z"
   },
   {
    "duration": 21,
    "start_time": "2021-12-02T20:40:02.155Z"
   },
   {
    "duration": 10,
    "start_time": "2021-12-02T20:40:02.177Z"
   },
   {
    "duration": 255,
    "start_time": "2021-12-02T20:40:02.189Z"
   },
   {
    "duration": 314,
    "start_time": "2021-12-02T20:40:02.446Z"
   },
   {
    "duration": 293,
    "start_time": "2021-12-02T20:40:02.762Z"
   },
   {
    "duration": 8,
    "start_time": "2021-12-02T20:40:03.056Z"
   },
   {
    "duration": 22,
    "start_time": "2021-12-02T20:40:03.065Z"
   },
   {
    "duration": 14,
    "start_time": "2021-12-02T20:40:03.088Z"
   },
   {
    "duration": 636,
    "start_time": "2021-12-02T20:40:03.104Z"
   },
   {
    "duration": 3,
    "start_time": "2021-12-02T20:40:03.744Z"
   },
   {
    "duration": 152,
    "start_time": "2021-12-02T20:40:03.749Z"
   },
   {
    "duration": 4,
    "start_time": "2021-12-02T20:40:03.903Z"
   },
   {
    "duration": 64,
    "start_time": "2021-12-02T20:40:03.908Z"
   },
   {
    "duration": 8,
    "start_time": "2021-12-02T20:40:03.973Z"
   },
   {
    "duration": 17,
    "start_time": "2021-12-02T20:40:03.982Z"
   },
   {
    "duration": 36,
    "start_time": "2021-12-02T20:40:04.001Z"
   },
   {
    "duration": 446,
    "start_time": "2021-12-02T20:40:04.038Z"
   },
   {
    "duration": -1665,
    "start_time": "2021-12-02T20:40:06.151Z"
   },
   {
    "duration": 5,
    "start_time": "2021-12-02T20:40:43.886Z"
   },
   {
    "duration": 264,
    "start_time": "2021-12-02T20:40:46.858Z"
   },
   {
    "duration": 4,
    "start_time": "2021-12-02T20:40:53.755Z"
   },
   {
    "duration": 169,
    "start_time": "2021-12-02T20:40:54.578Z"
   },
   {
    "duration": 1307,
    "start_time": "2021-12-02T20:41:04.402Z"
   },
   {
    "duration": 10,
    "start_time": "2021-12-02T20:44:40.440Z"
   },
   {
    "duration": 205,
    "start_time": "2021-12-02T20:46:51.987Z"
   },
   {
    "duration": 1190,
    "start_time": "2021-12-02T20:49:36.462Z"
   },
   {
    "duration": 99,
    "start_time": "2021-12-02T20:49:37.654Z"
   },
   {
    "duration": 12,
    "start_time": "2021-12-02T20:49:37.758Z"
   },
   {
    "duration": 14,
    "start_time": "2021-12-02T20:49:37.772Z"
   },
   {
    "duration": 17,
    "start_time": "2021-12-02T20:49:37.788Z"
   },
   {
    "duration": 31,
    "start_time": "2021-12-02T20:49:37.807Z"
   },
   {
    "duration": 5,
    "start_time": "2021-12-02T20:49:37.841Z"
   },
   {
    "duration": 25,
    "start_time": "2021-12-02T20:49:37.848Z"
   },
   {
    "duration": 25,
    "start_time": "2021-12-02T20:49:37.876Z"
   },
   {
    "duration": 27,
    "start_time": "2021-12-02T20:49:37.902Z"
   },
   {
    "duration": 25,
    "start_time": "2021-12-02T20:49:37.931Z"
   },
   {
    "duration": 8,
    "start_time": "2021-12-02T20:49:37.958Z"
   },
   {
    "duration": 34,
    "start_time": "2021-12-02T20:49:37.967Z"
   },
   {
    "duration": 17,
    "start_time": "2021-12-02T20:49:38.002Z"
   },
   {
    "duration": 27,
    "start_time": "2021-12-02T20:49:38.021Z"
   },
   {
    "duration": 4,
    "start_time": "2021-12-02T20:49:38.049Z"
   },
   {
    "duration": 18,
    "start_time": "2021-12-02T20:49:38.055Z"
   },
   {
    "duration": 32,
    "start_time": "2021-12-02T20:49:38.074Z"
   },
   {
    "duration": 12,
    "start_time": "2021-12-02T20:49:38.107Z"
   },
   {
    "duration": 10,
    "start_time": "2021-12-02T20:49:38.121Z"
   },
   {
    "duration": 5,
    "start_time": "2021-12-02T20:49:38.132Z"
   },
   {
    "duration": 8,
    "start_time": "2021-12-02T20:49:38.141Z"
   },
   {
    "duration": 16,
    "start_time": "2021-12-02T20:49:38.152Z"
   },
   {
    "duration": 8,
    "start_time": "2021-12-02T20:49:38.170Z"
   },
   {
    "duration": 6,
    "start_time": "2021-12-02T20:49:38.180Z"
   },
   {
    "duration": 4,
    "start_time": "2021-12-02T20:49:38.187Z"
   },
   {
    "duration": 6,
    "start_time": "2021-12-02T20:49:38.192Z"
   },
   {
    "duration": 6,
    "start_time": "2021-12-02T20:49:38.199Z"
   },
   {
    "duration": 44,
    "start_time": "2021-12-02T20:49:38.207Z"
   },
   {
    "duration": 8,
    "start_time": "2021-12-02T20:49:38.253Z"
   },
   {
    "duration": 7,
    "start_time": "2021-12-02T20:49:38.263Z"
   },
   {
    "duration": 12,
    "start_time": "2021-12-02T20:49:38.272Z"
   },
   {
    "duration": 8,
    "start_time": "2021-12-02T20:49:38.286Z"
   },
   {
    "duration": 6,
    "start_time": "2021-12-02T20:49:38.296Z"
   },
   {
    "duration": 4,
    "start_time": "2021-12-02T20:49:38.304Z"
   },
   {
    "duration": 38,
    "start_time": "2021-12-02T20:49:38.309Z"
   },
   {
    "duration": 16,
    "start_time": "2021-12-02T20:49:38.349Z"
   },
   {
    "duration": 9,
    "start_time": "2021-12-02T20:49:38.367Z"
   },
   {
    "duration": 5,
    "start_time": "2021-12-02T20:49:38.378Z"
   },
   {
    "duration": 6,
    "start_time": "2021-12-02T20:49:38.385Z"
   },
   {
    "duration": 7,
    "start_time": "2021-12-02T20:49:38.393Z"
   },
   {
    "duration": 48,
    "start_time": "2021-12-02T20:49:38.402Z"
   },
   {
    "duration": 6,
    "start_time": "2021-12-02T20:49:38.452Z"
   },
   {
    "duration": 8,
    "start_time": "2021-12-02T20:49:38.460Z"
   },
   {
    "duration": 5,
    "start_time": "2021-12-02T20:49:38.470Z"
   },
   {
    "duration": 11,
    "start_time": "2021-12-02T20:49:38.477Z"
   },
   {
    "duration": 5,
    "start_time": "2021-12-02T20:49:38.490Z"
   },
   {
    "duration": 3,
    "start_time": "2021-12-02T20:49:38.497Z"
   },
   {
    "duration": 9,
    "start_time": "2021-12-02T20:49:38.545Z"
   },
   {
    "duration": 13,
    "start_time": "2021-12-02T20:49:38.556Z"
   },
   {
    "duration": 6,
    "start_time": "2021-12-02T20:49:38.570Z"
   },
   {
    "duration": 9,
    "start_time": "2021-12-02T20:49:38.577Z"
   },
   {
    "duration": 6,
    "start_time": "2021-12-02T20:49:38.588Z"
   },
   {
    "duration": 22,
    "start_time": "2021-12-02T20:49:38.595Z"
   },
   {
    "duration": 29,
    "start_time": "2021-12-02T20:49:38.618Z"
   },
   {
    "duration": 26,
    "start_time": "2021-12-02T20:49:38.649Z"
   },
   {
    "duration": 4,
    "start_time": "2021-12-02T20:49:38.676Z"
   },
   {
    "duration": 7,
    "start_time": "2021-12-02T20:49:38.682Z"
   },
   {
    "duration": 12,
    "start_time": "2021-12-02T20:49:38.691Z"
   },
   {
    "duration": 48,
    "start_time": "2021-12-02T20:49:38.705Z"
   },
   {
    "duration": 8,
    "start_time": "2021-12-02T20:49:38.755Z"
   },
   {
    "duration": 7,
    "start_time": "2021-12-02T20:49:38.764Z"
   },
   {
    "duration": 31,
    "start_time": "2021-12-02T20:49:38.774Z"
   },
   {
    "duration": 3,
    "start_time": "2021-12-02T20:49:38.807Z"
   },
   {
    "duration": 34,
    "start_time": "2021-12-02T20:49:38.812Z"
   },
   {
    "duration": 153,
    "start_time": "2021-12-02T20:49:38.847Z"
   },
   {
    "duration": 3,
    "start_time": "2021-12-02T20:49:39.006Z"
   },
   {
    "duration": 7,
    "start_time": "2021-12-02T20:49:39.011Z"
   },
   {
    "duration": 7,
    "start_time": "2021-12-02T20:49:39.020Z"
   },
   {
    "duration": 152,
    "start_time": "2021-12-02T20:49:39.029Z"
   },
   {
    "duration": 156,
    "start_time": "2021-12-02T20:49:39.183Z"
   },
   {
    "duration": 6,
    "start_time": "2021-12-02T20:49:39.341Z"
   },
   {
    "duration": 150,
    "start_time": "2021-12-02T20:49:39.349Z"
   },
   {
    "duration": 146,
    "start_time": "2021-12-02T20:49:39.501Z"
   },
   {
    "duration": 4,
    "start_time": "2021-12-02T20:49:39.648Z"
   },
   {
    "duration": 200,
    "start_time": "2021-12-02T20:49:39.654Z"
   },
   {
    "duration": 153,
    "start_time": "2021-12-02T20:49:39.855Z"
   },
   {
    "duration": 5,
    "start_time": "2021-12-02T20:49:40.010Z"
   },
   {
    "duration": 157,
    "start_time": "2021-12-02T20:49:40.016Z"
   },
   {
    "duration": 3,
    "start_time": "2021-12-02T20:49:40.175Z"
   },
   {
    "duration": 23,
    "start_time": "2021-12-02T20:49:40.179Z"
   },
   {
    "duration": 15,
    "start_time": "2021-12-02T20:49:40.204Z"
   },
   {
    "duration": 18,
    "start_time": "2021-12-02T20:49:40.220Z"
   },
   {
    "duration": 11,
    "start_time": "2021-12-02T20:49:40.239Z"
   },
   {
    "duration": 12,
    "start_time": "2021-12-02T20:49:40.251Z"
   },
   {
    "duration": 16,
    "start_time": "2021-12-02T20:49:40.264Z"
   },
   {
    "duration": 15,
    "start_time": "2021-12-02T20:49:40.282Z"
   },
   {
    "duration": 20,
    "start_time": "2021-12-02T20:49:40.299Z"
   },
   {
    "duration": 15,
    "start_time": "2021-12-02T20:49:40.321Z"
   },
   {
    "duration": 30,
    "start_time": "2021-12-02T20:49:40.337Z"
   },
   {
    "duration": 13,
    "start_time": "2021-12-02T20:49:40.369Z"
   },
   {
    "duration": 45,
    "start_time": "2021-12-02T20:49:40.383Z"
   },
   {
    "duration": 3,
    "start_time": "2021-12-02T20:49:40.429Z"
   },
   {
    "duration": 200,
    "start_time": "2021-12-02T20:49:40.434Z"
   },
   {
    "duration": 12,
    "start_time": "2021-12-02T20:49:40.636Z"
   },
   {
    "duration": 6,
    "start_time": "2021-12-02T20:49:40.649Z"
   },
   {
    "duration": 303,
    "start_time": "2021-12-02T20:49:40.657Z"
   },
   {
    "duration": 10,
    "start_time": "2021-12-02T20:49:40.961Z"
   },
   {
    "duration": 212,
    "start_time": "2021-12-02T20:49:40.972Z"
   },
   {
    "duration": 16,
    "start_time": "2021-12-02T20:49:41.185Z"
   },
   {
    "duration": 242,
    "start_time": "2021-12-02T20:49:41.202Z"
   },
   {
    "duration": 5,
    "start_time": "2021-12-02T20:49:41.445Z"
   },
   {
    "duration": 20,
    "start_time": "2021-12-02T20:49:41.451Z"
   },
   {
    "duration": 8,
    "start_time": "2021-12-02T20:49:41.473Z"
   },
   {
    "duration": 178,
    "start_time": "2021-12-02T20:49:41.483Z"
   },
   {
    "duration": 322,
    "start_time": "2021-12-02T20:49:41.663Z"
   },
   {
    "duration": 279,
    "start_time": "2021-12-02T20:49:41.987Z"
   },
   {
    "duration": 8,
    "start_time": "2021-12-02T20:49:42.267Z"
   },
   {
    "duration": 20,
    "start_time": "2021-12-02T20:49:42.276Z"
   },
   {
    "duration": 6,
    "start_time": "2021-12-02T20:49:42.297Z"
   },
   {
    "duration": 625,
    "start_time": "2021-12-02T20:49:42.305Z"
   },
   {
    "duration": 3,
    "start_time": "2021-12-02T20:49:42.932Z"
   },
   {
    "duration": 140,
    "start_time": "2021-12-02T20:49:42.936Z"
   },
   {
    "duration": 4,
    "start_time": "2021-12-02T20:49:43.077Z"
   },
   {
    "duration": 33,
    "start_time": "2021-12-02T20:49:43.083Z"
   },
   {
    "duration": 6,
    "start_time": "2021-12-02T20:49:43.117Z"
   },
   {
    "duration": 5,
    "start_time": "2021-12-02T20:49:43.144Z"
   },
   {
    "duration": 9,
    "start_time": "2021-12-02T20:49:43.150Z"
   },
   {
    "duration": 175,
    "start_time": "2021-12-02T20:49:43.160Z"
   },
   {
    "duration": 1316,
    "start_time": "2021-12-02T20:49:43.337Z"
   },
   {
    "duration": 1363,
    "start_time": "2021-12-02T20:51:44.594Z"
   },
   {
    "duration": 1621,
    "start_time": "2021-12-02T20:53:31.188Z"
   },
   {
    "duration": 168,
    "start_time": "2021-12-02T20:54:35.781Z"
   },
   {
    "duration": 172,
    "start_time": "2021-12-02T20:55:25.710Z"
   },
   {
    "duration": 175,
    "start_time": "2021-12-02T20:57:30.502Z"
   },
   {
    "duration": 193,
    "start_time": "2021-12-02T20:58:14.218Z"
   },
   {
    "duration": 195,
    "start_time": "2021-12-02T20:58:31.042Z"
   },
   {
    "duration": 245,
    "start_time": "2021-12-02T21:00:36.464Z"
   },
   {
    "duration": 417,
    "start_time": "2021-12-02T21:01:16.901Z"
   },
   {
    "duration": 576,
    "start_time": "2021-12-02T21:02:07.814Z"
   },
   {
    "duration": 239,
    "start_time": "2021-12-02T21:02:13.630Z"
   },
   {
    "duration": 351,
    "start_time": "2021-12-02T21:02:26.950Z"
   },
   {
    "duration": 256,
    "start_time": "2021-12-02T21:03:19.944Z"
   },
   {
    "duration": 251,
    "start_time": "2021-12-02T21:03:30.072Z"
   },
   {
    "duration": 6465,
    "start_time": "2021-12-02T21:04:34.264Z"
   },
   {
    "duration": 6402,
    "start_time": "2021-12-02T21:04:55.129Z"
   },
   {
    "duration": 231,
    "start_time": "2021-12-02T21:05:12.586Z"
   },
   {
    "duration": 220,
    "start_time": "2021-12-02T21:05:23.274Z"
   },
   {
    "duration": 1279,
    "start_time": "2021-12-02T21:07:32.136Z"
   },
   {
    "duration": 107,
    "start_time": "2021-12-02T21:07:33.417Z"
   },
   {
    "duration": 12,
    "start_time": "2021-12-02T21:07:33.526Z"
   },
   {
    "duration": 27,
    "start_time": "2021-12-02T21:07:33.540Z"
   },
   {
    "duration": 11,
    "start_time": "2021-12-02T21:07:33.569Z"
   },
   {
    "duration": 23,
    "start_time": "2021-12-02T21:07:33.582Z"
   },
   {
    "duration": 22,
    "start_time": "2021-12-02T21:07:33.607Z"
   },
   {
    "duration": 16,
    "start_time": "2021-12-02T21:07:33.632Z"
   },
   {
    "duration": 9,
    "start_time": "2021-12-02T21:07:33.650Z"
   },
   {
    "duration": 18,
    "start_time": "2021-12-02T21:07:33.662Z"
   },
   {
    "duration": 7,
    "start_time": "2021-12-02T21:07:33.683Z"
   },
   {
    "duration": 8,
    "start_time": "2021-12-02T21:07:33.692Z"
   },
   {
    "duration": 16,
    "start_time": "2021-12-02T21:07:33.701Z"
   },
   {
    "duration": 44,
    "start_time": "2021-12-02T21:07:33.719Z"
   },
   {
    "duration": 24,
    "start_time": "2021-12-02T21:07:33.765Z"
   },
   {
    "duration": 4,
    "start_time": "2021-12-02T21:07:33.791Z"
   },
   {
    "duration": 7,
    "start_time": "2021-12-02T21:07:33.797Z"
   },
   {
    "duration": 5,
    "start_time": "2021-12-02T21:07:33.806Z"
   },
   {
    "duration": 38,
    "start_time": "2021-12-02T21:07:33.812Z"
   },
   {
    "duration": 17,
    "start_time": "2021-12-02T21:07:33.854Z"
   },
   {
    "duration": 5,
    "start_time": "2021-12-02T21:07:33.873Z"
   },
   {
    "duration": 10,
    "start_time": "2021-12-02T21:07:33.881Z"
   },
   {
    "duration": 51,
    "start_time": "2021-12-02T21:07:33.896Z"
   },
   {
    "duration": 10,
    "start_time": "2021-12-02T21:07:33.951Z"
   },
   {
    "duration": 6,
    "start_time": "2021-12-02T21:07:33.964Z"
   },
   {
    "duration": 8,
    "start_time": "2021-12-02T21:07:33.972Z"
   },
   {
    "duration": 6,
    "start_time": "2021-12-02T21:07:33.982Z"
   },
   {
    "duration": 6,
    "start_time": "2021-12-02T21:07:33.990Z"
   },
   {
    "duration": 7,
    "start_time": "2021-12-02T21:07:33.998Z"
   },
   {
    "duration": 11,
    "start_time": "2021-12-02T21:07:34.061Z"
   },
   {
    "duration": 6,
    "start_time": "2021-12-02T21:07:34.074Z"
   },
   {
    "duration": 6,
    "start_time": "2021-12-02T21:07:34.081Z"
   },
   {
    "duration": 9,
    "start_time": "2021-12-02T21:07:34.089Z"
   },
   {
    "duration": 6,
    "start_time": "2021-12-02T21:07:34.100Z"
   },
   {
    "duration": 2,
    "start_time": "2021-12-02T21:07:34.109Z"
   },
   {
    "duration": 43,
    "start_time": "2021-12-02T21:07:34.114Z"
   },
   {
    "duration": 19,
    "start_time": "2021-12-02T21:07:34.160Z"
   },
   {
    "duration": 8,
    "start_time": "2021-12-02T21:07:34.181Z"
   },
   {
    "duration": 6,
    "start_time": "2021-12-02T21:07:34.191Z"
   },
   {
    "duration": 6,
    "start_time": "2021-12-02T21:07:34.199Z"
   },
   {
    "duration": 42,
    "start_time": "2021-12-02T21:07:34.207Z"
   },
   {
    "duration": 13,
    "start_time": "2021-12-02T21:07:34.252Z"
   },
   {
    "duration": 6,
    "start_time": "2021-12-02T21:07:34.266Z"
   },
   {
    "duration": 8,
    "start_time": "2021-12-02T21:07:34.273Z"
   },
   {
    "duration": 6,
    "start_time": "2021-12-02T21:07:34.283Z"
   },
   {
    "duration": 9,
    "start_time": "2021-12-02T21:07:34.291Z"
   },
   {
    "duration": 5,
    "start_time": "2021-12-02T21:07:34.302Z"
   },
   {
    "duration": 4,
    "start_time": "2021-12-02T21:07:34.349Z"
   },
   {
    "duration": 19,
    "start_time": "2021-12-02T21:07:34.356Z"
   },
   {
    "duration": 9,
    "start_time": "2021-12-02T21:07:34.378Z"
   },
   {
    "duration": 6,
    "start_time": "2021-12-02T21:07:34.389Z"
   },
   {
    "duration": 8,
    "start_time": "2021-12-02T21:07:34.397Z"
   },
   {
    "duration": 7,
    "start_time": "2021-12-02T21:07:34.407Z"
   },
   {
    "duration": 32,
    "start_time": "2021-12-02T21:07:34.449Z"
   },
   {
    "duration": 5,
    "start_time": "2021-12-02T21:07:34.482Z"
   },
   {
    "duration": 25,
    "start_time": "2021-12-02T21:07:34.489Z"
   },
   {
    "duration": 33,
    "start_time": "2021-12-02T21:07:34.516Z"
   },
   {
    "duration": 9,
    "start_time": "2021-12-02T21:07:34.551Z"
   },
   {
    "duration": 7,
    "start_time": "2021-12-02T21:07:34.562Z"
   },
   {
    "duration": 29,
    "start_time": "2021-12-02T21:07:34.571Z"
   },
   {
    "duration": 8,
    "start_time": "2021-12-02T21:07:34.602Z"
   },
   {
    "duration": 38,
    "start_time": "2021-12-02T21:07:34.612Z"
   },
   {
    "duration": 26,
    "start_time": "2021-12-02T21:07:34.652Z"
   },
   {
    "duration": 4,
    "start_time": "2021-12-02T21:07:34.680Z"
   },
   {
    "duration": 7,
    "start_time": "2021-12-02T21:07:34.686Z"
   },
   {
    "duration": 198,
    "start_time": "2021-12-02T21:07:34.695Z"
   },
   {
    "duration": 3,
    "start_time": "2021-12-02T21:07:34.895Z"
   },
   {
    "duration": 4,
    "start_time": "2021-12-02T21:07:34.904Z"
   },
   {
    "duration": 8,
    "start_time": "2021-12-02T21:07:34.911Z"
   },
   {
    "duration": 181,
    "start_time": "2021-12-02T21:07:34.920Z"
   },
   {
    "duration": 280,
    "start_time": "2021-12-02T21:07:35.103Z"
   },
   {
    "duration": 5,
    "start_time": "2021-12-02T21:07:35.384Z"
   },
   {
    "duration": 178,
    "start_time": "2021-12-02T21:07:35.391Z"
   },
   {
    "duration": 156,
    "start_time": "2021-12-02T21:07:35.571Z"
   },
   {
    "duration": 5,
    "start_time": "2021-12-02T21:07:35.729Z"
   },
   {
    "duration": 229,
    "start_time": "2021-12-02T21:07:35.745Z"
   },
   {
    "duration": 168,
    "start_time": "2021-12-02T21:07:35.977Z"
   },
   {
    "duration": 7,
    "start_time": "2021-12-02T21:07:36.147Z"
   },
   {
    "duration": 169,
    "start_time": "2021-12-02T21:07:36.156Z"
   },
   {
    "duration": 2,
    "start_time": "2021-12-02T21:07:36.327Z"
   },
   {
    "duration": 20,
    "start_time": "2021-12-02T21:07:36.331Z"
   },
   {
    "duration": 6,
    "start_time": "2021-12-02T21:07:36.353Z"
   },
   {
    "duration": 14,
    "start_time": "2021-12-02T21:07:36.362Z"
   },
   {
    "duration": 14,
    "start_time": "2021-12-02T21:07:36.378Z"
   },
   {
    "duration": 5,
    "start_time": "2021-12-02T21:07:36.394Z"
   },
   {
    "duration": 10,
    "start_time": "2021-12-02T21:07:36.401Z"
   },
   {
    "duration": 40,
    "start_time": "2021-12-02T21:07:36.413Z"
   },
   {
    "duration": 13,
    "start_time": "2021-12-02T21:07:36.455Z"
   },
   {
    "duration": 4,
    "start_time": "2021-12-02T21:07:36.471Z"
   },
   {
    "duration": 9,
    "start_time": "2021-12-02T21:07:36.478Z"
   },
   {
    "duration": 12,
    "start_time": "2021-12-02T21:07:36.489Z"
   },
   {
    "duration": 76,
    "start_time": "2021-12-02T21:07:36.503Z"
   },
   {
    "duration": 4,
    "start_time": "2021-12-02T21:07:36.581Z"
   },
   {
    "duration": 194,
    "start_time": "2021-12-02T21:07:36.587Z"
   },
   {
    "duration": 9,
    "start_time": "2021-12-02T21:07:36.783Z"
   },
   {
    "duration": 18,
    "start_time": "2021-12-02T21:07:36.793Z"
   },
   {
    "duration": 475,
    "start_time": "2021-12-02T21:07:36.813Z"
   },
   {
    "duration": 13,
    "start_time": "2021-12-02T21:07:37.290Z"
   },
   {
    "duration": 378,
    "start_time": "2021-12-02T21:07:37.305Z"
   },
   {
    "duration": 28,
    "start_time": "2021-12-02T21:07:37.685Z"
   },
   {
    "duration": 416,
    "start_time": "2021-12-02T21:07:37.715Z"
   },
   {
    "duration": 16,
    "start_time": "2021-12-02T21:07:38.134Z"
   },
   {
    "duration": 16,
    "start_time": "2021-12-02T21:07:38.153Z"
   },
   {
    "duration": 10,
    "start_time": "2021-12-02T21:07:38.171Z"
   },
   {
    "duration": 228,
    "start_time": "2021-12-02T21:07:38.182Z"
   },
   {
    "duration": 367,
    "start_time": "2021-12-02T21:07:38.412Z"
   },
   {
    "duration": 319,
    "start_time": "2021-12-02T21:07:38.781Z"
   },
   {
    "duration": 9,
    "start_time": "2021-12-02T21:07:39.101Z"
   },
   {
    "duration": 54,
    "start_time": "2021-12-02T21:07:39.111Z"
   },
   {
    "duration": 691,
    "start_time": "2021-12-02T21:07:39.167Z"
   },
   {
    "duration": 9,
    "start_time": "2021-12-02T21:07:39.860Z"
   },
   {
    "duration": 169,
    "start_time": "2021-12-02T21:07:39.871Z"
   },
   {
    "duration": 11,
    "start_time": "2021-12-02T21:07:40.041Z"
   },
   {
    "duration": 36,
    "start_time": "2021-12-02T21:07:40.055Z"
   },
   {
    "duration": 5,
    "start_time": "2021-12-02T21:07:40.093Z"
   },
   {
    "duration": 7,
    "start_time": "2021-12-02T21:07:40.101Z"
   },
   {
    "duration": 11,
    "start_time": "2021-12-02T21:07:40.110Z"
   },
   {
    "duration": 213,
    "start_time": "2021-12-02T21:07:40.144Z"
   },
   {
    "duration": 1626,
    "start_time": "2021-12-02T21:07:40.359Z"
   },
   {
    "duration": 824,
    "start_time": "2021-12-03T17:25:18.992Z"
   },
   {
    "duration": 1070,
    "start_time": "2021-12-03T17:25:32.641Z"
   },
   {
    "duration": 241,
    "start_time": "2021-12-03T17:25:33.712Z"
   },
   {
    "duration": 10,
    "start_time": "2021-12-03T17:25:33.955Z"
   },
   {
    "duration": 8,
    "start_time": "2021-12-03T17:25:33.967Z"
   },
   {
    "duration": 6,
    "start_time": "2021-12-03T17:25:33.977Z"
   },
   {
    "duration": 13,
    "start_time": "2021-12-03T17:25:33.984Z"
   },
   {
    "duration": 6,
    "start_time": "2021-12-03T17:25:33.998Z"
   },
   {
    "duration": 6,
    "start_time": "2021-12-03T17:25:34.006Z"
   },
   {
    "duration": 5,
    "start_time": "2021-12-03T17:25:34.014Z"
   },
   {
    "duration": 12,
    "start_time": "2021-12-03T17:25:34.020Z"
   },
   {
    "duration": 5,
    "start_time": "2021-12-03T17:25:34.033Z"
   },
   {
    "duration": 4,
    "start_time": "2021-12-03T17:25:34.039Z"
   },
   {
    "duration": 43,
    "start_time": "2021-12-03T17:25:34.045Z"
   },
   {
    "duration": 12,
    "start_time": "2021-12-03T17:25:34.090Z"
   },
   {
    "duration": 30,
    "start_time": "2021-12-03T17:25:34.104Z"
   },
   {
    "duration": 5,
    "start_time": "2021-12-03T17:25:34.136Z"
   },
   {
    "duration": 19,
    "start_time": "2021-12-03T17:25:34.142Z"
   },
   {
    "duration": 15,
    "start_time": "2021-12-03T17:25:34.162Z"
   },
   {
    "duration": 10,
    "start_time": "2021-12-03T17:25:34.187Z"
   },
   {
    "duration": 21,
    "start_time": "2021-12-03T17:25:34.199Z"
   },
   {
    "duration": 5,
    "start_time": "2021-12-03T17:25:34.222Z"
   },
   {
    "duration": 19,
    "start_time": "2021-12-03T17:25:34.229Z"
   },
   {
    "duration": 20,
    "start_time": "2021-12-03T17:25:34.251Z"
   },
   {
    "duration": 14,
    "start_time": "2021-12-03T17:25:34.273Z"
   },
   {
    "duration": 17,
    "start_time": "2021-12-03T17:25:34.289Z"
   },
   {
    "duration": 14,
    "start_time": "2021-12-03T17:25:34.308Z"
   },
   {
    "duration": 15,
    "start_time": "2021-12-03T17:25:34.324Z"
   },
   {
    "duration": 18,
    "start_time": "2021-12-03T17:25:34.341Z"
   },
   {
    "duration": 20,
    "start_time": "2021-12-03T17:25:34.361Z"
   },
   {
    "duration": 7,
    "start_time": "2021-12-03T17:25:34.383Z"
   },
   {
    "duration": 24,
    "start_time": "2021-12-03T17:25:34.392Z"
   },
   {
    "duration": 12,
    "start_time": "2021-12-03T17:25:34.418Z"
   },
   {
    "duration": 23,
    "start_time": "2021-12-03T17:25:34.432Z"
   },
   {
    "duration": 21,
    "start_time": "2021-12-03T17:25:34.459Z"
   },
   {
    "duration": 7,
    "start_time": "2021-12-03T17:25:34.482Z"
   },
   {
    "duration": 8,
    "start_time": "2021-12-03T17:25:34.491Z"
   },
   {
    "duration": 15,
    "start_time": "2021-12-03T17:25:34.501Z"
   },
   {
    "duration": 8,
    "start_time": "2021-12-03T17:25:34.518Z"
   },
   {
    "duration": 5,
    "start_time": "2021-12-03T17:25:34.527Z"
   },
   {
    "duration": 6,
    "start_time": "2021-12-03T17:25:34.534Z"
   },
   {
    "duration": 7,
    "start_time": "2021-12-03T17:25:34.541Z"
   },
   {
    "duration": 39,
    "start_time": "2021-12-03T17:25:34.550Z"
   },
   {
    "duration": 5,
    "start_time": "2021-12-03T17:25:34.591Z"
   },
   {
    "duration": 11,
    "start_time": "2021-12-03T17:25:34.598Z"
   },
   {
    "duration": 5,
    "start_time": "2021-12-03T17:25:34.611Z"
   },
   {
    "duration": 10,
    "start_time": "2021-12-03T17:25:34.618Z"
   },
   {
    "duration": 5,
    "start_time": "2021-12-03T17:25:34.629Z"
   },
   {
    "duration": 5,
    "start_time": "2021-12-03T17:25:34.636Z"
   },
   {
    "duration": 10,
    "start_time": "2021-12-03T17:25:34.643Z"
   },
   {
    "duration": 11,
    "start_time": "2021-12-03T17:25:34.689Z"
   },
   {
    "duration": 7,
    "start_time": "2021-12-03T17:25:34.702Z"
   },
   {
    "duration": 7,
    "start_time": "2021-12-03T17:25:34.711Z"
   },
   {
    "duration": 6,
    "start_time": "2021-12-03T17:25:34.720Z"
   },
   {
    "duration": 21,
    "start_time": "2021-12-03T17:25:34.728Z"
   },
   {
    "duration": 4,
    "start_time": "2021-12-03T17:25:34.750Z"
   },
   {
    "duration": 53,
    "start_time": "2021-12-03T17:25:34.755Z"
   },
   {
    "duration": 4,
    "start_time": "2021-12-03T17:25:34.810Z"
   },
   {
    "duration": 16,
    "start_time": "2021-12-03T17:25:34.816Z"
   },
   {
    "duration": 8,
    "start_time": "2021-12-03T17:25:34.833Z"
   },
   {
    "duration": 32,
    "start_time": "2021-12-03T17:25:34.843Z"
   },
   {
    "duration": 18,
    "start_time": "2021-12-03T17:25:34.877Z"
   },
   {
    "duration": 12,
    "start_time": "2021-12-03T17:25:34.897Z"
   },
   {
    "duration": 27,
    "start_time": "2021-12-03T17:25:34.910Z"
   },
   {
    "duration": 3,
    "start_time": "2021-12-03T17:25:34.938Z"
   },
   {
    "duration": 5,
    "start_time": "2021-12-03T17:25:34.943Z"
   },
   {
    "duration": 160,
    "start_time": "2021-12-03T17:25:34.950Z"
   },
   {
    "duration": 3,
    "start_time": "2021-12-03T17:25:35.112Z"
   },
   {
    "duration": 4,
    "start_time": "2021-12-03T17:25:35.121Z"
   },
   {
    "duration": 9,
    "start_time": "2021-12-03T17:25:35.128Z"
   },
   {
    "duration": 143,
    "start_time": "2021-12-03T17:25:35.139Z"
   },
   {
    "duration": 140,
    "start_time": "2021-12-03T17:25:35.287Z"
   },
   {
    "duration": 4,
    "start_time": "2021-12-03T17:25:35.429Z"
   },
   {
    "duration": 134,
    "start_time": "2021-12-03T17:25:35.434Z"
   },
   {
    "duration": 127,
    "start_time": "2021-12-03T17:25:35.570Z"
   },
   {
    "duration": 4,
    "start_time": "2021-12-03T17:25:35.699Z"
   },
   {
    "duration": 183,
    "start_time": "2021-12-03T17:25:35.704Z"
   },
   {
    "duration": 128,
    "start_time": "2021-12-03T17:25:35.889Z"
   },
   {
    "duration": 4,
    "start_time": "2021-12-03T17:25:36.019Z"
   },
   {
    "duration": 137,
    "start_time": "2021-12-03T17:25:36.025Z"
   },
   {
    "duration": 2,
    "start_time": "2021-12-03T17:25:36.163Z"
   },
   {
    "duration": 15,
    "start_time": "2021-12-03T17:25:36.167Z"
   },
   {
    "duration": 17,
    "start_time": "2021-12-03T17:25:36.183Z"
   },
   {
    "duration": 17,
    "start_time": "2021-12-03T17:25:36.201Z"
   },
   {
    "duration": 9,
    "start_time": "2021-12-03T17:25:36.219Z"
   },
   {
    "duration": 4,
    "start_time": "2021-12-03T17:25:36.229Z"
   },
   {
    "duration": 7,
    "start_time": "2021-12-03T17:25:36.234Z"
   },
   {
    "duration": 11,
    "start_time": "2021-12-03T17:25:36.243Z"
   },
   {
    "duration": 11,
    "start_time": "2021-12-03T17:25:36.256Z"
   },
   {
    "duration": 2,
    "start_time": "2021-12-03T17:25:36.268Z"
   },
   {
    "duration": 16,
    "start_time": "2021-12-03T17:25:36.272Z"
   },
   {
    "duration": 10,
    "start_time": "2021-12-03T17:25:36.289Z"
   },
   {
    "duration": 26,
    "start_time": "2021-12-03T17:25:36.301Z"
   },
   {
    "duration": 3,
    "start_time": "2021-12-03T17:25:36.328Z"
   },
   {
    "duration": 169,
    "start_time": "2021-12-03T17:25:36.332Z"
   },
   {
    "duration": 6,
    "start_time": "2021-12-03T17:25:36.502Z"
   },
   {
    "duration": 7,
    "start_time": "2021-12-03T17:25:36.509Z"
   },
   {
    "duration": 291,
    "start_time": "2021-12-03T17:25:36.517Z"
   },
   {
    "duration": 9,
    "start_time": "2021-12-03T17:25:36.809Z"
   },
   {
    "duration": 195,
    "start_time": "2021-12-03T17:25:36.819Z"
   },
   {
    "duration": 14,
    "start_time": "2021-12-03T17:25:37.016Z"
   },
   {
    "duration": 221,
    "start_time": "2021-12-03T17:25:37.031Z"
   },
   {
    "duration": 4,
    "start_time": "2021-12-03T17:25:37.254Z"
   },
   {
    "duration": 10,
    "start_time": "2021-12-03T17:25:37.259Z"
   },
   {
    "duration": 21,
    "start_time": "2021-12-03T17:25:37.270Z"
   },
   {
    "duration": 165,
    "start_time": "2021-12-03T17:25:37.293Z"
   },
   {
    "duration": 293,
    "start_time": "2021-12-03T17:25:37.459Z"
   },
   {
    "duration": 267,
    "start_time": "2021-12-03T17:25:37.753Z"
   },
   {
    "duration": 7,
    "start_time": "2021-12-03T17:25:38.021Z"
   },
   {
    "duration": 22,
    "start_time": "2021-12-03T17:25:38.030Z"
   },
   {
    "duration": 607,
    "start_time": "2021-12-03T17:25:38.053Z"
   },
   {
    "duration": 4,
    "start_time": "2021-12-03T17:25:38.663Z"
   },
   {
    "duration": 127,
    "start_time": "2021-12-03T17:25:38.669Z"
   },
   {
    "duration": 4,
    "start_time": "2021-12-03T17:25:38.797Z"
   },
   {
    "duration": 31,
    "start_time": "2021-12-03T17:25:38.803Z"
   },
   {
    "duration": 5,
    "start_time": "2021-12-03T17:25:38.835Z"
   },
   {
    "duration": 5,
    "start_time": "2021-12-03T17:25:38.842Z"
   },
   {
    "duration": 6,
    "start_time": "2021-12-03T17:25:38.849Z"
   },
   {
    "duration": 190,
    "start_time": "2021-12-03T17:25:38.856Z"
   },
   {
    "duration": 1246,
    "start_time": "2021-12-03T17:25:39.047Z"
   },
   {
    "duration": 6,
    "start_time": "2021-12-03T17:26:44.648Z"
   },
   {
    "duration": 320,
    "start_time": "2021-12-03T17:26:57.621Z"
   },
   {
    "duration": 6,
    "start_time": "2021-12-03T17:27:03.480Z"
   },
   {
    "duration": 19,
    "start_time": "2021-12-03T17:29:30.584Z"
   },
   {
    "duration": 253,
    "start_time": "2021-12-03T17:29:50.883Z"
   },
   {
    "duration": 19,
    "start_time": "2021-12-03T17:29:59.690Z"
   },
   {
    "duration": 285,
    "start_time": "2021-12-03T17:31:30.606Z"
   },
   {
    "duration": 11,
    "start_time": "2021-12-03T17:32:15.332Z"
   },
   {
    "duration": 102,
    "start_time": "2021-12-03T17:32:52.126Z"
   },
   {
    "duration": 75,
    "start_time": "2021-12-03T17:33:22.613Z"
   },
   {
    "duration": 297,
    "start_time": "2021-12-03T17:33:33.521Z"
   },
   {
    "duration": 25,
    "start_time": "2021-12-03T17:33:50.027Z"
   },
   {
    "duration": 250,
    "start_time": "2021-12-03T17:34:59.565Z"
   },
   {
    "duration": 17,
    "start_time": "2021-12-03T17:35:35.979Z"
   },
   {
    "duration": 823,
    "start_time": "2021-12-03T17:36:47.378Z"
   },
   {
    "duration": 75,
    "start_time": "2021-12-03T17:44:43.931Z"
   },
   {
    "duration": 5781,
    "start_time": "2021-12-03T17:51:12.521Z"
   },
   {
    "duration": 5773,
    "start_time": "2021-12-03T17:52:11.204Z"
   },
   {
    "duration": 11,
    "start_time": "2021-12-03T17:52:17.843Z"
   },
   {
    "duration": 301,
    "start_time": "2021-12-03T17:53:29.705Z"
   },
   {
    "duration": 370,
    "start_time": "2021-12-03T17:54:03.602Z"
   },
   {
    "duration": 1077,
    "start_time": "2021-12-03T17:56:06.869Z"
   },
   {
    "duration": 86,
    "start_time": "2021-12-03T17:56:07.948Z"
   },
   {
    "duration": 9,
    "start_time": "2021-12-03T17:56:08.036Z"
   },
   {
    "duration": 5,
    "start_time": "2021-12-03T17:56:08.047Z"
   },
   {
    "duration": 7,
    "start_time": "2021-12-03T17:56:08.053Z"
   },
   {
    "duration": 11,
    "start_time": "2021-12-03T17:56:08.061Z"
   },
   {
    "duration": 5,
    "start_time": "2021-12-03T17:56:08.074Z"
   },
   {
    "duration": 7,
    "start_time": "2021-12-03T17:56:08.081Z"
   },
   {
    "duration": 4,
    "start_time": "2021-12-03T17:56:08.089Z"
   },
   {
    "duration": 11,
    "start_time": "2021-12-03T17:56:08.094Z"
   },
   {
    "duration": 5,
    "start_time": "2021-12-03T17:56:08.106Z"
   },
   {
    "duration": 5,
    "start_time": "2021-12-03T17:56:08.112Z"
   },
   {
    "duration": 14,
    "start_time": "2021-12-03T17:56:08.118Z"
   },
   {
    "duration": 11,
    "start_time": "2021-12-03T17:56:08.133Z"
   },
   {
    "duration": 53,
    "start_time": "2021-12-03T17:56:08.145Z"
   },
   {
    "duration": 4,
    "start_time": "2021-12-03T17:56:08.199Z"
   },
   {
    "duration": 6,
    "start_time": "2021-12-03T17:56:08.204Z"
   },
   {
    "duration": 6,
    "start_time": "2021-12-03T17:56:08.212Z"
   },
   {
    "duration": 5,
    "start_time": "2021-12-03T17:56:08.220Z"
   },
   {
    "duration": 10,
    "start_time": "2021-12-03T17:56:08.226Z"
   },
   {
    "duration": 4,
    "start_time": "2021-12-03T17:56:08.238Z"
   },
   {
    "duration": 14,
    "start_time": "2021-12-03T17:56:08.243Z"
   },
   {
    "duration": 12,
    "start_time": "2021-12-03T17:56:08.289Z"
   },
   {
    "duration": 7,
    "start_time": "2021-12-03T17:56:08.304Z"
   },
   {
    "duration": 7,
    "start_time": "2021-12-03T17:56:08.312Z"
   },
   {
    "duration": 3,
    "start_time": "2021-12-03T17:56:08.321Z"
   },
   {
    "duration": 4,
    "start_time": "2021-12-03T17:56:08.326Z"
   },
   {
    "duration": 5,
    "start_time": "2021-12-03T17:56:08.332Z"
   },
   {
    "duration": 7,
    "start_time": "2021-12-03T17:56:08.338Z"
   },
   {
    "duration": 45,
    "start_time": "2021-12-03T17:56:08.346Z"
   },
   {
    "duration": 4,
    "start_time": "2021-12-03T17:56:08.393Z"
   },
   {
    "duration": 6,
    "start_time": "2021-12-03T17:56:08.398Z"
   },
   {
    "duration": 7,
    "start_time": "2021-12-03T17:56:08.405Z"
   },
   {
    "duration": 3,
    "start_time": "2021-12-03T17:56:08.414Z"
   },
   {
    "duration": 4,
    "start_time": "2021-12-03T17:56:08.418Z"
   },
   {
    "duration": 6,
    "start_time": "2021-12-03T17:56:08.423Z"
   },
   {
    "duration": 14,
    "start_time": "2021-12-03T17:56:08.430Z"
   },
   {
    "duration": 11,
    "start_time": "2021-12-03T17:56:08.445Z"
   },
   {
    "duration": 32,
    "start_time": "2021-12-03T17:56:08.458Z"
   },
   {
    "duration": 6,
    "start_time": "2021-12-03T17:56:08.491Z"
   },
   {
    "duration": 10,
    "start_time": "2021-12-03T17:56:08.498Z"
   },
   {
    "duration": 6,
    "start_time": "2021-12-03T17:56:08.510Z"
   },
   {
    "duration": 5,
    "start_time": "2021-12-03T17:56:08.517Z"
   },
   {
    "duration": 8,
    "start_time": "2021-12-03T17:56:08.523Z"
   },
   {
    "duration": 5,
    "start_time": "2021-12-03T17:56:08.532Z"
   },
   {
    "duration": 9,
    "start_time": "2021-12-03T17:56:08.538Z"
   },
   {
    "duration": 39,
    "start_time": "2021-12-03T17:56:08.548Z"
   },
   {
    "duration": 2,
    "start_time": "2021-12-03T17:56:08.589Z"
   },
   {
    "duration": 14,
    "start_time": "2021-12-03T17:56:08.592Z"
   },
   {
    "duration": 9,
    "start_time": "2021-12-03T17:56:08.607Z"
   },
   {
    "duration": 5,
    "start_time": "2021-12-03T17:56:08.618Z"
   },
   {
    "duration": 7,
    "start_time": "2021-12-03T17:56:08.624Z"
   },
   {
    "duration": 5,
    "start_time": "2021-12-03T17:56:08.632Z"
   },
   {
    "duration": 19,
    "start_time": "2021-12-03T17:56:08.638Z"
   },
   {
    "duration": 3,
    "start_time": "2021-12-03T17:56:08.688Z"
   },
   {
    "duration": 21,
    "start_time": "2021-12-03T17:56:08.693Z"
   },
   {
    "duration": 3,
    "start_time": "2021-12-03T17:56:08.716Z"
   },
   {
    "duration": 6,
    "start_time": "2021-12-03T17:56:08.721Z"
   },
   {
    "duration": 6,
    "start_time": "2021-12-03T17:56:08.728Z"
   },
   {
    "duration": 24,
    "start_time": "2021-12-03T17:56:08.736Z"
   },
   {
    "duration": 26,
    "start_time": "2021-12-03T17:56:08.762Z"
   },
   {
    "duration": 7,
    "start_time": "2021-12-03T17:56:08.789Z"
   },
   {
    "duration": 19,
    "start_time": "2021-12-03T17:56:08.797Z"
   },
   {
    "duration": 2,
    "start_time": "2021-12-03T17:56:08.818Z"
   },
   {
    "duration": 6,
    "start_time": "2021-12-03T17:56:08.821Z"
   },
   {
    "duration": 154,
    "start_time": "2021-12-03T17:56:08.828Z"
   },
   {
    "duration": 5,
    "start_time": "2021-12-03T17:56:08.983Z"
   },
   {
    "duration": 5,
    "start_time": "2021-12-03T17:56:08.993Z"
   },
   {
    "duration": 9,
    "start_time": "2021-12-03T17:56:09.000Z"
   },
   {
    "duration": 133,
    "start_time": "2021-12-03T17:56:09.010Z"
   },
   {
    "duration": 148,
    "start_time": "2021-12-03T17:56:09.145Z"
   },
   {
    "duration": 4,
    "start_time": "2021-12-03T17:56:09.295Z"
   },
   {
    "duration": 136,
    "start_time": "2021-12-03T17:56:09.300Z"
   },
   {
    "duration": 144,
    "start_time": "2021-12-03T17:56:09.437Z"
   },
   {
    "duration": 6,
    "start_time": "2021-12-03T17:56:09.583Z"
   },
   {
    "duration": 186,
    "start_time": "2021-12-03T17:56:09.590Z"
   },
   {
    "duration": 133,
    "start_time": "2021-12-03T17:56:09.778Z"
   },
   {
    "duration": 4,
    "start_time": "2021-12-03T17:56:09.912Z"
   },
   {
    "duration": 130,
    "start_time": "2021-12-03T17:56:09.918Z"
   },
   {
    "duration": 2,
    "start_time": "2021-12-03T17:56:10.050Z"
   },
   {
    "duration": 10,
    "start_time": "2021-12-03T17:56:10.053Z"
   },
   {
    "duration": 7,
    "start_time": "2021-12-03T17:56:10.065Z"
   },
   {
    "duration": 22,
    "start_time": "2021-12-03T17:56:10.073Z"
   },
   {
    "duration": 4,
    "start_time": "2021-12-03T17:56:10.096Z"
   },
   {
    "duration": 6,
    "start_time": "2021-12-03T17:56:10.102Z"
   },
   {
    "duration": 8,
    "start_time": "2021-12-03T17:56:10.110Z"
   },
   {
    "duration": 12,
    "start_time": "2021-12-03T17:56:10.120Z"
   },
   {
    "duration": 10,
    "start_time": "2021-12-03T17:56:10.134Z"
   },
   {
    "duration": 2,
    "start_time": "2021-12-03T17:56:10.146Z"
   },
   {
    "duration": 9,
    "start_time": "2021-12-03T17:56:10.150Z"
   },
   {
    "duration": 32,
    "start_time": "2021-12-03T17:56:10.161Z"
   },
   {
    "duration": 31,
    "start_time": "2021-12-03T17:56:10.195Z"
   },
   {
    "duration": 3,
    "start_time": "2021-12-03T17:56:10.228Z"
   },
   {
    "duration": 180,
    "start_time": "2021-12-03T17:56:10.232Z"
   },
   {
    "duration": 8,
    "start_time": "2021-12-03T17:56:10.413Z"
   },
   {
    "duration": 6,
    "start_time": "2021-12-03T17:56:10.423Z"
   },
   {
    "duration": 301,
    "start_time": "2021-12-03T17:56:10.430Z"
   },
   {
    "duration": 9,
    "start_time": "2021-12-03T17:56:10.733Z"
   },
   {
    "duration": 198,
    "start_time": "2021-12-03T17:56:10.744Z"
   },
   {
    "duration": 16,
    "start_time": "2021-12-03T17:56:10.944Z"
   },
   {
    "duration": 234,
    "start_time": "2021-12-03T17:56:10.962Z"
   },
   {
    "duration": 5,
    "start_time": "2021-12-03T17:56:11.198Z"
   },
   {
    "duration": 13,
    "start_time": "2021-12-03T17:56:11.204Z"
   },
   {
    "duration": 12,
    "start_time": "2021-12-03T17:56:11.218Z"
   },
   {
    "duration": 181,
    "start_time": "2021-12-03T17:56:11.232Z"
   },
   {
    "duration": 289,
    "start_time": "2021-12-03T17:56:11.415Z"
   },
   {
    "duration": 258,
    "start_time": "2021-12-03T17:56:11.706Z"
   },
   {
    "duration": 6,
    "start_time": "2021-12-03T17:56:11.966Z"
   },
   {
    "duration": 26,
    "start_time": "2021-12-03T17:56:11.974Z"
   },
   {
    "duration": 575,
    "start_time": "2021-12-03T17:56:12.001Z"
   },
   {
    "duration": 829,
    "start_time": "2021-12-03T17:56:12.578Z"
   },
   {
    "duration": 3,
    "start_time": "2021-12-03T17:56:13.408Z"
   },
   {
    "duration": 129,
    "start_time": "2021-12-03T17:56:13.412Z"
   },
   {
    "duration": 4,
    "start_time": "2021-12-03T17:56:13.543Z"
   },
   {
    "duration": 44,
    "start_time": "2021-12-03T17:56:13.548Z"
   },
   {
    "duration": 4,
    "start_time": "2021-12-03T17:56:13.594Z"
   },
   {
    "duration": 7,
    "start_time": "2021-12-03T17:56:13.599Z"
   },
   {
    "duration": 6,
    "start_time": "2021-12-03T17:56:13.608Z"
   },
   {
    "duration": 169,
    "start_time": "2021-12-03T17:56:13.615Z"
   },
   {
    "duration": 1251,
    "start_time": "2021-12-03T17:56:13.785Z"
   },
   {
    "duration": 305,
    "start_time": "2021-12-03T17:56:15.038Z"
   },
   {
    "duration": 85,
    "start_time": "2021-12-03T17:57:05.888Z"
   },
   {
    "duration": 1370,
    "start_time": "2022-01-25T11:52:30.767Z"
   },
   {
    "duration": 116,
    "start_time": "2022-01-25T11:52:34.970Z"
   },
   {
    "duration": 15,
    "start_time": "2022-01-25T11:53:11.920Z"
   },
   {
    "duration": 9,
    "start_time": "2022-01-25T11:53:12.535Z"
   },
   {
    "duration": 9,
    "start_time": "2022-01-25T11:53:25.834Z"
   },
   {
    "duration": 15,
    "start_time": "2022-01-25T11:53:33.467Z"
   },
   {
    "duration": 9,
    "start_time": "2022-01-25T11:53:36.379Z"
   },
   {
    "duration": 6,
    "start_time": "2022-01-25T11:53:44.181Z"
   },
   {
    "duration": 6,
    "start_time": "2022-01-25T11:53:45.046Z"
   },
   {
    "duration": 17,
    "start_time": "2022-01-25T11:53:47.693Z"
   },
   {
    "duration": 8,
    "start_time": "2022-01-25T11:53:50.934Z"
   },
   {
    "duration": 8,
    "start_time": "2022-01-25T11:53:51.537Z"
   },
   {
    "duration": 33,
    "start_time": "2022-01-25T11:53:55.071Z"
   },
   {
    "duration": 17,
    "start_time": "2022-01-25T11:54:00.871Z"
   },
   {
    "duration": 37,
    "start_time": "2022-01-25T11:54:04.414Z"
   },
   {
    "duration": 5,
    "start_time": "2022-01-25T11:54:06.152Z"
   },
   {
    "duration": 7,
    "start_time": "2022-01-25T11:54:40.438Z"
   },
   {
    "duration": 5,
    "start_time": "2022-01-25T11:54:41.510Z"
   },
   {
    "duration": 8,
    "start_time": "2022-01-25T11:55:03.920Z"
   },
   {
    "duration": 13,
    "start_time": "2022-01-25T11:55:07.162Z"
   },
   {
    "duration": 7,
    "start_time": "2022-01-25T11:55:09.074Z"
   },
   {
    "duration": 14,
    "start_time": "2022-01-25T11:55:39.575Z"
   },
   {
    "duration": 21,
    "start_time": "2022-01-25T11:55:48.176Z"
   },
   {
    "duration": 10,
    "start_time": "2022-01-25T11:55:54.001Z"
   },
   {
    "duration": 7,
    "start_time": "2022-01-25T11:55:54.641Z"
   },
   {
    "duration": 6,
    "start_time": "2022-01-25T11:55:56.432Z"
   },
   {
    "duration": 6,
    "start_time": "2022-01-25T11:55:57.001Z"
   },
   {
    "duration": 8,
    "start_time": "2022-01-25T11:56:00.641Z"
   },
   {
    "duration": 11,
    "start_time": "2022-01-25T11:56:01.907Z"
   },
   {
    "duration": 11,
    "start_time": "2022-01-25T11:56:08.307Z"
   },
   {
    "duration": 6,
    "start_time": "2022-01-25T11:56:08.836Z"
   },
   {
    "duration": 7,
    "start_time": "2022-01-25T11:56:11.595Z"
   },
   {
    "duration": 10,
    "start_time": "2022-01-25T11:56:13.707Z"
   },
   {
    "duration": 7,
    "start_time": "2022-01-25T11:56:14.084Z"
   },
   {
    "duration": 7,
    "start_time": "2022-01-25T11:56:19.196Z"
   },
   {
    "duration": 23,
    "start_time": "2022-01-25T11:56:19.973Z"
   },
   {
    "duration": 13,
    "start_time": "2022-01-25T11:56:25.581Z"
   },
   {
    "duration": 7,
    "start_time": "2022-01-25T11:56:26.029Z"
   },
   {
    "duration": 7,
    "start_time": "2022-01-25T11:56:29.334Z"
   },
   {
    "duration": 9,
    "start_time": "2022-01-25T11:56:29.942Z"
   },
   {
    "duration": 9,
    "start_time": "2022-01-25T11:56:30.974Z"
   },
   {
    "duration": 7,
    "start_time": "2022-01-25T11:56:39.640Z"
   },
   {
    "duration": 8,
    "start_time": "2022-01-25T11:56:40.362Z"
   },
   {
    "duration": 6,
    "start_time": "2022-01-25T11:56:48.313Z"
   },
   {
    "duration": 13,
    "start_time": "2022-01-25T11:56:49.377Z"
   },
   {
    "duration": 7,
    "start_time": "2022-01-25T11:57:26.446Z"
   },
   {
    "duration": 4,
    "start_time": "2022-01-25T11:57:32.416Z"
   },
   {
    "duration": 15,
    "start_time": "2022-01-25T11:57:38.672Z"
   },
   {
    "duration": 13,
    "start_time": "2022-01-25T11:57:43.393Z"
   },
   {
    "duration": 7,
    "start_time": "2022-01-25T11:57:43.833Z"
   },
   {
    "duration": 8,
    "start_time": "2022-01-25T11:57:47.402Z"
   },
   {
    "duration": 7,
    "start_time": "2022-01-25T11:57:54.467Z"
   },
   {
    "duration": 37,
    "start_time": "2022-01-25T11:57:57.443Z"
   },
   {
    "duration": 6,
    "start_time": "2022-01-25T11:58:02.772Z"
   },
   {
    "duration": 33,
    "start_time": "2022-01-25T11:58:20.383Z"
   },
   {
    "duration": 7,
    "start_time": "2022-01-25T11:58:57.420Z"
   },
   {
    "duration": 8,
    "start_time": "2022-01-25T11:59:03.374Z"
   },
   {
    "duration": 7,
    "start_time": "2022-01-25T11:59:04.166Z"
   },
   {
    "duration": 39,
    "start_time": "2022-01-25T11:59:24.025Z"
   },
   {
    "duration": 12,
    "start_time": "2022-01-25T11:59:33.858Z"
   },
   {
    "duration": 10,
    "start_time": "2022-01-25T11:59:34.386Z"
   },
   {
    "duration": 51,
    "start_time": "2022-01-25T11:59:37.715Z"
   },
   {
    "duration": 6,
    "start_time": "2022-01-25T11:59:48.916Z"
   },
   {
    "duration": 6,
    "start_time": "2022-01-25T11:59:49.533Z"
   },
   {
    "duration": 236,
    "start_time": "2022-01-25T11:59:55.853Z"
   },
   {
    "duration": 4,
    "start_time": "2022-01-25T11:59:58.974Z"
   },
   {
    "duration": 6,
    "start_time": "2022-01-25T11:59:59.686Z"
   },
   {
    "duration": 9,
    "start_time": "2022-01-25T12:00:01.583Z"
   },
   {
    "duration": 218,
    "start_time": "2022-01-25T12:00:03.431Z"
   },
   {
    "duration": 234,
    "start_time": "2022-01-25T12:00:11.208Z"
   },
   {
    "duration": 7,
    "start_time": "2022-01-25T12:00:14.112Z"
   },
   {
    "duration": 245,
    "start_time": "2022-01-25T12:00:14.977Z"
   },
   {
    "duration": 214,
    "start_time": "2022-01-25T12:00:21.601Z"
   },
   {
    "duration": 7,
    "start_time": "2022-01-25T12:00:23.561Z"
   },
   {
    "duration": 221,
    "start_time": "2022-01-25T12:00:24.547Z"
   },
   {
    "duration": 289,
    "start_time": "2022-01-25T12:00:28.034Z"
   },
   {
    "duration": 6,
    "start_time": "2022-01-25T12:00:30.028Z"
   },
   {
    "duration": 234,
    "start_time": "2022-01-25T12:00:30.396Z"
   },
   {
    "duration": 4,
    "start_time": "2022-01-25T12:00:48.421Z"
   },
   {
    "duration": 9,
    "start_time": "2022-01-25T12:00:53.502Z"
   },
   {
    "duration": 7,
    "start_time": "2022-01-25T12:00:54.207Z"
   },
   {
    "duration": 15,
    "start_time": "2022-01-25T12:00:59.207Z"
   },
   {
    "duration": 8,
    "start_time": "2022-01-25T12:01:01.920Z"
   },
   {
    "duration": 4,
    "start_time": "2022-01-25T12:01:09.826Z"
   },
   {
    "duration": 9,
    "start_time": "2022-01-25T12:01:11.370Z"
   },
   {
    "duration": 16,
    "start_time": "2022-01-25T12:01:12.050Z"
   },
   {
    "duration": 17,
    "start_time": "2022-01-25T12:01:16.994Z"
   },
   {
    "duration": 4,
    "start_time": "2022-01-25T12:01:27.924Z"
   },
   {
    "duration": 9,
    "start_time": "2022-01-25T12:01:28.636Z"
   },
   {
    "duration": 16,
    "start_time": "2022-01-25T12:01:29.508Z"
   },
   {
    "duration": 54,
    "start_time": "2022-01-25T12:01:41.110Z"
   },
   {
    "duration": 5,
    "start_time": "2022-01-25T12:01:52.999Z"
   },
   {
    "duration": 281,
    "start_time": "2022-01-25T12:01:55.520Z"
   },
   {
    "duration": 10,
    "start_time": "2022-01-25T12:01:58.064Z"
   },
   {
    "duration": 8,
    "start_time": "2022-01-25T12:02:51.041Z"
   },
   {
    "duration": 510,
    "start_time": "2022-01-25T12:02:55.016Z"
   },
   {
    "duration": 14,
    "start_time": "2022-01-25T12:03:02.229Z"
   },
   {
    "duration": 335,
    "start_time": "2022-01-25T12:03:11.558Z"
   },
   {
    "duration": 31,
    "start_time": "2022-01-25T12:03:21.122Z"
   },
   {
    "duration": 416,
    "start_time": "2022-01-25T12:03:21.180Z"
   },
   {
    "duration": 8,
    "start_time": "2022-01-25T12:03:27.558Z"
   },
   {
    "duration": 14,
    "start_time": "2022-01-25T12:03:31.807Z"
   },
   {
    "duration": 15,
    "start_time": "2022-01-25T12:03:35.983Z"
   },
   {
    "duration": 301,
    "start_time": "2022-01-25T12:03:38.864Z"
   },
   {
    "duration": 525,
    "start_time": "2022-01-25T12:03:47.218Z"
   },
   {
    "duration": 469,
    "start_time": "2022-01-25T12:04:30.745Z"
   },
   {
    "duration": 11,
    "start_time": "2022-01-25T12:04:36.713Z"
   },
   {
    "duration": 29,
    "start_time": "2022-01-25T12:04:39.763Z"
   },
   {
    "duration": 859,
    "start_time": "2022-01-25T12:04:41.930Z"
   },
   {
    "duration": 1456,
    "start_time": "2022-01-25T12:04:44.859Z"
   },
   {
    "duration": 31,
    "start_time": "2022-01-25T12:05:47.694Z"
   },
   {
    "duration": 837,
    "start_time": "2022-01-25T12:05:48.894Z"
   },
   {
    "duration": 476,
    "start_time": "2022-01-25T12:06:14.579Z"
   },
   {
    "duration": 464,
    "start_time": "2022-01-25T12:06:20.354Z"
   },
   {
    "duration": 11,
    "start_time": "2022-01-25T12:06:37.334Z"
   },
   {
    "duration": 15,
    "start_time": "2022-01-25T12:06:41.909Z"
   },
   {
    "duration": 11,
    "start_time": "2022-01-25T12:06:45.758Z"
   },
   {
    "duration": 295,
    "start_time": "2022-01-25T12:06:47.638Z"
   },
   {
    "duration": 447,
    "start_time": "2022-01-25T12:08:20.017Z"
   },
   {
    "duration": 489,
    "start_time": "2022-01-25T12:08:24.853Z"
   },
   {
    "duration": 466,
    "start_time": "2022-01-25T12:08:33.399Z"
   },
   {
    "duration": 622,
    "start_time": "2022-01-25T12:09:01.612Z"
   },
   {
    "duration": 513,
    "start_time": "2022-01-25T12:09:08.628Z"
   },
   {
    "duration": 6,
    "start_time": "2022-01-25T12:09:43.954Z"
   },
   {
    "duration": 1101,
    "start_time": "2022-01-25T12:09:56.268Z"
   },
   {
    "duration": 838,
    "start_time": "2022-01-25T12:10:00.732Z"
   },
   {
    "duration": 807,
    "start_time": "2022-01-25T12:10:28.536Z"
   },
   {
    "duration": 1603,
    "start_time": "2022-01-25T12:10:29.347Z"
   },
   {
    "duration": 5,
    "start_time": "2022-01-25T12:11:05.382Z"
   },
   {
    "duration": 242,
    "start_time": "2022-01-25T12:11:05.976Z"
   },
   {
    "duration": 6,
    "start_time": "2022-01-25T12:11:08.143Z"
   },
   {
    "duration": 56,
    "start_time": "2022-01-25T12:11:09.757Z"
   },
   {
    "duration": 8,
    "start_time": "2022-01-25T12:11:16.407Z"
   },
   {
    "duration": 8,
    "start_time": "2022-01-25T12:11:16.871Z"
   },
   {
    "duration": 14,
    "start_time": "2022-01-25T12:11:17.640Z"
   },
   {
    "duration": 468,
    "start_time": "2022-01-25T12:11:23.481Z"
   },
   {
    "duration": 2550,
    "start_time": "2022-01-25T12:11:28.129Z"
   },
   {
    "duration": 535,
    "start_time": "2022-01-25T12:11:45.996Z"
   },
   {
    "duration": 562,
    "start_time": "2022-01-25T12:12:15.809Z"
   },
   {
    "duration": 1535,
    "start_time": "2022-01-25T12:13:22.654Z"
   },
   {
    "duration": 115,
    "start_time": "2022-01-25T12:13:24.192Z"
   },
   {
    "duration": 16,
    "start_time": "2022-01-25T12:13:24.310Z"
   },
   {
    "duration": 9,
    "start_time": "2022-01-25T12:13:24.329Z"
   },
   {
    "duration": 9,
    "start_time": "2022-01-25T12:13:24.341Z"
   },
   {
    "duration": 18,
    "start_time": "2022-01-25T12:13:24.353Z"
   },
   {
    "duration": 8,
    "start_time": "2022-01-25T12:13:24.373Z"
   },
   {
    "duration": 7,
    "start_time": "2022-01-25T12:13:24.384Z"
   },
   {
    "duration": 10,
    "start_time": "2022-01-25T12:13:24.394Z"
   },
   {
    "duration": 59,
    "start_time": "2022-01-25T12:13:24.406Z"
   },
   {
    "duration": 11,
    "start_time": "2022-01-25T12:13:24.468Z"
   },
   {
    "duration": 14,
    "start_time": "2022-01-25T12:13:24.482Z"
   },
   {
    "duration": 32,
    "start_time": "2022-01-25T12:13:24.499Z"
   },
   {
    "duration": 49,
    "start_time": "2022-01-25T12:13:24.534Z"
   },
   {
    "duration": 52,
    "start_time": "2022-01-25T12:13:24.586Z"
   },
   {
    "duration": 28,
    "start_time": "2022-01-25T12:13:24.641Z"
   },
   {
    "duration": 9,
    "start_time": "2022-01-25T12:13:24.672Z"
   },
   {
    "duration": 21,
    "start_time": "2022-01-25T12:13:24.685Z"
   },
   {
    "duration": 10,
    "start_time": "2022-01-25T12:13:24.709Z"
   },
   {
    "duration": 43,
    "start_time": "2022-01-25T12:13:24.722Z"
   },
   {
    "duration": 7,
    "start_time": "2022-01-25T12:13:24.767Z"
   },
   {
    "duration": 29,
    "start_time": "2022-01-25T12:13:24.776Z"
   },
   {
    "duration": 23,
    "start_time": "2022-01-25T12:13:24.811Z"
   },
   {
    "duration": 26,
    "start_time": "2022-01-25T12:13:24.840Z"
   },
   {
    "duration": 8,
    "start_time": "2022-01-25T12:13:24.869Z"
   },
   {
    "duration": 8,
    "start_time": "2022-01-25T12:13:24.880Z"
   },
   {
    "duration": 8,
    "start_time": "2022-01-25T12:13:24.890Z"
   },
   {
    "duration": 10,
    "start_time": "2022-01-25T12:13:24.901Z"
   },
   {
    "duration": 53,
    "start_time": "2022-01-25T12:13:24.914Z"
   },
   {
    "duration": 28,
    "start_time": "2022-01-25T12:13:24.970Z"
   },
   {
    "duration": 6,
    "start_time": "2022-01-25T12:13:25.001Z"
   },
   {
    "duration": 9,
    "start_time": "2022-01-25T12:13:25.010Z"
   },
   {
    "duration": 13,
    "start_time": "2022-01-25T12:13:25.021Z"
   },
   {
    "duration": 8,
    "start_time": "2022-01-25T12:13:25.036Z"
   },
   {
    "duration": 9,
    "start_time": "2022-01-25T12:13:25.066Z"
   },
   {
    "duration": 41,
    "start_time": "2022-01-25T12:13:25.077Z"
   },
   {
    "duration": 13,
    "start_time": "2022-01-25T12:13:25.121Z"
   },
   {
    "duration": 32,
    "start_time": "2022-01-25T12:13:25.137Z"
   },
   {
    "duration": 13,
    "start_time": "2022-01-25T12:13:25.172Z"
   },
   {
    "duration": 13,
    "start_time": "2022-01-25T12:13:25.187Z"
   },
   {
    "duration": 11,
    "start_time": "2022-01-25T12:13:25.203Z"
   },
   {
    "duration": 11,
    "start_time": "2022-01-25T12:13:25.217Z"
   },
   {
    "duration": 45,
    "start_time": "2022-01-25T12:13:25.231Z"
   },
   {
    "duration": 11,
    "start_time": "2022-01-25T12:13:25.279Z"
   },
   {
    "duration": 22,
    "start_time": "2022-01-25T12:13:25.293Z"
   },
   {
    "duration": 8,
    "start_time": "2022-01-25T12:13:25.317Z"
   },
   {
    "duration": 37,
    "start_time": "2022-01-25T12:13:25.328Z"
   },
   {
    "duration": 21,
    "start_time": "2022-01-25T12:13:25.369Z"
   },
   {
    "duration": 21,
    "start_time": "2022-01-25T12:13:25.393Z"
   },
   {
    "duration": 23,
    "start_time": "2022-01-25T12:13:25.418Z"
   },
   {
    "duration": 28,
    "start_time": "2022-01-25T12:13:25.444Z"
   },
   {
    "duration": 13,
    "start_time": "2022-01-25T12:13:25.475Z"
   },
   {
    "duration": 34,
    "start_time": "2022-01-25T12:13:25.491Z"
   },
   {
    "duration": 6,
    "start_time": "2022-01-25T12:13:25.527Z"
   },
   {
    "duration": 40,
    "start_time": "2022-01-25T12:13:25.565Z"
   },
   {
    "duration": 7,
    "start_time": "2022-01-25T12:13:25.607Z"
   },
   {
    "duration": 12,
    "start_time": "2022-01-25T12:13:25.617Z"
   },
   {
    "duration": 34,
    "start_time": "2022-01-25T12:13:25.632Z"
   },
   {
    "duration": 44,
    "start_time": "2022-01-25T12:13:25.669Z"
   },
   {
    "duration": 13,
    "start_time": "2022-01-25T12:13:25.716Z"
   },
   {
    "duration": 34,
    "start_time": "2022-01-25T12:13:25.732Z"
   },
   {
    "duration": 53,
    "start_time": "2022-01-25T12:13:25.769Z"
   },
   {
    "duration": 6,
    "start_time": "2022-01-25T12:13:25.825Z"
   },
   {
    "duration": 35,
    "start_time": "2022-01-25T12:13:25.834Z"
   },
   {
    "duration": 385,
    "start_time": "2022-01-25T12:13:25.872Z"
   },
   {
    "duration": 6,
    "start_time": "2022-01-25T12:13:26.264Z"
   },
   {
    "duration": 10,
    "start_time": "2022-01-25T12:13:26.273Z"
   },
   {
    "duration": 10,
    "start_time": "2022-01-25T12:13:26.293Z"
   },
   {
    "duration": 263,
    "start_time": "2022-01-25T12:13:26.307Z"
   },
   {
    "duration": 298,
    "start_time": "2022-01-25T12:13:26.573Z"
   },
   {
    "duration": 8,
    "start_time": "2022-01-25T12:13:26.875Z"
   },
   {
    "duration": 261,
    "start_time": "2022-01-25T12:13:26.885Z"
   },
   {
    "duration": 264,
    "start_time": "2022-01-25T12:13:27.148Z"
   },
   {
    "duration": 7,
    "start_time": "2022-01-25T12:13:27.415Z"
   },
   {
    "duration": 310,
    "start_time": "2022-01-25T12:13:27.424Z"
   },
   {
    "duration": 253,
    "start_time": "2022-01-25T12:13:27.737Z"
   },
   {
    "duration": 7,
    "start_time": "2022-01-25T12:13:27.993Z"
   },
   {
    "duration": 281,
    "start_time": "2022-01-25T12:13:28.002Z"
   },
   {
    "duration": 4,
    "start_time": "2022-01-25T12:13:28.286Z"
   },
   {
    "duration": 39,
    "start_time": "2022-01-25T12:13:28.292Z"
   },
   {
    "duration": 8,
    "start_time": "2022-01-25T12:13:28.334Z"
   },
   {
    "duration": 21,
    "start_time": "2022-01-25T12:13:28.345Z"
   },
   {
    "duration": 9,
    "start_time": "2022-01-25T12:13:28.368Z"
   },
   {
    "duration": 5,
    "start_time": "2022-01-25T12:13:28.380Z"
   },
   {
    "duration": 12,
    "start_time": "2022-01-25T12:13:28.388Z"
   },
   {
    "duration": 18,
    "start_time": "2022-01-25T12:13:28.402Z"
   },
   {
    "duration": 59,
    "start_time": "2022-01-25T12:13:28.422Z"
   },
   {
    "duration": 6,
    "start_time": "2022-01-25T12:13:28.483Z"
   },
   {
    "duration": 11,
    "start_time": "2022-01-25T12:13:28.493Z"
   },
   {
    "duration": 16,
    "start_time": "2022-01-25T12:13:28.506Z"
   },
   {
    "duration": 47,
    "start_time": "2022-01-25T12:13:28.565Z"
   },
   {
    "duration": 5,
    "start_time": "2022-01-25T12:13:28.615Z"
   },
   {
    "duration": 313,
    "start_time": "2022-01-25T12:13:28.624Z"
   },
   {
    "duration": 12,
    "start_time": "2022-01-25T12:13:28.939Z"
   },
   {
    "duration": 24,
    "start_time": "2022-01-25T12:13:28.953Z"
   },
   {
    "duration": 541,
    "start_time": "2022-01-25T12:13:28.980Z"
   },
   {
    "duration": 14,
    "start_time": "2022-01-25T12:13:29.524Z"
   },
   {
    "duration": 368,
    "start_time": "2022-01-25T12:13:29.541Z"
   },
   {
    "duration": 29,
    "start_time": "2022-01-25T12:13:29.913Z"
   },
   {
    "duration": 447,
    "start_time": "2022-01-25T12:13:29.972Z"
   },
   {
    "duration": 8,
    "start_time": "2022-01-25T12:13:30.422Z"
   },
   {
    "duration": 44,
    "start_time": "2022-01-25T12:13:30.433Z"
   },
   {
    "duration": 18,
    "start_time": "2022-01-25T12:13:30.480Z"
   },
   {
    "duration": 389,
    "start_time": "2022-01-25T12:13:30.501Z"
   },
   {
    "duration": 541,
    "start_time": "2022-01-25T12:13:30.892Z"
   },
   {
    "duration": 485,
    "start_time": "2022-01-25T12:13:31.436Z"
   },
   {
    "duration": 12,
    "start_time": "2022-01-25T12:13:31.925Z"
   },
   {
    "duration": 61,
    "start_time": "2022-01-25T12:13:31.940Z"
   },
   {
    "duration": 937,
    "start_time": "2022-01-25T12:13:32.003Z"
   },
   {
    "duration": 1438,
    "start_time": "2022-01-25T12:13:32.942Z"
   },
   {
    "duration": 4,
    "start_time": "2022-01-25T12:13:34.383Z"
   },
   {
    "duration": 229,
    "start_time": "2022-01-25T12:13:34.389Z"
   },
   {
    "duration": 6,
    "start_time": "2022-01-25T12:13:34.620Z"
   },
   {
    "duration": 75,
    "start_time": "2022-01-25T12:13:34.628Z"
   },
   {
    "duration": 8,
    "start_time": "2022-01-25T12:13:34.705Z"
   },
   {
    "duration": 17,
    "start_time": "2022-01-25T12:13:34.715Z"
   },
   {
    "duration": 12,
    "start_time": "2022-01-25T12:13:34.734Z"
   },
   {
    "duration": 326,
    "start_time": "2022-01-25T12:13:34.749Z"
   },
   {
    "duration": 601,
    "start_time": "2022-01-25T12:13:35.077Z"
   }
  ],
  "colab": {
   "name": "DA+. Сборный проект 1. Шаблон (1).ipynb",
   "provenance": []
  },
  "kernelspec": {
   "display_name": "Python 3",
   "language": "python",
   "name": "python3"
  },
  "language_info": {
   "codemirror_mode": {
    "name": "ipython",
    "version": 3
   },
   "file_extension": ".py",
   "mimetype": "text/x-python",
   "name": "python",
   "nbconvert_exporter": "python",
   "pygments_lexer": "ipython3",
   "version": "3.7.8"
  },
  "toc": {
   "base_numbering": 1,
   "nav_menu": {},
   "number_sections": true,
   "sideBar": true,
   "skip_h1_title": true,
   "title_cell": "Table of Contents",
   "title_sidebar": "Contents",
   "toc_cell": false,
   "toc_position": {
    "height": "calc(100% - 180px)",
    "left": "10px",
    "top": "150px",
    "width": "375px"
   },
   "toc_section_display": true,
   "toc_window_display": true
  }
 },
 "nbformat": 4,
 "nbformat_minor": 1
}
