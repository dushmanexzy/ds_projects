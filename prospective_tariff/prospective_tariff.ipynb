{
 "cells": [
  {
   "cell_type": "markdown",
   "metadata": {},
   "source": [
    "# Статистический анализ данных"
   ]
  },
  {
   "cell_type": "markdown",
   "metadata": {},
   "source": [
    "## Описание проекта:"
   ]
  },
  {
   "cell_type": "markdown",
   "metadata": {},
   "source": [
    "«Мегалайн» — федеральный оператор сотовой связи. Клиентам предлагают два тарифных плана: «Смарт» и «Ультра». Чтобы скорректировать рекламный бюджет, коммерческий департамент хочет понять, какой тариф приносит больше денег.\n",
    "Предстоит сделать предварительный анализ тарифов на небольшой выборке клиентов. В распоряжении данные 500 пользователей «Мегалайна»: кто они, откуда, каким тарифом пользуются, сколько звонков и сообщений каждый отправил за 2018 год. Нужно проанализировать поведение клиентов и сделать вывод — какой тариф лучше."
   ]
  },
  {
   "cell_type": "markdown",
   "metadata": {},
   "source": [
    "## Тарифы"
   ]
  },
  {
   "cell_type": "markdown",
   "metadata": {},
   "source": [
    "### Тариф \"Смарт\""
   ]
  },
  {
   "cell_type": "markdown",
   "metadata": {},
   "source": [
    "1. Ежемесячная плата: 550 рублей\n",
    "2. Включено 500 минут разговора, 50 сообщений и 15 Гб интернет-трафика\n",
    "3. Стоимость услуг свех тарифного пакета:\n",
    "    1. минута разговора: 3 рубля;\n",
    "    2. сообщение: 3 рубля;\n",
    "    3. 1 Гб интернет-трафика: 200 рублей;"
   ]
  },
  {
   "cell_type": "markdown",
   "metadata": {},
   "source": [
    "### Тариф \"Ультра\""
   ]
  },
  {
   "cell_type": "markdown",
   "metadata": {},
   "source": [
    "1. Ежемесячная плата: 1950 рублей\n",
    "2. Включено 3000 минут разговора, 1000 сообщений и 30 Гб интернет-трафика\n",
    "3. Стоимость услуг свех тарифного пакета:\n",
    "    1. минута разговора: 1 рубль;\n",
    "    2. сообщение: 1 рубль;\n",
    "    3. 1 Гб интернет-трафика: 150 рублей;"
   ]
  },
  {
   "cell_type": "markdown",
   "metadata": {},
   "source": [
    "### Примечание:"
   ]
  },
  {
   "cell_type": "markdown",
   "metadata": {},
   "source": [
    "«Мегалайн» всегда округляет секунды до минут, а мегабайты — до гигабайт. Каждый звонок округляется отдельно: даже если он длился всего 1 секунду, будет засчитан как 1 минута.\n",
    "Для веб-трафика отдельные сессии не считаются. Вместо этого общая сумма за месяц округляется в бо́льшую сторону. Если абонент использует 1025 мегабайт в этом месяце, с него возьмут плату за 2 гигабайта."
   ]
  },
  {
   "cell_type": "markdown",
   "metadata": {},
   "source": [
    "## Данные"
   ]
  },
  {
   "cell_type": "markdown",
   "metadata": {},
   "source": [
    "Данные разделены на несколько файлов:\n",
    "1. Звонки, путь к файлу: `/datasets/calls.csv`;\n",
    "2. Интернет-трафик, путь к файлу: `/datasets/internet.csv`;\n",
    "3. Сообщения, путь к файлу: `/datasets/messages.csv`;\n",
    "4. Тарифы, путь к файлу: `/datasets/tariffs.csv`;\n",
    "5. Пользователи, путь к файлу: `/datasets/users.csv`;"
   ]
  },
  {
   "cell_type": "markdown",
   "metadata": {},
   "source": [
    "### Подготовка и настройка окружения"
   ]
  },
  {
   "cell_type": "markdown",
   "metadata": {},
   "source": [
    "Импортируем необходимые для исследования библиотеки и выставим настройки для удобства отображения в Jupiter Notebook:"
   ]
  },
  {
   "cell_type": "markdown",
   "metadata": {},
   "source": [
    "#### Импорт:"
   ]
  },
  {
   "cell_type": "code",
   "execution_count": 1,
   "metadata": {},
   "outputs": [],
   "source": [
    "import pandas as pd\n",
    "import numpy as np\n",
    "from scipy import stats as st \n",
    "import matplotlib.pyplot as plt"
   ]
  },
  {
   "cell_type": "markdown",
   "metadata": {},
   "source": [
    "#### Выставление настроек:"
   ]
  },
  {
   "cell_type": "code",
   "execution_count": 2,
   "metadata": {},
   "outputs": [],
   "source": [
    "%matplotlib inline\n",
    "pd.set_option('display.float_format', '{:,.2f}'.format)"
   ]
  },
  {
   "cell_type": "markdown",
   "metadata": {},
   "source": [
    "### Подготовка и объединение данных в один датасет"
   ]
  },
  {
   "cell_type": "markdown",
   "metadata": {},
   "source": [
    "На этом шаге мы:\n",
    "1. изучим данные, предварительно открыв каждый;\n",
    "2. выполним предобработку, чтобы объединить в итоговый датасет уже подготовленные к анализу данные;\n",
    "3. объединим в один датасе с названием `data`."
   ]
  },
  {
   "cell_type": "markdown",
   "metadata": {},
   "source": [
    "#### 1. Загрузка и изучение данных"
   ]
  },
  {
   "cell_type": "markdown",
   "metadata": {},
   "source": [
    "##### Звонки"
   ]
  },
  {
   "cell_type": "markdown",
   "metadata": {},
   "source": [
    "По документации таблица `calls` содержит информацию о звонках:\n",
    "- `id` — уникальный номер звонка\n",
    "- `call_date` — дата звонка\n",
    "- `duration` — длительность звонка в минутах\n",
    "- `user_id` — идентификатор пользователя, сделавшего звонок"
   ]
  },
  {
   "cell_type": "markdown",
   "metadata": {},
   "source": [
    "Откроем информацию о звонках, используя метод `read_csv('путь_к_файлу.csv')` из библиотеки `pandas`, которую мы импортировали ранее."
   ]
  },
  {
   "cell_type": "code",
   "execution_count": 3,
   "metadata": {
    "scrolled": true
   },
   "outputs": [
    {
     "data": {
      "text/html": [
       "<div>\n",
       "<style scoped>\n",
       "    .dataframe tbody tr th:only-of-type {\n",
       "        vertical-align: middle;\n",
       "    }\n",
       "\n",
       "    .dataframe tbody tr th {\n",
       "        vertical-align: top;\n",
       "    }\n",
       "\n",
       "    .dataframe thead th {\n",
       "        text-align: right;\n",
       "    }\n",
       "</style>\n",
       "<table border=\"1\" class=\"dataframe\">\n",
       "  <thead>\n",
       "    <tr style=\"text-align: right;\">\n",
       "      <th></th>\n",
       "      <th>id</th>\n",
       "      <th>call_date</th>\n",
       "      <th>duration</th>\n",
       "      <th>user_id</th>\n",
       "    </tr>\n",
       "  </thead>\n",
       "  <tbody>\n",
       "    <tr>\n",
       "      <td>0</td>\n",
       "      <td>1000_0</td>\n",
       "      <td>2018-07-25</td>\n",
       "      <td>0.00</td>\n",
       "      <td>1000</td>\n",
       "    </tr>\n",
       "    <tr>\n",
       "      <td>1</td>\n",
       "      <td>1000_1</td>\n",
       "      <td>2018-08-17</td>\n",
       "      <td>0.00</td>\n",
       "      <td>1000</td>\n",
       "    </tr>\n",
       "    <tr>\n",
       "      <td>2</td>\n",
       "      <td>1000_2</td>\n",
       "      <td>2018-06-11</td>\n",
       "      <td>2.85</td>\n",
       "      <td>1000</td>\n",
       "    </tr>\n",
       "    <tr>\n",
       "      <td>3</td>\n",
       "      <td>1000_3</td>\n",
       "      <td>2018-09-21</td>\n",
       "      <td>13.80</td>\n",
       "      <td>1000</td>\n",
       "    </tr>\n",
       "    <tr>\n",
       "      <td>4</td>\n",
       "      <td>1000_4</td>\n",
       "      <td>2018-12-15</td>\n",
       "      <td>5.18</td>\n",
       "      <td>1000</td>\n",
       "    </tr>\n",
       "  </tbody>\n",
       "</table>\n",
       "</div>"
      ],
      "text/plain": [
       "       id   call_date  duration  user_id\n",
       "0  1000_0  2018-07-25      0.00     1000\n",
       "1  1000_1  2018-08-17      0.00     1000\n",
       "2  1000_2  2018-06-11      2.85     1000\n",
       "3  1000_3  2018-09-21     13.80     1000\n",
       "4  1000_4  2018-12-15      5.18     1000"
      ]
     },
     "execution_count": 3,
     "metadata": {},
     "output_type": "execute_result"
    }
   ],
   "source": [
    "calls = pd.read_csv('/datasets/calls.csv')\n",
    "calls.head()"
   ]
  },
  {
   "cell_type": "markdown",
   "metadata": {},
   "source": [
    "Посмотрим общую информацию о данных. Воспользуемся методом `info()`, применив его к датасету `calls`:"
   ]
  },
  {
   "cell_type": "code",
   "execution_count": 4,
   "metadata": {},
   "outputs": [
    {
     "name": "stdout",
     "output_type": "stream",
     "text": [
      "<class 'pandas.core.frame.DataFrame'>\n",
      "RangeIndex: 202607 entries, 0 to 202606\n",
      "Data columns (total 4 columns):\n",
      "id           202607 non-null object\n",
      "call_date    202607 non-null object\n",
      "duration     202607 non-null float64\n",
      "user_id      202607 non-null int64\n",
      "dtypes: float64(1), int64(1), object(2)\n",
      "memory usage: 6.2+ MB\n"
     ]
    }
   ],
   "source": [
    "calls.info()"
   ]
  },
  {
   "cell_type": "markdown",
   "metadata": {},
   "source": [
    "Информация о данных в `calls`:\n",
    "\n",
    "- Размеры таблицы:\n",
    "1. строки - 202607;\n",
    "2. столбцы - 4.\n",
    "\n",
    "- Типы данных:\n",
    "1. Вещественный `float64` - 1,\n",
    "2. Целочисленный `int64` - 1,\n",
    "3. Строковый `object` - 2.\n",
    "\n",
    "**Вывод**:\n",
    "1. Длительность звонков `duration` представлена вещественным типом данных. Согласну пункту `Примечание` в описании тарифов, необходимо округлить секунды до минут и привести к целочисленному типу;\n",
    "2. Столбец с датой звонка `call_date` представлен строковым типом данных. Необходимо привести к типу `datetime64[ns]`."
   ]
  },
  {
   "cell_type": "markdown",
   "metadata": {},
   "source": [
    "Аналогично поступим с остальными данными."
   ]
  },
  {
   "cell_type": "markdown",
   "metadata": {},
   "source": [
    "##### Интернет-трафик"
   ]
  },
  {
   "cell_type": "markdown",
   "metadata": {},
   "source": [
    "Таблица `internet` (информация об интернет-сессиях):\n",
    "- `id` — уникальный номер сессии\n",
    "- `mb_used` — объём потраченного за сессию интернет-трафика (в мегабайтах)\n",
    "- `session_date` — дата интернет-сессии\n",
    "- `user_id` — идентификатор пользователя"
   ]
  },
  {
   "cell_type": "code",
   "execution_count": 5,
   "metadata": {
    "scrolled": true
   },
   "outputs": [
    {
     "data": {
      "text/html": [
       "<div>\n",
       "<style scoped>\n",
       "    .dataframe tbody tr th:only-of-type {\n",
       "        vertical-align: middle;\n",
       "    }\n",
       "\n",
       "    .dataframe tbody tr th {\n",
       "        vertical-align: top;\n",
       "    }\n",
       "\n",
       "    .dataframe thead th {\n",
       "        text-align: right;\n",
       "    }\n",
       "</style>\n",
       "<table border=\"1\" class=\"dataframe\">\n",
       "  <thead>\n",
       "    <tr style=\"text-align: right;\">\n",
       "      <th></th>\n",
       "      <th>Unnamed: 0</th>\n",
       "      <th>id</th>\n",
       "      <th>mb_used</th>\n",
       "      <th>session_date</th>\n",
       "      <th>user_id</th>\n",
       "    </tr>\n",
       "  </thead>\n",
       "  <tbody>\n",
       "    <tr>\n",
       "      <td>0</td>\n",
       "      <td>0</td>\n",
       "      <td>1000_0</td>\n",
       "      <td>112.95</td>\n",
       "      <td>2018-11-25</td>\n",
       "      <td>1000</td>\n",
       "    </tr>\n",
       "    <tr>\n",
       "      <td>1</td>\n",
       "      <td>1</td>\n",
       "      <td>1000_1</td>\n",
       "      <td>1,052.81</td>\n",
       "      <td>2018-09-07</td>\n",
       "      <td>1000</td>\n",
       "    </tr>\n",
       "    <tr>\n",
       "      <td>2</td>\n",
       "      <td>2</td>\n",
       "      <td>1000_2</td>\n",
       "      <td>1,197.26</td>\n",
       "      <td>2018-06-25</td>\n",
       "      <td>1000</td>\n",
       "    </tr>\n",
       "    <tr>\n",
       "      <td>3</td>\n",
       "      <td>3</td>\n",
       "      <td>1000_3</td>\n",
       "      <td>550.27</td>\n",
       "      <td>2018-08-22</td>\n",
       "      <td>1000</td>\n",
       "    </tr>\n",
       "    <tr>\n",
       "      <td>4</td>\n",
       "      <td>4</td>\n",
       "      <td>1000_4</td>\n",
       "      <td>302.56</td>\n",
       "      <td>2018-09-24</td>\n",
       "      <td>1000</td>\n",
       "    </tr>\n",
       "  </tbody>\n",
       "</table>\n",
       "</div>"
      ],
      "text/plain": [
       "   Unnamed: 0      id  mb_used session_date  user_id\n",
       "0           0  1000_0   112.95   2018-11-25     1000\n",
       "1           1  1000_1 1,052.81   2018-09-07     1000\n",
       "2           2  1000_2 1,197.26   2018-06-25     1000\n",
       "3           3  1000_3   550.27   2018-08-22     1000\n",
       "4           4  1000_4   302.56   2018-09-24     1000"
      ]
     },
     "execution_count": 5,
     "metadata": {},
     "output_type": "execute_result"
    }
   ],
   "source": [
    "internet = pd.read_csv('/datasets/internet.csv')\n",
    "internet.head()"
   ]
  },
  {
   "cell_type": "code",
   "execution_count": 6,
   "metadata": {
    "scrolled": false
   },
   "outputs": [
    {
     "name": "stdout",
     "output_type": "stream",
     "text": [
      "<class 'pandas.core.frame.DataFrame'>\n",
      "RangeIndex: 149396 entries, 0 to 149395\n",
      "Data columns (total 5 columns):\n",
      "Unnamed: 0      149396 non-null int64\n",
      "id              149396 non-null object\n",
      "mb_used         149396 non-null float64\n",
      "session_date    149396 non-null object\n",
      "user_id         149396 non-null int64\n",
      "dtypes: float64(1), int64(2), object(2)\n",
      "memory usage: 5.7+ MB\n"
     ]
    }
   ],
   "source": [
    "internet.info()"
   ]
  },
  {
   "cell_type": "markdown",
   "metadata": {},
   "source": [
    "Информация о данных в `internet`:\n",
    "\n",
    "- Размеры таблицы:\n",
    "1. строки - 149396;\n",
    "2. столбцы - 5.\n",
    "\n",
    "- Типы данных:\n",
    "1. Вещественный `float64` - 1,\n",
    "2. Целочисленный `int64` - 2,\n",
    "3. Строковый `object` - 2.\n",
    "\n",
    "**Вывод**:\n",
    "1. Объём интернет-трафика `mb_used` представлен вещественным типом данных в мегабайтах. Согласну пункту `Примечание` в описании тарифов, необходимо перевести в гигабайты из расчета `1Гб = 1024мб`, округлить до целого в большую сторону и привести к целочисленному типу;\n",
    "2. Столбец с датой интернет-сессии `session_date` представлен строковым типом данных. Необходимо привести к типу `datetime64[ns]`.\n",
    "3. Присутствует столбец `Unnamed: 0`, который совпадает с индексацией строк. В столбце нет необходимости. Можно удалить."
   ]
  },
  {
   "cell_type": "markdown",
   "metadata": {},
   "source": [
    "##### Сообщения"
   ]
  },
  {
   "cell_type": "markdown",
   "metadata": {},
   "source": [
    "Таблица `messages` (информация о сообщениях):\n",
    "- `id` — уникальный номер сообщения\n",
    "- `message_date` — дата сообщения\n",
    "- `user_id` — идентификатор пользователя, отправившего сообщение"
   ]
  },
  {
   "cell_type": "code",
   "execution_count": 7,
   "metadata": {
    "scrolled": false
   },
   "outputs": [
    {
     "data": {
      "text/html": [
       "<div>\n",
       "<style scoped>\n",
       "    .dataframe tbody tr th:only-of-type {\n",
       "        vertical-align: middle;\n",
       "    }\n",
       "\n",
       "    .dataframe tbody tr th {\n",
       "        vertical-align: top;\n",
       "    }\n",
       "\n",
       "    .dataframe thead th {\n",
       "        text-align: right;\n",
       "    }\n",
       "</style>\n",
       "<table border=\"1\" class=\"dataframe\">\n",
       "  <thead>\n",
       "    <tr style=\"text-align: right;\">\n",
       "      <th></th>\n",
       "      <th>id</th>\n",
       "      <th>message_date</th>\n",
       "      <th>user_id</th>\n",
       "    </tr>\n",
       "  </thead>\n",
       "  <tbody>\n",
       "    <tr>\n",
       "      <td>0</td>\n",
       "      <td>1000_0</td>\n",
       "      <td>2018-06-27</td>\n",
       "      <td>1000</td>\n",
       "    </tr>\n",
       "    <tr>\n",
       "      <td>1</td>\n",
       "      <td>1000_1</td>\n",
       "      <td>2018-10-08</td>\n",
       "      <td>1000</td>\n",
       "    </tr>\n",
       "    <tr>\n",
       "      <td>2</td>\n",
       "      <td>1000_2</td>\n",
       "      <td>2018-08-04</td>\n",
       "      <td>1000</td>\n",
       "    </tr>\n",
       "    <tr>\n",
       "      <td>3</td>\n",
       "      <td>1000_3</td>\n",
       "      <td>2018-06-16</td>\n",
       "      <td>1000</td>\n",
       "    </tr>\n",
       "    <tr>\n",
       "      <td>4</td>\n",
       "      <td>1000_4</td>\n",
       "      <td>2018-12-05</td>\n",
       "      <td>1000</td>\n",
       "    </tr>\n",
       "  </tbody>\n",
       "</table>\n",
       "</div>"
      ],
      "text/plain": [
       "       id message_date  user_id\n",
       "0  1000_0   2018-06-27     1000\n",
       "1  1000_1   2018-10-08     1000\n",
       "2  1000_2   2018-08-04     1000\n",
       "3  1000_3   2018-06-16     1000\n",
       "4  1000_4   2018-12-05     1000"
      ]
     },
     "execution_count": 7,
     "metadata": {},
     "output_type": "execute_result"
    }
   ],
   "source": [
    "messages = pd.read_csv('/datasets/messages.csv')\n",
    "messages.head()"
   ]
  },
  {
   "cell_type": "code",
   "execution_count": 8,
   "metadata": {},
   "outputs": [
    {
     "name": "stdout",
     "output_type": "stream",
     "text": [
      "<class 'pandas.core.frame.DataFrame'>\n",
      "RangeIndex: 123036 entries, 0 to 123035\n",
      "Data columns (total 3 columns):\n",
      "id              123036 non-null object\n",
      "message_date    123036 non-null object\n",
      "user_id         123036 non-null int64\n",
      "dtypes: int64(1), object(2)\n",
      "memory usage: 2.8+ MB\n"
     ]
    }
   ],
   "source": [
    "messages.info()"
   ]
  },
  {
   "cell_type": "markdown",
   "metadata": {},
   "source": [
    "Информация о данных в `messages`:\n",
    "\n",
    "- Размеры таблицы:\n",
    "1. строки - 123036;\n",
    "2. столбцы - 3.\n",
    "\n",
    "- Типы данных:\n",
    "1. Целочисленный `int64` - 1,\n",
    "2. Строковый `object` - 2.\n",
    "\n",
    "**Вывод**:\n",
    "\n",
    "Столбец с датой сообщения `message_date` представлен строковым типом данных. Необходимо привести к типу `datetime64[ns]`."
   ]
  },
  {
   "cell_type": "markdown",
   "metadata": {},
   "source": [
    "##### Тарифы"
   ]
  },
  {
   "cell_type": "markdown",
   "metadata": {},
   "source": [
    "Таблица `tariffs` (информация о тарифах):\n",
    "- `tariff_name` — название тарифа\n",
    "- `rub_monthly_fee` — ежемесячная абонентская плата в рублях\n",
    "- `minutes_included` — количество минут разговора в месяц, включённых в абонентскую плату\n",
    "- `messages_included` — количество сообщений в месяц, включённых в абонентскую плату\n",
    "- `mb_per_month_included` — объём интернет-трафика, включённого в абонентскую плату (в мегабайтах)\n",
    "- `rub_per_minute` — стоимость минуты разговора сверх тарифного пакета (например, если в тарифе 100 минут разговора в месяц, то со 101 минуты будет взиматься плата)\n",
    "- `rub_per_message` — стоимость отправки сообщения сверх тарифного пакета\n",
    "- `rub_per_gb` — стоимость дополнительного гигабайта интернет-трафика сверх тарифного пакета (1 гигабайт = 1024 мегабайта)"
   ]
  },
  {
   "cell_type": "code",
   "execution_count": 9,
   "metadata": {
    "scrolled": true
   },
   "outputs": [
    {
     "data": {
      "text/html": [
       "<div>\n",
       "<style scoped>\n",
       "    .dataframe tbody tr th:only-of-type {\n",
       "        vertical-align: middle;\n",
       "    }\n",
       "\n",
       "    .dataframe tbody tr th {\n",
       "        vertical-align: top;\n",
       "    }\n",
       "\n",
       "    .dataframe thead th {\n",
       "        text-align: right;\n",
       "    }\n",
       "</style>\n",
       "<table border=\"1\" class=\"dataframe\">\n",
       "  <thead>\n",
       "    <tr style=\"text-align: right;\">\n",
       "      <th></th>\n",
       "      <th>messages_included</th>\n",
       "      <th>mb_per_month_included</th>\n",
       "      <th>minutes_included</th>\n",
       "      <th>rub_monthly_fee</th>\n",
       "      <th>rub_per_gb</th>\n",
       "      <th>rub_per_message</th>\n",
       "      <th>rub_per_minute</th>\n",
       "      <th>tariff_name</th>\n",
       "    </tr>\n",
       "  </thead>\n",
       "  <tbody>\n",
       "    <tr>\n",
       "      <td>0</td>\n",
       "      <td>50</td>\n",
       "      <td>15360</td>\n",
       "      <td>500</td>\n",
       "      <td>550</td>\n",
       "      <td>200</td>\n",
       "      <td>3</td>\n",
       "      <td>3</td>\n",
       "      <td>smart</td>\n",
       "    </tr>\n",
       "    <tr>\n",
       "      <td>1</td>\n",
       "      <td>1000</td>\n",
       "      <td>30720</td>\n",
       "      <td>3000</td>\n",
       "      <td>1950</td>\n",
       "      <td>150</td>\n",
       "      <td>1</td>\n",
       "      <td>1</td>\n",
       "      <td>ultra</td>\n",
       "    </tr>\n",
       "  </tbody>\n",
       "</table>\n",
       "</div>"
      ],
      "text/plain": [
       "   messages_included  mb_per_month_included  minutes_included  \\\n",
       "0                 50                  15360               500   \n",
       "1               1000                  30720              3000   \n",
       "\n",
       "   rub_monthly_fee  rub_per_gb  rub_per_message  rub_per_minute tariff_name  \n",
       "0              550         200                3               3       smart  \n",
       "1             1950         150                1               1       ultra  "
      ]
     },
     "execution_count": 9,
     "metadata": {},
     "output_type": "execute_result"
    }
   ],
   "source": [
    "tariffs = pd.read_csv('/datasets/tariffs.csv')\n",
    "tariffs.head()"
   ]
  },
  {
   "cell_type": "code",
   "execution_count": 10,
   "metadata": {
    "scrolled": true
   },
   "outputs": [
    {
     "name": "stdout",
     "output_type": "stream",
     "text": [
      "<class 'pandas.core.frame.DataFrame'>\n",
      "RangeIndex: 2 entries, 0 to 1\n",
      "Data columns (total 8 columns):\n",
      "messages_included        2 non-null int64\n",
      "mb_per_month_included    2 non-null int64\n",
      "minutes_included         2 non-null int64\n",
      "rub_monthly_fee          2 non-null int64\n",
      "rub_per_gb               2 non-null int64\n",
      "rub_per_message          2 non-null int64\n",
      "rub_per_minute           2 non-null int64\n",
      "tariff_name              2 non-null object\n",
      "dtypes: int64(7), object(1)\n",
      "memory usage: 256.0+ bytes\n"
     ]
    }
   ],
   "source": [
    "tariffs.info()"
   ]
  },
  {
   "cell_type": "markdown",
   "metadata": {},
   "source": [
    "Информация о данных в `tariffs`:\n",
    "\n",
    "- Размеры таблицы:\n",
    "1. строки - 2;\n",
    "2. столбцы - 8.\n",
    "\n",
    "- Типы данных:\n",
    "1. Целочисленный `int64` - 7,\n",
    "2. Строковый `object` - 1.\n",
    "\n",
    "**Вывод**:\n",
    "Вся информация о тарифах представлены в нужных форматах. Предобработка не требуется."
   ]
  },
  {
   "cell_type": "markdown",
   "metadata": {},
   "source": [
    "##### Данные пользователей"
   ]
  },
  {
   "cell_type": "markdown",
   "metadata": {},
   "source": [
    "Таблица `users` (информация о пользователях):\n",
    "- `user_id` — уникальный идентификатор пользователя\n",
    "- `first_name` — имя пользователя\n",
    "- `last_name` — фамилия пользователя\n",
    "- `age` — возраст пользователя (годы)\n",
    "- `reg_date` — дата подключения тарифа (день, месяц, год)\n",
    "- `churn_date` — дата прекращения пользования тарифом (если значение пропущено, то тариф ещё действовал на момент выгрузки данных)\n",
    "- `city` — город проживания пользователя\n",
    "- `tariff` — название тарифного плана"
   ]
  },
  {
   "cell_type": "code",
   "execution_count": 11,
   "metadata": {
    "scrolled": false
   },
   "outputs": [
    {
     "data": {
      "text/html": [
       "<div>\n",
       "<style scoped>\n",
       "    .dataframe tbody tr th:only-of-type {\n",
       "        vertical-align: middle;\n",
       "    }\n",
       "\n",
       "    .dataframe tbody tr th {\n",
       "        vertical-align: top;\n",
       "    }\n",
       "\n",
       "    .dataframe thead th {\n",
       "        text-align: right;\n",
       "    }\n",
       "</style>\n",
       "<table border=\"1\" class=\"dataframe\">\n",
       "  <thead>\n",
       "    <tr style=\"text-align: right;\">\n",
       "      <th></th>\n",
       "      <th>user_id</th>\n",
       "      <th>age</th>\n",
       "      <th>churn_date</th>\n",
       "      <th>city</th>\n",
       "      <th>first_name</th>\n",
       "      <th>last_name</th>\n",
       "      <th>reg_date</th>\n",
       "      <th>tariff</th>\n",
       "    </tr>\n",
       "  </thead>\n",
       "  <tbody>\n",
       "    <tr>\n",
       "      <td>0</td>\n",
       "      <td>1000</td>\n",
       "      <td>52</td>\n",
       "      <td>NaN</td>\n",
       "      <td>Краснодар</td>\n",
       "      <td>Рафаил</td>\n",
       "      <td>Верещагин</td>\n",
       "      <td>2018-05-25</td>\n",
       "      <td>ultra</td>\n",
       "    </tr>\n",
       "    <tr>\n",
       "      <td>1</td>\n",
       "      <td>1001</td>\n",
       "      <td>41</td>\n",
       "      <td>NaN</td>\n",
       "      <td>Москва</td>\n",
       "      <td>Иван</td>\n",
       "      <td>Ежов</td>\n",
       "      <td>2018-11-01</td>\n",
       "      <td>smart</td>\n",
       "    </tr>\n",
       "    <tr>\n",
       "      <td>2</td>\n",
       "      <td>1002</td>\n",
       "      <td>59</td>\n",
       "      <td>NaN</td>\n",
       "      <td>Стерлитамак</td>\n",
       "      <td>Евгений</td>\n",
       "      <td>Абрамович</td>\n",
       "      <td>2018-06-17</td>\n",
       "      <td>smart</td>\n",
       "    </tr>\n",
       "    <tr>\n",
       "      <td>3</td>\n",
       "      <td>1003</td>\n",
       "      <td>23</td>\n",
       "      <td>NaN</td>\n",
       "      <td>Москва</td>\n",
       "      <td>Белла</td>\n",
       "      <td>Белякова</td>\n",
       "      <td>2018-08-17</td>\n",
       "      <td>ultra</td>\n",
       "    </tr>\n",
       "    <tr>\n",
       "      <td>4</td>\n",
       "      <td>1004</td>\n",
       "      <td>68</td>\n",
       "      <td>NaN</td>\n",
       "      <td>Новокузнецк</td>\n",
       "      <td>Татьяна</td>\n",
       "      <td>Авдеенко</td>\n",
       "      <td>2018-05-14</td>\n",
       "      <td>ultra</td>\n",
       "    </tr>\n",
       "  </tbody>\n",
       "</table>\n",
       "</div>"
      ],
      "text/plain": [
       "   user_id  age churn_date         city first_name  last_name    reg_date  \\\n",
       "0     1000   52        NaN    Краснодар     Рафаил  Верещагин  2018-05-25   \n",
       "1     1001   41        NaN       Москва       Иван       Ежов  2018-11-01   \n",
       "2     1002   59        NaN  Стерлитамак    Евгений  Абрамович  2018-06-17   \n",
       "3     1003   23        NaN       Москва      Белла   Белякова  2018-08-17   \n",
       "4     1004   68        NaN  Новокузнецк    Татьяна   Авдеенко  2018-05-14   \n",
       "\n",
       "  tariff  \n",
       "0  ultra  \n",
       "1  smart  \n",
       "2  smart  \n",
       "3  ultra  \n",
       "4  ultra  "
      ]
     },
     "execution_count": 11,
     "metadata": {},
     "output_type": "execute_result"
    }
   ],
   "source": [
    "users = pd.read_csv('/datasets/users.csv')\n",
    "users.head()"
   ]
  },
  {
   "cell_type": "code",
   "execution_count": 12,
   "metadata": {},
   "outputs": [
    {
     "name": "stdout",
     "output_type": "stream",
     "text": [
      "<class 'pandas.core.frame.DataFrame'>\n",
      "RangeIndex: 500 entries, 0 to 499\n",
      "Data columns (total 8 columns):\n",
      "user_id       500 non-null int64\n",
      "age           500 non-null int64\n",
      "churn_date    38 non-null object\n",
      "city          500 non-null object\n",
      "first_name    500 non-null object\n",
      "last_name     500 non-null object\n",
      "reg_date      500 non-null object\n",
      "tariff        500 non-null object\n",
      "dtypes: int64(2), object(6)\n",
      "memory usage: 31.4+ KB\n"
     ]
    }
   ],
   "source": [
    "users.info()"
   ]
  },
  {
   "cell_type": "markdown",
   "metadata": {},
   "source": [
    "Информация о данных в `users`:\n",
    "\n",
    "- Размеры таблицы:\n",
    "1. строки - 500;\n",
    "2. столбцы - 8.\n",
    "\n",
    "- Типы данных:\n",
    "1. Целочисленный `int64` - 2,\n",
    "2. Строковый `object` - 6.\n",
    "\n",
    "**Вывод**:\n",
    "1. В столбце `churn_date` имеются пропуски. Это значит, что на момент выгрузки данных пользователи, у которых наблюдается пропуск в этом столбце, пользуются тарифом. В идеале установить вместо пропусков дату выгрузки данных. Так как в рамках проекта эта информация недоступна, то оставим как есть;\n",
    "2. Столбцы с датами подключения тарифа `reg_date` и прекращения пользования тарифом `churn_date` представлены строковым типом данных. Необходимо привести к типу `datetime64[ns]`."
   ]
  },
  {
   "cell_type": "markdown",
   "metadata": {},
   "source": [
    "#### 2. Предобработка данных"
   ]
  },
  {
   "cell_type": "markdown",
   "metadata": {},
   "source": [
    "В этом пункте мы выполним предобработку, опираясь на выводы, сделанные ранее при загрузке и изучении данных:\n",
    "- приведем данные к нужному типу\n",
    "- проверим длительность звонков, интернет сессий и количества смс в день на предмет аномальных значений\n",
    "- для каждого пользователя посчитаем месячное использование услуг\n",
    "- для каждого пользователя посчитаем помесячную выручку"
   ]
  },
  {
   "cell_type": "markdown",
   "metadata": {},
   "source": [
    "##### Типы данных"
   ]
  },
  {
   "cell_type": "markdown",
   "metadata": {},
   "source": [
    "Переведем все даты из строкового представления в `datetime64[ns]`."
   ]
  },
  {
   "cell_type": "code",
   "execution_count": 13,
   "metadata": {},
   "outputs": [],
   "source": [
    "calls['call_date'] = pd.to_datetime(calls['call_date'])\n",
    "messages['message_date'] = pd.to_datetime(messages['message_date'])\n",
    "internet['session_date'] = pd.to_datetime(internet['session_date'])\n",
    "users['reg_date'] = pd.to_datetime(users['reg_date'])\n",
    "users['churn_date'] = pd.to_datetime(users['churn_date'])"
   ]
  },
  {
   "cell_type": "markdown",
   "metadata": {},
   "source": [
    "Проверим изменения с помощью атрибута `dtypes`, применив его к нужному датасету."
   ]
  },
  {
   "cell_type": "code",
   "execution_count": 14,
   "metadata": {},
   "outputs": [
    {
     "data": {
      "text/plain": [
       "id                   object\n",
       "call_date    datetime64[ns]\n",
       "duration            float64\n",
       "user_id               int64\n",
       "dtype: object"
      ]
     },
     "execution_count": 14,
     "metadata": {},
     "output_type": "execute_result"
    }
   ],
   "source": [
    "calls.dtypes"
   ]
  },
  {
   "cell_type": "code",
   "execution_count": 15,
   "metadata": {},
   "outputs": [
    {
     "data": {
      "text/plain": [
       "id                      object\n",
       "message_date    datetime64[ns]\n",
       "user_id                  int64\n",
       "dtype: object"
      ]
     },
     "execution_count": 15,
     "metadata": {},
     "output_type": "execute_result"
    }
   ],
   "source": [
    "messages.dtypes"
   ]
  },
  {
   "cell_type": "code",
   "execution_count": 16,
   "metadata": {},
   "outputs": [
    {
     "data": {
      "text/plain": [
       "Unnamed: 0               int64\n",
       "id                      object\n",
       "mb_used                float64\n",
       "session_date    datetime64[ns]\n",
       "user_id                  int64\n",
       "dtype: object"
      ]
     },
     "execution_count": 16,
     "metadata": {},
     "output_type": "execute_result"
    }
   ],
   "source": [
    "internet.dtypes"
   ]
  },
  {
   "cell_type": "code",
   "execution_count": 17,
   "metadata": {
    "scrolled": true
   },
   "outputs": [
    {
     "data": {
      "text/plain": [
       "user_id                int64\n",
       "age                    int64\n",
       "churn_date    datetime64[ns]\n",
       "city                  object\n",
       "first_name            object\n",
       "last_name             object\n",
       "reg_date      datetime64[ns]\n",
       "tariff                object\n",
       "dtype: object"
      ]
     },
     "execution_count": 17,
     "metadata": {},
     "output_type": "execute_result"
    }
   ],
   "source": [
    "users.dtypes"
   ]
  },
  {
   "cell_type": "markdown",
   "metadata": {},
   "source": [
    "##### Проверка строковых данных"
   ]
  },
  {
   "cell_type": "markdown",
   "metadata": {},
   "source": [
    "В этом подпункте мы проверим, правильно ли выгрузилась информация, представленная в виде текста. Это могут быть пустые строки из пробелов, лишние пробелы до и/или после нужного значения и подобные неккоректности и опечатки."
   ]
  },
  {
   "cell_type": "code",
   "execution_count": 18,
   "metadata": {},
   "outputs": [
    {
     "data": {
      "text/plain": [
       "202607"
      ]
     },
     "execution_count": 18,
     "metadata": {},
     "output_type": "execute_result"
    }
   ],
   "source": [
    "# звонки\n",
    "len(calls['id'].unique())"
   ]
  },
  {
   "cell_type": "code",
   "execution_count": 19,
   "metadata": {},
   "outputs": [
    {
     "data": {
      "text/plain": [
       "123036"
      ]
     },
     "execution_count": 19,
     "metadata": {},
     "output_type": "execute_result"
    }
   ],
   "source": [
    "# сообщения\n",
    "len(messages['id'].unique())"
   ]
  },
  {
   "cell_type": "code",
   "execution_count": 20,
   "metadata": {},
   "outputs": [
    {
     "data": {
      "text/plain": [
       "149396"
      ]
     },
     "execution_count": 20,
     "metadata": {},
     "output_type": "execute_result"
    }
   ],
   "source": [
    "# интернет\n",
    "len(internet['id'].unique())"
   ]
  },
  {
   "cell_type": "code",
   "execution_count": 21,
   "metadata": {},
   "outputs": [
    {
     "data": {
      "text/plain": [
       "array(['Архангельск', 'Астрахань', 'Балашиха', 'Барнаул', 'Белгород',\n",
       "       'Брянск', 'Владивосток', 'Владикавказ', 'Владимир', 'Волгоград',\n",
       "       'Волжский', 'Вологда', 'Воронеж', 'Грозный', 'Екатеринбург',\n",
       "       'Иваново', 'Ижевск', 'Иркутск', 'Казань', 'Калининград', 'Калуга',\n",
       "       'Кемерово', 'Киров', 'Кострома', 'Краснодар', 'Красноярск',\n",
       "       'Курган', 'Курск', 'Липецк', 'Магнитогорск', 'Махачкала', 'Москва',\n",
       "       'Мурманск', 'Набережные Челны', 'Нижневартовск', 'Нижний Новгород',\n",
       "       'Нижний Тагил', 'Новокузнецк', 'Новороссийск', 'Новосибирск',\n",
       "       'Омск', 'Оренбург', 'Орёл', 'Пенза', 'Пермь', 'Петрозаводск',\n",
       "       'Подольск', 'Ростов-на-Дону', 'Рязань', 'Самара',\n",
       "       'Санкт-Петербург', 'Саранск', 'Саратов', 'Севастополь', 'Смоленск',\n",
       "       'Сочи', 'Ставрополь', 'Стерлитамак', 'Сургут', 'Тамбов', 'Тверь',\n",
       "       'Тольятти', 'Томск', 'Тула', 'Тюмень', 'Улан-Удэ', 'Ульяновск',\n",
       "       'Уфа', 'Хабаровск', 'Химки', 'Чебоксары', 'Челябинск', 'Череповец',\n",
       "       'Чита', 'Якутск', 'Ярославль'], dtype=object)"
      ]
     },
     "execution_count": 21,
     "metadata": {},
     "output_type": "execute_result"
    }
   ],
   "source": [
    "# данные пользователей\n",
    "users['city'].sort_values().unique()"
   ]
  },
  {
   "cell_type": "code",
   "execution_count": 22,
   "metadata": {},
   "outputs": [
    {
     "data": {
      "text/plain": [
       "array(['Авксентий', 'Агата', 'Агафья', 'Агнесса', 'Адам', 'Аким', 'Аксён',\n",
       "       'Алан', 'Алевтина', 'Александр', 'Александра', 'Алексей', 'Алина',\n",
       "       'Алиса', 'Алла', 'Альберта', 'Альбин', 'Альфред', 'Алёна',\n",
       "       'Анатолий', 'Анвар', 'Ангелина', 'Андрей', 'Анжелика', 'Анита',\n",
       "       'Антонина', 'Анфиса', 'Арина', 'Арнольд', 'Арсен', 'Арсений',\n",
       "       'Артемий', 'Артём', 'Аурелия', 'Афанасий', 'Ахмет', 'Аюна',\n",
       "       'Белла', 'Берта', 'Борис', 'Вадим', 'Валентина', 'Валерий',\n",
       "       'Валерия', 'Варвара', 'Варлам', 'Василиса', 'Вениамин', 'Вера',\n",
       "       'Вероника', 'Веселина', 'Виктор', 'Виктория', 'Виолетта',\n",
       "       'Виталий', 'Владимир', 'Владислав', 'Владислава', 'Всеволод',\n",
       "       'Габриель', 'Габриэль', 'Гайдар', 'Галина', 'Гарри', 'Гектор',\n",
       "       'Гелена', 'Геннадий', 'Геодар', 'Георгий', 'Георгина', 'Геральд',\n",
       "       'Герасим', 'Глеб', 'Гордей', 'Григорий', 'Дайна', 'Дана', 'Даниил',\n",
       "       'Даниэла', 'Дебора', 'Демьян', 'Денис', 'Джемма', 'Джозефина',\n",
       "       'Джулия', 'Динара', 'Доминика', 'Ева', 'Евгений', 'Евгения',\n",
       "       'Евдокия', 'Евфросинья', 'Егор', 'Екатерина', 'Елена', 'Еремей',\n",
       "       'Ермолай', 'Ефим', 'Зинаида', 'Иван', 'Игнатий', 'Игорь',\n",
       "       'Изольда', 'Илзе', 'Илья', 'Инара', 'Инга', 'Инесса', 'Инна',\n",
       "       'Иннокентий', 'Ириней', 'Исаак', 'Исак', 'Иулиан', 'Камилла',\n",
       "       'Карина', 'Каролина', 'Касьян', 'Ким', 'Клавдия', 'Клара',\n",
       "       'Клариса', 'Константин', 'Кристина', 'Ксения', 'Кузьма',\n",
       "       'Лаврентий', 'Лариса', 'Лаура', 'Лев', 'Лейла', 'Леон', 'Леонид',\n",
       "       'Леонтий', 'Леся', 'Лидия', 'Лилия', 'Лия', 'Лола', 'Лолита',\n",
       "       'Луиза', 'Лукий', 'Людмила', 'Мадина', 'Майя', 'Максим',\n",
       "       'Мальвина', 'Мануэла', 'Маргарита', 'Марианна', 'Мариетта',\n",
       "       'Марина', 'Марица', 'Мария', 'Марта', 'Марьяна', 'Матвей',\n",
       "       'Милана', 'Милена', 'Милица', 'Мирослава', 'Михаил', 'Мстислав',\n",
       "       'Надежда', 'Наида', 'Наталья', 'Нателла', 'Нелли', 'Николай',\n",
       "       'Нина', 'Оксана', 'Олег', 'Олеся', 'Онисим', 'Павел', 'Пётр',\n",
       "       'Радим', 'Радислав', 'Радомир', 'Раиса', 'Рауль', 'Рафаил',\n",
       "       'Рафаэль', 'Рашид', 'Рем', 'Ренальд', 'Ренат', 'Рената', 'Ринат',\n",
       "       'Роберт', 'Роза', 'Розалия', 'Роксана', 'Ростислав', 'Рубен',\n",
       "       'Рудольф', 'Рузана', 'Руслан', 'Руслана', 'Рустам', 'Рустем',\n",
       "       'Рустэм', 'Рэм', 'Сабина', 'Саида', 'Сара', 'Светлана',\n",
       "       'Святослав', 'Семён', 'Серафима', 'Симона', 'Снежана', 'Софья',\n",
       "       'Станислав', 'Степан', 'Таира', 'Таисия', 'Тала', 'Тамара',\n",
       "       'Татьяна', 'Тимофей', 'Тихон', 'Трифон', 'Трофим', 'Фаддей',\n",
       "       'Фёдор', 'Харитон', 'Эдита', 'Эдуард', 'Элеонора', 'Элина', 'Элла',\n",
       "       'Эллада', 'Эльвира', 'Эльга', 'Эльза', 'Эльмира', 'Эмилия',\n",
       "       'Эсмеральда', 'Юзефа', 'Юлий', 'Юлия', 'Юна', 'Юрий', 'Яков',\n",
       "       'Яна'], dtype=object)"
      ]
     },
     "execution_count": 22,
     "metadata": {},
     "output_type": "execute_result"
    }
   ],
   "source": [
    "# данные пользователей\n",
    "users['first_name'].sort_values().unique()"
   ]
  },
  {
   "cell_type": "code",
   "execution_count": 23,
   "metadata": {
    "scrolled": true
   },
   "outputs": [
    {
     "data": {
      "text/plain": [
       "array(['Ёлчина', 'Ёркин', 'Ёркина', 'Ёрохов', 'Ёрохова', 'Абаимов',\n",
       "       'Абакумов', 'Абакшина', 'Абалакова', 'Абалдуева', 'Абалкин',\n",
       "       'Абашкин', 'Абашкина', 'Абдулина', 'Абоимов', 'Абрамович',\n",
       "       'Абрамцев', 'Абрамычева', 'Абрашина', 'Абрикосова', 'Авдеев',\n",
       "       'Авдеенко', 'Авдонюшкин', 'Авдушева', 'Авдышев', 'Авдюков',\n",
       "       'Авраамова', 'Авраменко', 'Авринский', 'Аврорин', 'Авроров',\n",
       "       'Авросимова', 'Авросинова', 'Авсейкина', 'Авчинникова', 'Агаев',\n",
       "       'Агаева', 'Агапеева', 'Агеева', 'Адаменко', 'Адамов', 'Азаров',\n",
       "       'Азерников', 'Азимова', 'Акимов', 'Акимчин', 'Акимычева',\n",
       "       'Акиндинов', 'Акинин', 'Акинфьев', 'Аксёнов', 'Акуленко',\n",
       "       'Александрова', 'Александрович', 'Александрюк', 'Алексеева',\n",
       "       'Алексеенко', 'Алексеичев', 'Аленникова', 'Алесин', 'Алехина',\n",
       "       'Алешин', 'Алешина', 'Алешкова', 'Алиев', 'Алфеева', 'Алфимов',\n",
       "       'Алфимова', 'Алымова', 'Алютин', 'Алюшина', 'Алёшко', 'Алёшкова',\n",
       "       'Амелин', 'Амелишко', 'Амельченко', 'Ананьева', 'Андреенко',\n",
       "       'Андрейкин', 'Андрейчук', 'Андрианов', 'Андропов', 'Андропова',\n",
       "       'Андрющенко', 'Аникина', 'Аничкина', 'Анищенко', 'Антипов',\n",
       "       'Антоненко', 'Антонова', 'Антропов', 'Антропова', 'Аракина',\n",
       "       'Аракчеев', 'Аркадьев', 'Арсенкова', 'Артемчук', 'Артемьев',\n",
       "       'Артёменко', 'Артёмов', 'Артёшин', 'Архипова', 'Асафьева',\n",
       "       'Астапенко', 'Астапов', 'Астафьева', 'Афанасенко', 'Афанасова',\n",
       "       'Афинин', 'Афонасьева', 'Афонин', 'Афонина', 'Ахмадулин',\n",
       "       'Ахматов', 'Ахматулин', 'Ахматулина', 'Ахмедов', 'Бабушкина',\n",
       "       'Барсуков', 'Басова', 'Безруков', 'Беликова', 'Белова',\n",
       "       'Белозёров', 'Белоусова', 'Беляев', 'Беляева', 'Белякова',\n",
       "       'Березина', 'Блинова', 'Блохин', 'Блохина', 'Боброва', 'Бобылёв',\n",
       "       'Богданов', 'Богданова', 'Болдырев', 'Болдырева', 'Бондарев',\n",
       "       'Борисова', 'Бородин', 'Бородина', 'Булгаков', 'Бычкова',\n",
       "       'Васильева', 'Верещагин', 'Верещагина', 'Веселов', 'Вешнякова',\n",
       "       'Вишневский', 'Вишняков', 'Воронин', 'Воронина', 'Гаврилова',\n",
       "       'Галкин', 'Глушков', 'Голованова', 'Гончаров', 'Горбачева',\n",
       "       'Горбунов', 'Горлов', 'Григорьев', 'Григорьева', 'Гришина',\n",
       "       'Громова', 'Давыдов', 'Демидов', 'Демьянов', 'Демьянова',\n",
       "       'Денисова', 'Добрынин', 'Добрынина', 'Дорофеева', 'Дроздов',\n",
       "       'Дубинина', 'Дьячкова', 'Евсеев', 'Ежов', 'Елизаров', 'Емельянова',\n",
       "       'Еремин', 'Ермилов', 'Ермолаев', 'Ерофеев', 'Ерофеева', 'Ефремов',\n",
       "       'Жарова', 'Жданов', 'Жукова', 'Завьялова', 'Зайцев', 'Зеленина',\n",
       "       'Зимина', 'Золотов', 'Золотова', 'Зубков', 'Зубкова', 'Зуев',\n",
       "       'Зыков', 'Иванов', 'Иванова', 'Игнатова', 'Игнатьев', 'Игнатьева',\n",
       "       'Измайлова', 'Ильин', 'Ильина', 'Кабанова', 'Казакова', 'Казанцев',\n",
       "       'Калинина', 'Капустин', 'Карасев', 'Карасева', 'Карташова',\n",
       "       'Касьянова', 'Киреева', 'Кириллов', 'Киселёв', 'Климова',\n",
       "       'Ковалева', 'Козлов', 'Козлова', 'Козырева', 'Колесова', 'Колобов',\n",
       "       'Кольцова', 'Кондратов', 'Коновалова', 'Кононов', 'Константинова',\n",
       "       'Корнеева', 'Корнилов', 'Корнилова', 'Корольков', 'Королькова',\n",
       "       'Короткова', 'Коршунов', 'Костин', 'Костина', 'Кочергина',\n",
       "       'Кочетков', 'Кочетов', 'Кошелева', 'Кравцов', 'Красильников',\n",
       "       'Круглов', 'Крылова', 'Крюков', 'Крюкова', 'Крючков', 'Кузнецов',\n",
       "       'Кукушкин', 'Кулагина', 'Кулешова', 'Куприянов', 'Курочкин',\n",
       "       'Лазарева', 'Лапина', 'Лаптева', 'Ларин', 'Ларина', 'Ларионова',\n",
       "       'Латышева', 'Лебедев', 'Левин', 'Леонтьев', 'Литвинов', 'Лобанова',\n",
       "       'Логинов', 'Лосева', 'Лукин', 'Любимов', 'Макаров', 'Макарова',\n",
       "       'Макеев', 'Малахов', 'Малинин', 'Малинина', 'Малышев', 'Мальцев',\n",
       "       'Мамонтова', 'Марков', 'Масленникова', 'Матвеев', 'Медведев',\n",
       "       'Мельникова', 'Меркулова', 'Минаев', 'Минаева', 'Мишин',\n",
       "       'Молчанова', 'Моргунов', 'Морозов', 'Муравьева', 'Муравьёв',\n",
       "       'Мясникова', 'Наумов', 'Некрасов', 'Нестеров', 'Нестерова',\n",
       "       'Нечаева', 'Никонов', 'Никулин', 'Новикова', 'Носкова',\n",
       "       'Овчинников', 'Одинцов', 'Одинцова', 'Озерова', 'Орлов',\n",
       "       'Павловский', 'Панов', 'Пантелеева', 'Панфилов', 'Панфилова',\n",
       "       'Парфенов', 'Петухова', 'Пирогова', 'Платонова', 'Покровский',\n",
       "       'Поликарпова', 'Поляков', 'Пономарев', 'Пономарева', 'Пономарёв',\n",
       "       'Попов', 'Прокофьева', 'Пугачева', 'Ракова', 'Родина', 'Родионов',\n",
       "       'Родионова', 'Розанова', 'Рудаков', 'Румянцева', 'Русанова',\n",
       "       'Рыбакова', 'Рябов', 'Савельева', 'Сазонов', 'Сазонова',\n",
       "       'Сальников', 'Сафонова', 'Сахарова', 'Свиридов', 'Севастьянова',\n",
       "       'Седова', 'Селезнев', 'Селезнева', 'Селиванова', 'Семенова',\n",
       "       'Семин', 'Семина', 'Семёнов', 'Сергеева', 'Серебрякова', 'Серов',\n",
       "       'Силин', 'Симонова', 'Синицын', 'Ситникова', 'Соколов', 'Соловьев',\n",
       "       'Соловьёв', 'Сомова', 'Сорокин', 'Софронов', 'Спиридонова',\n",
       "       'Субботина', 'Суслов', 'Суслова', 'Сухарев', 'Сухарева', 'Сухова',\n",
       "       'Сысоев', 'Тарасов', 'Тарасова', 'Терехова', 'Тетерина',\n",
       "       'Тимофеев', 'Тимофеева', 'Тихомирова', 'Тихонов', 'Толкачев',\n",
       "       'Третьякова', 'Троицкий', 'Трофимов', 'Трофимова', 'Трошин',\n",
       "       'Уваров', 'Устинов', 'Устинова', 'Фадеева', 'Федосеев', 'Фетисова',\n",
       "       'Филатов', 'Фокин', 'Фокина', 'Фомин', 'Фролов', 'Фёдоров',\n",
       "       'Худяков', 'Чернов', 'Черный', 'Чернышев', 'Черняев', 'Чеснокова',\n",
       "       'Чижова', 'Чистякова', 'Чумаков', 'Шарапов', 'Шарапова', 'Шарова',\n",
       "       'Швецов', 'Шевцов', 'Шевцова', 'Щербакова', 'Яшина'], dtype=object)"
      ]
     },
     "execution_count": 23,
     "metadata": {},
     "output_type": "execute_result"
    }
   ],
   "source": [
    "# данные пользователей\n",
    "users['last_name'].sort_values().unique()"
   ]
  },
  {
   "cell_type": "markdown",
   "metadata": {},
   "source": [
    "##### Проверка дат"
   ]
  },
  {
   "cell_type": "markdown",
   "metadata": {},
   "source": [
    "Для дат построим гистограммы. Они покажут длину временного отрезка, и как по этому отрезку распределены данные."
   ]
  },
  {
   "cell_type": "code",
   "execution_count": 25,
   "metadata": {},
   "outputs": [
    {
     "data": {
      "image/png": "[encoded data removed]",
      "text/plain": [
       "<Figure size 432x288 with 1 Axes>"
      ]
     },
     "metadata": {
      "needs_background": "light"
     },
     "output_type": "display_data"
    }
   ],
   "source": [
    "# звонки\n",
    "plt.hist(data=calls, x='call_date');"
   ]
  },
  {
   "cell_type": "code",
   "execution_count": 26,
   "metadata": {},
   "outputs": [
    {
     "data": {
      "image/png": "[encoded data removed]",
      "text/plain": [
       "<Figure size 432x288 with 1 Axes>"
      ]
     },
     "metadata": {
      "needs_background": "light"
     },
     "output_type": "display_data"
    }
   ],
   "source": [
    "# сообщения\n",
    "plt.hist(data=messages, x='message_date');"
   ]
  },
  {
   "cell_type": "code",
   "execution_count": 27,
   "metadata": {},
   "outputs": [
    {
     "data": {
      "image/png": "[encoded data removed]",
      "text/plain": [
       "<Figure size 432x288 with 1 Axes>"
      ]
     },
     "metadata": {
      "needs_background": "light"
     },
     "output_type": "display_data"
    }
   ],
   "source": [
    "# интернет-трафик\n",
    "plt.hist(data=internet, x='session_date');"
   ]
  },
  {
   "cell_type": "code",
   "execution_count": 28,
   "metadata": {},
   "outputs": [
    {
     "data": {
      "image/png": "[encoded data removed]",
      "text/plain": [
       "<Figure size 432x288 with 1 Axes>"
      ]
     },
     "metadata": {
      "needs_background": "light"
     },
     "output_type": "display_data"
    }
   ],
   "source": [
    "# пользователи, дата подключения тарифа\n",
    "plt.hist(data=users, x='reg_date');"
   ]
  },
  {
   "cell_type": "code",
   "execution_count": 29,
   "metadata": {},
   "outputs": [
    {
     "data": {
      "image/png": "[encoded data removed]",
      "text/plain": [
       "<Figure size 432x288 with 1 Axes>"
      ]
     },
     "metadata": {
      "needs_background": "light"
     },
     "output_type": "display_data"
    }
   ],
   "source": [
    "# пользователи, дата прекращения пользования тарифом\n",
    "plt.hist(data=users, x='churn_date');"
   ]
  },
  {
   "cell_type": "markdown",
   "metadata": {},
   "source": [
    "##### Числовые данные"
   ]
  },
  {
   "cell_type": "code",
   "execution_count": 30,
   "metadata": {
    "scrolled": true
   },
   "outputs": [
    {
     "data": {
      "text/html": [
       "<div>\n",
       "<style scoped>\n",
       "    .dataframe tbody tr th:only-of-type {\n",
       "        vertical-align: middle;\n",
       "    }\n",
       "\n",
       "    .dataframe tbody tr th {\n",
       "        vertical-align: top;\n",
       "    }\n",
       "\n",
       "    .dataframe thead th {\n",
       "        text-align: right;\n",
       "    }\n",
       "</style>\n",
       "<table border=\"1\" class=\"dataframe\">\n",
       "  <thead>\n",
       "    <tr style=\"text-align: right;\">\n",
       "      <th></th>\n",
       "      <th>duration</th>\n",
       "      <th>user_id</th>\n",
       "    </tr>\n",
       "  </thead>\n",
       "  <tbody>\n",
       "    <tr>\n",
       "      <td>count</td>\n",
       "      <td>202,607.00</td>\n",
       "      <td>202,607.00</td>\n",
       "    </tr>\n",
       "    <tr>\n",
       "      <td>mean</td>\n",
       "      <td>6.76</td>\n",
       "      <td>1,253.94</td>\n",
       "    </tr>\n",
       "    <tr>\n",
       "      <td>std</td>\n",
       "      <td>5.84</td>\n",
       "      <td>144.72</td>\n",
       "    </tr>\n",
       "    <tr>\n",
       "      <td>min</td>\n",
       "      <td>0.00</td>\n",
       "      <td>1,000.00</td>\n",
       "    </tr>\n",
       "    <tr>\n",
       "      <td>25%</td>\n",
       "      <td>1.30</td>\n",
       "      <td>1,126.00</td>\n",
       "    </tr>\n",
       "    <tr>\n",
       "      <td>50%</td>\n",
       "      <td>6.00</td>\n",
       "      <td>1,260.00</td>\n",
       "    </tr>\n",
       "    <tr>\n",
       "      <td>75%</td>\n",
       "      <td>10.70</td>\n",
       "      <td>1,379.00</td>\n",
       "    </tr>\n",
       "    <tr>\n",
       "      <td>max</td>\n",
       "      <td>38.00</td>\n",
       "      <td>1,499.00</td>\n",
       "    </tr>\n",
       "  </tbody>\n",
       "</table>\n",
       "</div>"
      ],
      "text/plain": [
       "        duration    user_id\n",
       "count 202,607.00 202,607.00\n",
       "mean        6.76   1,253.94\n",
       "std         5.84     144.72\n",
       "min         0.00   1,000.00\n",
       "25%         1.30   1,126.00\n",
       "50%         6.00   1,260.00\n",
       "75%        10.70   1,379.00\n",
       "max        38.00   1,499.00"
      ]
     },
     "execution_count": 30,
     "metadata": {},
     "output_type": "execute_result"
    }
   ],
   "source": [
    "# звонки\n",
    "calls.describe()"
   ]
  },
  {
   "cell_type": "code",
   "execution_count": 31,
   "metadata": {},
   "outputs": [
    {
     "data": {
      "text/html": [
       "<div>\n",
       "<style scoped>\n",
       "    .dataframe tbody tr th:only-of-type {\n",
       "        vertical-align: middle;\n",
       "    }\n",
       "\n",
       "    .dataframe tbody tr th {\n",
       "        vertical-align: top;\n",
       "    }\n",
       "\n",
       "    .dataframe thead th {\n",
       "        text-align: right;\n",
       "    }\n",
       "</style>\n",
       "<table border=\"1\" class=\"dataframe\">\n",
       "  <thead>\n",
       "    <tr style=\"text-align: right;\">\n",
       "      <th></th>\n",
       "      <th>Unnamed: 0</th>\n",
       "      <th>mb_used</th>\n",
       "      <th>user_id</th>\n",
       "    </tr>\n",
       "  </thead>\n",
       "  <tbody>\n",
       "    <tr>\n",
       "      <td>count</td>\n",
       "      <td>149,396.00</td>\n",
       "      <td>149,396.00</td>\n",
       "      <td>149,396.00</td>\n",
       "    </tr>\n",
       "    <tr>\n",
       "      <td>mean</td>\n",
       "      <td>74,697.50</td>\n",
       "      <td>370.19</td>\n",
       "      <td>1,252.10</td>\n",
       "    </tr>\n",
       "    <tr>\n",
       "      <td>std</td>\n",
       "      <td>43,127.05</td>\n",
       "      <td>278.30</td>\n",
       "      <td>144.05</td>\n",
       "    </tr>\n",
       "    <tr>\n",
       "      <td>min</td>\n",
       "      <td>0.00</td>\n",
       "      <td>0.00</td>\n",
       "      <td>1,000.00</td>\n",
       "    </tr>\n",
       "    <tr>\n",
       "      <td>25%</td>\n",
       "      <td>37,348.75</td>\n",
       "      <td>138.19</td>\n",
       "      <td>1,130.00</td>\n",
       "    </tr>\n",
       "    <tr>\n",
       "      <td>50%</td>\n",
       "      <td>74,697.50</td>\n",
       "      <td>348.01</td>\n",
       "      <td>1,251.00</td>\n",
       "    </tr>\n",
       "    <tr>\n",
       "      <td>75%</td>\n",
       "      <td>112,046.25</td>\n",
       "      <td>559.55</td>\n",
       "      <td>1,380.00</td>\n",
       "    </tr>\n",
       "    <tr>\n",
       "      <td>max</td>\n",
       "      <td>149,395.00</td>\n",
       "      <td>1,724.83</td>\n",
       "      <td>1,499.00</td>\n",
       "    </tr>\n",
       "  </tbody>\n",
       "</table>\n",
       "</div>"
      ],
      "text/plain": [
       "       Unnamed: 0    mb_used    user_id\n",
       "count  149,396.00 149,396.00 149,396.00\n",
       "mean    74,697.50     370.19   1,252.10\n",
       "std     43,127.05     278.30     144.05\n",
       "min          0.00       0.00   1,000.00\n",
       "25%     37,348.75     138.19   1,130.00\n",
       "50%     74,697.50     348.01   1,251.00\n",
       "75%    112,046.25     559.55   1,380.00\n",
       "max    149,395.00   1,724.83   1,499.00"
      ]
     },
     "execution_count": 31,
     "metadata": {},
     "output_type": "execute_result"
    }
   ],
   "source": [
    "# интернет\n",
    "internet.describe()"
   ]
  },
  {
   "cell_type": "code",
   "execution_count": 32,
   "metadata": {},
   "outputs": [
    {
     "data": {
      "text/html": [
       "<div>\n",
       "<style scoped>\n",
       "    .dataframe tbody tr th:only-of-type {\n",
       "        vertical-align: middle;\n",
       "    }\n",
       "\n",
       "    .dataframe tbody tr th {\n",
       "        vertical-align: top;\n",
       "    }\n",
       "\n",
       "    .dataframe thead th {\n",
       "        text-align: right;\n",
       "    }\n",
       "</style>\n",
       "<table border=\"1\" class=\"dataframe\">\n",
       "  <thead>\n",
       "    <tr style=\"text-align: right;\">\n",
       "      <th></th>\n",
       "      <th>messages_included</th>\n",
       "      <th>mb_per_month_included</th>\n",
       "      <th>minutes_included</th>\n",
       "      <th>rub_monthly_fee</th>\n",
       "      <th>rub_per_gb</th>\n",
       "      <th>rub_per_message</th>\n",
       "      <th>rub_per_minute</th>\n",
       "    </tr>\n",
       "  </thead>\n",
       "  <tbody>\n",
       "    <tr>\n",
       "      <td>count</td>\n",
       "      <td>2.00</td>\n",
       "      <td>2.00</td>\n",
       "      <td>2.00</td>\n",
       "      <td>2.00</td>\n",
       "      <td>2.00</td>\n",
       "      <td>2.00</td>\n",
       "      <td>2.00</td>\n",
       "    </tr>\n",
       "    <tr>\n",
       "      <td>mean</td>\n",
       "      <td>525.00</td>\n",
       "      <td>23,040.00</td>\n",
       "      <td>1,750.00</td>\n",
       "      <td>1,250.00</td>\n",
       "      <td>175.00</td>\n",
       "      <td>2.00</td>\n",
       "      <td>2.00</td>\n",
       "    </tr>\n",
       "    <tr>\n",
       "      <td>std</td>\n",
       "      <td>671.75</td>\n",
       "      <td>10,861.16</td>\n",
       "      <td>1,767.77</td>\n",
       "      <td>989.95</td>\n",
       "      <td>35.36</td>\n",
       "      <td>1.41</td>\n",
       "      <td>1.41</td>\n",
       "    </tr>\n",
       "    <tr>\n",
       "      <td>min</td>\n",
       "      <td>50.00</td>\n",
       "      <td>15,360.00</td>\n",
       "      <td>500.00</td>\n",
       "      <td>550.00</td>\n",
       "      <td>150.00</td>\n",
       "      <td>1.00</td>\n",
       "      <td>1.00</td>\n",
       "    </tr>\n",
       "    <tr>\n",
       "      <td>25%</td>\n",
       "      <td>287.50</td>\n",
       "      <td>19,200.00</td>\n",
       "      <td>1,125.00</td>\n",
       "      <td>900.00</td>\n",
       "      <td>162.50</td>\n",
       "      <td>1.50</td>\n",
       "      <td>1.50</td>\n",
       "    </tr>\n",
       "    <tr>\n",
       "      <td>50%</td>\n",
       "      <td>525.00</td>\n",
       "      <td>23,040.00</td>\n",
       "      <td>1,750.00</td>\n",
       "      <td>1,250.00</td>\n",
       "      <td>175.00</td>\n",
       "      <td>2.00</td>\n",
       "      <td>2.00</td>\n",
       "    </tr>\n",
       "    <tr>\n",
       "      <td>75%</td>\n",
       "      <td>762.50</td>\n",
       "      <td>26,880.00</td>\n",
       "      <td>2,375.00</td>\n",
       "      <td>1,600.00</td>\n",
       "      <td>187.50</td>\n",
       "      <td>2.50</td>\n",
       "      <td>2.50</td>\n",
       "    </tr>\n",
       "    <tr>\n",
       "      <td>max</td>\n",
       "      <td>1,000.00</td>\n",
       "      <td>30,720.00</td>\n",
       "      <td>3,000.00</td>\n",
       "      <td>1,950.00</td>\n",
       "      <td>200.00</td>\n",
       "      <td>3.00</td>\n",
       "      <td>3.00</td>\n",
       "    </tr>\n",
       "  </tbody>\n",
       "</table>\n",
       "</div>"
      ],
      "text/plain": [
       "       messages_included  mb_per_month_included  minutes_included  \\\n",
       "count               2.00                   2.00              2.00   \n",
       "mean              525.00              23,040.00          1,750.00   \n",
       "std               671.75              10,861.16          1,767.77   \n",
       "min                50.00              15,360.00            500.00   \n",
       "25%               287.50              19,200.00          1,125.00   \n",
       "50%               525.00              23,040.00          1,750.00   \n",
       "75%               762.50              26,880.00          2,375.00   \n",
       "max             1,000.00              30,720.00          3,000.00   \n",
       "\n",
       "       rub_monthly_fee  rub_per_gb  rub_per_message  rub_per_minute  \n",
       "count             2.00        2.00             2.00            2.00  \n",
       "mean          1,250.00      175.00             2.00            2.00  \n",
       "std             989.95       35.36             1.41            1.41  \n",
       "min             550.00      150.00             1.00            1.00  \n",
       "25%             900.00      162.50             1.50            1.50  \n",
       "50%           1,250.00      175.00             2.00            2.00  \n",
       "75%           1,600.00      187.50             2.50            2.50  \n",
       "max           1,950.00      200.00             3.00            3.00  "
      ]
     },
     "execution_count": 32,
     "metadata": {},
     "output_type": "execute_result"
    }
   ],
   "source": [
    "# тарифы\n",
    "tariffs.describe()"
   ]
  },
  {
   "cell_type": "markdown",
   "metadata": {},
   "source": [
    "Видим, что минимальное значение длительности звонка `duration` равно нулю. По документации это пропущенные звонки и удалять их не нужно.\n",
    "\n",
    "Столбец `Unnamed: 0` удалим далее.\n",
    "\n",
    "По остальным, на первый взгляд, никаких проблем в данных нет."
   ]
  },
  {
   "cell_type": "markdown",
   "metadata": {},
   "source": [
    "##### Дубликаты"
   ]
  },
  {
   "cell_type": "markdown",
   "metadata": {},
   "source": [
    "Проверим дубликаты методом `duplicated()` и просуммируем с помощью `sum()`."
   ]
  },
  {
   "cell_type": "code",
   "execution_count": 33,
   "metadata": {},
   "outputs": [
    {
     "data": {
      "text/plain": [
       "0"
      ]
     },
     "execution_count": 33,
     "metadata": {},
     "output_type": "execute_result"
    }
   ],
   "source": [
    "calls.duplicated().sum()"
   ]
  },
  {
   "cell_type": "code",
   "execution_count": 34,
   "metadata": {},
   "outputs": [
    {
     "data": {
      "text/plain": [
       "0"
      ]
     },
     "execution_count": 34,
     "metadata": {},
     "output_type": "execute_result"
    }
   ],
   "source": [
    "messages.duplicated().sum()"
   ]
  },
  {
   "cell_type": "code",
   "execution_count": 35,
   "metadata": {},
   "outputs": [
    {
     "data": {
      "text/plain": [
       "0"
      ]
     },
     "execution_count": 35,
     "metadata": {},
     "output_type": "execute_result"
    }
   ],
   "source": [
    "internet.duplicated().sum()"
   ]
  },
  {
   "cell_type": "code",
   "execution_count": 36,
   "metadata": {},
   "outputs": [
    {
     "data": {
      "text/plain": [
       "0"
      ]
     },
     "execution_count": 36,
     "metadata": {},
     "output_type": "execute_result"
    }
   ],
   "source": [
    "users.duplicated().sum()"
   ]
  },
  {
   "cell_type": "code",
   "execution_count": 37,
   "metadata": {},
   "outputs": [
    {
     "data": {
      "text/plain": [
       "0"
      ]
     },
     "execution_count": 37,
     "metadata": {},
     "output_type": "execute_result"
    }
   ],
   "source": [
    "tariffs.duplicated().sum()"
   ]
  },
  {
   "cell_type": "markdown",
   "metadata": {},
   "source": [
    "Полных дубликатов в данных нет."
   ]
  },
  {
   "cell_type": "markdown",
   "metadata": {},
   "source": [
    "##### Удаление ненужных данных"
   ]
  },
  {
   "cell_type": "markdown",
   "metadata": {},
   "source": [
    "Удалим столбец методом `drop()`, где укажем имя столбца, который нужно удалить. \n",
    "\n",
    "Параметр `axis=1` применятеся для удаления столбца (для строк он равен 0). \n",
    "\n",
    "Параметр `inplace` отвечает за изменение исходного датасета. Устанавливаем его равным `True`, чтобы изменения вступили в силу."
   ]
  },
  {
   "cell_type": "code",
   "execution_count": 38,
   "metadata": {},
   "outputs": [
    {
     "data": {
      "text/html": [
       "<div>\n",
       "<style scoped>\n",
       "    .dataframe tbody tr th:only-of-type {\n",
       "        vertical-align: middle;\n",
       "    }\n",
       "\n",
       "    .dataframe tbody tr th {\n",
       "        vertical-align: top;\n",
       "    }\n",
       "\n",
       "    .dataframe thead th {\n",
       "        text-align: right;\n",
       "    }\n",
       "</style>\n",
       "<table border=\"1\" class=\"dataframe\">\n",
       "  <thead>\n",
       "    <tr style=\"text-align: right;\">\n",
       "      <th></th>\n",
       "      <th>id</th>\n",
       "      <th>mb_used</th>\n",
       "      <th>session_date</th>\n",
       "      <th>user_id</th>\n",
       "    </tr>\n",
       "  </thead>\n",
       "  <tbody>\n",
       "    <tr>\n",
       "      <td>0</td>\n",
       "      <td>1000_0</td>\n",
       "      <td>112.95</td>\n",
       "      <td>2018-11-25</td>\n",
       "      <td>1000</td>\n",
       "    </tr>\n",
       "    <tr>\n",
       "      <td>1</td>\n",
       "      <td>1000_1</td>\n",
       "      <td>1,052.81</td>\n",
       "      <td>2018-09-07</td>\n",
       "      <td>1000</td>\n",
       "    </tr>\n",
       "    <tr>\n",
       "      <td>2</td>\n",
       "      <td>1000_2</td>\n",
       "      <td>1,197.26</td>\n",
       "      <td>2018-06-25</td>\n",
       "      <td>1000</td>\n",
       "    </tr>\n",
       "    <tr>\n",
       "      <td>3</td>\n",
       "      <td>1000_3</td>\n",
       "      <td>550.27</td>\n",
       "      <td>2018-08-22</td>\n",
       "      <td>1000</td>\n",
       "    </tr>\n",
       "    <tr>\n",
       "      <td>4</td>\n",
       "      <td>1000_4</td>\n",
       "      <td>302.56</td>\n",
       "      <td>2018-09-24</td>\n",
       "      <td>1000</td>\n",
       "    </tr>\n",
       "  </tbody>\n",
       "</table>\n",
       "</div>"
      ],
      "text/plain": [
       "       id  mb_used session_date  user_id\n",
       "0  1000_0   112.95   2018-11-25     1000\n",
       "1  1000_1 1,052.81   2018-09-07     1000\n",
       "2  1000_2 1,197.26   2018-06-25     1000\n",
       "3  1000_3   550.27   2018-08-22     1000\n",
       "4  1000_4   302.56   2018-09-24     1000"
      ]
     },
     "execution_count": 38,
     "metadata": {},
     "output_type": "execute_result"
    }
   ],
   "source": [
    "internet.drop(columns=['Unnamed: 0'], axis=1, inplace=True)\n",
    "internet.head()"
   ]
  },
  {
   "cell_type": "markdown",
   "metadata": {},
   "source": [
    "##### Вывод"
   ]
  },
  {
   "cell_type": "markdown",
   "metadata": {},
   "source": [
    "Все данные проверены и готовы к выполнению расчётов, группировке и последующему объединению в общий датасет."
   ]
  },
  {
   "cell_type": "markdown",
   "metadata": {},
   "source": [
    "#### 3. Группировка данных"
   ]
  },
  {
   "cell_type": "markdown",
   "metadata": {},
   "source": [
    "Объединим данные по `user_id` и месяцу. Таким образом мы определим для каждого пользователя:\n",
    "- количество сделанных звонков и израсходованных минут разговора по месяцам;\n",
    "- количество отправленных сообщений по месяцам;\n",
    "- объем израсходованного интернет-трафика по месяцам;\n",
    "\n",
    "Для этого нам потребуется предварительно:\n",
    "1. Округлить длительность звонков в большую сторону;\n",
    "2. Перевести мегабайты в гигабайты и результат округлить в большую сторону;\n",
    "3. Выделить из дат звонков/сообщений/интернет-сессий месяцы."
   ]
  },
  {
   "cell_type": "markdown",
   "metadata": {},
   "source": [
    "##### Подготовка к группировке"
   ]
  },
  {
   "cell_type": "markdown",
   "metadata": {},
   "source": [
    "1. Округление звонков.\n",
    "\n",
    "Округлим длительность звонков в большую сторону. Результат добавим к данным в таблицу `calls` отдельным столбцом `ceil_call_duration`."
   ]
  },
  {
   "cell_type": "code",
   "execution_count": 39,
   "metadata": {},
   "outputs": [
    {
     "data": {
      "text/plain": [
       "0    0.00\n",
       "1    0.00\n",
       "2    3.00\n",
       "3   14.00\n",
       "4    6.00\n",
       "Name: ceil_call_duration, dtype: float64"
      ]
     },
     "execution_count": 39,
     "metadata": {},
     "output_type": "execute_result"
    }
   ],
   "source": [
    "calls['ceil_call_duration'] = calls['duration'].apply(pd.np.ceil)\n",
    "calls['ceil_call_duration'].head()"
   ]
  },
  {
   "cell_type": "markdown",
   "metadata": {},
   "source": [
    "2. Перевод в гигабайты и округление интернет-трафика.\n",
    "\n",
    "Для интернет-трафика переведем мегабайты в гигабайты и также округлим в большую сторону. Результат добавим в таблицу `internet` столбцом `ceil_gb_used`."
   ]
  },
  {
   "cell_type": "code",
   "execution_count": 40,
   "metadata": {},
   "outputs": [
    {
     "data": {
      "text/plain": [
       "0   1.00\n",
       "1   2.00\n",
       "2   2.00\n",
       "3   1.00\n",
       "4   1.00\n",
       "Name: ceil_gb_used, dtype: float64"
      ]
     },
     "execution_count": 40,
     "metadata": {},
     "output_type": "execute_result"
    }
   ],
   "source": [
    "internet['ceil_gb_used'] = (internet['mb_used'] / 1024).apply(pd.np.ceil)\n",
    "internet['ceil_gb_used'].head()"
   ]
  },
  {
   "cell_type": "markdown",
   "metadata": {},
   "source": [
    "3. Определение месяцев\n",
    "\n",
    "Из дат звонков/сообщений/интернет сессий выделим номер месяца с помощью атрибута `dt`. После этого применим атрибут `month` для получения номера месяца. Результат отобразим в отдельном столбце с именем `month`."
   ]
  },
  {
   "cell_type": "code",
   "execution_count": 41,
   "metadata": {},
   "outputs": [],
   "source": [
    "calls['month'] = calls['call_date'].dt.month\n",
    "messages['month'] = messages['message_date'].dt.month\n",
    "internet['month'] = internet['session_date'].dt.month"
   ]
  },
  {
   "cell_type": "markdown",
   "metadata": {},
   "source": [
    "Проверим наличие нового столбца `month` и его тип данных для каждого датасета."
   ]
  },
  {
   "cell_type": "code",
   "execution_count": 42,
   "metadata": {},
   "outputs": [
    {
     "data": {
      "text/plain": [
       "0     7\n",
       "1     8\n",
       "2     6\n",
       "3     9\n",
       "4    12\n",
       "Name: month, dtype: int64"
      ]
     },
     "execution_count": 42,
     "metadata": {},
     "output_type": "execute_result"
    }
   ],
   "source": [
    "calls['month'].head()"
   ]
  },
  {
   "cell_type": "code",
   "execution_count": 43,
   "metadata": {},
   "outputs": [
    {
     "data": {
      "text/plain": [
       "0     6\n",
       "1    10\n",
       "2     8\n",
       "3     6\n",
       "4    12\n",
       "Name: month, dtype: int64"
      ]
     },
     "execution_count": 43,
     "metadata": {},
     "output_type": "execute_result"
    }
   ],
   "source": [
    "messages['month'].head()"
   ]
  },
  {
   "cell_type": "code",
   "execution_count": 44,
   "metadata": {
    "scrolled": true
   },
   "outputs": [
    {
     "data": {
      "text/plain": [
       "0    11\n",
       "1     9\n",
       "2     6\n",
       "3     8\n",
       "4     9\n",
       "Name: month, dtype: int64"
      ]
     },
     "execution_count": 44,
     "metadata": {},
     "output_type": "execute_result"
    }
   ],
   "source": [
    "internet['month'].head()"
   ]
  },
  {
   "cell_type": "markdown",
   "metadata": {},
   "source": [
    "**Вывод**\n",
    "\n",
    "Подготовка к группировке прошла успешно. Теперь можно группировать данные."
   ]
  },
  {
   "cell_type": "markdown",
   "metadata": {},
   "source": [
    "##### Группировка"
   ]
  },
  {
   "cell_type": "markdown",
   "metadata": {},
   "source": [
    "Объединяем данные по `user_id` и `month` для звонков, сообщений и интернет-трафика. Воспользуемся методом `groupby()`."
   ]
  },
  {
   "cell_type": "code",
   "execution_count": 45,
   "metadata": {},
   "outputs": [
    {
     "data": {
      "text/html": [
       "<div>\n",
       "<style scoped>\n",
       "    .dataframe tbody tr th:only-of-type {\n",
       "        vertical-align: middle;\n",
       "    }\n",
       "\n",
       "    .dataframe tbody tr th {\n",
       "        vertical-align: top;\n",
       "    }\n",
       "\n",
       "    .dataframe thead th {\n",
       "        text-align: right;\n",
       "    }\n",
       "</style>\n",
       "<table border=\"1\" class=\"dataframe\">\n",
       "  <thead>\n",
       "    <tr style=\"text-align: right;\">\n",
       "      <th></th>\n",
       "      <th>user_id</th>\n",
       "      <th>month</th>\n",
       "      <th>ceil_call_duration</th>\n",
       "      <th>id</th>\n",
       "    </tr>\n",
       "  </thead>\n",
       "  <tbody>\n",
       "    <tr>\n",
       "      <td>0</td>\n",
       "      <td>1000</td>\n",
       "      <td>5</td>\n",
       "      <td>159.00</td>\n",
       "      <td>22</td>\n",
       "    </tr>\n",
       "    <tr>\n",
       "      <td>1</td>\n",
       "      <td>1000</td>\n",
       "      <td>6</td>\n",
       "      <td>172.00</td>\n",
       "      <td>43</td>\n",
       "    </tr>\n",
       "    <tr>\n",
       "      <td>2</td>\n",
       "      <td>1000</td>\n",
       "      <td>7</td>\n",
       "      <td>340.00</td>\n",
       "      <td>47</td>\n",
       "    </tr>\n",
       "    <tr>\n",
       "      <td>3</td>\n",
       "      <td>1000</td>\n",
       "      <td>8</td>\n",
       "      <td>408.00</td>\n",
       "      <td>52</td>\n",
       "    </tr>\n",
       "    <tr>\n",
       "      <td>4</td>\n",
       "      <td>1000</td>\n",
       "      <td>9</td>\n",
       "      <td>466.00</td>\n",
       "      <td>58</td>\n",
       "    </tr>\n",
       "  </tbody>\n",
       "</table>\n",
       "</div>"
      ],
      "text/plain": [
       "   user_id  month  ceil_call_duration  id\n",
       "0     1000      5              159.00  22\n",
       "1     1000      6              172.00  43\n",
       "2     1000      7              340.00  47\n",
       "3     1000      8              408.00  52\n",
       "4     1000      9              466.00  58"
      ]
     },
     "execution_count": 45,
     "metadata": {},
     "output_type": "execute_result"
    }
   ],
   "source": [
    "calls_gr = calls.groupby(['user_id', 'month']).agg({'ceil_call_duration':'sum', 'id':'count'}).reset_index()\n",
    "calls_gr.head()"
   ]
  },
  {
   "cell_type": "code",
   "execution_count": 46,
   "metadata": {},
   "outputs": [
    {
     "data": {
      "text/html": [
       "<div>\n",
       "<style scoped>\n",
       "    .dataframe tbody tr th:only-of-type {\n",
       "        vertical-align: middle;\n",
       "    }\n",
       "\n",
       "    .dataframe tbody tr th {\n",
       "        vertical-align: top;\n",
       "    }\n",
       "\n",
       "    .dataframe thead th {\n",
       "        text-align: right;\n",
       "    }\n",
       "</style>\n",
       "<table border=\"1\" class=\"dataframe\">\n",
       "  <thead>\n",
       "    <tr style=\"text-align: right;\">\n",
       "      <th></th>\n",
       "      <th>user_id</th>\n",
       "      <th>month</th>\n",
       "      <th>ceil_gb_used</th>\n",
       "    </tr>\n",
       "  </thead>\n",
       "  <tbody>\n",
       "    <tr>\n",
       "      <td>0</td>\n",
       "      <td>1000</td>\n",
       "      <td>5</td>\n",
       "      <td>4.00</td>\n",
       "    </tr>\n",
       "    <tr>\n",
       "      <td>1</td>\n",
       "      <td>1000</td>\n",
       "      <td>6</td>\n",
       "      <td>49.00</td>\n",
       "    </tr>\n",
       "    <tr>\n",
       "      <td>2</td>\n",
       "      <td>1000</td>\n",
       "      <td>7</td>\n",
       "      <td>28.00</td>\n",
       "    </tr>\n",
       "    <tr>\n",
       "      <td>3</td>\n",
       "      <td>1000</td>\n",
       "      <td>8</td>\n",
       "      <td>27.00</td>\n",
       "    </tr>\n",
       "    <tr>\n",
       "      <td>4</td>\n",
       "      <td>1000</td>\n",
       "      <td>9</td>\n",
       "      <td>26.00</td>\n",
       "    </tr>\n",
       "  </tbody>\n",
       "</table>\n",
       "</div>"
      ],
      "text/plain": [
       "   user_id  month  ceil_gb_used\n",
       "0     1000      5          4.00\n",
       "1     1000      6         49.00\n",
       "2     1000      7         28.00\n",
       "3     1000      8         27.00\n",
       "4     1000      9         26.00"
      ]
     },
     "execution_count": 46,
     "metadata": {},
     "output_type": "execute_result"
    }
   ],
   "source": [
    "internet_gr = internet.groupby(['user_id', 'month']).agg({'ceil_gb_used':'sum'}).reset_index()\n",
    "internet_gr.head()"
   ]
  },
  {
   "cell_type": "code",
   "execution_count": 47,
   "metadata": {
    "scrolled": false
   },
   "outputs": [
    {
     "data": {
      "text/html": [
       "<div>\n",
       "<style scoped>\n",
       "    .dataframe tbody tr th:only-of-type {\n",
       "        vertical-align: middle;\n",
       "    }\n",
       "\n",
       "    .dataframe tbody tr th {\n",
       "        vertical-align: top;\n",
       "    }\n",
       "\n",
       "    .dataframe thead th {\n",
       "        text-align: right;\n",
       "    }\n",
       "</style>\n",
       "<table border=\"1\" class=\"dataframe\">\n",
       "  <thead>\n",
       "    <tr style=\"text-align: right;\">\n",
       "      <th></th>\n",
       "      <th>user_id</th>\n",
       "      <th>month</th>\n",
       "      <th>id</th>\n",
       "    </tr>\n",
       "  </thead>\n",
       "  <tbody>\n",
       "    <tr>\n",
       "      <td>0</td>\n",
       "      <td>1000</td>\n",
       "      <td>5</td>\n",
       "      <td>22</td>\n",
       "    </tr>\n",
       "    <tr>\n",
       "      <td>1</td>\n",
       "      <td>1000</td>\n",
       "      <td>6</td>\n",
       "      <td>60</td>\n",
       "    </tr>\n",
       "    <tr>\n",
       "      <td>2</td>\n",
       "      <td>1000</td>\n",
       "      <td>7</td>\n",
       "      <td>75</td>\n",
       "    </tr>\n",
       "    <tr>\n",
       "      <td>3</td>\n",
       "      <td>1000</td>\n",
       "      <td>8</td>\n",
       "      <td>81</td>\n",
       "    </tr>\n",
       "    <tr>\n",
       "      <td>4</td>\n",
       "      <td>1000</td>\n",
       "      <td>9</td>\n",
       "      <td>57</td>\n",
       "    </tr>\n",
       "  </tbody>\n",
       "</table>\n",
       "</div>"
      ],
      "text/plain": [
       "   user_id  month  id\n",
       "0     1000      5  22\n",
       "1     1000      6  60\n",
       "2     1000      7  75\n",
       "3     1000      8  81\n",
       "4     1000      9  57"
      ]
     },
     "execution_count": 47,
     "metadata": {},
     "output_type": "execute_result"
    }
   ],
   "source": [
    "messages_gr = messages.groupby(['user_id', 'month']).agg({'id':'count'}).reset_index()\n",
    "messages_gr.head()"
   ]
  },
  {
   "cell_type": "markdown",
   "metadata": {},
   "source": [
    "#### Подготовка и объединение данных в один датасет:"
   ]
  },
  {
   "cell_type": "markdown",
   "metadata": {},
   "source": [
    "Изменим название столбцов `id` звонков и сообщений, а так же `tariff_name` на `tariff` для удобства объединения данных в одну таблицу:"
   ]
  },
  {
   "cell_type": "code",
   "execution_count": 48,
   "metadata": {
    "scrolled": true
   },
   "outputs": [],
   "source": [
    "calls_gr = calls_gr.rename(columns={'id':'calls_count'})\n",
    "messages_gr = messages_gr.rename(columns={'id':'messages_count'})\n",
    "tariffs = tariffs.rename(columns={'tariff_name':'tariff'})"
   ]
  },
  {
   "cell_type": "markdown",
   "metadata": {},
   "source": [
    "Последовательно объединим данные в датасет `data`:"
   ]
  },
  {
   "cell_type": "markdown",
   "metadata": {},
   "source": [
    "Для начала объединим `calls_gr`, `messages_gr` и `internet_gr` в промежуточный датасет `df_gr` по столбцам `user_id` и `month`."
   ]
  },
  {
   "cell_type": "code",
   "execution_count": 49,
   "metadata": {},
   "outputs": [
    {
     "data": {
      "text/html": [
       "<div>\n",
       "<style scoped>\n",
       "    .dataframe tbody tr th:only-of-type {\n",
       "        vertical-align: middle;\n",
       "    }\n",
       "\n",
       "    .dataframe tbody tr th {\n",
       "        vertical-align: top;\n",
       "    }\n",
       "\n",
       "    .dataframe thead th {\n",
       "        text-align: right;\n",
       "    }\n",
       "</style>\n",
       "<table border=\"1\" class=\"dataframe\">\n",
       "  <thead>\n",
       "    <tr style=\"text-align: right;\">\n",
       "      <th></th>\n",
       "      <th>user_id</th>\n",
       "      <th>month</th>\n",
       "      <th>ceil_call_duration</th>\n",
       "      <th>calls_count</th>\n",
       "      <th>messages_count</th>\n",
       "      <th>ceil_gb_used</th>\n",
       "    </tr>\n",
       "  </thead>\n",
       "  <tbody>\n",
       "    <tr>\n",
       "      <td>0</td>\n",
       "      <td>1000</td>\n",
       "      <td>5</td>\n",
       "      <td>159.00</td>\n",
       "      <td>22.00</td>\n",
       "      <td>22.00</td>\n",
       "      <td>4.00</td>\n",
       "    </tr>\n",
       "    <tr>\n",
       "      <td>1</td>\n",
       "      <td>1000</td>\n",
       "      <td>6</td>\n",
       "      <td>172.00</td>\n",
       "      <td>43.00</td>\n",
       "      <td>60.00</td>\n",
       "      <td>49.00</td>\n",
       "    </tr>\n",
       "    <tr>\n",
       "      <td>2</td>\n",
       "      <td>1000</td>\n",
       "      <td>7</td>\n",
       "      <td>340.00</td>\n",
       "      <td>47.00</td>\n",
       "      <td>75.00</td>\n",
       "      <td>28.00</td>\n",
       "    </tr>\n",
       "    <tr>\n",
       "      <td>3</td>\n",
       "      <td>1000</td>\n",
       "      <td>8</td>\n",
       "      <td>408.00</td>\n",
       "      <td>52.00</td>\n",
       "      <td>81.00</td>\n",
       "      <td>27.00</td>\n",
       "    </tr>\n",
       "    <tr>\n",
       "      <td>4</td>\n",
       "      <td>1000</td>\n",
       "      <td>9</td>\n",
       "      <td>466.00</td>\n",
       "      <td>58.00</td>\n",
       "      <td>57.00</td>\n",
       "      <td>26.00</td>\n",
       "    </tr>\n",
       "  </tbody>\n",
       "</table>\n",
       "</div>"
      ],
      "text/plain": [
       "   user_id  month  ceil_call_duration  calls_count  messages_count  \\\n",
       "0     1000      5              159.00        22.00           22.00   \n",
       "1     1000      6              172.00        43.00           60.00   \n",
       "2     1000      7              340.00        47.00           75.00   \n",
       "3     1000      8              408.00        52.00           81.00   \n",
       "4     1000      9              466.00        58.00           57.00   \n",
       "\n",
       "   ceil_gb_used  \n",
       "0          4.00  \n",
       "1         49.00  \n",
       "2         28.00  \n",
       "3         27.00  \n",
       "4         26.00  "
      ]
     },
     "execution_count": 49,
     "metadata": {},
     "output_type": "execute_result"
    }
   ],
   "source": [
    "df_gr = calls_gr.merge(messages_gr, on=['user_id', 'month'], how='outer')\\\n",
    "        .merge(internet_gr, on=['user_id', 'month'], how='outer')\n",
    "df_gr.head()"
   ]
  },
  {
   "cell_type": "markdown",
   "metadata": {},
   "source": [
    "Теперь объединим промежуточный датасет `df_gr` и `users` по столбцу `user_id`, а затем с `tariffs` по столбцу `tariff`."
   ]
  },
  {
   "cell_type": "code",
   "execution_count": 50,
   "metadata": {
    "scrolled": true
   },
   "outputs": [
    {
     "data": {
      "text/html": [
       "<div>\n",
       "<style scoped>\n",
       "    .dataframe tbody tr th:only-of-type {\n",
       "        vertical-align: middle;\n",
       "    }\n",
       "\n",
       "    .dataframe tbody tr th {\n",
       "        vertical-align: top;\n",
       "    }\n",
       "\n",
       "    .dataframe thead th {\n",
       "        text-align: right;\n",
       "    }\n",
       "</style>\n",
       "<table border=\"1\" class=\"dataframe\">\n",
       "  <thead>\n",
       "    <tr style=\"text-align: right;\">\n",
       "      <th></th>\n",
       "      <th>user_id</th>\n",
       "      <th>month</th>\n",
       "      <th>ceil_call_duration</th>\n",
       "      <th>calls_count</th>\n",
       "      <th>messages_count</th>\n",
       "      <th>ceil_gb_used</th>\n",
       "      <th>age</th>\n",
       "      <th>churn_date</th>\n",
       "      <th>city</th>\n",
       "      <th>first_name</th>\n",
       "      <th>last_name</th>\n",
       "      <th>reg_date</th>\n",
       "      <th>tariff</th>\n",
       "      <th>messages_included</th>\n",
       "      <th>mb_per_month_included</th>\n",
       "      <th>minutes_included</th>\n",
       "      <th>rub_monthly_fee</th>\n",
       "      <th>rub_per_gb</th>\n",
       "      <th>rub_per_message</th>\n",
       "      <th>rub_per_minute</th>\n",
       "    </tr>\n",
       "  </thead>\n",
       "  <tbody>\n",
       "    <tr>\n",
       "      <td>0</td>\n",
       "      <td>1000</td>\n",
       "      <td>5.00</td>\n",
       "      <td>159.00</td>\n",
       "      <td>22.00</td>\n",
       "      <td>22.00</td>\n",
       "      <td>4.00</td>\n",
       "      <td>52</td>\n",
       "      <td>NaT</td>\n",
       "      <td>Краснодар</td>\n",
       "      <td>Рафаил</td>\n",
       "      <td>Верещагин</td>\n",
       "      <td>2018-05-25</td>\n",
       "      <td>ultra</td>\n",
       "      <td>1000</td>\n",
       "      <td>30720</td>\n",
       "      <td>3000</td>\n",
       "      <td>1950</td>\n",
       "      <td>150</td>\n",
       "      <td>1</td>\n",
       "      <td>1</td>\n",
       "    </tr>\n",
       "    <tr>\n",
       "      <td>1</td>\n",
       "      <td>1000</td>\n",
       "      <td>6.00</td>\n",
       "      <td>172.00</td>\n",
       "      <td>43.00</td>\n",
       "      <td>60.00</td>\n",
       "      <td>49.00</td>\n",
       "      <td>52</td>\n",
       "      <td>NaT</td>\n",
       "      <td>Краснодар</td>\n",
       "      <td>Рафаил</td>\n",
       "      <td>Верещагин</td>\n",
       "      <td>2018-05-25</td>\n",
       "      <td>ultra</td>\n",
       "      <td>1000</td>\n",
       "      <td>30720</td>\n",
       "      <td>3000</td>\n",
       "      <td>1950</td>\n",
       "      <td>150</td>\n",
       "      <td>1</td>\n",
       "      <td>1</td>\n",
       "    </tr>\n",
       "    <tr>\n",
       "      <td>2</td>\n",
       "      <td>1000</td>\n",
       "      <td>7.00</td>\n",
       "      <td>340.00</td>\n",
       "      <td>47.00</td>\n",
       "      <td>75.00</td>\n",
       "      <td>28.00</td>\n",
       "      <td>52</td>\n",
       "      <td>NaT</td>\n",
       "      <td>Краснодар</td>\n",
       "      <td>Рафаил</td>\n",
       "      <td>Верещагин</td>\n",
       "      <td>2018-05-25</td>\n",
       "      <td>ultra</td>\n",
       "      <td>1000</td>\n",
       "      <td>30720</td>\n",
       "      <td>3000</td>\n",
       "      <td>1950</td>\n",
       "      <td>150</td>\n",
       "      <td>1</td>\n",
       "      <td>1</td>\n",
       "    </tr>\n",
       "    <tr>\n",
       "      <td>3</td>\n",
       "      <td>1000</td>\n",
       "      <td>8.00</td>\n",
       "      <td>408.00</td>\n",
       "      <td>52.00</td>\n",
       "      <td>81.00</td>\n",
       "      <td>27.00</td>\n",
       "      <td>52</td>\n",
       "      <td>NaT</td>\n",
       "      <td>Краснодар</td>\n",
       "      <td>Рафаил</td>\n",
       "      <td>Верещагин</td>\n",
       "      <td>2018-05-25</td>\n",
       "      <td>ultra</td>\n",
       "      <td>1000</td>\n",
       "      <td>30720</td>\n",
       "      <td>3000</td>\n",
       "      <td>1950</td>\n",
       "      <td>150</td>\n",
       "      <td>1</td>\n",
       "      <td>1</td>\n",
       "    </tr>\n",
       "    <tr>\n",
       "      <td>4</td>\n",
       "      <td>1000</td>\n",
       "      <td>9.00</td>\n",
       "      <td>466.00</td>\n",
       "      <td>58.00</td>\n",
       "      <td>57.00</td>\n",
       "      <td>26.00</td>\n",
       "      <td>52</td>\n",
       "      <td>NaT</td>\n",
       "      <td>Краснодар</td>\n",
       "      <td>Рафаил</td>\n",
       "      <td>Верещагин</td>\n",
       "      <td>2018-05-25</td>\n",
       "      <td>ultra</td>\n",
       "      <td>1000</td>\n",
       "      <td>30720</td>\n",
       "      <td>3000</td>\n",
       "      <td>1950</td>\n",
       "      <td>150</td>\n",
       "      <td>1</td>\n",
       "      <td>1</td>\n",
       "    </tr>\n",
       "  </tbody>\n",
       "</table>\n",
       "</div>"
      ],
      "text/plain": [
       "   user_id  month  ceil_call_duration  calls_count  messages_count  \\\n",
       "0     1000   5.00              159.00        22.00           22.00   \n",
       "1     1000   6.00              172.00        43.00           60.00   \n",
       "2     1000   7.00              340.00        47.00           75.00   \n",
       "3     1000   8.00              408.00        52.00           81.00   \n",
       "4     1000   9.00              466.00        58.00           57.00   \n",
       "\n",
       "   ceil_gb_used  age churn_date       city first_name  last_name   reg_date  \\\n",
       "0          4.00   52        NaT  Краснодар     Рафаил  Верещагин 2018-05-25   \n",
       "1         49.00   52        NaT  Краснодар     Рафаил  Верещагин 2018-05-25   \n",
       "2         28.00   52        NaT  Краснодар     Рафаил  Верещагин 2018-05-25   \n",
       "3         27.00   52        NaT  Краснодар     Рафаил  Верещагин 2018-05-25   \n",
       "4         26.00   52        NaT  Краснодар     Рафаил  Верещагин 2018-05-25   \n",
       "\n",
       "  tariff  messages_included  mb_per_month_included  minutes_included  \\\n",
       "0  ultra               1000                  30720              3000   \n",
       "1  ultra               1000                  30720              3000   \n",
       "2  ultra               1000                  30720              3000   \n",
       "3  ultra               1000                  30720              3000   \n",
       "4  ultra               1000                  30720              3000   \n",
       "\n",
       "   rub_monthly_fee  rub_per_gb  rub_per_message  rub_per_minute  \n",
       "0             1950         150                1               1  \n",
       "1             1950         150                1               1  \n",
       "2             1950         150                1               1  \n",
       "3             1950         150                1               1  \n",
       "4             1950         150                1               1  "
      ]
     },
     "metadata": {},
     "output_type": "display_data"
    },
    {
     "name": "stdout",
     "output_type": "stream",
     "text": [
      "<class 'pandas.core.frame.DataFrame'>\n",
      "Int64Index: 3216 entries, 0 to 3215\n",
      "Data columns (total 20 columns):\n",
      "user_id                  3216 non-null int64\n",
      "month                    3214 non-null float64\n",
      "ceil_call_duration       3174 non-null float64\n",
      "calls_count              3174 non-null float64\n",
      "messages_count           2717 non-null float64\n",
      "ceil_gb_used             3203 non-null float64\n",
      "age                      3216 non-null int64\n",
      "churn_date               189 non-null datetime64[ns]\n",
      "city                     3216 non-null object\n",
      "first_name               3216 non-null object\n",
      "last_name                3216 non-null object\n",
      "reg_date                 3216 non-null datetime64[ns]\n",
      "tariff                   3216 non-null object\n",
      "messages_included        3216 non-null int64\n",
      "mb_per_month_included    3216 non-null int64\n",
      "minutes_included         3216 non-null int64\n",
      "rub_monthly_fee          3216 non-null int64\n",
      "rub_per_gb               3216 non-null int64\n",
      "rub_per_message          3216 non-null int64\n",
      "rub_per_minute           3216 non-null int64\n",
      "dtypes: datetime64[ns](2), float64(5), int64(9), object(4)\n",
      "memory usage: 527.6+ KB\n"
     ]
    },
    {
     "data": {
      "text/plain": [
       "None"
      ]
     },
     "metadata": {},
     "output_type": "display_data"
    }
   ],
   "source": [
    "data = df_gr.merge(users, on='user_id', how='outer')\\\n",
    "            .merge(tariffs, on='tariff', how='outer')\n",
    "\n",
    "display(data.head())\n",
    "display(data.info())"
   ]
  },
  {
   "cell_type": "markdown",
   "metadata": {},
   "source": [
    "После объединения видим, что появились пропуски в данных. Заполним пропуски в услугах нулями - так мы обозначим, что пользователь в данном месяце не пользовался какой-то из услуг.\n",
    "\n",
    "Для расчета помесячной выручки нас интересуют столбцы: `calls_count`, `ceil_call_duration`, `messages_count`, `ceil_gb_used`."
   ]
  },
  {
   "cell_type": "code",
   "execution_count": 51,
   "metadata": {},
   "outputs": [],
   "source": [
    "data['calls_count'] = data['calls_count'].fillna(0)\n",
    "data['ceil_call_duration'] = data['ceil_call_duration'].fillna(0)\n",
    "data['messages_count'] = data['messages_count'].fillna(0)\n",
    "data['ceil_gb_used'] = data['ceil_gb_used'].fillna(0)"
   ]
  },
  {
   "cell_type": "markdown",
   "metadata": {},
   "source": [
    "В столбце `month` есть 2 пропуска. Посмотрим на них подробнее."
   ]
  },
  {
   "cell_type": "code",
   "execution_count": 52,
   "metadata": {},
   "outputs": [
    {
     "data": {
      "text/html": [
       "<div>\n",
       "<style scoped>\n",
       "    .dataframe tbody tr th:only-of-type {\n",
       "        vertical-align: middle;\n",
       "    }\n",
       "\n",
       "    .dataframe tbody tr th {\n",
       "        vertical-align: top;\n",
       "    }\n",
       "\n",
       "    .dataframe thead th {\n",
       "        text-align: right;\n",
       "    }\n",
       "</style>\n",
       "<table border=\"1\" class=\"dataframe\">\n",
       "  <thead>\n",
       "    <tr style=\"text-align: right;\">\n",
       "      <th></th>\n",
       "      <th>user_id</th>\n",
       "      <th>month</th>\n",
       "      <th>ceil_call_duration</th>\n",
       "      <th>calls_count</th>\n",
       "      <th>messages_count</th>\n",
       "      <th>ceil_gb_used</th>\n",
       "      <th>age</th>\n",
       "      <th>churn_date</th>\n",
       "      <th>city</th>\n",
       "      <th>first_name</th>\n",
       "      <th>last_name</th>\n",
       "      <th>reg_date</th>\n",
       "      <th>tariff</th>\n",
       "      <th>messages_included</th>\n",
       "      <th>mb_per_month_included</th>\n",
       "      <th>minutes_included</th>\n",
       "      <th>rub_monthly_fee</th>\n",
       "      <th>rub_per_gb</th>\n",
       "      <th>rub_per_message</th>\n",
       "      <th>rub_per_minute</th>\n",
       "    </tr>\n",
       "  </thead>\n",
       "  <tbody>\n",
       "    <tr>\n",
       "      <td>985</td>\n",
       "      <td>1128</td>\n",
       "      <td>nan</td>\n",
       "      <td>0.00</td>\n",
       "      <td>0.00</td>\n",
       "      <td>0.00</td>\n",
       "      <td>0.00</td>\n",
       "      <td>51</td>\n",
       "      <td>2018-12-23</td>\n",
       "      <td>Волжский</td>\n",
       "      <td>Ксения</td>\n",
       "      <td>Агаева</td>\n",
       "      <td>2018-12-15</td>\n",
       "      <td>ultra</td>\n",
       "      <td>1000</td>\n",
       "      <td>30720</td>\n",
       "      <td>3000</td>\n",
       "      <td>1950</td>\n",
       "      <td>150</td>\n",
       "      <td>1</td>\n",
       "      <td>1</td>\n",
       "    </tr>\n",
       "    <tr>\n",
       "      <td>3215</td>\n",
       "      <td>1371</td>\n",
       "      <td>nan</td>\n",
       "      <td>0.00</td>\n",
       "      <td>0.00</td>\n",
       "      <td>0.00</td>\n",
       "      <td>0.00</td>\n",
       "      <td>50</td>\n",
       "      <td>2018-12-30</td>\n",
       "      <td>Омск</td>\n",
       "      <td>Ириней</td>\n",
       "      <td>Трофимов</td>\n",
       "      <td>2018-12-25</td>\n",
       "      <td>smart</td>\n",
       "      <td>50</td>\n",
       "      <td>15360</td>\n",
       "      <td>500</td>\n",
       "      <td>550</td>\n",
       "      <td>200</td>\n",
       "      <td>3</td>\n",
       "      <td>3</td>\n",
       "    </tr>\n",
       "  </tbody>\n",
       "</table>\n",
       "</div>"
      ],
      "text/plain": [
       "      user_id  month  ceil_call_duration  calls_count  messages_count  \\\n",
       "985      1128    nan                0.00         0.00            0.00   \n",
       "3215     1371    nan                0.00         0.00            0.00   \n",
       "\n",
       "      ceil_gb_used  age churn_date      city first_name last_name   reg_date  \\\n",
       "985           0.00   51 2018-12-23  Волжский     Ксения    Агаева 2018-12-15   \n",
       "3215          0.00   50 2018-12-30      Омск     Ириней  Трофимов 2018-12-25   \n",
       "\n",
       "     tariff  messages_included  mb_per_month_included  minutes_included  \\\n",
       "985   ultra               1000                  30720              3000   \n",
       "3215  smart                 50                  15360               500   \n",
       "\n",
       "      rub_monthly_fee  rub_per_gb  rub_per_message  rub_per_minute  \n",
       "985              1950         150                1               1  \n",
       "3215              550         200                3               3  "
      ]
     },
     "execution_count": 52,
     "metadata": {},
     "output_type": "execute_result"
    }
   ],
   "source": [
    "data[data['month'].isna()]"
   ]
  },
  {
   "cell_type": "markdown",
   "metadata": {},
   "source": [
    "Видим, что пользователи вообще не пользовались ни одной из услуг, поэтому выручка будет равна нулю и можно удалить эти строки."
   ]
  },
  {
   "cell_type": "code",
   "execution_count": 53,
   "metadata": {},
   "outputs": [
    {
     "data": {
      "text/plain": [
       "0"
      ]
     },
     "execution_count": 53,
     "metadata": {},
     "output_type": "execute_result"
    }
   ],
   "source": [
    "data.dropna(subset=['month'], inplace=True)\n",
    "\n",
    "# проверка\n",
    "data['month'].isna().sum()"
   ]
  },
  {
   "cell_type": "markdown",
   "metadata": {},
   "source": [
    "#### Определение помесячной выручки:"
   ]
  },
  {
   "cell_type": "markdown",
   "metadata": {},
   "source": [
    "Добавим в получившийся датасет столбец `proceed_per_month`, в котором отразим помесячную выручку с каждого пользователя. Для этого:\n",
    "1. вычтем бесплатный лимит из суммарного количества звонков, сообщений и интернет-трафика;\n",
    "2. остаток умножим на значение из тарифного плана;\n",
    "3. прибавим абонентскую плату, соответствующую тарифному плану."
   ]
  },
  {
   "cell_type": "code",
   "execution_count": 54,
   "metadata": {},
   "outputs": [],
   "source": [
    "def calculate_proceed_per_month(row):\n",
    "    # Информация по звонкам, сообщениям, мегабайтам за месяц\n",
    "    calls_count = row['calls_count']\n",
    "    calls_duration = row['ceil_call_duration']\n",
    "    messages_count = row['messages_count']\n",
    "    ceil_gb_used = row['ceil_gb_used']\n",
    "    \n",
    "    # Включено в тариф\n",
    "    messages_included = row['messages_included']\n",
    "    mb_included = row['mb_per_month_included']\n",
    "    minutes_included = row['minutes_included']\n",
    "    \n",
    "    # Стоимость по тарифу за минуту, гигабайт, сообщение\n",
    "    rub_per_minute = row['rub_per_minute']\n",
    "    rub_per_message = row['rub_per_message']\n",
    "    rub_per_gb = row['rub_per_gb']\n",
    "    \n",
    "    # Абонентская плата\n",
    "    rub_monthly_fee = row['rub_monthly_fee']\n",
    "    \n",
    "    # Рассчёт переплаты за звонки\n",
    "    calls_overpay = (calls_duration - minutes_included) * rub_per_minute\n",
    "    # Если переплата меньше нуля, то приравняем к нулю, то есть переплаты нет.\n",
    "    if calls_overpay <= 0:\n",
    "        calls_overpay = 0\n",
    "    # (аналогично по сообщениям и трафику)\n",
    "    messages_overpay = (messages_count - messages_included) * rub_per_message\n",
    "    if messages_overpay <= 0:\n",
    "        messages_overpay = 0\n",
    "    \n",
    "    gb_used_overpay = (ceil_gb_used - mb_included / 1024) * rub_per_gb\n",
    "    if gb_used_overpay <= 0:\n",
    "        gb_used_overpay = 0\n",
    "    \n",
    "    # Суммарная плата за месяц из абонентской и всех переплат\n",
    "    proceed_per_month = calls_overpay + messages_overpay + gb_used_overpay + rub_monthly_fee\n",
    "        \n",
    "    return proceed_per_month"
   ]
  },
  {
   "cell_type": "code",
   "execution_count": 55,
   "metadata": {},
   "outputs": [],
   "source": [
    "data['proceed_per_month'] = data.apply(calculate_proceed_per_month, axis=1)"
   ]
  },
  {
   "cell_type": "code",
   "execution_count": 56,
   "metadata": {
    "scrolled": true
   },
   "outputs": [
    {
     "data": {
      "text/plain": [
       "0   1,950.00\n",
       "1   4,800.00\n",
       "2   1,950.00\n",
       "3   1,950.00\n",
       "4   1,950.00\n",
       "Name: proceed_per_month, dtype: float64"
      ]
     },
     "execution_count": 56,
     "metadata": {},
     "output_type": "execute_result"
    }
   ],
   "source": [
    "data['proceed_per_month'].head()"
   ]
  },
  {
   "cell_type": "markdown",
   "metadata": {},
   "source": [
    "### Вывод"
   ]
  },
  {
   "cell_type": "markdown",
   "metadata": {},
   "source": [
    "По итогу, мы подготовили данные к дальнейшему анализу, произведя следующие действия:\n",
    "1. Открыли все необходимые для исследования датасеты;\n",
    "2. Выполнили предобработку;\n",
    "3. Сгруппировали данные по нужным метрикам и добавили новые столбцы;\n",
    "4. Объединили в один датасет;\n",
    "5. Добавили столбец помесячной выручки;"
   ]
  },
  {
   "cell_type": "markdown",
   "metadata": {},
   "source": [
    "## Анализ данных выборки"
   ]
  },
  {
   "cell_type": "markdown",
   "metadata": {},
   "source": [
    "### Подготовка к анализу"
   ]
  },
  {
   "cell_type": "markdown",
   "metadata": {},
   "source": [
    "Разделим датасет на 2 части по тарифам:"
   ]
  },
  {
   "cell_type": "code",
   "execution_count": 57,
   "metadata": {},
   "outputs": [],
   "source": [
    "data_smart = data[data['tariff'] == 'smart']\n",
    "data_ultra = data[data['tariff'] == 'ultra']"
   ]
  },
  {
   "cell_type": "code",
   "execution_count": 58,
   "metadata": {},
   "outputs": [
    {
     "data": {
      "text/html": [
       "<div>\n",
       "<style scoped>\n",
       "    .dataframe tbody tr th:only-of-type {\n",
       "        vertical-align: middle;\n",
       "    }\n",
       "\n",
       "    .dataframe tbody tr th {\n",
       "        vertical-align: top;\n",
       "    }\n",
       "\n",
       "    .dataframe thead th {\n",
       "        text-align: right;\n",
       "    }\n",
       "</style>\n",
       "<table border=\"1\" class=\"dataframe\">\n",
       "  <thead>\n",
       "    <tr style=\"text-align: right;\">\n",
       "      <th></th>\n",
       "      <th>user_id</th>\n",
       "      <th>month</th>\n",
       "      <th>ceil_call_duration</th>\n",
       "      <th>calls_count</th>\n",
       "      <th>messages_count</th>\n",
       "      <th>ceil_gb_used</th>\n",
       "      <th>age</th>\n",
       "      <th>churn_date</th>\n",
       "      <th>city</th>\n",
       "      <th>first_name</th>\n",
       "      <th>...</th>\n",
       "      <th>reg_date</th>\n",
       "      <th>tariff</th>\n",
       "      <th>messages_included</th>\n",
       "      <th>mb_per_month_included</th>\n",
       "      <th>minutes_included</th>\n",
       "      <th>rub_monthly_fee</th>\n",
       "      <th>rub_per_gb</th>\n",
       "      <th>rub_per_message</th>\n",
       "      <th>rub_per_minute</th>\n",
       "      <th>proceed_per_month</th>\n",
       "    </tr>\n",
       "  </thead>\n",
       "  <tbody>\n",
       "    <tr>\n",
       "      <td>986</td>\n",
       "      <td>1001</td>\n",
       "      <td>11.00</td>\n",
       "      <td>430.00</td>\n",
       "      <td>59.00</td>\n",
       "      <td>0.00</td>\n",
       "      <td>47.00</td>\n",
       "      <td>41</td>\n",
       "      <td>NaT</td>\n",
       "      <td>Москва</td>\n",
       "      <td>Иван</td>\n",
       "      <td>...</td>\n",
       "      <td>2018-11-01</td>\n",
       "      <td>smart</td>\n",
       "      <td>50</td>\n",
       "      <td>15360</td>\n",
       "      <td>500</td>\n",
       "      <td>550</td>\n",
       "      <td>200</td>\n",
       "      <td>3</td>\n",
       "      <td>3</td>\n",
       "      <td>6,950.00</td>\n",
       "    </tr>\n",
       "    <tr>\n",
       "      <td>987</td>\n",
       "      <td>1001</td>\n",
       "      <td>12.00</td>\n",
       "      <td>414.00</td>\n",
       "      <td>63.00</td>\n",
       "      <td>0.00</td>\n",
       "      <td>35.00</td>\n",
       "      <td>41</td>\n",
       "      <td>NaT</td>\n",
       "      <td>Москва</td>\n",
       "      <td>Иван</td>\n",
       "      <td>...</td>\n",
       "      <td>2018-11-01</td>\n",
       "      <td>smart</td>\n",
       "      <td>50</td>\n",
       "      <td>15360</td>\n",
       "      <td>500</td>\n",
       "      <td>550</td>\n",
       "      <td>200</td>\n",
       "      <td>3</td>\n",
       "      <td>3</td>\n",
       "      <td>4,550.00</td>\n",
       "    </tr>\n",
       "    <tr>\n",
       "      <td>988</td>\n",
       "      <td>1002</td>\n",
       "      <td>6.00</td>\n",
       "      <td>117.00</td>\n",
       "      <td>15.00</td>\n",
       "      <td>4.00</td>\n",
       "      <td>27.00</td>\n",
       "      <td>59</td>\n",
       "      <td>NaT</td>\n",
       "      <td>Стерлитамак</td>\n",
       "      <td>Евгений</td>\n",
       "      <td>...</td>\n",
       "      <td>2018-06-17</td>\n",
       "      <td>smart</td>\n",
       "      <td>50</td>\n",
       "      <td>15360</td>\n",
       "      <td>500</td>\n",
       "      <td>550</td>\n",
       "      <td>200</td>\n",
       "      <td>3</td>\n",
       "      <td>3</td>\n",
       "      <td>2,950.00</td>\n",
       "    </tr>\n",
       "    <tr>\n",
       "      <td>989</td>\n",
       "      <td>1002</td>\n",
       "      <td>7.00</td>\n",
       "      <td>214.00</td>\n",
       "      <td>26.00</td>\n",
       "      <td>11.00</td>\n",
       "      <td>45.00</td>\n",
       "      <td>59</td>\n",
       "      <td>NaT</td>\n",
       "      <td>Стерлитамак</td>\n",
       "      <td>Евгений</td>\n",
       "      <td>...</td>\n",
       "      <td>2018-06-17</td>\n",
       "      <td>smart</td>\n",
       "      <td>50</td>\n",
       "      <td>15360</td>\n",
       "      <td>500</td>\n",
       "      <td>550</td>\n",
       "      <td>200</td>\n",
       "      <td>3</td>\n",
       "      <td>3</td>\n",
       "      <td>6,550.00</td>\n",
       "    </tr>\n",
       "    <tr>\n",
       "      <td>990</td>\n",
       "      <td>1002</td>\n",
       "      <td>8.00</td>\n",
       "      <td>289.00</td>\n",
       "      <td>42.00</td>\n",
       "      <td>13.00</td>\n",
       "      <td>50.00</td>\n",
       "      <td>59</td>\n",
       "      <td>NaT</td>\n",
       "      <td>Стерлитамак</td>\n",
       "      <td>Евгений</td>\n",
       "      <td>...</td>\n",
       "      <td>2018-06-17</td>\n",
       "      <td>smart</td>\n",
       "      <td>50</td>\n",
       "      <td>15360</td>\n",
       "      <td>500</td>\n",
       "      <td>550</td>\n",
       "      <td>200</td>\n",
       "      <td>3</td>\n",
       "      <td>3</td>\n",
       "      <td>7,550.00</td>\n",
       "    </tr>\n",
       "  </tbody>\n",
       "</table>\n",
       "<p>5 rows × 21 columns</p>\n",
       "</div>"
      ],
      "text/plain": [
       "     user_id  month  ceil_call_duration  calls_count  messages_count  \\\n",
       "986     1001  11.00              430.00        59.00            0.00   \n",
       "987     1001  12.00              414.00        63.00            0.00   \n",
       "988     1002   6.00              117.00        15.00            4.00   \n",
       "989     1002   7.00              214.00        26.00           11.00   \n",
       "990     1002   8.00              289.00        42.00           13.00   \n",
       "\n",
       "     ceil_gb_used  age churn_date         city first_name  ...   reg_date  \\\n",
       "986         47.00   41        NaT       Москва       Иван  ... 2018-11-01   \n",
       "987         35.00   41        NaT       Москва       Иван  ... 2018-11-01   \n",
       "988         27.00   59        NaT  Стерлитамак    Евгений  ... 2018-06-17   \n",
       "989         45.00   59        NaT  Стерлитамак    Евгений  ... 2018-06-17   \n",
       "990         50.00   59        NaT  Стерлитамак    Евгений  ... 2018-06-17   \n",
       "\n",
       "    tariff messages_included  mb_per_month_included  minutes_included  \\\n",
       "986  smart                50                  15360               500   \n",
       "987  smart                50                  15360               500   \n",
       "988  smart                50                  15360               500   \n",
       "989  smart                50                  15360               500   \n",
       "990  smart                50                  15360               500   \n",
       "\n",
       "     rub_monthly_fee  rub_per_gb  rub_per_message  rub_per_minute  \\\n",
       "986              550         200                3               3   \n",
       "987              550         200                3               3   \n",
       "988              550         200                3               3   \n",
       "989              550         200                3               3   \n",
       "990              550         200                3               3   \n",
       "\n",
       "     proceed_per_month  \n",
       "986           6,950.00  \n",
       "987           4,550.00  \n",
       "988           2,950.00  \n",
       "989           6,550.00  \n",
       "990           7,550.00  \n",
       "\n",
       "[5 rows x 21 columns]"
      ]
     },
     "execution_count": 58,
     "metadata": {},
     "output_type": "execute_result"
    }
   ],
   "source": [
    "data_smart.head()"
   ]
  },
  {
   "cell_type": "code",
   "execution_count": 59,
   "metadata": {},
   "outputs": [
    {
     "data": {
      "text/html": [
       "<div>\n",
       "<style scoped>\n",
       "    .dataframe tbody tr th:only-of-type {\n",
       "        vertical-align: middle;\n",
       "    }\n",
       "\n",
       "    .dataframe tbody tr th {\n",
       "        vertical-align: top;\n",
       "    }\n",
       "\n",
       "    .dataframe thead th {\n",
       "        text-align: right;\n",
       "    }\n",
       "</style>\n",
       "<table border=\"1\" class=\"dataframe\">\n",
       "  <thead>\n",
       "    <tr style=\"text-align: right;\">\n",
       "      <th></th>\n",
       "      <th>user_id</th>\n",
       "      <th>month</th>\n",
       "      <th>ceil_call_duration</th>\n",
       "      <th>calls_count</th>\n",
       "      <th>messages_count</th>\n",
       "      <th>ceil_gb_used</th>\n",
       "      <th>age</th>\n",
       "      <th>churn_date</th>\n",
       "      <th>city</th>\n",
       "      <th>first_name</th>\n",
       "      <th>...</th>\n",
       "      <th>reg_date</th>\n",
       "      <th>tariff</th>\n",
       "      <th>messages_included</th>\n",
       "      <th>mb_per_month_included</th>\n",
       "      <th>minutes_included</th>\n",
       "      <th>rub_monthly_fee</th>\n",
       "      <th>rub_per_gb</th>\n",
       "      <th>rub_per_message</th>\n",
       "      <th>rub_per_minute</th>\n",
       "      <th>proceed_per_month</th>\n",
       "    </tr>\n",
       "  </thead>\n",
       "  <tbody>\n",
       "    <tr>\n",
       "      <td>0</td>\n",
       "      <td>1000</td>\n",
       "      <td>5.00</td>\n",
       "      <td>159.00</td>\n",
       "      <td>22.00</td>\n",
       "      <td>22.00</td>\n",
       "      <td>4.00</td>\n",
       "      <td>52</td>\n",
       "      <td>NaT</td>\n",
       "      <td>Краснодар</td>\n",
       "      <td>Рафаил</td>\n",
       "      <td>...</td>\n",
       "      <td>2018-05-25</td>\n",
       "      <td>ultra</td>\n",
       "      <td>1000</td>\n",
       "      <td>30720</td>\n",
       "      <td>3000</td>\n",
       "      <td>1950</td>\n",
       "      <td>150</td>\n",
       "      <td>1</td>\n",
       "      <td>1</td>\n",
       "      <td>1,950.00</td>\n",
       "    </tr>\n",
       "    <tr>\n",
       "      <td>1</td>\n",
       "      <td>1000</td>\n",
       "      <td>6.00</td>\n",
       "      <td>172.00</td>\n",
       "      <td>43.00</td>\n",
       "      <td>60.00</td>\n",
       "      <td>49.00</td>\n",
       "      <td>52</td>\n",
       "      <td>NaT</td>\n",
       "      <td>Краснодар</td>\n",
       "      <td>Рафаил</td>\n",
       "      <td>...</td>\n",
       "      <td>2018-05-25</td>\n",
       "      <td>ultra</td>\n",
       "      <td>1000</td>\n",
       "      <td>30720</td>\n",
       "      <td>3000</td>\n",
       "      <td>1950</td>\n",
       "      <td>150</td>\n",
       "      <td>1</td>\n",
       "      <td>1</td>\n",
       "      <td>4,800.00</td>\n",
       "    </tr>\n",
       "    <tr>\n",
       "      <td>2</td>\n",
       "      <td>1000</td>\n",
       "      <td>7.00</td>\n",
       "      <td>340.00</td>\n",
       "      <td>47.00</td>\n",
       "      <td>75.00</td>\n",
       "      <td>28.00</td>\n",
       "      <td>52</td>\n",
       "      <td>NaT</td>\n",
       "      <td>Краснодар</td>\n",
       "      <td>Рафаил</td>\n",
       "      <td>...</td>\n",
       "      <td>2018-05-25</td>\n",
       "      <td>ultra</td>\n",
       "      <td>1000</td>\n",
       "      <td>30720</td>\n",
       "      <td>3000</td>\n",
       "      <td>1950</td>\n",
       "      <td>150</td>\n",
       "      <td>1</td>\n",
       "      <td>1</td>\n",
       "      <td>1,950.00</td>\n",
       "    </tr>\n",
       "    <tr>\n",
       "      <td>3</td>\n",
       "      <td>1000</td>\n",
       "      <td>8.00</td>\n",
       "      <td>408.00</td>\n",
       "      <td>52.00</td>\n",
       "      <td>81.00</td>\n",
       "      <td>27.00</td>\n",
       "      <td>52</td>\n",
       "      <td>NaT</td>\n",
       "      <td>Краснодар</td>\n",
       "      <td>Рафаил</td>\n",
       "      <td>...</td>\n",
       "      <td>2018-05-25</td>\n",
       "      <td>ultra</td>\n",
       "      <td>1000</td>\n",
       "      <td>30720</td>\n",
       "      <td>3000</td>\n",
       "      <td>1950</td>\n",
       "      <td>150</td>\n",
       "      <td>1</td>\n",
       "      <td>1</td>\n",
       "      <td>1,950.00</td>\n",
       "    </tr>\n",
       "    <tr>\n",
       "      <td>4</td>\n",
       "      <td>1000</td>\n",
       "      <td>9.00</td>\n",
       "      <td>466.00</td>\n",
       "      <td>58.00</td>\n",
       "      <td>57.00</td>\n",
       "      <td>26.00</td>\n",
       "      <td>52</td>\n",
       "      <td>NaT</td>\n",
       "      <td>Краснодар</td>\n",
       "      <td>Рафаил</td>\n",
       "      <td>...</td>\n",
       "      <td>2018-05-25</td>\n",
       "      <td>ultra</td>\n",
       "      <td>1000</td>\n",
       "      <td>30720</td>\n",
       "      <td>3000</td>\n",
       "      <td>1950</td>\n",
       "      <td>150</td>\n",
       "      <td>1</td>\n",
       "      <td>1</td>\n",
       "      <td>1,950.00</td>\n",
       "    </tr>\n",
       "  </tbody>\n",
       "</table>\n",
       "<p>5 rows × 21 columns</p>\n",
       "</div>"
      ],
      "text/plain": [
       "   user_id  month  ceil_call_duration  calls_count  messages_count  \\\n",
       "0     1000   5.00              159.00        22.00           22.00   \n",
       "1     1000   6.00              172.00        43.00           60.00   \n",
       "2     1000   7.00              340.00        47.00           75.00   \n",
       "3     1000   8.00              408.00        52.00           81.00   \n",
       "4     1000   9.00              466.00        58.00           57.00   \n",
       "\n",
       "   ceil_gb_used  age churn_date       city first_name  ...   reg_date tariff  \\\n",
       "0          4.00   52        NaT  Краснодар     Рафаил  ... 2018-05-25  ultra   \n",
       "1         49.00   52        NaT  Краснодар     Рафаил  ... 2018-05-25  ultra   \n",
       "2         28.00   52        NaT  Краснодар     Рафаил  ... 2018-05-25  ultra   \n",
       "3         27.00   52        NaT  Краснодар     Рафаил  ... 2018-05-25  ultra   \n",
       "4         26.00   52        NaT  Краснодар     Рафаил  ... 2018-05-25  ultra   \n",
       "\n",
       "  messages_included  mb_per_month_included  minutes_included  rub_monthly_fee  \\\n",
       "0              1000                  30720              3000             1950   \n",
       "1              1000                  30720              3000             1950   \n",
       "2              1000                  30720              3000             1950   \n",
       "3              1000                  30720              3000             1950   \n",
       "4              1000                  30720              3000             1950   \n",
       "\n",
       "   rub_per_gb  rub_per_message  rub_per_minute  proceed_per_month  \n",
       "0         150                1               1           1,950.00  \n",
       "1         150                1               1           4,800.00  \n",
       "2         150                1               1           1,950.00  \n",
       "3         150                1               1           1,950.00  \n",
       "4         150                1               1           1,950.00  \n",
       "\n",
       "[5 rows x 21 columns]"
      ]
     },
     "execution_count": 59,
     "metadata": {},
     "output_type": "execute_result"
    }
   ],
   "source": [
    "data_ultra.head()"
   ]
  },
  {
   "cell_type": "markdown",
   "metadata": {},
   "source": [
    "Определим, сколько минут разговора, сообщений и объём интернет трафика требуется пользователям каждого тарифа в месяц.\n",
    "Начнем с тарифа `smart`."
   ]
  },
  {
   "cell_type": "markdown",
   "metadata": {},
   "source": [
    "### Тариф `Smart`"
   ]
  },
  {
   "cell_type": "markdown",
   "metadata": {},
   "source": [
    "Построим гистограммы для длительности звонков, количества сообщений и интернет-трафика:"
   ]
  },
  {
   "cell_type": "markdown",
   "metadata": {},
   "source": [
    "#### Продолжительность звонков"
   ]
  },
  {
   "cell_type": "code",
   "execution_count": 60,
   "metadata": {
    "scrolled": true
   },
   "outputs": [
    {
     "data": {
      "image/png": "[encoded data removed]",
      "text/plain": [
       "<Figure size 864x360 with 1 Axes>"
      ]
     },
     "metadata": {
      "needs_background": "light"
     },
     "output_type": "display_data"
    }
   ],
   "source": [
    "fig, ax = plt.subplots(figsize=(12, 5))\n",
    "\n",
    "ax.set_title('Распределение количества минут разговора на тарифе Смарт')\n",
    "ax.set_xlabel('длительность, минуты');\n",
    "\n",
    "ax.hist(data=data_smart, x='ceil_call_duration');"
   ]
  },
  {
   "cell_type": "markdown",
   "metadata": {},
   "source": [
    "#### Количество сообщений"
   ]
  },
  {
   "cell_type": "code",
   "execution_count": 61,
   "metadata": {
    "scrolled": true
   },
   "outputs": [
    {
     "data": {
      "image/png": "[encoded data removed]",
      "text/plain": [
       "<Figure size 864x360 with 1 Axes>"
      ]
     },
     "metadata": {
      "needs_background": "light"
     },
     "output_type": "display_data"
    }
   ],
   "source": [
    "fig, ax = plt.subplots(figsize=(12, 5))\n",
    "\n",
    "ax.set_title('Распределение количества сообщений на тарифе Смарт')\n",
    "ax.set_xlabel('сообщения');\n",
    "\n",
    "ax.hist(data=data_smart, x='messages_count');"
   ]
  },
  {
   "cell_type": "markdown",
   "metadata": {},
   "source": [
    "#### Интернет-трафик"
   ]
  },
  {
   "cell_type": "code",
   "execution_count": 62,
   "metadata": {},
   "outputs": [
    {
     "data": {
      "image/png": "[encoded data removed]",
      "text/plain": [
       "<Figure size 864x360 with 1 Axes>"
      ]
     },
     "metadata": {
      "needs_background": "light"
     },
     "output_type": "display_data"
    }
   ],
   "source": [
    "fig, ax = plt.subplots(figsize=(12, 5))\n",
    "\n",
    "ax.set_title('Распределение интернет-трафика на тарифе Смарт')\n",
    "ax.set_xlabel('мегабайты');\n",
    "\n",
    "ax.hist(data=data_smart, x='ceil_gb_used');"
   ]
  },
  {
   "cell_type": "markdown",
   "metadata": {},
   "source": [
    "### Тариф `Ultra`"
   ]
  },
  {
   "cell_type": "markdown",
   "metadata": {},
   "source": [
    "#### Продолжительность звонков"
   ]
  },
  {
   "cell_type": "code",
   "execution_count": 63,
   "metadata": {},
   "outputs": [
    {
     "data": {
      "image/png": "[encoded data removed]",
      "text/plain": [
       "<Figure size 864x360 with 1 Axes>"
      ]
     },
     "metadata": {
      "needs_background": "light"
     },
     "output_type": "display_data"
    }
   ],
   "source": [
    "fig, ax = plt.subplots(figsize=(12, 5))\n",
    "\n",
    "ax.set_title('Распределение количества минут разговора на тарифе Ультра')\n",
    "ax.set_xlabel('длительность, минуты');\n",
    "\n",
    "ax.hist(data=data_ultra, x='ceil_call_duration', color='green');"
   ]
  },
  {
   "cell_type": "markdown",
   "metadata": {},
   "source": [
    "#### Количество сообщений"
   ]
  },
  {
   "cell_type": "code",
   "execution_count": 64,
   "metadata": {},
   "outputs": [
    {
     "data": {
      "image/png": "[encoded data removed]",
      "text/plain": [
       "<Figure size 864x360 with 1 Axes>"
      ]
     },
     "metadata": {
      "needs_background": "light"
     },
     "output_type": "display_data"
    }
   ],
   "source": [
    "fig, ax = plt.subplots(figsize=(12, 5))\n",
    "\n",
    "ax.set_title('Распределение количества сообщений на тарифе Ультра')\n",
    "ax.set_xlabel('сообщения');\n",
    "\n",
    "ax.hist(data=data_ultra, x='messages_count', color='green');"
   ]
  },
  {
   "cell_type": "markdown",
   "metadata": {},
   "source": [
    "#### Интернет-трафик"
   ]
  },
  {
   "cell_type": "code",
   "execution_count": 65,
   "metadata": {},
   "outputs": [
    {
     "data": {
      "image/png": "[encoded data removed]",
      "text/plain": [
       "<Figure size 864x360 with 1 Axes>"
      ]
     },
     "metadata": {
      "needs_background": "light"
     },
     "output_type": "display_data"
    }
   ],
   "source": [
    "fig, ax = plt.subplots(figsize=(12, 5))\n",
    "\n",
    "ax.set_title('Распределение интернет-трафика на тарифе Ультра')\n",
    "ax.set_xlabel('мегабайты');\n",
    "\n",
    "ax.hist(data=data_ultra, x='ceil_gb_used');"
   ]
  },
  {
   "cell_type": "markdown",
   "metadata": {},
   "source": [
    "### Вывод"
   ]
  },
  {
   "cell_type": "markdown",
   "metadata": {},
   "source": [
    "Методы построения графиков являются наглядной, но качественной оценкой нормальности распределения. На гистограммах звонков и интернет-трафика мы видим, что распределение не похоже на привычный \"колокол\" гауссовского распределения. Гистограмма сообщений похожа лишь на нисходящую часть \"колокола\".\n",
    "\n",
    "Для уточнения нормальности можно провести ряд статических тестов, но они также не могут однозначно определить - нормальное распределение или нет.\n",
    "\n",
    "Если одни методы показывают, что распределение похоже на гауссовское, а другие нет, то можно принять тот факт, что данные подобны нормальному распределению.\n",
    "\n",
    "Во многих ситуациях можно обрабатывать данные, как если бы они были гауссовскими. Поэтому и опираясь на гистограммы, будем считать распределения нормальными."
   ]
  },
  {
   "cell_type": "markdown",
   "metadata": {},
   "source": [
    "## Проверка гипотез"
   ]
  },
  {
   "cell_type": "markdown",
   "metadata": {},
   "source": [
    "Необходимо проверить 2 гипотезы:\n",
    "1. средняя выручка пользователей тарифов «Ультра» и «Смарт» различаются;\n",
    "2. средняя выручка пользователей из Москвы отличается от выручки пользователей из других регионов."
   ]
  },
  {
   "cell_type": "markdown",
   "metadata": {},
   "source": [
    "### средняя выручка пользователей тарифов «Ультра» и «Смарт» различаются"
   ]
  },
  {
   "cell_type": "markdown",
   "metadata": {},
   "source": [
    "#### Получение выборок из данных"
   ]
  },
  {
   "cell_type": "markdown",
   "metadata": {},
   "source": [
    "Будем сравнивать средние значения выручки разных тарифов. Поэтому необходимо разделить данные на 2 части по тарифу."
   ]
  },
  {
   "cell_type": "code",
   "execution_count": 66,
   "metadata": {},
   "outputs": [
    {
     "data": {
      "text/html": [
       "<div>\n",
       "<style scoped>\n",
       "    .dataframe tbody tr th:only-of-type {\n",
       "        vertical-align: middle;\n",
       "    }\n",
       "\n",
       "    .dataframe tbody tr th {\n",
       "        vertical-align: top;\n",
       "    }\n",
       "\n",
       "    .dataframe thead th {\n",
       "        text-align: right;\n",
       "    }\n",
       "</style>\n",
       "<table border=\"1\" class=\"dataframe\">\n",
       "  <thead>\n",
       "    <tr style=\"text-align: right;\">\n",
       "      <th></th>\n",
       "      <th>user_id</th>\n",
       "      <th>month</th>\n",
       "      <th>ceil_call_duration</th>\n",
       "      <th>calls_count</th>\n",
       "      <th>messages_count</th>\n",
       "      <th>ceil_gb_used</th>\n",
       "      <th>age</th>\n",
       "      <th>churn_date</th>\n",
       "      <th>city</th>\n",
       "      <th>first_name</th>\n",
       "      <th>...</th>\n",
       "      <th>reg_date</th>\n",
       "      <th>tariff</th>\n",
       "      <th>messages_included</th>\n",
       "      <th>mb_per_month_included</th>\n",
       "      <th>minutes_included</th>\n",
       "      <th>rub_monthly_fee</th>\n",
       "      <th>rub_per_gb</th>\n",
       "      <th>rub_per_message</th>\n",
       "      <th>rub_per_minute</th>\n",
       "      <th>proceed_per_month</th>\n",
       "    </tr>\n",
       "  </thead>\n",
       "  <tbody>\n",
       "    <tr>\n",
       "      <td>986</td>\n",
       "      <td>1001</td>\n",
       "      <td>11.00</td>\n",
       "      <td>430.00</td>\n",
       "      <td>59.00</td>\n",
       "      <td>0.00</td>\n",
       "      <td>47.00</td>\n",
       "      <td>41</td>\n",
       "      <td>NaT</td>\n",
       "      <td>Москва</td>\n",
       "      <td>Иван</td>\n",
       "      <td>...</td>\n",
       "      <td>2018-11-01</td>\n",
       "      <td>smart</td>\n",
       "      <td>50</td>\n",
       "      <td>15360</td>\n",
       "      <td>500</td>\n",
       "      <td>550</td>\n",
       "      <td>200</td>\n",
       "      <td>3</td>\n",
       "      <td>3</td>\n",
       "      <td>6,950.00</td>\n",
       "    </tr>\n",
       "    <tr>\n",
       "      <td>987</td>\n",
       "      <td>1001</td>\n",
       "      <td>12.00</td>\n",
       "      <td>414.00</td>\n",
       "      <td>63.00</td>\n",
       "      <td>0.00</td>\n",
       "      <td>35.00</td>\n",
       "      <td>41</td>\n",
       "      <td>NaT</td>\n",
       "      <td>Москва</td>\n",
       "      <td>Иван</td>\n",
       "      <td>...</td>\n",
       "      <td>2018-11-01</td>\n",
       "      <td>smart</td>\n",
       "      <td>50</td>\n",
       "      <td>15360</td>\n",
       "      <td>500</td>\n",
       "      <td>550</td>\n",
       "      <td>200</td>\n",
       "      <td>3</td>\n",
       "      <td>3</td>\n",
       "      <td>4,550.00</td>\n",
       "    </tr>\n",
       "    <tr>\n",
       "      <td>988</td>\n",
       "      <td>1002</td>\n",
       "      <td>6.00</td>\n",
       "      <td>117.00</td>\n",
       "      <td>15.00</td>\n",
       "      <td>4.00</td>\n",
       "      <td>27.00</td>\n",
       "      <td>59</td>\n",
       "      <td>NaT</td>\n",
       "      <td>Стерлитамак</td>\n",
       "      <td>Евгений</td>\n",
       "      <td>...</td>\n",
       "      <td>2018-06-17</td>\n",
       "      <td>smart</td>\n",
       "      <td>50</td>\n",
       "      <td>15360</td>\n",
       "      <td>500</td>\n",
       "      <td>550</td>\n",
       "      <td>200</td>\n",
       "      <td>3</td>\n",
       "      <td>3</td>\n",
       "      <td>2,950.00</td>\n",
       "    </tr>\n",
       "    <tr>\n",
       "      <td>989</td>\n",
       "      <td>1002</td>\n",
       "      <td>7.00</td>\n",
       "      <td>214.00</td>\n",
       "      <td>26.00</td>\n",
       "      <td>11.00</td>\n",
       "      <td>45.00</td>\n",
       "      <td>59</td>\n",
       "      <td>NaT</td>\n",
       "      <td>Стерлитамак</td>\n",
       "      <td>Евгений</td>\n",
       "      <td>...</td>\n",
       "      <td>2018-06-17</td>\n",
       "      <td>smart</td>\n",
       "      <td>50</td>\n",
       "      <td>15360</td>\n",
       "      <td>500</td>\n",
       "      <td>550</td>\n",
       "      <td>200</td>\n",
       "      <td>3</td>\n",
       "      <td>3</td>\n",
       "      <td>6,550.00</td>\n",
       "    </tr>\n",
       "    <tr>\n",
       "      <td>990</td>\n",
       "      <td>1002</td>\n",
       "      <td>8.00</td>\n",
       "      <td>289.00</td>\n",
       "      <td>42.00</td>\n",
       "      <td>13.00</td>\n",
       "      <td>50.00</td>\n",
       "      <td>59</td>\n",
       "      <td>NaT</td>\n",
       "      <td>Стерлитамак</td>\n",
       "      <td>Евгений</td>\n",
       "      <td>...</td>\n",
       "      <td>2018-06-17</td>\n",
       "      <td>smart</td>\n",
       "      <td>50</td>\n",
       "      <td>15360</td>\n",
       "      <td>500</td>\n",
       "      <td>550</td>\n",
       "      <td>200</td>\n",
       "      <td>3</td>\n",
       "      <td>3</td>\n",
       "      <td>7,550.00</td>\n",
       "    </tr>\n",
       "  </tbody>\n",
       "</table>\n",
       "<p>5 rows × 21 columns</p>\n",
       "</div>"
      ],
      "text/plain": [
       "     user_id  month  ceil_call_duration  calls_count  messages_count  \\\n",
       "986     1001  11.00              430.00        59.00            0.00   \n",
       "987     1001  12.00              414.00        63.00            0.00   \n",
       "988     1002   6.00              117.00        15.00            4.00   \n",
       "989     1002   7.00              214.00        26.00           11.00   \n",
       "990     1002   8.00              289.00        42.00           13.00   \n",
       "\n",
       "     ceil_gb_used  age churn_date         city first_name  ...   reg_date  \\\n",
       "986         47.00   41        NaT       Москва       Иван  ... 2018-11-01   \n",
       "987         35.00   41        NaT       Москва       Иван  ... 2018-11-01   \n",
       "988         27.00   59        NaT  Стерлитамак    Евгений  ... 2018-06-17   \n",
       "989         45.00   59        NaT  Стерлитамак    Евгений  ... 2018-06-17   \n",
       "990         50.00   59        NaT  Стерлитамак    Евгений  ... 2018-06-17   \n",
       "\n",
       "    tariff messages_included  mb_per_month_included  minutes_included  \\\n",
       "986  smart                50                  15360               500   \n",
       "987  smart                50                  15360               500   \n",
       "988  smart                50                  15360               500   \n",
       "989  smart                50                  15360               500   \n",
       "990  smart                50                  15360               500   \n",
       "\n",
       "     rub_monthly_fee  rub_per_gb  rub_per_message  rub_per_minute  \\\n",
       "986              550         200                3               3   \n",
       "987              550         200                3               3   \n",
       "988              550         200                3               3   \n",
       "989              550         200                3               3   \n",
       "990              550         200                3               3   \n",
       "\n",
       "     proceed_per_month  \n",
       "986           6,950.00  \n",
       "987           4,550.00  \n",
       "988           2,950.00  \n",
       "989           6,550.00  \n",
       "990           7,550.00  \n",
       "\n",
       "[5 rows x 21 columns]"
      ]
     },
     "execution_count": 66,
     "metadata": {},
     "output_type": "execute_result"
    }
   ],
   "source": [
    "data_smart = data[data['tariff'] == 'smart']\n",
    "data_smart.head()"
   ]
  },
  {
   "cell_type": "code",
   "execution_count": 67,
   "metadata": {},
   "outputs": [
    {
     "data": {
      "text/html": [
       "<div>\n",
       "<style scoped>\n",
       "    .dataframe tbody tr th:only-of-type {\n",
       "        vertical-align: middle;\n",
       "    }\n",
       "\n",
       "    .dataframe tbody tr th {\n",
       "        vertical-align: top;\n",
       "    }\n",
       "\n",
       "    .dataframe thead th {\n",
       "        text-align: right;\n",
       "    }\n",
       "</style>\n",
       "<table border=\"1\" class=\"dataframe\">\n",
       "  <thead>\n",
       "    <tr style=\"text-align: right;\">\n",
       "      <th></th>\n",
       "      <th>user_id</th>\n",
       "      <th>month</th>\n",
       "      <th>ceil_call_duration</th>\n",
       "      <th>calls_count</th>\n",
       "      <th>messages_count</th>\n",
       "      <th>ceil_gb_used</th>\n",
       "      <th>age</th>\n",
       "      <th>churn_date</th>\n",
       "      <th>city</th>\n",
       "      <th>first_name</th>\n",
       "      <th>...</th>\n",
       "      <th>reg_date</th>\n",
       "      <th>tariff</th>\n",
       "      <th>messages_included</th>\n",
       "      <th>mb_per_month_included</th>\n",
       "      <th>minutes_included</th>\n",
       "      <th>rub_monthly_fee</th>\n",
       "      <th>rub_per_gb</th>\n",
       "      <th>rub_per_message</th>\n",
       "      <th>rub_per_minute</th>\n",
       "      <th>proceed_per_month</th>\n",
       "    </tr>\n",
       "  </thead>\n",
       "  <tbody>\n",
       "    <tr>\n",
       "      <td>0</td>\n",
       "      <td>1000</td>\n",
       "      <td>5.00</td>\n",
       "      <td>159.00</td>\n",
       "      <td>22.00</td>\n",
       "      <td>22.00</td>\n",
       "      <td>4.00</td>\n",
       "      <td>52</td>\n",
       "      <td>NaT</td>\n",
       "      <td>Краснодар</td>\n",
       "      <td>Рафаил</td>\n",
       "      <td>...</td>\n",
       "      <td>2018-05-25</td>\n",
       "      <td>ultra</td>\n",
       "      <td>1000</td>\n",
       "      <td>30720</td>\n",
       "      <td>3000</td>\n",
       "      <td>1950</td>\n",
       "      <td>150</td>\n",
       "      <td>1</td>\n",
       "      <td>1</td>\n",
       "      <td>1,950.00</td>\n",
       "    </tr>\n",
       "    <tr>\n",
       "      <td>1</td>\n",
       "      <td>1000</td>\n",
       "      <td>6.00</td>\n",
       "      <td>172.00</td>\n",
       "      <td>43.00</td>\n",
       "      <td>60.00</td>\n",
       "      <td>49.00</td>\n",
       "      <td>52</td>\n",
       "      <td>NaT</td>\n",
       "      <td>Краснодар</td>\n",
       "      <td>Рафаил</td>\n",
       "      <td>...</td>\n",
       "      <td>2018-05-25</td>\n",
       "      <td>ultra</td>\n",
       "      <td>1000</td>\n",
       "      <td>30720</td>\n",
       "      <td>3000</td>\n",
       "      <td>1950</td>\n",
       "      <td>150</td>\n",
       "      <td>1</td>\n",
       "      <td>1</td>\n",
       "      <td>4,800.00</td>\n",
       "    </tr>\n",
       "    <tr>\n",
       "      <td>2</td>\n",
       "      <td>1000</td>\n",
       "      <td>7.00</td>\n",
       "      <td>340.00</td>\n",
       "      <td>47.00</td>\n",
       "      <td>75.00</td>\n",
       "      <td>28.00</td>\n",
       "      <td>52</td>\n",
       "      <td>NaT</td>\n",
       "      <td>Краснодар</td>\n",
       "      <td>Рафаил</td>\n",
       "      <td>...</td>\n",
       "      <td>2018-05-25</td>\n",
       "      <td>ultra</td>\n",
       "      <td>1000</td>\n",
       "      <td>30720</td>\n",
       "      <td>3000</td>\n",
       "      <td>1950</td>\n",
       "      <td>150</td>\n",
       "      <td>1</td>\n",
       "      <td>1</td>\n",
       "      <td>1,950.00</td>\n",
       "    </tr>\n",
       "    <tr>\n",
       "      <td>3</td>\n",
       "      <td>1000</td>\n",
       "      <td>8.00</td>\n",
       "      <td>408.00</td>\n",
       "      <td>52.00</td>\n",
       "      <td>81.00</td>\n",
       "      <td>27.00</td>\n",
       "      <td>52</td>\n",
       "      <td>NaT</td>\n",
       "      <td>Краснодар</td>\n",
       "      <td>Рафаил</td>\n",
       "      <td>...</td>\n",
       "      <td>2018-05-25</td>\n",
       "      <td>ultra</td>\n",
       "      <td>1000</td>\n",
       "      <td>30720</td>\n",
       "      <td>3000</td>\n",
       "      <td>1950</td>\n",
       "      <td>150</td>\n",
       "      <td>1</td>\n",
       "      <td>1</td>\n",
       "      <td>1,950.00</td>\n",
       "    </tr>\n",
       "    <tr>\n",
       "      <td>4</td>\n",
       "      <td>1000</td>\n",
       "      <td>9.00</td>\n",
       "      <td>466.00</td>\n",
       "      <td>58.00</td>\n",
       "      <td>57.00</td>\n",
       "      <td>26.00</td>\n",
       "      <td>52</td>\n",
       "      <td>NaT</td>\n",
       "      <td>Краснодар</td>\n",
       "      <td>Рафаил</td>\n",
       "      <td>...</td>\n",
       "      <td>2018-05-25</td>\n",
       "      <td>ultra</td>\n",
       "      <td>1000</td>\n",
       "      <td>30720</td>\n",
       "      <td>3000</td>\n",
       "      <td>1950</td>\n",
       "      <td>150</td>\n",
       "      <td>1</td>\n",
       "      <td>1</td>\n",
       "      <td>1,950.00</td>\n",
       "    </tr>\n",
       "  </tbody>\n",
       "</table>\n",
       "<p>5 rows × 21 columns</p>\n",
       "</div>"
      ],
      "text/plain": [
       "   user_id  month  ceil_call_duration  calls_count  messages_count  \\\n",
       "0     1000   5.00              159.00        22.00           22.00   \n",
       "1     1000   6.00              172.00        43.00           60.00   \n",
       "2     1000   7.00              340.00        47.00           75.00   \n",
       "3     1000   8.00              408.00        52.00           81.00   \n",
       "4     1000   9.00              466.00        58.00           57.00   \n",
       "\n",
       "   ceil_gb_used  age churn_date       city first_name  ...   reg_date tariff  \\\n",
       "0          4.00   52        NaT  Краснодар     Рафаил  ... 2018-05-25  ultra   \n",
       "1         49.00   52        NaT  Краснодар     Рафаил  ... 2018-05-25  ultra   \n",
       "2         28.00   52        NaT  Краснодар     Рафаил  ... 2018-05-25  ultra   \n",
       "3         27.00   52        NaT  Краснодар     Рафаил  ... 2018-05-25  ultra   \n",
       "4         26.00   52        NaT  Краснодар     Рафаил  ... 2018-05-25  ultra   \n",
       "\n",
       "  messages_included  mb_per_month_included  minutes_included  rub_monthly_fee  \\\n",
       "0              1000                  30720              3000             1950   \n",
       "1              1000                  30720              3000             1950   \n",
       "2              1000                  30720              3000             1950   \n",
       "3              1000                  30720              3000             1950   \n",
       "4              1000                  30720              3000             1950   \n",
       "\n",
       "   rub_per_gb  rub_per_message  rub_per_minute  proceed_per_month  \n",
       "0         150                1               1           1,950.00  \n",
       "1         150                1               1           4,800.00  \n",
       "2         150                1               1           1,950.00  \n",
       "3         150                1               1           1,950.00  \n",
       "4         150                1               1           1,950.00  \n",
       "\n",
       "[5 rows x 21 columns]"
      ]
     },
     "execution_count": 67,
     "metadata": {},
     "output_type": "execute_result"
    }
   ],
   "source": [
    "data_ultra = data[data['tariff'] == 'ultra']\n",
    "data_ultra.head()"
   ]
  },
  {
   "cell_type": "markdown",
   "metadata": {},
   "source": [
    "Выборки готовы. Перейдем к формированию гипотез."
   ]
  },
  {
   "cell_type": "markdown",
   "metadata": {},
   "source": [
    "#### Нулевая и альтернативная гипотезы"
   ]
  },
  {
   "cell_type": "markdown",
   "metadata": {},
   "source": [
    "Для проверки основной гипотезы о неравенстве средних выручки от пользователей разных тарифов сформируем нулевую и альтернативную гипотезы:\n",
    "\n",
    "- `H0`(нулевая гипотеза) - средняя выручка пользователей тарифов «Ультра» и «Смарт» равны;\n",
    "- `H1`(альтернативная гипотеза) - средняя выручка пользователей тарифов «Ультра» и «Смарт» НЕ равны.\n",
    "\n",
    "Так же для проверки нам понадобится определить пороговое значение <b>уровеня значимости</b>. Обозначим его `alpha` и примем равным `5%`."
   ]
  },
  {
   "cell_type": "code",
   "execution_count": 68,
   "metadata": {},
   "outputs": [],
   "source": [
    "alpha = 0.05"
   ]
  },
  {
   "cell_type": "markdown",
   "metadata": {},
   "source": [
    "#### Расчет и проверка условия"
   ]
  },
  {
   "cell_type": "markdown",
   "metadata": {},
   "source": [
    "В библиотеке `scipy` есть специальный метод, позволяющий оценить уровень значимости - `st.ttest_ind(arr_1, arr_2, equal_var=True)`, где `arr_1` и `arr_2` - выборки, а `equal_var`, равный по умолчанию `True`, это необязательный параметр, задающий считать ли равными дисперсии двух выборок."
   ]
  },
  {
   "cell_type": "markdown",
   "metadata": {},
   "source": [
    "Проверим равенство дисперсий тестом Бартлетта."
   ]
  },
  {
   "cell_type": "code",
   "execution_count": 69,
   "metadata": {},
   "outputs": [
    {
     "data": {
      "text/plain": [
       "BartlettResult(statistic=105.22344445305663, pvalue=1.0911125602537496e-24)"
      ]
     },
     "execution_count": 69,
     "metadata": {},
     "output_type": "execute_result"
    }
   ],
   "source": [
    "st.bartlett(data_smart['proceed_per_month'], data_ultra['proceed_per_month'])"
   ]
  },
  {
   "cell_type": "markdown",
   "metadata": {},
   "source": [
    "Очень маленькое значение рvalue предполагает, что выборки не имеют одинаковой дисперсии. Дисперсии отличаются более чем на 5%, значит принимаем `equal_var=False`."
   ]
  },
  {
   "cell_type": "code",
   "execution_count": 70,
   "metadata": {},
   "outputs": [],
   "source": [
    "results = st.ttest_ind(\n",
    "    data_smart['proceed_per_month'],\n",
    "    data_ultra['proceed_per_month'], equal_var=False)"
   ]
  },
  {
   "cell_type": "code",
   "execution_count": 71,
   "metadata": {},
   "outputs": [
    {
     "name": "stdout",
     "output_type": "stream",
     "text": [
      "p-value: 3.366123216919074e-132\n"
     ]
    }
   ],
   "source": [
    "print('p-value:', results.pvalue)"
   ]
  },
  {
   "cell_type": "markdown",
   "metadata": {},
   "source": [
    "Запишем условие, по которому отвергается или не отвергается нулевая гипотеза:"
   ]
  },
  {
   "cell_type": "code",
   "execution_count": 72,
   "metadata": {
    "scrolled": true
   },
   "outputs": [
    {
     "name": "stdout",
     "output_type": "stream",
     "text": [
      "Отвергаем нулевую гипотезу\n"
     ]
    }
   ],
   "source": [
    "if (results.pvalue < alpha):\n",
    "    print('Отвергаем нулевую гипотезу')\n",
    "else:\n",
    "    print('Не получилось отвергнуть нулевую гипотезу')"
   ]
  },
  {
   "cell_type": "code",
   "execution_count": 73,
   "metadata": {},
   "outputs": [
    {
     "data": {
      "text/plain": [
       "count    2,229.00\n",
       "mean     6,247.08\n",
       "std      2,893.72\n",
       "min        550.00\n",
       "25%      4,503.00\n",
       "50%      6,350.00\n",
       "75%      8,065.00\n",
       "max     19,370.00\n",
       "Name: proceed_per_month, dtype: float64"
      ]
     },
     "execution_count": 73,
     "metadata": {},
     "output_type": "execute_result"
    }
   ],
   "source": [
    "data_smart['proceed_per_month'].describe()"
   ]
  },
  {
   "cell_type": "code",
   "execution_count": 74,
   "metadata": {},
   "outputs": [
    {
     "data": {
      "text/plain": [
       "count      985.00\n",
       "mean     3,844.42\n",
       "std      2,166.14\n",
       "min      1,950.00\n",
       "25%      1,950.00\n",
       "50%      3,150.00\n",
       "75%      5,250.00\n",
       "max     12,150.00\n",
       "Name: proceed_per_month, dtype: float64"
      ]
     },
     "execution_count": 74,
     "metadata": {},
     "output_type": "execute_result"
    }
   ],
   "source": [
    "data_ultra['proceed_per_month'].describe()"
   ]
  },
  {
   "cell_type": "markdown",
   "metadata": {},
   "source": [
    "#### Вывод"
   ]
  },
  {
   "cell_type": "markdown",
   "metadata": {},
   "source": [
    "В результате мы отвергли нулевую гипотезу, по которой средние выручки пользователей двух разных тарифов равны (не различаются).\n",
    "Значит мы принимаем альтернативную гипотезу, по которой они различаются. Это значит, что есть основание полагать, что изначальная гипотеза \"средняя выручка пользователей тарифов «Ультра» и «Смарт» различаются\" верна. Средняя выручка от пользователей с тарифом `smart` выше."
   ]
  },
  {
   "cell_type": "markdown",
   "metadata": {},
   "source": [
    "### средняя выручка пользователей из Москвы отличается от выручки пользователей из других регионов."
   ]
  },
  {
   "cell_type": "markdown",
   "metadata": {},
   "source": [
    "#### Получение выборок из данных"
   ]
  },
  {
   "cell_type": "code",
   "execution_count": 75,
   "metadata": {},
   "outputs": [
    {
     "data": {
      "text/html": [
       "<div>\n",
       "<style scoped>\n",
       "    .dataframe tbody tr th:only-of-type {\n",
       "        vertical-align: middle;\n",
       "    }\n",
       "\n",
       "    .dataframe tbody tr th {\n",
       "        vertical-align: top;\n",
       "    }\n",
       "\n",
       "    .dataframe thead th {\n",
       "        text-align: right;\n",
       "    }\n",
       "</style>\n",
       "<table border=\"1\" class=\"dataframe\">\n",
       "  <thead>\n",
       "    <tr style=\"text-align: right;\">\n",
       "      <th></th>\n",
       "      <th>user_id</th>\n",
       "      <th>month</th>\n",
       "      <th>ceil_call_duration</th>\n",
       "      <th>calls_count</th>\n",
       "      <th>messages_count</th>\n",
       "      <th>ceil_gb_used</th>\n",
       "      <th>age</th>\n",
       "      <th>churn_date</th>\n",
       "      <th>city</th>\n",
       "      <th>first_name</th>\n",
       "      <th>...</th>\n",
       "      <th>reg_date</th>\n",
       "      <th>tariff</th>\n",
       "      <th>messages_included</th>\n",
       "      <th>mb_per_month_included</th>\n",
       "      <th>minutes_included</th>\n",
       "      <th>rub_monthly_fee</th>\n",
       "      <th>rub_per_gb</th>\n",
       "      <th>rub_per_message</th>\n",
       "      <th>rub_per_minute</th>\n",
       "      <th>proceed_per_month</th>\n",
       "    </tr>\n",
       "  </thead>\n",
       "  <tbody>\n",
       "    <tr>\n",
       "      <td>8</td>\n",
       "      <td>1003</td>\n",
       "      <td>8.00</td>\n",
       "      <td>380.00</td>\n",
       "      <td>55.00</td>\n",
       "      <td>37.00</td>\n",
       "      <td>14.00</td>\n",
       "      <td>23</td>\n",
       "      <td>NaT</td>\n",
       "      <td>Москва</td>\n",
       "      <td>Белла</td>\n",
       "      <td>...</td>\n",
       "      <td>2018-08-17</td>\n",
       "      <td>ultra</td>\n",
       "      <td>1000</td>\n",
       "      <td>30720</td>\n",
       "      <td>3000</td>\n",
       "      <td>1950</td>\n",
       "      <td>150</td>\n",
       "      <td>1</td>\n",
       "      <td>1</td>\n",
       "      <td>1,950.00</td>\n",
       "    </tr>\n",
       "    <tr>\n",
       "      <td>9</td>\n",
       "      <td>1003</td>\n",
       "      <td>9.00</td>\n",
       "      <td>961.00</td>\n",
       "      <td>134.00</td>\n",
       "      <td>91.00</td>\n",
       "      <td>23.00</td>\n",
       "      <td>23</td>\n",
       "      <td>NaT</td>\n",
       "      <td>Москва</td>\n",
       "      <td>Белла</td>\n",
       "      <td>...</td>\n",
       "      <td>2018-08-17</td>\n",
       "      <td>ultra</td>\n",
       "      <td>1000</td>\n",
       "      <td>30720</td>\n",
       "      <td>3000</td>\n",
       "      <td>1950</td>\n",
       "      <td>150</td>\n",
       "      <td>1</td>\n",
       "      <td>1</td>\n",
       "      <td>1,950.00</td>\n",
       "    </tr>\n",
       "    <tr>\n",
       "      <td>10</td>\n",
       "      <td>1003</td>\n",
       "      <td>10.00</td>\n",
       "      <td>855.00</td>\n",
       "      <td>108.00</td>\n",
       "      <td>83.00</td>\n",
       "      <td>28.00</td>\n",
       "      <td>23</td>\n",
       "      <td>NaT</td>\n",
       "      <td>Москва</td>\n",
       "      <td>Белла</td>\n",
       "      <td>...</td>\n",
       "      <td>2018-08-17</td>\n",
       "      <td>ultra</td>\n",
       "      <td>1000</td>\n",
       "      <td>30720</td>\n",
       "      <td>3000</td>\n",
       "      <td>1950</td>\n",
       "      <td>150</td>\n",
       "      <td>1</td>\n",
       "      <td>1</td>\n",
       "      <td>1,950.00</td>\n",
       "    </tr>\n",
       "    <tr>\n",
       "      <td>11</td>\n",
       "      <td>1003</td>\n",
       "      <td>11.00</td>\n",
       "      <td>824.00</td>\n",
       "      <td>115.00</td>\n",
       "      <td>94.00</td>\n",
       "      <td>20.00</td>\n",
       "      <td>23</td>\n",
       "      <td>NaT</td>\n",
       "      <td>Москва</td>\n",
       "      <td>Белла</td>\n",
       "      <td>...</td>\n",
       "      <td>2018-08-17</td>\n",
       "      <td>ultra</td>\n",
       "      <td>1000</td>\n",
       "      <td>30720</td>\n",
       "      <td>3000</td>\n",
       "      <td>1950</td>\n",
       "      <td>150</td>\n",
       "      <td>1</td>\n",
       "      <td>1</td>\n",
       "      <td>1,950.00</td>\n",
       "    </tr>\n",
       "    <tr>\n",
       "      <td>12</td>\n",
       "      <td>1003</td>\n",
       "      <td>12.00</td>\n",
       "      <td>802.00</td>\n",
       "      <td>108.00</td>\n",
       "      <td>75.00</td>\n",
       "      <td>21.00</td>\n",
       "      <td>23</td>\n",
       "      <td>NaT</td>\n",
       "      <td>Москва</td>\n",
       "      <td>Белла</td>\n",
       "      <td>...</td>\n",
       "      <td>2018-08-17</td>\n",
       "      <td>ultra</td>\n",
       "      <td>1000</td>\n",
       "      <td>30720</td>\n",
       "      <td>3000</td>\n",
       "      <td>1950</td>\n",
       "      <td>150</td>\n",
       "      <td>1</td>\n",
       "      <td>1</td>\n",
       "      <td>1,950.00</td>\n",
       "    </tr>\n",
       "  </tbody>\n",
       "</table>\n",
       "<p>5 rows × 21 columns</p>\n",
       "</div>"
      ],
      "text/plain": [
       "    user_id  month  ceil_call_duration  calls_count  messages_count  \\\n",
       "8      1003   8.00              380.00        55.00           37.00   \n",
       "9      1003   9.00              961.00       134.00           91.00   \n",
       "10     1003  10.00              855.00       108.00           83.00   \n",
       "11     1003  11.00              824.00       115.00           94.00   \n",
       "12     1003  12.00              802.00       108.00           75.00   \n",
       "\n",
       "    ceil_gb_used  age churn_date    city first_name  ...   reg_date tariff  \\\n",
       "8          14.00   23        NaT  Москва      Белла  ... 2018-08-17  ultra   \n",
       "9          23.00   23        NaT  Москва      Белла  ... 2018-08-17  ultra   \n",
       "10         28.00   23        NaT  Москва      Белла  ... 2018-08-17  ultra   \n",
       "11         20.00   23        NaT  Москва      Белла  ... 2018-08-17  ultra   \n",
       "12         21.00   23        NaT  Москва      Белла  ... 2018-08-17  ultra   \n",
       "\n",
       "   messages_included  mb_per_month_included  minutes_included  \\\n",
       "8               1000                  30720              3000   \n",
       "9               1000                  30720              3000   \n",
       "10              1000                  30720              3000   \n",
       "11              1000                  30720              3000   \n",
       "12              1000                  30720              3000   \n",
       "\n",
       "    rub_monthly_fee  rub_per_gb  rub_per_message  rub_per_minute  \\\n",
       "8              1950         150                1               1   \n",
       "9              1950         150                1               1   \n",
       "10             1950         150                1               1   \n",
       "11             1950         150                1               1   \n",
       "12             1950         150                1               1   \n",
       "\n",
       "    proceed_per_month  \n",
       "8            1,950.00  \n",
       "9            1,950.00  \n",
       "10           1,950.00  \n",
       "11           1,950.00  \n",
       "12           1,950.00  \n",
       "\n",
       "[5 rows x 21 columns]"
      ]
     },
     "execution_count": 75,
     "metadata": {},
     "output_type": "execute_result"
    }
   ],
   "source": [
    "data_moscow = data[data['city'] == 'Москва']\n",
    "data_moscow.head()"
   ]
  },
  {
   "cell_type": "code",
   "execution_count": 76,
   "metadata": {},
   "outputs": [
    {
     "data": {
      "text/html": [
       "<div>\n",
       "<style scoped>\n",
       "    .dataframe tbody tr th:only-of-type {\n",
       "        vertical-align: middle;\n",
       "    }\n",
       "\n",
       "    .dataframe tbody tr th {\n",
       "        vertical-align: top;\n",
       "    }\n",
       "\n",
       "    .dataframe thead th {\n",
       "        text-align: right;\n",
       "    }\n",
       "</style>\n",
       "<table border=\"1\" class=\"dataframe\">\n",
       "  <thead>\n",
       "    <tr style=\"text-align: right;\">\n",
       "      <th></th>\n",
       "      <th>user_id</th>\n",
       "      <th>month</th>\n",
       "      <th>ceil_call_duration</th>\n",
       "      <th>calls_count</th>\n",
       "      <th>messages_count</th>\n",
       "      <th>ceil_gb_used</th>\n",
       "      <th>age</th>\n",
       "      <th>churn_date</th>\n",
       "      <th>city</th>\n",
       "      <th>first_name</th>\n",
       "      <th>...</th>\n",
       "      <th>reg_date</th>\n",
       "      <th>tariff</th>\n",
       "      <th>messages_included</th>\n",
       "      <th>mb_per_month_included</th>\n",
       "      <th>minutes_included</th>\n",
       "      <th>rub_monthly_fee</th>\n",
       "      <th>rub_per_gb</th>\n",
       "      <th>rub_per_message</th>\n",
       "      <th>rub_per_minute</th>\n",
       "      <th>proceed_per_month</th>\n",
       "    </tr>\n",
       "  </thead>\n",
       "  <tbody>\n",
       "    <tr>\n",
       "      <td>0</td>\n",
       "      <td>1000</td>\n",
       "      <td>5.00</td>\n",
       "      <td>159.00</td>\n",
       "      <td>22.00</td>\n",
       "      <td>22.00</td>\n",
       "      <td>4.00</td>\n",
       "      <td>52</td>\n",
       "      <td>NaT</td>\n",
       "      <td>Краснодар</td>\n",
       "      <td>Рафаил</td>\n",
       "      <td>...</td>\n",
       "      <td>2018-05-25</td>\n",
       "      <td>ultra</td>\n",
       "      <td>1000</td>\n",
       "      <td>30720</td>\n",
       "      <td>3000</td>\n",
       "      <td>1950</td>\n",
       "      <td>150</td>\n",
       "      <td>1</td>\n",
       "      <td>1</td>\n",
       "      <td>1,950.00</td>\n",
       "    </tr>\n",
       "    <tr>\n",
       "      <td>1</td>\n",
       "      <td>1000</td>\n",
       "      <td>6.00</td>\n",
       "      <td>172.00</td>\n",
       "      <td>43.00</td>\n",
       "      <td>60.00</td>\n",
       "      <td>49.00</td>\n",
       "      <td>52</td>\n",
       "      <td>NaT</td>\n",
       "      <td>Краснодар</td>\n",
       "      <td>Рафаил</td>\n",
       "      <td>...</td>\n",
       "      <td>2018-05-25</td>\n",
       "      <td>ultra</td>\n",
       "      <td>1000</td>\n",
       "      <td>30720</td>\n",
       "      <td>3000</td>\n",
       "      <td>1950</td>\n",
       "      <td>150</td>\n",
       "      <td>1</td>\n",
       "      <td>1</td>\n",
       "      <td>4,800.00</td>\n",
       "    </tr>\n",
       "    <tr>\n",
       "      <td>2</td>\n",
       "      <td>1000</td>\n",
       "      <td>7.00</td>\n",
       "      <td>340.00</td>\n",
       "      <td>47.00</td>\n",
       "      <td>75.00</td>\n",
       "      <td>28.00</td>\n",
       "      <td>52</td>\n",
       "      <td>NaT</td>\n",
       "      <td>Краснодар</td>\n",
       "      <td>Рафаил</td>\n",
       "      <td>...</td>\n",
       "      <td>2018-05-25</td>\n",
       "      <td>ultra</td>\n",
       "      <td>1000</td>\n",
       "      <td>30720</td>\n",
       "      <td>3000</td>\n",
       "      <td>1950</td>\n",
       "      <td>150</td>\n",
       "      <td>1</td>\n",
       "      <td>1</td>\n",
       "      <td>1,950.00</td>\n",
       "    </tr>\n",
       "    <tr>\n",
       "      <td>3</td>\n",
       "      <td>1000</td>\n",
       "      <td>8.00</td>\n",
       "      <td>408.00</td>\n",
       "      <td>52.00</td>\n",
       "      <td>81.00</td>\n",
       "      <td>27.00</td>\n",
       "      <td>52</td>\n",
       "      <td>NaT</td>\n",
       "      <td>Краснодар</td>\n",
       "      <td>Рафаил</td>\n",
       "      <td>...</td>\n",
       "      <td>2018-05-25</td>\n",
       "      <td>ultra</td>\n",
       "      <td>1000</td>\n",
       "      <td>30720</td>\n",
       "      <td>3000</td>\n",
       "      <td>1950</td>\n",
       "      <td>150</td>\n",
       "      <td>1</td>\n",
       "      <td>1</td>\n",
       "      <td>1,950.00</td>\n",
       "    </tr>\n",
       "    <tr>\n",
       "      <td>4</td>\n",
       "      <td>1000</td>\n",
       "      <td>9.00</td>\n",
       "      <td>466.00</td>\n",
       "      <td>58.00</td>\n",
       "      <td>57.00</td>\n",
       "      <td>26.00</td>\n",
       "      <td>52</td>\n",
       "      <td>NaT</td>\n",
       "      <td>Краснодар</td>\n",
       "      <td>Рафаил</td>\n",
       "      <td>...</td>\n",
       "      <td>2018-05-25</td>\n",
       "      <td>ultra</td>\n",
       "      <td>1000</td>\n",
       "      <td>30720</td>\n",
       "      <td>3000</td>\n",
       "      <td>1950</td>\n",
       "      <td>150</td>\n",
       "      <td>1</td>\n",
       "      <td>1</td>\n",
       "      <td>1,950.00</td>\n",
       "    </tr>\n",
       "  </tbody>\n",
       "</table>\n",
       "<p>5 rows × 21 columns</p>\n",
       "</div>"
      ],
      "text/plain": [
       "   user_id  month  ceil_call_duration  calls_count  messages_count  \\\n",
       "0     1000   5.00              159.00        22.00           22.00   \n",
       "1     1000   6.00              172.00        43.00           60.00   \n",
       "2     1000   7.00              340.00        47.00           75.00   \n",
       "3     1000   8.00              408.00        52.00           81.00   \n",
       "4     1000   9.00              466.00        58.00           57.00   \n",
       "\n",
       "   ceil_gb_used  age churn_date       city first_name  ...   reg_date tariff  \\\n",
       "0          4.00   52        NaT  Краснодар     Рафаил  ... 2018-05-25  ultra   \n",
       "1         49.00   52        NaT  Краснодар     Рафаил  ... 2018-05-25  ultra   \n",
       "2         28.00   52        NaT  Краснодар     Рафаил  ... 2018-05-25  ultra   \n",
       "3         27.00   52        NaT  Краснодар     Рафаил  ... 2018-05-25  ultra   \n",
       "4         26.00   52        NaT  Краснодар     Рафаил  ... 2018-05-25  ultra   \n",
       "\n",
       "  messages_included  mb_per_month_included  minutes_included  rub_monthly_fee  \\\n",
       "0              1000                  30720              3000             1950   \n",
       "1              1000                  30720              3000             1950   \n",
       "2              1000                  30720              3000             1950   \n",
       "3              1000                  30720              3000             1950   \n",
       "4              1000                  30720              3000             1950   \n",
       "\n",
       "   rub_per_gb  rub_per_message  rub_per_minute  proceed_per_month  \n",
       "0         150                1               1           1,950.00  \n",
       "1         150                1               1           4,800.00  \n",
       "2         150                1               1           1,950.00  \n",
       "3         150                1               1           1,950.00  \n",
       "4         150                1               1           1,950.00  \n",
       "\n",
       "[5 rows x 21 columns]"
      ]
     },
     "execution_count": 76,
     "metadata": {},
     "output_type": "execute_result"
    }
   ],
   "source": [
    "data_wo_moscow = data[data['city'] != 'Москва']\n",
    "data_wo_moscow.head()"
   ]
  },
  {
   "cell_type": "markdown",
   "metadata": {},
   "source": [
    "#### Нулевая и альтернативная гипотезы"
   ]
  },
  {
   "cell_type": "markdown",
   "metadata": {},
   "source": [
    "- `H0`(нулевая гипотеза) - средняя выручка пользователей из Москвы равна выручке пользователей из других регионов;\n",
    "- `H1`(альтернативная гипотеза) - средняя выручка пользователей из Москвы НЕ равна выручке пользователей из других регионов.\n",
    "\n",
    "<b>Уровень значимости</b> `alpha_1`. Примем равным `5%`."
   ]
  },
  {
   "cell_type": "code",
   "execution_count": 77,
   "metadata": {},
   "outputs": [],
   "source": [
    "alpha_1 = 0.05"
   ]
  },
  {
   "cell_type": "markdown",
   "metadata": {},
   "source": [
    "#### Расчет и проверка условия"
   ]
  },
  {
   "cell_type": "code",
   "execution_count": 78,
   "metadata": {},
   "outputs": [
    {
     "data": {
      "text/plain": [
       "BartlettResult(statistic=9.205413937109192, pvalue=0.0024130042809939536)"
      ]
     },
     "execution_count": 78,
     "metadata": {},
     "output_type": "execute_result"
    }
   ],
   "source": [
    "st.bartlett(data_moscow['proceed_per_month'], data_wo_moscow['proceed_per_month'])"
   ]
  },
  {
   "cell_type": "markdown",
   "metadata": {},
   "source": [
    "Принимаем `equal_var=False`."
   ]
  },
  {
   "cell_type": "code",
   "execution_count": 79,
   "metadata": {},
   "outputs": [],
   "source": [
    "results_msk = st.ttest_ind(\n",
    "    data_moscow['proceed_per_month'],\n",
    "    data_wo_moscow['proceed_per_month'], equal_var=False)"
   ]
  },
  {
   "cell_type": "code",
   "execution_count": 80,
   "metadata": {},
   "outputs": [
    {
     "name": "stdout",
     "output_type": "stream",
     "text": [
      "p-value: 0.25438147756433427\n"
     ]
    }
   ],
   "source": [
    "print('p-value:', results_msk.pvalue)"
   ]
  },
  {
   "cell_type": "code",
   "execution_count": 81,
   "metadata": {
    "scrolled": true
   },
   "outputs": [
    {
     "name": "stdout",
     "output_type": "stream",
     "text": [
      "Не получилось отвергнуть нулевую гипотезу\n"
     ]
    }
   ],
   "source": [
    "if (results_msk.pvalue < alpha_1):\n",
    "    print('Отвергаем нулевую гипотезу')\n",
    "else:\n",
    "    print('Не получилось отвергнуть нулевую гипотезу')"
   ]
  },
  {
   "cell_type": "code",
   "execution_count": 82,
   "metadata": {},
   "outputs": [
    {
     "data": {
      "text/plain": [
       "count      611.00\n",
       "mean     5,397.04\n",
       "std      2,683.24\n",
       "min        550.00\n",
       "25%      3,300.00\n",
       "50%      5,350.00\n",
       "75%      7,185.50\n",
       "max     17,121.00\n",
       "Name: proceed_per_month, dtype: float64"
      ]
     },
     "execution_count": 82,
     "metadata": {},
     "output_type": "execute_result"
    }
   ],
   "source": [
    "data_moscow['proceed_per_month'].describe()"
   ]
  },
  {
   "cell_type": "code",
   "execution_count": 83,
   "metadata": {},
   "outputs": [
    {
     "data": {
      "text/plain": [
       "count    2,603.00\n",
       "mean     5,537.42\n",
       "std      2,961.15\n",
       "min        550.00\n",
       "25%      2,950.00\n",
       "50%      5,550.00\n",
       "75%      7,558.50\n",
       "max     19,370.00\n",
       "Name: proceed_per_month, dtype: float64"
      ]
     },
     "execution_count": 83,
     "metadata": {},
     "output_type": "execute_result"
    }
   ],
   "source": [
    "data_wo_moscow['proceed_per_month'].describe()"
   ]
  },
  {
   "cell_type": "markdown",
   "metadata": {},
   "source": [
    "#### Вывод"
   ]
  },
  {
   "cell_type": "markdown",
   "metadata": {},
   "source": [
    "В результате не получилось отвергнуть нулевую гипотезу, по которой средние выручки пользователей из Москвы и остальных регионов равны (не различаются). Значит есть основание предполагать, что эта гипотеза верна."
   ]
  },
  {
   "cell_type": "markdown",
   "metadata": {},
   "source": [
    "## Вывод"
   ]
  },
  {
   "cell_type": "markdown",
   "metadata": {},
   "source": [
    "В результате анализа данных мы увидели, что распределение звонков и интернет трафика приближенно к нормальному. Сообщения имеют вид нисходящего распределения. Это можно объяснить тем, что сообщениями со временем клиенты пользуются все реже. Чаще всего люди либо звонят, либо общаются в социальных сетях и мессенджерах через интернет.\n",
    "\n",
    "Проверка гипотез дала нам основания предполагать, что:\n",
    "- средняя выручка пользователей тарифов «Ультра» и «Смарт» различаются. Сравнив средние значения выручки статических характеристик выборок данных с разными тарифами оказалось, что средняя выручка с услуг клиентов с тарифом `smart` больше. Это можно объяснить тем, что пользователи при выборе тарифа чаще всего останавливаются на том, который дешевле и включается в себя достаточное количество минут для разговоров, минимум сообщений и объём интернет-трафика, достаточного для пользования социальными сетями и компенсированием общения сообщениями через мессенджеры;\n",
    "- средние выручки пользователей из Москвы и остальных регионов равны. По средним значениям статических характеристик видно, что они примерно одинаковые на момент выгрузки данных.\n",
    "\n",
    "Таким образом, по результатам исследования можно сделать вывод о том, что тариф \"Смарт\" наиболее привлекателен для пользователей разных городов (миллионников, средних и малых) и, соответственно, оказался наиболее прибыльнее."
   ]
  }
 ],
 "metadata": {
  "ExecuteTimeLog": [
   {
    "duration": 677,
    "start_time": "2021-12-25T17:36:02.745Z"
   },
   {
    "duration": 193,
    "start_time": "2021-12-25T17:37:51.816Z"
   },
   {
    "duration": 141,
    "start_time": "2021-12-25T17:38:47.497Z"
   },
   {
    "duration": 120,
    "start_time": "2021-12-25T17:39:30.050Z"
   },
   {
    "duration": 22,
    "start_time": "2021-12-25T17:40:36.899Z"
   },
   {
    "duration": 40,
    "start_time": "2021-12-25T17:41:06.732Z"
   },
   {
    "duration": 27196,
    "start_time": "2021-12-25T17:53:52.389Z"
   },
   {
    "duration": 328,
    "start_time": "2021-12-25T17:56:47.333Z"
   },
   {
    "duration": 414,
    "start_time": "2021-12-25T17:59:26.639Z"
   },
   {
    "duration": 38,
    "start_time": "2021-12-25T18:00:16.924Z"
   },
   {
    "duration": 42,
    "start_time": "2021-12-25T18:01:14.557Z"
   },
   {
    "duration": 28,
    "start_time": "2021-12-25T18:02:21.190Z"
   },
   {
    "duration": 35,
    "start_time": "2021-12-25T18:02:25.206Z"
   },
   {
    "duration": 33,
    "start_time": "2021-12-25T18:02:28.648Z"
   },
   {
    "duration": 21,
    "start_time": "2021-12-25T18:03:41.416Z"
   },
   {
    "duration": 29,
    "start_time": "2021-12-25T18:03:45.504Z"
   },
   {
    "duration": 28,
    "start_time": "2021-12-25T18:03:59.185Z"
   },
   {
    "duration": 31,
    "start_time": "2021-12-25T18:04:28.185Z"
   },
   {
    "duration": 24,
    "start_time": "2021-12-25T18:04:35.486Z"
   },
   {
    "duration": 224,
    "start_time": "2021-12-25T18:07:54.391Z"
   },
   {
    "duration": 5,
    "start_time": "2021-12-25T18:07:58.238Z"
   },
   {
    "duration": 407,
    "start_time": "2021-12-25T18:08:08.133Z"
   },
   {
    "duration": 14,
    "start_time": "2021-12-25T18:08:19.901Z"
   },
   {
    "duration": 226,
    "start_time": "2021-12-25T18:08:34.881Z"
   },
   {
    "duration": 93,
    "start_time": "2021-12-25T18:08:43.407Z"
   },
   {
    "duration": 6,
    "start_time": "2021-12-25T18:08:47.274Z"
   },
   {
    "duration": 5,
    "start_time": "2021-12-25T18:08:54.935Z"
   },
   {
    "duration": 4,
    "start_time": "2021-12-25T18:08:59.144Z"
   },
   {
    "duration": 4,
    "start_time": "2021-12-25T18:09:11.719Z"
   },
   {
    "duration": 5,
    "start_time": "2021-12-25T18:09:40.319Z"
   },
   {
    "duration": 220,
    "start_time": "2021-12-25T18:10:54.097Z"
   },
   {
    "duration": 17418,
    "start_time": "2021-12-25T18:11:36.634Z"
   },
   {
    "duration": 17914,
    "start_time": "2021-12-25T18:12:06.058Z"
   },
   {
    "duration": 6,
    "start_time": "2021-12-25T18:12:36.499Z"
   },
   {
    "duration": 10,
    "start_time": "2021-12-25T18:12:44.443Z"
   },
   {
    "duration": 2,
    "start_time": "2021-12-25T18:14:03.077Z"
   },
   {
    "duration": 1057,
    "start_time": "2021-12-25T18:14:11.197Z"
   },
   {
    "duration": 2,
    "start_time": "2021-12-25T18:14:19.005Z"
   },
   {
    "duration": 17740,
    "start_time": "2021-12-25T18:14:19.828Z"
   },
   {
    "duration": 647,
    "start_time": "2021-12-25T18:14:41.782Z"
   },
   {
    "duration": 183,
    "start_time": "2021-12-25T18:14:42.432Z"
   },
   {
    "duration": 5,
    "start_time": "2021-12-25T18:14:42.618Z"
   },
   {
    "duration": 15,
    "start_time": "2021-12-25T18:14:42.625Z"
   },
   {
    "duration": 17567,
    "start_time": "2021-12-25T18:14:42.642Z"
   },
   {
    "duration": 9,
    "start_time": "2021-12-25T18:15:00.211Z"
   },
   {
    "duration": 158,
    "start_time": "2021-12-25T18:15:00.222Z"
   },
   {
    "duration": 98,
    "start_time": "2021-12-25T18:15:00.383Z"
   },
   {
    "duration": 24,
    "start_time": "2021-12-25T18:15:00.484Z"
   },
   {
    "duration": 41,
    "start_time": "2021-12-25T18:15:00.510Z"
   },
   {
    "duration": 28,
    "start_time": "2021-12-25T18:15:00.553Z"
   },
   {
    "duration": 33,
    "start_time": "2021-12-25T18:15:00.584Z"
   },
   {
    "duration": 24,
    "start_time": "2021-12-25T18:15:00.618Z"
   },
   {
    "duration": 29,
    "start_time": "2021-12-25T18:15:00.644Z"
   },
   {
    "duration": 13022,
    "start_time": "2021-12-25T18:15:44.178Z"
   },
   {
    "duration": 12,
    "start_time": "2021-12-25T18:15:57.858Z"
   },
   {
    "duration": 10268,
    "start_time": "2021-12-25T18:16:31.555Z"
   },
   {
    "duration": 7,
    "start_time": "2021-12-25T18:16:41.825Z"
   },
   {
    "duration": 22,
    "start_time": "2021-12-25T18:16:48.904Z"
   },
   {
    "duration": 36,
    "start_time": "2021-12-25T18:16:51.986Z"
   },
   {
    "duration": 18,
    "start_time": "2021-12-25T18:16:57.011Z"
   },
   {
    "duration": 24,
    "start_time": "2021-12-25T18:16:58.290Z"
   },
   {
    "duration": 16,
    "start_time": "2021-12-25T18:16:59.224Z"
   },
   {
    "duration": 20,
    "start_time": "2021-12-25T18:17:06.722Z"
   },
   {
    "duration": 12,
    "start_time": "2021-12-25T18:17:13.946Z"
   },
   {
    "duration": 26,
    "start_time": "2021-12-25T18:17:35.708Z"
   },
   {
    "duration": 23,
    "start_time": "2021-12-25T18:17:56.444Z"
   },
   {
    "duration": 18,
    "start_time": "2021-12-25T18:17:56.892Z"
   },
   {
    "duration": 374,
    "start_time": "2021-12-25T18:17:57.300Z"
   },
   {
    "duration": 10,
    "start_time": "2021-12-25T18:18:22.412Z"
   },
   {
    "duration": 34,
    "start_time": "2021-12-25T18:18:28.865Z"
   },
   {
    "duration": 32,
    "start_time": "2021-12-25T18:18:51.341Z"
   },
   {
    "duration": 23,
    "start_time": "2021-12-25T18:19:04.229Z"
   },
   {
    "duration": 20,
    "start_time": "2021-12-25T18:19:15.374Z"
   },
   {
    "duration": 226,
    "start_time": "2021-12-25T18:20:01.103Z"
   },
   {
    "duration": 4,
    "start_time": "2021-12-25T18:21:03.983Z"
   },
   {
    "duration": 233,
    "start_time": "2021-12-25T18:21:26.496Z"
   },
   {
    "duration": 227,
    "start_time": "2021-12-25T18:21:34.752Z"
   },
   {
    "duration": 15,
    "start_time": "2021-12-25T18:22:56.970Z"
   },
   {
    "duration": 12,
    "start_time": "2021-12-25T18:23:21.027Z"
   },
   {
    "duration": 299,
    "start_time": "2021-12-25T18:28:18.971Z"
   },
   {
    "duration": 16,
    "start_time": "2021-12-25T18:28:20.153Z"
   },
   {
    "duration": 16,
    "start_time": "2021-12-25T18:28:40.984Z"
   },
   {
    "duration": 316,
    "start_time": "2021-12-25T18:28:41.424Z"
   },
   {
    "duration": 18,
    "start_time": "2021-12-25T18:28:42.537Z"
   },
   {
    "duration": 18,
    "start_time": "2021-12-25T18:28:55.345Z"
   },
   {
    "duration": 12,
    "start_time": "2021-12-25T18:28:56.425Z"
   },
   {
    "duration": 13,
    "start_time": "2021-12-25T18:29:14.689Z"
   },
   {
    "duration": 268,
    "start_time": "2021-12-25T18:30:14.715Z"
   },
   {
    "duration": 267,
    "start_time": "2021-12-25T18:32:37.390Z"
   },
   {
    "duration": 215,
    "start_time": "2021-12-25T18:35:16.449Z"
   },
   {
    "duration": 207,
    "start_time": "2021-12-25T18:39:33.976Z"
   },
   {
    "duration": 10,
    "start_time": "2021-12-25T18:39:52.815Z"
   },
   {
    "duration": 10,
    "start_time": "2021-12-25T18:40:16.871Z"
   },
   {
    "duration": 7,
    "start_time": "2021-12-25T18:40:36.665Z"
   },
   {
    "duration": 15,
    "start_time": "2021-12-25T18:40:40.712Z"
   },
   {
    "duration": 233,
    "start_time": "2021-12-25T18:41:03.192Z"
   },
   {
    "duration": 14,
    "start_time": "2021-12-25T18:41:17.097Z"
   },
   {
    "duration": 9,
    "start_time": "2021-12-25T18:41:25.905Z"
   },
   {
    "duration": 16,
    "start_time": "2021-12-25T18:41:49.641Z"
   },
   {
    "duration": 11,
    "start_time": "2021-12-25T18:41:55.761Z"
   },
   {
    "duration": 8,
    "start_time": "2021-12-25T18:42:01.050Z"
   },
   {
    "duration": 9,
    "start_time": "2021-12-25T18:42:16.098Z"
   },
   {
    "duration": 13,
    "start_time": "2021-12-25T18:42:16.858Z"
   },
   {
    "duration": 206,
    "start_time": "2021-12-25T18:43:21.220Z"
   },
   {
    "duration": 8,
    "start_time": "2021-12-25T18:43:39.851Z"
   },
   {
    "duration": 19,
    "start_time": "2021-12-25T18:43:42.796Z"
   },
   {
    "duration": 12,
    "start_time": "2021-12-25T18:48:30.418Z"
   },
   {
    "duration": 17,
    "start_time": "2021-12-25T18:48:38.153Z"
   },
   {
    "duration": 222,
    "start_time": "2021-12-25T18:49:09.259Z"
   },
   {
    "duration": 211,
    "start_time": "2021-12-25T18:49:20.418Z"
   },
   {
    "duration": 7,
    "start_time": "2021-12-25T18:49:45.987Z"
   },
   {
    "duration": 11,
    "start_time": "2021-12-25T18:49:46.776Z"
   },
   {
    "duration": 253,
    "start_time": "2021-12-25T18:49:47.540Z"
   },
   {
    "duration": 13,
    "start_time": "2021-12-25T18:49:56.028Z"
   },
   {
    "duration": 20,
    "start_time": "2021-12-25T18:49:58.404Z"
   },
   {
    "duration": 358,
    "start_time": "2022-01-12T05:28:14.243Z"
   },
   {
    "duration": 749,
    "start_time": "2022-01-12T05:28:20.921Z"
   },
   {
    "duration": 215,
    "start_time": "2022-01-12T05:28:21.673Z"
   },
   {
    "duration": 6,
    "start_time": "2022-01-12T05:28:21.891Z"
   },
   {
    "duration": 6,
    "start_time": "2022-01-12T05:28:21.900Z"
   },
   {
    "duration": 31332,
    "start_time": "2022-01-12T05:28:21.908Z"
   },
   {
    "duration": 18,
    "start_time": "2022-01-12T05:28:53.243Z"
   },
   {
    "duration": 180,
    "start_time": "2022-01-12T05:28:53.263Z"
   },
   {
    "duration": 23923,
    "start_time": "2022-01-12T05:28:53.445Z"
   },
   {
    "duration": 12,
    "start_time": "2022-01-12T05:29:17.373Z"
   },
   {
    "duration": 138,
    "start_time": "2022-01-12T05:29:17.388Z"
   },
   {
    "duration": 19424,
    "start_time": "2022-01-12T05:29:17.528Z"
   },
   {
    "duration": 11,
    "start_time": "2022-01-12T05:29:36.955Z"
   },
   {
    "duration": 26,
    "start_time": "2022-01-12T05:29:36.968Z"
   },
   {
    "duration": 38,
    "start_time": "2022-01-12T05:29:36.996Z"
   },
   {
    "duration": 38,
    "start_time": "2022-01-12T05:29:37.036Z"
   },
   {
    "duration": 17,
    "start_time": "2022-01-12T05:29:37.076Z"
   },
   {
    "duration": 20,
    "start_time": "2022-01-12T05:29:37.096Z"
   },
   {
    "duration": 43,
    "start_time": "2022-01-12T05:29:37.118Z"
   },
   {
    "duration": 15,
    "start_time": "2022-01-12T05:29:37.163Z"
   },
   {
    "duration": 15,
    "start_time": "2022-01-12T05:29:37.180Z"
   },
   {
    "duration": 70,
    "start_time": "2022-01-12T05:29:37.197Z"
   },
   {
    "duration": 12,
    "start_time": "2022-01-12T05:29:37.270Z"
   },
   {
    "duration": 35,
    "start_time": "2022-01-12T05:38:04.073Z"
   },
   {
    "duration": 34,
    "start_time": "2022-01-12T05:39:35.139Z"
   },
   {
    "duration": 10,
    "start_time": "2022-01-12T05:40:55.198Z"
   },
   {
    "duration": 68,
    "start_time": "2022-01-12T05:55:19.744Z"
   },
   {
    "duration": 360,
    "start_time": "2022-01-12T05:55:52.160Z"
   },
   {
    "duration": 134,
    "start_time": "2022-01-12T05:56:27.665Z"
   },
   {
    "duration": 22,
    "start_time": "2022-01-12T06:02:52.409Z"
   },
   {
    "duration": 13,
    "start_time": "2022-01-12T13:41:40.586Z"
   },
   {
    "duration": 6,
    "start_time": "2022-01-12T13:41:58.145Z"
   },
   {
    "duration": 21,
    "start_time": "2022-01-12T13:44:35.679Z"
   },
   {
    "duration": 33,
    "start_time": "2022-01-12T13:49:18.253Z"
   },
   {
    "duration": 15,
    "start_time": "2022-01-12T13:50:40.714Z"
   },
   {
    "duration": 423,
    "start_time": "2022-01-12T13:50:58.948Z"
   },
   {
    "duration": 16,
    "start_time": "2022-01-12T13:51:08.899Z"
   },
   {
    "duration": 10,
    "start_time": "2022-01-12T13:52:18.301Z"
   },
   {
    "duration": 16,
    "start_time": "2022-01-12T13:52:22.637Z"
   },
   {
    "duration": 115,
    "start_time": "2022-01-12T13:53:07.375Z"
   },
   {
    "duration": 118,
    "start_time": "2022-01-12T13:53:13.174Z"
   },
   {
    "duration": 12,
    "start_time": "2022-01-12T13:53:22.294Z"
   },
   {
    "duration": 28,
    "start_time": "2022-01-12T13:55:23.130Z"
   },
   {
    "duration": 38,
    "start_time": "2022-01-12T13:57:34.162Z"
   },
   {
    "duration": 26,
    "start_time": "2022-01-12T13:57:50.787Z"
   },
   {
    "duration": 24,
    "start_time": "2022-01-12T13:58:00.266Z"
   },
   {
    "duration": 26,
    "start_time": "2022-01-12T13:58:15.234Z"
   },
   {
    "duration": 28,
    "start_time": "2022-01-12T14:10:24.302Z"
   },
   {
    "duration": 385,
    "start_time": "2022-01-12T14:10:50.015Z"
   },
   {
    "duration": 361,
    "start_time": "2022-01-12T14:11:19.797Z"
   },
   {
    "duration": 36,
    "start_time": "2022-01-12T14:11:47.965Z"
   },
   {
    "duration": 38,
    "start_time": "2022-01-12T14:12:57.718Z"
   },
   {
    "duration": 40,
    "start_time": "2022-01-12T14:21:28.657Z"
   },
   {
    "duration": 13,
    "start_time": "2022-01-12T14:22:53.888Z"
   },
   {
    "duration": 18,
    "start_time": "2022-01-12T14:22:55.795Z"
   },
   {
    "duration": 16,
    "start_time": "2022-01-12T14:22:58.023Z"
   },
   {
    "duration": 22,
    "start_time": "2022-01-12T14:22:58.042Z"
   },
   {
    "duration": 7,
    "start_time": "2022-01-12T15:00:57.559Z"
   },
   {
    "duration": 7,
    "start_time": "2022-01-12T15:01:43.926Z"
   },
   {
    "duration": 7,
    "start_time": "2022-01-12T15:01:52.334Z"
   },
   {
    "duration": 7,
    "start_time": "2022-01-12T15:02:31.143Z"
   },
   {
    "duration": 317,
    "start_time": "2022-01-12T15:05:50.914Z"
   },
   {
    "duration": 16,
    "start_time": "2022-01-12T15:05:56.787Z"
   },
   {
    "duration": 43,
    "start_time": "2022-01-12T15:06:14.307Z"
   },
   {
    "duration": 6,
    "start_time": "2022-01-12T19:27:14.847Z"
   },
   {
    "duration": 8,
    "start_time": "2022-01-12T19:27:28.279Z"
   },
   {
    "duration": 30,
    "start_time": "2022-01-12T19:27:35.759Z"
   },
   {
    "duration": 31,
    "start_time": "2022-01-12T19:27:50.344Z"
   },
   {
    "duration": 17,
    "start_time": "2022-01-12T19:32:40.324Z"
   },
   {
    "duration": 103,
    "start_time": "2022-01-12T19:34:12.505Z"
   },
   {
    "duration": 317,
    "start_time": "2022-01-12T19:34:17.088Z"
   },
   {
    "duration": 21,
    "start_time": "2022-01-12T19:34:30.697Z"
   },
   {
    "duration": 17,
    "start_time": "2022-01-12T19:36:12.010Z"
   },
   {
    "duration": 27,
    "start_time": "2022-01-12T19:36:42.467Z"
   },
   {
    "duration": 4,
    "start_time": "2022-01-12T19:40:05.598Z"
   },
   {
    "duration": 6,
    "start_time": "2022-01-12T19:49:15.338Z"
   },
   {
    "duration": 5,
    "start_time": "2022-01-12T19:51:19.398Z"
   },
   {
    "duration": 7,
    "start_time": "2022-01-12T19:51:24.125Z"
   },
   {
    "duration": 6,
    "start_time": "2022-01-12T19:51:40.374Z"
   },
   {
    "duration": 7,
    "start_time": "2022-01-12T19:55:15.803Z"
   },
   {
    "duration": 6,
    "start_time": "2022-01-12T19:55:34.747Z"
   },
   {
    "duration": 8,
    "start_time": "2022-01-12T20:14:58.877Z"
   },
   {
    "duration": 6,
    "start_time": "2022-01-12T20:53:42.080Z"
   },
   {
    "duration": 8,
    "start_time": "2022-01-12T20:55:44.291Z"
   },
   {
    "duration": 5,
    "start_time": "2022-01-12T20:55:52.475Z"
   },
   {
    "duration": 6,
    "start_time": "2022-01-12T20:57:46.414Z"
   },
   {
    "duration": 494,
    "start_time": "2022-01-12T21:07:55.723Z"
   },
   {
    "duration": 323,
    "start_time": "2022-01-12T21:09:19.077Z"
   },
   {
    "duration": 285,
    "start_time": "2022-01-12T21:09:25.181Z"
   },
   {
    "duration": 536,
    "start_time": "2022-01-12T21:10:02.686Z"
   },
   {
    "duration": 3001,
    "start_time": "2022-01-12T21:10:07.045Z"
   },
   {
    "duration": 317,
    "start_time": "2022-01-12T21:10:14.669Z"
   },
   {
    "duration": 389,
    "start_time": "2022-01-12T21:10:20.134Z"
   },
   {
    "duration": 4844,
    "start_time": "2022-01-12T21:12:05.083Z"
   },
   {
    "duration": 302,
    "start_time": "2022-01-12T21:13:08.131Z"
   },
   {
    "duration": 379,
    "start_time": "2022-01-12T21:13:39.202Z"
   },
   {
    "duration": 359,
    "start_time": "2022-01-12T21:13:45.891Z"
   },
   {
    "duration": 699,
    "start_time": "2022-01-12T21:13:58.179Z"
   },
   {
    "duration": 359,
    "start_time": "2022-01-12T21:14:03.882Z"
   },
   {
    "duration": 299,
    "start_time": "2022-01-12T21:14:13.139Z"
   },
   {
    "duration": 433,
    "start_time": "2022-01-12T21:14:20.412Z"
   },
   {
    "duration": 292,
    "start_time": "2022-01-12T21:14:30.428Z"
   },
   {
    "duration": 292,
    "start_time": "2022-01-12T21:14:45.580Z"
   },
   {
    "duration": 423,
    "start_time": "2022-01-12T21:15:15.109Z"
   },
   {
    "duration": 828,
    "start_time": "2022-01-12T21:15:31.109Z"
   },
   {
    "duration": 437,
    "start_time": "2022-01-12T21:15:40.734Z"
   },
   {
    "duration": 446,
    "start_time": "2022-01-12T21:15:48.029Z"
   },
   {
    "duration": 427,
    "start_time": "2022-01-12T21:15:53.557Z"
   },
   {
    "duration": 461,
    "start_time": "2022-01-12T21:16:10.598Z"
   },
   {
    "duration": 498,
    "start_time": "2022-01-12T21:16:26.366Z"
   },
   {
    "duration": 435,
    "start_time": "2022-01-12T21:16:32.838Z"
   },
   {
    "duration": 435,
    "start_time": "2022-01-12T21:16:36.566Z"
   },
   {
    "duration": 449,
    "start_time": "2022-01-12T21:16:56.671Z"
   },
   {
    "duration": 425,
    "start_time": "2022-01-12T21:17:07.847Z"
   },
   {
    "duration": 430,
    "start_time": "2022-01-12T21:18:27.217Z"
   },
   {
    "duration": 435,
    "start_time": "2022-01-12T21:18:32.585Z"
   },
   {
    "duration": 403,
    "start_time": "2022-01-12T21:18:43.321Z"
   },
   {
    "duration": 444,
    "start_time": "2022-01-12T21:18:48.577Z"
   },
   {
    "duration": 435,
    "start_time": "2022-01-12T21:18:52.401Z"
   },
   {
    "duration": 440,
    "start_time": "2022-01-12T21:18:59.586Z"
   },
   {
    "duration": 569,
    "start_time": "2022-01-12T21:19:45.996Z"
   },
   {
    "duration": 597,
    "start_time": "2022-01-12T21:20:06.444Z"
   },
   {
    "duration": 447,
    "start_time": "2022-01-12T21:20:10.804Z"
   },
   {
    "duration": 3,
    "start_time": "2022-01-12T21:27:37.934Z"
   },
   {
    "duration": 102,
    "start_time": "2022-01-12T21:30:12.041Z"
   },
   {
    "duration": 415,
    "start_time": "2022-01-12T21:30:15.280Z"
   },
   {
    "duration": 1629,
    "start_time": "2022-01-12T21:35:58.262Z"
   },
   {
    "duration": 221,
    "start_time": "2022-01-12T21:35:59.894Z"
   },
   {
    "duration": 4,
    "start_time": "2022-01-12T21:36:00.118Z"
   },
   {
    "duration": 33522,
    "start_time": "2022-01-12T21:36:00.124Z"
   },
   {
    "duration": 19,
    "start_time": "2022-01-12T21:36:33.649Z"
   },
   {
    "duration": 189,
    "start_time": "2022-01-12T21:36:33.671Z"
   },
   {
    "duration": 23602,
    "start_time": "2022-01-12T21:36:33.863Z"
   },
   {
    "duration": 12,
    "start_time": "2022-01-12T21:36:57.469Z"
   },
   {
    "duration": 120,
    "start_time": "2022-01-12T21:36:57.484Z"
   },
   {
    "duration": 19540,
    "start_time": "2022-01-12T21:36:57.606Z"
   },
   {
    "duration": 12,
    "start_time": "2022-01-12T21:37:17.149Z"
   },
   {
    "duration": 27,
    "start_time": "2022-01-12T21:37:17.164Z"
   },
   {
    "duration": 41,
    "start_time": "2022-01-12T21:37:17.193Z"
   },
   {
    "duration": 51,
    "start_time": "2022-01-12T21:37:17.237Z"
   },
   {
    "duration": 33,
    "start_time": "2022-01-12T21:37:17.291Z"
   },
   {
    "duration": 51,
    "start_time": "2022-01-12T21:37:17.326Z"
   },
   {
    "duration": 10,
    "start_time": "2022-01-12T21:37:17.380Z"
   },
   {
    "duration": 17,
    "start_time": "2022-01-12T21:37:17.393Z"
   },
   {
    "duration": 51,
    "start_time": "2022-01-12T21:37:17.413Z"
   },
   {
    "duration": 25,
    "start_time": "2022-01-12T21:37:17.466Z"
   },
   {
    "duration": 8,
    "start_time": "2022-01-12T21:37:17.494Z"
   },
   {
    "duration": 332,
    "start_time": "2022-01-12T21:37:17.505Z"
   },
   {
    "duration": 33,
    "start_time": "2022-01-12T21:37:17.841Z"
   },
   {
    "duration": 12,
    "start_time": "2022-01-12T21:37:17.876Z"
   },
   {
    "duration": 126,
    "start_time": "2022-01-12T21:37:17.890Z"
   },
   {
    "duration": 7,
    "start_time": "2022-01-12T21:37:18.018Z"
   },
   {
    "duration": 43,
    "start_time": "2022-01-12T21:37:18.027Z"
   },
   {
    "duration": 27,
    "start_time": "2022-01-12T21:37:18.072Z"
   },
   {
    "duration": 16,
    "start_time": "2022-01-12T21:37:18.102Z"
   },
   {
    "duration": 54,
    "start_time": "2022-01-12T21:37:18.120Z"
   },
   {
    "duration": 5,
    "start_time": "2022-01-12T21:37:18.176Z"
   },
   {
    "duration": 3998,
    "start_time": "2022-01-12T21:37:18.184Z"
   },
   {
    "duration": 436,
    "start_time": "2022-01-12T21:37:22.185Z"
   },
   {
    "duration": 428,
    "start_time": "2022-01-12T21:37:30.441Z"
   },
   {
    "duration": 423,
    "start_time": "2022-01-12T21:37:36.174Z"
   },
   {
    "duration": 482,
    "start_time": "2022-01-12T21:38:54.424Z"
   },
   {
    "duration": 674,
    "start_time": "2022-01-12T21:39:03.273Z"
   },
   {
    "duration": 491,
    "start_time": "2022-01-12T21:39:08.688Z"
   },
   {
    "duration": 434,
    "start_time": "2022-01-12T21:39:59.601Z"
   },
   {
    "duration": 585,
    "start_time": "2022-01-12T21:41:02.843Z"
   },
   {
    "duration": 530,
    "start_time": "2022-01-12T21:41:16.852Z"
   },
   {
    "duration": 493,
    "start_time": "2022-01-12T21:41:21.980Z"
   },
   {
    "duration": 514,
    "start_time": "2022-01-12T21:41:26.756Z"
   },
   {
    "duration": 505,
    "start_time": "2022-01-12T21:41:40.932Z"
   },
   {
    "duration": 545,
    "start_time": "2022-01-12T21:42:09.507Z"
   },
   {
    "duration": 114,
    "start_time": "2022-01-12T21:42:27.933Z"
   },
   {
    "duration": 491,
    "start_time": "2022-01-12T21:42:32.188Z"
   },
   {
    "duration": 1019,
    "start_time": "2022-01-12T21:42:39.132Z"
   },
   {
    "duration": 496,
    "start_time": "2022-01-12T21:42:53.518Z"
   },
   {
    "duration": 606,
    "start_time": "2022-01-12T21:42:58.461Z"
   },
   {
    "duration": 521,
    "start_time": "2022-01-12T21:43:03.253Z"
   },
   {
    "duration": 489,
    "start_time": "2022-01-12T21:43:10.037Z"
   },
   {
    "duration": 1084,
    "start_time": "2022-01-13T16:32:56.670Z"
   },
   {
    "duration": 153,
    "start_time": "2022-01-13T16:32:57.756Z"
   },
   {
    "duration": 2,
    "start_time": "2022-01-13T16:32:57.911Z"
   },
   {
    "duration": 16113,
    "start_time": "2022-01-13T16:32:57.915Z"
   },
   {
    "duration": 8,
    "start_time": "2022-01-13T16:33:14.030Z"
   },
   {
    "duration": 129,
    "start_time": "2022-01-13T16:33:14.039Z"
   },
   {
    "duration": 12446,
    "start_time": "2022-01-13T16:33:14.170Z"
   },
   {
    "duration": 9,
    "start_time": "2022-01-13T16:33:26.619Z"
   },
   {
    "duration": 112,
    "start_time": "2022-01-13T16:33:26.630Z"
   },
   {
    "duration": 9801,
    "start_time": "2022-01-13T16:33:26.744Z"
   },
   {
    "duration": 7,
    "start_time": "2022-01-13T16:33:36.547Z"
   },
   {
    "duration": 23,
    "start_time": "2022-01-13T16:33:36.556Z"
   },
   {
    "duration": 56,
    "start_time": "2022-01-13T16:33:36.581Z"
   },
   {
    "duration": 37,
    "start_time": "2022-01-13T16:33:36.638Z"
   },
   {
    "duration": 28,
    "start_time": "2022-01-13T16:33:36.676Z"
   },
   {
    "duration": 19,
    "start_time": "2022-01-13T16:33:36.706Z"
   },
   {
    "duration": 7,
    "start_time": "2022-01-13T16:33:36.727Z"
   },
   {
    "duration": 10,
    "start_time": "2022-01-13T16:33:36.736Z"
   },
   {
    "duration": 11,
    "start_time": "2022-01-13T16:33:36.748Z"
   },
   {
    "duration": 38,
    "start_time": "2022-01-13T16:33:36.760Z"
   },
   {
    "duration": 6,
    "start_time": "2022-01-13T16:33:36.800Z"
   },
   {
    "duration": 204,
    "start_time": "2022-01-13T16:33:36.808Z"
   },
   {
    "duration": 22,
    "start_time": "2022-01-13T16:33:37.016Z"
   },
   {
    "duration": 11,
    "start_time": "2022-01-13T16:33:37.041Z"
   },
   {
    "duration": 104,
    "start_time": "2022-01-13T16:33:37.054Z"
   },
   {
    "duration": 8,
    "start_time": "2022-01-13T16:33:37.161Z"
   },
   {
    "duration": 40,
    "start_time": "2022-01-13T16:33:37.171Z"
   },
   {
    "duration": 26,
    "start_time": "2022-01-13T16:33:37.213Z"
   },
   {
    "duration": 13,
    "start_time": "2022-01-13T16:33:37.241Z"
   },
   {
    "duration": 44,
    "start_time": "2022-01-13T16:33:37.256Z"
   },
   {
    "duration": 4,
    "start_time": "2022-01-13T16:33:37.302Z"
   },
   {
    "duration": 54902,
    "start_time": "2022-01-13T16:33:37.307Z"
   },
   {
    "duration": 629,
    "start_time": "2022-01-13T16:34:32.211Z"
   },
   {
    "duration": 245,
    "start_time": "2022-01-13T18:51:22.062Z"
   },
   {
    "duration": 10,
    "start_time": "2022-01-13T18:51:26.616Z"
   },
   {
    "duration": 9,
    "start_time": "2022-01-13T18:51:28.199Z"
   },
   {
    "duration": 25,
    "start_time": "2022-01-13T18:52:33.721Z"
   },
   {
    "duration": 8,
    "start_time": "2022-01-13T18:52:34.777Z"
   },
   {
    "duration": 1021,
    "start_time": "2022-01-13T18:53:03.514Z"
   },
   {
    "duration": 154,
    "start_time": "2022-01-13T18:53:09.323Z"
   },
   {
    "duration": 3,
    "start_time": "2022-01-13T18:53:12.618Z"
   },
   {
    "duration": 48,
    "start_time": "2022-01-13T18:53:15.898Z"
   },
   {
    "duration": 8,
    "start_time": "2022-01-13T18:53:16.683Z"
   },
   {
    "duration": 7,
    "start_time": "2022-01-13T18:54:53.710Z"
   },
   {
    "duration": 8,
    "start_time": "2022-01-13T18:54:55.613Z"
   },
   {
    "duration": 994,
    "start_time": "2022-01-13T18:55:04.849Z"
   },
   {
    "duration": 148,
    "start_time": "2022-01-13T18:55:06.593Z"
   },
   {
    "duration": 5,
    "start_time": "2022-01-13T18:55:25.570Z"
   },
   {
    "duration": 26,
    "start_time": "2022-01-13T18:55:42.546Z"
   },
   {
    "duration": 5,
    "start_time": "2022-01-13T18:55:54.011Z"
   },
   {
    "duration": 3,
    "start_time": "2022-01-13T18:56:08.619Z"
   },
   {
    "duration": 4,
    "start_time": "2022-01-13T18:56:24.292Z"
   },
   {
    "duration": 299,
    "start_time": "2022-01-13T18:56:27.428Z"
   },
   {
    "duration": 4,
    "start_time": "2022-01-13T18:56:37.116Z"
   },
   {
    "duration": 215,
    "start_time": "2022-01-13T18:56:44.412Z"
   },
   {
    "duration": 5,
    "start_time": "2022-01-13T18:56:51.710Z"
   },
   {
    "duration": 24,
    "start_time": "2022-01-13T18:58:24.942Z"
   },
   {
    "duration": 10,
    "start_time": "2022-01-13T18:58:26.094Z"
   },
   {
    "duration": 249,
    "start_time": "2022-01-13T18:58:57.358Z"
   },
   {
    "duration": 151,
    "start_time": "2022-01-13T18:59:01.719Z"
   },
   {
    "duration": 36,
    "start_time": "2022-01-13T18:59:03.247Z"
   },
   {
    "duration": 8,
    "start_time": "2022-01-13T18:59:04.367Z"
   },
   {
    "duration": 94,
    "start_time": "2022-01-13T18:59:10.655Z"
   },
   {
    "duration": 37,
    "start_time": "2022-01-13T18:59:27.800Z"
   },
   {
    "duration": 7,
    "start_time": "2022-01-13T18:59:28.480Z"
   },
   {
    "duration": 21,
    "start_time": "2022-01-13T18:59:37.647Z"
   },
   {
    "duration": 60,
    "start_time": "2022-01-13T18:59:40.680Z"
   },
   {
    "duration": 39,
    "start_time": "2022-01-13T19:00:28.625Z"
   },
   {
    "duration": 24,
    "start_time": "2022-01-13T19:00:29.849Z"
   },
   {
    "duration": 20,
    "start_time": "2022-01-13T19:00:41.137Z"
   },
   {
    "duration": 7,
    "start_time": "2022-01-13T19:00:42.985Z"
   },
   {
    "duration": 11,
    "start_time": "2022-01-13T19:00:46.744Z"
   },
   {
    "duration": 17,
    "start_time": "2022-01-13T19:00:47.793Z"
   },
   {
    "duration": 15,
    "start_time": "2022-01-13T19:00:51.796Z"
   },
   {
    "duration": 5,
    "start_time": "2022-01-13T19:01:04.833Z"
   },
   {
    "duration": 189,
    "start_time": "2022-01-13T19:01:06.945Z"
   },
   {
    "duration": 18,
    "start_time": "2022-01-13T19:01:07.956Z"
   },
   {
    "duration": 9,
    "start_time": "2022-01-13T19:01:12.025Z"
   },
   {
    "duration": 64,
    "start_time": "2022-01-13T19:01:14.170Z"
   },
   {
    "duration": 7,
    "start_time": "2022-01-13T19:01:31.617Z"
   },
   {
    "duration": 6,
    "start_time": "2022-01-13T19:05:03.895Z"
   },
   {
    "duration": 1086,
    "start_time": "2022-01-13T19:05:44.833Z"
   },
   {
    "duration": 6,
    "start_time": "2022-01-13T19:05:45.921Z"
   },
   {
    "duration": 152,
    "start_time": "2022-01-13T19:05:45.929Z"
   },
   {
    "duration": 4,
    "start_time": "2022-01-13T19:05:46.083Z"
   },
   {
    "duration": 34,
    "start_time": "2022-01-13T19:05:46.089Z"
   },
   {
    "duration": 5,
    "start_time": "2022-01-13T19:05:46.124Z"
   },
   {
    "duration": 26,
    "start_time": "2022-01-13T19:05:46.130Z"
   },
   {
    "duration": 7,
    "start_time": "2022-01-13T19:05:46.158Z"
   },
   {
    "duration": 144,
    "start_time": "2022-01-13T19:05:46.167Z"
   },
   {
    "duration": 37,
    "start_time": "2022-01-13T19:05:46.313Z"
   },
   {
    "duration": 8,
    "start_time": "2022-01-13T19:05:46.351Z"
   },
   {
    "duration": 95,
    "start_time": "2022-01-13T19:05:46.360Z"
   },
   {
    "duration": 41,
    "start_time": "2022-01-13T19:05:46.457Z"
   },
   {
    "duration": 7,
    "start_time": "2022-01-13T19:05:46.500Z"
   },
   {
    "duration": 19,
    "start_time": "2022-01-13T19:05:46.509Z"
   },
   {
    "duration": 51,
    "start_time": "2022-01-13T19:05:46.530Z"
   },
   {
    "duration": 37,
    "start_time": "2022-01-13T19:05:46.583Z"
   },
   {
    "duration": 24,
    "start_time": "2022-01-13T19:05:46.622Z"
   },
   {
    "duration": 20,
    "start_time": "2022-01-13T19:05:46.648Z"
   },
   {
    "duration": 30,
    "start_time": "2022-01-13T19:05:46.670Z"
   },
   {
    "duration": 12,
    "start_time": "2022-01-13T19:05:46.701Z"
   },
   {
    "duration": 12,
    "start_time": "2022-01-13T19:05:46.715Z"
   },
   {
    "duration": 15,
    "start_time": "2022-01-13T19:05:46.730Z"
   },
   {
    "duration": 6,
    "start_time": "2022-01-13T19:05:46.747Z"
   },
   {
    "duration": 219,
    "start_time": "2022-01-13T19:05:46.755Z"
   },
   {
    "duration": 24,
    "start_time": "2022-01-13T19:05:46.975Z"
   },
   {
    "duration": 10,
    "start_time": "2022-01-13T19:05:47.001Z"
   },
   {
    "duration": 58,
    "start_time": "2022-01-13T19:05:47.013Z"
   },
   {
    "duration": 5,
    "start_time": "2022-01-13T19:15:13.994Z"
   },
   {
    "duration": 26,
    "start_time": "2022-01-13T19:15:42.546Z"
   },
   {
    "duration": 293,
    "start_time": "2022-01-13T19:16:03.492Z"
   },
   {
    "duration": 29,
    "start_time": "2022-01-13T19:16:16.917Z"
   },
   {
    "duration": 7,
    "start_time": "2022-01-13T19:16:30.516Z"
   },
   {
    "duration": 8,
    "start_time": "2022-01-13T19:16:37.483Z"
   },
   {
    "duration": 289,
    "start_time": "2022-01-13T19:16:54.379Z"
   },
   {
    "duration": 7,
    "start_time": "2022-01-13T19:17:08.349Z"
   },
   {
    "duration": 4012,
    "start_time": "2022-01-13T19:17:34.125Z"
   },
   {
    "duration": 3957,
    "start_time": "2022-01-13T19:17:48.845Z"
   },
   {
    "duration": 8,
    "start_time": "2022-01-13T19:18:01.430Z"
   },
   {
    "duration": 8,
    "start_time": "2022-01-13T19:18:09.862Z"
   },
   {
    "duration": 8,
    "start_time": "2022-01-13T19:18:44.895Z"
   },
   {
    "duration": 8,
    "start_time": "2022-01-13T19:18:49.535Z"
   },
   {
    "duration": 7,
    "start_time": "2022-01-13T19:18:53.783Z"
   },
   {
    "duration": 7,
    "start_time": "2022-01-13T19:18:57.311Z"
   },
   {
    "duration": 9,
    "start_time": "2022-01-13T19:19:02.263Z"
   },
   {
    "duration": 7,
    "start_time": "2022-01-13T19:19:06.359Z"
   },
   {
    "duration": 7,
    "start_time": "2022-01-13T19:23:16.182Z"
   },
   {
    "duration": 8,
    "start_time": "2022-01-13T19:23:21.861Z"
   },
   {
    "duration": 7,
    "start_time": "2022-01-13T19:23:22.493Z"
   },
   {
    "duration": 6,
    "start_time": "2022-01-13T19:23:28.389Z"
   },
   {
    "duration": 3,
    "start_time": "2022-01-13T19:23:36.669Z"
   },
   {
    "duration": 5,
    "start_time": "2022-01-13T19:24:55.880Z"
   },
   {
    "duration": 232,
    "start_time": "2022-01-13T19:25:11.944Z"
   },
   {
    "duration": 6,
    "start_time": "2022-01-13T19:25:37.344Z"
   },
   {
    "duration": 7,
    "start_time": "2022-01-13T19:28:42.996Z"
   },
   {
    "duration": 6,
    "start_time": "2022-01-13T19:30:16.703Z"
   },
   {
    "duration": 63,
    "start_time": "2022-01-13T19:30:49.544Z"
   },
   {
    "duration": 43,
    "start_time": "2022-01-13T19:31:17.169Z"
   },
   {
    "duration": 1081,
    "start_time": "2022-01-13T19:34:30.549Z"
   },
   {
    "duration": 6,
    "start_time": "2022-01-13T19:34:31.632Z"
   },
   {
    "duration": 155,
    "start_time": "2022-01-13T19:34:33.381Z"
   },
   {
    "duration": 5,
    "start_time": "2022-01-13T19:34:36.116Z"
   },
   {
    "duration": 28,
    "start_time": "2022-01-13T19:34:37.460Z"
   },
   {
    "duration": 5,
    "start_time": "2022-01-13T19:34:38.140Z"
   },
   {
    "duration": 23,
    "start_time": "2022-01-13T19:34:40.292Z"
   },
   {
    "duration": 8,
    "start_time": "2022-01-13T19:34:40.981Z"
   },
   {
    "duration": 9,
    "start_time": "2022-01-13T19:35:45.094Z"
   },
   {
    "duration": 130,
    "start_time": "2022-01-13T19:35:48.478Z"
   },
   {
    "duration": 39,
    "start_time": "2022-01-13T19:35:50.622Z"
   },
   {
    "duration": 8,
    "start_time": "2022-01-13T19:35:51.206Z"
   },
   {
    "duration": 91,
    "start_time": "2022-01-13T19:35:56.022Z"
   },
   {
    "duration": 29,
    "start_time": "2022-01-13T19:36:12.903Z"
   },
   {
    "duration": 8,
    "start_time": "2022-01-13T19:36:13.463Z"
   },
   {
    "duration": 20,
    "start_time": "2022-01-13T19:36:17.191Z"
   },
   {
    "duration": 62,
    "start_time": "2022-01-13T19:36:19.839Z"
   },
   {
    "duration": 53,
    "start_time": "2022-01-13T19:36:25.599Z"
   },
   {
    "duration": 38,
    "start_time": "2022-01-13T19:36:47.120Z"
   },
   {
    "duration": 38,
    "start_time": "2022-01-13T19:36:50.815Z"
   },
   {
    "duration": 7,
    "start_time": "2022-01-13T19:38:43.954Z"
   },
   {
    "duration": 315,
    "start_time": "2022-01-13T19:38:45.314Z"
   },
   {
    "duration": 38,
    "start_time": "2022-01-13T19:39:23.884Z"
   },
   {
    "duration": 19,
    "start_time": "2022-01-13T19:39:34.075Z"
   },
   {
    "duration": 21,
    "start_time": "2022-01-13T19:39:41.867Z"
   },
   {
    "duration": 6,
    "start_time": "2022-01-13T19:39:44.851Z"
   },
   {
    "duration": 16,
    "start_time": "2022-01-13T19:39:47.748Z"
   },
   {
    "duration": 225,
    "start_time": "2022-01-13T19:39:49.235Z"
   },
   {
    "duration": 242,
    "start_time": "2022-01-13T19:39:56.540Z"
   },
   {
    "duration": 1043,
    "start_time": "2022-01-13T19:40:26.062Z"
   },
   {
    "duration": 6,
    "start_time": "2022-01-13T19:40:27.107Z"
   },
   {
    "duration": 168,
    "start_time": "2022-01-13T19:40:27.115Z"
   },
   {
    "duration": 5,
    "start_time": "2022-01-13T19:40:27.284Z"
   },
   {
    "duration": 28,
    "start_time": "2022-01-13T19:40:27.298Z"
   },
   {
    "duration": 4,
    "start_time": "2022-01-13T19:40:27.328Z"
   },
   {
    "duration": 41,
    "start_time": "2022-01-13T19:40:27.334Z"
   },
   {
    "duration": 7,
    "start_time": "2022-01-13T19:40:27.377Z"
   },
   {
    "duration": 136,
    "start_time": "2022-01-13T19:40:27.386Z"
   },
   {
    "duration": 37,
    "start_time": "2022-01-13T19:40:27.524Z"
   },
   {
    "duration": 9,
    "start_time": "2022-01-13T19:40:27.562Z"
   },
   {
    "duration": 94,
    "start_time": "2022-01-13T19:40:27.572Z"
   },
   {
    "duration": 35,
    "start_time": "2022-01-13T19:40:27.668Z"
   },
   {
    "duration": 8,
    "start_time": "2022-01-13T19:40:27.705Z"
   },
   {
    "duration": 30,
    "start_time": "2022-01-13T19:40:27.714Z"
   },
   {
    "duration": 71,
    "start_time": "2022-01-13T19:40:27.746Z"
   },
   {
    "duration": 37,
    "start_time": "2022-01-13T19:40:27.819Z"
   },
   {
    "duration": 27,
    "start_time": "2022-01-13T19:40:27.858Z"
   },
   {
    "duration": 32,
    "start_time": "2022-01-13T19:40:27.887Z"
   },
   {
    "duration": 6,
    "start_time": "2022-01-13T19:40:27.921Z"
   },
   {
    "duration": 16,
    "start_time": "2022-01-13T19:40:27.929Z"
   },
   {
    "duration": 12,
    "start_time": "2022-01-13T19:40:31.053Z"
   },
   {
    "duration": 317,
    "start_time": "2022-01-13T19:40:31.901Z"
   },
   {
    "duration": 241,
    "start_time": "2022-01-13T19:41:00.190Z"
   },
   {
    "duration": 7,
    "start_time": "2022-01-13T19:42:08.791Z"
   },
   {
    "duration": 10,
    "start_time": "2022-01-13T19:42:09.719Z"
   },
   {
    "duration": 11,
    "start_time": "2022-01-13T19:42:10.400Z"
   },
   {
    "duration": 7,
    "start_time": "2022-01-13T19:42:45.810Z"
   },
   {
    "duration": 12,
    "start_time": "2022-01-13T19:42:47.216Z"
   },
   {
    "duration": 11,
    "start_time": "2022-01-13T19:42:47.824Z"
   },
   {
    "duration": 18,
    "start_time": "2022-01-13T19:42:48.497Z"
   },
   {
    "duration": 5,
    "start_time": "2022-01-13T19:42:52.032Z"
   },
   {
    "duration": 190,
    "start_time": "2022-01-13T19:42:54.448Z"
   },
   {
    "duration": 19,
    "start_time": "2022-01-13T19:42:55.305Z"
   },
   {
    "duration": 9,
    "start_time": "2022-01-13T19:42:57.504Z"
   },
   {
    "duration": 8,
    "start_time": "2022-01-13T19:43:04.184Z"
   },
   {
    "duration": 6,
    "start_time": "2022-01-13T19:43:06.448Z"
   },
   {
    "duration": 43,
    "start_time": "2022-01-13T19:43:09.353Z"
   },
   {
    "duration": 5,
    "start_time": "2022-01-13T19:44:05.842Z"
   },
   {
    "duration": 5,
    "start_time": "2022-01-13T19:44:24.051Z"
   },
   {
    "duration": 77,
    "start_time": "2022-01-13T19:44:56.532Z"
   },
   {
    "duration": 5,
    "start_time": "2022-01-13T19:45:02.667Z"
   },
   {
    "duration": 5,
    "start_time": "2022-01-13T19:45:03.499Z"
   },
   {
    "duration": 6,
    "start_time": "2022-01-13T19:45:29.676Z"
   },
   {
    "duration": 213,
    "start_time": "2022-01-13T19:45:54.866Z"
   },
   {
    "duration": 230,
    "start_time": "2022-01-13T19:46:01.557Z"
   },
   {
    "duration": 5,
    "start_time": "2022-01-13T19:46:06.309Z"
   },
   {
    "duration": 5,
    "start_time": "2022-01-13T19:46:26.677Z"
   },
   {
    "duration": 5,
    "start_time": "2022-01-13T19:46:42.470Z"
   },
   {
    "duration": 5,
    "start_time": "2022-01-13T19:47:08.207Z"
   },
   {
    "duration": 6,
    "start_time": "2022-01-13T19:53:34.981Z"
   },
   {
    "duration": 8,
    "start_time": "2022-01-13T19:53:44.510Z"
   },
   {
    "duration": 7,
    "start_time": "2022-01-13T19:53:55.350Z"
   },
   {
    "duration": 6,
    "start_time": "2022-01-13T19:54:21.630Z"
   },
   {
    "duration": 5,
    "start_time": "2022-01-13T19:54:27.270Z"
   },
   {
    "duration": 5,
    "start_time": "2022-01-13T19:55:35.927Z"
   },
   {
    "duration": 8,
    "start_time": "2022-01-13T19:58:20.195Z"
   },
   {
    "duration": 6,
    "start_time": "2022-01-13T19:58:23.539Z"
   },
   {
    "duration": 6,
    "start_time": "2022-01-13T19:58:28.266Z"
   },
   {
    "duration": 45,
    "start_time": "2022-01-13T19:58:31.539Z"
   },
   {
    "duration": 58,
    "start_time": "2022-01-13T20:00:28.950Z"
   },
   {
    "duration": 6,
    "start_time": "2022-01-13T20:00:59.438Z"
   },
   {
    "duration": 7,
    "start_time": "2022-01-13T20:00:59.918Z"
   },
   {
    "duration": 8,
    "start_time": "2022-01-13T20:01:01.839Z"
   },
   {
    "duration": 4,
    "start_time": "2022-01-13T20:01:04.758Z"
   },
   {
    "duration": 11,
    "start_time": "2022-01-13T20:05:57.711Z"
   },
   {
    "duration": 6,
    "start_time": "2022-01-13T20:22:06.393Z"
   },
   {
    "duration": 21,
    "start_time": "2022-01-13T20:22:07.266Z"
   },
   {
    "duration": 18,
    "start_time": "2022-01-13T20:22:10.777Z"
   },
   {
    "duration": 11,
    "start_time": "2022-01-13T20:22:19.496Z"
   },
   {
    "duration": 16,
    "start_time": "2022-01-13T20:22:26.769Z"
   },
   {
    "duration": 4,
    "start_time": "2022-01-13T20:22:38.114Z"
   },
   {
    "duration": 105720,
    "start_time": "2022-01-13T20:22:39.105Z"
   },
   {
    "duration": 603,
    "start_time": "2022-01-13T20:56:01.575Z"
   },
   {
    "duration": 541,
    "start_time": "2022-01-13T20:56:12.359Z"
   },
   {
    "duration": 439,
    "start_time": "2022-01-13T20:57:21.929Z"
   },
   {
    "duration": 356,
    "start_time": "2022-01-13T20:58:43.642Z"
   },
   {
    "duration": 100193,
    "start_time": "2022-01-13T20:59:09.851Z"
   },
   {
    "duration": 430,
    "start_time": "2022-01-13T21:08:22.262Z"
   },
   {
    "duration": 357,
    "start_time": "2022-01-13T21:08:59.583Z"
   },
   {
    "duration": 366,
    "start_time": "2022-01-13T21:09:34.055Z"
   },
   {
    "duration": 422,
    "start_time": "2022-01-13T21:09:57.072Z"
   },
   {
    "duration": 75,
    "start_time": "2022-01-13T21:11:07.250Z"
   },
   {
    "duration": 381,
    "start_time": "2022-01-13T21:11:14.714Z"
   },
   {
    "duration": 406,
    "start_time": "2022-01-13T21:11:22.274Z"
   },
   {
    "duration": 355,
    "start_time": "2022-01-13T21:11:43.386Z"
   },
   {
    "duration": 3435,
    "start_time": "2022-01-13T21:15:36.903Z"
   },
   {
    "duration": 243,
    "start_time": "2022-01-13T21:15:52.512Z"
   },
   {
    "duration": 237,
    "start_time": "2022-01-13T21:15:57.887Z"
   },
   {
    "duration": 255,
    "start_time": "2022-01-13T21:16:30.777Z"
   },
   {
    "duration": 251,
    "start_time": "2022-01-13T21:16:47.193Z"
   },
   {
    "duration": 262,
    "start_time": "2022-01-13T21:17:02.185Z"
   },
   {
    "duration": 270,
    "start_time": "2022-01-13T21:17:22.665Z"
   },
   {
    "duration": 259,
    "start_time": "2022-01-13T21:17:36.890Z"
   },
   {
    "duration": 244,
    "start_time": "2022-01-13T21:17:48.042Z"
   },
   {
    "duration": 4,
    "start_time": "2022-01-13T21:36:27.139Z"
   },
   {
    "duration": 12,
    "start_time": "2022-01-13T21:48:45.034Z"
   },
   {
    "duration": 23,
    "start_time": "2022-01-13T21:49:09.194Z"
   },
   {
    "duration": 11,
    "start_time": "2022-01-13T21:50:20.700Z"
   },
   {
    "duration": 418,
    "start_time": "2022-01-13T21:51:30.741Z"
   },
   {
    "duration": 487,
    "start_time": "2022-01-13T21:51:44.734Z"
   },
   {
    "duration": 288,
    "start_time": "2022-01-13T21:52:12.678Z"
   },
   {
    "duration": 418,
    "start_time": "2022-01-13T21:53:30.224Z"
   },
   {
    "duration": 271,
    "start_time": "2022-01-13T21:53:55.289Z"
   },
   {
    "duration": 354,
    "start_time": "2022-01-13T21:55:09.906Z"
   },
   {
    "duration": 242,
    "start_time": "2022-01-13T21:55:32.795Z"
   },
   {
    "duration": 443,
    "start_time": "2022-01-13T21:56:24.989Z"
   },
   {
    "duration": 1488,
    "start_time": "2022-01-14T06:54:26.616Z"
   },
   {
    "duration": 10,
    "start_time": "2022-01-14T06:54:28.107Z"
   },
   {
    "duration": 795,
    "start_time": "2022-01-14T06:54:28.122Z"
   },
   {
    "duration": 4,
    "start_time": "2022-01-14T06:54:28.919Z"
   },
   {
    "duration": 27,
    "start_time": "2022-01-14T06:54:28.924Z"
   },
   {
    "duration": 4,
    "start_time": "2022-01-14T06:54:28.952Z"
   },
   {
    "duration": 22,
    "start_time": "2022-01-14T06:54:28.958Z"
   },
   {
    "duration": 8,
    "start_time": "2022-01-14T06:54:28.982Z"
   },
   {
    "duration": 639,
    "start_time": "2022-01-14T06:54:28.991Z"
   },
   {
    "duration": 51,
    "start_time": "2022-01-14T06:54:29.632Z"
   },
   {
    "duration": 12,
    "start_time": "2022-01-14T06:54:29.685Z"
   },
   {
    "duration": 118,
    "start_time": "2022-01-14T06:54:29.698Z"
   },
   {
    "duration": 27,
    "start_time": "2022-01-14T06:54:29.817Z"
   },
   {
    "duration": 7,
    "start_time": "2022-01-14T06:54:29.845Z"
   },
   {
    "duration": 26,
    "start_time": "2022-01-14T06:54:29.853Z"
   },
   {
    "duration": 52,
    "start_time": "2022-01-14T06:54:29.881Z"
   },
   {
    "duration": 33,
    "start_time": "2022-01-14T06:54:29.934Z"
   },
   {
    "duration": 22,
    "start_time": "2022-01-14T06:54:29.969Z"
   },
   {
    "duration": 37,
    "start_time": "2022-01-14T06:54:29.993Z"
   },
   {
    "duration": 6,
    "start_time": "2022-01-14T06:54:30.031Z"
   },
   {
    "duration": 14,
    "start_time": "2022-01-14T06:54:30.038Z"
   },
   {
    "duration": 11,
    "start_time": "2022-01-14T06:54:30.055Z"
   },
   {
    "duration": 14,
    "start_time": "2022-01-14T06:54:30.068Z"
   },
   {
    "duration": 4,
    "start_time": "2022-01-14T06:54:30.084Z"
   },
   {
    "duration": 193,
    "start_time": "2022-01-14T06:54:30.090Z"
   },
   {
    "duration": 17,
    "start_time": "2022-01-14T06:54:30.285Z"
   },
   {
    "duration": 24,
    "start_time": "2022-01-14T06:54:30.304Z"
   },
   {
    "duration": 7,
    "start_time": "2022-01-14T06:54:30.330Z"
   },
   {
    "duration": 13,
    "start_time": "2022-01-14T06:54:30.339Z"
   },
   {
    "duration": 46,
    "start_time": "2022-01-14T06:54:30.354Z"
   },
   {
    "duration": 6,
    "start_time": "2022-01-14T06:54:30.402Z"
   },
   {
    "duration": 20,
    "start_time": "2022-01-14T06:54:30.410Z"
   },
   {
    "duration": 6,
    "start_time": "2022-01-14T06:54:30.431Z"
   },
   {
    "duration": 5,
    "start_time": "2022-01-14T06:54:30.439Z"
   },
   {
    "duration": 12,
    "start_time": "2022-01-14T06:54:30.445Z"
   },
   {
    "duration": 3587,
    "start_time": "2022-01-14T06:54:30.458Z"
   },
   {
    "duration": 9,
    "start_time": "2022-01-14T06:54:34.047Z"
   },
   {
    "duration": 18,
    "start_time": "2022-01-14T06:54:34.058Z"
   },
   {
    "duration": 17,
    "start_time": "2022-01-14T06:54:34.078Z"
   },
   {
    "duration": 11,
    "start_time": "2022-01-14T06:54:34.096Z"
   },
   {
    "duration": 24,
    "start_time": "2022-01-14T06:54:34.109Z"
   },
   {
    "duration": 4,
    "start_time": "2022-01-14T06:54:34.135Z"
   },
   {
    "duration": 642,
    "start_time": "2022-01-14T06:54:34.141Z"
   },
   {
    "duration": -1057,
    "start_time": "2022-01-14T06:54:35.842Z"
   },
   {
    "duration": -1058,
    "start_time": "2022-01-14T06:54:35.844Z"
   },
   {
    "duration": -1060,
    "start_time": "2022-01-14T06:54:35.846Z"
   },
   {
    "duration": -1060,
    "start_time": "2022-01-14T06:54:35.848Z"
   },
   {
    "duration": -1061,
    "start_time": "2022-01-14T06:54:35.850Z"
   },
   {
    "duration": -1064,
    "start_time": "2022-01-14T06:54:35.853Z"
   },
   {
    "duration": -1065,
    "start_time": "2022-01-14T06:54:35.855Z"
   },
   {
    "duration": -1066,
    "start_time": "2022-01-14T06:54:35.857Z"
   },
   {
    "duration": -1068,
    "start_time": "2022-01-14T06:54:35.860Z"
   },
   {
    "duration": -1069,
    "start_time": "2022-01-14T06:54:35.862Z"
   },
   {
    "duration": -1070,
    "start_time": "2022-01-14T06:54:35.864Z"
   },
   {
    "duration": -1071,
    "start_time": "2022-01-14T06:54:35.866Z"
   },
   {
    "duration": -1075,
    "start_time": "2022-01-14T06:54:35.871Z"
   },
   {
    "duration": -1076,
    "start_time": "2022-01-14T06:54:35.873Z"
   },
   {
    "duration": 551,
    "start_time": "2022-01-14T06:55:22.215Z"
   },
   {
    "duration": 1056,
    "start_time": "2022-01-14T06:56:01.674Z"
   },
   {
    "duration": 5,
    "start_time": "2022-01-14T06:56:02.732Z"
   },
   {
    "duration": 158,
    "start_time": "2022-01-14T06:56:02.739Z"
   },
   {
    "duration": 4,
    "start_time": "2022-01-14T06:56:02.899Z"
   },
   {
    "duration": 42,
    "start_time": "2022-01-14T06:56:02.904Z"
   },
   {
    "duration": 4,
    "start_time": "2022-01-14T06:56:02.948Z"
   },
   {
    "duration": 28,
    "start_time": "2022-01-14T06:56:02.954Z"
   },
   {
    "duration": 7,
    "start_time": "2022-01-14T06:56:02.984Z"
   },
   {
    "duration": 130,
    "start_time": "2022-01-14T06:56:02.993Z"
   },
   {
    "duration": 36,
    "start_time": "2022-01-14T06:56:03.127Z"
   },
   {
    "duration": 8,
    "start_time": "2022-01-14T06:56:03.165Z"
   },
   {
    "duration": 97,
    "start_time": "2022-01-14T06:56:03.174Z"
   },
   {
    "duration": 27,
    "start_time": "2022-01-14T06:56:03.272Z"
   },
   {
    "duration": 7,
    "start_time": "2022-01-14T06:56:03.301Z"
   },
   {
    "duration": 32,
    "start_time": "2022-01-14T06:56:03.309Z"
   },
   {
    "duration": 83,
    "start_time": "2022-01-14T06:56:03.342Z"
   },
   {
    "duration": 55,
    "start_time": "2022-01-14T06:56:03.427Z"
   },
   {
    "duration": 35,
    "start_time": "2022-01-14T06:56:03.484Z"
   },
   {
    "duration": 33,
    "start_time": "2022-01-14T06:56:03.527Z"
   },
   {
    "duration": 8,
    "start_time": "2022-01-14T06:56:03.562Z"
   },
   {
    "duration": 17,
    "start_time": "2022-01-14T06:56:03.572Z"
   },
   {
    "duration": 12,
    "start_time": "2022-01-14T06:56:03.590Z"
   },
   {
    "duration": 27,
    "start_time": "2022-01-14T06:56:03.606Z"
   },
   {
    "duration": 4,
    "start_time": "2022-01-14T06:56:03.635Z"
   },
   {
    "duration": 189,
    "start_time": "2022-01-14T06:56:03.640Z"
   },
   {
    "duration": 16,
    "start_time": "2022-01-14T06:56:03.830Z"
   },
   {
    "duration": 16,
    "start_time": "2022-01-14T06:56:03.847Z"
   },
   {
    "duration": 11,
    "start_time": "2022-01-14T06:56:03.865Z"
   },
   {
    "duration": 16,
    "start_time": "2022-01-14T06:56:03.877Z"
   },
   {
    "duration": 49,
    "start_time": "2022-01-14T06:56:03.895Z"
   },
   {
    "duration": 8,
    "start_time": "2022-01-14T06:56:03.946Z"
   },
   {
    "duration": 15,
    "start_time": "2022-01-14T06:56:03.955Z"
   },
   {
    "duration": 19,
    "start_time": "2022-01-14T06:56:03.971Z"
   },
   {
    "duration": 12,
    "start_time": "2022-01-14T06:56:03.991Z"
   },
   {
    "duration": 15,
    "start_time": "2022-01-14T06:56:04.005Z"
   },
   {
    "duration": 2365,
    "start_time": "2022-01-14T06:56:04.022Z"
   },
   {
    "duration": 7,
    "start_time": "2022-01-14T06:56:06.389Z"
   },
   {
    "duration": 24,
    "start_time": "2022-01-14T06:56:06.398Z"
   },
   {
    "duration": 16,
    "start_time": "2022-01-14T06:56:06.424Z"
   },
   {
    "duration": 25,
    "start_time": "2022-01-14T06:56:06.442Z"
   },
   {
    "duration": 21,
    "start_time": "2022-01-14T06:56:06.470Z"
   },
   {
    "duration": 6,
    "start_time": "2022-01-14T06:56:06.493Z"
   },
   {
    "duration": 446,
    "start_time": "2022-01-14T06:56:06.501Z"
   },
   {
    "duration": 224,
    "start_time": "2022-01-14T06:56:06.949Z"
   },
   {
    "duration": 325,
    "start_time": "2022-01-14T06:56:07.175Z"
   },
   {
    "duration": 230,
    "start_time": "2022-01-14T06:56:07.503Z"
   },
   {
    "duration": 336,
    "start_time": "2022-01-14T06:56:07.735Z"
   },
   {
    "duration": 224,
    "start_time": "2022-01-14T06:56:08.073Z"
   },
   {
    "duration": 10,
    "start_time": "2022-01-14T06:56:08.299Z"
   },
   {
    "duration": 37,
    "start_time": "2022-01-14T06:56:08.311Z"
   },
   {
    "duration": 11,
    "start_time": "2022-01-14T06:56:08.350Z"
   },
   {
    "duration": 344,
    "start_time": "2022-01-14T06:56:08.363Z"
   },
   {
    "duration": 298,
    "start_time": "2022-01-14T06:56:08.709Z"
   },
   {
    "duration": 351,
    "start_time": "2022-01-14T06:56:09.009Z"
   },
   {
    "duration": 242,
    "start_time": "2022-01-14T06:56:09.362Z"
   },
   {
    "duration": 329,
    "start_time": "2022-01-14T06:56:09.606Z"
   },
   {
    "duration": 222,
    "start_time": "2022-01-14T06:56:09.937Z"
   },
   {
    "duration": 6,
    "start_time": "2022-01-14T07:21:30.811Z"
   },
   {
    "duration": 20,
    "start_time": "2022-01-14T07:21:37.988Z"
   },
   {
    "duration": 18,
    "start_time": "2022-01-14T07:21:57.044Z"
   },
   {
    "duration": 19,
    "start_time": "2022-01-14T07:24:24.443Z"
   },
   {
    "duration": 2,
    "start_time": "2022-01-14T07:25:46.945Z"
   },
   {
    "duration": 48,
    "start_time": "2022-01-14T07:26:44.349Z"
   },
   {
    "duration": 29,
    "start_time": "2022-01-14T07:26:49.558Z"
   },
   {
    "duration": 28,
    "start_time": "2022-01-14T07:26:54.115Z"
   },
   {
    "duration": 19,
    "start_time": "2022-01-14T07:26:59.379Z"
   },
   {
    "duration": 2,
    "start_time": "2022-01-14T07:35:58.391Z"
   },
   {
    "duration": 5,
    "start_time": "2022-01-14T07:43:01.049Z"
   },
   {
    "duration": 4,
    "start_time": "2022-01-14T07:47:58.038Z"
   },
   {
    "duration": 3,
    "start_time": "2022-01-14T07:48:23.383Z"
   },
   {
    "duration": 3,
    "start_time": "2022-01-14T07:48:34.967Z"
   },
   {
    "duration": 4,
    "start_time": "2022-01-14T07:48:35.439Z"
   },
   {
    "duration": 4,
    "start_time": "2022-01-14T07:49:04.464Z"
   },
   {
    "duration": 3,
    "start_time": "2022-01-14T07:49:14.143Z"
   },
   {
    "duration": 4,
    "start_time": "2022-01-14T07:49:16.415Z"
   },
   {
    "duration": 3,
    "start_time": "2022-01-14T07:49:16.896Z"
   },
   {
    "duration": 3,
    "start_time": "2022-01-14T07:49:18.168Z"
   },
   {
    "duration": 3,
    "start_time": "2022-01-14T07:51:31.882Z"
   },
   {
    "duration": 5,
    "start_time": "2022-01-14T07:53:50.453Z"
   },
   {
    "duration": 20,
    "start_time": "2022-01-14T08:04:10.275Z"
   },
   {
    "duration": 18,
    "start_time": "2022-01-14T08:05:17.845Z"
   },
   {
    "duration": 3,
    "start_time": "2022-01-14T08:08:05.017Z"
   },
   {
    "duration": 5,
    "start_time": "2022-01-14T08:09:08.914Z"
   },
   {
    "duration": 4,
    "start_time": "2022-01-14T08:09:28.154Z"
   },
   {
    "duration": 4,
    "start_time": "2022-01-14T08:09:42.691Z"
   },
   {
    "duration": 5,
    "start_time": "2022-01-14T08:10:55.116Z"
   },
   {
    "duration": 4,
    "start_time": "2022-01-14T08:11:10.357Z"
   },
   {
    "duration": 4,
    "start_time": "2022-01-14T08:12:12.519Z"
   },
   {
    "duration": 6,
    "start_time": "2022-01-14T08:12:38.438Z"
   },
   {
    "duration": 4,
    "start_time": "2022-01-14T08:13:40.657Z"
   },
   {
    "duration": 344,
    "start_time": "2022-01-14T08:14:21.681Z"
   },
   {
    "duration": 4,
    "start_time": "2022-01-14T08:14:39.953Z"
   },
   {
    "duration": 4,
    "start_time": "2022-01-14T08:14:49.881Z"
   },
   {
    "duration": 4,
    "start_time": "2022-01-14T08:15:44.514Z"
   },
   {
    "duration": 3,
    "start_time": "2022-01-14T08:16:00.355Z"
   },
   {
    "duration": 3,
    "start_time": "2022-01-14T08:16:02.515Z"
   },
   {
    "duration": 4,
    "start_time": "2022-01-14T08:19:37.088Z"
   },
   {
    "duration": 3,
    "start_time": "2022-01-14T08:19:41.888Z"
   },
   {
    "duration": 3,
    "start_time": "2022-01-14T08:19:46.312Z"
   },
   {
    "duration": 38,
    "start_time": "2022-01-14T08:26:42.690Z"
   },
   {
    "duration": 38,
    "start_time": "2022-01-14T08:27:24.010Z"
   },
   {
    "duration": 37,
    "start_time": "2022-01-14T08:29:12.716Z"
   },
   {
    "duration": 39,
    "start_time": "2022-01-14T08:29:28.372Z"
   },
   {
    "duration": 34,
    "start_time": "2022-01-14T08:34:25.555Z"
   },
   {
    "duration": 7,
    "start_time": "2022-01-14T08:34:33.108Z"
   },
   {
    "duration": 5,
    "start_time": "2022-01-14T08:34:39.235Z"
   },
   {
    "duration": 5,
    "start_time": "2022-01-14T08:34:51.268Z"
   },
   {
    "duration": 1419,
    "start_time": "2022-01-14T08:35:15.308Z"
   },
   {
    "duration": 6,
    "start_time": "2022-01-14T08:35:20.772Z"
   },
   {
    "duration": 6,
    "start_time": "2022-01-14T08:35:32.044Z"
   },
   {
    "duration": 1166,
    "start_time": "2022-01-14T08:38:23.639Z"
   },
   {
    "duration": 5,
    "start_time": "2022-01-14T08:38:24.807Z"
   },
   {
    "duration": 145,
    "start_time": "2022-01-14T08:38:24.813Z"
   },
   {
    "duration": 4,
    "start_time": "2022-01-14T08:38:24.959Z"
   },
   {
    "duration": 27,
    "start_time": "2022-01-14T08:38:24.964Z"
   },
   {
    "duration": 3,
    "start_time": "2022-01-14T08:38:24.993Z"
   },
   {
    "duration": 36,
    "start_time": "2022-01-14T08:38:24.998Z"
   },
   {
    "duration": 7,
    "start_time": "2022-01-14T08:38:25.036Z"
   },
   {
    "duration": 128,
    "start_time": "2022-01-14T08:38:25.045Z"
   },
   {
    "duration": 34,
    "start_time": "2022-01-14T08:38:25.175Z"
   },
   {
    "duration": 8,
    "start_time": "2022-01-14T08:38:25.210Z"
   },
   {
    "duration": 88,
    "start_time": "2022-01-14T08:38:25.227Z"
   },
   {
    "duration": 27,
    "start_time": "2022-01-14T08:38:25.316Z"
   },
   {
    "duration": 7,
    "start_time": "2022-01-14T08:38:25.344Z"
   },
   {
    "duration": 23,
    "start_time": "2022-01-14T08:38:25.352Z"
   },
   {
    "duration": 81,
    "start_time": "2022-01-14T08:38:25.377Z"
   },
   {
    "duration": 34,
    "start_time": "2022-01-14T08:38:25.459Z"
   },
   {
    "duration": 22,
    "start_time": "2022-01-14T08:38:25.494Z"
   },
   {
    "duration": 19,
    "start_time": "2022-01-14T08:38:25.518Z"
   },
   {
    "duration": 5,
    "start_time": "2022-01-14T08:38:25.538Z"
   },
   {
    "duration": 9,
    "start_time": "2022-01-14T08:38:25.545Z"
   },
   {
    "duration": 12,
    "start_time": "2022-01-14T08:38:25.555Z"
   },
   {
    "duration": 15,
    "start_time": "2022-01-14T08:38:25.571Z"
   },
   {
    "duration": 8,
    "start_time": "2022-01-14T08:38:25.589Z"
   },
   {
    "duration": 203,
    "start_time": "2022-01-14T08:38:25.599Z"
   },
   {
    "duration": 24,
    "start_time": "2022-01-14T08:38:25.804Z"
   },
   {
    "duration": 12,
    "start_time": "2022-01-14T08:38:25.830Z"
   },
   {
    "duration": 9,
    "start_time": "2022-01-14T08:38:25.844Z"
   },
   {
    "duration": 8,
    "start_time": "2022-01-14T08:38:25.854Z"
   },
   {
    "duration": 67,
    "start_time": "2022-01-14T08:38:25.864Z"
   },
   {
    "duration": 6,
    "start_time": "2022-01-14T08:38:25.932Z"
   },
   {
    "duration": 8,
    "start_time": "2022-01-14T08:38:25.939Z"
   },
   {
    "duration": 8,
    "start_time": "2022-01-14T08:38:25.948Z"
   },
   {
    "duration": 4,
    "start_time": "2022-01-14T08:38:25.957Z"
   },
   {
    "duration": 13,
    "start_time": "2022-01-14T08:38:25.962Z"
   },
   {
    "duration": 2360,
    "start_time": "2022-01-14T08:38:25.977Z"
   },
   {
    "duration": 7,
    "start_time": "2022-01-14T08:38:28.339Z"
   },
   {
    "duration": 19,
    "start_time": "2022-01-14T08:38:28.347Z"
   },
   {
    "duration": 17,
    "start_time": "2022-01-14T08:38:28.367Z"
   },
   {
    "duration": 14,
    "start_time": "2022-01-14T08:38:28.385Z"
   },
   {
    "duration": 31,
    "start_time": "2022-01-14T08:38:28.400Z"
   },
   {
    "duration": 4,
    "start_time": "2022-01-14T08:38:28.432Z"
   },
   {
    "duration": 330,
    "start_time": "2022-01-14T08:38:28.438Z"
   },
   {
    "duration": 319,
    "start_time": "2022-01-14T08:38:28.770Z"
   },
   {
    "duration": 317,
    "start_time": "2022-01-14T08:38:29.091Z"
   },
   {
    "duration": 219,
    "start_time": "2022-01-14T08:38:29.410Z"
   },
   {
    "duration": 314,
    "start_time": "2022-01-14T08:38:29.631Z"
   },
   {
    "duration": 211,
    "start_time": "2022-01-14T08:38:29.947Z"
   },
   {
    "duration": 10,
    "start_time": "2022-01-14T08:38:30.160Z"
   },
   {
    "duration": 19,
    "start_time": "2022-01-14T08:38:30.171Z"
   },
   {
    "duration": 4,
    "start_time": "2022-01-14T08:38:30.192Z"
   },
   {
    "duration": 417,
    "start_time": "2022-01-14T08:38:30.198Z"
   },
   {
    "duration": 223,
    "start_time": "2022-01-14T08:38:30.616Z"
   },
   {
    "duration": 342,
    "start_time": "2022-01-14T08:38:30.841Z"
   },
   {
    "duration": 242,
    "start_time": "2022-01-14T08:38:31.185Z"
   },
   {
    "duration": 324,
    "start_time": "2022-01-14T08:38:31.429Z"
   },
   {
    "duration": 213,
    "start_time": "2022-01-14T08:38:31.755Z"
   },
   {
    "duration": 18,
    "start_time": "2022-01-14T08:38:31.969Z"
   },
   {
    "duration": 17,
    "start_time": "2022-01-14T08:38:31.988Z"
   },
   {
    "duration": 20,
    "start_time": "2022-01-14T08:38:32.007Z"
   },
   {
    "duration": 10,
    "start_time": "2022-01-14T08:38:32.029Z"
   },
   {
    "duration": 14,
    "start_time": "2022-01-14T08:38:32.041Z"
   },
   {
    "duration": 17,
    "start_time": "2022-01-14T08:38:32.056Z"
   },
   {
    "duration": 9,
    "start_time": "2022-01-14T08:38:32.074Z"
   },
   {
    "duration": 55,
    "start_time": "2022-01-14T08:38:32.084Z"
   },
   {
    "duration": 38,
    "start_time": "2022-01-14T08:38:32.140Z"
   },
   {
    "duration": 28,
    "start_time": "2022-01-14T08:38:32.180Z"
   },
   {
    "duration": 22,
    "start_time": "2022-01-14T08:38:32.227Z"
   },
   {
    "duration": 2,
    "start_time": "2022-01-14T08:38:32.251Z"
   },
   {
    "duration": 26,
    "start_time": "2022-01-14T08:38:32.255Z"
   },
   {
    "duration": 12,
    "start_time": "2022-01-14T08:38:32.283Z"
   },
   {
    "duration": 20,
    "start_time": "2022-01-14T08:38:32.297Z"
   },
   {
    "duration": 19,
    "start_time": "2022-01-14T08:38:32.319Z"
   },
   {
    "duration": 55,
    "start_time": "2022-01-14T08:38:32.340Z"
   },
   {
    "duration": 37,
    "start_time": "2022-01-14T08:38:32.397Z"
   },
   {
    "duration": 1153,
    "start_time": "2022-01-16T12:37:50.190Z"
   },
   {
    "duration": 6,
    "start_time": "2022-01-16T12:37:51.344Z"
   },
   {
    "duration": 157,
    "start_time": "2022-01-16T12:37:51.352Z"
   },
   {
    "duration": 4,
    "start_time": "2022-01-16T12:37:51.511Z"
   },
   {
    "duration": 29,
    "start_time": "2022-01-16T12:37:51.517Z"
   },
   {
    "duration": 4,
    "start_time": "2022-01-16T12:37:51.547Z"
   },
   {
    "duration": 24,
    "start_time": "2022-01-16T12:37:51.553Z"
   },
   {
    "duration": 21,
    "start_time": "2022-01-16T12:37:51.580Z"
   },
   {
    "duration": 142,
    "start_time": "2022-01-16T12:37:51.603Z"
   },
   {
    "duration": 40,
    "start_time": "2022-01-16T12:37:51.747Z"
   },
   {
    "duration": 19,
    "start_time": "2022-01-16T12:37:51.788Z"
   },
   {
    "duration": 100,
    "start_time": "2022-01-16T12:37:51.809Z"
   },
   {
    "duration": 31,
    "start_time": "2022-01-16T12:37:51.911Z"
   },
   {
    "duration": 8,
    "start_time": "2022-01-16T12:37:51.944Z"
   },
   {
    "duration": 33,
    "start_time": "2022-01-16T12:37:51.954Z"
   },
   {
    "duration": 81,
    "start_time": "2022-01-16T12:37:51.989Z"
   },
   {
    "duration": 39,
    "start_time": "2022-01-16T12:37:52.072Z"
   },
   {
    "duration": 31,
    "start_time": "2022-01-16T12:37:52.113Z"
   },
   {
    "duration": 38,
    "start_time": "2022-01-16T12:37:52.146Z"
   },
   {
    "duration": 21,
    "start_time": "2022-01-16T12:37:52.186Z"
   },
   {
    "duration": 15,
    "start_time": "2022-01-16T12:37:52.209Z"
   },
   {
    "duration": 12,
    "start_time": "2022-01-16T12:37:52.226Z"
   },
   {
    "duration": 14,
    "start_time": "2022-01-16T12:37:52.242Z"
   },
   {
    "duration": 5,
    "start_time": "2022-01-16T12:37:52.259Z"
   },
   {
    "duration": 220,
    "start_time": "2022-01-16T12:37:52.266Z"
   },
   {
    "duration": 22,
    "start_time": "2022-01-16T12:37:52.487Z"
   },
   {
    "duration": 14,
    "start_time": "2022-01-16T12:37:52.511Z"
   },
   {
    "duration": 7,
    "start_time": "2022-01-16T12:37:52.527Z"
   },
   {
    "duration": 7,
    "start_time": "2022-01-16T12:37:52.536Z"
   },
   {
    "duration": 61,
    "start_time": "2022-01-16T12:37:52.545Z"
   },
   {
    "duration": 6,
    "start_time": "2022-01-16T12:37:52.608Z"
   },
   {
    "duration": 8,
    "start_time": "2022-01-16T12:37:52.616Z"
   },
   {
    "duration": 9,
    "start_time": "2022-01-16T12:37:52.626Z"
   },
   {
    "duration": 7,
    "start_time": "2022-01-16T12:37:52.637Z"
   },
   {
    "duration": 12,
    "start_time": "2022-01-16T12:37:52.645Z"
   },
   {
    "duration": 106888,
    "start_time": "2022-01-16T12:37:52.658Z"
   },
   {
    "duration": 9,
    "start_time": "2022-01-16T12:39:39.548Z"
   },
   {
    "duration": 28,
    "start_time": "2022-01-16T12:39:39.559Z"
   },
   {
    "duration": 17,
    "start_time": "2022-01-16T12:39:39.588Z"
   },
   {
    "duration": 22,
    "start_time": "2022-01-16T12:39:39.607Z"
   },
   {
    "duration": 23,
    "start_time": "2022-01-16T12:39:39.631Z"
   },
   {
    "duration": 14,
    "start_time": "2022-01-16T12:39:39.656Z"
   },
   {
    "duration": 634,
    "start_time": "2022-01-16T12:39:39.672Z"
   },
   {
    "duration": 1089,
    "start_time": "2022-01-16T12:39:39.220Z"
   },
   {
    "duration": 1014,
    "start_time": "2022-01-16T12:39:39.296Z"
   },
   {
    "duration": 964,
    "start_time": "2022-01-16T12:39:39.347Z"
   },
   {
    "duration": 958,
    "start_time": "2022-01-16T12:39:39.354Z"
   },
   {
    "duration": 953,
    "start_time": "2022-01-16T12:39:39.360Z"
   },
   {
    "duration": 947,
    "start_time": "2022-01-16T12:39:39.367Z"
   },
   {
    "duration": 941,
    "start_time": "2022-01-16T12:39:39.374Z"
   },
   {
    "duration": 935,
    "start_time": "2022-01-16T12:39:39.381Z"
   },
   {
    "duration": 930,
    "start_time": "2022-01-16T12:39:39.387Z"
   },
   {
    "duration": 925,
    "start_time": "2022-01-16T12:39:39.394Z"
   },
   {
    "duration": 921,
    "start_time": "2022-01-16T12:39:39.399Z"
   },
   {
    "duration": 915,
    "start_time": "2022-01-16T12:39:39.406Z"
   },
   {
    "duration": 896,
    "start_time": "2022-01-16T12:39:39.426Z"
   },
   {
    "duration": 890,
    "start_time": "2022-01-16T12:39:39.433Z"
   },
   {
    "duration": 887,
    "start_time": "2022-01-16T12:39:39.438Z"
   },
   {
    "duration": 881,
    "start_time": "2022-01-16T12:39:39.445Z"
   },
   {
    "duration": 876,
    "start_time": "2022-01-16T12:39:39.451Z"
   },
   {
    "duration": 870,
    "start_time": "2022-01-16T12:39:39.458Z"
   },
   {
    "duration": 865,
    "start_time": "2022-01-16T12:39:39.464Z"
   },
   {
    "duration": 860,
    "start_time": "2022-01-16T12:39:39.470Z"
   },
   {
    "duration": 855,
    "start_time": "2022-01-16T12:39:39.476Z"
   },
   {
    "duration": 850,
    "start_time": "2022-01-16T12:39:39.482Z"
   },
   {
    "duration": 845,
    "start_time": "2022-01-16T12:39:39.488Z"
   },
   {
    "duration": 823,
    "start_time": "2022-01-16T12:39:39.511Z"
   },
   {
    "duration": 818,
    "start_time": "2022-01-16T12:39:39.518Z"
   },
   {
    "duration": 813,
    "start_time": "2022-01-16T12:39:39.524Z"
   },
   {
    "duration": 801,
    "start_time": "2022-01-16T12:39:39.537Z"
   },
   {
    "duration": 788,
    "start_time": "2022-01-16T12:39:39.551Z"
   },
   {
    "duration": 783,
    "start_time": "2022-01-16T12:39:39.557Z"
   },
   {
    "duration": 770,
    "start_time": "2022-01-16T12:39:39.571Z"
   },
   {
    "duration": 758,
    "start_time": "2022-01-16T12:39:39.584Z"
   },
   {
    "duration": 752,
    "start_time": "2022-01-16T12:39:39.591Z"
   },
   {
    "duration": 41994,
    "start_time": "2022-01-16T12:40:40.859Z"
   },
   {
    "duration": 11772,
    "start_time": "2022-01-16T12:41:25.870Z"
   },
   {
    "duration": 1069,
    "start_time": "2022-01-16T12:41:47.460Z"
   },
   {
    "duration": 5,
    "start_time": "2022-01-16T12:41:48.531Z"
   },
   {
    "duration": 158,
    "start_time": "2022-01-16T12:41:48.538Z"
   },
   {
    "duration": 5,
    "start_time": "2022-01-16T12:41:48.698Z"
   },
   {
    "duration": 28,
    "start_time": "2022-01-16T12:41:48.705Z"
   },
   {
    "duration": 5,
    "start_time": "2022-01-16T12:41:48.734Z"
   },
   {
    "duration": 24,
    "start_time": "2022-01-16T12:41:48.741Z"
   },
   {
    "duration": 32,
    "start_time": "2022-01-16T12:41:48.767Z"
   },
   {
    "duration": 135,
    "start_time": "2022-01-16T12:41:48.801Z"
   },
   {
    "duration": 40,
    "start_time": "2022-01-16T12:41:48.938Z"
   },
   {
    "duration": 8,
    "start_time": "2022-01-16T12:41:48.980Z"
   },
   {
    "duration": 98,
    "start_time": "2022-01-16T12:41:48.999Z"
   },
   {
    "duration": 29,
    "start_time": "2022-01-16T12:41:49.099Z"
   },
   {
    "duration": 7,
    "start_time": "2022-01-16T12:41:49.130Z"
   },
   {
    "duration": 22,
    "start_time": "2022-01-16T12:41:49.139Z"
   },
   {
    "duration": 33,
    "start_time": "2022-01-16T12:41:49.163Z"
   },
   {
    "duration": 39,
    "start_time": "2022-01-16T12:41:49.198Z"
   },
   {
    "duration": 26,
    "start_time": "2022-01-16T12:41:49.239Z"
   },
   {
    "duration": 45,
    "start_time": "2022-01-16T12:41:49.267Z"
   },
   {
    "duration": 5,
    "start_time": "2022-01-16T12:41:49.314Z"
   },
   {
    "duration": 13,
    "start_time": "2022-01-16T12:41:49.321Z"
   },
   {
    "duration": 11,
    "start_time": "2022-01-16T12:41:49.336Z"
   },
   {
    "duration": 14,
    "start_time": "2022-01-16T12:41:49.351Z"
   },
   {
    "duration": 32,
    "start_time": "2022-01-16T12:41:49.368Z"
   },
   {
    "duration": 199,
    "start_time": "2022-01-16T12:41:49.402Z"
   },
   {
    "duration": 17,
    "start_time": "2022-01-16T12:41:49.603Z"
   },
   {
    "duration": 11,
    "start_time": "2022-01-16T12:41:49.622Z"
   },
   {
    "duration": 8,
    "start_time": "2022-01-16T12:41:49.635Z"
   },
   {
    "duration": 8,
    "start_time": "2022-01-16T12:41:49.644Z"
   },
   {
    "duration": 74,
    "start_time": "2022-01-16T12:41:49.654Z"
   },
   {
    "duration": 8,
    "start_time": "2022-01-16T12:41:49.730Z"
   },
   {
    "duration": 9,
    "start_time": "2022-01-16T12:41:49.740Z"
   },
   {
    "duration": 9,
    "start_time": "2022-01-16T12:41:49.751Z"
   },
   {
    "duration": 5,
    "start_time": "2022-01-16T12:41:49.762Z"
   },
   {
    "duration": 11,
    "start_time": "2022-01-16T12:41:49.799Z"
   },
   {
    "duration": 105119,
    "start_time": "2022-01-16T12:41:49.812Z"
   },
   {
    "duration": 8,
    "start_time": "2022-01-16T12:43:34.933Z"
   },
   {
    "duration": 44,
    "start_time": "2022-01-16T12:43:34.942Z"
   },
   {
    "duration": 22,
    "start_time": "2022-01-16T12:43:34.987Z"
   },
   {
    "duration": 31,
    "start_time": "2022-01-16T12:43:35.010Z"
   },
   {
    "duration": 33,
    "start_time": "2022-01-16T12:43:35.042Z"
   },
   {
    "duration": 40,
    "start_time": "2022-01-16T12:43:35.076Z"
   },
   {
    "duration": 647,
    "start_time": "2022-01-16T12:43:35.118Z"
   },
   {
    "duration": 1104,
    "start_time": "2022-01-16T12:43:34.663Z"
   },
   {
    "duration": 1099,
    "start_time": "2022-01-16T12:43:34.669Z"
   },
   {
    "duration": 1095,
    "start_time": "2022-01-16T12:43:34.675Z"
   },
   {
    "duration": 1090,
    "start_time": "2022-01-16T12:43:34.681Z"
   },
   {
    "duration": 1084,
    "start_time": "2022-01-16T12:43:34.688Z"
   },
   {
    "duration": 1079,
    "start_time": "2022-01-16T12:43:34.694Z"
   },
   {
    "duration": 1074,
    "start_time": "2022-01-16T12:43:34.700Z"
   },
   {
    "duration": 1069,
    "start_time": "2022-01-16T12:43:34.706Z"
   },
   {
    "duration": 1065,
    "start_time": "2022-01-16T12:43:34.712Z"
   },
   {
    "duration": 1060,
    "start_time": "2022-01-16T12:43:34.718Z"
   },
   {
    "duration": 1054,
    "start_time": "2022-01-16T12:43:34.725Z"
   },
   {
    "duration": 1049,
    "start_time": "2022-01-16T12:43:34.731Z"
   },
   {
    "duration": 1060,
    "start_time": "2022-01-16T12:43:34.738Z"
   },
   {
    "duration": 1055,
    "start_time": "2022-01-16T12:43:34.744Z"
   },
   {
    "duration": 1030,
    "start_time": "2022-01-16T12:43:34.770Z"
   },
   {
    "duration": 1025,
    "start_time": "2022-01-16T12:43:34.776Z"
   },
   {
    "duration": 1020,
    "start_time": "2022-01-16T12:43:34.782Z"
   },
   {
    "duration": 1015,
    "start_time": "2022-01-16T12:43:34.788Z"
   },
   {
    "duration": 1010,
    "start_time": "2022-01-16T12:43:34.794Z"
   },
   {
    "duration": 1005,
    "start_time": "2022-01-16T12:43:34.800Z"
   },
   {
    "duration": 999,
    "start_time": "2022-01-16T12:43:34.807Z"
   },
   {
    "duration": 994,
    "start_time": "2022-01-16T12:43:34.813Z"
   },
   {
    "duration": 989,
    "start_time": "2022-01-16T12:43:34.819Z"
   },
   {
    "duration": 984,
    "start_time": "2022-01-16T12:43:34.825Z"
   },
   {
    "duration": 979,
    "start_time": "2022-01-16T12:43:34.831Z"
   },
   {
    "duration": 974,
    "start_time": "2022-01-16T12:43:34.837Z"
   },
   {
    "duration": 970,
    "start_time": "2022-01-16T12:43:34.843Z"
   },
   {
    "duration": 965,
    "start_time": "2022-01-16T12:43:34.849Z"
   },
   {
    "duration": 960,
    "start_time": "2022-01-16T12:43:34.855Z"
   },
   {
    "duration": 955,
    "start_time": "2022-01-16T12:43:34.861Z"
   },
   {
    "duration": 950,
    "start_time": "2022-01-16T12:43:34.867Z"
   },
   {
    "duration": 934,
    "start_time": "2022-01-16T12:43:34.884Z"
   },
   {
    "duration": 265,
    "start_time": "2022-01-16T12:43:53.530Z"
   },
   {
    "duration": 1166,
    "start_time": "2022-01-16T12:44:22.279Z"
   },
   {
    "duration": 7,
    "start_time": "2022-01-16T12:44:23.447Z"
   },
   {
    "duration": 155,
    "start_time": "2022-01-16T12:44:23.457Z"
   },
   {
    "duration": 6,
    "start_time": "2022-01-16T12:44:23.614Z"
   },
   {
    "duration": 28,
    "start_time": "2022-01-16T12:44:23.622Z"
   },
   {
    "duration": 6,
    "start_time": "2022-01-16T12:44:23.652Z"
   },
   {
    "duration": 53,
    "start_time": "2022-01-16T12:44:23.660Z"
   },
   {
    "duration": 10,
    "start_time": "2022-01-16T12:44:23.716Z"
   },
   {
    "duration": 138,
    "start_time": "2022-01-16T12:44:23.728Z"
   },
   {
    "duration": 48,
    "start_time": "2022-01-16T12:44:23.868Z"
   },
   {
    "duration": 9,
    "start_time": "2022-01-16T12:44:23.918Z"
   },
   {
    "duration": 93,
    "start_time": "2022-01-16T12:44:23.928Z"
   },
   {
    "duration": 29,
    "start_time": "2022-01-16T12:44:24.023Z"
   },
   {
    "duration": 7,
    "start_time": "2022-01-16T12:44:24.054Z"
   },
   {
    "duration": 20,
    "start_time": "2022-01-16T12:44:24.063Z"
   },
   {
    "duration": 52,
    "start_time": "2022-01-16T12:44:24.085Z"
   },
   {
    "duration": 35,
    "start_time": "2022-01-16T12:44:24.139Z"
   },
   {
    "duration": 25,
    "start_time": "2022-01-16T12:44:24.175Z"
   },
   {
    "duration": 22,
    "start_time": "2022-01-16T12:44:24.201Z"
   },
   {
    "duration": 5,
    "start_time": "2022-01-16T12:44:24.225Z"
   },
   {
    "duration": 11,
    "start_time": "2022-01-16T12:44:24.232Z"
   },
   {
    "duration": 10,
    "start_time": "2022-01-16T12:44:24.244Z"
   },
   {
    "duration": 13,
    "start_time": "2022-01-16T12:44:24.258Z"
   },
   {
    "duration": 5,
    "start_time": "2022-01-16T12:44:24.300Z"
   },
   {
    "duration": 199,
    "start_time": "2022-01-16T12:44:24.307Z"
   },
   {
    "duration": 17,
    "start_time": "2022-01-16T12:44:24.508Z"
   },
   {
    "duration": 10,
    "start_time": "2022-01-16T12:44:24.526Z"
   },
   {
    "duration": 7,
    "start_time": "2022-01-16T12:44:24.538Z"
   },
   {
    "duration": 7,
    "start_time": "2022-01-16T12:44:24.547Z"
   },
   {
    "duration": 76,
    "start_time": "2022-01-16T12:44:24.556Z"
   },
   {
    "duration": 6,
    "start_time": "2022-01-16T12:44:24.634Z"
   },
   {
    "duration": 9,
    "start_time": "2022-01-16T12:44:24.642Z"
   },
   {
    "duration": 10,
    "start_time": "2022-01-16T12:44:24.652Z"
   },
   {
    "duration": 4,
    "start_time": "2022-01-16T12:44:24.663Z"
   },
   {
    "duration": 37,
    "start_time": "2022-01-16T12:44:24.669Z"
   },
   {
    "duration": 3,
    "start_time": "2022-01-16T12:44:24.708Z"
   },
   {
    "duration": 9,
    "start_time": "2022-01-16T12:44:24.713Z"
   },
   {
    "duration": 20,
    "start_time": "2022-01-16T12:44:24.724Z"
   },
   {
    "duration": 18,
    "start_time": "2022-01-16T12:44:24.746Z"
   },
   {
    "duration": 43,
    "start_time": "2022-01-16T12:44:24.766Z"
   },
   {
    "duration": 18,
    "start_time": "2022-01-16T12:44:24.811Z"
   },
   {
    "duration": 5,
    "start_time": "2022-01-16T12:44:24.831Z"
   },
   {
    "duration": 608,
    "start_time": "2022-01-16T12:44:24.838Z"
   },
   {
    "duration": 848,
    "start_time": "2022-01-16T12:44:24.600Z"
   },
   {
    "duration": 844,
    "start_time": "2022-01-16T12:44:24.606Z"
   },
   {
    "duration": 838,
    "start_time": "2022-01-16T12:44:24.613Z"
   },
   {
    "duration": 834,
    "start_time": "2022-01-16T12:44:24.619Z"
   },
   {
    "duration": 829,
    "start_time": "2022-01-16T12:44:24.625Z"
   },
   {
    "duration": 824,
    "start_time": "2022-01-16T12:44:24.632Z"
   },
   {
    "duration": 819,
    "start_time": "2022-01-16T12:44:24.638Z"
   },
   {
    "duration": 762,
    "start_time": "2022-01-16T12:44:24.697Z"
   },
   {
    "duration": 757,
    "start_time": "2022-01-16T12:44:24.703Z"
   },
   {
    "duration": 752,
    "start_time": "2022-01-16T12:44:24.710Z"
   },
   {
    "duration": 746,
    "start_time": "2022-01-16T12:44:24.717Z"
   },
   {
    "duration": 741,
    "start_time": "2022-01-16T12:44:24.724Z"
   },
   {
    "duration": 735,
    "start_time": "2022-01-16T12:44:24.731Z"
   },
   {
    "duration": 762,
    "start_time": "2022-01-16T12:44:24.737Z"
   },
   {
    "duration": 757,
    "start_time": "2022-01-16T12:44:24.744Z"
   },
   {
    "duration": 752,
    "start_time": "2022-01-16T12:44:24.750Z"
   },
   {
    "duration": 748,
    "start_time": "2022-01-16T12:44:24.756Z"
   },
   {
    "duration": 742,
    "start_time": "2022-01-16T12:44:24.763Z"
   },
   {
    "duration": 737,
    "start_time": "2022-01-16T12:44:24.769Z"
   },
   {
    "duration": 732,
    "start_time": "2022-01-16T12:44:24.776Z"
   },
   {
    "duration": 726,
    "start_time": "2022-01-16T12:44:24.783Z"
   },
   {
    "duration": 722,
    "start_time": "2022-01-16T12:44:24.789Z"
   },
   {
    "duration": 706,
    "start_time": "2022-01-16T12:44:24.806Z"
   },
   {
    "duration": 699,
    "start_time": "2022-01-16T12:44:24.814Z"
   },
   {
    "duration": 695,
    "start_time": "2022-01-16T12:44:24.820Z"
   },
   {
    "duration": 689,
    "start_time": "2022-01-16T12:44:24.827Z"
   },
   {
    "duration": 675,
    "start_time": "2022-01-16T12:44:24.843Z"
   },
   {
    "duration": 670,
    "start_time": "2022-01-16T12:44:24.849Z"
   },
   {
    "duration": 664,
    "start_time": "2022-01-16T12:44:24.856Z"
   },
   {
    "duration": 660,
    "start_time": "2022-01-16T12:44:24.862Z"
   },
   {
    "duration": 654,
    "start_time": "2022-01-16T12:44:24.869Z"
   },
   {
    "duration": 649,
    "start_time": "2022-01-16T12:44:24.876Z"
   },
   {
    "duration": 105046,
    "start_time": "2022-01-16T12:46:10.779Z"
   },
   {
    "duration": 1071,
    "start_time": "2022-01-16T12:53:25.560Z"
   },
   {
    "duration": 6,
    "start_time": "2022-01-16T12:53:26.633Z"
   },
   {
    "duration": 155,
    "start_time": "2022-01-16T12:53:26.641Z"
   },
   {
    "duration": 5,
    "start_time": "2022-01-16T12:53:26.798Z"
   },
   {
    "duration": 31,
    "start_time": "2022-01-16T12:53:26.805Z"
   },
   {
    "duration": 5,
    "start_time": "2022-01-16T12:53:26.838Z"
   },
   {
    "duration": 24,
    "start_time": "2022-01-16T12:53:26.845Z"
   },
   {
    "duration": 31,
    "start_time": "2022-01-16T12:53:26.871Z"
   },
   {
    "duration": 130,
    "start_time": "2022-01-16T12:53:26.904Z"
   },
   {
    "duration": 38,
    "start_time": "2022-01-16T12:53:27.036Z"
   },
   {
    "duration": 9,
    "start_time": "2022-01-16T12:53:27.075Z"
   },
   {
    "duration": 106,
    "start_time": "2022-01-16T12:53:27.085Z"
   },
   {
    "duration": 30,
    "start_time": "2022-01-16T12:53:27.193Z"
   },
   {
    "duration": 7,
    "start_time": "2022-01-16T12:53:27.225Z"
   },
   {
    "duration": 24,
    "start_time": "2022-01-16T12:53:27.234Z"
   },
   {
    "duration": 33,
    "start_time": "2022-01-16T12:53:27.260Z"
   },
   {
    "duration": 39,
    "start_time": "2022-01-16T12:53:27.295Z"
   },
   {
    "duration": 25,
    "start_time": "2022-01-16T12:53:27.336Z"
   },
   {
    "duration": 22,
    "start_time": "2022-01-16T12:53:27.362Z"
   },
   {
    "duration": 5,
    "start_time": "2022-01-16T12:53:27.399Z"
   },
   {
    "duration": 13,
    "start_time": "2022-01-16T12:53:27.406Z"
   },
   {
    "duration": 10,
    "start_time": "2022-01-16T12:53:27.420Z"
   },
   {
    "duration": 14,
    "start_time": "2022-01-16T12:53:27.433Z"
   },
   {
    "duration": 5,
    "start_time": "2022-01-16T12:53:27.450Z"
   },
   {
    "duration": 224,
    "start_time": "2022-01-16T12:53:27.456Z"
   },
   {
    "duration": 21,
    "start_time": "2022-01-16T12:53:27.682Z"
   },
   {
    "duration": 11,
    "start_time": "2022-01-16T12:53:27.704Z"
   },
   {
    "duration": 7,
    "start_time": "2022-01-16T12:53:27.717Z"
   },
   {
    "duration": 8,
    "start_time": "2022-01-16T12:53:27.725Z"
   },
   {
    "duration": 67,
    "start_time": "2022-01-16T12:53:27.734Z"
   },
   {
    "duration": 7,
    "start_time": "2022-01-16T12:53:27.803Z"
   },
   {
    "duration": 9,
    "start_time": "2022-01-16T12:53:27.811Z"
   },
   {
    "duration": 11,
    "start_time": "2022-01-16T12:53:27.821Z"
   },
   {
    "duration": 7,
    "start_time": "2022-01-16T12:53:27.833Z"
   },
   {
    "duration": 10,
    "start_time": "2022-01-16T12:53:27.842Z"
   },
   {
    "duration": 1,
    "start_time": "2022-01-16T12:53:27.854Z"
   },
   {
    "duration": 7,
    "start_time": "2022-01-16T12:53:27.857Z"
   },
   {
    "duration": 46,
    "start_time": "2022-01-16T12:53:27.866Z"
   },
   {
    "duration": 17,
    "start_time": "2022-01-16T12:53:27.914Z"
   },
   {
    "duration": 11,
    "start_time": "2022-01-16T12:53:27.932Z"
   },
   {
    "duration": 16,
    "start_time": "2022-01-16T12:53:27.944Z"
   },
   {
    "duration": 38,
    "start_time": "2022-01-16T12:53:27.961Z"
   },
   {
    "duration": 616,
    "start_time": "2022-01-16T12:53:28.001Z"
   },
   {
    "duration": -81,
    "start_time": "2022-01-16T12:53:28.699Z"
   },
   {
    "duration": -106,
    "start_time": "2022-01-16T12:53:28.725Z"
   },
   {
    "duration": -111,
    "start_time": "2022-01-16T12:53:28.732Z"
   },
   {
    "duration": -117,
    "start_time": "2022-01-16T12:53:28.739Z"
   },
   {
    "duration": -124,
    "start_time": "2022-01-16T12:53:28.746Z"
   },
   {
    "duration": -130,
    "start_time": "2022-01-16T12:53:28.753Z"
   },
   {
    "duration": -135,
    "start_time": "2022-01-16T12:53:28.759Z"
   },
   {
    "duration": -142,
    "start_time": "2022-01-16T12:53:28.767Z"
   },
   {
    "duration": -146,
    "start_time": "2022-01-16T12:53:28.773Z"
   },
   {
    "duration": -153,
    "start_time": "2022-01-16T12:53:28.781Z"
   },
   {
    "duration": -158,
    "start_time": "2022-01-16T12:53:28.787Z"
   },
   {
    "duration": -165,
    "start_time": "2022-01-16T12:53:28.794Z"
   },
   {
    "duration": -170,
    "start_time": "2022-01-16T12:53:28.801Z"
   },
   {
    "duration": -177,
    "start_time": "2022-01-16T12:53:28.808Z"
   },
   {
    "duration": -182,
    "start_time": "2022-01-16T12:53:28.814Z"
   },
   {
    "duration": -188,
    "start_time": "2022-01-16T12:53:28.821Z"
   },
   {
    "duration": -205,
    "start_time": "2022-01-16T12:53:28.839Z"
   },
   {
    "duration": -211,
    "start_time": "2022-01-16T12:53:28.847Z"
   },
   {
    "duration": -216,
    "start_time": "2022-01-16T12:53:28.853Z"
   },
   {
    "duration": -222,
    "start_time": "2022-01-16T12:53:28.860Z"
   },
   {
    "duration": -227,
    "start_time": "2022-01-16T12:53:28.866Z"
   },
   {
    "duration": -233,
    "start_time": "2022-01-16T12:53:28.873Z"
   },
   {
    "duration": -239,
    "start_time": "2022-01-16T12:53:28.880Z"
   },
   {
    "duration": -245,
    "start_time": "2022-01-16T12:53:28.887Z"
   },
   {
    "duration": -250,
    "start_time": "2022-01-16T12:53:28.893Z"
   },
   {
    "duration": -256,
    "start_time": "2022-01-16T12:53:28.900Z"
   },
   {
    "duration": -262,
    "start_time": "2022-01-16T12:53:28.907Z"
   },
   {
    "duration": -268,
    "start_time": "2022-01-16T12:53:28.914Z"
   },
   {
    "duration": -273,
    "start_time": "2022-01-16T12:53:28.920Z"
   },
   {
    "duration": -280,
    "start_time": "2022-01-16T12:53:28.928Z"
   },
   {
    "duration": -288,
    "start_time": "2022-01-16T12:53:28.937Z"
   },
   {
    "duration": -307,
    "start_time": "2022-01-16T12:53:28.957Z"
   },
   {
    "duration": 174857,
    "start_time": "2022-01-16T12:53:48.371Z"
   },
   {
    "duration": 524,
    "start_time": "2022-01-16T12:57:33.660Z"
   },
   {
    "duration": 1145,
    "start_time": "2022-01-16T12:57:59.575Z"
   },
   {
    "duration": 7,
    "start_time": "2022-01-16T12:58:00.722Z"
   },
   {
    "duration": 176,
    "start_time": "2022-01-16T12:58:00.731Z"
   },
   {
    "duration": 5,
    "start_time": "2022-01-16T12:58:00.909Z"
   },
   {
    "duration": 37,
    "start_time": "2022-01-16T12:58:00.915Z"
   },
   {
    "duration": 5,
    "start_time": "2022-01-16T12:58:00.954Z"
   },
   {
    "duration": 39,
    "start_time": "2022-01-16T12:58:00.961Z"
   },
   {
    "duration": 10,
    "start_time": "2022-01-16T12:58:01.002Z"
   },
   {
    "duration": 153,
    "start_time": "2022-01-16T12:58:01.015Z"
   },
   {
    "duration": 52,
    "start_time": "2022-01-16T12:58:01.169Z"
   },
   {
    "duration": 10,
    "start_time": "2022-01-16T12:58:01.223Z"
   },
   {
    "duration": 110,
    "start_time": "2022-01-16T12:58:01.234Z"
   },
   {
    "duration": 32,
    "start_time": "2022-01-16T12:58:01.345Z"
   },
   {
    "duration": 22,
    "start_time": "2022-01-16T12:58:01.379Z"
   },
   {
    "duration": 26,
    "start_time": "2022-01-16T12:58:01.403Z"
   },
   {
    "duration": 34,
    "start_time": "2022-01-16T12:58:01.431Z"
   },
   {
    "duration": 40,
    "start_time": "2022-01-16T12:58:01.466Z"
   },
   {
    "duration": 29,
    "start_time": "2022-01-16T12:58:01.509Z"
   },
   {
    "duration": 25,
    "start_time": "2022-01-16T12:58:01.541Z"
   },
   {
    "duration": 8,
    "start_time": "2022-01-16T12:58:01.568Z"
   },
   {
    "duration": 13,
    "start_time": "2022-01-16T12:58:01.598Z"
   },
   {
    "duration": 17,
    "start_time": "2022-01-16T12:58:01.613Z"
   },
   {
    "duration": 14,
    "start_time": "2022-01-16T12:58:01.635Z"
   },
   {
    "duration": 5,
    "start_time": "2022-01-16T12:58:01.652Z"
   },
   {
    "duration": 218,
    "start_time": "2022-01-16T12:58:01.659Z"
   },
   {
    "duration": 23,
    "start_time": "2022-01-16T12:58:01.879Z"
   },
   {
    "duration": 9,
    "start_time": "2022-01-16T12:58:01.904Z"
   },
   {
    "duration": 14,
    "start_time": "2022-01-16T12:58:01.915Z"
   },
   {
    "duration": 18,
    "start_time": "2022-01-16T12:58:01.931Z"
   },
   {
    "duration": 53,
    "start_time": "2022-01-16T12:58:01.950Z"
   },
   {
    "duration": 6,
    "start_time": "2022-01-16T12:58:02.005Z"
   },
   {
    "duration": 14,
    "start_time": "2022-01-16T12:58:02.013Z"
   },
   {
    "duration": 15,
    "start_time": "2022-01-16T12:58:02.029Z"
   },
   {
    "duration": 7,
    "start_time": "2022-01-16T12:58:02.045Z"
   },
   {
    "duration": 16,
    "start_time": "2022-01-16T12:58:02.054Z"
   },
   {
    "duration": 2,
    "start_time": "2022-01-16T12:58:02.072Z"
   },
   {
    "duration": 32,
    "start_time": "2022-01-16T12:58:02.076Z"
   },
   {
    "duration": 22,
    "start_time": "2022-01-16T12:58:02.111Z"
   },
   {
    "duration": 18,
    "start_time": "2022-01-16T12:58:02.135Z"
   },
   {
    "duration": 11,
    "start_time": "2022-01-16T12:58:02.155Z"
   },
   {
    "duration": 45,
    "start_time": "2022-01-16T12:58:02.168Z"
   },
   {
    "duration": 5,
    "start_time": "2022-01-16T12:58:02.214Z"
   },
   {
    "duration": 405,
    "start_time": "2022-01-16T12:58:02.221Z"
   },
   {
    "duration": 265,
    "start_time": "2022-01-16T12:58:02.627Z"
   },
   {
    "duration": 380,
    "start_time": "2022-01-16T12:58:02.894Z"
   },
   {
    "duration": 262,
    "start_time": "2022-01-16T12:58:03.276Z"
   },
   {
    "duration": 387,
    "start_time": "2022-01-16T12:58:03.541Z"
   },
   {
    "duration": 244,
    "start_time": "2022-01-16T12:58:03.930Z"
   },
   {
    "duration": 10,
    "start_time": "2022-01-16T12:58:04.176Z"
   },
   {
    "duration": 25,
    "start_time": "2022-01-16T12:58:04.188Z"
   },
   {
    "duration": 12,
    "start_time": "2022-01-16T12:58:04.214Z"
   },
   {
    "duration": 464,
    "start_time": "2022-01-16T12:58:04.228Z"
   },
   {
    "duration": 273,
    "start_time": "2022-01-16T12:58:04.698Z"
   },
   {
    "duration": 413,
    "start_time": "2022-01-16T12:58:04.973Z"
   },
   {
    "duration": 279,
    "start_time": "2022-01-16T12:58:05.388Z"
   },
   {
    "duration": 386,
    "start_time": "2022-01-16T12:58:05.668Z"
   },
   {
    "duration": 258,
    "start_time": "2022-01-16T12:58:06.056Z"
   },
   {
    "duration": 18,
    "start_time": "2022-01-16T12:58:06.315Z"
   },
   {
    "duration": 17,
    "start_time": "2022-01-16T12:58:06.335Z"
   },
   {
    "duration": 3,
    "start_time": "2022-01-16T12:58:06.353Z"
   },
   {
    "duration": 6,
    "start_time": "2022-01-16T12:58:06.357Z"
   },
   {
    "duration": 5,
    "start_time": "2022-01-16T12:58:06.364Z"
   },
   {
    "duration": 30,
    "start_time": "2022-01-16T12:58:06.370Z"
   },
   {
    "duration": 5,
    "start_time": "2022-01-16T12:58:06.401Z"
   },
   {
    "duration": 44,
    "start_time": "2022-01-16T12:58:06.408Z"
   },
   {
    "duration": 63,
    "start_time": "2022-01-16T12:58:06.454Z"
   },
   {
    "duration": 18,
    "start_time": "2022-01-16T12:58:06.519Z"
   },
   {
    "duration": 18,
    "start_time": "2022-01-16T12:58:06.542Z"
   },
   {
    "duration": 2,
    "start_time": "2022-01-16T12:58:06.562Z"
   },
   {
    "duration": 7,
    "start_time": "2022-01-16T12:58:06.565Z"
   },
   {
    "duration": 3,
    "start_time": "2022-01-16T12:58:06.599Z"
   },
   {
    "duration": 8,
    "start_time": "2022-01-16T12:58:06.604Z"
   },
   {
    "duration": 5,
    "start_time": "2022-01-16T12:58:06.613Z"
   },
   {
    "duration": 51,
    "start_time": "2022-01-16T12:58:06.619Z"
   },
   {
    "duration": 65,
    "start_time": "2022-01-16T12:58:06.672Z"
   },
   {
    "duration": 465,
    "start_time": "2022-01-16T12:58:51.994Z"
   },
   {
    "duration": 1162,
    "start_time": "2022-01-17T06:58:43.942Z"
   },
   {
    "duration": 9,
    "start_time": "2022-01-17T06:58:50.662Z"
   },
   {
    "duration": 164,
    "start_time": "2022-01-17T06:58:58.667Z"
   },
   {
    "duration": 5,
    "start_time": "2022-01-17T06:59:05.703Z"
   },
   {
    "duration": 29,
    "start_time": "2022-01-17T06:59:08.054Z"
   },
   {
    "duration": 5,
    "start_time": "2022-01-17T06:59:09.023Z"
   },
   {
    "duration": 23,
    "start_time": "2022-01-17T06:59:12.126Z"
   },
   {
    "duration": 9,
    "start_time": "2022-01-17T06:59:13.583Z"
   },
   {
    "duration": 150,
    "start_time": "2022-01-17T06:59:16.782Z"
   },
   {
    "duration": 39,
    "start_time": "2022-01-17T06:59:17.342Z"
   },
   {
    "duration": 9,
    "start_time": "2022-01-17T06:59:17.791Z"
   },
   {
    "duration": 95,
    "start_time": "2022-01-17T06:59:21.510Z"
   },
   {
    "duration": 32,
    "start_time": "2022-01-17T06:59:22.094Z"
   },
   {
    "duration": 9,
    "start_time": "2022-01-17T06:59:24.063Z"
   },
   {
    "duration": 21,
    "start_time": "2022-01-17T06:59:28.366Z"
   },
   {
    "duration": 35,
    "start_time": "2022-01-17T06:59:33.351Z"
   },
   {
    "duration": 156,
    "start_time": "2022-01-17T07:12:57.160Z"
   },
   {
    "duration": 22,
    "start_time": "2022-01-17T07:14:10.586Z"
   },
   {
    "duration": 16,
    "start_time": "2022-01-17T07:24:02.103Z"
   },
   {
    "duration": 1127,
    "start_time": "2022-01-17T07:28:41.868Z"
   },
   {
    "duration": 6,
    "start_time": "2022-01-17T07:28:42.997Z"
   },
   {
    "duration": 177,
    "start_time": "2022-01-17T07:28:43.005Z"
   },
   {
    "duration": 21,
    "start_time": "2022-01-17T07:28:43.184Z"
   },
   {
    "duration": 145,
    "start_time": "2022-01-17T07:28:43.207Z"
   },
   {
    "duration": 17,
    "start_time": "2022-01-17T07:28:43.354Z"
   },
   {
    "duration": 311,
    "start_time": "2022-01-17T07:30:33.350Z"
   },
   {
    "duration": 101,
    "start_time": "2022-01-17T07:30:40.091Z"
   },
   {
    "duration": 15,
    "start_time": "2022-01-17T07:30:42.190Z"
   },
   {
    "duration": 22,
    "start_time": "2022-01-17T07:32:17.144Z"
   },
   {
    "duration": 7,
    "start_time": "2022-01-17T07:32:33.545Z"
   },
   {
    "duration": 34,
    "start_time": "2022-01-17T07:35:23.994Z"
   },
   {
    "duration": 7,
    "start_time": "2022-01-17T07:35:51.349Z"
   },
   {
    "duration": 212,
    "start_time": "2022-01-17T08:29:10.970Z"
   },
   {
    "duration": 204,
    "start_time": "2022-01-17T08:29:30.880Z"
   },
   {
    "duration": 6,
    "start_time": "2022-01-17T08:30:28.956Z"
   },
   {
    "duration": 7,
    "start_time": "2022-01-17T08:31:23.909Z"
   },
   {
    "duration": 7,
    "start_time": "2022-01-17T08:31:33.846Z"
   },
   {
    "duration": 10,
    "start_time": "2022-01-17T08:33:43.656Z"
   },
   {
    "duration": 6,
    "start_time": "2022-01-17T08:33:53.240Z"
   },
   {
    "duration": 5,
    "start_time": "2022-01-17T08:35:21.738Z"
   },
   {
    "duration": 8,
    "start_time": "2022-01-17T08:35:29.522Z"
   },
   {
    "duration": 5402,
    "start_time": "2022-01-17T08:45:15.638Z"
   },
   {
    "duration": 162,
    "start_time": "2022-01-17T08:45:43.990Z"
   },
   {
    "duration": 1158,
    "start_time": "2022-01-17T08:48:49.768Z"
   },
   {
    "duration": 7,
    "start_time": "2022-01-17T08:48:50.928Z"
   },
   {
    "duration": 228,
    "start_time": "2022-01-17T08:48:50.937Z"
   },
   {
    "duration": 22,
    "start_time": "2022-01-17T08:48:51.167Z"
   },
   {
    "duration": 391,
    "start_time": "2022-01-17T08:48:51.191Z"
   },
   {
    "duration": 18,
    "start_time": "2022-01-17T08:48:51.585Z"
   },
   {
    "duration": 423,
    "start_time": "2022-01-17T08:48:51.606Z"
   },
   {
    "duration": 17,
    "start_time": "2022-01-17T08:48:52.032Z"
   },
   {
    "duration": 245,
    "start_time": "2022-01-17T08:48:52.051Z"
   },
   {
    "duration": 6,
    "start_time": "2022-01-17T08:48:52.298Z"
   },
   {
    "duration": 36,
    "start_time": "2022-01-17T08:48:52.306Z"
   },
   {
    "duration": 6,
    "start_time": "2022-01-17T08:48:52.344Z"
   },
   {
    "duration": 161,
    "start_time": "2022-01-17T08:49:07.502Z"
   },
   {
    "duration": 2,
    "start_time": "2022-01-17T08:49:34.768Z"
   },
   {
    "duration": 88,
    "start_time": "2022-01-17T08:50:22.993Z"
   },
   {
    "duration": 371,
    "start_time": "2022-01-17T08:50:32.187Z"
   },
   {
    "duration": 109,
    "start_time": "2022-01-17T08:50:35.577Z"
   },
   {
    "duration": 190,
    "start_time": "2022-01-17T08:51:23.465Z"
   },
   {
    "duration": 115,
    "start_time": "2022-01-17T08:51:31.458Z"
   },
   {
    "duration": 100,
    "start_time": "2022-01-17T08:51:45.026Z"
   },
   {
    "duration": 105,
    "start_time": "2022-01-17T08:51:52.601Z"
   },
   {
    "duration": 4858,
    "start_time": "2022-01-17T08:58:09.746Z"
   },
   {
    "duration": 5,
    "start_time": "2022-01-17T08:58:15.771Z"
   },
   {
    "duration": 6,
    "start_time": "2022-01-17T08:58:46.507Z"
   },
   {
    "duration": 6,
    "start_time": "2022-01-17T08:58:57.035Z"
   },
   {
    "duration": 28,
    "start_time": "2022-01-17T09:10:26.242Z"
   },
   {
    "duration": 27,
    "start_time": "2022-01-17T09:10:35.713Z"
   },
   {
    "duration": 26,
    "start_time": "2022-01-17T09:11:49.662Z"
   },
   {
    "duration": 28,
    "start_time": "2022-01-17T09:12:18.068Z"
   },
   {
    "duration": 1103,
    "start_time": "2022-01-17T09:13:18.914Z"
   },
   {
    "duration": 8,
    "start_time": "2022-01-17T09:13:20.019Z"
   },
   {
    "duration": 171,
    "start_time": "2022-01-17T09:13:20.029Z"
   },
   {
    "duration": 21,
    "start_time": "2022-01-17T09:13:20.202Z"
   },
   {
    "duration": 145,
    "start_time": "2022-01-17T09:13:20.225Z"
   },
   {
    "duration": 17,
    "start_time": "2022-01-17T09:13:20.371Z"
   },
   {
    "duration": 110,
    "start_time": "2022-01-17T09:13:20.390Z"
   },
   {
    "duration": 14,
    "start_time": "2022-01-17T09:13:20.503Z"
   },
   {
    "duration": 25,
    "start_time": "2022-01-17T09:13:20.519Z"
   },
   {
    "duration": 9,
    "start_time": "2022-01-17T09:13:20.546Z"
   },
   {
    "duration": 34,
    "start_time": "2022-01-17T09:13:20.560Z"
   },
   {
    "duration": 6,
    "start_time": "2022-01-17T09:13:20.596Z"
   },
   {
    "duration": 199,
    "start_time": "2022-01-17T09:13:20.603Z"
   },
   {
    "duration": 104,
    "start_time": "2022-01-17T09:13:20.803Z"
   },
   {
    "duration": 121,
    "start_time": "2022-01-17T09:13:20.909Z"
   },
   {
    "duration": 6,
    "start_time": "2022-01-17T09:13:21.031Z"
   },
   {
    "duration": 22,
    "start_time": "2022-01-17T09:13:21.038Z"
   },
   {
    "duration": 8,
    "start_time": "2022-01-17T09:13:21.062Z"
   },
   {
    "duration": 32,
    "start_time": "2022-01-17T09:13:21.073Z"
   },
   {
    "duration": 28,
    "start_time": "2022-01-17T09:13:21.107Z"
   },
   {
    "duration": 30,
    "start_time": "2022-01-17T09:17:02.199Z"
   },
   {
    "duration": 26,
    "start_time": "2022-01-17T09:17:43.067Z"
   },
   {
    "duration": 25,
    "start_time": "2022-01-17T09:17:48.299Z"
   },
   {
    "duration": 105,
    "start_time": "2022-01-17T09:20:17.671Z"
   },
   {
    "duration": 44,
    "start_time": "2022-01-17T09:20:28.382Z"
   },
   {
    "duration": 73,
    "start_time": "2022-01-17T09:20:40.950Z"
   },
   {
    "duration": 7,
    "start_time": "2022-01-17T09:20:48.062Z"
   },
   {
    "duration": 6,
    "start_time": "2022-01-17T09:20:56.976Z"
   },
   {
    "duration": 17,
    "start_time": "2022-01-17T09:26:02.686Z"
   },
   {
    "duration": 9,
    "start_time": "2022-01-17T09:26:12.564Z"
   },
   {
    "duration": 368,
    "start_time": "2022-01-17T09:26:20.478Z"
   },
   {
    "duration": 1162,
    "start_time": "2022-01-17T09:26:38.258Z"
   },
   {
    "duration": 6,
    "start_time": "2022-01-17T09:26:39.423Z"
   },
   {
    "duration": 178,
    "start_time": "2022-01-17T09:26:39.431Z"
   },
   {
    "duration": 22,
    "start_time": "2022-01-17T09:26:39.611Z"
   },
   {
    "duration": 162,
    "start_time": "2022-01-17T09:26:39.635Z"
   },
   {
    "duration": 17,
    "start_time": "2022-01-17T09:26:39.799Z"
   },
   {
    "duration": 102,
    "start_time": "2022-01-17T09:26:39.818Z"
   },
   {
    "duration": 15,
    "start_time": "2022-01-17T09:26:39.923Z"
   },
   {
    "duration": 27,
    "start_time": "2022-01-17T09:26:39.940Z"
   },
   {
    "duration": 7,
    "start_time": "2022-01-17T09:26:39.968Z"
   },
   {
    "duration": 36,
    "start_time": "2022-01-17T09:26:39.977Z"
   },
   {
    "duration": 7,
    "start_time": "2022-01-17T09:26:40.015Z"
   },
   {
    "duration": 219,
    "start_time": "2022-01-17T09:26:40.025Z"
   },
   {
    "duration": 127,
    "start_time": "2022-01-17T09:26:40.246Z"
   },
   {
    "duration": 120,
    "start_time": "2022-01-17T09:26:40.375Z"
   },
   {
    "duration": 6,
    "start_time": "2022-01-17T09:26:40.496Z"
   },
   {
    "duration": 7,
    "start_time": "2022-01-17T09:26:40.504Z"
   },
   {
    "duration": 7,
    "start_time": "2022-01-17T09:26:40.512Z"
   },
   {
    "duration": 53,
    "start_time": "2022-01-17T09:26:40.521Z"
   },
   {
    "duration": 26,
    "start_time": "2022-01-17T09:26:40.576Z"
   },
   {
    "duration": 25,
    "start_time": "2022-01-17T09:26:40.604Z"
   },
   {
    "duration": 134,
    "start_time": "2022-01-17T09:26:40.631Z"
   },
   {
    "duration": 45,
    "start_time": "2022-01-17T09:26:40.769Z"
   },
   {
    "duration": 89,
    "start_time": "2022-01-17T09:26:40.817Z"
   },
   {
    "duration": 6,
    "start_time": "2022-01-17T09:26:40.908Z"
   },
   {
    "duration": 7,
    "start_time": "2022-01-17T09:26:40.916Z"
   },
   {
    "duration": 13,
    "start_time": "2022-01-17T09:26:46.283Z"
   },
   {
    "duration": 9,
    "start_time": "2022-01-17T09:30:17.597Z"
   },
   {
    "duration": 13,
    "start_time": "2022-01-17T09:30:20.164Z"
   },
   {
    "duration": 66,
    "start_time": "2022-01-17T09:38:47.599Z"
   },
   {
    "duration": 6,
    "start_time": "2022-01-17T09:38:58.137Z"
   },
   {
    "duration": 18,
    "start_time": "2022-01-17T09:39:19.209Z"
   },
   {
    "duration": 6,
    "start_time": "2022-01-17T09:39:20.705Z"
   },
   {
    "duration": 5,
    "start_time": "2022-01-17T09:39:29.306Z"
   },
   {
    "duration": 5,
    "start_time": "2022-01-17T09:39:38.138Z"
   },
   {
    "duration": 6,
    "start_time": "2022-01-17T09:39:47.001Z"
   },
   {
    "duration": 8,
    "start_time": "2022-01-17T09:42:53.558Z"
   },
   {
    "duration": 8,
    "start_time": "2022-01-17T09:43:11.776Z"
   },
   {
    "duration": 5,
    "start_time": "2022-01-17T09:43:28.415Z"
   },
   {
    "duration": 5,
    "start_time": "2022-01-17T09:43:43.247Z"
   },
   {
    "duration": 8,
    "start_time": "2022-01-17T09:53:35.932Z"
   },
   {
    "duration": 7,
    "start_time": "2022-01-17T09:53:41.139Z"
   },
   {
    "duration": 7,
    "start_time": "2022-01-17T09:55:12.630Z"
   },
   {
    "duration": 7,
    "start_time": "2022-01-17T09:55:14.061Z"
   },
   {
    "duration": 24,
    "start_time": "2022-01-17T09:58:13.162Z"
   },
   {
    "duration": 52,
    "start_time": "2022-01-17T09:59:18.885Z"
   },
   {
    "duration": 10,
    "start_time": "2022-01-17T09:59:56.477Z"
   },
   {
    "duration": 26,
    "start_time": "2022-01-17T10:00:02.403Z"
   },
   {
    "duration": 16,
    "start_time": "2022-01-17T10:01:11.583Z"
   },
   {
    "duration": 13,
    "start_time": "2022-01-17T10:01:27.671Z"
   },
   {
    "duration": 19,
    "start_time": "2022-01-17T10:01:38.599Z"
   },
   {
    "duration": 34,
    "start_time": "2022-01-17T10:05:35.387Z"
   },
   {
    "duration": 25,
    "start_time": "2022-01-17T10:05:50.124Z"
   },
   {
    "duration": 22,
    "start_time": "2022-01-17T10:05:56.741Z"
   },
   {
    "duration": 17,
    "start_time": "2022-01-17T10:07:20.808Z"
   },
   {
    "duration": 21,
    "start_time": "2022-01-17T10:07:21.495Z"
   },
   {
    "duration": 19,
    "start_time": "2022-01-17T10:09:29.450Z"
   },
   {
    "duration": 21,
    "start_time": "2022-01-17T10:09:30.194Z"
   },
   {
    "duration": 7,
    "start_time": "2022-01-17T14:33:18.674Z"
   },
   {
    "duration": 13,
    "start_time": "2022-01-17T14:41:39.843Z"
   },
   {
    "duration": 10,
    "start_time": "2022-01-17T14:41:44.588Z"
   },
   {
    "duration": 13,
    "start_time": "2022-01-17T14:45:22.114Z"
   },
   {
    "duration": 12,
    "start_time": "2022-01-17T14:45:37.562Z"
   },
   {
    "duration": 11,
    "start_time": "2022-01-17T14:45:53.434Z"
   },
   {
    "duration": 23,
    "start_time": "2022-01-17T14:47:17.387Z"
   },
   {
    "duration": 27,
    "start_time": "2022-01-17T14:47:19.113Z"
   },
   {
    "duration": 12,
    "start_time": "2022-01-17T14:47:34.067Z"
   },
   {
    "duration": 430,
    "start_time": "2022-01-17T14:48:02.260Z"
   },
   {
    "duration": 12,
    "start_time": "2022-01-17T14:48:02.995Z"
   },
   {
    "duration": 1210,
    "start_time": "2022-01-17T14:48:14.448Z"
   },
   {
    "duration": 6,
    "start_time": "2022-01-17T14:48:15.660Z"
   },
   {
    "duration": 171,
    "start_time": "2022-01-17T14:48:15.668Z"
   },
   {
    "duration": 25,
    "start_time": "2022-01-17T14:48:15.841Z"
   },
   {
    "duration": 144,
    "start_time": "2022-01-17T14:48:15.868Z"
   },
   {
    "duration": 18,
    "start_time": "2022-01-17T14:48:16.014Z"
   },
   {
    "duration": 103,
    "start_time": "2022-01-17T14:48:16.034Z"
   },
   {
    "duration": 24,
    "start_time": "2022-01-17T14:48:16.140Z"
   },
   {
    "duration": 22,
    "start_time": "2022-01-17T14:48:16.166Z"
   },
   {
    "duration": 7,
    "start_time": "2022-01-17T14:48:16.190Z"
   },
   {
    "duration": 44,
    "start_time": "2022-01-17T14:48:16.200Z"
   },
   {
    "duration": 10,
    "start_time": "2022-01-17T14:48:16.246Z"
   },
   {
    "duration": 335,
    "start_time": "2022-01-17T14:48:16.258Z"
   },
   {
    "duration": 118,
    "start_time": "2022-01-17T14:48:16.596Z"
   },
   {
    "duration": 124,
    "start_time": "2022-01-17T14:48:16.716Z"
   },
   {
    "duration": 6,
    "start_time": "2022-01-17T14:48:16.842Z"
   },
   {
    "duration": 16,
    "start_time": "2022-01-17T14:48:16.850Z"
   },
   {
    "duration": 7,
    "start_time": "2022-01-17T14:48:16.868Z"
   },
   {
    "duration": 32,
    "start_time": "2022-01-17T14:48:16.877Z"
   },
   {
    "duration": 52,
    "start_time": "2022-01-17T14:48:16.911Z"
   },
   {
    "duration": 26,
    "start_time": "2022-01-17T14:48:16.965Z"
   },
   {
    "duration": 129,
    "start_time": "2022-01-17T14:48:16.993Z"
   },
   {
    "duration": 64,
    "start_time": "2022-01-17T14:48:17.126Z"
   },
   {
    "duration": 85,
    "start_time": "2022-01-17T14:48:17.192Z"
   },
   {
    "duration": 8,
    "start_time": "2022-01-17T14:48:17.280Z"
   },
   {
    "duration": 8,
    "start_time": "2022-01-17T14:48:17.290Z"
   },
   {
    "duration": 15,
    "start_time": "2022-01-17T14:48:17.300Z"
   },
   {
    "duration": 96,
    "start_time": "2022-01-17T14:48:17.317Z"
   },
   {
    "duration": 5384,
    "start_time": "2022-01-17T14:48:17.415Z"
   },
   {
    "duration": 543,
    "start_time": "2022-01-17T14:48:22.259Z"
   },
   {
    "duration": 540,
    "start_time": "2022-01-17T14:48:22.264Z"
   },
   {
    "duration": 537,
    "start_time": "2022-01-17T14:48:22.268Z"
   },
   {
    "duration": 534,
    "start_time": "2022-01-17T14:48:22.272Z"
   },
   {
    "duration": 530,
    "start_time": "2022-01-17T14:48:22.277Z"
   },
   {
    "duration": 527,
    "start_time": "2022-01-17T14:48:22.282Z"
   },
   {
    "duration": 523,
    "start_time": "2022-01-17T14:48:22.288Z"
   },
   {
    "duration": 520,
    "start_time": "2022-01-17T14:48:22.292Z"
   },
   {
    "duration": 508,
    "start_time": "2022-01-17T14:48:22.306Z"
   },
   {
    "duration": 505,
    "start_time": "2022-01-17T14:48:22.311Z"
   },
   {
    "duration": 502,
    "start_time": "2022-01-17T14:48:22.315Z"
   },
   {
    "duration": 500,
    "start_time": "2022-01-17T14:48:22.320Z"
   },
   {
    "duration": 495,
    "start_time": "2022-01-17T14:48:22.326Z"
   },
   {
    "duration": 492,
    "start_time": "2022-01-17T14:48:22.331Z"
   },
   {
    "duration": 489,
    "start_time": "2022-01-17T14:48:22.336Z"
   },
   {
    "duration": 486,
    "start_time": "2022-01-17T14:48:22.341Z"
   },
   {
    "duration": 482,
    "start_time": "2022-01-17T14:48:22.346Z"
   },
   {
    "duration": 479,
    "start_time": "2022-01-17T14:48:22.351Z"
   },
   {
    "duration": 476,
    "start_time": "2022-01-17T14:48:22.356Z"
   },
   {
    "duration": 4,
    "start_time": "2022-01-17T14:48:33.435Z"
   },
   {
    "duration": 33,
    "start_time": "2022-01-17T14:48:33.442Z"
   },
   {
    "duration": 203,
    "start_time": "2022-01-17T14:48:33.479Z"
   },
   {
    "duration": 23,
    "start_time": "2022-01-17T14:48:33.684Z"
   },
   {
    "duration": 161,
    "start_time": "2022-01-17T14:48:33.709Z"
   },
   {
    "duration": 21,
    "start_time": "2022-01-17T14:48:33.872Z"
   },
   {
    "duration": 108,
    "start_time": "2022-01-17T14:48:33.896Z"
   },
   {
    "duration": 16,
    "start_time": "2022-01-17T14:48:34.006Z"
   },
   {
    "duration": 36,
    "start_time": "2022-01-17T14:48:34.024Z"
   },
   {
    "duration": 20,
    "start_time": "2022-01-17T14:48:34.062Z"
   },
   {
    "duration": 46,
    "start_time": "2022-01-17T14:48:34.084Z"
   },
   {
    "duration": 8,
    "start_time": "2022-01-17T14:48:34.132Z"
   },
   {
    "duration": 193,
    "start_time": "2022-01-17T14:48:34.143Z"
   },
   {
    "duration": 115,
    "start_time": "2022-01-17T14:48:34.338Z"
   },
   {
    "duration": 127,
    "start_time": "2022-01-17T14:48:34.455Z"
   },
   {
    "duration": 6,
    "start_time": "2022-01-17T14:48:34.584Z"
   },
   {
    "duration": 9,
    "start_time": "2022-01-17T14:48:34.592Z"
   },
   {
    "duration": 8,
    "start_time": "2022-01-17T14:48:34.603Z"
   },
   {
    "duration": 49,
    "start_time": "2022-01-17T14:48:34.615Z"
   },
   {
    "duration": 28,
    "start_time": "2022-01-17T14:48:34.666Z"
   },
   {
    "duration": 24,
    "start_time": "2022-01-17T14:48:34.696Z"
   },
   {
    "duration": 129,
    "start_time": "2022-01-17T14:48:34.722Z"
   },
   {
    "duration": 48,
    "start_time": "2022-01-17T14:48:34.853Z"
   },
   {
    "duration": 73,
    "start_time": "2022-01-17T14:48:34.902Z"
   },
   {
    "duration": 8,
    "start_time": "2022-01-17T14:48:34.977Z"
   },
   {
    "duration": 22,
    "start_time": "2022-01-17T14:48:34.987Z"
   },
   {
    "duration": 24,
    "start_time": "2022-01-17T14:48:35.011Z"
   },
   {
    "duration": 76,
    "start_time": "2022-01-17T14:48:35.037Z"
   },
   {
    "duration": 5584,
    "start_time": "2022-01-17T14:48:35.115Z"
   },
   {
    "duration": 554,
    "start_time": "2022-01-17T14:48:40.147Z"
   },
   {
    "duration": 549,
    "start_time": "2022-01-17T14:48:40.153Z"
   },
   {
    "duration": 544,
    "start_time": "2022-01-17T14:48:40.158Z"
   },
   {
    "duration": 541,
    "start_time": "2022-01-17T14:48:40.163Z"
   },
   {
    "duration": 537,
    "start_time": "2022-01-17T14:48:40.168Z"
   },
   {
    "duration": 533,
    "start_time": "2022-01-17T14:48:40.173Z"
   },
   {
    "duration": 529,
    "start_time": "2022-01-17T14:48:40.178Z"
   },
   {
    "duration": 525,
    "start_time": "2022-01-17T14:48:40.182Z"
   },
   {
    "duration": 520,
    "start_time": "2022-01-17T14:48:40.188Z"
   },
   {
    "duration": 517,
    "start_time": "2022-01-17T14:48:40.192Z"
   },
   {
    "duration": 513,
    "start_time": "2022-01-17T14:48:40.197Z"
   },
   {
    "duration": 509,
    "start_time": "2022-01-17T14:48:40.202Z"
   },
   {
    "duration": 505,
    "start_time": "2022-01-17T14:48:40.207Z"
   },
   {
    "duration": 494,
    "start_time": "2022-01-17T14:48:40.219Z"
   },
   {
    "duration": 490,
    "start_time": "2022-01-17T14:48:40.224Z"
   },
   {
    "duration": 486,
    "start_time": "2022-01-17T14:48:40.229Z"
   },
   {
    "duration": 482,
    "start_time": "2022-01-17T14:48:40.234Z"
   },
   {
    "duration": 478,
    "start_time": "2022-01-17T14:48:40.239Z"
   },
   {
    "duration": 10,
    "start_time": "2022-01-17T14:50:11.475Z"
   },
   {
    "duration": 4,
    "start_time": "2022-01-17T15:01:55.602Z"
   },
   {
    "duration": 10,
    "start_time": "2022-01-17T15:01:55.610Z"
   },
   {
    "duration": 202,
    "start_time": "2022-01-17T15:01:55.622Z"
   },
   {
    "duration": 55,
    "start_time": "2022-01-17T15:01:55.827Z"
   },
   {
    "duration": 183,
    "start_time": "2022-01-17T15:01:55.884Z"
   },
   {
    "duration": 21,
    "start_time": "2022-01-17T15:01:56.069Z"
   },
   {
    "duration": 171,
    "start_time": "2022-01-17T15:01:56.092Z"
   },
   {
    "duration": 24,
    "start_time": "2022-01-17T15:01:56.266Z"
   },
   {
    "duration": 24,
    "start_time": "2022-01-17T15:01:56.294Z"
   },
   {
    "duration": 8,
    "start_time": "2022-01-17T15:01:56.321Z"
   },
   {
    "duration": 37,
    "start_time": "2022-01-17T15:01:56.331Z"
   },
   {
    "duration": 7,
    "start_time": "2022-01-17T15:01:56.370Z"
   },
   {
    "duration": 213,
    "start_time": "2022-01-17T15:01:56.379Z"
   },
   {
    "duration": 182,
    "start_time": "2022-01-17T15:01:56.594Z"
   },
   {
    "duration": 199,
    "start_time": "2022-01-17T15:01:56.779Z"
   },
   {
    "duration": 9,
    "start_time": "2022-01-17T15:01:56.981Z"
   },
   {
    "duration": 15,
    "start_time": "2022-01-17T15:01:56.992Z"
   },
   {
    "duration": 10,
    "start_time": "2022-01-17T15:01:57.009Z"
   },
   {
    "duration": 53,
    "start_time": "2022-01-17T15:01:57.021Z"
   },
   {
    "duration": 28,
    "start_time": "2022-01-17T15:01:57.076Z"
   },
   {
    "duration": 55,
    "start_time": "2022-01-17T15:01:57.106Z"
   },
   {
    "duration": 113,
    "start_time": "2022-01-17T15:01:57.164Z"
   },
   {
    "duration": 45,
    "start_time": "2022-01-17T15:01:57.280Z"
   },
   {
    "duration": 80,
    "start_time": "2022-01-17T15:01:57.331Z"
   },
   {
    "duration": 7,
    "start_time": "2022-01-17T15:01:57.413Z"
   },
   {
    "duration": 8,
    "start_time": "2022-01-17T15:01:57.422Z"
   },
   {
    "duration": 29,
    "start_time": "2022-01-17T15:01:57.432Z"
   },
   {
    "duration": 69,
    "start_time": "2022-01-17T15:01:57.463Z"
   },
   {
    "duration": 6131,
    "start_time": "2022-01-17T15:01:57.533Z"
   },
   {
    "duration": -198,
    "start_time": "2022-01-17T15:02:03.866Z"
   },
   {
    "duration": -202,
    "start_time": "2022-01-17T15:02:03.871Z"
   },
   {
    "duration": -207,
    "start_time": "2022-01-17T15:02:03.877Z"
   },
   {
    "duration": -210,
    "start_time": "2022-01-17T15:02:03.882Z"
   },
   {
    "duration": -216,
    "start_time": "2022-01-17T15:02:03.888Z"
   },
   {
    "duration": -219,
    "start_time": "2022-01-17T15:02:03.893Z"
   },
   {
    "duration": -224,
    "start_time": "2022-01-17T15:02:03.899Z"
   },
   {
    "duration": -228,
    "start_time": "2022-01-17T15:02:03.904Z"
   },
   {
    "duration": -239,
    "start_time": "2022-01-17T15:02:03.916Z"
   },
   {
    "duration": -245,
    "start_time": "2022-01-17T15:02:03.922Z"
   },
   {
    "duration": -250,
    "start_time": "2022-01-17T15:02:03.928Z"
   },
   {
    "duration": -254,
    "start_time": "2022-01-17T15:02:03.933Z"
   },
   {
    "duration": -259,
    "start_time": "2022-01-17T15:02:03.939Z"
   },
   {
    "duration": -263,
    "start_time": "2022-01-17T15:02:03.944Z"
   },
   {
    "duration": -267,
    "start_time": "2022-01-17T15:02:03.950Z"
   },
   {
    "duration": -271,
    "start_time": "2022-01-17T15:02:03.955Z"
   },
   {
    "duration": -276,
    "start_time": "2022-01-17T15:02:03.961Z"
   },
   {
    "duration": -281,
    "start_time": "2022-01-17T15:02:03.967Z"
   },
   {
    "duration": -285,
    "start_time": "2022-01-17T15:02:03.972Z"
   },
   {
    "duration": -288,
    "start_time": "2022-01-17T15:02:03.977Z"
   },
   {
    "duration": -293,
    "start_time": "2022-01-17T15:02:03.983Z"
   },
   {
    "duration": -298,
    "start_time": "2022-01-17T15:02:03.989Z"
   },
   {
    "duration": -303,
    "start_time": "2022-01-17T15:02:03.995Z"
   },
   {
    "duration": -306,
    "start_time": "2022-01-17T15:02:03.999Z"
   },
   {
    "duration": -310,
    "start_time": "2022-01-17T15:02:04.005Z"
   },
   {
    "duration": -313,
    "start_time": "2022-01-17T15:02:04.009Z"
   },
   {
    "duration": -327,
    "start_time": "2022-01-17T15:02:04.024Z"
   },
   {
    "duration": -330,
    "start_time": "2022-01-17T15:02:04.028Z"
   },
   {
    "duration": -334,
    "start_time": "2022-01-17T15:02:04.034Z"
   },
   {
    "duration": -337,
    "start_time": "2022-01-17T15:02:04.039Z"
   },
   {
    "duration": -341,
    "start_time": "2022-01-17T15:02:04.044Z"
   },
   {
    "duration": -288,
    "start_time": "2022-01-17T15:02:04.049Z"
   },
   {
    "duration": -292,
    "start_time": "2022-01-17T15:02:04.054Z"
   },
   {
    "duration": -296,
    "start_time": "2022-01-17T15:02:04.059Z"
   },
   {
    "duration": -299,
    "start_time": "2022-01-17T15:02:04.064Z"
   },
   {
    "duration": -303,
    "start_time": "2022-01-17T15:02:04.069Z"
   },
   {
    "duration": -311,
    "start_time": "2022-01-17T15:02:04.078Z"
   },
   {
    "duration": -319,
    "start_time": "2022-01-17T15:02:04.087Z"
   },
   {
    "duration": -405,
    "start_time": "2022-01-17T15:02:04.174Z"
   },
   {
    "duration": -410,
    "start_time": "2022-01-17T15:02:04.180Z"
   },
   {
    "duration": -415,
    "start_time": "2022-01-17T15:02:04.186Z"
   },
   {
    "duration": -418,
    "start_time": "2022-01-17T15:02:04.191Z"
   },
   {
    "duration": -423,
    "start_time": "2022-01-17T15:02:04.197Z"
   },
   {
    "duration": -429,
    "start_time": "2022-01-17T15:02:04.205Z"
   },
   {
    "duration": -436,
    "start_time": "2022-01-17T15:02:04.213Z"
   },
   {
    "duration": -443,
    "start_time": "2022-01-17T15:02:04.221Z"
   },
   {
    "duration": -447,
    "start_time": "2022-01-17T15:02:04.227Z"
   },
   {
    "duration": -451,
    "start_time": "2022-01-17T15:02:04.232Z"
   },
   {
    "duration": -456,
    "start_time": "2022-01-17T15:02:04.238Z"
   },
   {
    "duration": -458,
    "start_time": "2022-01-17T15:02:04.242Z"
   },
   {
    "duration": -462,
    "start_time": "2022-01-17T15:02:04.247Z"
   },
   {
    "duration": -498,
    "start_time": "2022-01-17T15:02:04.284Z"
   },
   {
    "duration": -501,
    "start_time": "2022-01-17T15:02:04.289Z"
   },
   {
    "duration": -744,
    "start_time": "2022-01-17T15:02:04.534Z"
   },
   {
    "duration": -747,
    "start_time": "2022-01-17T15:02:04.538Z"
   },
   {
    "duration": -750,
    "start_time": "2022-01-17T15:02:04.543Z"
   },
   {
    "duration": -753,
    "start_time": "2022-01-17T15:02:04.548Z"
   },
   {
    "duration": -789,
    "start_time": "2022-01-17T15:02:04.585Z"
   },
   {
    "duration": -792,
    "start_time": "2022-01-17T15:02:04.590Z"
   },
   {
    "duration": -795,
    "start_time": "2022-01-17T15:02:04.594Z"
   },
   {
    "duration": -738,
    "start_time": "2022-01-17T15:02:04.599Z"
   },
   {
    "duration": -741,
    "start_time": "2022-01-17T15:02:04.604Z"
   },
   {
    "duration": -744,
    "start_time": "2022-01-17T15:02:04.608Z"
   },
   {
    "duration": -765,
    "start_time": "2022-01-17T15:02:04.631Z"
   },
   {
    "duration": -769,
    "start_time": "2022-01-17T15:02:04.636Z"
   },
   {
    "duration": -772,
    "start_time": "2022-01-17T15:02:04.641Z"
   },
   {
    "duration": -775,
    "start_time": "2022-01-17T15:02:04.645Z"
   },
   {
    "duration": -784,
    "start_time": "2022-01-17T15:02:04.656Z"
   },
   {
    "duration": -787,
    "start_time": "2022-01-17T15:02:04.660Z"
   },
   {
    "duration": -789,
    "start_time": "2022-01-17T15:02:04.664Z"
   },
   {
    "duration": -793,
    "start_time": "2022-01-17T15:02:04.669Z"
   },
   {
    "duration": -795,
    "start_time": "2022-01-17T15:02:04.673Z"
   },
   {
    "duration": -798,
    "start_time": "2022-01-17T15:02:04.677Z"
   },
   {
    "duration": -800,
    "start_time": "2022-01-17T15:02:04.681Z"
   },
   {
    "duration": 1199,
    "start_time": "2022-01-17T15:05:54.591Z"
   },
   {
    "duration": 7,
    "start_time": "2022-01-17T15:05:55.792Z"
   },
   {
    "duration": 168,
    "start_time": "2022-01-17T15:05:55.801Z"
   },
   {
    "duration": 23,
    "start_time": "2022-01-17T15:05:55.971Z"
   },
   {
    "duration": 147,
    "start_time": "2022-01-17T15:05:55.996Z"
   },
   {
    "duration": 21,
    "start_time": "2022-01-17T15:05:56.145Z"
   },
   {
    "duration": 97,
    "start_time": "2022-01-17T15:05:56.168Z"
   },
   {
    "duration": 14,
    "start_time": "2022-01-17T15:05:56.268Z"
   },
   {
    "duration": 22,
    "start_time": "2022-01-17T15:05:56.285Z"
   },
   {
    "duration": 14,
    "start_time": "2022-01-17T15:05:56.309Z"
   },
   {
    "duration": 35,
    "start_time": "2022-01-17T15:05:56.325Z"
   },
   {
    "duration": 6,
    "start_time": "2022-01-17T15:05:56.362Z"
   },
   {
    "duration": 203,
    "start_time": "2022-01-17T15:05:56.370Z"
   },
   {
    "duration": 106,
    "start_time": "2022-01-17T15:05:56.575Z"
   },
   {
    "duration": 124,
    "start_time": "2022-01-17T15:05:56.683Z"
   },
   {
    "duration": 7,
    "start_time": "2022-01-17T15:05:56.809Z"
   },
   {
    "duration": 10,
    "start_time": "2022-01-17T15:05:56.818Z"
   },
   {
    "duration": 11,
    "start_time": "2022-01-17T15:05:56.830Z"
   },
   {
    "duration": 30,
    "start_time": "2022-01-17T15:05:56.860Z"
   },
   {
    "duration": 29,
    "start_time": "2022-01-17T15:05:56.892Z"
   },
   {
    "duration": 53,
    "start_time": "2022-01-17T15:05:56.923Z"
   },
   {
    "duration": 120,
    "start_time": "2022-01-17T15:05:56.978Z"
   },
   {
    "duration": 47,
    "start_time": "2022-01-17T15:05:57.101Z"
   },
   {
    "duration": 64,
    "start_time": "2022-01-17T15:05:57.161Z"
   },
   {
    "duration": 8,
    "start_time": "2022-01-17T15:05:57.227Z"
   },
   {
    "duration": 27,
    "start_time": "2022-01-17T15:05:57.237Z"
   },
   {
    "duration": 13,
    "start_time": "2022-01-17T15:05:57.266Z"
   },
   {
    "duration": 90,
    "start_time": "2022-01-17T15:05:57.281Z"
   },
   {
    "duration": 6,
    "start_time": "2022-01-17T15:05:57.373Z"
   },
   {
    "duration": 6,
    "start_time": "2022-01-17T15:05:57.381Z"
   },
   {
    "duration": 6,
    "start_time": "2022-01-17T15:05:57.389Z"
   },
   {
    "duration": 7,
    "start_time": "2022-01-17T15:05:57.397Z"
   },
   {
    "duration": 10,
    "start_time": "2022-01-17T15:05:57.406Z"
   },
   {
    "duration": 45,
    "start_time": "2022-01-17T15:05:57.417Z"
   },
   {
    "duration": 74,
    "start_time": "2022-01-17T15:05:57.465Z"
   },
   {
    "duration": 22,
    "start_time": "2022-01-17T15:05:57.542Z"
   },
   {
    "duration": 41,
    "start_time": "2022-01-17T15:05:57.567Z"
   },
   {
    "duration": 12,
    "start_time": "2022-01-17T15:05:57.611Z"
   },
   {
    "duration": 36,
    "start_time": "2022-01-17T15:05:57.625Z"
   },
   {
    "duration": 28,
    "start_time": "2022-01-17T15:05:57.662Z"
   },
   {
    "duration": 16,
    "start_time": "2022-01-17T15:05:57.692Z"
   },
   {
    "duration": 51,
    "start_time": "2022-01-17T15:05:57.710Z"
   },
   {
    "duration": 7,
    "start_time": "2022-01-17T15:06:01.856Z"
   },
   {
    "duration": 13,
    "start_time": "2022-01-17T15:06:05.409Z"
   },
   {
    "duration": 10,
    "start_time": "2022-01-17T15:06:11.768Z"
   },
   {
    "duration": 14,
    "start_time": "2022-01-17T15:06:16.314Z"
   },
   {
    "duration": 13,
    "start_time": "2022-01-17T15:06:19.681Z"
   },
   {
    "duration": 16,
    "start_time": "2022-01-17T15:06:23.649Z"
   },
   {
    "duration": 11,
    "start_time": "2022-01-17T15:07:03.483Z"
   },
   {
    "duration": 12,
    "start_time": "2022-01-17T15:07:49.372Z"
   },
   {
    "duration": 9,
    "start_time": "2022-01-17T15:07:49.988Z"
   },
   {
    "duration": 7,
    "start_time": "2022-01-17T15:08:07.220Z"
   },
   {
    "duration": 3,
    "start_time": "2022-01-17T15:08:13.345Z"
   },
   {
    "duration": 6,
    "start_time": "2022-01-17T15:08:13.352Z"
   },
   {
    "duration": 168,
    "start_time": "2022-01-17T15:08:13.361Z"
   },
   {
    "duration": 38,
    "start_time": "2022-01-17T15:08:13.531Z"
   },
   {
    "duration": 143,
    "start_time": "2022-01-17T15:08:13.572Z"
   },
   {
    "duration": 18,
    "start_time": "2022-01-17T15:08:13.717Z"
   },
   {
    "duration": 100,
    "start_time": "2022-01-17T15:08:13.737Z"
   },
   {
    "duration": 24,
    "start_time": "2022-01-17T15:08:13.839Z"
   },
   {
    "duration": 23,
    "start_time": "2022-01-17T15:08:13.865Z"
   },
   {
    "duration": 6,
    "start_time": "2022-01-17T15:08:13.889Z"
   },
   {
    "duration": 37,
    "start_time": "2022-01-17T15:08:13.897Z"
   },
   {
    "duration": 7,
    "start_time": "2022-01-17T15:08:13.935Z"
   },
   {
    "duration": 176,
    "start_time": "2022-01-17T15:08:13.944Z"
   },
   {
    "duration": 106,
    "start_time": "2022-01-17T15:08:14.122Z"
   },
   {
    "duration": 121,
    "start_time": "2022-01-17T15:08:14.230Z"
   },
   {
    "duration": 10,
    "start_time": "2022-01-17T15:08:14.353Z"
   },
   {
    "duration": 10,
    "start_time": "2022-01-17T15:08:14.365Z"
   },
   {
    "duration": 6,
    "start_time": "2022-01-17T15:08:14.377Z"
   },
   {
    "duration": 27,
    "start_time": "2022-01-17T15:08:14.385Z"
   },
   {
    "duration": 58,
    "start_time": "2022-01-17T15:08:14.415Z"
   },
   {
    "duration": 26,
    "start_time": "2022-01-17T15:08:14.475Z"
   },
   {
    "duration": 122,
    "start_time": "2022-01-17T15:08:14.503Z"
   },
   {
    "duration": 60,
    "start_time": "2022-01-17T15:08:14.627Z"
   },
   {
    "duration": 61,
    "start_time": "2022-01-17T15:08:14.689Z"
   },
   {
    "duration": 7,
    "start_time": "2022-01-17T15:08:14.762Z"
   },
   {
    "duration": 11,
    "start_time": "2022-01-17T15:08:14.771Z"
   },
   {
    "duration": 14,
    "start_time": "2022-01-17T15:08:14.784Z"
   },
   {
    "duration": 90,
    "start_time": "2022-01-17T15:08:14.800Z"
   },
   {
    "duration": 5,
    "start_time": "2022-01-17T15:08:14.892Z"
   },
   {
    "duration": 39,
    "start_time": "2022-01-17T15:08:14.898Z"
   },
   {
    "duration": 25,
    "start_time": "2022-01-17T15:08:14.939Z"
   },
   {
    "duration": 13,
    "start_time": "2022-01-17T15:08:14.967Z"
   },
   {
    "duration": 55,
    "start_time": "2022-01-17T15:08:14.982Z"
   },
   {
    "duration": 14,
    "start_time": "2022-01-17T15:08:15.040Z"
   },
   {
    "duration": 76,
    "start_time": "2022-01-17T15:08:15.056Z"
   },
   {
    "duration": 11,
    "start_time": "2022-01-17T15:08:15.135Z"
   },
   {
    "duration": 43,
    "start_time": "2022-01-17T15:08:15.148Z"
   },
   {
    "duration": 19,
    "start_time": "2022-01-17T15:08:15.193Z"
   },
   {
    "duration": 25,
    "start_time": "2022-01-17T15:08:15.215Z"
   },
   {
    "duration": 50,
    "start_time": "2022-01-17T15:08:15.262Z"
   },
   {
    "duration": 47,
    "start_time": "2022-01-17T15:08:15.315Z"
   },
   {
    "duration": 35,
    "start_time": "2022-01-17T15:08:15.365Z"
   },
   {
    "duration": 8,
    "start_time": "2022-01-17T15:08:15.403Z"
   },
   {
    "duration": 16,
    "start_time": "2022-01-17T15:08:15.413Z"
   },
   {
    "duration": 31,
    "start_time": "2022-01-17T15:08:15.431Z"
   },
   {
    "duration": 11,
    "start_time": "2022-01-17T15:08:20.300Z"
   },
   {
    "duration": 7,
    "start_time": "2022-01-17T15:08:21.091Z"
   },
   {
    "duration": 1294,
    "start_time": "2022-01-17T15:08:32.855Z"
   },
   {
    "duration": 6,
    "start_time": "2022-01-17T15:08:34.152Z"
   },
   {
    "duration": 174,
    "start_time": "2022-01-17T15:08:34.161Z"
   },
   {
    "duration": 29,
    "start_time": "2022-01-17T15:08:34.337Z"
   },
   {
    "duration": 145,
    "start_time": "2022-01-17T15:08:34.368Z"
   },
   {
    "duration": 18,
    "start_time": "2022-01-17T15:08:34.514Z"
   },
   {
    "duration": 99,
    "start_time": "2022-01-17T15:08:34.534Z"
   },
   {
    "duration": 15,
    "start_time": "2022-01-17T15:08:34.636Z"
   },
   {
    "duration": 29,
    "start_time": "2022-01-17T15:08:34.661Z"
   },
   {
    "duration": 9,
    "start_time": "2022-01-17T15:08:34.693Z"
   },
   {
    "duration": 48,
    "start_time": "2022-01-17T15:08:34.705Z"
   },
   {
    "duration": 10,
    "start_time": "2022-01-17T15:08:34.755Z"
   },
   {
    "duration": 337,
    "start_time": "2022-01-17T15:08:34.768Z"
   },
   {
    "duration": 106,
    "start_time": "2022-01-17T15:08:35.107Z"
   },
   {
    "duration": 123,
    "start_time": "2022-01-17T15:08:35.214Z"
   },
   {
    "duration": 6,
    "start_time": "2022-01-17T15:08:35.339Z"
   },
   {
    "duration": 22,
    "start_time": "2022-01-17T15:08:35.347Z"
   },
   {
    "duration": 23,
    "start_time": "2022-01-17T15:08:35.371Z"
   },
   {
    "duration": 38,
    "start_time": "2022-01-17T15:08:35.396Z"
   },
   {
    "duration": 44,
    "start_time": "2022-01-17T15:08:35.436Z"
   },
   {
    "duration": 45,
    "start_time": "2022-01-17T15:08:35.482Z"
   },
   {
    "duration": 182,
    "start_time": "2022-01-17T15:08:35.530Z"
   },
   {
    "duration": 82,
    "start_time": "2022-01-17T15:08:35.717Z"
   },
   {
    "duration": 93,
    "start_time": "2022-01-17T15:08:35.803Z"
   },
   {
    "duration": 6,
    "start_time": "2022-01-17T15:08:35.897Z"
   },
   {
    "duration": 16,
    "start_time": "2022-01-17T15:08:35.904Z"
   },
   {
    "duration": 12,
    "start_time": "2022-01-17T15:08:35.922Z"
   },
   {
    "duration": 117,
    "start_time": "2022-01-17T15:08:35.936Z"
   },
   {
    "duration": 8,
    "start_time": "2022-01-17T15:08:36.060Z"
   },
   {
    "duration": 25,
    "start_time": "2022-01-17T15:08:36.070Z"
   },
   {
    "duration": 20,
    "start_time": "2022-01-17T15:08:36.097Z"
   },
   {
    "duration": 24,
    "start_time": "2022-01-17T15:08:36.119Z"
   },
   {
    "duration": 32,
    "start_time": "2022-01-17T15:08:36.145Z"
   },
   {
    "duration": 14,
    "start_time": "2022-01-17T15:08:36.179Z"
   },
   {
    "duration": 59,
    "start_time": "2022-01-17T15:08:36.195Z"
   },
   {
    "duration": 8,
    "start_time": "2022-01-17T15:08:36.256Z"
   },
   {
    "duration": 29,
    "start_time": "2022-01-17T15:08:36.266Z"
   },
   {
    "duration": 14,
    "start_time": "2022-01-17T15:08:36.297Z"
   },
   {
    "duration": 19,
    "start_time": "2022-01-17T15:08:36.313Z"
   },
   {
    "duration": 56,
    "start_time": "2022-01-17T15:08:36.334Z"
   },
   {
    "duration": 18,
    "start_time": "2022-01-17T15:08:36.393Z"
   },
   {
    "duration": 26,
    "start_time": "2022-01-17T15:08:36.413Z"
   },
   {
    "duration": 26,
    "start_time": "2022-01-17T15:08:36.441Z"
   },
   {
    "duration": 39,
    "start_time": "2022-01-17T15:08:36.470Z"
   },
   {
    "duration": 13,
    "start_time": "2022-01-17T15:08:36.510Z"
   },
   {
    "duration": 9,
    "start_time": "2022-01-17T15:08:40.539Z"
   },
   {
    "duration": 7,
    "start_time": "2022-01-17T15:08:43.284Z"
   },
   {
    "duration": 1193,
    "start_time": "2022-01-17T15:12:27.924Z"
   },
   {
    "duration": 6,
    "start_time": "2022-01-17T15:12:29.119Z"
   },
   {
    "duration": 176,
    "start_time": "2022-01-17T15:12:29.128Z"
   },
   {
    "duration": 22,
    "start_time": "2022-01-17T15:12:29.306Z"
   },
   {
    "duration": 146,
    "start_time": "2022-01-17T15:12:29.330Z"
   },
   {
    "duration": 20,
    "start_time": "2022-01-17T15:12:29.478Z"
   },
   {
    "duration": 132,
    "start_time": "2022-01-17T15:12:29.501Z"
   },
   {
    "duration": 25,
    "start_time": "2022-01-17T15:12:29.636Z"
   },
   {
    "duration": 52,
    "start_time": "2022-01-17T15:12:29.664Z"
   },
   {
    "duration": 36,
    "start_time": "2022-01-17T15:12:29.718Z"
   },
   {
    "duration": 67,
    "start_time": "2022-01-17T15:12:29.756Z"
   },
   {
    "duration": 27,
    "start_time": "2022-01-17T15:12:29.824Z"
   },
   {
    "duration": 280,
    "start_time": "2022-01-17T15:12:29.853Z"
   },
   {
    "duration": 179,
    "start_time": "2022-01-17T15:12:30.136Z"
   },
   {
    "duration": 208,
    "start_time": "2022-01-17T15:12:30.318Z"
   },
   {
    "duration": 9,
    "start_time": "2022-01-17T15:12:30.529Z"
   },
   {
    "duration": 56,
    "start_time": "2022-01-17T15:12:30.540Z"
   },
   {
    "duration": 28,
    "start_time": "2022-01-17T15:12:30.599Z"
   },
   {
    "duration": 61,
    "start_time": "2022-01-17T15:12:30.630Z"
   },
   {
    "duration": 43,
    "start_time": "2022-01-17T15:12:30.694Z"
   },
   {
    "duration": 59,
    "start_time": "2022-01-17T15:12:30.740Z"
   },
   {
    "duration": 190,
    "start_time": "2022-01-17T15:12:30.801Z"
   },
   {
    "duration": 93,
    "start_time": "2022-01-17T15:12:30.997Z"
   },
   {
    "duration": 121,
    "start_time": "2022-01-17T15:12:31.093Z"
   },
   {
    "duration": 10,
    "start_time": "2022-01-17T15:12:31.217Z"
   },
   {
    "duration": 44,
    "start_time": "2022-01-17T15:12:31.229Z"
   },
   {
    "duration": 24,
    "start_time": "2022-01-17T15:12:31.275Z"
   },
   {
    "duration": 107,
    "start_time": "2022-01-17T15:12:31.301Z"
   },
   {
    "duration": 6,
    "start_time": "2022-01-17T15:12:31.410Z"
   },
   {
    "duration": 14,
    "start_time": "2022-01-17T15:12:31.418Z"
   },
   {
    "duration": 14,
    "start_time": "2022-01-17T15:12:31.434Z"
   },
   {
    "duration": 25,
    "start_time": "2022-01-17T15:12:31.450Z"
   },
   {
    "duration": 23,
    "start_time": "2022-01-17T15:12:31.477Z"
   },
   {
    "duration": 13,
    "start_time": "2022-01-17T15:12:31.502Z"
   },
   {
    "duration": 54,
    "start_time": "2022-01-17T15:12:31.518Z"
   },
   {
    "duration": 9,
    "start_time": "2022-01-17T15:12:31.574Z"
   },
   {
    "duration": 27,
    "start_time": "2022-01-17T15:12:31.585Z"
   },
   {
    "duration": 45,
    "start_time": "2022-01-17T15:12:31.615Z"
   },
   {
    "duration": 28,
    "start_time": "2022-01-17T15:12:31.663Z"
   },
   {
    "duration": 40,
    "start_time": "2022-01-17T15:12:31.693Z"
   },
   {
    "duration": 40,
    "start_time": "2022-01-17T15:12:31.736Z"
   },
   {
    "duration": 29,
    "start_time": "2022-01-17T15:12:31.778Z"
   },
   {
    "duration": 8,
    "start_time": "2022-01-17T15:12:31.810Z"
   },
   {
    "duration": 1190,
    "start_time": "2022-01-17T15:13:10.902Z"
   },
   {
    "duration": 7,
    "start_time": "2022-01-17T15:13:12.094Z"
   },
   {
    "duration": 180,
    "start_time": "2022-01-17T15:13:12.103Z"
   },
   {
    "duration": 22,
    "start_time": "2022-01-17T15:13:12.285Z"
   },
   {
    "duration": 158,
    "start_time": "2022-01-17T15:13:12.309Z"
   },
   {
    "duration": 18,
    "start_time": "2022-01-17T15:13:12.469Z"
   },
   {
    "duration": 106,
    "start_time": "2022-01-17T15:13:12.489Z"
   },
   {
    "duration": 17,
    "start_time": "2022-01-17T15:13:12.599Z"
   },
   {
    "duration": 27,
    "start_time": "2022-01-17T15:13:12.620Z"
   },
   {
    "duration": 17,
    "start_time": "2022-01-17T15:13:12.649Z"
   },
   {
    "duration": 40,
    "start_time": "2022-01-17T15:13:12.668Z"
   },
   {
    "duration": 10,
    "start_time": "2022-01-17T15:13:12.709Z"
   },
   {
    "duration": 212,
    "start_time": "2022-01-17T15:13:12.720Z"
   },
   {
    "duration": 110,
    "start_time": "2022-01-17T15:13:12.934Z"
   },
   {
    "duration": 129,
    "start_time": "2022-01-17T15:13:13.046Z"
   },
   {
    "duration": 6,
    "start_time": "2022-01-17T15:13:13.177Z"
   },
   {
    "duration": 9,
    "start_time": "2022-01-17T15:13:13.185Z"
   },
   {
    "duration": 8,
    "start_time": "2022-01-17T15:13:13.196Z"
   },
   {
    "duration": 30,
    "start_time": "2022-01-17T15:13:13.206Z"
   },
   {
    "duration": 28,
    "start_time": "2022-01-17T15:13:13.262Z"
   },
   {
    "duration": 27,
    "start_time": "2022-01-17T15:13:13.292Z"
   },
   {
    "duration": 139,
    "start_time": "2022-01-17T15:13:13.321Z"
   },
   {
    "duration": 49,
    "start_time": "2022-01-17T15:13:13.465Z"
   },
   {
    "duration": 88,
    "start_time": "2022-01-17T15:13:13.517Z"
   },
   {
    "duration": 8,
    "start_time": "2022-01-17T15:13:13.607Z"
   },
   {
    "duration": 13,
    "start_time": "2022-01-17T15:13:13.618Z"
   },
   {
    "duration": 34,
    "start_time": "2022-01-17T15:13:13.634Z"
   },
   {
    "duration": 66,
    "start_time": "2022-01-17T15:13:13.670Z"
   },
   {
    "duration": 5,
    "start_time": "2022-01-17T15:13:13.738Z"
   },
   {
    "duration": 7,
    "start_time": "2022-01-17T15:13:13.760Z"
   },
   {
    "duration": 7,
    "start_time": "2022-01-17T15:13:13.769Z"
   },
   {
    "duration": 6,
    "start_time": "2022-01-17T15:13:13.778Z"
   },
   {
    "duration": 11,
    "start_time": "2022-01-17T15:13:13.786Z"
   },
   {
    "duration": 12,
    "start_time": "2022-01-17T15:13:13.799Z"
   },
   {
    "duration": 91,
    "start_time": "2022-01-17T15:13:13.813Z"
   },
   {
    "duration": 8,
    "start_time": "2022-01-17T15:13:13.906Z"
   },
   {
    "duration": 23,
    "start_time": "2022-01-17T15:13:13.916Z"
   },
   {
    "duration": 29,
    "start_time": "2022-01-17T15:13:13.941Z"
   },
   {
    "duration": 19,
    "start_time": "2022-01-17T15:13:13.972Z"
   },
   {
    "duration": 30,
    "start_time": "2022-01-17T15:13:13.993Z"
   },
   {
    "duration": 47,
    "start_time": "2022-01-17T15:13:14.025Z"
   },
   {
    "duration": 20,
    "start_time": "2022-01-17T15:13:14.074Z"
   },
   {
    "duration": 9,
    "start_time": "2022-01-17T15:13:14.096Z"
   },
   {
    "duration": 7,
    "start_time": "2022-01-17T15:13:18.352Z"
   },
   {
    "duration": 17,
    "start_time": "2022-01-17T15:13:19.792Z"
   },
   {
    "duration": 20,
    "start_time": "2022-01-17T15:14:25.533Z"
   },
   {
    "duration": 17,
    "start_time": "2022-01-17T15:14:35.820Z"
   },
   {
    "duration": 20,
    "start_time": "2022-01-17T15:14:40.115Z"
   },
   {
    "duration": 8,
    "start_time": "2022-01-17T15:15:11.813Z"
   },
   {
    "duration": 9,
    "start_time": "2022-01-17T15:15:21.094Z"
   },
   {
    "duration": 9,
    "start_time": "2022-01-17T15:15:27.965Z"
   },
   {
    "duration": 21,
    "start_time": "2022-01-17T15:16:33.839Z"
   },
   {
    "duration": 13,
    "start_time": "2022-01-17T15:17:38.488Z"
   },
   {
    "duration": 24,
    "start_time": "2022-01-17T15:17:47.601Z"
   },
   {
    "duration": 26,
    "start_time": "2022-01-17T15:18:01.706Z"
   },
   {
    "duration": 22,
    "start_time": "2022-01-17T15:18:13.193Z"
   },
   {
    "duration": 22,
    "start_time": "2022-01-17T15:21:04.126Z"
   },
   {
    "duration": 23,
    "start_time": "2022-01-17T15:21:14.469Z"
   },
   {
    "duration": 7,
    "start_time": "2022-01-17T15:26:12.275Z"
   },
   {
    "duration": 9,
    "start_time": "2022-01-17T15:26:25.285Z"
   },
   {
    "duration": 35,
    "start_time": "2022-01-17T15:26:40.499Z"
   },
   {
    "duration": 25,
    "start_time": "2022-01-17T15:27:04.877Z"
   },
   {
    "duration": 33,
    "start_time": "2022-01-17T15:27:34.695Z"
   },
   {
    "duration": 6,
    "start_time": "2022-01-17T15:28:34.071Z"
   },
   {
    "duration": 6,
    "start_time": "2022-01-17T15:28:51.215Z"
   },
   {
    "duration": 5,
    "start_time": "2022-01-17T15:28:56.343Z"
   },
   {
    "duration": 5,
    "start_time": "2022-01-17T15:29:02.023Z"
   },
   {
    "duration": 6,
    "start_time": "2022-01-17T15:29:18.384Z"
   },
   {
    "duration": 1284,
    "start_time": "2022-01-17T15:31:32.048Z"
   },
   {
    "duration": 7,
    "start_time": "2022-01-17T15:31:33.336Z"
   },
   {
    "duration": 189,
    "start_time": "2022-01-17T15:31:33.345Z"
   },
   {
    "duration": 28,
    "start_time": "2022-01-17T15:31:33.536Z"
   },
   {
    "duration": 165,
    "start_time": "2022-01-17T15:31:33.566Z"
   },
   {
    "duration": 18,
    "start_time": "2022-01-17T15:31:33.733Z"
   },
   {
    "duration": 123,
    "start_time": "2022-01-17T15:31:33.752Z"
   },
   {
    "duration": 15,
    "start_time": "2022-01-17T15:31:33.878Z"
   },
   {
    "duration": 45,
    "start_time": "2022-01-17T15:31:33.896Z"
   },
   {
    "duration": 30,
    "start_time": "2022-01-17T15:31:33.943Z"
   },
   {
    "duration": 68,
    "start_time": "2022-01-17T15:31:33.975Z"
   },
   {
    "duration": 9,
    "start_time": "2022-01-17T15:31:34.046Z"
   },
   {
    "duration": 239,
    "start_time": "2022-01-17T15:31:34.057Z"
   },
   {
    "duration": 127,
    "start_time": "2022-01-17T15:31:34.298Z"
   },
   {
    "duration": 208,
    "start_time": "2022-01-17T15:31:34.427Z"
   },
   {
    "duration": 7,
    "start_time": "2022-01-17T15:31:34.637Z"
   },
   {
    "duration": 33,
    "start_time": "2022-01-17T15:31:34.661Z"
   },
   {
    "duration": 27,
    "start_time": "2022-01-17T15:31:34.697Z"
   },
   {
    "duration": 82,
    "start_time": "2022-01-17T15:31:34.726Z"
   },
   {
    "duration": 54,
    "start_time": "2022-01-17T15:31:34.811Z"
   },
   {
    "duration": 43,
    "start_time": "2022-01-17T15:31:34.868Z"
   },
   {
    "duration": 138,
    "start_time": "2022-01-17T15:31:34.913Z"
   },
   {
    "duration": 51,
    "start_time": "2022-01-17T15:31:35.063Z"
   },
   {
    "duration": 93,
    "start_time": "2022-01-17T15:31:35.116Z"
   },
   {
    "duration": 7,
    "start_time": "2022-01-17T15:31:35.211Z"
   },
   {
    "duration": 18,
    "start_time": "2022-01-17T15:31:35.220Z"
   },
   {
    "duration": 30,
    "start_time": "2022-01-17T15:31:35.240Z"
   },
   {
    "duration": 116,
    "start_time": "2022-01-17T15:31:35.273Z"
   },
   {
    "duration": 6,
    "start_time": "2022-01-17T15:31:35.391Z"
   },
   {
    "duration": 12,
    "start_time": "2022-01-17T15:31:35.400Z"
   },
   {
    "duration": 19,
    "start_time": "2022-01-17T15:31:35.414Z"
   },
   {
    "duration": 18,
    "start_time": "2022-01-17T15:31:35.436Z"
   },
   {
    "duration": 16,
    "start_time": "2022-01-17T15:31:35.456Z"
   },
   {
    "duration": 15,
    "start_time": "2022-01-17T15:31:35.474Z"
   },
   {
    "duration": 73,
    "start_time": "2022-01-17T15:31:35.491Z"
   },
   {
    "duration": 5,
    "start_time": "2022-01-17T15:31:35.566Z"
   },
   {
    "duration": 10,
    "start_time": "2022-01-17T15:31:35.573Z"
   },
   {
    "duration": 14,
    "start_time": "2022-01-17T15:31:35.585Z"
   },
   {
    "duration": 64,
    "start_time": "2022-01-17T15:31:35.601Z"
   },
   {
    "duration": 27,
    "start_time": "2022-01-17T15:31:35.667Z"
   },
   {
    "duration": 21,
    "start_time": "2022-01-17T15:31:35.696Z"
   },
   {
    "duration": 42,
    "start_time": "2022-01-17T15:31:35.719Z"
   },
   {
    "duration": 20,
    "start_time": "2022-01-17T15:31:35.763Z"
   },
   {
    "duration": 57,
    "start_time": "2022-01-17T15:31:38.603Z"
   },
   {
    "duration": 9,
    "start_time": "2022-01-17T15:33:14.463Z"
   },
   {
    "duration": 5,
    "start_time": "2022-01-17T15:33:19.319Z"
   },
   {
    "duration": 1293,
    "start_time": "2022-01-17T15:34:37.398Z"
   },
   {
    "duration": 7,
    "start_time": "2022-01-17T15:34:38.694Z"
   },
   {
    "duration": 175,
    "start_time": "2022-01-17T15:34:38.703Z"
   },
   {
    "duration": 21,
    "start_time": "2022-01-17T15:34:38.880Z"
   },
   {
    "duration": 148,
    "start_time": "2022-01-17T15:34:38.903Z"
   },
   {
    "duration": 23,
    "start_time": "2022-01-17T15:34:39.053Z"
   },
   {
    "duration": 102,
    "start_time": "2022-01-17T15:34:39.078Z"
   },
   {
    "duration": 17,
    "start_time": "2022-01-17T15:34:39.184Z"
   },
   {
    "duration": 24,
    "start_time": "2022-01-17T15:34:39.203Z"
   },
   {
    "duration": 6,
    "start_time": "2022-01-17T15:34:39.229Z"
   },
   {
    "duration": 44,
    "start_time": "2022-01-17T15:34:39.237Z"
   },
   {
    "duration": 11,
    "start_time": "2022-01-17T15:34:39.284Z"
   },
   {
    "duration": 296,
    "start_time": "2022-01-17T15:34:39.298Z"
   },
   {
    "duration": 141,
    "start_time": "2022-01-17T15:34:39.596Z"
   },
   {
    "duration": 198,
    "start_time": "2022-01-17T15:34:39.740Z"
   },
   {
    "duration": 9,
    "start_time": "2022-01-17T15:34:39.941Z"
   },
   {
    "duration": 16,
    "start_time": "2022-01-17T15:34:39.952Z"
   },
   {
    "duration": 13,
    "start_time": "2022-01-17T15:34:39.970Z"
   },
   {
    "duration": 44,
    "start_time": "2022-01-17T15:34:39.985Z"
   },
   {
    "duration": 54,
    "start_time": "2022-01-17T15:34:40.031Z"
   },
   {
    "duration": 27,
    "start_time": "2022-01-17T15:34:40.087Z"
   },
   {
    "duration": 163,
    "start_time": "2022-01-17T15:34:40.116Z"
   },
   {
    "duration": 59,
    "start_time": "2022-01-17T15:34:40.283Z"
   },
   {
    "duration": 123,
    "start_time": "2022-01-17T15:34:40.344Z"
   },
   {
    "duration": 11,
    "start_time": "2022-01-17T15:34:40.469Z"
   },
   {
    "duration": 8,
    "start_time": "2022-01-17T15:34:40.482Z"
   },
   {
    "duration": 16,
    "start_time": "2022-01-17T15:34:40.492Z"
   },
   {
    "duration": 110,
    "start_time": "2022-01-17T15:34:40.510Z"
   },
   {
    "duration": 5,
    "start_time": "2022-01-17T15:34:40.622Z"
   },
   {
    "duration": 9,
    "start_time": "2022-01-17T15:34:40.629Z"
   },
   {
    "duration": 21,
    "start_time": "2022-01-17T15:34:40.640Z"
   },
   {
    "duration": 6,
    "start_time": "2022-01-17T15:34:40.663Z"
   },
   {
    "duration": 12,
    "start_time": "2022-01-17T15:34:40.671Z"
   },
   {
    "duration": 13,
    "start_time": "2022-01-17T15:34:40.685Z"
   },
   {
    "duration": 74,
    "start_time": "2022-01-17T15:34:40.700Z"
   },
   {
    "duration": 5,
    "start_time": "2022-01-17T15:34:40.776Z"
   },
   {
    "duration": 13,
    "start_time": "2022-01-17T15:34:40.783Z"
   },
   {
    "duration": 14,
    "start_time": "2022-01-17T15:34:40.798Z"
   },
   {
    "duration": 54,
    "start_time": "2022-01-17T15:34:40.814Z"
   },
   {
    "duration": 25,
    "start_time": "2022-01-17T15:34:40.870Z"
   },
   {
    "duration": 21,
    "start_time": "2022-01-17T15:34:40.897Z"
   },
   {
    "duration": 6,
    "start_time": "2022-01-17T15:34:40.920Z"
   },
   {
    "duration": 47,
    "start_time": "2022-01-17T15:34:40.928Z"
   },
   {
    "duration": 58,
    "start_time": "2022-01-17T15:34:40.977Z"
   },
   {
    "duration": 6,
    "start_time": "2022-01-17T15:53:23.034Z"
   },
   {
    "duration": 7410,
    "start_time": "2022-01-17T15:53:26.698Z"
   },
   {
    "duration": 8,
    "start_time": "2022-01-17T15:54:02.277Z"
   },
   {
    "duration": 240,
    "start_time": "2022-01-17T15:54:06.795Z"
   },
   {
    "duration": 20,
    "start_time": "2022-01-17T15:54:09.452Z"
   },
   {
    "duration": 6,
    "start_time": "2022-01-17T15:54:25.228Z"
   },
   {
    "duration": 5,
    "start_time": "2022-01-17T15:54:35.820Z"
   },
   {
    "duration": 10,
    "start_time": "2022-01-17T15:55:37.742Z"
   },
   {
    "duration": 3,
    "start_time": "2022-01-17T16:02:19.766Z"
   },
   {
    "duration": 7,
    "start_time": "2022-01-17T16:02:21.357Z"
   },
   {
    "duration": 20,
    "start_time": "2022-01-17T16:02:22.526Z"
   },
   {
    "duration": 21,
    "start_time": "2022-01-17T16:02:25.726Z"
   },
   {
    "duration": 5590,
    "start_time": "2022-01-17T16:02:31.461Z"
   },
   {
    "duration": 16,
    "start_time": "2022-01-17T16:03:06.239Z"
   },
   {
    "duration": 20,
    "start_time": "2022-01-17T16:03:19.639Z"
   },
   {
    "duration": 5971,
    "start_time": "2022-01-17T16:04:58.986Z"
   },
   {
    "duration": 7,
    "start_time": "2022-01-17T16:05:18.723Z"
   },
   {
    "duration": 522,
    "start_time": "2022-01-17T16:05:26.170Z"
   },
   {
    "duration": 651,
    "start_time": "2022-01-17T16:08:38.863Z"
   },
   {
    "duration": 672,
    "start_time": "2022-01-17T16:08:44.695Z"
   },
   {
    "duration": 543,
    "start_time": "2022-01-17T16:09:01.547Z"
   },
   {
    "duration": 801,
    "start_time": "2022-01-17T16:09:06.583Z"
   },
   {
    "duration": 867,
    "start_time": "2022-01-17T16:09:18.808Z"
   },
   {
    "duration": 527,
    "start_time": "2022-01-17T16:10:14.970Z"
   },
   {
    "duration": 519,
    "start_time": "2022-01-17T16:14:11.943Z"
   },
   {
    "duration": 78,
    "start_time": "2022-01-17T16:16:19.913Z"
   },
   {
    "duration": 734,
    "start_time": "2022-01-17T16:16:23.856Z"
   },
   {
    "duration": 552,
    "start_time": "2022-01-17T16:20:46.800Z"
   },
   {
    "duration": 353,
    "start_time": "2022-01-17T16:21:00.152Z"
   },
   {
    "duration": 701,
    "start_time": "2022-01-17T16:21:47.441Z"
   },
   {
    "duration": 648,
    "start_time": "2022-01-17T16:21:54.737Z"
   },
   {
    "duration": 156,
    "start_time": "2022-01-17T16:22:33.889Z"
   },
   {
    "duration": 67,
    "start_time": "2022-01-17T16:22:37.641Z"
   },
   {
    "duration": 2368,
    "start_time": "2022-01-17T16:22:41.553Z"
   },
   {
    "duration": 504,
    "start_time": "2022-01-17T16:22:53.841Z"
   },
   {
    "duration": 355,
    "start_time": "2022-01-17T16:22:58.297Z"
   },
   {
    "duration": 354,
    "start_time": "2022-01-17T16:23:04.994Z"
   },
   {
    "duration": 508,
    "start_time": "2022-01-17T16:23:32.754Z"
   },
   {
    "duration": 372,
    "start_time": "2022-01-17T16:23:40.667Z"
   },
   {
    "duration": 503,
    "start_time": "2022-01-17T16:24:12.804Z"
   },
   {
    "duration": 238,
    "start_time": "2022-01-17T16:24:34.212Z"
   },
   {
    "duration": 294,
    "start_time": "2022-01-17T16:24:41.348Z"
   },
   {
    "duration": 507,
    "start_time": "2022-01-17T16:24:48.237Z"
   },
   {
    "duration": 963,
    "start_time": "2022-01-17T16:25:02.006Z"
   },
   {
    "duration": 375,
    "start_time": "2022-01-17T16:25:43.124Z"
   },
   {
    "duration": 362,
    "start_time": "2022-01-17T16:25:48.582Z"
   },
   {
    "duration": 349,
    "start_time": "2022-01-17T16:26:07.911Z"
   },
   {
    "duration": 397,
    "start_time": "2022-01-17T16:26:31.391Z"
   },
   {
    "duration": 418,
    "start_time": "2022-01-17T16:26:35.631Z"
   },
   {
    "duration": 374,
    "start_time": "2022-01-17T16:28:32.954Z"
   },
   {
    "duration": 342,
    "start_time": "2022-01-17T16:28:58.121Z"
   },
   {
    "duration": 368,
    "start_time": "2022-01-17T16:29:06.530Z"
   },
   {
    "duration": 369,
    "start_time": "2022-01-17T16:29:13.465Z"
   },
   {
    "duration": 370,
    "start_time": "2022-01-17T16:30:00.579Z"
   },
   {
    "duration": 367,
    "start_time": "2022-01-17T16:30:07.444Z"
   },
   {
    "duration": 344,
    "start_time": "2022-01-17T16:30:14.243Z"
   },
   {
    "duration": 371,
    "start_time": "2022-01-17T16:30:47.932Z"
   },
   {
    "duration": 696,
    "start_time": "2022-01-17T16:31:18.869Z"
   },
   {
    "duration": 933,
    "start_time": "2022-01-17T16:32:02.712Z"
   },
   {
    "duration": 664,
    "start_time": "2022-01-17T16:32:46.391Z"
   },
   {
    "duration": 657,
    "start_time": "2022-01-17T16:33:00.328Z"
   },
   {
    "duration": 353,
    "start_time": "2022-01-17T16:33:04.478Z"
   },
   {
    "duration": 398,
    "start_time": "2022-01-17T16:33:19.463Z"
   },
   {
    "duration": 361,
    "start_time": "2022-01-17T16:33:22.791Z"
   },
   {
    "duration": 22,
    "start_time": "2022-01-17T16:44:36.646Z"
   },
   {
    "duration": 37,
    "start_time": "2022-01-17T16:44:40.639Z"
   },
   {
    "duration": 9,
    "start_time": "2022-01-17T16:44:59.663Z"
   },
   {
    "duration": 4,
    "start_time": "2022-01-17T16:45:12.520Z"
   },
   {
    "duration": 7,
    "start_time": "2022-01-17T16:45:16.336Z"
   },
   {
    "duration": 210,
    "start_time": "2022-01-17T16:49:23.445Z"
   },
   {
    "duration": 6,
    "start_time": "2022-01-17T16:49:41.165Z"
   },
   {
    "duration": 5,
    "start_time": "2022-01-17T16:52:02.719Z"
   },
   {
    "duration": 4,
    "start_time": "2022-01-17T16:52:04.032Z"
   },
   {
    "duration": 4,
    "start_time": "2022-01-17T16:52:28.153Z"
   },
   {
    "duration": 3,
    "start_time": "2022-01-17T16:52:28.889Z"
   },
   {
    "duration": 6,
    "start_time": "2022-01-17T16:53:21.331Z"
   },
   {
    "duration": 6,
    "start_time": "2022-01-17T16:53:30.563Z"
   },
   {
    "duration": 5,
    "start_time": "2022-01-17T16:53:47.300Z"
   },
   {
    "duration": 5,
    "start_time": "2022-01-17T16:53:55.795Z"
   },
   {
    "duration": 4,
    "start_time": "2022-01-17T16:55:35.285Z"
   },
   {
    "duration": 45,
    "start_time": "2022-01-17T16:55:36.833Z"
   },
   {
    "duration": 42,
    "start_time": "2022-01-17T16:55:37.836Z"
   },
   {
    "duration": 10,
    "start_time": "2022-01-17T16:56:00.759Z"
   },
   {
    "duration": 10,
    "start_time": "2022-01-17T16:56:05.166Z"
   },
   {
    "duration": 8,
    "start_time": "2022-01-17T16:56:21.743Z"
   },
   {
    "duration": 35,
    "start_time": "2022-01-17T17:01:45.573Z"
   },
   {
    "duration": 37,
    "start_time": "2022-01-17T17:01:46.518Z"
   },
   {
    "duration": 23,
    "start_time": "2022-01-17T17:03:44.826Z"
   },
   {
    "duration": 3,
    "start_time": "2022-01-17T17:03:46.752Z"
   },
   {
    "duration": 5,
    "start_time": "2022-01-17T17:04:06.378Z"
   },
   {
    "duration": 7,
    "start_time": "2022-01-17T17:04:27.497Z"
   },
   {
    "duration": 6,
    "start_time": "2022-01-17T17:06:22.324Z"
   },
   {
    "duration": 5,
    "start_time": "2022-01-17T17:07:03.189Z"
   },
   {
    "duration": 5,
    "start_time": "2022-01-17T17:07:10.613Z"
   },
   {
    "duration": 5,
    "start_time": "2022-01-17T17:07:31.612Z"
   },
   {
    "duration": 4,
    "start_time": "2022-01-17T17:07:32.965Z"
   },
   {
    "duration": 4,
    "start_time": "2022-01-17T17:07:35.309Z"
   },
   {
    "duration": 41,
    "start_time": "2022-01-17T17:07:36.077Z"
   },
   {
    "duration": 47,
    "start_time": "2022-01-17T17:07:37.053Z"
   },
   {
    "duration": 10,
    "start_time": "2022-01-17T17:07:45.653Z"
   },
   {
    "duration": 9,
    "start_time": "2022-01-17T17:07:51.150Z"
   },
   {
    "duration": 1301,
    "start_time": "2022-01-17T17:13:04.981Z"
   },
   {
    "duration": 7,
    "start_time": "2022-01-17T17:13:06.284Z"
   },
   {
    "duration": 230,
    "start_time": "2022-01-17T17:13:06.296Z"
   },
   {
    "duration": 33,
    "start_time": "2022-01-17T17:13:06.528Z"
   },
   {
    "duration": 241,
    "start_time": "2022-01-17T17:13:06.564Z"
   },
   {
    "duration": 27,
    "start_time": "2022-01-17T17:13:06.808Z"
   },
   {
    "duration": 123,
    "start_time": "2022-01-17T17:13:06.840Z"
   },
   {
    "duration": 24,
    "start_time": "2022-01-17T17:13:06.966Z"
   },
   {
    "duration": 38,
    "start_time": "2022-01-17T17:13:06.992Z"
   },
   {
    "duration": 11,
    "start_time": "2022-01-17T17:13:07.032Z"
   },
   {
    "duration": 54,
    "start_time": "2022-01-17T17:13:07.046Z"
   },
   {
    "duration": 13,
    "start_time": "2022-01-17T17:13:07.102Z"
   },
   {
    "duration": 228,
    "start_time": "2022-01-17T17:13:07.117Z"
   },
   {
    "duration": 127,
    "start_time": "2022-01-17T17:13:07.347Z"
   },
   {
    "duration": 127,
    "start_time": "2022-01-17T17:13:07.475Z"
   },
   {
    "duration": 6,
    "start_time": "2022-01-17T17:13:07.604Z"
   },
   {
    "duration": 12,
    "start_time": "2022-01-17T17:13:07.612Z"
   },
   {
    "duration": 13,
    "start_time": "2022-01-17T17:13:07.625Z"
   },
   {
    "duration": 53,
    "start_time": "2022-01-17T17:13:07.640Z"
   },
   {
    "duration": 27,
    "start_time": "2022-01-17T17:13:07.695Z"
   },
   {
    "duration": 52,
    "start_time": "2022-01-17T17:13:07.725Z"
   },
   {
    "duration": 134,
    "start_time": "2022-01-17T17:13:07.781Z"
   },
   {
    "duration": 52,
    "start_time": "2022-01-17T17:13:07.917Z"
   },
   {
    "duration": 79,
    "start_time": "2022-01-17T17:13:07.971Z"
   },
   {
    "duration": 8,
    "start_time": "2022-01-17T17:13:08.060Z"
   },
   {
    "duration": 9,
    "start_time": "2022-01-17T17:13:08.069Z"
   },
   {
    "duration": 17,
    "start_time": "2022-01-17T17:13:08.080Z"
   },
   {
    "duration": 103,
    "start_time": "2022-01-17T17:13:08.099Z"
   },
   {
    "duration": 5,
    "start_time": "2022-01-17T17:13:08.204Z"
   },
   {
    "duration": 8,
    "start_time": "2022-01-17T17:13:08.211Z"
   },
   {
    "duration": 13,
    "start_time": "2022-01-17T17:13:08.220Z"
   },
   {
    "duration": 9,
    "start_time": "2022-01-17T17:13:08.235Z"
   },
   {
    "duration": 25,
    "start_time": "2022-01-17T17:13:08.245Z"
   },
   {
    "duration": 31,
    "start_time": "2022-01-17T17:13:08.272Z"
   },
   {
    "duration": 56,
    "start_time": "2022-01-17T17:13:08.305Z"
   },
   {
    "duration": 6,
    "start_time": "2022-01-17T17:13:08.363Z"
   },
   {
    "duration": 10,
    "start_time": "2022-01-17T17:13:08.371Z"
   },
   {
    "duration": 12,
    "start_time": "2022-01-17T17:13:08.384Z"
   },
   {
    "duration": 84,
    "start_time": "2022-01-17T17:13:08.398Z"
   },
   {
    "duration": 34,
    "start_time": "2022-01-17T17:13:08.484Z"
   },
   {
    "duration": 42,
    "start_time": "2022-01-17T17:13:08.520Z"
   },
   {
    "duration": 9,
    "start_time": "2022-01-17T17:13:08.564Z"
   },
   {
    "duration": 42,
    "start_time": "2022-01-17T17:13:08.575Z"
   },
   {
    "duration": 62,
    "start_time": "2022-01-17T17:13:08.619Z"
   },
   {
    "duration": 7,
    "start_time": "2022-01-17T17:13:08.683Z"
   },
   {
    "duration": 275,
    "start_time": "2022-01-17T17:13:08.693Z"
   },
   {
    "duration": 6,
    "start_time": "2022-01-17T17:13:08.970Z"
   },
   {
    "duration": 10,
    "start_time": "2022-01-17T17:13:08.978Z"
   },
   {
    "duration": 22,
    "start_time": "2022-01-17T17:13:08.990Z"
   },
   {
    "duration": 20,
    "start_time": "2022-01-17T17:13:09.014Z"
   },
   {
    "duration": 302,
    "start_time": "2022-01-17T17:13:09.036Z"
   },
   {
    "duration": 287,
    "start_time": "2022-01-17T17:13:09.341Z"
   },
   {
    "duration": 300,
    "start_time": "2022-01-17T17:13:09.630Z"
   },
   {
    "duration": 296,
    "start_time": "2022-01-17T17:13:09.931Z"
   },
   {
    "duration": 287,
    "start_time": "2022-01-17T17:13:10.229Z"
   },
   {
    "duration": 329,
    "start_time": "2022-01-17T17:13:10.518Z"
   },
   {
    "duration": 31,
    "start_time": "2022-01-17T17:13:10.849Z"
   },
   {
    "duration": 21,
    "start_time": "2022-01-17T17:13:10.882Z"
   },
   {
    "duration": 5,
    "start_time": "2022-01-17T17:13:10.904Z"
   },
   {
    "duration": 9,
    "start_time": "2022-01-17T17:13:10.911Z"
   },
   {
    "duration": 5,
    "start_time": "2022-01-17T17:13:10.922Z"
   },
   {
    "duration": 6,
    "start_time": "2022-01-17T17:13:10.960Z"
   },
   {
    "duration": 16,
    "start_time": "2022-01-17T17:13:10.967Z"
   },
   {
    "duration": 4,
    "start_time": "2022-01-17T17:13:10.985Z"
   },
   {
    "duration": 11,
    "start_time": "2022-01-17T17:13:10.990Z"
   },
   {
    "duration": 12,
    "start_time": "2022-01-17T17:13:11.003Z"
   },
   {
    "duration": 42,
    "start_time": "2022-01-17T17:13:11.020Z"
   },
   {
    "duration": 22,
    "start_time": "2022-01-17T17:13:11.064Z"
   },
   {
    "duration": 21,
    "start_time": "2022-01-17T17:13:11.088Z"
   },
   {
    "duration": 4,
    "start_time": "2022-01-17T17:13:11.111Z"
   },
   {
    "duration": 8,
    "start_time": "2022-01-17T17:13:11.116Z"
   },
   {
    "duration": 5,
    "start_time": "2022-01-17T17:13:11.160Z"
   },
   {
    "duration": 9,
    "start_time": "2022-01-17T17:13:11.166Z"
   },
   {
    "duration": 5,
    "start_time": "2022-01-17T17:13:11.177Z"
   },
   {
    "duration": 9,
    "start_time": "2022-01-17T17:13:11.184Z"
   },
   {
    "duration": 8,
    "start_time": "2022-01-17T17:13:11.195Z"
   },
   {
    "duration": 378,
    "start_time": "2022-01-18T05:10:33.710Z"
   },
   {
    "duration": 1457,
    "start_time": "2022-01-18T05:10:44.429Z"
   },
   {
    "duration": 8,
    "start_time": "2022-01-18T05:10:45.888Z"
   },
   {
    "duration": 225,
    "start_time": "2022-01-18T05:10:45.899Z"
   },
   {
    "duration": 26,
    "start_time": "2022-01-18T05:10:46.127Z"
   },
   {
    "duration": 176,
    "start_time": "2022-01-18T05:10:46.156Z"
   },
   {
    "duration": 21,
    "start_time": "2022-01-18T05:10:46.335Z"
   },
   {
    "duration": 137,
    "start_time": "2022-01-18T05:10:46.359Z"
   },
   {
    "duration": 27,
    "start_time": "2022-01-18T05:10:46.499Z"
   },
   {
    "duration": 23,
    "start_time": "2022-01-18T05:10:46.528Z"
   },
   {
    "duration": 9,
    "start_time": "2022-01-18T05:10:46.553Z"
   },
   {
    "duration": 35,
    "start_time": "2022-01-18T05:10:46.564Z"
   },
   {
    "duration": 27,
    "start_time": "2022-01-18T05:10:46.601Z"
   },
   {
    "duration": 466,
    "start_time": "2022-01-18T05:10:54.360Z"
   },
   {
    "duration": 14507,
    "start_time": "2022-01-18T05:10:59.211Z"
   },
   {
    "duration": 72,
    "start_time": "2022-01-18T05:11:20.699Z"
   },
   {
    "duration": 33,
    "start_time": "2022-01-18T05:11:40.388Z"
   },
   {
    "duration": 28,
    "start_time": "2022-01-18T05:11:50.195Z"
   },
   {
    "duration": 7,
    "start_time": "2022-01-18T05:12:36.373Z"
   },
   {
    "duration": 8,
    "start_time": "2022-01-18T05:12:37.988Z"
   },
   {
    "duration": 1495,
    "start_time": "2022-01-18T05:15:48.279Z"
   },
   {
    "duration": 8,
    "start_time": "2022-01-18T05:15:49.777Z"
   },
   {
    "duration": 221,
    "start_time": "2022-01-18T05:15:49.788Z"
   },
   {
    "duration": 35,
    "start_time": "2022-01-18T05:15:50.012Z"
   },
   {
    "duration": 189,
    "start_time": "2022-01-18T05:15:50.049Z"
   },
   {
    "duration": 23,
    "start_time": "2022-01-18T05:15:50.241Z"
   },
   {
    "duration": 133,
    "start_time": "2022-01-18T05:15:50.266Z"
   },
   {
    "duration": 26,
    "start_time": "2022-01-18T05:15:50.402Z"
   },
   {
    "duration": 23,
    "start_time": "2022-01-18T05:15:50.431Z"
   },
   {
    "duration": 8,
    "start_time": "2022-01-18T05:15:50.456Z"
   },
   {
    "duration": 37,
    "start_time": "2022-01-18T05:15:50.466Z"
   },
   {
    "duration": 25,
    "start_time": "2022-01-18T05:15:50.505Z"
   },
   {
    "duration": 101,
    "start_time": "2022-01-18T05:15:50.532Z"
   },
   {
    "duration": 37,
    "start_time": "2022-01-18T05:15:50.635Z"
   },
   {
    "duration": 66,
    "start_time": "2022-01-18T05:15:50.675Z"
   },
   {
    "duration": 9,
    "start_time": "2022-01-18T05:15:50.744Z"
   },
   {
    "duration": 11,
    "start_time": "2022-01-18T05:15:50.756Z"
   },
   {
    "duration": 55,
    "start_time": "2022-01-18T05:15:50.770Z"
   },
   {
    "duration": 1445,
    "start_time": "2022-01-18T05:19:11.738Z"
   },
   {
    "duration": 8,
    "start_time": "2022-01-18T05:19:13.186Z"
   },
   {
    "duration": 219,
    "start_time": "2022-01-18T05:19:13.198Z"
   },
   {
    "duration": 26,
    "start_time": "2022-01-18T05:19:13.423Z"
   },
   {
    "duration": 189,
    "start_time": "2022-01-18T05:19:13.451Z"
   },
   {
    "duration": 23,
    "start_time": "2022-01-18T05:19:13.643Z"
   },
   {
    "duration": 137,
    "start_time": "2022-01-18T05:19:13.669Z"
   },
   {
    "duration": 26,
    "start_time": "2022-01-18T05:19:13.808Z"
   },
   {
    "duration": 23,
    "start_time": "2022-01-18T05:19:13.838Z"
   },
   {
    "duration": 7,
    "start_time": "2022-01-18T05:19:13.864Z"
   },
   {
    "duration": 53,
    "start_time": "2022-01-18T05:19:13.873Z"
   },
   {
    "duration": 8,
    "start_time": "2022-01-18T05:19:13.928Z"
   },
   {
    "duration": 114,
    "start_time": "2022-01-18T05:19:13.938Z"
   },
   {
    "duration": 35,
    "start_time": "2022-01-18T05:19:14.054Z"
   },
   {
    "duration": 51,
    "start_time": "2022-01-18T05:19:14.092Z"
   },
   {
    "duration": 8,
    "start_time": "2022-01-18T05:19:14.145Z"
   },
   {
    "duration": 10,
    "start_time": "2022-01-18T05:19:14.155Z"
   },
   {
    "duration": 55,
    "start_time": "2022-01-18T05:19:14.168Z"
   },
   {
    "duration": 1478,
    "start_time": "2022-01-18T05:20:38.598Z"
   },
   {
    "duration": 9,
    "start_time": "2022-01-18T05:20:40.085Z"
   },
   {
    "duration": 227,
    "start_time": "2022-01-18T05:20:40.096Z"
   },
   {
    "duration": 26,
    "start_time": "2022-01-18T05:20:40.325Z"
   },
   {
    "duration": 193,
    "start_time": "2022-01-18T05:20:40.354Z"
   },
   {
    "duration": 24,
    "start_time": "2022-01-18T05:20:40.551Z"
   },
   {
    "duration": 143,
    "start_time": "2022-01-18T05:20:40.581Z"
   },
   {
    "duration": 20,
    "start_time": "2022-01-18T05:20:40.728Z"
   },
   {
    "duration": 26,
    "start_time": "2022-01-18T05:20:40.751Z"
   },
   {
    "duration": 46,
    "start_time": "2022-01-18T05:20:40.780Z"
   },
   {
    "duration": 35,
    "start_time": "2022-01-18T05:20:40.829Z"
   },
   {
    "duration": 7,
    "start_time": "2022-01-18T05:20:40.867Z"
   },
   {
    "duration": 108,
    "start_time": "2022-01-18T05:20:40.877Z"
   },
   {
    "duration": 50,
    "start_time": "2022-01-18T05:20:40.987Z"
   },
   {
    "duration": 27,
    "start_time": "2022-01-18T05:20:41.040Z"
   },
   {
    "duration": 7,
    "start_time": "2022-01-18T05:20:41.069Z"
   },
   {
    "duration": 9,
    "start_time": "2022-01-18T05:20:41.078Z"
   },
   {
    "duration": 8,
    "start_time": "2022-01-18T05:20:41.124Z"
   },
   {
    "duration": 1309,
    "start_time": "2022-01-18T05:23:29.572Z"
   },
   {
    "duration": 8,
    "start_time": "2022-01-18T05:23:30.884Z"
   },
   {
    "duration": 233,
    "start_time": "2022-01-18T05:23:30.895Z"
   },
   {
    "duration": 28,
    "start_time": "2022-01-18T05:23:31.132Z"
   },
   {
    "duration": 194,
    "start_time": "2022-01-18T05:23:31.162Z"
   },
   {
    "duration": 21,
    "start_time": "2022-01-18T05:23:31.358Z"
   },
   {
    "duration": 132,
    "start_time": "2022-01-18T05:23:31.382Z"
   },
   {
    "duration": 22,
    "start_time": "2022-01-18T05:23:31.516Z"
   },
   {
    "duration": 23,
    "start_time": "2022-01-18T05:23:31.542Z"
   },
   {
    "duration": 8,
    "start_time": "2022-01-18T05:23:31.568Z"
   },
   {
    "duration": 59,
    "start_time": "2022-01-18T05:23:31.578Z"
   },
   {
    "duration": 9,
    "start_time": "2022-01-18T05:23:31.639Z"
   },
   {
    "duration": 112,
    "start_time": "2022-01-18T05:23:31.651Z"
   },
   {
    "duration": 55,
    "start_time": "2022-01-18T05:23:31.767Z"
   },
   {
    "duration": 32,
    "start_time": "2022-01-18T05:23:31.825Z"
   },
   {
    "duration": 10,
    "start_time": "2022-01-18T05:23:31.860Z"
   },
   {
    "duration": 52,
    "start_time": "2022-01-18T05:23:31.873Z"
   },
   {
    "duration": 15,
    "start_time": "2022-01-18T05:23:31.928Z"
   },
   {
    "duration": 2072,
    "start_time": "2022-01-18T05:27:04.827Z"
   },
   {
    "duration": 21,
    "start_time": "2022-01-18T05:27:06.903Z"
   },
   {
    "duration": 218,
    "start_time": "2022-01-18T05:27:06.932Z"
   },
   {
    "duration": 31,
    "start_time": "2022-01-18T05:27:07.153Z"
   },
   {
    "duration": 195,
    "start_time": "2022-01-18T05:27:07.188Z"
   },
   {
    "duration": 38,
    "start_time": "2022-01-18T05:27:07.385Z"
   },
   {
    "duration": 120,
    "start_time": "2022-01-18T05:27:07.426Z"
   },
   {
    "duration": 18,
    "start_time": "2022-01-18T05:27:07.550Z"
   },
   {
    "duration": 23,
    "start_time": "2022-01-18T05:27:07.571Z"
   },
   {
    "duration": 34,
    "start_time": "2022-01-18T05:27:07.596Z"
   },
   {
    "duration": 36,
    "start_time": "2022-01-18T05:27:07.632Z"
   },
   {
    "duration": 8,
    "start_time": "2022-01-18T05:27:07.670Z"
   },
   {
    "duration": 113,
    "start_time": "2022-01-18T05:27:07.680Z"
   },
   {
    "duration": 6,
    "start_time": "2022-01-18T05:27:07.796Z"
   },
   {
    "duration": 23,
    "start_time": "2022-01-18T05:27:07.804Z"
   },
   {
    "duration": 7,
    "start_time": "2022-01-18T05:27:07.829Z"
   },
   {
    "duration": 8,
    "start_time": "2022-01-18T05:27:07.838Z"
   },
   {
    "duration": 118,
    "start_time": "2022-01-18T05:27:07.849Z"
   },
   {
    "duration": 33,
    "start_time": "2022-01-18T05:27:07.970Z"
   },
   {
    "duration": 43,
    "start_time": "2022-01-18T05:27:08.005Z"
   },
   {
    "duration": 8,
    "start_time": "2022-01-18T05:27:08.050Z"
   },
   {
    "duration": 9,
    "start_time": "2022-01-18T05:27:08.060Z"
   },
   {
    "duration": 53,
    "start_time": "2022-01-18T05:27:08.071Z"
   },
   {
    "duration": 350,
    "start_time": "2022-01-18T05:27:10.067Z"
   },
   {
    "duration": 324,
    "start_time": "2022-01-18T05:27:17.469Z"
   },
   {
    "duration": 326,
    "start_time": "2022-01-18T05:27:43.613Z"
   },
   {
    "duration": 311,
    "start_time": "2022-01-18T05:28:12.407Z"
   },
   {
    "duration": 302,
    "start_time": "2022-01-18T05:28:38.967Z"
   },
   {
    "duration": 366,
    "start_time": "2022-01-18T05:29:26.232Z"
   },
   {
    "duration": 276,
    "start_time": "2022-01-18T05:30:09.049Z"
   },
   {
    "duration": 35,
    "start_time": "2022-01-18T05:31:49.147Z"
   },
   {
    "duration": 36,
    "start_time": "2022-01-18T05:31:49.850Z"
   },
   {
    "duration": 42,
    "start_time": "2022-01-18T05:31:51.682Z"
   },
   {
    "duration": 127,
    "start_time": "2022-01-18T05:31:56.514Z"
   },
   {
    "duration": 60,
    "start_time": "2022-01-18T05:31:57.027Z"
   },
   {
    "duration": 92,
    "start_time": "2022-01-18T05:31:57.434Z"
   },
   {
    "duration": 10,
    "start_time": "2022-01-18T05:31:57.866Z"
   },
   {
    "duration": 9,
    "start_time": "2022-01-18T05:31:58.362Z"
   },
   {
    "duration": 19,
    "start_time": "2022-01-18T05:32:04.306Z"
   },
   {
    "duration": 13,
    "start_time": "2022-01-18T05:32:14.275Z"
   },
   {
    "duration": 15,
    "start_time": "2022-01-18T05:32:16.906Z"
   },
   {
    "duration": 70,
    "start_time": "2022-01-18T05:32:19.954Z"
   },
   {
    "duration": 7,
    "start_time": "2022-01-18T05:32:24.418Z"
   },
   {
    "duration": 6,
    "start_time": "2022-01-18T05:32:25.587Z"
   },
   {
    "duration": 6,
    "start_time": "2022-01-18T05:32:26.363Z"
   },
   {
    "duration": 52,
    "start_time": "2022-01-18T05:32:37.235Z"
   },
   {
    "duration": 33,
    "start_time": "2022-01-18T05:33:33.116Z"
   },
   {
    "duration": 27,
    "start_time": "2022-01-18T05:33:36.229Z"
   },
   {
    "duration": 9,
    "start_time": "2022-01-18T05:33:40.060Z"
   },
   {
    "duration": 27,
    "start_time": "2022-01-18T05:34:32.503Z"
   },
   {
    "duration": 48,
    "start_time": "2022-01-18T05:34:36.838Z"
   },
   {
    "duration": 7,
    "start_time": "2022-01-18T05:36:28.673Z"
   },
   {
    "duration": 7,
    "start_time": "2022-01-18T05:43:19.242Z"
   },
   {
    "duration": 4,
    "start_time": "2022-01-18T05:43:29.914Z"
   },
   {
    "duration": 8,
    "start_time": "2022-01-18T05:45:17.043Z"
   },
   {
    "duration": 21,
    "start_time": "2022-01-18T05:45:42.733Z"
   },
   {
    "duration": 40,
    "start_time": "2022-01-18T05:52:07.549Z"
   },
   {
    "duration": 9,
    "start_time": "2022-01-18T05:52:25.822Z"
   },
   {
    "duration": 11,
    "start_time": "2022-01-18T05:52:48.646Z"
   },
   {
    "duration": 8,
    "start_time": "2022-01-18T05:52:54.525Z"
   },
   {
    "duration": 388,
    "start_time": "2022-01-18T05:52:56.949Z"
   },
   {
    "duration": 7,
    "start_time": "2022-01-18T05:52:58.077Z"
   },
   {
    "duration": 8,
    "start_time": "2022-01-18T05:53:14.189Z"
   },
   {
    "duration": 27,
    "start_time": "2022-01-18T05:53:15.374Z"
   },
   {
    "duration": 27,
    "start_time": "2022-01-18T05:53:16.046Z"
   },
   {
    "duration": 414,
    "start_time": "2022-01-18T05:53:22.701Z"
   },
   {
    "duration": 401,
    "start_time": "2022-01-18T05:53:25.605Z"
   },
   {
    "duration": 388,
    "start_time": "2022-01-18T05:53:29.118Z"
   },
   {
    "duration": 408,
    "start_time": "2022-01-18T05:53:32.981Z"
   },
   {
    "duration": 380,
    "start_time": "2022-01-18T05:53:35.846Z"
   },
   {
    "duration": 377,
    "start_time": "2022-01-18T05:53:39.046Z"
   },
   {
    "duration": 34,
    "start_time": "2022-01-18T05:54:05.471Z"
   },
   {
    "duration": 31,
    "start_time": "2022-01-18T05:54:08.055Z"
   },
   {
    "duration": 8,
    "start_time": "2022-01-18T05:54:12.638Z"
   },
   {
    "duration": 9,
    "start_time": "2022-01-18T05:54:14.678Z"
   },
   {
    "duration": 4,
    "start_time": "2022-01-18T05:54:21.663Z"
   },
   {
    "duration": 6,
    "start_time": "2022-01-18T05:54:23.040Z"
   },
   {
    "duration": 7,
    "start_time": "2022-01-18T05:54:24.415Z"
   },
   {
    "duration": 5,
    "start_time": "2022-01-18T05:54:29.599Z"
   },
   {
    "duration": 5,
    "start_time": "2022-01-18T05:54:40.663Z"
   },
   {
    "duration": 11,
    "start_time": "2022-01-18T05:54:45.631Z"
   },
   {
    "duration": 11,
    "start_time": "2022-01-18T05:54:46.247Z"
   },
   {
    "duration": 31,
    "start_time": "2022-01-18T05:56:28.035Z"
   },
   {
    "duration": 29,
    "start_time": "2022-01-18T05:56:30.146Z"
   },
   {
    "duration": 3,
    "start_time": "2022-01-18T05:56:33.897Z"
   },
   {
    "duration": 8,
    "start_time": "2022-01-18T05:56:35.016Z"
   },
   {
    "duration": 6,
    "start_time": "2022-01-18T05:56:37.781Z"
   },
   {
    "duration": 5,
    "start_time": "2022-01-18T05:56:38.371Z"
   },
   {
    "duration": 4,
    "start_time": "2022-01-18T05:56:43.035Z"
   },
   {
    "duration": 10,
    "start_time": "2022-01-18T05:56:52.923Z"
   },
   {
    "duration": 10,
    "start_time": "2022-01-18T05:56:53.650Z"
   },
   {
    "duration": 1356,
    "start_time": "2022-01-25T12:27:49.902Z"
   },
   {
    "duration": 13,
    "start_time": "2022-01-25T12:27:52.613Z"
   },
   {
    "duration": 209,
    "start_time": "2022-01-25T12:28:10.718Z"
   },
   {
    "duration": 30,
    "start_time": "2022-01-25T12:28:13.215Z"
   },
   {
    "duration": 186,
    "start_time": "2022-01-25T12:28:20.545Z"
   },
   {
    "duration": 22,
    "start_time": "2022-01-25T12:28:22.985Z"
   },
   {
    "duration": 121,
    "start_time": "2022-01-25T12:28:29.066Z"
   },
   {
    "duration": 18,
    "start_time": "2022-01-25T12:28:29.731Z"
   },
   {
    "duration": 30,
    "start_time": "2022-01-25T12:28:35.027Z"
   },
   {
    "duration": 12,
    "start_time": "2022-01-25T12:28:35.828Z"
   },
   {
    "duration": 41,
    "start_time": "2022-01-25T12:28:49.382Z"
   },
   {
    "duration": 9,
    "start_time": "2022-01-25T12:28:50.222Z"
   },
   {
    "duration": 93,
    "start_time": "2022-01-25T12:29:04.673Z"
   },
   {
    "duration": 7,
    "start_time": "2022-01-25T12:29:05.921Z"
   },
   {
    "duration": 7,
    "start_time": "2022-01-25T12:29:06.456Z"
   },
   {
    "duration": 6,
    "start_time": "2022-01-25T12:29:07.033Z"
   },
   {
    "duration": 8,
    "start_time": "2022-01-25T12:29:08.754Z"
   },
   {
    "duration": 74,
    "start_time": "2022-01-25T12:29:21.666Z"
   },
   {
    "duration": 34,
    "start_time": "2022-01-25T12:29:22.283Z"
   },
   {
    "duration": 26,
    "start_time": "2022-01-25T12:29:23.131Z"
   },
   {
    "duration": 9,
    "start_time": "2022-01-25T12:29:24.667Z"
   },
   {
    "duration": 8,
    "start_time": "2022-01-25T12:29:29.316Z"
   },
   {
    "duration": 9,
    "start_time": "2022-01-25T12:29:31.141Z"
   },
   {
    "duration": 357,
    "start_time": "2022-01-25T12:29:35.669Z"
   },
   {
    "duration": 332,
    "start_time": "2022-01-25T12:30:17.461Z"
   },
   {
    "duration": 339,
    "start_time": "2022-01-25T12:30:18.932Z"
   },
   {
    "duration": 431,
    "start_time": "2022-01-25T12:30:20.836Z"
   },
   {
    "duration": 283,
    "start_time": "2022-01-25T12:30:22.636Z"
   },
   {
    "duration": 345,
    "start_time": "2022-01-25T12:30:28.300Z"
   },
   {
    "duration": 36,
    "start_time": "2022-01-25T12:30:36.294Z"
   },
   {
    "duration": 35,
    "start_time": "2022-01-25T12:30:37.841Z"
   },
   {
    "duration": 117,
    "start_time": "2022-01-25T12:30:38.367Z"
   },
   {
    "duration": 122,
    "start_time": "2022-01-25T12:30:43.271Z"
   },
   {
    "duration": 63,
    "start_time": "2022-01-25T12:30:43.823Z"
   },
   {
    "duration": 82,
    "start_time": "2022-01-25T12:30:44.328Z"
   },
   {
    "duration": 10,
    "start_time": "2022-01-25T12:30:44.800Z"
   },
   {
    "duration": 9,
    "start_time": "2022-01-25T12:30:45.383Z"
   },
   {
    "duration": 20,
    "start_time": "2022-01-25T12:30:49.785Z"
   },
   {
    "duration": 10,
    "start_time": "2022-01-25T12:30:58.810Z"
   },
   {
    "duration": 15,
    "start_time": "2022-01-25T12:31:01.010Z"
   },
   {
    "duration": 73,
    "start_time": "2022-01-25T12:31:01.930Z"
   },
   {
    "duration": 6,
    "start_time": "2022-01-25T12:31:02.810Z"
   },
   {
    "duration": 8,
    "start_time": "2022-01-25T12:31:05.595Z"
   },
   {
    "duration": 7,
    "start_time": "2022-01-25T12:31:06.331Z"
   },
   {
    "duration": 50,
    "start_time": "2022-01-25T12:31:13.364Z"
   },
   {
    "duration": 32,
    "start_time": "2022-01-25T12:31:17.412Z"
   },
   {
    "duration": 27,
    "start_time": "2022-01-25T12:31:17.957Z"
   },
   {
    "duration": 9,
    "start_time": "2022-01-25T12:31:22.269Z"
   },
   {
    "duration": 32,
    "start_time": "2022-01-25T12:31:25.070Z"
   },
   {
    "duration": 54,
    "start_time": "2022-01-25T12:31:30.022Z"
   },
   {
    "duration": 8,
    "start_time": "2022-01-25T12:31:44.584Z"
   },
   {
    "duration": 21,
    "start_time": "2022-01-25T12:31:46.577Z"
   },
   {
    "duration": 13,
    "start_time": "2022-01-25T12:31:49.744Z"
   },
   {
    "duration": 7,
    "start_time": "2022-01-25T12:31:53.754Z"
   },
   {
    "duration": 391,
    "start_time": "2022-01-25T12:31:54.202Z"
   },
   {
    "duration": 7,
    "start_time": "2022-01-25T12:31:54.890Z"
   },
   {
    "duration": 10,
    "start_time": "2022-01-25T12:32:12.076Z"
   },
   {
    "duration": 28,
    "start_time": "2022-01-25T12:32:12.710Z"
   },
   {
    "duration": 35,
    "start_time": "2022-01-25T12:32:13.470Z"
   },
   {
    "duration": 440,
    "start_time": "2022-01-25T12:32:18.566Z"
   },
   {
    "duration": 401,
    "start_time": "2022-01-25T12:32:21.766Z"
   },
   {
    "duration": 377,
    "start_time": "2022-01-25T12:32:27.415Z"
   },
   {
    "duration": 507,
    "start_time": "2022-01-25T12:32:30.312Z"
   },
   {
    "duration": 377,
    "start_time": "2022-01-25T12:32:33.295Z"
   },
   {
    "duration": 387,
    "start_time": "2022-01-25T12:32:36.521Z"
   },
   {
    "duration": 31,
    "start_time": "2022-01-25T12:32:52.504Z"
   },
   {
    "duration": 29,
    "start_time": "2022-01-25T12:32:53.283Z"
   },
   {
    "duration": 3,
    "start_time": "2022-01-25T12:33:00.652Z"
   },
   {
    "duration": 8,
    "start_time": "2022-01-25T12:33:04.501Z"
   },
   {
    "duration": 6,
    "start_time": "2022-01-25T12:33:10.101Z"
   },
   {
    "duration": 5,
    "start_time": "2022-01-25T12:33:10.573Z"
   },
   {
    "duration": 6,
    "start_time": "2022-01-25T12:33:14.413Z"
   },
   {
    "duration": 11,
    "start_time": "2022-01-25T12:33:14.982Z"
   },
   {
    "duration": 11,
    "start_time": "2022-01-25T12:33:15.775Z"
   },
   {
    "duration": 31,
    "start_time": "2022-01-25T12:33:21.647Z"
   },
   {
    "duration": 30,
    "start_time": "2022-01-25T12:33:24.328Z"
   },
   {
    "duration": 3,
    "start_time": "2022-01-25T12:33:27.632Z"
   },
   {
    "duration": 8,
    "start_time": "2022-01-25T12:33:28.328Z"
   },
   {
    "duration": 5,
    "start_time": "2022-01-25T12:33:29.176Z"
   },
   {
    "duration": 5,
    "start_time": "2022-01-25T12:33:29.560Z"
   },
   {
    "duration": 5,
    "start_time": "2022-01-25T12:33:30.008Z"
   },
   {
    "duration": 11,
    "start_time": "2022-01-25T12:33:32.081Z"
   },
   {
    "duration": 11,
    "start_time": "2022-01-25T12:33:32.401Z"
   },
   {
    "duration": 1557,
    "start_time": "2022-01-25T12:33:48.381Z"
   },
   {
    "duration": 11,
    "start_time": "2022-01-25T12:33:49.941Z"
   },
   {
    "duration": 236,
    "start_time": "2022-01-25T12:33:49.964Z"
   },
   {
    "duration": 27,
    "start_time": "2022-01-25T12:33:50.202Z"
   },
   {
    "duration": 186,
    "start_time": "2022-01-25T12:33:50.232Z"
   },
   {
    "duration": 25,
    "start_time": "2022-01-25T12:33:50.421Z"
   },
   {
    "duration": 124,
    "start_time": "2022-01-25T12:33:50.466Z"
   },
   {
    "duration": 18,
    "start_time": "2022-01-25T12:33:50.594Z"
   },
   {
    "duration": 30,
    "start_time": "2022-01-25T12:33:50.615Z"
   },
   {
    "duration": 21,
    "start_time": "2022-01-25T12:33:50.648Z"
   },
   {
    "duration": 44,
    "start_time": "2022-01-25T12:33:50.671Z"
   },
   {
    "duration": 9,
    "start_time": "2022-01-25T12:33:50.718Z"
   },
   {
    "duration": 109,
    "start_time": "2022-01-25T12:33:50.730Z"
   },
   {
    "duration": 8,
    "start_time": "2022-01-25T12:33:50.842Z"
   },
   {
    "duration": 17,
    "start_time": "2022-01-25T12:33:50.853Z"
   },
   {
    "duration": 10,
    "start_time": "2022-01-25T12:33:50.873Z"
   },
   {
    "duration": 18,
    "start_time": "2022-01-25T12:33:50.886Z"
   },
   {
    "duration": 119,
    "start_time": "2022-01-25T12:33:50.907Z"
   },
   {
    "duration": 50,
    "start_time": "2022-01-25T12:33:51.029Z"
   },
   {
    "duration": 28,
    "start_time": "2022-01-25T12:33:51.082Z"
   },
   {
    "duration": 8,
    "start_time": "2022-01-25T12:33:51.113Z"
   },
   {
    "duration": 16,
    "start_time": "2022-01-25T12:33:51.124Z"
   },
   {
    "duration": 9,
    "start_time": "2022-01-25T12:33:51.169Z"
   },
   {
    "duration": 389,
    "start_time": "2022-01-25T12:33:51.181Z"
   },
   {
    "duration": 325,
    "start_time": "2022-01-25T12:33:51.572Z"
   },
   {
    "duration": 332,
    "start_time": "2022-01-25T12:33:51.899Z"
   },
   {
    "duration": 336,
    "start_time": "2022-01-25T12:33:52.234Z"
   },
   {
    "duration": 295,
    "start_time": "2022-01-25T12:33:52.572Z"
   },
   {
    "duration": 35,
    "start_time": "2022-01-25T12:33:52.869Z"
   },
   {
    "duration": 59,
    "start_time": "2022-01-25T12:33:52.907Z"
   },
   {
    "duration": 113,
    "start_time": "2022-01-25T12:33:52.968Z"
   },
   {
    "duration": 129,
    "start_time": "2022-01-25T12:33:53.083Z"
   },
   {
    "duration": 63,
    "start_time": "2022-01-25T12:33:53.215Z"
   },
   {
    "duration": 98,
    "start_time": "2022-01-25T12:33:53.281Z"
   },
   {
    "duration": 11,
    "start_time": "2022-01-25T12:33:53.382Z"
   },
   {
    "duration": 9,
    "start_time": "2022-01-25T12:33:53.395Z"
   },
   {
    "duration": 21,
    "start_time": "2022-01-25T12:33:53.407Z"
   },
   {
    "duration": 42,
    "start_time": "2022-01-25T12:33:53.431Z"
   },
   {
    "duration": 15,
    "start_time": "2022-01-25T12:33:53.476Z"
   },
   {
    "duration": 95,
    "start_time": "2022-01-25T12:33:53.493Z"
   },
   {
    "duration": 6,
    "start_time": "2022-01-25T12:33:53.591Z"
   },
   {
    "duration": 11,
    "start_time": "2022-01-25T12:33:53.600Z"
   },
   {
    "duration": 6,
    "start_time": "2022-01-25T12:33:53.613Z"
   },
   {
    "duration": 77,
    "start_time": "2022-01-25T12:33:53.622Z"
   },
   {
    "duration": 30,
    "start_time": "2022-01-25T12:33:53.702Z"
   },
   {
    "duration": 47,
    "start_time": "2022-01-25T12:33:53.734Z"
   },
   {
    "duration": 9,
    "start_time": "2022-01-25T12:33:53.783Z"
   },
   {
    "duration": 28,
    "start_time": "2022-01-25T12:33:53.794Z"
   },
   {
    "duration": 76,
    "start_time": "2022-01-25T12:33:53.825Z"
   },
   {
    "duration": 7,
    "start_time": "2022-01-25T12:33:53.903Z"
   },
   {
    "duration": 23,
    "start_time": "2022-01-25T12:33:53.913Z"
   },
   {
    "duration": 34,
    "start_time": "2022-01-25T12:33:53.938Z"
   },
   {
    "duration": 7,
    "start_time": "2022-01-25T12:33:53.975Z"
   },
   {
    "duration": 409,
    "start_time": "2022-01-25T12:33:53.985Z"
   },
   {
    "duration": 7,
    "start_time": "2022-01-25T12:33:54.396Z"
   },
   {
    "duration": 14,
    "start_time": "2022-01-25T12:33:54.406Z"
   },
   {
    "duration": 47,
    "start_time": "2022-01-25T12:33:54.423Z"
   },
   {
    "duration": 26,
    "start_time": "2022-01-25T12:33:54.472Z"
   },
   {
    "duration": 410,
    "start_time": "2022-01-25T12:33:54.500Z"
   },
   {
    "duration": 426,
    "start_time": "2022-01-25T12:33:54.913Z"
   },
   {
    "duration": 399,
    "start_time": "2022-01-25T12:33:55.341Z"
   },
   {
    "duration": 415,
    "start_time": "2022-01-25T12:33:55.742Z"
   },
   {
    "duration": 394,
    "start_time": "2022-01-25T12:33:56.160Z"
   },
   {
    "duration": 398,
    "start_time": "2022-01-25T12:33:56.557Z"
   },
   {
    "duration": 34,
    "start_time": "2022-01-25T12:33:56.957Z"
   },
   {
    "duration": 30,
    "start_time": "2022-01-25T12:33:56.994Z"
   },
   {
    "duration": 3,
    "start_time": "2022-01-25T12:33:57.027Z"
   },
   {
    "duration": 8,
    "start_time": "2022-01-25T12:33:57.070Z"
   },
   {
    "duration": 9,
    "start_time": "2022-01-25T12:33:57.081Z"
   },
   {
    "duration": 7,
    "start_time": "2022-01-25T12:33:57.093Z"
   },
   {
    "duration": 6,
    "start_time": "2022-01-25T12:33:57.102Z"
   },
   {
    "duration": 20,
    "start_time": "2022-01-25T12:33:57.110Z"
   },
   {
    "duration": 12,
    "start_time": "2022-01-25T12:33:57.165Z"
   },
   {
    "duration": 38,
    "start_time": "2022-01-25T12:33:57.182Z"
   },
   {
    "duration": 50,
    "start_time": "2022-01-25T12:33:57.223Z"
   },
   {
    "duration": 3,
    "start_time": "2022-01-25T12:33:57.276Z"
   },
   {
    "duration": 12,
    "start_time": "2022-01-25T12:33:57.281Z"
   },
   {
    "duration": 6,
    "start_time": "2022-01-25T12:33:57.295Z"
   },
   {
    "duration": 7,
    "start_time": "2022-01-25T12:33:57.303Z"
   },
   {
    "duration": 7,
    "start_time": "2022-01-25T12:33:57.312Z"
   },
   {
    "duration": 50,
    "start_time": "2022-01-25T12:33:57.321Z"
   },
   {
    "duration": 19,
    "start_time": "2022-01-25T12:33:57.374Z"
   },
   {
    "duration": 1386,
    "start_time": "2022-01-25T12:34:09.934Z"
   },
   {
    "duration": 8,
    "start_time": "2022-01-25T12:34:11.322Z"
   },
   {
    "duration": 213,
    "start_time": "2022-01-25T12:34:11.333Z"
   },
   {
    "duration": 37,
    "start_time": "2022-01-25T12:34:11.550Z"
   },
   {
    "duration": 186,
    "start_time": "2022-01-25T12:34:11.590Z"
   },
   {
    "duration": 22,
    "start_time": "2022-01-25T12:34:11.779Z"
   },
   {
    "duration": 142,
    "start_time": "2022-01-25T12:34:11.803Z"
   },
   {
    "duration": 30,
    "start_time": "2022-01-25T12:34:11.951Z"
   },
   {
    "duration": 29,
    "start_time": "2022-01-25T12:34:11.984Z"
   },
   {
    "duration": 9,
    "start_time": "2022-01-25T12:34:12.016Z"
   },
   {
    "duration": 44,
    "start_time": "2022-01-25T12:34:12.028Z"
   },
   {
    "duration": 8,
    "start_time": "2022-01-25T12:34:12.075Z"
   },
   {
    "duration": 116,
    "start_time": "2022-01-25T12:34:12.085Z"
   },
   {
    "duration": 7,
    "start_time": "2022-01-25T12:34:12.203Z"
   },
   {
    "duration": 8,
    "start_time": "2022-01-25T12:34:12.212Z"
   },
   {
    "duration": 8,
    "start_time": "2022-01-25T12:34:12.222Z"
   },
   {
    "duration": 37,
    "start_time": "2022-01-25T12:34:12.232Z"
   },
   {
    "duration": 94,
    "start_time": "2022-01-25T12:34:12.272Z"
   },
   {
    "duration": 35,
    "start_time": "2022-01-25T12:34:12.369Z"
   },
   {
    "duration": 30,
    "start_time": "2022-01-25T12:34:12.407Z"
   },
   {
    "duration": 9,
    "start_time": "2022-01-25T12:34:12.464Z"
   },
   {
    "duration": 8,
    "start_time": "2022-01-25T12:34:12.476Z"
   },
   {
    "duration": 10,
    "start_time": "2022-01-25T12:34:12.490Z"
   },
   {
    "duration": 408,
    "start_time": "2022-01-25T12:34:12.504Z"
   },
   {
    "duration": 455,
    "start_time": "2022-01-25T12:34:12.914Z"
   },
   {
    "duration": 348,
    "start_time": "2022-01-25T12:34:13.372Z"
   },
   {
    "duration": 308,
    "start_time": "2022-01-25T12:34:13.722Z"
   },
   {
    "duration": 304,
    "start_time": "2022-01-25T12:34:14.033Z"
   },
   {
    "duration": 48,
    "start_time": "2022-01-25T12:34:14.340Z"
   },
   {
    "duration": 35,
    "start_time": "2022-01-25T12:34:14.391Z"
   },
   {
    "duration": 63,
    "start_time": "2022-01-25T12:34:14.428Z"
   },
   {
    "duration": 133,
    "start_time": "2022-01-25T12:34:14.493Z"
   },
   {
    "duration": 67,
    "start_time": "2022-01-25T12:34:14.629Z"
   },
   {
    "duration": 90,
    "start_time": "2022-01-25T12:34:14.698Z"
   },
   {
    "duration": 9,
    "start_time": "2022-01-25T12:34:14.791Z"
   },
   {
    "duration": 14,
    "start_time": "2022-01-25T12:34:14.802Z"
   },
   {
    "duration": 19,
    "start_time": "2022-01-25T12:34:14.818Z"
   },
   {
    "duration": 10,
    "start_time": "2022-01-25T12:34:14.863Z"
   },
   {
    "duration": 16,
    "start_time": "2022-01-25T12:34:14.876Z"
   },
   {
    "duration": 92,
    "start_time": "2022-01-25T12:34:14.894Z"
   },
   {
    "duration": 7,
    "start_time": "2022-01-25T12:34:14.988Z"
   },
   {
    "duration": 19,
    "start_time": "2022-01-25T12:34:14.997Z"
   },
   {
    "duration": 11,
    "start_time": "2022-01-25T12:34:15.018Z"
   },
   {
    "duration": 73,
    "start_time": "2022-01-25T12:34:15.031Z"
   },
   {
    "duration": 33,
    "start_time": "2022-01-25T12:34:15.107Z"
   },
   {
    "duration": 44,
    "start_time": "2022-01-25T12:34:15.142Z"
   },
   {
    "duration": 9,
    "start_time": "2022-01-25T12:34:15.189Z"
   },
   {
    "duration": 43,
    "start_time": "2022-01-25T12:34:15.200Z"
   },
   {
    "duration": 66,
    "start_time": "2022-01-25T12:34:15.246Z"
   },
   {
    "duration": 8,
    "start_time": "2022-01-25T12:34:15.314Z"
   },
   {
    "duration": 53,
    "start_time": "2022-01-25T12:34:15.324Z"
   },
   {
    "duration": 16,
    "start_time": "2022-01-25T12:34:15.380Z"
   },
   {
    "duration": 9,
    "start_time": "2022-01-25T12:34:15.399Z"
   },
   {
    "duration": 426,
    "start_time": "2022-01-25T12:34:15.411Z"
   },
   {
    "duration": 6,
    "start_time": "2022-01-25T12:34:15.839Z"
   },
   {
    "duration": 22,
    "start_time": "2022-01-25T12:34:15.848Z"
   },
   {
    "duration": 27,
    "start_time": "2022-01-25T12:34:15.873Z"
   },
   {
    "duration": 33,
    "start_time": "2022-01-25T12:34:15.903Z"
   },
   {
    "duration": 417,
    "start_time": "2022-01-25T12:34:15.938Z"
   },
   {
    "duration": 403,
    "start_time": "2022-01-25T12:34:16.365Z"
   },
   {
    "duration": 465,
    "start_time": "2022-01-25T12:34:16.771Z"
   },
   {
    "duration": 429,
    "start_time": "2022-01-25T12:34:17.238Z"
   },
   {
    "duration": 407,
    "start_time": "2022-01-25T12:34:17.669Z"
   },
   {
    "duration": 401,
    "start_time": "2022-01-25T12:34:18.079Z"
   },
   {
    "duration": 28,
    "start_time": "2022-01-25T12:34:18.483Z"
   },
   {
    "duration": 55,
    "start_time": "2022-01-25T12:34:18.513Z"
   },
   {
    "duration": 3,
    "start_time": "2022-01-25T12:34:18.571Z"
   },
   {
    "duration": 8,
    "start_time": "2022-01-25T12:34:18.581Z"
   },
   {
    "duration": 5,
    "start_time": "2022-01-25T12:34:18.591Z"
   },
   {
    "duration": 8,
    "start_time": "2022-01-25T12:34:18.599Z"
   },
   {
    "duration": 7,
    "start_time": "2022-01-25T12:34:18.609Z"
   },
   {
    "duration": 52,
    "start_time": "2022-01-25T12:34:18.618Z"
   },
   {
    "duration": 11,
    "start_time": "2022-01-25T12:34:18.672Z"
   },
   {
    "duration": 28,
    "start_time": "2022-01-25T12:34:18.685Z"
   },
   {
    "duration": 62,
    "start_time": "2022-01-25T12:34:18.715Z"
   },
   {
    "duration": 4,
    "start_time": "2022-01-25T12:34:18.779Z"
   },
   {
    "duration": 20,
    "start_time": "2022-01-25T12:34:18.785Z"
   },
   {
    "duration": 7,
    "start_time": "2022-01-25T12:34:18.808Z"
   },
   {
    "duration": 8,
    "start_time": "2022-01-25T12:34:18.817Z"
   },
   {
    "duration": 38,
    "start_time": "2022-01-25T12:34:18.827Z"
   },
   {
    "duration": 12,
    "start_time": "2022-01-25T12:34:18.868Z"
   },
   {
    "duration": 14,
    "start_time": "2022-01-25T12:34:18.882Z"
   },
   {
    "duration": 1258,
    "start_time": "2022-01-25T12:35:12.489Z"
   },
   {
    "duration": 16,
    "start_time": "2022-01-25T12:35:13.749Z"
   },
   {
    "duration": 210,
    "start_time": "2022-01-25T12:35:13.768Z"
   },
   {
    "duration": 28,
    "start_time": "2022-01-25T12:35:13.980Z"
   },
   {
    "duration": 186,
    "start_time": "2022-01-25T12:35:14.010Z"
   },
   {
    "duration": 22,
    "start_time": "2022-01-25T12:35:14.198Z"
   },
   {
    "duration": 138,
    "start_time": "2022-01-25T12:35:14.222Z"
   },
   {
    "duration": 18,
    "start_time": "2022-01-25T12:35:14.364Z"
   },
   {
    "duration": 27,
    "start_time": "2022-01-25T12:35:14.386Z"
   },
   {
    "duration": 13,
    "start_time": "2022-01-25T12:35:14.416Z"
   },
   {
    "duration": 48,
    "start_time": "2022-01-25T12:35:14.432Z"
   },
   {
    "duration": 10,
    "start_time": "2022-01-25T12:35:14.482Z"
   },
   {
    "duration": 123,
    "start_time": "2022-01-25T12:35:14.495Z"
   },
   {
    "duration": 7,
    "start_time": "2022-01-25T12:35:14.620Z"
   },
   {
    "duration": 11,
    "start_time": "2022-01-25T12:35:14.630Z"
   },
   {
    "duration": 22,
    "start_time": "2022-01-25T12:35:14.644Z"
   },
   {
    "duration": 8,
    "start_time": "2022-01-25T12:35:14.669Z"
   },
   {
    "duration": 101,
    "start_time": "2022-01-25T12:35:14.680Z"
   },
   {
    "duration": 37,
    "start_time": "2022-01-25T12:35:14.784Z"
   },
   {
    "duration": 54,
    "start_time": "2022-01-25T12:35:14.824Z"
   },
   {
    "duration": 9,
    "start_time": "2022-01-25T12:35:14.880Z"
   },
   {
    "duration": 11,
    "start_time": "2022-01-25T12:35:14.891Z"
   },
   {
    "duration": 10,
    "start_time": "2022-01-25T12:35:14.906Z"
   },
   {
    "duration": 361,
    "start_time": "2022-01-25T12:35:20.198Z"
   },
   {
    "duration": 327,
    "start_time": "2022-01-25T12:35:23.325Z"
   },
   {
    "duration": 320,
    "start_time": "2022-01-25T12:35:24.727Z"
   },
   {
    "duration": 332,
    "start_time": "2022-01-25T12:35:25.782Z"
   },
   {
    "duration": 297,
    "start_time": "2022-01-25T12:35:27.623Z"
   },
   {
    "duration": 274,
    "start_time": "2022-01-25T12:35:29.280Z"
   },
   {
    "duration": 36,
    "start_time": "2022-01-25T12:35:33.339Z"
   },
   {
    "duration": 37,
    "start_time": "2022-01-25T12:35:33.378Z"
   },
   {
    "duration": 75,
    "start_time": "2022-01-25T12:35:33.418Z"
   },
   {
    "duration": 144,
    "start_time": "2022-01-25T12:35:33.495Z"
   },
   {
    "duration": 64,
    "start_time": "2022-01-25T12:35:33.642Z"
   },
   {
    "duration": 98,
    "start_time": "2022-01-25T12:35:33.708Z"
   },
   {
    "duration": 10,
    "start_time": "2022-01-25T12:35:33.808Z"
   },
   {
    "duration": 16,
    "start_time": "2022-01-25T12:35:33.822Z"
   },
   {
    "duration": 40,
    "start_time": "2022-01-25T12:35:33.843Z"
   },
   {
    "duration": 20,
    "start_time": "2022-01-25T12:35:33.886Z"
   },
   {
    "duration": 19,
    "start_time": "2022-01-25T12:35:33.908Z"
   },
   {
    "duration": 98,
    "start_time": "2022-01-25T12:35:33.929Z"
   },
   {
    "duration": 7,
    "start_time": "2022-01-25T12:35:34.029Z"
   },
   {
    "duration": 27,
    "start_time": "2022-01-25T12:35:34.039Z"
   },
   {
    "duration": 9,
    "start_time": "2022-01-25T12:35:34.069Z"
   },
   {
    "duration": 53,
    "start_time": "2022-01-25T12:35:34.080Z"
   },
   {
    "duration": 56,
    "start_time": "2022-01-25T12:35:34.136Z"
   },
   {
    "duration": 27,
    "start_time": "2022-01-25T12:35:34.196Z"
   },
   {
    "duration": 40,
    "start_time": "2022-01-25T12:35:34.226Z"
   },
   {
    "duration": 30,
    "start_time": "2022-01-25T12:35:34.269Z"
   },
   {
    "duration": 80,
    "start_time": "2022-01-25T12:35:34.302Z"
   },
   {
    "duration": 7,
    "start_time": "2022-01-25T12:35:34.385Z"
   },
   {
    "duration": 22,
    "start_time": "2022-01-25T12:35:34.398Z"
   },
   {
    "duration": 49,
    "start_time": "2022-01-25T12:35:34.423Z"
   },
   {
    "duration": 8,
    "start_time": "2022-01-25T12:35:34.474Z"
   },
   {
    "duration": 410,
    "start_time": "2022-01-25T12:35:34.484Z"
   },
   {
    "duration": 7,
    "start_time": "2022-01-25T12:35:34.897Z"
   },
   {
    "duration": 10,
    "start_time": "2022-01-25T12:35:34.907Z"
   },
   {
    "duration": 59,
    "start_time": "2022-01-25T12:35:34.919Z"
   },
   {
    "duration": 26,
    "start_time": "2022-01-25T12:35:34.981Z"
   },
   {
    "duration": 529,
    "start_time": "2022-01-25T12:35:35.010Z"
   },
   {
    "duration": 464,
    "start_time": "2022-01-25T12:35:35.542Z"
   },
   {
    "duration": 390,
    "start_time": "2022-01-25T12:35:36.009Z"
   },
   {
    "duration": 409,
    "start_time": "2022-01-25T12:35:36.401Z"
   },
   {
    "duration": 395,
    "start_time": "2022-01-25T12:35:36.813Z"
   },
   {
    "duration": 395,
    "start_time": "2022-01-25T12:35:37.210Z"
   },
   {
    "duration": 28,
    "start_time": "2022-01-25T12:35:37.608Z"
   },
   {
    "duration": 49,
    "start_time": "2022-01-25T12:35:37.639Z"
   },
   {
    "duration": 4,
    "start_time": "2022-01-25T12:35:37.690Z"
   },
   {
    "duration": 13,
    "start_time": "2022-01-25T12:35:37.696Z"
   },
   {
    "duration": 7,
    "start_time": "2022-01-25T12:35:37.712Z"
   },
   {
    "duration": 9,
    "start_time": "2022-01-25T12:35:37.722Z"
   },
   {
    "duration": 6,
    "start_time": "2022-01-25T12:35:37.766Z"
   },
   {
    "duration": 17,
    "start_time": "2022-01-25T12:35:37.775Z"
   },
   {
    "duration": 10,
    "start_time": "2022-01-25T12:35:37.794Z"
   },
   {
    "duration": 62,
    "start_time": "2022-01-25T12:35:37.806Z"
   },
   {
    "duration": 30,
    "start_time": "2022-01-25T12:35:37.871Z"
   },
   {
    "duration": 3,
    "start_time": "2022-01-25T12:35:37.903Z"
   },
   {
    "duration": 10,
    "start_time": "2022-01-25T12:35:37.908Z"
   },
   {
    "duration": 5,
    "start_time": "2022-01-25T12:35:37.920Z"
   },
   {
    "duration": 39,
    "start_time": "2022-01-25T12:35:37.928Z"
   },
   {
    "duration": 9,
    "start_time": "2022-01-25T12:35:37.969Z"
   },
   {
    "duration": 11,
    "start_time": "2022-01-25T12:35:37.981Z"
   },
   {
    "duration": 10,
    "start_time": "2022-01-25T12:35:37.994Z"
   }
  ],
  "kernelspec": {
   "display_name": "Python 3",
   "language": "python",
   "name": "python3"
  },
  "language_info": {
   "codemirror_mode": {
    "name": "ipython",
    "version": 3
   },
   "file_extension": ".py",
   "mimetype": "text/x-python",
   "name": "python",
   "nbconvert_exporter": "python",
   "pygments_lexer": "ipython3",
   "version": "3.7.8"
  },
  "toc": {
   "base_numbering": 1,
   "nav_menu": {
    "height": "638px",
    "width": "291px"
   },
   "number_sections": false,
   "sideBar": true,
   "skip_h1_title": false,
   "title_cell": "Table of Contents",
   "title_sidebar": "Contents",
   "toc_cell": false,
   "toc_position": {
    "height": "calc(100% - 180px)",
    "left": "10px",
    "top": "150px",
    "width": "366.391px"
   },
   "toc_section_display": true,
   "toc_window_display": true
  }
 },
 "nbformat": 4,
 "nbformat_minor": 2
}
