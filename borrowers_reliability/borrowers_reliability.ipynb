{
 "cells": [
  {
   "cell_type": "markdown",
   "metadata": {},
   "source": [
    "# Исследование надёжности заёмщиков\n",
    "\n",
    "Заказчик — кредитный отдел банка. Нужно разобраться, влияет ли семейное положение и количество детей клиента на факт погашения кредита в срок. Входные данные от банка — статистика о платёжеспособности клиентов.\n",
    "\n",
    "Результаты исследования будут учтены при построении модели **кредитного скоринга** — специальной системы, которая оценивает способность потенциального заёмщика вернуть кредит банку."
   ]
  },
  {
   "cell_type": "markdown",
   "metadata": {},
   "source": [
    "##  Импорт библиотек"
   ]
  },
  {
   "cell_type": "code",
   "execution_count": 1,
   "metadata": {},
   "outputs": [],
   "source": [
    "import pandas as pd\n",
    "from pymystem3 import Mystem"
   ]
  },
  {
   "cell_type": "markdown",
   "metadata": {},
   "source": [
    "##  Получение данных"
   ]
  },
  {
   "cell_type": "markdown",
   "metadata": {},
   "source": [
    "Откроем файл `data.csv` и сохраним в переменной `data`."
   ]
  },
  {
   "cell_type": "code",
   "execution_count": 2,
   "metadata": {
    "scrolled": true
   },
   "outputs": [],
   "source": [
    "data = pd.read_csv('/datasets/data.csv')"
   ]
  },
  {
   "cell_type": "markdown",
   "metadata": {},
   "source": [
    "Выведем первые 5 строк таблицы с помощью метода `head()`."
   ]
  },
  {
   "cell_type": "code",
   "execution_count": 3,
   "metadata": {
    "scrolled": true
   },
   "outputs": [
    {
     "data": {
      "text/html": [
       "<div>\n",
       "<style scoped>\n",
       "    .dataframe tbody tr th:only-of-type {\n",
       "        vertical-align: middle;\n",
       "    }\n",
       "\n",
       "    .dataframe tbody tr th {\n",
       "        vertical-align: top;\n",
       "    }\n",
       "\n",
       "    .dataframe thead th {\n",
       "        text-align: right;\n",
       "    }\n",
       "</style>\n",
       "<table border=\"1\" class=\"dataframe\">\n",
       "  <thead>\n",
       "    <tr style=\"text-align: right;\">\n",
       "      <th></th>\n",
       "      <th>children</th>\n",
       "      <th>days_employed</th>\n",
       "      <th>dob_years</th>\n",
       "      <th>education</th>\n",
       "      <th>education_id</th>\n",
       "      <th>family_status</th>\n",
       "      <th>family_status_id</th>\n",
       "      <th>gender</th>\n",
       "      <th>income_type</th>\n",
       "      <th>debt</th>\n",
       "      <th>total_income</th>\n",
       "      <th>purpose</th>\n",
       "    </tr>\n",
       "  </thead>\n",
       "  <tbody>\n",
       "    <tr>\n",
       "      <td>0</td>\n",
       "      <td>1</td>\n",
       "      <td>-8437.673028</td>\n",
       "      <td>42</td>\n",
       "      <td>высшее</td>\n",
       "      <td>0</td>\n",
       "      <td>женат / замужем</td>\n",
       "      <td>0</td>\n",
       "      <td>F</td>\n",
       "      <td>сотрудник</td>\n",
       "      <td>0</td>\n",
       "      <td>253875.639453</td>\n",
       "      <td>покупка жилья</td>\n",
       "    </tr>\n",
       "    <tr>\n",
       "      <td>1</td>\n",
       "      <td>1</td>\n",
       "      <td>-4024.803754</td>\n",
       "      <td>36</td>\n",
       "      <td>среднее</td>\n",
       "      <td>1</td>\n",
       "      <td>женат / замужем</td>\n",
       "      <td>0</td>\n",
       "      <td>F</td>\n",
       "      <td>сотрудник</td>\n",
       "      <td>0</td>\n",
       "      <td>112080.014102</td>\n",
       "      <td>приобретение автомобиля</td>\n",
       "    </tr>\n",
       "    <tr>\n",
       "      <td>2</td>\n",
       "      <td>0</td>\n",
       "      <td>-5623.422610</td>\n",
       "      <td>33</td>\n",
       "      <td>Среднее</td>\n",
       "      <td>1</td>\n",
       "      <td>женат / замужем</td>\n",
       "      <td>0</td>\n",
       "      <td>M</td>\n",
       "      <td>сотрудник</td>\n",
       "      <td>0</td>\n",
       "      <td>145885.952297</td>\n",
       "      <td>покупка жилья</td>\n",
       "    </tr>\n",
       "    <tr>\n",
       "      <td>3</td>\n",
       "      <td>3</td>\n",
       "      <td>-4124.747207</td>\n",
       "      <td>32</td>\n",
       "      <td>среднее</td>\n",
       "      <td>1</td>\n",
       "      <td>женат / замужем</td>\n",
       "      <td>0</td>\n",
       "      <td>M</td>\n",
       "      <td>сотрудник</td>\n",
       "      <td>0</td>\n",
       "      <td>267628.550329</td>\n",
       "      <td>дополнительное образование</td>\n",
       "    </tr>\n",
       "    <tr>\n",
       "      <td>4</td>\n",
       "      <td>0</td>\n",
       "      <td>340266.072047</td>\n",
       "      <td>53</td>\n",
       "      <td>среднее</td>\n",
       "      <td>1</td>\n",
       "      <td>гражданский брак</td>\n",
       "      <td>1</td>\n",
       "      <td>F</td>\n",
       "      <td>пенсионер</td>\n",
       "      <td>0</td>\n",
       "      <td>158616.077870</td>\n",
       "      <td>сыграть свадьбу</td>\n",
       "    </tr>\n",
       "  </tbody>\n",
       "</table>\n",
       "</div>"
      ],
      "text/plain": [
       "   children  days_employed  dob_years education  education_id  \\\n",
       "0         1   -8437.673028         42    высшее             0   \n",
       "1         1   -4024.803754         36   среднее             1   \n",
       "2         0   -5623.422610         33   Среднее             1   \n",
       "3         3   -4124.747207         32   среднее             1   \n",
       "4         0  340266.072047         53   среднее             1   \n",
       "\n",
       "      family_status  family_status_id gender income_type  debt   total_income  \\\n",
       "0   женат / замужем                 0      F   сотрудник     0  253875.639453   \n",
       "1   женат / замужем                 0      F   сотрудник     0  112080.014102   \n",
       "2   женат / замужем                 0      M   сотрудник     0  145885.952297   \n",
       "3   женат / замужем                 0      M   сотрудник     0  267628.550329   \n",
       "4  гражданский брак                 1      F   пенсионер     0  158616.077870   \n",
       "\n",
       "                      purpose  \n",
       "0               покупка жилья  \n",
       "1     приобретение автомобиля  \n",
       "2               покупка жилья  \n",
       "3  дополнительное образование  \n",
       "4             сыграть свадьбу  "
      ]
     },
     "execution_count": 3,
     "metadata": {},
     "output_type": "execute_result"
    }
   ],
   "source": [
    "data.head()"
   ]
  },
  {
   "cell_type": "markdown",
   "metadata": {},
   "source": [
    "Общую информацию о данных таблицы `data` получим с помощью метода `info()`."
   ]
  },
  {
   "cell_type": "code",
   "execution_count": 4,
   "metadata": {},
   "outputs": [
    {
     "name": "stdout",
     "output_type": "stream",
     "text": [
      "<class 'pandas.core.frame.DataFrame'>\n",
      "RangeIndex: 21525 entries, 0 to 21524\n",
      "Data columns (total 12 columns):\n",
      "children            21525 non-null int64\n",
      "days_employed       19351 non-null float64\n",
      "dob_years           21525 non-null int64\n",
      "education           21525 non-null object\n",
      "education_id        21525 non-null int64\n",
      "family_status       21525 non-null object\n",
      "family_status_id    21525 non-null int64\n",
      "gender              21525 non-null object\n",
      "income_type         21525 non-null object\n",
      "debt                21525 non-null int64\n",
      "total_income        19351 non-null float64\n",
      "purpose             21525 non-null object\n",
      "dtypes: float64(2), int64(5), object(5)\n",
      "memory usage: 2.0+ MB\n"
     ]
    }
   ],
   "source": [
    "data.info()"
   ]
  },
  {
   "cell_type": "markdown",
   "metadata": {},
   "source": [
    "<p>Исходя из общей информации о файле с данными, в таблице 12 колонок:</p>\n",
    "<ol>\n",
    "    <li>5 колонок с типом данных int64</li>\n",
    "    <li>5 колонок с типом данных object</li>\n",
    "    <li>2 колонки с типом данных float64</li>\n",
    "</ol>\n",
    "<p>В именованиях столбцов нарушений нет. Однако имеются пропуски в столбцах <b>days_employed</b> и <b>total_income</b>.\n",
    "    Согласно документации к данным:\n",
    "</p>\n",
    "<ul>\n",
    "    <li>\n",
    "        <b>days_employed</b> - общий трудовой стаж в днях;\n",
    "    </li>\n",
    "    <li>\n",
    "        <b>total_income</b> - ежемесячный доход;\n",
    "    </li>\n",
    "</ul>"
   ]
  },
  {
   "cell_type": "markdown",
   "metadata": {},
   "source": [
    "**Вывод**"
   ]
  },
  {
   "cell_type": "markdown",
   "metadata": {},
   "source": [
    "<p>В каждой строке таблице - данные о клиенте банка, подающего заявку на кредит. В рамках данного исследования, предварительно, можно сказать, что данных достаточно для проверки гипотез. Однако в данных имеются пропуски, нет общего стиля заполнения колонок, как, например, наличие отрицательных значений или различие регистра строковых значений, возможно наличие дубликатов.</p>\n",
    "<p>Чтобы перейти к решению основных задач исследования, нужно устранить проблемы в данных.</p>"
   ]
  },
  {
   "cell_type": "markdown",
   "metadata": {},
   "source": [
    "## Предобработка данных"
   ]
  },
  {
   "cell_type": "markdown",
   "metadata": {},
   "source": [
    "В этой части мы:\n",
    "1. Найдем и заполним пропущенные значения;\n",
    "2. Приведем типы данных столбцов к целочисленному;\n",
    "3. Проверим наличие дубликатов и удалим их, если таковые имеются;\n",
    "4. Выполним лемматизацию;\n",
    "5. Выполним категоризацию."
   ]
  },
  {
   "cell_type": "markdown",
   "metadata": {},
   "source": [
    "### Обработка пропусков"
   ]
  },
  {
   "cell_type": "markdown",
   "metadata": {},
   "source": [
    "Проверим пропуски в данных. Воспользуемся методом `isna()` для поиска пропусков и методом `sum()` для получения их количества."
   ]
  },
  {
   "cell_type": "code",
   "execution_count": 5,
   "metadata": {
    "scrolled": true
   },
   "outputs": [
    {
     "data": {
      "text/plain": [
       "children               0\n",
       "days_employed       2174\n",
       "dob_years              0\n",
       "education              0\n",
       "education_id           0\n",
       "family_status          0\n",
       "family_status_id       0\n",
       "gender                 0\n",
       "income_type            0\n",
       "debt                   0\n",
       "total_income        2174\n",
       "purpose                0\n",
       "dtype: int64"
      ]
     },
     "execution_count": 5,
     "metadata": {},
     "output_type": "execute_result"
    }
   ],
   "source": [
    "data.isna().sum()"
   ]
  },
  {
   "cell_type": "markdown",
   "metadata": {},
   "source": [
    "Видим, что в колонках `data_employed` и `total_income` 2174 пропуска, что составляет 10%. Величина пропусков довольно большая, поэтому необходимы корректировки в данных.\n",
    "\n",
    "`data_employed` - трудовой стаж, в рамках исследования не рассматривается. Параметр учитывается при рассмотрении заявки на кредитный продукт и влияет на одобрение. В связи с этим от него можно отказаться полностью.\n",
    "`total_income` - ежемесячный доход, оказывает влияние на возврат кредита в срок, именно поэтому пропуски этого параметра необходимо заполнить. В идеале заполнить, уточнив данные у тех, кто предоставляет статистику по клиентам. Так как такой возможности в рамках исследования мы не имеем, то можем лишь предположить природу их появления:\n",
    "1. когда подается заявка, клиент прикладывает документы, подтверждающие доход. Возможно эти пропуски - те клиенты, которые не предоставили подтверждающих документов;\n",
    "2. люди, занимающие руководящие должности и/или получившие образование в престижном вузе чаще, чем другие респонденты, не отвечают на вопрос о своих доходах.\n",
    "\n",
    "Так как пропусков достоточно много, то будем рассматривать вариант того, что данные пропущены не случайно, а ввиду некоторых закономерностей. В связи с этим есть 2 варианта:\n",
    "1. вероятность пропуска может быть определена на основе другой имеющейся в наборе данных информации (пол, возраст, занимаемая должность, образование…), не содержащей пропуски. В таком случае удаление или замена пропусков на значение «Пропуск», не приведет к существенному искажению результатов;\n",
    "2. вероятность пропуска могла бы быть описана на основе других атрибутов, но информация по этим атрибутам в наборе данных отсутствует. Как следствие, вероятность пропуска невозможно выразить на основе информации, содержащейся в наборе данных. В таком случае просто игнорировать или исключить пропуски уже нельзя, так как это приведет к значительному искажению результатов исследования.\n",
    "\n",
    "В связи с тем, что определить вероятность появления пропуска не представляется возможным в рамках данного исследования, то не будем игнорировать или исключать пропуски, чтобы как можно меньше избежать искажения. Для этого мы группируем по типу занятости и найдем среднее для каждого, а этими значениями заполним пропуски в соответствии с типом занятости."
   ]
  },
  {
   "cell_type": "markdown",
   "metadata": {},
   "source": [
    "Заменим старый столбец с пропусками в `total_income` на новый, с медианными значениями вместо пропусков."
   ]
  },
  {
   "cell_type": "code",
   "execution_count": 6,
   "metadata": {},
   "outputs": [],
   "source": [
    "data['total_income'] = data['total_income'].fillna(data.groupby('income_type')['total_income'].transform('median'))"
   ]
  },
  {
   "cell_type": "markdown",
   "metadata": {},
   "source": [
    "<p>Удалим стоблец <b>data_employed</b>:</p>"
   ]
  },
  {
   "cell_type": "code",
   "execution_count": 7,
   "metadata": {},
   "outputs": [],
   "source": [
    "data.dropna(axis=1, inplace=True)"
   ]
  },
  {
   "cell_type": "markdown",
   "metadata": {},
   "source": [
    "<p>Перепроверим на пропуски:</p>"
   ]
  },
  {
   "cell_type": "code",
   "execution_count": 8,
   "metadata": {},
   "outputs": [
    {
     "data": {
      "text/plain": [
       "children            0\n",
       "dob_years           0\n",
       "education           0\n",
       "education_id        0\n",
       "family_status       0\n",
       "family_status_id    0\n",
       "gender              0\n",
       "income_type         0\n",
       "debt                0\n",
       "total_income        0\n",
       "purpose             0\n",
       "dtype: int64"
      ]
     },
     "execution_count": 8,
     "metadata": {},
     "output_type": "execute_result"
    }
   ],
   "source": [
    "data.isna().sum()"
   ]
  },
  {
   "cell_type": "markdown",
   "metadata": {},
   "source": [
    "**Вывод**\n",
    "<p>Таким образом, в данных были найдены пропуски в <b>data_employed</b> и <b>total_income</b>.</p>\n",
    "\n",
    "<p>Пропуски в <b>total_income</b> были заменены на средние значения из доходов, соответствующих типу занятости.</p>\n",
    "\n",
    "<p><b>data_employed</b> не используется для расчетов в рамках исследования, поэтому эта колонка с пропусками была удалена.</p>"
   ]
  },
  {
   "cell_type": "markdown",
   "metadata": {},
   "source": [
    "### Замена типа данных"
   ]
  },
  {
   "cell_type": "markdown",
   "metadata": {},
   "source": [
    "В этом блоке нас интересует приведение вещественного типа данных к целочисленному. Поэтому еще раз подробно рассмотрим их с помощью атрибута `dtypes`."
   ]
  },
  {
   "cell_type": "code",
   "execution_count": 9,
   "metadata": {
    "scrolled": true
   },
   "outputs": [
    {
     "data": {
      "text/plain": [
       "children              int64\n",
       "dob_years             int64\n",
       "education            object\n",
       "education_id          int64\n",
       "family_status        object\n",
       "family_status_id      int64\n",
       "gender               object\n",
       "income_type          object\n",
       "debt                  int64\n",
       "total_income        float64\n",
       "purpose              object\n",
       "dtype: object"
      ]
     },
     "execution_count": 9,
     "metadata": {},
     "output_type": "execute_result"
    }
   ],
   "source": [
    "data.dtypes"
   ]
  },
  {
   "cell_type": "markdown",
   "metadata": {},
   "source": [
    "Видим, что вещественный тип встречается только в столбце <b>total_income</b>.\n",
    "Воспользуемся методом <code>astype()</code>."
   ]
  },
  {
   "cell_type": "code",
   "execution_count": 10,
   "metadata": {
    "scrolled": true
   },
   "outputs": [],
   "source": [
    "data['total_income'] = data['total_income'].astype('int64')"
   ]
  },
  {
   "cell_type": "code",
   "execution_count": 11,
   "metadata": {},
   "outputs": [
    {
     "data": {
      "text/plain": [
       "children             int64\n",
       "dob_years            int64\n",
       "education           object\n",
       "education_id         int64\n",
       "family_status       object\n",
       "family_status_id     int64\n",
       "gender              object\n",
       "income_type         object\n",
       "debt                 int64\n",
       "total_income         int64\n",
       "purpose             object\n",
       "dtype: object"
      ]
     },
     "execution_count": 11,
     "metadata": {},
     "output_type": "execute_result"
    }
   ],
   "source": [
    "data.dtypes"
   ]
  },
  {
   "cell_type": "markdown",
   "metadata": {},
   "source": [
    "**Вывод**\n",
    "\n",
    "Значения в столбце `total_income` переведены в целочисленный тип данных. Для изменения пользовались методом <code>astype()</code> потому, что метод <code>to_numeric()</code> приводит к типу **float**, а нам нужно привести к **int**."
   ]
  },
  {
   "cell_type": "markdown",
   "metadata": {},
   "source": [
    "### Обработка дубликатов"
   ]
  },
  {
   "cell_type": "markdown",
   "metadata": {},
   "source": [
    "Методы <code>duplicated()</code> и <code>drop_duplicates()</code> помогают избавить от полных дубликатов. Для этого нужно проверить и подготовить данные во всех столбцах. Пройдем по порядку:"
   ]
  },
  {
   "cell_type": "markdown",
   "metadata": {},
   "source": [
    "1. <b>children</b>"
   ]
  },
  {
   "cell_type": "code",
   "execution_count": 12,
   "metadata": {},
   "outputs": [
    {
     "data": {
      "text/plain": [
       "array([ 1,  0,  3,  2, -1,  4, 20,  5])"
      ]
     },
     "execution_count": 12,
     "metadata": {},
     "output_type": "execute_result"
    }
   ],
   "source": [
    "data['children'].unique()"
   ]
  },
  {
   "cell_type": "markdown",
   "metadata": {},
   "source": [
    "а) Видим, что среди значений есть отрицательное, чего не может быть. Скорее всего вместо -1 имелось ввиду 1;<br>\n",
    "б) Так же видим, что есть значение 20, что, в принципе, возможно, но маловероятно. Поэтому заменим 20 на 2;"
   ]
  },
  {
   "cell_type": "code",
   "execution_count": 13,
   "metadata": {},
   "outputs": [],
   "source": [
    "def correct_children_numbers(number):\n",
    "    if number == 20: # блок if будет отвечать за изменение значения 20 на 2\n",
    "        return int(number / 10)\n",
    "    return max(-number, number) # с помощью max вернем положительное число вместо отрицательного"
   ]
  },
  {
   "cell_type": "code",
   "execution_count": 14,
   "metadata": {},
   "outputs": [],
   "source": [
    "data['children'] = data['children'].apply(correct_children_numbers)"
   ]
  },
  {
   "cell_type": "code",
   "execution_count": 15,
   "metadata": {},
   "outputs": [
    {
     "data": {
      "text/plain": [
       "array([1, 0, 3, 2, 4, 5])"
      ]
     },
     "execution_count": 15,
     "metadata": {},
     "output_type": "execute_result"
    }
   ],
   "source": [
    "# проверка\n",
    "data['children'].unique()"
   ]
  },
  {
   "cell_type": "markdown",
   "metadata": {},
   "source": [
    "2. <b>dob_years</b>"
   ]
  },
  {
   "cell_type": "code",
   "execution_count": 16,
   "metadata": {},
   "outputs": [
    {
     "data": {
      "text/plain": [
       "array([ 0, 19, 20, 21, 22, 23, 24, 25, 26, 27, 28, 29, 30, 31, 32, 33, 34,\n",
       "       35, 36, 37, 38, 39, 40, 41, 42, 43, 44, 45, 46, 47, 48, 49, 50, 51,\n",
       "       52, 53, 54, 55, 56, 57, 58, 59, 60, 61, 62, 63, 64, 65, 66, 67, 68,\n",
       "       69, 70, 71, 72, 73, 74, 75])"
      ]
     },
     "execution_count": 16,
     "metadata": {},
     "output_type": "execute_result"
    }
   ],
   "source": [
    "data['dob_years'].sort_values().unique()"
   ]
  },
  {
   "cell_type": "markdown",
   "metadata": {},
   "source": [
    "Видим, что среди уникальных значений присутствует возраст 0 лет, чего не может быть. Проверим, сколько заемщиков с некорректным возрастом по типу занятости."
   ]
  },
  {
   "cell_type": "code",
   "execution_count": 17,
   "metadata": {},
   "outputs": [
    {
     "data": {
      "text/plain": [
       "сотрудник      55\n",
       "пенсионер      20\n",
       "компаньон      20\n",
       "госслужащий     6\n",
       "Name: income_type, dtype: int64"
      ]
     },
     "execution_count": 17,
     "metadata": {},
     "output_type": "execute_result"
    }
   ],
   "source": [
    "data[data['dob_years'] == 0]['income_type'].value_counts()"
   ]
  },
  {
   "cell_type": "markdown",
   "metadata": {},
   "source": [
    "101 заемщик с возрастом 0 лет - непорядок. Заменим нулевые значения на средние в соответствии с типом занятости."
   ]
  },
  {
   "cell_type": "code",
   "execution_count": 18,
   "metadata": {
    "scrolled": true
   },
   "outputs": [
    {
     "data": {
      "text/plain": [
       "income_type\n",
       "безработный        38.000000\n",
       "в декрете          39.000000\n",
       "госслужащий        40.636737\n",
       "компаньон          39.697542\n",
       "пенсионер          59.063019\n",
       "предприниматель    42.500000\n",
       "сотрудник          39.821027\n",
       "студент            22.000000\n",
       "Name: dob_years, dtype: float64"
      ]
     },
     "execution_count": 18,
     "metadata": {},
     "output_type": "execute_result"
    }
   ],
   "source": [
    "data_grouped_years = data.groupby('income_type')['dob_years'].mean()\n",
    "data_grouped_years"
   ]
  },
  {
   "cell_type": "code",
   "execution_count": 19,
   "metadata": {},
   "outputs": [],
   "source": [
    "for i in data['income_type'].unique():\n",
    "    mean_years = data.loc[data['income_type'] == i, 'dob_years'].mean()\n",
    "    data.loc[(data['dob_years'] == 0), 'dob_years'] = mean_years"
   ]
  },
  {
   "cell_type": "code",
   "execution_count": 20,
   "metadata": {},
   "outputs": [
    {
     "data": {
      "text/plain": [
       "Series([], Name: income_type, dtype: int64)"
      ]
     },
     "execution_count": 20,
     "metadata": {},
     "output_type": "execute_result"
    }
   ],
   "source": [
    "# проверка\n",
    "data[data['dob_years'] == 0]['income_type'].value_counts()"
   ]
  },
  {
   "cell_type": "code",
   "execution_count": 21,
   "metadata": {},
   "outputs": [
    {
     "data": {
      "text/plain": [
       "children              int64\n",
       "dob_years           float64\n",
       "education            object\n",
       "education_id          int64\n",
       "family_status        object\n",
       "family_status_id      int64\n",
       "gender               object\n",
       "income_type          object\n",
       "debt                  int64\n",
       "total_income          int64\n",
       "purpose              object\n",
       "dtype: object"
      ]
     },
     "execution_count": 21,
     "metadata": {},
     "output_type": "execute_result"
    }
   ],
   "source": [
    "data.dtypes"
   ]
  },
  {
   "cell_type": "markdown",
   "metadata": {},
   "source": [
    "Видим, что нулевого возраста в данных больше нет. Однако мы заменяли на среднее значение, что привело изменению типа данных столбца <b>dob_years</b> на вещественный. Приведем к числовому по аналогии с пунктом 2.2"
   ]
  },
  {
   "cell_type": "code",
   "execution_count": 22,
   "metadata": {},
   "outputs": [],
   "source": [
    "data['dob_years'] = data['dob_years'].astype('int64')"
   ]
  },
  {
   "cell_type": "code",
   "execution_count": 23,
   "metadata": {},
   "outputs": [
    {
     "data": {
      "text/plain": [
       "children             int64\n",
       "dob_years            int64\n",
       "education           object\n",
       "education_id         int64\n",
       "family_status       object\n",
       "family_status_id     int64\n",
       "gender              object\n",
       "income_type         object\n",
       "debt                 int64\n",
       "total_income         int64\n",
       "purpose             object\n",
       "dtype: object"
      ]
     },
     "execution_count": 23,
     "metadata": {},
     "output_type": "execute_result"
    }
   ],
   "source": [
    "data.dtypes"
   ]
  },
  {
   "cell_type": "markdown",
   "metadata": {},
   "source": [
    "3. <b>education</b>"
   ]
  },
  {
   "cell_type": "code",
   "execution_count": 24,
   "metadata": {},
   "outputs": [
    {
     "data": {
      "text/plain": [
       "array(['высшее', 'среднее', 'Среднее', 'СРЕДНЕЕ', 'ВЫСШЕЕ',\n",
       "       'неоконченное высшее', 'начальное', 'Высшее',\n",
       "       'НЕОКОНЧЕННОЕ ВЫСШЕЕ', 'Неоконченное высшее', 'НАЧАЛЬНОЕ',\n",
       "       'Начальное', 'Ученая степень', 'УЧЕНАЯ СТЕПЕНЬ', 'ученая степень'],\n",
       "      dtype=object)"
      ]
     },
     "execution_count": 24,
     "metadata": {},
     "output_type": "execute_result"
    }
   ],
   "source": [
    "data['education'].unique()"
   ]
  },
  {
   "cell_type": "markdown",
   "metadata": {},
   "source": [
    "Видим, что при заполнении информации об образовании не учитывался регистр. Нужно привести к нижнему."
   ]
  },
  {
   "cell_type": "code",
   "execution_count": 25,
   "metadata": {},
   "outputs": [],
   "source": [
    "data['education'] = data['education'].str.lower()"
   ]
  },
  {
   "cell_type": "code",
   "execution_count": 26,
   "metadata": {
    "scrolled": true
   },
   "outputs": [
    {
     "data": {
      "text/plain": [
       "array(['высшее', 'среднее', 'неоконченное высшее', 'начальное',\n",
       "       'ученая степень'], dtype=object)"
      ]
     },
     "execution_count": 26,
     "metadata": {},
     "output_type": "execute_result"
    }
   ],
   "source": [
    "# проверка\n",
    "data['education'].unique()"
   ]
  },
  {
   "cell_type": "markdown",
   "metadata": {},
   "source": [
    "4. <b>education_id</b>"
   ]
  },
  {
   "cell_type": "code",
   "execution_count": 27,
   "metadata": {},
   "outputs": [
    {
     "data": {
      "text/plain": [
       "array([0, 1, 2, 3, 4])"
      ]
     },
     "execution_count": 27,
     "metadata": {},
     "output_type": "execute_result"
    }
   ],
   "source": [
    "data['education_id'].unique()"
   ]
  },
  {
   "cell_type": "markdown",
   "metadata": {},
   "source": [
    "После внесения правок в <b>education</b> количество уникальных значений совпадает с <b>education_id</b>. Тут все в порядке. "
   ]
  },
  {
   "cell_type": "markdown",
   "metadata": {},
   "source": [
    "5. <b>family_status</b> и 6. <b>family_status_id</b>"
   ]
  },
  {
   "cell_type": "code",
   "execution_count": 28,
   "metadata": {},
   "outputs": [
    {
     "data": {
      "text/plain": [
       "array(['женат / замужем', 'гражданский брак', 'вдовец / вдова',\n",
       "       'в разводе', 'Не женат / не замужем'], dtype=object)"
      ]
     },
     "execution_count": 28,
     "metadata": {},
     "output_type": "execute_result"
    }
   ],
   "source": [
    "data['family_status'].unique()"
   ]
  },
  {
   "cell_type": "markdown",
   "metadata": {},
   "source": [
    "Сверим с <b>family_status_id</b>"
   ]
  },
  {
   "cell_type": "code",
   "execution_count": 29,
   "metadata": {},
   "outputs": [
    {
     "data": {
      "text/plain": [
       "array([0, 1, 2, 3, 4])"
      ]
     },
     "execution_count": 29,
     "metadata": {},
     "output_type": "execute_result"
    }
   ],
   "source": [
    "data['family_status_id'].unique()"
   ]
  },
  {
   "cell_type": "markdown",
   "metadata": {},
   "source": [
    "Совпадают. Все в порядке, двигаемся дальше."
   ]
  },
  {
   "cell_type": "markdown",
   "metadata": {},
   "source": [
    "7. <b>gender</b>"
   ]
  },
  {
   "cell_type": "code",
   "execution_count": 30,
   "metadata": {},
   "outputs": [
    {
     "data": {
      "text/plain": [
       "array(['F', 'M', 'XNA'], dtype=object)"
      ]
     },
     "execution_count": 30,
     "metadata": {},
     "output_type": "execute_result"
    }
   ],
   "source": [
    "data['gender'].unique()"
   ]
  },
  {
   "cell_type": "code",
   "execution_count": 31,
   "metadata": {},
   "outputs": [
    {
     "data": {
      "text/html": [
       "<div>\n",
       "<style scoped>\n",
       "    .dataframe tbody tr th:only-of-type {\n",
       "        vertical-align: middle;\n",
       "    }\n",
       "\n",
       "    .dataframe tbody tr th {\n",
       "        vertical-align: top;\n",
       "    }\n",
       "\n",
       "    .dataframe thead th {\n",
       "        text-align: right;\n",
       "    }\n",
       "</style>\n",
       "<table border=\"1\" class=\"dataframe\">\n",
       "  <thead>\n",
       "    <tr style=\"text-align: right;\">\n",
       "      <th></th>\n",
       "      <th>children</th>\n",
       "      <th>dob_years</th>\n",
       "      <th>education</th>\n",
       "      <th>education_id</th>\n",
       "      <th>family_status</th>\n",
       "      <th>family_status_id</th>\n",
       "      <th>gender</th>\n",
       "      <th>income_type</th>\n",
       "      <th>debt</th>\n",
       "      <th>total_income</th>\n",
       "      <th>purpose</th>\n",
       "    </tr>\n",
       "  </thead>\n",
       "  <tbody>\n",
       "    <tr>\n",
       "      <td>10701</td>\n",
       "      <td>0</td>\n",
       "      <td>24</td>\n",
       "      <td>неоконченное высшее</td>\n",
       "      <td>2</td>\n",
       "      <td>гражданский брак</td>\n",
       "      <td>1</td>\n",
       "      <td>XNA</td>\n",
       "      <td>компаньон</td>\n",
       "      <td>0</td>\n",
       "      <td>203905</td>\n",
       "      <td>покупка недвижимости</td>\n",
       "    </tr>\n",
       "  </tbody>\n",
       "</table>\n",
       "</div>"
      ],
      "text/plain": [
       "       children  dob_years            education  education_id  \\\n",
       "10701         0         24  неоконченное высшее             2   \n",
       "\n",
       "          family_status  family_status_id gender income_type  debt  \\\n",
       "10701  гражданский брак                 1    XNA   компаньон     0   \n",
       "\n",
       "       total_income               purpose  \n",
       "10701        203905  покупка недвижимости  "
      ]
     },
     "execution_count": 31,
     "metadata": {},
     "output_type": "execute_result"
    }
   ],
   "source": [
    "data[data['gender'] == 'XNA']"
   ]
  },
  {
   "cell_type": "markdown",
   "metadata": {},
   "source": [
    "Заемщик с гендером XNA - единственный в данных. Пусть это будет еще один тип гендера, отличный от основных. Исследованию не помешает."
   ]
  },
  {
   "cell_type": "markdown",
   "metadata": {},
   "source": [
    "8. <b>debt</b>"
   ]
  },
  {
   "cell_type": "code",
   "execution_count": 32,
   "metadata": {},
   "outputs": [
    {
     "data": {
      "text/plain": [
       "array([0, 1])"
      ]
     },
     "execution_count": 32,
     "metadata": {},
     "output_type": "execute_result"
    }
   ],
   "source": [
    "data['debt'].unique()"
   ]
  },
  {
   "cell_type": "markdown",
   "metadata": {},
   "source": [
    "Тут все ок. Если задолженность есть, то 1. Если же её нет, то 0."
   ]
  },
  {
   "cell_type": "markdown",
   "metadata": {},
   "source": [
    "9. <b>total_income</b><br>\n",
    "Уникальных значений дохода будет очень много. Воспользуемся методом <code>value_counts()</code>"
   ]
  },
  {
   "cell_type": "code",
   "execution_count": 33,
   "metadata": {},
   "outputs": [
    {
     "data": {
      "text/plain": [
       "142594    1105\n",
       "172357     509\n",
       "118514     414\n",
       "150447     147\n",
       "126262       3\n",
       "          ... \n",
       "101387       1\n",
       "138249       1\n",
       "280240       1\n",
       "390148       1\n",
       "264193       1\n",
       "Name: total_income, Length: 18608, dtype: int64"
      ]
     },
     "execution_count": 33,
     "metadata": {},
     "output_type": "execute_result"
    }
   ],
   "source": [
    "data['total_income'].value_counts()"
   ]
  },
  {
   "cell_type": "markdown",
   "metadata": {},
   "source": [
    "10. <b>purpose</b>"
   ]
  },
  {
   "cell_type": "code",
   "execution_count": 34,
   "metadata": {},
   "outputs": [
    {
     "data": {
      "text/plain": [
       "array(['покупка жилья', 'приобретение автомобиля',\n",
       "       'дополнительное образование', 'сыграть свадьбу',\n",
       "       'операции с жильем', 'образование', 'на проведение свадьбы',\n",
       "       'покупка жилья для семьи', 'покупка недвижимости',\n",
       "       'покупка коммерческой недвижимости', 'покупка жилой недвижимости',\n",
       "       'строительство собственной недвижимости', 'недвижимость',\n",
       "       'строительство недвижимости', 'на покупку подержанного автомобиля',\n",
       "       'на покупку своего автомобиля',\n",
       "       'операции с коммерческой недвижимостью',\n",
       "       'строительство жилой недвижимости', 'жилье',\n",
       "       'операции со своей недвижимостью', 'автомобили',\n",
       "       'заняться образованием', 'сделка с подержанным автомобилем',\n",
       "       'получение образования', 'автомобиль', 'свадьба',\n",
       "       'получение дополнительного образования', 'покупка своего жилья',\n",
       "       'операции с недвижимостью', 'получение высшего образования',\n",
       "       'свой автомобиль', 'сделка с автомобилем',\n",
       "       'профильное образование', 'высшее образование',\n",
       "       'покупка жилья для сдачи', 'на покупку автомобиля', 'ремонт жилью',\n",
       "       'заняться высшим образованием'], dtype=object)"
      ]
     },
     "execution_count": 34,
     "metadata": {},
     "output_type": "execute_result"
    }
   ],
   "source": [
    "words_purpose = data['purpose'].unique()\n",
    "words_purpose"
   ]
  },
  {
   "cell_type": "markdown",
   "metadata": {},
   "source": [
    "Видим, что одни и те же по смыслу цели записаны по-разному. Нужно одинаковые привести к одному. Нужна лемматизация. Для этого необходимо подключить библиотеку <b>pymystem3</b>. Займемся лемматизацией в следующем блоке."
   ]
  },
  {
   "cell_type": "markdown",
   "metadata": {},
   "source": [
    "Теперь, когда все столбцы данных просмотрены, можно искать дубликаты. "
   ]
  },
  {
   "cell_type": "code",
   "execution_count": 35,
   "metadata": {},
   "outputs": [
    {
     "data": {
      "text/plain": [
       "71"
      ]
     },
     "execution_count": 35,
     "metadata": {},
     "output_type": "execute_result"
    }
   ],
   "source": [
    "data.duplicated().sum()"
   ]
  },
  {
   "cell_type": "markdown",
   "metadata": {},
   "source": [
    "Видим, что в данных имеются дубликаты, общая сумма которых равна 71. Удалим дубликаты с помощью метода <code>drop_duplicates()</code>."
   ]
  },
  {
   "cell_type": "code",
   "execution_count": 36,
   "metadata": {},
   "outputs": [],
   "source": [
    "# добавим к результату метод reset_index() со значением drop = True, чтобы не создавать столбец со старыми значениями индексов.\n",
    "data = data.drop_duplicates().reset_index(drop = True)"
   ]
  },
  {
   "cell_type": "code",
   "execution_count": 37,
   "metadata": {},
   "outputs": [
    {
     "data": {
      "text/plain": [
       "0"
      ]
     },
     "execution_count": 37,
     "metadata": {},
     "output_type": "execute_result"
    }
   ],
   "source": [
    "# проверка\n",
    "data.duplicated().sum()"
   ]
  },
  {
   "cell_type": "markdown",
   "metadata": {},
   "source": [
    "**Вывод**\n",
    "\n",
    "Мы внесли корректировки в данных, поправили строковые и числовые значения и по итогу нашли дубликаты в количестве 71, от которых благополучно избавились. Эта часть данных подготовлена. Можем переходить к лемматизации."
   ]
  },
  {
   "cell_type": "markdown",
   "metadata": {},
   "source": [
    "### Лемматизация"
   ]
  },
  {
   "cell_type": "markdown",
   "metadata": {},
   "source": [
    "Получим лемматизатор для слов на русском языке из библиотеки `pymystem3`."
   ]
  },
  {
   "cell_type": "code",
   "execution_count": 38,
   "metadata": {},
   "outputs": [],
   "source": [
    "m = Mystem()"
   ]
  },
  {
   "cell_type": "markdown",
   "metadata": {},
   "source": [
    "Определим базовые леммы в строке, полученной из списка уникальных значений столбца <b>purpose</b>"
   ]
  },
  {
   "cell_type": "code",
   "execution_count": 39,
   "metadata": {},
   "outputs": [
    {
     "data": {
      "text/plain": [
       "['покупка',\n",
       " ' ',\n",
       " 'жилье',\n",
       " ' ',\n",
       " 'приобретение',\n",
       " ' ',\n",
       " 'автомобиль',\n",
       " ' ',\n",
       " 'дополнительный',\n",
       " ' ',\n",
       " 'образование',\n",
       " ' ',\n",
       " 'сыграть',\n",
       " ' ',\n",
       " 'свадьба',\n",
       " ' ',\n",
       " 'операция',\n",
       " ' ',\n",
       " 'с',\n",
       " ' ',\n",
       " 'жилье',\n",
       " ' ',\n",
       " 'образование',\n",
       " ' ',\n",
       " 'на',\n",
       " ' ',\n",
       " 'проведение',\n",
       " ' ',\n",
       " 'свадьба',\n",
       " ' ',\n",
       " 'покупка',\n",
       " ' ',\n",
       " 'жилье',\n",
       " ' ',\n",
       " 'для',\n",
       " ' ',\n",
       " 'семья',\n",
       " ' ',\n",
       " 'покупка',\n",
       " ' ',\n",
       " 'недвижимость',\n",
       " ' ',\n",
       " 'покупка',\n",
       " ' ',\n",
       " 'коммерческий',\n",
       " ' ',\n",
       " 'недвижимость',\n",
       " ' ',\n",
       " 'покупка',\n",
       " ' ',\n",
       " 'жилой',\n",
       " ' ',\n",
       " 'недвижимость',\n",
       " ' ',\n",
       " 'строительство',\n",
       " ' ',\n",
       " 'собственный',\n",
       " ' ',\n",
       " 'недвижимость',\n",
       " ' ',\n",
       " 'недвижимость',\n",
       " ' ',\n",
       " 'строительство',\n",
       " ' ',\n",
       " 'недвижимость',\n",
       " ' ',\n",
       " 'на',\n",
       " ' ',\n",
       " 'покупка',\n",
       " ' ',\n",
       " 'подержать',\n",
       " ' ',\n",
       " 'автомобиль',\n",
       " ' ',\n",
       " 'на',\n",
       " ' ',\n",
       " 'покупка',\n",
       " ' ',\n",
       " 'свой',\n",
       " ' ',\n",
       " 'автомобиль',\n",
       " ' ',\n",
       " 'операция',\n",
       " ' ',\n",
       " 'с',\n",
       " ' ',\n",
       " 'коммерческий',\n",
       " ' ',\n",
       " 'недвижимость',\n",
       " ' ',\n",
       " 'строительство',\n",
       " ' ',\n",
       " 'жилой',\n",
       " ' ',\n",
       " 'недвижимость',\n",
       " ' ',\n",
       " 'жилье',\n",
       " ' ',\n",
       " 'операция',\n",
       " ' ',\n",
       " 'со',\n",
       " ' ',\n",
       " 'свой',\n",
       " ' ',\n",
       " 'недвижимость',\n",
       " ' ',\n",
       " 'автомобиль',\n",
       " ' ',\n",
       " 'заниматься',\n",
       " ' ',\n",
       " 'образование',\n",
       " ' ',\n",
       " 'сделка',\n",
       " ' ',\n",
       " 'с',\n",
       " ' ',\n",
       " 'подержать',\n",
       " ' ',\n",
       " 'автомобиль',\n",
       " ' ',\n",
       " 'получение',\n",
       " ' ',\n",
       " 'образование',\n",
       " ' ',\n",
       " 'автомобиль',\n",
       " ' ',\n",
       " 'свадьба',\n",
       " ' ',\n",
       " 'получение',\n",
       " ' ',\n",
       " 'дополнительный',\n",
       " ' ',\n",
       " 'образование',\n",
       " ' ',\n",
       " 'покупка',\n",
       " ' ',\n",
       " 'свой',\n",
       " ' ',\n",
       " 'жилье',\n",
       " ' ',\n",
       " 'операция',\n",
       " ' ',\n",
       " 'с',\n",
       " ' ',\n",
       " 'недвижимость',\n",
       " ' ',\n",
       " 'получение',\n",
       " ' ',\n",
       " 'высокий',\n",
       " ' ',\n",
       " 'образование',\n",
       " ' ',\n",
       " 'свой',\n",
       " ' ',\n",
       " 'автомобиль',\n",
       " ' ',\n",
       " 'сделка',\n",
       " ' ',\n",
       " 'с',\n",
       " ' ',\n",
       " 'автомобиль',\n",
       " ' ',\n",
       " 'профильный',\n",
       " ' ',\n",
       " 'образование',\n",
       " ' ',\n",
       " 'высокий',\n",
       " ' ',\n",
       " 'образование',\n",
       " ' ',\n",
       " 'покупка',\n",
       " ' ',\n",
       " 'жилье',\n",
       " ' ',\n",
       " 'для',\n",
       " ' ',\n",
       " 'сдача',\n",
       " ' ',\n",
       " 'на',\n",
       " ' ',\n",
       " 'покупка',\n",
       " ' ',\n",
       " 'автомобиль',\n",
       " ' ',\n",
       " 'ремонт',\n",
       " ' ',\n",
       " 'жилье',\n",
       " ' ',\n",
       " 'заниматься',\n",
       " ' ',\n",
       " 'высокий',\n",
       " ' ',\n",
       " 'образование',\n",
       " '\\n']"
      ]
     },
     "execution_count": 39,
     "metadata": {},
     "output_type": "execute_result"
    }
   ],
   "source": [
    "lemmas = m.lemmatize(' '.join(words_purpose))\n",
    "lemmas"
   ]
  },
  {
   "cell_type": "markdown",
   "metadata": {},
   "source": [
    "Среди лемм видим, что самые общие это:\n",
    "<ol>\n",
    "    <li>автомобиль</li>\n",
    "    <li>образование</li>\n",
    "    <li>недвижимость (куда можно отнести и \"жилье\")</li>\n",
    "    <li>свадьба</li>\n",
    "</ol>"
   ]
  },
  {
   "cell_type": "code",
   "execution_count": 40,
   "metadata": {},
   "outputs": [],
   "source": [
    "# создание списка общих лемм\n",
    "main_purpose_list = ['автомобиль', 'образование', 'недвижимость', 'свадьба']"
   ]
  },
  {
   "cell_type": "markdown",
   "metadata": {},
   "source": [
    "Напишем функцию, которая проверит вхождение информации в список общих лемм. В случае вхождения вернет общую."
   ]
  },
  {
   "cell_type": "code",
   "execution_count": 41,
   "metadata": {},
   "outputs": [],
   "source": [
    "def change_purpose(purpose):\n",
    "    # проходим по списку общих лемм\n",
    "    for purp in main_purpose_list:\n",
    "        # проверка есть ли общая лемма в строке из лемм, полученных с помощью лемматизатора из значения purpose.\n",
    "        # в этой же строке сразу меняем \"жилье\" на \"недвижимость\"\n",
    "        if purp in ' '.join(m.lemmatize(purpose)).replace('жилье', 'недвижимость'):\n",
    "            # если да, то вернем эту общую лемму\n",
    "            return purp"
   ]
  },
  {
   "cell_type": "markdown",
   "metadata": {},
   "source": [
    "Воспользуемся функцией `change_purpose()` и произведем замену."
   ]
  },
  {
   "cell_type": "code",
   "execution_count": 42,
   "metadata": {},
   "outputs": [],
   "source": [
    "data['main_purpose'] = data['purpose'].apply(change_purpose)"
   ]
  },
  {
   "cell_type": "code",
   "execution_count": 43,
   "metadata": {},
   "outputs": [
    {
     "data": {
      "text/plain": [
       "array(['недвижимость', 'автомобиль', 'образование', 'свадьба'],\n",
       "      dtype=object)"
      ]
     },
     "execution_count": 43,
     "metadata": {},
     "output_type": "execute_result"
    }
   ],
   "source": [
    "# проверка\n",
    "data['main_purpose'].unique()"
   ]
  },
  {
   "cell_type": "markdown",
   "metadata": {},
   "source": [
    "**Вывод**\n",
    "\n",
    "Таким образом, разные вариации написания одной и той же цели мы привели к общей. Теперь у нас всего 4 категории цели для получения кредита."
   ]
  },
  {
   "cell_type": "markdown",
   "metadata": {},
   "source": [
    "### Категоризация данных"
   ]
  },
  {
   "cell_type": "markdown",
   "metadata": {},
   "source": [
    "Еще раз посмотрим на данные. Выведем первые 10 строк."
   ]
  },
  {
   "cell_type": "code",
   "execution_count": 44,
   "metadata": {},
   "outputs": [
    {
     "data": {
      "text/html": [
       "<div>\n",
       "<style scoped>\n",
       "    .dataframe tbody tr th:only-of-type {\n",
       "        vertical-align: middle;\n",
       "    }\n",
       "\n",
       "    .dataframe tbody tr th {\n",
       "        vertical-align: top;\n",
       "    }\n",
       "\n",
       "    .dataframe thead th {\n",
       "        text-align: right;\n",
       "    }\n",
       "</style>\n",
       "<table border=\"1\" class=\"dataframe\">\n",
       "  <thead>\n",
       "    <tr style=\"text-align: right;\">\n",
       "      <th></th>\n",
       "      <th>children</th>\n",
       "      <th>dob_years</th>\n",
       "      <th>education</th>\n",
       "      <th>education_id</th>\n",
       "      <th>family_status</th>\n",
       "      <th>family_status_id</th>\n",
       "      <th>gender</th>\n",
       "      <th>income_type</th>\n",
       "      <th>debt</th>\n",
       "      <th>total_income</th>\n",
       "      <th>purpose</th>\n",
       "      <th>main_purpose</th>\n",
       "    </tr>\n",
       "  </thead>\n",
       "  <tbody>\n",
       "    <tr>\n",
       "      <td>0</td>\n",
       "      <td>1</td>\n",
       "      <td>42</td>\n",
       "      <td>высшее</td>\n",
       "      <td>0</td>\n",
       "      <td>женат / замужем</td>\n",
       "      <td>0</td>\n",
       "      <td>F</td>\n",
       "      <td>сотрудник</td>\n",
       "      <td>0</td>\n",
       "      <td>253875</td>\n",
       "      <td>покупка жилья</td>\n",
       "      <td>недвижимость</td>\n",
       "    </tr>\n",
       "    <tr>\n",
       "      <td>1</td>\n",
       "      <td>1</td>\n",
       "      <td>36</td>\n",
       "      <td>среднее</td>\n",
       "      <td>1</td>\n",
       "      <td>женат / замужем</td>\n",
       "      <td>0</td>\n",
       "      <td>F</td>\n",
       "      <td>сотрудник</td>\n",
       "      <td>0</td>\n",
       "      <td>112080</td>\n",
       "      <td>приобретение автомобиля</td>\n",
       "      <td>автомобиль</td>\n",
       "    </tr>\n",
       "    <tr>\n",
       "      <td>2</td>\n",
       "      <td>0</td>\n",
       "      <td>33</td>\n",
       "      <td>среднее</td>\n",
       "      <td>1</td>\n",
       "      <td>женат / замужем</td>\n",
       "      <td>0</td>\n",
       "      <td>M</td>\n",
       "      <td>сотрудник</td>\n",
       "      <td>0</td>\n",
       "      <td>145885</td>\n",
       "      <td>покупка жилья</td>\n",
       "      <td>недвижимость</td>\n",
       "    </tr>\n",
       "    <tr>\n",
       "      <td>3</td>\n",
       "      <td>3</td>\n",
       "      <td>32</td>\n",
       "      <td>среднее</td>\n",
       "      <td>1</td>\n",
       "      <td>женат / замужем</td>\n",
       "      <td>0</td>\n",
       "      <td>M</td>\n",
       "      <td>сотрудник</td>\n",
       "      <td>0</td>\n",
       "      <td>267628</td>\n",
       "      <td>дополнительное образование</td>\n",
       "      <td>образование</td>\n",
       "    </tr>\n",
       "    <tr>\n",
       "      <td>4</td>\n",
       "      <td>0</td>\n",
       "      <td>53</td>\n",
       "      <td>среднее</td>\n",
       "      <td>1</td>\n",
       "      <td>гражданский брак</td>\n",
       "      <td>1</td>\n",
       "      <td>F</td>\n",
       "      <td>пенсионер</td>\n",
       "      <td>0</td>\n",
       "      <td>158616</td>\n",
       "      <td>сыграть свадьбу</td>\n",
       "      <td>свадьба</td>\n",
       "    </tr>\n",
       "    <tr>\n",
       "      <td>5</td>\n",
       "      <td>0</td>\n",
       "      <td>27</td>\n",
       "      <td>высшее</td>\n",
       "      <td>0</td>\n",
       "      <td>гражданский брак</td>\n",
       "      <td>1</td>\n",
       "      <td>M</td>\n",
       "      <td>компаньон</td>\n",
       "      <td>0</td>\n",
       "      <td>255763</td>\n",
       "      <td>покупка жилья</td>\n",
       "      <td>недвижимость</td>\n",
       "    </tr>\n",
       "    <tr>\n",
       "      <td>6</td>\n",
       "      <td>0</td>\n",
       "      <td>43</td>\n",
       "      <td>высшее</td>\n",
       "      <td>0</td>\n",
       "      <td>женат / замужем</td>\n",
       "      <td>0</td>\n",
       "      <td>F</td>\n",
       "      <td>компаньон</td>\n",
       "      <td>0</td>\n",
       "      <td>240525</td>\n",
       "      <td>операции с жильем</td>\n",
       "      <td>недвижимость</td>\n",
       "    </tr>\n",
       "    <tr>\n",
       "      <td>7</td>\n",
       "      <td>0</td>\n",
       "      <td>50</td>\n",
       "      <td>среднее</td>\n",
       "      <td>1</td>\n",
       "      <td>женат / замужем</td>\n",
       "      <td>0</td>\n",
       "      <td>M</td>\n",
       "      <td>сотрудник</td>\n",
       "      <td>0</td>\n",
       "      <td>135823</td>\n",
       "      <td>образование</td>\n",
       "      <td>образование</td>\n",
       "    </tr>\n",
       "    <tr>\n",
       "      <td>8</td>\n",
       "      <td>2</td>\n",
       "      <td>35</td>\n",
       "      <td>высшее</td>\n",
       "      <td>0</td>\n",
       "      <td>гражданский брак</td>\n",
       "      <td>1</td>\n",
       "      <td>F</td>\n",
       "      <td>сотрудник</td>\n",
       "      <td>0</td>\n",
       "      <td>95856</td>\n",
       "      <td>на проведение свадьбы</td>\n",
       "      <td>свадьба</td>\n",
       "    </tr>\n",
       "    <tr>\n",
       "      <td>9</td>\n",
       "      <td>0</td>\n",
       "      <td>41</td>\n",
       "      <td>среднее</td>\n",
       "      <td>1</td>\n",
       "      <td>женат / замужем</td>\n",
       "      <td>0</td>\n",
       "      <td>M</td>\n",
       "      <td>сотрудник</td>\n",
       "      <td>0</td>\n",
       "      <td>144425</td>\n",
       "      <td>покупка жилья для семьи</td>\n",
       "      <td>недвижимость</td>\n",
       "    </tr>\n",
       "  </tbody>\n",
       "</table>\n",
       "</div>"
      ],
      "text/plain": [
       "   children  dob_years education  education_id     family_status  \\\n",
       "0         1         42    высшее             0   женат / замужем   \n",
       "1         1         36   среднее             1   женат / замужем   \n",
       "2         0         33   среднее             1   женат / замужем   \n",
       "3         3         32   среднее             1   женат / замужем   \n",
       "4         0         53   среднее             1  гражданский брак   \n",
       "5         0         27    высшее             0  гражданский брак   \n",
       "6         0         43    высшее             0   женат / замужем   \n",
       "7         0         50   среднее             1   женат / замужем   \n",
       "8         2         35    высшее             0  гражданский брак   \n",
       "9         0         41   среднее             1   женат / замужем   \n",
       "\n",
       "   family_status_id gender income_type  debt  total_income  \\\n",
       "0                 0      F   сотрудник     0        253875   \n",
       "1                 0      F   сотрудник     0        112080   \n",
       "2                 0      M   сотрудник     0        145885   \n",
       "3                 0      M   сотрудник     0        267628   \n",
       "4                 1      F   пенсионер     0        158616   \n",
       "5                 1      M   компаньон     0        255763   \n",
       "6                 0      F   компаньон     0        240525   \n",
       "7                 0      M   сотрудник     0        135823   \n",
       "8                 1      F   сотрудник     0         95856   \n",
       "9                 0      M   сотрудник     0        144425   \n",
       "\n",
       "                      purpose  main_purpose  \n",
       "0               покупка жилья  недвижимость  \n",
       "1     приобретение автомобиля    автомобиль  \n",
       "2               покупка жилья  недвижимость  \n",
       "3  дополнительное образование   образование  \n",
       "4             сыграть свадьбу       свадьба  \n",
       "5               покупка жилья  недвижимость  \n",
       "6           операции с жильем  недвижимость  \n",
       "7                 образование   образование  \n",
       "8       на проведение свадьбы       свадьба  \n",
       "9     покупка жилья для семьи  недвижимость  "
      ]
     },
     "execution_count": 44,
     "metadata": {},
     "output_type": "execute_result"
    }
   ],
   "source": [
    "data.head(10)"
   ]
  },
  {
   "cell_type": "markdown",
   "metadata": {},
   "source": [
    "Для ответов на вопросы исследования нам нужно знать:<br>\n",
    "<ol>\n",
    "    <li>есть ли дети</li>\n",
    "    <li>семейное положение</li>\n",
    "    <li>уровень дохода</li>\n",
    "    <li>цель кредита</li>\n",
    "    <li>задолженность</li>\n",
    "</ol>\n",
    "Поэтому для упрощения нужно категоризировать все эти данные."
   ]
  },
  {
   "cell_type": "markdown",
   "metadata": {},
   "source": [
    "1. <b>Дети</b>. Если детей нет - категория \"без детей\". Если есть - \"с детьми\"."
   ]
  },
  {
   "cell_type": "code",
   "execution_count": 45,
   "metadata": {},
   "outputs": [],
   "source": [
    "def categorize_children_count(num):\n",
    "    if num == 0:\n",
    "        return 'без детей'\n",
    "    return 'с детьми'"
   ]
  },
  {
   "cell_type": "code",
   "execution_count": 46,
   "metadata": {},
   "outputs": [],
   "source": [
    "data['children_id'] = data['children'].apply(categorize_children_count)"
   ]
  },
  {
   "cell_type": "code",
   "execution_count": 47,
   "metadata": {},
   "outputs": [
    {
     "data": {
      "text/plain": [
       "array(['с детьми', 'без детей'], dtype=object)"
      ]
     },
     "execution_count": 47,
     "metadata": {},
     "output_type": "execute_result"
    }
   ],
   "source": [
    "# проверка\n",
    "data['children_id'].unique()"
   ]
  },
  {
   "cell_type": "markdown",
   "metadata": {},
   "source": [
    "2. <b>Семейное положение</b>. В данных есть <b>family_status_id</b>, соответствующий данным в <b>family_status</b>"
   ]
  },
  {
   "cell_type": "markdown",
   "metadata": {},
   "source": [
    "3. <b>Уровень дохода</b>. Разделим по такому принципу:\n",
    "<ul>\n",
    "    <li>до 50 000 - крайне низкий</li>\n",
    "    <li>от 50 до 100 - низкий</li>\n",
    "    <li>от 100 до 200 - нормальный</li>\n",
    "    <li>от 200 до 500 - выше среднего</li>\n",
    "    <li>от 500 - высокий</li>\n",
    "</ul>"
   ]
  },
  {
   "cell_type": "code",
   "execution_count": 48,
   "metadata": {},
   "outputs": [],
   "source": [
    "def categorize_total_income(income):\n",
    "    \n",
    "    if income <= 50000:\n",
    "        return 'крайне низкий'\n",
    "    elif (income > 50000) & (income <= 100000):\n",
    "        return 'низкий'\n",
    "    elif (income > 100000) & (income <= 200000):\n",
    "        return 'нормальный'\n",
    "    elif (income > 200000) & (income <= 500000):\n",
    "        return 'выше среднего'\n",
    "    else:\n",
    "        return 'высокий'"
   ]
  },
  {
   "cell_type": "code",
   "execution_count": 49,
   "metadata": {},
   "outputs": [],
   "source": [
    "data['total_income_id'] = data['total_income'].apply(categorize_total_income)"
   ]
  },
  {
   "cell_type": "code",
   "execution_count": 50,
   "metadata": {},
   "outputs": [
    {
     "data": {
      "text/plain": [
       "array(['выше среднего', 'нормальный', 'низкий', 'высокий',\n",
       "       'крайне низкий'], dtype=object)"
      ]
     },
     "execution_count": 50,
     "metadata": {},
     "output_type": "execute_result"
    }
   ],
   "source": [
    "# проверка\n",
    "data['total_income_id'].unique()"
   ]
  },
  {
   "cell_type": "markdown",
   "metadata": {},
   "source": [
    "4. <b>Цель кредита</b>. У нас уже есть разделение по основным категориям из блока лемматизации."
   ]
  },
  {
   "cell_type": "markdown",
   "metadata": {},
   "source": [
    "5. <b>Задолженность</b>. Эта графа уже представлено в виде категорий, где 0 - нет задолженности, а 1 - есть задолженность."
   ]
  },
  {
   "cell_type": "markdown",
   "metadata": {},
   "source": [
    "**Вывод**\n",
    "\n",
    "Таким образом, мы выполнили категоризацию данных, необходимых для исследования. Можем переходить к проверкам."
   ]
  },
  {
   "cell_type": "markdown",
   "metadata": {},
   "source": [
    "## Проверка зависимостей"
   ]
  },
  {
   "cell_type": "markdown",
   "metadata": {},
   "source": [
    "- Есть ли зависимость между наличием детей и возвратом кредита в срок?"
   ]
  },
  {
   "cell_type": "markdown",
   "metadata": {},
   "source": [
    "Создадим новый датафрейм для представления данных по этой зависимости:"
   ]
  },
  {
   "cell_type": "code",
   "execution_count": 51,
   "metadata": {},
   "outputs": [],
   "source": [
    "debt_child_relation = pd.DataFrame()"
   ]
  },
  {
   "cell_type": "markdown",
   "metadata": {},
   "source": [
    "Добавим в новый фрейм количество заемщиков, сгруппированных по наличию/отсутствию детей:"
   ]
  },
  {
   "cell_type": "code",
   "execution_count": 52,
   "metadata": {},
   "outputs": [],
   "source": [
    "debt_child_relation['borrows_count'] = data.groupby('children_id')['debt'].count()"
   ]
  },
  {
   "cell_type": "markdown",
   "metadata": {},
   "source": [
    "Просуммируем значения в этой же группе - получим количество должников. Так же добавим в новый фрейм:"
   ]
  },
  {
   "cell_type": "code",
   "execution_count": 53,
   "metadata": {},
   "outputs": [],
   "source": [
    "debt_child_relation['borrows_sum'] = data.groupby('children_id')['debt'].sum()"
   ]
  },
  {
   "cell_type": "markdown",
   "metadata": {},
   "source": [
    "Найдем отношение суммарного значения к количественному и так же добавим для наглядности:"
   ]
  },
  {
   "cell_type": "code",
   "execution_count": 54,
   "metadata": {},
   "outputs": [],
   "source": [
    "debt_child_relation['result'] = (debt_child_relation['borrows_sum'] / debt_child_relation['borrows_count']) * 100"
   ]
  },
  {
   "cell_type": "markdown",
   "metadata": {},
   "source": [
    "Отсортируем по убыванию и выведем на экран:"
   ]
  },
  {
   "cell_type": "code",
   "execution_count": 55,
   "metadata": {},
   "outputs": [
    {
     "data": {
      "text/html": [
       "<div>\n",
       "<style scoped>\n",
       "    .dataframe tbody tr th:only-of-type {\n",
       "        vertical-align: middle;\n",
       "    }\n",
       "\n",
       "    .dataframe tbody tr th {\n",
       "        vertical-align: top;\n",
       "    }\n",
       "\n",
       "    .dataframe thead th {\n",
       "        text-align: right;\n",
       "    }\n",
       "</style>\n",
       "<table border=\"1\" class=\"dataframe\">\n",
       "  <thead>\n",
       "    <tr style=\"text-align: right;\">\n",
       "      <th></th>\n",
       "      <th>borrows_count</th>\n",
       "      <th>borrows_sum</th>\n",
       "      <th>result</th>\n",
       "    </tr>\n",
       "    <tr>\n",
       "      <th>children_id</th>\n",
       "      <th></th>\n",
       "      <th></th>\n",
       "      <th></th>\n",
       "    </tr>\n",
       "  </thead>\n",
       "  <tbody>\n",
       "    <tr>\n",
       "      <td>с детьми</td>\n",
       "      <td>7363</td>\n",
       "      <td>678</td>\n",
       "      <td>9.208203</td>\n",
       "    </tr>\n",
       "    <tr>\n",
       "      <td>без детей</td>\n",
       "      <td>14091</td>\n",
       "      <td>1063</td>\n",
       "      <td>7.543822</td>\n",
       "    </tr>\n",
       "  </tbody>\n",
       "</table>\n",
       "</div>"
      ],
      "text/plain": [
       "             borrows_count  borrows_sum    result\n",
       "children_id                                      \n",
       "с детьми              7363          678  9.208203\n",
       "без детей            14091         1063  7.543822"
      ]
     },
     "execution_count": 55,
     "metadata": {},
     "output_type": "execute_result"
    }
   ],
   "source": [
    "debt_child_relation.sort_values('result', ascending = False)"
   ]
  },
  {
   "cell_type": "markdown",
   "metadata": {},
   "source": [
    "**Вывод**\n",
    "\n",
    "Как видно из таблицы, результат не сильно отличается - есть ли у заемщика дети или нет. Получается, что зависимость между наличием детей и возвратом кредита в срок есть, но она не большая - разница примерно 1.7%."
   ]
  },
  {
   "cell_type": "markdown",
   "metadata": {},
   "source": [
    "- Есть ли зависимость между семейным положением и возвратом кредита в срок?"
   ]
  },
  {
   "cell_type": "markdown",
   "metadata": {},
   "source": [
    "Аналогично проведем исследование зависимости между семейным положением и возвратом кредита в срок:"
   ]
  },
  {
   "cell_type": "code",
   "execution_count": 56,
   "metadata": {},
   "outputs": [],
   "source": [
    "debt_family_relation = pd.DataFrame()"
   ]
  },
  {
   "cell_type": "code",
   "execution_count": 57,
   "metadata": {},
   "outputs": [],
   "source": [
    "debt_family_relation['debt_count'] = data.groupby('family_status')['debt'].count()\n",
    "debt_family_relation['debt_sum'] = data.groupby('family_status')['debt'].sum()\n",
    "debt_family_relation['debt_result'] = (debt_family_relation['debt_sum'] / debt_family_relation['debt_count']) * 100"
   ]
  },
  {
   "cell_type": "code",
   "execution_count": 58,
   "metadata": {},
   "outputs": [
    {
     "data": {
      "text/html": [
       "<div>\n",
       "<style scoped>\n",
       "    .dataframe tbody tr th:only-of-type {\n",
       "        vertical-align: middle;\n",
       "    }\n",
       "\n",
       "    .dataframe tbody tr th {\n",
       "        vertical-align: top;\n",
       "    }\n",
       "\n",
       "    .dataframe thead th {\n",
       "        text-align: right;\n",
       "    }\n",
       "</style>\n",
       "<table border=\"1\" class=\"dataframe\">\n",
       "  <thead>\n",
       "    <tr style=\"text-align: right;\">\n",
       "      <th></th>\n",
       "      <th>debt_count</th>\n",
       "      <th>debt_sum</th>\n",
       "      <th>debt_result</th>\n",
       "    </tr>\n",
       "    <tr>\n",
       "      <th>family_status</th>\n",
       "      <th></th>\n",
       "      <th></th>\n",
       "      <th></th>\n",
       "    </tr>\n",
       "  </thead>\n",
       "  <tbody>\n",
       "    <tr>\n",
       "      <td>Не женат / не замужем</td>\n",
       "      <td>2810</td>\n",
       "      <td>274</td>\n",
       "      <td>9.750890</td>\n",
       "    </tr>\n",
       "    <tr>\n",
       "      <td>гражданский брак</td>\n",
       "      <td>4151</td>\n",
       "      <td>388</td>\n",
       "      <td>9.347145</td>\n",
       "    </tr>\n",
       "    <tr>\n",
       "      <td>женат / замужем</td>\n",
       "      <td>12339</td>\n",
       "      <td>931</td>\n",
       "      <td>7.545182</td>\n",
       "    </tr>\n",
       "    <tr>\n",
       "      <td>в разводе</td>\n",
       "      <td>1195</td>\n",
       "      <td>85</td>\n",
       "      <td>7.112971</td>\n",
       "    </tr>\n",
       "    <tr>\n",
       "      <td>вдовец / вдова</td>\n",
       "      <td>959</td>\n",
       "      <td>63</td>\n",
       "      <td>6.569343</td>\n",
       "    </tr>\n",
       "  </tbody>\n",
       "</table>\n",
       "</div>"
      ],
      "text/plain": [
       "                       debt_count  debt_sum  debt_result\n",
       "family_status                                           \n",
       "Не женат / не замужем        2810       274     9.750890\n",
       "гражданский брак             4151       388     9.347145\n",
       "женат / замужем             12339       931     7.545182\n",
       "в разводе                    1195        85     7.112971\n",
       "вдовец / вдова                959        63     6.569343"
      ]
     },
     "execution_count": 58,
     "metadata": {},
     "output_type": "execute_result"
    }
   ],
   "source": [
    "debt_family_relation.sort_values('debt_result', ascending = False)"
   ]
  },
  {
   "cell_type": "markdown",
   "metadata": {},
   "source": [
    "**Вывод**\n",
    "\n",
    "По результатам видим, что зависимость так же, как и в предыдущем исследовании - небольшая. Максимальная разница составляет 2.6%. При этом минимальный риск у овдовевших людей, а максимальный - у не женатых/не замужних."
   ]
  },
  {
   "cell_type": "markdown",
   "metadata": {},
   "source": [
    "- Есть ли зависимость между уровнем дохода и возвратом кредита в срок?"
   ]
  },
  {
   "cell_type": "markdown",
   "metadata": {},
   "source": [
    "Таким же образом посчитаем зависимость между уровнем дохода и возвратом в срок."
   ]
  },
  {
   "cell_type": "code",
   "execution_count": 59,
   "metadata": {},
   "outputs": [],
   "source": [
    "debt_income_relation = pd.DataFrame()"
   ]
  },
  {
   "cell_type": "code",
   "execution_count": 60,
   "metadata": {},
   "outputs": [],
   "source": [
    "debt_income_relation['debt_count'] = data.groupby('total_income_id')['debt'].count()\n",
    "debt_income_relation['debt_sum'] = data.groupby('total_income_id')['debt'].sum()\n",
    "debt_income_relation['debt_result'] = (debt_income_relation['debt_sum'] / debt_income_relation['debt_count']) * 100"
   ]
  },
  {
   "cell_type": "code",
   "execution_count": 61,
   "metadata": {},
   "outputs": [
    {
     "data": {
      "text/html": [
       "<div>\n",
       "<style scoped>\n",
       "    .dataframe tbody tr th:only-of-type {\n",
       "        vertical-align: middle;\n",
       "    }\n",
       "\n",
       "    .dataframe tbody tr th {\n",
       "        vertical-align: top;\n",
       "    }\n",
       "\n",
       "    .dataframe thead th {\n",
       "        text-align: right;\n",
       "    }\n",
       "</style>\n",
       "<table border=\"1\" class=\"dataframe\">\n",
       "  <thead>\n",
       "    <tr style=\"text-align: right;\">\n",
       "      <th></th>\n",
       "      <th>debt_count</th>\n",
       "      <th>debt_sum</th>\n",
       "      <th>debt_result</th>\n",
       "    </tr>\n",
       "    <tr>\n",
       "      <th>total_income_id</th>\n",
       "      <th></th>\n",
       "      <th></th>\n",
       "      <th></th>\n",
       "    </tr>\n",
       "  </thead>\n",
       "  <tbody>\n",
       "    <tr>\n",
       "      <td>нормальный</td>\n",
       "      <td>11924</td>\n",
       "      <td>1029</td>\n",
       "      <td>8.629654</td>\n",
       "    </tr>\n",
       "    <tr>\n",
       "      <td>низкий</td>\n",
       "      <td>4091</td>\n",
       "      <td>331</td>\n",
       "      <td>8.090931</td>\n",
       "    </tr>\n",
       "    <tr>\n",
       "      <td>выше среднего</td>\n",
       "      <td>4845</td>\n",
       "      <td>344</td>\n",
       "      <td>7.100103</td>\n",
       "    </tr>\n",
       "    <tr>\n",
       "      <td>высокий</td>\n",
       "      <td>222</td>\n",
       "      <td>14</td>\n",
       "      <td>6.306306</td>\n",
       "    </tr>\n",
       "    <tr>\n",
       "      <td>крайне низкий</td>\n",
       "      <td>372</td>\n",
       "      <td>23</td>\n",
       "      <td>6.182796</td>\n",
       "    </tr>\n",
       "  </tbody>\n",
       "</table>\n",
       "</div>"
      ],
      "text/plain": [
       "                 debt_count  debt_sum  debt_result\n",
       "total_income_id                                   \n",
       "нормальный            11924      1029     8.629654\n",
       "низкий                 4091       331     8.090931\n",
       "выше среднего          4845       344     7.100103\n",
       "высокий                 222        14     6.306306\n",
       "крайне низкий           372        23     6.182796"
      ]
     },
     "execution_count": 61,
     "metadata": {},
     "output_type": "execute_result"
    }
   ],
   "source": [
    "debt_income_relation.sort_values('debt_result', ascending = False)"
   ]
  },
  {
   "cell_type": "markdown",
   "metadata": {},
   "source": [
    "**Вывод**\n",
    "\n",
    "Из результатов видно, что разница так же составляет около 2%. Крайне низкий уровень дохода менеше всего влияет на возврат в срок. Скорее всего это обусловлено тем, что люди с таким доходом гораздо реже берут кредиты.\n",
    "\n",
    "Более высокое влияние на возврат у заемщиков с нормальным уровне дохода - их много."
   ]
  },
  {
   "cell_type": "markdown",
   "metadata": {},
   "source": [
    "- Как разные цели кредита влияют на его возврат в срок?"
   ]
  },
  {
   "cell_type": "code",
   "execution_count": 62,
   "metadata": {},
   "outputs": [],
   "source": [
    "debt_purpose_relation = pd.DataFrame()"
   ]
  },
  {
   "cell_type": "code",
   "execution_count": 63,
   "metadata": {},
   "outputs": [],
   "source": [
    "debt_purpose_relation['debt_count'] = data.groupby('main_purpose')['debt'].count()\n",
    "debt_purpose_relation['debt_sum'] = data.groupby('main_purpose')['debt'].sum()\n",
    "debt_purpose_relation['debt_result'] = (debt_purpose_relation['debt_sum'] / debt_purpose_relation['debt_count']) * 100"
   ]
  },
  {
   "cell_type": "code",
   "execution_count": 64,
   "metadata": {},
   "outputs": [
    {
     "data": {
      "text/html": [
       "<div>\n",
       "<style scoped>\n",
       "    .dataframe tbody tr th:only-of-type {\n",
       "        vertical-align: middle;\n",
       "    }\n",
       "\n",
       "    .dataframe tbody tr th {\n",
       "        vertical-align: top;\n",
       "    }\n",
       "\n",
       "    .dataframe thead th {\n",
       "        text-align: right;\n",
       "    }\n",
       "</style>\n",
       "<table border=\"1\" class=\"dataframe\">\n",
       "  <thead>\n",
       "    <tr style=\"text-align: right;\">\n",
       "      <th></th>\n",
       "      <th>debt_count</th>\n",
       "      <th>debt_sum</th>\n",
       "      <th>debt_result</th>\n",
       "    </tr>\n",
       "    <tr>\n",
       "      <th>main_purpose</th>\n",
       "      <th></th>\n",
       "      <th></th>\n",
       "      <th></th>\n",
       "    </tr>\n",
       "  </thead>\n",
       "  <tbody>\n",
       "    <tr>\n",
       "      <td>автомобиль</td>\n",
       "      <td>4306</td>\n",
       "      <td>403</td>\n",
       "      <td>9.359034</td>\n",
       "    </tr>\n",
       "    <tr>\n",
       "      <td>образование</td>\n",
       "      <td>4013</td>\n",
       "      <td>370</td>\n",
       "      <td>9.220035</td>\n",
       "    </tr>\n",
       "    <tr>\n",
       "      <td>свадьба</td>\n",
       "      <td>2324</td>\n",
       "      <td>186</td>\n",
       "      <td>8.003442</td>\n",
       "    </tr>\n",
       "    <tr>\n",
       "      <td>недвижимость</td>\n",
       "      <td>10811</td>\n",
       "      <td>782</td>\n",
       "      <td>7.233373</td>\n",
       "    </tr>\n",
       "  </tbody>\n",
       "</table>\n",
       "</div>"
      ],
      "text/plain": [
       "              debt_count  debt_sum  debt_result\n",
       "main_purpose                                   \n",
       "автомобиль          4306       403     9.359034\n",
       "образование         4013       370     9.220035\n",
       "свадьба             2324       186     8.003442\n",
       "недвижимость       10811       782     7.233373"
      ]
     },
     "execution_count": 64,
     "metadata": {},
     "output_type": "execute_result"
    }
   ],
   "source": [
    "debt_purpose_relation.sort_values('debt_result', ascending = False)"
   ]
  },
  {
   "cell_type": "markdown",
   "metadata": {},
   "source": [
    "**Вывод**\n",
    "\n",
    "Похожая картина и в этом исследовании. Минимальное влияние оказывает кредит на недвижимость. Скорее всего это обусловлено тем, что, чаще всего это ипотека и заемщики готовятся к платежу заранее, чтобы не остаться без дома. \n",
    "\n",
    "Максимальное влияние - кредит на автомобиль. Возможно, он не всегда оправдывает себя, как покупка в кредит, поэтому заемщики иногда пренебрегают платой в срок."
   ]
  },
  {
   "cell_type": "markdown",
   "metadata": {},
   "source": [
    "## Общий вывод"
   ]
  },
  {
   "cell_type": "markdown",
   "metadata": {},
   "source": [
    "Мы провели 4 исследования.<br>\n",
    "По итогу можно сказать, что все 4 исследования подтверждают наличия влияния на возврат кредита в срок. Причем некоторые категории на немного больше оказывают влияние на возврат кредита.\n",
    "\n",
    "Данные могли немного исказиться по причине удаления пропусков и отказа от данных о трудовом стаже.\n",
    "\n",
    "В целом на возврат кредита одновременно оказывают влияние много факторов, большая часть которых, уверен, не освящается в приведенной статистике. Поэтому для более глубоко исследования необходимы дополнительные данные."
   ]
  },
  {
   "cell_type": "markdown",
   "metadata": {},
   "source": [
    "## Чек-лист готовности проекта"
   ]
  },
  {
   "cell_type": "markdown",
   "metadata": {},
   "source": [
    "- [x]  открыт файл;\n",
    "- [x]  файл изучен;\n",
    "- [x]  определены пропущенные значения;\n",
    "- [x]  заполнены пропущенные значения;\n",
    "- [x]  есть пояснение, какие пропущенные значения обнаружены;\n",
    "- [x]  описаны возможные причины появления пропусков в данных;\n",
    "- [x]  объяснено, по какому принципу заполнены пропуски;\n",
    "- [x]  заменен вещественный тип данных на целочисленный;\n",
    "- [x]  есть пояснение, какой метод используется для изменения типа данных и почему;\n",
    "- [x]  удалены дубликаты;\n",
    "- [x]  есть пояснение, какой метод используется для поиска и удаления дубликатов;\n",
    "- [x]  описаны возможные причины появления дубликатов в данных;\n",
    "- [x]  выделены леммы в значениях столбца с целями получения кредита;\n",
    "- [x]  описан процесс лемматизации;\n",
    "- [x]  данные категоризированы;\n",
    "- [x]  есть объяснение принципа категоризации данных;\n",
    "- [x]  есть ответ на вопрос: \"Есть ли зависимость между наличием детей и возвратом кредита в срок?\";\n",
    "- [x]  есть ответ на вопрос: \"Есть ли зависимость между семейным положением и возвратом кредита в срок?\";\n",
    "- [x]  есть ответ на вопрос: \"Есть ли зависимость между уровнем дохода и возвратом кредита в срок?\";\n",
    "- [x]  есть ответ на вопрос: \"Как разные цели кредита влияют на его возврат в срок?\";\n",
    "- [x]  в каждом этапе есть выводы;\n",
    "- [x]  есть общий вывод."
   ]
  }
 ],
 "metadata": {
  "ExecuteTimeLog": [
   {
    "duration": 748,
    "start_time": "2021-10-21T08:33:07.153Z"
   },
   {
    "duration": 857,
    "start_time": "2021-10-24T06:24:49.980Z"
   },
   {
    "duration": 58,
    "start_time": "2021-10-24T06:42:19.161Z"
   },
   {
    "duration": 64,
    "start_time": "2021-10-24T06:42:35.083Z"
   },
   {
    "duration": 11,
    "start_time": "2021-10-24T06:44:00.997Z"
   },
   {
    "duration": 9,
    "start_time": "2021-10-24T07:23:04.214Z"
   },
   {
    "duration": 10,
    "start_time": "2021-10-24T07:24:24.519Z"
   },
   {
    "duration": 2113,
    "start_time": "2021-10-25T13:27:21.032Z"
   },
   {
    "duration": 49,
    "start_time": "2021-10-25T13:27:23.147Z"
   },
   {
    "duration": 11,
    "start_time": "2021-10-25T13:27:23.199Z"
   },
   {
    "duration": 3,
    "start_time": "2021-10-25T13:28:49.291Z"
   },
   {
    "duration": 5,
    "start_time": "2021-10-25T13:30:06.197Z"
   },
   {
    "duration": 3,
    "start_time": "2021-10-25T13:30:10.811Z"
   },
   {
    "duration": 703,
    "start_time": "2021-10-25T13:30:22.357Z"
   },
   {
    "duration": 425,
    "start_time": "2021-10-25T13:30:30.405Z"
   },
   {
    "duration": 14,
    "start_time": "2021-10-25T13:32:36.152Z"
   },
   {
    "duration": 9,
    "start_time": "2021-10-25T13:33:06.408Z"
   },
   {
    "duration": 10,
    "start_time": "2021-10-25T13:41:44.657Z"
   },
   {
    "duration": 6,
    "start_time": "2021-10-25T13:47:02.779Z"
   },
   {
    "duration": 6,
    "start_time": "2021-10-25T15:22:53.705Z"
   },
   {
    "duration": 20,
    "start_time": "2021-10-25T15:38:17.294Z"
   },
   {
    "duration": 4,
    "start_time": "2021-10-25T15:38:31.150Z"
   },
   {
    "duration": 5,
    "start_time": "2021-10-25T15:38:44.327Z"
   },
   {
    "duration": 599,
    "start_time": "2021-11-01T09:30:20.730Z"
   },
   {
    "duration": 10,
    "start_time": "2021-11-01T09:30:21.330Z"
   },
   {
    "duration": 8,
    "start_time": "2021-11-01T09:30:21.342Z"
   },
   {
    "duration": 12,
    "start_time": "2021-11-01T09:30:21.352Z"
   },
   {
    "duration": 2,
    "start_time": "2021-11-01T09:30:21.366Z"
   },
   {
    "duration": 388,
    "start_time": "2021-11-01T09:30:21.370Z"
   },
   {
    "duration": 9,
    "start_time": "2021-11-01T09:30:21.760Z"
   },
   {
    "duration": 9,
    "start_time": "2021-11-01T09:30:21.770Z"
   },
   {
    "duration": 6,
    "start_time": "2021-11-01T09:30:21.792Z"
   },
   {
    "duration": 7,
    "start_time": "2021-11-01T09:30:21.800Z"
   },
   {
    "duration": 6,
    "start_time": "2021-11-01T09:30:21.808Z"
   },
   {
    "duration": 4,
    "start_time": "2021-11-01T09:40:16.175Z"
   },
   {
    "duration": 3,
    "start_time": "2021-11-01T09:46:35.131Z"
   },
   {
    "duration": 3,
    "start_time": "2021-11-01T09:48:03.884Z"
   },
   {
    "duration": 12,
    "start_time": "2021-11-01T09:48:24.390Z"
   },
   {
    "duration": 4,
    "start_time": "2021-11-01T09:48:50.024Z"
   },
   {
    "duration": 4,
    "start_time": "2021-11-01T09:49:59.273Z"
   },
   {
    "duration": 8,
    "start_time": "2021-11-01T09:55:28.400Z"
   },
   {
    "duration": 7,
    "start_time": "2021-11-01T10:00:09.156Z"
   },
   {
    "duration": 3,
    "start_time": "2021-11-01T10:03:10.899Z"
   },
   {
    "duration": 210,
    "start_time": "2021-11-01T10:03:22.554Z"
   },
   {
    "duration": 7,
    "start_time": "2021-11-01T10:03:39.075Z"
   },
   {
    "duration": 5,
    "start_time": "2021-11-01T10:07:25.805Z"
   },
   {
    "duration": 3,
    "start_time": "2021-11-01T10:07:46.464Z"
   },
   {
    "duration": 5,
    "start_time": "2021-11-01T10:07:51.880Z"
   },
   {
    "duration": 4,
    "start_time": "2021-11-01T10:08:06.592Z"
   },
   {
    "duration": 5,
    "start_time": "2021-11-01T10:08:07.264Z"
   },
   {
    "duration": 5,
    "start_time": "2021-11-01T10:11:14.681Z"
   },
   {
    "duration": 3,
    "start_time": "2021-11-01T10:12:56.838Z"
   },
   {
    "duration": 9,
    "start_time": "2021-11-01T10:13:12.631Z"
   },
   {
    "duration": 6,
    "start_time": "2021-11-01T10:13:23.200Z"
   },
   {
    "duration": 4,
    "start_time": "2021-11-01T10:14:42.689Z"
   },
   {
    "duration": 5,
    "start_time": "2021-11-01T10:18:03.603Z"
   },
   {
    "duration": 4,
    "start_time": "2021-11-01T10:19:11.973Z"
   },
   {
    "duration": 5,
    "start_time": "2021-11-01T10:30:28.211Z"
   },
   {
    "duration": 4,
    "start_time": "2021-11-01T10:31:13.134Z"
   },
   {
    "duration": 7,
    "start_time": "2021-11-01T10:34:26.177Z"
   },
   {
    "duration": 8,
    "start_time": "2021-11-01T10:34:55.320Z"
   },
   {
    "duration": 7,
    "start_time": "2021-11-01T10:35:13.243Z"
   },
   {
    "duration": 7,
    "start_time": "2021-11-01T10:35:18.970Z"
   },
   {
    "duration": 7,
    "start_time": "2021-11-01T10:35:24.882Z"
   },
   {
    "duration": 7,
    "start_time": "2021-11-01T10:35:30.691Z"
   },
   {
    "duration": 7,
    "start_time": "2021-11-01T10:35:36.067Z"
   },
   {
    "duration": 7,
    "start_time": "2021-11-01T10:35:40.907Z"
   },
   {
    "duration": 7,
    "start_time": "2021-11-01T10:35:45.859Z"
   },
   {
    "duration": 7,
    "start_time": "2021-11-01T10:35:50.147Z"
   },
   {
    "duration": 7,
    "start_time": "2021-11-01T10:35:54.619Z"
   },
   {
    "duration": 8,
    "start_time": "2021-11-01T10:35:58.587Z"
   },
   {
    "duration": 7,
    "start_time": "2021-11-01T10:36:04.124Z"
   },
   {
    "duration": 7,
    "start_time": "2021-11-01T10:36:08.267Z"
   },
   {
    "duration": 7,
    "start_time": "2021-11-01T10:36:12.028Z"
   },
   {
    "duration": 8,
    "start_time": "2021-11-01T10:36:15.091Z"
   },
   {
    "duration": 7,
    "start_time": "2021-11-01T10:36:18.117Z"
   },
   {
    "duration": 8,
    "start_time": "2021-11-01T10:36:22.355Z"
   },
   {
    "duration": 7,
    "start_time": "2021-11-01T10:36:27.916Z"
   },
   {
    "duration": 7,
    "start_time": "2021-11-01T10:36:31.397Z"
   },
   {
    "duration": 8,
    "start_time": "2021-11-01T10:36:35.852Z"
   },
   {
    "duration": 7,
    "start_time": "2021-11-01T10:36:40.664Z"
   },
   {
    "duration": 7,
    "start_time": "2021-11-01T10:36:46.003Z"
   },
   {
    "duration": 8,
    "start_time": "2021-11-01T10:36:52.036Z"
   },
   {
    "duration": 7,
    "start_time": "2021-11-01T10:36:57.868Z"
   },
   {
    "duration": 8,
    "start_time": "2021-11-01T10:38:25.406Z"
   },
   {
    "duration": 57,
    "start_time": "2021-11-01T10:39:42.006Z"
   },
   {
    "duration": 10,
    "start_time": "2021-11-01T10:39:46.456Z"
   },
   {
    "duration": 9,
    "start_time": "2021-11-01T10:39:51.624Z"
   },
   {
    "duration": 5,
    "start_time": "2021-11-01T10:39:54.808Z"
   },
   {
    "duration": 3,
    "start_time": "2021-11-01T10:39:58.567Z"
   },
   {
    "duration": 370,
    "start_time": "2021-11-01T10:39:59.663Z"
   },
   {
    "duration": 9,
    "start_time": "2021-11-01T10:40:00.880Z"
   },
   {
    "duration": 9,
    "start_time": "2021-11-01T10:40:04.096Z"
   },
   {
    "duration": 5,
    "start_time": "2021-11-01T10:40:07.455Z"
   },
   {
    "duration": 620,
    "start_time": "2021-11-01T10:40:24.085Z"
   },
   {
    "duration": 10,
    "start_time": "2021-11-01T10:40:24.707Z"
   },
   {
    "duration": 9,
    "start_time": "2021-11-01T10:40:24.719Z"
   },
   {
    "duration": 4,
    "start_time": "2021-11-01T10:40:24.730Z"
   },
   {
    "duration": 4,
    "start_time": "2021-11-01T10:40:24.735Z"
   },
   {
    "duration": 400,
    "start_time": "2021-11-01T10:40:24.740Z"
   },
   {
    "duration": 9,
    "start_time": "2021-11-01T10:40:25.142Z"
   },
   {
    "duration": 8,
    "start_time": "2021-11-01T10:40:25.153Z"
   },
   {
    "duration": 5,
    "start_time": "2021-11-01T10:40:25.163Z"
   },
   {
    "duration": 28,
    "start_time": "2021-11-01T10:40:25.169Z"
   },
   {
    "duration": 4,
    "start_time": "2021-11-01T10:40:25.198Z"
   },
   {
    "duration": 8,
    "start_time": "2021-11-01T10:40:25.203Z"
   },
   {
    "duration": 7,
    "start_time": "2021-11-01T10:40:25.212Z"
   },
   {
    "duration": 4,
    "start_time": "2021-11-01T10:40:25.220Z"
   },
   {
    "duration": 13,
    "start_time": "2021-11-01T10:40:25.226Z"
   },
   {
    "duration": 4,
    "start_time": "2021-11-01T10:40:25.240Z"
   },
   {
    "duration": 5,
    "start_time": "2021-11-01T10:40:25.246Z"
   },
   {
    "duration": 39,
    "start_time": "2021-11-01T10:40:25.253Z"
   },
   {
    "duration": 10,
    "start_time": "2021-11-01T10:40:25.294Z"
   },
   {
    "duration": 3,
    "start_time": "2021-11-01T10:40:25.305Z"
   },
   {
    "duration": 222,
    "start_time": "2021-11-01T10:40:25.309Z"
   },
   {
    "duration": 6,
    "start_time": "2021-11-01T10:40:25.533Z"
   },
   {
    "duration": 7,
    "start_time": "2021-11-01T10:40:25.542Z"
   },
   {
    "duration": 4,
    "start_time": "2021-11-01T10:40:25.551Z"
   },
   {
    "duration": 5,
    "start_time": "2021-11-01T10:40:25.557Z"
   },
   {
    "duration": 6,
    "start_time": "2021-11-01T10:40:25.564Z"
   },
   {
    "duration": 2,
    "start_time": "2021-11-01T10:40:25.591Z"
   },
   {
    "duration": 14,
    "start_time": "2021-11-01T10:40:25.595Z"
   },
   {
    "duration": 7,
    "start_time": "2021-11-01T10:40:25.610Z"
   },
   {
    "duration": 5,
    "start_time": "2021-11-01T10:40:25.619Z"
   },
   {
    "duration": 6,
    "start_time": "2021-11-01T10:40:25.626Z"
   },
   {
    "duration": 4,
    "start_time": "2021-11-01T10:40:25.634Z"
   },
   {
    "duration": 8,
    "start_time": "2021-11-01T10:40:25.640Z"
   },
   {
    "duration": 6,
    "start_time": "2021-11-01T10:40:25.649Z"
   },
   {
    "duration": 36,
    "start_time": "2021-11-01T10:40:25.656Z"
   },
   {
    "duration": 7,
    "start_time": "2021-11-01T10:40:25.693Z"
   },
   {
    "duration": 8,
    "start_time": "2021-11-01T10:41:16.469Z"
   },
   {
    "duration": 560,
    "start_time": "2021-11-01T10:41:27.640Z"
   },
   {
    "duration": 9,
    "start_time": "2021-11-01T10:41:28.202Z"
   },
   {
    "duration": 9,
    "start_time": "2021-11-01T10:41:28.213Z"
   },
   {
    "duration": 5,
    "start_time": "2021-11-01T10:41:28.224Z"
   },
   {
    "duration": 5,
    "start_time": "2021-11-01T10:41:28.230Z"
   },
   {
    "duration": 396,
    "start_time": "2021-11-01T10:41:28.236Z"
   },
   {
    "duration": 9,
    "start_time": "2021-11-01T10:41:28.634Z"
   },
   {
    "duration": 9,
    "start_time": "2021-11-01T10:41:28.645Z"
   },
   {
    "duration": 5,
    "start_time": "2021-11-01T10:41:28.655Z"
   },
   {
    "duration": 9,
    "start_time": "2021-11-01T10:41:28.662Z"
   },
   {
    "duration": 20,
    "start_time": "2021-11-01T10:41:28.672Z"
   },
   {
    "duration": 6,
    "start_time": "2021-11-01T10:41:28.694Z"
   },
   {
    "duration": 6,
    "start_time": "2021-11-01T10:41:28.702Z"
   },
   {
    "duration": 5,
    "start_time": "2021-11-01T10:41:28.709Z"
   },
   {
    "duration": 17,
    "start_time": "2021-11-01T10:41:28.715Z"
   },
   {
    "duration": 8,
    "start_time": "2021-11-01T10:41:28.734Z"
   },
   {
    "duration": 7,
    "start_time": "2021-11-01T10:41:28.744Z"
   },
   {
    "duration": 19,
    "start_time": "2021-11-01T10:41:28.752Z"
   },
   {
    "duration": 6,
    "start_time": "2021-11-01T10:41:28.773Z"
   },
   {
    "duration": 2,
    "start_time": "2021-11-01T10:41:28.791Z"
   },
   {
    "duration": 212,
    "start_time": "2021-11-01T10:41:28.795Z"
   },
   {
    "duration": 6,
    "start_time": "2021-11-01T10:41:29.009Z"
   },
   {
    "duration": 6,
    "start_time": "2021-11-01T10:41:29.017Z"
   },
   {
    "duration": 4,
    "start_time": "2021-11-01T10:41:29.025Z"
   },
   {
    "duration": 6,
    "start_time": "2021-11-01T10:41:29.031Z"
   },
   {
    "duration": 8,
    "start_time": "2021-11-01T10:41:29.038Z"
   },
   {
    "duration": 3,
    "start_time": "2021-11-01T10:41:29.047Z"
   },
   {
    "duration": 12,
    "start_time": "2021-11-01T10:41:29.051Z"
   },
   {
    "duration": 28,
    "start_time": "2021-11-01T10:41:29.064Z"
   },
   {
    "duration": 4,
    "start_time": "2021-11-01T10:41:29.093Z"
   },
   {
    "duration": 8,
    "start_time": "2021-11-01T10:41:29.098Z"
   },
   {
    "duration": 5,
    "start_time": "2021-11-01T10:41:29.108Z"
   },
   {
    "duration": 7,
    "start_time": "2021-11-01T10:41:29.114Z"
   },
   {
    "duration": 4,
    "start_time": "2021-11-01T10:41:29.122Z"
   },
   {
    "duration": 10,
    "start_time": "2021-11-01T10:41:29.127Z"
   },
   {
    "duration": 6,
    "start_time": "2021-11-01T10:41:29.139Z"
   },
   {
    "duration": 7,
    "start_time": "2021-11-01T10:41:57.724Z"
   },
   {
    "duration": 591,
    "start_time": "2021-11-01T10:42:05.508Z"
   },
   {
    "duration": 10,
    "start_time": "2021-11-01T10:42:06.100Z"
   },
   {
    "duration": 19,
    "start_time": "2021-11-01T10:42:06.114Z"
   },
   {
    "duration": 7,
    "start_time": "2021-11-01T10:42:06.134Z"
   },
   {
    "duration": 9,
    "start_time": "2021-11-01T10:42:06.143Z"
   },
   {
    "duration": 382,
    "start_time": "2021-11-01T10:42:06.153Z"
   },
   {
    "duration": 9,
    "start_time": "2021-11-01T10:42:06.538Z"
   },
   {
    "duration": 19,
    "start_time": "2021-11-01T10:42:06.548Z"
   },
   {
    "duration": 19,
    "start_time": "2021-11-01T10:42:06.568Z"
   },
   {
    "duration": 22,
    "start_time": "2021-11-01T10:42:06.588Z"
   },
   {
    "duration": 6,
    "start_time": "2021-11-01T10:42:06.612Z"
   },
   {
    "duration": 15,
    "start_time": "2021-11-01T10:42:06.619Z"
   },
   {
    "duration": 12,
    "start_time": "2021-11-01T10:42:06.636Z"
   },
   {
    "duration": 9,
    "start_time": "2021-11-01T10:42:06.649Z"
   },
   {
    "duration": 22,
    "start_time": "2021-11-01T10:42:06.659Z"
   },
   {
    "duration": 13,
    "start_time": "2021-11-01T10:42:06.683Z"
   },
   {
    "duration": 17,
    "start_time": "2021-11-01T10:42:06.697Z"
   },
   {
    "duration": 8,
    "start_time": "2021-11-01T10:42:06.715Z"
   },
   {
    "duration": 9,
    "start_time": "2021-11-01T10:42:06.725Z"
   },
   {
    "duration": 5,
    "start_time": "2021-11-01T10:42:06.736Z"
   },
   {
    "duration": 225,
    "start_time": "2021-11-01T10:42:06.743Z"
   },
   {
    "duration": 6,
    "start_time": "2021-11-01T10:42:06.971Z"
   },
   {
    "duration": 15,
    "start_time": "2021-11-01T10:42:06.979Z"
   },
   {
    "duration": 16,
    "start_time": "2021-11-01T10:42:06.996Z"
   },
   {
    "duration": 12,
    "start_time": "2021-11-01T10:42:07.014Z"
   },
   {
    "duration": 15,
    "start_time": "2021-11-01T10:42:07.027Z"
   },
   {
    "duration": 6,
    "start_time": "2021-11-01T10:42:07.043Z"
   },
   {
    "duration": 24,
    "start_time": "2021-11-01T10:42:07.050Z"
   },
   {
    "duration": 16,
    "start_time": "2021-11-01T10:42:07.076Z"
   },
   {
    "duration": 5,
    "start_time": "2021-11-01T10:42:07.093Z"
   },
   {
    "duration": 19,
    "start_time": "2021-11-01T10:42:07.099Z"
   },
   {
    "duration": 11,
    "start_time": "2021-11-01T10:42:07.119Z"
   },
   {
    "duration": 6,
    "start_time": "2021-11-01T10:42:07.131Z"
   },
   {
    "duration": 12,
    "start_time": "2021-11-01T10:42:07.139Z"
   },
   {
    "duration": 17,
    "start_time": "2021-11-01T10:42:07.152Z"
   },
   {
    "duration": 15,
    "start_time": "2021-11-01T10:42:07.170Z"
   },
   {
    "duration": 7,
    "start_time": "2021-11-01T10:42:22.508Z"
   },
   {
    "duration": 617,
    "start_time": "2021-11-01T10:42:35.990Z"
   },
   {
    "duration": 12,
    "start_time": "2021-11-01T10:42:36.609Z"
   },
   {
    "duration": 8,
    "start_time": "2021-11-01T10:42:36.625Z"
   },
   {
    "duration": 7,
    "start_time": "2021-11-01T10:42:36.634Z"
   },
   {
    "duration": 2,
    "start_time": "2021-11-01T10:42:36.643Z"
   },
   {
    "duration": 405,
    "start_time": "2021-11-01T10:42:36.647Z"
   },
   {
    "duration": 9,
    "start_time": "2021-11-01T10:42:37.054Z"
   },
   {
    "duration": 9,
    "start_time": "2021-11-01T10:42:37.065Z"
   },
   {
    "duration": 18,
    "start_time": "2021-11-01T10:42:37.076Z"
   },
   {
    "duration": 9,
    "start_time": "2021-11-01T10:42:37.095Z"
   },
   {
    "duration": 3,
    "start_time": "2021-11-01T10:42:37.105Z"
   },
   {
    "duration": 5,
    "start_time": "2021-11-01T10:42:37.110Z"
   },
   {
    "duration": 5,
    "start_time": "2021-11-01T10:42:37.117Z"
   },
   {
    "duration": 5,
    "start_time": "2021-11-01T10:42:37.123Z"
   },
   {
    "duration": 17,
    "start_time": "2021-11-01T10:42:37.130Z"
   },
   {
    "duration": 5,
    "start_time": "2021-11-01T10:42:37.148Z"
   },
   {
    "duration": 5,
    "start_time": "2021-11-01T10:42:37.155Z"
   },
   {
    "duration": 7,
    "start_time": "2021-11-01T10:42:37.191Z"
   },
   {
    "duration": 6,
    "start_time": "2021-11-01T10:42:37.200Z"
   },
   {
    "duration": 2,
    "start_time": "2021-11-01T10:42:37.208Z"
   },
   {
    "duration": 230,
    "start_time": "2021-11-01T10:42:37.212Z"
   },
   {
    "duration": 6,
    "start_time": "2021-11-01T10:42:37.443Z"
   },
   {
    "duration": 6,
    "start_time": "2021-11-01T10:42:37.451Z"
   },
   {
    "duration": 4,
    "start_time": "2021-11-01T10:42:37.459Z"
   },
   {
    "duration": 9,
    "start_time": "2021-11-01T10:42:37.465Z"
   },
   {
    "duration": 5,
    "start_time": "2021-11-01T10:42:37.492Z"
   },
   {
    "duration": 3,
    "start_time": "2021-11-01T10:42:37.498Z"
   },
   {
    "duration": 11,
    "start_time": "2021-11-01T10:42:37.503Z"
   },
   {
    "duration": 8,
    "start_time": "2021-11-01T10:42:37.515Z"
   },
   {
    "duration": 4,
    "start_time": "2021-11-01T10:42:37.524Z"
   },
   {
    "duration": 6,
    "start_time": "2021-11-01T10:42:37.529Z"
   },
   {
    "duration": 4,
    "start_time": "2021-11-01T10:42:37.537Z"
   },
   {
    "duration": 5,
    "start_time": "2021-11-01T10:42:37.542Z"
   },
   {
    "duration": 6,
    "start_time": "2021-11-01T10:42:37.548Z"
   },
   {
    "duration": 6,
    "start_time": "2021-11-01T10:42:37.592Z"
   },
   {
    "duration": 6,
    "start_time": "2021-11-01T10:42:37.600Z"
   },
   {
    "duration": 8,
    "start_time": "2021-11-01T10:43:17.310Z"
   },
   {
    "duration": 594,
    "start_time": "2021-11-01T10:43:27.959Z"
   },
   {
    "duration": 10,
    "start_time": "2021-11-01T10:43:28.555Z"
   },
   {
    "duration": 10,
    "start_time": "2021-11-01T10:43:28.570Z"
   },
   {
    "duration": 14,
    "start_time": "2021-11-01T10:43:28.582Z"
   },
   {
    "duration": 3,
    "start_time": "2021-11-01T10:43:28.598Z"
   },
   {
    "duration": 392,
    "start_time": "2021-11-01T10:43:28.603Z"
   },
   {
    "duration": 11,
    "start_time": "2021-11-01T10:43:28.997Z"
   },
   {
    "duration": 10,
    "start_time": "2021-11-01T10:43:29.010Z"
   },
   {
    "duration": 5,
    "start_time": "2021-11-01T10:43:29.022Z"
   },
   {
    "duration": 8,
    "start_time": "2021-11-01T10:43:29.029Z"
   },
   {
    "duration": 4,
    "start_time": "2021-11-01T10:43:29.038Z"
   },
   {
    "duration": 6,
    "start_time": "2021-11-01T10:43:29.043Z"
   },
   {
    "duration": 5,
    "start_time": "2021-11-01T10:43:29.091Z"
   },
   {
    "duration": 5,
    "start_time": "2021-11-01T10:43:29.097Z"
   },
   {
    "duration": 16,
    "start_time": "2021-11-01T10:43:29.103Z"
   },
   {
    "duration": 6,
    "start_time": "2021-11-01T10:43:29.120Z"
   },
   {
    "duration": 5,
    "start_time": "2021-11-01T10:43:29.127Z"
   },
   {
    "duration": 8,
    "start_time": "2021-11-01T10:43:29.134Z"
   },
   {
    "duration": 7,
    "start_time": "2021-11-01T10:43:29.144Z"
   },
   {
    "duration": 41,
    "start_time": "2021-11-01T10:43:29.153Z"
   },
   {
    "duration": 209,
    "start_time": "2021-11-01T10:43:29.196Z"
   },
   {
    "duration": 6,
    "start_time": "2021-11-01T10:43:29.408Z"
   },
   {
    "duration": 8,
    "start_time": "2021-11-01T10:43:29.415Z"
   },
   {
    "duration": 6,
    "start_time": "2021-11-01T10:43:29.424Z"
   },
   {
    "duration": 7,
    "start_time": "2021-11-01T10:43:29.432Z"
   },
   {
    "duration": 6,
    "start_time": "2021-11-01T10:43:29.441Z"
   },
   {
    "duration": 4,
    "start_time": "2021-11-01T10:43:29.449Z"
   },
   {
    "duration": 11,
    "start_time": "2021-11-01T10:43:29.454Z"
   },
   {
    "duration": 26,
    "start_time": "2021-11-01T10:43:29.467Z"
   },
   {
    "duration": 4,
    "start_time": "2021-11-01T10:43:29.494Z"
   },
   {
    "duration": 10,
    "start_time": "2021-11-01T10:43:29.499Z"
   },
   {
    "duration": 5,
    "start_time": "2021-11-01T10:43:29.511Z"
   },
   {
    "duration": 8,
    "start_time": "2021-11-01T10:43:29.517Z"
   },
   {
    "duration": 5,
    "start_time": "2021-11-01T10:43:29.527Z"
   },
   {
    "duration": 8,
    "start_time": "2021-11-01T10:43:29.533Z"
   },
   {
    "duration": 6,
    "start_time": "2021-11-01T10:43:29.543Z"
   },
   {
    "duration": 7,
    "start_time": "2021-11-01T10:43:43.061Z"
   },
   {
    "duration": 585,
    "start_time": "2021-11-01T10:43:49.311Z"
   },
   {
    "duration": 10,
    "start_time": "2021-11-01T10:43:49.898Z"
   },
   {
    "duration": 8,
    "start_time": "2021-11-01T10:43:49.912Z"
   },
   {
    "duration": 4,
    "start_time": "2021-11-01T10:43:49.922Z"
   },
   {
    "duration": 6,
    "start_time": "2021-11-01T10:43:49.927Z"
   },
   {
    "duration": 453,
    "start_time": "2021-11-01T10:43:49.935Z"
   },
   {
    "duration": 9,
    "start_time": "2021-11-01T10:43:50.392Z"
   },
   {
    "duration": 9,
    "start_time": "2021-11-01T10:43:50.403Z"
   },
   {
    "duration": 5,
    "start_time": "2021-11-01T10:43:50.413Z"
   },
   {
    "duration": 8,
    "start_time": "2021-11-01T10:43:50.419Z"
   },
   {
    "duration": 2,
    "start_time": "2021-11-01T10:43:50.429Z"
   },
   {
    "duration": 7,
    "start_time": "2021-11-01T10:43:50.433Z"
   },
   {
    "duration": 6,
    "start_time": "2021-11-01T10:43:50.442Z"
   },
   {
    "duration": 3,
    "start_time": "2021-11-01T10:43:50.449Z"
   },
   {
    "duration": 47,
    "start_time": "2021-11-01T10:43:50.454Z"
   },
   {
    "duration": 13,
    "start_time": "2021-11-01T10:43:50.503Z"
   },
   {
    "duration": 4,
    "start_time": "2021-11-01T10:43:50.517Z"
   },
   {
    "duration": 22,
    "start_time": "2021-11-01T10:43:50.523Z"
   },
   {
    "duration": 6,
    "start_time": "2021-11-01T10:43:50.547Z"
   },
   {
    "duration": 13,
    "start_time": "2021-11-01T10:43:50.554Z"
   },
   {
    "duration": 224,
    "start_time": "2021-11-01T10:43:50.568Z"
   },
   {
    "duration": 6,
    "start_time": "2021-11-01T10:43:50.795Z"
   },
   {
    "duration": 9,
    "start_time": "2021-11-01T10:43:50.803Z"
   },
   {
    "duration": 11,
    "start_time": "2021-11-01T10:43:50.813Z"
   },
   {
    "duration": 23,
    "start_time": "2021-11-01T10:43:50.826Z"
   },
   {
    "duration": 15,
    "start_time": "2021-11-01T10:43:50.851Z"
   },
   {
    "duration": 8,
    "start_time": "2021-11-01T10:43:50.868Z"
   },
   {
    "duration": 21,
    "start_time": "2021-11-01T10:43:50.878Z"
   },
   {
    "duration": 24,
    "start_time": "2021-11-01T10:43:50.901Z"
   },
   {
    "duration": 17,
    "start_time": "2021-11-01T10:43:50.927Z"
   },
   {
    "duration": 20,
    "start_time": "2021-11-01T10:43:50.946Z"
   },
   {
    "duration": 25,
    "start_time": "2021-11-01T10:43:50.967Z"
   },
   {
    "duration": 16,
    "start_time": "2021-11-01T10:43:50.994Z"
   },
   {
    "duration": 15,
    "start_time": "2021-11-01T10:43:51.011Z"
   },
   {
    "duration": 12,
    "start_time": "2021-11-01T10:43:51.027Z"
   },
   {
    "duration": 20,
    "start_time": "2021-11-01T10:43:51.040Z"
   },
   {
    "duration": 7,
    "start_time": "2021-11-01T10:44:07.623Z"
   },
   {
    "duration": 566,
    "start_time": "2021-11-01T10:44:17.952Z"
   },
   {
    "duration": 10,
    "start_time": "2021-11-01T10:44:18.520Z"
   },
   {
    "duration": 9,
    "start_time": "2021-11-01T10:44:18.534Z"
   },
   {
    "duration": 5,
    "start_time": "2021-11-01T10:44:18.544Z"
   },
   {
    "duration": 4,
    "start_time": "2021-11-01T10:44:18.551Z"
   },
   {
    "duration": 392,
    "start_time": "2021-11-01T10:44:18.557Z"
   },
   {
    "duration": 9,
    "start_time": "2021-11-01T10:44:18.951Z"
   },
   {
    "duration": 9,
    "start_time": "2021-11-01T10:44:18.962Z"
   },
   {
    "duration": 20,
    "start_time": "2021-11-01T10:44:18.972Z"
   },
   {
    "duration": 7,
    "start_time": "2021-11-01T10:44:18.993Z"
   },
   {
    "duration": 3,
    "start_time": "2021-11-01T10:44:19.002Z"
   },
   {
    "duration": 9,
    "start_time": "2021-11-01T10:44:19.006Z"
   },
   {
    "duration": 6,
    "start_time": "2021-11-01T10:44:19.016Z"
   },
   {
    "duration": 5,
    "start_time": "2021-11-01T10:44:19.024Z"
   },
   {
    "duration": 14,
    "start_time": "2021-11-01T10:44:19.030Z"
   },
   {
    "duration": 3,
    "start_time": "2021-11-01T10:44:19.046Z"
   },
   {
    "duration": 6,
    "start_time": "2021-11-01T10:44:19.050Z"
   },
   {
    "duration": 36,
    "start_time": "2021-11-01T10:44:19.057Z"
   },
   {
    "duration": 7,
    "start_time": "2021-11-01T10:44:19.095Z"
   },
   {
    "duration": 3,
    "start_time": "2021-11-01T10:44:19.103Z"
   },
   {
    "duration": 220,
    "start_time": "2021-11-01T10:44:19.108Z"
   },
   {
    "duration": 7,
    "start_time": "2021-11-01T10:44:19.331Z"
   },
   {
    "duration": 7,
    "start_time": "2021-11-01T10:44:19.340Z"
   },
   {
    "duration": 6,
    "start_time": "2021-11-01T10:44:19.348Z"
   },
   {
    "duration": 6,
    "start_time": "2021-11-01T10:44:19.355Z"
   },
   {
    "duration": 6,
    "start_time": "2021-11-01T10:44:19.362Z"
   },
   {
    "duration": 26,
    "start_time": "2021-11-01T10:44:19.370Z"
   },
   {
    "duration": 14,
    "start_time": "2021-11-01T10:44:19.397Z"
   },
   {
    "duration": 9,
    "start_time": "2021-11-01T10:44:19.412Z"
   },
   {
    "duration": 4,
    "start_time": "2021-11-01T10:44:19.423Z"
   },
   {
    "duration": 9,
    "start_time": "2021-11-01T10:44:19.428Z"
   },
   {
    "duration": 4,
    "start_time": "2021-11-01T10:44:19.438Z"
   },
   {
    "duration": 6,
    "start_time": "2021-11-01T10:44:19.443Z"
   },
   {
    "duration": 6,
    "start_time": "2021-11-01T10:44:19.450Z"
   },
   {
    "duration": 20,
    "start_time": "2021-11-01T10:44:19.457Z"
   },
   {
    "duration": 18,
    "start_time": "2021-11-01T10:44:19.478Z"
   },
   {
    "duration": 7,
    "start_time": "2021-11-01T10:44:56.064Z"
   },
   {
    "duration": 564,
    "start_time": "2021-11-01T10:45:04.246Z"
   },
   {
    "duration": 10,
    "start_time": "2021-11-01T10:45:04.812Z"
   },
   {
    "duration": 8,
    "start_time": "2021-11-01T10:45:04.823Z"
   },
   {
    "duration": 5,
    "start_time": "2021-11-01T10:45:04.833Z"
   },
   {
    "duration": 4,
    "start_time": "2021-11-01T10:45:04.839Z"
   },
   {
    "duration": 401,
    "start_time": "2021-11-01T10:45:04.845Z"
   },
   {
    "duration": 9,
    "start_time": "2021-11-01T10:45:05.248Z"
   },
   {
    "duration": 11,
    "start_time": "2021-11-01T10:45:05.259Z"
   },
   {
    "duration": 4,
    "start_time": "2021-11-01T10:45:05.272Z"
   },
   {
    "duration": 7,
    "start_time": "2021-11-01T10:45:05.291Z"
   },
   {
    "duration": 3,
    "start_time": "2021-11-01T10:45:05.299Z"
   },
   {
    "duration": 5,
    "start_time": "2021-11-01T10:45:05.305Z"
   },
   {
    "duration": 8,
    "start_time": "2021-11-01T10:45:05.312Z"
   },
   {
    "duration": 8,
    "start_time": "2021-11-01T10:45:05.321Z"
   },
   {
    "duration": 25,
    "start_time": "2021-11-01T10:45:05.331Z"
   },
   {
    "duration": 4,
    "start_time": "2021-11-01T10:45:05.357Z"
   },
   {
    "duration": 10,
    "start_time": "2021-11-01T10:45:05.362Z"
   },
   {
    "duration": 22,
    "start_time": "2021-11-01T10:45:05.374Z"
   },
   {
    "duration": 8,
    "start_time": "2021-11-01T10:45:05.397Z"
   },
   {
    "duration": 15,
    "start_time": "2021-11-01T10:45:05.407Z"
   },
   {
    "duration": 212,
    "start_time": "2021-11-01T10:45:05.424Z"
   },
   {
    "duration": 7,
    "start_time": "2021-11-01T10:45:05.638Z"
   },
   {
    "duration": 8,
    "start_time": "2021-11-01T10:45:05.646Z"
   },
   {
    "duration": 4,
    "start_time": "2021-11-01T10:45:05.656Z"
   },
   {
    "duration": 5,
    "start_time": "2021-11-01T10:45:05.662Z"
   },
   {
    "duration": 22,
    "start_time": "2021-11-01T10:45:05.669Z"
   },
   {
    "duration": 2,
    "start_time": "2021-11-01T10:45:05.693Z"
   },
   {
    "duration": 15,
    "start_time": "2021-11-01T10:45:05.696Z"
   },
   {
    "duration": 10,
    "start_time": "2021-11-01T10:45:05.713Z"
   },
   {
    "duration": 10,
    "start_time": "2021-11-01T10:45:05.725Z"
   },
   {
    "duration": 14,
    "start_time": "2021-11-01T10:45:05.736Z"
   },
   {
    "duration": 7,
    "start_time": "2021-11-01T10:45:05.751Z"
   },
   {
    "duration": 7,
    "start_time": "2021-11-01T10:45:05.759Z"
   },
   {
    "duration": 8,
    "start_time": "2021-11-01T10:45:05.767Z"
   },
   {
    "duration": 20,
    "start_time": "2021-11-01T10:45:05.776Z"
   },
   {
    "duration": 6,
    "start_time": "2021-11-01T10:45:05.799Z"
   },
   {
    "duration": 589,
    "start_time": "2021-11-01T10:47:05.752Z"
   },
   {
    "duration": 10,
    "start_time": "2021-11-01T10:47:06.343Z"
   },
   {
    "duration": 20,
    "start_time": "2021-11-01T10:47:06.358Z"
   },
   {
    "duration": 16,
    "start_time": "2021-11-01T10:47:06.380Z"
   },
   {
    "duration": 14,
    "start_time": "2021-11-01T10:47:06.397Z"
   },
   {
    "duration": 391,
    "start_time": "2021-11-01T10:47:06.413Z"
   },
   {
    "duration": 10,
    "start_time": "2021-11-01T10:47:06.806Z"
   },
   {
    "duration": 15,
    "start_time": "2021-11-01T10:47:06.817Z"
   },
   {
    "duration": 11,
    "start_time": "2021-11-01T10:47:06.833Z"
   },
   {
    "duration": 25,
    "start_time": "2021-11-01T10:47:06.845Z"
   },
   {
    "duration": 16,
    "start_time": "2021-11-01T10:47:06.872Z"
   },
   {
    "duration": 13,
    "start_time": "2021-11-01T10:47:06.890Z"
   },
   {
    "duration": 14,
    "start_time": "2021-11-01T10:47:06.905Z"
   },
   {
    "duration": 20,
    "start_time": "2021-11-01T10:47:06.921Z"
   },
   {
    "duration": 11,
    "start_time": "2021-11-01T10:47:06.943Z"
   },
   {
    "duration": 9,
    "start_time": "2021-11-01T10:47:06.956Z"
   },
   {
    "duration": 11,
    "start_time": "2021-11-01T10:47:06.967Z"
   },
   {
    "duration": 16,
    "start_time": "2021-11-01T10:47:06.980Z"
   },
   {
    "duration": 19,
    "start_time": "2021-11-01T10:47:06.997Z"
   },
   {
    "duration": 222,
    "start_time": "2021-11-01T10:47:07.018Z"
   },
   {
    "duration": 6,
    "start_time": "2021-11-01T10:47:07.241Z"
   },
   {
    "duration": 10,
    "start_time": "2021-11-01T10:47:07.250Z"
   },
   {
    "duration": 11,
    "start_time": "2021-11-01T10:47:07.261Z"
   },
   {
    "duration": 21,
    "start_time": "2021-11-01T10:47:07.273Z"
   },
   {
    "duration": 19,
    "start_time": "2021-11-01T10:47:07.296Z"
   },
   {
    "duration": 28,
    "start_time": "2021-11-01T10:47:07.317Z"
   },
   {
    "duration": 20,
    "start_time": "2021-11-01T10:47:07.346Z"
   },
   {
    "duration": 19,
    "start_time": "2021-11-01T10:47:07.368Z"
   },
   {
    "duration": 13,
    "start_time": "2021-11-01T10:47:07.388Z"
   },
   {
    "duration": 12,
    "start_time": "2021-11-01T10:47:07.403Z"
   },
   {
    "duration": 3,
    "start_time": "2021-11-01T10:47:07.416Z"
   },
   {
    "duration": 10,
    "start_time": "2021-11-01T10:47:07.421Z"
   },
   {
    "duration": 12,
    "start_time": "2021-11-01T10:47:07.432Z"
   },
   {
    "duration": 13,
    "start_time": "2021-11-01T10:47:07.445Z"
   },
   {
    "duration": 8,
    "start_time": "2021-11-01T10:47:07.460Z"
   },
   {
    "duration": 6,
    "start_time": "2021-11-01T10:56:34.950Z"
   },
   {
    "duration": 5,
    "start_time": "2021-11-01T10:59:03.777Z"
   },
   {
    "duration": 3,
    "start_time": "2021-11-01T11:01:33.734Z"
   },
   {
    "duration": 608,
    "start_time": "2021-11-01T11:01:55.044Z"
   },
   {
    "duration": 2,
    "start_time": "2021-11-01T11:11:00.784Z"
   },
   {
    "duration": 3,
    "start_time": "2021-11-01T11:11:05.072Z"
   },
   {
    "duration": 4,
    "start_time": "2021-11-01T11:13:23.180Z"
   },
   {
    "duration": 6987,
    "start_time": "2021-11-01T11:15:02.413Z"
   },
   {
    "duration": 7043,
    "start_time": "2021-11-01T11:15:56.151Z"
   },
   {
    "duration": 2610,
    "start_time": "2021-11-01T11:16:27.975Z"
   },
   {
    "duration": 6,
    "start_time": "2021-11-01T11:16:48.711Z"
   },
   {
    "duration": 660,
    "start_time": "2021-11-01T11:16:54.744Z"
   },
   {
    "duration": 5,
    "start_time": "2021-11-01T11:17:11.096Z"
   },
   {
    "duration": 663,
    "start_time": "2021-11-01T11:18:24.034Z"
   },
   {
    "duration": 635,
    "start_time": "2021-11-01T11:18:31.388Z"
   },
   {
    "duration": 11,
    "start_time": "2021-11-01T11:18:32.025Z"
   },
   {
    "duration": 13,
    "start_time": "2021-11-01T11:18:32.040Z"
   },
   {
    "duration": 15,
    "start_time": "2021-11-01T11:18:32.055Z"
   },
   {
    "duration": 8,
    "start_time": "2021-11-01T11:18:32.071Z"
   },
   {
    "duration": 383,
    "start_time": "2021-11-01T11:18:32.081Z"
   },
   {
    "duration": 9,
    "start_time": "2021-11-01T11:18:32.467Z"
   },
   {
    "duration": 21,
    "start_time": "2021-11-01T11:18:32.478Z"
   },
   {
    "duration": 12,
    "start_time": "2021-11-01T11:18:32.500Z"
   },
   {
    "duration": 22,
    "start_time": "2021-11-01T11:18:32.514Z"
   },
   {
    "duration": 19,
    "start_time": "2021-11-01T11:18:32.538Z"
   },
   {
    "duration": 18,
    "start_time": "2021-11-01T11:18:32.559Z"
   },
   {
    "duration": 11,
    "start_time": "2021-11-01T11:18:32.578Z"
   },
   {
    "duration": 34,
    "start_time": "2021-11-01T11:18:32.590Z"
   },
   {
    "duration": 18,
    "start_time": "2021-11-01T11:18:32.626Z"
   },
   {
    "duration": 9,
    "start_time": "2021-11-01T11:18:32.646Z"
   },
   {
    "duration": 17,
    "start_time": "2021-11-01T11:18:32.656Z"
   },
   {
    "duration": 15,
    "start_time": "2021-11-01T11:18:32.675Z"
   },
   {
    "duration": 14,
    "start_time": "2021-11-01T11:18:32.691Z"
   },
   {
    "duration": 221,
    "start_time": "2021-11-01T11:18:32.707Z"
   },
   {
    "duration": 6,
    "start_time": "2021-11-01T11:18:32.930Z"
   },
   {
    "duration": 10,
    "start_time": "2021-11-01T11:18:32.940Z"
   },
   {
    "duration": 13,
    "start_time": "2021-11-01T11:18:32.952Z"
   },
   {
    "duration": 7,
    "start_time": "2021-11-01T11:18:32.967Z"
   },
   {
    "duration": 17,
    "start_time": "2021-11-01T11:18:32.975Z"
   },
   {
    "duration": 9,
    "start_time": "2021-11-01T11:18:32.994Z"
   },
   {
    "duration": 24,
    "start_time": "2021-11-01T11:18:33.004Z"
   },
   {
    "duration": 20,
    "start_time": "2021-11-01T11:18:33.030Z"
   },
   {
    "duration": 6,
    "start_time": "2021-11-01T11:18:33.052Z"
   },
   {
    "duration": 21,
    "start_time": "2021-11-01T11:18:33.059Z"
   },
   {
    "duration": 18,
    "start_time": "2021-11-01T11:18:33.081Z"
   },
   {
    "duration": 16,
    "start_time": "2021-11-01T11:18:33.101Z"
   },
   {
    "duration": 12,
    "start_time": "2021-11-01T11:18:33.119Z"
   },
   {
    "duration": 14,
    "start_time": "2021-11-01T11:18:33.133Z"
   },
   {
    "duration": 6,
    "start_time": "2021-11-01T11:18:33.149Z"
   },
   {
    "duration": 6,
    "start_time": "2021-11-01T11:18:33.156Z"
   },
   {
    "duration": 5,
    "start_time": "2021-11-01T11:18:33.163Z"
   },
   {
    "duration": 648,
    "start_time": "2021-11-01T11:18:33.169Z"
   },
   {
    "duration": 3,
    "start_time": "2021-11-01T11:18:33.819Z"
   },
   {
    "duration": 6,
    "start_time": "2021-11-01T11:18:33.824Z"
   },
   {
    "duration": 7187,
    "start_time": "2021-11-01T11:18:33.832Z"
   },
   {
    "duration": 6,
    "start_time": "2021-11-01T11:18:50.942Z"
   },
   {
    "duration": 5,
    "start_time": "2021-11-01T11:19:17.886Z"
   },
   {
    "duration": 258,
    "start_time": "2021-11-01T11:24:27.398Z"
   },
   {
    "duration": 171,
    "start_time": "2021-11-01T11:25:07.127Z"
   },
   {
    "duration": 639,
    "start_time": "2021-11-01T11:25:15.785Z"
   },
   {
    "duration": 11,
    "start_time": "2021-11-01T11:25:16.426Z"
   },
   {
    "duration": 8,
    "start_time": "2021-11-01T11:25:16.440Z"
   },
   {
    "duration": 9,
    "start_time": "2021-11-01T11:25:16.450Z"
   },
   {
    "duration": 4,
    "start_time": "2021-11-01T11:25:16.461Z"
   },
   {
    "duration": 416,
    "start_time": "2021-11-01T11:25:16.466Z"
   },
   {
    "duration": 16,
    "start_time": "2021-11-01T11:25:16.885Z"
   },
   {
    "duration": 11,
    "start_time": "2021-11-01T11:25:16.904Z"
   },
   {
    "duration": 5,
    "start_time": "2021-11-01T11:25:16.919Z"
   },
   {
    "duration": 5,
    "start_time": "2021-11-01T11:25:16.927Z"
   },
   {
    "duration": 9,
    "start_time": "2021-11-01T11:25:16.934Z"
   },
   {
    "duration": 6,
    "start_time": "2021-11-01T11:25:16.945Z"
   },
   {
    "duration": 40,
    "start_time": "2021-11-01T11:25:16.953Z"
   },
   {
    "duration": 27,
    "start_time": "2021-11-01T11:25:16.994Z"
   },
   {
    "duration": 9,
    "start_time": "2021-11-01T11:25:17.023Z"
   },
   {
    "duration": 6,
    "start_time": "2021-11-01T11:25:17.033Z"
   },
   {
    "duration": 13,
    "start_time": "2021-11-01T11:25:17.041Z"
   },
   {
    "duration": 8,
    "start_time": "2021-11-01T11:25:17.056Z"
   },
   {
    "duration": 2,
    "start_time": "2021-11-01T11:25:17.066Z"
   },
   {
    "duration": 224,
    "start_time": "2021-11-01T11:25:17.092Z"
   },
   {
    "duration": 7,
    "start_time": "2021-11-01T11:25:17.318Z"
   },
   {
    "duration": 10,
    "start_time": "2021-11-01T11:25:17.327Z"
   },
   {
    "duration": 5,
    "start_time": "2021-11-01T11:25:17.339Z"
   },
   {
    "duration": 6,
    "start_time": "2021-11-01T11:25:17.346Z"
   },
   {
    "duration": 7,
    "start_time": "2021-11-01T11:25:17.354Z"
   },
   {
    "duration": 29,
    "start_time": "2021-11-01T11:25:17.363Z"
   },
   {
    "duration": 15,
    "start_time": "2021-11-01T11:25:17.396Z"
   },
   {
    "duration": 11,
    "start_time": "2021-11-01T11:25:17.412Z"
   },
   {
    "duration": 16,
    "start_time": "2021-11-01T11:25:17.425Z"
   },
   {
    "duration": 7,
    "start_time": "2021-11-01T11:25:17.443Z"
   },
   {
    "duration": 6,
    "start_time": "2021-11-01T11:25:17.452Z"
   },
   {
    "duration": 6,
    "start_time": "2021-11-01T11:25:17.460Z"
   },
   {
    "duration": 5,
    "start_time": "2021-11-01T11:25:17.493Z"
   },
   {
    "duration": 10,
    "start_time": "2021-11-01T11:25:17.500Z"
   },
   {
    "duration": 6,
    "start_time": "2021-11-01T11:25:17.512Z"
   },
   {
    "duration": 234,
    "start_time": "2021-11-01T11:25:17.520Z"
   },
   {
    "duration": 154,
    "start_time": "2021-11-01T11:25:17.602Z"
   },
   {
    "duration": 154,
    "start_time": "2021-11-01T11:25:17.604Z"
   },
   {
    "duration": 153,
    "start_time": "2021-11-01T11:25:17.606Z"
   },
   {
    "duration": 153,
    "start_time": "2021-11-01T11:25:17.608Z"
   },
   {
    "duration": 153,
    "start_time": "2021-11-01T11:25:17.609Z"
   },
   {
    "duration": 153,
    "start_time": "2021-11-01T11:25:17.611Z"
   },
   {
    "duration": 153,
    "start_time": "2021-11-01T11:25:17.613Z"
   },
   {
    "duration": 187,
    "start_time": "2021-11-01T11:25:36.251Z"
   },
   {
    "duration": 19,
    "start_time": "2021-11-01T11:26:49.988Z"
   },
   {
    "duration": 15,
    "start_time": "2021-11-01T11:27:01.229Z"
   },
   {
    "duration": 16,
    "start_time": "2021-11-01T11:27:09.868Z"
   },
   {
    "duration": 16,
    "start_time": "2021-11-01T11:27:18.629Z"
   },
   {
    "duration": 18,
    "start_time": "2021-11-01T11:27:32.453Z"
   },
   {
    "duration": 17,
    "start_time": "2021-11-01T11:27:41.974Z"
   },
   {
    "duration": 20,
    "start_time": "2021-11-01T11:28:00.527Z"
   },
   {
    "duration": 17,
    "start_time": "2021-11-01T11:28:09.039Z"
   },
   {
    "duration": 15,
    "start_time": "2021-11-01T11:28:12.944Z"
   },
   {
    "duration": 29,
    "start_time": "2021-11-01T11:31:44.140Z"
   },
   {
    "duration": 17,
    "start_time": "2021-11-01T11:32:01.444Z"
   },
   {
    "duration": 17,
    "start_time": "2021-11-01T11:32:11.019Z"
   },
   {
    "duration": 16,
    "start_time": "2021-11-01T11:32:13.628Z"
   },
   {
    "duration": 5,
    "start_time": "2021-11-01T11:36:59.250Z"
   },
   {
    "duration": 2,
    "start_time": "2021-11-01T11:37:01.859Z"
   },
   {
    "duration": 634,
    "start_time": "2021-11-01T11:38:34.924Z"
   },
   {
    "duration": 3,
    "start_time": "2021-11-01T11:38:43.667Z"
   },
   {
    "duration": 4,
    "start_time": "2021-11-01T11:44:25.987Z"
   },
   {
    "duration": 6954,
    "start_time": "2021-11-01T11:44:28.723Z"
   },
   {
    "duration": 5,
    "start_time": "2021-11-01T11:44:37.771Z"
   },
   {
    "duration": 12,
    "start_time": "2021-11-01T12:02:48.106Z"
   },
   {
    "duration": 58,
    "start_time": "2021-11-01T12:33:10.608Z"
   },
   {
    "duration": 3,
    "start_time": "2021-11-01T12:33:16.712Z"
   },
   {
    "duration": 11,
    "start_time": "2021-11-01T12:34:09.092Z"
   },
   {
    "duration": 179,
    "start_time": "2021-11-01T12:34:27.682Z"
   },
   {
    "duration": 4,
    "start_time": "2021-11-01T12:34:47.122Z"
   },
   {
    "duration": 19,
    "start_time": "2021-11-01T12:34:53.122Z"
   },
   {
    "duration": 6,
    "start_time": "2021-11-01T12:35:39.123Z"
   },
   {
    "duration": 172,
    "start_time": "2021-11-01T12:38:54.008Z"
   },
   {
    "duration": 317,
    "start_time": "2021-11-01T12:39:00.481Z"
   },
   {
    "duration": 9,
    "start_time": "2021-11-01T12:39:26.104Z"
   },
   {
    "duration": 5,
    "start_time": "2021-11-01T12:39:27.592Z"
   },
   {
    "duration": 170,
    "start_time": "2021-11-01T12:39:29.352Z"
   },
   {
    "duration": 5,
    "start_time": "2021-11-01T12:39:56.427Z"
   },
   {
    "duration": 3,
    "start_time": "2021-11-01T12:58:12.096Z"
   },
   {
    "duration": 4,
    "start_time": "2021-11-01T12:58:41.169Z"
   },
   {
    "duration": 13,
    "start_time": "2021-11-01T12:59:01.129Z"
   },
   {
    "duration": 4,
    "start_time": "2021-11-01T12:59:17.026Z"
   },
   {
    "duration": 5,
    "start_time": "2021-11-01T12:59:28.626Z"
   },
   {
    "duration": 63,
    "start_time": "2021-11-01T13:05:35.197Z"
   },
   {
    "duration": 30,
    "start_time": "2021-11-01T13:05:35.261Z"
   },
   {
    "duration": 9,
    "start_time": "2021-11-01T13:05:35.293Z"
   },
   {
    "duration": 13,
    "start_time": "2021-11-01T13:05:35.303Z"
   },
   {
    "duration": 5,
    "start_time": "2021-11-01T13:05:35.317Z"
   },
   {
    "duration": 386,
    "start_time": "2021-11-01T13:05:35.324Z"
   },
   {
    "duration": 10,
    "start_time": "2021-11-01T13:05:35.712Z"
   },
   {
    "duration": 18,
    "start_time": "2021-11-01T13:05:35.723Z"
   },
   {
    "duration": 9,
    "start_time": "2021-11-01T13:05:35.744Z"
   },
   {
    "duration": 21,
    "start_time": "2021-11-01T13:05:35.755Z"
   },
   {
    "duration": 24,
    "start_time": "2021-11-01T13:05:35.777Z"
   },
   {
    "duration": 21,
    "start_time": "2021-11-01T13:05:35.803Z"
   },
   {
    "duration": 19,
    "start_time": "2021-11-01T13:05:35.826Z"
   },
   {
    "duration": 35,
    "start_time": "2021-11-01T13:05:35.846Z"
   },
   {
    "duration": 33,
    "start_time": "2021-11-01T13:05:35.883Z"
   },
   {
    "duration": 5,
    "start_time": "2021-11-01T13:05:35.918Z"
   },
   {
    "duration": 16,
    "start_time": "2021-11-01T13:05:35.924Z"
   },
   {
    "duration": 14,
    "start_time": "2021-11-01T13:05:35.942Z"
   },
   {
    "duration": 18,
    "start_time": "2021-11-01T13:05:35.958Z"
   },
   {
    "duration": 214,
    "start_time": "2021-11-01T13:05:35.977Z"
   },
   {
    "duration": 6,
    "start_time": "2021-11-01T13:05:36.193Z"
   },
   {
    "duration": 20,
    "start_time": "2021-11-01T13:05:36.201Z"
   },
   {
    "duration": 17,
    "start_time": "2021-11-01T13:05:36.223Z"
   },
   {
    "duration": 16,
    "start_time": "2021-11-01T13:05:36.242Z"
   },
   {
    "duration": 11,
    "start_time": "2021-11-01T13:05:36.260Z"
   },
   {
    "duration": 12,
    "start_time": "2021-11-01T13:05:36.272Z"
   },
   {
    "duration": 16,
    "start_time": "2021-11-01T13:05:36.287Z"
   },
   {
    "duration": 14,
    "start_time": "2021-11-01T13:05:36.305Z"
   },
   {
    "duration": 5,
    "start_time": "2021-11-01T13:05:36.321Z"
   },
   {
    "duration": 9,
    "start_time": "2021-11-01T13:05:36.328Z"
   },
   {
    "duration": 7,
    "start_time": "2021-11-01T13:05:36.338Z"
   },
   {
    "duration": 12,
    "start_time": "2021-11-01T13:05:36.347Z"
   },
   {
    "duration": 17,
    "start_time": "2021-11-01T13:05:36.360Z"
   },
   {
    "duration": 18,
    "start_time": "2021-11-01T13:05:36.378Z"
   },
   {
    "duration": 17,
    "start_time": "2021-11-01T13:05:36.398Z"
   },
   {
    "duration": 20,
    "start_time": "2021-11-01T13:05:36.416Z"
   },
   {
    "duration": 15,
    "start_time": "2021-11-01T13:05:36.437Z"
   },
   {
    "duration": 19,
    "start_time": "2021-11-01T13:05:36.453Z"
   },
   {
    "duration": 5,
    "start_time": "2021-11-01T13:05:36.474Z"
   },
   {
    "duration": 32,
    "start_time": "2021-11-01T13:05:36.480Z"
   },
   {
    "duration": 623,
    "start_time": "2021-11-01T13:05:36.513Z"
   },
   {
    "duration": 2,
    "start_time": "2021-11-01T13:05:37.138Z"
   },
   {
    "duration": 8,
    "start_time": "2021-11-01T13:05:37.142Z"
   },
   {
    "duration": 5917,
    "start_time": "2021-11-01T13:05:37.151Z"
   },
   {
    "duration": 5,
    "start_time": "2021-11-01T13:05:43.070Z"
   },
   {
    "duration": 26,
    "start_time": "2021-11-01T13:05:43.076Z"
   },
   {
    "duration": 10,
    "start_time": "2021-11-01T13:05:43.104Z"
   },
   {
    "duration": 20,
    "start_time": "2021-11-01T13:05:43.115Z"
   },
   {
    "duration": 9,
    "start_time": "2021-11-01T13:05:43.136Z"
   },
   {
    "duration": 9,
    "start_time": "2021-11-01T13:05:43.147Z"
   },
   {
    "duration": 16,
    "start_time": "2021-11-01T13:05:43.158Z"
   },
   {
    "duration": 11,
    "start_time": "2021-11-01T13:05:43.176Z"
   },
   {
    "duration": 3,
    "start_time": "2021-11-01T13:07:47.901Z"
   },
   {
    "duration": 844,
    "start_time": "2021-11-01T13:08:29.958Z"
   },
   {
    "duration": 3,
    "start_time": "2021-11-01T13:08:51.901Z"
   },
   {
    "duration": 10,
    "start_time": "2021-11-01T13:08:52.454Z"
   },
   {
    "duration": 5,
    "start_time": "2021-11-01T13:09:04.903Z"
   },
   {
    "duration": 5,
    "start_time": "2021-11-01T13:11:12.489Z"
   },
   {
    "duration": 13,
    "start_time": "2021-11-01T13:11:28.858Z"
   },
   {
    "duration": 181,
    "start_time": "2021-11-01T13:12:30.570Z"
   },
   {
    "duration": 19,
    "start_time": "2021-11-01T13:12:34.763Z"
   },
   {
    "duration": 15,
    "start_time": "2021-11-01T13:14:16.205Z"
   },
   {
    "duration": 11,
    "start_time": "2021-11-01T13:35:21.208Z"
   },
   {
    "duration": 199,
    "start_time": "2021-11-01T13:41:49.304Z"
   },
   {
    "duration": 5,
    "start_time": "2021-11-01T13:42:00.695Z"
   },
   {
    "duration": 7,
    "start_time": "2021-11-01T13:42:12.199Z"
   },
   {
    "duration": 7,
    "start_time": "2021-11-01T13:42:44.848Z"
   },
   {
    "duration": 4,
    "start_time": "2021-11-01T13:43:49.089Z"
   },
   {
    "duration": 19,
    "start_time": "2021-11-01T13:43:54.090Z"
   },
   {
    "duration": 14,
    "start_time": "2021-11-01T13:44:08.279Z"
   },
   {
    "duration": 17,
    "start_time": "2021-11-01T13:47:11.126Z"
   },
   {
    "duration": 3,
    "start_time": "2021-11-01T13:49:28.592Z"
   },
   {
    "duration": 186,
    "start_time": "2021-11-01T13:51:52.012Z"
   },
   {
    "duration": 5,
    "start_time": "2021-11-01T13:52:46.225Z"
   },
   {
    "duration": 5073,
    "start_time": "2021-11-01T13:53:00.574Z"
   },
   {
    "duration": 18,
    "start_time": "2021-11-01T13:54:23.631Z"
   },
   {
    "duration": 7,
    "start_time": "2021-11-01T13:54:36.399Z"
   },
   {
    "duration": 6,
    "start_time": "2021-11-01T13:54:47.439Z"
   },
   {
    "duration": 606,
    "start_time": "2021-11-01T13:56:36.309Z"
   },
   {
    "duration": 10,
    "start_time": "2021-11-01T13:56:36.917Z"
   },
   {
    "duration": 8,
    "start_time": "2021-11-01T13:56:36.929Z"
   },
   {
    "duration": 7,
    "start_time": "2021-11-01T13:56:36.938Z"
   },
   {
    "duration": 5,
    "start_time": "2021-11-01T13:56:36.946Z"
   },
   {
    "duration": 390,
    "start_time": "2021-11-01T13:56:36.953Z"
   },
   {
    "duration": 10,
    "start_time": "2021-11-01T13:56:37.344Z"
   },
   {
    "duration": 8,
    "start_time": "2021-11-01T13:56:37.356Z"
   },
   {
    "duration": 5,
    "start_time": "2021-11-01T13:56:37.366Z"
   },
   {
    "duration": 3,
    "start_time": "2021-11-01T13:56:37.392Z"
   },
   {
    "duration": 10,
    "start_time": "2021-11-01T13:56:37.397Z"
   },
   {
    "duration": 5,
    "start_time": "2021-11-01T13:56:37.409Z"
   },
   {
    "duration": 4,
    "start_time": "2021-11-01T13:56:37.416Z"
   },
   {
    "duration": 15,
    "start_time": "2021-11-01T13:56:37.421Z"
   },
   {
    "duration": 6,
    "start_time": "2021-11-01T13:56:37.438Z"
   },
   {
    "duration": 6,
    "start_time": "2021-11-01T13:56:37.446Z"
   },
   {
    "duration": 41,
    "start_time": "2021-11-01T13:56:37.453Z"
   },
   {
    "duration": 8,
    "start_time": "2021-11-01T13:56:37.496Z"
   },
   {
    "duration": 3,
    "start_time": "2021-11-01T13:56:37.506Z"
   },
   {
    "duration": 229,
    "start_time": "2021-11-01T13:56:37.511Z"
   },
   {
    "duration": 7,
    "start_time": "2021-11-01T13:56:37.742Z"
   },
   {
    "duration": 7,
    "start_time": "2021-11-01T13:56:37.751Z"
   },
   {
    "duration": 3,
    "start_time": "2021-11-01T13:56:37.762Z"
   },
   {
    "duration": 26,
    "start_time": "2021-11-01T13:56:37.767Z"
   },
   {
    "duration": 7,
    "start_time": "2021-11-01T13:56:37.794Z"
   },
   {
    "duration": 2,
    "start_time": "2021-11-01T13:56:37.803Z"
   },
   {
    "duration": 13,
    "start_time": "2021-11-01T13:56:37.807Z"
   },
   {
    "duration": 11,
    "start_time": "2021-11-01T13:56:37.821Z"
   },
   {
    "duration": 4,
    "start_time": "2021-11-01T13:56:37.834Z"
   },
   {
    "duration": 8,
    "start_time": "2021-11-01T13:56:37.840Z"
   },
   {
    "duration": 8,
    "start_time": "2021-11-01T13:56:37.849Z"
   },
   {
    "duration": 34,
    "start_time": "2021-11-01T13:56:37.858Z"
   },
   {
    "duration": 12,
    "start_time": "2021-11-01T13:56:37.894Z"
   },
   {
    "duration": 4,
    "start_time": "2021-11-01T13:56:37.908Z"
   },
   {
    "duration": 10,
    "start_time": "2021-11-01T13:56:37.914Z"
   },
   {
    "duration": 7,
    "start_time": "2021-11-01T13:56:37.925Z"
   },
   {
    "duration": 18,
    "start_time": "2021-11-01T13:56:37.933Z"
   },
   {
    "duration": 47,
    "start_time": "2021-11-01T13:56:37.952Z"
   },
   {
    "duration": 13,
    "start_time": "2021-11-01T13:56:38.001Z"
   },
   {
    "duration": 4,
    "start_time": "2021-11-01T13:56:38.015Z"
   },
   {
    "duration": 4,
    "start_time": "2021-11-01T13:56:38.021Z"
   },
   {
    "duration": 650,
    "start_time": "2021-11-01T13:56:38.027Z"
   },
   {
    "duration": 2,
    "start_time": "2021-11-01T13:56:38.679Z"
   },
   {
    "duration": 8,
    "start_time": "2021-11-01T13:56:38.683Z"
   },
   {
    "duration": 5916,
    "start_time": "2021-11-01T13:56:38.693Z"
   },
   {
    "duration": 8,
    "start_time": "2021-11-01T13:56:44.611Z"
   },
   {
    "duration": 16,
    "start_time": "2021-11-01T13:56:44.620Z"
   },
   {
    "duration": 16,
    "start_time": "2021-11-01T13:56:44.638Z"
   },
   {
    "duration": 12,
    "start_time": "2021-11-01T13:56:44.655Z"
   },
   {
    "duration": 6,
    "start_time": "2021-11-01T13:56:44.669Z"
   },
   {
    "duration": 16,
    "start_time": "2021-11-01T13:56:44.677Z"
   },
   {
    "duration": 16,
    "start_time": "2021-11-01T13:56:44.695Z"
   },
   {
    "duration": 7,
    "start_time": "2021-11-01T13:56:44.712Z"
   },
   {
    "duration": 5,
    "start_time": "2021-11-01T13:56:44.721Z"
   },
   {
    "duration": 12,
    "start_time": "2021-11-01T13:56:44.727Z"
   },
   {
    "duration": 5,
    "start_time": "2021-11-01T13:56:44.740Z"
   },
   {
    "duration": 45,
    "start_time": "2021-11-01T13:56:44.747Z"
   },
   {
    "duration": 7,
    "start_time": "2021-11-01T13:56:44.794Z"
   },
   {
    "duration": 7,
    "start_time": "2021-11-01T13:56:44.803Z"
   },
   {
    "duration": 3,
    "start_time": "2021-11-01T13:58:57.827Z"
   },
   {
    "duration": 5,
    "start_time": "2021-11-01T13:59:03.996Z"
   },
   {
    "duration": 5,
    "start_time": "2021-11-01T14:05:03.516Z"
   },
   {
    "duration": 6,
    "start_time": "2021-11-01T14:05:19.572Z"
   },
   {
    "duration": 63,
    "start_time": "2021-11-01T14:05:40.202Z"
   },
   {
    "duration": 25,
    "start_time": "2021-11-01T14:05:40.267Z"
   },
   {
    "duration": 9,
    "start_time": "2021-11-01T14:05:40.294Z"
   },
   {
    "duration": 4,
    "start_time": "2021-11-01T14:05:40.305Z"
   },
   {
    "duration": 6,
    "start_time": "2021-11-01T14:05:40.311Z"
   },
   {
    "duration": 395,
    "start_time": "2021-11-01T14:05:40.318Z"
   },
   {
    "duration": 10,
    "start_time": "2021-11-01T14:05:40.714Z"
   },
   {
    "duration": 9,
    "start_time": "2021-11-01T14:05:40.726Z"
   },
   {
    "duration": 11,
    "start_time": "2021-11-01T14:05:40.736Z"
   },
   {
    "duration": 6,
    "start_time": "2021-11-01T14:05:40.748Z"
   },
   {
    "duration": 8,
    "start_time": "2021-11-01T14:05:40.755Z"
   },
   {
    "duration": 5,
    "start_time": "2021-11-01T14:05:40.765Z"
   },
   {
    "duration": 20,
    "start_time": "2021-11-01T14:05:40.771Z"
   },
   {
    "duration": 17,
    "start_time": "2021-11-01T14:05:40.793Z"
   },
   {
    "duration": 8,
    "start_time": "2021-11-01T14:05:40.811Z"
   },
   {
    "duration": 7,
    "start_time": "2021-11-01T14:05:40.820Z"
   },
   {
    "duration": 9,
    "start_time": "2021-11-01T14:05:40.829Z"
   },
   {
    "duration": 7,
    "start_time": "2021-11-01T14:05:40.840Z"
   },
   {
    "duration": 3,
    "start_time": "2021-11-01T14:05:40.848Z"
   },
   {
    "duration": 225,
    "start_time": "2021-11-01T14:05:40.852Z"
   },
   {
    "duration": 6,
    "start_time": "2021-11-01T14:05:41.078Z"
   },
   {
    "duration": 4,
    "start_time": "2021-11-01T14:05:41.091Z"
   },
   {
    "duration": 9,
    "start_time": "2021-11-01T14:05:41.099Z"
   },
   {
    "duration": 8,
    "start_time": "2021-11-01T14:05:41.110Z"
   },
   {
    "duration": 13,
    "start_time": "2021-11-01T14:05:41.120Z"
   },
   {
    "duration": 6,
    "start_time": "2021-11-01T14:05:41.135Z"
   },
   {
    "duration": 11,
    "start_time": "2021-11-01T14:05:41.142Z"
   },
   {
    "duration": 8,
    "start_time": "2021-11-01T14:05:41.154Z"
   },
   {
    "duration": 5,
    "start_time": "2021-11-01T14:05:41.164Z"
   },
   {
    "duration": 9,
    "start_time": "2021-11-01T14:05:41.170Z"
   },
   {
    "duration": 3,
    "start_time": "2021-11-01T14:05:41.191Z"
   },
   {
    "duration": 5,
    "start_time": "2021-11-01T14:05:41.196Z"
   },
   {
    "duration": 12,
    "start_time": "2021-11-01T14:05:41.202Z"
   },
   {
    "duration": 3,
    "start_time": "2021-11-01T14:05:41.215Z"
   },
   {
    "duration": 8,
    "start_time": "2021-11-01T14:05:41.219Z"
   },
   {
    "duration": 4,
    "start_time": "2021-11-01T14:05:41.229Z"
   },
   {
    "duration": 14,
    "start_time": "2021-11-01T14:05:41.234Z"
   },
   {
    "duration": 51,
    "start_time": "2021-11-01T14:05:41.249Z"
   },
   {
    "duration": 13,
    "start_time": "2021-11-01T14:05:41.302Z"
   },
   {
    "duration": 2,
    "start_time": "2021-11-01T14:05:41.316Z"
   },
   {
    "duration": 23,
    "start_time": "2021-11-01T14:05:41.320Z"
   },
   {
    "duration": 645,
    "start_time": "2021-11-01T14:05:41.345Z"
   },
   {
    "duration": 2,
    "start_time": "2021-11-01T14:05:41.992Z"
   },
   {
    "duration": 6,
    "start_time": "2021-11-01T14:05:41.996Z"
   },
   {
    "duration": 5819,
    "start_time": "2021-11-01T14:05:42.004Z"
   },
   {
    "duration": 6,
    "start_time": "2021-11-01T14:05:47.825Z"
   },
   {
    "duration": 12,
    "start_time": "2021-11-01T14:05:47.833Z"
   },
   {
    "duration": 11,
    "start_time": "2021-11-01T14:05:47.847Z"
   },
   {
    "duration": 29,
    "start_time": "2021-11-01T14:05:47.859Z"
   },
   {
    "duration": 13,
    "start_time": "2021-11-01T14:05:47.890Z"
   },
   {
    "duration": 14,
    "start_time": "2021-11-01T14:05:47.905Z"
   },
   {
    "duration": 23,
    "start_time": "2021-11-01T14:05:47.920Z"
   },
   {
    "duration": 8,
    "start_time": "2021-11-01T14:05:47.945Z"
   },
   {
    "duration": 10,
    "start_time": "2021-11-01T14:05:47.955Z"
   },
   {
    "duration": 18,
    "start_time": "2021-11-01T14:05:47.967Z"
   },
   {
    "duration": 10,
    "start_time": "2021-11-01T14:05:47.986Z"
   },
   {
    "duration": 28,
    "start_time": "2021-11-01T14:05:47.997Z"
   },
   {
    "duration": 7,
    "start_time": "2021-11-01T14:05:48.027Z"
   },
   {
    "duration": 14,
    "start_time": "2021-11-01T14:05:48.035Z"
   },
   {
    "duration": 4,
    "start_time": "2021-11-01T14:05:48.051Z"
   },
   {
    "duration": 10,
    "start_time": "2021-11-01T14:05:48.057Z"
   },
   {
    "duration": 12,
    "start_time": "2021-11-01T14:05:48.069Z"
   },
   {
    "duration": 9,
    "start_time": "2021-11-01T14:05:48.082Z"
   },
   {
    "duration": 6,
    "start_time": "2021-11-01T14:05:48.092Z"
   },
   {
    "duration": 6,
    "start_time": "2021-11-01T14:06:34.918Z"
   },
   {
    "duration": 6,
    "start_time": "2021-11-01T14:06:41.414Z"
   },
   {
    "duration": 8,
    "start_time": "2021-11-01T14:08:30.169Z"
   },
   {
    "duration": 61,
    "start_time": "2021-11-01T14:11:30.512Z"
   },
   {
    "duration": 10,
    "start_time": "2021-11-01T14:11:30.574Z"
   },
   {
    "duration": 17,
    "start_time": "2021-11-01T14:11:30.586Z"
   },
   {
    "duration": 19,
    "start_time": "2021-11-01T14:11:30.605Z"
   },
   {
    "duration": 13,
    "start_time": "2021-11-01T14:11:30.625Z"
   },
   {
    "duration": 377,
    "start_time": "2021-11-01T14:11:30.639Z"
   },
   {
    "duration": 10,
    "start_time": "2021-11-01T14:11:31.017Z"
   },
   {
    "duration": 18,
    "start_time": "2021-11-01T14:11:31.028Z"
   },
   {
    "duration": 15,
    "start_time": "2021-11-01T14:11:31.048Z"
   },
   {
    "duration": 17,
    "start_time": "2021-11-01T14:11:31.065Z"
   },
   {
    "duration": 20,
    "start_time": "2021-11-01T14:11:31.083Z"
   },
   {
    "duration": 24,
    "start_time": "2021-11-01T14:11:31.105Z"
   },
   {
    "duration": 6,
    "start_time": "2021-11-01T14:11:31.130Z"
   },
   {
    "duration": 23,
    "start_time": "2021-11-01T14:11:31.138Z"
   },
   {
    "duration": 15,
    "start_time": "2021-11-01T14:11:31.162Z"
   },
   {
    "duration": 14,
    "start_time": "2021-11-01T14:11:31.178Z"
   },
   {
    "duration": 18,
    "start_time": "2021-11-01T14:11:31.194Z"
   },
   {
    "duration": 14,
    "start_time": "2021-11-01T14:11:31.214Z"
   },
   {
    "duration": 7,
    "start_time": "2021-11-01T14:11:31.230Z"
   },
   {
    "duration": 217,
    "start_time": "2021-11-01T14:11:31.238Z"
   },
   {
    "duration": 6,
    "start_time": "2021-11-01T14:11:31.457Z"
   },
   {
    "duration": 16,
    "start_time": "2021-11-01T14:11:31.464Z"
   },
   {
    "duration": 21,
    "start_time": "2021-11-01T14:11:31.481Z"
   },
   {
    "duration": 11,
    "start_time": "2021-11-01T14:11:31.503Z"
   },
   {
    "duration": 10,
    "start_time": "2021-11-01T14:11:31.516Z"
   },
   {
    "duration": 10,
    "start_time": "2021-11-01T14:11:31.527Z"
   },
   {
    "duration": 12,
    "start_time": "2021-11-01T14:11:31.540Z"
   },
   {
    "duration": 14,
    "start_time": "2021-11-01T14:11:31.554Z"
   },
   {
    "duration": 12,
    "start_time": "2021-11-01T14:11:31.570Z"
   },
   {
    "duration": 10,
    "start_time": "2021-11-01T14:11:31.583Z"
   },
   {
    "duration": 12,
    "start_time": "2021-11-01T14:11:31.594Z"
   },
   {
    "duration": 8,
    "start_time": "2021-11-01T14:11:31.607Z"
   },
   {
    "duration": 18,
    "start_time": "2021-11-01T14:11:31.616Z"
   },
   {
    "duration": 9,
    "start_time": "2021-11-01T14:11:31.635Z"
   },
   {
    "duration": 16,
    "start_time": "2021-11-01T14:11:31.645Z"
   },
   {
    "duration": 9,
    "start_time": "2021-11-01T14:11:31.662Z"
   },
   {
    "duration": 20,
    "start_time": "2021-11-01T14:11:31.672Z"
   },
   {
    "duration": 15,
    "start_time": "2021-11-01T14:11:31.694Z"
   },
   {
    "duration": 14,
    "start_time": "2021-11-01T14:11:31.710Z"
   },
   {
    "duration": 3,
    "start_time": "2021-11-01T14:11:31.725Z"
   },
   {
    "duration": 32,
    "start_time": "2021-11-01T14:11:31.729Z"
   },
   {
    "duration": 671,
    "start_time": "2021-11-01T14:11:31.762Z"
   },
   {
    "duration": 2,
    "start_time": "2021-11-01T14:11:32.435Z"
   },
   {
    "duration": 14,
    "start_time": "2021-11-01T14:11:32.439Z"
   },
   {
    "duration": 5708,
    "start_time": "2021-11-01T14:11:32.455Z"
   },
   {
    "duration": 5,
    "start_time": "2021-11-01T14:11:38.165Z"
   },
   {
    "duration": 27,
    "start_time": "2021-11-01T14:11:38.171Z"
   },
   {
    "duration": 9,
    "start_time": "2021-11-01T14:11:38.200Z"
   },
   {
    "duration": 11,
    "start_time": "2021-11-01T14:11:38.211Z"
   },
   {
    "duration": 7,
    "start_time": "2021-11-01T14:11:38.223Z"
   },
   {
    "duration": 5,
    "start_time": "2021-11-01T14:11:38.231Z"
   },
   {
    "duration": 15,
    "start_time": "2021-11-01T14:11:38.238Z"
   },
   {
    "duration": 6,
    "start_time": "2021-11-01T14:11:38.254Z"
   },
   {
    "duration": 4,
    "start_time": "2021-11-01T14:11:38.261Z"
   },
   {
    "duration": 26,
    "start_time": "2021-11-01T14:11:38.266Z"
   },
   {
    "duration": 3,
    "start_time": "2021-11-01T14:11:38.294Z"
   },
   {
    "duration": 25,
    "start_time": "2021-11-01T14:11:38.299Z"
   },
   {
    "duration": 5,
    "start_time": "2021-11-01T14:11:38.326Z"
   },
   {
    "duration": 6,
    "start_time": "2021-11-01T14:11:38.333Z"
   },
   {
    "duration": 3,
    "start_time": "2021-11-01T14:11:38.341Z"
   },
   {
    "duration": 10,
    "start_time": "2021-11-01T14:11:38.346Z"
   },
   {
    "duration": 8,
    "start_time": "2021-11-01T14:11:38.357Z"
   },
   {
    "duration": 27,
    "start_time": "2021-11-01T14:11:38.367Z"
   },
   {
    "duration": 4861,
    "start_time": "2021-11-01T14:11:38.396Z"
   },
   {
    "duration": 353,
    "start_time": "2021-11-01T14:11:42.907Z"
   },
   {
    "duration": 4,
    "start_time": "2021-11-01T14:12:03.773Z"
   },
   {
    "duration": 8,
    "start_time": "2021-11-01T14:12:06.469Z"
   },
   {
    "duration": 3,
    "start_time": "2021-11-01T14:21:19.730Z"
   },
   {
    "duration": 4,
    "start_time": "2021-11-01T14:21:35.962Z"
   },
   {
    "duration": 5,
    "start_time": "2021-11-01T14:22:20.042Z"
   },
   {
    "duration": 5,
    "start_time": "2021-11-01T14:22:34.323Z"
   },
   {
    "duration": 5,
    "start_time": "2021-11-01T14:22:45.379Z"
   },
   {
    "duration": 6,
    "start_time": "2021-11-01T14:22:58.659Z"
   },
   {
    "duration": 4,
    "start_time": "2021-11-01T14:23:22.339Z"
   },
   {
    "duration": 8,
    "start_time": "2021-11-01T14:23:41.572Z"
   },
   {
    "duration": 59,
    "start_time": "2021-11-01T14:24:20.357Z"
   },
   {
    "duration": 11,
    "start_time": "2021-11-01T14:24:20.418Z"
   },
   {
    "duration": 8,
    "start_time": "2021-11-01T14:24:20.431Z"
   },
   {
    "duration": 6,
    "start_time": "2021-11-01T14:24:20.440Z"
   },
   {
    "duration": 6,
    "start_time": "2021-11-01T14:24:20.448Z"
   },
   {
    "duration": 435,
    "start_time": "2021-11-01T14:24:20.456Z"
   },
   {
    "duration": 9,
    "start_time": "2021-11-01T14:24:20.893Z"
   },
   {
    "duration": 8,
    "start_time": "2021-11-01T14:24:20.905Z"
   },
   {
    "duration": 10,
    "start_time": "2021-11-01T14:24:20.915Z"
   },
   {
    "duration": 11,
    "start_time": "2021-11-01T14:24:20.927Z"
   },
   {
    "duration": 8,
    "start_time": "2021-11-01T14:24:20.939Z"
   },
   {
    "duration": 6,
    "start_time": "2021-11-01T14:24:20.948Z"
   },
   {
    "duration": 4,
    "start_time": "2021-11-01T14:24:20.955Z"
   },
   {
    "duration": 37,
    "start_time": "2021-11-01T14:24:20.960Z"
   },
   {
    "duration": 7,
    "start_time": "2021-11-01T14:24:20.998Z"
   },
   {
    "duration": 6,
    "start_time": "2021-11-01T14:24:21.006Z"
   },
   {
    "duration": 12,
    "start_time": "2021-11-01T14:24:21.014Z"
   },
   {
    "duration": 7,
    "start_time": "2021-11-01T14:24:21.028Z"
   },
   {
    "duration": 3,
    "start_time": "2021-11-01T14:24:21.036Z"
   },
   {
    "duration": 239,
    "start_time": "2021-11-01T14:24:21.041Z"
   },
   {
    "duration": 11,
    "start_time": "2021-11-01T14:24:21.282Z"
   },
   {
    "duration": 11,
    "start_time": "2021-11-01T14:24:21.294Z"
   },
   {
    "duration": 4,
    "start_time": "2021-11-01T14:24:21.309Z"
   },
   {
    "duration": 5,
    "start_time": "2021-11-01T14:24:21.316Z"
   },
   {
    "duration": 8,
    "start_time": "2021-11-01T14:24:21.323Z"
   },
   {
    "duration": 3,
    "start_time": "2021-11-01T14:24:21.333Z"
   },
   {
    "duration": 11,
    "start_time": "2021-11-01T14:24:21.338Z"
   },
   {
    "duration": 9,
    "start_time": "2021-11-01T14:24:21.350Z"
   },
   {
    "duration": 32,
    "start_time": "2021-11-01T14:24:21.360Z"
   },
   {
    "duration": 5,
    "start_time": "2021-11-01T14:24:21.393Z"
   },
   {
    "duration": 5,
    "start_time": "2021-11-01T14:24:21.400Z"
   },
   {
    "duration": 5,
    "start_time": "2021-11-01T14:24:21.407Z"
   },
   {
    "duration": 12,
    "start_time": "2021-11-01T14:24:21.414Z"
   },
   {
    "duration": 4,
    "start_time": "2021-11-01T14:24:21.428Z"
   },
   {
    "duration": 9,
    "start_time": "2021-11-01T14:24:21.433Z"
   },
   {
    "duration": 5,
    "start_time": "2021-11-01T14:24:21.444Z"
   },
   {
    "duration": 54,
    "start_time": "2021-11-01T14:24:21.451Z"
   },
   {
    "duration": 19,
    "start_time": "2021-11-01T14:24:21.507Z"
   },
   {
    "duration": 13,
    "start_time": "2021-11-01T14:24:21.528Z"
   },
   {
    "duration": 3,
    "start_time": "2021-11-01T14:24:21.543Z"
   },
   {
    "duration": 44,
    "start_time": "2021-11-01T14:24:21.547Z"
   },
   {
    "duration": 677,
    "start_time": "2021-11-01T14:24:21.593Z"
   },
   {
    "duration": 3,
    "start_time": "2021-11-01T14:24:22.272Z"
   },
   {
    "duration": 14,
    "start_time": "2021-11-01T14:24:22.277Z"
   },
   {
    "duration": 6427,
    "start_time": "2021-11-01T14:24:22.293Z"
   },
   {
    "duration": 6,
    "start_time": "2021-11-01T14:24:28.722Z"
   },
   {
    "duration": 50,
    "start_time": "2021-11-01T14:24:28.730Z"
   },
   {
    "duration": 18,
    "start_time": "2021-11-01T14:24:28.781Z"
   },
   {
    "duration": 24,
    "start_time": "2021-11-01T14:24:28.801Z"
   },
   {
    "duration": 19,
    "start_time": "2021-11-01T14:24:28.827Z"
   },
   {
    "duration": 12,
    "start_time": "2021-11-01T14:24:28.848Z"
   },
   {
    "duration": 42,
    "start_time": "2021-11-01T14:24:28.861Z"
   },
   {
    "duration": 13,
    "start_time": "2021-11-01T14:24:28.905Z"
   },
   {
    "duration": 22,
    "start_time": "2021-11-01T14:24:28.920Z"
   },
   {
    "duration": 38,
    "start_time": "2021-11-01T14:24:28.945Z"
   },
   {
    "duration": 24,
    "start_time": "2021-11-01T14:24:28.985Z"
   },
   {
    "duration": 61,
    "start_time": "2021-11-01T14:24:29.011Z"
   },
   {
    "duration": 11,
    "start_time": "2021-11-01T14:24:29.074Z"
   },
   {
    "duration": 37,
    "start_time": "2021-11-01T14:24:29.086Z"
   },
   {
    "duration": 25,
    "start_time": "2021-11-01T14:24:29.124Z"
   },
   {
    "duration": 22,
    "start_time": "2021-11-01T14:24:29.150Z"
   },
   {
    "duration": 31,
    "start_time": "2021-11-01T14:24:29.174Z"
   },
   {
    "duration": 6,
    "start_time": "2021-11-01T14:24:29.207Z"
   },
   {
    "duration": 9,
    "start_time": "2021-11-01T14:24:29.214Z"
   },
   {
    "duration": 21,
    "start_time": "2021-11-01T14:24:29.225Z"
   },
   {
    "duration": 5,
    "start_time": "2021-11-01T14:24:29.248Z"
   },
   {
    "duration": 22,
    "start_time": "2021-11-01T14:24:29.254Z"
   },
   {
    "duration": 3,
    "start_time": "2021-11-01T14:30:39.453Z"
   },
   {
    "duration": 7,
    "start_time": "2021-11-01T14:31:10.741Z"
   },
   {
    "duration": 6,
    "start_time": "2021-11-01T14:31:29.842Z"
   },
   {
    "duration": 4,
    "start_time": "2021-11-01T14:31:41.878Z"
   },
   {
    "duration": 9,
    "start_time": "2021-11-01T14:31:47.787Z"
   },
   {
    "duration": 3,
    "start_time": "2021-11-01T14:33:09.241Z"
   },
   {
    "duration": 5,
    "start_time": "2021-11-01T14:33:10.487Z"
   },
   {
    "duration": 6,
    "start_time": "2021-11-01T14:33:11.351Z"
   },
   {
    "duration": 4686,
    "start_time": "2021-11-01T14:33:12.255Z"
   },
   {
    "duration": 378,
    "start_time": "2021-11-01T14:33:16.564Z"
   },
   {
    "duration": 59,
    "start_time": "2021-11-01T14:33:31.023Z"
   },
   {
    "duration": 10,
    "start_time": "2021-11-01T14:33:31.084Z"
   },
   {
    "duration": 9,
    "start_time": "2021-11-01T14:33:31.096Z"
   },
   {
    "duration": 4,
    "start_time": "2021-11-01T14:33:31.107Z"
   },
   {
    "duration": 7,
    "start_time": "2021-11-01T14:33:31.113Z"
   },
   {
    "duration": 402,
    "start_time": "2021-11-01T14:33:31.122Z"
   },
   {
    "duration": 10,
    "start_time": "2021-11-01T14:33:31.525Z"
   },
   {
    "duration": 9,
    "start_time": "2021-11-01T14:33:31.537Z"
   },
   {
    "duration": 9,
    "start_time": "2021-11-01T14:33:31.548Z"
   },
   {
    "duration": 6,
    "start_time": "2021-11-01T14:33:31.558Z"
   },
   {
    "duration": 26,
    "start_time": "2021-11-01T14:33:31.565Z"
   },
   {
    "duration": 8,
    "start_time": "2021-11-01T14:33:31.593Z"
   },
   {
    "duration": 8,
    "start_time": "2021-11-01T14:33:31.602Z"
   },
   {
    "duration": 16,
    "start_time": "2021-11-01T14:33:31.611Z"
   },
   {
    "duration": 3,
    "start_time": "2021-11-01T14:33:31.629Z"
   },
   {
    "duration": 7,
    "start_time": "2021-11-01T14:33:31.634Z"
   },
   {
    "duration": 9,
    "start_time": "2021-11-01T14:33:31.643Z"
   },
   {
    "duration": 8,
    "start_time": "2021-11-01T14:33:31.653Z"
   },
   {
    "duration": 2,
    "start_time": "2021-11-01T14:33:31.662Z"
   },
   {
    "duration": 227,
    "start_time": "2021-11-01T14:33:31.666Z"
   },
   {
    "duration": 7,
    "start_time": "2021-11-01T14:33:31.894Z"
   },
   {
    "duration": 11,
    "start_time": "2021-11-01T14:33:31.902Z"
   },
   {
    "duration": 3,
    "start_time": "2021-11-01T14:33:31.916Z"
   },
   {
    "duration": 6,
    "start_time": "2021-11-01T14:33:31.921Z"
   },
   {
    "duration": 7,
    "start_time": "2021-11-01T14:33:31.929Z"
   },
   {
    "duration": 3,
    "start_time": "2021-11-01T14:33:31.937Z"
   },
   {
    "duration": 12,
    "start_time": "2021-11-01T14:33:31.941Z"
   },
   {
    "duration": 10,
    "start_time": "2021-11-01T14:33:31.954Z"
   },
   {
    "duration": 27,
    "start_time": "2021-11-01T14:33:31.965Z"
   },
   {
    "duration": 5,
    "start_time": "2021-11-01T14:33:31.993Z"
   },
   {
    "duration": 5,
    "start_time": "2021-11-01T14:33:32.000Z"
   },
   {
    "duration": 17,
    "start_time": "2021-11-01T14:33:32.006Z"
   },
   {
    "duration": 23,
    "start_time": "2021-11-01T14:33:32.024Z"
   },
   {
    "duration": 4,
    "start_time": "2021-11-01T14:33:32.049Z"
   },
   {
    "duration": 10,
    "start_time": "2021-11-01T14:33:32.054Z"
   },
   {
    "duration": 7,
    "start_time": "2021-11-01T14:33:32.066Z"
   },
   {
    "duration": 31,
    "start_time": "2021-11-01T14:33:32.074Z"
   },
   {
    "duration": 17,
    "start_time": "2021-11-01T14:33:32.106Z"
   },
   {
    "duration": 14,
    "start_time": "2021-11-01T14:33:32.125Z"
   },
   {
    "duration": 3,
    "start_time": "2021-11-01T14:33:32.140Z"
   },
   {
    "duration": 54,
    "start_time": "2021-11-01T14:33:32.144Z"
   },
   {
    "duration": 658,
    "start_time": "2021-11-01T14:33:32.200Z"
   },
   {
    "duration": 2,
    "start_time": "2021-11-01T14:33:32.860Z"
   },
   {
    "duration": 6,
    "start_time": "2021-11-01T14:33:32.864Z"
   },
   {
    "duration": 5969,
    "start_time": "2021-11-01T14:33:32.871Z"
   },
   {
    "duration": 5,
    "start_time": "2021-11-01T14:33:38.842Z"
   },
   {
    "duration": 13,
    "start_time": "2021-11-01T14:33:38.848Z"
   },
   {
    "duration": 6,
    "start_time": "2021-11-01T14:33:38.862Z"
   },
   {
    "duration": 27,
    "start_time": "2021-11-01T14:33:38.870Z"
   },
   {
    "duration": 9,
    "start_time": "2021-11-01T14:33:38.898Z"
   },
   {
    "duration": 6,
    "start_time": "2021-11-01T14:33:38.909Z"
   },
   {
    "duration": 19,
    "start_time": "2021-11-01T14:33:38.916Z"
   },
   {
    "duration": 7,
    "start_time": "2021-11-01T14:33:38.937Z"
   },
   {
    "duration": 6,
    "start_time": "2021-11-01T14:33:38.945Z"
   },
   {
    "duration": 13,
    "start_time": "2021-11-01T14:33:38.952Z"
   },
   {
    "duration": 7,
    "start_time": "2021-11-01T14:33:38.967Z"
   },
   {
    "duration": 28,
    "start_time": "2021-11-01T14:33:38.975Z"
   },
   {
    "duration": 2,
    "start_time": "2021-11-01T14:33:39.005Z"
   },
   {
    "duration": 8,
    "start_time": "2021-11-01T14:33:39.008Z"
   },
   {
    "duration": 6,
    "start_time": "2021-11-01T14:33:39.018Z"
   },
   {
    "duration": 4768,
    "start_time": "2021-11-01T14:33:39.026Z"
   },
   {
    "duration": 378,
    "start_time": "2021-11-01T14:33:43.418Z"
   },
   {
    "duration": 377,
    "start_time": "2021-11-01T14:33:43.420Z"
   },
   {
    "duration": 376,
    "start_time": "2021-11-01T14:33:43.422Z"
   },
   {
    "duration": 375,
    "start_time": "2021-11-01T14:33:43.424Z"
   },
   {
    "duration": 373,
    "start_time": "2021-11-01T14:33:43.428Z"
   },
   {
    "duration": 372,
    "start_time": "2021-11-01T14:33:43.430Z"
   },
   {
    "duration": 6,
    "start_time": "2021-11-01T14:34:20.434Z"
   },
   {
    "duration": 6,
    "start_time": "2021-11-01T14:34:21.729Z"
   },
   {
    "duration": 4,
    "start_time": "2021-11-01T14:34:23.137Z"
   },
   {
    "duration": 8,
    "start_time": "2021-11-01T14:34:26.026Z"
   },
   {
    "duration": 66,
    "start_time": "2021-11-01T14:44:41.244Z"
   },
   {
    "duration": 10,
    "start_time": "2021-11-01T14:44:41.312Z"
   },
   {
    "duration": 8,
    "start_time": "2021-11-01T14:44:41.324Z"
   },
   {
    "duration": 5,
    "start_time": "2021-11-01T14:44:41.333Z"
   },
   {
    "duration": 4,
    "start_time": "2021-11-01T14:44:41.339Z"
   },
   {
    "duration": 437,
    "start_time": "2021-11-01T14:44:41.344Z"
   },
   {
    "duration": 16,
    "start_time": "2021-11-01T14:44:41.782Z"
   },
   {
    "duration": 9,
    "start_time": "2021-11-01T14:44:41.801Z"
   },
   {
    "duration": 4,
    "start_time": "2021-11-01T14:44:41.812Z"
   },
   {
    "duration": 5,
    "start_time": "2021-11-01T14:44:41.817Z"
   },
   {
    "duration": 7,
    "start_time": "2021-11-01T14:44:41.823Z"
   },
   {
    "duration": 6,
    "start_time": "2021-11-01T14:44:41.832Z"
   },
   {
    "duration": 6,
    "start_time": "2021-11-01T14:44:41.839Z"
   },
   {
    "duration": 13,
    "start_time": "2021-11-01T14:44:41.847Z"
   },
   {
    "duration": 30,
    "start_time": "2021-11-01T14:44:41.862Z"
   },
   {
    "duration": 4,
    "start_time": "2021-11-01T14:44:41.893Z"
   },
   {
    "duration": 8,
    "start_time": "2021-11-01T14:44:41.899Z"
   },
   {
    "duration": 6,
    "start_time": "2021-11-01T14:44:41.908Z"
   },
   {
    "duration": 3,
    "start_time": "2021-11-01T14:44:41.916Z"
   },
   {
    "duration": 230,
    "start_time": "2021-11-01T14:44:41.920Z"
   },
   {
    "duration": 6,
    "start_time": "2021-11-01T14:44:42.152Z"
   },
   {
    "duration": 9,
    "start_time": "2021-11-01T14:44:42.160Z"
   },
   {
    "duration": 3,
    "start_time": "2021-11-01T14:44:42.172Z"
   },
   {
    "duration": 17,
    "start_time": "2021-11-01T14:44:42.177Z"
   },
   {
    "duration": 5,
    "start_time": "2021-11-01T14:44:42.196Z"
   },
   {
    "duration": 4,
    "start_time": "2021-11-01T14:44:42.203Z"
   },
   {
    "duration": 13,
    "start_time": "2021-11-01T14:44:42.208Z"
   },
   {
    "duration": 9,
    "start_time": "2021-11-01T14:44:42.222Z"
   },
   {
    "duration": 5,
    "start_time": "2021-11-01T14:44:42.232Z"
   },
   {
    "duration": 8,
    "start_time": "2021-11-01T14:44:42.239Z"
   },
   {
    "duration": 5,
    "start_time": "2021-11-01T14:44:42.248Z"
   },
   {
    "duration": 6,
    "start_time": "2021-11-01T14:44:42.255Z"
   },
   {
    "duration": 13,
    "start_time": "2021-11-01T14:44:42.291Z"
   },
   {
    "duration": 4,
    "start_time": "2021-11-01T14:44:42.306Z"
   },
   {
    "duration": 8,
    "start_time": "2021-11-01T14:44:42.312Z"
   },
   {
    "duration": 6,
    "start_time": "2021-11-01T14:44:42.321Z"
   },
   {
    "duration": 13,
    "start_time": "2021-11-01T14:44:42.329Z"
   },
   {
    "duration": 47,
    "start_time": "2021-11-01T14:44:42.344Z"
   },
   {
    "duration": 14,
    "start_time": "2021-11-01T14:44:42.393Z"
   },
   {
    "duration": 3,
    "start_time": "2021-11-01T14:44:42.409Z"
   },
   {
    "duration": 32,
    "start_time": "2021-11-01T14:44:42.413Z"
   },
   {
    "duration": 673,
    "start_time": "2021-11-01T14:44:42.447Z"
   },
   {
    "duration": 3,
    "start_time": "2021-11-01T14:44:43.122Z"
   },
   {
    "duration": 6,
    "start_time": "2021-11-01T14:44:43.127Z"
   },
   {
    "duration": 6019,
    "start_time": "2021-11-01T14:44:43.135Z"
   },
   {
    "duration": 6,
    "start_time": "2021-11-01T14:44:49.156Z"
   },
   {
    "duration": 31,
    "start_time": "2021-11-01T14:44:49.163Z"
   },
   {
    "duration": 4,
    "start_time": "2021-11-01T14:44:49.196Z"
   },
   {
    "duration": 11,
    "start_time": "2021-11-01T14:44:49.202Z"
   },
   {
    "duration": 6,
    "start_time": "2021-11-01T14:44:49.215Z"
   },
   {
    "duration": 5,
    "start_time": "2021-11-01T14:44:49.222Z"
   },
   {
    "duration": 15,
    "start_time": "2021-11-01T14:44:49.228Z"
   },
   {
    "duration": 3,
    "start_time": "2021-11-01T14:44:49.245Z"
   },
   {
    "duration": 4,
    "start_time": "2021-11-01T14:44:49.250Z"
   },
   {
    "duration": 37,
    "start_time": "2021-11-01T14:44:49.256Z"
   },
   {
    "duration": 5,
    "start_time": "2021-11-01T14:44:49.294Z"
   },
   {
    "duration": 20,
    "start_time": "2021-11-01T14:44:49.300Z"
   },
   {
    "duration": 3,
    "start_time": "2021-11-01T14:44:49.322Z"
   },
   {
    "duration": 8,
    "start_time": "2021-11-01T14:44:49.326Z"
   },
   {
    "duration": 6,
    "start_time": "2021-11-01T14:44:49.335Z"
   },
   {
    "duration": 4,
    "start_time": "2021-11-01T14:44:49.343Z"
   },
   {
    "duration": 196,
    "start_time": "2021-11-01T14:44:49.348Z"
   },
   {
    "duration": 406,
    "start_time": "2021-11-01T14:44:49.139Z"
   },
   {
    "duration": 406,
    "start_time": "2021-11-01T14:44:49.141Z"
   },
   {
    "duration": 404,
    "start_time": "2021-11-01T14:44:49.144Z"
   },
   {
    "duration": 403,
    "start_time": "2021-11-01T14:44:49.146Z"
   },
   {
    "duration": 401,
    "start_time": "2021-11-01T14:44:49.149Z"
   },
   {
    "duration": 8,
    "start_time": "2021-11-01T14:44:57.127Z"
   },
   {
    "duration": 4,
    "start_time": "2021-11-01T14:45:09.479Z"
   },
   {
    "duration": 7,
    "start_time": "2021-11-01T14:45:11.143Z"
   },
   {
    "duration": 62,
    "start_time": "2021-11-01T15:13:28.600Z"
   },
   {
    "duration": 10,
    "start_time": "2021-11-01T15:13:28.663Z"
   },
   {
    "duration": 24,
    "start_time": "2021-11-01T15:13:28.675Z"
   },
   {
    "duration": 8,
    "start_time": "2021-11-01T15:13:28.700Z"
   },
   {
    "duration": 4,
    "start_time": "2021-11-01T15:13:28.709Z"
   },
   {
    "duration": 397,
    "start_time": "2021-11-01T15:13:28.714Z"
   },
   {
    "duration": 10,
    "start_time": "2021-11-01T15:13:29.112Z"
   },
   {
    "duration": 10,
    "start_time": "2021-11-01T15:13:29.124Z"
   },
   {
    "duration": 7,
    "start_time": "2021-11-01T15:13:29.137Z"
   },
   {
    "duration": 5,
    "start_time": "2021-11-01T15:13:29.145Z"
   },
   {
    "duration": 6,
    "start_time": "2021-11-01T15:13:29.152Z"
   },
   {
    "duration": 6,
    "start_time": "2021-11-01T15:13:29.160Z"
   },
   {
    "duration": 25,
    "start_time": "2021-11-01T15:13:29.167Z"
   },
   {
    "duration": 15,
    "start_time": "2021-11-01T15:13:29.194Z"
   },
   {
    "duration": 7,
    "start_time": "2021-11-01T15:13:29.210Z"
   },
   {
    "duration": 9,
    "start_time": "2021-11-01T15:13:29.218Z"
   },
   {
    "duration": 9,
    "start_time": "2021-11-01T15:13:29.229Z"
   },
   {
    "duration": 7,
    "start_time": "2021-11-01T15:13:29.239Z"
   },
   {
    "duration": 3,
    "start_time": "2021-11-01T15:13:29.247Z"
   },
   {
    "duration": 239,
    "start_time": "2021-11-01T15:13:29.251Z"
   },
   {
    "duration": 6,
    "start_time": "2021-11-01T15:13:29.492Z"
   },
   {
    "duration": 8,
    "start_time": "2021-11-01T15:13:29.500Z"
   },
   {
    "duration": 9,
    "start_time": "2021-11-01T15:13:29.512Z"
   },
   {
    "duration": 8,
    "start_time": "2021-11-01T15:13:29.523Z"
   },
   {
    "duration": 7,
    "start_time": "2021-11-01T15:13:29.533Z"
   },
   {
    "duration": 5,
    "start_time": "2021-11-01T15:13:29.541Z"
   },
   {
    "duration": 12,
    "start_time": "2021-11-01T15:13:29.547Z"
   },
   {
    "duration": 9,
    "start_time": "2021-11-01T15:13:29.560Z"
   },
   {
    "duration": 4,
    "start_time": "2021-11-01T15:13:29.591Z"
   },
   {
    "duration": 6,
    "start_time": "2021-11-01T15:13:29.597Z"
   },
   {
    "duration": 5,
    "start_time": "2021-11-01T15:13:29.605Z"
   },
   {
    "duration": 6,
    "start_time": "2021-11-01T15:13:29.612Z"
   },
   {
    "duration": 14,
    "start_time": "2021-11-01T15:13:29.620Z"
   },
   {
    "duration": 4,
    "start_time": "2021-11-01T15:13:29.636Z"
   },
   {
    "duration": 9,
    "start_time": "2021-11-01T15:13:29.642Z"
   },
   {
    "duration": 40,
    "start_time": "2021-11-01T15:13:29.652Z"
   },
   {
    "duration": 16,
    "start_time": "2021-11-01T15:13:29.693Z"
   },
   {
    "duration": 15,
    "start_time": "2021-11-01T15:13:29.711Z"
   },
   {
    "duration": 13,
    "start_time": "2021-11-01T15:13:29.728Z"
   },
   {
    "duration": 2,
    "start_time": "2021-11-01T15:13:29.743Z"
   },
   {
    "duration": 56,
    "start_time": "2021-11-01T15:13:29.746Z"
   },
   {
    "duration": 669,
    "start_time": "2021-11-01T15:13:29.803Z"
   },
   {
    "duration": 3,
    "start_time": "2021-11-01T15:13:30.473Z"
   },
   {
    "duration": 18,
    "start_time": "2021-11-01T15:13:30.477Z"
   },
   {
    "duration": 6394,
    "start_time": "2021-11-01T15:13:30.497Z"
   },
   {
    "duration": 5,
    "start_time": "2021-11-01T15:13:36.893Z"
   },
   {
    "duration": 13,
    "start_time": "2021-11-01T15:13:36.900Z"
   },
   {
    "duration": 6,
    "start_time": "2021-11-01T15:13:36.914Z"
   },
   {
    "duration": 15,
    "start_time": "2021-11-01T15:13:36.922Z"
   },
   {
    "duration": 6,
    "start_time": "2021-11-01T15:13:36.939Z"
   },
   {
    "duration": 7,
    "start_time": "2021-11-01T15:13:36.946Z"
   },
   {
    "duration": 16,
    "start_time": "2021-11-01T15:13:36.955Z"
   },
   {
    "duration": 20,
    "start_time": "2021-11-01T15:13:36.972Z"
   },
   {
    "duration": 3,
    "start_time": "2021-11-01T15:13:36.993Z"
   },
   {
    "duration": 21,
    "start_time": "2021-11-01T15:13:36.997Z"
   },
   {
    "duration": 4,
    "start_time": "2021-11-01T15:13:37.019Z"
   },
   {
    "duration": 21,
    "start_time": "2021-11-01T15:13:37.024Z"
   },
   {
    "duration": 3,
    "start_time": "2021-11-01T15:13:37.046Z"
   },
   {
    "duration": 9,
    "start_time": "2021-11-01T15:13:37.050Z"
   },
   {
    "duration": 7,
    "start_time": "2021-11-01T15:13:37.060Z"
   },
   {
    "duration": 23,
    "start_time": "2021-11-01T15:13:37.068Z"
   },
   {
    "duration": 10,
    "start_time": "2021-11-01T15:13:37.093Z"
   },
   {
    "duration": 10,
    "start_time": "2021-11-01T15:13:37.105Z"
   },
   {
    "duration": 7,
    "start_time": "2021-11-01T15:13:37.117Z"
   },
   {
    "duration": 5,
    "start_time": "2021-11-01T15:13:37.125Z"
   },
   {
    "duration": 5,
    "start_time": "2021-11-01T15:13:37.132Z"
   },
   {
    "duration": 12,
    "start_time": "2021-11-01T15:13:37.138Z"
   },
   {
    "duration": 60,
    "start_time": "2021-11-01T15:14:12.346Z"
   },
   {
    "duration": 10,
    "start_time": "2021-11-01T15:14:12.407Z"
   },
   {
    "duration": 9,
    "start_time": "2021-11-01T15:14:12.418Z"
   },
   {
    "duration": 6,
    "start_time": "2021-11-01T15:14:12.428Z"
   },
   {
    "duration": 6,
    "start_time": "2021-11-01T15:14:12.435Z"
   },
   {
    "duration": 412,
    "start_time": "2021-11-01T15:14:12.442Z"
   },
   {
    "duration": 10,
    "start_time": "2021-11-01T15:14:12.856Z"
   },
   {
    "duration": 10,
    "start_time": "2021-11-01T15:14:12.867Z"
   },
   {
    "duration": 4,
    "start_time": "2021-11-01T15:14:12.891Z"
   },
   {
    "duration": 11,
    "start_time": "2021-11-01T15:14:12.897Z"
   },
   {
    "duration": 8,
    "start_time": "2021-11-01T15:14:12.909Z"
   },
   {
    "duration": 7,
    "start_time": "2021-11-01T15:14:12.918Z"
   },
   {
    "duration": 5,
    "start_time": "2021-11-01T15:14:12.927Z"
   },
   {
    "duration": 14,
    "start_time": "2021-11-01T15:14:12.934Z"
   },
   {
    "duration": 3,
    "start_time": "2021-11-01T15:14:12.950Z"
   },
   {
    "duration": 6,
    "start_time": "2021-11-01T15:14:12.954Z"
   },
   {
    "duration": 8,
    "start_time": "2021-11-01T15:14:12.962Z"
   },
   {
    "duration": 7,
    "start_time": "2021-11-01T15:14:12.991Z"
   },
   {
    "duration": 3,
    "start_time": "2021-11-01T15:14:12.999Z"
   },
   {
    "duration": 223,
    "start_time": "2021-11-01T15:14:13.003Z"
   },
   {
    "duration": 6,
    "start_time": "2021-11-01T15:14:13.228Z"
   },
   {
    "duration": 6,
    "start_time": "2021-11-01T15:14:13.236Z"
   },
   {
    "duration": 4,
    "start_time": "2021-11-01T15:14:13.244Z"
   },
   {
    "duration": 7,
    "start_time": "2021-11-01T15:14:13.249Z"
   },
   {
    "duration": 6,
    "start_time": "2021-11-01T15:14:13.257Z"
   },
   {
    "duration": 26,
    "start_time": "2021-11-01T15:14:13.265Z"
   },
   {
    "duration": 10,
    "start_time": "2021-11-01T15:14:13.295Z"
   },
   {
    "duration": 11,
    "start_time": "2021-11-01T15:14:13.308Z"
   },
   {
    "duration": 10,
    "start_time": "2021-11-01T15:14:13.321Z"
   },
   {
    "duration": 7,
    "start_time": "2021-11-01T15:14:13.332Z"
   },
   {
    "duration": 5,
    "start_time": "2021-11-01T15:14:13.340Z"
   },
   {
    "duration": 6,
    "start_time": "2021-11-01T15:14:13.346Z"
   },
   {
    "duration": 12,
    "start_time": "2021-11-01T15:14:13.353Z"
   },
   {
    "duration": 4,
    "start_time": "2021-11-01T15:14:13.367Z"
   },
   {
    "duration": 7,
    "start_time": "2021-11-01T15:14:13.391Z"
   },
   {
    "duration": 5,
    "start_time": "2021-11-01T15:14:13.399Z"
   },
   {
    "duration": 19,
    "start_time": "2021-11-01T15:14:13.406Z"
   },
   {
    "duration": 16,
    "start_time": "2021-11-01T15:14:13.427Z"
   },
   {
    "duration": 13,
    "start_time": "2021-11-01T15:14:13.445Z"
   },
   {
    "duration": 33,
    "start_time": "2021-11-01T15:14:13.459Z"
   },
   {
    "duration": 32,
    "start_time": "2021-11-01T15:14:13.493Z"
   },
   {
    "duration": 666,
    "start_time": "2021-11-01T15:14:13.526Z"
   },
   {
    "duration": 2,
    "start_time": "2021-11-01T15:14:14.194Z"
   },
   {
    "duration": 6,
    "start_time": "2021-11-01T15:14:14.197Z"
   },
   {
    "duration": 5767,
    "start_time": "2021-11-01T15:14:14.205Z"
   },
   {
    "duration": 5,
    "start_time": "2021-11-01T15:14:19.973Z"
   },
   {
    "duration": 15,
    "start_time": "2021-11-01T15:14:19.991Z"
   },
   {
    "duration": 8,
    "start_time": "2021-11-01T15:14:20.008Z"
   },
   {
    "duration": 17,
    "start_time": "2021-11-01T15:14:20.018Z"
   },
   {
    "duration": 5,
    "start_time": "2021-11-01T15:14:20.037Z"
   },
   {
    "duration": 4,
    "start_time": "2021-11-01T15:14:20.044Z"
   },
   {
    "duration": 43,
    "start_time": "2021-11-01T15:14:20.050Z"
   },
   {
    "duration": 5,
    "start_time": "2021-11-01T15:14:20.095Z"
   },
   {
    "duration": 5,
    "start_time": "2021-11-01T15:14:20.102Z"
   },
   {
    "duration": 19,
    "start_time": "2021-11-01T15:14:20.108Z"
   },
   {
    "duration": 8,
    "start_time": "2021-11-01T15:14:20.128Z"
   },
   {
    "duration": 21,
    "start_time": "2021-11-01T15:14:20.138Z"
   },
   {
    "duration": 2,
    "start_time": "2021-11-01T15:14:20.161Z"
   },
   {
    "duration": 29,
    "start_time": "2021-11-01T15:14:20.165Z"
   },
   {
    "duration": 6,
    "start_time": "2021-11-01T15:14:20.195Z"
   },
   {
    "duration": 6,
    "start_time": "2021-11-01T15:14:20.202Z"
   },
   {
    "duration": 11,
    "start_time": "2021-11-01T15:14:20.210Z"
   },
   {
    "duration": 6,
    "start_time": "2021-11-01T15:14:20.222Z"
   },
   {
    "duration": 7,
    "start_time": "2021-11-01T15:14:20.229Z"
   },
   {
    "duration": 5,
    "start_time": "2021-11-01T15:14:20.237Z"
   },
   {
    "duration": 4,
    "start_time": "2021-11-01T15:14:20.243Z"
   },
   {
    "duration": 9,
    "start_time": "2021-11-01T15:14:20.248Z"
   },
   {
    "duration": 62,
    "start_time": "2021-11-01T15:15:16.625Z"
   },
   {
    "duration": 11,
    "start_time": "2021-11-01T15:15:16.688Z"
   },
   {
    "duration": 9,
    "start_time": "2021-11-01T15:15:16.701Z"
   },
   {
    "duration": 9,
    "start_time": "2021-11-01T15:15:16.712Z"
   },
   {
    "duration": 10,
    "start_time": "2021-11-01T15:15:16.723Z"
   },
   {
    "duration": 410,
    "start_time": "2021-11-01T15:15:16.735Z"
   },
   {
    "duration": 10,
    "start_time": "2021-11-01T15:15:17.147Z"
   },
   {
    "duration": 9,
    "start_time": "2021-11-01T15:15:17.159Z"
   },
   {
    "duration": 22,
    "start_time": "2021-11-01T15:15:17.170Z"
   },
   {
    "duration": 4,
    "start_time": "2021-11-01T15:15:17.194Z"
   },
   {
    "duration": 11,
    "start_time": "2021-11-01T15:15:17.199Z"
   },
   {
    "duration": 9,
    "start_time": "2021-11-01T15:15:17.211Z"
   },
   {
    "duration": 7,
    "start_time": "2021-11-01T15:15:17.221Z"
   },
   {
    "duration": 14,
    "start_time": "2021-11-01T15:15:17.230Z"
   },
   {
    "duration": 4,
    "start_time": "2021-11-01T15:15:17.246Z"
   },
   {
    "duration": 6,
    "start_time": "2021-11-01T15:15:17.251Z"
   },
   {
    "duration": 35,
    "start_time": "2021-11-01T15:15:17.259Z"
   },
   {
    "duration": 6,
    "start_time": "2021-11-01T15:15:17.295Z"
   },
   {
    "duration": 2,
    "start_time": "2021-11-01T15:15:17.303Z"
   },
   {
    "duration": 238,
    "start_time": "2021-11-01T15:15:17.307Z"
   },
   {
    "duration": 6,
    "start_time": "2021-11-01T15:15:17.546Z"
   },
   {
    "duration": 11,
    "start_time": "2021-11-01T15:15:17.554Z"
   },
   {
    "duration": 5,
    "start_time": "2021-11-01T15:15:17.566Z"
   },
   {
    "duration": 20,
    "start_time": "2021-11-01T15:15:17.573Z"
   },
   {
    "duration": 4,
    "start_time": "2021-11-01T15:15:17.594Z"
   },
   {
    "duration": 4,
    "start_time": "2021-11-01T15:15:17.599Z"
   },
   {
    "duration": 21,
    "start_time": "2021-11-01T15:15:17.607Z"
   },
   {
    "duration": 10,
    "start_time": "2021-11-01T15:15:17.630Z"
   },
   {
    "duration": 4,
    "start_time": "2021-11-01T15:15:17.642Z"
   },
   {
    "duration": 6,
    "start_time": "2021-11-01T15:15:17.648Z"
   },
   {
    "duration": 5,
    "start_time": "2021-11-01T15:15:17.655Z"
   },
   {
    "duration": 6,
    "start_time": "2021-11-01T15:15:17.661Z"
   },
   {
    "duration": 32,
    "start_time": "2021-11-01T15:15:17.669Z"
   },
   {
    "duration": 4,
    "start_time": "2021-11-01T15:15:17.703Z"
   },
   {
    "duration": 9,
    "start_time": "2021-11-01T15:15:17.708Z"
   },
   {
    "duration": 5,
    "start_time": "2021-11-01T15:15:17.719Z"
   },
   {
    "duration": 15,
    "start_time": "2021-11-01T15:15:17.726Z"
   },
   {
    "duration": 49,
    "start_time": "2021-11-01T15:15:17.742Z"
   },
   {
    "duration": 16,
    "start_time": "2021-11-01T15:15:17.793Z"
   },
   {
    "duration": 3,
    "start_time": "2021-11-01T15:15:17.810Z"
   },
   {
    "duration": 33,
    "start_time": "2021-11-01T15:15:17.815Z"
   },
   {
    "duration": 678,
    "start_time": "2021-11-01T15:15:17.850Z"
   },
   {
    "duration": 2,
    "start_time": "2021-11-01T15:15:18.531Z"
   },
   {
    "duration": 7,
    "start_time": "2021-11-01T15:15:18.535Z"
   },
   {
    "duration": 6053,
    "start_time": "2021-11-01T15:15:18.544Z"
   },
   {
    "duration": 5,
    "start_time": "2021-11-01T15:15:24.598Z"
   },
   {
    "duration": 14,
    "start_time": "2021-11-01T15:15:24.605Z"
   },
   {
    "duration": 4,
    "start_time": "2021-11-01T15:15:24.620Z"
   },
   {
    "duration": 14,
    "start_time": "2021-11-01T15:15:24.626Z"
   },
   {
    "duration": 7,
    "start_time": "2021-11-01T15:15:24.642Z"
   },
   {
    "duration": 5,
    "start_time": "2021-11-01T15:15:24.651Z"
   },
   {
    "duration": 33,
    "start_time": "2021-11-01T15:15:24.658Z"
   },
   {
    "duration": 4,
    "start_time": "2021-11-01T15:15:24.693Z"
   },
   {
    "duration": 6,
    "start_time": "2021-11-01T15:15:24.698Z"
   },
   {
    "duration": 13,
    "start_time": "2021-11-01T15:15:24.705Z"
   },
   {
    "duration": 4,
    "start_time": "2021-11-01T15:15:24.719Z"
   },
   {
    "duration": 23,
    "start_time": "2021-11-01T15:15:24.724Z"
   },
   {
    "duration": 3,
    "start_time": "2021-11-01T15:15:24.748Z"
   },
   {
    "duration": 8,
    "start_time": "2021-11-01T15:15:24.752Z"
   },
   {
    "duration": 34,
    "start_time": "2021-11-01T15:15:24.761Z"
   },
   {
    "duration": 4,
    "start_time": "2021-11-01T15:15:24.797Z"
   },
   {
    "duration": 11,
    "start_time": "2021-11-01T15:15:24.802Z"
   },
   {
    "duration": 5,
    "start_time": "2021-11-01T15:15:24.815Z"
   },
   {
    "duration": 7,
    "start_time": "2021-11-01T15:15:24.822Z"
   },
   {
    "duration": 6,
    "start_time": "2021-11-01T15:15:24.830Z"
   },
   {
    "duration": 8,
    "start_time": "2021-11-01T15:15:24.837Z"
   },
   {
    "duration": 11,
    "start_time": "2021-11-01T15:15:24.846Z"
   },
   {
    "duration": 63,
    "start_time": "2021-11-01T15:16:22.211Z"
   },
   {
    "duration": 18,
    "start_time": "2021-11-01T15:16:22.276Z"
   },
   {
    "duration": 10,
    "start_time": "2021-11-01T15:16:22.296Z"
   },
   {
    "duration": 4,
    "start_time": "2021-11-01T15:16:22.308Z"
   },
   {
    "duration": 3,
    "start_time": "2021-11-01T15:16:22.314Z"
   },
   {
    "duration": 407,
    "start_time": "2021-11-01T15:16:22.318Z"
   },
   {
    "duration": 9,
    "start_time": "2021-11-01T15:16:22.727Z"
   },
   {
    "duration": 9,
    "start_time": "2021-11-01T15:16:22.739Z"
   },
   {
    "duration": 4,
    "start_time": "2021-11-01T15:16:22.750Z"
   },
   {
    "duration": 8,
    "start_time": "2021-11-01T15:16:22.755Z"
   },
   {
    "duration": 28,
    "start_time": "2021-11-01T15:16:22.765Z"
   },
   {
    "duration": 9,
    "start_time": "2021-11-01T15:16:22.795Z"
   },
   {
    "duration": 8,
    "start_time": "2021-11-01T15:16:22.805Z"
   },
   {
    "duration": 15,
    "start_time": "2021-11-01T15:16:22.814Z"
   },
   {
    "duration": 4,
    "start_time": "2021-11-01T15:16:22.830Z"
   },
   {
    "duration": 6,
    "start_time": "2021-11-01T15:16:22.836Z"
   },
   {
    "duration": 10,
    "start_time": "2021-11-01T15:16:22.843Z"
   },
   {
    "duration": 11,
    "start_time": "2021-11-01T15:16:22.854Z"
   },
   {
    "duration": 14,
    "start_time": "2021-11-01T15:16:22.867Z"
   },
   {
    "duration": 222,
    "start_time": "2021-11-01T15:16:22.882Z"
   },
   {
    "duration": 7,
    "start_time": "2021-11-01T15:16:23.106Z"
   },
   {
    "duration": 20,
    "start_time": "2021-11-01T15:16:23.115Z"
   },
   {
    "duration": 9,
    "start_time": "2021-11-01T15:16:23.140Z"
   },
   {
    "duration": 15,
    "start_time": "2021-11-01T15:16:23.152Z"
   },
   {
    "duration": 10,
    "start_time": "2021-11-01T15:16:23.169Z"
   },
   {
    "duration": 20,
    "start_time": "2021-11-01T15:16:23.181Z"
   },
   {
    "duration": 30,
    "start_time": "2021-11-01T15:16:23.202Z"
   },
   {
    "duration": 23,
    "start_time": "2021-11-01T15:16:23.234Z"
   },
   {
    "duration": 15,
    "start_time": "2021-11-01T15:16:23.259Z"
   },
   {
    "duration": 9,
    "start_time": "2021-11-01T15:16:23.276Z"
   },
   {
    "duration": 5,
    "start_time": "2021-11-01T15:16:23.287Z"
   },
   {
    "duration": 6,
    "start_time": "2021-11-01T15:16:23.294Z"
   },
   {
    "duration": 13,
    "start_time": "2021-11-01T15:16:23.302Z"
   },
   {
    "duration": 5,
    "start_time": "2021-11-01T15:16:23.316Z"
   },
   {
    "duration": 8,
    "start_time": "2021-11-01T15:16:23.323Z"
   },
   {
    "duration": 6,
    "start_time": "2021-11-01T15:16:23.333Z"
   },
   {
    "duration": 59,
    "start_time": "2021-11-01T15:16:23.341Z"
   },
   {
    "duration": 19,
    "start_time": "2021-11-01T15:16:23.402Z"
   },
   {
    "duration": 15,
    "start_time": "2021-11-01T15:16:23.422Z"
   },
   {
    "duration": 3,
    "start_time": "2021-11-01T15:16:23.439Z"
   },
   {
    "duration": 53,
    "start_time": "2021-11-01T15:16:23.444Z"
   },
   {
    "duration": 680,
    "start_time": "2021-11-01T15:16:23.499Z"
   },
   {
    "duration": 9,
    "start_time": "2021-11-01T15:16:24.182Z"
   },
   {
    "duration": 6,
    "start_time": "2021-11-01T15:16:24.193Z"
   },
   {
    "duration": 5938,
    "start_time": "2021-11-01T15:16:24.201Z"
   },
   {
    "duration": 6,
    "start_time": "2021-11-01T15:16:30.141Z"
   },
   {
    "duration": 28,
    "start_time": "2021-11-01T15:16:30.149Z"
   },
   {
    "duration": 14,
    "start_time": "2021-11-01T15:16:30.179Z"
   },
   {
    "duration": 21,
    "start_time": "2021-11-01T15:16:30.195Z"
   },
   {
    "duration": 14,
    "start_time": "2021-11-01T15:16:30.218Z"
   },
   {
    "duration": 16,
    "start_time": "2021-11-01T15:16:30.233Z"
   },
   {
    "duration": 35,
    "start_time": "2021-11-01T15:16:30.251Z"
   },
   {
    "duration": 5,
    "start_time": "2021-11-01T15:16:30.288Z"
   },
   {
    "duration": 18,
    "start_time": "2021-11-01T15:16:30.294Z"
   },
   {
    "duration": 20,
    "start_time": "2021-11-01T15:16:30.313Z"
   },
   {
    "duration": 22,
    "start_time": "2021-11-01T15:16:30.334Z"
   },
   {
    "duration": 28,
    "start_time": "2021-11-01T15:16:30.358Z"
   },
   {
    "duration": 2,
    "start_time": "2021-11-01T15:16:30.388Z"
   },
   {
    "duration": 15,
    "start_time": "2021-11-01T15:16:30.392Z"
   },
   {
    "duration": 14,
    "start_time": "2021-11-01T15:16:30.409Z"
   },
   {
    "duration": 16,
    "start_time": "2021-11-01T15:16:30.425Z"
   },
   {
    "duration": 23,
    "start_time": "2021-11-01T15:16:30.442Z"
   },
   {
    "duration": 14,
    "start_time": "2021-11-01T15:16:30.467Z"
   },
   {
    "duration": 21,
    "start_time": "2021-11-01T15:16:30.483Z"
   },
   {
    "duration": 21,
    "start_time": "2021-11-01T15:16:30.505Z"
   },
   {
    "duration": 6,
    "start_time": "2021-11-01T15:16:30.528Z"
   },
   {
    "duration": 28,
    "start_time": "2021-11-01T15:16:30.536Z"
   },
   {
    "duration": 6,
    "start_time": "2021-11-01T15:29:39.663Z"
   },
   {
    "duration": 4,
    "start_time": "2021-11-01T15:29:42.423Z"
   },
   {
    "duration": 8,
    "start_time": "2021-11-01T15:29:44.415Z"
   },
   {
    "duration": 3,
    "start_time": "2021-11-01T15:31:42.402Z"
   },
   {
    "duration": 6,
    "start_time": "2021-11-01T15:31:43.833Z"
   },
   {
    "duration": 6,
    "start_time": "2021-11-01T15:31:48.051Z"
   },
   {
    "duration": 4,
    "start_time": "2021-11-01T15:31:51.306Z"
   },
   {
    "duration": 9,
    "start_time": "2021-11-01T15:31:52.074Z"
   },
   {
    "duration": 3,
    "start_time": "2021-11-01T15:32:02.923Z"
   },
   {
    "duration": 8,
    "start_time": "2021-11-01T15:32:03.362Z"
   },
   {
    "duration": 3,
    "start_time": "2021-11-01T15:43:50.601Z"
   },
   {
    "duration": 6,
    "start_time": "2021-11-01T15:43:51.417Z"
   },
   {
    "duration": 6,
    "start_time": "2021-11-01T15:43:52.128Z"
   },
   {
    "duration": 4,
    "start_time": "2021-11-01T15:44:48.874Z"
   },
   {
    "duration": 8,
    "start_time": "2021-11-01T15:45:08.003Z"
   },
   {
    "duration": 3,
    "start_time": "2021-11-01T16:46:15.263Z"
   },
   {
    "duration": 171,
    "start_time": "2021-11-01T16:46:33.320Z"
   },
   {
    "duration": 6,
    "start_time": "2021-11-01T16:46:50.880Z"
   },
   {
    "duration": 7,
    "start_time": "2021-11-01T16:47:06.007Z"
   },
   {
    "duration": 3,
    "start_time": "2021-11-01T16:47:40.608Z"
   },
   {
    "duration": 174,
    "start_time": "2021-11-01T16:48:13.609Z"
   },
   {
    "duration": 63,
    "start_time": "2021-11-01T16:48:23.776Z"
   },
   {
    "duration": 11,
    "start_time": "2021-11-01T16:48:23.841Z"
   },
   {
    "duration": 14,
    "start_time": "2021-11-01T16:48:23.891Z"
   },
   {
    "duration": 6,
    "start_time": "2021-11-01T16:48:23.908Z"
   },
   {
    "duration": 9,
    "start_time": "2021-11-01T16:48:23.916Z"
   },
   {
    "duration": 436,
    "start_time": "2021-11-01T16:48:23.927Z"
   },
   {
    "duration": 11,
    "start_time": "2021-11-01T16:48:24.365Z"
   },
   {
    "duration": 18,
    "start_time": "2021-11-01T16:48:24.378Z"
   },
   {
    "duration": 4,
    "start_time": "2021-11-01T16:48:24.399Z"
   },
   {
    "duration": 10,
    "start_time": "2021-11-01T16:48:24.405Z"
   },
   {
    "duration": 6,
    "start_time": "2021-11-01T16:48:24.417Z"
   },
   {
    "duration": 6,
    "start_time": "2021-11-01T16:48:24.425Z"
   },
   {
    "duration": 6,
    "start_time": "2021-11-01T16:48:24.432Z"
   },
   {
    "duration": 14,
    "start_time": "2021-11-01T16:48:24.439Z"
   },
   {
    "duration": 6,
    "start_time": "2021-11-01T16:48:24.455Z"
   },
   {
    "duration": 30,
    "start_time": "2021-11-01T16:48:24.462Z"
   },
   {
    "duration": 11,
    "start_time": "2021-11-01T16:48:24.494Z"
   },
   {
    "duration": 8,
    "start_time": "2021-11-01T16:48:24.506Z"
   },
   {
    "duration": 3,
    "start_time": "2021-11-01T16:48:24.515Z"
   },
   {
    "duration": 236,
    "start_time": "2021-11-01T16:48:24.520Z"
   },
   {
    "duration": 7,
    "start_time": "2021-11-01T16:48:24.758Z"
   },
   {
    "duration": 8,
    "start_time": "2021-11-01T16:48:24.767Z"
   },
   {
    "duration": 17,
    "start_time": "2021-11-01T16:48:24.777Z"
   },
   {
    "duration": 6,
    "start_time": "2021-11-01T16:48:24.796Z"
   },
   {
    "duration": 6,
    "start_time": "2021-11-01T16:48:24.803Z"
   },
   {
    "duration": 2,
    "start_time": "2021-11-01T16:48:24.811Z"
   },
   {
    "duration": 8,
    "start_time": "2021-11-01T16:48:24.817Z"
   },
   {
    "duration": 11,
    "start_time": "2021-11-01T16:48:24.828Z"
   },
   {
    "duration": 5,
    "start_time": "2021-11-01T16:48:24.841Z"
   },
   {
    "duration": 6,
    "start_time": "2021-11-01T16:48:24.848Z"
   },
   {
    "duration": 36,
    "start_time": "2021-11-01T16:48:24.855Z"
   },
   {
    "duration": 4,
    "start_time": "2021-11-01T16:48:24.893Z"
   },
   {
    "duration": 17,
    "start_time": "2021-11-01T16:48:24.899Z"
   },
   {
    "duration": 4,
    "start_time": "2021-11-01T16:48:24.917Z"
   },
   {
    "duration": 9,
    "start_time": "2021-11-01T16:48:24.922Z"
   },
   {
    "duration": 5,
    "start_time": "2021-11-01T16:48:24.933Z"
   },
   {
    "duration": 17,
    "start_time": "2021-11-01T16:48:24.939Z"
   },
   {
    "duration": 49,
    "start_time": "2021-11-01T16:48:24.958Z"
   },
   {
    "duration": 14,
    "start_time": "2021-11-01T16:48:25.009Z"
   },
   {
    "duration": 3,
    "start_time": "2021-11-01T16:48:25.024Z"
   },
   {
    "duration": 28,
    "start_time": "2021-11-01T16:48:25.029Z"
   },
   {
    "duration": 702,
    "start_time": "2021-11-01T16:48:25.059Z"
   },
   {
    "duration": 2,
    "start_time": "2021-11-01T16:48:25.763Z"
   },
   {
    "duration": 6,
    "start_time": "2021-11-01T16:48:25.767Z"
   },
   {
    "duration": 6498,
    "start_time": "2021-11-01T16:48:25.775Z"
   },
   {
    "duration": 16,
    "start_time": "2021-11-01T16:48:32.275Z"
   },
   {
    "duration": 11,
    "start_time": "2021-11-01T16:48:32.293Z"
   },
   {
    "duration": 7,
    "start_time": "2021-11-01T16:48:32.306Z"
   },
   {
    "duration": 24,
    "start_time": "2021-11-01T16:48:32.315Z"
   },
   {
    "duration": 11,
    "start_time": "2021-11-01T16:48:32.341Z"
   },
   {
    "duration": 9,
    "start_time": "2021-11-01T16:48:32.353Z"
   },
   {
    "duration": 17,
    "start_time": "2021-11-01T16:48:32.363Z"
   },
   {
    "duration": 6,
    "start_time": "2021-11-01T16:48:32.381Z"
   },
   {
    "duration": 15,
    "start_time": "2021-11-01T16:48:32.388Z"
   },
   {
    "duration": 23,
    "start_time": "2021-11-01T16:48:32.404Z"
   },
   {
    "duration": 13,
    "start_time": "2021-11-01T16:48:32.428Z"
   },
   {
    "duration": 27,
    "start_time": "2021-11-01T16:48:32.442Z"
   },
   {
    "duration": 3,
    "start_time": "2021-11-01T16:48:32.471Z"
   },
   {
    "duration": 14,
    "start_time": "2021-11-01T16:48:32.475Z"
   },
   {
    "duration": 11,
    "start_time": "2021-11-01T16:48:32.491Z"
   },
   {
    "duration": 7,
    "start_time": "2021-11-01T16:48:32.503Z"
   },
   {
    "duration": 14,
    "start_time": "2021-11-01T16:48:32.511Z"
   },
   {
    "duration": 9,
    "start_time": "2021-11-01T16:48:32.527Z"
   },
   {
    "duration": 15,
    "start_time": "2021-11-01T16:48:32.537Z"
   },
   {
    "duration": 13,
    "start_time": "2021-11-01T16:48:32.553Z"
   },
   {
    "duration": 8,
    "start_time": "2021-11-01T16:48:32.568Z"
   },
   {
    "duration": 13,
    "start_time": "2021-11-01T16:48:32.578Z"
   },
   {
    "duration": 7,
    "start_time": "2021-11-01T16:48:32.592Z"
   },
   {
    "duration": 16,
    "start_time": "2021-11-01T16:48:32.601Z"
   },
   {
    "duration": 13,
    "start_time": "2021-11-01T16:48:32.619Z"
   },
   {
    "duration": 8,
    "start_time": "2021-11-01T16:48:32.633Z"
   },
   {
    "duration": 10,
    "start_time": "2021-11-01T16:48:32.643Z"
   },
   {
    "duration": 5,
    "start_time": "2021-11-01T16:48:32.655Z"
   },
   {
    "duration": 14,
    "start_time": "2021-11-01T16:48:32.662Z"
   },
   {
    "duration": 10,
    "start_time": "2021-11-01T16:48:32.678Z"
   },
   {
    "duration": 7,
    "start_time": "2021-11-01T16:48:32.690Z"
   },
   {
    "duration": 17,
    "start_time": "2021-11-01T16:48:32.698Z"
   },
   {
    "duration": 4,
    "start_time": "2021-11-01T16:48:44.728Z"
   },
   {
    "duration": 8,
    "start_time": "2021-11-01T16:48:45.361Z"
   },
   {
    "duration": 4,
    "start_time": "2021-11-01T16:49:11.074Z"
   },
   {
    "duration": 7,
    "start_time": "2021-11-01T16:49:12.130Z"
   },
   {
    "duration": 610,
    "start_time": "2021-11-01T17:05:16.310Z"
   },
   {
    "duration": 10,
    "start_time": "2021-11-01T17:05:16.922Z"
   },
   {
    "duration": 9,
    "start_time": "2021-11-01T17:05:16.934Z"
   },
   {
    "duration": 5,
    "start_time": "2021-11-01T17:05:16.945Z"
   },
   {
    "duration": 4,
    "start_time": "2021-11-01T17:05:16.951Z"
   },
   {
    "duration": 403,
    "start_time": "2021-11-01T17:05:16.957Z"
   },
   {
    "duration": 9,
    "start_time": "2021-11-01T17:05:17.362Z"
   },
   {
    "duration": 8,
    "start_time": "2021-11-01T17:05:17.373Z"
   },
   {
    "duration": 4,
    "start_time": "2021-11-01T17:05:17.393Z"
   },
   {
    "duration": 4,
    "start_time": "2021-11-01T17:05:17.400Z"
   },
   {
    "duration": 10,
    "start_time": "2021-11-01T17:05:17.406Z"
   },
   {
    "duration": 9,
    "start_time": "2021-11-01T17:05:17.418Z"
   },
   {
    "duration": 4,
    "start_time": "2021-11-01T17:05:17.428Z"
   },
   {
    "duration": 17,
    "start_time": "2021-11-01T17:05:17.434Z"
   },
   {
    "duration": 8,
    "start_time": "2021-11-01T17:05:17.452Z"
   },
   {
    "duration": 30,
    "start_time": "2021-11-01T17:05:17.462Z"
   },
   {
    "duration": 10,
    "start_time": "2021-11-01T17:05:17.494Z"
   },
   {
    "duration": 8,
    "start_time": "2021-11-01T17:05:17.506Z"
   },
   {
    "duration": 3,
    "start_time": "2021-11-01T17:05:17.516Z"
   },
   {
    "duration": 242,
    "start_time": "2021-11-01T17:05:17.521Z"
   },
   {
    "duration": 8,
    "start_time": "2021-11-01T17:05:17.765Z"
   },
   {
    "duration": 17,
    "start_time": "2021-11-01T17:05:17.775Z"
   },
   {
    "duration": 3,
    "start_time": "2021-11-01T17:05:17.794Z"
   },
   {
    "duration": 15,
    "start_time": "2021-11-01T17:05:17.799Z"
   },
   {
    "duration": 9,
    "start_time": "2021-11-01T17:05:17.816Z"
   },
   {
    "duration": 5,
    "start_time": "2021-11-01T17:05:17.827Z"
   },
   {
    "duration": 14,
    "start_time": "2021-11-01T17:05:17.837Z"
   },
   {
    "duration": 6,
    "start_time": "2021-11-01T17:05:17.854Z"
   },
   {
    "duration": 5,
    "start_time": "2021-11-01T17:05:17.862Z"
   },
   {
    "duration": 26,
    "start_time": "2021-11-01T17:05:17.869Z"
   },
   {
    "duration": 3,
    "start_time": "2021-11-01T17:05:17.897Z"
   },
   {
    "duration": 6,
    "start_time": "2021-11-01T17:05:17.902Z"
   },
   {
    "duration": 13,
    "start_time": "2021-11-01T17:05:17.909Z"
   },
   {
    "duration": 4,
    "start_time": "2021-11-01T17:05:17.923Z"
   },
   {
    "duration": 8,
    "start_time": "2021-11-01T17:05:17.928Z"
   },
   {
    "duration": 5,
    "start_time": "2021-11-01T17:05:17.937Z"
   },
   {
    "duration": 51,
    "start_time": "2021-11-01T17:05:17.943Z"
   },
   {
    "duration": 17,
    "start_time": "2021-11-01T17:05:17.995Z"
   },
   {
    "duration": 14,
    "start_time": "2021-11-01T17:05:18.014Z"
   },
   {
    "duration": 4,
    "start_time": "2021-11-01T17:05:18.029Z"
   },
   {
    "duration": 3,
    "start_time": "2021-11-01T17:05:18.035Z"
   },
   {
    "duration": 677,
    "start_time": "2021-11-01T17:05:18.040Z"
   },
   {
    "duration": 2,
    "start_time": "2021-11-01T17:05:18.719Z"
   },
   {
    "duration": 7,
    "start_time": "2021-11-01T17:05:18.723Z"
   },
   {
    "duration": 5720,
    "start_time": "2021-11-01T17:05:18.731Z"
   },
   {
    "duration": 5,
    "start_time": "2021-11-01T17:05:24.453Z"
   },
   {
    "duration": 31,
    "start_time": "2021-11-01T17:05:24.460Z"
   },
   {
    "duration": 2,
    "start_time": "2021-11-01T17:05:24.493Z"
   },
   {
    "duration": 18,
    "start_time": "2021-11-01T17:05:24.497Z"
   },
   {
    "duration": 12,
    "start_time": "2021-11-01T17:05:24.516Z"
   },
   {
    "duration": 5,
    "start_time": "2021-11-01T17:05:24.530Z"
   },
   {
    "duration": 23,
    "start_time": "2021-11-01T17:05:24.537Z"
   },
   {
    "duration": 13,
    "start_time": "2021-11-01T17:05:24.561Z"
   },
   {
    "duration": 8,
    "start_time": "2021-11-01T17:05:24.576Z"
   },
   {
    "duration": 27,
    "start_time": "2021-11-01T17:05:24.585Z"
   },
   {
    "duration": 4,
    "start_time": "2021-11-01T17:05:24.613Z"
   },
   {
    "duration": 29,
    "start_time": "2021-11-01T17:05:24.619Z"
   },
   {
    "duration": 2,
    "start_time": "2021-11-01T17:05:24.650Z"
   },
   {
    "duration": 9,
    "start_time": "2021-11-01T17:05:24.654Z"
   },
   {
    "duration": 8,
    "start_time": "2021-11-01T17:05:24.665Z"
   },
   {
    "duration": 7,
    "start_time": "2021-11-01T17:05:24.675Z"
   },
   {
    "duration": 12,
    "start_time": "2021-11-01T17:05:24.684Z"
   },
   {
    "duration": 8,
    "start_time": "2021-11-01T17:05:24.697Z"
   },
   {
    "duration": 8,
    "start_time": "2021-11-01T17:05:24.706Z"
   },
   {
    "duration": 10,
    "start_time": "2021-11-01T17:05:24.716Z"
   },
   {
    "duration": 6,
    "start_time": "2021-11-01T17:05:24.728Z"
   },
   {
    "duration": 19,
    "start_time": "2021-11-01T17:05:24.736Z"
   },
   {
    "duration": 16,
    "start_time": "2021-11-01T17:05:24.757Z"
   },
   {
    "duration": 19,
    "start_time": "2021-11-01T17:05:24.775Z"
   },
   {
    "duration": 18,
    "start_time": "2021-11-01T17:05:24.796Z"
   },
   {
    "duration": 14,
    "start_time": "2021-11-01T17:05:24.815Z"
   },
   {
    "duration": 42,
    "start_time": "2021-11-01T17:05:24.830Z"
   },
   {
    "duration": 15,
    "start_time": "2021-11-01T17:05:24.873Z"
   },
   {
    "duration": 18,
    "start_time": "2021-11-01T17:05:24.890Z"
   },
   {
    "duration": 7,
    "start_time": "2021-11-01T17:05:24.910Z"
   },
   {
    "duration": 11,
    "start_time": "2021-11-01T17:05:24.918Z"
   },
   {
    "duration": 13,
    "start_time": "2021-11-01T17:05:24.930Z"
   },
   {
    "duration": 83,
    "start_time": "2021-11-02T10:41:47.571Z"
   },
   {
    "duration": 672,
    "start_time": "2021-11-02T10:42:11.970Z"
   },
   {
    "duration": 11,
    "start_time": "2021-11-02T10:42:12.644Z"
   },
   {
    "duration": 14,
    "start_time": "2021-11-02T10:42:12.657Z"
   },
   {
    "duration": 6,
    "start_time": "2021-11-02T10:42:12.673Z"
   },
   {
    "duration": 4,
    "start_time": "2021-11-02T10:42:12.680Z"
   },
   {
    "duration": 417,
    "start_time": "2021-11-02T10:42:12.686Z"
   },
   {
    "duration": 11,
    "start_time": "2021-11-02T10:42:13.105Z"
   },
   {
    "duration": 21,
    "start_time": "2021-11-02T10:42:13.118Z"
   },
   {
    "duration": 5,
    "start_time": "2021-11-02T10:42:13.142Z"
   },
   {
    "duration": 4,
    "start_time": "2021-11-02T10:42:13.164Z"
   },
   {
    "duration": 9,
    "start_time": "2021-11-02T10:42:13.170Z"
   },
   {
    "duration": 6,
    "start_time": "2021-11-02T10:42:13.181Z"
   },
   {
    "duration": 4,
    "start_time": "2021-11-02T10:42:13.189Z"
   },
   {
    "duration": 16,
    "start_time": "2021-11-02T10:42:13.194Z"
   },
   {
    "duration": 14,
    "start_time": "2021-11-02T10:42:13.211Z"
   },
   {
    "duration": 7,
    "start_time": "2021-11-02T10:42:13.227Z"
   },
   {
    "duration": 35,
    "start_time": "2021-11-02T10:42:13.235Z"
   },
   {
    "duration": 7,
    "start_time": "2021-11-02T10:42:13.272Z"
   },
   {
    "duration": 4,
    "start_time": "2021-11-02T10:42:13.281Z"
   },
   {
    "duration": 248,
    "start_time": "2021-11-02T10:42:13.286Z"
   },
   {
    "duration": 7,
    "start_time": "2021-11-02T10:42:13.536Z"
   },
   {
    "duration": 20,
    "start_time": "2021-11-02T10:42:13.545Z"
   },
   {
    "duration": 5,
    "start_time": "2021-11-02T10:42:13.569Z"
   },
   {
    "duration": 8,
    "start_time": "2021-11-02T10:42:13.577Z"
   },
   {
    "duration": 7,
    "start_time": "2021-11-02T10:42:13.586Z"
   },
   {
    "duration": 8,
    "start_time": "2021-11-02T10:42:13.595Z"
   },
   {
    "duration": 13,
    "start_time": "2021-11-02T10:42:13.605Z"
   },
   {
    "duration": 13,
    "start_time": "2021-11-02T10:42:13.620Z"
   },
   {
    "duration": 8,
    "start_time": "2021-11-02T10:42:13.636Z"
   },
   {
    "duration": 6,
    "start_time": "2021-11-02T10:42:13.663Z"
   },
   {
    "duration": 9,
    "start_time": "2021-11-02T10:42:13.671Z"
   },
   {
    "duration": 11,
    "start_time": "2021-11-02T10:42:13.682Z"
   },
   {
    "duration": 17,
    "start_time": "2021-11-02T10:42:13.695Z"
   },
   {
    "duration": 4,
    "start_time": "2021-11-02T10:42:13.714Z"
   },
   {
    "duration": 14,
    "start_time": "2021-11-02T10:42:13.720Z"
   },
   {
    "duration": 8,
    "start_time": "2021-11-02T10:42:13.735Z"
   },
   {
    "duration": 18,
    "start_time": "2021-11-02T10:42:13.764Z"
   },
   {
    "duration": 18,
    "start_time": "2021-11-02T10:42:13.784Z"
   },
   {
    "duration": 17,
    "start_time": "2021-11-02T10:42:13.804Z"
   },
   {
    "duration": 7,
    "start_time": "2021-11-02T10:42:13.823Z"
   },
   {
    "duration": 10,
    "start_time": "2021-11-02T10:42:13.832Z"
   },
   {
    "duration": 684,
    "start_time": "2021-11-02T10:42:13.864Z"
   },
   {
    "duration": 3,
    "start_time": "2021-11-02T10:42:14.550Z"
   },
   {
    "duration": 11,
    "start_time": "2021-11-02T10:42:14.555Z"
   },
   {
    "duration": 6399,
    "start_time": "2021-11-02T10:42:14.568Z"
   },
   {
    "duration": 6,
    "start_time": "2021-11-02T10:42:20.969Z"
   },
   {
    "duration": 19,
    "start_time": "2021-11-02T10:42:20.977Z"
   },
   {
    "duration": 9,
    "start_time": "2021-11-02T10:42:20.999Z"
   },
   {
    "duration": 22,
    "start_time": "2021-11-02T10:42:21.010Z"
   },
   {
    "duration": 10,
    "start_time": "2021-11-02T10:42:21.033Z"
   },
   {
    "duration": 17,
    "start_time": "2021-11-02T10:42:21.045Z"
   },
   {
    "duration": 14,
    "start_time": "2021-11-02T10:42:21.064Z"
   },
   {
    "duration": 10,
    "start_time": "2021-11-02T10:42:21.080Z"
   },
   {
    "duration": 7,
    "start_time": "2021-11-02T10:42:21.091Z"
   },
   {
    "duration": 15,
    "start_time": "2021-11-02T10:42:21.100Z"
   },
   {
    "duration": 12,
    "start_time": "2021-11-02T10:42:21.117Z"
   },
   {
    "duration": 34,
    "start_time": "2021-11-02T10:42:21.131Z"
   },
   {
    "duration": 3,
    "start_time": "2021-11-02T10:42:21.166Z"
   },
   {
    "duration": 14,
    "start_time": "2021-11-02T10:42:21.171Z"
   },
   {
    "duration": 12,
    "start_time": "2021-11-02T10:42:21.186Z"
   },
   {
    "duration": 14,
    "start_time": "2021-11-02T10:42:21.199Z"
   },
   {
    "duration": 12,
    "start_time": "2021-11-02T10:42:21.215Z"
   },
   {
    "duration": 16,
    "start_time": "2021-11-02T10:42:21.229Z"
   },
   {
    "duration": 15,
    "start_time": "2021-11-02T10:42:21.247Z"
   },
   {
    "duration": 15,
    "start_time": "2021-11-02T10:42:21.264Z"
   },
   {
    "duration": 7,
    "start_time": "2021-11-02T10:42:21.280Z"
   },
   {
    "duration": 14,
    "start_time": "2021-11-02T10:42:21.288Z"
   },
   {
    "duration": 7,
    "start_time": "2021-11-02T10:42:21.307Z"
   },
   {
    "duration": 9,
    "start_time": "2021-11-02T10:42:21.316Z"
   },
   {
    "duration": 14,
    "start_time": "2021-11-02T10:42:21.327Z"
   },
   {
    "duration": 10,
    "start_time": "2021-11-02T10:42:21.343Z"
   },
   {
    "duration": 17,
    "start_time": "2021-11-02T10:42:21.355Z"
   },
   {
    "duration": 8,
    "start_time": "2021-11-02T10:42:21.374Z"
   },
   {
    "duration": 14,
    "start_time": "2021-11-02T10:42:21.384Z"
   },
   {
    "duration": 8,
    "start_time": "2021-11-02T10:42:21.400Z"
   },
   {
    "duration": 13,
    "start_time": "2021-11-02T10:42:21.409Z"
   },
   {
    "duration": 16,
    "start_time": "2021-11-02T10:42:21.424Z"
   },
   {
    "duration": 303,
    "start_time": "2021-11-02T10:43:13.725Z"
   },
   {
    "duration": 21,
    "start_time": "2021-11-02T10:43:25.830Z"
   },
   {
    "duration": 5,
    "start_time": "2021-11-02T10:43:28.822Z"
   },
   {
    "duration": 77,
    "start_time": "2021-11-02T10:49:07.076Z"
   },
   {
    "duration": 6,
    "start_time": "2021-11-02T10:51:24.591Z"
   },
   {
    "duration": 705,
    "start_time": "2021-11-02T10:51:47.627Z"
   },
   {
    "duration": 12,
    "start_time": "2021-11-02T10:51:48.333Z"
   },
   {
    "duration": 16,
    "start_time": "2021-11-02T10:51:48.347Z"
   },
   {
    "duration": 15,
    "start_time": "2021-11-02T10:51:48.365Z"
   },
   {
    "duration": 14,
    "start_time": "2021-11-02T10:51:48.381Z"
   },
   {
    "duration": 440,
    "start_time": "2021-11-02T10:51:48.397Z"
   },
   {
    "duration": 11,
    "start_time": "2021-11-02T10:51:48.839Z"
   },
   {
    "duration": 15,
    "start_time": "2021-11-02T10:51:48.852Z"
   },
   {
    "duration": 18,
    "start_time": "2021-11-02T10:51:48.869Z"
   },
   {
    "duration": 5,
    "start_time": "2021-11-02T10:51:48.889Z"
   },
   {
    "duration": 8,
    "start_time": "2021-11-02T10:51:48.896Z"
   },
   {
    "duration": 6,
    "start_time": "2021-11-02T10:51:48.907Z"
   },
   {
    "duration": 8,
    "start_time": "2021-11-02T10:51:48.915Z"
   },
   {
    "duration": 24,
    "start_time": "2021-11-02T10:51:48.925Z"
   },
   {
    "duration": 13,
    "start_time": "2021-11-02T10:51:48.951Z"
   },
   {
    "duration": 5,
    "start_time": "2021-11-02T10:51:48.966Z"
   },
   {
    "duration": 12,
    "start_time": "2021-11-02T10:51:48.972Z"
   },
   {
    "duration": 13,
    "start_time": "2021-11-02T10:51:48.986Z"
   },
   {
    "duration": 9,
    "start_time": "2021-11-02T10:51:49.000Z"
   },
   {
    "duration": 5,
    "start_time": "2021-11-02T10:51:49.010Z"
   },
   {
    "duration": 251,
    "start_time": "2021-11-02T10:51:49.017Z"
   },
   {
    "duration": 7,
    "start_time": "2021-11-02T10:51:49.270Z"
   },
   {
    "duration": 7,
    "start_time": "2021-11-02T10:51:49.281Z"
   },
   {
    "duration": 7,
    "start_time": "2021-11-02T10:51:49.290Z"
   },
   {
    "duration": 7,
    "start_time": "2021-11-02T10:51:49.299Z"
   },
   {
    "duration": 13,
    "start_time": "2021-11-02T10:51:49.308Z"
   },
   {
    "duration": 5,
    "start_time": "2021-11-02T10:51:49.323Z"
   },
   {
    "duration": 34,
    "start_time": "2021-11-02T10:51:49.329Z"
   },
   {
    "duration": 8,
    "start_time": "2021-11-02T10:51:49.365Z"
   },
   {
    "duration": 9,
    "start_time": "2021-11-02T10:51:49.375Z"
   },
   {
    "duration": 10,
    "start_time": "2021-11-02T10:51:49.386Z"
   },
   {
    "duration": 6,
    "start_time": "2021-11-02T10:51:49.398Z"
   },
   {
    "duration": 12,
    "start_time": "2021-11-02T10:51:49.406Z"
   },
   {
    "duration": 20,
    "start_time": "2021-11-02T10:51:49.420Z"
   },
   {
    "duration": 23,
    "start_time": "2021-11-02T10:51:49.442Z"
   },
   {
    "duration": 8,
    "start_time": "2021-11-02T10:51:49.467Z"
   },
   {
    "duration": 6,
    "start_time": "2021-11-02T10:51:49.477Z"
   },
   {
    "duration": 20,
    "start_time": "2021-11-02T10:51:49.485Z"
   },
   {
    "duration": 19,
    "start_time": "2021-11-02T10:51:49.506Z"
   },
   {
    "duration": 49,
    "start_time": "2021-11-02T10:51:49.526Z"
   },
   {
    "duration": 7,
    "start_time": "2021-11-02T10:51:49.577Z"
   },
   {
    "duration": 10,
    "start_time": "2021-11-02T10:51:49.586Z"
   },
   {
    "duration": 1122,
    "start_time": "2021-11-02T10:51:49.598Z"
   },
   {
    "duration": 3,
    "start_time": "2021-11-02T10:51:50.722Z"
   },
   {
    "duration": 8,
    "start_time": "2021-11-02T10:51:50.726Z"
   },
   {
    "duration": 6490,
    "start_time": "2021-11-02T10:51:50.736Z"
   },
   {
    "duration": 6,
    "start_time": "2021-11-02T10:51:57.228Z"
   },
   {
    "duration": 35,
    "start_time": "2021-11-02T10:51:57.236Z"
   },
   {
    "duration": 5,
    "start_time": "2021-11-02T10:51:57.273Z"
   },
   {
    "duration": 16,
    "start_time": "2021-11-02T10:51:57.279Z"
   },
   {
    "duration": 6,
    "start_time": "2021-11-02T10:51:57.296Z"
   },
   {
    "duration": 5,
    "start_time": "2021-11-02T10:51:57.304Z"
   },
   {
    "duration": 22,
    "start_time": "2021-11-02T10:51:57.310Z"
   },
   {
    "duration": 9,
    "start_time": "2021-11-02T10:51:57.334Z"
   },
   {
    "duration": 4,
    "start_time": "2021-11-02T10:51:57.363Z"
   },
   {
    "duration": 16,
    "start_time": "2021-11-02T10:51:57.369Z"
   },
   {
    "duration": 12,
    "start_time": "2021-11-02T10:51:57.387Z"
   },
   {
    "duration": 24,
    "start_time": "2021-11-02T10:51:57.401Z"
   },
   {
    "duration": 3,
    "start_time": "2021-11-02T10:51:57.427Z"
   },
   {
    "duration": 13,
    "start_time": "2021-11-02T10:51:57.432Z"
   },
   {
    "duration": 18,
    "start_time": "2021-11-02T10:51:57.446Z"
   },
   {
    "duration": 8,
    "start_time": "2021-11-02T10:51:57.466Z"
   },
   {
    "duration": 9,
    "start_time": "2021-11-02T10:51:57.476Z"
   },
   {
    "duration": 10,
    "start_time": "2021-11-02T10:51:57.487Z"
   },
   {
    "duration": 10,
    "start_time": "2021-11-02T10:51:57.499Z"
   },
   {
    "duration": 10,
    "start_time": "2021-11-02T10:51:57.511Z"
   },
   {
    "duration": 11,
    "start_time": "2021-11-02T10:51:57.522Z"
   },
   {
    "duration": 29,
    "start_time": "2021-11-02T10:51:57.539Z"
   },
   {
    "duration": 5,
    "start_time": "2021-11-02T10:51:57.570Z"
   },
   {
    "duration": 13,
    "start_time": "2021-11-02T10:51:57.576Z"
   },
   {
    "duration": 12,
    "start_time": "2021-11-02T10:51:57.591Z"
   },
   {
    "duration": 10,
    "start_time": "2021-11-02T10:51:57.604Z"
   },
   {
    "duration": 20,
    "start_time": "2021-11-02T10:51:57.616Z"
   },
   {
    "duration": 10,
    "start_time": "2021-11-02T10:51:57.638Z"
   },
   {
    "duration": 12,
    "start_time": "2021-11-02T10:51:57.649Z"
   },
   {
    "duration": 8,
    "start_time": "2021-11-02T10:51:57.663Z"
   },
   {
    "duration": 8,
    "start_time": "2021-11-02T10:51:57.673Z"
   },
   {
    "duration": 14,
    "start_time": "2021-11-02T10:51:57.683Z"
   },
   {
    "duration": 84,
    "start_time": "2021-11-02T11:08:25.935Z"
   },
   {
    "duration": 31,
    "start_time": "2021-11-02T11:19:53.177Z"
   },
   {
    "duration": 63,
    "start_time": "2021-11-02T11:20:00.962Z"
   },
   {
    "duration": 12,
    "start_time": "2021-11-02T11:20:01.922Z"
   },
   {
    "duration": 11,
    "start_time": "2021-11-02T11:20:04.826Z"
   },
   {
    "duration": 6,
    "start_time": "2021-11-02T11:20:06.452Z"
   },
   {
    "duration": 3,
    "start_time": "2021-11-02T11:20:07.137Z"
   },
   {
    "duration": 395,
    "start_time": "2021-11-02T11:20:08.032Z"
   },
   {
    "duration": 11,
    "start_time": "2021-11-02T11:20:09.736Z"
   },
   {
    "duration": 10,
    "start_time": "2021-11-02T11:20:10.617Z"
   },
   {
    "duration": 5,
    "start_time": "2021-11-02T11:20:13.296Z"
   },
   {
    "duration": 4,
    "start_time": "2021-11-02T11:20:14.864Z"
   },
   {
    "duration": 6,
    "start_time": "2021-11-02T11:20:15.315Z"
   },
   {
    "duration": 4,
    "start_time": "2021-11-02T11:20:18.603Z"
   },
   {
    "duration": 3,
    "start_time": "2021-11-02T11:20:21.059Z"
   },
   {
    "duration": 14,
    "start_time": "2021-11-02T11:20:21.240Z"
   },
   {
    "duration": 5,
    "start_time": "2021-11-02T11:20:21.400Z"
   },
   {
    "duration": 4,
    "start_time": "2021-11-02T11:20:23.704Z"
   },
   {
    "duration": 9,
    "start_time": "2021-11-02T11:20:25.609Z"
   },
   {
    "duration": 31,
    "start_time": "2021-11-02T11:20:33.478Z"
   },
   {
    "duration": 9,
    "start_time": "2021-11-02T11:20:37.042Z"
   },
   {
    "duration": 8,
    "start_time": "2021-11-02T11:20:44.113Z"
   },
   {
    "duration": 677,
    "start_time": "2021-11-02T11:21:12.168Z"
   },
   {
    "duration": 11,
    "start_time": "2021-11-02T11:21:12.847Z"
   },
   {
    "duration": 10,
    "start_time": "2021-11-02T11:21:12.860Z"
   },
   {
    "duration": 7,
    "start_time": "2021-11-02T11:21:12.872Z"
   },
   {
    "duration": 6,
    "start_time": "2021-11-02T11:21:12.881Z"
   },
   {
    "duration": 489,
    "start_time": "2021-11-02T11:21:12.888Z"
   },
   {
    "duration": 10,
    "start_time": "2021-11-02T11:21:13.379Z"
   },
   {
    "duration": 13,
    "start_time": "2021-11-02T11:21:13.392Z"
   },
   {
    "duration": 10,
    "start_time": "2021-11-02T11:21:13.408Z"
   },
   {
    "duration": 5,
    "start_time": "2021-11-02T11:21:13.421Z"
   },
   {
    "duration": 8,
    "start_time": "2021-11-02T11:21:13.428Z"
   },
   {
    "duration": 5,
    "start_time": "2021-11-02T11:21:13.463Z"
   },
   {
    "duration": 4,
    "start_time": "2021-11-02T11:21:13.471Z"
   },
   {
    "duration": 16,
    "start_time": "2021-11-02T11:21:13.478Z"
   },
   {
    "duration": 6,
    "start_time": "2021-11-02T11:21:13.496Z"
   },
   {
    "duration": 10,
    "start_time": "2021-11-02T11:21:13.503Z"
   },
   {
    "duration": 17,
    "start_time": "2021-11-02T11:21:13.515Z"
   },
   {
    "duration": 35,
    "start_time": "2021-11-02T11:21:13.534Z"
   },
   {
    "duration": 3,
    "start_time": "2021-11-02T11:21:13.570Z"
   },
   {
    "duration": 247,
    "start_time": "2021-11-02T11:21:13.575Z"
   },
   {
    "duration": 6,
    "start_time": "2021-11-02T11:21:13.824Z"
   },
   {
    "duration": 19,
    "start_time": "2021-11-02T11:21:13.832Z"
   },
   {
    "duration": 9,
    "start_time": "2021-11-02T11:21:13.855Z"
   },
   {
    "duration": 4,
    "start_time": "2021-11-02T11:21:13.867Z"
   },
   {
    "duration": 12,
    "start_time": "2021-11-02T11:21:13.873Z"
   },
   {
    "duration": 4,
    "start_time": "2021-11-02T11:21:13.887Z"
   },
   {
    "duration": 11,
    "start_time": "2021-11-02T11:21:13.893Z"
   },
   {
    "duration": 14,
    "start_time": "2021-11-02T11:21:13.906Z"
   },
   {
    "duration": 8,
    "start_time": "2021-11-02T11:21:13.922Z"
   },
   {
    "duration": 34,
    "start_time": "2021-11-02T11:21:13.932Z"
   },
   {
    "duration": 5,
    "start_time": "2021-11-02T11:21:13.969Z"
   },
   {
    "duration": 9,
    "start_time": "2021-11-02T11:21:13.976Z"
   },
   {
    "duration": 18,
    "start_time": "2021-11-02T11:21:13.987Z"
   },
   {
    "duration": 5,
    "start_time": "2021-11-02T11:21:14.008Z"
   },
   {
    "duration": 12,
    "start_time": "2021-11-02T11:21:14.015Z"
   },
   {
    "duration": 39,
    "start_time": "2021-11-02T11:21:14.029Z"
   },
   {
    "duration": 18,
    "start_time": "2021-11-02T11:21:14.070Z"
   },
   {
    "duration": 19,
    "start_time": "2021-11-02T11:21:14.091Z"
   },
   {
    "duration": 15,
    "start_time": "2021-11-02T11:21:14.112Z"
   },
   {
    "duration": 40,
    "start_time": "2021-11-02T11:21:14.129Z"
   },
   {
    "duration": 5,
    "start_time": "2021-11-02T11:21:14.171Z"
   },
   {
    "duration": 908,
    "start_time": "2021-11-02T11:21:14.177Z"
   },
   {
    "duration": 3,
    "start_time": "2021-11-02T11:21:15.087Z"
   },
   {
    "duration": 7,
    "start_time": "2021-11-02T11:21:15.091Z"
   },
   {
    "duration": 7311,
    "start_time": "2021-11-02T11:21:15.100Z"
   },
   {
    "duration": 5,
    "start_time": "2021-11-02T11:21:22.413Z"
   },
   {
    "duration": 29,
    "start_time": "2021-11-02T11:21:22.420Z"
   },
   {
    "duration": 12,
    "start_time": "2021-11-02T11:21:22.451Z"
   },
   {
    "duration": 23,
    "start_time": "2021-11-02T11:21:22.465Z"
   },
   {
    "duration": 13,
    "start_time": "2021-11-02T11:21:22.490Z"
   },
   {
    "duration": 10,
    "start_time": "2021-11-02T11:21:22.505Z"
   },
   {
    "duration": 34,
    "start_time": "2021-11-02T11:21:22.517Z"
   },
   {
    "duration": 8,
    "start_time": "2021-11-02T11:21:22.553Z"
   },
   {
    "duration": 17,
    "start_time": "2021-11-02T11:21:22.562Z"
   },
   {
    "duration": 17,
    "start_time": "2021-11-02T11:21:22.581Z"
   },
   {
    "duration": 13,
    "start_time": "2021-11-02T11:21:22.599Z"
   },
   {
    "duration": 29,
    "start_time": "2021-11-02T11:21:22.614Z"
   },
   {
    "duration": 3,
    "start_time": "2021-11-02T11:21:22.645Z"
   },
   {
    "duration": 13,
    "start_time": "2021-11-02T11:21:22.650Z"
   },
   {
    "duration": 16,
    "start_time": "2021-11-02T11:21:22.665Z"
   },
   {
    "duration": 10,
    "start_time": "2021-11-02T11:21:22.684Z"
   },
   {
    "duration": 10,
    "start_time": "2021-11-02T11:21:22.696Z"
   },
   {
    "duration": 8,
    "start_time": "2021-11-02T11:21:22.708Z"
   },
   {
    "duration": 10,
    "start_time": "2021-11-02T11:21:22.718Z"
   },
   {
    "duration": 9,
    "start_time": "2021-11-02T11:21:22.731Z"
   },
   {
    "duration": 11,
    "start_time": "2021-11-02T11:21:22.742Z"
   },
   {
    "duration": 14,
    "start_time": "2021-11-02T11:21:22.755Z"
   },
   {
    "duration": 5,
    "start_time": "2021-11-02T11:21:22.777Z"
   },
   {
    "duration": 11,
    "start_time": "2021-11-02T11:21:22.784Z"
   },
   {
    "duration": 9,
    "start_time": "2021-11-02T11:21:22.797Z"
   },
   {
    "duration": 8,
    "start_time": "2021-11-02T11:21:22.808Z"
   },
   {
    "duration": 21,
    "start_time": "2021-11-02T11:21:22.818Z"
   },
   {
    "duration": 24,
    "start_time": "2021-11-02T11:21:22.841Z"
   },
   {
    "duration": 14,
    "start_time": "2021-11-02T11:21:22.867Z"
   },
   {
    "duration": 8,
    "start_time": "2021-11-02T11:21:22.883Z"
   },
   {
    "duration": 8,
    "start_time": "2021-11-02T11:21:22.892Z"
   },
   {
    "duration": 14,
    "start_time": "2021-11-02T11:21:22.901Z"
   },
   {
    "duration": 289,
    "start_time": "2021-11-02T11:44:17.641Z"
   },
   {
    "duration": 237,
    "start_time": "2021-11-02T11:44:33.912Z"
   },
   {
    "duration": 13,
    "start_time": "2021-11-02T11:44:38.570Z"
   },
   {
    "duration": 10,
    "start_time": "2021-11-02T11:48:48.807Z"
   },
   {
    "duration": 9,
    "start_time": "2021-11-02T11:48:52.022Z"
   },
   {
    "duration": 81,
    "start_time": "2021-11-02T11:50:35.041Z"
   },
   {
    "duration": 8,
    "start_time": "2021-11-02T11:53:21.139Z"
   },
   {
    "duration": 352,
    "start_time": "2021-11-02T16:02:21.440Z"
   },
   {
    "duration": 864,
    "start_time": "2021-11-02T16:02:27.263Z"
   },
   {
    "duration": 15,
    "start_time": "2021-11-02T16:02:29.105Z"
   },
   {
    "duration": 47,
    "start_time": "2021-11-02T16:02:32.877Z"
   },
   {
    "duration": 13,
    "start_time": "2021-11-02T16:11:31.840Z"
   },
   {
    "duration": 13,
    "start_time": "2021-11-02T16:11:32.932Z"
   },
   {
    "duration": 7,
    "start_time": "2021-11-02T16:11:36.700Z"
   },
   {
    "duration": 7768,
    "start_time": "2021-11-02T16:11:39.628Z"
   },
   {
    "duration": 405,
    "start_time": "2021-11-02T16:11:46.993Z"
   },
   {
    "duration": 80,
    "start_time": "2021-11-02T16:11:50.991Z"
   },
   {
    "duration": 17,
    "start_time": "2021-11-02T16:11:51.074Z"
   },
   {
    "duration": 101,
    "start_time": "2021-11-02T16:11:51.095Z"
   },
   {
    "duration": 13,
    "start_time": "2021-11-02T16:11:51.198Z"
   },
   {
    "duration": 15,
    "start_time": "2021-11-02T16:11:51.213Z"
   },
   {
    "duration": 39,
    "start_time": "2021-11-02T16:11:51.230Z"
   },
   {
    "duration": 745,
    "start_time": "2021-11-02T16:11:51.271Z"
   },
   {
    "duration": 14,
    "start_time": "2021-11-02T16:11:52.021Z"
   },
   {
    "duration": 30,
    "start_time": "2021-11-02T16:11:52.038Z"
   },
   {
    "duration": 7,
    "start_time": "2021-11-02T16:11:52.070Z"
   },
   {
    "duration": 6,
    "start_time": "2021-11-02T16:11:52.079Z"
   },
   {
    "duration": 8,
    "start_time": "2021-11-02T16:11:52.087Z"
   },
   {
    "duration": 7,
    "start_time": "2021-11-02T16:11:52.097Z"
   },
   {
    "duration": 8,
    "start_time": "2021-11-02T16:11:52.107Z"
   },
   {
    "duration": 63,
    "start_time": "2021-11-02T16:11:52.117Z"
   },
   {
    "duration": 7,
    "start_time": "2021-11-02T16:11:52.182Z"
   },
   {
    "duration": 10,
    "start_time": "2021-11-02T16:11:52.192Z"
   },
   {
    "duration": 12,
    "start_time": "2021-11-02T16:11:52.204Z"
   },
   {
    "duration": 52,
    "start_time": "2021-11-02T16:11:52.219Z"
   },
   {
    "duration": 4,
    "start_time": "2021-11-02T16:11:52.274Z"
   },
   {
    "duration": 413,
    "start_time": "2021-11-02T16:11:52.281Z"
   },
   {
    "duration": 9,
    "start_time": "2021-11-02T16:11:52.696Z"
   },
   {
    "duration": 6,
    "start_time": "2021-11-02T16:11:52.712Z"
   },
   {
    "duration": 9,
    "start_time": "2021-11-02T16:11:52.722Z"
   },
   {
    "duration": 39,
    "start_time": "2021-11-02T16:11:52.733Z"
   },
   {
    "duration": 9,
    "start_time": "2021-11-02T16:11:52.774Z"
   },
   {
    "duration": 4,
    "start_time": "2021-11-02T16:11:52.785Z"
   },
   {
    "duration": 19,
    "start_time": "2021-11-02T16:11:52.791Z"
   },
   {
    "duration": 58,
    "start_time": "2021-11-02T16:11:52.812Z"
   },
   {
    "duration": 5,
    "start_time": "2021-11-02T16:11:52.873Z"
   },
   {
    "duration": 9,
    "start_time": "2021-11-02T16:11:52.880Z"
   },
   {
    "duration": 5,
    "start_time": "2021-11-02T16:11:52.892Z"
   },
   {
    "duration": 7,
    "start_time": "2021-11-02T16:11:52.899Z"
   },
   {
    "duration": 66,
    "start_time": "2021-11-02T16:11:52.909Z"
   },
   {
    "duration": 5,
    "start_time": "2021-11-02T16:11:52.978Z"
   },
   {
    "duration": 12,
    "start_time": "2021-11-02T16:11:52.986Z"
   },
   {
    "duration": 7,
    "start_time": "2021-11-02T16:11:53.001Z"
   },
   {
    "duration": 72,
    "start_time": "2021-11-02T16:11:53.011Z"
   },
   {
    "duration": 24,
    "start_time": "2021-11-02T16:11:53.086Z"
   },
   {
    "duration": 63,
    "start_time": "2021-11-02T16:11:53.112Z"
   },
   {
    "duration": 10,
    "start_time": "2021-11-02T16:11:53.178Z"
   },
   {
    "duration": 3,
    "start_time": "2021-11-02T16:11:53.190Z"
   },
   {
    "duration": 965,
    "start_time": "2021-11-02T16:11:53.196Z"
   },
   {
    "duration": 4,
    "start_time": "2021-11-02T16:11:54.167Z"
   },
   {
    "duration": 8,
    "start_time": "2021-11-02T16:11:54.173Z"
   },
   {
    "duration": 8613,
    "start_time": "2021-11-02T16:11:54.183Z"
   },
   {
    "duration": 7,
    "start_time": "2021-11-02T16:12:02.798Z"
   },
   {
    "duration": 20,
    "start_time": "2021-11-02T16:12:02.808Z"
   },
   {
    "duration": 36,
    "start_time": "2021-11-02T16:12:02.831Z"
   },
   {
    "duration": 18,
    "start_time": "2021-11-02T16:12:02.870Z"
   },
   {
    "duration": 14,
    "start_time": "2021-11-02T16:12:02.891Z"
   },
   {
    "duration": 7,
    "start_time": "2021-11-02T16:12:02.907Z"
   },
   {
    "duration": 27,
    "start_time": "2021-11-02T16:12:02.916Z"
   },
   {
    "duration": 26,
    "start_time": "2021-11-02T16:12:02.946Z"
   },
   {
    "duration": 7,
    "start_time": "2021-11-02T16:12:02.975Z"
   },
   {
    "duration": 25,
    "start_time": "2021-11-02T16:12:02.985Z"
   },
   {
    "duration": 30,
    "start_time": "2021-11-02T16:12:03.012Z"
   },
   {
    "duration": 61,
    "start_time": "2021-11-02T16:12:03.045Z"
   },
   {
    "duration": 4,
    "start_time": "2021-11-02T16:12:03.109Z"
   },
   {
    "duration": 23,
    "start_time": "2021-11-02T16:12:03.115Z"
   },
   {
    "duration": 23,
    "start_time": "2021-11-02T16:12:03.141Z"
   },
   {
    "duration": 15,
    "start_time": "2021-11-02T16:12:03.166Z"
   },
   {
    "duration": 12,
    "start_time": "2021-11-02T16:12:03.184Z"
   },
   {
    "duration": 13,
    "start_time": "2021-11-02T16:12:03.198Z"
   },
   {
    "duration": 17,
    "start_time": "2021-11-02T16:12:03.213Z"
   },
   {
    "duration": 8,
    "start_time": "2021-11-02T16:12:03.232Z"
   },
   {
    "duration": 25,
    "start_time": "2021-11-02T16:12:03.243Z"
   },
   {
    "duration": 22,
    "start_time": "2021-11-02T16:12:03.276Z"
   },
   {
    "duration": 6,
    "start_time": "2021-11-02T16:12:03.301Z"
   },
   {
    "duration": 11,
    "start_time": "2021-11-02T16:12:03.310Z"
   },
   {
    "duration": 12,
    "start_time": "2021-11-02T16:12:03.323Z"
   },
   {
    "duration": 29,
    "start_time": "2021-11-02T16:12:03.338Z"
   },
   {
    "duration": 14,
    "start_time": "2021-11-02T16:12:03.371Z"
   },
   {
    "duration": 8,
    "start_time": "2021-11-02T16:12:03.388Z"
   },
   {
    "duration": 16,
    "start_time": "2021-11-02T16:12:03.400Z"
   },
   {
    "duration": 27,
    "start_time": "2021-11-02T16:12:03.419Z"
   },
   {
    "duration": 22,
    "start_time": "2021-11-02T16:12:03.448Z"
   },
   {
    "duration": 15,
    "start_time": "2021-11-02T16:12:03.473Z"
   },
   {
    "duration": 86,
    "start_time": "2021-11-02T16:13:46.782Z"
   },
   {
    "duration": 16,
    "start_time": "2021-11-02T16:13:46.871Z"
   },
   {
    "duration": 88,
    "start_time": "2021-11-02T16:13:46.890Z"
   },
   {
    "duration": 12,
    "start_time": "2021-11-02T16:13:46.981Z"
   },
   {
    "duration": 9,
    "start_time": "2021-11-02T16:13:46.996Z"
   },
   {
    "duration": 4,
    "start_time": "2021-11-02T16:13:47.007Z"
   },
   {
    "duration": 849,
    "start_time": "2021-11-02T16:13:47.013Z"
   },
   {
    "duration": 13,
    "start_time": "2021-11-02T16:13:47.868Z"
   },
   {
    "duration": 12,
    "start_time": "2021-11-02T16:13:47.884Z"
   },
   {
    "duration": 8,
    "start_time": "2021-11-02T16:13:47.898Z"
   },
   {
    "duration": 6,
    "start_time": "2021-11-02T16:13:47.908Z"
   },
   {
    "duration": 9,
    "start_time": "2021-11-02T16:13:47.916Z"
   },
   {
    "duration": 45,
    "start_time": "2021-11-02T16:13:47.928Z"
   },
   {
    "duration": 22,
    "start_time": "2021-11-02T16:13:47.976Z"
   },
   {
    "duration": 8,
    "start_time": "2021-11-02T16:13:48.001Z"
   },
   {
    "duration": 12,
    "start_time": "2021-11-02T16:13:48.011Z"
   },
   {
    "duration": 17,
    "start_time": "2021-11-02T16:13:48.025Z"
   },
   {
    "duration": 31,
    "start_time": "2021-11-02T16:13:48.045Z"
   },
   {
    "duration": 28,
    "start_time": "2021-11-02T16:13:48.079Z"
   },
   {
    "duration": 5,
    "start_time": "2021-11-02T16:13:48.110Z"
   },
   {
    "duration": 5255,
    "start_time": "2021-11-02T16:13:48.118Z"
   },
   {
    "duration": 412,
    "start_time": "2021-11-02T16:13:52.966Z"
   },
   {
    "duration": 410,
    "start_time": "2021-11-02T16:13:52.969Z"
   },
   {
    "duration": 408,
    "start_time": "2021-11-02T16:13:52.972Z"
   },
   {
    "duration": 407,
    "start_time": "2021-11-02T16:13:52.975Z"
   },
   {
    "duration": 406,
    "start_time": "2021-11-02T16:13:52.977Z"
   },
   {
    "duration": 404,
    "start_time": "2021-11-02T16:13:52.980Z"
   },
   {
    "duration": 398,
    "start_time": "2021-11-02T16:13:52.987Z"
   },
   {
    "duration": 395,
    "start_time": "2021-11-02T16:13:52.991Z"
   },
   {
    "duration": 395,
    "start_time": "2021-11-02T16:13:52.993Z"
   },
   {
    "duration": 393,
    "start_time": "2021-11-02T16:13:52.996Z"
   },
   {
    "duration": 392,
    "start_time": "2021-11-02T16:13:52.998Z"
   },
   {
    "duration": 391,
    "start_time": "2021-11-02T16:13:53.001Z"
   },
   {
    "duration": 389,
    "start_time": "2021-11-02T16:13:53.004Z"
   },
   {
    "duration": 387,
    "start_time": "2021-11-02T16:13:53.007Z"
   },
   {
    "duration": 386,
    "start_time": "2021-11-02T16:13:53.009Z"
   },
   {
    "duration": 362,
    "start_time": "2021-11-02T16:13:53.034Z"
   },
   {
    "duration": 357,
    "start_time": "2021-11-02T16:13:53.040Z"
   },
   {
    "duration": 355,
    "start_time": "2021-11-02T16:13:53.044Z"
   },
   {
    "duration": 354,
    "start_time": "2021-11-02T16:13:53.046Z"
   },
   {
    "duration": 351,
    "start_time": "2021-11-02T16:13:53.050Z"
   },
   {
    "duration": 346,
    "start_time": "2021-11-02T16:13:53.056Z"
   },
   {
    "duration": 345,
    "start_time": "2021-11-02T16:13:53.059Z"
   },
   {
    "duration": 343,
    "start_time": "2021-11-02T16:13:53.062Z"
   },
   {
    "duration": 341,
    "start_time": "2021-11-02T16:13:53.065Z"
   },
   {
    "duration": 340,
    "start_time": "2021-11-02T16:13:53.068Z"
   },
   {
    "duration": 338,
    "start_time": "2021-11-02T16:13:53.071Z"
   },
   {
    "duration": 337,
    "start_time": "2021-11-02T16:13:53.073Z"
   },
   {
    "duration": 331,
    "start_time": "2021-11-02T16:13:53.081Z"
   },
   {
    "duration": 372,
    "start_time": "2021-11-02T16:13:53.094Z"
   },
   {
    "duration": 371,
    "start_time": "2021-11-02T16:13:53.097Z"
   },
   {
    "duration": 362,
    "start_time": "2021-11-02T16:13:53.108Z"
   },
   {
    "duration": 352,
    "start_time": "2021-11-02T16:13:53.119Z"
   },
   {
    "duration": 342,
    "start_time": "2021-11-02T16:13:53.131Z"
   },
   {
    "duration": 319,
    "start_time": "2021-11-02T16:13:53.155Z"
   },
   {
    "duration": 200,
    "start_time": "2021-11-02T16:13:53.276Z"
   },
   {
    "duration": 200,
    "start_time": "2021-11-02T16:13:53.278Z"
   },
   {
    "duration": 198,
    "start_time": "2021-11-02T16:13:53.281Z"
   },
   {
    "duration": 197,
    "start_time": "2021-11-02T16:13:53.284Z"
   },
   {
    "duration": 196,
    "start_time": "2021-11-02T16:13:53.286Z"
   },
   {
    "duration": 195,
    "start_time": "2021-11-02T16:13:53.289Z"
   },
   {
    "duration": 194,
    "start_time": "2021-11-02T16:13:53.291Z"
   },
   {
    "duration": 192,
    "start_time": "2021-11-02T16:13:53.294Z"
   },
   {
    "duration": 191,
    "start_time": "2021-11-02T16:13:53.296Z"
   },
   {
    "duration": 190,
    "start_time": "2021-11-02T16:13:53.299Z"
   },
   {
    "duration": 189,
    "start_time": "2021-11-02T16:13:53.301Z"
   },
   {
    "duration": 140,
    "start_time": "2021-11-02T16:13:53.351Z"
   },
   {
    "duration": 123,
    "start_time": "2021-11-02T16:13:53.369Z"
   },
   {
    "duration": 121,
    "start_time": "2021-11-02T16:13:53.372Z"
   },
   {
    "duration": 121,
    "start_time": "2021-11-02T16:13:53.374Z"
   },
   {
    "duration": 119,
    "start_time": "2021-11-02T16:13:53.377Z"
   },
   {
    "duration": 118,
    "start_time": "2021-11-02T16:13:53.379Z"
   },
   {
    "duration": 115,
    "start_time": "2021-11-02T16:13:53.383Z"
   },
   {
    "duration": 113,
    "start_time": "2021-11-02T16:13:53.386Z"
   },
   {
    "duration": 112,
    "start_time": "2021-11-02T16:13:53.389Z"
   },
   {
    "duration": 110,
    "start_time": "2021-11-02T16:13:53.392Z"
   },
   {
    "duration": 108,
    "start_time": "2021-11-02T16:13:53.395Z"
   },
   {
    "duration": 169,
    "start_time": "2021-11-02T16:13:53.398Z"
   },
   {
    "duration": 9,
    "start_time": "2021-11-02T16:14:48.281Z"
   },
   {
    "duration": 47,
    "start_time": "2021-11-02T16:19:14.448Z"
   },
   {
    "duration": 10,
    "start_time": "2021-11-02T16:19:19.326Z"
   },
   {
    "duration": 7,
    "start_time": "2021-11-02T16:19:27.430Z"
   },
   {
    "duration": 5,
    "start_time": "2021-11-02T16:19:34.879Z"
   },
   {
    "duration": 7,
    "start_time": "2021-11-02T16:19:35.494Z"
   },
   {
    "duration": 7,
    "start_time": "2021-11-02T16:19:56.560Z"
   },
   {
    "duration": 18,
    "start_time": "2021-11-02T16:19:58.551Z"
   },
   {
    "duration": 9,
    "start_time": "2021-11-02T16:19:59.598Z"
   },
   {
    "duration": 102,
    "start_time": "2021-11-02T16:20:21.188Z"
   },
   {
    "duration": 21,
    "start_time": "2021-11-02T16:20:21.293Z"
   },
   {
    "duration": 99,
    "start_time": "2021-11-02T16:20:21.318Z"
   },
   {
    "duration": 47,
    "start_time": "2021-11-02T16:20:21.421Z"
   },
   {
    "duration": 13,
    "start_time": "2021-11-02T16:20:21.471Z"
   },
   {
    "duration": 5,
    "start_time": "2021-11-02T16:20:21.487Z"
   },
   {
    "duration": 737,
    "start_time": "2021-11-02T16:20:21.495Z"
   },
   {
    "duration": 15,
    "start_time": "2021-11-02T16:20:22.235Z"
   },
   {
    "duration": 14,
    "start_time": "2021-11-02T16:20:22.271Z"
   },
   {
    "duration": 12,
    "start_time": "2021-11-02T16:20:22.289Z"
   },
   {
    "duration": 10,
    "start_time": "2021-11-02T16:20:22.303Z"
   },
   {
    "duration": 18,
    "start_time": "2021-11-02T16:20:22.316Z"
   },
   {
    "duration": 33,
    "start_time": "2021-11-02T16:20:22.336Z"
   },
   {
    "duration": 23,
    "start_time": "2021-11-02T16:20:22.371Z"
   },
   {
    "duration": 5,
    "start_time": "2021-11-02T16:20:22.396Z"
   },
   {
    "duration": 9,
    "start_time": "2021-11-02T16:20:22.404Z"
   },
   {
    "duration": 12,
    "start_time": "2021-11-02T16:20:22.416Z"
   },
   {
    "duration": 43,
    "start_time": "2021-11-02T16:20:22.431Z"
   },
   {
    "duration": 13,
    "start_time": "2021-11-02T16:20:22.477Z"
   },
   {
    "duration": 85,
    "start_time": "2021-11-02T16:20:22.493Z"
   },
   {
    "duration": 10,
    "start_time": "2021-11-02T16:20:22.581Z"
   },
   {
    "duration": 9,
    "start_time": "2021-11-02T16:20:22.595Z"
   },
   {
    "duration": 6,
    "start_time": "2021-11-02T16:20:22.606Z"
   },
   {
    "duration": 7,
    "start_time": "2021-11-02T16:20:22.615Z"
   },
   {
    "duration": 8,
    "start_time": "2021-11-02T16:20:22.668Z"
   },
   {
    "duration": 21,
    "start_time": "2021-11-02T16:20:22.679Z"
   },
   {
    "duration": 9,
    "start_time": "2021-11-02T16:20:22.706Z"
   },
   {
    "duration": 49,
    "start_time": "2021-11-02T16:20:22.719Z"
   },
   {
    "duration": 6,
    "start_time": "2021-11-02T16:20:22.771Z"
   },
   {
    "duration": 9,
    "start_time": "2021-11-02T16:20:22.779Z"
   },
   {
    "duration": 13,
    "start_time": "2021-11-02T16:20:22.790Z"
   },
   {
    "duration": 32,
    "start_time": "2021-11-02T16:20:22.806Z"
   },
   {
    "duration": 27,
    "start_time": "2021-11-02T16:20:22.841Z"
   },
   {
    "duration": 10,
    "start_time": "2021-11-02T16:20:22.871Z"
   },
   {
    "duration": 7,
    "start_time": "2021-11-02T16:20:22.884Z"
   },
   {
    "duration": 33,
    "start_time": "2021-11-02T16:20:22.893Z"
   },
   {
    "duration": 51,
    "start_time": "2021-11-02T16:20:22.928Z"
   },
   {
    "duration": 19,
    "start_time": "2021-11-02T16:20:22.981Z"
   },
   {
    "duration": 4,
    "start_time": "2021-11-02T16:20:23.002Z"
   },
   {
    "duration": 23,
    "start_time": "2021-11-02T16:20:23.008Z"
   },
   {
    "duration": 286,
    "start_time": "2021-11-02T16:20:23.033Z"
   },
   {
    "duration": 408,
    "start_time": "2021-11-02T16:20:22.914Z"
   },
   {
    "duration": 406,
    "start_time": "2021-11-02T16:20:22.917Z"
   },
   {
    "duration": 405,
    "start_time": "2021-11-02T16:20:22.920Z"
   },
   {
    "duration": 404,
    "start_time": "2021-11-02T16:20:22.922Z"
   },
   {
    "duration": 392,
    "start_time": "2021-11-02T16:20:22.935Z"
   },
   {
    "duration": 391,
    "start_time": "2021-11-02T16:20:22.938Z"
   },
   {
    "duration": 389,
    "start_time": "2021-11-02T16:20:22.941Z"
   },
   {
    "duration": 388,
    "start_time": "2021-11-02T16:20:22.943Z"
   },
   {
    "duration": 386,
    "start_time": "2021-11-02T16:20:22.946Z"
   },
   {
    "duration": 386,
    "start_time": "2021-11-02T16:20:22.948Z"
   },
   {
    "duration": 384,
    "start_time": "2021-11-02T16:20:22.951Z"
   },
   {
    "duration": 380,
    "start_time": "2021-11-02T16:20:22.956Z"
   },
   {
    "duration": 378,
    "start_time": "2021-11-02T16:20:22.959Z"
   },
   {
    "duration": 377,
    "start_time": "2021-11-02T16:20:22.962Z"
   },
   {
    "duration": 376,
    "start_time": "2021-11-02T16:20:22.964Z"
   },
   {
    "duration": 374,
    "start_time": "2021-11-02T16:20:22.967Z"
   },
   {
    "duration": 365,
    "start_time": "2021-11-02T16:20:22.977Z"
   },
   {
    "duration": 364,
    "start_time": "2021-11-02T16:20:22.980Z"
   },
   {
    "duration": 362,
    "start_time": "2021-11-02T16:20:22.983Z"
   },
   {
    "duration": 361,
    "start_time": "2021-11-02T16:20:22.985Z"
   },
   {
    "duration": 359,
    "start_time": "2021-11-02T16:20:22.988Z"
   },
   {
    "duration": 358,
    "start_time": "2021-11-02T16:20:22.991Z"
   },
   {
    "duration": 356,
    "start_time": "2021-11-02T16:20:22.994Z"
   },
   {
    "duration": 354,
    "start_time": "2021-11-02T16:20:22.997Z"
   },
   {
    "duration": 352,
    "start_time": "2021-11-02T16:20:23.000Z"
   },
   {
    "duration": 352,
    "start_time": "2021-11-02T16:20:23.002Z"
   },
   {
    "duration": 350,
    "start_time": "2021-11-02T16:20:23.005Z"
   },
   {
    "duration": 348,
    "start_time": "2021-11-02T16:20:23.008Z"
   },
   {
    "duration": 346,
    "start_time": "2021-11-02T16:20:23.011Z"
   },
   {
    "duration": 354,
    "start_time": "2021-11-02T16:20:23.013Z"
   },
   {
    "duration": 353,
    "start_time": "2021-11-02T16:20:23.016Z"
   },
   {
    "duration": 352,
    "start_time": "2021-11-02T16:20:23.018Z"
   },
   {
    "duration": 351,
    "start_time": "2021-11-02T16:20:23.021Z"
   },
   {
    "duration": 349,
    "start_time": "2021-11-02T16:20:23.024Z"
   },
   {
    "duration": 348,
    "start_time": "2021-11-02T16:20:23.027Z"
   },
   {
    "duration": 22,
    "start_time": "2021-11-02T16:21:32.042Z"
   },
   {
    "duration": 9,
    "start_time": "2021-11-02T16:21:32.609Z"
   },
   {
    "duration": 16,
    "start_time": "2021-11-02T16:22:32.731Z"
   },
   {
    "duration": 11,
    "start_time": "2021-11-02T16:22:35.755Z"
   },
   {
    "duration": 854,
    "start_time": "2021-11-02T16:22:59.397Z"
   },
   {
    "duration": 15,
    "start_time": "2021-11-02T16:23:00.254Z"
   },
   {
    "duration": 51,
    "start_time": "2021-11-02T16:23:00.272Z"
   },
   {
    "duration": 41,
    "start_time": "2021-11-02T16:23:00.326Z"
   },
   {
    "duration": 12,
    "start_time": "2021-11-02T16:23:00.370Z"
   },
   {
    "duration": 11,
    "start_time": "2021-11-02T16:23:00.385Z"
   },
   {
    "duration": 729,
    "start_time": "2021-11-02T16:23:00.399Z"
   },
   {
    "duration": 15,
    "start_time": "2021-11-02T16:23:01.132Z"
   },
   {
    "duration": 26,
    "start_time": "2021-11-02T16:23:01.150Z"
   },
   {
    "duration": 55,
    "start_time": "2021-11-02T16:23:01.179Z"
   },
   {
    "duration": 12,
    "start_time": "2021-11-02T16:23:01.236Z"
   },
   {
    "duration": 22,
    "start_time": "2021-11-02T16:23:01.250Z"
   },
   {
    "duration": 26,
    "start_time": "2021-11-02T16:23:01.274Z"
   },
   {
    "duration": 28,
    "start_time": "2021-11-02T16:23:01.304Z"
   },
   {
    "duration": 5,
    "start_time": "2021-11-02T16:23:01.335Z"
   },
   {
    "duration": 14,
    "start_time": "2021-11-02T16:23:01.343Z"
   },
   {
    "duration": 34,
    "start_time": "2021-11-02T16:23:01.368Z"
   },
   {
    "duration": 17,
    "start_time": "2021-11-02T16:23:01.405Z"
   },
   {
    "duration": 22,
    "start_time": "2021-11-02T16:23:01.424Z"
   },
   {
    "duration": 73,
    "start_time": "2021-11-02T16:23:01.448Z"
   },
   {
    "duration": 9,
    "start_time": "2021-11-02T16:23:01.524Z"
   },
   {
    "duration": 25,
    "start_time": "2021-11-02T16:23:01.535Z"
   },
   {
    "duration": 23,
    "start_time": "2021-11-02T16:23:01.567Z"
   },
   {
    "duration": 12,
    "start_time": "2021-11-02T16:23:01.595Z"
   },
   {
    "duration": 20,
    "start_time": "2021-11-02T16:23:01.610Z"
   },
   {
    "duration": 38,
    "start_time": "2021-11-02T16:23:01.633Z"
   },
   {
    "duration": 27,
    "start_time": "2021-11-02T16:23:01.674Z"
   },
   {
    "duration": 21,
    "start_time": "2021-11-02T16:23:01.703Z"
   },
   {
    "duration": 26,
    "start_time": "2021-11-02T16:23:01.727Z"
   },
   {
    "duration": 14,
    "start_time": "2021-11-02T16:23:01.755Z"
   },
   {
    "duration": 49,
    "start_time": "2021-11-02T16:23:01.772Z"
   },
   {
    "duration": 34,
    "start_time": "2021-11-02T16:23:01.824Z"
   },
   {
    "duration": 6,
    "start_time": "2021-11-02T16:23:01.861Z"
   },
   {
    "duration": 21,
    "start_time": "2021-11-02T16:23:01.869Z"
   },
   {
    "duration": 14,
    "start_time": "2021-11-02T16:23:01.892Z"
   },
   {
    "duration": 24,
    "start_time": "2021-11-02T16:23:01.909Z"
   },
   {
    "duration": 42,
    "start_time": "2021-11-02T16:23:01.936Z"
   },
   {
    "duration": 22,
    "start_time": "2021-11-02T16:23:01.981Z"
   },
   {
    "duration": 12,
    "start_time": "2021-11-02T16:23:02.006Z"
   },
   {
    "duration": 4,
    "start_time": "2021-11-02T16:23:02.020Z"
   },
   {
    "duration": 392,
    "start_time": "2021-11-02T16:23:02.026Z"
   },
   {
    "duration": 432,
    "start_time": "2021-11-02T16:23:01.989Z"
   },
   {
    "duration": 431,
    "start_time": "2021-11-02T16:23:01.992Z"
   },
   {
    "duration": 424,
    "start_time": "2021-11-02T16:23:02.000Z"
   },
   {
    "duration": 422,
    "start_time": "2021-11-02T16:23:02.003Z"
   },
   {
    "duration": 420,
    "start_time": "2021-11-02T16:23:02.006Z"
   },
   {
    "duration": 419,
    "start_time": "2021-11-02T16:23:02.008Z"
   },
   {
    "duration": 412,
    "start_time": "2021-11-02T16:23:02.016Z"
   },
   {
    "duration": 412,
    "start_time": "2021-11-02T16:23:02.018Z"
   },
   {
    "duration": 410,
    "start_time": "2021-11-02T16:23:02.021Z"
   },
   {
    "duration": 409,
    "start_time": "2021-11-02T16:23:02.023Z"
   },
   {
    "duration": 407,
    "start_time": "2021-11-02T16:23:02.026Z"
   },
   {
    "duration": 401,
    "start_time": "2021-11-02T16:23:02.034Z"
   },
   {
    "duration": 399,
    "start_time": "2021-11-02T16:23:02.037Z"
   },
   {
    "duration": 397,
    "start_time": "2021-11-02T16:23:02.040Z"
   },
   {
    "duration": 396,
    "start_time": "2021-11-02T16:23:02.043Z"
   },
   {
    "duration": 387,
    "start_time": "2021-11-02T16:23:02.054Z"
   },
   {
    "duration": 385,
    "start_time": "2021-11-02T16:23:02.057Z"
   },
   {
    "duration": 385,
    "start_time": "2021-11-02T16:23:02.059Z"
   },
   {
    "duration": 378,
    "start_time": "2021-11-02T16:23:02.067Z"
   },
   {
    "duration": 376,
    "start_time": "2021-11-02T16:23:02.070Z"
   },
   {
    "duration": 368,
    "start_time": "2021-11-02T16:23:02.080Z"
   },
   {
    "duration": 366,
    "start_time": "2021-11-02T16:23:02.083Z"
   },
   {
    "duration": 365,
    "start_time": "2021-11-02T16:23:02.086Z"
   },
   {
    "duration": 363,
    "start_time": "2021-11-02T16:23:02.089Z"
   },
   {
    "duration": 362,
    "start_time": "2021-11-02T16:23:02.091Z"
   },
   {
    "duration": 361,
    "start_time": "2021-11-02T16:23:02.094Z"
   },
   {
    "duration": 354,
    "start_time": "2021-11-02T16:23:02.102Z"
   },
   {
    "duration": 352,
    "start_time": "2021-11-02T16:23:02.105Z"
   },
   {
    "duration": 351,
    "start_time": "2021-11-02T16:23:02.108Z"
   },
   {
    "duration": 350,
    "start_time": "2021-11-02T16:23:02.110Z"
   },
   {
    "duration": 344,
    "start_time": "2021-11-02T16:23:02.118Z"
   },
   {
    "duration": 343,
    "start_time": "2021-11-02T16:23:02.120Z"
   },
   {
    "duration": 341,
    "start_time": "2021-11-02T16:23:02.123Z"
   },
   {
    "duration": 339,
    "start_time": "2021-11-02T16:23:02.126Z"
   },
   {
    "duration": 332,
    "start_time": "2021-11-02T16:23:02.134Z"
   },
   {
    "duration": 13,
    "start_time": "2021-11-02T16:25:52.825Z"
   },
   {
    "duration": 83,
    "start_time": "2021-11-02T16:26:06.485Z"
   },
   {
    "duration": 15,
    "start_time": "2021-11-02T16:26:06.571Z"
   },
   {
    "duration": 95,
    "start_time": "2021-11-02T16:26:06.590Z"
   },
   {
    "duration": 12,
    "start_time": "2021-11-02T16:26:06.688Z"
   },
   {
    "duration": 12,
    "start_time": "2021-11-02T16:26:06.703Z"
   },
   {
    "duration": 7,
    "start_time": "2021-11-02T16:26:06.717Z"
   },
   {
    "duration": 774,
    "start_time": "2021-11-02T16:26:06.726Z"
   },
   {
    "duration": 13,
    "start_time": "2021-11-02T16:26:07.504Z"
   },
   {
    "duration": 14,
    "start_time": "2021-11-02T16:26:07.520Z"
   },
   {
    "duration": 33,
    "start_time": "2021-11-02T16:26:07.537Z"
   },
   {
    "duration": 8,
    "start_time": "2021-11-02T16:26:07.573Z"
   },
   {
    "duration": 9,
    "start_time": "2021-11-02T16:26:07.583Z"
   },
   {
    "duration": 13,
    "start_time": "2021-11-02T16:26:07.594Z"
   },
   {
    "duration": 27,
    "start_time": "2021-11-02T16:26:07.609Z"
   },
   {
    "duration": 5,
    "start_time": "2021-11-02T16:26:07.638Z"
   },
   {
    "duration": 6,
    "start_time": "2021-11-02T16:26:07.668Z"
   },
   {
    "duration": 16,
    "start_time": "2021-11-02T16:26:07.676Z"
   },
   {
    "duration": 12,
    "start_time": "2021-11-02T16:26:07.694Z"
   },
   {
    "duration": 16,
    "start_time": "2021-11-02T16:26:07.709Z"
   },
   {
    "duration": 81,
    "start_time": "2021-11-02T16:26:07.728Z"
   },
   {
    "duration": 10,
    "start_time": "2021-11-02T16:26:07.812Z"
   },
   {
    "duration": 15,
    "start_time": "2021-11-02T16:26:07.825Z"
   },
   {
    "duration": 5,
    "start_time": "2021-11-02T16:26:07.870Z"
   },
   {
    "duration": 9,
    "start_time": "2021-11-02T16:26:07.880Z"
   },
   {
    "duration": 12,
    "start_time": "2021-11-02T16:26:07.891Z"
   },
   {
    "duration": 64,
    "start_time": "2021-11-02T16:26:07.905Z"
   },
   {
    "duration": 19,
    "start_time": "2021-11-02T16:26:07.971Z"
   },
   {
    "duration": 22,
    "start_time": "2021-11-02T16:26:07.993Z"
   },
   {
    "duration": 15,
    "start_time": "2021-11-02T16:26:08.018Z"
   },
   {
    "duration": 8,
    "start_time": "2021-11-02T16:26:08.036Z"
   },
   {
    "duration": 24,
    "start_time": "2021-11-02T16:26:08.047Z"
   },
   {
    "duration": 10,
    "start_time": "2021-11-02T16:26:08.073Z"
   },
   {
    "duration": 18,
    "start_time": "2021-11-02T16:26:08.086Z"
   },
   {
    "duration": 12,
    "start_time": "2021-11-02T16:26:08.107Z"
   },
   {
    "duration": 45,
    "start_time": "2021-11-02T16:26:08.121Z"
   },
   {
    "duration": 7,
    "start_time": "2021-11-02T16:26:08.169Z"
   },
   {
    "duration": 22,
    "start_time": "2021-11-02T16:26:08.179Z"
   },
   {
    "duration": 23,
    "start_time": "2021-11-02T16:26:08.204Z"
   },
   {
    "duration": 55,
    "start_time": "2021-11-02T16:26:08.230Z"
   },
   {
    "duration": 4,
    "start_time": "2021-11-02T16:26:08.288Z"
   },
   {
    "duration": 9,
    "start_time": "2021-11-02T16:26:08.294Z"
   },
   {
    "duration": 285,
    "start_time": "2021-11-02T16:26:08.306Z"
   },
   {
    "duration": 443,
    "start_time": "2021-11-02T16:26:08.151Z"
   },
   {
    "duration": 432,
    "start_time": "2021-11-02T16:26:08.163Z"
   },
   {
    "duration": 431,
    "start_time": "2021-11-02T16:26:08.166Z"
   },
   {
    "duration": 430,
    "start_time": "2021-11-02T16:26:08.169Z"
   },
   {
    "duration": 428,
    "start_time": "2021-11-02T16:26:08.172Z"
   },
   {
    "duration": 428,
    "start_time": "2021-11-02T16:26:08.174Z"
   },
   {
    "duration": 427,
    "start_time": "2021-11-02T16:26:08.177Z"
   },
   {
    "duration": 421,
    "start_time": "2021-11-02T16:26:08.185Z"
   },
   {
    "duration": 419,
    "start_time": "2021-11-02T16:26:08.188Z"
   },
   {
    "duration": 418,
    "start_time": "2021-11-02T16:26:08.191Z"
   },
   {
    "duration": 416,
    "start_time": "2021-11-02T16:26:08.194Z"
   },
   {
    "duration": 415,
    "start_time": "2021-11-02T16:26:08.197Z"
   },
   {
    "duration": 414,
    "start_time": "2021-11-02T16:26:08.200Z"
   },
   {
    "duration": 413,
    "start_time": "2021-11-02T16:26:08.202Z"
   },
   {
    "duration": 407,
    "start_time": "2021-11-02T16:26:08.210Z"
   },
   {
    "duration": 405,
    "start_time": "2021-11-02T16:26:08.213Z"
   },
   {
    "duration": 404,
    "start_time": "2021-11-02T16:26:08.216Z"
   },
   {
    "duration": 402,
    "start_time": "2021-11-02T16:26:08.219Z"
   },
   {
    "duration": 397,
    "start_time": "2021-11-02T16:26:08.226Z"
   },
   {
    "duration": 395,
    "start_time": "2021-11-02T16:26:08.229Z"
   },
   {
    "duration": 394,
    "start_time": "2021-11-02T16:26:08.232Z"
   },
   {
    "duration": 393,
    "start_time": "2021-11-02T16:26:08.235Z"
   },
   {
    "duration": 386,
    "start_time": "2021-11-02T16:26:08.243Z"
   },
   {
    "duration": 385,
    "start_time": "2021-11-02T16:26:08.246Z"
   },
   {
    "duration": 418,
    "start_time": "2021-11-02T16:26:08.249Z"
   },
   {
    "duration": 417,
    "start_time": "2021-11-02T16:26:08.252Z"
   },
   {
    "duration": 416,
    "start_time": "2021-11-02T16:26:08.255Z"
   },
   {
    "duration": 415,
    "start_time": "2021-11-02T16:26:08.257Z"
   },
   {
    "duration": 414,
    "start_time": "2021-11-02T16:26:08.260Z"
   },
   {
    "duration": 406,
    "start_time": "2021-11-02T16:26:08.269Z"
   },
   {
    "duration": 405,
    "start_time": "2021-11-02T16:26:08.272Z"
   },
   {
    "duration": 404,
    "start_time": "2021-11-02T16:26:08.275Z"
   },
   {
    "duration": 401,
    "start_time": "2021-11-02T16:26:08.279Z"
   },
   {
    "duration": 399,
    "start_time": "2021-11-02T16:26:08.283Z"
   },
   {
    "duration": 397,
    "start_time": "2021-11-02T16:26:08.286Z"
   },
   {
    "duration": 12,
    "start_time": "2021-11-02T16:27:36.299Z"
   },
   {
    "duration": 82,
    "start_time": "2021-11-02T16:27:46.394Z"
   },
   {
    "duration": 15,
    "start_time": "2021-11-02T16:27:46.479Z"
   },
   {
    "duration": 88,
    "start_time": "2021-11-02T16:27:46.498Z"
   },
   {
    "duration": 12,
    "start_time": "2021-11-02T16:27:46.589Z"
   },
   {
    "duration": 10,
    "start_time": "2021-11-02T16:27:46.604Z"
   },
   {
    "duration": 4,
    "start_time": "2021-11-02T16:27:46.617Z"
   },
   {
    "duration": 738,
    "start_time": "2021-11-02T16:27:46.623Z"
   },
   {
    "duration": 14,
    "start_time": "2021-11-02T16:27:47.368Z"
   },
   {
    "duration": 13,
    "start_time": "2021-11-02T16:27:47.384Z"
   },
   {
    "duration": 6,
    "start_time": "2021-11-02T16:27:47.400Z"
   },
   {
    "duration": 6,
    "start_time": "2021-11-02T16:27:47.409Z"
   },
   {
    "duration": 51,
    "start_time": "2021-11-02T16:27:47.418Z"
   },
   {
    "duration": 15,
    "start_time": "2021-11-02T16:27:47.471Z"
   },
   {
    "duration": 33,
    "start_time": "2021-11-02T16:27:47.488Z"
   },
   {
    "duration": 5,
    "start_time": "2021-11-02T16:27:47.523Z"
   },
   {
    "duration": 36,
    "start_time": "2021-11-02T16:27:47.531Z"
   },
   {
    "duration": 9,
    "start_time": "2021-11-02T16:27:47.570Z"
   },
   {
    "duration": 10,
    "start_time": "2021-11-02T16:27:47.582Z"
   },
   {
    "duration": 18,
    "start_time": "2021-11-02T16:27:47.594Z"
   },
   {
    "duration": 80,
    "start_time": "2021-11-02T16:27:47.615Z"
   },
   {
    "duration": 10,
    "start_time": "2021-11-02T16:27:47.697Z"
   },
   {
    "duration": 8,
    "start_time": "2021-11-02T16:27:47.709Z"
   },
   {
    "duration": 10,
    "start_time": "2021-11-02T16:27:47.724Z"
   },
   {
    "duration": 7,
    "start_time": "2021-11-02T16:27:47.767Z"
   },
   {
    "duration": 20,
    "start_time": "2021-11-02T16:27:47.776Z"
   },
   {
    "duration": 18,
    "start_time": "2021-11-02T16:27:47.799Z"
   },
   {
    "duration": 15,
    "start_time": "2021-11-02T16:27:47.820Z"
   },
   {
    "duration": 30,
    "start_time": "2021-11-02T16:27:47.838Z"
   },
   {
    "duration": 6,
    "start_time": "2021-11-02T16:27:47.871Z"
   },
   {
    "duration": 9,
    "start_time": "2021-11-02T16:27:47.880Z"
   },
   {
    "duration": 6,
    "start_time": "2021-11-02T16:27:47.892Z"
   },
   {
    "duration": 9,
    "start_time": "2021-11-02T16:27:47.901Z"
   },
   {
    "duration": 61,
    "start_time": "2021-11-02T16:27:47.912Z"
   },
   {
    "duration": 8,
    "start_time": "2021-11-02T16:27:47.976Z"
   },
   {
    "duration": 13,
    "start_time": "2021-11-02T16:27:47.986Z"
   },
   {
    "duration": 8,
    "start_time": "2021-11-02T16:27:48.002Z"
   },
   {
    "duration": 62,
    "start_time": "2021-11-02T16:27:48.012Z"
   },
   {
    "duration": 27,
    "start_time": "2021-11-02T16:27:48.077Z"
   },
   {
    "duration": 23,
    "start_time": "2021-11-02T16:27:48.107Z"
   },
   {
    "duration": 4,
    "start_time": "2021-11-02T16:27:48.133Z"
   },
   {
    "duration": 3,
    "start_time": "2021-11-02T16:27:48.168Z"
   },
   {
    "duration": 1125,
    "start_time": "2021-11-02T16:27:48.174Z"
   },
   {
    "duration": 4,
    "start_time": "2021-11-02T16:27:49.302Z"
   },
   {
    "duration": 10,
    "start_time": "2021-11-02T16:27:49.308Z"
   },
   {
    "duration": 8134,
    "start_time": "2021-11-02T16:27:49.321Z"
   },
   {
    "duration": 7,
    "start_time": "2021-11-02T16:27:57.468Z"
   },
   {
    "duration": 28,
    "start_time": "2021-11-02T16:27:57.477Z"
   },
   {
    "duration": 10,
    "start_time": "2021-11-02T16:27:57.508Z"
   },
   {
    "duration": 17,
    "start_time": "2021-11-02T16:27:57.523Z"
   },
   {
    "duration": 28,
    "start_time": "2021-11-02T16:27:57.543Z"
   },
   {
    "duration": 11,
    "start_time": "2021-11-02T16:27:57.573Z"
   },
   {
    "duration": 23,
    "start_time": "2021-11-02T16:27:57.587Z"
   },
   {
    "duration": 6,
    "start_time": "2021-11-02T16:27:57.612Z"
   },
   {
    "duration": 6,
    "start_time": "2021-11-02T16:27:57.620Z"
   },
   {
    "duration": 53,
    "start_time": "2021-11-02T16:27:57.628Z"
   },
   {
    "duration": 8,
    "start_time": "2021-11-02T16:27:57.684Z"
   },
   {
    "duration": 32,
    "start_time": "2021-11-02T16:27:57.694Z"
   },
   {
    "duration": 4,
    "start_time": "2021-11-02T16:27:57.728Z"
   },
   {
    "duration": 39,
    "start_time": "2021-11-02T16:27:57.735Z"
   },
   {
    "duration": 16,
    "start_time": "2021-11-02T16:27:57.776Z"
   },
   {
    "duration": 11,
    "start_time": "2021-11-02T16:27:57.794Z"
   },
   {
    "duration": 11,
    "start_time": "2021-11-02T16:27:57.807Z"
   },
   {
    "duration": 8,
    "start_time": "2021-11-02T16:27:57.820Z"
   },
   {
    "duration": 37,
    "start_time": "2021-11-02T16:27:57.830Z"
   },
   {
    "duration": 7,
    "start_time": "2021-11-02T16:27:57.869Z"
   },
   {
    "duration": 10,
    "start_time": "2021-11-02T16:27:57.878Z"
   },
   {
    "duration": 15,
    "start_time": "2021-11-02T16:27:57.891Z"
   },
   {
    "duration": 5,
    "start_time": "2021-11-02T16:27:57.913Z"
   },
   {
    "duration": 10,
    "start_time": "2021-11-02T16:27:57.920Z"
   },
   {
    "duration": 39,
    "start_time": "2021-11-02T16:27:57.932Z"
   },
   {
    "duration": 5,
    "start_time": "2021-11-02T16:27:57.974Z"
   },
   {
    "duration": 14,
    "start_time": "2021-11-02T16:27:57.981Z"
   },
   {
    "duration": 6,
    "start_time": "2021-11-02T16:27:57.997Z"
   },
   {
    "duration": 12,
    "start_time": "2021-11-02T16:27:58.005Z"
   },
   {
    "duration": 10,
    "start_time": "2021-11-02T16:27:58.019Z"
   },
   {
    "duration": 39,
    "start_time": "2021-11-02T16:27:58.032Z"
   },
   {
    "duration": 16,
    "start_time": "2021-11-02T16:27:58.073Z"
   },
   {
    "duration": 81,
    "start_time": "2021-11-02T16:32:26.039Z"
   },
   {
    "duration": 48,
    "start_time": "2021-11-02T16:32:26.122Z"
   },
   {
    "duration": 99,
    "start_time": "2021-11-02T16:32:26.174Z"
   },
   {
    "duration": 15,
    "start_time": "2021-11-02T16:32:26.276Z"
   },
   {
    "duration": 12,
    "start_time": "2021-11-02T16:32:26.294Z"
   },
   {
    "duration": 4,
    "start_time": "2021-11-02T16:32:26.309Z"
   },
   {
    "duration": 877,
    "start_time": "2021-11-02T16:32:26.316Z"
   },
   {
    "duration": 12,
    "start_time": "2021-11-02T16:32:27.197Z"
   },
   {
    "duration": 13,
    "start_time": "2021-11-02T16:32:27.213Z"
   },
   {
    "duration": 39,
    "start_time": "2021-11-02T16:32:27.228Z"
   },
   {
    "duration": 5,
    "start_time": "2021-11-02T16:32:27.270Z"
   },
   {
    "duration": 10,
    "start_time": "2021-11-02T16:32:27.278Z"
   },
   {
    "duration": 12,
    "start_time": "2021-11-02T16:32:27.290Z"
   },
   {
    "duration": 7,
    "start_time": "2021-11-02T16:32:27.304Z"
   },
   {
    "duration": 9,
    "start_time": "2021-11-02T16:32:27.313Z"
   },
   {
    "duration": 46,
    "start_time": "2021-11-02T16:32:27.324Z"
   },
   {
    "duration": 11,
    "start_time": "2021-11-02T16:32:27.372Z"
   },
   {
    "duration": 12,
    "start_time": "2021-11-02T16:32:27.386Z"
   },
   {
    "duration": 80,
    "start_time": "2021-11-02T16:32:27.401Z"
   },
   {
    "duration": 10,
    "start_time": "2021-11-02T16:32:27.484Z"
   },
   {
    "duration": 16,
    "start_time": "2021-11-02T16:32:27.496Z"
   },
   {
    "duration": 16,
    "start_time": "2021-11-02T16:32:27.515Z"
   },
   {
    "duration": 7,
    "start_time": "2021-11-02T16:32:27.537Z"
   },
   {
    "duration": 26,
    "start_time": "2021-11-02T16:32:27.548Z"
   },
   {
    "duration": 17,
    "start_time": "2021-11-02T16:32:27.577Z"
   },
   {
    "duration": 9,
    "start_time": "2021-11-02T16:32:27.597Z"
   },
   {
    "duration": 6,
    "start_time": "2021-11-02T16:32:27.609Z"
   },
   {
    "duration": 51,
    "start_time": "2021-11-02T16:32:27.617Z"
   },
   {
    "duration": 6,
    "start_time": "2021-11-02T16:32:27.671Z"
   },
   {
    "duration": 11,
    "start_time": "2021-11-02T16:32:27.679Z"
   },
   {
    "duration": 22,
    "start_time": "2021-11-02T16:32:27.692Z"
   },
   {
    "duration": 7,
    "start_time": "2021-11-02T16:32:27.717Z"
   },
   {
    "duration": 49,
    "start_time": "2021-11-02T16:32:27.727Z"
   },
   {
    "duration": 8,
    "start_time": "2021-11-02T16:32:27.779Z"
   },
   {
    "duration": 24,
    "start_time": "2021-11-02T16:32:27.789Z"
   },
   {
    "duration": 62,
    "start_time": "2021-11-02T16:32:27.816Z"
   },
   {
    "duration": 22,
    "start_time": "2021-11-02T16:32:27.880Z"
   },
   {
    "duration": 4,
    "start_time": "2021-11-02T16:32:27.904Z"
   },
   {
    "duration": 34,
    "start_time": "2021-11-02T16:32:27.911Z"
   },
   {
    "duration": 967,
    "start_time": "2021-11-02T16:32:27.948Z"
   },
   {
    "duration": 4,
    "start_time": "2021-11-02T16:32:28.918Z"
   },
   {
    "duration": 7,
    "start_time": "2021-11-02T16:32:28.925Z"
   },
   {
    "duration": 8578,
    "start_time": "2021-11-02T16:32:28.935Z"
   },
   {
    "duration": 7,
    "start_time": "2021-11-02T16:32:37.516Z"
   },
   {
    "duration": 44,
    "start_time": "2021-11-02T16:32:37.525Z"
   },
   {
    "duration": 5,
    "start_time": "2021-11-02T16:32:37.572Z"
   },
   {
    "duration": 26,
    "start_time": "2021-11-02T16:32:37.580Z"
   },
   {
    "duration": 8,
    "start_time": "2021-11-02T16:32:37.608Z"
   },
   {
    "duration": 9,
    "start_time": "2021-11-02T16:32:37.619Z"
   },
   {
    "duration": 50,
    "start_time": "2021-11-02T16:32:37.631Z"
   },
   {
    "duration": 11,
    "start_time": "2021-11-02T16:32:37.684Z"
   },
   {
    "duration": 10,
    "start_time": "2021-11-02T16:32:37.697Z"
   },
   {
    "duration": 18,
    "start_time": "2021-11-02T16:32:37.710Z"
   },
   {
    "duration": 8,
    "start_time": "2021-11-02T16:32:37.730Z"
   },
   {
    "duration": 51,
    "start_time": "2021-11-02T16:32:37.741Z"
   },
   {
    "duration": 4,
    "start_time": "2021-11-02T16:32:37.795Z"
   },
   {
    "duration": 12,
    "start_time": "2021-11-02T16:32:37.801Z"
   },
   {
    "duration": 7,
    "start_time": "2021-11-02T16:32:37.816Z"
   },
   {
    "duration": 12,
    "start_time": "2021-11-02T16:32:37.825Z"
   },
   {
    "duration": 12,
    "start_time": "2021-11-02T16:32:37.868Z"
   },
   {
    "duration": 15,
    "start_time": "2021-11-02T16:32:37.883Z"
   },
   {
    "duration": 13,
    "start_time": "2021-11-02T16:32:37.901Z"
   },
   {
    "duration": 13,
    "start_time": "2021-11-02T16:32:37.917Z"
   },
   {
    "duration": 13,
    "start_time": "2021-11-02T16:32:37.932Z"
   },
   {
    "duration": 30,
    "start_time": "2021-11-02T16:32:37.947Z"
   },
   {
    "duration": 13,
    "start_time": "2021-11-02T16:32:37.979Z"
   },
   {
    "duration": 17,
    "start_time": "2021-11-02T16:32:37.994Z"
   },
   {
    "duration": 8,
    "start_time": "2021-11-02T16:32:38.021Z"
   },
   {
    "duration": 13,
    "start_time": "2021-11-02T16:32:38.032Z"
   },
   {
    "duration": 31,
    "start_time": "2021-11-02T16:32:38.047Z"
   },
   {
    "duration": 8,
    "start_time": "2021-11-02T16:32:38.081Z"
   },
   {
    "duration": 10,
    "start_time": "2021-11-02T16:32:38.092Z"
   },
   {
    "duration": 16,
    "start_time": "2021-11-02T16:32:38.104Z"
   },
   {
    "duration": 46,
    "start_time": "2021-11-02T16:32:38.122Z"
   },
   {
    "duration": 11,
    "start_time": "2021-11-02T16:32:38.171Z"
   },
   {
    "duration": 4,
    "start_time": "2021-11-02T16:35:15.780Z"
   },
   {
    "duration": 5,
    "start_time": "2021-11-02T16:35:18.612Z"
   },
   {
    "duration": 8740,
    "start_time": "2021-11-02T16:35:19.052Z"
   },
   {
    "duration": 7,
    "start_time": "2021-11-02T16:35:27.795Z"
   },
   {
    "duration": 83,
    "start_time": "2021-11-02T16:35:30.728Z"
   },
   {
    "duration": 53,
    "start_time": "2021-11-02T16:35:30.814Z"
   },
   {
    "duration": 51,
    "start_time": "2021-11-02T16:35:30.871Z"
   },
   {
    "duration": 50,
    "start_time": "2021-11-02T16:35:30.925Z"
   },
   {
    "duration": 19,
    "start_time": "2021-11-02T16:35:30.978Z"
   },
   {
    "duration": 11,
    "start_time": "2021-11-02T16:35:31.000Z"
   },
   {
    "duration": 761,
    "start_time": "2021-11-02T16:35:31.014Z"
   },
   {
    "duration": 13,
    "start_time": "2021-11-02T16:35:31.779Z"
   },
   {
    "duration": 19,
    "start_time": "2021-11-02T16:35:31.795Z"
   },
   {
    "duration": 13,
    "start_time": "2021-11-02T16:35:31.816Z"
   },
   {
    "duration": 35,
    "start_time": "2021-11-02T16:35:31.832Z"
   },
   {
    "duration": 7,
    "start_time": "2021-11-02T16:35:31.870Z"
   },
   {
    "duration": 8,
    "start_time": "2021-11-02T16:35:31.879Z"
   },
   {
    "duration": 6,
    "start_time": "2021-11-02T16:35:31.889Z"
   },
   {
    "duration": 13,
    "start_time": "2021-11-02T16:35:31.897Z"
   },
   {
    "duration": 11,
    "start_time": "2021-11-02T16:35:31.912Z"
   },
   {
    "duration": 46,
    "start_time": "2021-11-02T16:35:31.925Z"
   },
   {
    "duration": 11,
    "start_time": "2021-11-02T16:35:31.973Z"
   },
   {
    "duration": 48,
    "start_time": "2021-11-02T16:35:31.987Z"
   },
   {
    "duration": 36,
    "start_time": "2021-11-02T16:35:32.037Z"
   },
   {
    "duration": 18,
    "start_time": "2021-11-02T16:35:32.075Z"
   },
   {
    "duration": 8,
    "start_time": "2021-11-02T16:35:32.095Z"
   },
   {
    "duration": 8,
    "start_time": "2021-11-02T16:35:32.109Z"
   },
   {
    "duration": 8,
    "start_time": "2021-11-02T16:35:32.121Z"
   },
   {
    "duration": 46,
    "start_time": "2021-11-02T16:35:32.132Z"
   },
   {
    "duration": 14,
    "start_time": "2021-11-02T16:35:32.181Z"
   },
   {
    "duration": 16,
    "start_time": "2021-11-02T16:35:32.197Z"
   },
   {
    "duration": 13,
    "start_time": "2021-11-02T16:35:32.216Z"
   },
   {
    "duration": 8,
    "start_time": "2021-11-02T16:35:32.232Z"
   },
   {
    "duration": 26,
    "start_time": "2021-11-02T16:35:32.243Z"
   },
   {
    "duration": 30,
    "start_time": "2021-11-02T16:35:32.271Z"
   },
   {
    "duration": 7,
    "start_time": "2021-11-02T16:35:32.304Z"
   },
   {
    "duration": 14,
    "start_time": "2021-11-02T16:35:32.313Z"
   },
   {
    "duration": 8,
    "start_time": "2021-11-02T16:35:32.330Z"
   },
   {
    "duration": 24,
    "start_time": "2021-11-02T16:35:32.368Z"
   },
   {
    "duration": 28,
    "start_time": "2021-11-02T16:35:32.394Z"
   },
   {
    "duration": 59,
    "start_time": "2021-11-02T16:35:32.425Z"
   },
   {
    "duration": 5,
    "start_time": "2021-11-02T16:35:32.487Z"
   },
   {
    "duration": 33,
    "start_time": "2021-11-02T16:35:32.495Z"
   },
   {
    "duration": 952,
    "start_time": "2021-11-02T16:35:32.530Z"
   },
   {
    "duration": 4,
    "start_time": "2021-11-02T16:35:33.485Z"
   },
   {
    "duration": 8,
    "start_time": "2021-11-02T16:35:33.492Z"
   },
   {
    "duration": 8634,
    "start_time": "2021-11-02T16:35:33.502Z"
   },
   {
    "duration": 6,
    "start_time": "2021-11-02T16:35:42.139Z"
   },
   {
    "duration": 20,
    "start_time": "2021-11-02T16:35:42.168Z"
   },
   {
    "duration": 17,
    "start_time": "2021-11-02T16:35:42.190Z"
   },
   {
    "duration": 17,
    "start_time": "2021-11-02T16:35:42.209Z"
   },
   {
    "duration": 10,
    "start_time": "2021-11-02T16:35:42.228Z"
   },
   {
    "duration": 5,
    "start_time": "2021-11-02T16:35:42.240Z"
   },
   {
    "duration": 21,
    "start_time": "2021-11-02T16:35:42.267Z"
   },
   {
    "duration": 12,
    "start_time": "2021-11-02T16:35:42.290Z"
   },
   {
    "duration": 4,
    "start_time": "2021-11-02T16:35:42.305Z"
   },
   {
    "duration": 22,
    "start_time": "2021-11-02T16:35:42.312Z"
   },
   {
    "duration": 35,
    "start_time": "2021-11-02T16:35:42.337Z"
   },
   {
    "duration": 30,
    "start_time": "2021-11-02T16:35:42.374Z"
   },
   {
    "duration": 4,
    "start_time": "2021-11-02T16:35:42.406Z"
   },
   {
    "duration": 10,
    "start_time": "2021-11-02T16:35:42.412Z"
   },
   {
    "duration": 43,
    "start_time": "2021-11-02T16:35:42.425Z"
   },
   {
    "duration": 5,
    "start_time": "2021-11-02T16:35:42.471Z"
   },
   {
    "duration": 15,
    "start_time": "2021-11-02T16:35:42.479Z"
   },
   {
    "duration": 7,
    "start_time": "2021-11-02T16:35:42.497Z"
   },
   {
    "duration": 12,
    "start_time": "2021-11-02T16:35:42.506Z"
   },
   {
    "duration": 7,
    "start_time": "2021-11-02T16:35:42.521Z"
   },
   {
    "duration": 38,
    "start_time": "2021-11-02T16:35:42.530Z"
   },
   {
    "duration": 14,
    "start_time": "2021-11-02T16:35:42.571Z"
   },
   {
    "duration": 5,
    "start_time": "2021-11-02T16:35:42.588Z"
   },
   {
    "duration": 11,
    "start_time": "2021-11-02T16:35:42.596Z"
   },
   {
    "duration": 6,
    "start_time": "2021-11-02T16:35:42.615Z"
   },
   {
    "duration": 43,
    "start_time": "2021-11-02T16:35:42.624Z"
   },
   {
    "duration": 15,
    "start_time": "2021-11-02T16:35:42.670Z"
   },
   {
    "duration": 7,
    "start_time": "2021-11-02T16:35:42.687Z"
   },
   {
    "duration": 12,
    "start_time": "2021-11-02T16:35:42.697Z"
   },
   {
    "duration": 10,
    "start_time": "2021-11-02T16:35:42.712Z"
   },
   {
    "duration": 8,
    "start_time": "2021-11-02T16:35:42.725Z"
   },
   {
    "duration": 38,
    "start_time": "2021-11-02T16:35:42.735Z"
   },
   {
    "duration": 5,
    "start_time": "2021-11-02T16:37:23.567Z"
   },
   {
    "duration": 11,
    "start_time": "2021-11-02T16:37:26.455Z"
   },
   {
    "duration": 7,
    "start_time": "2021-11-02T16:37:27.479Z"
   },
   {
    "duration": 5,
    "start_time": "2021-11-02T16:39:13.754Z"
   },
   {
    "duration": 15,
    "start_time": "2021-11-02T16:39:15.642Z"
   },
   {
    "duration": 7,
    "start_time": "2021-11-02T16:39:16.177Z"
   },
   {
    "duration": 28,
    "start_time": "2021-11-02T16:40:33.420Z"
   },
   {
    "duration": 83,
    "start_time": "2021-11-02T16:40:53.522Z"
   },
   {
    "duration": 15,
    "start_time": "2021-11-02T16:40:53.607Z"
   },
   {
    "duration": 87,
    "start_time": "2021-11-02T16:40:53.625Z"
   },
   {
    "duration": 18,
    "start_time": "2021-11-02T16:40:53.715Z"
   },
   {
    "duration": 10,
    "start_time": "2021-11-02T16:40:53.767Z"
   },
   {
    "duration": 5,
    "start_time": "2021-11-02T16:40:53.779Z"
   },
   {
    "duration": 758,
    "start_time": "2021-11-02T16:40:53.786Z"
   },
   {
    "duration": 23,
    "start_time": "2021-11-02T16:40:54.547Z"
   },
   {
    "duration": 14,
    "start_time": "2021-11-02T16:40:54.574Z"
   },
   {
    "duration": 8,
    "start_time": "2021-11-02T16:40:54.591Z"
   },
   {
    "duration": 8,
    "start_time": "2021-11-02T16:40:54.602Z"
   },
   {
    "duration": 56,
    "start_time": "2021-11-02T16:40:54.613Z"
   },
   {
    "duration": 8,
    "start_time": "2021-11-02T16:40:54.672Z"
   },
   {
    "duration": 7,
    "start_time": "2021-11-02T16:40:54.683Z"
   },
   {
    "duration": 16,
    "start_time": "2021-11-02T16:40:54.692Z"
   },
   {
    "duration": 12,
    "start_time": "2021-11-02T16:40:54.711Z"
   },
   {
    "duration": 52,
    "start_time": "2021-11-02T16:40:54.726Z"
   },
   {
    "duration": 12,
    "start_time": "2021-11-02T16:40:54.781Z"
   },
   {
    "duration": 84,
    "start_time": "2021-11-02T16:40:54.796Z"
   },
   {
    "duration": 10,
    "start_time": "2021-11-02T16:40:54.883Z"
   },
   {
    "duration": 10,
    "start_time": "2021-11-02T16:40:54.896Z"
   },
   {
    "duration": 8,
    "start_time": "2021-11-02T16:40:54.909Z"
   },
   {
    "duration": 46,
    "start_time": "2021-11-02T16:40:54.923Z"
   },
   {
    "duration": 10,
    "start_time": "2021-11-02T16:40:54.973Z"
   },
   {
    "duration": 16,
    "start_time": "2021-11-02T16:40:54.986Z"
   },
   {
    "duration": 16,
    "start_time": "2021-11-02T16:40:55.005Z"
   },
   {
    "duration": 10,
    "start_time": "2021-11-02T16:40:55.023Z"
   },
   {
    "duration": 32,
    "start_time": "2021-11-02T16:40:55.036Z"
   },
   {
    "duration": 10,
    "start_time": "2021-11-02T16:40:55.071Z"
   },
   {
    "duration": 11,
    "start_time": "2021-11-02T16:40:55.084Z"
   },
   {
    "duration": 28,
    "start_time": "2021-11-02T16:40:55.097Z"
   },
   {
    "duration": 40,
    "start_time": "2021-11-02T16:40:55.128Z"
   },
   {
    "duration": 13,
    "start_time": "2021-11-02T16:40:55.171Z"
   },
   {
    "duration": 9,
    "start_time": "2021-11-02T16:40:55.186Z"
   },
   {
    "duration": 32,
    "start_time": "2021-11-02T16:40:55.198Z"
   },
   {
    "duration": 57,
    "start_time": "2021-11-02T16:40:55.232Z"
   },
   {
    "duration": 25,
    "start_time": "2021-11-02T16:40:55.292Z"
   },
   {
    "duration": 4,
    "start_time": "2021-11-02T16:40:55.320Z"
   },
   {
    "duration": 53,
    "start_time": "2021-11-02T16:40:55.326Z"
   },
   {
    "duration": 970,
    "start_time": "2021-11-02T16:40:55.381Z"
   },
   {
    "duration": 13,
    "start_time": "2021-11-02T16:40:56.354Z"
   },
   {
    "duration": 11,
    "start_time": "2021-11-02T16:40:56.369Z"
   },
   {
    "duration": 9369,
    "start_time": "2021-11-02T16:40:56.383Z"
   },
   {
    "duration": 15,
    "start_time": "2021-11-02T16:41:05.754Z"
   },
   {
    "duration": 20,
    "start_time": "2021-11-02T16:41:05.772Z"
   },
   {
    "duration": 14,
    "start_time": "2021-11-02T16:41:05.794Z"
   },
   {
    "duration": 19,
    "start_time": "2021-11-02T16:41:05.811Z"
   },
   {
    "duration": 35,
    "start_time": "2021-11-02T16:41:05.833Z"
   },
   {
    "duration": 6,
    "start_time": "2021-11-02T16:41:05.872Z"
   },
   {
    "duration": 29,
    "start_time": "2021-11-02T16:41:05.880Z"
   },
   {
    "duration": 15,
    "start_time": "2021-11-02T16:41:05.912Z"
   },
   {
    "duration": 38,
    "start_time": "2021-11-02T16:41:05.930Z"
   },
   {
    "duration": 4,
    "start_time": "2021-11-02T16:41:05.971Z"
   },
   {
    "duration": 19,
    "start_time": "2021-11-02T16:41:05.979Z"
   },
   {
    "duration": 12,
    "start_time": "2021-11-02T16:41:06.001Z"
   },
   {
    "duration": 9,
    "start_time": "2021-11-02T16:41:06.016Z"
   },
   {
    "duration": 41,
    "start_time": "2021-11-02T16:41:06.028Z"
   },
   {
    "duration": 5,
    "start_time": "2021-11-02T16:41:06.072Z"
   },
   {
    "duration": 17,
    "start_time": "2021-11-02T16:41:06.080Z"
   },
   {
    "duration": 10,
    "start_time": "2021-11-02T16:41:06.100Z"
   },
   {
    "duration": 20,
    "start_time": "2021-11-02T16:41:06.113Z"
   },
   {
    "duration": 33,
    "start_time": "2021-11-02T16:41:06.135Z"
   },
   {
    "duration": 5,
    "start_time": "2021-11-02T16:41:06.172Z"
   },
   {
    "duration": 13,
    "start_time": "2021-11-02T16:41:06.180Z"
   },
   {
    "duration": 21,
    "start_time": "2021-11-02T16:41:06.196Z"
   },
   {
    "duration": 6,
    "start_time": "2021-11-02T16:41:06.220Z"
   },
   {
    "duration": 40,
    "start_time": "2021-11-02T16:41:06.228Z"
   },
   {
    "duration": 5,
    "start_time": "2021-11-02T16:41:06.275Z"
   },
   {
    "duration": 299,
    "start_time": "2021-11-02T16:41:06.283Z"
   },
   {
    "duration": 451,
    "start_time": "2021-11-02T16:41:06.133Z"
   },
   {
    "duration": 450,
    "start_time": "2021-11-02T16:41:06.135Z"
   },
   {
    "duration": 449,
    "start_time": "2021-11-02T16:41:06.138Z"
   },
   {
    "duration": 4,
    "start_time": "2021-11-02T16:43:23.919Z"
   },
   {
    "duration": 9,
    "start_time": "2021-11-02T16:43:24.382Z"
   },
   {
    "duration": 9,
    "start_time": "2021-11-02T16:43:24.846Z"
   },
   {
    "duration": 6,
    "start_time": "2021-11-02T16:43:25.343Z"
   },
   {
    "duration": 13,
    "start_time": "2021-11-02T16:43:26.007Z"
   },
   {
    "duration": 8,
    "start_time": "2021-11-02T16:43:50.071Z"
   },
   {
    "duration": 8,
    "start_time": "2021-11-02T16:43:54.424Z"
   },
   {
    "duration": 6,
    "start_time": "2021-11-02T16:43:58.567Z"
   },
   {
    "duration": 12,
    "start_time": "2021-11-02T16:43:59.808Z"
   },
   {
    "duration": 90,
    "start_time": "2021-11-02T16:44:37.196Z"
   },
   {
    "duration": 15,
    "start_time": "2021-11-02T16:44:37.289Z"
   },
   {
    "duration": 89,
    "start_time": "2021-11-02T16:44:37.307Z"
   },
   {
    "duration": 14,
    "start_time": "2021-11-02T16:44:37.399Z"
   },
   {
    "duration": 10,
    "start_time": "2021-11-02T16:44:37.415Z"
   },
   {
    "duration": 39,
    "start_time": "2021-11-02T16:44:37.428Z"
   },
   {
    "duration": 742,
    "start_time": "2021-11-02T16:44:37.469Z"
   },
   {
    "duration": 14,
    "start_time": "2021-11-02T16:44:38.213Z"
   },
   {
    "duration": 12,
    "start_time": "2021-11-02T16:44:38.232Z"
   },
   {
    "duration": 7,
    "start_time": "2021-11-02T16:44:38.268Z"
   },
   {
    "duration": 10,
    "start_time": "2021-11-02T16:44:38.278Z"
   },
   {
    "duration": 12,
    "start_time": "2021-11-02T16:44:38.290Z"
   },
   {
    "duration": 12,
    "start_time": "2021-11-02T16:44:38.305Z"
   },
   {
    "duration": 8,
    "start_time": "2021-11-02T16:44:38.320Z"
   },
   {
    "duration": 41,
    "start_time": "2021-11-02T16:44:38.330Z"
   },
   {
    "duration": 8,
    "start_time": "2021-11-02T16:44:38.373Z"
   },
   {
    "duration": 11,
    "start_time": "2021-11-02T16:44:38.384Z"
   },
   {
    "duration": 9,
    "start_time": "2021-11-02T16:44:38.398Z"
   },
   {
    "duration": 84,
    "start_time": "2021-11-02T16:44:38.410Z"
   },
   {
    "duration": 9,
    "start_time": "2021-11-02T16:44:38.496Z"
   },
   {
    "duration": 10,
    "start_time": "2021-11-02T16:44:38.507Z"
   },
   {
    "duration": 9,
    "start_time": "2021-11-02T16:44:38.519Z"
   },
   {
    "duration": 10,
    "start_time": "2021-11-02T16:44:38.530Z"
   },
   {
    "duration": 7,
    "start_time": "2021-11-02T16:44:38.567Z"
   },
   {
    "duration": 24,
    "start_time": "2021-11-02T16:44:38.576Z"
   },
   {
    "duration": 12,
    "start_time": "2021-11-02T16:44:38.604Z"
   },
   {
    "duration": 6,
    "start_time": "2021-11-02T16:44:38.622Z"
   },
   {
    "duration": 40,
    "start_time": "2021-11-02T16:44:38.631Z"
   },
   {
    "duration": 9,
    "start_time": "2021-11-02T16:44:38.673Z"
   },
   {
    "duration": 14,
    "start_time": "2021-11-02T16:44:38.684Z"
   },
   {
    "duration": 20,
    "start_time": "2021-11-02T16:44:38.700Z"
   },
   {
    "duration": 5,
    "start_time": "2021-11-02T16:44:38.723Z"
   },
   {
    "duration": 42,
    "start_time": "2021-11-02T16:44:38.731Z"
   },
   {
    "duration": 7,
    "start_time": "2021-11-02T16:44:38.776Z"
   },
   {
    "duration": 26,
    "start_time": "2021-11-02T16:44:38.786Z"
   },
   {
    "duration": 57,
    "start_time": "2021-11-02T16:44:38.815Z"
   },
   {
    "duration": 22,
    "start_time": "2021-11-02T16:44:38.874Z"
   },
   {
    "duration": 4,
    "start_time": "2021-11-02T16:44:38.899Z"
   },
   {
    "duration": 62,
    "start_time": "2021-11-02T16:44:38.905Z"
   },
   {
    "duration": 966,
    "start_time": "2021-11-02T16:44:38.969Z"
   },
   {
    "duration": 4,
    "start_time": "2021-11-02T16:44:39.938Z"
   },
   {
    "duration": 23,
    "start_time": "2021-11-02T16:44:39.944Z"
   },
   {
    "duration": 8735,
    "start_time": "2021-11-02T16:44:39.970Z"
   },
   {
    "duration": 9,
    "start_time": "2021-11-02T16:44:48.707Z"
   },
   {
    "duration": 26,
    "start_time": "2021-11-02T16:44:48.718Z"
   },
   {
    "duration": 22,
    "start_time": "2021-11-02T16:44:48.746Z"
   },
   {
    "duration": 16,
    "start_time": "2021-11-02T16:44:48.771Z"
   },
   {
    "duration": 14,
    "start_time": "2021-11-02T16:44:48.789Z"
   },
   {
    "duration": 8,
    "start_time": "2021-11-02T16:44:48.805Z"
   },
   {
    "duration": 28,
    "start_time": "2021-11-02T16:44:48.816Z"
   },
   {
    "duration": 7,
    "start_time": "2021-11-02T16:44:48.867Z"
   },
   {
    "duration": 7,
    "start_time": "2021-11-02T16:44:48.877Z"
   },
   {
    "duration": 21,
    "start_time": "2021-11-02T16:44:48.887Z"
   },
   {
    "duration": 13,
    "start_time": "2021-11-02T16:44:48.911Z"
   },
   {
    "duration": 8,
    "start_time": "2021-11-02T16:44:48.927Z"
   },
   {
    "duration": 36,
    "start_time": "2021-11-02T16:44:48.938Z"
   },
   {
    "duration": 4,
    "start_time": "2021-11-02T16:44:48.976Z"
   },
   {
    "duration": 19,
    "start_time": "2021-11-02T16:44:48.983Z"
   },
   {
    "duration": 17,
    "start_time": "2021-11-02T16:44:49.005Z"
   },
   {
    "duration": 10,
    "start_time": "2021-11-02T16:44:49.025Z"
   },
   {
    "duration": 36,
    "start_time": "2021-11-02T16:44:49.038Z"
   },
   {
    "duration": 4,
    "start_time": "2021-11-02T16:44:49.076Z"
   },
   {
    "duration": 16,
    "start_time": "2021-11-02T16:44:49.083Z"
   },
   {
    "duration": 8,
    "start_time": "2021-11-02T16:44:49.102Z"
   },
   {
    "duration": 6,
    "start_time": "2021-11-02T16:44:49.112Z"
   },
   {
    "duration": 45,
    "start_time": "2021-11-02T16:44:49.121Z"
   },
   {
    "duration": 11,
    "start_time": "2021-11-02T16:44:49.169Z"
   },
   {
    "duration": 31,
    "start_time": "2021-11-02T16:44:49.182Z"
   },
   {
    "duration": 12,
    "start_time": "2021-11-02T16:44:49.215Z"
   },
   {
    "duration": 14,
    "start_time": "2021-11-02T16:44:49.230Z"
   },
   {
    "duration": 20,
    "start_time": "2021-11-02T16:44:49.246Z"
   },
   {
    "duration": 7,
    "start_time": "2021-11-02T16:45:43.267Z"
   },
   {
    "duration": 892,
    "start_time": "2021-11-02T16:46:30.442Z"
   },
   {
    "duration": 15,
    "start_time": "2021-11-02T16:46:31.337Z"
   },
   {
    "duration": 56,
    "start_time": "2021-11-02T16:46:31.355Z"
   },
   {
    "duration": 13,
    "start_time": "2021-11-02T16:46:31.413Z"
   },
   {
    "duration": 44,
    "start_time": "2021-11-02T16:46:31.428Z"
   },
   {
    "duration": 4,
    "start_time": "2021-11-02T16:46:31.474Z"
   },
   {
    "duration": 773,
    "start_time": "2021-11-02T16:46:31.480Z"
   },
   {
    "duration": 15,
    "start_time": "2021-11-02T16:46:32.257Z"
   },
   {
    "duration": 13,
    "start_time": "2021-11-02T16:46:32.275Z"
   },
   {
    "duration": 8,
    "start_time": "2021-11-02T16:46:32.290Z"
   },
   {
    "duration": 14,
    "start_time": "2021-11-02T16:46:32.300Z"
   },
   {
    "duration": 13,
    "start_time": "2021-11-02T16:46:32.316Z"
   },
   {
    "duration": 14,
    "start_time": "2021-11-02T16:46:32.331Z"
   },
   {
    "duration": 8,
    "start_time": "2021-11-02T16:46:32.348Z"
   },
   {
    "duration": 14,
    "start_time": "2021-11-02T16:46:32.358Z"
   },
   {
    "duration": 13,
    "start_time": "2021-11-02T16:46:32.375Z"
   },
   {
    "duration": 11,
    "start_time": "2021-11-02T16:46:32.391Z"
   },
   {
    "duration": 10,
    "start_time": "2021-11-02T16:46:32.405Z"
   },
   {
    "duration": 49,
    "start_time": "2021-11-02T16:46:32.418Z"
   },
   {
    "duration": 9,
    "start_time": "2021-11-02T16:46:32.470Z"
   },
   {
    "duration": 13,
    "start_time": "2021-11-02T16:46:32.482Z"
   },
   {
    "duration": 8,
    "start_time": "2021-11-02T16:46:32.498Z"
   },
   {
    "duration": 8,
    "start_time": "2021-11-02T16:46:32.512Z"
   },
   {
    "duration": 8,
    "start_time": "2021-11-02T16:46:32.526Z"
   },
   {
    "duration": 48,
    "start_time": "2021-11-02T16:46:32.537Z"
   },
   {
    "duration": 13,
    "start_time": "2021-11-02T16:46:32.588Z"
   },
   {
    "duration": 63,
    "start_time": "2021-11-02T16:46:32.604Z"
   },
   {
    "duration": 11,
    "start_time": "2021-11-02T16:46:32.670Z"
   },
   {
    "duration": 10,
    "start_time": "2021-11-02T16:46:32.684Z"
   },
   {
    "duration": 16,
    "start_time": "2021-11-02T16:46:32.697Z"
   },
   {
    "duration": 68,
    "start_time": "2021-11-02T16:46:32.715Z"
   },
   {
    "duration": 7,
    "start_time": "2021-11-02T16:46:32.785Z"
   },
   {
    "duration": 13,
    "start_time": "2021-11-02T16:46:32.794Z"
   },
   {
    "duration": 60,
    "start_time": "2021-11-02T16:46:32.810Z"
   },
   {
    "duration": 21,
    "start_time": "2021-11-02T16:46:32.873Z"
   },
   {
    "duration": 71,
    "start_time": "2021-11-02T16:46:32.896Z"
   },
   {
    "duration": 21,
    "start_time": "2021-11-02T16:46:32.969Z"
   },
   {
    "duration": 8,
    "start_time": "2021-11-02T16:46:32.992Z"
   },
   {
    "duration": 3,
    "start_time": "2021-11-02T16:46:33.003Z"
   },
   {
    "duration": 1268,
    "start_time": "2021-11-02T16:46:33.009Z"
   },
   {
    "duration": 4,
    "start_time": "2021-11-02T16:46:34.280Z"
   },
   {
    "duration": 8,
    "start_time": "2021-11-02T16:46:34.286Z"
   },
   {
    "duration": 8412,
    "start_time": "2021-11-02T16:46:34.296Z"
   },
   {
    "duration": 7,
    "start_time": "2021-11-02T16:46:42.710Z"
   },
   {
    "duration": 21,
    "start_time": "2021-11-02T16:46:42.720Z"
   },
   {
    "duration": 3,
    "start_time": "2021-11-02T16:46:42.768Z"
   },
   {
    "duration": 17,
    "start_time": "2021-11-02T16:46:42.774Z"
   },
   {
    "duration": 17,
    "start_time": "2021-11-02T16:46:42.793Z"
   },
   {
    "duration": 5,
    "start_time": "2021-11-02T16:46:42.812Z"
   },
   {
    "duration": 28,
    "start_time": "2021-11-02T16:46:42.819Z"
   },
   {
    "duration": 7,
    "start_time": "2021-11-02T16:46:42.866Z"
   },
   {
    "duration": 9,
    "start_time": "2021-11-02T16:46:42.875Z"
   },
   {
    "duration": 23,
    "start_time": "2021-11-02T16:46:42.886Z"
   },
   {
    "duration": 8,
    "start_time": "2021-11-02T16:46:42.911Z"
   },
   {
    "duration": 14,
    "start_time": "2021-11-02T16:46:42.921Z"
   },
   {
    "duration": 35,
    "start_time": "2021-11-02T16:46:42.938Z"
   },
   {
    "duration": 7,
    "start_time": "2021-11-02T16:46:42.976Z"
   },
   {
    "duration": 13,
    "start_time": "2021-11-02T16:46:42.986Z"
   },
   {
    "duration": 12,
    "start_time": "2021-11-02T16:46:43.001Z"
   },
   {
    "duration": 5,
    "start_time": "2021-11-02T16:46:43.015Z"
   },
   {
    "duration": 16,
    "start_time": "2021-11-02T16:46:43.023Z"
   },
   {
    "duration": 4,
    "start_time": "2021-11-02T16:46:43.068Z"
   },
   {
    "duration": 25,
    "start_time": "2021-11-02T16:46:43.074Z"
   },
   {
    "duration": 14,
    "start_time": "2021-11-02T16:46:43.101Z"
   },
   {
    "duration": 13,
    "start_time": "2021-11-02T16:46:43.117Z"
   },
   {
    "duration": 21,
    "start_time": "2021-11-02T16:46:43.132Z"
   },
   {
    "duration": 12,
    "start_time": "2021-11-02T16:46:43.155Z"
   },
   {
    "duration": 11,
    "start_time": "2021-11-02T16:46:43.174Z"
   },
   {
    "duration": 22,
    "start_time": "2021-11-02T16:46:43.188Z"
   },
   {
    "duration": 8,
    "start_time": "2021-11-02T16:46:43.212Z"
   },
   {
    "duration": 30,
    "start_time": "2021-11-02T16:46:43.223Z"
   },
   {
    "duration": 11,
    "start_time": "2021-11-02T16:46:43.255Z"
   },
   {
    "duration": 6,
    "start_time": "2021-11-02T16:48:07.490Z"
   },
   {
    "duration": 11,
    "start_time": "2021-11-02T16:48:08.172Z"
   },
   {
    "duration": 893,
    "start_time": "2021-11-03T09:13:19.983Z"
   },
   {
    "duration": 24,
    "start_time": "2021-11-03T09:13:20.878Z"
   },
   {
    "duration": 47,
    "start_time": "2021-11-03T09:13:20.905Z"
   },
   {
    "duration": 12,
    "start_time": "2021-11-03T09:13:20.955Z"
   },
   {
    "duration": 38,
    "start_time": "2021-11-03T09:13:20.970Z"
   },
   {
    "duration": 4,
    "start_time": "2021-11-03T09:13:21.010Z"
   },
   {
    "duration": 747,
    "start_time": "2021-11-03T09:13:21.017Z"
   },
   {
    "duration": 376,
    "start_time": "2021-11-03T09:13:21.768Z"
   },
   {
    "duration": 375,
    "start_time": "2021-11-03T09:13:21.776Z"
   },
   {
    "duration": 375,
    "start_time": "2021-11-03T09:13:21.778Z"
   },
   {
    "duration": 375,
    "start_time": "2021-11-03T09:13:21.780Z"
   },
   {
    "duration": 320,
    "start_time": "2021-11-03T09:13:21.838Z"
   },
   {
    "duration": 319,
    "start_time": "2021-11-03T09:13:21.841Z"
   },
   {
    "duration": 318,
    "start_time": "2021-11-03T09:13:21.844Z"
   },
   {
    "duration": 317,
    "start_time": "2021-11-03T09:13:21.847Z"
   },
   {
    "duration": 318,
    "start_time": "2021-11-03T09:13:21.849Z"
   },
   {
    "duration": 317,
    "start_time": "2021-11-03T09:13:21.852Z"
   },
   {
    "duration": 318,
    "start_time": "2021-11-03T09:13:21.854Z"
   },
   {
    "duration": 314,
    "start_time": "2021-11-03T09:13:21.860Z"
   },
   {
    "duration": 313,
    "start_time": "2021-11-03T09:13:21.863Z"
   },
   {
    "duration": 313,
    "start_time": "2021-11-03T09:13:21.865Z"
   },
   {
    "duration": 313,
    "start_time": "2021-11-03T09:13:21.867Z"
   },
   {
    "duration": 311,
    "start_time": "2021-11-03T09:13:21.870Z"
   },
   {
    "duration": 310,
    "start_time": "2021-11-03T09:13:21.873Z"
   },
   {
    "duration": 310,
    "start_time": "2021-11-03T09:13:21.875Z"
   },
   {
    "duration": 309,
    "start_time": "2021-11-03T09:13:21.877Z"
   },
   {
    "duration": 309,
    "start_time": "2021-11-03T09:13:21.879Z"
   },
   {
    "duration": 318,
    "start_time": "2021-11-03T09:13:21.882Z"
   },
   {
    "duration": 317,
    "start_time": "2021-11-03T09:13:21.884Z"
   },
   {
    "duration": 317,
    "start_time": "2021-11-03T09:13:21.886Z"
   },
   {
    "duration": 316,
    "start_time": "2021-11-03T09:13:21.888Z"
   },
   {
    "duration": 315,
    "start_time": "2021-11-03T09:13:21.891Z"
   },
   {
    "duration": 313,
    "start_time": "2021-11-03T09:13:21.894Z"
   },
   {
    "duration": 261,
    "start_time": "2021-11-03T09:13:21.947Z"
   },
   {
    "duration": 212,
    "start_time": "2021-11-03T09:13:21.998Z"
   },
   {
    "duration": 211,
    "start_time": "2021-11-03T09:13:22.001Z"
   },
   {
    "duration": 209,
    "start_time": "2021-11-03T09:13:22.004Z"
   },
   {
    "duration": 209,
    "start_time": "2021-11-03T09:13:22.006Z"
   },
   {
    "duration": 208,
    "start_time": "2021-11-03T09:13:22.008Z"
   },
   {
    "duration": 207,
    "start_time": "2021-11-03T09:13:22.010Z"
   },
   {
    "duration": 206,
    "start_time": "2021-11-03T09:13:22.013Z"
   },
   {
    "duration": 205,
    "start_time": "2021-11-03T09:13:22.015Z"
   },
   {
    "duration": 203,
    "start_time": "2021-11-03T09:13:22.018Z"
   },
   {
    "duration": 203,
    "start_time": "2021-11-03T09:13:22.020Z"
   },
   {
    "duration": 201,
    "start_time": "2021-11-03T09:13:22.023Z"
   },
   {
    "duration": 201,
    "start_time": "2021-11-03T09:13:22.025Z"
   },
   {
    "duration": 201,
    "start_time": "2021-11-03T09:13:22.027Z"
   },
   {
    "duration": 200,
    "start_time": "2021-11-03T09:13:22.029Z"
   },
   {
    "duration": 198,
    "start_time": "2021-11-03T09:13:22.032Z"
   },
   {
    "duration": 198,
    "start_time": "2021-11-03T09:13:22.034Z"
   },
   {
    "duration": 197,
    "start_time": "2021-11-03T09:13:22.036Z"
   },
   {
    "duration": 196,
    "start_time": "2021-11-03T09:13:22.039Z"
   },
   {
    "duration": 195,
    "start_time": "2021-11-03T09:13:22.041Z"
   },
   {
    "duration": 195,
    "start_time": "2021-11-03T09:13:22.043Z"
   },
   {
    "duration": 194,
    "start_time": "2021-11-03T09:13:22.045Z"
   },
   {
    "duration": 252,
    "start_time": "2021-11-03T09:13:22.048Z"
   },
   {
    "duration": 186,
    "start_time": "2021-11-03T09:13:22.116Z"
   },
   {
    "duration": 153,
    "start_time": "2021-11-03T09:13:22.151Z"
   },
   {
    "duration": 147,
    "start_time": "2021-11-03T09:13:22.158Z"
   },
   {
    "duration": 142,
    "start_time": "2021-11-03T09:13:22.164Z"
   },
   {
    "duration": 142,
    "start_time": "2021-11-03T09:13:22.166Z"
   },
   {
    "duration": 141,
    "start_time": "2021-11-03T09:13:22.168Z"
   },
   {
    "duration": 140,
    "start_time": "2021-11-03T09:13:22.171Z"
   },
   {
    "duration": 139,
    "start_time": "2021-11-03T09:13:22.173Z"
   },
   {
    "duration": 139,
    "start_time": "2021-11-03T09:13:22.175Z"
   },
   {
    "duration": 138,
    "start_time": "2021-11-03T09:13:22.177Z"
   },
   {
    "duration": 138,
    "start_time": "2021-11-03T09:13:22.179Z"
   },
   {
    "duration": 136,
    "start_time": "2021-11-03T09:13:22.182Z"
   },
   {
    "duration": 136,
    "start_time": "2021-11-03T09:13:22.184Z"
   },
   {
    "duration": 135,
    "start_time": "2021-11-03T09:13:22.186Z"
   },
   {
    "duration": 135,
    "start_time": "2021-11-03T09:13:22.188Z"
   },
   {
    "duration": 133,
    "start_time": "2021-11-03T09:13:22.191Z"
   },
   {
    "duration": 133,
    "start_time": "2021-11-03T09:13:22.193Z"
   },
   {
    "duration": 13,
    "start_time": "2021-11-03T09:13:31.554Z"
   },
   {
    "duration": 626,
    "start_time": "2021-11-03T09:13:35.282Z"
   },
   {
    "duration": 844,
    "start_time": "2021-11-03T09:15:34.056Z"
   },
   {
    "duration": 15,
    "start_time": "2021-11-03T09:15:34.903Z"
   },
   {
    "duration": 47,
    "start_time": "2021-11-03T09:15:34.922Z"
   },
   {
    "duration": 37,
    "start_time": "2021-11-03T09:15:34.972Z"
   },
   {
    "duration": 11,
    "start_time": "2021-11-03T09:15:35.011Z"
   },
   {
    "duration": 5,
    "start_time": "2021-11-03T09:15:35.024Z"
   },
   {
    "duration": 754,
    "start_time": "2021-11-03T09:15:35.031Z"
   },
   {
    "duration": 17,
    "start_time": "2021-11-03T09:15:35.789Z"
   },
   {
    "duration": 656,
    "start_time": "2021-11-03T09:15:35.809Z"
   },
   {
    "duration": 12,
    "start_time": "2021-11-03T09:15:36.468Z"
   },
   {
    "duration": 30,
    "start_time": "2021-11-03T09:15:36.483Z"
   },
   {
    "duration": 6,
    "start_time": "2021-11-03T09:15:36.516Z"
   },
   {
    "duration": 10,
    "start_time": "2021-11-03T09:15:36.525Z"
   },
   {
    "duration": 13,
    "start_time": "2021-11-03T09:15:36.537Z"
   },
   {
    "duration": 6,
    "start_time": "2021-11-03T09:15:36.553Z"
   },
   {
    "duration": 39,
    "start_time": "2021-11-03T09:15:36.562Z"
   },
   {
    "duration": 7,
    "start_time": "2021-11-03T09:15:36.604Z"
   },
   {
    "duration": 10,
    "start_time": "2021-11-03T09:15:36.613Z"
   },
   {
    "duration": 11,
    "start_time": "2021-11-03T09:15:36.625Z"
   },
   {
    "duration": 11,
    "start_time": "2021-11-03T09:15:36.639Z"
   },
   {
    "duration": 87,
    "start_time": "2021-11-03T09:15:36.653Z"
   },
   {
    "duration": 9,
    "start_time": "2021-11-03T09:15:36.743Z"
   },
   {
    "duration": 7,
    "start_time": "2021-11-03T09:15:36.758Z"
   },
   {
    "duration": 34,
    "start_time": "2021-11-03T09:15:36.769Z"
   },
   {
    "duration": 10,
    "start_time": "2021-11-03T09:15:36.806Z"
   },
   {
    "duration": 12,
    "start_time": "2021-11-03T09:15:36.818Z"
   },
   {
    "duration": 16,
    "start_time": "2021-11-03T09:15:36.833Z"
   },
   {
    "duration": 11,
    "start_time": "2021-11-03T09:15:36.851Z"
   },
   {
    "duration": 38,
    "start_time": "2021-11-03T09:15:36.864Z"
   },
   {
    "duration": 7,
    "start_time": "2021-11-03T09:15:36.904Z"
   },
   {
    "duration": 7,
    "start_time": "2021-11-03T09:15:36.914Z"
   },
   {
    "duration": 9,
    "start_time": "2021-11-03T09:15:36.923Z"
   },
   {
    "duration": 68,
    "start_time": "2021-11-03T09:15:36.934Z"
   },
   {
    "duration": 6,
    "start_time": "2021-11-03T09:15:37.004Z"
   },
   {
    "duration": 13,
    "start_time": "2021-11-03T09:15:37.012Z"
   },
   {
    "duration": 7,
    "start_time": "2021-11-03T09:15:37.027Z"
   },
   {
    "duration": 73,
    "start_time": "2021-11-03T09:15:37.036Z"
   },
   {
    "duration": 25,
    "start_time": "2021-11-03T09:15:37.112Z"
   },
   {
    "duration": 79,
    "start_time": "2021-11-03T09:15:37.139Z"
   },
   {
    "duration": 9,
    "start_time": "2021-11-03T09:15:37.221Z"
   },
   {
    "duration": 3,
    "start_time": "2021-11-03T09:15:37.233Z"
   },
   {
    "duration": 1239,
    "start_time": "2021-11-03T09:15:37.238Z"
   },
   {
    "duration": 5,
    "start_time": "2021-11-03T09:15:38.480Z"
   },
   {
    "duration": 5,
    "start_time": "2021-11-03T09:15:38.501Z"
   },
   {
    "duration": 8027,
    "start_time": "2021-11-03T09:15:38.509Z"
   },
   {
    "duration": 7,
    "start_time": "2021-11-03T09:15:46.539Z"
   },
   {
    "duration": 21,
    "start_time": "2021-11-03T09:15:46.548Z"
   },
   {
    "duration": 28,
    "start_time": "2021-11-03T09:15:46.571Z"
   },
   {
    "duration": 16,
    "start_time": "2021-11-03T09:15:46.602Z"
   },
   {
    "duration": 7,
    "start_time": "2021-11-03T09:15:46.621Z"
   },
   {
    "duration": 6,
    "start_time": "2021-11-03T09:15:46.630Z"
   },
   {
    "duration": 28,
    "start_time": "2021-11-03T09:15:46.638Z"
   },
   {
    "duration": 7,
    "start_time": "2021-11-03T09:15:46.668Z"
   },
   {
    "duration": 6,
    "start_time": "2021-11-03T09:15:46.702Z"
   },
   {
    "duration": 22,
    "start_time": "2021-11-03T09:15:46.710Z"
   },
   {
    "duration": 8,
    "start_time": "2021-11-03T09:15:46.734Z"
   },
   {
    "duration": 13,
    "start_time": "2021-11-03T09:15:46.744Z"
   },
   {
    "duration": 43,
    "start_time": "2021-11-03T09:15:46.759Z"
   },
   {
    "duration": 3,
    "start_time": "2021-11-03T09:15:46.805Z"
   },
   {
    "duration": 12,
    "start_time": "2021-11-03T09:15:46.810Z"
   },
   {
    "duration": 8,
    "start_time": "2021-11-03T09:15:46.824Z"
   },
   {
    "duration": 8,
    "start_time": "2021-11-03T09:15:46.834Z"
   },
   {
    "duration": 17,
    "start_time": "2021-11-03T09:15:46.844Z"
   },
   {
    "duration": 39,
    "start_time": "2021-11-03T09:15:46.864Z"
   },
   {
    "duration": 11,
    "start_time": "2021-11-03T09:15:46.905Z"
   },
   {
    "duration": 8,
    "start_time": "2021-11-03T09:15:46.919Z"
   },
   {
    "duration": 6,
    "start_time": "2021-11-03T09:15:46.929Z"
   },
   {
    "duration": 12,
    "start_time": "2021-11-03T09:15:46.942Z"
   },
   {
    "duration": 45,
    "start_time": "2021-11-03T09:15:46.956Z"
   },
   {
    "duration": 13,
    "start_time": "2021-11-03T09:15:47.003Z"
   },
   {
    "duration": 8,
    "start_time": "2021-11-03T09:15:47.019Z"
   },
   {
    "duration": 6,
    "start_time": "2021-11-03T09:15:47.029Z"
   },
   {
    "duration": 30,
    "start_time": "2021-11-03T09:15:47.037Z"
   },
   {
    "duration": 27,
    "start_time": "2021-11-03T09:18:34.898Z"
   },
   {
    "duration": 7,
    "start_time": "2021-11-03T09:18:39.056Z"
   },
   {
    "duration": 23,
    "start_time": "2021-11-03T09:18:45.690Z"
   },
   {
    "duration": 6,
    "start_time": "2021-11-03T09:18:50.596Z"
   },
   {
    "duration": 8,
    "start_time": "2021-11-03T09:19:06.523Z"
   },
   {
    "duration": 9,
    "start_time": "2021-11-03T09:19:10.224Z"
   },
   {
    "duration": 23,
    "start_time": "2021-11-03T09:19:19.011Z"
   },
   {
    "duration": 81,
    "start_time": "2021-11-03T09:19:25.836Z"
   },
   {
    "duration": 15,
    "start_time": "2021-11-03T09:19:26.219Z"
   },
   {
    "duration": 51,
    "start_time": "2021-11-03T09:19:26.491Z"
   },
   {
    "duration": 13,
    "start_time": "2021-11-03T09:19:28.829Z"
   },
   {
    "duration": 10,
    "start_time": "2021-11-03T09:19:29.243Z"
   },
   {
    "duration": 4,
    "start_time": "2021-11-03T09:19:29.657Z"
   },
   {
    "duration": 720,
    "start_time": "2021-11-03T09:19:31.228Z"
   },
   {
    "duration": 11,
    "start_time": "2021-11-03T09:19:32.061Z"
   },
   {
    "duration": 657,
    "start_time": "2021-11-03T09:19:32.238Z"
   },
   {
    "duration": 15,
    "start_time": "2021-11-03T09:19:32.901Z"
   },
   {
    "duration": 13,
    "start_time": "2021-11-03T09:19:33.213Z"
   },
   {
    "duration": 7,
    "start_time": "2021-11-03T09:19:34.809Z"
   },
   {
    "duration": 5,
    "start_time": "2021-11-03T09:19:35.211Z"
   },
   {
    "duration": 7,
    "start_time": "2021-11-03T09:19:35.413Z"
   },
   {
    "duration": 7,
    "start_time": "2021-11-03T09:19:36.555Z"
   },
   {
    "duration": 4,
    "start_time": "2021-11-03T09:19:36.999Z"
   },
   {
    "duration": 6,
    "start_time": "2021-11-03T09:19:42.940Z"
   },
   {
    "duration": 8,
    "start_time": "2021-11-03T09:19:51.308Z"
   },
   {
    "duration": 20,
    "start_time": "2021-11-03T09:20:05.333Z"
   },
   {
    "duration": 8,
    "start_time": "2021-11-03T09:20:06.179Z"
   },
   {
    "duration": 29,
    "start_time": "2021-11-03T09:20:36.321Z"
   },
   {
    "duration": 8,
    "start_time": "2021-11-03T09:20:54.990Z"
   },
   {
    "duration": 11,
    "start_time": "2021-11-03T09:21:40.943Z"
   },
   {
    "duration": 81,
    "start_time": "2021-11-03T09:22:04.594Z"
   },
   {
    "duration": 18,
    "start_time": "2021-11-03T09:22:05.718Z"
   },
   {
    "duration": 48,
    "start_time": "2021-11-03T09:22:05.951Z"
   },
   {
    "duration": 13,
    "start_time": "2021-11-03T09:22:09.718Z"
   },
   {
    "duration": 11,
    "start_time": "2021-11-03T09:22:59.104Z"
   },
   {
    "duration": 4,
    "start_time": "2021-11-03T09:23:02.043Z"
   },
   {
    "duration": 767,
    "start_time": "2021-11-03T09:23:02.729Z"
   },
   {
    "duration": 13,
    "start_time": "2021-11-03T09:23:06.799Z"
   },
   {
    "duration": 12,
    "start_time": "2021-11-03T09:23:07.561Z"
   },
   {
    "duration": 6,
    "start_time": "2021-11-03T09:23:09.528Z"
   },
   {
    "duration": 5,
    "start_time": "2021-11-03T09:23:10.438Z"
   },
   {
    "duration": 7,
    "start_time": "2021-11-03T09:23:11.304Z"
   },
   {
    "duration": 6,
    "start_time": "2021-11-03T09:23:14.696Z"
   },
   {
    "duration": 8,
    "start_time": "2021-11-03T09:23:22.066Z"
   },
   {
    "duration": 8,
    "start_time": "2021-11-03T09:23:24.938Z"
   },
   {
    "duration": 10,
    "start_time": "2021-11-03T09:23:27.472Z"
   },
   {
    "duration": 21,
    "start_time": "2021-11-03T09:23:31.576Z"
   },
   {
    "duration": 9,
    "start_time": "2021-11-03T09:23:32.232Z"
   },
   {
    "duration": 10,
    "start_time": "2021-11-03T09:23:36.440Z"
   },
   {
    "duration": 13,
    "start_time": "2021-11-03T09:23:52.433Z"
   },
   {
    "duration": 895,
    "start_time": "2021-11-03T09:24:31.374Z"
   },
   {
    "duration": 28,
    "start_time": "2021-11-03T09:24:32.272Z"
   },
   {
    "duration": 48,
    "start_time": "2021-11-03T09:24:32.304Z"
   },
   {
    "duration": 13,
    "start_time": "2021-11-03T09:24:32.355Z"
   },
   {
    "duration": 37,
    "start_time": "2021-11-03T09:24:32.370Z"
   },
   {
    "duration": 4,
    "start_time": "2021-11-03T09:24:32.410Z"
   },
   {
    "duration": 851,
    "start_time": "2021-11-03T09:24:32.416Z"
   },
   {
    "duration": 11,
    "start_time": "2021-11-03T09:24:33.271Z"
   },
   {
    "duration": 644,
    "start_time": "2021-11-03T09:24:33.286Z"
   },
   {
    "duration": 13,
    "start_time": "2021-11-03T09:24:33.932Z"
   },
   {
    "duration": 14,
    "start_time": "2021-11-03T09:24:33.948Z"
   },
   {
    "duration": 38,
    "start_time": "2021-11-03T09:24:33.964Z"
   },
   {
    "duration": 5,
    "start_time": "2021-11-03T09:24:34.005Z"
   },
   {
    "duration": 8,
    "start_time": "2021-11-03T09:24:34.013Z"
   },
   {
    "duration": 6,
    "start_time": "2021-11-03T09:24:34.024Z"
   },
   {
    "duration": 5,
    "start_time": "2021-11-03T09:24:34.032Z"
   },
   {
    "duration": 8,
    "start_time": "2021-11-03T09:24:34.039Z"
   },
   {
    "duration": 58,
    "start_time": "2021-11-03T09:24:34.049Z"
   },
   {
    "duration": 9,
    "start_time": "2021-11-03T09:24:34.109Z"
   },
   {
    "duration": 10,
    "start_time": "2021-11-03T09:24:34.121Z"
   },
   {
    "duration": 79,
    "start_time": "2021-11-03T09:24:34.134Z"
   },
   {
    "duration": 11,
    "start_time": "2021-11-03T09:24:34.215Z"
   },
   {
    "duration": 7,
    "start_time": "2021-11-03T09:24:34.234Z"
   },
   {
    "duration": 6,
    "start_time": "2021-11-03T09:24:34.246Z"
   },
   {
    "duration": 50,
    "start_time": "2021-11-03T09:24:34.255Z"
   },
   {
    "duration": 10,
    "start_time": "2021-11-03T09:24:34.308Z"
   },
   {
    "duration": 17,
    "start_time": "2021-11-03T09:24:34.321Z"
   },
   {
    "duration": 13,
    "start_time": "2021-11-03T09:24:34.341Z"
   },
   {
    "duration": 46,
    "start_time": "2021-11-03T09:24:34.357Z"
   },
   {
    "duration": 12,
    "start_time": "2021-11-03T09:24:34.406Z"
   },
   {
    "duration": 6,
    "start_time": "2021-11-03T09:24:34.420Z"
   },
   {
    "duration": 8,
    "start_time": "2021-11-03T09:24:34.428Z"
   },
   {
    "duration": 23,
    "start_time": "2021-11-03T09:24:34.438Z"
   },
   {
    "duration": 40,
    "start_time": "2021-11-03T09:24:34.464Z"
   },
   {
    "duration": 15,
    "start_time": "2021-11-03T09:24:34.506Z"
   },
   {
    "duration": 7,
    "start_time": "2021-11-03T09:24:34.524Z"
   },
   {
    "duration": 22,
    "start_time": "2021-11-03T09:24:34.534Z"
   },
   {
    "duration": 67,
    "start_time": "2021-11-03T09:24:34.558Z"
   },
   {
    "duration": 23,
    "start_time": "2021-11-03T09:24:34.628Z"
   },
   {
    "duration": 12,
    "start_time": "2021-11-03T09:24:34.654Z"
   },
   {
    "duration": 10,
    "start_time": "2021-11-03T09:24:34.668Z"
   },
   {
    "duration": 1069,
    "start_time": "2021-11-03T09:24:34.701Z"
   },
   {
    "duration": 3,
    "start_time": "2021-11-03T09:24:35.773Z"
   },
   {
    "duration": 23,
    "start_time": "2021-11-03T09:24:35.779Z"
   },
   {
    "duration": 8651,
    "start_time": "2021-11-03T09:24:35.805Z"
   },
   {
    "duration": 7,
    "start_time": "2021-11-03T09:24:44.459Z"
   },
   {
    "duration": 43,
    "start_time": "2021-11-03T09:24:44.468Z"
   },
   {
    "duration": 4,
    "start_time": "2021-11-03T09:24:44.514Z"
   },
   {
    "duration": 24,
    "start_time": "2021-11-03T09:24:44.520Z"
   },
   {
    "duration": 10,
    "start_time": "2021-11-03T09:24:44.547Z"
   },
   {
    "duration": 7,
    "start_time": "2021-11-03T09:24:44.559Z"
   },
   {
    "duration": 43,
    "start_time": "2021-11-03T09:24:44.569Z"
   },
   {
    "duration": 8,
    "start_time": "2021-11-03T09:24:44.615Z"
   },
   {
    "duration": 25,
    "start_time": "2021-11-03T09:24:44.625Z"
   },
   {
    "duration": 31,
    "start_time": "2021-11-03T09:24:44.652Z"
   },
   {
    "duration": 7,
    "start_time": "2021-11-03T09:24:44.686Z"
   },
   {
    "duration": 12,
    "start_time": "2021-11-03T09:24:44.695Z"
   },
   {
    "duration": 11,
    "start_time": "2021-11-03T09:24:44.709Z"
   },
   {
    "duration": 6,
    "start_time": "2021-11-03T09:24:44.722Z"
   },
   {
    "duration": 13,
    "start_time": "2021-11-03T09:24:44.731Z"
   },
   {
    "duration": 8,
    "start_time": "2021-11-03T09:24:44.746Z"
   },
   {
    "duration": 6,
    "start_time": "2021-11-03T09:24:44.757Z"
   },
   {
    "duration": 44,
    "start_time": "2021-11-03T09:24:44.765Z"
   },
   {
    "duration": 5,
    "start_time": "2021-11-03T09:24:44.812Z"
   },
   {
    "duration": 12,
    "start_time": "2021-11-03T09:24:44.819Z"
   },
   {
    "duration": 11,
    "start_time": "2021-11-03T09:24:44.833Z"
   },
   {
    "duration": 9,
    "start_time": "2021-11-03T09:24:44.846Z"
   },
   {
    "duration": 41,
    "start_time": "2021-11-03T09:24:44.861Z"
   },
   {
    "duration": 4,
    "start_time": "2021-11-03T09:24:44.905Z"
   },
   {
    "duration": 10,
    "start_time": "2021-11-03T09:24:44.911Z"
   },
   {
    "duration": 9,
    "start_time": "2021-11-03T09:24:44.924Z"
   },
   {
    "duration": 7,
    "start_time": "2021-11-03T09:24:44.935Z"
   },
   {
    "duration": 23,
    "start_time": "2021-11-03T09:24:44.945Z"
   },
   {
    "duration": 9,
    "start_time": "2021-11-03T09:28:05.924Z"
   },
   {
    "duration": 9,
    "start_time": "2021-11-03T09:28:16.372Z"
   },
   {
    "duration": 145,
    "start_time": "2021-11-03T09:56:33.472Z"
   },
   {
    "duration": 913,
    "start_time": "2021-11-03T09:59:17.100Z"
   },
   {
    "duration": 16,
    "start_time": "2021-11-03T09:59:18.015Z"
   },
   {
    "duration": 68,
    "start_time": "2021-11-03T09:59:18.034Z"
   },
   {
    "duration": 13,
    "start_time": "2021-11-03T09:59:18.104Z"
   },
   {
    "duration": 11,
    "start_time": "2021-11-03T09:59:18.119Z"
   },
   {
    "duration": 4,
    "start_time": "2021-11-03T09:59:18.132Z"
   },
   {
    "duration": 732,
    "start_time": "2021-11-03T09:59:18.139Z"
   },
   {
    "duration": 28,
    "start_time": "2021-11-03T09:59:18.876Z"
   },
   {
    "duration": 622,
    "start_time": "2021-11-03T09:59:18.907Z"
   },
   {
    "duration": 14,
    "start_time": "2021-11-03T09:59:19.532Z"
   },
   {
    "duration": 13,
    "start_time": "2021-11-03T09:59:19.549Z"
   },
   {
    "duration": 8,
    "start_time": "2021-11-03T09:59:19.564Z"
   },
   {
    "duration": 5,
    "start_time": "2021-11-03T09:59:19.601Z"
   },
   {
    "duration": 11,
    "start_time": "2021-11-03T09:59:19.609Z"
   },
   {
    "duration": 7,
    "start_time": "2021-11-03T09:59:19.623Z"
   },
   {
    "duration": 6,
    "start_time": "2021-11-03T09:59:19.633Z"
   },
   {
    "duration": 14,
    "start_time": "2021-11-03T09:59:19.641Z"
   },
   {
    "duration": 12,
    "start_time": "2021-11-03T09:59:19.701Z"
   },
   {
    "duration": 11,
    "start_time": "2021-11-03T09:59:19.716Z"
   },
   {
    "duration": 10,
    "start_time": "2021-11-03T09:59:19.730Z"
   },
   {
    "duration": 85,
    "start_time": "2021-11-03T09:59:19.743Z"
   },
   {
    "duration": 10,
    "start_time": "2021-11-03T09:59:19.831Z"
   },
   {
    "duration": 7,
    "start_time": "2021-11-03T09:59:19.847Z"
   },
   {
    "duration": 5,
    "start_time": "2021-11-03T09:59:19.858Z"
   },
   {
    "duration": 37,
    "start_time": "2021-11-03T09:59:19.865Z"
   },
   {
    "duration": 10,
    "start_time": "2021-11-03T09:59:19.905Z"
   },
   {
    "duration": 18,
    "start_time": "2021-11-03T09:59:19.917Z"
   },
   {
    "duration": 13,
    "start_time": "2021-11-03T09:59:19.937Z"
   },
   {
    "duration": 50,
    "start_time": "2021-11-03T09:59:19.953Z"
   },
   {
    "duration": 13,
    "start_time": "2021-11-03T09:59:20.006Z"
   },
   {
    "duration": 7,
    "start_time": "2021-11-03T09:59:20.022Z"
   },
   {
    "duration": 15,
    "start_time": "2021-11-03T09:59:20.031Z"
   },
   {
    "duration": 19,
    "start_time": "2021-11-03T09:59:20.049Z"
   },
   {
    "duration": 36,
    "start_time": "2021-11-03T09:59:20.070Z"
   },
   {
    "duration": 11,
    "start_time": "2021-11-03T09:59:20.109Z"
   },
   {
    "duration": 8,
    "start_time": "2021-11-03T09:59:20.123Z"
   },
   {
    "duration": 24,
    "start_time": "2021-11-03T09:59:20.134Z"
   },
   {
    "duration": 26,
    "start_time": "2021-11-03T09:59:20.201Z"
   },
   {
    "duration": 22,
    "start_time": "2021-11-03T09:59:20.230Z"
   },
   {
    "duration": 10,
    "start_time": "2021-11-03T09:59:20.255Z"
   },
   {
    "duration": 3,
    "start_time": "2021-11-03T09:59:20.268Z"
   },
   {
    "duration": 976,
    "start_time": "2021-11-03T09:59:20.301Z"
   },
   {
    "duration": 3,
    "start_time": "2021-11-03T09:59:21.280Z"
   },
   {
    "duration": 5,
    "start_time": "2021-11-03T09:59:21.300Z"
   },
   {
    "duration": 8373,
    "start_time": "2021-11-03T09:59:21.308Z"
   },
   {
    "duration": 18,
    "start_time": "2021-11-03T09:59:29.684Z"
   },
   {
    "duration": 18,
    "start_time": "2021-11-03T09:59:29.705Z"
   },
   {
    "duration": 7,
    "start_time": "2021-11-03T09:59:29.726Z"
   },
   {
    "duration": 12,
    "start_time": "2021-11-03T09:59:29.735Z"
   },
   {
    "duration": 7,
    "start_time": "2021-11-03T09:59:29.749Z"
   },
   {
    "duration": 42,
    "start_time": "2021-11-03T09:59:29.758Z"
   },
   {
    "duration": 18,
    "start_time": "2021-11-03T09:59:29.804Z"
   },
   {
    "duration": 14,
    "start_time": "2021-11-03T09:59:29.824Z"
   },
   {
    "duration": 4,
    "start_time": "2021-11-03T09:59:29.841Z"
   },
   {
    "duration": 23,
    "start_time": "2021-11-03T09:59:29.848Z"
   },
   {
    "duration": 8,
    "start_time": "2021-11-03T09:59:29.901Z"
   },
   {
    "duration": 13,
    "start_time": "2021-11-03T09:59:29.911Z"
   },
   {
    "duration": 12,
    "start_time": "2021-11-03T09:59:29.926Z"
   },
   {
    "duration": 8,
    "start_time": "2021-11-03T09:59:29.941Z"
   },
   {
    "duration": 12,
    "start_time": "2021-11-03T09:59:29.952Z"
   },
   {
    "duration": 38,
    "start_time": "2021-11-03T09:59:29.967Z"
   },
   {
    "duration": 15,
    "start_time": "2021-11-03T09:59:30.007Z"
   },
   {
    "duration": 30,
    "start_time": "2021-11-03T09:59:30.025Z"
   },
   {
    "duration": 20,
    "start_time": "2021-11-03T09:59:30.058Z"
   },
   {
    "duration": 26,
    "start_time": "2021-11-03T09:59:30.081Z"
   },
   {
    "duration": 19,
    "start_time": "2021-11-03T09:59:30.110Z"
   },
   {
    "duration": 11,
    "start_time": "2021-11-03T09:59:30.132Z"
   },
   {
    "duration": 15,
    "start_time": "2021-11-03T09:59:30.151Z"
   },
   {
    "duration": 8,
    "start_time": "2021-11-03T09:59:30.169Z"
   },
   {
    "duration": 25,
    "start_time": "2021-11-03T09:59:30.180Z"
   },
   {
    "duration": 16,
    "start_time": "2021-11-03T09:59:30.208Z"
   },
   {
    "duration": 18,
    "start_time": "2021-11-03T09:59:30.227Z"
   },
   {
    "duration": 31,
    "start_time": "2021-11-03T09:59:30.248Z"
   },
   {
    "duration": 702,
    "start_time": "2022-01-24T11:44:39.286Z"
   },
   {
    "duration": 56,
    "start_time": "2022-01-24T11:45:37.428Z"
   },
   {
    "duration": 21,
    "start_time": "2022-01-24T11:46:47.522Z"
   },
   {
    "duration": 13,
    "start_time": "2022-01-24T11:47:43.226Z"
   },
   {
    "duration": 8,
    "start_time": "2022-01-24T12:03:11.199Z"
   },
   {
    "duration": 3,
    "start_time": "2022-01-24T12:04:33.942Z"
   },
   {
    "duration": 3,
    "start_time": "2022-01-24T12:07:27.575Z"
   },
   {
    "duration": 482,
    "start_time": "2022-01-24T12:07:31.849Z"
   },
   {
    "duration": 641,
    "start_time": "2022-01-24T12:08:30.670Z"
   },
   {
    "duration": 57,
    "start_time": "2022-01-24T12:08:31.314Z"
   },
   {
    "duration": 20,
    "start_time": "2022-01-24T12:08:31.373Z"
   },
   {
    "duration": 39,
    "start_time": "2022-01-24T12:08:31.395Z"
   },
   {
    "duration": 13,
    "start_time": "2022-01-24T12:08:31.436Z"
   },
   {
    "duration": 10,
    "start_time": "2022-01-24T12:09:57.610Z"
   },
   {
    "duration": 12,
    "start_time": "2022-01-24T12:10:03.914Z"
   },
   {
    "duration": 11,
    "start_time": "2022-01-24T12:10:05.755Z"
   },
   {
    "duration": 8,
    "start_time": "2022-01-24T12:11:37.233Z"
   },
   {
    "duration": 7390,
    "start_time": "2022-01-24T12:11:42.889Z"
   },
   {
    "duration": 803,
    "start_time": "2022-01-24T12:13:10.818Z"
   },
   {
    "duration": 76,
    "start_time": "2022-01-24T12:13:11.624Z"
   },
   {
    "duration": 29,
    "start_time": "2022-01-24T12:13:11.703Z"
   },
   {
    "duration": 32,
    "start_time": "2022-01-24T12:13:11.734Z"
   },
   {
    "duration": 24,
    "start_time": "2022-01-24T12:13:11.768Z"
   },
   {
    "duration": 8,
    "start_time": "2022-01-24T12:13:28.755Z"
   },
   {
    "duration": 9,
    "start_time": "2022-01-24T12:13:42.677Z"
   },
   {
    "duration": 13,
    "start_time": "2022-01-24T12:13:49.789Z"
   },
   {
    "duration": 9,
    "start_time": "2022-01-24T12:14:17.786Z"
   },
   {
    "duration": 17,
    "start_time": "2022-01-24T12:14:19.323Z"
   },
   {
    "duration": 11,
    "start_time": "2022-01-24T12:14:53.720Z"
   },
   {
    "duration": 9,
    "start_time": "2022-01-24T12:15:30.014Z"
   },
   {
    "duration": 10,
    "start_time": "2022-01-24T12:16:15.452Z"
   },
   {
    "duration": 11,
    "start_time": "2022-01-24T12:16:16.045Z"
   },
   {
    "duration": 667,
    "start_time": "2022-01-24T12:16:39.540Z"
   },
   {
    "duration": 57,
    "start_time": "2022-01-24T12:16:40.209Z"
   },
   {
    "duration": 22,
    "start_time": "2022-01-24T12:16:40.268Z"
   },
   {
    "duration": 22,
    "start_time": "2022-01-24T12:16:40.292Z"
   },
   {
    "duration": 14,
    "start_time": "2022-01-24T12:16:40.317Z"
   },
   {
    "duration": 35,
    "start_time": "2022-01-24T12:16:40.333Z"
   },
   {
    "duration": 13,
    "start_time": "2022-01-24T12:16:46.961Z"
   },
   {
    "duration": 6,
    "start_time": "2022-01-24T12:17:14.598Z"
   },
   {
    "duration": 25,
    "start_time": "2022-01-24T12:17:55.121Z"
   },
   {
    "duration": 19,
    "start_time": "2022-01-24T12:18:08.854Z"
   },
   {
    "duration": 10,
    "start_time": "2022-01-24T12:19:05.655Z"
   },
   {
    "duration": 25,
    "start_time": "2022-01-24T12:19:19.225Z"
   },
   {
    "duration": 12,
    "start_time": "2022-01-24T12:20:03.516Z"
   },
   {
    "duration": 8,
    "start_time": "2022-01-24T12:20:23.178Z"
   },
   {
    "duration": 10,
    "start_time": "2022-01-24T12:20:24.962Z"
   },
   {
    "duration": 7,
    "start_time": "2022-01-24T12:20:34.908Z"
   },
   {
    "duration": 5,
    "start_time": "2022-01-24T12:20:54.021Z"
   },
   {
    "duration": 13,
    "start_time": "2022-01-24T12:21:41.206Z"
   },
   {
    "duration": 11,
    "start_time": "2022-01-24T12:21:43.139Z"
   },
   {
    "duration": 6,
    "start_time": "2022-01-24T12:21:51.293Z"
   },
   {
    "duration": 5,
    "start_time": "2022-01-24T12:21:55.277Z"
   },
   {
    "duration": 6,
    "start_time": "2022-01-24T12:21:57.277Z"
   },
   {
    "duration": 5,
    "start_time": "2022-01-24T12:22:40.442Z"
   },
   {
    "duration": 4,
    "start_time": "2022-01-24T12:23:00.835Z"
   },
   {
    "duration": 5,
    "start_time": "2022-01-24T12:23:01.667Z"
   },
   {
    "duration": 17,
    "start_time": "2022-01-24T12:24:00.731Z"
   },
   {
    "duration": 6,
    "start_time": "2022-01-24T12:24:01.876Z"
   },
   {
    "duration": 8,
    "start_time": "2022-01-24T12:24:05.844Z"
   },
   {
    "duration": 9,
    "start_time": "2022-01-24T12:24:09.833Z"
   },
   {
    "duration": 10,
    "start_time": "2022-01-24T12:25:14.615Z"
   },
   {
    "duration": 33,
    "start_time": "2022-01-24T12:25:20.384Z"
   },
   {
    "duration": 8,
    "start_time": "2022-01-24T12:25:22.753Z"
   },
   {
    "duration": 6,
    "start_time": "2022-01-24T12:25:25.008Z"
   },
   {
    "duration": 4,
    "start_time": "2022-01-24T12:25:32.946Z"
   },
   {
    "duration": 12,
    "start_time": "2022-01-24T12:25:33.506Z"
   },
   {
    "duration": 6,
    "start_time": "2022-01-24T12:25:37.842Z"
   },
   {
    "duration": 12,
    "start_time": "2022-01-24T12:25:40.959Z"
   },
   {
    "duration": 9,
    "start_time": "2022-01-24T12:25:41.667Z"
   },
   {
    "duration": 5,
    "start_time": "2022-01-24T12:25:45.876Z"
   },
   {
    "duration": 6,
    "start_time": "2022-01-24T12:25:53.617Z"
   },
   {
    "duration": 6,
    "start_time": "2022-01-24T12:26:02.717Z"
   },
   {
    "duration": 6,
    "start_time": "2022-01-24T12:26:10.199Z"
   },
   {
    "duration": 13,
    "start_time": "2022-01-24T12:26:15.917Z"
   },
   {
    "duration": 5,
    "start_time": "2022-01-24T12:26:19.545Z"
   },
   {
    "duration": 8,
    "start_time": "2022-01-24T12:26:27.649Z"
   },
   {
    "duration": 7,
    "start_time": "2022-01-24T12:26:42.997Z"
   },
   {
    "duration": 18,
    "start_time": "2022-01-24T12:26:57.623Z"
   },
   {
    "duration": 27,
    "start_time": "2022-01-24T12:27:05.920Z"
   },
   {
    "duration": 17,
    "start_time": "2022-01-24T12:27:06.928Z"
   },
   {
    "duration": 8,
    "start_time": "2022-01-24T12:27:20.162Z"
   },
   {
    "duration": 3,
    "start_time": "2022-01-24T12:27:21.131Z"
   },
   {
    "duration": 700,
    "start_time": "2022-01-24T12:27:23.483Z"
   },
   {
    "duration": 4,
    "start_time": "2022-01-24T12:27:29.483Z"
   },
   {
    "duration": 5,
    "start_time": "2022-01-24T12:28:37.911Z"
   },
   {
    "duration": 8264,
    "start_time": "2022-01-24T12:29:24.390Z"
   },
   {
    "duration": 7,
    "start_time": "2022-01-24T12:29:32.656Z"
   },
   {
    "duration": 14,
    "start_time": "2022-01-24T12:30:25.111Z"
   },
   {
    "duration": 3,
    "start_time": "2022-01-24T12:30:35.154Z"
   },
   {
    "duration": 8,
    "start_time": "2022-01-24T12:30:35.909Z"
   },
   {
    "duration": 6,
    "start_time": "2022-01-24T12:30:41.609Z"
   },
   {
    "duration": 5,
    "start_time": "2022-01-24T12:30:46.730Z"
   },
   {
    "duration": 12,
    "start_time": "2022-01-24T12:30:47.258Z"
   },
   {
    "duration": 5,
    "start_time": "2022-01-24T12:30:47.835Z"
   },
   {
    "duration": 3,
    "start_time": "2022-01-24T12:31:40.283Z"
   },
   {
    "duration": 11,
    "start_time": "2022-01-24T12:31:41.338Z"
   },
   {
    "duration": 7,
    "start_time": "2022-01-24T12:31:42.530Z"
   },
   {
    "duration": 9,
    "start_time": "2022-01-24T12:31:43.874Z"
   },
   {
    "duration": 9,
    "start_time": "2022-01-24T12:31:45.852Z"
   },
   {
    "duration": 4,
    "start_time": "2022-01-24T12:31:59.904Z"
   },
   {
    "duration": 8,
    "start_time": "2022-01-24T12:32:00.437Z"
   },
   {
    "duration": 7,
    "start_time": "2022-01-24T12:32:00.981Z"
   },
   {
    "duration": 4,
    "start_time": "2022-01-24T12:32:01.486Z"
   },
   {
    "duration": 10,
    "start_time": "2022-01-24T12:32:02.158Z"
   },
   {
    "duration": 4,
    "start_time": "2022-01-24T12:32:17.175Z"
   },
   {
    "duration": 8,
    "start_time": "2022-01-24T12:32:17.672Z"
   },
   {
    "duration": 6,
    "start_time": "2022-01-24T12:32:18.184Z"
   },
   {
    "duration": 5,
    "start_time": "2022-01-24T12:32:18.696Z"
   },
   {
    "duration": 11,
    "start_time": "2022-01-24T12:32:19.416Z"
   },
   {
    "duration": 4,
    "start_time": "2022-01-24T12:33:30.947Z"
   },
   {
    "duration": 14,
    "start_time": "2022-01-24T12:33:31.596Z"
   },
   {
    "duration": 9,
    "start_time": "2022-01-24T12:33:32.393Z"
   },
   {
    "duration": 634,
    "start_time": "2022-01-24T12:40:16.460Z"
   },
   {
    "duration": 71,
    "start_time": "2022-01-24T12:40:17.097Z"
   },
   {
    "duration": 25,
    "start_time": "2022-01-24T12:40:17.171Z"
   },
   {
    "duration": 33,
    "start_time": "2022-01-24T12:40:17.206Z"
   },
   {
    "duration": 13,
    "start_time": "2022-01-24T12:40:17.242Z"
   },
   {
    "duration": 11,
    "start_time": "2022-01-24T12:40:17.258Z"
   },
   {
    "duration": 19,
    "start_time": "2022-01-24T12:40:17.271Z"
   },
   {
    "duration": 24,
    "start_time": "2022-01-24T12:40:17.294Z"
   },
   {
    "duration": 14,
    "start_time": "2022-01-24T12:40:17.320Z"
   },
   {
    "duration": 37,
    "start_time": "2022-01-24T12:40:17.336Z"
   },
   {
    "duration": 40,
    "start_time": "2022-01-24T12:40:17.375Z"
   },
   {
    "duration": 32,
    "start_time": "2022-01-24T12:40:17.417Z"
   },
   {
    "duration": 33,
    "start_time": "2022-01-24T12:40:17.450Z"
   },
   {
    "duration": 39,
    "start_time": "2022-01-24T12:40:17.485Z"
   },
   {
    "duration": 46,
    "start_time": "2022-01-24T12:40:17.526Z"
   },
   {
    "duration": 43,
    "start_time": "2022-01-24T12:40:17.575Z"
   },
   {
    "duration": 40,
    "start_time": "2022-01-24T12:40:17.620Z"
   },
   {
    "duration": 47,
    "start_time": "2022-01-24T12:40:17.662Z"
   },
   {
    "duration": 60,
    "start_time": "2022-01-24T12:40:17.711Z"
   },
   {
    "duration": 7,
    "start_time": "2022-01-24T12:40:17.773Z"
   },
   {
    "duration": 48,
    "start_time": "2022-01-24T12:40:17.782Z"
   },
   {
    "duration": 37,
    "start_time": "2022-01-24T12:40:17.832Z"
   },
   {
    "duration": 44,
    "start_time": "2022-01-24T12:40:17.873Z"
   },
   {
    "duration": 42,
    "start_time": "2022-01-24T12:40:17.919Z"
   },
   {
    "duration": 45,
    "start_time": "2022-01-24T12:40:17.963Z"
   },
   {
    "duration": 57,
    "start_time": "2022-01-24T12:40:18.010Z"
   },
   {
    "duration": 36,
    "start_time": "2022-01-24T12:40:18.069Z"
   },
   {
    "duration": 40,
    "start_time": "2022-01-24T12:40:18.107Z"
   },
   {
    "duration": 37,
    "start_time": "2022-01-24T12:40:18.149Z"
   },
   {
    "duration": 43,
    "start_time": "2022-01-24T12:40:18.189Z"
   },
   {
    "duration": 51,
    "start_time": "2022-01-24T12:40:18.235Z"
   },
   {
    "duration": 21,
    "start_time": "2022-01-24T12:40:18.288Z"
   },
   {
    "duration": 44,
    "start_time": "2022-01-24T12:40:18.311Z"
   },
   {
    "duration": 32,
    "start_time": "2022-01-24T12:40:18.357Z"
   },
   {
    "duration": 59,
    "start_time": "2022-01-24T12:40:18.391Z"
   },
   {
    "duration": 40,
    "start_time": "2022-01-24T12:40:18.452Z"
   },
   {
    "duration": 40,
    "start_time": "2022-01-24T12:40:18.494Z"
   },
   {
    "duration": 291,
    "start_time": "2022-01-24T12:40:18.536Z"
   },
   {
    "duration": -194,
    "start_time": "2022-01-24T12:40:19.023Z"
   },
   {
    "duration": -195,
    "start_time": "2022-01-24T12:40:19.025Z"
   },
   {
    "duration": -196,
    "start_time": "2022-01-24T12:40:19.027Z"
   },
   {
    "duration": -197,
    "start_time": "2022-01-24T12:40:19.029Z"
   },
   {
    "duration": -197,
    "start_time": "2022-01-24T12:40:19.031Z"
   },
   {
    "duration": -199,
    "start_time": "2022-01-24T12:40:19.034Z"
   },
   {
    "duration": -204,
    "start_time": "2022-01-24T12:40:19.040Z"
   },
   {
    "duration": -206,
    "start_time": "2022-01-24T12:40:19.043Z"
   },
   {
    "duration": -207,
    "start_time": "2022-01-24T12:40:19.045Z"
   },
   {
    "duration": -207,
    "start_time": "2022-01-24T12:40:19.047Z"
   },
   {
    "duration": -208,
    "start_time": "2022-01-24T12:40:19.049Z"
   },
   {
    "duration": -209,
    "start_time": "2022-01-24T12:40:19.051Z"
   },
   {
    "duration": -210,
    "start_time": "2022-01-24T12:40:19.054Z"
   },
   {
    "duration": -211,
    "start_time": "2022-01-24T12:40:19.056Z"
   },
   {
    "duration": -212,
    "start_time": "2022-01-24T12:40:19.058Z"
   },
   {
    "duration": -213,
    "start_time": "2022-01-24T12:40:19.060Z"
   },
   {
    "duration": -214,
    "start_time": "2022-01-24T12:40:19.062Z"
   },
   {
    "duration": -219,
    "start_time": "2022-01-24T12:40:19.069Z"
   },
   {
    "duration": -220,
    "start_time": "2022-01-24T12:40:19.071Z"
   },
   {
    "duration": -221,
    "start_time": "2022-01-24T12:40:19.073Z"
   },
   {
    "duration": -222,
    "start_time": "2022-01-24T12:40:19.075Z"
   },
   {
    "duration": -223,
    "start_time": "2022-01-24T12:40:19.077Z"
   },
   {
    "duration": -224,
    "start_time": "2022-01-24T12:40:19.079Z"
   },
   {
    "duration": -225,
    "start_time": "2022-01-24T12:40:19.081Z"
   },
   {
    "duration": -225,
    "start_time": "2022-01-24T12:40:19.083Z"
   },
   {
    "duration": -227,
    "start_time": "2022-01-24T12:40:19.086Z"
   },
   {
    "duration": 760,
    "start_time": "2022-01-24T12:40:44.524Z"
   },
   {
    "duration": 56,
    "start_time": "2022-01-24T12:40:45.286Z"
   },
   {
    "duration": 21,
    "start_time": "2022-01-24T12:40:45.345Z"
   },
   {
    "duration": 12,
    "start_time": "2022-01-24T12:40:45.369Z"
   },
   {
    "duration": 40,
    "start_time": "2022-01-24T12:40:45.383Z"
   },
   {
    "duration": 26,
    "start_time": "2022-01-24T12:40:45.425Z"
   },
   {
    "duration": 11,
    "start_time": "2022-01-24T12:40:45.454Z"
   },
   {
    "duration": 18,
    "start_time": "2022-01-24T12:40:45.469Z"
   },
   {
    "duration": 18,
    "start_time": "2022-01-24T12:40:45.489Z"
   },
   {
    "duration": 9,
    "start_time": "2022-01-24T12:40:45.509Z"
   },
   {
    "duration": 14,
    "start_time": "2022-01-24T12:40:45.520Z"
   },
   {
    "duration": 21,
    "start_time": "2022-01-24T12:40:45.536Z"
   },
   {
    "duration": 6,
    "start_time": "2022-01-24T12:40:45.559Z"
   },
   {
    "duration": 21,
    "start_time": "2022-01-24T12:40:45.567Z"
   },
   {
    "duration": 18,
    "start_time": "2022-01-24T12:40:45.590Z"
   },
   {
    "duration": 22,
    "start_time": "2022-01-24T12:40:45.610Z"
   },
   {
    "duration": 10,
    "start_time": "2022-01-24T12:40:45.635Z"
   },
   {
    "duration": 9,
    "start_time": "2022-01-24T12:40:45.647Z"
   },
   {
    "duration": 49,
    "start_time": "2022-01-24T12:40:45.658Z"
   },
   {
    "duration": 8,
    "start_time": "2022-01-24T12:40:45.709Z"
   },
   {
    "duration": 25,
    "start_time": "2022-01-24T12:40:45.719Z"
   },
   {
    "duration": 10,
    "start_time": "2022-01-24T12:40:45.746Z"
   },
   {
    "duration": 26,
    "start_time": "2022-01-24T12:40:45.761Z"
   },
   {
    "duration": 16,
    "start_time": "2022-01-24T12:40:45.790Z"
   },
   {
    "duration": 33,
    "start_time": "2022-01-24T12:40:45.808Z"
   },
   {
    "duration": 16,
    "start_time": "2022-01-24T12:40:45.843Z"
   },
   {
    "duration": 12,
    "start_time": "2022-01-24T12:40:45.861Z"
   },
   {
    "duration": 24,
    "start_time": "2022-01-24T12:40:45.875Z"
   },
   {
    "duration": 13,
    "start_time": "2022-01-24T12:40:45.901Z"
   },
   {
    "duration": 24,
    "start_time": "2022-01-24T12:40:45.915Z"
   },
   {
    "duration": 21,
    "start_time": "2022-01-24T12:40:45.941Z"
   },
   {
    "duration": 5,
    "start_time": "2022-01-24T12:40:45.964Z"
   },
   {
    "duration": 16,
    "start_time": "2022-01-24T12:40:45.971Z"
   },
   {
    "duration": 14,
    "start_time": "2022-01-24T12:40:45.990Z"
   },
   {
    "duration": 23,
    "start_time": "2022-01-24T12:40:46.007Z"
   },
   {
    "duration": 20,
    "start_time": "2022-01-24T12:40:46.032Z"
   },
   {
    "duration": 17,
    "start_time": "2022-01-24T12:40:46.054Z"
   },
   {
    "duration": 3,
    "start_time": "2022-01-24T12:40:46.073Z"
   },
   {
    "duration": 730,
    "start_time": "2022-01-24T12:40:46.078Z"
   },
   {
    "duration": 3,
    "start_time": "2022-01-24T12:40:46.811Z"
   },
   {
    "duration": 14,
    "start_time": "2022-01-24T12:40:46.816Z"
   },
   {
    "duration": 8199,
    "start_time": "2022-01-24T12:40:46.832Z"
   },
   {
    "duration": 6,
    "start_time": "2022-01-24T12:40:55.033Z"
   },
   {
    "duration": 37,
    "start_time": "2022-01-24T12:40:55.042Z"
   },
   {
    "duration": 15,
    "start_time": "2022-01-24T12:40:55.081Z"
   },
   {
    "duration": 21,
    "start_time": "2022-01-24T12:40:55.098Z"
   },
   {
    "duration": 16,
    "start_time": "2022-01-24T12:40:55.121Z"
   },
   {
    "duration": 18,
    "start_time": "2022-01-24T12:40:55.139Z"
   },
   {
    "duration": 19,
    "start_time": "2022-01-24T12:40:55.159Z"
   },
   {
    "duration": 24,
    "start_time": "2022-01-24T12:40:55.180Z"
   },
   {
    "duration": 9,
    "start_time": "2022-01-24T12:40:55.206Z"
   },
   {
    "duration": 18,
    "start_time": "2022-01-24T12:40:55.217Z"
   },
   {
    "duration": 7,
    "start_time": "2022-01-24T12:40:55.237Z"
   },
   {
    "duration": 13,
    "start_time": "2022-01-24T12:40:55.245Z"
   },
   {
    "duration": 19,
    "start_time": "2022-01-24T12:40:55.261Z"
   },
   {
    "duration": 15,
    "start_time": "2022-01-24T12:40:55.282Z"
   },
   {
    "duration": 23,
    "start_time": "2022-01-24T12:40:55.299Z"
   },
   {
    "duration": 21,
    "start_time": "2022-01-24T12:40:55.324Z"
   },
   {
    "duration": 10,
    "start_time": "2022-01-24T12:40:55.348Z"
   },
   {
    "duration": 18,
    "start_time": "2022-01-24T12:40:55.360Z"
   },
   {
    "duration": 27,
    "start_time": "2022-01-24T12:40:55.380Z"
   },
   {
    "duration": 20,
    "start_time": "2022-01-24T12:40:55.409Z"
   },
   {
    "duration": 36,
    "start_time": "2022-01-24T12:40:55.432Z"
   },
   {
    "duration": 18,
    "start_time": "2022-01-24T12:40:55.470Z"
   },
   {
    "duration": 674,
    "start_time": "2022-01-24T12:43:34.776Z"
   },
   {
    "duration": 62,
    "start_time": "2022-01-24T12:43:35.455Z"
   },
   {
    "duration": 21,
    "start_time": "2022-01-24T12:43:35.519Z"
   },
   {
    "duration": 19,
    "start_time": "2022-01-24T12:43:35.542Z"
   },
   {
    "duration": 11,
    "start_time": "2022-01-24T12:43:35.563Z"
   },
   {
    "duration": 37,
    "start_time": "2022-01-24T12:43:35.576Z"
   },
   {
    "duration": 19,
    "start_time": "2022-01-24T12:43:35.615Z"
   },
   {
    "duration": 12,
    "start_time": "2022-01-24T12:43:35.638Z"
   },
   {
    "duration": 10,
    "start_time": "2022-01-24T12:43:35.652Z"
   },
   {
    "duration": 10,
    "start_time": "2022-01-24T12:43:35.664Z"
   },
   {
    "duration": 9,
    "start_time": "2022-01-24T12:43:35.676Z"
   },
   {
    "duration": 22,
    "start_time": "2022-01-24T12:43:35.687Z"
   },
   {
    "duration": 19,
    "start_time": "2022-01-24T12:43:35.711Z"
   },
   {
    "duration": 39,
    "start_time": "2022-01-24T12:43:35.732Z"
   },
   {
    "duration": 12,
    "start_time": "2022-01-24T12:43:35.773Z"
   },
   {
    "duration": 22,
    "start_time": "2022-01-24T12:43:35.787Z"
   },
   {
    "duration": 14,
    "start_time": "2022-01-24T12:43:35.811Z"
   },
   {
    "duration": 16,
    "start_time": "2022-01-24T12:43:35.827Z"
   },
   {
    "duration": 36,
    "start_time": "2022-01-24T12:43:35.845Z"
   },
   {
    "duration": 7,
    "start_time": "2022-01-24T12:43:35.884Z"
   },
   {
    "duration": 19,
    "start_time": "2022-01-24T12:43:35.893Z"
   },
   {
    "duration": 12,
    "start_time": "2022-01-24T12:43:35.914Z"
   },
   {
    "duration": 14,
    "start_time": "2022-01-24T12:43:35.928Z"
   },
   {
    "duration": 19,
    "start_time": "2022-01-24T12:43:35.943Z"
   },
   {
    "duration": 15,
    "start_time": "2022-01-24T12:43:35.964Z"
   },
   {
    "duration": 16,
    "start_time": "2022-01-24T12:43:35.984Z"
   },
   {
    "duration": 8,
    "start_time": "2022-01-24T12:43:36.006Z"
   },
   {
    "duration": 20,
    "start_time": "2022-01-24T12:43:36.016Z"
   },
   {
    "duration": 12,
    "start_time": "2022-01-24T12:43:36.038Z"
   },
   {
    "duration": 10,
    "start_time": "2022-01-24T12:43:36.051Z"
   },
   {
    "duration": 18,
    "start_time": "2022-01-24T12:43:36.063Z"
   },
   {
    "duration": 5,
    "start_time": "2022-01-24T12:43:36.084Z"
   },
   {
    "duration": 11,
    "start_time": "2022-01-24T12:43:36.107Z"
   },
   {
    "duration": 20,
    "start_time": "2022-01-24T12:43:36.120Z"
   },
   {
    "duration": 25,
    "start_time": "2022-01-24T12:43:36.142Z"
   },
   {
    "duration": 38,
    "start_time": "2022-01-24T12:43:36.169Z"
   },
   {
    "duration": 18,
    "start_time": "2022-01-24T12:43:36.209Z"
   },
   {
    "duration": 3,
    "start_time": "2022-01-24T12:43:36.228Z"
   },
   {
    "duration": 865,
    "start_time": "2022-01-24T12:43:36.233Z"
   },
   {
    "duration": 7,
    "start_time": "2022-01-24T12:43:37.101Z"
   },
   {
    "duration": 11,
    "start_time": "2022-01-24T12:43:37.110Z"
   },
   {
    "duration": 8183,
    "start_time": "2022-01-24T12:43:37.124Z"
   },
   {
    "duration": 7,
    "start_time": "2022-01-24T12:43:45.310Z"
   },
   {
    "duration": 25,
    "start_time": "2022-01-24T12:43:45.319Z"
   },
   {
    "duration": 6,
    "start_time": "2022-01-24T12:43:45.347Z"
   },
   {
    "duration": 17,
    "start_time": "2022-01-24T12:43:45.355Z"
   },
   {
    "duration": 14,
    "start_time": "2022-01-24T12:43:45.374Z"
   },
   {
    "duration": 18,
    "start_time": "2022-01-24T12:43:45.390Z"
   },
   {
    "duration": 17,
    "start_time": "2022-01-24T12:43:45.410Z"
   },
   {
    "duration": 11,
    "start_time": "2022-01-24T12:43:45.430Z"
   },
   {
    "duration": 3,
    "start_time": "2022-01-24T12:43:45.443Z"
   },
   {
    "duration": 17,
    "start_time": "2022-01-24T12:43:45.448Z"
   },
   {
    "duration": 6,
    "start_time": "2022-01-24T12:43:45.467Z"
   },
   {
    "duration": 41,
    "start_time": "2022-01-24T12:43:45.475Z"
   },
   {
    "duration": 10,
    "start_time": "2022-01-24T12:43:45.518Z"
   },
   {
    "duration": 12,
    "start_time": "2022-01-24T12:43:45.530Z"
   },
   {
    "duration": 23,
    "start_time": "2022-01-24T12:43:45.544Z"
   },
   {
    "duration": 13,
    "start_time": "2022-01-24T12:43:45.569Z"
   },
   {
    "duration": 23,
    "start_time": "2022-01-24T12:43:45.584Z"
   },
   {
    "duration": 12,
    "start_time": "2022-01-24T12:43:45.610Z"
   },
   {
    "duration": 11,
    "start_time": "2022-01-24T12:43:45.624Z"
   },
   {
    "duration": 12,
    "start_time": "2022-01-24T12:43:45.637Z"
   },
   {
    "duration": 20,
    "start_time": "2022-01-24T12:43:45.651Z"
   },
   {
    "duration": 10,
    "start_time": "2022-01-24T12:43:45.673Z"
   }
  ],
  "kernelspec": {
   "display_name": "Python 3",
   "language": "python",
   "name": "python3"
  },
  "language_info": {
   "codemirror_mode": {
    "name": "ipython",
    "version": 3
   },
   "file_extension": ".py",
   "mimetype": "text/x-python",
   "name": "python",
   "nbconvert_exporter": "python",
   "pygments_lexer": "ipython3",
   "version": "3.7.8"
  },
  "toc": {
   "base_numbering": 1,
   "nav_menu": {},
   "number_sections": true,
   "sideBar": true,
   "skip_h1_title": true,
   "title_cell": "Table of Contents",
   "title_sidebar": "Contents",
   "toc_cell": false,
   "toc_position": {
    "height": "calc(100% - 180px)",
    "left": "10px",
    "top": "150px",
    "width": "494.391px"
   },
   "toc_section_display": true,
   "toc_window_display": true
  }
 },
 "nbformat": 4,
 "nbformat_minor": 2
}
