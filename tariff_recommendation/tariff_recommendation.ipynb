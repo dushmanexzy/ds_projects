{
 "cells": [
  {
   "cell_type": "markdown",
   "metadata": {},
   "source": [
    "# Рекомендация тарифов"
   ]
  },
  {
   "cell_type": "markdown",
   "metadata": {},
   "source": [
    "Оператор мобильной связи «Мегалайн» выяснил: многие клиенты пользуются архивными тарифами. Нужно построить систему, способную проанализировать поведение клиентов и предложить пользователям новый тариф: «Смарт» или «Ультра».\n",
    "\n",
    "В распоряжении данные о поведении клиентов, которые уже перешли на эти тарифы. Нужно построить модель для задачи классификации, которая выберет подходящий тариф. Предобработка данных не понадобится.\n",
    "\n",
    "Построим модель с максимально большим значением *accuracy*. Доведём долю правильных ответов по крайней мере до 0.75."
   ]
  },
  {
   "cell_type": "markdown",
   "metadata": {},
   "source": [
    "## Импорт необходимых библиотек"
   ]
  },
  {
   "cell_type": "code",
   "execution_count": 1,
   "metadata": {},
   "outputs": [],
   "source": [
    "import pandas as pd\n",
    "from datetime import datetime\n",
    "from sklearn.model_selection import train_test_split\n",
    "from sklearn.tree import DecisionTreeClassifier\n",
    "from sklearn.ensemble import RandomForestClassifier\n",
    "from sklearn.linear_model import LogisticRegression\n",
    "from sklearn.metrics import accuracy_score"
   ]
  },
  {
   "cell_type": "markdown",
   "metadata": {},
   "source": [
    "## Откроем и изучим файл"
   ]
  },
  {
   "cell_type": "markdown",
   "metadata": {},
   "source": [
    "В этом пункте:\n",
    "\n",
    "1. Откроем файл;\n",
    "2. Сравним данные в файле с описанием в документации;\n",
    "3. Посмотрим на числовые характеристики;"
   ]
  },
  {
   "cell_type": "markdown",
   "metadata": {},
   "source": [
    "### Откроем файл"
   ]
  },
  {
   "cell_type": "markdown",
   "metadata": {},
   "source": [
    "Путь к файлу: `/datasets/users_behavior.csv`. Воспользуемся методом `read_csv()` библиотеки `pandas`."
   ]
  },
  {
   "cell_type": "code",
   "execution_count": 2,
   "metadata": {
    "scrolled": true
   },
   "outputs": [
    {
     "data": {
      "text/html": [
       "<div>\n",
       "<style scoped>\n",
       "    .dataframe tbody tr th:only-of-type {\n",
       "        vertical-align: middle;\n",
       "    }\n",
       "\n",
       "    .dataframe tbody tr th {\n",
       "        vertical-align: top;\n",
       "    }\n",
       "\n",
       "    .dataframe thead th {\n",
       "        text-align: right;\n",
       "    }\n",
       "</style>\n",
       "<table border=\"1\" class=\"dataframe\">\n",
       "  <thead>\n",
       "    <tr style=\"text-align: right;\">\n",
       "      <th></th>\n",
       "      <th>calls</th>\n",
       "      <th>minutes</th>\n",
       "      <th>messages</th>\n",
       "      <th>mb_used</th>\n",
       "      <th>is_ultra</th>\n",
       "    </tr>\n",
       "  </thead>\n",
       "  <tbody>\n",
       "    <tr>\n",
       "      <td>0</td>\n",
       "      <td>40.0</td>\n",
       "      <td>311.90</td>\n",
       "      <td>83.0</td>\n",
       "      <td>19915.42</td>\n",
       "      <td>0</td>\n",
       "    </tr>\n",
       "    <tr>\n",
       "      <td>1</td>\n",
       "      <td>85.0</td>\n",
       "      <td>516.75</td>\n",
       "      <td>56.0</td>\n",
       "      <td>22696.96</td>\n",
       "      <td>0</td>\n",
       "    </tr>\n",
       "    <tr>\n",
       "      <td>2</td>\n",
       "      <td>77.0</td>\n",
       "      <td>467.66</td>\n",
       "      <td>86.0</td>\n",
       "      <td>21060.45</td>\n",
       "      <td>0</td>\n",
       "    </tr>\n",
       "    <tr>\n",
       "      <td>3</td>\n",
       "      <td>106.0</td>\n",
       "      <td>745.53</td>\n",
       "      <td>81.0</td>\n",
       "      <td>8437.39</td>\n",
       "      <td>1</td>\n",
       "    </tr>\n",
       "    <tr>\n",
       "      <td>4</td>\n",
       "      <td>66.0</td>\n",
       "      <td>418.74</td>\n",
       "      <td>1.0</td>\n",
       "      <td>14502.75</td>\n",
       "      <td>0</td>\n",
       "    </tr>\n",
       "  </tbody>\n",
       "</table>\n",
       "</div>"
      ],
      "text/plain": [
       "   calls  minutes  messages   mb_used  is_ultra\n",
       "0   40.0   311.90      83.0  19915.42         0\n",
       "1   85.0   516.75      56.0  22696.96         0\n",
       "2   77.0   467.66      86.0  21060.45         0\n",
       "3  106.0   745.53      81.0   8437.39         1\n",
       "4   66.0   418.74       1.0  14502.75         0"
      ]
     },
     "execution_count": 2,
     "metadata": {},
     "output_type": "execute_result"
    }
   ],
   "source": [
    "df = pd.read_csv('/datasets/users_behavior.csv')\n",
    "df.head()"
   ]
  },
  {
   "cell_type": "markdown",
   "metadata": {},
   "source": [
    "### Описание данных"
   ]
  },
  {
   "cell_type": "markdown",
   "metadata": {},
   "source": [
    "Каждый объект в наборе данных — это информация о поведении одного пользователя за месяц. Известно:\n",
    "- `сalls` — количество звонков,\n",
    "- `minutes` — суммарная длительность звонков в минутах,\n",
    "- `messages` — количество sms-сообщений,\n",
    "- `mb_used` — израсходованный интернет-трафик в Мб,\n",
    "- `is_ultra` — каким тарифом пользовался в течение месяца («Ультра» — 1, «Смарт» — 0)."
   ]
  },
  {
   "cell_type": "code",
   "execution_count": 3,
   "metadata": {
    "scrolled": false
   },
   "outputs": [
    {
     "name": "stdout",
     "output_type": "stream",
     "text": [
      "<class 'pandas.core.frame.DataFrame'>\n",
      "RangeIndex: 3214 entries, 0 to 3213\n",
      "Data columns (total 5 columns):\n",
      "calls       3214 non-null float64\n",
      "minutes     3214 non-null float64\n",
      "messages    3214 non-null float64\n",
      "mb_used     3214 non-null float64\n",
      "is_ultra    3214 non-null int64\n",
      "dtypes: float64(4), int64(1)\n",
      "memory usage: 125.7 KB\n"
     ]
    }
   ],
   "source": [
    "df.info()"
   ]
  },
  {
   "cell_type": "markdown",
   "metadata": {},
   "source": [
    "В файле информация о 3214 пользователях. В качестве параметров будем использовать информацию об использовании сервисов тарифа.\n",
    "\n",
    "4 параметра об использовании сервисов представлены вещественным типом данных `float64`.\n",
    "1 параметр, описывающий тариф клиента, представлен целочисленным типом `int64`.\n",
    "\n",
    "Пропусков в данных нет."
   ]
  },
  {
   "cell_type": "markdown",
   "metadata": {},
   "source": [
    "### Числовые характеристики"
   ]
  },
  {
   "cell_type": "markdown",
   "metadata": {},
   "source": [
    "Воспользуемся методом `describe()`."
   ]
  },
  {
   "cell_type": "code",
   "execution_count": 4,
   "metadata": {
    "scrolled": true
   },
   "outputs": [
    {
     "data": {
      "text/html": [
       "<div>\n",
       "<style scoped>\n",
       "    .dataframe tbody tr th:only-of-type {\n",
       "        vertical-align: middle;\n",
       "    }\n",
       "\n",
       "    .dataframe tbody tr th {\n",
       "        vertical-align: top;\n",
       "    }\n",
       "\n",
       "    .dataframe thead th {\n",
       "        text-align: right;\n",
       "    }\n",
       "</style>\n",
       "<table border=\"1\" class=\"dataframe\">\n",
       "  <thead>\n",
       "    <tr style=\"text-align: right;\">\n",
       "      <th></th>\n",
       "      <th>calls</th>\n",
       "      <th>minutes</th>\n",
       "      <th>messages</th>\n",
       "      <th>mb_used</th>\n",
       "      <th>is_ultra</th>\n",
       "    </tr>\n",
       "  </thead>\n",
       "  <tbody>\n",
       "    <tr>\n",
       "      <td>count</td>\n",
       "      <td>3214.000000</td>\n",
       "      <td>3214.000000</td>\n",
       "      <td>3214.000000</td>\n",
       "      <td>3214.000000</td>\n",
       "      <td>3214.000000</td>\n",
       "    </tr>\n",
       "    <tr>\n",
       "      <td>mean</td>\n",
       "      <td>63.038892</td>\n",
       "      <td>438.208787</td>\n",
       "      <td>38.281269</td>\n",
       "      <td>17207.673836</td>\n",
       "      <td>0.306472</td>\n",
       "    </tr>\n",
       "    <tr>\n",
       "      <td>std</td>\n",
       "      <td>33.236368</td>\n",
       "      <td>234.569872</td>\n",
       "      <td>36.148326</td>\n",
       "      <td>7570.968246</td>\n",
       "      <td>0.461100</td>\n",
       "    </tr>\n",
       "    <tr>\n",
       "      <td>min</td>\n",
       "      <td>0.000000</td>\n",
       "      <td>0.000000</td>\n",
       "      <td>0.000000</td>\n",
       "      <td>0.000000</td>\n",
       "      <td>0.000000</td>\n",
       "    </tr>\n",
       "    <tr>\n",
       "      <td>25%</td>\n",
       "      <td>40.000000</td>\n",
       "      <td>274.575000</td>\n",
       "      <td>9.000000</td>\n",
       "      <td>12491.902500</td>\n",
       "      <td>0.000000</td>\n",
       "    </tr>\n",
       "    <tr>\n",
       "      <td>50%</td>\n",
       "      <td>62.000000</td>\n",
       "      <td>430.600000</td>\n",
       "      <td>30.000000</td>\n",
       "      <td>16943.235000</td>\n",
       "      <td>0.000000</td>\n",
       "    </tr>\n",
       "    <tr>\n",
       "      <td>75%</td>\n",
       "      <td>82.000000</td>\n",
       "      <td>571.927500</td>\n",
       "      <td>57.000000</td>\n",
       "      <td>21424.700000</td>\n",
       "      <td>1.000000</td>\n",
       "    </tr>\n",
       "    <tr>\n",
       "      <td>max</td>\n",
       "      <td>244.000000</td>\n",
       "      <td>1632.060000</td>\n",
       "      <td>224.000000</td>\n",
       "      <td>49745.730000</td>\n",
       "      <td>1.000000</td>\n",
       "    </tr>\n",
       "  </tbody>\n",
       "</table>\n",
       "</div>"
      ],
      "text/plain": [
       "             calls      minutes     messages       mb_used     is_ultra\n",
       "count  3214.000000  3214.000000  3214.000000   3214.000000  3214.000000\n",
       "mean     63.038892   438.208787    38.281269  17207.673836     0.306472\n",
       "std      33.236368   234.569872    36.148326   7570.968246     0.461100\n",
       "min       0.000000     0.000000     0.000000      0.000000     0.000000\n",
       "25%      40.000000   274.575000     9.000000  12491.902500     0.000000\n",
       "50%      62.000000   430.600000    30.000000  16943.235000     0.000000\n",
       "75%      82.000000   571.927500    57.000000  21424.700000     1.000000\n",
       "max     244.000000  1632.060000   224.000000  49745.730000     1.000000"
      ]
     },
     "execution_count": 4,
     "metadata": {},
     "output_type": "execute_result"
    }
   ],
   "source": [
    "df.describe()"
   ]
  },
  {
   "cell_type": "markdown",
   "metadata": {},
   "source": [
    "Минимальные значения по звонкам, минутам, сообщениям и интернет-трафику равны 0. Это говорит о том, что клиент не пользовался услугой."
   ]
  },
  {
   "cell_type": "markdown",
   "metadata": {},
   "source": [
    "## Разделим данные на выборки"
   ]
  },
  {
   "cell_type": "markdown",
   "metadata": {},
   "source": [
    "По описанию проекта нам нужно построить систему, предлагающую клиентам тариф. Значит в качестве целевого признака будем использовать данные столбца `is_ultra`.\n",
    "\n",
    "Информация о тарифе является категориальным набором данных. По этой причине вся задача пстроения системы, по которой будет определяться тариф, сводится к **классификации**."
   ]
  },
  {
   "cell_type": "markdown",
   "metadata": {},
   "source": [
    "Для построения модели нам необходимы обучающая, валидационная и тестовая выборки. Отдельно предоставленной тестовой выборки нет, поэтому разделим исходные данные в соотношении 3:1:1, где 3/5 будет обучающая и по 1/5 валидационная и тестовая."
   ]
  },
  {
   "cell_type": "markdown",
   "metadata": {},
   "source": [
    "Для разделения воспользуемся функцией `train_test_split`. Она разделяет датасет на обучающую и тестовую выборки, но можно получить и валидационную вместо тестовой. Последовательно отделим от датасета по 1/5. Так мы получим сначала тестовую, потом валидационную."
   ]
  },
  {
   "cell_type": "markdown",
   "metadata": {},
   "source": [
    "В качестве параметров функции `train_test_split` укажем датасет, который будем разделять, размер отделяемой выборки `test_size`, зафиксируем псевдослучайность параметром `random_state`, отличным от значения `None`."
   ]
  },
  {
   "cell_type": "code",
   "execution_count": 5,
   "metadata": {
    "scrolled": true
   },
   "outputs": [],
   "source": [
    "# Обучающая (в соотношении 4/5) и тестовая выборки\n",
    "df_train, df_test = train_test_split(df, test_size=0.2, random_state=12345)\n",
    "\n",
    "# Обучающая (в соотношении 3/5) и валидационная выборки\n",
    "df_train, df_valid = train_test_split(df_train, test_size=0.25, random_state=12345)"
   ]
  },
  {
   "cell_type": "markdown",
   "metadata": {},
   "source": [
    "Посмотрим на размеры полученных выборок:"
   ]
  },
  {
   "cell_type": "code",
   "execution_count": 6,
   "metadata": {},
   "outputs": [
    {
     "name": "stdout",
     "output_type": "stream",
     "text": [
      "Обучающая выборка: объектов - 1928, признаков - 5 \n",
      "Тестовая выборка: объектов 643, признаков - 5\n",
      "Валидационная выборка: объектов 643, признаков - 5\n"
     ]
    }
   ],
   "source": [
    "print(f\"Обучающая выборка: объектов - {df_train.shape[0]}, признаков - {df_train.shape[1]} \")\n",
    "print(f\"Тестовая выборка: объектов {df_test.shape[0]}, признаков - {df_test.shape[1]}\")\n",
    "print(f\"Валидационная выборка: объектов {df_valid.shape[0]}, признаков - {df_valid.shape[1]}\")"
   ]
  },
  {
   "cell_type": "markdown",
   "metadata": {},
   "source": [
    "**Вывод**\n",
    "\n",
    "Таким образом мы получили необходиые наборы данных для построения и обучения модели, разделив исходные данные на 3 части в соотношении 3:1:1."
   ]
  },
  {
   "cell_type": "markdown",
   "metadata": {},
   "source": [
    "## Исследуем модели"
   ]
  },
  {
   "cell_type": "markdown",
   "metadata": {},
   "source": [
    "В этом пункте мы рассмотрим 3 варианта моделей:\n",
    "1. Дерево решений;\n",
    "2. Случайный лес;\n",
    "3. Логистическую регрессию.\n",
    "\n",
    "Выбирать лучшее будем по показателю **качества** `accuracy`, так как это самый важный критерий для бизнеса: чем выше качество, тем больше прибыли. По результатам выберем наиболее подходящую для задачи подбора тарифа."
   ]
  },
  {
   "cell_type": "markdown",
   "metadata": {},
   "source": [
    "### Дерево решений"
   ]
  },
  {
   "cell_type": "markdown",
   "metadata": {},
   "source": [
    "Напишем функцию, которая поможет нам настроить гиперпараметры дерева решений.\n",
    "\n",
    "Самым важным гиперпараметром является максимальная глубина `max_depth`. Переберем разные значения `max_depth` и сравним качество моделей в разных вариантах, чтобы выбрать наилучший.\n",
    "\n",
    "Обучать модель будем на тренировочном датасете, а проверять точность `accuracy` на валидационной."
   ]
  },
  {
   "cell_type": "code",
   "execution_count": 7,
   "metadata": {},
   "outputs": [],
   "source": [
    "def decision_tree_modeling(train, valid):   \n",
    "    target_train = train['is_ultra']\n",
    "    features_train = train.drop(['is_ultra'], axis=1)\n",
    "    \n",
    "    target_valid = valid['is_ultra']\n",
    "    features_valid = valid.drop(['is_ultra'], axis=1)\n",
    "    \n",
    "    depths = []\n",
    "    results = []\n",
    "    \n",
    "    for depth in range(1, 10):\n",
    "        model = DecisionTreeClassifier(max_depth=depth, random_state=12345) # получение структуры Дерева решений\n",
    "        model.fit(features_train, target_train) # обучение модели на тренировочной выборке\n",
    "        \n",
    "        predictions_valid = model.predict(features_valid) # предсказания модели на валидационной выборке\n",
    "        \n",
    "        depths.append(depth)\n",
    "        results.append(accuracy_score(target_valid, predictions_valid))\n",
    "\n",
    "    return pd.DataFrame({'depth': depths, 'accuracy': results})"
   ]
  },
  {
   "cell_type": "code",
   "execution_count": 8,
   "metadata": {
    "scrolled": true
   },
   "outputs": [
    {
     "data": {
      "text/html": [
       "<div>\n",
       "<style scoped>\n",
       "    .dataframe tbody tr th:only-of-type {\n",
       "        vertical-align: middle;\n",
       "    }\n",
       "\n",
       "    .dataframe tbody tr th {\n",
       "        vertical-align: top;\n",
       "    }\n",
       "\n",
       "    .dataframe thead th {\n",
       "        text-align: right;\n",
       "    }\n",
       "</style>\n",
       "<table border=\"1\" class=\"dataframe\">\n",
       "  <thead>\n",
       "    <tr style=\"text-align: right;\">\n",
       "      <th></th>\n",
       "      <th>depth</th>\n",
       "      <th>accuracy</th>\n",
       "    </tr>\n",
       "  </thead>\n",
       "  <tbody>\n",
       "    <tr>\n",
       "      <td>0</td>\n",
       "      <td>1</td>\n",
       "      <td>0.738725</td>\n",
       "    </tr>\n",
       "    <tr>\n",
       "      <td>1</td>\n",
       "      <td>2</td>\n",
       "      <td>0.757387</td>\n",
       "    </tr>\n",
       "    <tr>\n",
       "      <td>2</td>\n",
       "      <td>3</td>\n",
       "      <td>0.765163</td>\n",
       "    </tr>\n",
       "    <tr>\n",
       "      <td>3</td>\n",
       "      <td>4</td>\n",
       "      <td>0.763608</td>\n",
       "    </tr>\n",
       "    <tr>\n",
       "      <td>4</td>\n",
       "      <td>5</td>\n",
       "      <td>0.758942</td>\n",
       "    </tr>\n",
       "    <tr>\n",
       "      <td>5</td>\n",
       "      <td>6</td>\n",
       "      <td>0.757387</td>\n",
       "    </tr>\n",
       "    <tr>\n",
       "      <td>6</td>\n",
       "      <td>7</td>\n",
       "      <td>0.774495</td>\n",
       "    </tr>\n",
       "    <tr>\n",
       "      <td>7</td>\n",
       "      <td>8</td>\n",
       "      <td>0.766719</td>\n",
       "    </tr>\n",
       "    <tr>\n",
       "      <td>8</td>\n",
       "      <td>9</td>\n",
       "      <td>0.762053</td>\n",
       "    </tr>\n",
       "  </tbody>\n",
       "</table>\n",
       "</div>"
      ],
      "text/plain": [
       "   depth  accuracy\n",
       "0      1  0.738725\n",
       "1      2  0.757387\n",
       "2      3  0.765163\n",
       "3      4  0.763608\n",
       "4      5  0.758942\n",
       "5      6  0.757387\n",
       "6      7  0.774495\n",
       "7      8  0.766719\n",
       "8      9  0.762053"
      ]
     },
     "execution_count": 8,
     "metadata": {},
     "output_type": "execute_result"
    }
   ],
   "source": [
    "dec_tree_df = decision_tree_modeling(df_train, df_valid)\n",
    "dec_tree_df"
   ]
  },
  {
   "cell_type": "markdown",
   "metadata": {},
   "source": [
    "Найдем максимальное значение `accuracy` и соответствующую ей глубину `depth`:"
   ]
  },
  {
   "cell_type": "code",
   "execution_count": 9,
   "metadata": {},
   "outputs": [
    {
     "data": {
      "text/html": [
       "<div>\n",
       "<style scoped>\n",
       "    .dataframe tbody tr th:only-of-type {\n",
       "        vertical-align: middle;\n",
       "    }\n",
       "\n",
       "    .dataframe tbody tr th {\n",
       "        vertical-align: top;\n",
       "    }\n",
       "\n",
       "    .dataframe thead th {\n",
       "        text-align: right;\n",
       "    }\n",
       "</style>\n",
       "<table border=\"1\" class=\"dataframe\">\n",
       "  <thead>\n",
       "    <tr style=\"text-align: right;\">\n",
       "      <th></th>\n",
       "      <th>depth</th>\n",
       "      <th>accuracy</th>\n",
       "    </tr>\n",
       "  </thead>\n",
       "  <tbody>\n",
       "    <tr>\n",
       "      <td>6</td>\n",
       "      <td>7</td>\n",
       "      <td>0.774495</td>\n",
       "    </tr>\n",
       "  </tbody>\n",
       "</table>\n",
       "</div>"
      ],
      "text/plain": [
       "   depth  accuracy\n",
       "6      7  0.774495"
      ]
     },
     "execution_count": 9,
     "metadata": {},
     "output_type": "execute_result"
    }
   ],
   "source": [
    "dec_tree_df[dec_tree_df['accuracy'] == dec_tree_df['accuracy'].max()]"
   ]
  },
  {
   "cell_type": "markdown",
   "metadata": {},
   "source": [
    "**Вывод**\n",
    "\n",
    "По результатам мы видим, что максимальное значение качества `accuracy = 0.774495` достигается при значении `max_depth = 7`. Меньше этого значения - модель недообучается. Если же больше - начинает переобучаться."
   ]
  },
  {
   "cell_type": "markdown",
   "metadata": {},
   "source": [
    "### Случайный лес"
   ]
  },
  {
   "cell_type": "markdown",
   "metadata": {},
   "source": [
    "Для модели случайного леса важным гиперпараметром является число деревьев `n_estimators`."
   ]
  },
  {
   "cell_type": "code",
   "execution_count": 10,
   "metadata": {},
   "outputs": [],
   "source": [
    "def random_forest_modeling(train, valid):\n",
    "    target_train = train['is_ultra']\n",
    "    features_train = train.drop(['is_ultra'], axis=1)\n",
    "    \n",
    "    target_valid = valid['is_ultra']\n",
    "    features_valid = valid.drop(['is_ultra'], axis=1)\n",
    "    \n",
    "    for est in range(1, 25):\n",
    "        model = RandomForestClassifier(n_estimators=est, random_state=12345) # получение структуры Случайного леса\n",
    "        model.fit(features_train, target_train) # обучение модели на тренировочной выборке\n",
    "        \n",
    "        predictions_valid = model.predict(features_valid) # предсказания модели на валидационной выборке\n",
    "    \n",
    "        print('est =', est, ': ', end='') # вывод значения гиперпараметра\n",
    "        print(accuracy_score(target_valid, predictions_valid)) # вывод соответствующего гиперпараметру значения качества"
   ]
  },
  {
   "cell_type": "code",
   "execution_count": 11,
   "metadata": {},
   "outputs": [
    {
     "name": "stdout",
     "output_type": "stream",
     "text": [
      "est = 1 : 0.702954898911353\n",
      "est = 2 : 0.7573872472783826\n",
      "est = 3 : 0.744945567651633\n",
      "est = 4 : 0.7651632970451011\n",
      "est = 5 : 0.7620528771384136\n",
      "est = 6 : 0.7698289269051322\n",
      "est = 7 : 0.7713841368584758\n",
      "est = 8 : 0.7869362363919129\n",
      "est = 9 : 0.7838258164852255\n",
      "est = 10 : 0.7884914463452566\n",
      "est = 11 : 0.7807153965785381\n",
      "est = 12 : 0.7822706065318819\n",
      "est = 13 : 0.7776049766718507\n",
      "est = 14 : 0.7853810264385692\n",
      "est = 15 : 0.7838258164852255\n",
      "est = 16 : 0.7838258164852255\n",
      "est = 17 : 0.7776049766718507\n",
      "est = 18 : 0.7869362363919129\n",
      "est = 19 : 0.7869362363919129\n",
      "est = 20 : 0.7900466562986003\n",
      "est = 21 : 0.7884914463452566\n",
      "est = 22 : 0.7931570762052877\n",
      "est = 23 : 0.7884914463452566\n",
      "est = 24 : 0.7900466562986003\n"
     ]
    }
   ],
   "source": [
    "random_forest_modeling(df_train, df_valid)"
   ]
  },
  {
   "cell_type": "markdown",
   "metadata": {},
   "source": [
    "**Вывод**\n",
    "\n",
    "По результатам мы видим, что максимальное значение качества `accuracy` достигается при значении `n_estimators` равном 13. Меньше этого значения - модель недообучается. Если же больше - наблюдаются повторения. При этом, если увеличивать количество деревьев, то модель будет медленнее обучаться."
   ]
  },
  {
   "cell_type": "markdown",
   "metadata": {},
   "source": [
    "### Логистическая регрессия"
   ]
  },
  {
   "cell_type": "markdown",
   "metadata": {},
   "source": [
    "У этой модели мало гиперпараметров, поэтому вероятность её переобучения мала. Укажем гиперпараметр `solver` равным `liblinear`, как лучший и быстрый вариант для небольших датасетов."
   ]
  },
  {
   "cell_type": "code",
   "execution_count": 12,
   "metadata": {},
   "outputs": [],
   "source": [
    "def logistic_regression_modeling(train, valid):\n",
    "    target_train = train['is_ultra']\n",
    "    features_train = train.drop(['is_ultra'], axis=1)\n",
    "    \n",
    "    target_valid = valid['is_ultra']\n",
    "    features_valid = valid.drop(['is_ultra'], axis=1)\n",
    "    \n",
    "    model = LogisticRegression(random_state=12345, solver='liblinear') # инициализирование модели логистической регрессии \n",
    "    model.fit(features_train, target_train) # обучение модели на тренировочной выборке\n",
    "    result = model.score(features_valid, target_valid) # получите метрику качества модели на валидационной выборке\n",
    "    predictions_valid = model.predict(features_valid) # предсказания модели на валидационной выборке\n",
    "\n",
    "    print(accuracy_score(target_valid, predictions_valid)) # вывод соответствующего гиперпараметру значения качества"
   ]
  },
  {
   "cell_type": "code",
   "execution_count": 13,
   "metadata": {},
   "outputs": [
    {
     "name": "stdout",
     "output_type": "stream",
     "text": [
      "0.6967340590979783\n"
     ]
    }
   ],
   "source": [
    "logistic_regression_modeling(df_train, df_valid)"
   ]
  },
  {
   "cell_type": "markdown",
   "metadata": {},
   "source": [
    "**Вывод**\n",
    "\n",
    "По результатам мы видим, что значение качества `accuracy` не удовлетворяет изначальному условию \"не менее 0.75\"."
   ]
  },
  {
   "cell_type": "markdown",
   "metadata": {},
   "source": [
    "### Вывод"
   ]
  },
  {
   "cell_type": "markdown",
   "metadata": {},
   "source": [
    "Таким образом, лучшим выбором по показателю качества является Случайный лес. На втором месте Дерево решений. Однако, если принять во внимание скорость работы модели, то быстрее будет Дерево решений.\n",
    "\n",
    "При разнице наилучших показателей качества на значение порядка 0.01 лучшим вариантом модели будет Дерево решений."
   ]
  },
  {
   "cell_type": "markdown",
   "metadata": {},
   "source": [
    "## Проверим модель на тестовой выборке"
   ]
  },
  {
   "cell_type": "markdown",
   "metadata": {},
   "source": [
    "В этом пункте мы:\n",
    "1. проверим выбранную модель на тестовой выборке;\n",
    "2. посмотрим на количество ошибок между предсказаниями и правильными ответами."
   ]
  },
  {
   "cell_type": "markdown",
   "metadata": {},
   "source": [
    "Разделим обучающую и тестовую выборки на целевой признак и остальные для каждой"
   ]
  },
  {
   "cell_type": "code",
   "execution_count": 14,
   "metadata": {},
   "outputs": [],
   "source": [
    "# обучающая\n",
    "target_train = df_train['is_ultra']\n",
    "features_train = df_train.drop(['is_ultra'], axis=1)\n",
    "\n",
    "# тестовая\n",
    "target_test = df_test['is_ultra'].reset_index(drop=True)\n",
    "features_test = df_test.drop(['is_ultra'], axis=1).reset_index(drop=True)"
   ]
  },
  {
   "cell_type": "markdown",
   "metadata": {},
   "source": [
    "Инициализируем модель с лучшим значением гиперпараметра `max_depth`, равным 7."
   ]
  },
  {
   "cell_type": "code",
   "execution_count": 15,
   "metadata": {},
   "outputs": [],
   "source": [
    "model = DecisionTreeClassifier(random_state=12345, max_depth=7) # инициализация модели\n",
    "model.fit(features_train, target_train); # обучение модели"
   ]
  },
  {
   "cell_type": "markdown",
   "metadata": {},
   "source": [
    "Напишем функцию для тестирования. В ней мы определим количество ошибок и посчитаем показатель качества, соответствующего этому количеству."
   ]
  },
  {
   "cell_type": "code",
   "execution_count": 16,
   "metadata": {},
   "outputs": [],
   "source": [
    "def testing_decision_tree_model(features_test, answers):\n",
    "    predictions = model.predict(features_test) # предсказания модели на тестовой выборке\n",
    "    \n",
    "    # подсчет количества ошибок\n",
    "    errors = 0\n",
    "    for i in range(len(answers)):\n",
    "        if answers[i] != predictions[i]:\n",
    "            errors += 1\n",
    "    \n",
    "    \n",
    "    print(\"Ошибок:\", errors) # Вывод количества ошибок\n",
    "    print(\"Accuracy:\", (len(predictions) - errors) / len(predictions)) # Подсчет и вывод accuracy"
   ]
  },
  {
   "cell_type": "code",
   "execution_count": 17,
   "metadata": {},
   "outputs": [
    {
     "name": "stdout",
     "output_type": "stream",
     "text": [
      "Ошибок: 136\n",
      "Accuracy: 0.7884914463452566\n"
     ]
    }
   ],
   "source": [
    "testing_decision_tree_model(features_test, target_test)"
   ]
  },
  {
   "cell_type": "markdown",
   "metadata": {},
   "source": [
    "### Вывод"
   ]
  },
  {
   "cell_type": "markdown",
   "metadata": {},
   "source": [
    "Выбранная нами модель Дерева решений хорошо показала себя на тестовой выборке. Показатель качества оказался равным 0.79, что выше, чем на валидационной."
   ]
  },
  {
   "cell_type": "markdown",
   "metadata": {},
   "source": [
    "## Чек-лист готовности проекта"
   ]
  },
  {
   "cell_type": "markdown",
   "metadata": {},
   "source": [
    "- [x] Jupyter Notebook открыт\n",
    "- [x] Весь код исполняется без ошибок\n",
    "- [x] Ячейки с кодом расположены в порядке исполнения\n",
    "- [x] Выполнено задание 1: данные загружены и изучены\n",
    "- [x] Выполнено задание 2: данные разбиты на три выборки\n",
    "- [x] Выполнено задание 3: проведено исследование моделей\n",
    "    - [x] Рассмотрено больше одной модели\n",
    "    - [x] Рассмотрено хотя бы 3 значения гипепараметров для какой-нибудь модели\n",
    "    - [x] Написаны выводы по результатам исследования\n",
    "- [x] Выполнено задание 3: Проведено тестирование\n",
    "- [x] Удалось достичь accuracy не меньше 0.75\n"
   ]
  }
 ],
 "metadata": {
  "ExecuteTimeLog": [
   {
    "duration": 692,
    "start_time": "2022-01-20T11:30:27.999Z"
   },
   {
    "duration": 24,
    "start_time": "2022-01-20T11:30:48.789Z"
   },
   {
    "duration": 23,
    "start_time": "2022-01-20T11:30:58.941Z"
   },
   {
    "duration": 9,
    "start_time": "2022-01-20T11:31:08.318Z"
   },
   {
    "duration": 30,
    "start_time": "2022-01-20T11:42:41.696Z"
   },
   {
    "duration": 33,
    "start_time": "2022-01-20T11:48:34.068Z"
   },
   {
    "duration": 6,
    "start_time": "2022-01-20T12:07:07.417Z"
   },
   {
    "duration": 6,
    "start_time": "2022-01-20T12:07:17.095Z"
   },
   {
    "duration": 13,
    "start_time": "2022-01-20T12:07:25.312Z"
   },
   {
    "duration": 685,
    "start_time": "2022-01-20T12:16:54.985Z"
   },
   {
    "duration": 8,
    "start_time": "2022-01-20T12:21:04.614Z"
   },
   {
    "duration": 8,
    "start_time": "2022-01-20T12:21:33.636Z"
   },
   {
    "duration": 9,
    "start_time": "2022-01-20T12:22:44.045Z"
   },
   {
    "duration": 9,
    "start_time": "2022-01-20T12:22:44.478Z"
   },
   {
    "duration": 7,
    "start_time": "2022-01-20T12:28:16.210Z"
   },
   {
    "duration": 9,
    "start_time": "2022-01-20T12:28:17.097Z"
   },
   {
    "duration": 355,
    "start_time": "2022-01-21T07:11:01.979Z"
   },
   {
    "duration": 1337,
    "start_time": "2022-01-21T07:11:08.436Z"
   },
   {
    "duration": 96,
    "start_time": "2022-01-21T07:11:09.776Z"
   },
   {
    "duration": 9,
    "start_time": "2022-01-21T07:11:09.875Z"
   },
   {
    "duration": 39,
    "start_time": "2022-01-21T07:11:09.886Z"
   },
   {
    "duration": 7,
    "start_time": "2022-01-21T07:11:09.932Z"
   },
   {
    "duration": 6,
    "start_time": "2022-01-21T07:11:09.941Z"
   },
   {
    "duration": 38,
    "start_time": "2022-01-21T07:15:23.654Z"
   },
   {
    "duration": 4,
    "start_time": "2022-01-21T07:22:40.823Z"
   },
   {
    "duration": 6,
    "start_time": "2022-01-21T07:34:11.444Z"
   },
   {
    "duration": 6,
    "start_time": "2022-01-21T07:41:29.000Z"
   },
   {
    "duration": 667,
    "start_time": "2022-01-21T07:42:31.306Z"
   },
   {
    "duration": 7,
    "start_time": "2022-01-21T07:43:18.009Z"
   },
   {
    "duration": 71,
    "start_time": "2022-01-21T07:43:19.000Z"
   },
   {
    "duration": 7,
    "start_time": "2022-01-21T07:44:06.900Z"
   },
   {
    "duration": 69,
    "start_time": "2022-01-21T07:44:16.928Z"
   },
   {
    "duration": 7,
    "start_time": "2022-01-21T07:45:14.377Z"
   },
   {
    "duration": 73,
    "start_time": "2022-01-21T07:45:14.938Z"
   },
   {
    "duration": 7,
    "start_time": "2022-01-21T07:46:15.369Z"
   },
   {
    "duration": 77,
    "start_time": "2022-01-21T07:46:15.871Z"
   },
   {
    "duration": 7,
    "start_time": "2022-01-21T07:48:12.032Z"
   },
   {
    "duration": 78,
    "start_time": "2022-01-21T07:48:19.921Z"
   },
   {
    "duration": 7,
    "start_time": "2022-01-21T07:52:27.141Z"
   },
   {
    "duration": 78,
    "start_time": "2022-01-21T07:52:27.650Z"
   },
   {
    "duration": 14,
    "start_time": "2022-01-21T08:05:08.741Z"
   },
   {
    "duration": 6,
    "start_time": "2022-01-21T08:05:27.290Z"
   },
   {
    "duration": 9,
    "start_time": "2022-01-21T08:06:06.762Z"
   },
   {
    "duration": 4,
    "start_time": "2022-01-21T08:06:07.382Z"
   },
   {
    "duration": 5,
    "start_time": "2022-01-21T08:06:18.253Z"
   },
   {
    "duration": 7,
    "start_time": "2022-01-21T08:08:14.227Z"
   },
   {
    "duration": 5,
    "start_time": "2022-01-21T08:08:26.287Z"
   },
   {
    "duration": 5,
    "start_time": "2022-01-21T08:08:31.160Z"
   },
   {
    "duration": 7,
    "start_time": "2022-01-21T08:08:44.488Z"
   },
   {
    "duration": 83,
    "start_time": "2022-01-21T08:08:51.489Z"
   },
   {
    "duration": 13,
    "start_time": "2022-01-21T08:09:00.561Z"
   },
   {
    "duration": 4,
    "start_time": "2022-01-21T08:09:01.989Z"
   },
   {
    "duration": 6,
    "start_time": "2022-01-21T08:09:07.927Z"
   },
   {
    "duration": 80,
    "start_time": "2022-01-21T08:09:09.605Z"
   },
   {
    "duration": 9,
    "start_time": "2022-01-21T08:13:40.378Z"
   },
   {
    "duration": 658,
    "start_time": "2022-01-21T08:13:57.465Z"
   },
   {
    "duration": 6,
    "start_time": "2022-01-21T08:14:20.638Z"
   },
   {
    "duration": 1289,
    "start_time": "2022-01-21T08:14:21.351Z"
   },
   {
    "duration": 6,
    "start_time": "2022-01-21T08:14:43.523Z"
   },
   {
    "duration": 447,
    "start_time": "2022-01-21T08:14:44.207Z"
   },
   {
    "duration": 6,
    "start_time": "2022-01-21T08:15:58.981Z"
   },
   {
    "duration": 788,
    "start_time": "2022-01-21T08:16:00.035Z"
   },
   {
    "duration": 5336,
    "start_time": "2022-01-21T08:17:33.529Z"
   },
   {
    "duration": 9,
    "start_time": "2022-01-21T08:18:01.258Z"
   },
   {
    "duration": 6282,
    "start_time": "2022-01-21T08:18:06.697Z"
   },
   {
    "duration": 5,
    "start_time": "2022-01-21T08:21:07.126Z"
   },
   {
    "duration": 7,
    "start_time": "2022-01-21T08:22:40.714Z"
   },
   {
    "duration": 80,
    "start_time": "2022-01-21T08:22:42.328Z"
   },
   {
    "duration": 6,
    "start_time": "2022-01-21T08:22:58.696Z"
   },
   {
    "duration": 88,
    "start_time": "2022-01-21T08:22:59.848Z"
   },
   {
    "duration": 7,
    "start_time": "2022-01-21T08:23:40.061Z"
   },
   {
    "duration": 77,
    "start_time": "2022-01-21T08:23:40.788Z"
   },
   {
    "duration": 7,
    "start_time": "2022-01-21T08:25:14.426Z"
   },
   {
    "duration": 693,
    "start_time": "2022-01-21T08:25:16.719Z"
   },
   {
    "duration": 7,
    "start_time": "2022-01-21T08:26:28.856Z"
   },
   {
    "duration": 1985,
    "start_time": "2022-01-21T08:26:30.162Z"
   },
   {
    "duration": 6,
    "start_time": "2022-01-21T08:28:47.857Z"
   },
   {
    "duration": 78,
    "start_time": "2022-01-21T08:28:49.270Z"
   },
   {
    "duration": 7,
    "start_time": "2022-01-21T08:28:59.516Z"
   },
   {
    "duration": 6,
    "start_time": "2022-01-21T08:29:07.781Z"
   },
   {
    "duration": 1815,
    "start_time": "2022-01-21T08:29:08.827Z"
   },
   {
    "duration": 5,
    "start_time": "2022-01-21T08:31:18.697Z"
   },
   {
    "duration": 6,
    "start_time": "2022-01-21T08:35:49.208Z"
   },
   {
    "duration": 26,
    "start_time": "2022-01-21T08:36:06.875Z"
   },
   {
    "duration": 7,
    "start_time": "2022-01-21T08:36:41.316Z"
   },
   {
    "duration": 26,
    "start_time": "2022-01-21T08:36:44.867Z"
   },
   {
    "duration": 6,
    "start_time": "2022-01-21T08:41:02.587Z"
   },
   {
    "duration": 25,
    "start_time": "2022-01-21T08:41:03.221Z"
   },
   {
    "duration": 6,
    "start_time": "2022-01-21T08:41:17.040Z"
   },
   {
    "duration": 48,
    "start_time": "2022-01-21T08:41:18.451Z"
   },
   {
    "duration": 6,
    "start_time": "2022-01-21T08:41:28.476Z"
   },
   {
    "duration": 37,
    "start_time": "2022-01-21T08:41:29.238Z"
   },
   {
    "duration": 6,
    "start_time": "2022-01-21T08:41:33.551Z"
   },
   {
    "duration": 40,
    "start_time": "2022-01-21T08:41:34.712Z"
   },
   {
    "duration": 6,
    "start_time": "2022-01-21T08:41:49.463Z"
   },
   {
    "duration": 25,
    "start_time": "2022-01-21T08:41:49.882Z"
   },
   {
    "duration": 411,
    "start_time": "2022-01-21T08:59:52.524Z"
   },
   {
    "duration": 5,
    "start_time": "2022-01-21T09:00:17.869Z"
   },
   {
    "duration": 5,
    "start_time": "2022-01-21T09:02:02.005Z"
   },
   {
    "duration": 6,
    "start_time": "2022-01-21T09:02:42.777Z"
   },
   {
    "duration": 15,
    "start_time": "2022-01-21T09:04:51.131Z"
   },
   {
    "duration": 12,
    "start_time": "2022-01-21T09:04:59.981Z"
   },
   {
    "duration": 5,
    "start_time": "2022-01-21T09:10:40.195Z"
   },
   {
    "duration": 5,
    "start_time": "2022-01-21T09:11:04.829Z"
   },
   {
    "duration": 5731,
    "start_time": "2022-01-21T09:11:35.041Z"
   },
   {
    "duration": 6,
    "start_time": "2022-01-21T09:12:41.141Z"
   },
   {
    "duration": 4932,
    "start_time": "2022-01-21T09:12:41.842Z"
   },
   {
    "duration": 7,
    "start_time": "2022-01-21T09:13:12.246Z"
   },
   {
    "duration": 9,
    "start_time": "2022-01-21T09:13:39.982Z"
   },
   {
    "duration": 13,
    "start_time": "2022-01-21T09:13:45.666Z"
   },
   {
    "duration": 7,
    "start_time": "2022-01-21T09:14:16.948Z"
   },
   {
    "duration": 13,
    "start_time": "2022-01-21T09:14:18.303Z"
   },
   {
    "duration": 5,
    "start_time": "2022-01-21T09:14:19.400Z"
   },
   {
    "duration": 7,
    "start_time": "2022-01-21T09:14:20.192Z"
   },
   {
    "duration": 277,
    "start_time": "2022-01-21T09:14:23.100Z"
   },
   {
    "duration": 5,
    "start_time": "2022-01-21T09:14:41.086Z"
   },
   {
    "duration": 7,
    "start_time": "2022-01-21T09:14:42.613Z"
   },
   {
    "duration": 14,
    "start_time": "2022-01-21T09:14:45.747Z"
   },
   {
    "duration": 16,
    "start_time": "2022-01-21T09:14:59.950Z"
   },
   {
    "duration": 7,
    "start_time": "2022-01-21T09:15:10.148Z"
   },
   {
    "duration": 18,
    "start_time": "2022-01-21T09:15:14.720Z"
   },
   {
    "duration": 5,
    "start_time": "2022-01-21T09:15:19.565Z"
   },
   {
    "duration": 16,
    "start_time": "2022-01-21T09:15:20.332Z"
   },
   {
    "duration": 14,
    "start_time": "2022-01-21T09:15:21.323Z"
   },
   {
    "duration": 5,
    "start_time": "2022-01-21T09:18:16.201Z"
   },
   {
    "duration": 20,
    "start_time": "2022-01-21T09:18:16.786Z"
   },
   {
    "duration": 5,
    "start_time": "2022-01-21T09:21:16.124Z"
   },
   {
    "duration": 15,
    "start_time": "2022-01-21T09:21:17.139Z"
   },
   {
    "duration": 1373,
    "start_time": "2022-01-21T09:40:46.295Z"
   },
   {
    "duration": 38,
    "start_time": "2022-01-21T09:40:47.670Z"
   },
   {
    "duration": 9,
    "start_time": "2022-01-21T09:40:47.711Z"
   },
   {
    "duration": 36,
    "start_time": "2022-01-21T09:40:47.733Z"
   },
   {
    "duration": 6,
    "start_time": "2022-01-21T09:40:47.771Z"
   },
   {
    "duration": 6,
    "start_time": "2022-01-21T09:40:47.780Z"
   },
   {
    "duration": 44,
    "start_time": "2022-01-21T09:40:47.789Z"
   },
   {
    "duration": 98,
    "start_time": "2022-01-21T09:40:47.838Z"
   },
   {
    "duration": 7,
    "start_time": "2022-01-21T09:40:47.939Z"
   },
   {
    "duration": 1917,
    "start_time": "2022-01-21T09:40:47.949Z"
   },
   {
    "duration": 6,
    "start_time": "2022-01-21T09:40:49.869Z"
   },
   {
    "duration": 26,
    "start_time": "2022-01-21T09:40:49.878Z"
   },
   {
    "duration": 27,
    "start_time": "2022-01-21T09:40:49.907Z"
   },
   {
    "duration": 16,
    "start_time": "2022-01-21T09:40:49.937Z"
   },
   {
    "duration": 12,
    "start_time": "2022-01-21T09:40:49.955Z"
   },
   {
    "duration": 23,
    "start_time": "2022-01-21T09:40:49.970Z"
   },
   {
    "duration": 1283,
    "start_time": "2022-01-21T16:35:16.251Z"
   },
   {
    "duration": 1140,
    "start_time": "2022-01-21T16:35:52.964Z"
   },
   {
    "duration": 30,
    "start_time": "2022-01-21T16:35:54.106Z"
   },
   {
    "duration": 6,
    "start_time": "2022-01-21T16:35:54.137Z"
   },
   {
    "duration": 27,
    "start_time": "2022-01-21T16:35:54.145Z"
   },
   {
    "duration": 7,
    "start_time": "2022-01-21T16:35:54.174Z"
   },
   {
    "duration": 3,
    "start_time": "2022-01-21T16:42:00.508Z"
   },
   {
    "duration": 4,
    "start_time": "2022-01-21T16:42:30.649Z"
   },
   {
    "duration": 5,
    "start_time": "2022-01-21T16:42:53.884Z"
   },
   {
    "duration": 8,
    "start_time": "2022-01-21T16:46:21.501Z"
   },
   {
    "duration": 4,
    "start_time": "2022-01-21T16:46:22.744Z"
   },
   {
    "duration": 4,
    "start_time": "2022-01-21T16:49:31.578Z"
   },
   {
    "duration": 4,
    "start_time": "2022-01-21T16:53:17.134Z"
   },
   {
    "duration": 53,
    "start_time": "2022-01-21T16:53:18.112Z"
   },
   {
    "duration": 4,
    "start_time": "2022-01-21T16:58:40.555Z"
   },
   {
    "duration": 46,
    "start_time": "2022-01-21T16:59:00.488Z"
   },
   {
    "duration": 50,
    "start_time": "2022-01-21T16:59:07.995Z"
   },
   {
    "duration": 48,
    "start_time": "2022-01-21T16:59:34.432Z"
   },
   {
    "duration": 6710,
    "start_time": "2022-01-21T17:01:20.424Z"
   },
   {
    "duration": 4,
    "start_time": "2022-01-21T17:01:48.707Z"
   },
   {
    "duration": 7,
    "start_time": "2022-01-21T17:02:14.088Z"
   },
   {
    "duration": 113,
    "start_time": "2022-01-22T10:02:56.647Z"
   },
   {
    "duration": 1329,
    "start_time": "2022-01-25T12:50:23.570Z"
   },
   {
    "duration": 42,
    "start_time": "2022-01-25T12:50:33.931Z"
   },
   {
    "duration": 11,
    "start_time": "2022-01-25T12:50:37.083Z"
   },
   {
    "duration": 35,
    "start_time": "2022-01-25T12:50:41.332Z"
   },
   {
    "duration": 10,
    "start_time": "2022-01-25T12:50:47.197Z"
   },
   {
    "duration": 5,
    "start_time": "2022-01-25T12:50:50.038Z"
   },
   {
    "duration": 7,
    "start_time": "2022-01-25T12:50:59.967Z"
   },
   {
    "duration": 75,
    "start_time": "2022-01-25T12:51:00.640Z"
   },
   {
    "duration": 11,
    "start_time": "2022-01-25T12:51:03.168Z"
   },
   {
    "duration": 8,
    "start_time": "2022-01-25T12:51:08.897Z"
   },
   {
    "duration": 1680,
    "start_time": "2022-01-25T12:51:11.177Z"
   },
   {
    "duration": 5,
    "start_time": "2022-01-25T12:51:24.292Z"
   },
   {
    "duration": 19,
    "start_time": "2022-01-25T12:51:26.155Z"
   },
   {
    "duration": 8,
    "start_time": "2022-01-25T12:52:20.859Z"
   },
   {
    "duration": 10,
    "start_time": "2022-01-25T12:52:22.924Z"
   },
   {
    "duration": 7,
    "start_time": "2022-01-25T12:52:23.924Z"
   },
   {
    "duration": 14,
    "start_time": "2022-01-25T12:52:24.396Z"
   },
   {
    "duration": 1317,
    "start_time": "2022-01-25T12:52:57.912Z"
   },
   {
    "duration": 45,
    "start_time": "2022-01-25T12:52:59.236Z"
   },
   {
    "duration": 10,
    "start_time": "2022-01-25T12:52:59.284Z"
   },
   {
    "duration": 42,
    "start_time": "2022-01-25T12:52:59.296Z"
   },
   {
    "duration": 30,
    "start_time": "2022-01-25T12:52:59.340Z"
   },
   {
    "duration": 22,
    "start_time": "2022-01-25T12:52:59.373Z"
   },
   {
    "duration": 18,
    "start_time": "2022-01-25T12:52:59.398Z"
   },
   {
    "duration": 100,
    "start_time": "2022-01-25T12:52:59.420Z"
   },
   {
    "duration": 11,
    "start_time": "2022-01-25T12:52:59.523Z"
   },
   {
    "duration": 28,
    "start_time": "2022-01-25T12:52:59.537Z"
   },
   {
    "duration": 1849,
    "start_time": "2022-01-25T12:52:59.567Z"
   },
   {
    "duration": 7,
    "start_time": "2022-01-25T12:53:01.419Z"
   },
   {
    "duration": 49,
    "start_time": "2022-01-25T12:53:01.429Z"
   },
   {
    "duration": 22,
    "start_time": "2022-01-25T12:53:01.481Z"
   },
   {
    "duration": 26,
    "start_time": "2022-01-25T12:53:01.505Z"
   },
   {
    "duration": 11,
    "start_time": "2022-01-25T12:53:01.533Z"
   },
   {
    "duration": 28,
    "start_time": "2022-01-25T12:53:01.546Z"
   }
  ],
  "kernelspec": {
   "display_name": "Python 3",
   "language": "python",
   "name": "python3"
  },
  "language_info": {
   "codemirror_mode": {
    "name": "ipython",
    "version": 3
   },
   "file_extension": ".py",
   "mimetype": "text/x-python",
   "name": "python",
   "nbconvert_exporter": "python",
   "pygments_lexer": "ipython3",
   "version": "3.7.8"
  },
  "toc": {
   "base_numbering": 1,
   "nav_menu": {},
   "number_sections": true,
   "sideBar": true,
   "skip_h1_title": true,
   "title_cell": "Table of Contents",
   "title_sidebar": "Contents",
   "toc_cell": false,
   "toc_position": {},
   "toc_section_display": true,
   "toc_window_display": false
  }
 },
 "nbformat": 4,
 "nbformat_minor": 2
}
